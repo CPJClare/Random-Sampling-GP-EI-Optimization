{
  "nbformat": 4,
  "nbformat_minor": 0,
  "metadata": {
    "colab": {
      "name": "4. SumSquares_GP_EI_2D.ipynb",
      "provenance": [],
      "collapsed_sections": []
    },
    "kernelspec": {
      "name": "python3",
      "display_name": "Python 3"
    },
    "language_info": {
      "name": "python"
    }
  },
  "cells": [
    {
      "cell_type": "markdown",
      "metadata": {
        "id": "Dqn4dFx7Z2Ir"
      },
      "source": [
        "\n",
        "SumSquares: 2D\n"
      ]
    },
    {
      "cell_type": "code",
      "metadata": {
        "id": "MJTM_GZZZb5x",
        "colab": {
          "base_uri": "https://localhost:8080/"
        },
        "outputId": "5ac3c7c6-2ae7-404e-b70d-ebf218e3080d"
      },
      "source": [
        "pip install pyGPGO\n"
      ],
      "execution_count": 1,
      "outputs": [
        {
          "output_type": "stream",
          "name": "stdout",
          "text": [
            "Requirement already satisfied: pyGPGO in /usr/local/lib/python3.7/dist-packages (0.5.1)\n",
            "Requirement already satisfied: Theano-PyMC in /usr/local/lib/python3.7/dist-packages (from pyGPGO) (1.1.2)\n",
            "Requirement already satisfied: scikit-learn in /usr/local/lib/python3.7/dist-packages (from pyGPGO) (0.22.2.post1)\n",
            "Requirement already satisfied: joblib in /usr/local/lib/python3.7/dist-packages (from pyGPGO) (1.0.1)\n",
            "Requirement already satisfied: scipy in /usr/local/lib/python3.7/dist-packages (from pyGPGO) (1.4.1)\n",
            "Requirement already satisfied: mkl in /usr/local/lib/python3.7/dist-packages (from pyGPGO) (2019.0)\n",
            "Requirement already satisfied: numpy in /usr/local/lib/python3.7/dist-packages (from pyGPGO) (1.19.5)\n",
            "Requirement already satisfied: pyMC3 in /usr/local/lib/python3.7/dist-packages (from pyGPGO) (3.11.2)\n",
            "Requirement already satisfied: intel-openmp in /usr/local/lib/python3.7/dist-packages (from mkl->pyGPGO) (2021.3.0)\n",
            "Requirement already satisfied: cachetools>=4.2.1 in /usr/local/lib/python3.7/dist-packages (from pyMC3->pyGPGO) (4.2.2)\n",
            "Requirement already satisfied: arviz>=0.11.0 in /usr/local/lib/python3.7/dist-packages (from pyMC3->pyGPGO) (0.11.2)\n",
            "Requirement already satisfied: dill in /usr/local/lib/python3.7/dist-packages (from pyMC3->pyGPGO) (0.3.4)\n",
            "Requirement already satisfied: fastprogress>=0.2.0 in /usr/local/lib/python3.7/dist-packages (from pyMC3->pyGPGO) (1.0.0)\n",
            "Requirement already satisfied: typing-extensions>=3.7.4 in /usr/local/lib/python3.7/dist-packages (from pyMC3->pyGPGO) (3.7.4.3)\n",
            "Requirement already satisfied: semver in /usr/local/lib/python3.7/dist-packages (from pyMC3->pyGPGO) (2.13.0)\n",
            "Requirement already satisfied: pandas>=0.24.0 in /usr/local/lib/python3.7/dist-packages (from pyMC3->pyGPGO) (1.1.5)\n",
            "Requirement already satisfied: patsy>=0.5.1 in /usr/local/lib/python3.7/dist-packages (from pyMC3->pyGPGO) (0.5.1)\n",
            "Requirement already satisfied: filelock in /usr/local/lib/python3.7/dist-packages (from Theano-PyMC->pyGPGO) (3.0.12)\n",
            "Requirement already satisfied: matplotlib>=3.0 in /usr/local/lib/python3.7/dist-packages (from arviz>=0.11.0->pyMC3->pyGPGO) (3.2.2)\n",
            "Requirement already satisfied: xarray>=0.16.1 in /usr/local/lib/python3.7/dist-packages (from arviz>=0.11.0->pyMC3->pyGPGO) (0.18.2)\n",
            "Requirement already satisfied: netcdf4 in /usr/local/lib/python3.7/dist-packages (from arviz>=0.11.0->pyMC3->pyGPGO) (1.5.7)\n",
            "Requirement already satisfied: setuptools>=38.4 in /usr/local/lib/python3.7/dist-packages (from arviz>=0.11.0->pyMC3->pyGPGO) (57.4.0)\n",
            "Requirement already satisfied: packaging in /usr/local/lib/python3.7/dist-packages (from arviz>=0.11.0->pyMC3->pyGPGO) (21.0)\n",
            "Requirement already satisfied: kiwisolver>=1.0.1 in /usr/local/lib/python3.7/dist-packages (from matplotlib>=3.0->arviz>=0.11.0->pyMC3->pyGPGO) (1.3.1)\n",
            "Requirement already satisfied: python-dateutil>=2.1 in /usr/local/lib/python3.7/dist-packages (from matplotlib>=3.0->arviz>=0.11.0->pyMC3->pyGPGO) (2.8.2)\n",
            "Requirement already satisfied: cycler>=0.10 in /usr/local/lib/python3.7/dist-packages (from matplotlib>=3.0->arviz>=0.11.0->pyMC3->pyGPGO) (0.10.0)\n",
            "Requirement already satisfied: pyparsing!=2.0.4,!=2.1.2,!=2.1.6,>=2.0.1 in /usr/local/lib/python3.7/dist-packages (from matplotlib>=3.0->arviz>=0.11.0->pyMC3->pyGPGO) (2.4.7)\n",
            "Requirement already satisfied: six in /usr/local/lib/python3.7/dist-packages (from cycler>=0.10->matplotlib>=3.0->arviz>=0.11.0->pyMC3->pyGPGO) (1.15.0)\n",
            "Requirement already satisfied: pytz>=2017.2 in /usr/local/lib/python3.7/dist-packages (from pandas>=0.24.0->pyMC3->pyGPGO) (2018.9)\n",
            "Requirement already satisfied: cftime in /usr/local/lib/python3.7/dist-packages (from netcdf4->arviz>=0.11.0->pyMC3->pyGPGO) (1.5.0)\n"
          ]
        }
      ]
    },
    {
      "cell_type": "code",
      "metadata": {
        "id": "ZJSSPbwPaEUB"
      },
      "source": [
        "### Import:\n",
        "\n",
        "import numpy as np\n",
        "import scipy as sp\n",
        "import pandas as pd\n",
        "import matplotlib.pyplot as plt\n",
        "import warnings\n",
        "import itertools\n",
        "\n",
        "from pyGPGO.GPGO import GPGO\n",
        "from pyGPGO.surrogates.GaussianProcess import GaussianProcess\n",
        "from pyGPGO.acquisition import Acquisition\n",
        "from pyGPGO.covfunc import squaredExponential\n",
        "\n",
        "from joblib import Parallel, delayed\n",
        "from numpy.linalg import solve, cholesky\n",
        "from scipy.spatial.distance import cdist\n",
        "from scipy.optimize import minimize\n",
        "from scipy.stats import norm\n",
        "import time\n",
        "\n",
        "warnings.filterwarnings(\"ignore\", category=RuntimeWarning)\n"
      ],
      "execution_count": 2,
      "outputs": []
    },
    {
      "cell_type": "code",
      "metadata": {
        "id": "OeYcTUNoaJWa"
      },
      "source": [
        "### Inputs:\n",
        "\n",
        "func = 'SumSquares'\n",
        "n_test = 500\n",
        "eps = 1e-08\n",
        "\n",
        "util_grad_exact = 'dEI_GP'\n",
        "util_grad_approx = 'ExpectedImprovement'\n",
        "\n",
        "n_init = 5 # random initialisations\n",
        "iters = 20\n",
        "opt = True"
      ],
      "execution_count": 3,
      "outputs": []
    },
    {
      "cell_type": "code",
      "metadata": {
        "id": "xpaEOjdzaPMS"
      },
      "source": [
        "### Objective Function - Sum Squares(x) 2-D:\n",
        "\n",
        "def objfunc(x1_training, x2_training):\n",
        "            return  operator * (  1 * x1_training ** 2\n",
        "                            + 2 * x2_training ** 2\n",
        "                            )\n",
        "        \n",
        "# Constraints:\n",
        "lb = -10\n",
        "ub = +10\n",
        "    \n",
        "# Input array dimension(s):\n",
        "dim = 2\n",
        "\n",
        "# 2-D inputs' parameter bounds:\n",
        "param = {'x1_training': ('cont', [lb, ub]),\n",
        "                 'x2_training': ('cont', [lb, ub])\n",
        "                 }\n",
        "    \n",
        "# True y bounds:\n",
        "y_lb = 0\n",
        "operator = -1 # targets global minimum \n",
        "y_global_orig = y_lb * operator # targets global minimum\n",
        "    \n",
        "# Test data:\n",
        "x1_test = np.linspace(lb, ub, n_test)\n",
        "x2_test = np.linspace(lb, ub, n_test)\n",
        "x_test = np.column_stack((x1_test, x2_test))\n"
      ],
      "execution_count": 4,
      "outputs": []
    },
    {
      "cell_type": "code",
      "metadata": {
        "id": "eYpI3Zm4aGxi"
      },
      "source": [
        "n_start_AcqFunc = iters #multi-start iterations to avoid local optima in AcqFunc optimization\n"
      ],
      "execution_count": 5,
      "outputs": []
    },
    {
      "cell_type": "code",
      "metadata": {
        "id": "oO_GUmOoaV0T"
      },
      "source": [
        "### Cumulative Regret Calculator:\n",
        "\n",
        "def min_max_array(x):\n",
        "    new_list = []\n",
        "    for i, num in enumerate(x):\n",
        "            new_list.append(np.min(x[0:i+1]))\n",
        "    return new_list\n",
        "  "
      ],
      "execution_count": 6,
      "outputs": []
    },
    {
      "cell_type": "code",
      "metadata": {
        "id": "kuuJx0IMam9S"
      },
      "source": [
        "### Surrogate derivatives: \n",
        "\n",
        "cov_func = squaredExponential()\n",
        "\n",
        "def kronDelta(X, Xstar):\n",
        "    return cdist(X, Xstar) < np.finfo(np.float32).eps\n",
        "\n",
        "def se(X, Xstar, sigmaf, l, sigman):\n",
        "    return sigmaf * np.exp(-0.5 * cdist(X, Xstar) ** 2 / l ** 2) + sigman * kronDelta(X, Xstar)\n",
        "\n",
        "def deriv_se(X, Xstar, sigmaf, l, sigman):\n",
        "    return cdist(X, Xstar) / (l ** 2) * se(X, Xstar, sigmaf, l, sigman)\n",
        "\n",
        "def der_covmat(X, Xstar, sigmaf, l, sigman):\n",
        "      nx = len(X)\n",
        "      ny = len(Xstar)\n",
        "      return np.round(np.array([deriv_se(np.atleast_2d(i), np.atleast_2d(j), sigmaf, l, sigman) for (i, j) in itertools.product(X, Xstar)]).reshape(nx, ny), 8)\n",
        "\n",
        "class dGaussianProcess(GaussianProcess):\n",
        "    l = GaussianProcess(cov_func, optimize=opt).getcovparams()['l']\n",
        "    sigmaf = GaussianProcess(cov_func, optimize=opt).getcovparams()['sigmaf']\n",
        "    sigman = GaussianProcess(cov_func, optimize=opt).getcovparams()['sigman']\n",
        "\n",
        "    def AcqGrad(self, Xstar):\n",
        "        Xstar = np.atleast_2d(Xstar)\n",
        "        Kstar = self.covfunc.K(self.X, Xstar).T\n",
        "        dKstar = der_covmat(self.X, Xstar, self.sigmaf, self.l, self.sigman).T\n",
        "        \n",
        "        alpha_Kstar = np.dot(np.linalg.inv(self.K + (self.sigman**2) * np.eye(len(self.X))), Kstar.T)\n",
        "        \n",
        "        dm = np.dot(dKstar, self.alpha)\n",
        "        ds = -2 * np.dot(dKstar, alpha_Kstar)\n",
        "        \n",
        "        return dm, ds\n",
        "        "
      ],
      "execution_count": 7,
      "outputs": []
    },
    {
      "cell_type": "code",
      "metadata": {
        "id": "_Dc3YVHVaXz7"
      },
      "source": [
        "class Acquisition_new(Acquisition):    \n",
        "    def __init__(self, mode, eps=eps, **params):\n",
        "        \n",
        "        self.params = params\n",
        "        self.eps = eps\n",
        "\n",
        "        mode_dict = {\n",
        "            'dEI_GP': self.dEI_GP\n",
        "        }\n",
        "\n",
        "        self.f = mode_dict[mode]\n",
        "    \n",
        "    def dEI_GP(self, tau, mean, std, ds, dm):\n",
        "        gamma = (mean - tau - self.eps) / (std + self.eps)\n",
        "        gamma_h = (mean - tau) / (std + self.eps)\n",
        "        dsdx = ds / (2 * (std + self.eps))\n",
        "        dmdx = (dm - gamma * dsdx) / (std + self.eps)\n",
        "        \n",
        "        f = (std + self.eps) * (gamma * norm.cdf(gamma) + norm.pdf(gamma))\n",
        "        df1 = f / (std + self.eps) * dsdx \n",
        "        df2 = (std + self.eps) * norm.cdf(gamma) * dmdx\n",
        "        df = (df1 + df2)[0]\n",
        "        df_arr = []\n",
        "\n",
        "        for j in range(0, dim):\n",
        "          df_arr.append(df)\n",
        "        return f, np.asarray(df_arr).transpose()\n",
        "        \n",
        "    def d_eval(self, tau, mean, std, ds, dm):\n",
        "    \n",
        "        return self.f(tau, mean, std, ds, dm, **self.params)\n",
        "        "
      ],
      "execution_count": 8,
      "outputs": []
    },
    {
      "cell_type": "code",
      "metadata": {
        "id": "PITEQC8YSl7i"
      },
      "source": [
        "## GPGO_multi: Multistart changed to variable 'n_start_AcqFunc'\n",
        "\n",
        "class GPGO_multi(GPGO):\n",
        "    n_start = n_start_AcqFunc\n",
        "\n",
        "    def _optimizeAcq(self, method='L-BFGS-B', n_start=n_start_AcqFunc):\n",
        "        \n",
        "        start_points_dict = [self._sampleParam() for i in range(n_start)]\n",
        "        start_points_arr = np.array([list(s.values())\n",
        "                                     for s in start_points_dict])\n",
        "        x_best = np.empty((n_start, len(self.parameter_key)))\n",
        "        f_best = np.empty((n_start,))\n",
        "        if self.n_jobs == 1:\n",
        "            for index, start_point in enumerate(start_points_arr):\n",
        "                res = minimize(self._acqWrapper, x0=start_point, method=method,\n",
        "                               bounds=self.parameter_range)\n",
        "                x_best[index], f_best[index] = res.x, np.atleast_1d(res.fun)[0]\n",
        "        else:\n",
        "            opt = Parallel(n_jobs=self.n_jobs)(delayed(minimize)(self._acqWrapper,\n",
        "                                                                 x0=start_point,\n",
        "                                                                 method=method,\n",
        "                                                                 bounds=self.parameter_range) for start_point in\n",
        "                                               start_points_arr)\n",
        "            x_best = np.array([res.x for res in opt])\n",
        "            f_best = np.array([np.atleast_1d(res.fun)[0] for res in opt])\n",
        "\n",
        "        self.best = x_best[np.argmin(f_best)]"
      ],
      "execution_count": 9,
      "outputs": []
    },
    {
      "cell_type": "code",
      "metadata": {
        "id": "b_B-w81BJxKN"
      },
      "source": [
        "## dGPGO:\n",
        "\n",
        "grad = 0\n",
        "\n",
        "class dGPGO(GPGO):\n",
        "    n_start = n_start_AcqFunc\n",
        "\n",
        "    def d_optimizeAcq(self, method='L-BFGS-B', n_start=n_start_AcqFunc):\n",
        "        start_points_dict = [self._sampleParam() for i in range(n_start)]\n",
        "        start_points_arr = np.array([list(s.values())\n",
        "                                     for s in start_points_dict])\n",
        "        x_best = np.empty((n_start, len(self.parameter_key)))\n",
        "        f_best = np.empty((n_start,))\n",
        "        opt = Parallel(n_jobs=self.n_jobs)(delayed(minimize)(self.acqfunc,\n",
        "                                                                 x0=start_point,\n",
        "                                                                 method=method,\n",
        "                                                                 jac = True,\n",
        "                                                                 bounds=self.parameter_range) for start_point in\n",
        "                                               start_points_arr)\n",
        "        x_best = np.array([res.x for res in opt])\n",
        "        f_best = np.array([np.atleast_1d(res.fun)[0] for res in opt])\n",
        "\n",
        "        self.x_best = x_best\n",
        "        self.f_best = f_best\n",
        "        self.best = x_best[np.argmin(f_best)]\n",
        "        self.start_points_arr = start_points_arr\n",
        "\n",
        "        return x_best, f_best\n",
        "    \n",
        "    def run(self, max_iter=10, init_evals=3, resume=False):\n",
        "        \n",
        "        if not resume:\n",
        "            self.init_evals = init_evals\n",
        "            self._firstRun(self.init_evals)\n",
        "            self.logger._printInit(self)\n",
        "        for iteration in range(max_iter):\n",
        "            self.d_optimizeAcq()\n",
        "            self.updateGP()\n",
        "            self.logger._printCurrent(self)\n",
        "\n",
        "    def acqfunc(self, xnew, n_start=n_start_AcqFunc):\n",
        "        new_mean, new_var = self.GP.predict(xnew, return_std=True)\n",
        "        new_std = np.sqrt(new_var + eps)\n",
        "        dm, ds = self.GP.AcqGrad(xnew)\n",
        "        f, df = self.A.d_eval(self.tau, new_mean, new_std, ds=ds, dm=dm)\n",
        "\n",
        "        return -f, -df * grad\n"
      ],
      "execution_count": 10,
      "outputs": []
    },
    {
      "cell_type": "code",
      "metadata": {
        "id": "qXIKGuXVGEg2"
      },
      "source": [
        "###Reproducible set-seeds:\n",
        "\n",
        "run_num_1 = 1\n",
        "run_num_2 = 2\n",
        "run_num_3 = 3\n",
        "run_num_4 = 4\n",
        "run_num_5 = 5\n",
        "run_num_6 = 6\n",
        "run_num_7 = 7\n",
        "run_num_8 = 8\n",
        "run_num_9 = 9\n",
        "run_num_10 = 10\n",
        "run_num_11 = 11\n",
        "run_num_12 = 12\n",
        "run_num_13 = 13\n",
        "run_num_14 = 14\n",
        "run_num_15 = 15\n",
        "run_num_16 = 16\n",
        "run_num_17 = 17\n",
        "run_num_18 = 18\n",
        "run_num_19 = 19\n",
        "run_num_20 = 20\n"
      ],
      "execution_count": 11,
      "outputs": []
    },
    {
      "cell_type": "code",
      "metadata": {
        "colab": {
          "base_uri": "https://localhost:8080/"
        },
        "id": "JEhagQmnTVIK",
        "outputId": "58485327-34fd-4235-f7fa-4404104e6c83"
      },
      "source": [
        "start_approx = time.time()\n",
        "start_approx\n"
      ],
      "execution_count": 12,
      "outputs": [
        {
          "output_type": "execute_result",
          "data": {
            "text/plain": [
              "1631273895.9200695"
            ]
          },
          "metadata": {},
          "execution_count": 12
        }
      ]
    },
    {
      "cell_type": "code",
      "metadata": {
        "colab": {
          "base_uri": "https://localhost:8080/"
        },
        "id": "aH0YSTXufD1v",
        "outputId": "b7ef01f0-92b1-449c-da58-c207ab099302"
      },
      "source": [
        "### ESTIMATED GP EI GRADIENTS\n",
        "\n",
        "np.random.seed(run_num_1)\n",
        "surrogate_approx_1 = GaussianProcess(cov_func, optimize=opt)\n",
        "\n",
        "approx_1 = GPGO_multi(surrogate_approx_1, Acquisition(util_grad_approx), objfunc, param)\n",
        "approx_1.run(init_evals=n_init, max_iter=iters)\n"
      ],
      "execution_count": 13,
      "outputs": [
        {
          "output_type": "stream",
          "name": "stdout",
          "text": [
            "Evaluation \t Proposed point \t  Current eval. \t Best eval.\n",
            "init   \t [-1.65955991  4.40648987]. \t  -41.5884450098667 \t -5.468172821636052\n",
            "init   \t [-9.9977125  -3.95334855]. \t  -131.21218477957908 \t -5.468172821636052\n",
            "init   \t [-7.06488218 -8.1532281 ]. \t  -182.86281732102734 \t -5.468172821636052\n",
            "init   \t [-6.27479577 -3.08878546]. \t  -58.4542532110911 \t -5.468172821636052\n",
            "init   \t [-2.06465052  0.77633468]. \t  -5.468172821636052 \t -5.468172821636052\n",
            "1      \t [ 7.89213327 -8.29911577]. \t  -200.03641276683908 \t -5.468172821636052\n",
            "2      \t [7.66612182 2.47344414]. \t  -71.00527566059496 \t -5.468172821636052\n",
            "3      \t [1.62717855 9.40039978]. \t  -179.3827421328839 \t -5.468172821636052\n",
            "4      \t [-9.56950389  8.95940422]. \t  -252.11725289788865 \t -5.468172821636052\n",
            "5      \t [ 2.56152397 -4.28847437]. \t  -43.34342980630102 \t -5.468172821636052\n",
            "6      \t [ -1.05892337 -10.        ]. \t  -201.1213186930317 \t -5.468172821636052\n",
            "7      \t [10.          7.85113619]. \t  -223.280678850504 \t -5.468172821636052\n",
            "8      \t [-7.81962472  2.67573521]. \t  -75.4656486076953 \t -5.468172821636052\n",
            "9      \t [10.         -2.78162523]. \t  -115.47487781388813 \t -5.468172821636052\n",
            "10     \t [2.64550153 1.04898526]. \t  -9.199418494629265 \t -5.468172821636052\n",
            "11     \t [-3.97311954 10.        ]. \t  -215.78567887617132 \t -5.468172821636052\n",
            "12     \t [-2.027337   -5.03098885]. \t  -54.73179291371235 \t -5.468172821636052\n",
            "13     \t [3.85607581 5.15315303]. \t  -67.97929305444237 \t -5.468172821636052\n",
            "14     \t [  3.58735192 -10.        ]. \t  -212.86909379366668 \t -5.468172821636052\n",
            "15     \t [ 6.05591067 10.        ]. \t  -236.67405403604516 \t -5.468172821636052\n",
            "16     \t [ 5.71009049 -1.49873373]. \t  -37.097538965418664 \t -5.468172821636052\n",
            "17     \t [ 0.04922903 -1.47078951]. \t  \u001b[92m-4.328867048091607\u001b[0m \t -4.328867048091607\n",
            "18     \t [-5.55186733  5.99956067]. \t  -102.81268734996509 \t -4.328867048091607\n",
            "19     \t [-10.         -0.1511463]. \t  -100.04569040886305 \t -4.328867048091607\n",
            "20     \t [-4.86645777  0.36189242]. \t  -23.944343494098206 \t -4.328867048091607\n"
          ]
        }
      ]
    },
    {
      "cell_type": "code",
      "metadata": {
        "colab": {
          "base_uri": "https://localhost:8080/"
        },
        "id": "wTxsSZxFGBB5",
        "outputId": "65fa2afd-6438-4669-ff12-ba1cda613ecb"
      },
      "source": [
        "### ESTIMATED GP EI GRADIENTS\n",
        "\n",
        "np.random.seed(run_num_2)\n",
        "surrogate_approx_2 = GaussianProcess(cov_func, optimize=opt)\n",
        "\n",
        "approx_2 = GPGO_multi(surrogate_approx_2, Acquisition(util_grad_approx), objfunc, param)\n",
        "approx_2.run(init_evals=n_init, max_iter=iters)\n"
      ],
      "execution_count": 14,
      "outputs": [
        {
          "output_type": "stream",
          "name": "stdout",
          "text": [
            "Evaluation \t Proposed point \t  Current eval. \t Best eval.\n",
            "init   \t [-1.28010196 -9.48147536]. \t  -181.43541115584648 \t -4.333099000920773\n",
            "init   \t [ 0.99324956 -1.29355215]. \t  -4.333099000920773 \t -4.333099000920773\n",
            "init   \t [-1.59264396 -3.39330358]. \t  -25.565533148780872 \t -4.333099000920773\n",
            "init   \t [-5.90702732  2.38541933]. \t  -46.27342248166184 \t -4.333099000920773\n",
            "init   \t [-4.00690653 -4.6634545 ]. \t  -59.55091562094812 \t -4.333099000920773\n",
            "1      \t [4.01504693 9.2910216 ]. \t  -188.7667666769868 \t -4.333099000920773\n",
            "2      \t [ 9.4582138 -7.7444757]. \t  -209.411615827435 \t -4.333099000920773\n",
            "3      \t [ 9.07319925 -1.03970567]. \t  -84.48492034594878 \t -4.333099000920773\n",
            "4      \t [-9.13741927 -7.85625192]. \t  -206.93381928482216 \t -4.333099000920773\n",
            "5      \t [9.5985819  6.97740137]. \t  -189.5010342975437 \t -4.333099000920773\n",
            "6      \t [-3.25263411  9.0402141 ]. \t  -174.03057068772284 \t -4.333099000920773\n",
            "7      \t [-9.13361372  7.86376943]. \t  -207.10063872633899 \t -4.333099000920773\n",
            "8      \t [4.39615564 2.88265596]. \t  -35.94559520445725 \t -4.333099000920773\n",
            "9      \t [-10.          -1.89507383]. \t  -107.1826096424068 \t -4.333099000920773\n",
            "10     \t [ 3.64494734 -6.06810768]. \t  -86.92950269622102 \t -4.333099000920773\n",
            "11     \t [-0.76817857  3.8996684 ]. \t  -31.004925514004757 \t -4.333099000920773\n",
            "12     \t [-10.           3.09864263]. \t  -119.20317225338674 \t -4.333099000920773\n",
            "13     \t [  5.35809613 -10.        ]. \t  -228.70919409455004 \t -4.333099000920773\n",
            "14     \t [ 4.67495616 -1.60210944]. \t  -26.988724365250214 \t -4.333099000920773\n",
            "15     \t [-2.44444394  0.31372084]. \t  -6.172147687944214 \t -4.333099000920773\n",
            "16     \t [ -5.48532982 -10.        ]. \t  -230.08884320880006 \t -4.333099000920773\n",
            "17     \t [8.39868699 2.92759121]. \t  -87.67952371993744 \t -4.333099000920773\n",
            "18     \t [-5.92690489 -1.37780799]. \t  -38.92491129869055 \t -4.333099000920773\n",
            "19     \t [0.50046599 7.27076326]. \t  -105.97846305785977 \t -4.333099000920773\n",
            "20     \t [ 7.15958773 -4.37606224]. \t  -89.55953788657456 \t -4.333099000920773\n"
          ]
        }
      ]
    },
    {
      "cell_type": "code",
      "metadata": {
        "colab": {
          "base_uri": "https://localhost:8080/"
        },
        "id": "-dgzIrUIGCGT",
        "outputId": "001763a4-603c-451b-bce3-a0af68d0d7ba"
      },
      "source": [
        "### ESTIMATED GP EI GRADIENTS\n",
        "\n",
        "np.random.seed(run_num_3)\n",
        "surrogate_approx_3 = GaussianProcess(cov_func, optimize=opt)\n",
        "\n",
        "approx_3 = GPGO_multi(surrogate_approx_3, Acquisition(util_grad_approx), objfunc, param)\n",
        "approx_3.run(init_evals=n_init, max_iter=iters)\n"
      ],
      "execution_count": 15,
      "outputs": [
        {
          "output_type": "stream",
          "name": "stdout",
          "text": [
            "Evaluation \t Proposed point \t  Current eval. \t Best eval.\n",
            "init   \t [1.01595805 4.16295645]. \t  -35.692583610916834 \t -17.582120911078754\n",
            "init   \t [-4.18190522  0.2165521 ]. \t  -17.582120911078754 \t -17.582120911078754\n",
            "init   \t [7.85893909 7.92586178]. \t  -187.4014934415638 \t -17.582120911078754\n",
            "init   \t [-7.48829379 -5.85514244]. \t  -124.63992981683481 \t -17.582120911078754\n",
            "init   \t [-8.97065593 -1.18380313]. \t  -83.2754475728413 \t -17.582120911078754\n",
            "1      \t [ 5.60629529 -3.87272935]. \t  -61.42661215628989 \t -17.582120911078754\n",
            "2      \t [-6.2437035   9.04202486]. \t  -202.50026057521436 \t -17.582120911078754\n",
            "3      \t [ 0.20293337 10.        ]. \t  -200.0411819510794 \t -17.582120911078754\n",
            "4      \t [-0.42169096 -8.75441039]. \t  -153.45722588114134 \t -17.582120911078754\n",
            "5      \t [ 8.49805726 -8.91732988]. \t  -231.2545217289155 \t -17.582120911078754\n",
            "6      \t [-9.21277105  4.93342182]. \t  -133.55245206852663 \t -17.582120911078754\n",
            "7      \t [ 0.69850669 -0.70926041]. \t  \u001b[92m-1.4940122574729555\u001b[0m \t -1.4940122574729555\n",
            "8      \t [8.49616767 0.98473736]. \t  -74.12428040932187 \t -1.4940122574729555\n",
            "9      \t [-6.71050156 -9.69798454]. \t  -233.13263931875917 \t -1.4940122574729555\n",
            "10     \t [-2.31609135 -4.03103432]. \t  -37.86275452469825 \t -1.4940122574729555\n",
            "11     \t [-3.68921689  4.7230242 ]. \t  -58.22423638664816 \t -1.4940122574729555\n",
            "12     \t [10.         -3.82716584]. \t  -129.29439666671396 \t -1.4940122574729555\n",
            "13     \t [3.96695769 0.75330163]. \t  -16.871679991869264 \t -1.4940122574729555\n",
            "14     \t [5.21705335 4.40325963]. \t  -65.99503634773308 \t -1.4940122574729555\n",
            "15     \t [ 1.62603992 -4.73122397]. \t  -47.41296639226305 \t -1.4940122574729555\n",
            "16     \t [  3.96743102 -10.        ]. \t  -215.74050888605134 \t -1.4940122574729555\n",
            "17     \t [ 4.34167013 10.        ]. \t  -218.85009948227537 \t -1.4940122574729555\n",
            "18     \t [10.          4.49211045]. \t  -140.3581125091661 \t -1.4940122574729555\n",
            "19     \t [-0.97808683  1.17801232]. \t  -3.7320798712346015 \t -1.4940122574729555\n",
            "20     \t [-6.76787634  2.048495  ]. \t  -54.196813758821065 \t -1.4940122574729555\n"
          ]
        }
      ]
    },
    {
      "cell_type": "code",
      "metadata": {
        "colab": {
          "base_uri": "https://localhost:8080/"
        },
        "id": "hOtG-2sCGCKS",
        "outputId": "0bc3d50d-a507-47bd-e789-b7f9fd174b4f"
      },
      "source": [
        "### ESTIMATED GP EI GRADIENTS\n",
        "\n",
        "np.random.seed(run_num_4)\n",
        "surrogate_approx_4 = GaussianProcess(cov_func, optimize=opt)\n",
        "\n",
        "approx_4 = GPGO_multi(surrogate_approx_4, Acquisition(util_grad_approx), objfunc, param)\n",
        "approx_4.run(init_evals=n_init, max_iter=iters)\n"
      ],
      "execution_count": 16,
      "outputs": [
        {
          "output_type": "stream",
          "name": "stdout",
          "text": [
            "Evaluation \t Proposed point \t  Current eval. \t Best eval.\n",
            "init   \t [9.34059678 0.94464498]. \t  -89.0314565014143 \t -27.80880071439404\n",
            "init   \t [9.4536872  4.29631987]. \t  -126.28893057280868 \t -27.80880071439404\n",
            "init   \t [ 3.95457649 -5.67821009]. \t  -80.12281484649141 \t -27.80880071439404\n",
            "init   \t [ 9.5254891 -9.8753949]. \t  -285.78179120922215 \t -27.80880071439404\n",
            "init   \t [-4.94035275 -1.30416935]. \t  -27.80880071439404 \t -27.80880071439404\n",
            "1      \t [-6.35109191  8.36766078]. \t  -180.3718623830372 \t -27.80880071439404\n",
            "2      \t [ -4.8985823 -10.       ]. \t  -223.99610851724944 \t -27.80880071439404\n",
            "3      \t [2.73697346 9.11609188]. \t  -173.69728602361354 \t -27.80880071439404\n",
            "4      \t [0.97610237 1.99594982]. \t  \u001b[92m-8.92040722633793\u001b[0m \t -8.92040722633793\n",
            "5      \t [-10.           3.33491649]. \t  -122.24333601759977 \t -8.92040722633793\n",
            "6      \t [-10.          -3.63804623]. \t  -126.47076079179283 \t -8.92040722633793\n",
            "7      \t [ 8.66285389 10.        ]. \t  -275.0450375850186 \t -8.92040722633793\n",
            "8      \t [-1.520507   -5.36452642]. \t  -59.86822885656996 \t -8.92040722633793\n",
            "9      \t [10.         -4.33851292]. \t  -137.64538875943222 \t -8.92040722633793\n",
            "10     \t [  0.92271962 -10.        ]. \t  -200.85141149884566 \t -8.92040722633793\n",
            "11     \t [-3.61794567  3.67715446]. \t  -40.132460707027505 \t -8.92040722633793\n",
            "12     \t [-9.70814071 -7.49026796]. \t  -206.45622413219547 \t -8.92040722633793\n",
            "13     \t [ 4.59481148 -0.70504019]. \t  -22.10645589284514 \t -8.92040722633793\n",
            "14     \t [4.55646161 4.3990786 ]. \t  -59.46512746991902 \t -8.92040722633793\n",
            "15     \t [-1.68903527  7.72770058]. \t  -122.28755258862111 \t -8.92040722633793\n",
            "16     \t [ 0.55978202 -1.72590432]. \t  \u001b[92m-6.270847328721226\u001b[0m \t -6.270847328721226\n",
            "17     \t [-5.72845129 -5.33419904]. \t  -89.72251304649761 \t -6.270847328721226\n",
            "18     \t [  5.18679072 -10.        ]. \t  -226.90279798948666 \t -6.270847328721226\n",
            "19     \t [-1.8240247   0.34770332]. \t  \u001b[92m-3.568861283531412\u001b[0m \t -3.568861283531412\n",
            "20     \t [-8.20584309 -0.08527706]. \t  -67.35040518728323 \t -3.568861283531412\n"
          ]
        }
      ]
    },
    {
      "cell_type": "code",
      "metadata": {
        "colab": {
          "base_uri": "https://localhost:8080/"
        },
        "id": "JF_SxcEvGCOl",
        "outputId": "6d6a0f80-9169-4170-ef9d-14a3e687b475"
      },
      "source": [
        "### ESTIMATED GP EI GRADIENTS\n",
        "\n",
        "np.random.seed(run_num_5)\n",
        "surrogate_approx_5 = GaussianProcess(cov_func, optimize=opt)\n",
        "\n",
        "approx_5 = GPGO_multi(surrogate_approx_5, Acquisition(util_grad_approx), objfunc, param)\n",
        "approx_5.run(init_evals=n_init, max_iter=iters)\n"
      ],
      "execution_count": 17,
      "outputs": [
        {
          "output_type": "stream",
          "name": "stdout",
          "text": [
            "Evaluation \t Proposed point \t  Current eval. \t Best eval.\n",
            "init   \t [-5.56013658  7.41464612]. \t  -140.86907304317228 \t -10.04307293518387\n",
            "init   \t [-5.86561689  8.37221816]. \t  -174.59353533361667 \t -10.04307293518387\n",
            "init   \t [-0.23177622  2.23487726]. \t  -10.04307293518387 \t -10.04307293518387\n",
            "init   \t [5.31815713 0.36835976]. \t  -28.554173077012745 \t -10.04307293518387\n",
            "init   \t [-4.06398997 -6.24557543]. \t  -94.53043928694063 \t -10.04307293518387\n",
            "1      \t [9.27861058 9.20453431]. \t  -255.5395178906315 \t -10.04307293518387\n",
            "2      \t [ 8.87080164 -7.76615146]. \t  -199.31733862713008 \t -10.04307293518387\n",
            "3      \t [0.54357666 9.2242228 ]. \t  -170.4680482407008 \t -10.04307293518387\n",
            "4      \t [ 2.49508934 -6.80638133]. \t  -98.87912454627462 \t -10.04307293518387\n",
            "5      \t [-10.         -8.9060044]. \t  -258.63382876957485 \t -10.04307293518387\n",
            "6      \t [-8.62367183  0.50898962]. \t  -74.88585667581904 \t -10.04307293518387\n",
            "7      \t [10.          3.26578106]. \t  -121.33065180090271 \t -10.04307293518387\n",
            "8      \t [10.         -2.28602443]. \t  -110.45181543102282 \t -10.04307293518387\n",
            "9      \t [4.77262266 5.59507275]. \t  -85.38760523188871 \t -10.04307293518387\n",
            "10     \t [-3.63338944 -1.04539473]. \t  -15.38721911652941 \t -10.04307293518387\n",
            "11     \t [ 1.02719131 -2.08338104]. \t  \u001b[92m-9.736075067806567\u001b[0m \t -9.736075067806567\n",
            "12     \t [-10.           5.25690083]. \t  -155.2700127538469 \t -9.736075067806567\n",
            "13     \t [ -1.11957581 -10.        ]. \t  -201.25344999256143 \t -9.736075067806567\n",
            "14     \t [-10.          -3.95527846]. \t  -131.2884553598501 \t -9.736075067806567\n",
            "15     \t [-4.49166682  2.99987062]. \t  -38.173518349278226 \t -9.736075067806567\n",
            "16     \t [ 5.78435179 -3.86838282]. \t  -63.38749689249986 \t -9.736075067806567\n",
            "17     \t [ -5.70474774 -10.        ]. \t  -232.54414682760148 \t -9.736075067806567\n",
            "18     \t [ 4.8652603 10.       ]. \t  -223.67075776685112 \t -9.736075067806567\n",
            "19     \t [-10.  10.]. \t  -300.0 \t -9.736075067806567\n",
            "20     \t [  5.10721313 -10.        ]. \t  -226.08362597121044 \t -9.736075067806567\n"
          ]
        }
      ]
    },
    {
      "cell_type": "code",
      "metadata": {
        "colab": {
          "base_uri": "https://localhost:8080/"
        },
        "id": "-kDxZtJsGCR3",
        "outputId": "aab11dfd-4210-4efd-b91a-5a3deed905c2"
      },
      "source": [
        "### ESTIMATED GP EI GRADIENTS\n",
        "\n",
        "np.random.seed(run_num_6)\n",
        "surrogate_approx_6 = GaussianProcess(cov_func, optimize=opt)\n",
        "\n",
        "approx_6 = GPGO_multi(surrogate_approx_6, Acquisition(util_grad_approx), objfunc, param)\n",
        "approx_6.run(init_evals=n_init, max_iter=iters)\n"
      ],
      "execution_count": 18,
      "outputs": [
        {
          "output_type": "stream",
          "name": "stdout",
          "text": [
            "Evaluation \t Proposed point \t  Current eval. \t Best eval.\n",
            "init   \t [ 7.85720303 -3.36040389]. \t  -84.32026809583151 \t -5.629416961321397\n",
            "init   \t [ 6.42458246 -9.16606749]. \t  -209.30884609749882 \t -5.629416961321397\n",
            "init   \t [-7.8468664   1.90104128]. \t  -68.80122824744078 \t -5.629416961321397\n",
            "init   \t [ 0.59634724 -1.62385143]. \t  -5.629416961321397 \t -5.629416961321397\n",
            "init   \t [-3.29184301  2.45038864]. \t  -22.84503944485431 \t -5.629416961321397\n",
            "1      \t [4.34664291 8.74699069]. \t  -171.91299695999675 \t -5.629416961321397\n",
            "2      \t [-4.96771714 -9.17248997]. \t  -192.94735819477367 \t -5.629416961321397\n",
            "3      \t [9.57427611 1.74148842]. \t  -97.73232691305284 \t -5.629416961321397\n",
            "4      \t [-5.6935267   8.60486508]. \t  -180.50365249520243 \t -5.629416961321397\n",
            "5      \t [-10.          -5.66019356]. \t  -164.0755823122173 \t -5.629416961321397\n",
            "6      \t [3.82796271 2.69284027]. \t  -29.156075898516452 \t -5.629416961321397\n",
            "7      \t [-0.45748598  7.70980473]. \t  -119.09147150685489 \t -5.629416961321397\n",
            "8      \t [-5.2160087  -2.20998074]. \t  -36.974776478354485 \t -5.629416961321397\n",
            "9      \t [-1.22868843  4.34354782]. \t  -39.24249056209099 \t -5.629416961321397\n",
            "10     \t [ 0.78454011 -7.20627858]. \t  -104.47640509674082 \t -5.629416961321397\n",
            "11     \t [10. 10.]. \t  -300.0 \t -5.629416961321397\n",
            "12     \t [-10.           6.23718989]. \t  -177.80507557060267 \t -5.629416961321397\n",
            "13     \t [-10.  10.]. \t  -300.0 \t -5.629416961321397\n",
            "14     \t [7.7681153  5.72890864]. \t  -125.98440388900005 \t -5.629416961321397\n",
            "15     \t [ 3.57822923 -3.74049783]. \t  -40.7863724914361 \t -5.629416961321397\n",
            "16     \t [10.         -6.88739146]. \t  -194.8723222920234 \t -5.629416961321397\n",
            "17     \t [-2.83814943 -5.21535756]. \t  -62.45500112872654 \t -5.629416961321397\n",
            "18     \t [-10. -10.]. \t  -300.0 \t -5.629416961321397\n",
            "19     \t [ 5.63856516 -0.26237074]. \t  -31.931093913926638 \t -5.629416961321397\n",
            "20     \t [-10.          -1.42584013]. \t  -104.06604015265839 \t -5.629416961321397\n"
          ]
        }
      ]
    },
    {
      "cell_type": "code",
      "metadata": {
        "colab": {
          "base_uri": "https://localhost:8080/"
        },
        "id": "fKB8MCD_GCVI",
        "outputId": "166b0973-e49d-4a54-def2-6e0cd420af9d"
      },
      "source": [
        "### ESTIMATED GP EI GRADIENTS\n",
        "\n",
        "np.random.seed(run_num_7)\n",
        "surrogate_approx_7 = GaussianProcess(cov_func, optimize=opt)\n",
        "\n",
        "approx_7 = GPGO_multi(surrogate_approx_7, Acquisition(util_grad_approx), objfunc, param)\n",
        "approx_7.run(init_evals=n_init, max_iter=iters)\n"
      ],
      "execution_count": 19,
      "outputs": [
        {
          "output_type": "stream",
          "name": "stdout",
          "text": [
            "Evaluation \t Proposed point \t  Current eval. \t Best eval.\n",
            "init   \t [-8.47383421  5.59837584]. \t  -134.48949046062052 \t -21.448213419349443\n",
            "init   \t [-1.23181537  4.46930356]. \t  -41.46671767109191 \t -21.448213419349443\n",
            "init   \t [9.55979024 0.76991741]. \t  -92.57513506242564 \t -21.448213419349443\n",
            "init   \t [ 0.02240927 -8.55897733]. \t  -146.51268814245697 \t -21.448213419349443\n",
            "init   \t [-4.63122040e+00 -2.34998349e-03]. \t  -21.448213419349443 \t -21.448213419349443\n",
            "1      \t [ 8.12846538 -6.39096762]. \t  -147.76088362344177 \t -21.448213419349443\n",
            "2      \t [ 4.06516126 10.        ]. \t  -216.52553605840973 \t -21.448213419349443\n",
            "3      \t [-9.10467478 -9.8356699 ]. \t  -276.3759076385656 \t -21.448213419349443\n",
            "4      \t [-7.86246511 -2.61028169]. \t  -75.44549865130998 \t -21.448213419349443\n",
            "5      \t [3.63197518 0.86181451]. \t  \u001b[92m-14.676692185809095\u001b[0m \t -14.676692185809095\n",
            "6      \t [-3.16848977  9.87018565]. \t  -204.88045702297123 \t -14.676692185809095\n",
            "7      \t [10.         6.6265899]. \t  -187.82338743940096 \t -14.676692185809095\n",
            "8      \t [-0.08482908 -2.88008113]. \t  -16.596930573818884 \t -14.676692185809095\n",
            "9      \t [-4.7532867  -6.60023171]. \t  -109.71985177058446 \t -14.676692185809095\n",
            "10     \t [  4.79396707 -10.        ]. \t  -222.98212024631835 \t -14.676692185809095\n",
            "11     \t [5.44466868 5.04798189]. \t  -80.60865945359268 \t -14.676692185809095\n",
            "12     \t [-10.  10.]. \t  -300.0 \t -14.676692185809095\n",
            "13     \t [ 4.24237503 -3.55211408]. \t  -43.232774790187925 \t -14.676692185809095\n",
            "14     \t [-10.           1.27418514]. \t  -103.2470955314268 \t -14.676692185809095\n",
            "15     \t [-0.33031934  0.71582239]. \t  \u001b[92m-1.1339142398911628\u001b[0m \t -1.1339142398911628\n",
            "16     \t [-4.83756634  3.4506174 ]. \t  -47.21556893390472 \t -1.1339142398911628\n",
            "17     \t [0.5926894  7.72677917]. \t  -119.75751348393891 \t -1.1339142398911628\n",
            "18     \t [ 10. -10.]. \t  -300.0 \t -1.1339142398911628\n",
            "19     \t [-10.          -5.74573073]. \t  -166.02684321989545 \t -1.1339142398911628\n",
            "20     \t [ 8.14856622 10.        ]. \t  -266.3991314718667 \t -1.1339142398911628\n"
          ]
        }
      ]
    },
    {
      "cell_type": "code",
      "metadata": {
        "colab": {
          "base_uri": "https://localhost:8080/"
        },
        "id": "4unvifF-GCXp",
        "outputId": "26aad447-e48e-4ebf-d64a-811d0820f1ab"
      },
      "source": [
        "### ESTIMATED GP EI GRADIENTS\n",
        "\n",
        "np.random.seed(run_num_8)\n",
        "surrogate_approx_8 = GaussianProcess(cov_func, optimize=opt)\n",
        "\n",
        "approx_8 = GPGO_multi(surrogate_approx_8, Acquisition(util_grad_approx), objfunc, param)\n",
        "approx_8.run(init_evals=n_init, max_iter=iters)\n"
      ],
      "execution_count": 20,
      "outputs": [
        {
          "output_type": "stream",
          "name": "stdout",
          "text": [
            "Evaluation \t Proposed point \t  Current eval. \t Best eval.\n",
            "init   \t [7.46858806 9.37081326]. \t  -231.40408972112363 \t -0.5791878792948744\n",
            "init   \t [7.3838908  0.61711383]. \t  -55.28350237060649 \t -0.5791878792948744\n",
            "init   \t [-5.34543344 -9.77202391]. \t  -219.5585614355461 \t -0.5791878792948744\n",
            "init   \t [-1.39062363 -1.9529728 ]. \t  -9.562039601098967 \t -0.5791878792948744\n",
            "init   \t [ 0.45349343 -0.43216408]. \t  -0.5791878792948744 \t -0.5791878792948744\n",
            "1      \t [ 9.69498875 -9.42535902]. \t  -271.6675921188219 \t -0.5791878792948744\n",
            "2      \t [-9.83383251  5.77166529]. \t  -163.3285022998636 \t -0.5791878792948744\n",
            "3      \t [-3.97152767  9.51013426]. \t  -196.65833950916016 \t -0.5791878792948744\n",
            "4      \t [-9.65586204 -5.07440767]. \t  -144.73489822426617 \t -0.5791878792948744\n",
            "5      \t [1.10947828 5.5318851 ]. \t  -62.4344475515165 \t -0.5791878792948744\n",
            "6      \t [ 3.77011518 -4.40569277]. \t  -53.034026014752534 \t -0.5791878792948744\n",
            "7      \t [  1.83021021 -10.        ]. \t  -203.34966941173178 \t -0.5791878792948744\n",
            "8      \t [-6.306457    0.82958772]. \t  -41.14783143761312 \t -0.5791878792948744\n",
            "9      \t [10.        -3.8821353]. \t  -130.14194900068395 \t -0.5791878792948744\n",
            "10     \t [10.          4.79505147]. \t  -145.9850371821162 \t -0.5791878792948744\n",
            "11     \t [ 2.31617624 10.        ]. \t  -205.3646723606006 \t -0.5791878792948744\n",
            "12     \t [-4.6788184  -4.71119031]. \t  -66.28196997087227 \t -0.5791878792948744\n",
            "13     \t [-3.55317029  4.50491305]. \t  -53.21350239191737 \t -0.5791878792948744\n",
            "14     \t [-10. -10.]. \t  -300.0 \t -0.5791878792948744\n",
            "15     \t [2.95157711 1.32239773]. \t  -12.209278971150543 \t -0.5791878792948744\n",
            "16     \t [5.41915108 4.86924717]. \t  -76.78633441942151 \t -0.5791878792948744\n",
            "17     \t [-0.44601378 -5.94693251]. \t  -70.9309408935066 \t -0.5791878792948744\n",
            "18     \t [-8.67833546 10.        ]. \t  -275.31350640708087 \t -0.5791878792948744\n",
            "19     \t [ 5.64775772 -7.90914682]. \t  -157.00637414249516 \t -0.5791878792948744\n",
            "20     \t [-10.          -0.56538393]. \t  -100.63931797570056 \t -0.5791878792948744\n"
          ]
        }
      ]
    },
    {
      "cell_type": "code",
      "metadata": {
        "colab": {
          "base_uri": "https://localhost:8080/"
        },
        "id": "85OIXcg7GCaJ",
        "outputId": "e3a6ea02-5f13-49b3-ecd7-9705a5dc0e0a"
      },
      "source": [
        "### ESTIMATED GP EI GRADIENTS\n",
        "\n",
        "np.random.seed(run_num_9)\n",
        "surrogate_approx_9 = GaussianProcess(cov_func, optimize=opt)\n",
        "\n",
        "approx_9 = GPGO_multi(surrogate_approx_9, Acquisition(util_grad_approx), objfunc, param)\n",
        "approx_9.run(init_evals=n_init, max_iter=iters)\n"
      ],
      "execution_count": 21,
      "outputs": [
        {
          "output_type": "stream",
          "name": "stdout",
          "text": [
            "Evaluation \t Proposed point \t  Current eval. \t Best eval.\n",
            "init   \t [-9.79251692  0.03749184]. \t  -95.896198949837 \t -53.418783741178075\n",
            "init   \t [-0.08453414 -7.32340942]. \t  -107.27179711012016 \t -53.418783741178075\n",
            "init   \t [-7.15777829 -5.62882649]. \t  -114.6011653140891 \t -53.418783741178075\n",
            "init   \t [-1.62983639 -5.03797663]. \t  -53.418783741178075 \t -53.418783741178075\n",
            "init   \t [-8.31880698 -3.0900272 ]. \t  -88.29908569649677 \t -53.418783741178075\n",
            "1      \t [6.0747954  9.66718496]. \t  -223.8120694300478 \t -53.418783741178075\n",
            "2      \t [-3.94738717  9.4159639 ]. \t  -192.90261763630335 \t -53.418783741178075\n",
            "3      \t [ 10. -10.]. \t  -300.0 \t -53.418783741178075\n",
            "4      \t [6.86954826 0.80695555]. \t  \u001b[92m-48.49304774759942\u001b[0m \t -48.49304774759942\n",
            "5      \t [-3.39160102  2.55645019]. \t  \u001b[92m-24.573832641307632\u001b[0m \t -24.573832641307632\n",
            "6      \t [-9.77111876  7.12537089]. \t  -197.01658247649232 \t -24.573832641307632\n",
            "7      \t [ 6.15812588 -5.13549413]. \t  -90.66911414544604 \t -24.573832641307632\n",
            "8      \t [1.7656986  4.78808874]. \t  -48.96927906292815 \t -24.573832641307632\n",
            "9      \t [10.          5.37128484]. \t  -157.70140158171824 \t -24.573832641307632\n",
            "10     \t [ 1.59897774 -0.69609415]. \t  \u001b[92m-3.5258239489091197\u001b[0m \t -3.5258239489091197\n",
            "11     \t [-10. -10.]. \t  -300.0 \t -3.5258239489091197\n",
            "12     \t [ 1.03519023 10.        ]. \t  -201.07161881606083 \t -3.5258239489091197\n",
            "13     \t [ -4.46066774 -10.        ]. \t  -219.89755670012818 \t -3.5258239489091197\n",
            "14     \t [  4.41339419 -10.        ]. \t  -219.47804828087544 \t -3.5258239489091197\n",
            "15     \t [10.         -2.51686873]. \t  -112.66925644902291 \t -3.5258239489091197\n",
            "16     \t [-4.10625246 -1.48446793]. \t  -21.268599344618096 \t -3.5258239489091197\n",
            "17     \t [-7.17540333  3.52026713]. \t  -76.2709742685295 \t -3.5258239489091197\n",
            "18     \t [5.72933479 4.9623848 ]. \t  -82.07580290600049 \t -3.5258239489091197\n",
            "19     \t [ 2.30944631 -3.75156916]. \t  -33.48208456258349 \t -3.5258239489091197\n",
            "20     \t [-1.87389017  5.86353394]. \t  -72.27352493934106 \t -3.5258239489091197\n"
          ]
        }
      ]
    },
    {
      "cell_type": "code",
      "metadata": {
        "colab": {
          "base_uri": "https://localhost:8080/"
        },
        "id": "QQBR-qJPGCcp",
        "outputId": "4e093857-3bea-44ec-f6e3-2c767d944220"
      },
      "source": [
        "### ESTIMATED GP EI GRADIENTS\n",
        "\n",
        "np.random.seed(run_num_10)\n",
        "surrogate_approx_10 = GaussianProcess(cov_func, optimize=opt)\n",
        "\n",
        "approx_10 = GPGO_multi(surrogate_approx_10, Acquisition(util_grad_approx), objfunc, param)\n",
        "approx_10.run(init_evals=n_init, max_iter=iters)\n"
      ],
      "execution_count": 22,
      "outputs": [
        {
          "output_type": "stream",
          "name": "stdout",
          "text": [
            "Evaluation \t Proposed point \t  Current eval. \t Best eval.\n",
            "init   \t [ 5.42641287 -9.58496101]. \t  -213.18891181932327 \t -56.66743785259343\n",
            "init   \t [2.6729647  4.97607765]. \t  -56.66743785259343 \t -56.66743785259343\n",
            "init   \t [-0.02985975 -5.50406709]. \t  -60.59040065376497 \t -56.66743785259343\n",
            "init   \t [-6.0387427   5.21061424]. \t  -90.76741505398337 \t -56.66743785259343\n",
            "init   \t [-6.61778327 -8.23320372]. \t  -179.36634226756874 \t -56.66743785259343\n",
            "1      \t [10. 10.]. \t  -300.0 \t -56.66743785259343\n",
            "2      \t [2.11155129 0.26933255]. \t  \u001b[92m-4.603728884330075\u001b[0m \t -4.603728884330075\n",
            "3      \t [8.50713746 1.33499849]. \t  -75.93582966295617 \t -4.603728884330075\n",
            "4      \t [ 7.31105236 -3.79432586]. \t  -82.24530415903486 \t -4.603728884330075\n",
            "5      \t [-7.55328158 -0.82551542]. \t  -58.415013996797406 \t -4.603728884330075\n",
            "6      \t [-0.33763749 10.        ]. \t  -200.11399907575498 \t -4.603728884330075\n",
            "7      \t [-10.          9.5824911]. \t  -283.64827140632167 \t -4.603728884330075\n",
            "8      \t [-2.55016496  1.00536235]. \t  -8.524848245188199 \t -4.603728884330075\n",
            "9      \t [-10.          -4.58478595]. \t  -142.04052444537683 \t -4.603728884330075\n",
            "10     \t [ 4.79260827 10.        ]. \t  -222.9690940376095 \t -4.603728884330075\n",
            "11     \t [-6.00999735 10.        ]. \t  -236.1200680871411 \t -4.603728884330075\n",
            "12     \t [ -1.69817603 -10.        ]. \t  -202.8838018316942 \t -4.603728884330075\n",
            "13     \t [10.         -7.85311266]. \t  -223.34275703381286 \t -4.603728884330075\n",
            "14     \t [-10.          3.0163024]. \t  -118.1961603339097 \t -4.603728884330075\n",
            "15     \t [7.3777616  5.77482704]. \t  -121.12862081256702 \t -4.603728884330075\n",
            "16     \t [-4.23848552 -3.87135002]. \t  -47.939461469284964 \t -4.603728884330075\n",
            "17     \t [3.84916597 2.23654981]. \t  -24.820388773083906 \t -4.603728884330075\n",
            "18     \t [-1.62467079  5.22204351]. \t  -57.1790321057727 \t -4.603728884330075\n",
            "19     \t [ 3.21348828 -2.949223  ]. \t  -27.722339493197353 \t -4.603728884330075\n",
            "20     \t [-10. -10.]. \t  -300.0 \t -4.603728884330075\n"
          ]
        }
      ]
    },
    {
      "cell_type": "code",
      "metadata": {
        "colab": {
          "base_uri": "https://localhost:8080/"
        },
        "id": "JS8ejeQ2GCfi",
        "outputId": "76707153-9645-4c6d-f08a-b97b04168c17"
      },
      "source": [
        "### ESTIMATED GP EI GRADIENTS\n",
        "\n",
        "np.random.seed(run_num_11)\n",
        "surrogate_approx_11 = GaussianProcess(cov_func, optimize=opt)\n",
        "\n",
        "approx_11 = GPGO_multi(surrogate_approx_11, Acquisition(util_grad_approx), objfunc, param)\n",
        "approx_11.run(init_evals=n_init, max_iter=iters)\n"
      ],
      "execution_count": 23,
      "outputs": [
        {
          "output_type": "stream",
          "name": "stdout",
          "text": [
            "Evaluation \t Proposed point \t  Current eval. \t Best eval.\n",
            "init   \t [-6.39460622 -9.61049517]. \t  -225.61422357508457 \t -2.716881462565864\n",
            "init   \t [-0.73562947  4.49867858]. \t  -41.01736871863572 \t -2.716881462565864\n",
            "init   \t [-1.59592791 -0.29145804]. \t  -2.716881462565864 \t -2.716881462565864\n",
            "init   \t [-9.74438371 -0.25256785]. \t  -95.08059489374317 \t -2.716881462565864\n",
            "init   \t [8.83613305 7.01590179]. \t  -176.5230030066306 \t -2.716881462565864\n",
            "1      \t [ 1.99086793 -8.88652641]. \t  -161.90425830617428 \t -2.716881462565864\n",
            "2      \t [ 4.79903036 -1.6267314 ]. \t  -28.32320242923278 \t -2.716881462565864\n",
            "3      \t [ 10. -10.]. \t  -300.0 \t -2.716881462565864\n",
            "4      \t [-6.71873568  4.84048266]. \t  -92.0019537550583 \t -2.716881462565864\n",
            "5      \t [-2.65295416 -4.86020404]. \t  -54.28133238320795 \t -2.716881462565864\n",
            "6      \t [8.67395685 1.65576717]. \t  -80.72065735027714 \t -2.716881462565864\n",
            "7      \t [-3.29285138 10.        ]. \t  -210.84287019787428 \t -2.716881462565864\n",
            "8      \t [3.30283197 9.33927306]. \t  -185.35274163864426 \t -2.716881462565864\n",
            "9      \t [10.         -4.01049942]. \t  -132.16821114225687 \t -2.716881462565864\n",
            "10     \t [-10.           9.74955777]. \t  -290.10775346484826 \t -2.716881462565864\n",
            "11     \t [-10.          -5.56259051]. \t  -161.88482631458714 \t -2.716881462565864\n",
            "12     \t [3.89817824 3.80412059]. \t  -44.138460490957854 \t -2.716881462565864\n",
            "13     \t [ 5.37998892 -5.78497769]. \t  -95.87621440815623 \t -2.716881462565864\n",
            "14     \t [-5.24010353 -0.98483116]. \t  -29.39846981613453 \t -2.716881462565864\n",
            "15     \t [ 1.30494452 -3.61693095]. \t  -27.86725916447446 \t -2.716881462565864\n",
            "16     \t [1.43762464 0.61219905]. \t  -2.8163399439095333 \t -2.716881462565864\n",
            "17     \t [ -2.09104465 -10.        ]. \t  -204.37246773557777 \t -2.716881462565864\n",
            "18     \t [-3.6540172   2.24641386]. \t  -23.444592098937832 \t -2.716881462565864\n",
            "19     \t [-6.25227852 -4.53049421]. \t  -80.14174220245789 \t -2.716881462565864\n",
            "20     \t [  5.83418784 -10.        ]. \t  -234.0377477749081 \t -2.716881462565864\n"
          ]
        }
      ]
    },
    {
      "cell_type": "code",
      "metadata": {
        "colab": {
          "base_uri": "https://localhost:8080/"
        },
        "id": "DXwjUVZ4GCii",
        "outputId": "0f22be84-8e87-4f0d-fe23-566a18137c57"
      },
      "source": [
        "### ESTIMATED GP EI GRADIENTS\n",
        "\n",
        "np.random.seed(run_num_12)\n",
        "surrogate_approx_12 = GaussianProcess(cov_func, optimize=opt)\n",
        "\n",
        "approx_12 = GPGO_multi(surrogate_approx_12, Acquisition(util_grad_approx), objfunc, param)\n",
        "approx_12.run(init_evals=n_init, max_iter=iters)\n"
      ],
      "execution_count": 24,
      "outputs": [
        {
          "output_type": "stream",
          "name": "stdout",
          "text": [
            "Evaluation \t Proposed point \t  Current eval. \t Best eval.\n",
            "init   \t [-6.91674315  4.80099393]. \t  -93.94042127407329 \t -23.318590147261595\n",
            "init   \t [-4.7336997   0.67478787]. \t  -23.318590147261595 \t -23.318590147261595\n",
            "init   \t [-9.70850075  8.37494016]. \t  -234.53423225249676 \t -23.318590147261595\n",
            "init   \t [ 8.01429708 -9.33157145]. \t  -238.38540908259807 \t -23.318590147261595\n",
            "init   \t [ 9.13898673 -7.25581357]. \t  -188.8147395776428 \t -23.318590147261595\n",
            "1      \t [4.66251955 4.05244711]. \t  -54.583743654491954 \t -23.318590147261595\n",
            "2      \t [-3.75432006 -8.6025265 ]. \t  -162.1018436659056 \t -23.318590147261595\n",
            "3      \t [ 1.18531109 -4.18637783]. \t  -36.45648099230573 \t -23.318590147261595\n",
            "4      \t [10. 10.]. \t  -300.0 \t -23.318590147261595\n",
            "5      \t [ 2.83533899 10.        ]. \t  -208.03914718063447 \t -23.318590147261595\n",
            "6      \t [-10. -10.]. \t  -300.0 \t -23.318590147261595\n",
            "7      \t [-9.64612869 -2.17170995]. \t  -102.48044690598128 \t -23.318590147261595\n",
            "8      \t [-3.21780806 10.        ]. \t  -210.35428873359277 \t -23.318590147261595\n",
            "9      \t [10.          0.83013818]. \t  -101.37825878618573 \t -23.318590147261595\n",
            "10     \t [ 2.01463473 -9.99440189]. \t  -203.83489142656586 \t -23.318590147261595\n",
            "11     \t [-0.90375474  4.55638054]. \t  -42.33797978714411 \t -23.318590147261595\n",
            "12     \t [ 6.02010845 -2.64907454]. \t  -50.2768975901846 \t -23.318590147261595\n",
            "13     \t [1.44826649 0.43222768]. \t  \u001b[92m-2.4711173615183704\u001b[0m \t -2.4711173615183704\n",
            "14     \t [-3.67231602 -3.67831778]. \t  -40.54594836467632 \t -2.4711173615183704\n",
            "15     \t [9.10850647 5.30335273]. \t  -139.21599054184236 \t -2.4711173615183704\n",
            "16     \t [ 4.56424242 -6.41995794]. \t  -103.26402884813592 \t -2.4711173615183704\n",
            "17     \t [10.         -3.19362368]. \t  -120.39846442242273 \t -2.4711173615183704\n",
            "18     \t [-1.21300415 -0.62673555]. \t  \u001b[92m-2.2569739665932076\u001b[0m \t -2.2569739665932076\n",
            "19     \t [-7.4978258  -5.99666006]. \t  -128.1372554803591 \t -2.2569739665932076\n",
            "20     \t [4.13517824 0.41926057]. \t  -17.4512579372992 \t -2.2569739665932076\n"
          ]
        }
      ]
    },
    {
      "cell_type": "code",
      "metadata": {
        "colab": {
          "base_uri": "https://localhost:8080/"
        },
        "id": "CphOPndPGClX",
        "outputId": "277b40a9-9e52-48dc-d94f-baefc8f0e791"
      },
      "source": [
        "### ESTIMATED GP EI GRADIENTS\n",
        "\n",
        "np.random.seed(run_num_13)\n",
        "surrogate_approx_13 = GaussianProcess(cov_func, optimize=opt)\n",
        "\n",
        "approx_13 = GPGO_multi(surrogate_approx_13, Acquisition(util_grad_approx), objfunc, param)\n",
        "approx_13.run(init_evals=n_init, max_iter=iters)\n"
      ],
      "execution_count": 25,
      "outputs": [
        {
          "output_type": "stream",
          "name": "stdout",
          "text": [
            "Evaluation \t Proposed point \t  Current eval. \t Best eval.\n",
            "init   \t [ 5.55404821 -5.2491756 ]. \t  -85.95514048001408 \t -47.45541115581226\n",
            "init   \t [6.48557065 9.31498396]. \t  -215.600479080162 \t -47.45541115581226\n",
            "init   \t [ 9.45202228 -0.93101505]. \t  -91.0743031984701 \t -47.45541115581226\n",
            "init   \t [2.18084926 5.51053029]. \t  -65.48799167425372 \t -47.45541115581226\n",
            "init   \t [2.8322669  4.44036459]. \t  -47.45541115581226 \t -47.45541115581226\n",
            "1      \t [-8.69830926  2.59657998]. \t  -89.14503917528086 \t -47.45541115581226\n",
            "2      \t [-5.9673185  -6.48540274]. \t  -119.72978734259729 \t -47.45541115581226\n",
            "3      \t [  0.08552322 -10.        ]. \t  -200.0073142220086 \t -47.45541115581226\n",
            "4      \t [-10.  10.]. \t  -300.0 \t -47.45541115581226\n",
            "5      \t [ 0.01120601 -1.79277298]. \t  \u001b[92m-6.428195520869893\u001b[0m \t -6.428195520869893\n",
            "6      \t [-4.23807502  7.90243497]. \t  -142.85823662231138 \t -6.428195520869893\n",
            "7      \t [ 10. -10.]. \t  -300.0 \t -6.428195520869893\n",
            "8      \t [10.          4.72475467]. \t  -144.64661331568422 \t -6.428195520869893\n",
            "9      \t [-2.9927451   2.30727759]. \t  -19.603582996483016 \t -6.428195520869893\n",
            "10     \t [-10.          -2.74071616]. \t  -115.02305010351395 \t -6.428195520869893\n",
            "11     \t [-10. -10.]. \t  -300.0 \t -6.428195520869893\n",
            "12     \t [ 4.35426426 -0.21223921]. \t  -19.049708189446612 \t -6.428195520869893\n",
            "13     \t [ 0.49676408 10.        ]. \t  -200.2467745462434 \t -6.428195520869893\n",
            "14     \t [-5.00272334 -1.67849873]. \t  -30.661956804046447 \t -6.428195520869893\n",
            "15     \t [-1.34777065 -5.44603567]. \t  -61.13509465756355 \t -6.428195520869893\n",
            "16     \t [  4.99037735 -10.        ]. \t  -224.90386608306918 \t -6.428195520869893\n",
            "17     \t [10.         -5.31127259]. \t  -156.4192330609077 \t -6.428195520869893\n",
            "18     \t [ -4.19126596 -10.        ]. \t  -217.56671030614663 \t -6.428195520869893\n",
            "19     \t [6.37925615 2.77685715]. \t  -56.11678020869892 \t -6.428195520869893\n",
            "20     \t [-7.98263674  6.33834272]. \t  -144.07166617735163 \t -6.428195520869893\n"
          ]
        }
      ]
    },
    {
      "cell_type": "code",
      "metadata": {
        "colab": {
          "base_uri": "https://localhost:8080/"
        },
        "id": "ojHTeARNGCoi",
        "outputId": "7922e193-082b-4628-d7c3-d437cb8ffab6"
      },
      "source": [
        "### ESTIMATED GP EI GRADIENTS\n",
        "\n",
        "np.random.seed(run_num_14)\n",
        "surrogate_approx_14 = GaussianProcess(cov_func, optimize=opt)\n",
        "\n",
        "approx_14 = GPGO_multi(surrogate_approx_14, Acquisition(util_grad_approx), objfunc, param)\n",
        "approx_14.run(init_evals=n_init, max_iter=iters)\n"
      ],
      "execution_count": 26,
      "outputs": [
        {
          "output_type": "stream",
          "name": "stdout",
          "text": [
            "Evaluation \t Proposed point \t  Current eval. \t Best eval.\n",
            "init   \t [0.27886688 5.46330104]. \t  -59.77308327621332 \t -26.48525945153859\n",
            "init   \t [ 7.40855371 -9.83906103]. \t  -248.5009120212351 \t -26.48525945153859\n",
            "init   \t [-3.80528149  9.15207479]. \t  -182.0011130426615 \t -26.48525945153859\n",
            "init   \t [ 0.26233425 -3.6343115 ]. \t  -26.48525945153859 \t -26.48525945153859\n",
            "init   \t [ 0.78399875 -5.57490115]. \t  -62.773699734431055 \t -26.48525945153859\n",
            "1      \t [ 9.82765998 -0.95725402]. \t  -98.41557117870066 \t -26.48525945153859\n",
            "2      \t [-8.1477833   0.47898709]. \t  -66.84523003287876 \t -26.48525945153859\n",
            "3      \t [ -7.18460402 -10.        ]. \t  -251.61853499539058 \t -26.48525945153859\n",
            "4      \t [10.          9.25482849]. \t  -271.3037008127159 \t -26.48525945153859\n",
            "5      \t [-10.  10.]. \t  -300.0 \t -26.48525945153859\n",
            "6      \t [3.93552436 0.90552567]. \t  \u001b[92m-17.128305452787583\u001b[0m \t -17.128305452787583\n",
            "7      \t [ 3.75097782 10.        ]. \t  -214.06983463902367 \t -17.128305452787583\n",
            "8      \t [-10.          -4.85205139]. \t  -147.08480546193425 \t -17.128305452787583\n",
            "9      \t [8.07494064 4.08030743]. \t  -98.50248373686033 \t -17.128305452787583\n",
            "10     \t [-2.65700209  0.81845566]. \t  \u001b[92m-8.399399449963648\u001b[0m \t -8.399399449963648\n",
            "11     \t [-4.62908341 -4.82741089]. \t  -68.03620505597543 \t -8.399399449963648\n",
            "12     \t [ 5.8816756  -4.46726148]. \t  -74.506958037266 \t -8.399399449963648\n",
            "13     \t [-7.38165187  5.34704555]. \t  -111.67057638489499 \t -8.399399449963648\n",
            "14     \t [  2.21556956 -10.        ]. \t  -204.9087484554286 \t -8.399399449963648\n",
            "15     \t [-2.46588101 -9.15409114]. \t  -173.67533837239114 \t -8.399399449963648\n",
            "16     \t [10.         -5.83671004]. \t  -168.13436813263382 \t -8.399399449963648\n",
            "17     \t [4.25774341 5.52318802]. \t  -79.13959064695538 \t -8.399399449963648\n",
            "18     \t [-3.46619853  4.20635464]. \t  -47.401370996760434 \t -8.399399449963648\n",
            "19     \t [0.53390021 0.18491715]. \t  \u001b[92m-0.3534381406853866\u001b[0m \t -0.3534381406853866\n",
            "20     \t [0.54244496 1.81834501]. \t  -6.907003703639837 \t -0.3534381406853866\n"
          ]
        }
      ]
    },
    {
      "cell_type": "code",
      "metadata": {
        "colab": {
          "base_uri": "https://localhost:8080/"
        },
        "id": "vCJzn4vWGCs3",
        "outputId": "0f2020b9-1e7a-4f0c-d538-15f5a517a4b0"
      },
      "source": [
        "### ESTIMATED GP EI GRADIENTS\n",
        "\n",
        "np.random.seed(run_num_15)\n",
        "surrogate_approx_15 = GaussianProcess(cov_func, optimize=opt)\n",
        "\n",
        "approx_15 = GPGO_multi(surrogate_approx_15, Acquisition(util_grad_approx), objfunc, param)\n",
        "approx_15.run(init_evals=n_init, max_iter=iters)\n"
      ],
      "execution_count": 27,
      "outputs": [
        {
          "output_type": "stream",
          "name": "stdout",
          "text": [
            "Evaluation \t Proposed point \t  Current eval. \t Best eval.\n",
            "init   \t [ 6.97635395 -6.4220815 ]. \t  -131.15577599697437 \t -20.897907943365695\n",
            "init   \t [-8.91273571 -2.76923108]. \t  -94.77413943464936 \t -20.897907943365695\n",
            "init   \t [-4.49198143  0.6000045 ]. \t  -20.897907943365695 \t -20.897907943365695\n",
            "init   \t [-3.88162169 -3.91051282]. \t  -45.651207890195394 \t -20.897907943365695\n",
            "init   \t [-7.76517448 -5.00201972]. \t  -110.33833725681367 \t -20.897907943365695\n",
            "1      \t [-1.08003705  9.49213271]. \t  -181.3676469637466 \t -20.897907943365695\n",
            "2      \t [-9.69991687  7.99454818]. \t  -221.91398842692476 \t -20.897907943365695\n",
            "3      \t [6.77579855 5.22553342]. \t  -100.52384513514872 \t -20.897907943365695\n",
            "4      \t [ 2.46902528 -0.89638552]. \t  \u001b[92m-7.7030998277605995\u001b[0m \t -7.7030998277605995\n",
            "5      \t [-3.24248106 -9.76286703]. \t  -201.14082883334697 \t -7.7030998277605995\n",
            "6      \t [ 8.91031271 -0.30844092]. \t  -79.58394412611301 \t -7.7030998277605995\n",
            "7      \t [0.14773612 3.77329305]. \t  -28.49730683528925 \t -7.7030998277605995\n",
            "8      \t [  2.56003188 -10.        ]. \t  -206.55376324062496 \t -7.7030998277605995\n",
            "9      \t [10. 10.]. \t  -300.0 \t -7.7030998277605995\n",
            "10     \t [-10. -10.]. \t  -300.0 \t -7.7030998277605995\n",
            "11     \t [-10.           2.47604224]. \t  -112.26157032625254 \t -7.7030998277605995\n",
            "12     \t [-4.83168837  5.56711275]. \t  -85.33070122326319 \t -7.7030998277605995\n",
            "13     \t [ 4.34997553 10.        ]. \t  -218.92228715441007 \t -7.7030998277605995\n",
            "14     \t [ 0.91834338 -5.10523613]. \t  -52.970226427879645 \t -7.7030998277605995\n",
            "15     \t [-5.6081284 10.       ]. \t  -231.45110414566506 \t -7.7030998277605995\n",
            "16     \t [ 10. -10.]. \t  -300.0 \t -7.7030998277605995\n",
            "17     \t [-0.97845205 -0.84025255]. \t  \u001b[92m-2.369417098040162\u001b[0m \t -2.369417098040162\n",
            "18     \t [3.96254352 2.18842802]. \t  -25.280185503551575 \t -2.369417098040162\n",
            "19     \t [ 5.40029319 -2.533296  ]. \t  -41.99834379216061 \t -2.369417098040162\n",
            "20     \t [2.7224499 6.1999883]. \t  -84.29144326830945 \t -2.369417098040162\n"
          ]
        }
      ]
    },
    {
      "cell_type": "code",
      "metadata": {
        "colab": {
          "base_uri": "https://localhost:8080/"
        },
        "id": "bGGkhp-kGCw6",
        "outputId": "c6c4092e-aeb2-4877-ba3c-8e0304b5f6ce"
      },
      "source": [
        "### ESTIMATED GP EI GRADIENTS\n",
        "\n",
        "np.random.seed(run_num_16)\n",
        "surrogate_approx_16 = GaussianProcess(cov_func, optimize=opt)\n",
        "\n",
        "approx_16 = GPGO_multi(surrogate_approx_16, Acquisition(util_grad_approx), objfunc, param)\n",
        "approx_16.run(init_evals=n_init, max_iter=iters)\n"
      ],
      "execution_count": 28,
      "outputs": [
        {
          "output_type": "stream",
          "name": "stdout",
          "text": [
            "Evaluation \t Proposed point \t  Current eval. \t Best eval.\n",
            "init   \t [-5.53417842  0.46326683]. \t  -31.056363058280656 \t -31.056363058280656\n",
            "init   \t [ 1.01402913 -9.087961  ]. \t  -166.21032525826828 \t -31.056363058280656\n",
            "init   \t [-2.78542329 -5.53838117]. \t  -69.10591480510183 \t -31.056363058280656\n",
            "init   \t [ 3.77452324 -6.7253715 ]. \t  -104.70826928786903 \t -31.056363058280656\n",
            "init   \t [-8.59350266  8.8202172 ]. \t  -229.44075111810224 \t -31.056363058280656\n",
            "1      \t [3.97807748 9.58934138]. \t  -199.7360368183673 \t -31.056363058280656\n",
            "2      \t [-10. -10.]. \t  -300.0 \t -31.056363058280656\n",
            "3      \t [ 10. -10.]. \t  -300.0 \t -31.056363058280656\n",
            "4      \t [ 8.8300141  -0.10570929]. \t  -77.99149800000582 \t -31.056363058280656\n",
            "5      \t [-2.22531694  5.42968011]. \t  -63.91488757640133 \t -31.056363058280656\n",
            "6      \t [10.          9.06367121]. \t  -264.3002714457817 \t -31.056363058280656\n",
            "7      \t [3.59831847 3.26649101]. \t  -34.287822884607664 \t -31.056363058280656\n",
            "8      \t [-8.80462948 -4.08195164]. \t  -110.8461586030564 \t -31.056363058280656\n",
            "9      \t [ 1.11818902 -1.55861194]. \t  \u001b[92m-6.108889056722611\u001b[0m \t -6.108889056722611\n",
            "10     \t [-10.           3.23646336]. \t  -120.94939021307559 \t -6.108889056722611\n",
            "11     \t [ -4.67397017 -10.        ]. \t  -221.84599713529047 \t -6.108889056722611\n",
            "12     \t [10.         -4.83878047]. \t  -146.8275929091181 \t -6.108889056722611\n",
            "13     \t [-1.24717813 10.        ]. \t  -201.55545329018156 \t -6.108889056722611\n",
            "14     \t [8.02884543 4.54596087]. \t  -105.79387944795678 \t -6.108889056722611\n",
            "15     \t [ 4.93367817 -2.25102916]. \t  -34.47544477466453 \t -6.108889056722611\n",
            "16     \t [-1.30338209  1.19368681]. \t  \u001b[92m-4.548581261481097\u001b[0m \t -4.548581261481097\n",
            "17     \t [-6.18297049  4.94656516]. \t  -87.16613785598682 \t -4.548581261481097\n",
            "18     \t [-2.40089835 -1.70348696]. \t  -11.568048525343977 \t -4.548581261481097\n",
            "19     \t [1.488023   6.30009601]. \t  -81.59663202788668 \t -4.548581261481097\n",
            "20     \t [  5.74078964 -10.        ]. \t  -232.9566656773152 \t -4.548581261481097\n"
          ]
        }
      ]
    },
    {
      "cell_type": "code",
      "metadata": {
        "id": "Yrs2mp7hGC1Z",
        "colab": {
          "base_uri": "https://localhost:8080/"
        },
        "outputId": "29ea152c-2905-43ab-9a6f-5f18687b3ade"
      },
      "source": [
        "### ESTIMATED GP EI GRADIENTS\n",
        "\n",
        "np.random.seed(run_num_17)\n",
        "surrogate_approx_17 = GaussianProcess(cov_func, optimize=opt)\n",
        "\n",
        "approx_17 = GPGO_multi(surrogate_approx_17, Acquisition(util_grad_approx), objfunc, param)\n",
        "approx_17.run(init_evals=n_init, max_iter=iters)\n"
      ],
      "execution_count": 29,
      "outputs": [
        {
          "output_type": "stream",
          "name": "stdout",
          "text": [
            "Evaluation \t Proposed point \t  Current eval. \t Best eval.\n",
            "init   \t [-4.10669995  0.61173511]. \t  -17.613424143360255 \t -12.137436774523842\n",
            "init   \t [-6.16958426 -8.64199284]. \t  -187.43185031516856 \t -12.137436774523842\n",
            "init   \t [5.7397092  3.12667044]. \t  -52.49639772521824 \t -12.137436774523842\n",
            "init   \t [2.75041792 1.51205788]. \t  -12.137436774523842 \t -12.137436774523842\n",
            "init   \t [-9.21874168 -2.84372791]. \t  -101.1587749488933 \t -12.137436774523842\n",
            "1      \t [ 9.93745831 -5.20505887]. \t  -152.93835326221776 \t -12.137436774523842\n",
            "2      \t [-3.82122471  9.33260309]. \t  -188.79671899962287 \t -12.137436774523842\n",
            "3      \t [ 1.66132937 -6.85580915]. \t  -96.76425352595389 \t -12.137436774523842\n",
            "4      \t [10.          7.55919555]. \t  -214.282874639876 \t -12.137436774523842\n",
            "5      \t [3.20439915 9.54064132]. \t  -192.31584760495312 \t -12.137436774523842\n",
            "6      \t [-9.58803875  7.45814352]. \t  -203.17829655686515 \t -12.137436774523842\n",
            "7      \t [  6.65341186 -10.        ]. \t  -244.26788941217293 \t -12.137436774523842\n",
            "8      \t [0.59497739 5.1282014 ]. \t  -52.950897275473906 \t -12.137436774523842\n",
            "9      \t [10.          0.25805991]. \t  -100.13318983450213 \t -12.137436774523842\n",
            "10     \t [-2.9666336  -4.19527256]. \t  -44.00153853464825 \t -12.137436774523842\n",
            "11     \t [ 5.12808353 -2.74637825]. \t  -41.38242766876177 \t -12.137436774523842\n",
            "12     \t [-10.           2.21470378]. \t  -109.8098256820709 \t -12.137436774523842\n",
            "13     \t [-5.43721707  4.69820701]. \t  -73.709627566946 \t -12.137436774523842\n",
            "14     \t [ -1.61410277 -10.        ]. \t  -202.60532774290468 \t -12.137436774523842\n",
            "15     \t [ 0.70855766 -1.95812565]. \t  \u001b[92m-8.170566105163735\u001b[0m \t -8.170566105163735\n",
            "16     \t [-0.71297678  1.35057321]. \t  \u001b[92m-4.156431864137297\u001b[0m \t -4.156431864137297\n",
            "17     \t [-10.          -6.48638873]. \t  -184.1464776171998 \t -4.156431864137297\n",
            "18     \t [6.02595402 6.75502307]. \t  -127.57279522398176 \t -4.156431864137297\n",
            "19     \t [ 5.71873329 -6.14675588]. \t  -108.26912623622238 \t -4.156431864137297\n",
            "20     \t [10.          3.79629757]. \t  -128.82375047372892 \t -4.156431864137297\n"
          ]
        }
      ]
    },
    {
      "cell_type": "code",
      "metadata": {
        "id": "f0HIEP3PIUEa",
        "colab": {
          "base_uri": "https://localhost:8080/"
        },
        "outputId": "032a62f1-e09b-4b0a-8700-c27c4a1f57c6"
      },
      "source": [
        "### ESTIMATED GP EI GRADIENTS\n",
        "\n",
        "np.random.seed(run_num_18)\n",
        "surrogate_approx_18 = GaussianProcess(cov_func, optimize=opt)\n",
        "\n",
        "approx_18 = GPGO_multi(surrogate_approx_18, Acquisition(util_grad_approx), objfunc, param)\n",
        "approx_18.run(init_evals=n_init, max_iter=iters)\n"
      ],
      "execution_count": 30,
      "outputs": [
        {
          "output_type": "stream",
          "name": "stdout",
          "text": [
            "Evaluation \t Proposed point \t  Current eval. \t Best eval.\n",
            "init   \t [3.00748483 0.10906747]. \t  -9.068756459576363 \t -9.068756459576363\n",
            "init   \t [ 7.57202942 -6.36319549]. \t  -138.3161432668939 \t -9.068756459576363\n",
            "init   \t [7.04466137 5.00272572]. \t  -99.6817831686958 \t -9.068756459576363\n",
            "init   \t [3.32203335 9.75790897]. \t  -201.4694803352836 \t -9.068756459576363\n",
            "init   \t [-4.86063155 -9.43388149]. \t  -201.6219791510955 \t -9.068756459576363\n",
            "1      \t [-6.1664519   4.28513481]. \t  -74.74988979878172 \t -9.068756459576363\n",
            "2      \t [-6.07110106 -2.27098711]. \t  -47.173032968123124 \t -9.068756459576363\n",
            "3      \t [-10.  10.]. \t  -300.0 \t -9.068756459576363\n",
            "4      \t [-2.33775535  8.28880862]. \t  -142.8737966101193 \t -9.068756459576363\n",
            "5      \t [ 4.59940623 -9.59713586]. \t  -205.36457092968183 \t -9.068756459576363\n",
            "6      \t [-0.77788299 -4.73427196]. \t  -45.431763852455845 \t -9.068756459576363\n",
            "7      \t [10. 10.]. \t  -300.0 \t -9.068756459576363\n",
            "8      \t [ 9.48968703 -0.30330646]. \t  -90.23814953204177 \t -9.068756459576363\n",
            "9      \t [-10.          -6.28129572]. \t  -178.90935181639236 \t -9.068756459576363\n",
            "10     \t [-1.8150177   1.10450276]. \t  \u001b[92m-5.734141920432893\u001b[0m \t -5.734141920432893\n",
            "11     \t [-10.           0.86675761]. \t  -101.50253749681444 \t -5.734141920432893\n",
            "12     \t [1.55961268 4.61251488]. \t  -44.98297870570375 \t -5.734141920432893\n",
            "13     \t [ 3.60484529 -3.9354396 ]. \t  -43.970279264309994 \t -5.734141920432893\n",
            "14     \t [ -9.05867374 -10.        ]. \t  -282.0595698415638 \t -5.734141920432893\n",
            "15     \t [-5.99047409  9.73183458]. \t  -225.30298859781234 \t -5.734141920432893\n",
            "16     \t [ 10. -10.]. \t  -300.0 \t -5.734141920432893\n",
            "17     \t [ -0.14119625 -10.        ]. \t  -200.0199363815411 \t -5.734141920432893\n",
            "18     \t [5.90779189 1.21528101]. \t  -37.85582084292731 \t -5.734141920432893\n",
            "19     \t [-2.23963319  4.17974311]. \t  -39.95646176370147 \t -5.734141920432893\n",
            "20     \t [-9.74695034  5.53052038]. \t  -156.17635227665565 \t -5.734141920432893\n"
          ]
        }
      ]
    },
    {
      "cell_type": "code",
      "metadata": {
        "id": "S3mxRQDLIUPC",
        "colab": {
          "base_uri": "https://localhost:8080/"
        },
        "outputId": "ec5e7ada-3a28-4d47-d1fc-dfc5d0152246"
      },
      "source": [
        "### ESTIMATED GP EI GRADIENTS\n",
        "\n",
        "np.random.seed(run_num_19)\n",
        "surrogate_approx_19 = GaussianProcess(cov_func, optimize=opt)\n",
        "\n",
        "approx_19 = GPGO_multi(surrogate_approx_19, Acquisition(util_grad_approx), objfunc, param)\n",
        "approx_19.run(init_evals=n_init, max_iter=iters)\n"
      ],
      "execution_count": 31,
      "outputs": [
        {
          "output_type": "stream",
          "name": "stdout",
          "text": [
            "Evaluation \t Proposed point \t  Current eval. \t Best eval.\n",
            "init   \t [-8.04932797  5.22499433]. \t  -119.39281225846176 \t -87.03025225125222\n",
            "init   \t [-5.06124054 -7.23736625]. \t  -130.3750962570555 \t -87.03025225125222\n",
            "init   \t [-3.37106873 -8.3400087 ]. \t  -150.4755946408245 \t -87.03025225125222\n",
            "init   \t [3.43954163 6.13187596]. \t  -87.03025225125222 \t -87.03025225125222\n",
            "init   \t [9.65483829 2.7132147 ]. \t  -107.93897039562282 \t -87.03025225125222\n",
            "1      \t [ 10. -10.]. \t  -300.0 \t -87.03025225125222\n",
            "2      \t [ 4.81772344 -2.77685984]. \t  \u001b[92m-38.632360201328204\u001b[0m \t -38.632360201328204\n",
            "3      \t [10. 10.]. \t  -300.0 \t -38.632360201328204\n",
            "4      \t [-9.64931371 -1.76781368]. \t  -99.35958538505903 \t -38.632360201328204\n",
            "5      \t [-1.5588856  -0.21683274]. \t  \u001b[92m-2.524157178764308\u001b[0m \t -2.524157178764308\n",
            "6      \t [-2.2233185   8.40664734]. \t  -146.2865841157912 \t -2.524157178764308\n",
            "7      \t [ 2.6329587  -8.75723308]. \t  -160.31073385623222 \t -2.524157178764308\n",
            "8      \t [-10. -10.]. \t  -300.0 \t -2.524157178764308\n",
            "9      \t [-0.06294001 -4.2260638 ]. \t  -35.723191887677444 \t -2.524157178764308\n",
            "10     \t [10.         -3.99071098]. \t  -131.8515481797443 \t -2.524157178764308\n",
            "11     \t [2.34077615 1.32689792]. \t  -9.000549178116794 \t -2.524157178764308\n",
            "12     \t [-7.21306942 10.        ]. \t  -252.02837052690163 \t -2.524157178764308\n",
            "13     \t [-3.31179043  3.4471975 ]. \t  -34.73429708631966 \t -2.524157178764308\n",
            "14     \t [-4.85792757 -2.29928496]. \t  -34.17288294995451 \t -2.524157178764308\n",
            "15     \t [ 6.57136176 -6.76598932]. \t  -134.74001828186346 \t -2.524157178764308\n",
            "16     \t [ 1.98422095 10.        ]. \t  -203.93713279789492 \t -2.524157178764308\n",
            "17     \t [5.81844244 1.18805085]. \t  -36.67720202937391 \t -2.524157178764308\n",
            "18     \t [-6.66316746  1.22769813]. \t  -47.41228602570125 \t -2.524157178764308\n",
            "19     \t [7.54067587 6.33129262]. \t  -137.03232500113273 \t -2.524157178764308\n",
            "20     \t [-9.16362022 -5.75654014]. \t  -150.24744445003546 \t -2.524157178764308\n"
          ]
        }
      ]
    },
    {
      "cell_type": "code",
      "metadata": {
        "id": "Aawd59dRIUYn",
        "colab": {
          "base_uri": "https://localhost:8080/"
        },
        "outputId": "4b09a8d7-90af-491f-dd79-c9dcd92787ae"
      },
      "source": [
        "### ESTIMATED GP EI GRADIENTS\n",
        "\n",
        "np.random.seed(run_num_20)\n",
        "surrogate_approx_20 = GaussianProcess(cov_func, optimize=opt)\n",
        "\n",
        "approx_20 = GPGO_multi(surrogate_approx_20, Acquisition(util_grad_approx), objfunc, param)\n",
        "approx_20.run(init_evals=n_init, max_iter=iters)\n"
      ],
      "execution_count": 32,
      "outputs": [
        {
          "output_type": "stream",
          "name": "stdout",
          "text": [
            "Evaluation \t Proposed point \t  Current eval. \t Best eval.\n",
            "init   \t [1.76261602 7.95427456]. \t  -129.64778273349407 \t -6.161449614183514\n",
            "init   \t [7.83061459 6.31674955]. \t  -141.12117450686426 \t -6.161449614183514\n",
            "init   \t [-9.28220829  3.83515164]. \t  -115.57616682517047 \t -6.161449614183514\n",
            "init   \t [-2.42638116  0.37021891]. \t  -6.161449614183514 \t -6.161449614183514\n",
            "init   \t [ 3.15902931 -6.12299564]. \t  -84.96161746112533 \t -6.161449614183514\n",
            "1      \t [-4.19925206 -9.25460107]. \t  -188.9289997061697 \t -6.161449614183514\n",
            "2      \t [-10.          -4.06585617]. \t  -133.06237275844177 \t -6.161449614183514\n",
            "3      \t [-4.56172279  9.14761084]. \t  -188.16688311626407 \t -6.161449614183514\n",
            "4      \t [ 9.03563127 -5.57761678]. \t  -143.86225043765864 \t -6.161449614183514\n",
            "5      \t [9.73284756 0.68872827]. \t  -95.67701492801461 \t -6.161449614183514\n",
            "6      \t [ 2.9365067  -0.38705087]. \t  -8.922688329003975 \t -6.161449614183514\n",
            "7      \t [-9.96159228  9.21778082]. \t  -269.1682870951902 \t -6.161449614183514\n",
            "8      \t [-1.91724646 -4.31713334]. \t  -40.95111458902799 \t -6.161449614183514\n",
            "9      \t [-10. -10.]. \t  -300.0 \t -6.161449614183514\n",
            "10     \t [-3.62444214  4.27708712]. \t  -49.72352919952227 \t -6.161449614183514\n",
            "11     \t [-6.6130336  -0.43418888]. \t  -44.10925341737123 \t -6.161449614183514\n",
            "12     \t [  6.4297412 -10.       ]. \t  -241.3415719405954 \t -6.161449614183514\n",
            "13     \t [3.80843102 3.60528787]. \t  -40.50034810775807 \t -6.161449614183514\n",
            "14     \t [ 6.58706708 -2.39712962]. \t  -54.881913519331455 \t -6.161449614183514\n",
            "15     \t [  0.66034502 -10.        ]. \t  -200.43605553897726 \t -6.161449614183514\n",
            "16     \t [ 5.65109566 10.        ]. \t  -231.93488213114767 \t -6.161449614183514\n",
            "17     \t [0.08353489 2.67751909]. \t  -14.345195048898788 \t -6.161449614183514\n",
            "18     \t [-5.85557493 -5.04410393]. \t  -85.17372671042284 \t -6.161449614183514\n",
            "19     \t [-10.          -0.01979347]. \t  -100.00078356254147 \t -6.161449614183514\n",
            "20     \t [ 0.10441693 -1.37879062]. \t  \u001b[92m-3.8130300257417873\u001b[0m \t -3.8130300257417873\n"
          ]
        }
      ]
    },
    {
      "cell_type": "code",
      "metadata": {
        "id": "xkgzPRbBTHaq",
        "colab": {
          "base_uri": "https://localhost:8080/"
        },
        "outputId": "fced260d-89f6-4168-a16c-f819d4580eba"
      },
      "source": [
        "end_approx = time.time()\n",
        "end_approx\n",
        "\n",
        "time_approx = end_approx - start_approx\n",
        "time_approx\n",
        "\n",
        "start_exact = time.time()\n",
        "start_exact"
      ],
      "execution_count": 33,
      "outputs": [
        {
          "output_type": "execute_result",
          "data": {
            "text/plain": [
              "1631274058.6675198"
            ]
          },
          "metadata": {},
          "execution_count": 33
        }
      ]
    },
    {
      "cell_type": "code",
      "metadata": {
        "id": "7CG3Ndvb16Rb",
        "colab": {
          "base_uri": "https://localhost:8080/"
        },
        "outputId": "cba3798c-8d6e-449a-a412-3f7a4ab108d0"
      },
      "source": [
        "### EXACT GP EI GRADIENTS\n",
        "\n",
        "np.random.seed(run_num_1)\n",
        "surrogate_exact_1 = dGaussianProcess(cov_func, optimize=opt)\n",
        "\n",
        "exact_1 = dGPGO(surrogate_exact_1, Acquisition_new(util_grad_exact), objfunc, param)\n",
        "exact_1.run(init_evals=n_init, max_iter=iters)\n"
      ],
      "execution_count": 34,
      "outputs": [
        {
          "output_type": "stream",
          "name": "stdout",
          "text": [
            "Evaluation \t Proposed point \t  Current eval. \t Best eval.\n",
            "init   \t [-1.65955991  4.40648987]. \t  -41.5884450098667 \t -5.468172821636052\n",
            "init   \t [-9.9977125  -3.95334855]. \t  -131.21218477957908 \t -5.468172821636052\n",
            "init   \t [-7.06488218 -8.1532281 ]. \t  -182.86281732102734 \t -5.468172821636052\n",
            "init   \t [-6.27479577 -3.08878546]. \t  -58.4542532110911 \t -5.468172821636052\n",
            "init   \t [-2.06465052  0.77633468]. \t  -5.468172821636052 \t -5.468172821636052\n",
            "1      \t [ 7.89213327 -8.29911577]. \t  -200.03641276683908 \t -5.468172821636052\n",
            "2      \t [7.66612182 2.47344414]. \t  -71.00527566059496 \t -5.468172821636052\n",
            "3      \t [1.62717855 9.40039978]. \t  -179.3827421328839 \t -5.468172821636052\n",
            "4      \t [-9.56950389  8.95940422]. \t  -252.11725289788865 \t -5.468172821636052\n",
            "5      \t [ 2.56152397 -4.28847437]. \t  -43.34342980630102 \t -5.468172821636052\n",
            "6      \t [8.32611107 8.1927105 ]. \t  -203.5651361813062 \t -5.468172821636052\n",
            "7      \t [-0.86049345 -8.86141123]. \t  -157.78966701707245 \t -5.468172821636052\n",
            "8      \t [-7.81962472  2.67573521]. \t  -75.4656486076953 \t -5.468172821636052\n",
            "9      \t [-3.78825496  9.64834899]. \t  -200.53215197899524 \t -5.468172821636052\n",
            "10     \t [ 5.09782914 -0.72284432]. \t  -27.032869780654742 \t -5.468172821636052\n",
            "11     \t [4.66490135 4.88946306]. \t  -69.57500270809686 \t -5.468172821636052\n",
            "12     \t [-2.09806262 -3.99837908]. \t  -36.37593732531454 \t -5.468172821636052\n",
            "13     \t [ 3.94616039 -9.93774284]. \t  -213.08964743332524 \t -5.468172821636052\n",
            "14     \t [-4.88509612  6.05379039]. \t  -97.16092037623054 \t -5.468172821636052\n",
            "15     \t [ 0.88242767 -0.24157016]. \t  \u001b[92m-0.8953908839639271\u001b[0m \t -0.8953908839639271\n",
            "16     \t [ 1.31324225 -0.62668325]. \t  -2.5100689930693716 \t -0.8953908839639271\n",
            "17     \t [-4.17692119  0.0701902 ]. \t  -17.4565239462123 \t -0.8953908839639271\n",
            "18     \t [ 6.25014608 -4.3239633 ]. \t  -76.45764332287918 \t -0.8953908839639271\n",
            "19     \t [-8.36752035 -0.53776094]. \t  -70.59377039776965 \t -0.8953908839639271\n",
            "20     \t [1.97970578 2.31408574]. \t  -14.62922063515965 \t -0.8953908839639271\n"
          ]
        }
      ]
    },
    {
      "cell_type": "code",
      "metadata": {
        "id": "-ilCPSAu9SAg",
        "colab": {
          "base_uri": "https://localhost:8080/"
        },
        "outputId": "ee98ce21-8523-4cc2-ff50-ef7ab36dc643"
      },
      "source": [
        "### EXACT GP EI GRADIENTS\n",
        "\n",
        "np.random.seed(run_num_2)\n",
        "surrogate_exact_2 = dGaussianProcess(cov_func, optimize=opt)\n",
        "\n",
        "exact_2 = dGPGO(surrogate_exact_2, Acquisition_new(util_grad_exact), objfunc, param)\n",
        "exact_2.run(init_evals=n_init, max_iter=iters)\n"
      ],
      "execution_count": 35,
      "outputs": [
        {
          "output_type": "stream",
          "name": "stdout",
          "text": [
            "Evaluation \t Proposed point \t  Current eval. \t Best eval.\n",
            "init   \t [-1.28010196 -9.48147536]. \t  -181.43541115584648 \t -4.333099000920773\n",
            "init   \t [ 0.99324956 -1.29355215]. \t  -4.333099000920773 \t -4.333099000920773\n",
            "init   \t [-1.59264396 -3.39330358]. \t  -25.565533148780872 \t -4.333099000920773\n",
            "init   \t [-5.90702732  2.38541933]. \t  -46.27342248166184 \t -4.333099000920773\n",
            "init   \t [-4.00690653 -4.6634545 ]. \t  -59.55091562094812 \t -4.333099000920773\n",
            "1      \t [4.01504693 9.2910216 ]. \t  -188.7667666769868 \t -4.333099000920773\n",
            "2      \t [ 9.4582138 -7.7444757]. \t  -209.411615827435 \t -4.333099000920773\n",
            "3      \t [ 9.07319925 -1.03970567]. \t  -84.48492034594878 \t -4.333099000920773\n",
            "4      \t [-9.13741927 -7.85625192]. \t  -206.93381928482216 \t -4.333099000920773\n",
            "5      \t [9.77724187 9.8990052 ]. \t  -291.575066387719 \t -4.333099000920773\n",
            "6      \t [-3.25263411  9.0402141 ]. \t  -174.03057068772284 \t -4.333099000920773\n",
            "7      \t [0.10123841 3.5684302 ]. \t  -25.477637349667848 \t -4.333099000920773\n",
            "8      \t [-8.02899981  9.26886082]. \t  -236.28839966579932 \t -4.333099000920773\n",
            "9      \t [5.24861117 2.73126836]. \t  -42.4675729214365 \t -4.333099000920773\n",
            "10     \t [ 4.04324532 -6.03808744]. \t  -89.26483250356432 \t -4.333099000920773\n",
            "11     \t [7.91707702 4.54949347]. \t  -104.07589012554362 \t -4.333099000920773\n",
            "12     \t [-7.80774667 -0.58570564]. \t  -61.647010270735294 \t -4.333099000920773\n",
            "13     \t [0.64808028 6.32441842]. \t  -80.41654464956676 \t -4.333099000920773\n",
            "14     \t [-1.0051572  -0.59980822]. \t  \u001b[92m-1.7298807916327519\u001b[0m \t -1.7298807916327519\n",
            "15     \t [-9.60922514  4.37983248]. \t  -130.703072893003 \t -1.7298807916327519\n",
            "16     \t [ 3.11894533 -9.42642495]. \t  -187.442794765629 \t -1.7298807916327519\n",
            "17     \t [ 0.19784934 -6.5639001 ]. \t  -86.20871339113226 \t -1.7298807916327519\n",
            "18     \t [-2.82159733  3.60782968]. \t  -33.994281418692374 \t -1.7298807916327519\n",
            "19     \t [-5.29784912 -8.46628756]. \t  -171.4232553102709 \t -1.7298807916327519\n",
            "20     \t [ 5.27370108 -0.79483096]. \t  -29.075435626609924 \t -1.7298807916327519\n"
          ]
        }
      ]
    },
    {
      "cell_type": "code",
      "metadata": {
        "id": "XieJ158mIvlP",
        "colab": {
          "base_uri": "https://localhost:8080/"
        },
        "outputId": "424df7de-d68c-40ee-d115-0439b1b6935c"
      },
      "source": [
        "### EXACT GP EI GRADIENTS\n",
        "\n",
        "np.random.seed(run_num_3)\n",
        "surrogate_exact_3 = dGaussianProcess(cov_func, optimize=opt)\n",
        "\n",
        "exact_3 = dGPGO(surrogate_exact_3, Acquisition_new(util_grad_exact), objfunc, param)\n",
        "exact_3.run(init_evals=n_init, max_iter=iters)\n"
      ],
      "execution_count": 36,
      "outputs": [
        {
          "output_type": "stream",
          "name": "stdout",
          "text": [
            "Evaluation \t Proposed point \t  Current eval. \t Best eval.\n",
            "init   \t [1.01595805 4.16295645]. \t  -35.692583610916834 \t -17.582120911078754\n",
            "init   \t [-4.18190522  0.2165521 ]. \t  -17.582120911078754 \t -17.582120911078754\n",
            "init   \t [7.85893909 7.92586178]. \t  -187.4014934415638 \t -17.582120911078754\n",
            "init   \t [-7.48829379 -5.85514244]. \t  -124.63992981683481 \t -17.582120911078754\n",
            "init   \t [-8.97065593 -1.18380313]. \t  -83.2754475728413 \t -17.582120911078754\n",
            "1      \t [ 5.60629529 -3.87272935]. \t  -61.42661215628989 \t -17.582120911078754\n",
            "2      \t [-6.2437035   9.04202486]. \t  -202.50026057521436 \t -17.582120911078754\n",
            "3      \t [-0.35005916 -4.25900471]. \t  -36.40078359655554 \t -17.582120911078754\n",
            "4      \t [9.55904819 0.05502095]. \t  -91.38145696941282 \t -17.582120911078754\n",
            "5      \t [ 6.56863844 -9.15860953]. \t  -210.90726809613813 \t -17.582120911078754\n",
            "6      \t [-9.21277105  4.93342182]. \t  -133.55245206852663 \t -17.582120911078754\n",
            "7      \t [-2.10496259 -9.55536227]. \t  -187.04076369171705 \t -17.582120911078754\n",
            "8      \t [3.68603336 0.5392451 ]. \t  \u001b[92m-14.168412517260489\u001b[0m \t -14.168412517260489\n",
            "9      \t [-6.71050156 -9.69798454]. \t  -233.13263931875917 \t -14.168412517260489\n",
            "10     \t [ 9.19277145 -5.59753516]. \t  -147.17184677252976 \t -14.168412517260489\n",
            "11     \t [ 3.06806496 -8.28975197]. \t  -146.8529981945441 \t -14.168412517260489\n",
            "12     \t [0.32770526 9.82144864]. \t  -193.02909743571618 \t -14.168412517260489\n",
            "13     \t [-3.20865754  3.07091494]. \t  -29.156520347514657 \t -14.168412517260489\n",
            "14     \t [7.22841609 3.1287259 ]. \t  -71.82785075680387 \t -14.168412517260489\n",
            "15     \t [-4.86782484  5.92481296]. \t  -93.90253585406029 \t -14.168412517260489\n",
            "16     \t [ 1.12722537 -1.3415661 ]. \t  \u001b[92m-4.870236236186063\u001b[0m \t -4.870236236186063\n",
            "17     \t [-3.61718945 -4.76753071]. \t  -58.54275764234053 \t -4.870236236186063\n",
            "18     \t [4.64453209 7.76833849]. \t  -142.2658442398852 \t -4.870236236186063\n",
            "19     \t [-6.21217239  2.91613024]. \t  -55.598716852407776 \t -4.870236236186063\n",
            "20     \t [ 2.57554802 -2.50220022]. \t  -19.155459463537994 \t -4.870236236186063\n"
          ]
        }
      ]
    },
    {
      "cell_type": "code",
      "metadata": {
        "id": "PhLBVOIfIvol",
        "colab": {
          "base_uri": "https://localhost:8080/"
        },
        "outputId": "bd9d5fbf-6dbf-4b70-df3d-69144826f877"
      },
      "source": [
        "### EXACT GP EI GRADIENTS\n",
        "\n",
        "np.random.seed(run_num_4)\n",
        "surrogate_exact_4 = dGaussianProcess(cov_func, optimize=opt)\n",
        "\n",
        "exact_4 = dGPGO(surrogate_exact_4, Acquisition_new(util_grad_exact), objfunc, param)\n",
        "exact_4.run(init_evals=n_init, max_iter=iters)\n"
      ],
      "execution_count": 37,
      "outputs": [
        {
          "output_type": "stream",
          "name": "stdout",
          "text": [
            "Evaluation \t Proposed point \t  Current eval. \t Best eval.\n",
            "init   \t [9.34059678 0.94464498]. \t  -89.0314565014143 \t -27.80880071439404\n",
            "init   \t [9.4536872  4.29631987]. \t  -126.28893057280868 \t -27.80880071439404\n",
            "init   \t [ 3.95457649 -5.67821009]. \t  -80.12281484649141 \t -27.80880071439404\n",
            "init   \t [ 9.5254891 -9.8753949]. \t  -285.78179120922215 \t -27.80880071439404\n",
            "init   \t [-4.94035275 -1.30416935]. \t  -27.80880071439404 \t -27.80880071439404\n",
            "1      \t [-6.35109191  8.36766078]. \t  -180.3718623830372 \t -27.80880071439404\n",
            "2      \t [1.43282743 6.87413988]. \t  -96.56059262521096 \t -27.80880071439404\n",
            "3      \t [-8.0134447  2.6338449]. \t  -78.08957393472534 \t -27.80880071439404\n",
            "4      \t [-5.38508117 -8.95130243]. \t  -189.25072941158896 \t -27.80880071439404\n",
            "5      \t [-2.89326742  3.72072606]. \t  -36.05860124722727 \t -27.80880071439404\n",
            "6      \t [4.14399697 0.29816476]. \t  \u001b[92m-17.350515339096585\u001b[0m \t -17.350515339096585\n",
            "7      \t [6.21326818 9.26764337]. \t  -210.3831286612276 \t -17.350515339096585\n",
            "8      \t [-1.2105163  -5.39467636]. \t  -59.670415682434786 \t -17.350515339096585\n",
            "9      \t [ 7.8575159  -2.59551742]. \t  -75.21397754874508 \t -17.350515339096585\n",
            "10     \t [-9.2038106  -6.47809639]. \t  -168.64159528582113 \t -17.350515339096585\n",
            "11     \t [-9.56115919 -1.88674222]. \t  -98.53535754498219 \t -17.350515339096585\n",
            "12     \t [ 2.71135264 -9.66992891]. \t  -194.36648322470168 \t -17.350515339096585\n",
            "13     \t [-2.77195505  6.57545875]. \t  -94.15705044388217 \t -17.350515339096585\n",
            "14     \t [ 2.05686837 -2.07526693]. \t  \u001b[92m-12.844173129420152\u001b[0m \t -12.844173129420152\n",
            "15     \t [-5.35476496 -4.81522889]. \t  -75.0463663949029 \t -12.844173129420152\n",
            "16     \t [-0.78995309 -0.33637094]. \t  \u001b[92m-0.8503167029307797\u001b[0m \t -0.8503167029307797\n",
            "17     \t [5.83442216 3.32006158]. \t  -56.08609972970292 \t -0.8503167029307797\n",
            "18     \t [-1.49321423 -8.80278927]. \t  -157.207886746905 \t -0.8503167029307797\n",
            "19     \t [ 9.83607989 -5.32793507]. \t  -153.52225184036752 \t -0.8503167029307797\n",
            "20     \t [1.11597289 3.54185813]. \t  -26.334913447343272 \t -0.8503167029307797\n"
          ]
        }
      ]
    },
    {
      "cell_type": "code",
      "metadata": {
        "id": "arbiPyj2IvsJ",
        "colab": {
          "base_uri": "https://localhost:8080/"
        },
        "outputId": "6785c17e-fe24-4913-ed31-cd6929424949"
      },
      "source": [
        "### EXACT GP EI GRADIENTS\n",
        "\n",
        "np.random.seed(run_num_5)\n",
        "surrogate_exact_5 = dGaussianProcess(cov_func, optimize=opt)\n",
        "\n",
        "exact_5 = dGPGO(surrogate_exact_5, Acquisition_new(util_grad_exact), objfunc, param)\n",
        "exact_5.run(init_evals=n_init, max_iter=iters)\n"
      ],
      "execution_count": 38,
      "outputs": [
        {
          "output_type": "stream",
          "name": "stdout",
          "text": [
            "Evaluation \t Proposed point \t  Current eval. \t Best eval.\n",
            "init   \t [-5.56013658  7.41464612]. \t  -140.86907304317228 \t -10.04307293518387\n",
            "init   \t [-5.86561689  8.37221816]. \t  -174.59353533361667 \t -10.04307293518387\n",
            "init   \t [-0.23177622  2.23487726]. \t  -10.04307293518387 \t -10.04307293518387\n",
            "init   \t [5.31815713 0.36835976]. \t  -28.554173077012745 \t -10.04307293518387\n",
            "init   \t [-4.06398997 -6.24557543]. \t  -94.53043928694063 \t -10.04307293518387\n",
            "1      \t [9.27861058 9.20453431]. \t  -255.5395178906315 \t -10.04307293518387\n",
            "2      \t [ 8.87080164 -7.76615146]. \t  -199.31733862713008 \t -10.04307293518387\n",
            "3      \t [0.54357666 9.2242228 ]. \t  -170.4680482407008 \t -10.04307293518387\n",
            "4      \t [ 2.49508934 -6.80638133]. \t  -98.87912454627462 \t -10.04307293518387\n",
            "5      \t [-5.28672725 -1.23662215]. \t  -31.0079536542025 \t -10.04307293518387\n",
            "6      \t [-9.86783784 -1.34138829]. \t  -100.97286872831327 \t -10.04307293518387\n",
            "7      \t [ 5.28069331 -3.57912528]. \t  -53.5059974123489 \t -10.04307293518387\n",
            "8      \t [-1.5068584  -9.73719837]. \t  -191.89668642402026 \t -10.04307293518387\n",
            "9      \t [4.54590952 8.87645825]. \t  -178.2483154911813 \t -10.04307293518387\n",
            "10     \t [-9.96642462 -8.35759819]. \t  -239.02851481813158 \t -10.04307293518387\n",
            "11     \t [-6.50942567 -9.16023532]. \t  -210.19244501248528 \t -10.04307293518387\n",
            "12     \t [6.16682618 4.85638605]. \t  -85.19871607042727 \t -10.04307293518387\n",
            "13     \t [ 0.35234433 -2.20732734]. \t  \u001b[92m-9.868734479368715\u001b[0m \t -9.868734479368715\n",
            "14     \t [-7.6924033   3.39661702]. \t  -82.24708287210218 \t -9.868734479368715\n",
            "15     \t [3.03335816 2.14629555]. \t  -18.41443093297196 \t -9.868734479368715\n",
            "16     \t [9.34103116 2.98084349]. \t  -105.0257188774645 \t -9.868734479368715\n",
            "17     \t [ 9.78491984 -2.87524766]. \t  -112.27875460674277 \t -9.868734479368715\n",
            "18     \t [1.41174692 4.53221255]. \t  -43.074930503498734 \t -9.868734479368715\n",
            "19     \t [-3.39946503  3.83940073]. \t  -41.038358489352355 \t -9.868734479368715\n",
            "20     \t [-9.77086699  5.39278553]. \t  -153.63411321374798 \t -9.868734479368715\n"
          ]
        }
      ]
    },
    {
      "cell_type": "code",
      "metadata": {
        "id": "04KJCEm_Ivvf",
        "colab": {
          "base_uri": "https://localhost:8080/"
        },
        "outputId": "5a844b8c-1ac0-4061-99c3-8e18062d3f03"
      },
      "source": [
        "### EXACT GP EI GRADIENTS\n",
        "\n",
        "np.random.seed(run_num_6)\n",
        "surrogate_exact_6 = dGaussianProcess(cov_func, optimize=opt)\n",
        "\n",
        "exact_6 = dGPGO(surrogate_exact_6, Acquisition_new(util_grad_exact), objfunc, param)\n",
        "exact_6.run(init_evals=n_init, max_iter=iters)\n"
      ],
      "execution_count": 39,
      "outputs": [
        {
          "output_type": "stream",
          "name": "stdout",
          "text": [
            "Evaluation \t Proposed point \t  Current eval. \t Best eval.\n",
            "init   \t [ 7.85720303 -3.36040389]. \t  -84.32026809583151 \t -5.629416961321397\n",
            "init   \t [ 6.42458246 -9.16606749]. \t  -209.30884609749882 \t -5.629416961321397\n",
            "init   \t [-7.8468664   1.90104128]. \t  -68.80122824744078 \t -5.629416961321397\n",
            "init   \t [ 0.59634724 -1.62385143]. \t  -5.629416961321397 \t -5.629416961321397\n",
            "init   \t [-3.29184301  2.45038864]. \t  -22.84503944485431 \t -5.629416961321397\n",
            "1      \t [4.34664291 8.74699069]. \t  -171.91299695999675 \t -5.629416961321397\n",
            "2      \t [-4.96771714 -9.17248997]. \t  -192.94735819477367 \t -5.629416961321397\n",
            "3      \t [9.57427611 1.74148842]. \t  -97.73232691305284 \t -5.629416961321397\n",
            "4      \t [-5.6935267   8.60486508]. \t  -180.50365249520243 \t -5.629416961321397\n",
            "5      \t [-8.95050726 -5.24959132]. \t  -135.2279983143047 \t -5.629416961321397\n",
            "6      \t [9.96424121 8.8076443 ]. \t  -254.4352990830348 \t -5.629416961321397\n",
            "7      \t [-0.45748598  7.70980473]. \t  -119.09147150685489 \t -5.629416961321397\n",
            "8      \t [-5.2160087  -2.20998074]. \t  -36.974776478354485 \t -5.629416961321397\n",
            "9      \t [-1.22868843  4.34354782]. \t  -39.24249056209099 \t -5.629416961321397\n",
            "10     \t [3.92174558 4.35771114]. \t  -53.35938107562335 \t -5.629416961321397\n",
            "11     \t [ 3.93887377 -3.82922424]. \t  -44.84064311574363 \t -5.629416961321397\n",
            "12     \t [ 1.15144196 -7.83793338]. \t  -124.1922180150537 \t -5.629416961321397\n",
            "13     \t [ 5.21347435 -0.8833208 ]. \t  -28.74082607218724 \t -5.629416961321397\n",
            "14     \t [-9.59923296  5.05810789]. \t  -143.3141843478383 \t -5.629416961321397\n",
            "15     \t [-0.95636165 -3.37925288]. \t  -23.753327726693797 \t -5.629416961321397\n",
            "16     \t [ 9.57953935 -6.47242376]. \t  -175.55211289935994 \t -5.629416961321397\n",
            "17     \t [-1.87764526 -6.32214497]. \t  -83.46458573895605 \t -5.629416961321397\n",
            "18     \t [-8.89419935 -9.3610096 ]. \t  -254.3637836356124 \t -5.629416961321397\n",
            "19     \t [7.47320549 4.29399235]. \t  -92.72554100405617 \t -5.629416961321397\n",
            "20     \t [2.29156202 1.70138119]. \t  -11.040652418684768 \t -5.629416961321397\n"
          ]
        }
      ]
    },
    {
      "cell_type": "code",
      "metadata": {
        "id": "tAOkme3CIvyO",
        "colab": {
          "base_uri": "https://localhost:8080/"
        },
        "outputId": "3b48c8f7-74c7-428d-b146-a8bc275bb1e0"
      },
      "source": [
        "### EXACT GP EI GRADIENTS\n",
        "\n",
        "np.random.seed(run_num_7)\n",
        "surrogate_exact_7 = dGaussianProcess(cov_func, optimize=opt)\n",
        "\n",
        "exact_7 = dGPGO(surrogate_exact_7, Acquisition_new(util_grad_exact), objfunc, param)\n",
        "exact_7.run(init_evals=n_init, max_iter=iters)\n"
      ],
      "execution_count": 40,
      "outputs": [
        {
          "output_type": "stream",
          "name": "stdout",
          "text": [
            "Evaluation \t Proposed point \t  Current eval. \t Best eval.\n",
            "init   \t [-8.47383421  5.59837584]. \t  -134.48949046062052 \t -21.448213419349443\n",
            "init   \t [-1.23181537  4.46930356]. \t  -41.46671767109191 \t -21.448213419349443\n",
            "init   \t [9.55979024 0.76991741]. \t  -92.57513506242564 \t -21.448213419349443\n",
            "init   \t [ 0.02240927 -8.55897733]. \t  -146.51268814245697 \t -21.448213419349443\n",
            "init   \t [-4.63122040e+00 -2.34998349e-03]. \t  -21.448213419349443 \t -21.448213419349443\n",
            "1      \t [ 8.12846538 -6.39096762]. \t  -147.76088362344177 \t -21.448213419349443\n",
            "2      \t [6.00958098 8.78222707]. \t  -190.37008833601834 \t -21.448213419349443\n",
            "3      \t [-9.10467478 -9.8356699 ]. \t  -276.3759076385656 \t -21.448213419349443\n",
            "4      \t [-7.86246511 -2.61028169]. \t  -75.44549865130998 \t -21.448213419349443\n",
            "5      \t [-3.25931441  9.70439311]. \t  -198.97362160564154 \t -21.448213419349443\n",
            "6      \t [-9.88716092  9.98416603]. \t  -297.1230936372125 \t -21.448213419349443\n",
            "7      \t [2.51738481 0.01970541]. \t  \u001b[92m-6.338002885880908\u001b[0m \t -6.338002885880908\n",
            "8      \t [-4.37536586 -6.15272851]. \t  -94.85596274333567 \t -6.338002885880908\n",
            "9      \t [3.72434952 3.97093277]. \t  -45.40739346245516 \t -6.338002885880908\n",
            "10     \t [ 2.14275094 -3.53981122]. \t  -29.651908472655485 \t -6.338002885880908\n",
            "11     \t [7.42711839 3.9838851 ]. \t  -86.90476856983648 \t -6.338002885880908\n",
            "12     \t [ 4.17097659 -8.73978704]. \t  -170.1648009229628 \t -6.338002885880908\n",
            "13     \t [ 6.27870158 -2.24021067]. \t  -49.459181224933445 \t -6.338002885880908\n",
            "14     \t [-1.30317713 -1.3679148 ]. \t  \u001b[92m-5.440652447204621\u001b[0m \t -5.440652447204621\n",
            "15     \t [-4.7928607  -9.93251883]. \t  -220.28137430626884 \t -5.440652447204621\n",
            "16     \t [2.23165943 9.48914494]. \t  -185.06804707843273 \t -5.440652447204621\n",
            "17     \t [-1.28577402 -5.20248008]. \t  -55.78481277706797 \t -5.440652447204621\n",
            "18     \t [9.63842669 6.9622217 ]. \t  -189.8443309426383 \t -5.440652447204621\n",
            "19     \t [-5.16924516  2.07121321]. \t  -35.30094381948977 \t -5.440652447204621\n",
            "20     \t [ 9.47756993 -9.67318068]. \t  -276.96518069810065 \t -5.440652447204621\n"
          ]
        }
      ]
    },
    {
      "cell_type": "code",
      "metadata": {
        "id": "69-J3EF4Iv1S",
        "colab": {
          "base_uri": "https://localhost:8080/"
        },
        "outputId": "c6de315f-201b-4666-ced0-ca2915888f47"
      },
      "source": [
        "### EXACT GP EI GRADIENTS\n",
        "\n",
        "np.random.seed(run_num_8)\n",
        "surrogate_exact_8 = dGaussianProcess(cov_func, optimize=opt)\n",
        "\n",
        "exact_8 = dGPGO(surrogate_exact_8, Acquisition_new(util_grad_exact), objfunc, param)\n",
        "exact_8.run(init_evals=n_init, max_iter=iters)\n"
      ],
      "execution_count": 41,
      "outputs": [
        {
          "output_type": "stream",
          "name": "stdout",
          "text": [
            "Evaluation \t Proposed point \t  Current eval. \t Best eval.\n",
            "init   \t [7.46858806 9.37081326]. \t  -231.40408972112363 \t -0.5791878792948744\n",
            "init   \t [7.3838908  0.61711383]. \t  -55.28350237060649 \t -0.5791878792948744\n",
            "init   \t [-5.34543344 -9.77202391]. \t  -219.5585614355461 \t -0.5791878792948744\n",
            "init   \t [-1.39062363 -1.9529728 ]. \t  -9.562039601098967 \t -0.5791878792948744\n",
            "init   \t [ 0.45349343 -0.43216408]. \t  -0.5791878792948744 \t -0.5791878792948744\n",
            "1      \t [ 9.69498875 -9.42535902]. \t  -271.6675921188219 \t -0.5791878792948744\n",
            "2      \t [-9.83383251  5.77166529]. \t  -163.3285022998636 \t -0.5791878792948744\n",
            "3      \t [-3.97152767  9.51013426]. \t  -196.65833950916016 \t -0.5791878792948744\n",
            "4      \t [-9.65586204 -5.07440767]. \t  -144.73489822426617 \t -0.5791878792948744\n",
            "5      \t [1.10947828 5.5318851 ]. \t  -62.4344475515165 \t -0.5791878792948744\n",
            "6      \t [ 3.77011518 -4.40569277]. \t  -53.034026014752534 \t -0.5791878792948744\n",
            "7      \t [ 3.92852506 -9.90901831]. \t  -211.81059695994526 \t -0.5791878792948744\n",
            "8      \t [-0.36882215 -7.19463848]. \t  -103.6616754646159 \t -0.5791878792948744\n",
            "9      \t [ 9.94206526 -3.51674415]. \t  -123.57964043866933 \t -0.5791878792948744\n",
            "10     \t [-3.18015109  3.23080466]. \t  -30.989558483455728 \t -0.5791878792948744\n",
            "11     \t [5.10604324 5.62167158]. \t  -89.27806024915833 \t -0.5791878792948744\n",
            "12     \t [-6.1599575  -1.00193888]. \t  -39.952839409416775 \t -0.5791878792948744\n",
            "13     \t [-0.26487079  9.15024481]. \t  -167.52411668703698 \t -0.5791878792948744\n",
            "14     \t [9.99726945 4.43589418]. \t  -139.29971082016272 \t -0.5791878792948744\n",
            "15     \t [-9.42660777 -9.65110291]. \t  -275.1485087960274 \t -0.5791878792948744\n",
            "16     \t [ 2.58302215 -0.05389749]. \t  -6.677813318319144 \t -0.5791878792948744\n",
            "17     \t [-6.7959367   4.57659777]. \t  -88.07525003266045 \t -0.5791878792948744\n",
            "18     \t [-8.95219212  1.6420083 ]. \t  -85.53412630099992 \t -0.5791878792948744\n",
            "19     \t [ 6.56035391 -6.38927084]. \t  -124.68380710035767 \t -0.5791878792948744\n",
            "20     \t [-0.24312572  0.51047536]. \t  -0.580280301433086 \t -0.5791878792948744\n"
          ]
        }
      ]
    },
    {
      "cell_type": "code",
      "metadata": {
        "id": "vonm9jyuIv4t",
        "colab": {
          "base_uri": "https://localhost:8080/"
        },
        "outputId": "00868e59-226e-4bc9-dc40-bc1df18734f2"
      },
      "source": [
        "### EXACT GP EI GRADIENTS\n",
        "\n",
        "np.random.seed(run_num_9)\n",
        "surrogate_exact_9 = dGaussianProcess(cov_func, optimize=opt)\n",
        "\n",
        "exact_9 = dGPGO(surrogate_exact_9, Acquisition_new(util_grad_exact), objfunc, param)\n",
        "exact_9.run(init_evals=n_init, max_iter=iters)\n"
      ],
      "execution_count": 42,
      "outputs": [
        {
          "output_type": "stream",
          "name": "stdout",
          "text": [
            "Evaluation \t Proposed point \t  Current eval. \t Best eval.\n",
            "init   \t [-9.79251692  0.03749184]. \t  -95.896198949837 \t -53.418783741178075\n",
            "init   \t [-0.08453414 -7.32340942]. \t  -107.27179711012016 \t -53.418783741178075\n",
            "init   \t [-7.15777829 -5.62882649]. \t  -114.6011653140891 \t -53.418783741178075\n",
            "init   \t [-1.62983639 -5.03797663]. \t  -53.418783741178075 \t -53.418783741178075\n",
            "init   \t [-8.31880698 -3.0900272 ]. \t  -88.29908569649677 \t -53.418783741178075\n",
            "1      \t [6.0747954  9.66718496]. \t  -223.8120694300478 \t -53.418783741178075\n",
            "2      \t [-3.94738717  9.4159639 ]. \t  -192.90261763630335 \t -53.418783741178075\n",
            "3      \t [4.07561386 0.71776482]. \t  \u001b[92m-17.64100099927903\u001b[0m \t -17.64100099927903\n",
            "4      \t [ 8.66970884 -6.33785621]. \t  -155.50069423954056 \t -17.64100099927903\n",
            "5      \t [8.6681764  3.17288575]. \t  -95.27168996983099 \t -17.64100099927903\n",
            "6      \t [-9.43535893  5.95042309]. \t  -159.84106794164182 \t -17.64100099927903\n",
            "7      \t [-2.00413361  1.08900426]. \t  \u001b[92m-6.388412071319043\u001b[0m \t -6.388412071319043\n",
            "8      \t [ 4.3248926  -7.97817406]. \t  -146.00721875776497 \t -6.388412071319043\n",
            "9      \t [1.25508385 6.32649999]. \t  -81.62443982341959 \t -6.388412071319043\n",
            "10     \t [ 7.64997791 -2.40317387]. \t  -70.07265131869387 \t -6.388412071319043\n",
            "11     \t [-8.90691522 -9.87808716]. \t  -274.48635058402874 \t -6.388412071319043\n",
            "12     \t [-3.37333997  3.43539483]. \t  -34.98329778786761 \t -6.388412071319043\n",
            "13     \t [ 3.2271259  -3.18788784]. \t  -30.73959934964396 \t -6.388412071319043\n",
            "14     \t [9.94623424 6.11845911]. \t  -173.79865950513243 \t -6.388412071319043\n",
            "15     \t [-2.44227119 -1.30858381]. \t  -9.389471713622784 \t -6.388412071319043\n",
            "16     \t [ 0.31664437 -0.62410169]. \t  \u001b[92m-0.8792695030941409\u001b[0m \t -0.8792695030941409\n",
            "17     \t [-7.72029734  9.26889765]. \t  -231.42791830146987 \t -0.8792695030941409\n",
            "18     \t [0.82518461 9.67526413]. \t  -187.90240179546663 \t -0.8792695030941409\n",
            "19     \t [-3.27335574 -8.05979596]. \t  -140.63547954824503 \t -0.8792695030941409\n",
            "20     \t [-7.46755232  3.23795699]. \t  -76.73306851830748 \t -0.8792695030941409\n"
          ]
        }
      ]
    },
    {
      "cell_type": "code",
      "metadata": {
        "id": "6amuYlUdIv7r",
        "colab": {
          "base_uri": "https://localhost:8080/"
        },
        "outputId": "67a9b298-7197-4eee-d4a7-805e7bfb13c0"
      },
      "source": [
        "### EXACT GP EI GRADIENTS\n",
        "\n",
        "np.random.seed(run_num_10)\n",
        "surrogate_exact_10 = dGaussianProcess(cov_func, optimize=opt)\n",
        "\n",
        "exact_10 = dGPGO(surrogate_exact_10, Acquisition_new(util_grad_exact), objfunc, param)\n",
        "exact_10.run(init_evals=n_init, max_iter=iters)\n"
      ],
      "execution_count": 43,
      "outputs": [
        {
          "output_type": "stream",
          "name": "stdout",
          "text": [
            "Evaluation \t Proposed point \t  Current eval. \t Best eval.\n",
            "init   \t [ 5.42641287 -9.58496101]. \t  -213.18891181932327 \t -56.66743785259343\n",
            "init   \t [2.6729647  4.97607765]. \t  -56.66743785259343 \t -56.66743785259343\n",
            "init   \t [-0.02985975 -5.50406709]. \t  -60.59040065376497 \t -56.66743785259343\n",
            "init   \t [-6.0387427   5.21061424]. \t  -90.76741505398337 \t -56.66743785259343\n",
            "init   \t [-6.61778327 -8.23320372]. \t  -179.36634226756874 \t -56.66743785259343\n",
            "1      \t [ 7.13700605 -2.96694721]. \t  -68.54240685564316 \t -56.66743785259343\n",
            "2      \t [2.11155129 0.26933255]. \t  \u001b[92m-4.603728884330075\u001b[0m \t -4.603728884330075\n",
            "3      \t [-7.90760511 -1.20789524]. \t  -65.44824041188056 \t -4.603728884330075\n",
            "4      \t [-2.13161775  7.28958388]. \t  -110.81986040914546 \t -4.603728884330075\n",
            "5      \t [9.49624999 3.61148749]. \t  -116.26444759812676 \t -4.603728884330075\n",
            "6      \t [9.26715011 9.50785434]. \t  -266.67865967653205 \t -4.603728884330075\n",
            "7      \t [-7.99657225  2.28392467]. \t  -74.37779153049135 \t -4.603728884330075\n",
            "8      \t [-2.63316189  0.79077087]. \t  -8.184178685164659 \t -4.603728884330075\n",
            "9      \t [-0.409026   -9.40690118]. \t  -177.14688203915577 \t -4.603728884330075\n",
            "10     \t [6.2227528  0.71907068]. \t  -39.756777627511106 \t -4.603728884330075\n",
            "11     \t [-6.06716473  9.22601338]. \t  -207.04913375817884 \t -4.603728884330075\n",
            "12     \t [-3.69745428 -4.59549645]. \t  -55.908343413584625 \t -4.603728884330075\n",
            "13     \t [ 9.96155329 -6.86649249]. \t  -193.52998227112602 \t -4.603728884330075\n",
            "14     \t [-9.50121109  6.06148144]. \t  -163.7561268130679 \t -4.603728884330075\n",
            "15     \t [4.3646129  8.48463417]. \t  -163.02787984096565 \t -4.603728884330075\n",
            "16     \t [ 3.35782864 -4.76571899]. \t  -56.69916809790036 \t -4.603728884330075\n",
            "17     \t [7.92835026 6.13637116]. \t  -138.16883982741493 \t -4.603728884330075\n",
            "18     \t [-9.45993839 -5.4181737 ]. \t  -148.20364692493536 \t -4.603728884330075\n",
            "19     \t [-0.16759584  3.15097282]. \t  -19.88534778676289 \t -4.603728884330075\n",
            "20     \t [ 3.72990646 -2.86759522]. \t  -30.358406898760173 \t -4.603728884330075\n"
          ]
        }
      ]
    },
    {
      "cell_type": "code",
      "metadata": {
        "id": "VwbLIP9cIv-F",
        "colab": {
          "base_uri": "https://localhost:8080/"
        },
        "outputId": "8fe0552a-2db6-428f-f5ab-36ef1e693aad"
      },
      "source": [
        "### EXACT GP EI GRADIENTS\n",
        "\n",
        "np.random.seed(run_num_11)\n",
        "surrogate_exact_11 = dGaussianProcess(cov_func, optimize=opt)\n",
        "\n",
        "exact_11 = dGPGO(surrogate_exact_11, Acquisition_new(util_grad_exact), objfunc, param)\n",
        "exact_11.run(init_evals=n_init, max_iter=iters)\n"
      ],
      "execution_count": 44,
      "outputs": [
        {
          "output_type": "stream",
          "name": "stdout",
          "text": [
            "Evaluation \t Proposed point \t  Current eval. \t Best eval.\n",
            "init   \t [-6.39460622 -9.61049517]. \t  -225.61422357508457 \t -2.716881462565864\n",
            "init   \t [-0.73562947  4.49867858]. \t  -41.01736871863572 \t -2.716881462565864\n",
            "init   \t [-1.59592791 -0.29145804]. \t  -2.716881462565864 \t -2.716881462565864\n",
            "init   \t [-9.74438371 -0.25256785]. \t  -95.08059489374317 \t -2.716881462565864\n",
            "init   \t [8.83613305 7.01590179]. \t  -176.5230030066306 \t -2.716881462565864\n",
            "1      \t [ 1.99086793 -8.88652641]. \t  -161.90425830617428 \t -2.716881462565864\n",
            "2      \t [ 4.79903036 -1.6267314 ]. \t  -28.32320242923278 \t -2.716881462565864\n",
            "3      \t [-3.72641694  8.61531845]. \t  -162.33360715706152 \t -2.716881462565864\n",
            "4      \t [ 8.16895886 -5.52723039]. \t  -127.83244040039784 \t -2.716881462565864\n",
            "5      \t [-7.89611862  5.10567265]. \t  -114.48447569496835 \t -2.716881462565864\n",
            "6      \t [5.60568888 3.09856241]. \t  -50.62592590895312 \t -2.716881462565864\n",
            "7      \t [-5.60682432 -4.16517308]. \t  -66.13381257370017 \t -2.716881462565864\n",
            "8      \t [3.82437955 9.26757252]. \t  -186.40167975574778 \t -2.716881462565864\n",
            "9      \t [-9.55143107 -4.44369674]. \t  -130.72271690071568 \t -2.716881462565864\n",
            "10     \t [-6.00207905  0.08789346]. \t  -36.040403390906604 \t -2.716881462565864\n",
            "11     \t [ 0.41361756 -4.15385434]. \t  -34.68009119659495 \t -2.716881462565864\n",
            "12     \t [-9.50340749  8.51957772]. \t  -235.4811628496264 \t -2.716881462565864\n",
            "13     \t [ 9.86584116 -1.02673156]. \t  -99.44317717344933 \t -2.716881462565864\n",
            "14     \t [0.03064205 8.95268462]. \t  -160.30206284348483 \t -2.716881462565864\n",
            "15     \t [-1.03125599 -9.80503824]. \t  -193.34103854705484 \t -2.716881462565864\n",
            "16     \t [-9.80004456 -9.1735582 ]. \t  -264.3492135148448 \t -2.716881462565864\n",
            "17     \t [2.95855468 4.73410602]. \t  -53.576565484733834 \t -2.716881462565864\n",
            "18     \t [1.77275872 0.74150529]. \t  -4.242333669466525 \t -2.716881462565864\n",
            "19     \t [-2.80401763  1.8852795 ]. \t  -14.971072447053343 \t -2.716881462565864\n",
            "20     \t [ 4.85046805 -9.90279721]. \t  -219.6578253529903 \t -2.716881462565864\n"
          ]
        }
      ]
    },
    {
      "cell_type": "code",
      "metadata": {
        "id": "MlUNFjc-JTBY",
        "colab": {
          "base_uri": "https://localhost:8080/"
        },
        "outputId": "d1196515-b235-4241-90e5-dd686294e65b"
      },
      "source": [
        "### EXACT GP EI GRADIENTS\n",
        "\n",
        "np.random.seed(run_num_12)\n",
        "surrogate_exact_12 = dGaussianProcess(cov_func, optimize=opt)\n",
        "\n",
        "exact_12 = dGPGO(surrogate_exact_12, Acquisition_new(util_grad_exact), objfunc, param)\n",
        "exact_12.run(init_evals=n_init, max_iter=iters)\n"
      ],
      "execution_count": 45,
      "outputs": [
        {
          "output_type": "stream",
          "name": "stdout",
          "text": [
            "Evaluation \t Proposed point \t  Current eval. \t Best eval.\n",
            "init   \t [-6.91674315  4.80099393]. \t  -93.94042127407329 \t -23.318590147261595\n",
            "init   \t [-4.7336997   0.67478787]. \t  -23.318590147261595 \t -23.318590147261595\n",
            "init   \t [-9.70850075  8.37494016]. \t  -234.53423225249676 \t -23.318590147261595\n",
            "init   \t [ 8.01429708 -9.33157145]. \t  -238.38540908259807 \t -23.318590147261595\n",
            "init   \t [ 9.13898673 -7.25581357]. \t  -188.8147395776428 \t -23.318590147261595\n",
            "1      \t [4.66251955 4.05244711]. \t  -54.583743654491954 \t -23.318590147261595\n",
            "2      \t [-3.75432006 -8.6025265 ]. \t  -162.1018436659056 \t -23.318590147261595\n",
            "3      \t [ 0.87886819 -1.89091226]. \t  \u001b[92m-7.923507634979323\u001b[0m \t -7.923507634979323\n",
            "4      \t [0.62006076 8.91956245]. \t  -159.50166406148657 \t -7.923507634979323\n",
            "5      \t [ 8.15269188 -0.957369  ]. \t  -68.2994957298121 \t -7.923507634979323\n",
            "6      \t [9.82022544 8.00293105]. \t  -224.53063835529863 \t -7.923507634979323\n",
            "7      \t [-7.93825345 -3.77348046]. \t  -91.49417748227995 \t -7.923507634979323\n",
            "8      \t [0.15735452 1.98361295]. \t  \u001b[92m-7.894201081066678\u001b[0m \t -7.894201081066678\n",
            "9      \t [-8.08828326 -9.45001691]. \t  -244.02596515585694 \t -7.894201081066678\n",
            "10     \t [ 2.27399664 -7.1956283 ]. \t  -108.72519403398448 \t -7.894201081066678\n",
            "11     \t [-1.62008991 -4.72992407]. \t  -47.36905467004603 \t -7.894201081066678\n",
            "12     \t [9.66740738 3.43765485]. \t  -117.09370725606703 \t -7.894201081066678\n",
            "13     \t [ 4.87921408 -2.74861825]. \t  -38.91653459254508 \t -7.894201081066678\n",
            "14     \t [-3.70052717  9.95424593]. \t  -211.86792522512212 \t -7.894201081066678\n",
            "15     \t [-8.88472448  1.47508679]. \t  -83.29009119333442 \t -7.894201081066678\n",
            "16     \t [4.20923579 8.31123577]. \t  -155.87094596359648 \t -7.894201081066678\n",
            "17     \t [4.04316037 0.76898133]. \t  -17.529810341292354 \t -7.894201081066678\n",
            "18     \t [-0.9470914   4.74992189]. \t  -46.020497963768 \t -7.894201081066678\n",
            "19     \t [-5.18168368 -1.90808392]. \t  -34.13141428836329 \t -7.894201081066678\n",
            "20     \t [-2.13398673 -0.53373012]. \t  \u001b[92m-5.123635043006703\u001b[0m \t -5.123635043006703\n"
          ]
        }
      ]
    },
    {
      "cell_type": "code",
      "metadata": {
        "id": "9BsKdU9eJTFL",
        "colab": {
          "base_uri": "https://localhost:8080/"
        },
        "outputId": "002bc598-82d2-41ae-dbd1-aa4569e33e17"
      },
      "source": [
        "### EXACT GP EI GRADIENTS\n",
        "\n",
        "np.random.seed(run_num_13)\n",
        "surrogate_exact_13 = dGaussianProcess(cov_func, optimize=opt)\n",
        "\n",
        "exact_13 = dGPGO(surrogate_exact_13, Acquisition_new(util_grad_exact), objfunc, param)\n",
        "exact_13.run(init_evals=n_init, max_iter=iters)\n"
      ],
      "execution_count": 46,
      "outputs": [
        {
          "output_type": "stream",
          "name": "stdout",
          "text": [
            "Evaluation \t Proposed point \t  Current eval. \t Best eval.\n",
            "init   \t [ 5.55404821 -5.2491756 ]. \t  -85.95514048001408 \t -47.45541115581226\n",
            "init   \t [6.48557065 9.31498396]. \t  -215.600479080162 \t -47.45541115581226\n",
            "init   \t [ 9.45202228 -0.93101505]. \t  -91.0743031984701 \t -47.45541115581226\n",
            "init   \t [2.18084926 5.51053029]. \t  -65.48799167425372 \t -47.45541115581226\n",
            "init   \t [2.8322669  4.44036459]. \t  -47.45541115581226 \t -47.45541115581226\n",
            "1      \t [-8.69830926  2.59657998]. \t  -89.14503917528086 \t -47.45541115581226\n",
            "2      \t [-5.9673185  -6.48540274]. \t  -119.72978734259729 \t -47.45541115581226\n",
            "3      \t [ 1.27140344 -9.80309118]. \t  -193.81766022446593 \t -47.45541115581226\n",
            "4      \t [-5.68974606  9.11900061]. \t  -198.68555458020188 \t -47.45541115581226\n",
            "5      \t [ 8.96145903 -9.13846744]. \t  -247.3309222267213 \t -47.45541115581226\n",
            "6      \t [-2.801531    1.39944676]. \t  \u001b[92m-11.76547841476793\u001b[0m \t -11.76547841476793\n",
            "7      \t [ 0.99085197 -0.39051585]. \t  \u001b[92m-1.2867928872361771\u001b[0m \t -1.2867928872361771\n",
            "8      \t [9.48855794 5.16434467]. \t  -143.3736434786515 \t -1.2867928872361771\n",
            "9      \t [3.19599782 0.81858307]. \t  -11.554558529917282 \t -1.2867928872361771\n",
            "10     \t [-2.05335436  5.09015781]. \t  -56.035677221423434 \t -1.2867928872361771\n",
            "11     \t [-5.79831215 -1.48726988]. \t  -38.04436717129981 \t -1.2867928872361771\n",
            "12     \t [-0.57447497 -5.76806922]. \t  -66.87126646054726 \t -1.2867928872361771\n",
            "13     \t [-9.19760304 -9.36292279]. \t  -259.92454812502956 \t -1.2867928872361771\n",
            "14     \t [-5.72547782  4.87653747]. \t  -80.34233172586863 \t -1.2867928872361771\n",
            "15     \t [-0.02204965  9.11797101]. \t  -166.27527687813804 \t -1.2867928872361771\n",
            "16     \t [-8.44313715 -3.72631665]. \t  -99.0574365395172 \t -1.2867928872361771\n",
            "17     \t [-9.60316096  9.02363051]. \t  -255.07251573487554 \t -1.2867928872361771\n",
            "18     \t [0.4358443  1.77047244]. \t  -6.4591055874175725 \t -1.2867928872361771\n",
            "19     \t [-1.13552404  2.75068903]. \t  -16.421995164464672 \t -1.2867928872361771\n",
            "20     \t [ 2.37956109 -2.71217718]. \t  -20.37412104444241 \t -1.2867928872361771\n"
          ]
        }
      ]
    },
    {
      "cell_type": "code",
      "metadata": {
        "id": "k6GjFBr1JTJf",
        "colab": {
          "base_uri": "https://localhost:8080/"
        },
        "outputId": "2586b09c-a52e-4578-86bb-4cf117059e0f"
      },
      "source": [
        "### EXACT GP EI GRADIENTS\n",
        "\n",
        "np.random.seed(run_num_14)\n",
        "surrogate_exact_14 = dGaussianProcess(cov_func, optimize=opt)\n",
        "\n",
        "exact_14 = dGPGO(surrogate_exact_14, Acquisition_new(util_grad_exact), objfunc, param)\n",
        "exact_14.run(init_evals=n_init, max_iter=iters)\n"
      ],
      "execution_count": 47,
      "outputs": [
        {
          "output_type": "stream",
          "name": "stdout",
          "text": [
            "Evaluation \t Proposed point \t  Current eval. \t Best eval.\n",
            "init   \t [0.27886688 5.46330104]. \t  -59.77308327621332 \t -26.48525945153859\n",
            "init   \t [ 7.40855371 -9.83906103]. \t  -248.5009120212351 \t -26.48525945153859\n",
            "init   \t [-3.80528149  9.15207479]. \t  -182.0011130426615 \t -26.48525945153859\n",
            "init   \t [ 0.26233425 -3.6343115 ]. \t  -26.48525945153859 \t -26.48525945153859\n",
            "init   \t [ 0.78399875 -5.57490115]. \t  -62.773699734431055 \t -26.48525945153859\n",
            "1      \t [ 9.82765998 -0.95725402]. \t  -98.41557117870066 \t -26.48525945153859\n",
            "2      \t [-8.1477833   0.47898709]. \t  -66.84523003287876 \t -26.48525945153859\n",
            "3      \t [8.67962677 6.0907395 ]. \t  -149.53013618236548 \t -26.48525945153859\n",
            "4      \t [-9.25408911 -6.01411438]. \t  -157.97730888889856 \t -26.48525945153859\n",
            "5      \t [-4.2804441  -2.64190382]. \t  -32.28151325535229 \t -26.48525945153859\n",
            "6      \t [5.49339985 2.95797879]. \t  -47.67671901585399 \t -26.48525945153859\n",
            "7      \t [2.98098342 9.69567172]. \t  -196.89836245967504 \t -26.48525945153859\n",
            "8      \t [-9.64177644  6.15475675]. \t  -168.7259141575829 \t -26.48525945153859\n",
            "9      \t [-4.45509465  4.63990906]. \t  -62.9053805503491 \t -26.48525945153859\n",
            "10     \t [ 3.6503187  -8.32266001]. \t  -151.8581660075476 \t -26.48525945153859\n",
            "11     \t [ 6.11361614 -3.42467651]. \t  -60.83312069552295 \t -26.48525945153859\n",
            "12     \t [-3.38677138 -9.49860852]. \t  -191.91734809535595 \t -26.48525945153859\n",
            "13     \t [-1.0080326   2.67384242]. \t  \u001b[92m-15.314996295124626\u001b[0m \t -15.314996295124626\n",
            "14     \t [ 1.20310413 -0.65621166]. \t  \u001b[92m-2.3086870482278594\u001b[0m \t -2.3086870482278594\n",
            "15     \t [-1.83277564 -0.5206765 ]. \t  -3.9012745975738294 \t -2.3086870482278594\n",
            "16     \t [-5.07983995 -6.15131521]. \t  -101.48213161287202 \t -2.3086870482278594\n",
            "17     \t [7.47842852 9.96695579]. \t  -254.6073086923589 \t -2.3086870482278594\n",
            "18     \t [ 3.64952003 -1.61705051]. \t  -18.548701199652736 \t -2.3086870482278594\n",
            "19     \t [2.56563294 0.35909539]. \t  -6.8403713987447325 \t -2.3086870482278594\n",
            "20     \t [ 9.78102289 -7.40518942]. \t  -205.34206930595187 \t -2.3086870482278594\n"
          ]
        }
      ]
    },
    {
      "cell_type": "code",
      "metadata": {
        "id": "dPS8WB3aJTN6",
        "colab": {
          "base_uri": "https://localhost:8080/"
        },
        "outputId": "6cd81637-42f3-4890-8f36-66bcd456f297"
      },
      "source": [
        "### EXACT GP EI GRADIENTS\n",
        "\n",
        "np.random.seed(run_num_15)\n",
        "surrogate_exact_15 = dGaussianProcess(cov_func, optimize=opt)\n",
        "\n",
        "exact_15 = dGPGO(surrogate_exact_15, Acquisition_new(util_grad_exact), objfunc, param)\n",
        "exact_15.run(init_evals=n_init, max_iter=iters)\n"
      ],
      "execution_count": 48,
      "outputs": [
        {
          "output_type": "stream",
          "name": "stdout",
          "text": [
            "Evaluation \t Proposed point \t  Current eval. \t Best eval.\n",
            "init   \t [ 6.97635395 -6.4220815 ]. \t  -131.15577599697437 \t -20.897907943365695\n",
            "init   \t [-8.91273571 -2.76923108]. \t  -94.77413943464936 \t -20.897907943365695\n",
            "init   \t [-4.49198143  0.6000045 ]. \t  -20.897907943365695 \t -20.897907943365695\n",
            "init   \t [-3.88162169 -3.91051282]. \t  -45.651207890195394 \t -20.897907943365695\n",
            "init   \t [-7.76517448 -5.00201972]. \t  -110.33833725681367 \t -20.897907943365695\n",
            "1      \t [-1.08003705  9.49213271]. \t  -181.3676469637466 \t -20.897907943365695\n",
            "2      \t [-9.69991687  7.99454818]. \t  -221.91398842692476 \t -20.897907943365695\n",
            "3      \t [6.77579855 5.22553342]. \t  -100.52384513514872 \t -20.897907943365695\n",
            "4      \t [ 2.46902528 -0.89638552]. \t  \u001b[92m-7.7030998277605995\u001b[0m \t -7.7030998277605995\n",
            "5      \t [ 7.82867083 -0.52245304]. \t  -61.834001321581795 \t -7.7030998277605995\n",
            "6      \t [-0.62952455 -9.52479128]. \t  -181.8395990317211 \t -7.7030998277605995\n",
            "7      \t [0.52119131 2.6900646 ]. \t  -14.744535436510033 \t -7.7030998277605995\n",
            "8      \t [-9.71764894  2.57217567]. \t  -107.6648763592696 \t -7.7030998277605995\n",
            "9      \t [ 1.83890022 -5.60380052]. \t  -66.18671460992596 \t -7.7030998277605995\n",
            "10     \t [-9.60387703 -9.32293593]. \t  -266.0687226329609 \t -7.7030998277605995\n",
            "11     \t [-4.93832342  5.48576716]. \t  -84.5743208335424 \t -7.7030998277605995\n",
            "12     \t [-0.61888987 -2.63571983]. \t  -14.277062768357775 \t -7.7030998277605995\n",
            "13     \t [9.9340288  7.91199838]. \t  -223.88436501348576 \t -7.7030998277605995\n",
            "14     \t [-5.2544118   9.53943762]. \t  -209.61058353409402 \t -7.7030998277605995\n",
            "15     \t [5.04067968 9.03266882]. \t  -188.58666372537928 \t -7.7030998277605995\n",
            "16     \t [3.94832648 2.51115039]. \t  -28.201034551114425 \t -7.7030998277605995\n",
            "17     \t [-4.276148   -9.63125317]. \t  -203.8075168900647 \t -7.7030998277605995\n",
            "18     \t [ 3.68878043 -9.44677318]. \t  -192.09014820546432 \t -7.7030998277605995\n",
            "19     \t [9.16023326 1.89918252]. \t  -91.12366187914164 \t -7.7030998277605995\n",
            "20     \t [-0.58780772 -0.26312839]. \t  \u001b[92m-0.4839910159954736\u001b[0m \t -0.4839910159954736\n"
          ]
        }
      ]
    },
    {
      "cell_type": "code",
      "metadata": {
        "id": "SHWdp2giJTRm",
        "colab": {
          "base_uri": "https://localhost:8080/"
        },
        "outputId": "75ca98a2-7c40-4ea6-9a61-cb14b908811f"
      },
      "source": [
        "### EXACT GP EI GRADIENTS\n",
        "\n",
        "np.random.seed(run_num_16)\n",
        "surrogate_exact_16 = dGaussianProcess(cov_func, optimize=opt)\n",
        "\n",
        "exact_16 = dGPGO(surrogate_exact_16, Acquisition_new(util_grad_exact), objfunc, param)\n",
        "exact_16.run(init_evals=n_init, max_iter=iters)\n"
      ],
      "execution_count": 49,
      "outputs": [
        {
          "output_type": "stream",
          "name": "stdout",
          "text": [
            "Evaluation \t Proposed point \t  Current eval. \t Best eval.\n",
            "init   \t [-5.53417842  0.46326683]. \t  -31.056363058280656 \t -31.056363058280656\n",
            "init   \t [ 1.01402913 -9.087961  ]. \t  -166.21032525826828 \t -31.056363058280656\n",
            "init   \t [-2.78542329 -5.53838117]. \t  -69.10591480510183 \t -31.056363058280656\n",
            "init   \t [ 3.77452324 -6.7253715 ]. \t  -104.70826928786903 \t -31.056363058280656\n",
            "init   \t [-8.59350266  8.8202172 ]. \t  -229.44075111810224 \t -31.056363058280656\n",
            "1      \t [4.18505664 9.44091052]. \t  -195.7762819329394 \t -31.056363058280656\n",
            "2      \t [9.22704387 3.02362854]. \t  -103.4229976843265 \t -31.056363058280656\n",
            "3      \t [ 2.52801252 -0.08752176]. \t  \u001b[92m-6.406167436310099\u001b[0m \t -6.406167436310099\n",
            "4      \t [-9.70734262 -5.57457736]. \t  -156.3843262924271 \t -6.406167436310099\n",
            "5      \t [-2.22531694  5.42968011]. \t  -63.91488757640133 \t -6.406167436310099\n",
            "6      \t [ 9.30199512 -7.37818674]. \t  -195.40239217509202 \t -6.406167436310099\n",
            "7      \t [ 7.48496915 -1.63745599]. \t  -61.387287412916635 \t -6.406167436310099\n",
            "8      \t [-1.12986888 -0.21958228]. \t  \u001b[92m-1.3730364416870877\u001b[0m \t -1.3730364416870877\n",
            "9      \t [ 2.20737955 -3.40441603]. \t  -28.05262149647207 \t -1.3730364416870877\n",
            "10     \t [-9.90312487 -0.81456781]. \t  -99.39892359961127 \t -1.3730364416870877\n",
            "11     \t [-5.75506892 -9.94958799]. \t  -231.10942052342034 \t -1.3730364416870877\n",
            "12     \t [-8.20297636  4.43542074]. \t  -106.6347354908145 \t -1.3730364416870877\n",
            "13     \t [4.91564748 1.47505245]. \t  -28.51514963409352 \t -1.3730364416870877\n",
            "14     \t [-1.59321032  9.84617866]. \t  -196.4327876466691 \t -1.3730364416870877\n",
            "15     \t [0.91923641 3.68882977]. \t  -28.059925704405526 \t -1.3730364416870877\n",
            "16     \t [8.52213108 7.83661927]. \t  -195.45192121101155 \t -1.3730364416870877\n",
            "17     \t [-1.71625384 -1.21596819]. \t  -5.90268453175503 \t -1.3730364416870877\n",
            "18     \t [-5.20707387  9.09339841]. \t  -192.49340756525703 \t -1.3730364416870877\n",
            "19     \t [-1.2401766   0.86291236]. \t  -3.0272734589124566 \t -1.3730364416870877\n",
            "20     \t [-7.24447087 -3.35426366]. \t  -74.98452752738133 \t -1.3730364416870877\n"
          ]
        }
      ]
    },
    {
      "cell_type": "code",
      "metadata": {
        "id": "yU2SflSsJTUs",
        "colab": {
          "base_uri": "https://localhost:8080/"
        },
        "outputId": "6090b37d-88a8-4ada-d7db-f5ec2d24e00d"
      },
      "source": [
        "### EXACT GP EI GRADIENTS\n",
        "\n",
        "np.random.seed(run_num_17)\n",
        "surrogate_exact_17 = dGaussianProcess(cov_func, optimize=opt)\n",
        "\n",
        "exact_17 = dGPGO(surrogate_exact_17, Acquisition_new(util_grad_exact), objfunc, param)\n",
        "exact_17.run(init_evals=n_init, max_iter=iters)\n"
      ],
      "execution_count": 50,
      "outputs": [
        {
          "output_type": "stream",
          "name": "stdout",
          "text": [
            "Evaluation \t Proposed point \t  Current eval. \t Best eval.\n",
            "init   \t [-4.10669995  0.61173511]. \t  -17.613424143360255 \t -12.137436774523842\n",
            "init   \t [-6.16958426 -8.64199284]. \t  -187.43185031516856 \t -12.137436774523842\n",
            "init   \t [5.7397092  3.12667044]. \t  -52.49639772521824 \t -12.137436774523842\n",
            "init   \t [2.75041792 1.51205788]. \t  -12.137436774523842 \t -12.137436774523842\n",
            "init   \t [-9.21874168 -2.84372791]. \t  -101.1587749488933 \t -12.137436774523842\n",
            "1      \t [-8.64042543  9.21575513]. \t  -244.5172369008349 \t -12.137436774523842\n",
            "2      \t [ 4.54825031 -8.71744454]. \t  -172.6742595800706 \t -12.137436774523842\n",
            "3      \t [9.12376544 9.73620918]. \t  -272.83063435528607 \t -12.137436774523842\n",
            "4      \t [-0.05385845  7.96254756]. \t  -126.80722802594437 \t -12.137436774523842\n",
            "5      \t [ 9.06636127 -2.74323799]. \t  -97.24961590065784 \t -12.137436774523842\n",
            "6      \t [-0.41834394 -2.82043169]. \t  -16.084681468916504 \t -12.137436774523842\n",
            "7      \t [-0.52470149 -8.51765228]. \t  -145.37611236838197 \t -12.137436774523842\n",
            "8      \t [-3.75807118  5.3903795 ]. \t  -72.23548126277709 \t -12.137436774523842\n",
            "9      \t [ 9.72653374 -8.86896618]. \t  -251.92258082795712 \t -12.137436774523842\n",
            "10     \t [-7.94968123  1.49755339]. \t  -67.68276396449295 \t -12.137436774523842\n",
            "11     \t [-9.95337003 -9.22563734]. \t  -269.294343785757 \t -12.137436774523842\n",
            "12     \t [4.90212584 6.3243788 ]. \t  -104.02637212992964 \t -12.137436774523842\n",
            "13     \t [0.20089444 3.86892356]. \t  -29.97749760172083 \t -12.137436774523842\n",
            "14     \t [ 4.36125716 -3.84746549]. \t  -48.62654538660094 \t -12.137436774523842\n",
            "15     \t [-3.54392027 -5.15018922]. \t  -65.60826898124867 \t -12.137436774523842\n",
            "16     \t [0.06509758 0.14186193]. \t  \u001b[92m-0.04448730714506635\u001b[0m \t -0.04448730714506635\n",
            "17     \t [ 5.51120899 -0.41001411]. \t  -30.709647692601845 \t -0.04448730714506635\n",
            "18     \t [-2.94547841  9.93600832]. \t  -206.1243658929397 \t -0.04448730714506635\n",
            "19     \t [9.17018127 0.91818832]. \t  -85.77836412761846 \t -0.04448730714506635\n",
            "20     \t [4.02731663 9.907203  ]. \t  -212.52462187885865 \t -0.04448730714506635\n"
          ]
        }
      ]
    },
    {
      "cell_type": "code",
      "metadata": {
        "id": "es0KCh_0JTgY",
        "colab": {
          "base_uri": "https://localhost:8080/"
        },
        "outputId": "fe2236c2-1813-4935-a5bc-1f3c2eb63e5a"
      },
      "source": [
        "### EXACT GP EI GRADIENTS\n",
        "\n",
        "np.random.seed(run_num_18)\n",
        "surrogate_exact_18 = dGaussianProcess(cov_func, optimize=opt)\n",
        "\n",
        "exact_18 = dGPGO(surrogate_exact_18, Acquisition_new(util_grad_exact), objfunc, param)\n",
        "exact_18.run(init_evals=n_init, max_iter=iters)\n"
      ],
      "execution_count": 51,
      "outputs": [
        {
          "output_type": "stream",
          "name": "stdout",
          "text": [
            "Evaluation \t Proposed point \t  Current eval. \t Best eval.\n",
            "init   \t [3.00748483 0.10906747]. \t  -9.068756459576363 \t -9.068756459576363\n",
            "init   \t [ 7.57202942 -6.36319549]. \t  -138.3161432668939 \t -9.068756459576363\n",
            "init   \t [7.04466137 5.00272572]. \t  -99.6817831686958 \t -9.068756459576363\n",
            "init   \t [3.32203335 9.75790897]. \t  -201.4694803352836 \t -9.068756459576363\n",
            "init   \t [-4.86063155 -9.43388149]. \t  -201.6219791510955 \t -9.068756459576363\n",
            "1      \t [-6.1664519   4.28513481]. \t  -74.74988979878172 \t -9.068756459576363\n",
            "2      \t [-6.07110106 -2.27098711]. \t  -47.173032968123124 \t -9.068756459576363\n",
            "3      \t [-9.84572665 -7.72302303]. \t  -216.22850278173115 \t -9.068756459576363\n",
            "4      \t [-2.33775535  8.28880862]. \t  -142.8737966101193 \t -9.068756459576363\n",
            "5      \t [ 4.59940623 -9.59713586]. \t  -205.36457092968183 \t -9.068756459576363\n",
            "6      \t [-0.88289138 -3.88087663]. \t  -30.901904052010547 \t -9.068756459576363\n",
            "7      \t [9.83729493 9.19493246]. \t  -265.865937487809 \t -9.068756459576363\n",
            "8      \t [ 0.28614993 -9.26399809]. \t  -171.7252030638556 \t -9.068756459576363\n",
            "9      \t [1.8587858 3.7278703]. \t  -31.249118660342134 \t -9.068756459576363\n",
            "10     \t [-9.69289674  8.4893621 ]. \t  -238.0907849162934 \t -9.068756459576363\n",
            "11     \t [-1.82012595  2.48640284]. \t  -15.677256629734183 \t -9.068756459576363\n",
            "12     \t [ 8.70884006 -1.42690662]. \t  -79.91602012839635 \t -9.068756459576363\n",
            "13     \t [ 5.53036004 -2.99095655]. \t  -48.476524357122976 \t -9.068756459576363\n",
            "14     \t [-5.42854259 -5.3114165 ]. \t  -85.89136523960393 \t -9.068756459576363\n",
            "15     \t [-5.99047409  9.73183458]. \t  -225.30298859781234 \t -9.068756459576363\n",
            "16     \t [-2.50941091 -1.04892457]. \t  \u001b[92m-8.497628598320361\u001b[0m \t -8.497628598320361\n",
            "17     \t [-9.27507469  2.26288858]. \t  -96.2683399964515 \t -8.497628598320361\n",
            "18     \t [-8.71871137 -1.07508755]. \t  -78.32755444236265 \t -8.497628598320361\n",
            "19     \t [ 1.7493735  -2.84456014]. \t  -19.243352439637064 \t -8.497628598320361\n",
            "20     \t [9.63452266 1.55836329]. \t  -97.68101912178952 \t -8.497628598320361\n"
          ]
        }
      ]
    },
    {
      "cell_type": "code",
      "metadata": {
        "id": "Pput2LHPIwBM",
        "colab": {
          "base_uri": "https://localhost:8080/"
        },
        "outputId": "1a203d82-5010-489a-d260-18f39b563b7a"
      },
      "source": [
        "### EXACT GP EI GRADIENTS\n",
        "\n",
        "np.random.seed(run_num_19)\n",
        "surrogate_exact_19 = dGaussianProcess(cov_func, optimize=opt)\n",
        "\n",
        "exact_19 = dGPGO(surrogate_exact_19, Acquisition_new(util_grad_exact), objfunc, param)\n",
        "exact_19.run(init_evals=n_init, max_iter=iters)\n"
      ],
      "execution_count": 52,
      "outputs": [
        {
          "output_type": "stream",
          "name": "stdout",
          "text": [
            "Evaluation \t Proposed point \t  Current eval. \t Best eval.\n",
            "init   \t [-8.04932797  5.22499433]. \t  -119.39281225846176 \t -87.03025225125222\n",
            "init   \t [-5.06124054 -7.23736625]. \t  -130.3750962570555 \t -87.03025225125222\n",
            "init   \t [-3.37106873 -8.3400087 ]. \t  -150.4755946408245 \t -87.03025225125222\n",
            "init   \t [3.43954163 6.13187596]. \t  -87.03025225125222 \t -87.03025225125222\n",
            "init   \t [9.65483829 2.7132147 ]. \t  -107.93897039562282 \t -87.03025225125222\n",
            "1      \t [ 9.42739537 -7.28680447]. \t  -195.07082209920037 \t -87.03025225125222\n",
            "2      \t [9.66871562 9.18398599]. \t  -262.1752591189437 \t -87.03025225125222\n",
            "3      \t [ 1.19601233 -3.03912179]. \t  \u001b[92m-19.902968034583196\u001b[0m \t -19.902968034583196\n",
            "4      \t [-9.64931371 -1.76781368]. \t  -99.35958538505903 \t -19.902968034583196\n",
            "5      \t [-2.69333527  7.93798122]. \t  -133.2771466359215 \t -19.902968034583196\n",
            "6      \t [ 3.45305191 -7.61645865]. \t  -127.94445217816389 \t -19.902968034583196\n",
            "7      \t [ 6.31893279 -4.04730789]. \t  -72.69031404458136 \t -19.902968034583196\n",
            "8      \t [-3.94883425 -2.10939222]. \t  -24.49236300218515 \t -19.902968034583196\n",
            "9      \t [-1.85685097  2.07355757]. \t  \u001b[92m-12.047177485071527\u001b[0m \t -12.047177485071527\n",
            "10     \t [0.8121262  9.49458344]. \t  -180.95377839575468 \t -12.047177485071527\n",
            "11     \t [-4.98595301  2.84726686]. \t  -41.07358462522528 \t -12.047177485071527\n",
            "12     \t [5.197834   1.18636114]. \t  -29.832383791878975 \t -12.047177485071527\n",
            "13     \t [5.79348131 8.62920245]. \t  -182.49069550395697 \t -12.047177485071527\n",
            "14     \t [ 9.87672343 -3.36525412]. \t  -120.19953624297236 \t -12.047177485071527\n",
            "15     \t [-9.87315104  2.37608687]. \t  -108.77068909533577 \t -12.047177485071527\n",
            "16     \t [-0.18506713  4.66969615]. \t  -43.6463740528765 \t -12.047177485071527\n",
            "17     \t [-9.41417038 -7.44798336]. \t  -199.57151610053165 \t -12.047177485071527\n",
            "18     \t [ 6.65027144 -0.73420737]. \t  -45.30423119095697 \t -12.047177485071527\n",
            "19     \t [0.40177081 0.15796665]. \t  \u001b[92m-0.21132670469736287\u001b[0m \t -0.21132670469736287\n",
            "20     \t [-2.98206611 -4.71363675]. \t  -53.32946107654802 \t -0.21132670469736287\n"
          ]
        }
      ]
    },
    {
      "cell_type": "code",
      "metadata": {
        "id": "aw3xvSryIwDi",
        "colab": {
          "base_uri": "https://localhost:8080/"
        },
        "outputId": "090ac2d0-241a-42da-ad0c-9b55f6207f6c"
      },
      "source": [
        "### EXACT GP EI GRADIENTS\n",
        "\n",
        "np.random.seed(run_num_20)\n",
        "surrogate_exact_20 = dGaussianProcess(cov_func, optimize=opt)\n",
        "\n",
        "exact_20 = dGPGO(surrogate_exact_20, Acquisition_new(util_grad_exact), objfunc, param)\n",
        "exact_20.run(init_evals=n_init, max_iter=iters)\n"
      ],
      "execution_count": 53,
      "outputs": [
        {
          "output_type": "stream",
          "name": "stdout",
          "text": [
            "Evaluation \t Proposed point \t  Current eval. \t Best eval.\n",
            "init   \t [1.76261602 7.95427456]. \t  -129.64778273349407 \t -6.161449614183514\n",
            "init   \t [7.83061459 6.31674955]. \t  -141.12117450686426 \t -6.161449614183514\n",
            "init   \t [-9.28220829  3.83515164]. \t  -115.57616682517047 \t -6.161449614183514\n",
            "init   \t [-2.42638116  0.37021891]. \t  -6.161449614183514 \t -6.161449614183514\n",
            "init   \t [ 3.15902931 -6.12299564]. \t  -84.96161746112533 \t -6.161449614183514\n",
            "1      \t [ 6.78995846 -0.77921207]. \t  -47.31787877809484 \t -6.161449614183514\n",
            "2      \t [-7.8478547 -7.6599646]. \t  -178.938938646232 \t -6.161449614183514\n",
            "3      \t [-4.56172279  9.14761084]. \t  -188.16688311626407 \t -6.161449614183514\n",
            "4      \t [ 9.03563127 -5.57761678]. \t  -143.86225043765864 \t -6.161449614183514\n",
            "5      \t [-2.54801265 -5.8622936 ]. \t  -75.22534100848651 \t -6.161449614183514\n",
            "6      \t [ 5.33403222 -9.91203622]. \t  -224.94882364133449 \t -6.161449614183514\n",
            "7      \t [-7.81286775 -2.54055851]. \t  -73.9497774635544 \t -6.161449614183514\n",
            "8      \t [2.41138125 3.04677452]. \t  -24.38042949661385 \t -6.161449614183514\n",
            "9      \t [ 1.74084483 -9.43535169]. \t  -181.08226380083684 \t -6.161449614183514\n",
            "10     \t [8.8594223  2.48466334]. \t  -90.83646737334507 \t -6.161449614183514\n",
            "11     \t [ 9.98664637 -9.53306218]. \t  -281.49165498883553 \t -6.161449614183514\n",
            "12     \t [-8.71040802  9.30561948]. \t  -249.06031562415137 \t -6.161449614183514\n",
            "13     \t [-2.40031784  5.51172137]. \t  -66.51967071428366 \t -6.161449614183514\n",
            "14     \t [-5.66507992  4.85978474]. \t  -79.32814586916282 \t -6.161449614183514\n",
            "15     \t [ 0.24252532 -2.35000771]. \t  -11.103890973847577 \t -6.161449614183514\n",
            "16     \t [-5.09620423  0.51102349]. \t  -26.493587606457574 \t -6.161449614183514\n",
            "17     \t [-1.23639016  2.09274772]. \t  -10.287846706342622 \t -6.161449614183514\n",
            "18     \t [ 5.120746   -4.01627143]. \t  -58.482912091825135 \t -6.161449614183514\n",
            "19     \t [-3.27006462 -2.20824142]. \t  -20.44598291547868 \t -6.161449614183514\n",
            "20     \t [-3.06638444 -8.89602037]. \t  -167.68107023721404 \t -6.161449614183514\n"
          ]
        }
      ]
    },
    {
      "cell_type": "code",
      "metadata": {
        "id": "qNqAB3vBTPqb",
        "colab": {
          "base_uri": "https://localhost:8080/"
        },
        "outputId": "9d176f73-9136-4da7-a2f8-b997fb025f00"
      },
      "source": [
        "end_exact = time.time()\n",
        "end_exact\n",
        "\n",
        "time_exact = end_exact - start_exact\n",
        "time_exact"
      ],
      "execution_count": 54,
      "outputs": [
        {
          "output_type": "execute_result",
          "data": {
            "text/plain": [
              "52.032365798950195"
            ]
          },
          "metadata": {},
          "execution_count": 54
        }
      ]
    },
    {
      "cell_type": "code",
      "metadata": {
        "id": "JPQzjdBZQxfg",
        "colab": {
          "base_uri": "https://localhost:8080/"
        },
        "outputId": "d020007c-7697-48d8-8c54-760361e17012"
      },
      "source": [
        "### Simple regret minimization: run number = 1\n",
        "\n",
        "approx_output_1 = np.append(np.min(approx_1.GP.y[0:n_init]),approx_1.GP.y[n_init:(n_init+iters)]) \n",
        "exact_output_1 = np.append(np.min(exact_1.GP.y[0:n_init]),exact_1.GP.y[n_init:(n_init+iters)]) \n",
        "\n",
        "regret_approx_1 = np.log(-approx_output_1 + y_global_orig)\n",
        "regret_exact_1 = np.log(-exact_output_1 + y_global_orig)\n",
        "\n",
        "simple_regret_approx_1 = min_max_array(regret_approx_1)\n",
        "simple_regret_exact_1 = min_max_array(regret_exact_1)\n",
        "\n",
        "min_simple_regret_approx_1 = min(simple_regret_approx_1)\n",
        "min_simple_regret_exact_1 = min(simple_regret_exact_1)\n",
        "\n",
        "min_simple_regret_approx_1, min_simple_regret_exact_1"
      ],
      "execution_count": 55,
      "outputs": [
        {
          "output_type": "execute_result",
          "data": {
            "text/plain": [
              "(1.465305856066672, -0.11049491419211159)"
            ]
          },
          "metadata": {},
          "execution_count": 55
        }
      ]
    },
    {
      "cell_type": "code",
      "metadata": {
        "id": "94yBw5tqQxfk",
        "colab": {
          "base_uri": "https://localhost:8080/"
        },
        "outputId": "ba38800c-dc36-4415-8e15-b64cb490f576"
      },
      "source": [
        "### Simple regret minimization: run number = 2\n",
        "\n",
        "approx_output_2 = np.append(np.min(approx_2.GP.y[0:n_init]),approx_2.GP.y[n_init:(n_init+iters)]) \n",
        "exact_output_2 = np.append(np.min(exact_2.GP.y[0:n_init]),exact_2.GP.y[n_init:(n_init+iters)]) \n",
        "\n",
        "regret_approx_2 = np.log(-approx_output_2 + y_global_orig)\n",
        "regret_exact_2 = np.log(-exact_output_2 + y_global_orig)\n",
        "\n",
        "simple_regret_approx_2 = min_max_array(regret_approx_2)\n",
        "simple_regret_exact_2 = min_max_array(regret_exact_2)\n",
        "\n",
        "min_simple_regret_approx_2 = min(simple_regret_approx_2)\n",
        "min_simple_regret_exact_2 = min(simple_regret_exact_2)\n",
        "\n",
        "min_simple_regret_approx_2, min_simple_regret_exact_2"
      ],
      "execution_count": 56,
      "outputs": [
        {
          "output_type": "execute_result",
          "data": {
            "text/plain": [
              "(1.8200468629158937, 0.5480524995648571)"
            ]
          },
          "metadata": {},
          "execution_count": 56
        }
      ]
    },
    {
      "cell_type": "code",
      "metadata": {
        "id": "Bu6SBWALQxfl",
        "colab": {
          "base_uri": "https://localhost:8080/"
        },
        "outputId": "58ce0c8c-df62-4e2a-d30d-b24e8c586399"
      },
      "source": [
        "### Simple regret minimization: run number = 3\n",
        "\n",
        "approx_output_3 = np.append(np.min(approx_3.GP.y[0:n_init]),approx_3.GP.y[n_init:(n_init+iters)]) \n",
        "exact_output_3 = np.append(np.min(exact_3.GP.y[0:n_init]),exact_3.GP.y[n_init:(n_init+iters)]) \n",
        "\n",
        "regret_approx_3 = np.log(-approx_output_3 + y_global_orig)\n",
        "regret_exact_3 = np.log(-exact_output_3 + y_global_orig)\n",
        "\n",
        "simple_regret_approx_3 = min_max_array(regret_approx_3)\n",
        "simple_regret_exact_3 = min_max_array(regret_exact_3)\n",
        "\n",
        "min_simple_regret_approx_3 = min(simple_regret_approx_3)\n",
        "min_simple_regret_exact_3 = min(simple_regret_exact_3)\n",
        "\n",
        "min_simple_regret_approx_3, min_simple_regret_exact_3"
      ],
      "execution_count": 57,
      "outputs": [
        {
          "output_type": "execute_result",
          "data": {
            "text/plain": [
              "(0.4014652911434721, 1.5831424443750983)"
            ]
          },
          "metadata": {},
          "execution_count": 57
        }
      ]
    },
    {
      "cell_type": "code",
      "metadata": {
        "id": "AZm0jgxkQxfm",
        "colab": {
          "base_uri": "https://localhost:8080/"
        },
        "outputId": "17a2ad1e-4915-42dc-cc7f-534c5ee02cea"
      },
      "source": [
        "### Simple regret minimization: run number = 4\n",
        "\n",
        "approx_output_4 = np.append(np.min(approx_4.GP.y[0:n_init]),approx_4.GP.y[n_init:(n_init+iters)]) \n",
        "exact_output_4 = np.append(np.min(exact_4.GP.y[0:n_init]),exact_4.GP.y[n_init:(n_init+iters)]) \n",
        "\n",
        "regret_approx_4 = np.log(-approx_output_4 + y_global_orig)\n",
        "regret_exact_4 = np.log(-exact_output_4 + y_global_orig)\n",
        "\n",
        "simple_regret_approx_4 = min_max_array(regret_approx_4)\n",
        "simple_regret_exact_4 = min_max_array(regret_exact_4)\n",
        "\n",
        "min_simple_regret_approx_4 = min(simple_regret_approx_4)\n",
        "min_simple_regret_exact_4 = min(simple_regret_exact_4)\n",
        "\n",
        "min_simple_regret_approx_4, min_simple_regret_exact_4"
      ],
      "execution_count": 58,
      "outputs": [
        {
          "output_type": "execute_result",
          "data": {
            "text/plain": [
              "(1.272246576711888, -0.16214640720954915)"
            ]
          },
          "metadata": {},
          "execution_count": 58
        }
      ]
    },
    {
      "cell_type": "code",
      "metadata": {
        "id": "NONPm8JIQxfn",
        "colab": {
          "base_uri": "https://localhost:8080/"
        },
        "outputId": "72974b08-b1b5-404e-eb8e-080bc8faac28"
      },
      "source": [
        "### Simple regret minimization: run number = 5\n",
        "\n",
        "approx_output_5 = np.append(np.min(approx_5.GP.y[0:n_init]),approx_5.GP.y[n_init:(n_init+iters)]) \n",
        "exact_output_5 = np.append(np.min(exact_5.GP.y[0:n_init]),exact_5.GP.y[n_init:(n_init+iters)]) \n",
        "\n",
        "regret_approx_5 = np.log(-approx_output_5 + y_global_orig)\n",
        "regret_exact_5 = np.log(-exact_output_5 + y_global_orig)\n",
        "\n",
        "simple_regret_approx_5 = min_max_array(regret_approx_5)\n",
        "simple_regret_exact_5 = min_max_array(regret_exact_5)\n",
        "\n",
        "min_simple_regret_approx_5 = min(simple_regret_approx_5)\n",
        "min_simple_regret_exact_5 = min(simple_regret_exact_5)\n",
        "\n",
        "min_simple_regret_approx_5, min_simple_regret_exact_5"
      ],
      "execution_count": 59,
      "outputs": [
        {
          "output_type": "execute_result",
          "data": {
            "text/plain": [
              "(2.2758380659889617, 2.2893716263156985)"
            ]
          },
          "metadata": {},
          "execution_count": 59
        }
      ]
    },
    {
      "cell_type": "code",
      "metadata": {
        "id": "CJv3lPuSQxfp",
        "colab": {
          "base_uri": "https://localhost:8080/"
        },
        "outputId": "e10fca35-9556-467e-911d-e08c463a4183"
      },
      "source": [
        "### Simple regret minimization: run number = 6\n",
        "\n",
        "approx_output_6 = np.append(np.min(approx_6.GP.y[0:n_init]),approx_6.GP.y[n_init:(n_init+iters)]) \n",
        "exact_output_6 = np.append(np.min(exact_6.GP.y[0:n_init]),exact_6.GP.y[n_init:(n_init+iters)]) \n",
        "\n",
        "regret_approx_6 = np.log(-approx_output_6 + y_global_orig)\n",
        "regret_exact_6 = np.log(-exact_output_6 + y_global_orig)\n",
        "\n",
        "simple_regret_approx_6 = min_max_array(regret_approx_6)\n",
        "simple_regret_exact_6 = min_max_array(regret_exact_6)\n",
        "\n",
        "min_simple_regret_approx_6 = min(simple_regret_approx_6)\n",
        "min_simple_regret_exact_6 = min(simple_regret_exact_6)\n",
        "\n",
        "min_simple_regret_approx_6, min_simple_regret_exact_6"
      ],
      "execution_count": 60,
      "outputs": [
        {
          "output_type": "execute_result",
          "data": {
            "text/plain": [
              "(3.3726633267034507, 2.401584134998215)"
            ]
          },
          "metadata": {},
          "execution_count": 60
        }
      ]
    },
    {
      "cell_type": "code",
      "metadata": {
        "id": "quR2ZyApQxfq",
        "colab": {
          "base_uri": "https://localhost:8080/"
        },
        "outputId": "8446078b-99f3-40e6-a612-56a3ca301f3a"
      },
      "source": [
        "### Simple regret minimization: run number = 7\n",
        "\n",
        "approx_output_7 = np.append(np.min(approx_7.GP.y[0:n_init]),approx_7.GP.y[n_init:(n_init+iters)]) \n",
        "exact_output_7 = np.append(np.min(exact_7.GP.y[0:n_init]),exact_7.GP.y[n_init:(n_init+iters)]) \n",
        "\n",
        "regret_approx_7 = np.log(-approx_output_7 + y_global_orig)\n",
        "regret_exact_7 = np.log(-exact_output_7 + y_global_orig)\n",
        "\n",
        "simple_regret_approx_7 = min_max_array(regret_approx_7)\n",
        "simple_regret_exact_7 = min_max_array(regret_exact_7)\n",
        "\n",
        "min_simple_regret_approx_7 = min(simple_regret_approx_7)\n",
        "min_simple_regret_exact_7 = min(simple_regret_exact_7)\n",
        "\n",
        "min_simple_regret_approx_7, min_simple_regret_exact_7"
      ],
      "execution_count": 61,
      "outputs": [
        {
          "output_type": "execute_result",
          "data": {
            "text/plain": [
              "(0.12567557624748607, 1.6938989888241147)"
            ]
          },
          "metadata": {},
          "execution_count": 61
        }
      ]
    },
    {
      "cell_type": "code",
      "metadata": {
        "id": "99wY5nK6Qxfr",
        "colab": {
          "base_uri": "https://localhost:8080/"
        },
        "outputId": "e81de50f-6d17-4472-b1b5-38ff97ec5f16"
      },
      "source": [
        "### Simple regret minimization: run number = 8\n",
        "\n",
        "approx_output_8 = np.append(np.min(approx_8.GP.y[0:n_init]),approx_8.GP.y[n_init:(n_init+iters)]) \n",
        "exact_output_8 = np.append(np.min(exact_8.GP.y[0:n_init]),exact_8.GP.y[n_init:(n_init+iters)]) \n",
        "\n",
        "regret_approx_8 = np.log(-approx_output_8 + y_global_orig)\n",
        "regret_exact_8 = np.log(-exact_output_8 + y_global_orig)\n",
        "\n",
        "simple_regret_approx_8 = min_max_array(regret_approx_8)\n",
        "simple_regret_exact_8 = min_max_array(regret_exact_8)\n",
        "\n",
        "min_simple_regret_approx_8 = min(simple_regret_approx_8)\n",
        "min_simple_regret_exact_8 = min(simple_regret_exact_8)\n",
        "\n",
        "min_simple_regret_approx_8, min_simple_regret_exact_8"
      ],
      "execution_count": 62,
      "outputs": [
        {
          "output_type": "execute_result",
          "data": {
            "text/plain": [
              "(2.5021962340571333, -0.5442440138501279)"
            ]
          },
          "metadata": {},
          "execution_count": 62
        }
      ]
    },
    {
      "cell_type": "code",
      "metadata": {
        "id": "qt0P5t9qQxfs",
        "colab": {
          "base_uri": "https://localhost:8080/"
        },
        "outputId": "d1a3d817-0083-43fa-cfec-b0e314c07821"
      },
      "source": [
        "### Simple regret minimization: run number = 9\n",
        "\n",
        "approx_output_9 = np.append(np.min(approx_9.GP.y[0:n_init]),approx_9.GP.y[n_init:(n_init+iters)]) \n",
        "exact_output_9 = np.append(np.min(exact_9.GP.y[0:n_init]),exact_9.GP.y[n_init:(n_init+iters)]) \n",
        "\n",
        "regret_approx_9 = np.log(-approx_output_9 + y_global_orig)\n",
        "regret_exact_9 = np.log(-exact_output_9 + y_global_orig)\n",
        "\n",
        "simple_regret_approx_9 = min_max_array(regret_approx_9)\n",
        "simple_regret_exact_9 = min_max_array(regret_exact_9)\n",
        "\n",
        "min_simple_regret_approx_9 = min(simple_regret_approx_9)\n",
        "min_simple_regret_exact_9 = min(simple_regret_exact_9)\n",
        "\n",
        "min_simple_regret_approx_9, min_simple_regret_exact_9"
      ],
      "execution_count": 63,
      "outputs": [
        {
          "output_type": "execute_result",
          "data": {
            "text/plain": [
              "(1.260114153321654, -0.12866382636237558)"
            ]
          },
          "metadata": {},
          "execution_count": 63
        }
      ]
    },
    {
      "cell_type": "code",
      "metadata": {
        "id": "vx8to9stQxft",
        "colab": {
          "base_uri": "https://localhost:8080/"
        },
        "outputId": "afe50281-f01d-4168-de01-5e2ac542ecb3"
      },
      "source": [
        "### Simple regret minimization: run number = 10\n",
        "\n",
        "approx_output_10 = np.append(np.min(approx_10.GP.y[0:n_init]),approx_10.GP.y[n_init:(n_init+iters)]) \n",
        "exact_output_10 = np.append(np.min(exact_10.GP.y[0:n_init]),exact_10.GP.y[n_init:(n_init+iters)]) \n",
        "\n",
        "regret_approx_10 = np.log(-approx_output_10 + y_global_orig)\n",
        "regret_exact_10 = np.log(-exact_output_10 + y_global_orig)\n",
        "\n",
        "simple_regret_approx_10 = min_max_array(regret_approx_10)\n",
        "simple_regret_exact_10 = min_max_array(regret_exact_10)\n",
        "\n",
        "min_simple_regret_approx_10 = min(simple_regret_approx_10)\n",
        "min_simple_regret_exact_10 = min(simple_regret_exact_10)\n",
        "\n",
        "min_simple_regret_approx_10, min_simple_regret_exact_10"
      ],
      "execution_count": 64,
      "outputs": [
        {
          "output_type": "execute_result",
          "data": {
            "text/plain": [
              "(1.526866602142688, 1.526866602142688)"
            ]
          },
          "metadata": {},
          "execution_count": 64
        }
      ]
    },
    {
      "cell_type": "code",
      "metadata": {
        "id": "d-FGzWyHQxfu",
        "colab": {
          "base_uri": "https://localhost:8080/"
        },
        "outputId": "3c8c6371-24f6-4355-9ce3-26b779c87156"
      },
      "source": [
        "### Simple regret minimization: run number = 11\n",
        "\n",
        "approx_output_11 = np.append(np.min(approx_11.GP.y[0:n_init]),approx_11.GP.y[n_init:(n_init+iters)]) \n",
        "exact_output_11 = np.append(np.min(exact_11.GP.y[0:n_init]),exact_11.GP.y[n_init:(n_init+iters)]) \n",
        "\n",
        "regret_approx_11 = np.log(-approx_output_11 + y_global_orig)\n",
        "regret_exact_11 = np.log(-exact_output_11 + y_global_orig)\n",
        "\n",
        "simple_regret_approx_11 = min_max_array(regret_approx_11)\n",
        "simple_regret_exact_11 = min_max_array(regret_exact_11)\n",
        "\n",
        "min_simple_regret_approx_11 = min(simple_regret_approx_11)\n",
        "min_simple_regret_exact_11 = min(simple_regret_exact_11)\n",
        "\n",
        "min_simple_regret_approx_11, min_simple_regret_exact_11"
      ],
      "execution_count": 65,
      "outputs": [
        {
          "output_type": "execute_result",
          "data": {
            "text/plain": [
              "(1.035438149727752, 1.4451135115748903)"
            ]
          },
          "metadata": {},
          "execution_count": 65
        }
      ]
    },
    {
      "cell_type": "code",
      "metadata": {
        "id": "SvtsssyjQxfv",
        "colab": {
          "base_uri": "https://localhost:8080/"
        },
        "outputId": "583f58dd-996f-4ca8-f49e-c65de4da66ae"
      },
      "source": [
        "### Simple regret minimization: run number = 12\n",
        "\n",
        "approx_output_12 = np.append(np.min(approx_12.GP.y[0:n_init]),approx_12.GP.y[n_init:(n_init+iters)]) \n",
        "exact_output_12 = np.append(np.min(exact_12.GP.y[0:n_init]),exact_12.GP.y[n_init:(n_init+iters)]) \n",
        "\n",
        "regret_approx_12 = np.log(-approx_output_12 + y_global_orig)\n",
        "regret_exact_12 = np.log(-exact_output_12 + y_global_orig)\n",
        "\n",
        "simple_regret_approx_12 = min_max_array(regret_approx_12)\n",
        "simple_regret_exact_12 = min_max_array(regret_exact_12)\n",
        "\n",
        "min_simple_regret_approx_12 = min(simple_regret_approx_12)\n",
        "min_simple_regret_exact_12 = min(simple_regret_exact_12)\n",
        "\n",
        "min_simple_regret_approx_12, min_simple_regret_exact_12"
      ],
      "execution_count": 66,
      "outputs": [
        {
          "output_type": "execute_result",
          "data": {
            "text/plain": [
              "(0.8140249632510234, 1.6338641564796579)"
            ]
          },
          "metadata": {},
          "execution_count": 66
        }
      ]
    },
    {
      "cell_type": "code",
      "metadata": {
        "id": "K6OiGcHkQxfw",
        "colab": {
          "base_uri": "https://localhost:8080/"
        },
        "outputId": "5ce89391-553c-4c9f-8d1c-125ee22df733"
      },
      "source": [
        "### Simple regret minimization: run number = 13\n",
        "\n",
        "approx_output_13 = np.append(np.min(approx_13.GP.y[0:n_init]),approx_13.GP.y[n_init:(n_init+iters)]) \n",
        "exact_output_13 = np.append(np.min(exact_13.GP.y[0:n_init]),exact_13.GP.y[n_init:(n_init+iters)]) \n",
        "\n",
        "regret_approx_13 = np.log(-approx_output_13 + y_global_orig)\n",
        "regret_exact_13 = np.log(-exact_output_13 + y_global_orig)\n",
        "\n",
        "simple_regret_approx_13 = min_max_array(regret_approx_13)\n",
        "simple_regret_exact_13 = min_max_array(regret_exact_13)\n",
        "\n",
        "min_simple_regret_approx_13 = min(simple_regret_approx_13)\n",
        "min_simple_regret_exact_13 = min(simple_regret_exact_13)\n",
        "\n",
        "min_simple_regret_approx_13, min_simple_regret_exact_13"
      ],
      "execution_count": 67,
      "outputs": [
        {
          "output_type": "execute_result",
          "data": {
            "text/plain": [
              "(1.8606938644739544, 0.2521529888854691)"
            ]
          },
          "metadata": {},
          "execution_count": 67
        }
      ]
    },
    {
      "cell_type": "code",
      "metadata": {
        "id": "ogML73shQxfx",
        "colab": {
          "base_uri": "https://localhost:8080/"
        },
        "outputId": "32036031-2600-4248-b570-7864676fd06b"
      },
      "source": [
        "### Simple regret minimization: run number = 14\n",
        "\n",
        "approx_output_14 = np.append(np.min(approx_14.GP.y[0:n_init]),approx_14.GP.y[n_init:(n_init+iters)]) \n",
        "exact_output_14 = np.append(np.min(exact_14.GP.y[0:n_init]),exact_14.GP.y[n_init:(n_init+iters)]) \n",
        "\n",
        "regret_approx_14 = np.log(-approx_output_14 + y_global_orig)\n",
        "regret_exact_14 = np.log(-exact_output_14 + y_global_orig)\n",
        "\n",
        "simple_regret_approx_14 = min_max_array(regret_approx_14)\n",
        "simple_regret_exact_14 = min_max_array(regret_exact_14)\n",
        "\n",
        "min_simple_regret_approx_14 = min(simple_regret_approx_14)\n",
        "min_simple_regret_exact_14 = min(simple_regret_exact_14)\n",
        "\n",
        "min_simple_regret_approx_14, min_simple_regret_exact_14"
      ],
      "execution_count": 68,
      "outputs": [
        {
          "output_type": "execute_result",
          "data": {
            "text/plain": [
              "(-1.0400467999472245, 0.8366789855555047)"
            ]
          },
          "metadata": {},
          "execution_count": 68
        }
      ]
    },
    {
      "cell_type": "code",
      "metadata": {
        "id": "9Eg7gFT9Qxfx",
        "colab": {
          "base_uri": "https://localhost:8080/"
        },
        "outputId": "d0a8e11e-af4d-4f90-8f9e-95e7475b2d91"
      },
      "source": [
        "### Simple regret minimization: run number = 15\n",
        "\n",
        "approx_output_15 = np.append(np.min(approx_15.GP.y[0:n_init]),approx_15.GP.y[n_init:(n_init+iters)]) \n",
        "exact_output_15 = np.append(np.min(exact_15.GP.y[0:n_init]),exact_15.GP.y[n_init:(n_init+iters)]) \n",
        "\n",
        "regret_approx_15 = np.log(-approx_output_15 + y_global_orig)\n",
        "regret_exact_15 = np.log(-exact_output_15 + y_global_orig)\n",
        "\n",
        "simple_regret_approx_15 = min_max_array(regret_approx_15)\n",
        "simple_regret_exact_15 = min_max_array(regret_exact_15)\n",
        "\n",
        "min_simple_regret_approx_15 = min(simple_regret_approx_15)\n",
        "min_simple_regret_exact_15 = min(simple_regret_exact_15)\n",
        "\n",
        "min_simple_regret_approx_15, min_simple_regret_exact_15"
      ],
      "execution_count": 69,
      "outputs": [
        {
          "output_type": "execute_result",
          "data": {
            "text/plain": [
              "(0.8626439747023062, -0.7256889344306043)"
            ]
          },
          "metadata": {},
          "execution_count": 69
        }
      ]
    },
    {
      "cell_type": "code",
      "metadata": {
        "id": "lIAC1U7ZQxfy",
        "colab": {
          "base_uri": "https://localhost:8080/"
        },
        "outputId": "042fcc27-fe86-4219-8052-cbb3addc7bfc"
      },
      "source": [
        "### Simple regret minimization: run number = 16\n",
        "\n",
        "approx_output_16 = np.append(np.min(approx_16.GP.y[0:n_init]),approx_16.GP.y[n_init:(n_init+iters)]) \n",
        "exact_output_16 = np.append(np.min(exact_16.GP.y[0:n_init]),exact_16.GP.y[n_init:(n_init+iters)]) \n",
        "\n",
        "regret_approx_16 = np.log(-approx_output_16 + y_global_orig)\n",
        "regret_exact_16 = np.log(-exact_output_16 + y_global_orig)\n",
        "\n",
        "simple_regret_approx_16 = min_max_array(regret_approx_16)\n",
        "simple_regret_exact_16 = min_max_array(regret_exact_16)\n",
        "\n",
        "min_simple_regret_approx_16 = min(simple_regret_approx_16)\n",
        "min_simple_regret_exact_16 = min(simple_regret_exact_16)\n",
        "\n",
        "min_simple_regret_approx_16, min_simple_regret_exact_16"
      ],
      "execution_count": 70,
      "outputs": [
        {
          "output_type": "execute_result",
          "data": {
            "text/plain": [
              "(1.5148153736763112, 0.3170246680848034)"
            ]
          },
          "metadata": {},
          "execution_count": 70
        }
      ]
    },
    {
      "cell_type": "code",
      "metadata": {
        "id": "bGott36OQxfz",
        "colab": {
          "base_uri": "https://localhost:8080/"
        },
        "outputId": "03c28635-1093-4497-f0af-228ef628de90"
      },
      "source": [
        "### Simple regret minimization: run number = 17\n",
        "\n",
        "approx_output_17 = np.append(np.min(approx_17.GP.y[0:n_init]),approx_17.GP.y[n_init:(n_init+iters)]) \n",
        "exact_output_17 = np.append(np.min(exact_17.GP.y[0:n_init]),exact_17.GP.y[n_init:(n_init+iters)]) \n",
        "\n",
        "regret_approx_17 = np.log(-approx_output_17 + y_global_orig)\n",
        "regret_exact_17 = np.log(-exact_output_17 + y_global_orig)\n",
        "\n",
        "simple_regret_approx_17 = min_max_array(regret_approx_17)\n",
        "simple_regret_exact_17 = min_max_array(regret_exact_17)\n",
        "\n",
        "min_simple_regret_approx_17 = min(simple_regret_approx_17)\n",
        "min_simple_regret_exact_17 = min(simple_regret_exact_17)\n",
        "\n",
        "min_simple_regret_approx_17, min_simple_regret_exact_17"
      ],
      "execution_count": 71,
      "outputs": [
        {
          "output_type": "execute_result",
          "data": {
            "text/plain": [
              "(1.4246569812496406, -3.112551363191663)"
            ]
          },
          "metadata": {},
          "execution_count": 71
        }
      ]
    },
    {
      "cell_type": "code",
      "metadata": {
        "id": "Cz9ZYMBMQxfz",
        "colab": {
          "base_uri": "https://localhost:8080/"
        },
        "outputId": "b86c9085-df9c-4133-a120-88285792c586"
      },
      "source": [
        "### Simple regret minimization: run number = 18\n",
        "\n",
        "approx_output_18 = np.append(np.min(approx_18.GP.y[0:n_init]),approx_18.GP.y[n_init:(n_init+iters)]) \n",
        "exact_output_18 = np.append(np.min(exact_18.GP.y[0:n_init]),exact_18.GP.y[n_init:(n_init+iters)]) \n",
        "\n",
        "regret_approx_18 = np.log(-approx_output_18 + y_global_orig)\n",
        "regret_exact_18 = np.log(-exact_output_18 + y_global_orig)\n",
        "\n",
        "simple_regret_approx_18 = min_max_array(regret_approx_18)\n",
        "simple_regret_exact_18 = min_max_array(regret_exact_18)\n",
        "\n",
        "min_simple_regret_approx_18 = min(simple_regret_approx_18)\n",
        "min_simple_regret_exact_18 = min(simple_regret_exact_18)\n",
        "\n",
        "min_simple_regret_approx_18, min_simple_regret_exact_18"
      ],
      "execution_count": 72,
      "outputs": [
        {
          "output_type": "execute_result",
          "data": {
            "text/plain": [
              "(1.7464381178407749, 2.1397871361388594)"
            ]
          },
          "metadata": {},
          "execution_count": 72
        }
      ]
    },
    {
      "cell_type": "code",
      "metadata": {
        "id": "OBfpWOHNQxf0",
        "colab": {
          "base_uri": "https://localhost:8080/"
        },
        "outputId": "67d7f5a4-955d-454a-a572-b30b73322b6e"
      },
      "source": [
        "### Simple regret minimization: run number = 19\n",
        "\n",
        "approx_output_19 = np.append(np.min(approx_19.GP.y[0:n_init]),approx_19.GP.y[n_init:(n_init+iters)]) \n",
        "exact_output_19 = np.append(np.min(exact_19.GP.y[0:n_init]),exact_19.GP.y[n_init:(n_init+iters)]) \n",
        "\n",
        "regret_approx_19 = np.log(-approx_output_19 + y_global_orig)\n",
        "regret_exact_19 = np.log(-exact_output_19 + y_global_orig)\n",
        "\n",
        "simple_regret_approx_19 = min_max_array(regret_approx_19)\n",
        "simple_regret_exact_19 = min_max_array(regret_exact_19)\n",
        "\n",
        "min_simple_regret_approx_19 = min(simple_regret_approx_19)\n",
        "min_simple_regret_exact_19 = min(simple_regret_exact_19)\n",
        "\n",
        "min_simple_regret_approx_19, min_simple_regret_exact_19"
      ],
      "execution_count": 73,
      "outputs": [
        {
          "output_type": "execute_result",
          "data": {
            "text/plain": [
              "(0.9259072164184522, -1.5543499794902866)"
            ]
          },
          "metadata": {},
          "execution_count": 73
        }
      ]
    },
    {
      "cell_type": "code",
      "metadata": {
        "id": "BE1AJ7NsQxf0",
        "colab": {
          "base_uri": "https://localhost:8080/"
        },
        "outputId": "d820a480-8512-4b4f-b5c6-0bfd12dcc381"
      },
      "source": [
        "### Simple regret minimization: run number = 20\n",
        "\n",
        "approx_output_20 = np.append(np.min(approx_20.GP.y[0:n_init]),approx_20.GP.y[n_init:(n_init+iters)]) \n",
        "exact_output_20 = np.append(np.min(exact_20.GP.y[0:n_init]),exact_20.GP.y[n_init:(n_init+iters)]) \n",
        "\n",
        "regret_approx_20 = np.log(-approx_output_20 + y_global_orig)\n",
        "regret_exact_20 = np.log(-exact_output_20 + y_global_orig)\n",
        "\n",
        "simple_regret_approx_20 = min_max_array(regret_approx_20)\n",
        "simple_regret_exact_20 = min_max_array(regret_exact_20)\n",
        "\n",
        "min_simple_regret_approx_20 = min(simple_regret_approx_20)\n",
        "min_simple_regret_exact_20 = min(simple_regret_exact_20)\n",
        "\n",
        "min_simple_regret_approx_20, min_simple_regret_exact_20"
      ],
      "execution_count": 74,
      "outputs": [
        {
          "output_type": "execute_result",
          "data": {
            "text/plain": [
              "(1.338424155416095, 2.3309632671453953)"
            ]
          },
          "metadata": {},
          "execution_count": 74
        }
      ]
    },
    {
      "cell_type": "code",
      "metadata": {
        "id": "bpX-bKAHQxf1"
      },
      "source": [
        "# Iteration1 :\n",
        "\n",
        "slice1 = 0\n",
        "\n",
        "approx1 = [simple_regret_approx_1[slice1],\n",
        "       simple_regret_approx_2[slice1],\n",
        "       simple_regret_approx_3[slice1],\n",
        "       simple_regret_approx_4[slice1],\n",
        "       simple_regret_approx_5[slice1],\n",
        "       simple_regret_approx_6[slice1],\n",
        "       simple_regret_approx_7[slice1],\n",
        "       simple_regret_approx_8[slice1],\n",
        "       simple_regret_approx_9[slice1],\n",
        "       simple_regret_approx_10[slice1],\n",
        "       simple_regret_approx_11[slice1],\n",
        "       simple_regret_approx_12[slice1],\n",
        "       simple_regret_approx_13[slice1],\n",
        "       simple_regret_approx_14[slice1],\n",
        "       simple_regret_approx_15[slice1],\n",
        "       simple_regret_approx_16[slice1],\n",
        "       simple_regret_approx_17[slice1],\n",
        "       simple_regret_approx_18[slice1],\n",
        "       simple_regret_approx_19[slice1],\n",
        "       simple_regret_approx_20[slice1]]\n",
        "\n",
        "exact1 = [simple_regret_exact_1[slice1],\n",
        "       simple_regret_exact_2[slice1],\n",
        "       simple_regret_exact_3[slice1],\n",
        "       simple_regret_exact_4[slice1],\n",
        "       simple_regret_exact_5[slice1],\n",
        "       simple_regret_exact_6[slice1],\n",
        "       simple_regret_exact_7[slice1],\n",
        "       simple_regret_exact_8[slice1],\n",
        "       simple_regret_exact_9[slice1],\n",
        "       simple_regret_exact_10[slice1],\n",
        "       simple_regret_exact_11[slice1],\n",
        "       simple_regret_exact_12[slice1],\n",
        "       simple_regret_exact_13[slice1],\n",
        "       simple_regret_exact_14[slice1],\n",
        "       simple_regret_exact_15[slice1],\n",
        "       simple_regret_exact_16[slice1],\n",
        "       simple_regret_exact_17[slice1],\n",
        "       simple_regret_exact_18[slice1],\n",
        "       simple_regret_exact_19[slice1],\n",
        "       simple_regret_exact_20[slice1]]\n",
        "\n",
        "approx1_results = pd.DataFrame(approx1).sort_values(by=[0], ascending=False)\n",
        "exact1_results = pd.DataFrame(exact1).sort_values(by=[0], ascending=False)\n",
        "\n",
        "### Best simple regret minimization IQR - approx:\n",
        "lower_approx1 = np.asarray(approx1_results[4:5][0])[0]\n",
        "median_approx1 = np.asarray(approx1_results[9:10][0])[0]\n",
        "upper_approx1 = np.asarray(approx1_results[14:15][0])[0]\n",
        "\n",
        "lower_exact1 = np.asarray(exact1_results[4:5][0])[0]\n",
        "median_exact1 = np.asarray(exact1_results[9:10][0])[0]\n",
        "upper_exact1 = np.asarray(exact1_results[14:15][0])[0]"
      ],
      "execution_count": 75,
      "outputs": []
    },
    {
      "cell_type": "code",
      "metadata": {
        "id": "CgIkJA1xQxf2"
      },
      "source": [
        "# Iteration11 :\n",
        "\n",
        "slice11 = 10\n",
        "\n",
        "approx11 = [simple_regret_approx_1[slice11],\n",
        "       simple_regret_approx_2[slice11],\n",
        "       simple_regret_approx_3[slice11],\n",
        "       simple_regret_approx_4[slice11],\n",
        "       simple_regret_approx_5[slice11],\n",
        "       simple_regret_approx_6[slice11],\n",
        "       simple_regret_approx_7[slice11],\n",
        "       simple_regret_approx_8[slice11],\n",
        "       simple_regret_approx_9[slice11],\n",
        "       simple_regret_approx_10[slice11],\n",
        "       simple_regret_approx_11[slice11],\n",
        "       simple_regret_approx_12[slice11],\n",
        "       simple_regret_approx_13[slice11],\n",
        "       simple_regret_approx_14[slice11],\n",
        "       simple_regret_approx_15[slice11],\n",
        "       simple_regret_approx_16[slice11],\n",
        "       simple_regret_approx_17[slice11],\n",
        "       simple_regret_approx_18[slice11],\n",
        "       simple_regret_approx_19[slice11],\n",
        "       simple_regret_approx_20[slice11]]\n",
        "\n",
        "exact11 = [simple_regret_exact_1[slice11],\n",
        "       simple_regret_exact_2[slice11],\n",
        "       simple_regret_exact_3[slice11],\n",
        "       simple_regret_exact_4[slice11],\n",
        "       simple_regret_exact_5[slice11],\n",
        "       simple_regret_exact_6[slice11],\n",
        "       simple_regret_exact_7[slice11],\n",
        "       simple_regret_exact_8[slice11],\n",
        "       simple_regret_exact_9[slice11],\n",
        "       simple_regret_exact_10[slice11],\n",
        "       simple_regret_exact_11[slice11],\n",
        "       simple_regret_exact_12[slice11],\n",
        "       simple_regret_exact_13[slice11],\n",
        "       simple_regret_exact_14[slice11],\n",
        "       simple_regret_exact_15[slice11],\n",
        "       simple_regret_exact_16[slice11],\n",
        "       simple_regret_exact_17[slice11],\n",
        "       simple_regret_exact_18[slice11],\n",
        "       simple_regret_exact_19[slice11],\n",
        "       simple_regret_exact_20[slice11]]\n",
        "\n",
        "approx11_results = pd.DataFrame(approx11).sort_values(by=[0], ascending=False)\n",
        "exact11_results = pd.DataFrame(exact11).sort_values(by=[0], ascending=False)\n",
        "\n",
        "### Best simple regret minimization IQR - approx:\n",
        "lower_approx11 = np.asarray(approx11_results[4:5][0])[0]\n",
        "median_approx11 = np.asarray(approx11_results[9:10][0])[0]\n",
        "upper_approx11 = np.asarray(approx11_results[14:15][0])[0]\n",
        "\n",
        "lower_exact11 = np.asarray(exact11_results[4:5][0])[0]\n",
        "median_exact11 = np.asarray(exact11_results[9:10][0])[0]\n",
        "upper_exact11 = np.asarray(exact11_results[14:15][0])[0]"
      ],
      "execution_count": 76,
      "outputs": []
    },
    {
      "cell_type": "code",
      "metadata": {
        "id": "MFePDfGuQxf2"
      },
      "source": [
        "# Iteration21 :\n",
        "\n",
        "slice21 = 20\n",
        "\n",
        "approx21 = [simple_regret_approx_1[slice21],\n",
        "       simple_regret_approx_2[slice21],\n",
        "       simple_regret_approx_3[slice21],\n",
        "       simple_regret_approx_4[slice21],\n",
        "       simple_regret_approx_5[slice21],\n",
        "       simple_regret_approx_6[slice21],\n",
        "       simple_regret_approx_7[slice21],\n",
        "       simple_regret_approx_8[slice21],\n",
        "       simple_regret_approx_9[slice21],\n",
        "       simple_regret_approx_10[slice21],\n",
        "       simple_regret_approx_11[slice21],\n",
        "       simple_regret_approx_12[slice21],\n",
        "       simple_regret_approx_13[slice21],\n",
        "       simple_regret_approx_14[slice21],\n",
        "       simple_regret_approx_15[slice21],\n",
        "       simple_regret_approx_16[slice21],\n",
        "       simple_regret_approx_17[slice21],\n",
        "       simple_regret_approx_18[slice21],\n",
        "       simple_regret_approx_19[slice21],\n",
        "       simple_regret_approx_20[slice21]]\n",
        "\n",
        "exact21 = [simple_regret_exact_1[slice21],\n",
        "       simple_regret_exact_2[slice21],\n",
        "       simple_regret_exact_3[slice21],\n",
        "       simple_regret_exact_4[slice21],\n",
        "       simple_regret_exact_5[slice21],\n",
        "       simple_regret_exact_6[slice21],\n",
        "       simple_regret_exact_7[slice21],\n",
        "       simple_regret_exact_8[slice21],\n",
        "       simple_regret_exact_9[slice21],\n",
        "       simple_regret_exact_10[slice21],\n",
        "       simple_regret_exact_11[slice21],\n",
        "       simple_regret_exact_12[slice21],\n",
        "       simple_regret_exact_13[slice21],\n",
        "       simple_regret_exact_14[slice21],\n",
        "       simple_regret_exact_15[slice21],\n",
        "       simple_regret_exact_16[slice21],\n",
        "       simple_regret_exact_17[slice21],\n",
        "       simple_regret_exact_18[slice21],\n",
        "       simple_regret_exact_19[slice21],\n",
        "       simple_regret_exact_20[slice21]]\n",
        "\n",
        "approx21_results = pd.DataFrame(approx21).sort_values(by=[0], ascending=False)\n",
        "exact21_results = pd.DataFrame(exact21).sort_values(by=[0], ascending=False)\n",
        "\n",
        "### Best simple regret minimization IQR - approx:\n",
        "lower_approx21 = np.asarray(approx21_results[4:5][0])[0]\n",
        "median_approx21 = np.asarray(approx21_results[9:10][0])[0]\n",
        "upper_approx21 = np.asarray(approx21_results[14:15][0])[0]\n",
        "\n",
        "lower_exact21 = np.asarray(exact21_results[4:5][0])[0]\n",
        "median_exact21 = np.asarray(exact21_results[9:10][0])[0]\n",
        "upper_exact21 = np.asarray(exact21_results[14:15][0])[0]"
      ],
      "execution_count": 77,
      "outputs": []
    },
    {
      "cell_type": "code",
      "metadata": {
        "id": "PrRDB1kfQxf3"
      },
      "source": [
        "# Iteration2 :\n",
        "\n",
        "slice2 = 1\n",
        "\n",
        "approx2 = [simple_regret_approx_1[slice2],\n",
        "       simple_regret_approx_2[slice2],\n",
        "       simple_regret_approx_3[slice2],\n",
        "       simple_regret_approx_4[slice2],\n",
        "       simple_regret_approx_5[slice2],\n",
        "       simple_regret_approx_6[slice2],\n",
        "       simple_regret_approx_7[slice2],\n",
        "       simple_regret_approx_8[slice2],\n",
        "       simple_regret_approx_9[slice2],\n",
        "       simple_regret_approx_10[slice2],\n",
        "       simple_regret_approx_11[slice2],\n",
        "       simple_regret_approx_12[slice2],\n",
        "       simple_regret_approx_13[slice2],\n",
        "       simple_regret_approx_14[slice2],\n",
        "       simple_regret_approx_15[slice2],\n",
        "       simple_regret_approx_16[slice2],\n",
        "       simple_regret_approx_17[slice2],\n",
        "       simple_regret_approx_18[slice2],\n",
        "       simple_regret_approx_19[slice2],\n",
        "       simple_regret_approx_20[slice2]]\n",
        "\n",
        "exact2 = [simple_regret_exact_1[slice2],\n",
        "       simple_regret_exact_2[slice2],\n",
        "       simple_regret_exact_3[slice2],\n",
        "       simple_regret_exact_4[slice2],\n",
        "       simple_regret_exact_5[slice2],\n",
        "       simple_regret_exact_6[slice2],\n",
        "       simple_regret_exact_7[slice2],\n",
        "       simple_regret_exact_8[slice2],\n",
        "       simple_regret_exact_9[slice2],\n",
        "       simple_regret_exact_10[slice2],\n",
        "       simple_regret_exact_11[slice2],\n",
        "       simple_regret_exact_12[slice2],\n",
        "       simple_regret_exact_13[slice2],\n",
        "       simple_regret_exact_14[slice2],\n",
        "       simple_regret_exact_15[slice2],\n",
        "       simple_regret_exact_16[slice2],\n",
        "       simple_regret_exact_17[slice2],\n",
        "       simple_regret_exact_18[slice2],\n",
        "       simple_regret_exact_19[slice2],\n",
        "       simple_regret_exact_20[slice2]]\n",
        "\n",
        "approx2_results = pd.DataFrame(approx2).sort_values(by=[0], ascending=False)\n",
        "exact2_results = pd.DataFrame(exact2).sort_values(by=[0], ascending=False)\n",
        "\n",
        "### Best simple regret minimization IQR - approx:\n",
        "lower_approx2 = np.asarray(approx2_results[4:5][0])[0]\n",
        "median_approx2 = np.asarray(approx2_results[9:10][0])[0]\n",
        "upper_approx2 = np.asarray(approx2_results[14:15][0])[0]\n",
        "\n",
        "lower_exact2 = np.asarray(exact2_results[4:5][0])[0]\n",
        "median_exact2 = np.asarray(exact2_results[9:10][0])[0]\n",
        "upper_exact2 = np.asarray(exact2_results[14:15][0])[0]"
      ],
      "execution_count": 78,
      "outputs": []
    },
    {
      "cell_type": "code",
      "metadata": {
        "id": "B8ncJDYeQxf3"
      },
      "source": [
        "# Iteration12 :\n",
        "\n",
        "slice12 = 11\n",
        "\n",
        "approx12 = [simple_regret_approx_1[slice12],\n",
        "       simple_regret_approx_2[slice12],\n",
        "       simple_regret_approx_3[slice12],\n",
        "       simple_regret_approx_4[slice12],\n",
        "       simple_regret_approx_5[slice12],\n",
        "       simple_regret_approx_6[slice12],\n",
        "       simple_regret_approx_7[slice12],\n",
        "       simple_regret_approx_8[slice12],\n",
        "       simple_regret_approx_9[slice12],\n",
        "       simple_regret_approx_10[slice12],\n",
        "       simple_regret_approx_11[slice12],\n",
        "       simple_regret_approx_12[slice12],\n",
        "       simple_regret_approx_13[slice12],\n",
        "       simple_regret_approx_14[slice12],\n",
        "       simple_regret_approx_15[slice12],\n",
        "       simple_regret_approx_16[slice12],\n",
        "       simple_regret_approx_17[slice12],\n",
        "       simple_regret_approx_18[slice12],\n",
        "       simple_regret_approx_19[slice12],\n",
        "       simple_regret_approx_20[slice12]]\n",
        "\n",
        "exact12 = [simple_regret_exact_1[slice12],\n",
        "       simple_regret_exact_2[slice12],\n",
        "       simple_regret_exact_3[slice12],\n",
        "       simple_regret_exact_4[slice12],\n",
        "       simple_regret_exact_5[slice12],\n",
        "       simple_regret_exact_6[slice12],\n",
        "       simple_regret_exact_7[slice12],\n",
        "       simple_regret_exact_8[slice12],\n",
        "       simple_regret_exact_9[slice12],\n",
        "       simple_regret_exact_10[slice12],\n",
        "       simple_regret_exact_11[slice12],\n",
        "       simple_regret_exact_12[slice12],\n",
        "       simple_regret_exact_13[slice12],\n",
        "       simple_regret_exact_14[slice12],\n",
        "       simple_regret_exact_15[slice12],\n",
        "       simple_regret_exact_16[slice12],\n",
        "       simple_regret_exact_17[slice12],\n",
        "       simple_regret_exact_18[slice12],\n",
        "       simple_regret_exact_19[slice12],\n",
        "       simple_regret_exact_20[slice12]]\n",
        "\n",
        "approx12_results = pd.DataFrame(approx12).sort_values(by=[0], ascending=False)\n",
        "exact12_results = pd.DataFrame(exact12).sort_values(by=[0], ascending=False)\n",
        "\n",
        "### Best simple regret minimization IQR - approx:\n",
        "lower_approx12 = np.asarray(approx12_results[4:5][0])[0]\n",
        "median_approx12 = np.asarray(approx12_results[9:10][0])[0]\n",
        "upper_approx12 = np.asarray(approx12_results[14:15][0])[0]\n",
        "\n",
        "lower_exact12 = np.asarray(exact12_results[4:5][0])[0]\n",
        "median_exact12 = np.asarray(exact12_results[9:10][0])[0]\n",
        "upper_exact12 = np.asarray(exact12_results[14:15][0])[0]"
      ],
      "execution_count": 79,
      "outputs": []
    },
    {
      "cell_type": "code",
      "metadata": {
        "id": "Jn4KpGvcQxf4"
      },
      "source": [
        "# Iteration3 :\n",
        "\n",
        "slice3 = 2\n",
        "\n",
        "approx3 = [simple_regret_approx_1[slice3],\n",
        "       simple_regret_approx_2[slice3],\n",
        "       simple_regret_approx_3[slice3],\n",
        "       simple_regret_approx_4[slice3],\n",
        "       simple_regret_approx_5[slice3],\n",
        "       simple_regret_approx_6[slice3],\n",
        "       simple_regret_approx_7[slice3],\n",
        "       simple_regret_approx_8[slice3],\n",
        "       simple_regret_approx_9[slice3],\n",
        "       simple_regret_approx_10[slice3],\n",
        "       simple_regret_approx_11[slice3],\n",
        "       simple_regret_approx_12[slice3],\n",
        "       simple_regret_approx_13[slice3],\n",
        "       simple_regret_approx_14[slice3],\n",
        "       simple_regret_approx_15[slice3],\n",
        "       simple_regret_approx_16[slice3],\n",
        "       simple_regret_approx_17[slice3],\n",
        "       simple_regret_approx_18[slice3],\n",
        "       simple_regret_approx_19[slice3],\n",
        "       simple_regret_approx_20[slice3]]\n",
        "\n",
        "exact3 = [simple_regret_exact_1[slice3],\n",
        "       simple_regret_exact_2[slice3],\n",
        "       simple_regret_exact_3[slice3],\n",
        "       simple_regret_exact_4[slice3],\n",
        "       simple_regret_exact_5[slice3],\n",
        "       simple_regret_exact_6[slice3],\n",
        "       simple_regret_exact_7[slice3],\n",
        "       simple_regret_exact_8[slice3],\n",
        "       simple_regret_exact_9[slice3],\n",
        "       simple_regret_exact_10[slice3],\n",
        "       simple_regret_exact_11[slice3],\n",
        "       simple_regret_exact_12[slice3],\n",
        "       simple_regret_exact_13[slice3],\n",
        "       simple_regret_exact_14[slice3],\n",
        "       simple_regret_exact_15[slice3],\n",
        "       simple_regret_exact_16[slice3],\n",
        "       simple_regret_exact_17[slice3],\n",
        "       simple_regret_exact_18[slice3],\n",
        "       simple_regret_exact_19[slice3],\n",
        "       simple_regret_exact_20[slice3]]\n",
        "\n",
        "approx3_results = pd.DataFrame(approx3).sort_values(by=[0], ascending=False)\n",
        "exact3_results = pd.DataFrame(exact3).sort_values(by=[0], ascending=False)\n",
        "\n",
        "### Best simple regret minimization IQR - approx:\n",
        "lower_approx3 = np.asarray(approx3_results[4:5][0])[0]\n",
        "median_approx3 = np.asarray(approx3_results[9:10][0])[0]\n",
        "upper_approx3 = np.asarray(approx3_results[14:15][0])[0]\n",
        "\n",
        "lower_exact3 = np.asarray(exact3_results[4:5][0])[0]\n",
        "median_exact3 = np.asarray(exact3_results[9:10][0])[0]\n",
        "upper_exact3 = np.asarray(exact3_results[14:15][0])[0]"
      ],
      "execution_count": 80,
      "outputs": []
    },
    {
      "cell_type": "code",
      "metadata": {
        "id": "plf83wxrQxf4"
      },
      "source": [
        "# Iteration13 :\n",
        "\n",
        "slice13 = 12\n",
        "\n",
        "approx13 = [simple_regret_approx_1[slice13],\n",
        "       simple_regret_approx_2[slice13],\n",
        "       simple_regret_approx_3[slice13],\n",
        "       simple_regret_approx_4[slice13],\n",
        "       simple_regret_approx_5[slice13],\n",
        "       simple_regret_approx_6[slice13],\n",
        "       simple_regret_approx_7[slice13],\n",
        "       simple_regret_approx_8[slice13],\n",
        "       simple_regret_approx_9[slice13],\n",
        "       simple_regret_approx_10[slice13],\n",
        "       simple_regret_approx_11[slice13],\n",
        "       simple_regret_approx_12[slice13],\n",
        "       simple_regret_approx_13[slice13],\n",
        "       simple_regret_approx_14[slice13],\n",
        "       simple_regret_approx_15[slice13],\n",
        "       simple_regret_approx_16[slice13],\n",
        "       simple_regret_approx_17[slice13],\n",
        "       simple_regret_approx_18[slice13],\n",
        "       simple_regret_approx_19[slice13],\n",
        "       simple_regret_approx_20[slice13]]\n",
        "\n",
        "exact13 = [simple_regret_exact_1[slice13],\n",
        "       simple_regret_exact_2[slice13],\n",
        "       simple_regret_exact_3[slice13],\n",
        "       simple_regret_exact_4[slice13],\n",
        "       simple_regret_exact_5[slice13],\n",
        "       simple_regret_exact_6[slice13],\n",
        "       simple_regret_exact_7[slice13],\n",
        "       simple_regret_exact_8[slice13],\n",
        "       simple_regret_exact_9[slice13],\n",
        "       simple_regret_exact_10[slice13],\n",
        "       simple_regret_exact_11[slice13],\n",
        "       simple_regret_exact_12[slice13],\n",
        "       simple_regret_exact_13[slice13],\n",
        "       simple_regret_exact_14[slice13],\n",
        "       simple_regret_exact_15[slice13],\n",
        "       simple_regret_exact_16[slice13],\n",
        "       simple_regret_exact_17[slice13],\n",
        "       simple_regret_exact_18[slice13],\n",
        "       simple_regret_exact_19[slice13],\n",
        "       simple_regret_exact_20[slice13]]\n",
        "\n",
        "approx13_results = pd.DataFrame(approx13).sort_values(by=[0], ascending=False)\n",
        "exact13_results = pd.DataFrame(exact13).sort_values(by=[0], ascending=False)\n",
        "\n",
        "### Best simple regret minimization IQR - approx:\n",
        "lower_approx13 = np.asarray(approx13_results[4:5][0])[0]\n",
        "median_approx13 = np.asarray(approx13_results[9:10][0])[0]\n",
        "upper_approx13 = np.asarray(approx13_results[14:15][0])[0]\n",
        "\n",
        "lower_exact13 = np.asarray(exact13_results[4:5][0])[0]\n",
        "median_exact13 = np.asarray(exact13_results[9:10][0])[0]\n",
        "upper_exact13 = np.asarray(exact13_results[14:15][0])[0]"
      ],
      "execution_count": 81,
      "outputs": []
    },
    {
      "cell_type": "code",
      "metadata": {
        "id": "9A7mlVvJQxf5"
      },
      "source": [
        "# Iteration4 :\n",
        "\n",
        "slice4 = 3\n",
        "\n",
        "approx4 = [simple_regret_approx_1[slice4],\n",
        "       simple_regret_approx_2[slice4],\n",
        "       simple_regret_approx_3[slice4],\n",
        "       simple_regret_approx_4[slice4],\n",
        "       simple_regret_approx_5[slice4],\n",
        "       simple_regret_approx_6[slice4],\n",
        "       simple_regret_approx_7[slice4],\n",
        "       simple_regret_approx_8[slice4],\n",
        "       simple_regret_approx_9[slice4],\n",
        "       simple_regret_approx_10[slice4],\n",
        "       simple_regret_approx_11[slice4],\n",
        "       simple_regret_approx_12[slice4],\n",
        "       simple_regret_approx_13[slice4],\n",
        "       simple_regret_approx_14[slice4],\n",
        "       simple_regret_approx_15[slice4],\n",
        "       simple_regret_approx_16[slice4],\n",
        "       simple_regret_approx_17[slice4],\n",
        "       simple_regret_approx_18[slice4],\n",
        "       simple_regret_approx_19[slice4],\n",
        "       simple_regret_approx_20[slice4]]\n",
        "\n",
        "exact4 = [simple_regret_exact_1[slice4],\n",
        "       simple_regret_exact_2[slice4],\n",
        "       simple_regret_exact_3[slice4],\n",
        "       simple_regret_exact_4[slice4],\n",
        "       simple_regret_exact_5[slice4],\n",
        "       simple_regret_exact_6[slice4],\n",
        "       simple_regret_exact_7[slice4],\n",
        "       simple_regret_exact_8[slice4],\n",
        "       simple_regret_exact_9[slice4],\n",
        "       simple_regret_exact_10[slice4],\n",
        "       simple_regret_exact_11[slice4],\n",
        "       simple_regret_exact_12[slice4],\n",
        "       simple_regret_exact_13[slice4],\n",
        "       simple_regret_exact_14[slice4],\n",
        "       simple_regret_exact_15[slice4],\n",
        "       simple_regret_exact_16[slice4],\n",
        "       simple_regret_exact_17[slice4],\n",
        "       simple_regret_exact_18[slice4],\n",
        "       simple_regret_exact_19[slice4],\n",
        "       simple_regret_exact_20[slice4]]\n",
        "\n",
        "approx4_results = pd.DataFrame(approx4).sort_values(by=[0], ascending=False)\n",
        "exact4_results = pd.DataFrame(exact4).sort_values(by=[0], ascending=False)\n",
        "\n",
        "### Best simple regret minimization IQR - approx:\n",
        "lower_approx4 = np.asarray(approx4_results[4:5][0])[0]\n",
        "median_approx4 = np.asarray(approx4_results[9:10][0])[0]\n",
        "upper_approx4 = np.asarray(approx4_results[14:15][0])[0]\n",
        "\n",
        "lower_exact4 = np.asarray(exact4_results[4:5][0])[0]\n",
        "median_exact4 = np.asarray(exact4_results[9:10][0])[0]\n",
        "upper_exact4 = np.asarray(exact4_results[14:15][0])[0]"
      ],
      "execution_count": 82,
      "outputs": []
    },
    {
      "cell_type": "code",
      "metadata": {
        "id": "ijq-rioYQxf5"
      },
      "source": [
        "# Iteration14 :\n",
        "\n",
        "slice14 = 13\n",
        "\n",
        "approx14 = [simple_regret_approx_1[slice14],\n",
        "       simple_regret_approx_2[slice14],\n",
        "       simple_regret_approx_3[slice14],\n",
        "       simple_regret_approx_4[slice14],\n",
        "       simple_regret_approx_5[slice14],\n",
        "       simple_regret_approx_6[slice14],\n",
        "       simple_regret_approx_7[slice14],\n",
        "       simple_regret_approx_8[slice14],\n",
        "       simple_regret_approx_9[slice14],\n",
        "       simple_regret_approx_10[slice14],\n",
        "       simple_regret_approx_11[slice14],\n",
        "       simple_regret_approx_12[slice14],\n",
        "       simple_regret_approx_13[slice14],\n",
        "       simple_regret_approx_14[slice14],\n",
        "       simple_regret_approx_15[slice14],\n",
        "       simple_regret_approx_16[slice14],\n",
        "       simple_regret_approx_17[slice14],\n",
        "       simple_regret_approx_18[slice14],\n",
        "       simple_regret_approx_19[slice14],\n",
        "       simple_regret_approx_20[slice14]]\n",
        "\n",
        "exact14 = [simple_regret_exact_1[slice14],\n",
        "       simple_regret_exact_2[slice14],\n",
        "       simple_regret_exact_3[slice14],\n",
        "       simple_regret_exact_4[slice14],\n",
        "       simple_regret_exact_5[slice14],\n",
        "       simple_regret_exact_6[slice14],\n",
        "       simple_regret_exact_7[slice14],\n",
        "       simple_regret_exact_8[slice14],\n",
        "       simple_regret_exact_9[slice14],\n",
        "       simple_regret_exact_10[slice14],\n",
        "       simple_regret_exact_11[slice14],\n",
        "       simple_regret_exact_12[slice14],\n",
        "       simple_regret_exact_13[slice14],\n",
        "       simple_regret_exact_14[slice14],\n",
        "       simple_regret_exact_15[slice14],\n",
        "       simple_regret_exact_16[slice14],\n",
        "       simple_regret_exact_17[slice14],\n",
        "       simple_regret_exact_18[slice14],\n",
        "       simple_regret_exact_19[slice14],\n",
        "       simple_regret_exact_20[slice14]]\n",
        "\n",
        "approx14_results = pd.DataFrame(approx14).sort_values(by=[0], ascending=False)\n",
        "exact14_results = pd.DataFrame(exact14).sort_values(by=[0], ascending=False)\n",
        "\n",
        "### Best simple regret minimization IQR - approx:\n",
        "lower_approx14 = np.asarray(approx14_results[4:5][0])[0]\n",
        "median_approx14 = np.asarray(approx14_results[9:10][0])[0]\n",
        "upper_approx14 = np.asarray(approx14_results[14:15][0])[0]\n",
        "\n",
        "lower_exact14 = np.asarray(exact14_results[4:5][0])[0]\n",
        "median_exact14 = np.asarray(exact14_results[9:10][0])[0]\n",
        "upper_exact14 = np.asarray(exact14_results[14:15][0])[0]"
      ],
      "execution_count": 83,
      "outputs": []
    },
    {
      "cell_type": "code",
      "metadata": {
        "id": "XINlZjoTd-ZK"
      },
      "source": [
        "# Iteration5 :\n",
        "\n",
        "slice5 = 4\n",
        "\n",
        "approx5 = [simple_regret_approx_1[slice5],\n",
        "       simple_regret_approx_2[slice5],\n",
        "       simple_regret_approx_3[slice5],\n",
        "       simple_regret_approx_4[slice5],\n",
        "       simple_regret_approx_5[slice5],\n",
        "       simple_regret_approx_6[slice5],\n",
        "       simple_regret_approx_7[slice5],\n",
        "       simple_regret_approx_8[slice5],\n",
        "       simple_regret_approx_9[slice5],\n",
        "       simple_regret_approx_10[slice5],\n",
        "       simple_regret_approx_11[slice5],\n",
        "       simple_regret_approx_12[slice5],\n",
        "       simple_regret_approx_13[slice5],\n",
        "       simple_regret_approx_14[slice5],\n",
        "       simple_regret_approx_15[slice5],\n",
        "       simple_regret_approx_16[slice5],\n",
        "       simple_regret_approx_17[slice5],\n",
        "       simple_regret_approx_18[slice5],\n",
        "       simple_regret_approx_19[slice5],\n",
        "       simple_regret_approx_20[slice5]]\n",
        "\n",
        "exact5 = [simple_regret_exact_1[slice5],\n",
        "       simple_regret_exact_2[slice5],\n",
        "       simple_regret_exact_3[slice5],\n",
        "       simple_regret_exact_4[slice5],\n",
        "       simple_regret_exact_5[slice5],\n",
        "       simple_regret_exact_6[slice5],\n",
        "       simple_regret_exact_7[slice5],\n",
        "       simple_regret_exact_8[slice5],\n",
        "       simple_regret_exact_9[slice5],\n",
        "       simple_regret_exact_10[slice5],\n",
        "       simple_regret_exact_11[slice5],\n",
        "       simple_regret_exact_12[slice5],\n",
        "       simple_regret_exact_13[slice5],\n",
        "       simple_regret_exact_14[slice5],\n",
        "       simple_regret_exact_15[slice5],\n",
        "       simple_regret_exact_16[slice5],\n",
        "       simple_regret_exact_17[slice5],\n",
        "       simple_regret_exact_18[slice5],\n",
        "       simple_regret_exact_19[slice5],\n",
        "       simple_regret_exact_20[slice5]]\n",
        "\n",
        "approx5_results = pd.DataFrame(approx5).sort_values(by=[0], ascending=False)\n",
        "exact5_results = pd.DataFrame(exact5).sort_values(by=[0], ascending=False)\n",
        "\n",
        "### Best simple regret minimization IQR - approx:\n",
        "lower_approx5 = np.asarray(approx5_results[4:5][0])[0]\n",
        "median_approx5 = np.asarray(approx5_results[9:10][0])[0]\n",
        "upper_approx5 = np.asarray(approx5_results[14:15][0])[0]\n",
        "\n",
        "lower_exact5 = np.asarray(exact5_results[4:5][0])[0]\n",
        "median_exact5 = np.asarray(exact5_results[9:10][0])[0]\n",
        "upper_exact5 = np.asarray(exact5_results[14:15][0])[0]"
      ],
      "execution_count": 84,
      "outputs": []
    },
    {
      "cell_type": "code",
      "metadata": {
        "id": "4aZ7C8sOQxf6"
      },
      "source": [
        "# Iteration15 :\n",
        "\n",
        "slice15 = 14\n",
        "\n",
        "approx15 = [simple_regret_approx_1[slice15],\n",
        "       simple_regret_approx_2[slice15],\n",
        "       simple_regret_approx_3[slice15],\n",
        "       simple_regret_approx_4[slice15],\n",
        "       simple_regret_approx_5[slice15],\n",
        "       simple_regret_approx_6[slice15],\n",
        "       simple_regret_approx_7[slice15],\n",
        "       simple_regret_approx_8[slice15],\n",
        "       simple_regret_approx_9[slice15],\n",
        "       simple_regret_approx_10[slice15],\n",
        "       simple_regret_approx_11[slice15],\n",
        "       simple_regret_approx_12[slice15],\n",
        "       simple_regret_approx_13[slice15],\n",
        "       simple_regret_approx_14[slice15],\n",
        "       simple_regret_approx_15[slice15],\n",
        "       simple_regret_approx_16[slice15],\n",
        "       simple_regret_approx_17[slice15],\n",
        "       simple_regret_approx_18[slice15],\n",
        "       simple_regret_approx_19[slice15],\n",
        "       simple_regret_approx_20[slice15]]\n",
        "\n",
        "exact15 = [simple_regret_exact_1[slice15],\n",
        "       simple_regret_exact_2[slice15],\n",
        "       simple_regret_exact_3[slice15],\n",
        "       simple_regret_exact_4[slice15],\n",
        "       simple_regret_exact_5[slice15],\n",
        "       simple_regret_exact_6[slice15],\n",
        "       simple_regret_exact_7[slice15],\n",
        "       simple_regret_exact_8[slice15],\n",
        "       simple_regret_exact_9[slice15],\n",
        "       simple_regret_exact_10[slice15],\n",
        "       simple_regret_exact_11[slice15],\n",
        "       simple_regret_exact_12[slice15],\n",
        "       simple_regret_exact_13[slice15],\n",
        "       simple_regret_exact_14[slice15],\n",
        "       simple_regret_exact_15[slice15],\n",
        "       simple_regret_exact_16[slice15],\n",
        "       simple_regret_exact_17[slice15],\n",
        "       simple_regret_exact_18[slice15],\n",
        "       simple_regret_exact_19[slice15],\n",
        "       simple_regret_exact_20[slice15]]\n",
        "\n",
        "approx15_results = pd.DataFrame(approx15).sort_values(by=[0], ascending=False)\n",
        "exact15_results = pd.DataFrame(exact15).sort_values(by=[0], ascending=False)\n",
        "\n",
        "### Best simple regret minimization IQR - approx:\n",
        "lower_approx15 = np.asarray(approx15_results[4:5][0])[0]\n",
        "median_approx15 = np.asarray(approx15_results[9:10][0])[0]\n",
        "upper_approx15 = np.asarray(approx15_results[14:15][0])[0]\n",
        "\n",
        "lower_exact15 = np.asarray(exact15_results[4:5][0])[0]\n",
        "median_exact15 = np.asarray(exact15_results[9:10][0])[0]\n",
        "upper_exact15 = np.asarray(exact15_results[14:15][0])[0]"
      ],
      "execution_count": 85,
      "outputs": []
    },
    {
      "cell_type": "code",
      "metadata": {
        "id": "KJINKhv1Qxf6"
      },
      "source": [
        "# Iteration6 :\n",
        "\n",
        "slice6 = 5\n",
        "\n",
        "approx6 = [simple_regret_approx_1[slice6],\n",
        "       simple_regret_approx_2[slice6],\n",
        "       simple_regret_approx_3[slice6],\n",
        "       simple_regret_approx_4[slice6],\n",
        "       simple_regret_approx_5[slice6],\n",
        "       simple_regret_approx_6[slice6],\n",
        "       simple_regret_approx_7[slice6],\n",
        "       simple_regret_approx_8[slice6],\n",
        "       simple_regret_approx_9[slice6],\n",
        "       simple_regret_approx_10[slice6],\n",
        "       simple_regret_approx_11[slice6],\n",
        "       simple_regret_approx_12[slice6],\n",
        "       simple_regret_approx_13[slice6],\n",
        "       simple_regret_approx_14[slice6],\n",
        "       simple_regret_approx_15[slice6],\n",
        "       simple_regret_approx_16[slice6],\n",
        "       simple_regret_approx_17[slice6],\n",
        "       simple_regret_approx_18[slice6],\n",
        "       simple_regret_approx_19[slice6],\n",
        "       simple_regret_approx_20[slice6]]\n",
        "\n",
        "exact6 = [simple_regret_exact_1[slice6],\n",
        "       simple_regret_exact_2[slice6],\n",
        "       simple_regret_exact_3[slice6],\n",
        "       simple_regret_exact_4[slice6],\n",
        "       simple_regret_exact_5[slice6],\n",
        "       simple_regret_exact_6[slice6],\n",
        "       simple_regret_exact_7[slice6],\n",
        "       simple_regret_exact_8[slice6],\n",
        "       simple_regret_exact_9[slice6],\n",
        "       simple_regret_exact_10[slice6],\n",
        "       simple_regret_exact_11[slice6],\n",
        "       simple_regret_exact_12[slice6],\n",
        "       simple_regret_exact_13[slice6],\n",
        "       simple_regret_exact_14[slice6],\n",
        "       simple_regret_exact_15[slice6],\n",
        "       simple_regret_exact_16[slice6],\n",
        "       simple_regret_exact_17[slice6],\n",
        "       simple_regret_exact_18[slice6],\n",
        "       simple_regret_exact_19[slice6],\n",
        "       simple_regret_exact_20[slice6]]\n",
        "\n",
        "approx6_results = pd.DataFrame(approx6).sort_values(by=[0], ascending=False)\n",
        "exact6_results = pd.DataFrame(exact6).sort_values(by=[0], ascending=False)\n",
        "\n",
        "### Best simple regret minimization IQR - approx:\n",
        "lower_approx6 = np.asarray(approx6_results[4:5][0])[0]\n",
        "median_approx6 = np.asarray(approx6_results[9:10][0])[0]\n",
        "upper_approx6 = np.asarray(approx6_results[14:15][0])[0]\n",
        "\n",
        "lower_exact6 = np.asarray(exact6_results[4:5][0])[0]\n",
        "median_exact6 = np.asarray(exact6_results[9:10][0])[0]\n",
        "upper_exact6 = np.asarray(exact6_results[14:15][0])[0]"
      ],
      "execution_count": 86,
      "outputs": []
    },
    {
      "cell_type": "code",
      "metadata": {
        "id": "nwC5N1FsQxf7"
      },
      "source": [
        "# Iteration16 :\n",
        "\n",
        "slice16 = 15\n",
        "\n",
        "approx16 = [simple_regret_approx_1[slice16],\n",
        "       simple_regret_approx_2[slice16],\n",
        "       simple_regret_approx_3[slice16],\n",
        "       simple_regret_approx_4[slice16],\n",
        "       simple_regret_approx_5[slice16],\n",
        "       simple_regret_approx_6[slice16],\n",
        "       simple_regret_approx_7[slice16],\n",
        "       simple_regret_approx_8[slice16],\n",
        "       simple_regret_approx_9[slice16],\n",
        "       simple_regret_approx_10[slice16],\n",
        "       simple_regret_approx_11[slice16],\n",
        "       simple_regret_approx_12[slice16],\n",
        "       simple_regret_approx_13[slice16],\n",
        "       simple_regret_approx_14[slice16],\n",
        "       simple_regret_approx_15[slice16],\n",
        "       simple_regret_approx_16[slice16],\n",
        "       simple_regret_approx_17[slice16],\n",
        "       simple_regret_approx_18[slice16],\n",
        "       simple_regret_approx_19[slice16],\n",
        "       simple_regret_approx_20[slice16]]\n",
        "\n",
        "exact16 = [simple_regret_exact_1[slice16],\n",
        "       simple_regret_exact_2[slice16],\n",
        "       simple_regret_exact_3[slice16],\n",
        "       simple_regret_exact_4[slice16],\n",
        "       simple_regret_exact_5[slice16],\n",
        "       simple_regret_exact_6[slice16],\n",
        "       simple_regret_exact_7[slice16],\n",
        "       simple_regret_exact_8[slice16],\n",
        "       simple_regret_exact_9[slice16],\n",
        "       simple_regret_exact_10[slice16],\n",
        "       simple_regret_exact_11[slice16],\n",
        "       simple_regret_exact_12[slice16],\n",
        "       simple_regret_exact_13[slice16],\n",
        "       simple_regret_exact_14[slice16],\n",
        "       simple_regret_exact_15[slice16],\n",
        "       simple_regret_exact_16[slice16],\n",
        "       simple_regret_exact_17[slice16],\n",
        "       simple_regret_exact_18[slice16],\n",
        "       simple_regret_exact_19[slice16],\n",
        "       simple_regret_exact_20[slice16]]\n",
        "\n",
        "approx16_results = pd.DataFrame(approx16).sort_values(by=[0], ascending=False)\n",
        "exact16_results = pd.DataFrame(exact16).sort_values(by=[0], ascending=False)\n",
        "\n",
        "### Best simple regret minimization IQR - approx:\n",
        "lower_approx16 = np.asarray(approx16_results[4:5][0])[0]\n",
        "median_approx16 = np.asarray(approx16_results[9:10][0])[0]\n",
        "upper_approx16 = np.asarray(approx16_results[14:15][0])[0]\n",
        "\n",
        "lower_exact16 = np.asarray(exact16_results[4:5][0])[0]\n",
        "median_exact16 = np.asarray(exact16_results[9:10][0])[0]\n",
        "upper_exact16 = np.asarray(exact16_results[14:15][0])[0]"
      ],
      "execution_count": 87,
      "outputs": []
    },
    {
      "cell_type": "code",
      "metadata": {
        "id": "TrPV0AfnQxf7"
      },
      "source": [
        "# Iteration7 :\n",
        "\n",
        "slice7 = 6\n",
        "\n",
        "approx7 = [simple_regret_approx_1[slice7],\n",
        "       simple_regret_approx_2[slice7],\n",
        "       simple_regret_approx_3[slice7],\n",
        "       simple_regret_approx_4[slice7],\n",
        "       simple_regret_approx_5[slice7],\n",
        "       simple_regret_approx_6[slice7],\n",
        "       simple_regret_approx_7[slice7],\n",
        "       simple_regret_approx_8[slice7],\n",
        "       simple_regret_approx_9[slice7],\n",
        "       simple_regret_approx_10[slice7],\n",
        "       simple_regret_approx_11[slice7],\n",
        "       simple_regret_approx_12[slice7],\n",
        "       simple_regret_approx_13[slice7],\n",
        "       simple_regret_approx_14[slice7],\n",
        "       simple_regret_approx_15[slice7],\n",
        "       simple_regret_approx_16[slice7],\n",
        "       simple_regret_approx_17[slice7],\n",
        "       simple_regret_approx_18[slice7],\n",
        "       simple_regret_approx_19[slice7],\n",
        "       simple_regret_approx_20[slice7]]\n",
        "\n",
        "exact7 = [simple_regret_exact_1[slice7],\n",
        "       simple_regret_exact_2[slice7],\n",
        "       simple_regret_exact_3[slice7],\n",
        "       simple_regret_exact_4[slice7],\n",
        "       simple_regret_exact_5[slice7],\n",
        "       simple_regret_exact_6[slice7],\n",
        "       simple_regret_exact_7[slice7],\n",
        "       simple_regret_exact_8[slice7],\n",
        "       simple_regret_exact_9[slice7],\n",
        "       simple_regret_exact_10[slice7],\n",
        "       simple_regret_exact_11[slice7],\n",
        "       simple_regret_exact_12[slice7],\n",
        "       simple_regret_exact_13[slice7],\n",
        "       simple_regret_exact_14[slice7],\n",
        "       simple_regret_exact_15[slice7],\n",
        "       simple_regret_exact_16[slice7],\n",
        "       simple_regret_exact_17[slice7],\n",
        "       simple_regret_exact_18[slice7],\n",
        "       simple_regret_exact_19[slice7],\n",
        "       simple_regret_exact_20[slice7]]\n",
        "\n",
        "approx7_results = pd.DataFrame(approx7).sort_values(by=[0], ascending=False)\n",
        "exact7_results = pd.DataFrame(exact7).sort_values(by=[0], ascending=False)\n",
        "\n",
        "### Best simple regret minimization IQR - approx:\n",
        "lower_approx7 = np.asarray(approx7_results[4:5][0])[0]\n",
        "median_approx7 = np.asarray(approx7_results[9:10][0])[0]\n",
        "upper_approx7 = np.asarray(approx7_results[14:15][0])[0]\n",
        "\n",
        "lower_exact7 = np.asarray(exact7_results[4:5][0])[0]\n",
        "median_exact7 = np.asarray(exact7_results[9:10][0])[0]\n",
        "upper_exact7 = np.asarray(exact7_results[14:15][0])[0]"
      ],
      "execution_count": 88,
      "outputs": []
    },
    {
      "cell_type": "code",
      "metadata": {
        "id": "Ub_-wpK4Qxf8"
      },
      "source": [
        "# Iteration17 :\n",
        "\n",
        "slice17 = 16\n",
        "\n",
        "approx17 = [simple_regret_approx_1[slice17],\n",
        "       simple_regret_approx_2[slice17],\n",
        "       simple_regret_approx_3[slice17],\n",
        "       simple_regret_approx_4[slice17],\n",
        "       simple_regret_approx_5[slice17],\n",
        "       simple_regret_approx_6[slice17],\n",
        "       simple_regret_approx_7[slice17],\n",
        "       simple_regret_approx_8[slice17],\n",
        "       simple_regret_approx_9[slice17],\n",
        "       simple_regret_approx_10[slice17],\n",
        "       simple_regret_approx_11[slice17],\n",
        "       simple_regret_approx_12[slice17],\n",
        "       simple_regret_approx_13[slice17],\n",
        "       simple_regret_approx_14[slice17],\n",
        "       simple_regret_approx_15[slice17],\n",
        "       simple_regret_approx_16[slice17],\n",
        "       simple_regret_approx_17[slice17],\n",
        "       simple_regret_approx_18[slice17],\n",
        "       simple_regret_approx_19[slice17],\n",
        "       simple_regret_approx_20[slice17]]\n",
        "\n",
        "exact17 = [simple_regret_exact_1[slice17],\n",
        "       simple_regret_exact_2[slice17],\n",
        "       simple_regret_exact_3[slice17],\n",
        "       simple_regret_exact_4[slice17],\n",
        "       simple_regret_exact_5[slice17],\n",
        "       simple_regret_exact_6[slice17],\n",
        "       simple_regret_exact_7[slice17],\n",
        "       simple_regret_exact_8[slice17],\n",
        "       simple_regret_exact_9[slice17],\n",
        "       simple_regret_exact_10[slice17],\n",
        "       simple_regret_exact_11[slice17],\n",
        "       simple_regret_exact_12[slice17],\n",
        "       simple_regret_exact_13[slice17],\n",
        "       simple_regret_exact_14[slice17],\n",
        "       simple_regret_exact_15[slice17],\n",
        "       simple_regret_exact_16[slice17],\n",
        "       simple_regret_exact_17[slice17],\n",
        "       simple_regret_exact_18[slice17],\n",
        "       simple_regret_exact_19[slice17],\n",
        "       simple_regret_exact_20[slice17]]\n",
        "\n",
        "approx17_results = pd.DataFrame(approx17).sort_values(by=[0], ascending=False)\n",
        "exact17_results = pd.DataFrame(exact17).sort_values(by=[0], ascending=False)\n",
        "\n",
        "### Best simple regret minimization IQR - approx:\n",
        "lower_approx17 = np.asarray(approx17_results[4:5][0])[0]\n",
        "median_approx17 = np.asarray(approx17_results[9:10][0])[0]\n",
        "upper_approx17 = np.asarray(approx17_results[14:15][0])[0]\n",
        "\n",
        "lower_exact17 = np.asarray(exact17_results[4:5][0])[0]\n",
        "median_exact17 = np.asarray(exact17_results[9:10][0])[0]\n",
        "upper_exact17 = np.asarray(exact17_results[14:15][0])[0]"
      ],
      "execution_count": 89,
      "outputs": []
    },
    {
      "cell_type": "code",
      "metadata": {
        "id": "-6VLo37PQxf8"
      },
      "source": [
        "# Iteration8 :\n",
        "\n",
        "slice8 = 7\n",
        "\n",
        "approx8 = [simple_regret_approx_1[slice8],\n",
        "       simple_regret_approx_2[slice8],\n",
        "       simple_regret_approx_3[slice8],\n",
        "       simple_regret_approx_4[slice8],\n",
        "       simple_regret_approx_5[slice8],\n",
        "       simple_regret_approx_6[slice8],\n",
        "       simple_regret_approx_7[slice8],\n",
        "       simple_regret_approx_8[slice8],\n",
        "       simple_regret_approx_9[slice8],\n",
        "       simple_regret_approx_10[slice8],\n",
        "       simple_regret_approx_11[slice8],\n",
        "       simple_regret_approx_12[slice8],\n",
        "       simple_regret_approx_13[slice8],\n",
        "       simple_regret_approx_14[slice8],\n",
        "       simple_regret_approx_15[slice8],\n",
        "       simple_regret_approx_16[slice8],\n",
        "       simple_regret_approx_17[slice8],\n",
        "       simple_regret_approx_18[slice8],\n",
        "       simple_regret_approx_19[slice8],\n",
        "       simple_regret_approx_20[slice8]]\n",
        "\n",
        "exact8 = [simple_regret_exact_1[slice8],\n",
        "       simple_regret_exact_2[slice8],\n",
        "       simple_regret_exact_3[slice8],\n",
        "       simple_regret_exact_4[slice8],\n",
        "       simple_regret_exact_5[slice8],\n",
        "       simple_regret_exact_6[slice8],\n",
        "       simple_regret_exact_7[slice8],\n",
        "       simple_regret_exact_8[slice8],\n",
        "       simple_regret_exact_9[slice8],\n",
        "       simple_regret_exact_10[slice8],\n",
        "       simple_regret_exact_11[slice8],\n",
        "       simple_regret_exact_12[slice8],\n",
        "       simple_regret_exact_13[slice8],\n",
        "       simple_regret_exact_14[slice8],\n",
        "       simple_regret_exact_15[slice8],\n",
        "       simple_regret_exact_16[slice8],\n",
        "       simple_regret_exact_17[slice8],\n",
        "       simple_regret_exact_18[slice8],\n",
        "       simple_regret_exact_19[slice8],\n",
        "       simple_regret_exact_20[slice8]]\n",
        "\n",
        "approx8_results = pd.DataFrame(approx8).sort_values(by=[0], ascending=False)\n",
        "exact8_results = pd.DataFrame(exact8).sort_values(by=[0], ascending=False)\n",
        "\n",
        "### Best simple regret minimization IQR - approx:\n",
        "lower_approx8 = np.asarray(approx8_results[4:5][0])[0]\n",
        "median_approx8 = np.asarray(approx8_results[9:10][0])[0]\n",
        "upper_approx8 = np.asarray(approx8_results[14:15][0])[0]\n",
        "\n",
        "lower_exact8 = np.asarray(exact8_results[4:5][0])[0]\n",
        "median_exact8 = np.asarray(exact8_results[9:10][0])[0]\n",
        "upper_exact8 = np.asarray(exact8_results[14:15][0])[0]"
      ],
      "execution_count": 90,
      "outputs": []
    },
    {
      "cell_type": "code",
      "metadata": {
        "id": "2Dp-9CC2Qxf9"
      },
      "source": [
        "# Iteration18 :\n",
        "\n",
        "slice18 = 17\n",
        "\n",
        "approx18 = [simple_regret_approx_1[slice18],\n",
        "       simple_regret_approx_2[slice18],\n",
        "       simple_regret_approx_3[slice18],\n",
        "       simple_regret_approx_4[slice18],\n",
        "       simple_regret_approx_5[slice18],\n",
        "       simple_regret_approx_6[slice18],\n",
        "       simple_regret_approx_7[slice18],\n",
        "       simple_regret_approx_8[slice18],\n",
        "       simple_regret_approx_9[slice18],\n",
        "       simple_regret_approx_10[slice18],\n",
        "       simple_regret_approx_11[slice18],\n",
        "       simple_regret_approx_12[slice18],\n",
        "       simple_regret_approx_13[slice18],\n",
        "       simple_regret_approx_14[slice18],\n",
        "       simple_regret_approx_15[slice18],\n",
        "       simple_regret_approx_16[slice18],\n",
        "       simple_regret_approx_17[slice18],\n",
        "       simple_regret_approx_18[slice18],\n",
        "       simple_regret_approx_19[slice18],\n",
        "       simple_regret_approx_20[slice18]]\n",
        "\n",
        "exact18 = [simple_regret_exact_1[slice18],\n",
        "       simple_regret_exact_2[slice18],\n",
        "       simple_regret_exact_3[slice18],\n",
        "       simple_regret_exact_4[slice18],\n",
        "       simple_regret_exact_5[slice18],\n",
        "       simple_regret_exact_6[slice18],\n",
        "       simple_regret_exact_7[slice18],\n",
        "       simple_regret_exact_8[slice18],\n",
        "       simple_regret_exact_9[slice18],\n",
        "       simple_regret_exact_10[slice18],\n",
        "       simple_regret_exact_11[slice18],\n",
        "       simple_regret_exact_12[slice18],\n",
        "       simple_regret_exact_13[slice18],\n",
        "       simple_regret_exact_14[slice18],\n",
        "       simple_regret_exact_15[slice18],\n",
        "       simple_regret_exact_16[slice18],\n",
        "       simple_regret_exact_17[slice18],\n",
        "       simple_regret_exact_18[slice18],\n",
        "       simple_regret_exact_19[slice18],\n",
        "       simple_regret_exact_20[slice18]]\n",
        "\n",
        "approx18_results = pd.DataFrame(approx18).sort_values(by=[0], ascending=False)\n",
        "exact18_results = pd.DataFrame(exact18).sort_values(by=[0], ascending=False)\n",
        "\n",
        "### Best simple regret minimization IQR - approx:\n",
        "lower_approx18 = np.asarray(approx18_results[4:5][0])[0]\n",
        "median_approx18 = np.asarray(approx18_results[9:10][0])[0]\n",
        "upper_approx18 = np.asarray(approx18_results[14:15][0])[0]\n",
        "\n",
        "lower_exact18 = np.asarray(exact18_results[4:5][0])[0]\n",
        "median_exact18 = np.asarray(exact18_results[9:10][0])[0]\n",
        "upper_exact18 = np.asarray(exact18_results[14:15][0])[0]"
      ],
      "execution_count": 91,
      "outputs": []
    },
    {
      "cell_type": "code",
      "metadata": {
        "id": "SqiaOpB7Qxf9"
      },
      "source": [
        "# Iteration9 :\n",
        "\n",
        "slice9 = 8\n",
        "\n",
        "approx9 = [simple_regret_approx_1[slice9],\n",
        "       simple_regret_approx_2[slice9],\n",
        "       simple_regret_approx_3[slice9],\n",
        "       simple_regret_approx_4[slice9],\n",
        "       simple_regret_approx_5[slice9],\n",
        "       simple_regret_approx_6[slice9],\n",
        "       simple_regret_approx_7[slice9],\n",
        "       simple_regret_approx_8[slice9],\n",
        "       simple_regret_approx_9[slice9],\n",
        "       simple_regret_approx_10[slice9],\n",
        "       simple_regret_approx_11[slice9],\n",
        "       simple_regret_approx_12[slice9],\n",
        "       simple_regret_approx_13[slice9],\n",
        "       simple_regret_approx_14[slice9],\n",
        "       simple_regret_approx_15[slice9],\n",
        "       simple_regret_approx_16[slice9],\n",
        "       simple_regret_approx_17[slice9],\n",
        "       simple_regret_approx_18[slice9],\n",
        "       simple_regret_approx_19[slice9],\n",
        "       simple_regret_approx_20[slice9]]\n",
        "\n",
        "exact9 = [simple_regret_exact_1[slice9],\n",
        "       simple_regret_exact_2[slice9],\n",
        "       simple_regret_exact_3[slice9],\n",
        "       simple_regret_exact_4[slice9],\n",
        "       simple_regret_exact_5[slice9],\n",
        "       simple_regret_exact_6[slice9],\n",
        "       simple_regret_exact_7[slice9],\n",
        "       simple_regret_exact_8[slice9],\n",
        "       simple_regret_exact_9[slice9],\n",
        "       simple_regret_exact_10[slice9],\n",
        "       simple_regret_exact_11[slice9],\n",
        "       simple_regret_exact_12[slice9],\n",
        "       simple_regret_exact_13[slice9],\n",
        "       simple_regret_exact_14[slice9],\n",
        "       simple_regret_exact_15[slice9],\n",
        "       simple_regret_exact_16[slice9],\n",
        "       simple_regret_exact_17[slice9],\n",
        "       simple_regret_exact_18[slice9],\n",
        "       simple_regret_exact_19[slice9],\n",
        "       simple_regret_exact_20[slice9]]\n",
        "\n",
        "approx9_results = pd.DataFrame(approx9).sort_values(by=[0], ascending=False)\n",
        "exact9_results = pd.DataFrame(exact9).sort_values(by=[0], ascending=False)\n",
        "\n",
        "### Best simple regret minimization IQR - approx:\n",
        "lower_approx9 = np.asarray(approx9_results[4:5][0])[0]\n",
        "median_approx9 = np.asarray(approx9_results[9:10][0])[0]\n",
        "upper_approx9 = np.asarray(approx9_results[14:15][0])[0]\n",
        "\n",
        "lower_exact9 = np.asarray(exact9_results[4:5][0])[0]\n",
        "median_exact9 = np.asarray(exact9_results[9:10][0])[0]\n",
        "upper_exact9 = np.asarray(exact9_results[14:15][0])[0]"
      ],
      "execution_count": 92,
      "outputs": []
    },
    {
      "cell_type": "code",
      "metadata": {
        "id": "OQkCCOsPQxf9"
      },
      "source": [
        "# Iteration19 :\n",
        "\n",
        "slice19 = 18\n",
        "\n",
        "approx19 = [simple_regret_approx_1[slice19],\n",
        "       simple_regret_approx_2[slice19],\n",
        "       simple_regret_approx_3[slice19],\n",
        "       simple_regret_approx_4[slice19],\n",
        "       simple_regret_approx_5[slice19],\n",
        "       simple_regret_approx_6[slice19],\n",
        "       simple_regret_approx_7[slice19],\n",
        "       simple_regret_approx_8[slice19],\n",
        "       simple_regret_approx_9[slice19],\n",
        "       simple_regret_approx_10[slice19],\n",
        "       simple_regret_approx_11[slice19],\n",
        "       simple_regret_approx_12[slice19],\n",
        "       simple_regret_approx_13[slice19],\n",
        "       simple_regret_approx_14[slice19],\n",
        "       simple_regret_approx_15[slice19],\n",
        "       simple_regret_approx_16[slice19],\n",
        "       simple_regret_approx_17[slice19],\n",
        "       simple_regret_approx_18[slice19],\n",
        "       simple_regret_approx_19[slice19],\n",
        "       simple_regret_approx_20[slice19]]\n",
        "\n",
        "exact19 = [simple_regret_exact_1[slice19],\n",
        "       simple_regret_exact_2[slice19],\n",
        "       simple_regret_exact_3[slice19],\n",
        "       simple_regret_exact_4[slice19],\n",
        "       simple_regret_exact_5[slice19],\n",
        "       simple_regret_exact_6[slice19],\n",
        "       simple_regret_exact_7[slice19],\n",
        "       simple_regret_exact_8[slice19],\n",
        "       simple_regret_exact_9[slice19],\n",
        "       simple_regret_exact_10[slice19],\n",
        "       simple_regret_exact_11[slice19],\n",
        "       simple_regret_exact_12[slice19],\n",
        "       simple_regret_exact_13[slice19],\n",
        "       simple_regret_exact_14[slice19],\n",
        "       simple_regret_exact_15[slice19],\n",
        "       simple_regret_exact_16[slice19],\n",
        "       simple_regret_exact_17[slice19],\n",
        "       simple_regret_exact_18[slice19],\n",
        "       simple_regret_exact_19[slice19],\n",
        "       simple_regret_exact_20[slice19]]\n",
        "\n",
        "approx19_results = pd.DataFrame(approx19).sort_values(by=[0], ascending=False)\n",
        "exact19_results = pd.DataFrame(exact19).sort_values(by=[0], ascending=False)\n",
        "\n",
        "### Best simple regret minimization IQR - approx:\n",
        "lower_approx19 = np.asarray(approx19_results[4:5][0])[0]\n",
        "median_approx19 = np.asarray(approx19_results[9:10][0])[0]\n",
        "upper_approx19 = np.asarray(approx19_results[14:15][0])[0]\n",
        "\n",
        "lower_exact19 = np.asarray(exact19_results[4:5][0])[0]\n",
        "median_exact19 = np.asarray(exact19_results[9:10][0])[0]\n",
        "upper_exact19 = np.asarray(exact19_results[14:15][0])[0]"
      ],
      "execution_count": 93,
      "outputs": []
    },
    {
      "cell_type": "code",
      "metadata": {
        "id": "h4vtWahcQxf-"
      },
      "source": [
        "# Iteration10 :\n",
        "\n",
        "slice10 = 9\n",
        "\n",
        "approx10 = [simple_regret_approx_1[slice10],\n",
        "       simple_regret_approx_2[slice10],\n",
        "       simple_regret_approx_3[slice10],\n",
        "       simple_regret_approx_4[slice10],\n",
        "       simple_regret_approx_5[slice10],\n",
        "       simple_regret_approx_6[slice10],\n",
        "       simple_regret_approx_7[slice10],\n",
        "       simple_regret_approx_8[slice10],\n",
        "       simple_regret_approx_9[slice10],\n",
        "       simple_regret_approx_10[slice10],\n",
        "       simple_regret_approx_11[slice10],\n",
        "       simple_regret_approx_12[slice10],\n",
        "       simple_regret_approx_13[slice10],\n",
        "       simple_regret_approx_14[slice10],\n",
        "       simple_regret_approx_15[slice10],\n",
        "       simple_regret_approx_16[slice10],\n",
        "       simple_regret_approx_17[slice10],\n",
        "       simple_regret_approx_18[slice10],\n",
        "       simple_regret_approx_19[slice10],\n",
        "       simple_regret_approx_20[slice10]]\n",
        "\n",
        "exact10 = [simple_regret_exact_1[slice10],\n",
        "       simple_regret_exact_2[slice10],\n",
        "       simple_regret_exact_3[slice10],\n",
        "       simple_regret_exact_4[slice10],\n",
        "       simple_regret_exact_5[slice10],\n",
        "       simple_regret_exact_6[slice10],\n",
        "       simple_regret_exact_7[slice10],\n",
        "       simple_regret_exact_8[slice10],\n",
        "       simple_regret_exact_9[slice10],\n",
        "       simple_regret_exact_10[slice10],\n",
        "       simple_regret_exact_11[slice10],\n",
        "       simple_regret_exact_12[slice10],\n",
        "       simple_regret_exact_13[slice10],\n",
        "       simple_regret_exact_14[slice10],\n",
        "       simple_regret_exact_15[slice10],\n",
        "       simple_regret_exact_16[slice10],\n",
        "       simple_regret_exact_17[slice10],\n",
        "       simple_regret_exact_18[slice10],\n",
        "       simple_regret_exact_19[slice10],\n",
        "       simple_regret_exact_20[slice10]]\n",
        "\n",
        "approx10_results = pd.DataFrame(approx10).sort_values(by=[0], ascending=False)\n",
        "exact10_results = pd.DataFrame(exact10).sort_values(by=[0], ascending=False)\n",
        "\n",
        "### Best simple regret minimization IQR - approx:\n",
        "lower_approx10 = np.asarray(approx10_results[4:5][0])[0]\n",
        "median_approx10 = np.asarray(approx10_results[9:10][0])[0]\n",
        "upper_approx10 = np.asarray(approx10_results[14:15][0])[0]\n",
        "\n",
        "lower_exact10 = np.asarray(exact10_results[4:5][0])[0]\n",
        "median_exact10 = np.asarray(exact10_results[9:10][0])[0]\n",
        "upper_exact10 = np.asarray(exact10_results[14:15][0])[0]"
      ],
      "execution_count": 94,
      "outputs": []
    },
    {
      "cell_type": "code",
      "metadata": {
        "id": "Rsf240pWQxf-"
      },
      "source": [
        "# Iteration20 :\n",
        "\n",
        "slice20 = 19\n",
        "\n",
        "approx20 = [simple_regret_approx_1[slice20],\n",
        "       simple_regret_approx_2[slice20],\n",
        "       simple_regret_approx_3[slice20],\n",
        "       simple_regret_approx_4[slice20],\n",
        "       simple_regret_approx_5[slice20],\n",
        "       simple_regret_approx_6[slice20],\n",
        "       simple_regret_approx_7[slice20],\n",
        "       simple_regret_approx_8[slice20],\n",
        "       simple_regret_approx_9[slice20],\n",
        "       simple_regret_approx_10[slice20],\n",
        "       simple_regret_approx_11[slice20],\n",
        "       simple_regret_approx_12[slice20],\n",
        "       simple_regret_approx_13[slice20],\n",
        "       simple_regret_approx_14[slice20],\n",
        "       simple_regret_approx_15[slice20],\n",
        "       simple_regret_approx_16[slice20],\n",
        "       simple_regret_approx_17[slice20],\n",
        "       simple_regret_approx_18[slice20],\n",
        "       simple_regret_approx_19[slice20],\n",
        "       simple_regret_approx_20[slice20]]\n",
        "\n",
        "exact20 = [simple_regret_exact_1[slice20],\n",
        "       simple_regret_exact_2[slice20],\n",
        "       simple_regret_exact_3[slice20],\n",
        "       simple_regret_exact_4[slice20],\n",
        "       simple_regret_exact_5[slice20],\n",
        "       simple_regret_exact_6[slice20],\n",
        "       simple_regret_exact_7[slice20],\n",
        "       simple_regret_exact_8[slice20],\n",
        "       simple_regret_exact_9[slice20],\n",
        "       simple_regret_exact_10[slice20],\n",
        "       simple_regret_exact_11[slice20],\n",
        "       simple_regret_exact_12[slice20],\n",
        "       simple_regret_exact_13[slice20],\n",
        "       simple_regret_exact_14[slice20],\n",
        "       simple_regret_exact_15[slice20],\n",
        "       simple_regret_exact_16[slice20],\n",
        "       simple_regret_exact_17[slice20],\n",
        "       simple_regret_exact_18[slice20],\n",
        "       simple_regret_exact_19[slice20],\n",
        "       simple_regret_exact_20[slice20]]\n",
        "\n",
        "approx20_results = pd.DataFrame(approx20).sort_values(by=[0], ascending=False)\n",
        "exact20_results = pd.DataFrame(exact20).sort_values(by=[0], ascending=False)\n",
        "\n",
        "### Best simple regret minimization IQR - approx:\n",
        "lower_approx20 = np.asarray(approx20_results[4:5][0])[0]\n",
        "median_approx20 = np.asarray(approx20_results[9:10][0])[0]\n",
        "upper_approx20 = np.asarray(approx20_results[14:15][0])[0]\n",
        "\n",
        "lower_exact20 = np.asarray(exact20_results[4:5][0])[0]\n",
        "median_exact20 = np.asarray(exact20_results[9:10][0])[0]\n",
        "upper_exact20 = np.asarray(exact20_results[14:15][0])[0]"
      ],
      "execution_count": 95,
      "outputs": []
    },
    {
      "cell_type": "code",
      "metadata": {
        "id": "gn36RejbQxf_"
      },
      "source": [
        "### Summarize arrays: 'Loser'\n",
        "\n",
        "lower_approx = [lower_approx1,\n",
        "            lower_approx2,\n",
        "            lower_approx3,\n",
        "            lower_approx4,\n",
        "            lower_approx5,\n",
        "            lower_approx6,\n",
        "            lower_approx7,\n",
        "            lower_approx8,\n",
        "            lower_approx9,\n",
        "            lower_approx10,\n",
        "            lower_approx11,\n",
        "            lower_approx12,\n",
        "            lower_approx13,\n",
        "            lower_approx14,\n",
        "            lower_approx15,\n",
        "            lower_approx16,\n",
        "            lower_approx17,\n",
        "            lower_approx18,\n",
        "            lower_approx19,\n",
        "            lower_approx20,\n",
        "            lower_approx21]\n",
        "\n",
        "median_approx = [median_approx1,\n",
        "            median_approx2,\n",
        "            median_approx3,\n",
        "            median_approx4,\n",
        "            median_approx5,\n",
        "            median_approx6,\n",
        "            median_approx7,\n",
        "            median_approx8,\n",
        "            median_approx9,\n",
        "            median_approx10,\n",
        "            median_approx11,\n",
        "            median_approx12,\n",
        "            median_approx13,\n",
        "            median_approx14,\n",
        "            median_approx15,\n",
        "            median_approx16,\n",
        "            median_approx17,\n",
        "            median_approx18,\n",
        "            median_approx19,\n",
        "            median_approx20,\n",
        "            median_approx21]\n",
        "\n",
        "upper_approx = [upper_approx1,\n",
        "            upper_approx2,\n",
        "            upper_approx3,\n",
        "            upper_approx4,\n",
        "            upper_approx5,\n",
        "            upper_approx6,\n",
        "            upper_approx7,\n",
        "            upper_approx8,\n",
        "            upper_approx9,\n",
        "            upper_approx10,\n",
        "            upper_approx11,\n",
        "            upper_approx12,\n",
        "            upper_approx13,\n",
        "            upper_approx14,\n",
        "            upper_approx15,\n",
        "            upper_approx16,\n",
        "            upper_approx17,\n",
        "            upper_approx18,\n",
        "            upper_approx19,\n",
        "            upper_approx20,\n",
        "            upper_approx21]"
      ],
      "execution_count": 96,
      "outputs": []
    },
    {
      "cell_type": "code",
      "metadata": {
        "id": "wxtGTOYfQxf_"
      },
      "source": [
        "### Summarize arrays: 'exact'\n",
        "\n",
        "lower_exact = [lower_exact1,\n",
        "            lower_exact2,\n",
        "            lower_exact3,\n",
        "            lower_exact4,\n",
        "            lower_exact5,\n",
        "            lower_exact6,\n",
        "            lower_exact7,\n",
        "            lower_exact8,\n",
        "            lower_exact9,\n",
        "            lower_exact10,\n",
        "            lower_exact11,\n",
        "            lower_exact12,\n",
        "            lower_exact13,\n",
        "            lower_exact14,\n",
        "            lower_exact15,\n",
        "            lower_exact16,\n",
        "            lower_exact17,\n",
        "            lower_exact18,\n",
        "            lower_exact19,\n",
        "            lower_exact20,\n",
        "            lower_exact21]\n",
        "\n",
        "median_exact = [median_exact1,\n",
        "            median_exact2,\n",
        "            median_exact3,\n",
        "            median_exact4,\n",
        "            median_exact5,\n",
        "            median_exact6,\n",
        "            median_exact7,\n",
        "            median_exact8,\n",
        "            median_exact9,\n",
        "            median_exact10,\n",
        "            median_exact11,\n",
        "            median_exact12,\n",
        "            median_exact13,\n",
        "            median_exact14,\n",
        "            median_exact15,\n",
        "            median_exact16,\n",
        "            median_exact17,\n",
        "            median_exact18,\n",
        "            median_exact19,\n",
        "            median_exact20,\n",
        "            median_exact21]\n",
        "\n",
        "upper_exact = [upper_exact1,\n",
        "            upper_exact2,\n",
        "            upper_exact3,\n",
        "            upper_exact4,\n",
        "            upper_exact5,\n",
        "            upper_exact6,\n",
        "            upper_exact7,\n",
        "            upper_exact8,\n",
        "            upper_exact9,\n",
        "            upper_exact10,\n",
        "            upper_exact11,\n",
        "            upper_exact12,\n",
        "            upper_exact13,\n",
        "            upper_exact14,\n",
        "            upper_exact15,\n",
        "            upper_exact16,\n",
        "            upper_exact17,\n",
        "            upper_exact18,\n",
        "            upper_exact19,\n",
        "            upper_exact20,\n",
        "            upper_exact21]"
      ],
      "execution_count": 97,
      "outputs": []
    },
    {
      "cell_type": "code",
      "metadata": {
        "id": "2MONq-BXQxgA",
        "colab": {
          "base_uri": "https://localhost:8080/",
          "height": 299
        },
        "outputId": "b5c6cff0-6524-45ec-805d-ab1c635d618e"
      },
      "source": [
        "### Visualise!\n",
        "\n",
        "title = func\n",
        "plt.figure()\n",
        "\n",
        "plt.plot(median_approx, color = 'Yellow')\n",
        "plt.plot(median_exact, color = 'Red')\n",
        "\n",
        "xstar = np.arange(0, iters+1, step=1)\n",
        "plt.fill_between(xstar, lower_approx, upper_approx, facecolor = 'Yellow', alpha=0.4, label='GP EI Optimization: L-BFGS-B')\n",
        "plt.fill_between(xstar, lower_exact, upper_exact, facecolor = 'Red', alpha=0.4, label='GP EI Optimization: Best Random Sample')\n",
        "\n",
        "plt.title(title, weight = 'bold')\n",
        "plt.xlabel('(Post-initialization) iteration $\\it{k}$', weight = 'bold')\n",
        "plt.ylabel('log(Regret)', weight = 'bold') \n",
        "plt.legend(loc=1) # add plot legend\n",
        "\n",
        "### Make the x-ticks integers, not floats:\n",
        "count = len(xstar)\n",
        "plt.xticks(np.arange(count), np.arange(0, count))\n",
        "plt.show() #visualize!"
      ],
      "execution_count": 98,
      "outputs": [
        {
          "output_type": "display_data",
          "data": {
            "image/png": "[encoded data removed]",
            "text/plain": [
              "<Figure size 432x288 with 1 Axes>"
            ]
          },
          "metadata": {
            "needs_background": "light"
          }
        }
      ]
    },
    {
      "cell_type": "code",
      "metadata": {
        "id": "l5dkR2Id2oiu",
        "colab": {
          "base_uri": "https://localhost:8080/"
        },
        "outputId": "63be9c77-e41e-40c6-9dcf-e493e0e1a5aa"
      },
      "source": [
        "time_approx, time_exact\n"
      ],
      "execution_count": 99,
      "outputs": [
        {
          "output_type": "execute_result",
          "data": {
            "text/plain": [
              "(162.74731183052063, 52.032365798950195)"
            ]
          },
          "metadata": {},
          "execution_count": 99
        }
      ]
    },
    {
      "cell_type": "code",
      "metadata": {
        "id": "77BffxK2Fe61"
      },
      "source": [
        ""
      ],
      "execution_count": 99,
      "outputs": []
    }
  ]
}