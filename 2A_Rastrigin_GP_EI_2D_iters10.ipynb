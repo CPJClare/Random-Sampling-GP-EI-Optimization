{
  "nbformat": 4,
  "nbformat_minor": 0,
  "metadata": {
    "colab": {
      "name": "2A. Rastrigin_GP_EI_2D_iters10.ipynb",
      "provenance": [],
      "collapsed_sections": []
    },
    "kernelspec": {
      "name": "python3",
      "display_name": "Python 3"
    },
    "language_info": {
      "name": "python"
    }
  },
  "cells": [
    {
      "cell_type": "markdown",
      "metadata": {
        "id": "Dqn4dFx7Z2Ir"
      },
      "source": [
        "\n",
        "Rastrigin: 2D\n"
      ]
    },
    {
      "cell_type": "code",
      "metadata": {
        "id": "MJTM_GZZZb5x",
        "colab": {
          "base_uri": "https://localhost:8080/"
        },
        "outputId": "895603b8-431e-4db6-95c6-9ac95054aeb6"
      },
      "source": [
        "pip install pyGPGO\n"
      ],
      "execution_count": 1,
      "outputs": [
        {
          "output_type": "stream",
          "name": "stdout",
          "text": [
            "Requirement already satisfied: pyGPGO in /usr/local/lib/python3.7/dist-packages (0.5.1)\n",
            "Requirement already satisfied: pyMC3 in /usr/local/lib/python3.7/dist-packages (from pyGPGO) (3.11.4)\n",
            "Requirement already satisfied: scipy in /usr/local/lib/python3.7/dist-packages (from pyGPGO) (1.4.1)\n",
            "Requirement already satisfied: mkl in /usr/local/lib/python3.7/dist-packages (from pyGPGO) (2019.0)\n",
            "Requirement already satisfied: scikit-learn in /usr/local/lib/python3.7/dist-packages (from pyGPGO) (0.22.2.post1)\n",
            "Requirement already satisfied: Theano-PyMC in /usr/local/lib/python3.7/dist-packages (from pyGPGO) (1.1.2)\n",
            "Requirement already satisfied: joblib in /usr/local/lib/python3.7/dist-packages (from pyGPGO) (1.0.1)\n",
            "Requirement already satisfied: numpy in /usr/local/lib/python3.7/dist-packages (from pyGPGO) (1.19.5)\n",
            "Requirement already satisfied: intel-openmp in /usr/local/lib/python3.7/dist-packages (from mkl->pyGPGO) (2021.3.0)\n",
            "Requirement already satisfied: dill in /usr/local/lib/python3.7/dist-packages (from pyMC3->pyGPGO) (0.3.4)\n",
            "Requirement already satisfied: patsy>=0.5.1 in /usr/local/lib/python3.7/dist-packages (from pyMC3->pyGPGO) (0.5.1)\n",
            "Requirement already satisfied: fastprogress>=0.2.0 in /usr/local/lib/python3.7/dist-packages (from pyMC3->pyGPGO) (1.0.0)\n",
            "Requirement already satisfied: cachetools>=4.2.1 in /usr/local/lib/python3.7/dist-packages (from pyMC3->pyGPGO) (4.2.2)\n",
            "Requirement already satisfied: typing-extensions>=3.7.4 in /usr/local/lib/python3.7/dist-packages (from pyMC3->pyGPGO) (3.7.4.3)\n",
            "Requirement already satisfied: arviz>=0.11.0 in /usr/local/lib/python3.7/dist-packages (from pyMC3->pyGPGO) (0.11.2)\n",
            "Requirement already satisfied: pandas>=0.24.0 in /usr/local/lib/python3.7/dist-packages (from pyMC3->pyGPGO) (1.1.5)\n",
            "Requirement already satisfied: semver>=2.13.0 in /usr/local/lib/python3.7/dist-packages (from pyMC3->pyGPGO) (2.13.0)\n",
            "Requirement already satisfied: filelock in /usr/local/lib/python3.7/dist-packages (from Theano-PyMC->pyGPGO) (3.0.12)\n",
            "Requirement already satisfied: matplotlib>=3.0 in /usr/local/lib/python3.7/dist-packages (from arviz>=0.11.0->pyMC3->pyGPGO) (3.2.2)\n",
            "Requirement already satisfied: xarray>=0.16.1 in /usr/local/lib/python3.7/dist-packages (from arviz>=0.11.0->pyMC3->pyGPGO) (0.18.2)\n",
            "Requirement already satisfied: setuptools>=38.4 in /usr/local/lib/python3.7/dist-packages (from arviz>=0.11.0->pyMC3->pyGPGO) (57.4.0)\n",
            "Requirement already satisfied: packaging in /usr/local/lib/python3.7/dist-packages (from arviz>=0.11.0->pyMC3->pyGPGO) (21.0)\n",
            "Requirement already satisfied: netcdf4 in /usr/local/lib/python3.7/dist-packages (from arviz>=0.11.0->pyMC3->pyGPGO) (1.5.7)\n",
            "Requirement already satisfied: kiwisolver>=1.0.1 in /usr/local/lib/python3.7/dist-packages (from matplotlib>=3.0->arviz>=0.11.0->pyMC3->pyGPGO) (1.3.2)\n",
            "Requirement already satisfied: cycler>=0.10 in /usr/local/lib/python3.7/dist-packages (from matplotlib>=3.0->arviz>=0.11.0->pyMC3->pyGPGO) (0.10.0)\n",
            "Requirement already satisfied: pyparsing!=2.0.4,!=2.1.2,!=2.1.6,>=2.0.1 in /usr/local/lib/python3.7/dist-packages (from matplotlib>=3.0->arviz>=0.11.0->pyMC3->pyGPGO) (2.4.7)\n",
            "Requirement already satisfied: python-dateutil>=2.1 in /usr/local/lib/python3.7/dist-packages (from matplotlib>=3.0->arviz>=0.11.0->pyMC3->pyGPGO) (2.8.2)\n",
            "Requirement already satisfied: six in /usr/local/lib/python3.7/dist-packages (from cycler>=0.10->matplotlib>=3.0->arviz>=0.11.0->pyMC3->pyGPGO) (1.15.0)\n",
            "Requirement already satisfied: pytz>=2017.2 in /usr/local/lib/python3.7/dist-packages (from pandas>=0.24.0->pyMC3->pyGPGO) (2018.9)\n",
            "Requirement already satisfied: cftime in /usr/local/lib/python3.7/dist-packages (from netcdf4->arviz>=0.11.0->pyMC3->pyGPGO) (1.5.0)\n"
          ]
        }
      ]
    },
    {
      "cell_type": "code",
      "metadata": {
        "id": "ZJSSPbwPaEUB"
      },
      "source": [
        "### Import:\n",
        "\n",
        "import numpy as np\n",
        "import scipy as sp\n",
        "import pandas as pd\n",
        "import matplotlib.pyplot as plt\n",
        "import warnings\n",
        "import itertools\n",
        "\n",
        "from pyGPGO.GPGO import GPGO\n",
        "from pyGPGO.surrogates.GaussianProcess import GaussianProcess\n",
        "from pyGPGO.acquisition import Acquisition\n",
        "from pyGPGO.covfunc import squaredExponential\n",
        "\n",
        "from joblib import Parallel, delayed\n",
        "from numpy.linalg import solve, cholesky\n",
        "from scipy.spatial.distance import cdist\n",
        "from scipy.optimize import minimize\n",
        "from scipy.stats import norm\n",
        "import time\n",
        "\n",
        "warnings.filterwarnings(\"ignore\", category=RuntimeWarning)\n"
      ],
      "execution_count": 2,
      "outputs": []
    },
    {
      "cell_type": "code",
      "metadata": {
        "id": "OeYcTUNoaJWa"
      },
      "source": [
        "### Inputs:\n",
        "\n",
        "func = 'Rastrigin'\n",
        "n_test = 500\n",
        "eps = 1e-08\n",
        "\n",
        "util_grad_exact = 'dEI_GP'\n",
        "util_grad_approx = 'ExpectedImprovement'\n",
        "\n",
        "n_init = 5 # random initialisations\n",
        "iters = 20\n",
        "opt = True"
      ],
      "execution_count": 3,
      "outputs": []
    },
    {
      "cell_type": "code",
      "metadata": {
        "id": "xpaEOjdzaPMS"
      },
      "source": [
        "### Objective Function - Rastrigin(x) 2-D:\n",
        "\n",
        "def objfunc(x1_training, x2_training):\n",
        "        return  operator * (10 * dim + x1_training** 2 - 10 * np.cos(2 * np.pi * x1_training)\n",
        "                                    + x2_training** 2 - 10 * np.cos(2 * np.pi * x2_training)\n",
        "                          )\n",
        "        \n",
        "def objfunc_der(x1_training, x2_training):\n",
        "        return  operator * (2 * x1_training + 20 * np.pi * np.sin(2 * np.pi * x1_training)\n",
        "                                    + 2 * x2_training + 20 * np.pi * np.sin(2 * np.pi * x2_training)\n",
        "                          )\n",
        "    \n",
        "# Constraints:\n",
        "lb = -5.12 \n",
        "ub = +5.12\n",
        "    \n",
        "# Input array dimension(s):\n",
        "dim = 2\n",
        "\n",
        "# 2-D inputs' parameter bounds:\n",
        "param = {'x1_training': ('cont', [lb, ub]),\n",
        "             'x2_training': ('cont', [lb, ub])}\n",
        "\n",
        "# True y bounds:\n",
        "operator = -1\n",
        "y_global_orig = 0 # targets global minimum\n",
        "\n",
        "# Test data:\n",
        "x1_test = np.linspace(lb, ub, n_test) \n",
        "x2_test = np.linspace(lb, ub, n_test)\n",
        "  \n",
        "x_test = np.column_stack((x1_test,x2_test))\n"
      ],
      "execution_count": 4,
      "outputs": []
    },
    {
      "cell_type": "code",
      "metadata": {
        "id": "eYpI3Zm4aGxi"
      },
      "source": [
        "n_start_AcqFunc = iters*0 + 10\n"
      ],
      "execution_count": 5,
      "outputs": []
    },
    {
      "cell_type": "code",
      "metadata": {
        "id": "oO_GUmOoaV0T"
      },
      "source": [
        "### Cumulative Regret Calculator:\n",
        "\n",
        "def min_max_array(x):\n",
        "    new_list = []\n",
        "    for i, num in enumerate(x):\n",
        "            new_list.append(np.min(x[0:i+1]))\n",
        "    return new_list\n",
        "  "
      ],
      "execution_count": 6,
      "outputs": []
    },
    {
      "cell_type": "code",
      "metadata": {
        "id": "kuuJx0IMam9S"
      },
      "source": [
        "### Surrogate derivatives: \n",
        "\n",
        "cov_func = squaredExponential()\n",
        "\n",
        "def kronDelta(X, Xstar):\n",
        "    return cdist(X, Xstar) < np.finfo(np.float32).eps\n",
        "\n",
        "def se(X, Xstar, sigmaf, l, sigman):\n",
        "    return sigmaf * np.exp(-0.5 * cdist(X, Xstar) ** 2 / l ** 2) + sigman * kronDelta(X, Xstar)\n",
        "\n",
        "def deriv_se(X, Xstar, sigmaf, l, sigman):\n",
        "    return cdist(X, Xstar) / (l ** 2) * se(X, Xstar, sigmaf, l, sigman)\n",
        "\n",
        "def der_covmat(X, Xstar, sigmaf, l, sigman):\n",
        "      nx = len(X)\n",
        "      ny = len(Xstar)\n",
        "      return np.round(np.array([deriv_se(np.atleast_2d(i), np.atleast_2d(j), sigmaf, l, sigman) for (i, j) in itertools.product(X, Xstar)]).reshape(nx, ny), 8)\n",
        "\n",
        "class dGaussianProcess(GaussianProcess):\n",
        "    l = GaussianProcess(cov_func, optimize=opt).getcovparams()['l']\n",
        "    sigmaf = GaussianProcess(cov_func, optimize=opt).getcovparams()['sigmaf']\n",
        "    sigman = GaussianProcess(cov_func, optimize=opt).getcovparams()['sigman']\n",
        "\n",
        "    def AcqGrad(self, Xstar):\n",
        "        Xstar = np.atleast_2d(Xstar)\n",
        "        Kstar = self.covfunc.K(self.X, Xstar).T\n",
        "        dKstar = der_covmat(self.X, Xstar, self.sigmaf, self.l, self.sigman).T\n",
        "        \n",
        "        alpha_Kstar = np.dot(np.linalg.inv(self.K + (self.sigman**2) * np.eye(len(self.X))), Kstar.T)\n",
        "        \n",
        "        dm = np.dot(dKstar, self.alpha)\n",
        "        ds = -2 * np.dot(dKstar, alpha_Kstar)\n",
        "        \n",
        "        return dm, ds\n",
        "        "
      ],
      "execution_count": 7,
      "outputs": []
    },
    {
      "cell_type": "code",
      "metadata": {
        "id": "_Dc3YVHVaXz7"
      },
      "source": [
        "class Acquisition_new(Acquisition):    \n",
        "    def __init__(self, mode, eps=eps, **params):\n",
        "        \n",
        "        self.params = params\n",
        "        self.eps = eps\n",
        "\n",
        "        mode_dict = {\n",
        "            'dEI_GP': self.dEI_GP\n",
        "        }\n",
        "\n",
        "        self.f = mode_dict[mode]\n",
        "    \n",
        "    def dEI_GP(self, tau, mean, std, ds, dm):\n",
        "        gamma = (mean - tau - self.eps) / (std + self.eps)\n",
        "        gamma_h = (mean - tau) / (std + self.eps)\n",
        "        dsdx = ds / (2 * (std + self.eps))\n",
        "        dmdx = (dm - gamma * dsdx) / (std + self.eps)\n",
        "        \n",
        "        f = (std + self.eps) * (gamma * norm.cdf(gamma) + norm.pdf(gamma))\n",
        "        df1 = f / (std + self.eps) * dsdx \n",
        "        df2 = (std + self.eps) * norm.cdf(gamma) * dmdx\n",
        "        df = (df1 + df2)[0]\n",
        "        df_arr = []\n",
        "\n",
        "        for j in range(0, dim):\n",
        "          df_arr.append(df)\n",
        "        return f, np.asarray(df_arr).transpose()\n",
        "        \n",
        "    def d_eval(self, tau, mean, std, ds, dm):\n",
        "    \n",
        "        return self.f(tau, mean, std, ds, dm, **self.params)\n",
        "        "
      ],
      "execution_count": 8,
      "outputs": []
    },
    {
      "cell_type": "code",
      "metadata": {
        "id": "PITEQC8YSl7i"
      },
      "source": [
        "## GPGO_multi: Multistart changed to variable 'n_start_AcqFunc'\n",
        "\n",
        "class GPGO_multi(GPGO):\n",
        "    n_start = n_start_AcqFunc\n",
        "\n",
        "    def _optimizeAcq(self, method='L-BFGS-B', n_start=n_start_AcqFunc):\n",
        "        \n",
        "        start_points_dict = [self._sampleParam() for i in range(n_start)]\n",
        "        start_points_arr = np.array([list(s.values())\n",
        "                                     for s in start_points_dict])\n",
        "        x_best = np.empty((n_start, len(self.parameter_key)))\n",
        "        f_best = np.empty((n_start,))\n",
        "        if self.n_jobs == 1:\n",
        "            for index, start_point in enumerate(start_points_arr):\n",
        "                res = minimize(self._acqWrapper, x0=start_point, method=method,\n",
        "                               bounds=self.parameter_range)\n",
        "                x_best[index], f_best[index] = res.x, np.atleast_1d(res.fun)[0]\n",
        "        else:\n",
        "            opt = Parallel(n_jobs=self.n_jobs)(delayed(minimize)(self._acqWrapper,\n",
        "                                                                 x0=start_point,\n",
        "                                                                 method=method,\n",
        "                                                                 bounds=self.parameter_range) for start_point in\n",
        "                                               start_points_arr)\n",
        "            x_best = np.array([res.x for res in opt])\n",
        "            f_best = np.array([np.atleast_1d(res.fun)[0] for res in opt])\n",
        "\n",
        "        self.best = x_best[np.argmin(f_best)]"
      ],
      "execution_count": 9,
      "outputs": []
    },
    {
      "cell_type": "code",
      "metadata": {
        "id": "b_B-w81BJxKN"
      },
      "source": [
        "## dGPGO:\n",
        "\n",
        "grad = 0\n",
        "\n",
        "class dGPGO(GPGO):\n",
        "    n_start = n_start_AcqFunc\n",
        "\n",
        "    def d_optimizeAcq(self, method='L-BFGS-B', n_start=n_start_AcqFunc):\n",
        "        start_points_dict = [self._sampleParam() for i in range(n_start)]\n",
        "        start_points_arr = np.array([list(s.values())\n",
        "                                     for s in start_points_dict])\n",
        "        x_best = np.empty((n_start, len(self.parameter_key)))\n",
        "        f_best = np.empty((n_start,))\n",
        "        opt = Parallel(n_jobs=self.n_jobs)(delayed(minimize)(self.acqfunc,\n",
        "                                                                 x0=start_point,\n",
        "                                                                 method=method,\n",
        "                                                                 jac = True,\n",
        "                                                                 bounds=self.parameter_range) for start_point in\n",
        "                                               start_points_arr)\n",
        "        x_best = np.array([res.x for res in opt])\n",
        "        f_best = np.array([np.atleast_1d(res.fun)[0] for res in opt])\n",
        "\n",
        "        self.x_best = x_best\n",
        "        self.f_best = f_best\n",
        "        self.best = x_best[np.argmin(f_best)]\n",
        "        self.start_points_arr = start_points_arr\n",
        "\n",
        "        return x_best, f_best\n",
        "    \n",
        "    def run(self, max_iter=10, init_evals=3, resume=False):\n",
        "        \n",
        "        if not resume:\n",
        "            self.init_evals = init_evals\n",
        "            self._firstRun(self.init_evals)\n",
        "            self.logger._printInit(self)\n",
        "        for iteration in range(max_iter):\n",
        "            self.d_optimizeAcq()\n",
        "            self.updateGP()\n",
        "            self.logger._printCurrent(self)\n",
        "\n",
        "    def acqfunc(self, xnew, n_start=n_start_AcqFunc):\n",
        "        new_mean, new_var = self.GP.predict(xnew, return_std=True)\n",
        "        new_std = np.sqrt(new_var + eps)\n",
        "        dm, ds = self.GP.AcqGrad(xnew)\n",
        "        f, df = self.A.d_eval(self.tau, new_mean, new_std, ds=ds, dm=dm)\n",
        "\n",
        "        return -f, -df * grad\n"
      ],
      "execution_count": 10,
      "outputs": []
    },
    {
      "cell_type": "code",
      "metadata": {
        "id": "qXIKGuXVGEg2"
      },
      "source": [
        "###Reproducible set-seeds:\n",
        "\n",
        "run_num_1 = 1\n",
        "run_num_2 = 2\n",
        "run_num_3 = 3\n",
        "run_num_4 = 4\n",
        "run_num_5 = 5\n",
        "run_num_6 = 6\n",
        "run_num_7 = 7\n",
        "run_num_8 = 8\n",
        "run_num_9 = 9\n",
        "run_num_10 = 10\n",
        "run_num_11 = 11\n",
        "run_num_12 = 12\n",
        "run_num_13 = 13\n",
        "run_num_14 = 14\n",
        "run_num_15 = 15\n",
        "run_num_16 = 16\n",
        "run_num_17 = 17\n",
        "run_num_18 = 18\n",
        "run_num_19 = 19\n",
        "run_num_20 = 20\n"
      ],
      "execution_count": 11,
      "outputs": []
    },
    {
      "cell_type": "code",
      "metadata": {
        "colab": {
          "base_uri": "https://localhost:8080/"
        },
        "id": "JEhagQmnTVIK",
        "outputId": "27175824-ab45-4a96-e10c-7a095d9188c6"
      },
      "source": [
        "start_approx = time.time()\n",
        "start_approx\n"
      ],
      "execution_count": 12,
      "outputs": [
        {
          "output_type": "execute_result",
          "data": {
            "text/plain": [
              "1632477304.9849603"
            ]
          },
          "metadata": {},
          "execution_count": 12
        }
      ]
    },
    {
      "cell_type": "code",
      "metadata": {
        "colab": {
          "base_uri": "https://localhost:8080/"
        },
        "id": "aH0YSTXufD1v",
        "outputId": "62772cb2-1a3e-4d57-9ca8-e71ac6e2cfe7"
      },
      "source": [
        "### ESTIMATED GP EI GRADIENTS\n",
        "\n",
        "np.random.seed(run_num_1)\n",
        "surrogate_approx_1 = GaussianProcess(cov_func, optimize=opt)\n",
        "\n",
        "approx_1 = GPGO_multi(surrogate_approx_1, Acquisition(util_grad_approx), objfunc, param)\n",
        "approx_1.run(init_evals=n_init, max_iter=iters)\n"
      ],
      "execution_count": 13,
      "outputs": [
        {
          "output_type": "stream",
          "name": "stdout",
          "text": [
            "Evaluation \t Proposed point \t  Current eval. \t Best eval.\n",
            "init   \t [-0.84969467  2.25612281]. \t  -20.33436270766351 \t -19.908403246996286\n",
            "init   \t [-5.1188288  -2.02411446]. \t  -33.07414982069084 \t -19.908403246996286\n",
            "init   \t [-3.61721968 -4.17445279]. \t  -53.347974723929894 \t -19.908403246996286\n",
            "init   \t [-3.21269544 -1.58145816]. \t  -39.218472310354045 \t -19.908403246996286\n",
            "init   \t [-1.05710106  0.39748336]. \t  -19.908403246996286 \t -19.908403246996286\n",
            "1      \t [ 4.04077223 -4.24914728]. \t  -44.655863836006326 \t -19.908403246996286\n",
            "2      \t [5.12       3.00442971]. \t  -37.95518464304147 \t -19.908403246996286\n",
            "3      \t [-5.12  5.12]. \t  -57.849427451571785 \t -19.908403246996286\n",
            "4      \t [1.6501998 5.12     ]. \t  -47.51556455054505 \t -19.908403246996286\n",
            "5      \t [ 2.79754493 -0.34569765]. \t  -30.65969762699367 \t -19.908403246996286\n",
            "6      \t [ 0.22548789 -5.12      ]. \t  -37.44149847563094 \t -19.908403246996286\n",
            "7      \t [-5.12        1.53252322]. \t  -51.065273260728105 \t -19.908403246996286\n",
            "8      \t [-1.75506506  5.12      ]. \t  -41.686773969745815 \t -19.908403246996286\n",
            "9      \t [ 0.28416133 -2.12641773]. \t  \u001b[92m-19.724576219914944\u001b[0m \t -19.724576219914944\n",
            "10     \t [ 5.12       -1.40892244]. \t  -49.31658412270709 \t -19.724576219914944\n",
            "11     \t [1.97937353 2.21695702]. \t  \u001b[92m-16.855412480974305\u001b[0m \t -16.855412480974305\n",
            "12     \t [-2.96139211  2.81314945]. \t  -23.111937327301785 \t -16.855412480974305\n",
            "13     \t [5.12       0.90533326]. \t  -31.461784635533725 \t -16.855412480974305\n",
            "14     \t [ 2.08588293 -2.87537184]. \t  -16.952053422260384 \t -16.855412480974305\n",
            "15     \t [4.6266908 5.12     ]. \t  -67.32653127155339 \t -16.855412480974305\n",
            "16     \t [0.77895271 0.32915358]. \t  -23.676839012641263 \t -16.855412480974305\n",
            "17     \t [-1.26704751 -3.20091793]. \t  -29.88509803439249 \t -16.855412480974305\n",
            "18     \t [-5.12 -5.12]. \t  -57.849427451571785 \t -16.855412480974305\n",
            "19     \t [-2.83562592  0.62919739]. \t  -30.194583331106053 \t -16.855412480974305\n",
            "20     \t [0.26178356 3.33450723]. \t  -36.9909154249148 \t -16.855412480974305\n"
          ]
        }
      ]
    },
    {
      "cell_type": "code",
      "metadata": {
        "colab": {
          "base_uri": "https://localhost:8080/"
        },
        "id": "wTxsSZxFGBB5",
        "outputId": "a644e9e7-ec73-4416-d24a-25689721bc39"
      },
      "source": [
        "### ESTIMATED GP EI GRADIENTS\n",
        "\n",
        "np.random.seed(run_num_2)\n",
        "surrogate_approx_2 = GaussianProcess(cov_func, optimize=opt)\n",
        "\n",
        "approx_2 = GPGO_multi(surrogate_approx_2, Acquisition(util_grad_approx), objfunc, param)\n",
        "approx_2.run(init_evals=n_init, max_iter=iters)\n"
      ],
      "execution_count": 14,
      "outputs": [
        {
          "output_type": "stream",
          "name": "stdout",
          "text": [
            "Evaluation \t Proposed point \t  Current eval. \t Best eval.\n",
            "init   \t [-0.6554122  -4.85451539]. \t  -43.490296251903594 \t -18.964539418712707\n",
            "init   \t [ 0.50854377 -0.6622987 ]. \t  -35.91861667536101 \t -18.964539418712707\n",
            "init   \t [-0.81543371 -1.73737143]. \t  -20.479562046739524 \t -18.964539418712707\n",
            "init   \t [-3.02439799  1.2213347 ]. \t  -18.964539418712707 \t -18.964539418712707\n",
            "init   \t [-2.05153614 -2.3876887 ]. \t  -28.041315668371354 \t -18.964539418712707\n",
            "1      \t [2.39005119 4.76796397]. \t  -55.026692786904306 \t -18.964539418712707\n",
            "2      \t [ 5.12 -5.12]. \t  -57.849427451571785 \t -18.964539418712707\n",
            "3      \t [5.12       0.46721551]. \t  -48.93159165457595 \t -18.964539418712707\n",
            "4      \t [-5.12  5.12]. \t  -57.849427451571785 \t -18.964539418712707\n",
            "5      \t [-1.34579583  5.12      ]. \t  -46.3980001428293 \t -18.964539418712707\n",
            "6      \t [-5.12 -5.12]. \t  -57.849427451571785 \t -18.964539418712707\n",
            "7      \t [-5.12       -1.23369148]. \t  -39.42380620962893 \t -18.964539418712707\n",
            "8      \t [0.16434085 2.29173252]. \t  -22.745214205709097 \t -18.964539418712707\n",
            "9      \t [ 3.04222343 -2.54388596]. \t  -35.69856427935463 \t -18.964539418712707\n",
            "10     \t [5.12       3.72038214]. \t  -54.616179387353306 \t -18.964539418712707\n",
            "11     \t [-5.12        2.08792196]. \t  -34.77161279015034 \t -18.964539418712707\n",
            "12     \t [ 2.09850871 -5.12      ]. \t  -35.18356270829727 \t -18.964539418712707\n",
            "13     \t [2.55089444 1.50973369]. \t  -48.2607106824813 \t -18.964539418712707\n",
            "14     \t [ 5.12       -2.19875287]. \t  -40.594629103712535 \t -18.964539418712707\n",
            "15     \t [-2.69934309  3.1607356 ]. \t  -35.086913811894135 \t -18.964539418712707\n",
            "16     \t [-1.68005977  0.29585608]. \t  -30.00605008554257 \t -18.964539418712707\n",
            "17     \t [-2.80460823 -5.12      ]. \t  -43.426332333725 \t -18.964539418712707\n",
            "18     \t [ 0.80102439 -2.99012843]. \t  \u001b[92m-16.450417671275197\u001b[0m \t -16.450417671275197\n",
            "19     \t [-3.29017624 -0.67682443]. \t  -38.21844454182704 \t -16.450417671275197\n",
            "20     \t [-4.12128452 -3.05029635]. \t  -29.550298968993886 \t -16.450417671275197\n"
          ]
        }
      ]
    },
    {
      "cell_type": "code",
      "metadata": {
        "colab": {
          "base_uri": "https://localhost:8080/"
        },
        "id": "-dgzIrUIGCGT",
        "outputId": "76ec5da3-acd7-4285-b2e8-bcb3ec60bbec"
      },
      "source": [
        "### ESTIMATED GP EI GRADIENTS\n",
        "\n",
        "np.random.seed(run_num_3)\n",
        "surrogate_approx_3 = GaussianProcess(cov_func, optimize=opt)\n",
        "\n",
        "approx_3 = GPGO_multi(surrogate_approx_3, Acquisition(util_grad_approx), objfunc, param)\n",
        "approx_3.run(init_evals=n_init, max_iter=iters)\n"
      ],
      "execution_count": 15,
      "outputs": [
        {
          "output_type": "stream",
          "name": "stdout",
          "text": [
            "Evaluation \t Proposed point \t  Current eval. \t Best eval.\n",
            "init   \t [0.52017052 2.1314337 ]. \t  -27.953858411008774 \t -10.607662635789808\n",
            "init   \t [-2.14113547  0.11087468]. \t  -10.607662635789808 \t -10.607662635789808\n",
            "init   \t [4.02377681 4.05804123]. \t  -33.42749829480097 \t -10.607662635789808\n",
            "init   \t [-3.83400642 -2.99783293]. \t  -28.650953928965198 \t -10.607662635789808\n",
            "init   \t [-4.59297584 -0.6061072 ]. \t  -57.6631355589384 \t -10.607662635789808\n",
            "1      \t [ 5.12       -3.02919353]. \t  -38.2684858188765 \t -10.607662635789808\n",
            "2      \t [-5.12  5.12]. \t  -57.849427451571785 \t -10.607662635789808\n",
            "3      \t [ 0.59618027 -5.12      ]. \t  -47.50903993418774 \t -10.607662635789808\n",
            "4      \t [ 1.61983372 -1.35910815]. \t  -38.09883348946459 \t -10.607662635789808\n",
            "5      \t [-1.238667  5.12    ]. \t  -39.74753816948966 \t -10.607662635789808\n",
            "6      \t [5.12      0.6465695]. \t  -45.39361856747279 \t -10.607662635789808\n",
            "7      \t [-3.18900149  2.50506253]. \t  -42.7005050801264 \t -10.607662635789808\n",
            "8      \t [-2.42279786 -5.12      ]. \t  -53.641061209145874 \t -10.607662635789808\n",
            "9      \t [1.57507962 5.12      ]. \t  -50.31338242317127 \t -10.607662635789808\n",
            "10     \t [ 3.52301114 -5.12      ]. \t  -61.231981572316386 \t -10.607662635789808\n",
            "11     \t [-1.10394047 -2.13318952]. \t  -11.128986146289705 \t -10.607662635789808\n",
            "12     \t [-5.12 -5.12]. \t  -57.849427451571785 \t -10.607662635789808\n",
            "13     \t [2.69678362 1.41675585]. \t  -41.22461974022562 \t -10.607662635789808\n",
            "14     \t [-0.59836198  0.01243897]. \t  -18.538953539669933 \t -10.607662635789808\n",
            "15     \t [ 3.78727419 -1.33496281]. \t  -38.89331900038773 \t -10.607662635789808\n",
            "16     \t [-0.39655977 -2.93512233]. \t  -27.552843014716665 \t -10.607662635789808\n",
            "17     \t [-5.12        2.00587165]. \t  -32.95503937353527 \t -10.607662635789808\n",
            "18     \t [-2.09579787 -1.50406494]. \t  -28.408794910592245 \t -10.607662635789808\n",
            "19     \t [5.12 5.12]. \t  -57.849427451571785 \t -10.607662635789808\n",
            "20     \t [-1.33464833  1.63318956]. \t  -36.21799383935321 \t -10.607662635789808\n"
          ]
        }
      ]
    },
    {
      "cell_type": "code",
      "metadata": {
        "colab": {
          "base_uri": "https://localhost:8080/"
        },
        "id": "hOtG-2sCGCKS",
        "outputId": "46008440-dbe2-46c5-a224-132f279c847a"
      },
      "source": [
        "### ESTIMATED GP EI GRADIENTS\n",
        "\n",
        "np.random.seed(run_num_4)\n",
        "surrogate_approx_4 = GaussianProcess(cov_func, optimize=opt)\n",
        "\n",
        "approx_4 = GPGO_multi(surrogate_approx_4, Acquisition(util_grad_approx), objfunc, param)\n",
        "approx_4.run(init_evals=n_init, max_iter=iters)\n"
      ],
      "execution_count": 16,
      "outputs": [
        {
          "output_type": "stream",
          "name": "stdout",
          "text": [
            "Evaluation \t Proposed point \t  Current eval. \t Best eval.\n",
            "init   \t [4.78238555 0.48365823]. \t  -51.03163809010808 \t -14.323038259018315\n",
            "init   \t [4.84028785 2.19971578]. \t  -39.78645699016559 \t -14.323038259018315\n",
            "init   \t [ 2.02474316 -2.90724357]. \t  -14.323038259018315 \t -14.323038259018315\n",
            "init   \t [ 4.87705042 -5.05620219]. \t  -52.80627247106233 \t -14.323038259018315\n",
            "init   \t [-2.52946061 -0.66773471]. \t  -41.61497868486559 \t -14.323038259018315\n",
            "1      \t [-4.11726979  4.90728979]. \t  -45.27655046402293 \t -14.323038259018315\n",
            "2      \t [0.89199566 5.12      ]. \t  -31.93591809759819 \t -14.323038259018315\n",
            "3      \t [-2.25512178 -5.12      ]. \t  -44.33204317512494 \t -14.323038259018315\n",
            "4      \t [0.82633726 1.20411089]. \t  -14.674594206118044 \t -14.323038259018315\n",
            "5      \t [-5.12       -3.08672449]. \t  -39.9008219673911 \t -14.323038259018315\n",
            "6      \t [-5.12        1.51671257]. \t  -51.170047822945335 \t -14.323038259018315\n",
            "7      \t [5.12 5.12]. \t  -57.849427451571785 \t -14.323038259018315\n",
            "8      \t [-1.61287042  2.78170913]. \t  -35.9489915378184 \t -14.323038259018315\n",
            "9      \t [ 0.94907912 -5.12      ]. \t  -30.332938762977925 \t -14.323038259018315\n",
            "10     \t [ 0.21602275 -1.46595818]. \t  -29.849149194635284 \t -14.323038259018315\n",
            "11     \t [ 5.12       -2.25356454]. \t  -44.22721481662333 \t -14.323038259018315\n",
            "12     \t [2.31258868 2.97958252]. \t  -28.140134442091853 \t -14.323038259018315\n",
            "13     \t [-1.51941461  5.12      ]. \t  -51.159024287888585 \t -14.323038259018315\n",
            "14     \t [-5.12 -5.12]. \t  -57.849427451571785 \t -14.323038259018315\n",
            "15     \t [ 2.44083917 -0.52684498]. \t  -45.41039271042392 \t -14.323038259018315\n",
            "16     \t [-1.37402222 -2.99324116]. \t  -27.88393841950169 \t -14.323038259018315\n",
            "17     \t [-0.63425456  0.75947979]. \t  -27.03198682973433 \t -14.323038259018315\n",
            "18     \t [-5.12     -0.886368]. \t  -32.152686697278156 \t -14.323038259018315\n",
            "19     \t [ 2.83460215 -3.91361436]. \t  -29.719688809940756 \t -14.323038259018315\n",
            "20     \t [0.46294793 2.85287123]. \t  -32.06058715564061 \t -14.323038259018315\n"
          ]
        }
      ]
    },
    {
      "cell_type": "code",
      "metadata": {
        "colab": {
          "base_uri": "https://localhost:8080/"
        },
        "id": "JF_SxcEvGCOl",
        "outputId": "f6fab532-a14d-4039-afa0-c737a7f49b1e"
      },
      "source": [
        "### ESTIMATED GP EI GRADIENTS\n",
        "\n",
        "np.random.seed(run_num_5)\n",
        "surrogate_approx_5 = GaussianProcess(cov_func, optimize=opt)\n",
        "\n",
        "approx_5 = GPGO_multi(surrogate_approx_5, Acquisition(util_grad_approx), objfunc, param)\n",
        "approx_5.run(init_evals=n_init, max_iter=iters)\n"
      ],
      "execution_count": 17,
      "outputs": [
        {
          "output_type": "stream",
          "name": "stdout",
          "text": [
            "Evaluation \t Proposed point \t  Current eval. \t Best eval.\n",
            "init   \t [-2.84678993  3.79629882]. \t  -33.93442008827236 \t -7.8108627039749745\n",
            "init   \t [-3.00319585  4.2865757 ]. \t  -39.673876075575784 \t -7.8108627039749745\n",
            "init   \t [-0.11866943  1.14425716]. \t  -7.8108627039749745 \t -7.8108627039749745\n",
            "init   \t [2.72289645 0.1886002 ]. \t  -25.38160395721669 \t -7.8108627039749745\n",
            "init   \t [-2.08076286 -3.19773462]. \t  -22.589982116319675 \t -7.8108627039749745\n",
            "1      \t [ 5.12       -4.99274555]. \t  -53.862608206561674 \t -7.8108627039749745\n",
            "2      \t [5.12 5.12]. \t  -57.849427451571785 \t -7.8108627039749745\n",
            "3      \t [-5.12       -0.04607409]. \t  -29.342946532983746 \t -7.8108627039749745\n",
            "4      \t [1.00367643 5.12      ]. \t  -29.934747963305618 \t -7.8108627039749745\n",
            "5      \t [-5.12 -5.12]. \t  -57.849427451571785 \t -7.8108627039749745\n",
            "6      \t [ 1.11158271 -5.12      ]. \t  -32.518965639490084 \t -7.8108627039749745\n",
            "7      \t [ 5.12       -1.57419978]. \t  -50.335597512034454 \t -7.8108627039749745\n",
            "8      \t [ 0.59847606 -1.87829706]. \t  -24.816228608707153 \t -7.8108627039749745\n",
            "9      \t [5.12       1.88576645]. \t  -34.947958112600126 \t -7.8108627039749745\n",
            "10     \t [-2.19741164  0.02220643]. \t  -11.68186583681146 \t -7.8108627039749745\n",
            "11     \t [2.18693218 2.78644579]. \t  -26.417185545067326 \t -7.8108627039749745\n",
            "12     \t [-5.12  5.12]. \t  -57.849427451571785 \t -7.8108627039749745\n",
            "13     \t [-5.12       -2.41794264]. \t  -53.47122159696763 \t -7.8108627039749745\n",
            "14     \t [ 2.8092325  -3.10581331]. \t  -26.03137112776735 \t -7.8108627039749745\n",
            "15     \t [-5.12        2.27647877]. \t  -45.763115188340635 \t -7.8108627039749745\n",
            "16     \t [-1.68165381 -5.12      ]. \t  -45.916215927685116 \t -7.8108627039749745\n",
            "17     \t [-0.5573153   2.78270467]. \t  -35.3721181820416 \t -7.8108627039749745\n",
            "18     \t [-0.04006559  0.21533324]. \t  -8.202173915283685 \t -7.8108627039749745\n",
            "19     \t [-2.46827662 -1.28449612]. \t  -39.694850676172564 \t -7.8108627039749745\n",
            "20     \t [-1.02719452  5.12      ]. \t  -30.125467271438453 \t -7.8108627039749745\n"
          ]
        }
      ]
    },
    {
      "cell_type": "code",
      "metadata": {
        "colab": {
          "base_uri": "https://localhost:8080/"
        },
        "id": "-kDxZtJsGCR3",
        "outputId": "e264592c-afd1-42bb-d6ed-f02a94cb0cd8"
      },
      "source": [
        "### ESTIMATED GP EI GRADIENTS\n",
        "\n",
        "np.random.seed(run_num_6)\n",
        "surrogate_approx_6 = GaussianProcess(cov_func, optimize=opt)\n",
        "\n",
        "approx_6 = GPGO_multi(surrogate_approx_6, Acquisition(util_grad_approx), objfunc, param)\n",
        "approx_6.run(init_evals=n_init, max_iter=iters)\n"
      ],
      "execution_count": 18,
      "outputs": [
        {
          "output_type": "stream",
          "name": "stdout",
          "text": [
            "Evaluation \t Proposed point \t  Current eval. \t Best eval.\n",
            "init   \t [ 4.02288795 -1.72052679]. \t  -31.08835710146886 \t -17.28954482757088\n",
            "init   \t [ 3.28938622 -4.69302655]. \t  -58.797867722203385 \t -17.28954482757088\n",
            "init   \t [-4.0175956   0.97333314]. \t  -17.28954482757088 \t -17.28954482757088\n",
            "init   \t [ 0.30532979 -0.83141193]. \t  -19.296253155889353 \t -17.28954482757088\n",
            "init   \t [-1.68542362  1.25459899]. \t  -28.650630936276173 \t -17.28954482757088\n",
            "1      \t [5.12 5.12]. \t  -57.849427451571785 \t -17.28954482757088\n",
            "2      \t [-4.71995735 -4.56126587]. \t  -74.22778080884159 \t -17.28954482757088\n",
            "3      \t [-5.12  5.12]. \t  -57.849427451571785 \t -17.28954482757088\n",
            "4      \t [0.39537279 5.12      ]. \t  -46.99691802729968 \t -17.28954482757088\n",
            "5      \t [-0.6946239 -5.12     ]. \t  -42.81681997446129 \t -17.28954482757088\n",
            "6      \t [2.84227708 1.9125164 ]. \t  -17.730802193648145 \t -17.28954482757088\n",
            "7      \t [-2.58732924 -1.93811902]. \t  -29.728971211287465 \t -17.28954482757088\n",
            "8      \t [5.12       1.12270915]. \t  -33.01307812180246 \t -17.28954482757088\n",
            "9      \t [-2.3475663   4.03954819]. \t  -37.88962496478942 \t -17.28954482757088\n",
            "10     \t [0.64422878 2.21261884]. \t  -29.150807389239606 \t -17.28954482757088\n",
            "11     \t [-5.12       -1.26621928]. \t  -41.545349628740375 \t -17.28954482757088\n",
            "12     \t [ 1.04564345 -2.92265281]. \t  \u001b[92m-11.201545745773794\u001b[0m \t -11.201545745773794\n",
            "13     \t [2.74703946 4.13855243]. \t  -38.415791613517754 \t -11.201545745773794\n",
            "14     \t [-5.12        2.42486375]. \t  -53.710853518281525 \t -11.201545745773794\n",
            "15     \t [ 2.28531412 -0.10752183]. \t  -19.631464795499305 \t -11.201545745773794\n",
            "16     \t [ 5.12       -3.46102695]. \t  -60.605097899881535 \t -11.201545745773794\n",
            "17     \t [-2.26926063 -3.81331614]. \t  -37.02399317388855 \t -11.201545745773794\n",
            "18     \t [-0.18854986 -2.54977432]. \t  -32.286029769661866 \t -11.201545745773794\n",
            "19     \t [ 2.00433423 -2.44707251]. \t  -29.461346411720612 \t -11.201545745773794\n",
            "20     \t [ 1.22409593 -5.12      ]. \t  -38.80270030026486 \t -11.201545745773794\n"
          ]
        }
      ]
    },
    {
      "cell_type": "code",
      "metadata": {
        "colab": {
          "base_uri": "https://localhost:8080/"
        },
        "id": "fKB8MCD_GCVI",
        "outputId": "7bc88348-ed4f-4b17-d246-fa1cd654f6f6"
      },
      "source": [
        "### ESTIMATED GP EI GRADIENTS\n",
        "\n",
        "np.random.seed(run_num_7)\n",
        "surrogate_approx_7 = GaussianProcess(cov_func, optimize=opt)\n",
        "\n",
        "approx_7 = GPGO_multi(surrogate_approx_7, Acquisition(util_grad_approx), objfunc, param)\n",
        "approx_7.run(init_evals=n_init, max_iter=iters)\n"
      ],
      "execution_count": 19,
      "outputs": [
        {
          "output_type": "stream",
          "name": "stdout",
          "text": [
            "Evaluation \t Proposed point \t  Current eval. \t Best eval.\n",
            "init   \t [-4.33860312  2.86636843]. \t  -45.646133072936244 \t -22.52235437888213\n",
            "init   \t [-0.63068947  2.28828342]. \t  -34.83012662845338 \t -22.52235437888213\n",
            "init   \t [4.8946126  0.39419771]. \t  -44.09657005662876 \t -22.52235437888213\n",
            "init   \t [ 0.01147355 -4.38219639]. \t  -36.613209822404315 \t -22.52235437888213\n",
            "init   \t [-2.37118484e+00 -1.20319155e-03]. \t  -22.52235437888213 \t -22.52235437888213\n",
            "1      \t [-5.12 -5.12]. \t  -57.849427451571785 \t -22.52235437888213\n",
            "2      \t [ 5.12 -5.12]. \t  -57.849427451571785 \t -22.52235437888213\n",
            "3      \t [3.59793889 5.12      ]. \t  -60.035487545382395 \t -22.52235437888213\n",
            "4      \t [ 1.41112674 -0.96394012]. \t  \u001b[92m-21.657036146572285\u001b[0m \t -21.657036146572285\n",
            "5      \t [-5.12       -1.46589934]. \t  -50.84491302847264 \t -21.657036146572285\n",
            "6      \t [-1.80753213  5.12      ]. \t  -38.65524936343044 \t -21.657036146572285\n",
            "7      \t [2.337909   2.13363693]. \t  -28.58798690754402 \t -21.657036146572285\n",
            "8      \t [ 3.58916542 -2.53684622]. \t  -57.52216461321425 \t -21.657036146572285\n",
            "9      \t [-2.48043675 -3.05376159]. \t  -35.96769491664549 \t -21.657036146572285\n",
            "10     \t [0.81028146 5.12      ]. \t  -35.883587231487525 \t -21.657036146572285\n",
            "11     \t [-0.55245768 -1.42626176]. \t  -40.74692319162151 \t -21.657036146572285\n",
            "12     \t [-5.12  5.12]. \t  -57.849427451571785 \t -21.657036146572285\n",
            "13     \t [5.12       2.99235363]. \t  -37.89043268468438 \t -21.657036146572285\n",
            "14     \t [ 2.32464499 -5.12      ]. \t  -48.848706837805764 \t -21.657036146572285\n",
            "15     \t [-2.34097477 -5.12      ]. \t  -49.814756069654095 \t -21.657036146572285\n",
            "16     \t [-5.12        0.84037979]. \t  -34.25255090318554 \t -21.657036146572285\n",
            "17     \t [0.85286692 0.69544543]. \t  \u001b[92m-18.549436958153947\u001b[0m \t -18.549436958153947\n",
            "18     \t [2.76089049e+00 2.70714481e-03]. \t  \u001b[92m-16.940234562323475\u001b[0m \t -16.940234562323475\n",
            "19     \t [-2.52433809  1.81635082]. \t  -35.505488164104996 \t -16.940234562323475\n",
            "20     \t [ 1.25835663 -2.76254306]. \t  -28.952638462786222 \t -16.940234562323475\n"
          ]
        }
      ]
    },
    {
      "cell_type": "code",
      "metadata": {
        "colab": {
          "base_uri": "https://localhost:8080/"
        },
        "id": "4unvifF-GCXp",
        "outputId": "dde53b95-9b4c-4733-ce58-8efc97a8763d"
      },
      "source": [
        "### ESTIMATED GP EI GRADIENTS\n",
        "\n",
        "np.random.seed(run_num_8)\n",
        "surrogate_approx_8 = GaussianProcess(cov_func, optimize=opt)\n",
        "\n",
        "approx_8 = GPGO_multi(surrogate_approx_8, Acquisition(util_grad_approx), objfunc, param)\n",
        "approx_8.run(init_evals=n_init, max_iter=iters)\n"
      ],
      "execution_count": 20,
      "outputs": [
        {
          "output_type": "stream",
          "name": "stdout",
          "text": [
            "Evaluation \t Proposed point \t  Current eval. \t Best eval.\n",
            "init   \t [3.82391708 4.79785639]. \t  -50.20079446939181 \t -13.871821018360485\n",
            "init   \t [3.78055209 0.31596228]. \t  -36.5114251593508 \t -13.871821018360485\n",
            "init   \t [-2.73686192 -5.00327624]. \t  -43.34985765011677 \t -13.871821018360485\n",
            "init   \t [-0.7119993  -0.99992207]. \t  -13.871821018360485 \t -13.871821018360485\n",
            "init   \t [ 0.23218863 -0.22126801]. \t  -17.190590355445654 \t -13.871821018360485\n",
            "1      \t [-3.15880724  4.24033731]. \t  -41.93037834059981 \t -13.871821018360485\n",
            "2      \t [-5.12       -0.39721474]. \t  -47.06856527219965 \t -13.871821018360485\n",
            "3      \t [ 5.12 -5.12]. \t  -57.849427451571785 \t -13.871821018360485\n",
            "4      \t [ 1.18396733 -4.40970603]. \t  -45.24971035951554 \t -13.871821018360485\n",
            "5      \t [0.4127289  3.28620903]. \t  -41.75892699960604 \t -13.871821018360485\n",
            "6      \t [ 5.12       -2.11266129]. \t  -35.7905771014021 \t -13.871821018360485\n",
            "7      \t [-2.38559926  1.22722402]. \t  -33.29694312001728 \t -13.871821018360485\n",
            "8      \t [-2.75644449 -2.1632902 ]. \t  -26.690414129333018 \t -13.871821018360485\n",
            "9      \t [5.12       2.44977905]. \t  -54.43239707495158 \t -13.871821018360485\n",
            "10     \t [-5.12       -3.69936603]. \t  -55.73805203851208 \t -13.871821018360485\n",
            "11     \t [ 2.13428454 -1.86141972]. \t  -14.930563855669458 \t -13.871821018360485\n",
            "12     \t [1.27099584 5.12      ]. \t  -41.855528476453586 \t -13.871821018360485\n",
            "13     \t [-5.12        2.51718217]. \t  -55.202700918818856 \t -13.871821018360485\n",
            "14     \t [1.71722847 1.32922637]. \t  -31.53517648113644 \t -13.871821018360485\n",
            "15     \t [-5.12  5.12]. \t  -57.849427451571785 \t -13.871821018360485\n",
            "16     \t [-0.66312748 -2.92801612]. \t  -25.209850295259578 \t -13.871821018360485\n",
            "17     \t [-1.20235965  5.12      ]. \t  -37.42155169040858 \t -13.871821018360485\n",
            "18     \t [ 2.97508287 -5.12      ]. \t  -37.89813522296883 \t -13.871821018360485\n",
            "19     \t [-0.69272465 -5.12      ]. \t  -42.926121928047145 \t -13.871821018360485\n",
            "20     \t [ 3.1150613  -2.74807998]. \t  -29.877622709722793 \t -13.871821018360485\n"
          ]
        }
      ]
    },
    {
      "cell_type": "code",
      "metadata": {
        "colab": {
          "base_uri": "https://localhost:8080/"
        },
        "id": "85OIXcg7GCaJ",
        "outputId": "154095f1-7b4e-499e-fa51-0b070af05cfa"
      },
      "source": [
        "### ESTIMATED GP EI GRADIENTS\n",
        "\n",
        "np.random.seed(run_num_9)\n",
        "surrogate_approx_9 = GaussianProcess(cov_func, optimize=opt)\n",
        "\n",
        "approx_9 = GPGO_multi(surrogate_approx_9, Acquisition(util_grad_approx), objfunc, param)\n",
        "approx_9.run(init_evals=n_init, max_iter=iters)\n"
      ],
      "execution_count": 21,
      "outputs": [
        {
          "output_type": "stream",
          "name": "stdout",
          "text": [
            "Evaluation \t Proposed point \t  Current eval. \t Best eval.\n",
            "init   \t [-5.01376866  0.01919582]. \t  -25.248289026162446 \t -24.454800313488693\n",
            "init   \t [-0.04328148 -3.74958562]. \t  -24.454800313488693 \t -24.454800313488693\n",
            "init   \t [-3.66478248 -2.88195916]. \t  -39.46509426509438 \t -24.454800313488693\n",
            "init   \t [-0.83447623 -2.57944404]. \t  -31.06766397812992 \t -24.454800313488693\n",
            "init   \t [-4.25922917 -1.58209393]. \t  -49.922543556206975 \t -24.454800313488693\n",
            "1      \t [3.51080105 5.12      ]. \t  -61.22741827329939 \t -24.454800313488693\n",
            "2      \t [-2.53130668  5.12      ]. \t  -55.13938460588464 \t -24.454800313488693\n",
            "3      \t [ 5.12       -1.40082815]. \t  -49.007678367409646 \t -24.454800313488693\n",
            "4      \t [0.63090024 1.54269759]. \t  -39.22437027076724 \t -24.454800313488693\n",
            "5      \t [5.12       2.04137058]. \t  -33.42785105088816 \t -24.454800313488693\n",
            "6      \t [ 3.70730955 -5.12      ]. \t  -55.31912890376441 \t -24.454800313488693\n",
            "7      \t [-5.12        3.12084343]. \t  -41.411070236389435 \t -24.454800313488693\n",
            "8      \t [-5.12 -5.12]. \t  -57.849427451571785 \t -24.454800313488693\n",
            "9      \t [ 2.01030146 -1.35822259]. \t  \u001b[92m-22.194815458672835\u001b[0m \t -22.194815458672835\n",
            "10     \t [-2.3528061   1.37503207]. \t  -40.51847366057322 \t -22.194815458672835\n",
            "11     \t [0.46915206 5.12      ]. \t  -48.95756724217931 \t -22.194815458672835\n",
            "12     \t [-2.04455748 -5.12      ]. \t  -33.49427210195348 \t -22.194815458672835\n",
            "13     \t [3.06272097 0.84681698]. \t  \u001b[92m-15.14899695245306\u001b[0m \t -15.14899695245306\n",
            "14     \t [ 1.13546819 -5.12      ]. \t  -33.62297788066781 \t -15.14899695245306\n",
            "15     \t [-5.12  5.12]. \t  -57.849427451571785 \t -15.14899695245306\n",
            "16     \t [-0.7352668  -0.50998489]. \t  -31.705421184715497 \t -15.14899695245306\n",
            "17     \t [2.56958292 2.81536953]. \t  -39.59568251836185 \t -15.14899695245306\n",
            "18     \t [ 2.8237902  -2.91586953]. \t  -23.368938011020155 \t -15.14899695245306\n",
            "19     \t [-0.99465116  3.18471186]. \t  -17.14927990137051 \t -15.14899695245306\n",
            "20     \t [3.25580733 0.03403102]. \t  -21.19397600667058 \t -15.14899695245306\n"
          ]
        }
      ]
    },
    {
      "cell_type": "code",
      "metadata": {
        "colab": {
          "base_uri": "https://localhost:8080/"
        },
        "id": "QQBR-qJPGCcp",
        "outputId": "94397983-ab6c-433e-9b9a-9c75673aa9af"
      },
      "source": [
        "### ESTIMATED GP EI GRADIENTS\n",
        "\n",
        "np.random.seed(run_num_10)\n",
        "surrogate_approx_10 = GaussianProcess(cov_func, optimize=opt)\n",
        "\n",
        "approx_10 = GPGO_multi(surrogate_approx_10, Acquisition(util_grad_approx), objfunc, param)\n",
        "approx_10.run(init_evals=n_init, max_iter=iters)\n"
      ],
      "execution_count": 22,
      "outputs": [
        {
          "output_type": "stream",
          "name": "stdout",
          "text": [
            "Evaluation \t Proposed point \t  Current eval. \t Best eval.\n",
            "init   \t [ 2.77832339 -4.90750004]. \t  -41.674330194390116 \t -13.839458310244165\n",
            "init   \t [1.36855793 2.54775176]. \t  -44.69639719065837 \t -13.839458310244165\n",
            "init   \t [-0.01528819 -2.81808235]. \t  -13.839458310244165 \t -13.839458310244165\n",
            "init   \t [-3.09183626  2.66783449]. \t  -33.23221510904937 \t -13.839458310244165\n",
            "init   \t [-3.38830503 -4.2154003 ]. \t  -54.73014366983691 \t -13.839458310244165\n",
            "1      \t [ 5.12       -0.56823977]. \t  -48.34241700204974 \t -13.839458310244165\n",
            "2      \t [5.12 5.12]. \t  -57.849427451571785 \t -13.839458310244165\n",
            "3      \t [-5.12       -0.60617694]. \t  -47.14817469993402 \t -13.839458310244165\n",
            "4      \t [-5.12  5.12]. \t  -57.849427451571785 \t -13.839458310244165\n",
            "5      \t [-0.83794405  5.12      ]. \t  -34.37810945322191 \t -13.839458310244165\n",
            "6      \t [-1.23131451 -0.10568801]. \t  \u001b[92m-12.480975711541548\u001b[0m \t -12.480975711541548\n",
            "7      \t [ 1.89637762 -0.79302317]. \t  -13.600405161852176 \t -12.480975711541548\n",
            "8      \t [-0.38408735 -5.12      ]. \t  -46.535302539926676 \t -12.480975711541548\n",
            "9      \t [2.15374083 5.12      ]. \t  -37.87722053970941 \t -12.480975711541548\n",
            "10     \t [4.57541735 2.22692124]. \t  -53.34674721705506 \t -12.480975711541548\n",
            "11     \t [-2.40328498 -1.64491134]. \t  -42.82474114729419 \t -12.480975711541548\n",
            "12     \t [ 3.43220034 -2.53835286]. \t  -57.040553163138114 \t -12.480975711541548\n",
            "13     \t [ 5.12 -5.12]. \t  -57.849427451571785 \t -12.480975711541548\n",
            "14     \t [-5.12        2.04203279]. \t  -33.44133295218475 \t -12.480975711541548\n",
            "15     \t [0.29821905 0.16131453]. \t  -17.8101632468979 \t -12.480975711541548\n",
            "16     \t [-1.05910233  1.92891989]. \t  \u001b[92m-6.5048832262056315\u001b[0m \t -6.5048832262056315\n",
            "17     \t [-5.12       -2.99149233]. \t  -37.888024018487826 \t -6.5048832262056315\n",
            "18     \t [2.69229443 0.44679566]. \t  -40.441329725464605 \t -6.5048832262056315\n",
            "19     \t [-1.06366941  1.8900809 ]. \t  -7.784998654577272 \t -6.5048832262056315\n",
            "20     \t [-2.80762513  5.12      ]. \t  -43.26537086567554 \t -6.5048832262056315\n"
          ]
        }
      ]
    },
    {
      "cell_type": "code",
      "metadata": {
        "colab": {
          "base_uri": "https://localhost:8080/"
        },
        "id": "JS8ejeQ2GCfi",
        "outputId": "cdc4efce-0ca1-4d7e-f795-86881e1cd07d"
      },
      "source": [
        "### ESTIMATED GP EI GRADIENTS\n",
        "\n",
        "np.random.seed(run_num_11)\n",
        "surrogate_approx_11 = GaussianProcess(cov_func, optimize=opt)\n",
        "\n",
        "approx_11 = GPGO_multi(surrogate_approx_11, Acquisition(util_grad_approx), objfunc, param)\n",
        "approx_11.run(init_evals=n_init, max_iter=iters)\n"
      ],
      "execution_count": 23,
      "outputs": [
        {
          "output_type": "stream",
          "name": "stdout",
          "text": [
            "Evaluation \t Proposed point \t  Current eval. \t Best eval.\n",
            "init   \t [-3.27403839 -4.92057353]. \t  -47.655641290890955 \t -10.679755252484755\n",
            "init   \t [-0.37664229  2.30332343]. \t  -35.87889240695259 \t -10.679755252484755\n",
            "init   \t [-0.81711509 -0.14922651]. \t  -10.679755252484755 \t -10.679755252484755\n",
            "init   \t [-4.98912446 -0.12931474]. \t  -28.05462905574235 \t -10.679755252484755\n",
            "init   \t [4.52410012 3.59214172]. \t  -71.62694632141611 \t -10.679755252484755\n",
            "1      \t [ 5.12       -2.58935431]. \t  -54.09441769279795 \t -10.679755252484755\n",
            "2      \t [-5.12  5.12]. \t  -57.849427451571785 \t -10.679755252484755\n",
            "3      \t [ 1.30914436 -5.12      ]. \t  -44.26977918122291 \t -10.679755252484755\n",
            "4      \t [2.60691419 0.10347909]. \t  -26.67421561796143 \t -10.679755252484755\n",
            "5      \t [1.20967922 5.12      ]. \t  -37.88162205447664 \t -10.679755252484755\n",
            "6      \t [-0.84542627 -2.68560607]. \t  -26.22076199675684 \t -10.679755252484755\n",
            "7      \t [-1.93528334  5.12      ]. \t  -33.48543335407524 \t -10.679755252484755\n",
            "8      \t [-3.48302818  2.27188253]. \t  -48.60672428286755 \t -10.679755252484755\n",
            "9      \t [-5.12       -2.81624433]. \t  -42.81283559302288 \t -10.679755252484755\n",
            "10     \t [5.12       0.53698225]. \t  -48.944305616906064 \t -10.679755252484755\n",
            "11     \t [ 4.37325613 -5.12      ]. \t  -65.04324992577084 \t -10.679755252484755\n",
            "12     \t [ 1.94470252 -2.34575736]. \t  -25.542113585347458 \t -10.679755252484755\n",
            "13     \t [-2.68691164 -0.98397788]. \t  -22.09929790845478 \t -10.679755252484755\n",
            "14     \t [2.04233525 2.41544278]. \t  -28.97874525067214 \t -10.679755252484755\n",
            "15     \t [-0.97378121 -5.12      ]. \t  -30.00834922848653 \t -10.679755252484755\n",
            "16     \t [ 0.43695006 -0.38278921]. \t  -36.971498298155936 \t -10.679755252484755\n",
            "17     \t [-5.12 -5.12]. \t  -57.849427451571785 \t -10.679755252484755\n",
            "18     \t [-1.76925412  0.51646217]. \t  -32.13672394206381 \t -10.679755252484755\n",
            "19     \t [-2.79189717 -2.6498515 ]. \t  -38.09962454050276 \t -10.679755252484755\n",
            "20     \t [ 3.38784324 -1.37364831]. \t  -47.993199196331695 \t -10.679755252484755\n"
          ]
        }
      ]
    },
    {
      "cell_type": "code",
      "metadata": {
        "colab": {
          "base_uri": "https://localhost:8080/"
        },
        "id": "DXwjUVZ4GCii",
        "outputId": "6d95222b-6b73-4b4b-b8f4-46fea1481211"
      },
      "source": [
        "### ESTIMATED GP EI GRADIENTS\n",
        "\n",
        "np.random.seed(run_num_12)\n",
        "surrogate_approx_12 = GaussianProcess(cov_func, optimize=opt)\n",
        "\n",
        "approx_12 = GPGO_multi(surrogate_approx_12, Acquisition(util_grad_approx), objfunc, param)\n",
        "approx_12.run(init_evals=n_init, max_iter=iters)\n"
      ],
      "execution_count": 24,
      "outputs": [
        {
          "output_type": "stream",
          "name": "stdout",
          "text": [
            "Evaluation \t Proposed point \t  Current eval. \t Best eval.\n",
            "init   \t [-3.54137249  2.45810889]. \t  -57.903242869085595 \t -40.51116653209555\n",
            "init   \t [-2.42365424  0.34549139]. \t  -40.51116653209555 \t -40.51116653209555\n",
            "init   \t [-4.97075238  4.28796936]. \t  -55.62655915398208 \t -40.51116653209555\n",
            "init   \t [ 4.10332011 -4.77776458]. \t  -49.962803461970296 \t -40.51116653209555\n",
            "init   \t [ 4.6791612  -3.71497655]. \t  -62.183891474990624 \t -40.51116653209555\n",
            "1      \t [5.12 5.12]. \t  -57.849427451571785 \t -40.51116653209555\n",
            "2      \t [-5.12 -5.12]. \t  -57.849427451571785 \t -40.51116653209555\n",
            "3      \t [2.51259197 0.8334794 ]. \t  \u001b[92m-31.96857840849352\u001b[0m \t -31.96857840849352\n",
            "4      \t [0.33242569 5.12      ]. \t  -43.98575116537285 \t -31.96857840849352\n",
            "5      \t [-0.48623858 -4.11803333]. \t  -39.78355165876999 \t -31.96857840849352\n",
            "6      \t [-5.12       -1.54443995]. \t  -50.92270332489528 \t -31.96857840849352\n",
            "7      \t [ 5.12       -0.37763047]. \t  -46.25428387392079 \t -31.96857840849352\n",
            "8      \t [ 1.63839833 -1.98043972]. \t  \u001b[92m-23.133375566480034\u001b[0m \t -23.133375566480034\n",
            "9      \t [-0.04370102  2.14284548]. \t  \u001b[92m-8.732838376994179\u001b[0m \t -8.732838376994179\n",
            "10     \t [2.70814553 3.49161357]. \t  -52.111124219405596 \t -8.732838376994179\n",
            "11     \t [-2.63812813 -2.72299341]. \t  -42.52757517295929 \t -8.732838376994179\n",
            "12     \t [-2.28791475  5.12      ]. \t  -46.51905298706514 \t -8.732838376994179\n",
            "13     \t [ 0.00199538 -0.3289819 ]. \t  -14.87040121911901 \t -8.732838376994179\n",
            "14     \t [ 1.66532863 -5.12      ]. \t  -46.770663523393026 \t -8.732838376994179\n",
            "15     \t [-0.77259145  2.68287362]. \t  -30.473744697485387 \t -8.732838376994179\n",
            "16     \t [-5.12        0.84591672]. \t  -33.97190914155459 \t -8.732838376994179\n",
            "17     \t [5.12       2.25440732]. \t  -44.283951069963216 \t -8.732838376994179\n",
            "18     \t [0.51684971 1.34453426]. \t  -37.61552271826898 \t -8.732838376994179\n",
            "19     \t [-2.54637478 -5.12      ]. \t  -54.987217882899856 \t -8.732838376994179\n",
            "20     \t [-0.523601   -1.60721067]. \t  -40.5631940633179 \t -8.732838376994179\n"
          ]
        }
      ]
    },
    {
      "cell_type": "code",
      "metadata": {
        "colab": {
          "base_uri": "https://localhost:8080/"
        },
        "id": "CphOPndPGClX",
        "outputId": "f9c74ceb-7785-4774-82b4-d15d378f0b79"
      },
      "source": [
        "### ESTIMATED GP EI GRADIENTS\n",
        "\n",
        "np.random.seed(run_num_13)\n",
        "surrogate_approx_13 = GaussianProcess(cov_func, optimize=opt)\n",
        "\n",
        "approx_13 = GPGO_multi(surrogate_approx_13, Acquisition(util_grad_approx), objfunc, param)\n",
        "approx_13.run(init_evals=n_init, max_iter=iters)\n"
      ],
      "execution_count": 25,
      "outputs": [
        {
          "output_type": "stream",
          "name": "stdout",
          "text": [
            "Evaluation \t Proposed point \t  Current eval. \t Best eval.\n",
            "init   \t [ 2.84367268 -2.68757791]. \t  -33.58019830007169 \t -17.435826639425656\n",
            "init   \t [3.32061217 4.76927179]. \t  -56.857057997503354 \t -17.435826639425656\n",
            "init   \t [ 4.83943541 -0.47667971]. \t  -48.211919361679726 \t -17.435826639425656\n",
            "init   \t [1.11659482 2.82139151]. \t  -17.435826639425656 \t -17.435826639425656\n",
            "init   \t [1.45012065 2.27346667]. \t  -38.25352329493884 \t -17.435826639425656\n",
            "1      \t [-5.12        3.75700929]. \t  -52.59956807429481 \t -17.435826639425656\n",
            "2      \t [-3.63652107 -3.1649786 ]. \t  -44.690931809710065 \t -17.435826639425656\n",
            "3      \t [-2.28523132  0.68027798]. \t  -32.12265741930081 \t -17.435826639425656\n",
            "4      \t [-0.1675661 -5.12     ]. \t  -34.00181347391305 \t -17.435826639425656\n",
            "5      \t [-1.32562022  5.12      ]. \t  -45.25657548853904 \t -17.435826639425656\n",
            "6      \t [ 5.12 -5.12]. \t  -57.849427451571785 \t -17.435826639425656\n",
            "7      \t [-0.18536076 -1.65834548]. \t  -24.279553113932323 \t -17.435826639425656\n",
            "8      \t [-5.12       -0.12465332]. \t  -31.853798474764012 \t -17.435826639425656\n",
            "9      \t [5.12       2.46276728]. \t  -54.71754232322107 \t -17.435826639425656\n",
            "10     \t [-5.12 -5.12]. \t  -57.849427451571785 \t -17.435826639425656\n",
            "11     \t [ 1.89487575 -0.20373485]. \t  \u001b[92m-12.86914177222528\u001b[0m \t -12.86914177222528\n",
            "12     \t [-2.34414401 -5.12      ]. \t  -49.99599447998021 \t -12.86914177222528\n",
            "13     \t [ 2.2920356 -5.12     ]. \t  -46.788715547414284 \t -12.86914177222528\n",
            "14     \t [-2.46880826  2.93197789]. \t  -35.399591000138024 \t -12.86914177222528\n",
            "15     \t [0.9414569 5.12     ]. \t  -30.47998190013641 \t -12.86914177222528\n",
            "16     \t [-0.08639821  0.57677927]. \t  -20.636526398646645 \t -12.86914177222528\n",
            "17     \t [ 5.12       -2.73907728]. \t  -47.113013947216565 \t -12.86914177222528\n",
            "18     \t [-2.26221559 -1.45618018]. \t  -37.62821581878576 \t -12.86914177222528\n",
            "19     \t [-3.57128384  5.12      ]. \t  -60.69241259218117 \t -12.86914177222528\n",
            "20     \t [ 0.56692617 -3.12850682]. \t  -32.324211009501305 \t -12.86914177222528\n"
          ]
        }
      ]
    },
    {
      "cell_type": "code",
      "metadata": {
        "colab": {
          "base_uri": "https://localhost:8080/"
        },
        "id": "ojHTeARNGCoi",
        "outputId": "38fe438a-ce0f-4553-e388-446f94f8d258"
      },
      "source": [
        "### ESTIMATED GP EI GRADIENTS\n",
        "\n",
        "np.random.seed(run_num_14)\n",
        "surrogate_approx_14 = GaussianProcess(cov_func, optimize=opt)\n",
        "\n",
        "approx_14 = GPGO_multi(surrogate_approx_14, Acquisition(util_grad_approx), objfunc, param)\n",
        "approx_14.run(init_evals=n_init, max_iter=iters)\n"
      ],
      "execution_count": 26,
      "outputs": [
        {
          "output_type": "stream",
          "name": "stdout",
          "text": [
            "Evaluation \t Proposed point \t  Current eval. \t Best eval.\n",
            "init   \t [0.14277984 2.79721013]. \t  -18.683085263052178 \t -10.423838604848608\n",
            "init   \t [ 3.7931795  -5.03759925]. \t  -47.36348784446708 \t -10.423838604848608\n",
            "init   \t [-1.94830412  4.68586229]. \t  -40.19779334078636 \t -10.423838604848608\n",
            "init   \t [ 0.13431513 -1.86076749]. \t  -10.423838604848608 \t -10.423838604848608\n",
            "init   \t [ 0.40140736 -2.85434939]. \t  -30.353548735049138 \t -10.423838604848608\n",
            "1      \t [-5.12       -1.02600231]. \t  -30.110558580242547 \t -10.423838604848608\n",
            "2      \t [5.12       0.53876265]. \t  -48.91985198240487 \t -10.423838604848608\n",
            "3      \t [4.33087811 5.12      ]. \t  -62.54703057751685 \t -10.423838604848608\n",
            "4      \t [-3.58520766 -5.12      ]. \t  -60.37919889110211 \t -10.423838604848608\n",
            "5      \t [-5.12        2.78205057]. \t  -44.664305782358184 \t -10.423838604848608\n",
            "6      \t [-1.86111943  0.15341327]. \t  -11.356013891171653 \t -10.423838604848608\n",
            "7      \t [1.76798089 0.17133257]. \t  -17.283743153963467 \t -10.423838604848608\n",
            "8      \t [ 3.61727364 -2.08669141]. \t  -36.291987743298236 \t -10.423838604848608\n",
            "9      \t [1.21417615 5.12      ]. \t  -38.16701721054035 \t -10.423838604848608\n",
            "10     \t [-2.4441075  -2.25616973]. \t  -40.84118637496849 \t -10.423838604848608\n",
            "11     \t [2.86991053 2.47811727]. \t  -37.44170669357925 \t -10.423838604848608\n",
            "12     \t [-0.39750493 -5.12      ]. \t  -47.079756273851075 \t -10.423838604848608\n",
            "13     \t [-2.47485828  1.92062838]. \t  -30.90720421329781 \t -10.423838604848608\n",
            "14     \t [-5.12  5.12]. \t  -57.849427451571785 \t -10.423838604848608\n",
            "15     \t [-0.2348939  -0.07671468]. \t  \u001b[92m-10.252702444509046\u001b[0m \t -10.252702444509046\n",
            "16     \t [-5.12       -3.26381127]. \t  -50.44387665528535 \t -10.252702444509046\n",
            "17     \t [ 5.12       -3.23861824]. \t  -48.698834143207144 \t -10.252702444509046\n",
            "18     \t [5.12       2.88330897]. \t  -39.80776042278545 \t -10.252702444509046\n",
            "19     \t [-3.87824772  0.40567028]. \t  -36.28590034163884 \t -10.252702444509046\n",
            "20     \t [-0.15511798  0.98820783]. \t  \u001b[92m-5.413351017816508\u001b[0m \t -5.413351017816508\n"
          ]
        }
      ]
    },
    {
      "cell_type": "code",
      "metadata": {
        "colab": {
          "base_uri": "https://localhost:8080/"
        },
        "id": "vCJzn4vWGCs3",
        "outputId": "604b1008-d234-420f-fd49-df35ea82aefa"
      },
      "source": [
        "### ESTIMATED GP EI GRADIENTS\n",
        "\n",
        "np.random.seed(run_num_15)\n",
        "surrogate_approx_15 = GaussianProcess(cov_func, optimize=opt)\n",
        "\n",
        "approx_15 = GPGO_multi(surrogate_approx_15, Acquisition(util_grad_approx), objfunc, param)\n",
        "approx_15.run(init_evals=n_init, max_iter=iters)\n"
      ],
      "execution_count": 27,
      "outputs": [
        {
          "output_type": "stream",
          "name": "stdout",
          "text": [
            "Evaluation \t Proposed point \t  Current eval. \t Best eval.\n",
            "init   \t [ 3.57189322 -3.28810573]. \t  -54.938487770767075 \t -7.990765314336182\n",
            "init   \t [-4.56332069 -1.41784631]. \t  -60.750198753157726 \t -7.990765314336182\n",
            "init   \t [-2.29989449  0.3072023 ]. \t  -31.984997246800887 \t -7.990765314336182\n",
            "init   \t [-1.9873903  -2.00218256]. \t  -7.990765314336182 \t -7.990765314336182\n",
            "init   \t [-3.97576933 -2.5610341 ]. \t  -41.754957769694336 \t -7.990765314336182\n",
            "1      \t [3.22352526 5.12      ]. \t  -47.66003287916206 \t -7.990765314336182\n",
            "2      \t [-5.12  5.12]. \t  -57.849427451571785 \t -7.990765314336182\n",
            "3      \t [5.12      1.0095046]. \t  -29.961639828368988 \t -7.990765314336182\n",
            "4      \t [-0.33203103 -5.12      ]. \t  -43.963928211687445 \t -7.990765314336182\n",
            "5      \t [-0.90975767  4.44634614]. \t  -41.59966360238418 \t -7.990765314336182\n",
            "6      \t [1.41824538 0.64227738]. \t  -37.39670114359565 \t -7.990765314336182\n",
            "7      \t [-5.12 -5.12]. \t  -57.849427451571785 \t -7.990765314336182\n",
            "8      \t [-5.12        1.87021903]. \t  -35.56693641772305 \t -7.990765314336182\n",
            "9      \t [ 0.38216961 -2.14137821]. \t  -25.806599732555107 \t -7.990765314336182\n",
            "10     \t [ 5.12 -5.12]. \t  -57.849427451571785 \t -7.990765314336182\n",
            "11     \t [5.12       3.49194417]. \t  -61.10558048808506 \t -7.990765314336182\n",
            "12     \t [1.44724913 3.13874944]. \t  -34.96742876938056 \t -7.990765314336182\n",
            "13     \t [-2.845439   2.9265715]. \t  -22.06326084278987 \t -7.990765314336182\n",
            "14     \t [ 3.61493139 -0.73305443]. \t  -42.1717698774938 \t -7.990765314336182\n",
            "15     \t [-0.70260683  1.82701376]. \t  -22.113346037168334 \t -7.990765314336182\n",
            "16     \t [-2.63518288 -5.12      ]. \t  -52.47339768045221 \t -7.990765314336182\n",
            "17     \t [-1.5838931  -2.53745051]. \t  -47.314412064369506 \t -7.990765314336182\n",
            "18     \t [ 2.03503373 -5.12      ]. \t  -33.30737098458185 \t -7.990765314336182\n",
            "19     \t [3.21355671 1.93561432]. \t  -22.610899840350385 \t -7.990765314336182\n",
            "20     \t [3.25054998 1.65898032]. \t  -38.76509960787614 \t -7.990765314336182\n"
          ]
        }
      ]
    },
    {
      "cell_type": "code",
      "metadata": {
        "colab": {
          "base_uri": "https://localhost:8080/"
        },
        "id": "bGGkhp-kGCw6",
        "outputId": "9a5f5dfd-3980-4cf3-db7c-6be976eb1d7a"
      },
      "source": [
        "### ESTIMATED GP EI GRADIENTS\n",
        "\n",
        "np.random.seed(run_num_16)\n",
        "surrogate_approx_16 = GaussianProcess(cov_func, optimize=opt)\n",
        "\n",
        "approx_16 = GPGO_multi(surrogate_approx_16, Acquisition(util_grad_approx), objfunc, param)\n",
        "approx_16.run(init_evals=n_init, max_iter=iters)\n"
      ],
      "execution_count": 28,
      "outputs": [
        {
          "output_type": "stream",
          "name": "stdout",
          "text": [
            "Evaluation \t Proposed point \t  Current eval. \t Best eval.\n",
            "init   \t [-2.83349935  0.23719262]. \t  -22.27210456874814 \t -22.27210456874814\n",
            "init   \t [ 0.51918292 -4.65303603]. \t  -57.57021076017139 \t -22.27210456874814\n",
            "init   \t [-1.42613673 -2.83565116]. \t  -33.89145899403749 \t -22.27210456874814\n",
            "init   \t [ 1.9325559  -3.44339021]. \t  -35.85029586225333 \t -22.27210456874814\n",
            "init   \t [-4.39987336  4.51595121]. \t  -77.78800881964571 \t -22.27210456874814\n",
            "1      \t [3.40383308 5.12      ]. \t  -58.74016548198851 \t -22.27210456874814\n",
            "2      \t [-5.12 -5.12]. \t  -57.849427451571785 \t -22.27210456874814\n",
            "3      \t [5.12       0.31383915]. \t  -42.92764332335633 \t -22.27210456874814\n",
            "4      \t [0.98357521 1.47515687]. \t  -23.07513247370037 \t -22.27210456874814\n",
            "5      \t [ 5.12 -5.12]. \t  -57.849427451571785 \t -22.27210456874814\n",
            "6      \t [-0.5015681  5.12     ]. \t  -49.17579891562956 \t -22.27210456874814\n",
            "7      \t [-5.12       -1.65385199]. \t  -47.340285899233535 \t -22.27210456874814\n",
            "8      \t [ 2.32773579 -0.7743505 ]. \t  -29.18633364285998 \t -22.27210456874814\n",
            "9      \t [-5.12        1.50299712]. \t  -51.18194099412593 \t -22.27210456874814\n",
            "10     \t [-1.67262982  2.47402162]. \t  -43.45764170960809 \t -22.27210456874814\n",
            "11     \t [ 5.12       -2.34811341]. \t  -50.21989318842782 \t -22.27210456874814\n",
            "12     \t [5.12       3.00411702]. \t  -37.95277841043268 \t -22.27210456874814\n",
            "13     \t [-0.3831268  -0.54395299]. \t  -37.486512463067086 \t -22.27210456874814\n",
            "14     \t [-2.36850667 -5.12      ]. \t  -51.31131022051275 \t -22.27210456874814\n",
            "15     \t [2.74258652 2.34886995]. \t  -39.32486748213336 \t -22.27210456874814\n",
            "16     \t [1.06372833 3.67071846]. \t  -30.17463598726141 \t -22.27210456874814\n",
            "17     \t [ 2.90915774 -5.12      ]. \t  -38.97310765785191 \t -22.27210456874814\n",
            "18     \t [-3.4045887  -2.81657969]. \t  -43.71822397153595 \t -22.27210456874814\n",
            "19     \t [5.12 5.12]. \t  -57.849427451571785 \t -22.27210456874814\n",
            "20     \t [-2.36092487  5.12      ]. \t  -50.91758738757986 \t -22.27210456874814\n"
          ]
        }
      ]
    },
    {
      "cell_type": "code",
      "metadata": {
        "id": "Yrs2mp7hGC1Z",
        "colab": {
          "base_uri": "https://localhost:8080/"
        },
        "outputId": "1f017645-f0f8-45c1-8255-3498d1b94367"
      },
      "source": [
        "### ESTIMATED GP EI GRADIENTS\n",
        "\n",
        "np.random.seed(run_num_17)\n",
        "surrogate_approx_17 = GaussianProcess(cov_func, optimize=opt)\n",
        "\n",
        "approx_17 = GPGO_multi(surrogate_approx_17, Acquisition(util_grad_approx), objfunc, param)\n",
        "approx_17.run(init_evals=n_init, max_iter=iters)\n"
      ],
      "execution_count": 29,
      "outputs": [
        {
          "output_type": "stream",
          "name": "stdout",
          "text": [
            "Evaluation \t Proposed point \t  Current eval. \t Best eval.\n",
            "init   \t [-2.10263037  0.31320838]. \t  -20.395145364684023 \t -20.395145364684023\n",
            "init   \t [-3.15882714 -4.42470033]. \t  -53.03732051200137 \t -20.395145364684023\n",
            "init   \t [2.93873111 1.60085526]. \t  -29.989224812583537 \t -20.395145364684023\n",
            "init   \t [1.40821398 0.77417363]. \t  -29.451989415882437 \t -20.395145364684023\n",
            "init   \t [-4.71999574 -1.45598869]. \t  -55.89242173757483 \t -20.395145364684023\n",
            "1      \t [ 5.12 -5.12]. \t  -57.849427451571785 \t -20.395145364684023\n",
            "2      \t [-5.12        5.03255819]. \t  -54.459869708924614 \t -20.395145364684023\n",
            "3      \t [-0.25300682  5.12      ]. \t  -39.1776393084228 \t -20.395145364684023\n",
            "4      \t [5.12 5.12]. \t  -57.849427451571785 \t -20.395145364684023\n",
            "5      \t [ 1.07731446 -3.51439253]. \t  -34.627594944671 \t -20.395145364684023\n",
            "6      \t [ 5.12       -1.25379975]. \t  -40.735449941187206 \t -20.395145364684023\n",
            "7      \t [-2.64488572  3.02355031]. \t  -32.38129676927866 \t -20.395145364684023\n",
            "8      \t [-5.12       1.6499209]. \t  -47.528825368890026 \t -20.395145364684023\n",
            "9      \t [-1.18609771 -1.98793815]. \t  \u001b[92m-11.479343723627316\u001b[0m \t -11.479343723627316\n",
            "10     \t [2.34710373 5.12      ]. \t  -50.16327403266703 \t -11.479343723627316\n",
            "11     \t [5.12       2.04872314]. \t  -33.58692967532171 \t -11.479343723627316\n",
            "12     \t [-0.58775441 -5.12      ]. \t  -47.78820760736808 \t -11.479343723627316\n",
            "13     \t [ 2.51461914 -1.52868693]. \t  -48.45603375523109 \t -11.479343723627316\n",
            "14     \t [-0.12127885  2.48206568]. \t  -28.877490281368104 \t -11.479343723627316\n",
            "15     \t [ 2.54664594 -5.12      ]. \t  -54.98369052657284 \t -11.479343723627316\n",
            "16     \t [-0.17496205 -0.82823367]. \t  \u001b[92m-11.454565073388487\u001b[0m \t -11.454565073388487\n",
            "17     \t [-5.12 -5.12]. \t  -57.849427451571785 \t -11.454565073388487\n",
            "18     \t [-2.21987787 -2.04301403]. \t  -17.583412333918787 \t -11.454565073388487\n",
            "19     \t [3.06998345 3.22859022]. \t  -29.458717159879832 \t -11.454565073388487\n",
            "20     \t [-0.17090905 -1.67797143]. \t  -22.450164000433887 \t -11.454565073388487\n"
          ]
        }
      ]
    },
    {
      "cell_type": "code",
      "metadata": {
        "id": "f0HIEP3PIUEa",
        "colab": {
          "base_uri": "https://localhost:8080/"
        },
        "outputId": "b69f91e7-8b12-4031-c2f6-e38242b1be44"
      },
      "source": [
        "### ESTIMATED GP EI GRADIENTS\n",
        "\n",
        "np.random.seed(run_num_18)\n",
        "surrogate_approx_18 = GaussianProcess(cov_func, optimize=opt)\n",
        "\n",
        "approx_18 = GPGO_multi(surrogate_approx_18, Acquisition(util_grad_approx), objfunc, param)\n",
        "approx_18.run(init_evals=n_init, max_iter=iters)\n"
      ],
      "execution_count": 30,
      "outputs": [
        {
          "output_type": "stream",
          "name": "stdout",
          "text": [
            "Evaluation \t Proposed point \t  Current eval. \t Best eval.\n",
            "init   \t [1.53983224 0.05584255]. \t  -22.67190580753611 \t -22.67190580753611\n",
            "init   \t [ 3.87687906 -3.25795609]. \t  -38.990099416711985 \t -22.67190580753611\n",
            "init   \t [3.60686662 2.56139557]. \t  -56.66448698782129 \t -22.67190580753611\n",
            "init   \t [1.70088108 4.99604939]. \t  -40.894059318256296 \t -22.67190580753611\n",
            "init   \t [-2.48864335 -4.83014733]. \t  -54.6725749848372 \t -22.67190580753611\n",
            "1      \t [-5.12  5.12]. \t  -57.849427451571785 \t -22.67190580753611\n",
            "2      \t [-5.12       -0.22310921]. \t  -37.29292102434142 \t -22.67190580753611\n",
            "3      \t [-1.76508579  2.42555353]. \t  -36.9781893152942 \t -22.67190580753611\n",
            "4      \t [-1.579806   -1.31219605]. \t  -36.79576120826907 \t -22.67190580753611\n",
            "5      \t [ 1.04904854 -5.12      ]. \t  -30.496347882427656 \t -22.67190580753611\n",
            "6      \t [ 5.12       -0.35165587]. \t  -45.01007992971895 \t -22.67190580753611\n",
            "7      \t [5.12 5.12]. \t  -57.849427451571785 \t -22.67190580753611\n",
            "8      \t [-5.12       -3.36521438]. \t  -56.8725979190777 \t -22.67190580753611\n",
            "9      \t [-1.59878891  5.12      ]. \t  -49.61550242831025 \t -22.67190580753611\n",
            "10     \t [-5.12        2.35079966]. \t  -50.36939924335655 \t -22.67190580753611\n",
            "11     \t [ 0.995271   -2.47312466]. \t  -26.96908937048354 \t -22.67190580753611\n",
            "12     \t [0.73049855 2.36453584]. \t  -33.938120671155524 \t -22.67190580753611\n",
            "13     \t [ 5.12 -5.12]. \t  -57.849427451571785 \t -22.67190580753611\n",
            "14     \t [ 2.91758468 -1.13041529]. \t  \u001b[92m-14.274762716952878\u001b[0m \t -14.274762716952878\n",
            "15     \t [-2.91979017  0.50277882]. \t  -30.019729142364923 \t -14.274762716952878\n",
            "16     \t [-0.65279064 -3.49789887]. \t  -48.39566324921547 \t -14.274762716952878\n",
            "17     \t [-5.12 -5.12]. \t  -57.849427451571785 \t -14.274762716952878\n",
            "18     \t [-0.32847004  0.3636042 ]. \t  -31.52025634937479 \t -14.274762716952878\n",
            "19     \t [-3.40175497 -2.00375332]. \t  -33.74423549043915 \t -14.274762716952878\n",
            "20     \t [-3.30831018  3.68803334]. \t  -51.92468034808972 \t -14.274762716952878\n"
          ]
        }
      ]
    },
    {
      "cell_type": "code",
      "metadata": {
        "id": "S3mxRQDLIUPC",
        "colab": {
          "base_uri": "https://localhost:8080/"
        },
        "outputId": "c8c693d8-482c-4605-e8c1-ffbdd0c1b673"
      },
      "source": [
        "### ESTIMATED GP EI GRADIENTS\n",
        "\n",
        "np.random.seed(run_num_19)\n",
        "surrogate_approx_19 = GaussianProcess(cov_func, optimize=opt)\n",
        "\n",
        "approx_19 = GPGO_multi(surrogate_approx_19, Acquisition(util_grad_approx), objfunc, param)\n",
        "approx_19.run(init_evals=n_init, max_iter=iters)\n"
      ],
      "execution_count": 31,
      "outputs": [
        {
          "output_type": "stream",
          "name": "stdout",
          "text": [
            "Evaluation \t Proposed point \t  Current eval. \t Best eval.\n",
            "init   \t [-4.12125592  2.6751971 ]. \t  -41.43485596167127 \t -25.867003842388073\n",
            "init   \t [-2.59135515 -3.70553152]. \t  -51.60126035043229 \t -25.867003842388073\n",
            "init   \t [-1.72598719 -4.27008445]. \t  -43.97430127029199 \t -25.867003842388073\n",
            "init   \t [1.76104531 3.13952049]. \t  -25.867003842388073 \t -25.867003842388073\n",
            "init   \t [4.9432772  1.38916592]. \t  -44.66580306903559 \t -25.867003842388073\n",
            "1      \t [ 5.12 -5.12]. \t  -57.849427451571785 \t -25.867003842388073\n",
            "2      \t [ 1.77597459 -1.68641474]. \t  -28.263027039591414 \t -25.867003842388073\n",
            "3      \t [5.12 5.12]. \t  -57.849427451571785 \t -25.867003842388073\n",
            "4      \t [-1.28668618  5.12      ]. \t  -42.864977329132955 \t -25.867003842388073\n",
            "5      \t [-5.12      -0.9784158]. \t  -29.973830919880555 \t -25.867003842388073\n",
            "6      \t [-1.20076178  0.35664468]. \t  \u001b[92m-24.7348064111768\u001b[0m \t -24.7348064111768\n",
            "7      \t [ 5.12       -1.82163536]. \t  -37.89252927444657 \t -24.7348064111768\n",
            "8      \t [ 1.53993545 -5.12      ]. \t  -50.982954322367206 \t -24.7348064111768\n",
            "9      \t [-5.12 -5.12]. \t  -57.849427451571785 \t -24.7348064111768\n",
            "10     \t [-5.12  5.12]. \t  -57.849427451571785 \t -24.7348064111768\n",
            "11     \t [1.815337   0.74353301]. \t  \u001b[92m-20.26360800108388\u001b[0m \t -20.26360800108388\n",
            "12     \t [-0.89094806  2.59185116]. \t  -28.148901608076365 \t -20.26360800108388\n",
            "13     \t [2.03569643 5.12      ]. \t  -33.31924501811106 \t -20.26360800108388\n",
            "14     \t [-0.58578022 -1.85600363]. \t  -26.191474619804296 \t -20.26360800108388\n",
            "15     \t [-2.98674768 -0.74434163]. \t  \u001b[92m-19.864803803182074\u001b[0m \t -19.864803803182074\n",
            "16     \t [-5.12       -2.81299721]. \t  -42.98198900128203 \t -19.864803803182074\n",
            "17     \t [ 3.23906914 -3.27871537]. \t  -42.3497439026243 \t -19.864803803182074\n",
            "18     \t [-5.12        0.90206128]. \t  -31.572812683298206 \t -19.864803803182074\n",
            "19     \t [ 3.37968071 -0.28980469]. \t  -41.25717791821926 \t -19.864803803182074\n",
            "20     \t [3.66408015 3.14097758]. \t  -42.104507198514305 \t -19.864803803182074\n"
          ]
        }
      ]
    },
    {
      "cell_type": "code",
      "metadata": {
        "id": "Aawd59dRIUYn",
        "colab": {
          "base_uri": "https://localhost:8080/"
        },
        "outputId": "3b442e48-52e0-4669-bcc8-da00c108eadc"
      },
      "source": [
        "### ESTIMATED GP EI GRADIENTS\n",
        "\n",
        "np.random.seed(run_num_20)\n",
        "surrogate_approx_20 = GaussianProcess(cov_func, optimize=opt)\n",
        "\n",
        "approx_20 = GPGO_multi(surrogate_approx_20, Acquisition(util_grad_approx), objfunc, param)\n",
        "approx_20.run(init_evals=n_init, max_iter=iters)\n"
      ],
      "execution_count": 32,
      "outputs": [
        {
          "output_type": "stream",
          "name": "stdout",
          "text": [
            "Evaluation \t Proposed point \t  Current eval. \t Best eval.\n",
            "init   \t [0.9024594  4.07258857]. \t  -20.24255447774017 \t -17.388691338534382\n",
            "init   \t [4.00927467 3.23417577]. \t  -35.55852254546393 \t -17.388691338534382\n",
            "init   \t [-4.75249064  1.96359764]. \t  -36.54582989269194 \t -17.388691338534382\n",
            "init   \t [-1.24230715  0.18955208]. \t  -17.388691338534382 \t -17.388691338534382\n",
            "init   \t [ 1.61742301 -3.13497377]. \t  -33.22932870179905 \t -17.388691338534382\n",
            "1      \t [-5.12      -3.9820647]. \t  -44.844981934028965 \t -17.388691338534382\n",
            "2      \t [ 5.12       -0.92637544]. \t  -30.833918710048977 \t -17.388691338534382\n",
            "3      \t [-2.70368866  5.12      ]. \t  -49.10358376680263 \t -17.388691338534382\n",
            "4      \t [ 5.12 -5.12]. \t  -57.849427451571785 \t -17.388691338534382\n",
            "5      \t [-1.48709134 -5.12      ]. \t  -51.10328025976801 \t -17.388691338534382\n",
            "6      \t [1.91182374 0.46616353]. \t  -25.143109611985476 \t -17.388691338534382\n",
            "7      \t [-3.87405678 -1.11420197]. \t  -21.686548803442776 \t -17.388691338534382\n",
            "8      \t [-1.34518798  2.54567675]. \t  -43.51158658383986 \t -17.388691338534382\n",
            "9      \t [-5.12  5.12]. \t  -57.849427451571785 \t -17.388691338534382\n",
            "10     \t [-1.21350921 -2.21797226]. \t  -22.12044922654098 \t -17.388691338534382\n",
            "11     \t [5.12 5.12]. \t  -57.849427451571785 \t -17.388691338534382\n",
            "12     \t [ 2.22239771 -5.12      ]. \t  -42.138143352168505 \t -17.388691338534382\n",
            "13     \t [5.12       1.32207476]. \t  -45.04797728472184 \t -17.388691338534382\n",
            "14     \t [ 0.55947933 -1.03454598]. \t  -20.92770988016806 \t -17.388691338534382\n",
            "15     \t [-0.25543378  5.12      ]. \t  -39.33130802830634 \t -17.388691338534382\n",
            "16     \t [2.43406945 5.12      ]. \t  -54.003576890819645 \t -17.388691338534382\n",
            "17     \t [ 3.91289256 -2.67211675]. \t  -38.61223903103104 \t -17.388691338534382\n",
            "18     \t [1.37139252 2.36949422]. \t  -41.22648010120083 \t -17.388691338534382\n",
            "19     \t [-5.12       -0.30437027]. \t  -42.36748008405204 \t -17.388691338534382\n",
            "20     \t [-3.01174515 -2.93986502]. \t  -18.44599335654714 \t -17.388691338534382\n"
          ]
        }
      ]
    },
    {
      "cell_type": "code",
      "metadata": {
        "id": "xkgzPRbBTHaq",
        "colab": {
          "base_uri": "https://localhost:8080/"
        },
        "outputId": "21c79dd7-c0d2-45c8-c107-be7757795540"
      },
      "source": [
        "end_approx = time.time()\n",
        "end_approx\n",
        "\n",
        "time_approx = end_approx - start_approx\n",
        "time_approx\n",
        "\n",
        "start_exact = time.time()\n",
        "start_exact"
      ],
      "execution_count": 33,
      "outputs": [
        {
          "output_type": "execute_result",
          "data": {
            "text/plain": [
              "1632477398.0912194"
            ]
          },
          "metadata": {},
          "execution_count": 33
        }
      ]
    },
    {
      "cell_type": "code",
      "metadata": {
        "id": "7CG3Ndvb16Rb",
        "colab": {
          "base_uri": "https://localhost:8080/"
        },
        "outputId": "5c4516c2-a276-424e-edb8-360d1b63848b"
      },
      "source": [
        "### EXACT GP EI GRADIENTS\n",
        "\n",
        "np.random.seed(run_num_1)\n",
        "surrogate_exact_1 = dGaussianProcess(cov_func, optimize=opt)\n",
        "\n",
        "exact_1 = dGPGO(surrogate_exact_1, Acquisition_new(util_grad_exact), objfunc, param)\n",
        "exact_1.run(init_evals=n_init, max_iter=iters)\n"
      ],
      "execution_count": 34,
      "outputs": [
        {
          "output_type": "stream",
          "name": "stdout",
          "text": [
            "Evaluation \t Proposed point \t  Current eval. \t Best eval.\n",
            "init   \t [-0.84969467  2.25612281]. \t  -20.33436270766351 \t -19.908403246996286\n",
            "init   \t [-5.1188288  -2.02411446]. \t  -33.07414982069084 \t -19.908403246996286\n",
            "init   \t [-3.61721968 -4.17445279]. \t  -53.347974723929894 \t -19.908403246996286\n",
            "init   \t [-3.21269544 -1.58145816]. \t  -39.218472310354045 \t -19.908403246996286\n",
            "init   \t [-1.05710106  0.39748336]. \t  -19.908403246996286 \t -19.908403246996286\n",
            "1      \t [ 4.04077223 -4.24914728]. \t  -44.655863836006326 \t -19.908403246996286\n",
            "2      \t [4.5526503  0.88632361]. \t  -43.414135933149275 \t -19.908403246996286\n",
            "3      \t [-3.71572992  4.42977754]. \t  -64.60853998102755 \t -19.908403246996286\n",
            "4      \t [ 0.6115019  -4.99142676]. \t  -42.94741909537441 \t -19.908403246996286\n",
            "5      \t [ 0.70503872 -1.87020893]. \t  -19.927301413408514 \t -19.908403246996286\n",
            "6      \t [4.36409781 4.28783038]. \t  -66.35596415353442 \t -19.908403246996286\n",
            "7      \t [ 3.14737182 -1.89189322]. \t  \u001b[92m-19.694158461267776\u001b[0m \t -19.694158461267776\n",
            "8      \t [0.74228242 2.38737946]. \t  -34.33442262957515 \t -19.694158461267776\n",
            "9      \t [-2.81559083  0.94732154]. \t  \u001b[92m-15.362233010118622\u001b[0m \t -15.362233010118622\n",
            "10     \t [-4.10886757  1.54935636]. \t  -41.05599048307853 \t -15.362233010118622\n",
            "11     \t [0.83535265 5.01505749]. \t  -30.78386283127326 \t -15.362233010118622\n",
            "12     \t [3.10234355 2.01523708]. \t  -15.728764400426302 \t -15.362233010118622\n",
            "13     \t [-1.01505298 -2.56152903]. \t  -26.89842756080356 \t -15.362233010118622\n",
            "14     \t [-1.31795188  4.42225783]. \t  -54.264891910586094 \t -15.362233010118622\n",
            "15     \t [-0.02815904  0.19472368]. \t  \u001b[92m-6.791111264197654\u001b[0m \t -6.791111264197654\n",
            "16     \t [ 2.61008852 -0.37009629]. \t  -41.50099955601045 \t -6.791111264197654\n",
            "17     \t [-1.25867418 -4.84733046]. \t  -39.8842846308815 \t -6.791111264197654\n",
            "18     \t [ 2.60409293 -2.96210031]. \t  -33.773885126916284 \t -6.791111264197654\n",
            "19     \t [ 0.60317503 -0.99102237]. \t  -19.333159635034765 \t -6.791111264197654\n",
            "20     \t [-5.08812434  2.81494166]. \t  -41.33895174530727 \t -6.791111264197654\n"
          ]
        }
      ]
    },
    {
      "cell_type": "code",
      "metadata": {
        "id": "-ilCPSAu9SAg",
        "colab": {
          "base_uri": "https://localhost:8080/"
        },
        "outputId": "4d568695-187e-41b6-dde2-c1b1555fc7a8"
      },
      "source": [
        "### EXACT GP EI GRADIENTS\n",
        "\n",
        "np.random.seed(run_num_2)\n",
        "surrogate_exact_2 = dGaussianProcess(cov_func, optimize=opt)\n",
        "\n",
        "exact_2 = dGPGO(surrogate_exact_2, Acquisition_new(util_grad_exact), objfunc, param)\n",
        "exact_2.run(init_evals=n_init, max_iter=iters)\n"
      ],
      "execution_count": 35,
      "outputs": [
        {
          "output_type": "stream",
          "name": "stdout",
          "text": [
            "Evaluation \t Proposed point \t  Current eval. \t Best eval.\n",
            "init   \t [-0.6554122  -4.85451539]. \t  -43.490296251903594 \t -18.964539418712707\n",
            "init   \t [ 0.50854377 -0.6622987 ]. \t  -35.91861667536101 \t -18.964539418712707\n",
            "init   \t [-0.81543371 -1.73737143]. \t  -20.479562046739524 \t -18.964539418712707\n",
            "init   \t [-3.02439799  1.2213347 ]. \t  -18.964539418712707 \t -18.964539418712707\n",
            "init   \t [-2.05153614 -2.3876887 ]. \t  -28.041315668371354 \t -18.964539418712707\n",
            "1      \t [2.05570403 4.75700306]. \t  -37.021392444830354 \t -18.964539418712707\n",
            "2      \t [ 4.94749128 -0.60052563]. \t  -43.448338523665484 \t -18.964539418712707\n",
            "3      \t [-3.74830891  3.77770625]. \t  -46.6950806986249 \t -18.964539418712707\n",
            "4      \t [ 3.06058764 -4.80002496]. \t  -40.03166527161449 \t -18.964539418712707\n",
            "5      \t [-0.18986842  2.54334975]. \t  -32.44709489942592 \t -18.964539418712707\n",
            "6      \t [4.51702655 3.23603612]. \t  -59.94203700482817 \t -18.964539418712707\n",
            "7      \t [-0.87573248  4.47263818]. \t  -43.52044566899413 \t -18.964539418712707\n",
            "8      \t [1.98812207 2.39277873]. \t  -27.521097763191566 \t -18.964539418712707\n",
            "9      \t [-3.82812049 -2.54686288]. \t  -45.996924038547974 \t -18.964539418712707\n",
            "10     \t [-5.09457996 -0.08070041]. \t  -28.93386507801649 \t -18.964539418712707\n",
            "11     \t [ 3.10452093 -2.04173533]. \t  \u001b[92m-16.228629524870655\u001b[0m \t -16.228629524870655\n",
            "12     \t [-1.86471946  0.73737024]. \t  -18.21372555663928 \t -16.228629524870655\n",
            "13     \t [ 1.28807547 -3.52312819]. \t  -46.33576582036068 \t -16.228629524870655\n",
            "14     \t [-4.5971748   1.67568648]. \t  -56.6366019050995 \t -16.228629524870655\n",
            "15     \t [ 2.1438662  -0.55004193]. \t  -28.223254806779394 \t -16.228629524870655\n",
            "16     \t [-4.08076128 -4.2265025 ]. \t  -44.304979068202826 \t -16.228629524870655\n",
            "17     \t [ 5.03731443 -2.03897125]. \t  -30.103822007649214 \t -16.228629524870655\n",
            "18     \t [ 5.00472263 -3.08989363]. \t  -36.15223500484218 \t -16.228629524870655\n",
            "19     \t [-3.06998944 -0.3146979 ]. \t  -24.42936848459121 \t -16.228629524870655\n",
            "20     \t [ 4.12820942 -5.00223084]. \t  -45.13835975146481 \t -16.228629524870655\n"
          ]
        }
      ]
    },
    {
      "cell_type": "code",
      "metadata": {
        "id": "XieJ158mIvlP",
        "colab": {
          "base_uri": "https://localhost:8080/"
        },
        "outputId": "0eacbca8-a597-4e88-9912-71897c9696c0"
      },
      "source": [
        "### EXACT GP EI GRADIENTS\n",
        "\n",
        "np.random.seed(run_num_3)\n",
        "surrogate_exact_3 = dGaussianProcess(cov_func, optimize=opt)\n",
        "\n",
        "exact_3 = dGPGO(surrogate_exact_3, Acquisition_new(util_grad_exact), objfunc, param)\n",
        "exact_3.run(init_evals=n_init, max_iter=iters)\n"
      ],
      "execution_count": 36,
      "outputs": [
        {
          "output_type": "stream",
          "name": "stdout",
          "text": [
            "Evaluation \t Proposed point \t  Current eval. \t Best eval.\n",
            "init   \t [0.52017052 2.1314337 ]. \t  -27.953858411008774 \t -10.607662635789808\n",
            "init   \t [-2.14113547  0.11087468]. \t  -10.607662635789808 \t -10.607662635789808\n",
            "init   \t [4.02377681 4.05804123]. \t  -33.42749829480097 \t -10.607662635789808\n",
            "init   \t [-3.83400642 -2.99783293]. \t  -28.650953928965198 \t -10.607662635789808\n",
            "init   \t [-4.59297584 -0.6061072 ]. \t  -57.6631355589384 \t -10.607662635789808\n",
            "1      \t [ 2.87042319 -1.98283743]. \t  -15.364229918613852 \t -10.607662635789808\n",
            "2      \t [ 0.98983705 -4.4342331 ]. \t  -39.8208842721028 \t -10.607662635789808\n",
            "3      \t [4.23910673 1.36873537]. \t  -45.94688517780903 \t -10.607662635789808\n",
            "4      \t [-4.27140077  4.7074016 ]. \t  -64.38978946645413 \t -10.607662635789808\n",
            "5      \t [-1.89795329 -2.26002333]. \t  -21.32538537482696 \t -10.607662635789808\n",
            "6      \t [-5.11236585 -4.80961167]. \t  -58.000569706268756 \t -10.607662635789808\n",
            "7      \t [-0.9183211   4.46435509]. \t  -41.81226730974785 \t -10.607662635789808\n",
            "8      \t [ 0.00579128 -0.84416604]. \t  \u001b[92m-5.1418511459736305\u001b[0m \t -5.1418511459736305\n",
            "9      \t [0.44215762 0.58744205]. \t  -38.41570965196742 \t -5.1418511459736305\n",
            "10     \t [ 4.56301894 -3.70401879]. \t  -66.61622631043602 \t -5.1418511459736305\n",
            "11     \t [-2.12959246  2.61662184]. \t  -31.951091318359488 \t -5.1418511459736305\n",
            "12     \t [-4.8302687   2.47149741]. \t  -54.44753780123051 \t -5.1418511459736305\n",
            "13     \t [ 2.39543278 -0.72751998]. \t  -35.59334030452908 \t -5.1418511459736305\n",
            "14     \t [ 0.10724188 -2.09483499]. \t  -8.3087711600667 \t -5.1418511459736305\n",
            "15     \t [-2.60917673 -4.43832331]. \t  -63.50298643772659 \t -5.1418511459736305\n",
            "16     \t [ 4.91863689 -1.26857079]. \t  -38.244966526461184 \t -5.1418511459736305\n",
            "17     \t [-0.56865214  0.03861059]. \t  -19.70168766796951 \t -5.1418511459736305\n",
            "18     \t [ 0.27216347 -2.92717647]. \t  -21.059196341950987 \t -5.1418511459736305\n",
            "19     \t [1.45078414 3.15246773]. \t  -35.81679073991285 \t -5.1418511459736305\n",
            "20     \t [ 0.62760078 -1.78235837]. \t  -28.50610481733716 \t -5.1418511459736305\n"
          ]
        }
      ]
    },
    {
      "cell_type": "code",
      "metadata": {
        "id": "PhLBVOIfIvol",
        "colab": {
          "base_uri": "https://localhost:8080/"
        },
        "outputId": "01a2ef06-dee5-4846-93bf-634756f24688"
      },
      "source": [
        "### EXACT GP EI GRADIENTS\n",
        "\n",
        "np.random.seed(run_num_4)\n",
        "surrogate_exact_4 = dGaussianProcess(cov_func, optimize=opt)\n",
        "\n",
        "exact_4 = dGPGO(surrogate_exact_4, Acquisition_new(util_grad_exact), objfunc, param)\n",
        "exact_4.run(init_evals=n_init, max_iter=iters)\n"
      ],
      "execution_count": 37,
      "outputs": [
        {
          "output_type": "stream",
          "name": "stdout",
          "text": [
            "Evaluation \t Proposed point \t  Current eval. \t Best eval.\n",
            "init   \t [4.78238555 0.48365823]. \t  -51.03163809010808 \t -14.323038259018315\n",
            "init   \t [4.84028785 2.19971578]. \t  -39.78645699016559 \t -14.323038259018315\n",
            "init   \t [ 2.02474316 -2.90724357]. \t  -14.323038259018315 \t -14.323038259018315\n",
            "init   \t [ 4.87705042 -5.05620219]. \t  -52.80627247106233 \t -14.323038259018315\n",
            "init   \t [-2.52946061 -0.66773471]. \t  -41.61497868486559 \t -14.323038259018315\n",
            "1      \t [1.268901   2.73822686]. \t  -31.031845138409643 \t -14.323038259018315\n",
            "2      \t [-1.39622045  2.74184227]. \t  -37.92778820234755 \t -14.323038259018315\n",
            "3      \t [4.1207998  4.91127052]. \t  -45.36059100936832 \t -14.323038259018315\n",
            "4      \t [-5.05524288 -4.10288369]. \t  -45.00315926025902 \t -14.323038259018315\n",
            "5      \t [-1.27651693 -4.81511427]. \t  -42.49516396175822 \t -14.323038259018315\n",
            "6      \t [ 3.67330149 -1.64633694]. \t  -46.90078273150252 \t -14.323038259018315\n",
            "7      \t [-4.94045521  3.98031443]. \t  -41.01914114855054 \t -14.323038259018315\n",
            "8      \t [ 1.42195818 -0.73569299]. \t  -32.2826099842033 \t -14.323038259018315\n",
            "9      \t [-4.80212308  1.61369724]. \t  -50.002636015671115 \t -14.323038259018315\n",
            "10     \t [-4.32364782 -2.17827041]. \t  -43.546964261782584 \t -14.323038259018315\n",
            "11     \t [0.35946775 4.72375088]. \t  -50.433289829091144 \t -14.323038259018315\n",
            "12     \t [-0.61978434 -2.76207429]. \t  -34.55421952947379 \t -14.323038259018315\n",
            "13     \t [-2.06513156  4.22047071]. \t  -31.058127661395943 \t -14.323038259018315\n",
            "14     \t [ 3.12717843 -4.92524666]. \t  -38.14658560418414 \t -14.323038259018315\n",
            "15     \t [ 0.86477501 -4.45543055]. \t  -43.60663823407276 \t -14.323038259018315\n",
            "16     \t [2.27643193 1.02001916]. \t  -17.95472858275211 \t -14.323038259018315\n",
            "17     \t [ 5.01574919 -2.47491809]. \t  -51.207957109982395 \t -14.323038259018315\n",
            "18     \t [-3.1124897  -4.88398428]. \t  -38.47766093111585 \t -14.323038259018315\n",
            "19     \t [-1.45750901 -0.22825758]. \t  -30.460286050727554 \t -14.323038259018315\n",
            "20     \t [1.24804524 1.14008137]. \t  -16.364284337945953 \t -14.323038259018315\n"
          ]
        }
      ]
    },
    {
      "cell_type": "code",
      "metadata": {
        "id": "arbiPyj2IvsJ",
        "colab": {
          "base_uri": "https://localhost:8080/"
        },
        "outputId": "60d05d62-a3c2-4e60-b1c6-fdcee86eadef"
      },
      "source": [
        "### EXACT GP EI GRADIENTS\n",
        "\n",
        "np.random.seed(run_num_5)\n",
        "surrogate_exact_5 = dGaussianProcess(cov_func, optimize=opt)\n",
        "\n",
        "exact_5 = dGPGO(surrogate_exact_5, Acquisition_new(util_grad_exact), objfunc, param)\n",
        "exact_5.run(init_evals=n_init, max_iter=iters)\n"
      ],
      "execution_count": 38,
      "outputs": [
        {
          "output_type": "stream",
          "name": "stdout",
          "text": [
            "Evaluation \t Proposed point \t  Current eval. \t Best eval.\n",
            "init   \t [-2.84678993  3.79629882]. \t  -33.93442008827236 \t -7.8108627039749745\n",
            "init   \t [-3.00319585  4.2865757 ]. \t  -39.673876075575784 \t -7.8108627039749745\n",
            "init   \t [-0.11866943  1.14425716]. \t  -7.8108627039749745 \t -7.8108627039749745\n",
            "init   \t [2.72289645 0.1886002 ]. \t  -25.38160395721669 \t -7.8108627039749745\n",
            "init   \t [-2.08076286 -3.19773462]. \t  -22.589982116319675 \t -7.8108627039749745\n",
            "1      \t [ 4.32895605 -5.09732646]. \t  -61.29478907190488 \t -7.8108627039749745\n",
            "2      \t [4.36922998 4.22529806]. \t  -62.20759179336663 \t -7.8108627039749745\n",
            "3      \t [-4.27275705  0.27358787]. \t  -41.23295346363658 \t -7.8108627039749745\n",
            "4      \t [0.91518851 4.24687964]. \t  -30.064067813073382 \t -7.8108627039749745\n",
            "5      \t [-0.7614737  -0.77978007]. \t  -18.607371975579174 \t -7.8108627039749745\n",
            "6      \t [ 1.27748574 -3.48486724]. \t  -45.44950930160264 \t -7.8108627039749745\n",
            "7      \t [ 4.72542706 -1.23106929]. \t  -44.19638049098563 \t -7.8108627039749745\n",
            "8      \t [-0.53954402 -4.83810853]. \t  -48.13377038073287 \t -7.8108627039749745\n",
            "9      \t [-4.92011562 -4.41531998]. \t  -63.553660919690785 \t -7.8108627039749745\n",
            "10     \t [-1.34919781  1.56497798]. \t  -39.28458737990342 \t -7.8108627039749745\n",
            "11     \t [4.08010252 0.89167455]. \t  -20.910587121730714 \t -7.8108627039749745\n",
            "12     \t [1.92355078 3.24694864]. \t  -25.18265447532072 \t -7.8108627039749745\n",
            "13     \t [-4.97563767  2.33543518]. \t  -45.44208663177483 \t -7.8108627039749745\n",
            "14     \t [ 1.62657468 -1.03672706]. \t  -20.986387901121795 \t -7.8108627039749745\n",
            "15     \t [ 3.14809367 -3.06120848]. \t  -24.037614872295208 \t -7.8108627039749745\n",
            "16     \t [-2.89849333 -0.13501925]. \t  -13.773117944046993 \t -7.8108627039749745\n",
            "17     \t [-1.43766709 -0.78665683]. \t  -29.645616294624467 \t -7.8108627039749745\n",
            "18     \t [-2.94080384 -4.99191113]. \t  -34.264177467756 \t -7.8108627039749745\n",
            "19     \t [ 0.17130988 -1.5701201 ]. \t  -26.794427037528557 \t -7.8108627039749745\n",
            "20     \t [0.1751365  4.95060483]. \t  -30.48465964979654 \t -7.8108627039749745\n"
          ]
        }
      ]
    },
    {
      "cell_type": "code",
      "metadata": {
        "id": "04KJCEm_Ivvf",
        "colab": {
          "base_uri": "https://localhost:8080/"
        },
        "outputId": "ceaa86f1-10e7-4a13-f871-164eccf937b9"
      },
      "source": [
        "### EXACT GP EI GRADIENTS\n",
        "\n",
        "np.random.seed(run_num_6)\n",
        "surrogate_exact_6 = dGaussianProcess(cov_func, optimize=opt)\n",
        "\n",
        "exact_6 = dGPGO(surrogate_exact_6, Acquisition_new(util_grad_exact), objfunc, param)\n",
        "exact_6.run(init_evals=n_init, max_iter=iters)\n"
      ],
      "execution_count": 39,
      "outputs": [
        {
          "output_type": "stream",
          "name": "stdout",
          "text": [
            "Evaluation \t Proposed point \t  Current eval. \t Best eval.\n",
            "init   \t [ 4.02288795 -1.72052679]. \t  -31.08835710146886 \t -17.28954482757088\n",
            "init   \t [ 3.28938622 -4.69302655]. \t  -58.797867722203385 \t -17.28954482757088\n",
            "init   \t [-4.0175956   0.97333314]. \t  -17.28954482757088 \t -17.28954482757088\n",
            "init   \t [ 0.30532979 -0.83141193]. \t  -19.296253155889353 \t -17.28954482757088\n",
            "init   \t [-1.68542362  1.25459899]. \t  -28.650630936276173 \t -17.28954482757088\n",
            "1      \t [2.22548117 4.47845923]. \t  -53.38343552707523 \t -17.28954482757088\n",
            "2      \t [-4.51750615 -3.14710554]. \t  -54.227698456232176 \t -17.28954482757088\n",
            "3      \t [2.90054831 1.10588233]. \t  \u001b[92m-13.658333747737473\u001b[0m \t -13.658333747737473\n",
            "4      \t [-2.81962871  4.90202937]. \t  -39.57906725481276 \t -13.658333747737473\n",
            "5      \t [-0.15678061  4.14984838]. \t  -25.83231396649395 \t -13.658333747737473\n",
            "6      \t [ 0.71851158 -4.24685955]. \t  -40.32036140350288 \t -13.658333747737473\n",
            "7      \t [4.59028332 0.75387834]. \t  -49.82910145661321 \t -13.658333747737473\n",
            "8      \t [-1.47871646 -1.89720221]. \t  -27.711096861147176 \t -13.658333747737473\n",
            "9      \t [ 1.98740546 -1.10390492]. \t  \u001b[92m-7.256146712231955\u001b[0m \t -7.256146712231955\n",
            "10     \t [ 1.92660318 -0.72944883]. \t  -16.57623463513927 \t -7.256146712231955\n",
            "11     \t [-1.64733371 -4.51264473]. \t  -59.058681051318985 \t -7.256146712231955\n",
            "12     \t [4.43422648 4.85740363]. \t  -66.16717054632747 \t -7.256146712231955\n",
            "13     \t [1.45343891 2.3229284 ]. \t  -41.50713896096918 \t -7.256146712231955\n",
            "14     \t [-4.88916528  2.1003772 ]. \t  -32.567709451500875 \t -7.256146712231955\n",
            "15     \t [-2.3478032  -0.93891589]. \t  -22.886897142263326 \t -7.256146712231955\n",
            "16     \t [-4.1363588  -0.00686079]. \t  -20.569964210331044 \t -7.256146712231955\n",
            "17     \t [-2.30439181  3.5707897 ]. \t  -50.439193169296956 \t -7.256146712231955\n",
            "18     \t [-0.40473764  2.63099274]. \t  -42.14733213601711 \t -7.256146712231955\n",
            "19     \t [-4.12058275 -4.94620706]. \t  -44.74536677115922 \t -7.256146712231955\n",
            "20     \t [ 1.14629405 -2.05963185]. \t  -10.185195245292078 \t -7.256146712231955\n"
          ]
        }
      ]
    },
    {
      "cell_type": "code",
      "metadata": {
        "id": "tAOkme3CIvyO",
        "colab": {
          "base_uri": "https://localhost:8080/"
        },
        "outputId": "3819c241-b1e2-4743-85da-267bacfecd48"
      },
      "source": [
        "### EXACT GP EI GRADIENTS\n",
        "\n",
        "np.random.seed(run_num_7)\n",
        "surrogate_exact_7 = dGaussianProcess(cov_func, optimize=opt)\n",
        "\n",
        "exact_7 = dGPGO(surrogate_exact_7, Acquisition_new(util_grad_exact), objfunc, param)\n",
        "exact_7.run(init_evals=n_init, max_iter=iters)\n"
      ],
      "execution_count": 40,
      "outputs": [
        {
          "output_type": "stream",
          "name": "stdout",
          "text": [
            "Evaluation \t Proposed point \t  Current eval. \t Best eval.\n",
            "init   \t [-4.33860312  2.86636843]. \t  -45.646133072936244 \t -22.52235437888213\n",
            "init   \t [-0.63068947  2.28828342]. \t  -34.83012662845338 \t -22.52235437888213\n",
            "init   \t [4.8946126  0.39419771]. \t  -44.09657005662876 \t -22.52235437888213\n",
            "init   \t [ 0.01147355 -4.38219639]. \t  -36.613209822404315 \t -22.52235437888213\n",
            "init   \t [-2.37118484e+00 -1.20319155e-03]. \t  -22.52235437888213 \t -22.52235437888213\n",
            "1      \t [3.46028026 2.75095047]. \t  -49.171744589739326 \t -22.52235437888213\n",
            "2      \t [ 3.49672156 -3.77742702]. \t  -54.77912127336954 \t -22.52235437888213\n",
            "3      \t [-4.55168509  0.42436743]. \t  -59.267190604429885 \t -22.52235437888213\n",
            "4      \t [-4.46850779 -3.58926025]. \t  -71.12331658548338 \t -22.52235437888213\n",
            "5      \t [0.21518442 0.35831563]. \t  -24.29691123320053 \t -22.52235437888213\n",
            "6      \t [4.84838982 4.66312655]. \t  -64.6473079827515 \t -22.52235437888213\n",
            "7      \t [ 1.49764208 -1.94053564]. \t  -26.697411448479354 \t -22.52235437888213\n",
            "8      \t [-2.61008023  4.79655118]. \t  -54.63796956927864 \t -22.52235437888213\n",
            "9      \t [ 1.1201192  -1.03831254]. \t  \u001b[92m-5.336548522501763\u001b[0m \t -5.336548522501763\n",
            "10     \t [ 3.15174534 -0.02940076]. \t  -14.315723614131864 \t -5.336548522501763\n",
            "11     \t [ 4.80882321 -1.61320832]. \t  -49.68990466276254 \t -5.336548522501763\n",
            "12     \t [1.49868564 4.31492179]. \t  -54.83123594632637 \t -5.336548522501763\n",
            "13     \t [-2.54348935 -1.59069146]. \t  -47.04854255746474 \t -5.336548522501763\n",
            "14     \t [2.30678346 0.15819014]. \t  -23.38493794631419 \t -5.336548522501763\n",
            "15     \t [-1.81238334 -5.02023677]. \t  -34.74817767604325 \t -5.336548522501763\n",
            "16     \t [-0.02668922 -2.98624164]. \t  -9.095969025097123 \t -5.336548522501763\n",
            "17     \t [-1.90439033  2.35020451]. \t  -26.789193655035394 \t -5.336548522501763\n",
            "18     \t [ 1.3504419  -4.40382398]. \t  -55.34669903506719 \t -5.336548522501763\n",
            "19     \t [-0.84607265 -1.19380504]. \t  -13.006635262554754 \t -5.336548522501763\n",
            "20     \t [-1.14698786 -3.65911376]. \t  -34.07999132061225 \t -5.336548522501763\n"
          ]
        }
      ]
    },
    {
      "cell_type": "code",
      "metadata": {
        "id": "69-J3EF4Iv1S",
        "colab": {
          "base_uri": "https://localhost:8080/"
        },
        "outputId": "fa4b01b7-af6f-48b6-894f-7e95b5284823"
      },
      "source": [
        "### EXACT GP EI GRADIENTS\n",
        "\n",
        "np.random.seed(run_num_8)\n",
        "surrogate_exact_8 = dGaussianProcess(cov_func, optimize=opt)\n",
        "\n",
        "exact_8 = dGPGO(surrogate_exact_8, Acquisition_new(util_grad_exact), objfunc, param)\n",
        "exact_8.run(init_evals=n_init, max_iter=iters)\n"
      ],
      "execution_count": 41,
      "outputs": [
        {
          "output_type": "stream",
          "name": "stdout",
          "text": [
            "Evaluation \t Proposed point \t  Current eval. \t Best eval.\n",
            "init   \t [3.82391708 4.79785639]. \t  -50.20079446939181 \t -13.871821018360485\n",
            "init   \t [3.78055209 0.31596228]. \t  -36.5114251593508 \t -13.871821018360485\n",
            "init   \t [-2.73686192 -5.00327624]. \t  -43.34985765011677 \t -13.871821018360485\n",
            "init   \t [-0.7119993  -0.99992207]. \t  -13.871821018360485 \t -13.871821018360485\n",
            "init   \t [ 0.23218863 -0.22126801]. \t  -17.190590355445654 \t -13.871821018360485\n",
            "1      \t [ 4.96383424 -4.82578382]. \t  -53.60118142988121 \t -13.871821018360485\n",
            "2      \t [-3.21655106  0.30418244]. \t  -31.69150926681108 \t -13.871821018360485\n",
            "3      \t [-5.11238257  5.00673475]. \t  -53.60395082170822 \t -13.871821018360485\n",
            "4      \t [-0.35122825  2.57390794]. \t  -41.62948090883939 \t -13.871821018360485\n",
            "5      \t [-2.03342217  4.86918874]. \t  -31.255265964912816 \t -13.871821018360485\n",
            "6      \t [-2.45728322 -2.30407681]. \t  -44.3217279271523 \t -13.871821018360485\n",
            "7      \t [2.35235694 2.56577802]. \t  -47.2718339806206 \t -13.871821018360485\n",
            "8      \t [ 1.03423004 -2.59875106]. \t  -26.18957801393901 \t -13.871821018360485\n",
            "9      \t [-4.70261999  1.3739536 ]. \t  -53.96000512698769 \t -13.871821018360485\n",
            "10     \t [ 3.4756488  -2.28033582]. \t  -49.05777969692721 \t -13.871821018360485\n",
            "11     \t [-1.00908851 -4.19874776]. \t  -25.499139454434307 \t -13.871821018360485\n",
            "12     \t [0.8742722  4.39426163]. \t  -40.90825891601466 \t -13.871821018360485\n",
            "13     \t [ 1.17794347 -4.9323342 ]. \t  -32.23137847519594 \t -13.871821018360485\n",
            "14     \t [1.04759909 0.47799011]. \t  -21.67436952341525 \t -13.871821018360485\n",
            "15     \t [-4.00050393 -1.65317135]. \t  -34.452547461929356 \t -13.871821018360485\n",
            "16     \t [-3.12291082  2.82155289]. \t  -26.20458328492273 \t -13.871821018360485\n",
            "17     \t [4.02113496 2.65020995]. \t  -39.14835729177925 \t -13.871821018360485\n",
            "18     \t [-0.7977152  -0.85762936]. \t  \u001b[92m-12.159786071390739\u001b[0m \t -12.159786071390739\n",
            "19     \t [-1.56629977  1.77925416]. \t  -32.93608688839514 \t -12.159786071390739\n",
            "20     \t [-4.53355571 -3.08812078]. \t  -51.36222195175998 \t -12.159786071390739\n"
          ]
        }
      ]
    },
    {
      "cell_type": "code",
      "metadata": {
        "id": "vonm9jyuIv4t",
        "colab": {
          "base_uri": "https://localhost:8080/"
        },
        "outputId": "924e8cee-7e59-4bce-c3c1-7ebf52784dee"
      },
      "source": [
        "### EXACT GP EI GRADIENTS\n",
        "\n",
        "np.random.seed(run_num_9)\n",
        "surrogate_exact_9 = dGaussianProcess(cov_func, optimize=opt)\n",
        "\n",
        "exact_9 = dGPGO(surrogate_exact_9, Acquisition_new(util_grad_exact), objfunc, param)\n",
        "exact_9.run(init_evals=n_init, max_iter=iters)\n"
      ],
      "execution_count": 42,
      "outputs": [
        {
          "output_type": "stream",
          "name": "stdout",
          "text": [
            "Evaluation \t Proposed point \t  Current eval. \t Best eval.\n",
            "init   \t [-5.01376866  0.01919582]. \t  -25.248289026162446 \t -24.454800313488693\n",
            "init   \t [-0.04328148 -3.74958562]. \t  -24.454800313488693 \t -24.454800313488693\n",
            "init   \t [-3.66478248 -2.88195916]. \t  -39.46509426509438 \t -24.454800313488693\n",
            "init   \t [-0.83447623 -2.57944404]. \t  -31.06766397812992 \t -24.454800313488693\n",
            "init   \t [-4.25922917 -1.58209393]. \t  -49.922543556206975 \t -24.454800313488693\n",
            "1      \t [3.69491889 4.82146316]. \t  -55.95031066333101 \t -24.454800313488693\n",
            "2      \t [-0.15873582  2.02482058]. \t  \u001b[92m-8.821290959844461\u001b[0m \t -8.821290959844461\n",
            "3      \t [4.7632198  0.20799431]. \t  -39.293094742132766 \t -8.821290959844461\n",
            "4      \t [-3.29095234  3.95091563]. \t  -39.456727637785676 \t -8.821290959844461\n",
            "5      \t [ 1.85555334 -1.06867225]. \t  -9.345157801064587 \t -8.821290959844461\n",
            "6      \t [ 4.43889093 -3.24498238]. \t  -59.19033586136056 \t -8.821290959844461\n",
            "7      \t [-3.08027643 -5.00523165]. \t  -35.79116277184441 \t -8.821290959844461\n",
            "8      \t [-1.28310101  0.27040484]. \t  -25.06286801849662 \t -8.821290959844461\n",
            "9      \t [1.90301142 3.32994311]. \t  -31.32444550083256 \t -8.821290959844461\n",
            "10     \t [0.55757018 1.51327617]. \t  -41.91899845485011 \t -8.821290959844461\n",
            "11     \t [ 1.34934448 -4.92810402]. \t  -42.95451369816169 \t -8.821290959844461\n",
            "12     \t [-4.09657946  1.81558987]. \t  -27.858246077084406 \t -8.821290959844461\n",
            "13     \t [ 3.39669498 -0.93867195]. \t  -31.118292579977627 \t -8.821290959844461\n",
            "14     \t [-0.72375296  3.09940145]. \t  -23.65957472405541 \t -8.821290959844461\n",
            "15     \t [ 4.42259606 -5.03391462]. \t  -63.96631390013202 \t -8.821290959844461\n",
            "16     \t [-0.39899129  4.59570995]. \t  -57.578148857638936 \t -8.821290959844461\n",
            "17     \t [ 1.9563778  -0.72743589]. \t  -16.142848497479843 \t -8.821290959844461\n",
            "18     \t [ 2.17133858 -2.25019997]. \t  -25.04701045292603 \t -8.821290959844461\n",
            "19     \t [ 0.0072423  -1.72715006]. \t  -14.424228125245733 \t -8.821290959844461\n",
            "20     \t [2.09253384 0.22438662]. \t  -14.469742886940548 \t -8.821290959844461\n"
          ]
        }
      ]
    },
    {
      "cell_type": "code",
      "metadata": {
        "id": "6amuYlUdIv7r",
        "colab": {
          "base_uri": "https://localhost:8080/"
        },
        "outputId": "05ea8fc7-0ff4-49c6-8254-c4bb13cda06c"
      },
      "source": [
        "### EXACT GP EI GRADIENTS\n",
        "\n",
        "np.random.seed(run_num_10)\n",
        "surrogate_exact_10 = dGaussianProcess(cov_func, optimize=opt)\n",
        "\n",
        "exact_10 = dGPGO(surrogate_exact_10, Acquisition_new(util_grad_exact), objfunc, param)\n",
        "exact_10.run(init_evals=n_init, max_iter=iters)\n"
      ],
      "execution_count": 43,
      "outputs": [
        {
          "output_type": "stream",
          "name": "stdout",
          "text": [
            "Evaluation \t Proposed point \t  Current eval. \t Best eval.\n",
            "init   \t [ 2.77832339 -4.90750004]. \t  -41.674330194390116 \t -13.839458310244165\n",
            "init   \t [1.36855793 2.54775176]. \t  -44.69639719065837 \t -13.839458310244165\n",
            "init   \t [-0.01528819 -2.81808235]. \t  -13.839458310244165 \t -13.839458310244165\n",
            "init   \t [-3.09183626  2.66783449]. \t  -33.23221510904937 \t -13.839458310244165\n",
            "init   \t [-3.38830503 -4.2154003 ]. \t  -54.73014366983691 \t -13.839458310244165\n",
            "1      \t [ 3.6541471  -1.51907697]. \t  -51.25371041141244 \t -13.839458310244165\n",
            "2      \t [-4.7108177  -0.72200009]. \t  -46.900415010222 \t -13.839458310244165\n",
            "3      \t [-0.05070202  4.88530663]. \t  -26.85811157231872 \t -13.839458310244165\n",
            "4      \t [4.32366374 4.35565438]. \t  -68.29223678024069 \t -13.839458310244165\n",
            "5      \t [ 0.13437653 -0.16362608]. \t  \u001b[92m-8.237850154332579\u001b[0m \t -8.237850154332579\n",
            "6      \t [-1.18752493 -2.48521844]. \t  -33.71804116249145 \t -8.237850154332579\n",
            "7      \t [-4.5050859   5.00650982]. \t  -65.36419794062027 \t -8.237850154332579\n",
            "8      \t [4.75034135 1.01310924]. \t  -33.60458850526452 \t -8.237850154332579\n",
            "9      \t [-0.18358303  0.29546372]. \t  -18.88585158845302 \t -8.237850154332579\n",
            "10     \t [-5.01995543 -2.80767768]. \t  -39.616319500432 \t -8.237850154332579\n",
            "11     \t [ 1.83127446 -0.233259  ]. \t  -17.470492911458777 \t -8.237850154332579\n",
            "12     \t [ 0.77916889 -2.13857864]. \t  -16.915333265246126 \t -8.237850154332579\n",
            "13     \t [0.1088646  1.48980391]. \t  -24.46044380524731 \t -8.237850154332579\n",
            "14     \t [-4.91793961  2.49160942]. \t  -51.68038651851943 \t -8.237850154332579\n",
            "15     \t [-5.067199   -4.86667486]. \t  -53.54754203142711 \t -8.237850154332579\n",
            "16     \t [ 0.20658878 -3.08820552]. \t  -18.382624958073087 \t -8.237850154332579\n",
            "17     \t [ 1.42684562 -3.40278981]. \t  -50.768932490904156 \t -8.237850154332579\n",
            "18     \t [-1.68566262 -4.81581001]. \t  -45.948583961612925 \t -8.237850154332579\n",
            "19     \t [-2.29318709 -0.73000606]. \t  -29.724916984789765 \t -8.237850154332579\n",
            "20     \t [-2.35281762  4.80218559]. \t  -51.39640847083784 \t -8.237850154332579\n"
          ]
        }
      ]
    },
    {
      "cell_type": "code",
      "metadata": {
        "id": "VwbLIP9cIv-F",
        "colab": {
          "base_uri": "https://localhost:8080/"
        },
        "outputId": "bf5f73f4-2ae1-448c-c27e-070f02cbb95b"
      },
      "source": [
        "### EXACT GP EI GRADIENTS\n",
        "\n",
        "np.random.seed(run_num_11)\n",
        "surrogate_exact_11 = dGaussianProcess(cov_func, optimize=opt)\n",
        "\n",
        "exact_11 = dGPGO(surrogate_exact_11, Acquisition_new(util_grad_exact), objfunc, param)\n",
        "exact_11.run(init_evals=n_init, max_iter=iters)\n"
      ],
      "execution_count": 44,
      "outputs": [
        {
          "output_type": "stream",
          "name": "stdout",
          "text": [
            "Evaluation \t Proposed point \t  Current eval. \t Best eval.\n",
            "init   \t [-3.27403839 -4.92057353]. \t  -47.655641290890955 \t -10.679755252484755\n",
            "init   \t [-0.37664229  2.30332343]. \t  -35.87889240695259 \t -10.679755252484755\n",
            "init   \t [-0.81711509 -0.14922651]. \t  -10.679755252484755 \t -10.679755252484755\n",
            "init   \t [-4.98912446 -0.12931474]. \t  -28.05462905574235 \t -10.679755252484755\n",
            "init   \t [4.52410012 3.59214172]. \t  -71.62694632141611 \t -10.679755252484755\n",
            "1      \t [ 3.03550212 -4.46785095]. \t  -49.22040431745476 \t -10.679755252484755\n",
            "2      \t [ 4.60629305 -1.69611106]. \t  -55.267837065736 \t -10.679755252484755\n",
            "3      \t [-2.88764544  3.53217056]. \t  -43.00113854761708 \t -10.679755252484755\n",
            "4      \t [ 0.39782699 -2.78490249]. \t  -33.74766088320973 \t -10.679755252484755\n",
            "5      \t [-0.46901453 -0.222652  ]. \t  -28.370748592557185 \t -10.679755252484755\n",
            "6      \t [1.92446717 0.69945171]. \t  -18.420905893824912 \t -10.679755252484755\n",
            "7      \t [-2.55622949 -1.73586321]. \t  -39.81696312884016 \t -10.679755252484755\n",
            "8      \t [0.63984369 3.81492581]. \t  -37.37766232657035 \t -10.679755252484755\n",
            "9      \t [-5.08862339  2.74313341]. \t  -45.360866169641085 \t -10.679755252484755\n",
            "10     \t [ 2.60667409 -0.27333297]. \t  -36.166912996377484 \t -10.679755252484755\n",
            "11     \t [-2.07298848  0.52718394]. \t  -25.46296140762597 \t -10.679755252484755\n",
            "12     \t [ 1.12914457 -4.01471847]. \t  -20.55111042115536 \t -10.679755252484755\n",
            "13     \t [-5.07123879 -5.05115907]. \t  -52.72900616570394 \t -10.679755252484755\n",
            "14     \t [-4.41360103 -2.89274536]. \t  -48.596259618511446 \t -10.679755252484755\n",
            "15     \t [5.09989659 1.67198604]. \t  -45.41830834393231 \t -10.679755252484755\n",
            "16     \t [-1.14410488  5.0127442 ]. \t  -30.29520953417665 \t -10.679755252484755\n",
            "17     \t [-0.90099643 -4.0198326 ]. \t  -18.92157793453829 \t -10.679755252484755\n",
            "18     \t [-2.90073297  1.69367002]. \t  -26.63150081626293 \t -10.679755252484755\n",
            "19     \t [3.00681012 4.38343154]. \t  -45.70010786512859 \t -10.679755252484755\n",
            "20     \t [-0.06045878  1.23724404]. \t  -11.44669069035793 \t -10.679755252484755\n"
          ]
        }
      ]
    },
    {
      "cell_type": "code",
      "metadata": {
        "id": "MlUNFjc-JTBY",
        "colab": {
          "base_uri": "https://localhost:8080/"
        },
        "outputId": "4386b507-a244-4026-a4a8-95dc739c2d98"
      },
      "source": [
        "### EXACT GP EI GRADIENTS\n",
        "\n",
        "np.random.seed(run_num_12)\n",
        "surrogate_exact_12 = dGaussianProcess(cov_func, optimize=opt)\n",
        "\n",
        "exact_12 = dGPGO(surrogate_exact_12, Acquisition_new(util_grad_exact), objfunc, param)\n",
        "exact_12.run(init_evals=n_init, max_iter=iters)\n"
      ],
      "execution_count": 45,
      "outputs": [
        {
          "output_type": "stream",
          "name": "stdout",
          "text": [
            "Evaluation \t Proposed point \t  Current eval. \t Best eval.\n",
            "init   \t [-3.54137249  2.45810889]. \t  -57.903242869085595 \t -40.51116653209555\n",
            "init   \t [-2.42365424  0.34549139]. \t  -40.51116653209555 \t -40.51116653209555\n",
            "init   \t [-4.97075238  4.28796936]. \t  -55.62655915398208 \t -40.51116653209555\n",
            "init   \t [ 4.10332011 -4.77776458]. \t  -49.962803461970296 \t -40.51116653209555\n",
            "init   \t [ 4.6791612  -3.71497655]. \t  -62.183891474990624 \t -40.51116653209555\n",
            "1      \t [4.61121049 2.73895066]. \t  -57.11523489073049 \t -40.51116653209555\n",
            "2      \t [ 1.45078366 -0.07436999]. \t  \u001b[92m-22.70800314272457\u001b[0m \t -22.70800314272457\n",
            "3      \t [-0.99484457  3.94421959]. \t  \u001b[92m-17.159745034435346\u001b[0m \t -17.159745034435346\n",
            "4      \t [-3.3023348 -5.0380458]. \t  -49.80103649721626 \t -17.159745034435346\n",
            "5      \t [ 0.18113838 -3.43572525]. \t  -36.839602195377644 \t -17.159745034435346\n",
            "6      \t [2.96525964 4.93145656]. \t  -34.26245747909675 \t -17.159745034435346\n",
            "7      \t [ 4.41844098 -1.03572281]. \t  -39.56163892638052 \t -17.159745034435346\n",
            "8      \t [-0.80921836  1.8078056 ]. \t  \u001b[92m-16.73475376800897\u001b[0m \t -16.73475376800897\n",
            "9      \t [-0.473308    5.02795542]. \t  -45.51791780436662 \t -16.73475376800897\n",
            "10     \t [-1.0083808  -2.26355547]. \t  -17.005062341684084 \t -16.73475376800897\n",
            "11     \t [-4.06438577 -1.932022  ]. \t  -21.957503215592357 \t -16.73475376800897\n",
            "12     \t [0.88855553 3.20650846]. \t  -20.725492366991208 \t -16.73475376800897\n",
            "13     \t [2.17684179 1.45404949]. \t  -32.00251037883665 \t -16.73475376800897\n",
            "14     \t [-5.09384503 -2.37707997]. \t  -50.449261069205924 \t -16.73475376800897\n",
            "15     \t [ 1.6623268  -4.31454447]. \t  -50.55808059008409 \t -16.73475376800897\n",
            "16     \t [ 1.50183688 -1.04712599]. \t  -23.786507307852332 \t -16.73475376800897\n",
            "17     \t [-2.87608713 -1.98231419]. \t  \u001b[92m-15.143922744916443\u001b[0m \t -15.143922744916443\n",
            "18     \t [-4.60681066 -0.01853637]. \t  -39.12210636174792 \t -15.143922744916443\n",
            "19     \t [-2.97832143  4.94971258]. \t  -33.9577072230342 \t -15.143922744916443\n",
            "20     \t [-0.13075435 -0.03131328]. \t  \u001b[92m-3.400157523564326\u001b[0m \t -3.400157523564326\n"
          ]
        }
      ]
    },
    {
      "cell_type": "code",
      "metadata": {
        "id": "9BsKdU9eJTFL",
        "colab": {
          "base_uri": "https://localhost:8080/"
        },
        "outputId": "1155f98c-d84b-4b08-8280-6bd40dcb7c10"
      },
      "source": [
        "### EXACT GP EI GRADIENTS\n",
        "\n",
        "np.random.seed(run_num_13)\n",
        "surrogate_exact_13 = dGaussianProcess(cov_func, optimize=opt)\n",
        "\n",
        "exact_13 = dGPGO(surrogate_exact_13, Acquisition_new(util_grad_exact), objfunc, param)\n",
        "exact_13.run(init_evals=n_init, max_iter=iters)\n"
      ],
      "execution_count": 46,
      "outputs": [
        {
          "output_type": "stream",
          "name": "stdout",
          "text": [
            "Evaluation \t Proposed point \t  Current eval. \t Best eval.\n",
            "init   \t [ 2.84367268 -2.68757791]. \t  -33.58019830007169 \t -17.435826639425656\n",
            "init   \t [3.32061217 4.76927179]. \t  -56.857057997503354 \t -17.435826639425656\n",
            "init   \t [ 4.83943541 -0.47667971]. \t  -48.211919361679726 \t -17.435826639425656\n",
            "init   \t [1.11659482 2.82139151]. \t  -17.435826639425656 \t -17.435826639425656\n",
            "init   \t [1.45012065 2.27346667]. \t  -38.25352329493884 \t -17.435826639425656\n",
            "1      \t [-4.45353434  1.32944895]. \t  -55.96540752598998 \t -17.435826639425656\n",
            "2      \t [-3.63652107 -3.1649786 ]. \t  -44.690931809710065 \t -17.435826639425656\n",
            "3      \t [-2.72766503  3.53968184]. \t  -51.05903360322337 \t -17.435826639425656\n",
            "4      \t [ 0.65700126 -1.53823013]. \t  -38.027082974564145 \t -17.435826639425656\n",
            "5      \t [ 0.65095856 -5.01918269]. \t  -41.51751009386717 \t -17.435826639425656\n",
            "6      \t [ 4.28995882 -4.38860663]. \t  -67.79703988366907 \t -17.435826639425656\n",
            "7      \t [-1.80985163  0.98242627]. \t  \u001b[92m-10.629047777072032\u001b[0m \t -10.629047777072032\n",
            "8      \t [-4.65374571  4.09568012]. \t  -55.87107425121984 \t -10.629047777072032\n",
            "9      \t [-2.28675044 -1.43438387]. \t  -38.73742055060529 \t -10.629047777072032\n",
            "10     \t [3.45880906 2.07021447]. \t  -36.873574850041784 \t -10.629047777072032\n",
            "11     \t [-0.62492549  5.00920604]. \t  -42.57377918447119 \t -10.629047777072032\n",
            "12     \t [-3.16885243 -4.88165284]. \t  -41.631181085256486 \t -10.629047777072032\n",
            "13     \t [-0.14656404 -3.78266517]. \t  -26.240876555673367 \t -10.629047777072032\n",
            "14     \t [5.11258866 4.23250133]. \t  -55.354929493817025 \t -10.629047777072032\n",
            "15     \t [-0.38721884  0.51955505]. \t  -37.93706264414452 \t -10.629047777072032\n",
            "16     \t [1.65978971 5.08926379]. \t  -45.556951895794164 \t -10.629047777072032\n",
            "17     \t [-2.95574779  0.03228164]. \t  \u001b[92m-9.326546759156573\u001b[0m \t -9.326546759156573\n",
            "18     \t [-1.07834664  2.80890197]. \t  -16.62311039130831 \t -9.326546759156573\n",
            "19     \t [2.68811588 0.42436108]. \t  -40.08887189369551 \t -9.326546759156573\n",
            "20     \t [ 2.40007104 -4.48264909]. \t  -63.8879097756817 \t -9.326546759156573\n"
          ]
        }
      ]
    },
    {
      "cell_type": "code",
      "metadata": {
        "id": "k6GjFBr1JTJf",
        "colab": {
          "base_uri": "https://localhost:8080/"
        },
        "outputId": "b842ffdc-26d6-44cd-c68f-09d95070e0fa"
      },
      "source": [
        "### EXACT GP EI GRADIENTS\n",
        "\n",
        "np.random.seed(run_num_14)\n",
        "surrogate_exact_14 = dGaussianProcess(cov_func, optimize=opt)\n",
        "\n",
        "exact_14 = dGPGO(surrogate_exact_14, Acquisition_new(util_grad_exact), objfunc, param)\n",
        "exact_14.run(init_evals=n_init, max_iter=iters)\n"
      ],
      "execution_count": 47,
      "outputs": [
        {
          "output_type": "stream",
          "name": "stdout",
          "text": [
            "Evaluation \t Proposed point \t  Current eval. \t Best eval.\n",
            "init   \t [0.14277984 2.79721013]. \t  -18.683085263052178 \t -10.423838604848608\n",
            "init   \t [ 3.7931795  -5.03759925]. \t  -47.36348784446708 \t -10.423838604848608\n",
            "init   \t [-1.94830412  4.68586229]. \t  -40.19779334078636 \t -10.423838604848608\n",
            "init   \t [ 0.13431513 -1.86076749]. \t  -10.423838604848608 \t -10.423838604848608\n",
            "init   \t [ 0.40140736 -2.85434939]. \t  -30.353548735049138 \t -10.423838604848608\n",
            "1      \t [-4.59142601 -1.8849894 ]. \t  -45.52863937749002 \t -10.423838604848608\n",
            "2      \t [-0.84400488 -0.33982279]. \t  -20.607676472886663 \t -10.423838604848608\n",
            "3      \t [-2.27365179 -5.04767977]. \t  -42.574582273091764 \t -10.423838604848608\n",
            "4      \t [ 4.56538083 -0.26259941]. \t  -50.870494960047544 \t -10.423838604848608\n",
            "5      \t [-4.47212469  0.73188816]. \t  -51.51811665987888 \t -10.423838604848608\n",
            "6      \t [ 3.10339255 -1.67359161]. \t  -29.087478291232657 \t -10.423838604848608\n",
            "7      \t [1.56368715 1.94976409]. \t  -25.950717186416874 \t -10.423838604848608\n",
            "8      \t [-1.56222024 -2.19158738]. \t  -32.9007651277857 \t -10.423838604848608\n",
            "9      \t [1.94091259 4.95759735]. \t  -29.379006716223408 \t -10.423838604848608\n",
            "10     \t [ 0.66519536 -4.51920901]. \t  -55.87283301285537 \t -10.423838604848608\n",
            "11     \t [ 5.10933412 -3.31518252]. \t  -53.34599771747511 \t -10.423838604848608\n",
            "12     \t [-4.93658954  3.15123545]. \t  -39.268573281193774 \t -10.423838604848608\n",
            "13     \t [-2.54542344  1.57206746]. \t  -47.53825573900233 \t -10.423838604848608\n",
            "14     \t [0.67306727 4.53315284]. \t  -55.434090590656965 \t -10.423838604848608\n",
            "15     \t [ 0.56922489 -1.1254303 ]. \t  -23.60758528105353 \t -10.423838604848608\n",
            "16     \t [0.89511328 0.8436628 ]. \t  \u001b[92m-8.055938387513137\u001b[0m \t -8.055938387513137\n",
            "17     \t [3.44296849 1.27152095]. \t  -44.18368621237023 \t -8.055938387513137\n",
            "18     \t [3.68239262 2.99951775]. \t  -36.678459893982605 \t -8.055938387513137\n",
            "19     \t [3.70704573 5.05700682]. \t  -52.61640792303416 \t -8.055938387513137\n",
            "20     \t [-0.75644789  1.14495034]. \t  -15.34656696016535 \t -8.055938387513137\n"
          ]
        }
      ]
    },
    {
      "cell_type": "code",
      "metadata": {
        "id": "dPS8WB3aJTN6",
        "colab": {
          "base_uri": "https://localhost:8080/"
        },
        "outputId": "ff5b2b0a-86db-4ade-df9f-7a168a5fc155"
      },
      "source": [
        "### EXACT GP EI GRADIENTS\n",
        "\n",
        "np.random.seed(run_num_15)\n",
        "surrogate_exact_15 = dGaussianProcess(cov_func, optimize=opt)\n",
        "\n",
        "exact_15 = dGPGO(surrogate_exact_15, Acquisition_new(util_grad_exact), objfunc, param)\n",
        "exact_15.run(init_evals=n_init, max_iter=iters)\n"
      ],
      "execution_count": 48,
      "outputs": [
        {
          "output_type": "stream",
          "name": "stdout",
          "text": [
            "Evaluation \t Proposed point \t  Current eval. \t Best eval.\n",
            "init   \t [ 3.57189322 -3.28810573]. \t  -54.938487770767075 \t -7.990765314336182\n",
            "init   \t [-4.56332069 -1.41784631]. \t  -60.750198753157726 \t -7.990765314336182\n",
            "init   \t [-2.29989449  0.3072023 ]. \t  -31.984997246800887 \t -7.990765314336182\n",
            "init   \t [-1.9873903  -2.00218256]. \t  -7.990765314336182 \t -7.990765314336182\n",
            "init   \t [-3.97576933 -2.5610341 ]. \t  -41.754957769694336 \t -7.990765314336182\n",
            "1      \t [-0.96061929 -4.30421908]. \t  -33.09482904077285 \t -7.990765314336182\n",
            "2      \t [4.30898862 3.84681925]. \t  -51.27248341256101 \t -7.990765314336182\n",
            "3      \t [-0.80713667  4.42652   ]. \t  -45.68518071847479 \t -7.990765314336182\n",
            "4      \t [ 1.26548023 -0.06975962]. \t  -13.522734182826538 \t -7.990765314336182\n",
            "5      \t [-4.63322123  2.76329722]. \t  -54.9645724013152 \t -7.990765314336182\n",
            "6      \t [4.18660771 0.56312162]. \t  -43.18999752814098 \t -7.990765314336182\n",
            "7      \t [ 0.03399254 -1.81924257]. \t  -9.323334700167479 \t -7.990765314336182\n",
            "8      \t [1.73468617 4.50565763]. \t  -54.264481497867266 \t -7.990765314336182\n",
            "9      \t [ 4.86077172 -1.10926018]. \t  -30.711354620321682 \t -7.990765314336182\n",
            "10     \t [0.13218061 1.52479738]. \t  -25.476391144284314 \t -7.990765314336182\n",
            "11     \t [ 2.61974048 -1.39638061]. \t  -44.06817742800943 \t -7.990765314336182\n",
            "12     \t [ 4.47238293 -5.08019642]. \t  -66.9033159478682 \t -7.990765314336182\n",
            "13     \t [ 1.56995474 -3.5363708 ]. \t  -53.760174613734044 \t -7.990765314336182\n",
            "14     \t [-1.36786478 -1.52895209]. \t  -40.79080518762993 \t -7.990765314336182\n",
            "15     \t [-4.28523229 -4.37040758]. \t  -66.52346854712324 \t -7.990765314336182\n",
            "16     \t [-0.01512159 -0.79298401]. \t  -8.006102974799589 \t -7.990765314336182\n",
            "17     \t [2.08175027 2.3409752 ]. \t  -26.51419322089145 \t -7.990765314336182\n",
            "18     \t [-3.08144433  1.7860864 ]. \t  -21.71841883038038 \t -7.990765314336182\n",
            "19     \t [-0.95090435  1.67434712]. \t  -18.756104172416965 \t -7.990765314336182\n",
            "20     \t [-0.54731541 -4.94553041]. \t  -44.899114830569495 \t -7.990765314336182\n"
          ]
        }
      ]
    },
    {
      "cell_type": "code",
      "metadata": {
        "id": "SHWdp2giJTRm",
        "colab": {
          "base_uri": "https://localhost:8080/"
        },
        "outputId": "d0b3f27f-6279-42c8-9af4-f2d809d52030"
      },
      "source": [
        "### EXACT GP EI GRADIENTS\n",
        "\n",
        "np.random.seed(run_num_16)\n",
        "surrogate_exact_16 = dGaussianProcess(cov_func, optimize=opt)\n",
        "\n",
        "exact_16 = dGPGO(surrogate_exact_16, Acquisition_new(util_grad_exact), objfunc, param)\n",
        "exact_16.run(init_evals=n_init, max_iter=iters)\n"
      ],
      "execution_count": 49,
      "outputs": [
        {
          "output_type": "stream",
          "name": "stdout",
          "text": [
            "Evaluation \t Proposed point \t  Current eval. \t Best eval.\n",
            "init   \t [-2.83349935  0.23719262]. \t  -22.27210456874814 \t -22.27210456874814\n",
            "init   \t [ 0.51918292 -4.65303603]. \t  -57.57021076017139 \t -22.27210456874814\n",
            "init   \t [-1.42613673 -2.83565116]. \t  -33.89145899403749 \t -22.27210456874814\n",
            "init   \t [ 1.9325559  -3.44339021]. \t  -35.85029586225333 \t -22.27210456874814\n",
            "init   \t [-4.39987336  4.51595121]. \t  -77.78800881964571 \t -22.27210456874814\n",
            "1      \t [0.44307501 2.73602996]. \t  -37.92596211556066 \t -22.27210456874814\n",
            "2      \t [1.79882444 0.27653292]. \t  \u001b[92m-21.951801916981644\u001b[0m \t -21.951801916981644\n",
            "3      \t [4.43659222 2.11166462]. \t  -45.721252879564474 \t -21.951801916981644\n",
            "4      \t [-3.71346287 -3.79495342]. \t  -47.679961092867046 \t -21.951801916981644\n",
            "5      \t [ 4.9943907  -3.15608472]. \t  -39.34668509473496 \t -21.951801916981644\n",
            "6      \t [-4.86187034 -2.14354026]. \t  -35.566919010020364 \t -21.951801916981644\n",
            "7      \t [2.89271366 4.34436088]. \t  -45.01614852633505 \t -21.951801916981644\n",
            "8      \t [-1.78202495  0.95746184]. \t  \u001b[92m-12.44876927765617\u001b[0m \t -12.44876927765617\n",
            "9      \t [-4.13262886  1.24165084]. \t  -31.371831063230534 \t -12.44876927765617\n",
            "10     \t [-1.76687529  5.1060245 ]. \t  -40.27308169323873 \t -12.44876927765617\n",
            "11     \t [ 0.52529487 -1.83725528]. \t  -28.313540674315444 \t -12.44876927765617\n",
            "12     \t [-0.57849287 -0.11242613]. \t  -21.548513780398935 \t -12.44876927765617\n",
            "13     \t [ 3.20041401 -1.27069612]. \t  -30.0886129432103 \t -12.44876927765617\n",
            "14     \t [-1.7336436  2.9635927]. \t  -23.07479940467094 \t -12.44876927765617\n",
            "15     \t [-1.10794166  0.93292413]. \t  \u001b[92m-5.1859920288719685\u001b[0m \t -5.1859920288719685\n",
            "16     \t [ 4.8423777  -0.38658361]. \t  -45.680804032840186 \t -5.1859920288719685\n",
            "17     \t [4.57389988 5.01283516]. \t  -65.02281056034947 \t -5.1859920288719685\n",
            "18     \t [ 3.29096373 -3.76837589]. \t  -46.424574978292846 \t -5.1859920288719685\n",
            "19     \t [-3.06089027 -0.84893185]. \t  -14.989282926627167 \t -5.1859920288719685\n",
            "20     \t [0.75522686 4.63974217]. \t  -48.15593458637778 \t -5.1859920288719685\n"
          ]
        }
      ]
    },
    {
      "cell_type": "code",
      "metadata": {
        "id": "yU2SflSsJTUs",
        "colab": {
          "base_uri": "https://localhost:8080/"
        },
        "outputId": "a9f6fe2e-866b-4250-9f22-2d698e69d8d5"
      },
      "source": [
        "### EXACT GP EI GRADIENTS\n",
        "\n",
        "np.random.seed(run_num_17)\n",
        "surrogate_exact_17 = dGaussianProcess(cov_func, optimize=opt)\n",
        "\n",
        "exact_17 = dGPGO(surrogate_exact_17, Acquisition_new(util_grad_exact), objfunc, param)\n",
        "exact_17.run(init_evals=n_init, max_iter=iters)\n"
      ],
      "execution_count": 50,
      "outputs": [
        {
          "output_type": "stream",
          "name": "stdout",
          "text": [
            "Evaluation \t Proposed point \t  Current eval. \t Best eval.\n",
            "init   \t [-2.10263037  0.31320838]. \t  -20.395145364684023 \t -20.395145364684023\n",
            "init   \t [-3.15882714 -4.42470033]. \t  -53.03732051200137 \t -20.395145364684023\n",
            "init   \t [2.93873111 1.60085526]. \t  -29.989224812583537 \t -20.395145364684023\n",
            "init   \t [1.40821398 0.77417363]. \t  -29.451989415882437 \t -20.395145364684023\n",
            "init   \t [-4.71999574 -1.45598869]. \t  -55.89242173757483 \t -20.395145364684023\n",
            "1      \t [-4.42389782  4.71846663]. \t  -72.68157430646394 \t -20.395145364684023\n",
            "2      \t [ 3.93076959 -4.95927098]. \t  -41.30222645498773 \t -20.395145364684023\n",
            "3      \t [2.89798268 4.58673172]. \t  -49.97291692255099 \t -20.395145364684023\n",
            "4      \t [ 4.39342024 -2.35641433]. \t  -58.89419991142758 \t -20.395145364684023\n",
            "5      \t [ 0.70128933 -3.21493798]. \t  -31.655421037644512 \t -20.395145364684023\n",
            "6      \t [-0.02757552  4.07682435]. \t  \u001b[92m-17.913539603908912\u001b[0m \t -17.913539603908912\n",
            "7      \t [5.11778185 3.25555299]. \t  -49.7547692127751 \t -17.913539603908912\n",
            "8      \t [-1.16379726 -2.44313872]. \t  -31.53658668022092 \t -17.913539603908912\n",
            "9      \t [-1.44406102  4.65272465]. \t  -58.86031660933304 \t -17.913539603908912\n",
            "10     \t [ 2.78396256 -1.01787616]. \t  \u001b[92m-16.731759012928194\u001b[0m \t -16.731759012928194\n",
            "11     \t [-0.6592566  -0.04287104]. \t  \u001b[92m-16.194708079308754\u001b[0m \t -16.194708079308754\n",
            "12     \t [-0.52664255 -4.71898958]. \t  -54.34256511502517 \t -16.194708079308754\n",
            "13     \t [-1.41089401  1.90842139]. \t  -25.7162210389424 \t -16.194708079308754\n",
            "14     \t [-4.54091068  0.70043078]. \t  -53.84633267521031 \t -16.194708079308754\n",
            "15     \t [1.2144506  2.63742935]. \t  -32.71367127368832 \t -16.194708079308754\n",
            "16     \t [ 1.13367564 -1.44538644]. \t  -26.116059985933514 \t -16.194708079308754\n",
            "17     \t [-5.09612546 -4.72352632]. \t  -61.70707416361414 \t -16.194708079308754\n",
            "18     \t [-4.3960517   2.79411476]. \t  -52.337770885036406 \t -16.194708079308754\n",
            "19     \t [ 2.1983593  -2.05308283]. \t  -16.410957547365697 \t -16.194708079308754\n",
            "20     \t [-1.19856092 -1.1531402 ]. \t  \u001b[92m-13.873147053847665\u001b[0m \t -13.873147053847665\n"
          ]
        }
      ]
    },
    {
      "cell_type": "code",
      "metadata": {
        "id": "es0KCh_0JTgY",
        "colab": {
          "base_uri": "https://localhost:8080/"
        },
        "outputId": "a82293ac-beca-4fa2-b15c-868539a4d9cf"
      },
      "source": [
        "### EXACT GP EI GRADIENTS\n",
        "\n",
        "np.random.seed(run_num_18)\n",
        "surrogate_exact_18 = dGaussianProcess(cov_func, optimize=opt)\n",
        "\n",
        "exact_18 = dGPGO(surrogate_exact_18, Acquisition_new(util_grad_exact), objfunc, param)\n",
        "exact_18.run(init_evals=n_init, max_iter=iters)\n"
      ],
      "execution_count": 51,
      "outputs": [
        {
          "output_type": "stream",
          "name": "stdout",
          "text": [
            "Evaluation \t Proposed point \t  Current eval. \t Best eval.\n",
            "init   \t [1.53983224 0.05584255]. \t  -22.67190580753611 \t -22.67190580753611\n",
            "init   \t [ 3.87687906 -3.25795609]. \t  -38.990099416711985 \t -22.67190580753611\n",
            "init   \t [3.60686662 2.56139557]. \t  -56.66448698782129 \t -22.67190580753611\n",
            "init   \t [1.70088108 4.99604939]. \t  -40.894059318256296 \t -22.67190580753611\n",
            "init   \t [-2.48864335 -4.83014733]. \t  -54.6725749848372 \t -22.67190580753611\n",
            "1      \t [-3.15722337  2.19398902]. \t  -25.829823688857886 \t -22.67190580753611\n",
            "2      \t [-1.4106331  -1.78008391]. \t  -31.744119903818408 \t -22.67190580753611\n",
            "3      \t [-1.1627454   3.41801779]. \t  -36.52537807923383 \t -22.67190580753611\n",
            "4      \t [ 1.63205836 -2.63314497]. \t  -43.047786894089185 \t -22.67190580753611\n",
            "5      \t [-4.7006711   3.04748635]. \t  -44.8753392234882 \t -22.67190580753611\n",
            "6      \t [-4.63323812 -0.17551711]. \t  -43.6825210604098 \t -22.67190580753611\n",
            "7      \t [-5.02193897 -3.66563255]. \t  -53.807755325268815 \t -22.67190580753611\n",
            "8      \t [0.27262543 1.93851361]. \t  \u001b[92m-15.985993956127341\u001b[0m \t -15.985993956127341\n",
            "9      \t [3.64956484 0.36025962]. \t  -45.73586159132031 \t -15.985993956127341\n",
            "10     \t [4.68870565 4.43583943]. \t  -74.61573550378957 \t -15.985993956127341\n",
            "11     \t [-1.99891631  1.47527237]. \t  -26.05187282546413 \t -15.985993956127341\n",
            "12     \t [ 0.14650877 -4.74316702]. \t  -36.89440428205164 \t -15.985993956127341\n",
            "13     \t [-4.10375511  4.48787237]. \t  -59.003537250241806 \t -15.985993956127341\n",
            "14     \t [ 2.8668588  -4.45718841]. \t  -51.02552478713076 \t -15.985993956127341\n",
            "15     \t [ 4.34655339 -1.11199958]. \t  -38.20591710517908 \t -15.985993956127341\n",
            "16     \t [-2.71468412 -2.74628404]. \t  -37.34584244106145 \t -15.985993956127341\n",
            "17     \t [-0.93190449  1.27303825]. \t  \u001b[92m-14.832987428080198\u001b[0m \t -14.832987428080198\n",
            "18     \t [-0.61854571  0.07984529]. \t  -18.9731605541392 \t -14.832987428080198\n",
            "19     \t [-2.32591104  0.85125281]. \t  -24.783974420851365 \t -14.832987428080198\n",
            "20     \t [-2.37640096  4.90666391]. \t  -48.526551611745624 \t -14.832987428080198\n"
          ]
        }
      ]
    },
    {
      "cell_type": "code",
      "metadata": {
        "id": "Pput2LHPIwBM",
        "colab": {
          "base_uri": "https://localhost:8080/"
        },
        "outputId": "a1dad97b-894d-4938-a1bc-a14352654114"
      },
      "source": [
        "### EXACT GP EI GRADIENTS\n",
        "\n",
        "np.random.seed(run_num_19)\n",
        "surrogate_exact_19 = dGaussianProcess(cov_func, optimize=opt)\n",
        "\n",
        "exact_19 = dGPGO(surrogate_exact_19, Acquisition_new(util_grad_exact), objfunc, param)\n",
        "exact_19.run(init_evals=n_init, max_iter=iters)\n"
      ],
      "execution_count": 52,
      "outputs": [
        {
          "output_type": "stream",
          "name": "stdout",
          "text": [
            "Evaluation \t Proposed point \t  Current eval. \t Best eval.\n",
            "init   \t [-4.12125592  2.6751971 ]. \t  -41.43485596167127 \t -25.867003842388073\n",
            "init   \t [-2.59135515 -3.70553152]. \t  -51.60126035043229 \t -25.867003842388073\n",
            "init   \t [-1.72598719 -4.27008445]. \t  -43.97430127029199 \t -25.867003842388073\n",
            "init   \t [1.76104531 3.13952049]. \t  -25.867003842388073 \t -25.867003842388073\n",
            "init   \t [4.9432772  1.38916592]. \t  -44.66580306903559 \t -25.867003842388073\n",
            "1      \t [ 2.56159896 -2.18285579]. \t  -36.49220194347926 \t -25.867003842388073\n",
            "2      \t [-3.43213367 -0.61223157]. \t  -48.87390786600469 \t -25.867003842388073\n",
            "3      \t [-1.55356609  4.96411722]. \t  -46.74805356910033 \t -25.867003842388073\n",
            "4      \t [0.58820792 0.97133058]. \t  \u001b[92m-19.954353698055442\u001b[0m \t -19.954353698055442\n",
            "5      \t [ 3.55380745 -4.27999402]. \t  -62.25526533428459 \t -19.954353698055442\n",
            "6      \t [4.49732115 4.6445587 ]. \t  -77.94736268172689 \t -19.954353698055442\n",
            "7      \t [-1.60581321  1.33148367]. \t  -37.12063223660415 \t -19.954353698055442\n",
            "8      \t [-5.0093755 -2.3295852]. \t  -45.33283735936344 \t -19.954353698055442\n",
            "9      \t [-0.6305672  -2.19848596]. \t  -28.869900869011868 \t -19.954353698055442\n",
            "10     \t [-4.20062135 -4.12800081]. \t  -44.69609726341506 \t -19.954353698055442\n",
            "11     \t [-0.05166771 -4.12731009]. \t  -20.59200313385768 \t -19.954353698055442\n",
            "12     \t [-0.47685566  3.26171308]. \t  -41.49590519128723 \t -19.954353698055442\n",
            "13     \t [ 1.28294513 -5.01095224]. \t  -38.83451070709286 \t -19.954353698055442\n",
            "14     \t [ 1.06166147 -0.24120746]. \t  \u001b[92m-11.374306589330978\u001b[0m \t -11.374306589330978\n",
            "15     \t [ 0.25524201 -1.20175214]. \t  -18.853379456370185 \t -11.374306589330978\n",
            "16     \t [2.99437842 1.37742876]. \t  -28.047996747404028 \t -11.374306589330978\n",
            "17     \t [-4.76261776  0.43516793]. \t  -51.2616635515746 \t -11.374306589330978\n",
            "18     \t [-3.23823937  4.42637908]. \t  -58.289824741323585 \t -11.374306589330978\n",
            "19     \t [ 4.04529746 -0.81834353]. \t  -23.273021598743266 \t -11.374306589330978\n",
            "20     \t [2.69161809 0.22694102]. \t  -29.439064013048434 \t -11.374306589330978\n"
          ]
        }
      ]
    },
    {
      "cell_type": "code",
      "metadata": {
        "id": "aw3xvSryIwDi",
        "colab": {
          "base_uri": "https://localhost:8080/"
        },
        "outputId": "75c5bda3-8704-4348-b746-6e58ca049614"
      },
      "source": [
        "### EXACT GP EI GRADIENTS\n",
        "\n",
        "np.random.seed(run_num_20)\n",
        "surrogate_exact_20 = dGaussianProcess(cov_func, optimize=opt)\n",
        "\n",
        "exact_20 = dGPGO(surrogate_exact_20, Acquisition_new(util_grad_exact), objfunc, param)\n",
        "exact_20.run(init_evals=n_init, max_iter=iters)\n"
      ],
      "execution_count": 53,
      "outputs": [
        {
          "output_type": "stream",
          "name": "stdout",
          "text": [
            "Evaluation \t Proposed point \t  Current eval. \t Best eval.\n",
            "init   \t [0.9024594  4.07258857]. \t  -20.24255447774017 \t -17.388691338534382\n",
            "init   \t [4.00927467 3.23417577]. \t  -35.55852254546393 \t -17.388691338534382\n",
            "init   \t [-4.75249064  1.96359764]. \t  -36.54582989269194 \t -17.388691338534382\n",
            "init   \t [-1.24230715  0.18955208]. \t  -17.388691338534382 \t -17.388691338534382\n",
            "init   \t [ 1.61742301 -3.13497377]. \t  -33.22932870179905 \t -17.388691338534382\n",
            "1      \t [ 3.47645873 -0.39895658]. \t  -50.18719919444315 \t -17.388691338534382\n",
            "2      \t [-1.23079112 -2.13102384]. \t  -18.053672319310433 \t -17.388691338534382\n",
            "3      \t [-2.52251164  4.73778318]. \t  -59.47663987484926 \t -17.388691338534382\n",
            "4      \t [ 3.53423896 -5.04038248]. \t  -57.9859604492304 \t -17.388691338534382\n",
            "5      \t [0.77673836 1.52289774]. \t  -31.147095347706063 \t -17.388691338534382\n",
            "6      \t [-4.93928283 -4.4686824 ]. \t  -64.89157811870972 \t -17.388691338534382\n",
            "7      \t [-1.96652956 -4.55717752]. \t  -44.217007377737005 \t -17.388691338534382\n",
            "8      \t [-3.00149432 -0.09646248]. \t  \u001b[92m-10.799906703709674\u001b[0m \t -10.799906703709674\n",
            "9      \t [1.42152255 4.14636433]. \t  -41.96070373049089 \t -10.799906703709674\n",
            "10     \t [-3.86013342 -1.0868001 ]. \t  -21.1517712308244 \t -10.799906703709674\n",
            "11     \t [-4.65782729  5.11401687]. \t  -65.77973468480931 \t -10.799906703709674\n",
            "12     \t [-1.33648938  1.85941153]. \t  -24.068647135395572 \t -10.799906703709674\n",
            "13     \t [ 1.0721682  -0.99442708]. \t  \u001b[92m-3.155131700069365\u001b[0m \t -3.155131700069365\n",
            "14     \t [ 0.61026361 -0.94659622]. \t  -19.520723047764456 \t -3.155131700069365\n",
            "15     \t [-0.12822641  4.53602422]. \t  -43.41060590376716 \t -3.155131700069365\n",
            "16     \t [-2.76706603 -2.44946354]. \t  -42.08638469860729 \t -3.155131700069365\n",
            "17     \t [-5.02688756 -1.2795747 ]. \t  -38.8968312614996 \t -3.155131700069365\n",
            "18     \t [5.08503114 4.32301529]. \t  -60.368022428451205 \t -3.155131700069365\n",
            "19     \t [ 0.38713674 -4.86836795]. \t  -44.6697374123535 \t -3.155131700069365\n",
            "20     \t [4.12782538 1.39332182]. \t  -39.8723413061514 \t -3.155131700069365\n"
          ]
        }
      ]
    },
    {
      "cell_type": "code",
      "metadata": {
        "id": "qNqAB3vBTPqb",
        "colab": {
          "base_uri": "https://localhost:8080/"
        },
        "outputId": "8656a950-24d2-4b7f-8c68-39b5af7dd54f"
      },
      "source": [
        "end_exact = time.time()\n",
        "end_exact\n",
        "\n",
        "time_exact = end_exact - start_exact\n",
        "time_exact"
      ],
      "execution_count": 54,
      "outputs": [
        {
          "output_type": "execute_result",
          "data": {
            "text/plain": [
              "33.37443733215332"
            ]
          },
          "metadata": {},
          "execution_count": 54
        }
      ]
    },
    {
      "cell_type": "code",
      "metadata": {
        "id": "JPQzjdBZQxfg",
        "colab": {
          "base_uri": "https://localhost:8080/"
        },
        "outputId": "800e724b-d489-4796-9896-983bb03487cc"
      },
      "source": [
        "### Simple regret minimization: run number = 1\n",
        "\n",
        "approx_output_1 = np.append(np.min(approx_1.GP.y[0:n_init]),approx_1.GP.y[n_init:(n_init+iters)]) \n",
        "exact_output_1 = np.append(np.min(exact_1.GP.y[0:n_init]),exact_1.GP.y[n_init:(n_init+iters)]) \n",
        "\n",
        "regret_approx_1 = np.log(-approx_output_1 + y_global_orig)\n",
        "regret_exact_1 = np.log(-exact_output_1 + y_global_orig)\n",
        "\n",
        "simple_regret_approx_1 = min_max_array(regret_approx_1)\n",
        "simple_regret_exact_1 = min_max_array(regret_exact_1)\n",
        "\n",
        "min_simple_regret_approx_1 = min(simple_regret_approx_1)\n",
        "min_simple_regret_exact_1 = min(simple_regret_exact_1)\n",
        "\n",
        "min_simple_regret_approx_1, min_simple_regret_exact_1"
      ],
      "execution_count": 55,
      "outputs": [
        {
          "output_type": "execute_result",
          "data": {
            "text/plain": [
              "(2.82467182070781, 1.9156145900642392)"
            ]
          },
          "metadata": {},
          "execution_count": 55
        }
      ]
    },
    {
      "cell_type": "code",
      "metadata": {
        "id": "94yBw5tqQxfk",
        "colab": {
          "base_uri": "https://localhost:8080/"
        },
        "outputId": "a173c3aa-cf86-4a1c-b05e-ceeea64a8395"
      },
      "source": [
        "### Simple regret minimization: run number = 2\n",
        "\n",
        "approx_output_2 = np.append(np.min(approx_2.GP.y[0:n_init]),approx_2.GP.y[n_init:(n_init+iters)]) \n",
        "exact_output_2 = np.append(np.min(exact_2.GP.y[0:n_init]),exact_2.GP.y[n_init:(n_init+iters)]) \n",
        "\n",
        "regret_approx_2 = np.log(-approx_output_2 + y_global_orig)\n",
        "regret_exact_2 = np.log(-exact_output_2 + y_global_orig)\n",
        "\n",
        "simple_regret_approx_2 = min_max_array(regret_approx_2)\n",
        "simple_regret_exact_2 = min_max_array(regret_exact_2)\n",
        "\n",
        "min_simple_regret_approx_2 = min(simple_regret_approx_2)\n",
        "min_simple_regret_exact_2 = min(simple_regret_exact_2)\n",
        "\n",
        "min_simple_regret_approx_2, min_simple_regret_exact_2"
      ],
      "execution_count": 56,
      "outputs": [
        {
          "output_type": "execute_result",
          "data": {
            "text/plain": [
              "(2.800350867240127, 2.786776937102923)"
            ]
          },
          "metadata": {},
          "execution_count": 56
        }
      ]
    },
    {
      "cell_type": "code",
      "metadata": {
        "id": "Bu6SBWALQxfl",
        "colab": {
          "base_uri": "https://localhost:8080/"
        },
        "outputId": "f1f24a6f-11e0-4555-d135-a6a89886e7f2"
      },
      "source": [
        "### Simple regret minimization: run number = 3\n",
        "\n",
        "approx_output_3 = np.append(np.min(approx_3.GP.y[0:n_init]),approx_3.GP.y[n_init:(n_init+iters)]) \n",
        "exact_output_3 = np.append(np.min(exact_3.GP.y[0:n_init]),exact_3.GP.y[n_init:(n_init+iters)]) \n",
        "\n",
        "regret_approx_3 = np.log(-approx_output_3 + y_global_orig)\n",
        "regret_exact_3 = np.log(-exact_output_3 + y_global_orig)\n",
        "\n",
        "simple_regret_approx_3 = min_max_array(regret_approx_3)\n",
        "simple_regret_exact_3 = min_max_array(regret_exact_3)\n",
        "\n",
        "min_simple_regret_approx_3 = min(simple_regret_approx_3)\n",
        "min_simple_regret_exact_3 = min(simple_regret_exact_3)\n",
        "\n",
        "min_simple_regret_approx_3, min_simple_regret_exact_3"
      ],
      "execution_count": 57,
      "outputs": [
        {
          "output_type": "execute_result",
          "data": {
            "text/plain": [
              "(2.4095530691607627, 1.6374131597614392)"
            ]
          },
          "metadata": {},
          "execution_count": 57
        }
      ]
    },
    {
      "cell_type": "code",
      "metadata": {
        "id": "AZm0jgxkQxfm",
        "colab": {
          "base_uri": "https://localhost:8080/"
        },
        "outputId": "38bd9f6a-3a44-4693-b130-5b1dc068fd48"
      },
      "source": [
        "### Simple regret minimization: run number = 4\n",
        "\n",
        "approx_output_4 = np.append(np.min(approx_4.GP.y[0:n_init]),approx_4.GP.y[n_init:(n_init+iters)]) \n",
        "exact_output_4 = np.append(np.min(exact_4.GP.y[0:n_init]),exact_4.GP.y[n_init:(n_init+iters)]) \n",
        "\n",
        "regret_approx_4 = np.log(-approx_output_4 + y_global_orig)\n",
        "regret_exact_4 = np.log(-exact_output_4 + y_global_orig)\n",
        "\n",
        "simple_regret_approx_4 = min_max_array(regret_approx_4)\n",
        "simple_regret_exact_4 = min_max_array(regret_exact_4)\n",
        "\n",
        "min_simple_regret_approx_4 = min(simple_regret_approx_4)\n",
        "min_simple_regret_exact_4 = min(simple_regret_exact_4)\n",
        "\n",
        "min_simple_regret_approx_4, min_simple_regret_exact_4"
      ],
      "execution_count": 58,
      "outputs": [
        {
          "output_type": "execute_result",
          "data": {
            "text/plain": [
              "(2.6861177132785503, 2.795101175737873)"
            ]
          },
          "metadata": {},
          "execution_count": 58
        }
      ]
    },
    {
      "cell_type": "code",
      "metadata": {
        "id": "NONPm8JIQxfn",
        "colab": {
          "base_uri": "https://localhost:8080/"
        },
        "outputId": "e5fd6a0b-21c5-445d-df2e-366cc0a8f728"
      },
      "source": [
        "### Simple regret minimization: run number = 5\n",
        "\n",
        "approx_output_5 = np.append(np.min(approx_5.GP.y[0:n_init]),approx_5.GP.y[n_init:(n_init+iters)]) \n",
        "exact_output_5 = np.append(np.min(exact_5.GP.y[0:n_init]),exact_5.GP.y[n_init:(n_init+iters)]) \n",
        "\n",
        "regret_approx_5 = np.log(-approx_output_5 + y_global_orig)\n",
        "regret_exact_5 = np.log(-exact_output_5 + y_global_orig)\n",
        "\n",
        "simple_regret_approx_5 = min_max_array(regret_approx_5)\n",
        "simple_regret_exact_5 = min_max_array(regret_exact_5)\n",
        "\n",
        "min_simple_regret_approx_5 = min(simple_regret_approx_5)\n",
        "min_simple_regret_exact_5 = min(simple_regret_exact_5)\n",
        "\n",
        "min_simple_regret_approx_5, min_simple_regret_exact_5"
      ],
      "execution_count": 59,
      "outputs": [
        {
          "output_type": "execute_result",
          "data": {
            "text/plain": [
              "(2.1043992307542934, 2.622718717323127)"
            ]
          },
          "metadata": {},
          "execution_count": 59
        }
      ]
    },
    {
      "cell_type": "code",
      "metadata": {
        "id": "CJv3lPuSQxfp",
        "colab": {
          "base_uri": "https://localhost:8080/"
        },
        "outputId": "8a7216cf-ffc7-4929-a4bb-b6c84480dec2"
      },
      "source": [
        "### Simple regret minimization: run number = 6\n",
        "\n",
        "approx_output_6 = np.append(np.min(approx_6.GP.y[0:n_init]),approx_6.GP.y[n_init:(n_init+iters)]) \n",
        "exact_output_6 = np.append(np.min(exact_6.GP.y[0:n_init]),exact_6.GP.y[n_init:(n_init+iters)]) \n",
        "\n",
        "regret_approx_6 = np.log(-approx_output_6 + y_global_orig)\n",
        "regret_exact_6 = np.log(-exact_output_6 + y_global_orig)\n",
        "\n",
        "simple_regret_approx_6 = min_max_array(regret_approx_6)\n",
        "simple_regret_exact_6 = min_max_array(regret_exact_6)\n",
        "\n",
        "min_simple_regret_approx_6 = min(simple_regret_approx_6)\n",
        "min_simple_regret_exact_6 = min(simple_regret_exact_6)\n",
        "\n",
        "min_simple_regret_approx_6, min_simple_regret_exact_6"
      ],
      "execution_count": 60,
      "outputs": [
        {
          "output_type": "execute_result",
          "data": {
            "text/plain": [
              "(2.416051781793646, 1.9818489320450234)"
            ]
          },
          "metadata": {},
          "execution_count": 60
        }
      ]
    },
    {
      "cell_type": "code",
      "metadata": {
        "id": "quR2ZyApQxfq",
        "colab": {
          "base_uri": "https://localhost:8080/"
        },
        "outputId": "9287af4a-d045-4f98-c306-c52a8e0fe538"
      },
      "source": [
        "### Simple regret minimization: run number = 7\n",
        "\n",
        "approx_output_7 = np.append(np.min(approx_7.GP.y[0:n_init]),approx_7.GP.y[n_init:(n_init+iters)]) \n",
        "exact_output_7 = np.append(np.min(exact_7.GP.y[0:n_init]),exact_7.GP.y[n_init:(n_init+iters)]) \n",
        "\n",
        "regret_approx_7 = np.log(-approx_output_7 + y_global_orig)\n",
        "regret_exact_7 = np.log(-exact_output_7 + y_global_orig)\n",
        "\n",
        "simple_regret_approx_7 = min_max_array(regret_approx_7)\n",
        "simple_regret_exact_7 = min_max_array(regret_exact_7)\n",
        "\n",
        "min_simple_regret_approx_7 = min(simple_regret_approx_7)\n",
        "min_simple_regret_exact_7 = min(simple_regret_exact_7)\n",
        "\n",
        "min_simple_regret_approx_7, min_simple_regret_exact_7"
      ],
      "execution_count": 61,
      "outputs": [
        {
          "output_type": "execute_result",
          "data": {
            "text/plain": [
              "(2.8296915357823225, 1.6745790999009125)"
            ]
          },
          "metadata": {},
          "execution_count": 61
        }
      ]
    },
    {
      "cell_type": "code",
      "metadata": {
        "id": "99wY5nK6Qxfr",
        "colab": {
          "base_uri": "https://localhost:8080/"
        },
        "outputId": "6b025c02-058c-4178-b78a-5e1e39a3e427"
      },
      "source": [
        "### Simple regret minimization: run number = 8\n",
        "\n",
        "approx_output_8 = np.append(np.min(approx_8.GP.y[0:n_init]),approx_8.GP.y[n_init:(n_init+iters)]) \n",
        "exact_output_8 = np.append(np.min(exact_8.GP.y[0:n_init]),exact_8.GP.y[n_init:(n_init+iters)]) \n",
        "\n",
        "regret_approx_8 = np.log(-approx_output_8 + y_global_orig)\n",
        "regret_exact_8 = np.log(-exact_output_8 + y_global_orig)\n",
        "\n",
        "simple_regret_approx_8 = min_max_array(regret_approx_8)\n",
        "simple_regret_exact_8 = min_max_array(regret_exact_8)\n",
        "\n",
        "min_simple_regret_approx_8 = min(simple_regret_approx_8)\n",
        "min_simple_regret_exact_8 = min(simple_regret_exact_8)\n",
        "\n",
        "min_simple_regret_approx_8, min_simple_regret_exact_8"
      ],
      "execution_count": 62,
      "outputs": [
        {
          "output_type": "execute_result",
          "data": {
            "text/plain": [
              "(2.703410377460159, 2.498134283570004)"
            ]
          },
          "metadata": {},
          "execution_count": 62
        }
      ]
    },
    {
      "cell_type": "code",
      "metadata": {
        "id": "qt0P5t9qQxfs",
        "colab": {
          "base_uri": "https://localhost:8080/"
        },
        "outputId": "cc903d40-a38d-4f03-bd48-c6e1a11e72a1"
      },
      "source": [
        "### Simple regret minimization: run number = 9\n",
        "\n",
        "approx_output_9 = np.append(np.min(approx_9.GP.y[0:n_init]),approx_9.GP.y[n_init:(n_init+iters)]) \n",
        "exact_output_9 = np.append(np.min(exact_9.GP.y[0:n_init]),exact_9.GP.y[n_init:(n_init+iters)]) \n",
        "\n",
        "regret_approx_9 = np.log(-approx_output_9 + y_global_orig)\n",
        "regret_exact_9 = np.log(-exact_output_9 + y_global_orig)\n",
        "\n",
        "simple_regret_approx_9 = min_max_array(regret_approx_9)\n",
        "simple_regret_exact_9 = min_max_array(regret_exact_9)\n",
        "\n",
        "min_simple_regret_approx_9 = min(simple_regret_approx_9)\n",
        "min_simple_regret_exact_9 = min(simple_regret_exact_9)\n",
        "\n",
        "min_simple_regret_approx_9, min_simple_regret_exact_9"
      ],
      "execution_count": 63,
      "outputs": [
        {
          "output_type": "execute_result",
          "data": {
            "text/plain": [
              "(2.7179343220046737, 2.1771682266373515)"
            ]
          },
          "metadata": {},
          "execution_count": 63
        }
      ]
    },
    {
      "cell_type": "code",
      "metadata": {
        "id": "vx8to9stQxft",
        "colab": {
          "base_uri": "https://localhost:8080/"
        },
        "outputId": "731515cb-b861-4359-d969-06f3edbcdc1b"
      },
      "source": [
        "### Simple regret minimization: run number = 10\n",
        "\n",
        "approx_output_10 = np.append(np.min(approx_10.GP.y[0:n_init]),approx_10.GP.y[n_init:(n_init+iters)]) \n",
        "exact_output_10 = np.append(np.min(exact_10.GP.y[0:n_init]),exact_10.GP.y[n_init:(n_init+iters)]) \n",
        "\n",
        "regret_approx_10 = np.log(-approx_output_10 + y_global_orig)\n",
        "regret_exact_10 = np.log(-exact_output_10 + y_global_orig)\n",
        "\n",
        "simple_regret_approx_10 = min_max_array(regret_approx_10)\n",
        "simple_regret_exact_10 = min_max_array(regret_exact_10)\n",
        "\n",
        "min_simple_regret_approx_10 = min(simple_regret_approx_10)\n",
        "min_simple_regret_exact_10 = min(simple_regret_exact_10)\n",
        "\n",
        "min_simple_regret_approx_10, min_simple_regret_exact_10"
      ],
      "execution_count": 64,
      "outputs": [
        {
          "output_type": "execute_result",
          "data": {
            "text/plain": [
              "(1.8725531604129686, 2.1087394062796996)"
            ]
          },
          "metadata": {},
          "execution_count": 64
        }
      ]
    },
    {
      "cell_type": "code",
      "metadata": {
        "id": "d-FGzWyHQxfu",
        "colab": {
          "base_uri": "https://localhost:8080/"
        },
        "outputId": "d29d285e-f59f-4eaa-f194-ced495027319"
      },
      "source": [
        "### Simple regret minimization: run number = 11\n",
        "\n",
        "approx_output_11 = np.append(np.min(approx_11.GP.y[0:n_init]),approx_11.GP.y[n_init:(n_init+iters)]) \n",
        "exact_output_11 = np.append(np.min(exact_11.GP.y[0:n_init]),exact_11.GP.y[n_init:(n_init+iters)]) \n",
        "\n",
        "regret_approx_11 = np.log(-approx_output_11 + y_global_orig)\n",
        "regret_exact_11 = np.log(-exact_output_11 + y_global_orig)\n",
        "\n",
        "simple_regret_approx_11 = min_max_array(regret_approx_11)\n",
        "simple_regret_exact_11 = min_max_array(regret_exact_11)\n",
        "\n",
        "min_simple_regret_approx_11 = min(simple_regret_approx_11)\n",
        "min_simple_regret_exact_11 = min(simple_regret_exact_11)\n",
        "\n",
        "min_simple_regret_approx_11, min_simple_regret_exact_11"
      ],
      "execution_count": 65,
      "outputs": [
        {
          "output_type": "execute_result",
          "data": {
            "text/plain": [
              "(3.0955458391708666, 2.437700665548982)"
            ]
          },
          "metadata": {},
          "execution_count": 65
        }
      ]
    },
    {
      "cell_type": "code",
      "metadata": {
        "id": "SvtsssyjQxfv",
        "colab": {
          "base_uri": "https://localhost:8080/"
        },
        "outputId": "16645107-f262-42de-806a-773b625995a4"
      },
      "source": [
        "### Simple regret minimization: run number = 12\n",
        "\n",
        "approx_output_12 = np.append(np.min(approx_12.GP.y[0:n_init]),approx_12.GP.y[n_init:(n_init+iters)]) \n",
        "exact_output_12 = np.append(np.min(exact_12.GP.y[0:n_init]),exact_12.GP.y[n_init:(n_init+iters)]) \n",
        "\n",
        "regret_approx_12 = np.log(-approx_output_12 + y_global_orig)\n",
        "regret_exact_12 = np.log(-exact_output_12 + y_global_orig)\n",
        "\n",
        "simple_regret_approx_12 = min_max_array(regret_approx_12)\n",
        "simple_regret_exact_12 = min_max_array(regret_exact_12)\n",
        "\n",
        "min_simple_regret_approx_12 = min(simple_regret_approx_12)\n",
        "min_simple_regret_exact_12 = min(simple_regret_exact_12)\n",
        "\n",
        "min_simple_regret_approx_12, min_simple_regret_exact_12"
      ],
      "execution_count": 66,
      "outputs": [
        {
          "output_type": "execute_result",
          "data": {
            "text/plain": [
              "(2.167090446102908, 1.223821761008989)"
            ]
          },
          "metadata": {},
          "execution_count": 66
        }
      ]
    },
    {
      "cell_type": "code",
      "metadata": {
        "id": "K6OiGcHkQxfw",
        "colab": {
          "base_uri": "https://localhost:8080/"
        },
        "outputId": "853a40c3-a3d7-4e82-c711-6984e5d0e7ac"
      },
      "source": [
        "### Simple regret minimization: run number = 13\n",
        "\n",
        "approx_output_13 = np.append(np.min(approx_13.GP.y[0:n_init]),approx_13.GP.y[n_init:(n_init+iters)]) \n",
        "exact_output_13 = np.append(np.min(exact_13.GP.y[0:n_init]),exact_13.GP.y[n_init:(n_init+iters)]) \n",
        "\n",
        "regret_approx_13 = np.log(-approx_output_13 + y_global_orig)\n",
        "regret_exact_13 = np.log(-exact_output_13 + y_global_orig)\n",
        "\n",
        "simple_regret_approx_13 = min_max_array(regret_approx_13)\n",
        "simple_regret_exact_13 = min_max_array(regret_exact_13)\n",
        "\n",
        "min_simple_regret_approx_13 = min(simple_regret_approx_13)\n",
        "min_simple_regret_exact_13 = min(simple_regret_exact_13)\n",
        "\n",
        "min_simple_regret_approx_13, min_simple_regret_exact_13"
      ],
      "execution_count": 67,
      "outputs": [
        {
          "output_type": "execute_result",
          "data": {
            "text/plain": [
              "(2.554832335019754, 2.232864824070202)"
            ]
          },
          "metadata": {},
          "execution_count": 67
        }
      ]
    },
    {
      "cell_type": "code",
      "metadata": {
        "id": "ogML73shQxfx",
        "colab": {
          "base_uri": "https://localhost:8080/"
        },
        "outputId": "53fd7b72-e124-4cde-93e5-67f17ce1652d"
      },
      "source": [
        "### Simple regret minimization: run number = 14\n",
        "\n",
        "approx_output_14 = np.append(np.min(approx_14.GP.y[0:n_init]),approx_14.GP.y[n_init:(n_init+iters)]) \n",
        "exact_output_14 = np.append(np.min(exact_14.GP.y[0:n_init]),exact_14.GP.y[n_init:(n_init+iters)]) \n",
        "\n",
        "regret_approx_14 = np.log(-approx_output_14 + y_global_orig)\n",
        "regret_exact_14 = np.log(-exact_output_14 + y_global_orig)\n",
        "\n",
        "simple_regret_approx_14 = min_max_array(regret_approx_14)\n",
        "simple_regret_exact_14 = min_max_array(regret_exact_14)\n",
        "\n",
        "min_simple_regret_approx_14 = min(simple_regret_approx_14)\n",
        "min_simple_regret_exact_14 = min(simple_regret_exact_14)\n",
        "\n",
        "min_simple_regret_approx_14, min_simple_regret_exact_14"
      ],
      "execution_count": 68,
      "outputs": [
        {
          "output_type": "execute_result",
          "data": {
            "text/plain": [
              "(1.688868312898111, 2.0864095073623297)"
            ]
          },
          "metadata": {},
          "execution_count": 68
        }
      ]
    },
    {
      "cell_type": "code",
      "metadata": {
        "id": "9Eg7gFT9Qxfx",
        "colab": {
          "base_uri": "https://localhost:8080/"
        },
        "outputId": "510484b0-7bb0-4c28-ebc7-d06ac79f2f57"
      },
      "source": [
        "### Simple regret minimization: run number = 15\n",
        "\n",
        "approx_output_15 = np.append(np.min(approx_15.GP.y[0:n_init]),approx_15.GP.y[n_init:(n_init+iters)]) \n",
        "exact_output_15 = np.append(np.min(exact_15.GP.y[0:n_init]),exact_15.GP.y[n_init:(n_init+iters)]) \n",
        "\n",
        "regret_approx_15 = np.log(-approx_output_15 + y_global_orig)\n",
        "regret_exact_15 = np.log(-exact_output_15 + y_global_orig)\n",
        "\n",
        "simple_regret_approx_15 = min_max_array(regret_approx_15)\n",
        "simple_regret_exact_15 = min_max_array(regret_exact_15)\n",
        "\n",
        "min_simple_regret_approx_15 = min(simple_regret_approx_15)\n",
        "min_simple_regret_exact_15 = min(simple_regret_exact_15)\n",
        "\n",
        "min_simple_regret_approx_15, min_simple_regret_exact_15"
      ],
      "execution_count": 69,
      "outputs": [
        {
          "output_type": "execute_result",
          "data": {
            "text/plain": [
              "(3.09391381989107, 2.0802041226909607)"
            ]
          },
          "metadata": {},
          "execution_count": 69
        }
      ]
    },
    {
      "cell_type": "code",
      "metadata": {
        "id": "lIAC1U7ZQxfy",
        "colab": {
          "base_uri": "https://localhost:8080/"
        },
        "outputId": "66e185b3-fca3-476d-db77-9d8c8b6e4dff"
      },
      "source": [
        "### Simple regret minimization: run number = 16\n",
        "\n",
        "approx_output_16 = np.append(np.min(approx_16.GP.y[0:n_init]),approx_16.GP.y[n_init:(n_init+iters)]) \n",
        "exact_output_16 = np.append(np.min(exact_16.GP.y[0:n_init]),exact_16.GP.y[n_init:(n_init+iters)]) \n",
        "\n",
        "regret_approx_16 = np.log(-approx_output_16 + y_global_orig)\n",
        "regret_exact_16 = np.log(-exact_output_16 + y_global_orig)\n",
        "\n",
        "simple_regret_approx_16 = min_max_array(regret_approx_16)\n",
        "simple_regret_exact_16 = min_max_array(regret_exact_16)\n",
        "\n",
        "min_simple_regret_approx_16 = min(simple_regret_approx_16)\n",
        "min_simple_regret_exact_16 = min(simple_regret_exact_16)\n",
        "\n",
        "min_simple_regret_approx_16, min_simple_regret_exact_16"
      ],
      "execution_count": 70,
      "outputs": [
        {
          "output_type": "execute_result",
          "data": {
            "text/plain": [
              "(3.1387555213778695, 1.64596115006785)"
            ]
          },
          "metadata": {},
          "execution_count": 70
        }
      ]
    },
    {
      "cell_type": "code",
      "metadata": {
        "id": "bGott36OQxfz",
        "colab": {
          "base_uri": "https://localhost:8080/"
        },
        "outputId": "c498a5e8-9cc7-466e-a175-37b3493bf890"
      },
      "source": [
        "### Simple regret minimization: run number = 17\n",
        "\n",
        "approx_output_17 = np.append(np.min(approx_17.GP.y[0:n_init]),approx_17.GP.y[n_init:(n_init+iters)]) \n",
        "exact_output_17 = np.append(np.min(exact_17.GP.y[0:n_init]),exact_17.GP.y[n_init:(n_init+iters)]) \n",
        "\n",
        "regret_approx_17 = np.log(-approx_output_17 + y_global_orig)\n",
        "regret_exact_17 = np.log(-exact_output_17 + y_global_orig)\n",
        "\n",
        "simple_regret_approx_17 = min_max_array(regret_approx_17)\n",
        "simple_regret_exact_17 = min_max_array(regret_exact_17)\n",
        "\n",
        "min_simple_regret_approx_17 = min(simple_regret_approx_17)\n",
        "min_simple_regret_exact_17 = min(simple_regret_exact_17)\n",
        "\n",
        "min_simple_regret_approx_17, min_simple_regret_exact_17"
      ],
      "execution_count": 71,
      "outputs": [
        {
          "output_type": "execute_result",
          "data": {
            "text/plain": [
              "(2.4383883469077783, 2.6299551050458447)"
            ]
          },
          "metadata": {},
          "execution_count": 71
        }
      ]
    },
    {
      "cell_type": "code",
      "metadata": {
        "id": "Cz9ZYMBMQxfz",
        "colab": {
          "base_uri": "https://localhost:8080/"
        },
        "outputId": "c1c9f3ab-5e3f-47a0-914f-7ebc075cd8ea"
      },
      "source": [
        "### Simple regret minimization: run number = 18\n",
        "\n",
        "approx_output_18 = np.append(np.min(approx_18.GP.y[0:n_init]),approx_18.GP.y[n_init:(n_init+iters)]) \n",
        "exact_output_18 = np.append(np.min(exact_18.GP.y[0:n_init]),exact_18.GP.y[n_init:(n_init+iters)]) \n",
        "\n",
        "regret_approx_18 = np.log(-approx_output_18 + y_global_orig)\n",
        "regret_exact_18 = np.log(-exact_output_18 + y_global_orig)\n",
        "\n",
        "simple_regret_approx_18 = min_max_array(regret_approx_18)\n",
        "simple_regret_exact_18 = min_max_array(regret_exact_18)\n",
        "\n",
        "min_simple_regret_approx_18 = min(simple_regret_approx_18)\n",
        "min_simple_regret_exact_18 = min(simple_regret_exact_18)\n",
        "\n",
        "min_simple_regret_approx_18, min_simple_regret_exact_18"
      ],
      "execution_count": 72,
      "outputs": [
        {
          "output_type": "execute_result",
          "data": {
            "text/plain": [
              "(2.6584931331239137, 2.6968535807769145)"
            ]
          },
          "metadata": {},
          "execution_count": 72
        }
      ]
    },
    {
      "cell_type": "code",
      "metadata": {
        "id": "OBfpWOHNQxf0",
        "colab": {
          "base_uri": "https://localhost:8080/"
        },
        "outputId": "4f14341a-2c4d-411a-9bdc-9ac9df7e2c87"
      },
      "source": [
        "### Simple regret minimization: run number = 19\n",
        "\n",
        "approx_output_19 = np.append(np.min(approx_19.GP.y[0:n_init]),approx_19.GP.y[n_init:(n_init+iters)]) \n",
        "exact_output_19 = np.append(np.min(exact_19.GP.y[0:n_init]),exact_19.GP.y[n_init:(n_init+iters)]) \n",
        "\n",
        "regret_approx_19 = np.log(-approx_output_19 + y_global_orig)\n",
        "regret_exact_19 = np.log(-exact_output_19 + y_global_orig)\n",
        "\n",
        "simple_regret_approx_19 = min_max_array(regret_approx_19)\n",
        "simple_regret_exact_19 = min_max_array(regret_exact_19)\n",
        "\n",
        "min_simple_regret_approx_19 = min(simple_regret_approx_19)\n",
        "min_simple_regret_exact_19 = min(simple_regret_exact_19)\n",
        "\n",
        "min_simple_regret_approx_19, min_simple_regret_exact_19"
      ],
      "execution_count": 73,
      "outputs": [
        {
          "output_type": "execute_result",
          "data": {
            "text/plain": [
              "(2.9889495127104686, 2.4313570037992336)"
            ]
          },
          "metadata": {},
          "execution_count": 73
        }
      ]
    },
    {
      "cell_type": "code",
      "metadata": {
        "id": "BE1AJ7NsQxf0",
        "colab": {
          "base_uri": "https://localhost:8080/"
        },
        "outputId": "6397fb9b-6e84-42ce-abf0-8dfc87cb4c6c"
      },
      "source": [
        "### Simple regret minimization: run number = 20\n",
        "\n",
        "approx_output_20 = np.append(np.min(approx_20.GP.y[0:n_init]),approx_20.GP.y[n_init:(n_init+iters)]) \n",
        "exact_output_20 = np.append(np.min(exact_20.GP.y[0:n_init]),exact_20.GP.y[n_init:(n_init+iters)]) \n",
        "\n",
        "regret_approx_20 = np.log(-approx_output_20 + y_global_orig)\n",
        "regret_exact_20 = np.log(-exact_output_20 + y_global_orig)\n",
        "\n",
        "simple_regret_approx_20 = min_max_array(regret_approx_20)\n",
        "simple_regret_exact_20 = min_max_array(regret_exact_20)\n",
        "\n",
        "min_simple_regret_approx_20 = min(simple_regret_approx_20)\n",
        "min_simple_regret_exact_20 = min(simple_regret_exact_20)\n",
        "\n",
        "min_simple_regret_approx_20, min_simple_regret_exact_20"
      ],
      "execution_count": 74,
      "outputs": [
        {
          "output_type": "execute_result",
          "data": {
            "text/plain": [
              "(2.914847184656634, 1.1490302384085949)"
            ]
          },
          "metadata": {},
          "execution_count": 74
        }
      ]
    },
    {
      "cell_type": "code",
      "metadata": {
        "id": "bpX-bKAHQxf1"
      },
      "source": [
        "# Iteration1 :\n",
        "\n",
        "slice1 = 0\n",
        "\n",
        "approx1 = [simple_regret_approx_1[slice1],\n",
        "       simple_regret_approx_2[slice1],\n",
        "       simple_regret_approx_3[slice1],\n",
        "       simple_regret_approx_4[slice1],\n",
        "       simple_regret_approx_5[slice1],\n",
        "       simple_regret_approx_6[slice1],\n",
        "       simple_regret_approx_7[slice1],\n",
        "       simple_regret_approx_8[slice1],\n",
        "       simple_regret_approx_9[slice1],\n",
        "       simple_regret_approx_10[slice1],\n",
        "       simple_regret_approx_11[slice1],\n",
        "       simple_regret_approx_12[slice1],\n",
        "       simple_regret_approx_13[slice1],\n",
        "       simple_regret_approx_14[slice1],\n",
        "       simple_regret_approx_15[slice1],\n",
        "       simple_regret_approx_16[slice1],\n",
        "       simple_regret_approx_17[slice1],\n",
        "       simple_regret_approx_18[slice1],\n",
        "       simple_regret_approx_19[slice1],\n",
        "       simple_regret_approx_20[slice1]]\n",
        "\n",
        "exact1 = [simple_regret_exact_1[slice1],\n",
        "       simple_regret_exact_2[slice1],\n",
        "       simple_regret_exact_3[slice1],\n",
        "       simple_regret_exact_4[slice1],\n",
        "       simple_regret_exact_5[slice1],\n",
        "       simple_regret_exact_6[slice1],\n",
        "       simple_regret_exact_7[slice1],\n",
        "       simple_regret_exact_8[slice1],\n",
        "       simple_regret_exact_9[slice1],\n",
        "       simple_regret_exact_10[slice1],\n",
        "       simple_regret_exact_11[slice1],\n",
        "       simple_regret_exact_12[slice1],\n",
        "       simple_regret_exact_13[slice1],\n",
        "       simple_regret_exact_14[slice1],\n",
        "       simple_regret_exact_15[slice1],\n",
        "       simple_regret_exact_16[slice1],\n",
        "       simple_regret_exact_17[slice1],\n",
        "       simple_regret_exact_18[slice1],\n",
        "       simple_regret_exact_19[slice1],\n",
        "       simple_regret_exact_20[slice1]]\n",
        "\n",
        "approx1_results = pd.DataFrame(approx1).sort_values(by=[0], ascending=False)\n",
        "exact1_results = pd.DataFrame(exact1).sort_values(by=[0], ascending=False)\n",
        "\n",
        "### Best simple regret minimization IQR - approx:\n",
        "lower_approx1 = np.asarray(approx1_results[4:5][0])[0]\n",
        "median_approx1 = np.asarray(approx1_results[9:10][0])[0]\n",
        "upper_approx1 = np.asarray(approx1_results[14:15][0])[0]\n",
        "\n",
        "lower_exact1 = np.asarray(exact1_results[4:5][0])[0]\n",
        "median_exact1 = np.asarray(exact1_results[9:10][0])[0]\n",
        "upper_exact1 = np.asarray(exact1_results[14:15][0])[0]"
      ],
      "execution_count": 75,
      "outputs": []
    },
    {
      "cell_type": "code",
      "metadata": {
        "id": "CgIkJA1xQxf2"
      },
      "source": [
        "# Iteration11 :\n",
        "\n",
        "slice11 = 10\n",
        "\n",
        "approx11 = [simple_regret_approx_1[slice11],\n",
        "       simple_regret_approx_2[slice11],\n",
        "       simple_regret_approx_3[slice11],\n",
        "       simple_regret_approx_4[slice11],\n",
        "       simple_regret_approx_5[slice11],\n",
        "       simple_regret_approx_6[slice11],\n",
        "       simple_regret_approx_7[slice11],\n",
        "       simple_regret_approx_8[slice11],\n",
        "       simple_regret_approx_9[slice11],\n",
        "       simple_regret_approx_10[slice11],\n",
        "       simple_regret_approx_11[slice11],\n",
        "       simple_regret_approx_12[slice11],\n",
        "       simple_regret_approx_13[slice11],\n",
        "       simple_regret_approx_14[slice11],\n",
        "       simple_regret_approx_15[slice11],\n",
        "       simple_regret_approx_16[slice11],\n",
        "       simple_regret_approx_17[slice11],\n",
        "       simple_regret_approx_18[slice11],\n",
        "       simple_regret_approx_19[slice11],\n",
        "       simple_regret_approx_20[slice11]]\n",
        "\n",
        "exact11 = [simple_regret_exact_1[slice11],\n",
        "       simple_regret_exact_2[slice11],\n",
        "       simple_regret_exact_3[slice11],\n",
        "       simple_regret_exact_4[slice11],\n",
        "       simple_regret_exact_5[slice11],\n",
        "       simple_regret_exact_6[slice11],\n",
        "       simple_regret_exact_7[slice11],\n",
        "       simple_regret_exact_8[slice11],\n",
        "       simple_regret_exact_9[slice11],\n",
        "       simple_regret_exact_10[slice11],\n",
        "       simple_regret_exact_11[slice11],\n",
        "       simple_regret_exact_12[slice11],\n",
        "       simple_regret_exact_13[slice11],\n",
        "       simple_regret_exact_14[slice11],\n",
        "       simple_regret_exact_15[slice11],\n",
        "       simple_regret_exact_16[slice11],\n",
        "       simple_regret_exact_17[slice11],\n",
        "       simple_regret_exact_18[slice11],\n",
        "       simple_regret_exact_19[slice11],\n",
        "       simple_regret_exact_20[slice11]]\n",
        "\n",
        "approx11_results = pd.DataFrame(approx11).sort_values(by=[0], ascending=False)\n",
        "exact11_results = pd.DataFrame(exact11).sort_values(by=[0], ascending=False)\n",
        "\n",
        "### Best simple regret minimization IQR - approx:\n",
        "lower_approx11 = np.asarray(approx11_results[4:5][0])[0]\n",
        "median_approx11 = np.asarray(approx11_results[9:10][0])[0]\n",
        "upper_approx11 = np.asarray(approx11_results[14:15][0])[0]\n",
        "\n",
        "lower_exact11 = np.asarray(exact11_results[4:5][0])[0]\n",
        "median_exact11 = np.asarray(exact11_results[9:10][0])[0]\n",
        "upper_exact11 = np.asarray(exact11_results[14:15][0])[0]"
      ],
      "execution_count": 76,
      "outputs": []
    },
    {
      "cell_type": "code",
      "metadata": {
        "id": "MFePDfGuQxf2"
      },
      "source": [
        "# Iteration21 :\n",
        "\n",
        "slice21 = 20\n",
        "\n",
        "approx21 = [simple_regret_approx_1[slice21],\n",
        "       simple_regret_approx_2[slice21],\n",
        "       simple_regret_approx_3[slice21],\n",
        "       simple_regret_approx_4[slice21],\n",
        "       simple_regret_approx_5[slice21],\n",
        "       simple_regret_approx_6[slice21],\n",
        "       simple_regret_approx_7[slice21],\n",
        "       simple_regret_approx_8[slice21],\n",
        "       simple_regret_approx_9[slice21],\n",
        "       simple_regret_approx_10[slice21],\n",
        "       simple_regret_approx_11[slice21],\n",
        "       simple_regret_approx_12[slice21],\n",
        "       simple_regret_approx_13[slice21],\n",
        "       simple_regret_approx_14[slice21],\n",
        "       simple_regret_approx_15[slice21],\n",
        "       simple_regret_approx_16[slice21],\n",
        "       simple_regret_approx_17[slice21],\n",
        "       simple_regret_approx_18[slice21],\n",
        "       simple_regret_approx_19[slice21],\n",
        "       simple_regret_approx_20[slice21]]\n",
        "\n",
        "exact21 = [simple_regret_exact_1[slice21],\n",
        "       simple_regret_exact_2[slice21],\n",
        "       simple_regret_exact_3[slice21],\n",
        "       simple_regret_exact_4[slice21],\n",
        "       simple_regret_exact_5[slice21],\n",
        "       simple_regret_exact_6[slice21],\n",
        "       simple_regret_exact_7[slice21],\n",
        "       simple_regret_exact_8[slice21],\n",
        "       simple_regret_exact_9[slice21],\n",
        "       simple_regret_exact_10[slice21],\n",
        "       simple_regret_exact_11[slice21],\n",
        "       simple_regret_exact_12[slice21],\n",
        "       simple_regret_exact_13[slice21],\n",
        "       simple_regret_exact_14[slice21],\n",
        "       simple_regret_exact_15[slice21],\n",
        "       simple_regret_exact_16[slice21],\n",
        "       simple_regret_exact_17[slice21],\n",
        "       simple_regret_exact_18[slice21],\n",
        "       simple_regret_exact_19[slice21],\n",
        "       simple_regret_exact_20[slice21]]\n",
        "\n",
        "approx21_results = pd.DataFrame(approx21).sort_values(by=[0], ascending=False)\n",
        "exact21_results = pd.DataFrame(exact21).sort_values(by=[0], ascending=False)\n",
        "\n",
        "### Best simple regret minimization IQR - approx:\n",
        "lower_approx21 = np.asarray(approx21_results[4:5][0])[0]\n",
        "median_approx21 = np.asarray(approx21_results[9:10][0])[0]\n",
        "upper_approx21 = np.asarray(approx21_results[14:15][0])[0]\n",
        "\n",
        "lower_exact21 = np.asarray(exact21_results[4:5][0])[0]\n",
        "median_exact21 = np.asarray(exact21_results[9:10][0])[0]\n",
        "upper_exact21 = np.asarray(exact21_results[14:15][0])[0]"
      ],
      "execution_count": 77,
      "outputs": []
    },
    {
      "cell_type": "code",
      "metadata": {
        "id": "PrRDB1kfQxf3"
      },
      "source": [
        "# Iteration2 :\n",
        "\n",
        "slice2 = 1\n",
        "\n",
        "approx2 = [simple_regret_approx_1[slice2],\n",
        "       simple_regret_approx_2[slice2],\n",
        "       simple_regret_approx_3[slice2],\n",
        "       simple_regret_approx_4[slice2],\n",
        "       simple_regret_approx_5[slice2],\n",
        "       simple_regret_approx_6[slice2],\n",
        "       simple_regret_approx_7[slice2],\n",
        "       simple_regret_approx_8[slice2],\n",
        "       simple_regret_approx_9[slice2],\n",
        "       simple_regret_approx_10[slice2],\n",
        "       simple_regret_approx_11[slice2],\n",
        "       simple_regret_approx_12[slice2],\n",
        "       simple_regret_approx_13[slice2],\n",
        "       simple_regret_approx_14[slice2],\n",
        "       simple_regret_approx_15[slice2],\n",
        "       simple_regret_approx_16[slice2],\n",
        "       simple_regret_approx_17[slice2],\n",
        "       simple_regret_approx_18[slice2],\n",
        "       simple_regret_approx_19[slice2],\n",
        "       simple_regret_approx_20[slice2]]\n",
        "\n",
        "exact2 = [simple_regret_exact_1[slice2],\n",
        "       simple_regret_exact_2[slice2],\n",
        "       simple_regret_exact_3[slice2],\n",
        "       simple_regret_exact_4[slice2],\n",
        "       simple_regret_exact_5[slice2],\n",
        "       simple_regret_exact_6[slice2],\n",
        "       simple_regret_exact_7[slice2],\n",
        "       simple_regret_exact_8[slice2],\n",
        "       simple_regret_exact_9[slice2],\n",
        "       simple_regret_exact_10[slice2],\n",
        "       simple_regret_exact_11[slice2],\n",
        "       simple_regret_exact_12[slice2],\n",
        "       simple_regret_exact_13[slice2],\n",
        "       simple_regret_exact_14[slice2],\n",
        "       simple_regret_exact_15[slice2],\n",
        "       simple_regret_exact_16[slice2],\n",
        "       simple_regret_exact_17[slice2],\n",
        "       simple_regret_exact_18[slice2],\n",
        "       simple_regret_exact_19[slice2],\n",
        "       simple_regret_exact_20[slice2]]\n",
        "\n",
        "approx2_results = pd.DataFrame(approx2).sort_values(by=[0], ascending=False)\n",
        "exact2_results = pd.DataFrame(exact2).sort_values(by=[0], ascending=False)\n",
        "\n",
        "### Best simple regret minimization IQR - approx:\n",
        "lower_approx2 = np.asarray(approx2_results[4:5][0])[0]\n",
        "median_approx2 = np.asarray(approx2_results[9:10][0])[0]\n",
        "upper_approx2 = np.asarray(approx2_results[14:15][0])[0]\n",
        "\n",
        "lower_exact2 = np.asarray(exact2_results[4:5][0])[0]\n",
        "median_exact2 = np.asarray(exact2_results[9:10][0])[0]\n",
        "upper_exact2 = np.asarray(exact2_results[14:15][0])[0]"
      ],
      "execution_count": 78,
      "outputs": []
    },
    {
      "cell_type": "code",
      "metadata": {
        "id": "B8ncJDYeQxf3"
      },
      "source": [
        "# Iteration12 :\n",
        "\n",
        "slice12 = 11\n",
        "\n",
        "approx12 = [simple_regret_approx_1[slice12],\n",
        "       simple_regret_approx_2[slice12],\n",
        "       simple_regret_approx_3[slice12],\n",
        "       simple_regret_approx_4[slice12],\n",
        "       simple_regret_approx_5[slice12],\n",
        "       simple_regret_approx_6[slice12],\n",
        "       simple_regret_approx_7[slice12],\n",
        "       simple_regret_approx_8[slice12],\n",
        "       simple_regret_approx_9[slice12],\n",
        "       simple_regret_approx_10[slice12],\n",
        "       simple_regret_approx_11[slice12],\n",
        "       simple_regret_approx_12[slice12],\n",
        "       simple_regret_approx_13[slice12],\n",
        "       simple_regret_approx_14[slice12],\n",
        "       simple_regret_approx_15[slice12],\n",
        "       simple_regret_approx_16[slice12],\n",
        "       simple_regret_approx_17[slice12],\n",
        "       simple_regret_approx_18[slice12],\n",
        "       simple_regret_approx_19[slice12],\n",
        "       simple_regret_approx_20[slice12]]\n",
        "\n",
        "exact12 = [simple_regret_exact_1[slice12],\n",
        "       simple_regret_exact_2[slice12],\n",
        "       simple_regret_exact_3[slice12],\n",
        "       simple_regret_exact_4[slice12],\n",
        "       simple_regret_exact_5[slice12],\n",
        "       simple_regret_exact_6[slice12],\n",
        "       simple_regret_exact_7[slice12],\n",
        "       simple_regret_exact_8[slice12],\n",
        "       simple_regret_exact_9[slice12],\n",
        "       simple_regret_exact_10[slice12],\n",
        "       simple_regret_exact_11[slice12],\n",
        "       simple_regret_exact_12[slice12],\n",
        "       simple_regret_exact_13[slice12],\n",
        "       simple_regret_exact_14[slice12],\n",
        "       simple_regret_exact_15[slice12],\n",
        "       simple_regret_exact_16[slice12],\n",
        "       simple_regret_exact_17[slice12],\n",
        "       simple_regret_exact_18[slice12],\n",
        "       simple_regret_exact_19[slice12],\n",
        "       simple_regret_exact_20[slice12]]\n",
        "\n",
        "approx12_results = pd.DataFrame(approx12).sort_values(by=[0], ascending=False)\n",
        "exact12_results = pd.DataFrame(exact12).sort_values(by=[0], ascending=False)\n",
        "\n",
        "### Best simple regret minimization IQR - approx:\n",
        "lower_approx12 = np.asarray(approx12_results[4:5][0])[0]\n",
        "median_approx12 = np.asarray(approx12_results[9:10][0])[0]\n",
        "upper_approx12 = np.asarray(approx12_results[14:15][0])[0]\n",
        "\n",
        "lower_exact12 = np.asarray(exact12_results[4:5][0])[0]\n",
        "median_exact12 = np.asarray(exact12_results[9:10][0])[0]\n",
        "upper_exact12 = np.asarray(exact12_results[14:15][0])[0]"
      ],
      "execution_count": 79,
      "outputs": []
    },
    {
      "cell_type": "code",
      "metadata": {
        "id": "Jn4KpGvcQxf4"
      },
      "source": [
        "# Iteration3 :\n",
        "\n",
        "slice3 = 2\n",
        "\n",
        "approx3 = [simple_regret_approx_1[slice3],\n",
        "       simple_regret_approx_2[slice3],\n",
        "       simple_regret_approx_3[slice3],\n",
        "       simple_regret_approx_4[slice3],\n",
        "       simple_regret_approx_5[slice3],\n",
        "       simple_regret_approx_6[slice3],\n",
        "       simple_regret_approx_7[slice3],\n",
        "       simple_regret_approx_8[slice3],\n",
        "       simple_regret_approx_9[slice3],\n",
        "       simple_regret_approx_10[slice3],\n",
        "       simple_regret_approx_11[slice3],\n",
        "       simple_regret_approx_12[slice3],\n",
        "       simple_regret_approx_13[slice3],\n",
        "       simple_regret_approx_14[slice3],\n",
        "       simple_regret_approx_15[slice3],\n",
        "       simple_regret_approx_16[slice3],\n",
        "       simple_regret_approx_17[slice3],\n",
        "       simple_regret_approx_18[slice3],\n",
        "       simple_regret_approx_19[slice3],\n",
        "       simple_regret_approx_20[slice3]]\n",
        "\n",
        "exact3 = [simple_regret_exact_1[slice3],\n",
        "       simple_regret_exact_2[slice3],\n",
        "       simple_regret_exact_3[slice3],\n",
        "       simple_regret_exact_4[slice3],\n",
        "       simple_regret_exact_5[slice3],\n",
        "       simple_regret_exact_6[slice3],\n",
        "       simple_regret_exact_7[slice3],\n",
        "       simple_regret_exact_8[slice3],\n",
        "       simple_regret_exact_9[slice3],\n",
        "       simple_regret_exact_10[slice3],\n",
        "       simple_regret_exact_11[slice3],\n",
        "       simple_regret_exact_12[slice3],\n",
        "       simple_regret_exact_13[slice3],\n",
        "       simple_regret_exact_14[slice3],\n",
        "       simple_regret_exact_15[slice3],\n",
        "       simple_regret_exact_16[slice3],\n",
        "       simple_regret_exact_17[slice3],\n",
        "       simple_regret_exact_18[slice3],\n",
        "       simple_regret_exact_19[slice3],\n",
        "       simple_regret_exact_20[slice3]]\n",
        "\n",
        "approx3_results = pd.DataFrame(approx3).sort_values(by=[0], ascending=False)\n",
        "exact3_results = pd.DataFrame(exact3).sort_values(by=[0], ascending=False)\n",
        "\n",
        "### Best simple regret minimization IQR - approx:\n",
        "lower_approx3 = np.asarray(approx3_results[4:5][0])[0]\n",
        "median_approx3 = np.asarray(approx3_results[9:10][0])[0]\n",
        "upper_approx3 = np.asarray(approx3_results[14:15][0])[0]\n",
        "\n",
        "lower_exact3 = np.asarray(exact3_results[4:5][0])[0]\n",
        "median_exact3 = np.asarray(exact3_results[9:10][0])[0]\n",
        "upper_exact3 = np.asarray(exact3_results[14:15][0])[0]"
      ],
      "execution_count": 80,
      "outputs": []
    },
    {
      "cell_type": "code",
      "metadata": {
        "id": "plf83wxrQxf4"
      },
      "source": [
        "# Iteration13 :\n",
        "\n",
        "slice13 = 12\n",
        "\n",
        "approx13 = [simple_regret_approx_1[slice13],\n",
        "       simple_regret_approx_2[slice13],\n",
        "       simple_regret_approx_3[slice13],\n",
        "       simple_regret_approx_4[slice13],\n",
        "       simple_regret_approx_5[slice13],\n",
        "       simple_regret_approx_6[slice13],\n",
        "       simple_regret_approx_7[slice13],\n",
        "       simple_regret_approx_8[slice13],\n",
        "       simple_regret_approx_9[slice13],\n",
        "       simple_regret_approx_10[slice13],\n",
        "       simple_regret_approx_11[slice13],\n",
        "       simple_regret_approx_12[slice13],\n",
        "       simple_regret_approx_13[slice13],\n",
        "       simple_regret_approx_14[slice13],\n",
        "       simple_regret_approx_15[slice13],\n",
        "       simple_regret_approx_16[slice13],\n",
        "       simple_regret_approx_17[slice13],\n",
        "       simple_regret_approx_18[slice13],\n",
        "       simple_regret_approx_19[slice13],\n",
        "       simple_regret_approx_20[slice13]]\n",
        "\n",
        "exact13 = [simple_regret_exact_1[slice13],\n",
        "       simple_regret_exact_2[slice13],\n",
        "       simple_regret_exact_3[slice13],\n",
        "       simple_regret_exact_4[slice13],\n",
        "       simple_regret_exact_5[slice13],\n",
        "       simple_regret_exact_6[slice13],\n",
        "       simple_regret_exact_7[slice13],\n",
        "       simple_regret_exact_8[slice13],\n",
        "       simple_regret_exact_9[slice13],\n",
        "       simple_regret_exact_10[slice13],\n",
        "       simple_regret_exact_11[slice13],\n",
        "       simple_regret_exact_12[slice13],\n",
        "       simple_regret_exact_13[slice13],\n",
        "       simple_regret_exact_14[slice13],\n",
        "       simple_regret_exact_15[slice13],\n",
        "       simple_regret_exact_16[slice13],\n",
        "       simple_regret_exact_17[slice13],\n",
        "       simple_regret_exact_18[slice13],\n",
        "       simple_regret_exact_19[slice13],\n",
        "       simple_regret_exact_20[slice13]]\n",
        "\n",
        "approx13_results = pd.DataFrame(approx13).sort_values(by=[0], ascending=False)\n",
        "exact13_results = pd.DataFrame(exact13).sort_values(by=[0], ascending=False)\n",
        "\n",
        "### Best simple regret minimization IQR - approx:\n",
        "lower_approx13 = np.asarray(approx13_results[4:5][0])[0]\n",
        "median_approx13 = np.asarray(approx13_results[9:10][0])[0]\n",
        "upper_approx13 = np.asarray(approx13_results[14:15][0])[0]\n",
        "\n",
        "lower_exact13 = np.asarray(exact13_results[4:5][0])[0]\n",
        "median_exact13 = np.asarray(exact13_results[9:10][0])[0]\n",
        "upper_exact13 = np.asarray(exact13_results[14:15][0])[0]"
      ],
      "execution_count": 81,
      "outputs": []
    },
    {
      "cell_type": "code",
      "metadata": {
        "id": "9A7mlVvJQxf5"
      },
      "source": [
        "# Iteration4 :\n",
        "\n",
        "slice4 = 3\n",
        "\n",
        "approx4 = [simple_regret_approx_1[slice4],\n",
        "       simple_regret_approx_2[slice4],\n",
        "       simple_regret_approx_3[slice4],\n",
        "       simple_regret_approx_4[slice4],\n",
        "       simple_regret_approx_5[slice4],\n",
        "       simple_regret_approx_6[slice4],\n",
        "       simple_regret_approx_7[slice4],\n",
        "       simple_regret_approx_8[slice4],\n",
        "       simple_regret_approx_9[slice4],\n",
        "       simple_regret_approx_10[slice4],\n",
        "       simple_regret_approx_11[slice4],\n",
        "       simple_regret_approx_12[slice4],\n",
        "       simple_regret_approx_13[slice4],\n",
        "       simple_regret_approx_14[slice4],\n",
        "       simple_regret_approx_15[slice4],\n",
        "       simple_regret_approx_16[slice4],\n",
        "       simple_regret_approx_17[slice4],\n",
        "       simple_regret_approx_18[slice4],\n",
        "       simple_regret_approx_19[slice4],\n",
        "       simple_regret_approx_20[slice4]]\n",
        "\n",
        "exact4 = [simple_regret_exact_1[slice4],\n",
        "       simple_regret_exact_2[slice4],\n",
        "       simple_regret_exact_3[slice4],\n",
        "       simple_regret_exact_4[slice4],\n",
        "       simple_regret_exact_5[slice4],\n",
        "       simple_regret_exact_6[slice4],\n",
        "       simple_regret_exact_7[slice4],\n",
        "       simple_regret_exact_8[slice4],\n",
        "       simple_regret_exact_9[slice4],\n",
        "       simple_regret_exact_10[slice4],\n",
        "       simple_regret_exact_11[slice4],\n",
        "       simple_regret_exact_12[slice4],\n",
        "       simple_regret_exact_13[slice4],\n",
        "       simple_regret_exact_14[slice4],\n",
        "       simple_regret_exact_15[slice4],\n",
        "       simple_regret_exact_16[slice4],\n",
        "       simple_regret_exact_17[slice4],\n",
        "       simple_regret_exact_18[slice4],\n",
        "       simple_regret_exact_19[slice4],\n",
        "       simple_regret_exact_20[slice4]]\n",
        "\n",
        "approx4_results = pd.DataFrame(approx4).sort_values(by=[0], ascending=False)\n",
        "exact4_results = pd.DataFrame(exact4).sort_values(by=[0], ascending=False)\n",
        "\n",
        "### Best simple regret minimization IQR - approx:\n",
        "lower_approx4 = np.asarray(approx4_results[4:5][0])[0]\n",
        "median_approx4 = np.asarray(approx4_results[9:10][0])[0]\n",
        "upper_approx4 = np.asarray(approx4_results[14:15][0])[0]\n",
        "\n",
        "lower_exact4 = np.asarray(exact4_results[4:5][0])[0]\n",
        "median_exact4 = np.asarray(exact4_results[9:10][0])[0]\n",
        "upper_exact4 = np.asarray(exact4_results[14:15][0])[0]"
      ],
      "execution_count": 82,
      "outputs": []
    },
    {
      "cell_type": "code",
      "metadata": {
        "id": "ijq-rioYQxf5"
      },
      "source": [
        "# Iteration14 :\n",
        "\n",
        "slice14 = 13\n",
        "\n",
        "approx14 = [simple_regret_approx_1[slice14],\n",
        "       simple_regret_approx_2[slice14],\n",
        "       simple_regret_approx_3[slice14],\n",
        "       simple_regret_approx_4[slice14],\n",
        "       simple_regret_approx_5[slice14],\n",
        "       simple_regret_approx_6[slice14],\n",
        "       simple_regret_approx_7[slice14],\n",
        "       simple_regret_approx_8[slice14],\n",
        "       simple_regret_approx_9[slice14],\n",
        "       simple_regret_approx_10[slice14],\n",
        "       simple_regret_approx_11[slice14],\n",
        "       simple_regret_approx_12[slice14],\n",
        "       simple_regret_approx_13[slice14],\n",
        "       simple_regret_approx_14[slice14],\n",
        "       simple_regret_approx_15[slice14],\n",
        "       simple_regret_approx_16[slice14],\n",
        "       simple_regret_approx_17[slice14],\n",
        "       simple_regret_approx_18[slice14],\n",
        "       simple_regret_approx_19[slice14],\n",
        "       simple_regret_approx_20[slice14]]\n",
        "\n",
        "exact14 = [simple_regret_exact_1[slice14],\n",
        "       simple_regret_exact_2[slice14],\n",
        "       simple_regret_exact_3[slice14],\n",
        "       simple_regret_exact_4[slice14],\n",
        "       simple_regret_exact_5[slice14],\n",
        "       simple_regret_exact_6[slice14],\n",
        "       simple_regret_exact_7[slice14],\n",
        "       simple_regret_exact_8[slice14],\n",
        "       simple_regret_exact_9[slice14],\n",
        "       simple_regret_exact_10[slice14],\n",
        "       simple_regret_exact_11[slice14],\n",
        "       simple_regret_exact_12[slice14],\n",
        "       simple_regret_exact_13[slice14],\n",
        "       simple_regret_exact_14[slice14],\n",
        "       simple_regret_exact_15[slice14],\n",
        "       simple_regret_exact_16[slice14],\n",
        "       simple_regret_exact_17[slice14],\n",
        "       simple_regret_exact_18[slice14],\n",
        "       simple_regret_exact_19[slice14],\n",
        "       simple_regret_exact_20[slice14]]\n",
        "\n",
        "approx14_results = pd.DataFrame(approx14).sort_values(by=[0], ascending=False)\n",
        "exact14_results = pd.DataFrame(exact14).sort_values(by=[0], ascending=False)\n",
        "\n",
        "### Best simple regret minimization IQR - approx:\n",
        "lower_approx14 = np.asarray(approx14_results[4:5][0])[0]\n",
        "median_approx14 = np.asarray(approx14_results[9:10][0])[0]\n",
        "upper_approx14 = np.asarray(approx14_results[14:15][0])[0]\n",
        "\n",
        "lower_exact14 = np.asarray(exact14_results[4:5][0])[0]\n",
        "median_exact14 = np.asarray(exact14_results[9:10][0])[0]\n",
        "upper_exact14 = np.asarray(exact14_results[14:15][0])[0]"
      ],
      "execution_count": 83,
      "outputs": []
    },
    {
      "cell_type": "code",
      "metadata": {
        "id": "XINlZjoTd-ZK"
      },
      "source": [
        "# Iteration5 :\n",
        "\n",
        "slice5 = 4\n",
        "\n",
        "approx5 = [simple_regret_approx_1[slice5],\n",
        "       simple_regret_approx_2[slice5],\n",
        "       simple_regret_approx_3[slice5],\n",
        "       simple_regret_approx_4[slice5],\n",
        "       simple_regret_approx_5[slice5],\n",
        "       simple_regret_approx_6[slice5],\n",
        "       simple_regret_approx_7[slice5],\n",
        "       simple_regret_approx_8[slice5],\n",
        "       simple_regret_approx_9[slice5],\n",
        "       simple_regret_approx_10[slice5],\n",
        "       simple_regret_approx_11[slice5],\n",
        "       simple_regret_approx_12[slice5],\n",
        "       simple_regret_approx_13[slice5],\n",
        "       simple_regret_approx_14[slice5],\n",
        "       simple_regret_approx_15[slice5],\n",
        "       simple_regret_approx_16[slice5],\n",
        "       simple_regret_approx_17[slice5],\n",
        "       simple_regret_approx_18[slice5],\n",
        "       simple_regret_approx_19[slice5],\n",
        "       simple_regret_approx_20[slice5]]\n",
        "\n",
        "exact5 = [simple_regret_exact_1[slice5],\n",
        "       simple_regret_exact_2[slice5],\n",
        "       simple_regret_exact_3[slice5],\n",
        "       simple_regret_exact_4[slice5],\n",
        "       simple_regret_exact_5[slice5],\n",
        "       simple_regret_exact_6[slice5],\n",
        "       simple_regret_exact_7[slice5],\n",
        "       simple_regret_exact_8[slice5],\n",
        "       simple_regret_exact_9[slice5],\n",
        "       simple_regret_exact_10[slice5],\n",
        "       simple_regret_exact_11[slice5],\n",
        "       simple_regret_exact_12[slice5],\n",
        "       simple_regret_exact_13[slice5],\n",
        "       simple_regret_exact_14[slice5],\n",
        "       simple_regret_exact_15[slice5],\n",
        "       simple_regret_exact_16[slice5],\n",
        "       simple_regret_exact_17[slice5],\n",
        "       simple_regret_exact_18[slice5],\n",
        "       simple_regret_exact_19[slice5],\n",
        "       simple_regret_exact_20[slice5]]\n",
        "\n",
        "approx5_results = pd.DataFrame(approx5).sort_values(by=[0], ascending=False)\n",
        "exact5_results = pd.DataFrame(exact5).sort_values(by=[0], ascending=False)\n",
        "\n",
        "### Best simple regret minimization IQR - approx:\n",
        "lower_approx5 = np.asarray(approx5_results[4:5][0])[0]\n",
        "median_approx5 = np.asarray(approx5_results[9:10][0])[0]\n",
        "upper_approx5 = np.asarray(approx5_results[14:15][0])[0]\n",
        "\n",
        "lower_exact5 = np.asarray(exact5_results[4:5][0])[0]\n",
        "median_exact5 = np.asarray(exact5_results[9:10][0])[0]\n",
        "upper_exact5 = np.asarray(exact5_results[14:15][0])[0]"
      ],
      "execution_count": 84,
      "outputs": []
    },
    {
      "cell_type": "code",
      "metadata": {
        "id": "4aZ7C8sOQxf6"
      },
      "source": [
        "# Iteration15 :\n",
        "\n",
        "slice15 = 14\n",
        "\n",
        "approx15 = [simple_regret_approx_1[slice15],\n",
        "       simple_regret_approx_2[slice15],\n",
        "       simple_regret_approx_3[slice15],\n",
        "       simple_regret_approx_4[slice15],\n",
        "       simple_regret_approx_5[slice15],\n",
        "       simple_regret_approx_6[slice15],\n",
        "       simple_regret_approx_7[slice15],\n",
        "       simple_regret_approx_8[slice15],\n",
        "       simple_regret_approx_9[slice15],\n",
        "       simple_regret_approx_10[slice15],\n",
        "       simple_regret_approx_11[slice15],\n",
        "       simple_regret_approx_12[slice15],\n",
        "       simple_regret_approx_13[slice15],\n",
        "       simple_regret_approx_14[slice15],\n",
        "       simple_regret_approx_15[slice15],\n",
        "       simple_regret_approx_16[slice15],\n",
        "       simple_regret_approx_17[slice15],\n",
        "       simple_regret_approx_18[slice15],\n",
        "       simple_regret_approx_19[slice15],\n",
        "       simple_regret_approx_20[slice15]]\n",
        "\n",
        "exact15 = [simple_regret_exact_1[slice15],\n",
        "       simple_regret_exact_2[slice15],\n",
        "       simple_regret_exact_3[slice15],\n",
        "       simple_regret_exact_4[slice15],\n",
        "       simple_regret_exact_5[slice15],\n",
        "       simple_regret_exact_6[slice15],\n",
        "       simple_regret_exact_7[slice15],\n",
        "       simple_regret_exact_8[slice15],\n",
        "       simple_regret_exact_9[slice15],\n",
        "       simple_regret_exact_10[slice15],\n",
        "       simple_regret_exact_11[slice15],\n",
        "       simple_regret_exact_12[slice15],\n",
        "       simple_regret_exact_13[slice15],\n",
        "       simple_regret_exact_14[slice15],\n",
        "       simple_regret_exact_15[slice15],\n",
        "       simple_regret_exact_16[slice15],\n",
        "       simple_regret_exact_17[slice15],\n",
        "       simple_regret_exact_18[slice15],\n",
        "       simple_regret_exact_19[slice15],\n",
        "       simple_regret_exact_20[slice15]]\n",
        "\n",
        "approx15_results = pd.DataFrame(approx15).sort_values(by=[0], ascending=False)\n",
        "exact15_results = pd.DataFrame(exact15).sort_values(by=[0], ascending=False)\n",
        "\n",
        "### Best simple regret minimization IQR - approx:\n",
        "lower_approx15 = np.asarray(approx15_results[4:5][0])[0]\n",
        "median_approx15 = np.asarray(approx15_results[9:10][0])[0]\n",
        "upper_approx15 = np.asarray(approx15_results[14:15][0])[0]\n",
        "\n",
        "lower_exact15 = np.asarray(exact15_results[4:5][0])[0]\n",
        "median_exact15 = np.asarray(exact15_results[9:10][0])[0]\n",
        "upper_exact15 = np.asarray(exact15_results[14:15][0])[0]"
      ],
      "execution_count": 85,
      "outputs": []
    },
    {
      "cell_type": "code",
      "metadata": {
        "id": "KJINKhv1Qxf6"
      },
      "source": [
        "# Iteration6 :\n",
        "\n",
        "slice6 = 5\n",
        "\n",
        "approx6 = [simple_regret_approx_1[slice6],\n",
        "       simple_regret_approx_2[slice6],\n",
        "       simple_regret_approx_3[slice6],\n",
        "       simple_regret_approx_4[slice6],\n",
        "       simple_regret_approx_5[slice6],\n",
        "       simple_regret_approx_6[slice6],\n",
        "       simple_regret_approx_7[slice6],\n",
        "       simple_regret_approx_8[slice6],\n",
        "       simple_regret_approx_9[slice6],\n",
        "       simple_regret_approx_10[slice6],\n",
        "       simple_regret_approx_11[slice6],\n",
        "       simple_regret_approx_12[slice6],\n",
        "       simple_regret_approx_13[slice6],\n",
        "       simple_regret_approx_14[slice6],\n",
        "       simple_regret_approx_15[slice6],\n",
        "       simple_regret_approx_16[slice6],\n",
        "       simple_regret_approx_17[slice6],\n",
        "       simple_regret_approx_18[slice6],\n",
        "       simple_regret_approx_19[slice6],\n",
        "       simple_regret_approx_20[slice6]]\n",
        "\n",
        "exact6 = [simple_regret_exact_1[slice6],\n",
        "       simple_regret_exact_2[slice6],\n",
        "       simple_regret_exact_3[slice6],\n",
        "       simple_regret_exact_4[slice6],\n",
        "       simple_regret_exact_5[slice6],\n",
        "       simple_regret_exact_6[slice6],\n",
        "       simple_regret_exact_7[slice6],\n",
        "       simple_regret_exact_8[slice6],\n",
        "       simple_regret_exact_9[slice6],\n",
        "       simple_regret_exact_10[slice6],\n",
        "       simple_regret_exact_11[slice6],\n",
        "       simple_regret_exact_12[slice6],\n",
        "       simple_regret_exact_13[slice6],\n",
        "       simple_regret_exact_14[slice6],\n",
        "       simple_regret_exact_15[slice6],\n",
        "       simple_regret_exact_16[slice6],\n",
        "       simple_regret_exact_17[slice6],\n",
        "       simple_regret_exact_18[slice6],\n",
        "       simple_regret_exact_19[slice6],\n",
        "       simple_regret_exact_20[slice6]]\n",
        "\n",
        "approx6_results = pd.DataFrame(approx6).sort_values(by=[0], ascending=False)\n",
        "exact6_results = pd.DataFrame(exact6).sort_values(by=[0], ascending=False)\n",
        "\n",
        "### Best simple regret minimization IQR - approx:\n",
        "lower_approx6 = np.asarray(approx6_results[4:5][0])[0]\n",
        "median_approx6 = np.asarray(approx6_results[9:10][0])[0]\n",
        "upper_approx6 = np.asarray(approx6_results[14:15][0])[0]\n",
        "\n",
        "lower_exact6 = np.asarray(exact6_results[4:5][0])[0]\n",
        "median_exact6 = np.asarray(exact6_results[9:10][0])[0]\n",
        "upper_exact6 = np.asarray(exact6_results[14:15][0])[0]"
      ],
      "execution_count": 86,
      "outputs": []
    },
    {
      "cell_type": "code",
      "metadata": {
        "id": "nwC5N1FsQxf7"
      },
      "source": [
        "# Iteration16 :\n",
        "\n",
        "slice16 = 15\n",
        "\n",
        "approx16 = [simple_regret_approx_1[slice16],\n",
        "       simple_regret_approx_2[slice16],\n",
        "       simple_regret_approx_3[slice16],\n",
        "       simple_regret_approx_4[slice16],\n",
        "       simple_regret_approx_5[slice16],\n",
        "       simple_regret_approx_6[slice16],\n",
        "       simple_regret_approx_7[slice16],\n",
        "       simple_regret_approx_8[slice16],\n",
        "       simple_regret_approx_9[slice16],\n",
        "       simple_regret_approx_10[slice16],\n",
        "       simple_regret_approx_11[slice16],\n",
        "       simple_regret_approx_12[slice16],\n",
        "       simple_regret_approx_13[slice16],\n",
        "       simple_regret_approx_14[slice16],\n",
        "       simple_regret_approx_15[slice16],\n",
        "       simple_regret_approx_16[slice16],\n",
        "       simple_regret_approx_17[slice16],\n",
        "       simple_regret_approx_18[slice16],\n",
        "       simple_regret_approx_19[slice16],\n",
        "       simple_regret_approx_20[slice16]]\n",
        "\n",
        "exact16 = [simple_regret_exact_1[slice16],\n",
        "       simple_regret_exact_2[slice16],\n",
        "       simple_regret_exact_3[slice16],\n",
        "       simple_regret_exact_4[slice16],\n",
        "       simple_regret_exact_5[slice16],\n",
        "       simple_regret_exact_6[slice16],\n",
        "       simple_regret_exact_7[slice16],\n",
        "       simple_regret_exact_8[slice16],\n",
        "       simple_regret_exact_9[slice16],\n",
        "       simple_regret_exact_10[slice16],\n",
        "       simple_regret_exact_11[slice16],\n",
        "       simple_regret_exact_12[slice16],\n",
        "       simple_regret_exact_13[slice16],\n",
        "       simple_regret_exact_14[slice16],\n",
        "       simple_regret_exact_15[slice16],\n",
        "       simple_regret_exact_16[slice16],\n",
        "       simple_regret_exact_17[slice16],\n",
        "       simple_regret_exact_18[slice16],\n",
        "       simple_regret_exact_19[slice16],\n",
        "       simple_regret_exact_20[slice16]]\n",
        "\n",
        "approx16_results = pd.DataFrame(approx16).sort_values(by=[0], ascending=False)\n",
        "exact16_results = pd.DataFrame(exact16).sort_values(by=[0], ascending=False)\n",
        "\n",
        "### Best simple regret minimization IQR - approx:\n",
        "lower_approx16 = np.asarray(approx16_results[4:5][0])[0]\n",
        "median_approx16 = np.asarray(approx16_results[9:10][0])[0]\n",
        "upper_approx16 = np.asarray(approx16_results[14:15][0])[0]\n",
        "\n",
        "lower_exact16 = np.asarray(exact16_results[4:5][0])[0]\n",
        "median_exact16 = np.asarray(exact16_results[9:10][0])[0]\n",
        "upper_exact16 = np.asarray(exact16_results[14:15][0])[0]"
      ],
      "execution_count": 87,
      "outputs": []
    },
    {
      "cell_type": "code",
      "metadata": {
        "id": "TrPV0AfnQxf7"
      },
      "source": [
        "# Iteration7 :\n",
        "\n",
        "slice7 = 6\n",
        "\n",
        "approx7 = [simple_regret_approx_1[slice7],\n",
        "       simple_regret_approx_2[slice7],\n",
        "       simple_regret_approx_3[slice7],\n",
        "       simple_regret_approx_4[slice7],\n",
        "       simple_regret_approx_5[slice7],\n",
        "       simple_regret_approx_6[slice7],\n",
        "       simple_regret_approx_7[slice7],\n",
        "       simple_regret_approx_8[slice7],\n",
        "       simple_regret_approx_9[slice7],\n",
        "       simple_regret_approx_10[slice7],\n",
        "       simple_regret_approx_11[slice7],\n",
        "       simple_regret_approx_12[slice7],\n",
        "       simple_regret_approx_13[slice7],\n",
        "       simple_regret_approx_14[slice7],\n",
        "       simple_regret_approx_15[slice7],\n",
        "       simple_regret_approx_16[slice7],\n",
        "       simple_regret_approx_17[slice7],\n",
        "       simple_regret_approx_18[slice7],\n",
        "       simple_regret_approx_19[slice7],\n",
        "       simple_regret_approx_20[slice7]]\n",
        "\n",
        "exact7 = [simple_regret_exact_1[slice7],\n",
        "       simple_regret_exact_2[slice7],\n",
        "       simple_regret_exact_3[slice7],\n",
        "       simple_regret_exact_4[slice7],\n",
        "       simple_regret_exact_5[slice7],\n",
        "       simple_regret_exact_6[slice7],\n",
        "       simple_regret_exact_7[slice7],\n",
        "       simple_regret_exact_8[slice7],\n",
        "       simple_regret_exact_9[slice7],\n",
        "       simple_regret_exact_10[slice7],\n",
        "       simple_regret_exact_11[slice7],\n",
        "       simple_regret_exact_12[slice7],\n",
        "       simple_regret_exact_13[slice7],\n",
        "       simple_regret_exact_14[slice7],\n",
        "       simple_regret_exact_15[slice7],\n",
        "       simple_regret_exact_16[slice7],\n",
        "       simple_regret_exact_17[slice7],\n",
        "       simple_regret_exact_18[slice7],\n",
        "       simple_regret_exact_19[slice7],\n",
        "       simple_regret_exact_20[slice7]]\n",
        "\n",
        "approx7_results = pd.DataFrame(approx7).sort_values(by=[0], ascending=False)\n",
        "exact7_results = pd.DataFrame(exact7).sort_values(by=[0], ascending=False)\n",
        "\n",
        "### Best simple regret minimization IQR - approx:\n",
        "lower_approx7 = np.asarray(approx7_results[4:5][0])[0]\n",
        "median_approx7 = np.asarray(approx7_results[9:10][0])[0]\n",
        "upper_approx7 = np.asarray(approx7_results[14:15][0])[0]\n",
        "\n",
        "lower_exact7 = np.asarray(exact7_results[4:5][0])[0]\n",
        "median_exact7 = np.asarray(exact7_results[9:10][0])[0]\n",
        "upper_exact7 = np.asarray(exact7_results[14:15][0])[0]"
      ],
      "execution_count": 88,
      "outputs": []
    },
    {
      "cell_type": "code",
      "metadata": {
        "id": "Ub_-wpK4Qxf8"
      },
      "source": [
        "# Iteration17 :\n",
        "\n",
        "slice17 = 16\n",
        "\n",
        "approx17 = [simple_regret_approx_1[slice17],\n",
        "       simple_regret_approx_2[slice17],\n",
        "       simple_regret_approx_3[slice17],\n",
        "       simple_regret_approx_4[slice17],\n",
        "       simple_regret_approx_5[slice17],\n",
        "       simple_regret_approx_6[slice17],\n",
        "       simple_regret_approx_7[slice17],\n",
        "       simple_regret_approx_8[slice17],\n",
        "       simple_regret_approx_9[slice17],\n",
        "       simple_regret_approx_10[slice17],\n",
        "       simple_regret_approx_11[slice17],\n",
        "       simple_regret_approx_12[slice17],\n",
        "       simple_regret_approx_13[slice17],\n",
        "       simple_regret_approx_14[slice17],\n",
        "       simple_regret_approx_15[slice17],\n",
        "       simple_regret_approx_16[slice17],\n",
        "       simple_regret_approx_17[slice17],\n",
        "       simple_regret_approx_18[slice17],\n",
        "       simple_regret_approx_19[slice17],\n",
        "       simple_regret_approx_20[slice17]]\n",
        "\n",
        "exact17 = [simple_regret_exact_1[slice17],\n",
        "       simple_regret_exact_2[slice17],\n",
        "       simple_regret_exact_3[slice17],\n",
        "       simple_regret_exact_4[slice17],\n",
        "       simple_regret_exact_5[slice17],\n",
        "       simple_regret_exact_6[slice17],\n",
        "       simple_regret_exact_7[slice17],\n",
        "       simple_regret_exact_8[slice17],\n",
        "       simple_regret_exact_9[slice17],\n",
        "       simple_regret_exact_10[slice17],\n",
        "       simple_regret_exact_11[slice17],\n",
        "       simple_regret_exact_12[slice17],\n",
        "       simple_regret_exact_13[slice17],\n",
        "       simple_regret_exact_14[slice17],\n",
        "       simple_regret_exact_15[slice17],\n",
        "       simple_regret_exact_16[slice17],\n",
        "       simple_regret_exact_17[slice17],\n",
        "       simple_regret_exact_18[slice17],\n",
        "       simple_regret_exact_19[slice17],\n",
        "       simple_regret_exact_20[slice17]]\n",
        "\n",
        "approx17_results = pd.DataFrame(approx17).sort_values(by=[0], ascending=False)\n",
        "exact17_results = pd.DataFrame(exact17).sort_values(by=[0], ascending=False)\n",
        "\n",
        "### Best simple regret minimization IQR - approx:\n",
        "lower_approx17 = np.asarray(approx17_results[4:5][0])[0]\n",
        "median_approx17 = np.asarray(approx17_results[9:10][0])[0]\n",
        "upper_approx17 = np.asarray(approx17_results[14:15][0])[0]\n",
        "\n",
        "lower_exact17 = np.asarray(exact17_results[4:5][0])[0]\n",
        "median_exact17 = np.asarray(exact17_results[9:10][0])[0]\n",
        "upper_exact17 = np.asarray(exact17_results[14:15][0])[0]"
      ],
      "execution_count": 89,
      "outputs": []
    },
    {
      "cell_type": "code",
      "metadata": {
        "id": "-6VLo37PQxf8"
      },
      "source": [
        "# Iteration8 :\n",
        "\n",
        "slice8 = 7\n",
        "\n",
        "approx8 = [simple_regret_approx_1[slice8],\n",
        "       simple_regret_approx_2[slice8],\n",
        "       simple_regret_approx_3[slice8],\n",
        "       simple_regret_approx_4[slice8],\n",
        "       simple_regret_approx_5[slice8],\n",
        "       simple_regret_approx_6[slice8],\n",
        "       simple_regret_approx_7[slice8],\n",
        "       simple_regret_approx_8[slice8],\n",
        "       simple_regret_approx_9[slice8],\n",
        "       simple_regret_approx_10[slice8],\n",
        "       simple_regret_approx_11[slice8],\n",
        "       simple_regret_approx_12[slice8],\n",
        "       simple_regret_approx_13[slice8],\n",
        "       simple_regret_approx_14[slice8],\n",
        "       simple_regret_approx_15[slice8],\n",
        "       simple_regret_approx_16[slice8],\n",
        "       simple_regret_approx_17[slice8],\n",
        "       simple_regret_approx_18[slice8],\n",
        "       simple_regret_approx_19[slice8],\n",
        "       simple_regret_approx_20[slice8]]\n",
        "\n",
        "exact8 = [simple_regret_exact_1[slice8],\n",
        "       simple_regret_exact_2[slice8],\n",
        "       simple_regret_exact_3[slice8],\n",
        "       simple_regret_exact_4[slice8],\n",
        "       simple_regret_exact_5[slice8],\n",
        "       simple_regret_exact_6[slice8],\n",
        "       simple_regret_exact_7[slice8],\n",
        "       simple_regret_exact_8[slice8],\n",
        "       simple_regret_exact_9[slice8],\n",
        "       simple_regret_exact_10[slice8],\n",
        "       simple_regret_exact_11[slice8],\n",
        "       simple_regret_exact_12[slice8],\n",
        "       simple_regret_exact_13[slice8],\n",
        "       simple_regret_exact_14[slice8],\n",
        "       simple_regret_exact_15[slice8],\n",
        "       simple_regret_exact_16[slice8],\n",
        "       simple_regret_exact_17[slice8],\n",
        "       simple_regret_exact_18[slice8],\n",
        "       simple_regret_exact_19[slice8],\n",
        "       simple_regret_exact_20[slice8]]\n",
        "\n",
        "approx8_results = pd.DataFrame(approx8).sort_values(by=[0], ascending=False)\n",
        "exact8_results = pd.DataFrame(exact8).sort_values(by=[0], ascending=False)\n",
        "\n",
        "### Best simple regret minimization IQR - approx:\n",
        "lower_approx8 = np.asarray(approx8_results[4:5][0])[0]\n",
        "median_approx8 = np.asarray(approx8_results[9:10][0])[0]\n",
        "upper_approx8 = np.asarray(approx8_results[14:15][0])[0]\n",
        "\n",
        "lower_exact8 = np.asarray(exact8_results[4:5][0])[0]\n",
        "median_exact8 = np.asarray(exact8_results[9:10][0])[0]\n",
        "upper_exact8 = np.asarray(exact8_results[14:15][0])[0]"
      ],
      "execution_count": 90,
      "outputs": []
    },
    {
      "cell_type": "code",
      "metadata": {
        "id": "2Dp-9CC2Qxf9"
      },
      "source": [
        "# Iteration18 :\n",
        "\n",
        "slice18 = 17\n",
        "\n",
        "approx18 = [simple_regret_approx_1[slice18],\n",
        "       simple_regret_approx_2[slice18],\n",
        "       simple_regret_approx_3[slice18],\n",
        "       simple_regret_approx_4[slice18],\n",
        "       simple_regret_approx_5[slice18],\n",
        "       simple_regret_approx_6[slice18],\n",
        "       simple_regret_approx_7[slice18],\n",
        "       simple_regret_approx_8[slice18],\n",
        "       simple_regret_approx_9[slice18],\n",
        "       simple_regret_approx_10[slice18],\n",
        "       simple_regret_approx_11[slice18],\n",
        "       simple_regret_approx_12[slice18],\n",
        "       simple_regret_approx_13[slice18],\n",
        "       simple_regret_approx_14[slice18],\n",
        "       simple_regret_approx_15[slice18],\n",
        "       simple_regret_approx_16[slice18],\n",
        "       simple_regret_approx_17[slice18],\n",
        "       simple_regret_approx_18[slice18],\n",
        "       simple_regret_approx_19[slice18],\n",
        "       simple_regret_approx_20[slice18]]\n",
        "\n",
        "exact18 = [simple_regret_exact_1[slice18],\n",
        "       simple_regret_exact_2[slice18],\n",
        "       simple_regret_exact_3[slice18],\n",
        "       simple_regret_exact_4[slice18],\n",
        "       simple_regret_exact_5[slice18],\n",
        "       simple_regret_exact_6[slice18],\n",
        "       simple_regret_exact_7[slice18],\n",
        "       simple_regret_exact_8[slice18],\n",
        "       simple_regret_exact_9[slice18],\n",
        "       simple_regret_exact_10[slice18],\n",
        "       simple_regret_exact_11[slice18],\n",
        "       simple_regret_exact_12[slice18],\n",
        "       simple_regret_exact_13[slice18],\n",
        "       simple_regret_exact_14[slice18],\n",
        "       simple_regret_exact_15[slice18],\n",
        "       simple_regret_exact_16[slice18],\n",
        "       simple_regret_exact_17[slice18],\n",
        "       simple_regret_exact_18[slice18],\n",
        "       simple_regret_exact_19[slice18],\n",
        "       simple_regret_exact_20[slice18]]\n",
        "\n",
        "approx18_results = pd.DataFrame(approx18).sort_values(by=[0], ascending=False)\n",
        "exact18_results = pd.DataFrame(exact18).sort_values(by=[0], ascending=False)\n",
        "\n",
        "### Best simple regret minimization IQR - approx:\n",
        "lower_approx18 = np.asarray(approx18_results[4:5][0])[0]\n",
        "median_approx18 = np.asarray(approx18_results[9:10][0])[0]\n",
        "upper_approx18 = np.asarray(approx18_results[14:15][0])[0]\n",
        "\n",
        "lower_exact18 = np.asarray(exact18_results[4:5][0])[0]\n",
        "median_exact18 = np.asarray(exact18_results[9:10][0])[0]\n",
        "upper_exact18 = np.asarray(exact18_results[14:15][0])[0]"
      ],
      "execution_count": 91,
      "outputs": []
    },
    {
      "cell_type": "code",
      "metadata": {
        "id": "SqiaOpB7Qxf9"
      },
      "source": [
        "# Iteration9 :\n",
        "\n",
        "slice9 = 8\n",
        "\n",
        "approx9 = [simple_regret_approx_1[slice9],\n",
        "       simple_regret_approx_2[slice9],\n",
        "       simple_regret_approx_3[slice9],\n",
        "       simple_regret_approx_4[slice9],\n",
        "       simple_regret_approx_5[slice9],\n",
        "       simple_regret_approx_6[slice9],\n",
        "       simple_regret_approx_7[slice9],\n",
        "       simple_regret_approx_8[slice9],\n",
        "       simple_regret_approx_9[slice9],\n",
        "       simple_regret_approx_10[slice9],\n",
        "       simple_regret_approx_11[slice9],\n",
        "       simple_regret_approx_12[slice9],\n",
        "       simple_regret_approx_13[slice9],\n",
        "       simple_regret_approx_14[slice9],\n",
        "       simple_regret_approx_15[slice9],\n",
        "       simple_regret_approx_16[slice9],\n",
        "       simple_regret_approx_17[slice9],\n",
        "       simple_regret_approx_18[slice9],\n",
        "       simple_regret_approx_19[slice9],\n",
        "       simple_regret_approx_20[slice9]]\n",
        "\n",
        "exact9 = [simple_regret_exact_1[slice9],\n",
        "       simple_regret_exact_2[slice9],\n",
        "       simple_regret_exact_3[slice9],\n",
        "       simple_regret_exact_4[slice9],\n",
        "       simple_regret_exact_5[slice9],\n",
        "       simple_regret_exact_6[slice9],\n",
        "       simple_regret_exact_7[slice9],\n",
        "       simple_regret_exact_8[slice9],\n",
        "       simple_regret_exact_9[slice9],\n",
        "       simple_regret_exact_10[slice9],\n",
        "       simple_regret_exact_11[slice9],\n",
        "       simple_regret_exact_12[slice9],\n",
        "       simple_regret_exact_13[slice9],\n",
        "       simple_regret_exact_14[slice9],\n",
        "       simple_regret_exact_15[slice9],\n",
        "       simple_regret_exact_16[slice9],\n",
        "       simple_regret_exact_17[slice9],\n",
        "       simple_regret_exact_18[slice9],\n",
        "       simple_regret_exact_19[slice9],\n",
        "       simple_regret_exact_20[slice9]]\n",
        "\n",
        "approx9_results = pd.DataFrame(approx9).sort_values(by=[0], ascending=False)\n",
        "exact9_results = pd.DataFrame(exact9).sort_values(by=[0], ascending=False)\n",
        "\n",
        "### Best simple regret minimization IQR - approx:\n",
        "lower_approx9 = np.asarray(approx9_results[4:5][0])[0]\n",
        "median_approx9 = np.asarray(approx9_results[9:10][0])[0]\n",
        "upper_approx9 = np.asarray(approx9_results[14:15][0])[0]\n",
        "\n",
        "lower_exact9 = np.asarray(exact9_results[4:5][0])[0]\n",
        "median_exact9 = np.asarray(exact9_results[9:10][0])[0]\n",
        "upper_exact9 = np.asarray(exact9_results[14:15][0])[0]"
      ],
      "execution_count": 92,
      "outputs": []
    },
    {
      "cell_type": "code",
      "metadata": {
        "id": "OQkCCOsPQxf9"
      },
      "source": [
        "# Iteration19 :\n",
        "\n",
        "slice19 = 18\n",
        "\n",
        "approx19 = [simple_regret_approx_1[slice19],\n",
        "       simple_regret_approx_2[slice19],\n",
        "       simple_regret_approx_3[slice19],\n",
        "       simple_regret_approx_4[slice19],\n",
        "       simple_regret_approx_5[slice19],\n",
        "       simple_regret_approx_6[slice19],\n",
        "       simple_regret_approx_7[slice19],\n",
        "       simple_regret_approx_8[slice19],\n",
        "       simple_regret_approx_9[slice19],\n",
        "       simple_regret_approx_10[slice19],\n",
        "       simple_regret_approx_11[slice19],\n",
        "       simple_regret_approx_12[slice19],\n",
        "       simple_regret_approx_13[slice19],\n",
        "       simple_regret_approx_14[slice19],\n",
        "       simple_regret_approx_15[slice19],\n",
        "       simple_regret_approx_16[slice19],\n",
        "       simple_regret_approx_17[slice19],\n",
        "       simple_regret_approx_18[slice19],\n",
        "       simple_regret_approx_19[slice19],\n",
        "       simple_regret_approx_20[slice19]]\n",
        "\n",
        "exact19 = [simple_regret_exact_1[slice19],\n",
        "       simple_regret_exact_2[slice19],\n",
        "       simple_regret_exact_3[slice19],\n",
        "       simple_regret_exact_4[slice19],\n",
        "       simple_regret_exact_5[slice19],\n",
        "       simple_regret_exact_6[slice19],\n",
        "       simple_regret_exact_7[slice19],\n",
        "       simple_regret_exact_8[slice19],\n",
        "       simple_regret_exact_9[slice19],\n",
        "       simple_regret_exact_10[slice19],\n",
        "       simple_regret_exact_11[slice19],\n",
        "       simple_regret_exact_12[slice19],\n",
        "       simple_regret_exact_13[slice19],\n",
        "       simple_regret_exact_14[slice19],\n",
        "       simple_regret_exact_15[slice19],\n",
        "       simple_regret_exact_16[slice19],\n",
        "       simple_regret_exact_17[slice19],\n",
        "       simple_regret_exact_18[slice19],\n",
        "       simple_regret_exact_19[slice19],\n",
        "       simple_regret_exact_20[slice19]]\n",
        "\n",
        "approx19_results = pd.DataFrame(approx19).sort_values(by=[0], ascending=False)\n",
        "exact19_results = pd.DataFrame(exact19).sort_values(by=[0], ascending=False)\n",
        "\n",
        "### Best simple regret minimization IQR - approx:\n",
        "lower_approx19 = np.asarray(approx19_results[4:5][0])[0]\n",
        "median_approx19 = np.asarray(approx19_results[9:10][0])[0]\n",
        "upper_approx19 = np.asarray(approx19_results[14:15][0])[0]\n",
        "\n",
        "lower_exact19 = np.asarray(exact19_results[4:5][0])[0]\n",
        "median_exact19 = np.asarray(exact19_results[9:10][0])[0]\n",
        "upper_exact19 = np.asarray(exact19_results[14:15][0])[0]"
      ],
      "execution_count": 93,
      "outputs": []
    },
    {
      "cell_type": "code",
      "metadata": {
        "id": "h4vtWahcQxf-"
      },
      "source": [
        "# Iteration10 :\n",
        "\n",
        "slice10 = 9\n",
        "\n",
        "approx10 = [simple_regret_approx_1[slice10],\n",
        "       simple_regret_approx_2[slice10],\n",
        "       simple_regret_approx_3[slice10],\n",
        "       simple_regret_approx_4[slice10],\n",
        "       simple_regret_approx_5[slice10],\n",
        "       simple_regret_approx_6[slice10],\n",
        "       simple_regret_approx_7[slice10],\n",
        "       simple_regret_approx_8[slice10],\n",
        "       simple_regret_approx_9[slice10],\n",
        "       simple_regret_approx_10[slice10],\n",
        "       simple_regret_approx_11[slice10],\n",
        "       simple_regret_approx_12[slice10],\n",
        "       simple_regret_approx_13[slice10],\n",
        "       simple_regret_approx_14[slice10],\n",
        "       simple_regret_approx_15[slice10],\n",
        "       simple_regret_approx_16[slice10],\n",
        "       simple_regret_approx_17[slice10],\n",
        "       simple_regret_approx_18[slice10],\n",
        "       simple_regret_approx_19[slice10],\n",
        "       simple_regret_approx_20[slice10]]\n",
        "\n",
        "exact10 = [simple_regret_exact_1[slice10],\n",
        "       simple_regret_exact_2[slice10],\n",
        "       simple_regret_exact_3[slice10],\n",
        "       simple_regret_exact_4[slice10],\n",
        "       simple_regret_exact_5[slice10],\n",
        "       simple_regret_exact_6[slice10],\n",
        "       simple_regret_exact_7[slice10],\n",
        "       simple_regret_exact_8[slice10],\n",
        "       simple_regret_exact_9[slice10],\n",
        "       simple_regret_exact_10[slice10],\n",
        "       simple_regret_exact_11[slice10],\n",
        "       simple_regret_exact_12[slice10],\n",
        "       simple_regret_exact_13[slice10],\n",
        "       simple_regret_exact_14[slice10],\n",
        "       simple_regret_exact_15[slice10],\n",
        "       simple_regret_exact_16[slice10],\n",
        "       simple_regret_exact_17[slice10],\n",
        "       simple_regret_exact_18[slice10],\n",
        "       simple_regret_exact_19[slice10],\n",
        "       simple_regret_exact_20[slice10]]\n",
        "\n",
        "approx10_results = pd.DataFrame(approx10).sort_values(by=[0], ascending=False)\n",
        "exact10_results = pd.DataFrame(exact10).sort_values(by=[0], ascending=False)\n",
        "\n",
        "### Best simple regret minimization IQR - approx:\n",
        "lower_approx10 = np.asarray(approx10_results[4:5][0])[0]\n",
        "median_approx10 = np.asarray(approx10_results[9:10][0])[0]\n",
        "upper_approx10 = np.asarray(approx10_results[14:15][0])[0]\n",
        "\n",
        "lower_exact10 = np.asarray(exact10_results[4:5][0])[0]\n",
        "median_exact10 = np.asarray(exact10_results[9:10][0])[0]\n",
        "upper_exact10 = np.asarray(exact10_results[14:15][0])[0]"
      ],
      "execution_count": 94,
      "outputs": []
    },
    {
      "cell_type": "code",
      "metadata": {
        "id": "Rsf240pWQxf-"
      },
      "source": [
        "# Iteration20 :\n",
        "\n",
        "slice20 = 19\n",
        "\n",
        "approx20 = [simple_regret_approx_1[slice20],\n",
        "       simple_regret_approx_2[slice20],\n",
        "       simple_regret_approx_3[slice20],\n",
        "       simple_regret_approx_4[slice20],\n",
        "       simple_regret_approx_5[slice20],\n",
        "       simple_regret_approx_6[slice20],\n",
        "       simple_regret_approx_7[slice20],\n",
        "       simple_regret_approx_8[slice20],\n",
        "       simple_regret_approx_9[slice20],\n",
        "       simple_regret_approx_10[slice20],\n",
        "       simple_regret_approx_11[slice20],\n",
        "       simple_regret_approx_12[slice20],\n",
        "       simple_regret_approx_13[slice20],\n",
        "       simple_regret_approx_14[slice20],\n",
        "       simple_regret_approx_15[slice20],\n",
        "       simple_regret_approx_16[slice20],\n",
        "       simple_regret_approx_17[slice20],\n",
        "       simple_regret_approx_18[slice20],\n",
        "       simple_regret_approx_19[slice20],\n",
        "       simple_regret_approx_20[slice20]]\n",
        "\n",
        "exact20 = [simple_regret_exact_1[slice20],\n",
        "       simple_regret_exact_2[slice20],\n",
        "       simple_regret_exact_3[slice20],\n",
        "       simple_regret_exact_4[slice20],\n",
        "       simple_regret_exact_5[slice20],\n",
        "       simple_regret_exact_6[slice20],\n",
        "       simple_regret_exact_7[slice20],\n",
        "       simple_regret_exact_8[slice20],\n",
        "       simple_regret_exact_9[slice20],\n",
        "       simple_regret_exact_10[slice20],\n",
        "       simple_regret_exact_11[slice20],\n",
        "       simple_regret_exact_12[slice20],\n",
        "       simple_regret_exact_13[slice20],\n",
        "       simple_regret_exact_14[slice20],\n",
        "       simple_regret_exact_15[slice20],\n",
        "       simple_regret_exact_16[slice20],\n",
        "       simple_regret_exact_17[slice20],\n",
        "       simple_regret_exact_18[slice20],\n",
        "       simple_regret_exact_19[slice20],\n",
        "       simple_regret_exact_20[slice20]]\n",
        "\n",
        "approx20_results = pd.DataFrame(approx20).sort_values(by=[0], ascending=False)\n",
        "exact20_results = pd.DataFrame(exact20).sort_values(by=[0], ascending=False)\n",
        "\n",
        "### Best simple regret minimization IQR - approx:\n",
        "lower_approx20 = np.asarray(approx20_results[4:5][0])[0]\n",
        "median_approx20 = np.asarray(approx20_results[9:10][0])[0]\n",
        "upper_approx20 = np.asarray(approx20_results[14:15][0])[0]\n",
        "\n",
        "lower_exact20 = np.asarray(exact20_results[4:5][0])[0]\n",
        "median_exact20 = np.asarray(exact20_results[9:10][0])[0]\n",
        "upper_exact20 = np.asarray(exact20_results[14:15][0])[0]"
      ],
      "execution_count": 95,
      "outputs": []
    },
    {
      "cell_type": "code",
      "metadata": {
        "id": "gn36RejbQxf_"
      },
      "source": [
        "### Summarize arrays: 'Loser'\n",
        "\n",
        "lower_approx = [lower_approx1,\n",
        "            lower_approx2,\n",
        "            lower_approx3,\n",
        "            lower_approx4,\n",
        "            lower_approx5,\n",
        "            lower_approx6,\n",
        "            lower_approx7,\n",
        "            lower_approx8,\n",
        "            lower_approx9,\n",
        "            lower_approx10,\n",
        "            lower_approx11,\n",
        "            lower_approx12,\n",
        "            lower_approx13,\n",
        "            lower_approx14,\n",
        "            lower_approx15,\n",
        "            lower_approx16,\n",
        "            lower_approx17,\n",
        "            lower_approx18,\n",
        "            lower_approx19,\n",
        "            lower_approx20,\n",
        "            lower_approx21]\n",
        "\n",
        "median_approx = [median_approx1,\n",
        "            median_approx2,\n",
        "            median_approx3,\n",
        "            median_approx4,\n",
        "            median_approx5,\n",
        "            median_approx6,\n",
        "            median_approx7,\n",
        "            median_approx8,\n",
        "            median_approx9,\n",
        "            median_approx10,\n",
        "            median_approx11,\n",
        "            median_approx12,\n",
        "            median_approx13,\n",
        "            median_approx14,\n",
        "            median_approx15,\n",
        "            median_approx16,\n",
        "            median_approx17,\n",
        "            median_approx18,\n",
        "            median_approx19,\n",
        "            median_approx20,\n",
        "            median_approx21]\n",
        "\n",
        "upper_approx = [upper_approx1,\n",
        "            upper_approx2,\n",
        "            upper_approx3,\n",
        "            upper_approx4,\n",
        "            upper_approx5,\n",
        "            upper_approx6,\n",
        "            upper_approx7,\n",
        "            upper_approx8,\n",
        "            upper_approx9,\n",
        "            upper_approx10,\n",
        "            upper_approx11,\n",
        "            upper_approx12,\n",
        "            upper_approx13,\n",
        "            upper_approx14,\n",
        "            upper_approx15,\n",
        "            upper_approx16,\n",
        "            upper_approx17,\n",
        "            upper_approx18,\n",
        "            upper_approx19,\n",
        "            upper_approx20,\n",
        "            upper_approx21]"
      ],
      "execution_count": 96,
      "outputs": []
    },
    {
      "cell_type": "code",
      "metadata": {
        "id": "wxtGTOYfQxf_"
      },
      "source": [
        "### Summarize arrays: 'exact'\n",
        "\n",
        "lower_exact = [lower_exact1,\n",
        "            lower_exact2,\n",
        "            lower_exact3,\n",
        "            lower_exact4,\n",
        "            lower_exact5,\n",
        "            lower_exact6,\n",
        "            lower_exact7,\n",
        "            lower_exact8,\n",
        "            lower_exact9,\n",
        "            lower_exact10,\n",
        "            lower_exact11,\n",
        "            lower_exact12,\n",
        "            lower_exact13,\n",
        "            lower_exact14,\n",
        "            lower_exact15,\n",
        "            lower_exact16,\n",
        "            lower_exact17,\n",
        "            lower_exact18,\n",
        "            lower_exact19,\n",
        "            lower_exact20,\n",
        "            lower_exact21]\n",
        "\n",
        "median_exact = [median_exact1,\n",
        "            median_exact2,\n",
        "            median_exact3,\n",
        "            median_exact4,\n",
        "            median_exact5,\n",
        "            median_exact6,\n",
        "            median_exact7,\n",
        "            median_exact8,\n",
        "            median_exact9,\n",
        "            median_exact10,\n",
        "            median_exact11,\n",
        "            median_exact12,\n",
        "            median_exact13,\n",
        "            median_exact14,\n",
        "            median_exact15,\n",
        "            median_exact16,\n",
        "            median_exact17,\n",
        "            median_exact18,\n",
        "            median_exact19,\n",
        "            median_exact20,\n",
        "            median_exact21]\n",
        "\n",
        "upper_exact = [upper_exact1,\n",
        "            upper_exact2,\n",
        "            upper_exact3,\n",
        "            upper_exact4,\n",
        "            upper_exact5,\n",
        "            upper_exact6,\n",
        "            upper_exact7,\n",
        "            upper_exact8,\n",
        "            upper_exact9,\n",
        "            upper_exact10,\n",
        "            upper_exact11,\n",
        "            upper_exact12,\n",
        "            upper_exact13,\n",
        "            upper_exact14,\n",
        "            upper_exact15,\n",
        "            upper_exact16,\n",
        "            upper_exact17,\n",
        "            upper_exact18,\n",
        "            upper_exact19,\n",
        "            upper_exact20,\n",
        "            upper_exact21]"
      ],
      "execution_count": 97,
      "outputs": []
    },
    {
      "cell_type": "code",
      "metadata": {
        "id": "2MONq-BXQxgA",
        "colab": {
          "base_uri": "https://localhost:8080/",
          "height": 299
        },
        "outputId": "770e2a6a-320c-423b-db53-04d53c85c887"
      },
      "source": [
        "### Visualise!\n",
        "\n",
        "title = func\n",
        "plt.figure()\n",
        "\n",
        "plt.plot(median_approx, color = 'Yellow')\n",
        "plt.plot(median_exact, color = 'Red')\n",
        "\n",
        "xstar = np.arange(0, iters+1, step=1)\n",
        "plt.fill_between(xstar, lower_approx, upper_approx, facecolor = 'Yellow', alpha=0.4, label='GP EI Optimization: L-BFGS-B')\n",
        "plt.fill_between(xstar, lower_exact, upper_exact, facecolor = 'Red', alpha=0.4, label='GP EI Optimization: Best Random Sample')\n",
        "\n",
        "plt.title(title, weight = 'bold')\n",
        "plt.xlabel('(Post-initialization) iteration $\\it{k}$', weight = 'bold')\n",
        "plt.ylabel('log(Regret)', weight = 'bold') \n",
        "plt.legend(loc=1) # add plot legend\n",
        "\n",
        "### Make the x-ticks integers, not floats:\n",
        "count = len(xstar)\n",
        "plt.xticks(np.arange(count), np.arange(0, count))\n",
        "plt.show() #visualize!"
      ],
      "execution_count": 98,
      "outputs": [
        {
          "output_type": "display_data",
          "data": {
            "image/png": "[encoded data removed]",
            "text/plain": [
              "<Figure size 432x288 with 1 Axes>"
            ]
          },
          "metadata": {
            "needs_background": "light"
          }
        }
      ]
    },
    {
      "cell_type": "code",
      "metadata": {
        "id": "l5dkR2Id2oiu",
        "colab": {
          "base_uri": "https://localhost:8080/"
        },
        "outputId": "e473550a-196b-410a-8f02-0e7be08bf9cb"
      },
      "source": [
        "time_approx, time_exact\n"
      ],
      "execution_count": 99,
      "outputs": [
        {
          "output_type": "execute_result",
          "data": {
            "text/plain": [
              "(93.10612654685974, 33.37443733215332)"
            ]
          },
          "metadata": {},
          "execution_count": 99
        }
      ]
    },
    {
      "cell_type": "code",
      "metadata": {
        "id": "77BffxK2Fe61"
      },
      "source": [
        ""
      ],
      "execution_count": 99,
      "outputs": []
    }
  ]
}