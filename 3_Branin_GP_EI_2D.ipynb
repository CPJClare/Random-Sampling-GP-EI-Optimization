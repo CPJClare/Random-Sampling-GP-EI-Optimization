{
  "nbformat": 4,
  "nbformat_minor": 0,
  "metadata": {
    "colab": {
      "name": "3. Branin_GP_EI_2D.ipynb",
      "provenance": [],
      "collapsed_sections": []
    },
    "kernelspec": {
      "name": "python3",
      "display_name": "Python 3"
    },
    "language_info": {
      "name": "python"
    }
  },
  "cells": [
    {
      "cell_type": "markdown",
      "metadata": {
        "id": "Dqn4dFx7Z2Ir"
      },
      "source": [
        "\n",
        "Branin: 2D\n"
      ]
    },
    {
      "cell_type": "code",
      "metadata": {
        "id": "MJTM_GZZZb5x",
        "colab": {
          "base_uri": "https://localhost:8080/"
        },
        "outputId": "f82a4d1c-7cda-447a-e107-6bc75ec67f16"
      },
      "source": [
        "pip install pyGPGO\n"
      ],
      "execution_count": 1,
      "outputs": [
        {
          "output_type": "stream",
          "name": "stdout",
          "text": [
            "Requirement already satisfied: pyGPGO in /usr/local/lib/python3.7/dist-packages (0.5.1)\n",
            "Requirement already satisfied: mkl in /usr/local/lib/python3.7/dist-packages (from pyGPGO) (2019.0)\n",
            "Requirement already satisfied: pyMC3 in /usr/local/lib/python3.7/dist-packages (from pyGPGO) (3.11.2)\n",
            "Requirement already satisfied: scipy in /usr/local/lib/python3.7/dist-packages (from pyGPGO) (1.4.1)\n",
            "Requirement already satisfied: Theano-PyMC in /usr/local/lib/python3.7/dist-packages (from pyGPGO) (1.1.2)\n",
            "Requirement already satisfied: joblib in /usr/local/lib/python3.7/dist-packages (from pyGPGO) (1.0.1)\n",
            "Requirement already satisfied: numpy in /usr/local/lib/python3.7/dist-packages (from pyGPGO) (1.19.5)\n",
            "Requirement already satisfied: scikit-learn in /usr/local/lib/python3.7/dist-packages (from pyGPGO) (0.22.2.post1)\n",
            "Requirement already satisfied: intel-openmp in /usr/local/lib/python3.7/dist-packages (from mkl->pyGPGO) (2021.3.0)\n",
            "Requirement already satisfied: dill in /usr/local/lib/python3.7/dist-packages (from pyMC3->pyGPGO) (0.3.4)\n",
            "Requirement already satisfied: arviz>=0.11.0 in /usr/local/lib/python3.7/dist-packages (from pyMC3->pyGPGO) (0.11.2)\n",
            "Requirement already satisfied: patsy>=0.5.1 in /usr/local/lib/python3.7/dist-packages (from pyMC3->pyGPGO) (0.5.1)\n",
            "Requirement already satisfied: semver in /usr/local/lib/python3.7/dist-packages (from pyMC3->pyGPGO) (2.13.0)\n",
            "Requirement already satisfied: cachetools>=4.2.1 in /usr/local/lib/python3.7/dist-packages (from pyMC3->pyGPGO) (4.2.2)\n",
            "Requirement already satisfied: pandas>=0.24.0 in /usr/local/lib/python3.7/dist-packages (from pyMC3->pyGPGO) (1.1.5)\n",
            "Requirement already satisfied: typing-extensions>=3.7.4 in /usr/local/lib/python3.7/dist-packages (from pyMC3->pyGPGO) (3.7.4.3)\n",
            "Requirement already satisfied: fastprogress>=0.2.0 in /usr/local/lib/python3.7/dist-packages (from pyMC3->pyGPGO) (1.0.0)\n",
            "Requirement already satisfied: filelock in /usr/local/lib/python3.7/dist-packages (from Theano-PyMC->pyGPGO) (3.0.12)\n",
            "Requirement already satisfied: matplotlib>=3.0 in /usr/local/lib/python3.7/dist-packages (from arviz>=0.11.0->pyMC3->pyGPGO) (3.2.2)\n",
            "Requirement already satisfied: packaging in /usr/local/lib/python3.7/dist-packages (from arviz>=0.11.0->pyMC3->pyGPGO) (21.0)\n",
            "Requirement already satisfied: setuptools>=38.4 in /usr/local/lib/python3.7/dist-packages (from arviz>=0.11.0->pyMC3->pyGPGO) (57.4.0)\n",
            "Requirement already satisfied: netcdf4 in /usr/local/lib/python3.7/dist-packages (from arviz>=0.11.0->pyMC3->pyGPGO) (1.5.7)\n",
            "Requirement already satisfied: xarray>=0.16.1 in /usr/local/lib/python3.7/dist-packages (from arviz>=0.11.0->pyMC3->pyGPGO) (0.18.2)\n",
            "Requirement already satisfied: kiwisolver>=1.0.1 in /usr/local/lib/python3.7/dist-packages (from matplotlib>=3.0->arviz>=0.11.0->pyMC3->pyGPGO) (1.3.1)\n",
            "Requirement already satisfied: cycler>=0.10 in /usr/local/lib/python3.7/dist-packages (from matplotlib>=3.0->arviz>=0.11.0->pyMC3->pyGPGO) (0.10.0)\n",
            "Requirement already satisfied: pyparsing!=2.0.4,!=2.1.2,!=2.1.6,>=2.0.1 in /usr/local/lib/python3.7/dist-packages (from matplotlib>=3.0->arviz>=0.11.0->pyMC3->pyGPGO) (2.4.7)\n",
            "Requirement already satisfied: python-dateutil>=2.1 in /usr/local/lib/python3.7/dist-packages (from matplotlib>=3.0->arviz>=0.11.0->pyMC3->pyGPGO) (2.8.2)\n",
            "Requirement already satisfied: six in /usr/local/lib/python3.7/dist-packages (from cycler>=0.10->matplotlib>=3.0->arviz>=0.11.0->pyMC3->pyGPGO) (1.15.0)\n",
            "Requirement already satisfied: pytz>=2017.2 in /usr/local/lib/python3.7/dist-packages (from pandas>=0.24.0->pyMC3->pyGPGO) (2018.9)\n",
            "Requirement already satisfied: cftime in /usr/local/lib/python3.7/dist-packages (from netcdf4->arviz>=0.11.0->pyMC3->pyGPGO) (1.5.0)\n"
          ]
        }
      ]
    },
    {
      "cell_type": "code",
      "metadata": {
        "id": "ZJSSPbwPaEUB"
      },
      "source": [
        "### Import:\n",
        "\n",
        "import numpy as np\n",
        "import scipy as sp\n",
        "import pandas as pd\n",
        "import matplotlib.pyplot as plt\n",
        "import warnings\n",
        "import itertools\n",
        "\n",
        "from pyGPGO.GPGO import GPGO\n",
        "from pyGPGO.surrogates.GaussianProcess import GaussianProcess\n",
        "from pyGPGO.acquisition import Acquisition\n",
        "from pyGPGO.covfunc import squaredExponential\n",
        "\n",
        "from joblib import Parallel, delayed\n",
        "from numpy.linalg import solve, cholesky\n",
        "from scipy.spatial.distance import cdist\n",
        "from scipy.optimize import minimize\n",
        "from scipy.stats import norm\n",
        "import time\n",
        "\n",
        "warnings.filterwarnings(\"ignore\", category=RuntimeWarning)\n"
      ],
      "execution_count": 2,
      "outputs": []
    },
    {
      "cell_type": "code",
      "metadata": {
        "id": "OeYcTUNoaJWa"
      },
      "source": [
        "### Inputs:\n",
        "\n",
        "func = 'Branin'\n",
        "n_test = 500\n",
        "eps = 1e-08\n",
        "\n",
        "util_grad_exact = 'dEI_GP'\n",
        "util_grad_approx = 'ExpectedImprovement'\n",
        "\n",
        "n_init = 5 # random initialisations\n",
        "iters = 20\n",
        "opt = True"
      ],
      "execution_count": 3,
      "outputs": []
    },
    {
      "cell_type": "code",
      "metadata": {
        "id": "xpaEOjdzaPMS"
      },
      "source": [
        "### Objective Function - Branin(x) 2-D:\n",
        "\n",
        "def objfunc(x1_training, x2_training, a = 1, b = (5.1 / (4 * (np.pi) ** 2)), c = (5 / (np.pi)), r = 6, s = 10, t = (1 / (8 * np.pi))):\n",
        "        return operator * ((a * (x2_training - b * x1_training ** 2 + c * x1_training - r) ** 2) + \n",
        "                 s * (1 - t) * np.cos(x1_training) + s)\n",
        "        \n",
        "# Constraints:\n",
        "lb_x1 = -5 \n",
        "ub_x1 = +10\n",
        "lb_x2 = +0 \n",
        "ub_x2 = +15\n",
        "\n",
        "# Input array dimension(s):\n",
        "dim = 2\n",
        "\n",
        "# 2-D inputs' parameter bounds:\n",
        "param = {'x1_training': ('cont', [lb_x1, ub_x1]),\n",
        "             'x2_training': ('cont', [lb_x2, ub_x2])}\n",
        "\n",
        "# True y bounds:\n",
        "operator = -1\n",
        "y_lb = 0.397887 # targets global minimum\n",
        "y_global_orig = y_lb * operator # targets global minimum\n",
        "\n",
        "\n",
        "# Test data:\n",
        "x1_test = np.linspace(lb_x1, ub_x1, n_test)\n",
        "x2_test = np.linspace(lb_x2, ub_x2, n_test)\n",
        "  \n",
        "x_test = np.column_stack((x1_test,x2_test))\n"
      ],
      "execution_count": 4,
      "outputs": []
    },
    {
      "cell_type": "code",
      "metadata": {
        "id": "eYpI3Zm4aGxi"
      },
      "source": [
        "n_start_AcqFunc = iters\n"
      ],
      "execution_count": 5,
      "outputs": []
    },
    {
      "cell_type": "code",
      "metadata": {
        "id": "oO_GUmOoaV0T"
      },
      "source": [
        "### Cumulative Regret Calculator:\n",
        "\n",
        "def min_max_array(x):\n",
        "    new_list = []\n",
        "    for i, num in enumerate(x):\n",
        "            new_list.append(np.min(x[0:i+1]))\n",
        "    return new_list\n",
        "  "
      ],
      "execution_count": 6,
      "outputs": []
    },
    {
      "cell_type": "code",
      "metadata": {
        "id": "kuuJx0IMam9S"
      },
      "source": [
        "### Surrogate derivatives: \n",
        "\n",
        "cov_func = squaredExponential()\n",
        "\n",
        "def kronDelta(X, Xstar):\n",
        "    return cdist(X, Xstar) < np.finfo(np.float32).eps\n",
        "\n",
        "def se(X, Xstar, sigmaf, l, sigman):\n",
        "    return sigmaf * np.exp(-0.5 * cdist(X, Xstar) ** 2 / l ** 2) + sigman * kronDelta(X, Xstar)\n",
        "\n",
        "def deriv_se(X, Xstar, sigmaf, l, sigman):\n",
        "    return cdist(X, Xstar) / (l ** 2) * se(X, Xstar, sigmaf, l, sigman)\n",
        "\n",
        "def der_covmat(X, Xstar, sigmaf, l, sigman):\n",
        "      nx = len(X)\n",
        "      ny = len(Xstar)\n",
        "      return np.round(np.array([deriv_se(np.atleast_2d(i), np.atleast_2d(j), sigmaf, l, sigman) for (i, j) in itertools.product(X, Xstar)]).reshape(nx, ny), 8)\n",
        "\n",
        "class dGaussianProcess(GaussianProcess):\n",
        "    l = GaussianProcess(cov_func, optimize=opt).getcovparams()['l']\n",
        "    sigmaf = GaussianProcess(cov_func, optimize=opt).getcovparams()['sigmaf']\n",
        "    sigman = GaussianProcess(cov_func, optimize=opt).getcovparams()['sigman']\n",
        "\n",
        "    def AcqGrad(self, Xstar):\n",
        "        Xstar = np.atleast_2d(Xstar)\n",
        "        Kstar = self.covfunc.K(self.X, Xstar).T\n",
        "        dKstar = der_covmat(self.X, Xstar, self.sigmaf, self.l, self.sigman).T\n",
        "        \n",
        "        alpha_Kstar = np.dot(np.linalg.inv(self.K + (self.sigman**2) * np.eye(len(self.X))), Kstar.T)\n",
        "        \n",
        "        dm = np.dot(dKstar, self.alpha)\n",
        "        ds = -2 * np.dot(dKstar, alpha_Kstar)\n",
        "        \n",
        "        return dm, ds\n",
        "        "
      ],
      "execution_count": 7,
      "outputs": []
    },
    {
      "cell_type": "code",
      "metadata": {
        "id": "_Dc3YVHVaXz7"
      },
      "source": [
        "class Acquisition_new(Acquisition):    \n",
        "    def __init__(self, mode, eps=eps, **params):\n",
        "        \n",
        "        self.params = params\n",
        "        self.eps = eps\n",
        "\n",
        "        mode_dict = {\n",
        "            'dEI_GP': self.dEI_GP\n",
        "        }\n",
        "\n",
        "        self.f = mode_dict[mode]\n",
        "    \n",
        "    def dEI_GP(self, tau, mean, std, ds, dm):\n",
        "        gamma = (mean - tau - self.eps) / (std + self.eps)\n",
        "        gamma_h = (mean - tau) / (std + self.eps)\n",
        "        dsdx = ds / (2 * (std + self.eps))\n",
        "        dmdx = (dm - gamma * dsdx) / (std + self.eps)\n",
        "        \n",
        "        f = (std + self.eps) * (gamma * norm.cdf(gamma) + norm.pdf(gamma))\n",
        "        df1 = f / (std + self.eps) * dsdx \n",
        "        df2 = (std + self.eps) * norm.cdf(gamma) * dmdx\n",
        "        df = (df1 + df2)[0]\n",
        "        df_arr = []\n",
        "\n",
        "        for j in range(0, dim):\n",
        "          df_arr.append(df)\n",
        "        return f, np.asarray(df_arr).transpose()\n",
        "        \n",
        "    def d_eval(self, tau, mean, std, ds, dm):\n",
        "    \n",
        "        return self.f(tau, mean, std, ds, dm, **self.params)\n",
        "        "
      ],
      "execution_count": 8,
      "outputs": []
    },
    {
      "cell_type": "code",
      "metadata": {
        "id": "PITEQC8YSl7i"
      },
      "source": [
        "## GPGO_multi: Multistart changed to variable 'n_start_AcqFunc'\n",
        "\n",
        "class GPGO_multi(GPGO):\n",
        "    n_start = n_start_AcqFunc\n",
        "\n",
        "    def _optimizeAcq(self, method='L-BFGS-B', n_start=n_start_AcqFunc):\n",
        "        \n",
        "        start_points_dict = [self._sampleParam() for i in range(n_start)]\n",
        "        start_points_arr = np.array([list(s.values())\n",
        "                                     for s in start_points_dict])\n",
        "        x_best = np.empty((n_start, len(self.parameter_key)))\n",
        "        f_best = np.empty((n_start,))\n",
        "        if self.n_jobs == 1:\n",
        "            for index, start_point in enumerate(start_points_arr):\n",
        "                res = minimize(self._acqWrapper, x0=start_point, method=method,\n",
        "                               bounds=self.parameter_range)\n",
        "                x_best[index], f_best[index] = res.x, np.atleast_1d(res.fun)[0]\n",
        "        else:\n",
        "            opt = Parallel(n_jobs=self.n_jobs)(delayed(minimize)(self._acqWrapper,\n",
        "                                                                 x0=start_point,\n",
        "                                                                 method=method,\n",
        "                                                                 bounds=self.parameter_range) for start_point in\n",
        "                                               start_points_arr)\n",
        "            x_best = np.array([res.x for res in opt])\n",
        "            f_best = np.array([np.atleast_1d(res.fun)[0] for res in opt])\n",
        "\n",
        "        self.best = x_best[np.argmin(f_best)]"
      ],
      "execution_count": 9,
      "outputs": []
    },
    {
      "cell_type": "code",
      "metadata": {
        "id": "b_B-w81BJxKN"
      },
      "source": [
        "## dGPGO:\n",
        "\n",
        "grad = 0\n",
        "\n",
        "class dGPGO(GPGO):\n",
        "    n_start = n_start_AcqFunc\n",
        "\n",
        "    def d_optimizeAcq(self, method='L-BFGS-B', n_start=n_start_AcqFunc):\n",
        "        start_points_dict = [self._sampleParam() for i in range(n_start)]\n",
        "        start_points_arr = np.array([list(s.values())\n",
        "                                     for s in start_points_dict])\n",
        "        x_best = np.empty((n_start, len(self.parameter_key)))\n",
        "        f_best = np.empty((n_start,))\n",
        "        opt = Parallel(n_jobs=self.n_jobs)(delayed(minimize)(self.acqfunc,\n",
        "                                                                 x0=start_point,\n",
        "                                                                 method=method,\n",
        "                                                                 jac = True,\n",
        "                                                                 bounds=self.parameter_range) for start_point in\n",
        "                                               start_points_arr)\n",
        "        x_best = np.array([res.x for res in opt])\n",
        "        f_best = np.array([np.atleast_1d(res.fun)[0] for res in opt])\n",
        "\n",
        "        self.x_best = x_best\n",
        "        self.f_best = f_best\n",
        "        self.best = x_best[np.argmin(f_best)]\n",
        "        self.start_points_arr = start_points_arr\n",
        "\n",
        "        return x_best, f_best\n",
        "    \n",
        "    def run(self, max_iter=10, init_evals=3, resume=False):\n",
        "        \n",
        "        if not resume:\n",
        "            self.init_evals = init_evals\n",
        "            self._firstRun(self.init_evals)\n",
        "            self.logger._printInit(self)\n",
        "        for iteration in range(max_iter):\n",
        "            self.d_optimizeAcq()\n",
        "            self.updateGP()\n",
        "            self.logger._printCurrent(self)\n",
        "\n",
        "    def acqfunc(self, xnew, n_start=n_start_AcqFunc):\n",
        "        new_mean, new_var = self.GP.predict(xnew, return_std=True)\n",
        "        new_std = np.sqrt(new_var + eps)\n",
        "        dm, ds = self.GP.AcqGrad(xnew)\n",
        "        f, df = self.A.d_eval(self.tau, new_mean, new_std, ds=ds, dm=dm)\n",
        "\n",
        "        return -f, -df * grad\n"
      ],
      "execution_count": 10,
      "outputs": []
    },
    {
      "cell_type": "code",
      "metadata": {
        "id": "qXIKGuXVGEg2"
      },
      "source": [
        "###Reproducible set-seeds:\n",
        "\n",
        "run_num_1 = 1\n",
        "run_num_2 = 2\n",
        "run_num_3 = 3\n",
        "run_num_4 = 4\n",
        "run_num_5 = 5\n",
        "run_num_6 = 6\n",
        "run_num_7 = 7\n",
        "run_num_8 = 8\n",
        "run_num_9 = 9\n",
        "run_num_10 = 10\n",
        "run_num_11 = 11\n",
        "run_num_12 = 12\n",
        "run_num_13 = 13\n",
        "run_num_14 = 14\n",
        "run_num_15 = 15\n",
        "run_num_16 = 16\n",
        "run_num_17 = 17\n",
        "run_num_18 = 18\n",
        "run_num_19 = 19\n",
        "run_num_20 = 20\n"
      ],
      "execution_count": 11,
      "outputs": []
    },
    {
      "cell_type": "code",
      "metadata": {
        "colab": {
          "base_uri": "https://localhost:8080/"
        },
        "id": "JEhagQmnTVIK",
        "outputId": "3d4688ad-2197-4c61-d582-8f2cd8dd04f9"
      },
      "source": [
        "start_approx = time.time()\n",
        "start_approx\n"
      ],
      "execution_count": 12,
      "outputs": [
        {
          "output_type": "execute_result",
          "data": {
            "text/plain": [
              "1631272508.8362527"
            ]
          },
          "metadata": {},
          "execution_count": 12
        }
      ]
    },
    {
      "cell_type": "code",
      "metadata": {
        "colab": {
          "base_uri": "https://localhost:8080/"
        },
        "id": "aH0YSTXufD1v",
        "outputId": "b57ffa95-86f7-437a-e28c-f3965d5ee020"
      },
      "source": [
        "### ESTIMATED GP EI GRADIENTS\n",
        "\n",
        "np.random.seed(run_num_1)\n",
        "surrogate_approx_1 = GaussianProcess(cov_func, optimize=opt)\n",
        "\n",
        "approx_1 = GPGO_multi(surrogate_approx_1, Acquisition(util_grad_approx), objfunc, param)\n",
        "approx_1.run(init_evals=n_init, max_iter=iters)\n"
      ],
      "execution_count": 13,
      "outputs": [
        {
          "output_type": "stream",
          "name": "stdout",
          "text": [
            "Evaluation \t Proposed point \t  Current eval. \t Best eval.\n",
            "init   \t [ 1.25533007 10.8048674 ]. \t  -56.52874004692151 \t -27.68166689936483\n",
            "init   \t [-4.99828438  4.53498859]. \t  -172.66531086516164 \t -27.68166689936483\n",
            "init   \t [-2.79866164  1.38507892]. \t  -102.58290348816024 \t -27.68166689936483\n",
            "init   \t [-2.20609683  5.18341091]. \t  -28.868064601155666 \t -27.68166689936483\n",
            "init   \t [0.95151211 8.08225101]. \t  -27.68166689936483 \t -27.68166689936483\n",
            "1      \t [8.41909995 1.27566317]. \t  \u001b[92m-5.089934878453152\u001b[0m \t -5.089934878453152\n",
            "2      \t [ 8.98893195 10.45227242]. \t  -70.52424256621515 \t -5.089934878453152\n",
            "3      \t [-3.98449353 13.27557148]. \t  \u001b[92m-4.859191184895716\u001b[0m \t -4.859191184895716\n",
            "4      \t [2.98006414 0.05910542]. \t  -6.0230075672454495 \t -4.859191184895716\n",
            "5      \t [ 5.33580237 15.        ]. \t  -206.4381669221689 \t -4.859191184895716\n",
            "6      \t [5.84980619 5.67165565]. \t  -39.518846456685544 \t -4.859191184895716\n",
            "7      \t [-5.          9.40479881]. \t  -73.29201305540373 \t -4.859191184895716\n",
            "8      \t [-0.27588303 15.        ]. \t  -92.36008251719373 \t -4.859191184895716\n",
            "9      \t [10. 15.]. \t  -145.87219087939556 \t -4.859191184895716\n",
            "10     \t [10.         5.1096866]. \t  -6.381451919855663 \t -4.859191184895716\n",
            "11     \t [1.85019002 3.73597171]. \t  -7.408839628339024 \t -4.859191184895716\n",
            "12     \t [5.04191411 9.65683094]. \t  -83.62183521138809 \t -4.859191184895716\n",
            "13     \t [5.39595918 1.94283694]. \t  -16.65631715119862 \t -4.859191184895716\n",
            "14     \t [0.4613686 0.       ]. \t  -46.616199567974405 \t -4.859191184895716\n",
            "15     \t [-2.07705361 11.43691822]. \t  -7.820909754920644 \t -4.859191184895716\n",
            "16     \t [10.  0.]. \t  -10.960889035651505 \t -4.859191184895716\n",
            "17     \t [8.79548442 7.16233038]. \t  -28.935065611027227 \t -4.859191184895716\n",
            "18     \t [-5. 15.]. \t  -17.508299515778166 \t -4.859191184895716\n",
            "19     \t [8.3012794  3.45366024]. \t  -8.955990117330359 \t -4.859191184895716\n",
            "20     \t [-1.92928669  8.36712827]. \t  -8.033490357294912 \t -4.859191184895716\n"
          ]
        }
      ]
    },
    {
      "cell_type": "code",
      "metadata": {
        "colab": {
          "base_uri": "https://localhost:8080/"
        },
        "id": "wTxsSZxFGBB5",
        "outputId": "f280f75d-a93c-4cf5-f8ec-57adcf60c61e"
      },
      "source": [
        "### ESTIMATED GP EI GRADIENTS\n",
        "\n",
        "np.random.seed(run_num_2)\n",
        "surrogate_approx_2 = GaussianProcess(cov_func, optimize=opt)\n",
        "\n",
        "approx_2 = GPGO_multi(surrogate_approx_2, Acquisition(util_grad_approx), objfunc, param)\n",
        "approx_2.run(init_evals=n_init, max_iter=iters)\n"
      ],
      "execution_count": 14,
      "outputs": [
        {
          "output_type": "stream",
          "name": "stdout",
          "text": [
            "Evaluation \t Proposed point \t  Current eval. \t Best eval.\n",
            "init   \t [1.53992353 0.38889348]. \t  -22.31361308916297 \t -6.692051508754487\n",
            "init   \t [3.24493717 6.52983589]. \t  -19.233109967858276 \t -6.692051508754487\n",
            "init   \t [1.30551703 4.95502232]. \t  -13.177851563387286 \t -6.692051508754487\n",
            "init   \t [-1.93027049  9.2890645 ]. \t  -6.692051508754487 \t -6.692051508754487\n",
            "init   \t [-0.50517989  4.00240913]. \t  -26.437522758780958 \t -6.692051508754487\n",
            "1      \t [ 9.5587047  12.00387527]. \t  -89.09951357262268 \t -6.692051508754487\n",
            "2      \t [9.59366035 1.69164323]. \t  \u001b[92m-1.3984593420568778\u001b[0m \t -1.3984593420568778\n",
            "3      \t [ 3.24245232 12.67669673]. \t  -110.25694222671481 \t -1.3984593420568778\n",
            "4      \t [-2.58600765 14.70719421]. \t  -15.7365426981614 \t -1.3984593420568778\n",
            "5      \t [-4.49478903  0.        ]. \t  -256.41843550309727 \t -1.3984593420568778\n",
            "6      \t [8.725895   6.41300429]. \t  -22.580114236196877 \t -1.3984593420568778\n",
            "7      \t [-5.          5.78505952]. \t  -142.73620978185951 \t -1.3984593420568778\n",
            "8      \t [5.71565964 2.44843887]. \t  -19.85217191134074 \t -1.3984593420568778\n",
            "9      \t [-5.         11.43144446]. \t  -45.85431862336884 \t -1.3984593420568778\n",
            "10     \t [6.05638352 9.35707777]. \t  -87.54502371195785 \t -1.3984593420568778\n",
            "11     \t [ 6.75314347 15.        ]. \t  -210.56396246899752 \t -1.3984593420568778\n",
            "12     \t [1.14327897 9.28747742]. \t  -38.36704842364536 \t -1.3984593420568778\n",
            "13     \t [8.03151786 0.        ]. \t  -10.708346524442508 \t -1.3984593420568778\n",
            "14     \t [-0.70354645 12.27084485]. \t  -43.20144047633977 \t -1.3984593420568778\n",
            "15     \t [ 0.70816538 15.        ]. \t  -118.54311561206812 \t -1.3984593420568778\n",
            "16     \t [4.54974988 0.        ]. \t  -10.498675539429868 \t -1.3984593420568778\n",
            "17     \t [10.          3.46884075]. \t  -2.1601886991125525 \t -1.3984593420568778\n",
            "18     \t [-1.38908658  6.89890545]. \t  -14.172444476708307 \t -1.3984593420568778\n",
            "19     \t [-5. 15.]. \t  -17.508299515778166 \t -1.3984593420568778\n",
            "20     \t [5.93638237 5.40419524]. \t  -37.51783724268047 \t -1.3984593420568778\n"
          ]
        }
      ]
    },
    {
      "cell_type": "code",
      "metadata": {
        "colab": {
          "base_uri": "https://localhost:8080/"
        },
        "id": "-dgzIrUIGCGT",
        "outputId": "86222c70-61fb-45e3-9846-abb2bc0a10c2"
      },
      "source": [
        "### ESTIMATED GP EI GRADIENTS\n",
        "\n",
        "np.random.seed(run_num_3)\n",
        "surrogate_approx_3 = GaussianProcess(cov_func, optimize=opt)\n",
        "\n",
        "approx_3 = GPGO_multi(surrogate_approx_3, Acquisition(util_grad_approx), objfunc, param)\n",
        "approx_3.run(init_evals=n_init, max_iter=iters)\n"
      ],
      "execution_count": 15,
      "outputs": [
        {
          "output_type": "stream",
          "name": "stdout",
          "text": [
            "Evaluation \t Proposed point \t  Current eval. \t Best eval.\n",
            "init   \t [ 3.26196854 10.62221734]. \t  -71.68783452098575 \t -18.07886746449891\n",
            "init   \t [-0.63642892  7.66241408]. \t  -18.07886746449891 \t -18.07886746449891\n",
            "init   \t [ 8.39420432 13.44439633]. \t  -141.98653529865882 \t -18.07886746449891\n",
            "init   \t [-3.11622034  3.10864317]. \t  -83.31045707266176 \t -18.07886746449891\n",
            "init   \t [-4.22799195  6.61214765]. \t  -76.5294170688398 \t -18.07886746449891\n",
            "1      \t [6.70472147 4.59545299]. \t  -30.726791812855225 \t -18.07886746449891\n",
            "2      \t [-5. 15.]. \t  \u001b[92m-17.508299515778166\u001b[0m \t -17.508299515778166\n",
            "3      \t [2.64338273 0.68243899]. \t  \u001b[92m-5.61793909734835\u001b[0m \t -5.61793909734835\n",
            "4      \t [10.  0.]. \t  -10.960889035651505 \t -5.61793909734835\n",
            "5      \t [ 0.17998475 15.        ]. \t  -105.6075359190613 \t -5.61793909734835\n",
            "6      \t [10.          8.34438631]. \t  -30.474011983257775 \t -5.61793909734835\n",
            "7      \t [-0.6195202  11.33294215]. \t  -36.28496106529289 \t -5.61793909734835\n",
            "8      \t [2.269383   4.64046436]. \t  -6.343061288372167 \t -5.61793909734835\n",
            "9      \t [7.57758365 1.58614563]. \t  -12.672552824993334 \t -5.61793909734835\n",
            "10     \t [ 4.41176133 15.        ]. \t  -189.59933966981524 \t -5.61793909734835\n",
            "11     \t [-5.         10.94928201]. \t  -51.63737182429342 \t -5.61793909734835\n",
            "12     \t [6.32108624 8.30850806]. \t  -71.53773882401359 \t -5.61793909734835\n",
            "13     \t [-6.12376840e-01 -1.11022302e-16]. \t  -67.18080894646593 \t -5.61793909734835\n",
            "14     \t [5.15931474 0.        ]. \t  -15.656491549066821 \t -5.61793909734835\n",
            "15     \t [-5.  0.]. \t  -308.12909601160663 \t -5.61793909734835\n",
            "16     \t [2.73974574 7.14743678]. \t  -21.75797558636731 \t -5.61793909734835\n",
            "17     \t [0.33295301 3.40287383]. \t  -23.4075698057364 \t -5.61793909734835\n",
            "18     \t [10.          4.13406446]. \t  \u001b[92m-3.2225456343310572\u001b[0m \t -3.2225456343310572\n",
            "19     \t [4.04093717 2.88625698]. \t  -5.485885020359426 \t -3.2225456343310572\n",
            "20     \t [10.          5.55773656]. \t  -8.470041255041078 \t -3.2225456343310572\n"
          ]
        }
      ]
    },
    {
      "cell_type": "code",
      "metadata": {
        "colab": {
          "base_uri": "https://localhost:8080/"
        },
        "id": "hOtG-2sCGCKS",
        "outputId": "52a07526-190d-470e-ec52-76430a18b80c"
      },
      "source": [
        "### ESTIMATED GP EI GRADIENTS\n",
        "\n",
        "np.random.seed(run_num_4)\n",
        "surrogate_approx_4 = GaussianProcess(cov_func, optimize=opt)\n",
        "\n",
        "approx_4 = GPGO_multi(surrogate_approx_4, Acquisition(util_grad_approx), objfunc, param)\n",
        "approx_4.run(init_evals=n_init, max_iter=iters)\n"
      ],
      "execution_count": 16,
      "outputs": [
        {
          "output_type": "stream",
          "name": "stdout",
          "text": [
            "Evaluation \t Proposed point \t  Current eval. \t Best eval.\n",
            "init   \t [9.50544759 8.20848374]. \t  -32.51676744781521 \t -7.247126865776948\n",
            "init   \t [ 9.5902654  10.72223991]. \t  -66.20566674364716 \t -7.247126865776948\n",
            "init   \t [5.46593237 3.24134243]. \t  -20.90089401680587 \t -7.247126865776948\n",
            "init   \t [9.64411682 0.09345383]. \t  -7.247126865776948 \t -7.247126865776948\n",
            "init   \t [-1.20526456  6.52187299]. \t  -15.941376982363263 \t -7.247126865776948\n",
            "1      \t [ 1.25164457 13.57001383]. \t  -100.61648848019335 \t -7.247126865776948\n",
            "2      \t [-4.27198795  1.64727177]. \t  -188.41076037632916 \t -7.247126865776948\n",
            "3      \t [-4.64616955 10.91158353]. \t  -37.15561787434749 \t -7.247126865776948\n",
            "4      \t [3.91058192 8.49899792]. \t  -48.62596349349736 \t -7.247126865776948\n",
            "5      \t [1.24885867 0.        ]. \t  -30.7947923644144 \t -7.247126865776948\n",
            "6      \t [ 6.50701313 15.        ]. \t  -212.19478521338414 \t -7.247126865776948\n",
            "7      \t [10.         3.9710884]. \t  \u001b[92m-2.8804198281203703\u001b[0m \t -2.8804198281203703\n",
            "8      \t [-3.3199068 15.       ]. \t  -5.805055570139122 \t -2.8804198281203703\n",
            "9      \t [-5.          6.42145899]. \t  -128.62837836518972 \t -2.8804198281203703\n",
            "10     \t [1.67714315 4.11195959]. \t  -9.155363498456676 \t -2.8804198281203703\n",
            "11     \t [6.17580273 0.        ]. \t  -20.752565847149576 \t -2.8804198281203703\n",
            "12     \t [-0.69485885 10.02074393]. \t  -25.512378033681372 \t -2.8804198281203703\n",
            "13     \t [ 5.92863445 11.19385604]. \t  -120.79083766518391 \t -2.8804198281203703\n",
            "14     \t [6.81377047 6.18201119]. \t  -43.570295955507234 \t -2.8804198281203703\n",
            "15     \t [-0.81626134  3.03666348]. \t  -35.486681250242846 \t -2.8804198281203703\n",
            "16     \t [10.         14.43200244]. \t  -132.5662292705455 \t -2.8804198281203703\n",
            "17     \t [-2.17444336 12.90754047]. \t  -12.592244351698367 \t -2.8804198281203703\n",
            "18     \t [1.46295989 6.68707409]. \t  -18.535352279250606 \t -2.8804198281203703\n",
            "19     \t [8.46555253 2.51473096]. \t  -5.019795948948404 \t -2.8804198281203703\n",
            "20     \t [3.28261283 1.84553375]. \t  \u001b[92m-0.5969286216188046\u001b[0m \t -0.5969286216188046\n"
          ]
        }
      ]
    },
    {
      "cell_type": "code",
      "metadata": {
        "colab": {
          "base_uri": "https://localhost:8080/"
        },
        "id": "JF_SxcEvGCOl",
        "outputId": "f12d3182-b743-4fc6-cf10-971a15e4b2c3"
      },
      "source": [
        "### ESTIMATED GP EI GRADIENTS\n",
        "\n",
        "np.random.seed(run_num_5)\n",
        "surrogate_approx_5 = GaussianProcess(cov_func, optimize=opt)\n",
        "\n",
        "approx_5 = GPGO_multi(surrogate_approx_5, Acquisition(util_grad_approx), objfunc, param)\n",
        "approx_5.run(init_evals=n_init, max_iter=iters)\n"
      ],
      "execution_count": 17,
      "outputs": [
        {
          "output_type": "stream",
          "name": "stdout",
          "text": [
            "Evaluation \t Proposed point \t  Current eval. \t Best eval.\n",
            "init   \t [-1.67010243 13.06098459]. \t  -25.390690545664548 \t -25.311309190989615\n",
            "init   \t [-1.89921267 13.77916362]. \t  -25.311309190989615 \t -25.311309190989615\n",
            "init   \t [2.32616783 9.17615794]. \t  -41.60147975414021 \t -25.311309190989615\n",
            "init   \t [6.48861785 7.77626982]. \t  -63.81281921768236 \t -25.311309190989615\n",
            "init   \t [-0.54799248  2.81581843]. \t  -34.966203644931994 \t -25.311309190989615\n",
            "1      \t [8.84124421 0.03321319]. \t  \u001b[92m-5.96108856337545\u001b[0m \t -5.96108856337545\n",
            "2      \t [ 8.39476442 14.47736321]. \t  -167.21523769473345 \t -5.96108856337545\n",
            "3      \t [-4.1375067   7.24495487]. \t  -61.80559119709111 \t -5.96108856337545\n",
            "4      \t [-5.  0.]. \t  -308.12909601160663 \t -5.96108856337545\n",
            "5      \t [3.90218642 0.        ]. \t  -6.129536698755416 \t -5.96108856337545\n",
            "6      \t [ 3.02991629 15.        ]. \t  -160.13370433331355 \t -5.96108856337545\n",
            "7      \t [10.          4.33727189]. \t  \u001b[92m-3.7235379387315213\u001b[0m \t -3.7235379387315213\n",
            "8      \t [3.79901032 4.09238105]. \t  -7.5714002858300224 \t -3.7235379387315213\n",
            "9      \t [10.         10.16742604]. \t  -53.27276289101673 \t -3.7235379387315213\n",
            "10     \t [-5.         11.30921636]. \t  -47.27632748230095 \t -3.7235379387315213\n",
            "11     \t [6.99654811 2.92350095]. \t  -20.2711985155133 \t -3.7235379387315213\n",
            "12     \t [ 5.43141242 11.54548465]. \t  -124.0454141123467 \t -3.7235379387315213\n",
            "13     \t [-0.26129705  6.51666737]. \t  -19.284636150850602 \t -3.7235379387315213\n",
            "14     \t [-5. 15.]. \t  -17.508299515778166 \t -3.7235379387315213\n",
            "15     \t [-4.11496152  3.81345443]. \t  -123.91449911382477 \t -3.7235379387315213\n",
            "16     \t [-1.31455655  9.78774995]. \t  -14.601361527158701 \t -3.7235379387315213\n",
            "17     \t [1.045935 0.      ]. \t  -34.85210807022733 \t -3.7235379387315213\n",
            "18     \t [10.          6.70070297]. \t  -15.616468848510301 \t -3.7235379387315213\n",
            "19     \t [10.         2.1087582]. \t  \u001b[92m-2.742731450376935\u001b[0m \t -2.742731450376935\n",
            "20     \t [6.31678863 0.        ]. \t  -20.809367457099018 \t -2.742731450376935\n"
          ]
        }
      ]
    },
    {
      "cell_type": "code",
      "metadata": {
        "colab": {
          "base_uri": "https://localhost:8080/"
        },
        "id": "-kDxZtJsGCR3",
        "outputId": "2e0646bb-dbe9-4c62-ab51-a34dffe6b131"
      },
      "source": [
        "### ESTIMATED GP EI GRADIENTS\n",
        "\n",
        "np.random.seed(run_num_6)\n",
        "surrogate_approx_6 = GaussianProcess(cov_func, optimize=opt)\n",
        "\n",
        "approx_6 = GPGO_multi(surrogate_approx_6, Acquisition(util_grad_approx), objfunc, param)\n",
        "approx_6.run(init_evals=n_init, max_iter=iters)\n"
      ],
      "execution_count": 18,
      "outputs": [
        {
          "output_type": "stream",
          "name": "stdout",
          "text": [
            "Evaluation \t Proposed point \t  Current eval. \t Best eval.\n",
            "init   \t [8.39290227 4.97969708]. \t  -15.553860636684597 \t -15.31731051317483\n",
            "init   \t [7.31843685 0.62544939]. \t  -15.31731051317483 \t -15.31731051317483\n",
            "init   \t [-3.3851498   8.92578096]. \t  -16.222288919361837 \t -15.31731051317483\n",
            "init   \t [2.94726043 6.28211143]. \t  -15.406373581304088 \t -15.31731051317483\n",
            "init   \t [0.03111774 9.33779148]. \t  -31.07053245856209 \t -15.31731051317483\n",
            "1      \t [ 9.64829531 12.55362889]. \t  -98.32295673962142 \t -15.31731051317483\n",
            "2      \t [-1.22578785  0.62063252]. \t  -69.8637190838968 \t -15.31731051317483\n",
            "3      \t [ 4.11366045 15.        ]. \t  -183.10484285176852 \t -15.31731051317483\n",
            "4      \t [-2.67102288 14.57040418]. \t  \u001b[92m-12.985837564809705\u001b[0m \t -12.985837564809705\n",
            "5      \t [-5.          4.21652744]. \t  -180.96625047114895 \t -12.985837564809705\n",
            "6      \t [5.44161514 9.98674416]. \t  -94.22618159524357 \t -12.985837564809705\n",
            "7      \t [3.23829123 1.87841978]. \t  \u001b[92m-0.5466720813438801\u001b[0m \t -0.5466720813438801\n",
            "8      \t [-0.62172702  5.00167845]. \t  -21.957797509205253 \t -0.5466720813438801\n",
            "9      \t [ 0.18638758 12.6865283 ]. \t  -68.1378550124482 \t -0.5466720813438801\n",
            "10     \t [-4.20714598  1.10353164]. \t  -197.97694213328805 \t -0.5466720813438801\n",
            "11     \t [10.          8.32702388]. \t  -30.28883302758973 \t -0.5466720813438801\n",
            "12     \t [-5.         12.07958105]. \t  -38.81316081839446 \t -0.5466720813438801\n",
            "13     \t [6.26632849 6.91792795]. \t  -53.454850655596886 \t -0.5466720813438801\n",
            "14     \t [ 3.02686821e+00 -4.44089210e-16]. \t  -6.059764840501721 \t -0.5466720813438801\n",
            "15     \t [4.71317017 3.12038749]. \t  -13.076758369198773 \t -0.5466720813438801\n",
            "16     \t [1.87432875 2.59213174]. \t  -7.901969804811083 \t -0.5466720813438801\n",
            "17     \t [10.          2.12957977]. \t  -2.7059277650637403 \t -0.5466720813438801\n",
            "18     \t [10.  0.]. \t  -10.960889035651505 \t -0.5466720813438801\n",
            "19     \t [-5. 15.]. \t  -17.508299515778166 \t -0.5466720813438801\n",
            "20     \t [ 7.63500405 15.        ]. \t  -197.61471050940943 \t -0.5466720813438801\n"
          ]
        }
      ]
    },
    {
      "cell_type": "code",
      "metadata": {
        "colab": {
          "base_uri": "https://localhost:8080/"
        },
        "id": "fKB8MCD_GCVI",
        "outputId": "021622a3-e6ec-440f-ee1a-7f4c03c8cf94"
      },
      "source": [
        "### ESTIMATED GP EI GRADIENTS\n",
        "\n",
        "np.random.seed(run_num_7)\n",
        "surrogate_approx_7 = GaussianProcess(cov_func, optimize=opt)\n",
        "\n",
        "approx_7 = GPGO_multi(surrogate_approx_7, Acquisition(util_grad_approx), objfunc, param)\n",
        "approx_7.run(init_evals=n_init, max_iter=iters)\n"
      ],
      "execution_count": 19,
      "outputs": [
        {
          "output_type": "stream",
          "name": "stdout",
          "text": [
            "Evaluation \t Proposed point \t  Current eval. \t Best eval.\n",
            "init   \t [-3.85537566 11.69878188]. \t  -8.299317850233932 \t -5.211335324193094\n",
            "init   \t [ 1.57613847 10.85197767]. \t  -59.50408380701259 \t -5.211335324193094\n",
            "init   \t [9.66984268 8.07743806]. \t  -29.714921414987273 \t -5.211335324193094\n",
            "init   \t [2.51680695 1.080767  ]. \t  -5.211335324193094 \t -5.211335324193094\n",
            "init   \t [-0.9734153   7.49823751]. \t  -15.431057204948033 \t -5.211335324193094\n",
            "1      \t [-4.97859679  1.38393519]. \t  -260.3293952774437 \t -5.211335324193094\n",
            "2      \t [ 7.42679792 14.12713902]. \t  -178.37635728719692 \t -5.211335324193094\n",
            "3      \t [8.08940775 0.35854539]. \t  -9.249625108410735 \t -5.211335324193094\n",
            "4      \t [-3.39684884  5.54228873]. \t  -54.79871094423047 \t -5.211335324193094\n",
            "5      \t [4.51732395 5.9162821 ]. \t  -28.11667541280732 \t -5.211335324193094\n",
            "6      \t [-0.88572207 15.        ]. \t  -72.16042862566053 \t -5.211335324193094\n",
            "7      \t [10.          3.80987848]. \t  \u001b[92m-2.5942635698622443\u001b[0m \t -2.5942635698622443\n",
            "8      \t [-0.72252958  0.        ]. \t  -69.29348989210371 \t -2.5942635698622443\n",
            "9      \t [5.84045347 9.85064336]. \t  -95.0536844126451 \t -2.5942635698622443\n",
            "10     \t [-5. 15.]. \t  -17.508299515778166 \t -2.5942635698622443\n",
            "11     \t [0.78912381 4.13023916]. \t  -17.246395806071483 \t -2.5942635698622443\n",
            "12     \t [ 3.21225964 15.        ]. \t  -163.73658315175996 \t -2.5942635698622443\n",
            "13     \t [5.50144635 2.38029264]. \t  -18.318157179074998 \t -2.5942635698622443\n",
            "14     \t [-5.          8.85128993]. \t  -82.21381860091353 \t -2.5942635698622443\n",
            "15     \t [10.         11.37766485]. \t  -72.07887885939888 \t -2.5942635698622443\n",
            "16     \t [2.02350144 7.80620327]. \t  -26.029814634585968 \t -2.5942635698622443\n",
            "17     \t [7.82568216 5.04472535]. \t  -23.147293202875055 \t -2.5942635698622443\n",
            "18     \t [10.          1.89642208]. \t  -3.1675593164002214 \t -2.5942635698622443\n",
            "19     \t [-1.66598579 10.49684295]. \t  -11.297908694971014 \t -2.5942635698622443\n",
            "20     \t [4.56570536 0.        ]. \t  -10.631164811429883 \t -2.5942635698622443\n"
          ]
        }
      ]
    },
    {
      "cell_type": "code",
      "metadata": {
        "colab": {
          "base_uri": "https://localhost:8080/"
        },
        "id": "4unvifF-GCXp",
        "outputId": "f53fcf54-6548-45c6-9777-dc4ca8e563d9"
      },
      "source": [
        "### ESTIMATED GP EI GRADIENTS\n",
        "\n",
        "np.random.seed(run_num_8)\n",
        "surrogate_approx_8 = GaussianProcess(cov_func, optimize=opt)\n",
        "\n",
        "approx_8 = GPGO_multi(surrogate_approx_8, Acquisition(util_grad_approx), objfunc, param)\n",
        "approx_8.run(init_evals=n_init, max_iter=iters)\n"
      ],
      "execution_count": 20,
      "outputs": [
        {
          "output_type": "stream",
          "name": "stdout",
          "text": [
            "Evaluation \t Proposed point \t  Current eval. \t Best eval.\n",
            "init   \t [ 8.10144104 14.52810994]. \t  -175.17297136347514 \t -15.416245468470875\n",
            "init   \t [8.0379181  7.96283537]. \t  -49.32173799887473 \t -15.416245468470875\n",
            "init   \t [-1.50907508  0.17098206]. \t  -83.26753461673219 \t -15.416245468470875\n",
            "init   \t [1.45703227 6.0352704 ]. \t  -15.416245468470875 \t -15.416245468470875\n",
            "init   \t [2.84012007 7.17587694]. \t  -22.49093277852639 \t -15.416245468470875\n",
            "1      \t [9.77124156 0.43098073]. \t  \u001b[92m-6.499298445992174\u001b[0m \t -6.499298445992174\n",
            "2      \t [-4.87537438 11.82874897]. \t  -36.57081146531108 \t -6.499298445992174\n",
            "3      \t [ 1.38217397 12.68390036]. \t  -86.39656029252868 \t -6.499298445992174\n",
            "4      \t [-5.          4.93391962]. \t  -162.87055456893222 \t -6.499298445992174\n",
            "5      \t [4.40861409 1.05852811]. \t  -7.31765987324756 \t -6.499298445992174\n",
            "6      \t [-1.71652812  8.75489851]. \t  -8.733549018250445 \t -6.499298445992174\n",
            "7      \t [7.44443989 3.63168661]. \t  -19.208249510441597 \t -6.499298445992174\n",
            "8      \t [-2.31794502 15.        ]. \t  -24.78958580784696 \t -6.499298445992174\n",
            "9      \t [ 5.24257774 10.95530008]. \t  -109.8896742427036 \t -6.499298445992174\n",
            "10     \t [1.57901955 2.64184387]. \t  -11.283313653134268 \t -6.499298445992174\n",
            "11     \t [10.        11.0120659]. \t  -66.0889723689221 \t -6.499298445992174\n",
            "12     \t [-5.          0.69200778]. \t  -284.8203972380875 \t -6.499298445992174\n",
            "13     \t [ 4.19622142 15.        ]. \t  -184.92212385135292 \t -6.499298445992174\n",
            "14     \t [-1.21462196  4.20473349]. \t  -28.70660955178697 \t -6.499298445992174\n",
            "15     \t [7.00733395 0.        ]. \t  -18.61058358514861 \t -6.499298445992174\n",
            "16     \t [10.          5.12129095]. \t  \u001b[92m-6.430481065286029\u001b[0m \t -6.430481065286029\n",
            "17     \t [4.36260095 4.23898371]. \t  -14.127377104351561 \t -6.430481065286029\n",
            "18     \t [-5.          8.61786581]. \t  -86.15998499007505 \t -6.430481065286029\n",
            "19     \t [2.07728776 0.        ]. \t  -15.913117090369397 \t -6.430481065286029\n",
            "20     \t [-1.77438947 11.476213  ]. \t  -13.100609701326478 \t -6.430481065286029\n"
          ]
        }
      ]
    },
    {
      "cell_type": "code",
      "metadata": {
        "colab": {
          "base_uri": "https://localhost:8080/"
        },
        "id": "85OIXcg7GCaJ",
        "outputId": "b93734eb-15b4-48f6-d207-abd2ce0b69ea"
      },
      "source": [
        "### ESTIMATED GP EI GRADIENTS\n",
        "\n",
        "np.random.seed(run_num_9)\n",
        "surrogate_approx_9 = GaussianProcess(cov_func, optimize=opt)\n",
        "\n",
        "approx_9 = GPGO_multi(surrogate_approx_9, Acquisition(util_grad_approx), objfunc, param)\n",
        "approx_9.run(init_evals=n_init, max_iter=iters)\n"
      ],
      "execution_count": 21,
      "outputs": [
        {
          "output_type": "stream",
          "name": "stdout",
          "text": [
            "Evaluation \t Proposed point \t  Current eval. \t Best eval.\n",
            "init   \t [-4.84438769  7.52811888]. \t  -96.15564306553264 \t -3.4640248583909496\n",
            "init   \t [2.4365994  2.00744293]. \t  -3.4640248583909496 \t -3.4640248583909496\n",
            "init   \t [-2.86833372  3.27838013]. \t  -70.46930174488207 \t -3.4640248583909496\n",
            "init   \t [1.27762271 3.72151753]. \t  -12.982825924833865 \t -3.4640248583909496\n",
            "init   \t [-3.73910523  5.1824796 ]. \t  -75.58547400560856 \t -3.4640248583909496\n",
            "1      \t [ 7.05609655 14.75038872]. \t  -200.4388688685465 \t -3.4640248583909496\n",
            "2      \t [-0.46054038 14.56197292]. \t  -79.4666617606301 \t -3.4640248583909496\n",
            "3      \t [8.28747407 1.2035024 ]. \t  -6.196385269800155 \t -3.4640248583909496\n",
            "4      \t [7.59766367 8.71517487]. \t  -66.45862359135464 \t -3.4640248583909496\n",
            "5      \t [1.7566144  9.14390932]. \t  -38.92895201137776 \t -3.4640248583909496\n",
            "6      \t [-5.         12.67604545]. \t  -33.075714196778804 \t -3.4640248583909496\n",
            "7      \t [5.6715956  4.46939079]. \t  -29.020791324624987 \t -3.4640248583909496\n",
            "8      \t [10.          4.83921666]. \t  -5.314991639338838 \t -3.4640248583909496\n",
            "9      \t [-0.29843966  0.        ]. \t  -61.252184441412865 \t -3.4640248583909496\n",
            "10     \t [4.94290649 0.        ]. \t  -13.85645068315192 \t -3.4640248583909496\n",
            "11     \t [-5.  0.]. \t  -308.12909601160663 \t -3.4640248583909496\n",
            "12     \t [ 3.28041318 12.7405342 ]. \t  -112.2427528096596 \t -3.4640248583909496\n",
            "13     \t [-1.8331209  10.47599391]. \t  -8.77416916468159 \t -3.4640248583909496\n",
            "14     \t [10.         11.79676827]. \t  -79.27426430618615 \t -3.4640248583909496\n",
            "15     \t [-0.38238805  6.54075384]. \t  -18.916132946354676 \t -3.4640248583909496\n",
            "16     \t [3.14021008 6.24893701]. \t  -16.181501621054935 \t -3.4640248583909496\n",
            "17     \t [-3.69765711 15.        ]. \t  -3.6635397920321813 \t -3.4640248583909496\n",
            "18     \t [4.66715829 9.53562441]. \t  -75.98333718906987 \t -3.4640248583909496\n",
            "19     \t [10.          2.49597929]. \t  \u001b[92m-2.2001666642315953\u001b[0m \t -2.2001666642315953\n",
            "20     \t [10.  0.]. \t  -10.960889035651505 \t -2.2001666642315953\n"
          ]
        }
      ]
    },
    {
      "cell_type": "code",
      "metadata": {
        "colab": {
          "base_uri": "https://localhost:8080/"
        },
        "id": "QQBR-qJPGCcp",
        "outputId": "b4ac4936-b651-4f47-a89c-fa6d92923a1d"
      },
      "source": [
        "### ESTIMATED GP EI GRADIENTS\n",
        "\n",
        "np.random.seed(run_num_10)\n",
        "surrogate_approx_10 = GaussianProcess(cov_func, optimize=opt)\n",
        "\n",
        "approx_10 = GPGO_multi(surrogate_approx_10, Acquisition(util_grad_approx), objfunc, param)\n",
        "approx_10.run(init_evals=n_init, max_iter=iters)\n"
      ],
      "execution_count": 22,
      "outputs": [
        {
          "output_type": "stream",
          "name": "stdout",
          "text": [
            "Evaluation \t Proposed point \t  Current eval. \t Best eval.\n",
            "init   \t [6.56980965 0.31127924]. \t  -19.863985024602144 \t -2.710610964564512\n",
            "init   \t [ 4.50472352 11.23205824]. \t  -103.66999147252169 \t -2.710610964564512\n",
            "init   \t [2.47760518 3.37194968]. \t  -2.710610964564512 \t -2.710610964564512\n",
            "init   \t [-2.02905703 11.40796068]. \t  -8.463930835255017 \t -2.710610964564512\n",
            "init   \t [-2.46333745  1.32509721]. \t  -90.49481266026973 \t -2.710610964564512\n",
            "1      \t [ 9.16391068 14.81438212]. \t  -158.2412724465548 \t -2.710610964564512\n",
            "2      \t [9.65621089 6.61160737]. \t  -16.1339423373336 \t -2.710610964564512\n",
            "3      \t [-3.43070383  6.59407857]. \t  -41.58407101130534 \t -2.710610964564512\n",
            "4      \t [ 1.02035341 14.99535798]. \t  -124.9536450431274 \t -2.710610964564512\n",
            "5      \t [-5. 15.]. \t  -17.508299515778166 \t -2.710610964564512\n",
            "6      \t [1.30780413 7.43219275]. \t  -23.337991150801543 \t -2.710610964564512\n",
            "7      \t [5.49093003 5.8404457 ]. \t  -38.68828157439221 \t -2.710610964564512\n",
            "8      \t [10.          2.46597651]. \t  \u001b[92m-2.23148828106918\u001b[0m \t -2.23148828106918\n",
            "9      \t [2.04111591 0.        ]. \t  -16.47049972458244 \t -2.23148828106918\n",
            "10     \t [10.         10.45460013]. \t  -57.47013195391853 \t -2.23148828106918\n",
            "11     \t [-5.          9.91014587]. \t  -65.68159999944558 \t -2.23148828106918\n",
            "12     \t [ 5.10264405 15.        ]. \t  -202.92268027993546 \t -2.23148828106918\n",
            "13     \t [10.  0.]. \t  -10.960889035651505 \t -2.23148828106918\n",
            "14     \t [7.93015003 3.43719981]. \t  -13.011090692265029 \t -2.23148828106918\n",
            "15     \t [-0.21638471  4.37601694]. \t  -23.276521036541638 \t -2.23148828106918\n",
            "16     \t [ 0.78087652 10.84442341]. \t  -52.92187433055617 \t -2.23148828106918\n",
            "17     \t [-5.          3.69163643]. \t  -194.85830783686447 \t -2.23148828106918\n",
            "18     \t [7.08419189 8.68904064]. \t  -72.64315666311924 \t -2.23148828106918\n",
            "19     \t [4.46434633 2.5073014 ]. \t  -8.719709207848426 \t -2.23148828106918\n",
            "20     \t [-2.37366414 14.07664118]. \t  -15.844574911670152 \t -2.23148828106918\n"
          ]
        }
      ]
    },
    {
      "cell_type": "code",
      "metadata": {
        "colab": {
          "base_uri": "https://localhost:8080/"
        },
        "id": "JS8ejeQ2GCfi",
        "outputId": "25aa452a-9529-4592-ca90-03b5b87cf25b"
      },
      "source": [
        "### ESTIMATED GP EI GRADIENTS\n",
        "\n",
        "np.random.seed(run_num_11)\n",
        "surrogate_approx_11 = GaussianProcess(cov_func, optimize=opt)\n",
        "\n",
        "approx_11 = GPGO_multi(surrogate_approx_11, Acquisition(util_grad_approx), objfunc, param)\n",
        "approx_11.run(init_evals=n_init, max_iter=iters)\n"
      ],
      "execution_count": 23,
      "outputs": [
        {
          "output_type": "stream",
          "name": "stdout",
          "text": [
            "Evaluation \t Proposed point \t  Current eval. \t Best eval.\n",
            "init   \t [-2.29595467  0.29212862]. \t  -104.49282729548965 \t -22.37435843952312\n",
            "init   \t [ 1.9482779  10.87400894]. \t  -62.47758067812407 \t -22.37435843952312\n",
            "init   \t [1.30305407 7.28140647]. \t  -22.37435843952312 \t -22.37435843952312\n",
            "init   \t [-4.80828778  7.31057411]. \t  -97.94503054415523 \t -22.37435843952312\n",
            "init   \t [ 9.12709979 12.76192634]. \t  -111.62900800771942 \t -22.37435843952312\n",
            "1      \t [6.94653631 0.95529646]. \t  \u001b[92m-17.615403152614682\u001b[0m \t -17.615403152614682\n",
            "2      \t [9.97678471 6.82121545]. \t  \u001b[92m-16.579038540907792\u001b[0m \t -16.579038540907792\n",
            "3      \t [-5. 15.]. \t  -17.508299515778166 \t -16.579038540907792\n",
            "4      \t [2.40801211 2.48954713]. \t  \u001b[92m-3.0501065715386115\u001b[0m \t -3.0501065715386115\n",
            "5      \t [ 4.54062764 15.        ]. \t  -192.31915583371392 \t -3.0501065715386115\n",
            "6      \t [5.60829222 5.53295914]. \t  -36.81838224630954 \t -3.0501065715386115\n",
            "7      \t [-0.54301464 15.        ]. \t  -83.79320939352202 \t -3.0501065715386115\n",
            "8      \t [-2.80957204 11.22736755]. \t  \u001b[92m-0.9919692605755888\u001b[0m \t -0.9919692605755888\n",
            "9      \t [6.09869871 9.61837603]. \t  -92.02704121635836 \t -0.9919692605755888\n",
            "10     \t [-1.43282003  4.48387976]. \t  -27.818367537838043 \t -0.9919692605755888\n",
            "11     \t [10.          2.99580232]. \t  -1.9431918466601736 \t -0.9919692605755888\n",
            "12     \t [-5.          3.20441038]. \t  -208.2466329673194 \t -0.9919692605755888\n",
            "13     \t [-5.         11.41906753]. \t  -45.99695297915527 \t -0.9919692605755888\n",
            "14     \t [-1.76668661 10.91122817]. \t  -11.008312850300312 \t -0.9919692605755888\n",
            "15     \t [1.90746758 0.        ]. \t  -18.621701253425066 \t -0.9919692605755888\n",
            "16     \t [8.39618968 3.9397043 ]. \t  -9.865975224172962 \t -0.9919692605755888\n",
            "17     \t [2.32167384 4.453647  ]. \t  -5.558070782615733 \t -0.9919692605755888\n",
            "18     \t [10.  0.]. \t  -10.960889035651505 \t -0.9919692605755888\n",
            "19     \t [4.43286042 2.32460477]. \t  -8.058392358183625 \t -0.9919692605755888\n",
            "20     \t [-1.46950375  8.12551623]. \t  -11.213258608561906 \t -0.9919692605755888\n"
          ]
        }
      ]
    },
    {
      "cell_type": "code",
      "metadata": {
        "colab": {
          "base_uri": "https://localhost:8080/"
        },
        "id": "DXwjUVZ4GCii",
        "outputId": "a4732da2-f63d-48d4-a102-7f0f28c0fa9d"
      },
      "source": [
        "### ESTIMATED GP EI GRADIENTS\n",
        "\n",
        "np.random.seed(run_num_12)\n",
        "surrogate_approx_12 = GaussianProcess(cov_func, optimize=opt)\n",
        "\n",
        "approx_12 = GPGO_multi(surrogate_approx_12, Acquisition(util_grad_approx), objfunc, param)\n",
        "approx_12.run(init_evals=n_init, max_iter=iters)\n"
      ],
      "execution_count": 24,
      "outputs": [
        {
          "output_type": "stream",
          "name": "stdout",
          "text": [
            "Evaluation \t Proposed point \t  Current eval. \t Best eval.\n",
            "init   \t [-2.68755736 11.10074545]. \t  -1.3827702760021356 \t -0.5499315281120278\n",
            "init   \t [-1.05027477  8.0060909 ]. \t  -14.81231853080056 \t -0.5499315281120278\n",
            "init   \t [-4.78137556 13.78120512]. \t  -18.401131000214548 \t -0.5499315281120278\n",
            "init   \t [8.51072281 0.50132141]. \t  -5.855172364344769 \t -0.5499315281120278\n",
            "init   \t [9.35424004 2.05813982]. \t  -0.5499315281120278 \t -0.5499315281120278\n",
            "1      \t [10.          4.42358818]. \t  -3.961334736212157 \t -0.5499315281120278\n",
            "2      \t [ 8.50155249 13.79797306]. \t  -148.00655208378976 \t -0.5499315281120278\n",
            "3      \t [-4.8799499   0.15657603]. \t  -290.0404981832191 \t -0.5499315281120278\n",
            "4      \t [5.8072579  8.50643036]. \t  -73.18138418395506 \t -0.5499315281120278\n",
            "5      \t [3.15872501 0.57007156]. \t  -3.260825771053282 \t -0.5499315281120278\n",
            "6      \t [ 2.09353067 13.04151801]. \t  -101.38880726759464 \t -0.5499315281120278\n",
            "7      \t [-0.39744325  3.26093038]. \t  -30.35950541795291 \t -0.5499315281120278\n",
            "8      \t [-5.          5.57848034]. \t  -147.48984060634893 \t -0.5499315281120278\n",
            "9      \t [5.63198685 3.75744495]. \t  -24.519298598627884 \t -0.5499315281120278\n",
            "10     \t [10.          9.22666604]. \t  -40.677699778169675 \t -0.5499315281120278\n",
            "11     \t [2.33251288 6.17945927]. \t  -13.542206905535906 \t -0.5499315281120278\n",
            "12     \t [-5.          9.81774711]. \t  -67.0349486197907 \t -0.5499315281120278\n",
            "13     \t [0.04234022 0.        ]. \t  -54.79215724554823 \t -0.5499315281120278\n",
            "14     \t [-1.4283399 15.       ]. \t  -53.13582776486919 \t -0.5499315281120278\n",
            "15     \t [5.68855219 0.        ]. \t  -19.223515717241582 \t -0.5499315281120278\n",
            "16     \t [1.99808814 9.3338612 ]. \t  -41.9988146212019 \t -0.5499315281120278\n",
            "17     \t [ 5.02533731 15.        ]. \t  -201.62410422751245 \t -0.5499315281120278\n",
            "18     \t [-1.2603732  11.29154336]. \t  -22.421831199880668 \t -0.5499315281120278\n",
            "19     \t [2.7128942  2.89308671]. \t  -1.3344166245316877 \t -0.5499315281120278\n",
            "20     \t [8.27249693 6.00242761]. \t  -24.82817173445969 \t -0.5499315281120278\n"
          ]
        }
      ]
    },
    {
      "cell_type": "code",
      "metadata": {
        "colab": {
          "base_uri": "https://localhost:8080/"
        },
        "id": "CphOPndPGClX",
        "outputId": "3e7857a9-b26e-4358-ba57-6129c4dc96ed"
      },
      "source": [
        "### ESTIMATED GP EI GRADIENTS\n",
        "\n",
        "np.random.seed(run_num_13)\n",
        "surrogate_approx_13 = GaussianProcess(cov_func, optimize=opt)\n",
        "\n",
        "approx_13 = GPGO_multi(surrogate_approx_13, Acquisition(util_grad_approx), objfunc, param)\n",
        "approx_13.run(init_evals=n_init, max_iter=iters)\n"
      ],
      "execution_count": 25,
      "outputs": [
        {
          "output_type": "stream",
          "name": "stdout",
          "text": [
            "Evaluation \t Proposed point \t  Current eval. \t Best eval.\n",
            "init   \t [6.66553616 3.5631183 ]. \t  -24.823670200298267 \t -18.038943061558626\n",
            "init   \t [ 7.36417799 14.48623797]. \t  -188.7803334745195 \t -18.038943061558626\n",
            "init   \t [9.58901671 6.80173871]. \t  -18.038943061558626 \t -18.038943061558626\n",
            "init   \t [ 4.13563694 11.63289772]. \t  -104.87319703906111 \t -18.038943061558626\n",
            "init   \t [ 4.62420017 10.83027344]. \t  -98.03271225790056 \t -18.038943061558626\n",
            "1      \t [-5.         10.55852118]. \t  -56.66525878591628 \t -18.038943061558626\n",
            "2      \t [-3.36042638  1.3238031 ]. \t  -132.49290788011677 \t -18.038943061558626\n",
            "3      \t [-0.52648707  6.71273475]. \t  -18.32769423211562 \t -18.038943061558626\n",
            "4      \t [-0.84237398 15.        ]. \t  -73.66141212210243 \t -18.038943061558626\n",
            "5      \t [2.39892838 0.        ]. \t  \u001b[92m-11.484530246287337\u001b[0m \t -11.484530246287337\n",
            "6      \t [10.  0.]. \t  \u001b[92m-10.960889035651505\u001b[0m \t -10.960889035651505\n",
            "7      \t [-5.          5.87336011]. \t  -140.7303471731284 \t -10.960889035651505\n",
            "8      \t [3.59356942 6.3924972 ]. \t  -21.10752835269477 \t -10.960889035651505\n",
            "9      \t [10.         10.78931739]. \t  -62.570554975701306 \t -10.960889035651505\n",
            "10     \t [-5. 15.]. \t  -17.508299515778166 \t -10.960889035651505\n",
            "11     \t [-0.38528093 10.68209914]. \t  -35.29851581317916 \t -10.960889035651505\n",
            "12     \t [0.81263384 3.21512953]. \t  -19.088705296254446 \t -10.960889035651505\n",
            "13     \t [10.          3.30729219]. \t  \u001b[92m-2.0357608101041436\u001b[0m \t -2.0357608101041436\n",
            "14     \t [6.11358924 0.        ]. \t  -20.6706522587235 \t -2.0357608101041436\n",
            "15     \t [ 2.94677981 15.        ]. \t  -158.53843382519295 \t -2.0357608101041436\n",
            "16     \t [6.62348196 7.74027804]. \t  -62.80291459865176 \t -2.0357608101041436\n",
            "17     \t [3.75897247 2.69997631]. \t  -2.9052578131781983 \t -2.0357608101041436\n",
            "18     \t [1.85104494 8.6181431 ]. \t  -33.57426982266342 \t -2.0357608101041436\n",
            "19     \t [-2.59857192  8.50594766]. \t  -8.039820570667244 \t -2.0357608101041436\n",
            "20     \t [-0.18224643  0.        ]. \t  -59.06187019533053 \t -2.0357608101041436\n"
          ]
        }
      ]
    },
    {
      "cell_type": "code",
      "metadata": {
        "colab": {
          "base_uri": "https://localhost:8080/"
        },
        "id": "ojHTeARNGCoi",
        "outputId": "62083553-3fad-4eff-908d-fa7938f148d3"
      },
      "source": [
        "### ESTIMATED GP EI GRADIENTS\n",
        "\n",
        "np.random.seed(run_num_14)\n",
        "surrogate_approx_14 = GaussianProcess(cov_func, optimize=opt)\n",
        "\n",
        "approx_14 = GPGO_multi(surrogate_approx_14, Acquisition(util_grad_approx), objfunc, param)\n",
        "approx_14.run(init_evals=n_init, max_iter=iters)\n"
      ],
      "execution_count": 26,
      "outputs": [
        {
          "output_type": "stream",
          "name": "stdout",
          "text": [
            "Evaluation \t Proposed point \t  Current eval. \t Best eval.\n",
            "init   \t [ 2.70915016 11.59747578]. \t  -81.58264375064097 \t -1.4149920024014744\n",
            "init   \t [8.05641529 0.12070423]. \t  -10.148649076616518 \t -1.4149920024014744\n",
            "init   \t [-0.35396112 14.36405609]. \t  -79.6056658956529 \t -1.4149920024014744\n",
            "init   \t [2.69675068 4.77426637]. \t  -5.855607664288365 \t -1.4149920024014744\n",
            "init   \t [3.08799906 3.31882414]. \t  -1.4149920024014744 \t -1.4149920024014744\n",
            "1      \t [10.          6.86255647]. \t  -16.839651757136487 \t -1.4149920024014744\n",
            "2      \t [-3.61083748  7.85924032]. \t  -32.481990179851884 \t -1.4149920024014744\n",
            "3      \t [-2.06062727  2.20289552]. \t  -63.62665246304455 \t -1.4149920024014744\n",
            "4      \t [10.         14.30978652]. \t  -129.78754336484576 \t -1.4149920024014744\n",
            "5      \t [5.68710915 7.81775739]. \t  -62.71339741866437 \t -1.4149920024014744\n",
            "6      \t [-5. 15.]. \t  -17.508299515778166 \t -1.4149920024014744\n",
            "7      \t [2.4230891 0.       ]. \t  -11.193346353138086 \t -1.4149920024014744\n",
            "8      \t [ 5.46109152 15.        ]. \t  -208.05010351552272 \t -1.4149920024014744\n",
            "9      \t [6.73891458 3.65971378]. \t  -24.964347843194034 \t -1.4149920024014744\n",
            "10     \t [0.53278323 7.76044679]. \t  -24.885011059407734 \t -1.4149920024014744\n",
            "11     \t [-5.         11.37680463]. \t  -46.48630861291074 \t -1.4149920024014744\n",
            "12     \t [ 8.84039168 10.36390749]. \t  -71.50912910918882 \t -1.4149920024014744\n",
            "13     \t [-5.  0.]. \t  -308.12909601160663 \t -1.4149920024014744\n",
            "14     \t [10.          2.87830902]. \t  -1.958677683822284 \t -1.4149920024014744\n",
            "15     \t [-1.30630886 10.71727903]. \t  -18.355782513216262 \t -1.4149920024014744\n",
            "16     \t [5.25603137 0.        ]. \t  -16.415410283882636 \t -1.4149920024014744\n",
            "17     \t [-5.          4.54945726]. \t  -172.44033902924025 \t -1.4149920024014744\n",
            "18     \t [0.06053724 4.73122197]. \t  -20.960225819306004 \t -1.4149920024014744\n",
            "19     \t [3.77680026 2.50473297]. \t  -2.7236969186147366 \t -1.4149920024014744\n",
            "20     \t [-0.00736635  0.        ]. \t  -55.74276071117978 \t -1.4149920024014744\n"
          ]
        }
      ]
    },
    {
      "cell_type": "code",
      "metadata": {
        "colab": {
          "base_uri": "https://localhost:8080/"
        },
        "id": "vCJzn4vWGCs3",
        "outputId": "c22d5b2d-e17c-4be5-f2e6-9cfc87a3dc80"
      },
      "source": [
        "### ESTIMATED GP EI GRADIENTS\n",
        "\n",
        "np.random.seed(run_num_15)\n",
        "surrogate_approx_15 = GaussianProcess(cov_func, optimize=opt)\n",
        "\n",
        "approx_15 = GPGO_multi(surrogate_approx_15, Acquisition(util_grad_approx), objfunc, param)\n",
        "approx_15.run(init_evals=n_init, max_iter=iters)\n"
      ],
      "execution_count": 27,
      "outputs": [
        {
          "output_type": "stream",
          "name": "stdout",
          "text": [
            "Evaluation \t Proposed point \t  Current eval. \t Best eval.\n",
            "init   \t [7.73226546 2.68343887]. \t  -12.768724532005583 \t -12.768724532005583\n",
            "init   \t [-4.18455179  5.42307669]. \t  -95.39334176626551 \t -12.768724532005583\n",
            "init   \t [-0.86898607  7.95000337]. \t  -16.419487782111716 \t -12.768724532005583\n",
            "init   \t [-0.41121626  4.56711539]. \t  -23.250362743740954 \t -12.768724532005583\n",
            "init   \t [-3.32388086  3.74848521]. \t  -80.99796277938532 \t -12.768724532005583\n",
            "1      \t [ 6.5655417  11.87699252]. \t  -134.95011349993544 \t -12.768724532005583\n",
            "2      \t [-4.77493765 13.49591113]. \t  -19.896906503438096 \t -12.768724532005583\n",
            "3      \t [ 0.69524818 15.        ]. \t  -118.25691317432663 \t -12.768724532005583\n",
            "4      \t [2.88475658 0.        ]. \t  \u001b[92m-6.88220071543949\u001b[0m \t -6.88220071543949\n",
            "5      \t [10.         7.3920589]. \t  -21.207359576336543 \t -6.88220071543949\n",
            "6      \t [4.43909426 6.68421057]. \t  -34.48574674031204 \t -6.88220071543949\n",
            "7      \t [-1.06518659  0.        ]. \t  -76.1456649953298 \t -6.88220071543949\n",
            "8      \t [ 2.15318116 10.62407581]. \t  -60.251666032063625 \t -6.88220071543949\n",
            "9      \t [10. 15.]. \t  -145.87219087939556 \t -6.88220071543949\n",
            "10     \t [-5.         9.6212443]. \t  -69.96986122222773 \t -6.88220071543949\n",
            "11     \t [-5.  0.]. \t  -308.12909601160663 \t -6.88220071543949\n",
            "12     \t [10.  0.]. \t  -10.960889035651505 \t -6.88220071543949\n",
            "13     \t [3.82100809 3.03698468]. \t  \u001b[92m-4.0484498586885875\u001b[0m \t -4.0484498586885875\n",
            "14     \t [-1.6270931  11.63994509]. \t  -16.794816620204724 \t -4.0484498586885875\n",
            "15     \t [6.03791751 0.        ]. \t  -20.5246649356264 \t -4.0484498586885875\n",
            "16     \t [ 4.54915185 15.        ]. \t  -192.49636394727037 \t -4.0484498586885875\n",
            "17     \t [10.          4.23439667]. \t  \u001b[92m-3.4595853030673585\u001b[0m \t -3.4595853030673585\n",
            "18     \t [10.         10.71368933]. \t  -61.3985398872733 \t -3.4595853030673585\n",
            "19     \t [7.46276162 5.63408635]. \t  -32.296136729742145 \t -3.4595853030673585\n",
            "20     \t [1.61903732 2.35706548]. \t  -11.510386775646058 \t -3.4595853030673585\n"
          ]
        }
      ]
    },
    {
      "cell_type": "code",
      "metadata": {
        "colab": {
          "base_uri": "https://localhost:8080/"
        },
        "id": "bGGkhp-kGCw6",
        "outputId": "4312172b-0f36-4faf-c6c8-49576e21649d"
      },
      "source": [
        "### ESTIMATED GP EI GRADIENTS\n",
        "\n",
        "np.random.seed(run_num_16)\n",
        "surrogate_approx_16 = GaussianProcess(cov_func, optimize=opt)\n",
        "\n",
        "approx_16 = GPGO_multi(surrogate_approx_16, Acquisition(util_grad_approx), objfunc, param)\n",
        "approx_16.run(init_evals=n_init, max_iter=iters)\n"
      ],
      "execution_count": 28,
      "outputs": [
        {
          "output_type": "stream",
          "name": "stdout",
          "text": [
            "Evaluation \t Proposed point \t  Current eval. \t Best eval.\n",
            "init   \t [-1.65063381  7.84745012]. \t  -10.514702126319445 \t -2.715864006988424\n",
            "init   \t [3.26052185 0.68402925]. \t  -2.715864006988424 \t -2.715864006988424\n",
            "init   \t [0.41093253 3.34621413]. \t  -22.889515127492515 \t -2.715864006988424\n",
            "init   \t [5.33089243 2.45597138]. \t  -17.178157611778595 \t -2.715864006988424\n",
            "init   \t [-3.945127  14.1151629]. \t  -3.3649224341694195 \t -2.715864006988424\n",
            "1      \t [ 5.63879248 14.58068289]. \t  -198.51319639462758 \t -2.715864006988424\n",
            "2      \t [9.4202829  9.76772141]. \t  -53.637049482645274 \t -2.715864006988424\n",
            "3      \t [-4.02247103  0.        ]. \t  -213.91242864471565 \t -2.715864006988424\n",
            "4      \t [3.77207958 8.41836664]. \t  -45.58915671225536 \t -2.715864006988424\n",
            "5      \t [ 1.00000000e+01 -2.22044605e-16]. \t  -10.960889035651505 \t -2.715864006988424\n",
            "6      \t [ 0.46219838 12.61300877]. \t  -72.19198261942468 \t -2.715864006988424\n",
            "7      \t [10.          4.74011175]. \t  -4.9608486466292145 \t -2.715864006988424\n",
            "8      \t [-5.          5.03604707]. \t  -160.3781593316328 \t -2.715864006988424\n",
            "9      \t [-5.         10.31234595]. \t  -59.989572841993514 \t -2.715864006988424\n",
            "10     \t [6.95464417 6.05810918]. \t  -41.31732360611524 \t -2.715864006988424\n",
            "11     \t [10. 15.]. \t  -145.87219087939556 \t -2.715864006988424\n",
            "12     \t [0.29643197 0.        ]. \t  -49.870101416996356 \t -2.715864006988424\n",
            "13     \t [3.24239715 4.97256457]. \t  -8.146508954183364 \t -2.715864006988424\n",
            "14     \t [6.99162034 0.        ]. \t  -18.701546293256314 \t -2.715864006988424\n",
            "15     \t [ 6.12783696 10.8068899 ]. \t  -113.74567008071372 \t -2.715864006988424\n",
            "16     \t [8.64025416 2.71720057]. \t  -3.884069450230627 \t -2.715864006988424\n",
            "17     \t [-1.91499304 15.        ]. \t  -36.77325741301951 \t -2.715864006988424\n",
            "18     \t [0.82601358 6.62718736]. \t  -19.944581415487114 \t -2.715864006988424\n",
            "19     \t [-5. 15.]. \t  -17.508299515778166 \t -2.715864006988424\n",
            "20     \t [-1.79552218 10.38702443]. \t  -9.098784982486475 \t -2.715864006988424\n"
          ]
        }
      ]
    },
    {
      "cell_type": "code",
      "metadata": {
        "id": "Yrs2mp7hGC1Z",
        "colab": {
          "base_uri": "https://localhost:8080/"
        },
        "outputId": "bf366f11-42c9-41d8-8543-7a1548ad63cc"
      },
      "source": [
        "### ESTIMATED GP EI GRADIENTS\n",
        "\n",
        "np.random.seed(run_num_17)\n",
        "surrogate_approx_17 = GaussianProcess(cov_func, optimize=opt)\n",
        "\n",
        "approx_17 = GPGO_multi(surrogate_approx_17, Acquisition(util_grad_approx), objfunc, param)\n",
        "approx_17.run(init_evals=n_init, max_iter=iters)\n"
      ],
      "execution_count": 29,
      "outputs": [
        {
          "output_type": "stream",
          "name": "stdout",
          "text": [
            "Evaluation \t Proposed point \t  Current eval. \t Best eval.\n",
            "init   \t [-0.58002496  7.95880133]. \t  -19.016141117164256 \t -19.016141117164256\n",
            "init   \t [-2.1271882   1.01850537]. \t  -85.05949339404415 \t -19.016141117164256\n",
            "init   \t [6.8047819  9.84500283]. \t  -93.89792695202516 \t -19.016141117164256\n",
            "init   \t [4.56281344 8.63404341]. \t  -60.50217141122736 \t -19.016141117164256\n",
            "init   \t [-4.41405626  5.36720407]. \t  -110.70834086593878 \t -19.016141117164256\n",
            "1      \t [10.  0.]. \t  \u001b[92m-10.960889035651505\u001b[0m \t -10.960889035651505\n",
            "2      \t [-0.36591853 14.49945231]. \t  -81.3728947682288 \t -10.960889035651505\n",
            "3      \t [3.74599703 2.35814314]. \t  \u001b[92m-2.3563457989420957\u001b[0m \t -2.3563457989420957\n",
            "4      \t [10.         14.81387187]. \t  -141.4408601588553 \t -2.3563457989420957\n",
            "5      \t [-5.         11.26990773]. \t  -47.739996251407824 \t -2.3563457989420957\n",
            "6      \t [10.          5.24001572]. \t  -6.947574144884817 \t -2.3563457989420957\n",
            "7      \t [ 4.74573296 15.        ]. \t  -196.46731994136059 \t -2.3563457989420957\n",
            "8      \t [7.11000786 2.78590867]. \t  -18.97161975666843 \t -2.3563457989420957\n",
            "9      \t [0.97032165 4.2938956 ]. \t  -15.505848604291854 \t -2.3563457989420957\n",
            "10     \t [1.95188582 0.        ]. \t  -17.89130560446589 \t -2.3563457989420957\n",
            "11     \t [-5. 15.]. \t  -17.508299515778166 \t -2.3563457989420957\n",
            "12     \t [ 1.56721054 11.08024788]. \t  -62.70202937443364 \t -2.3563457989420957\n",
            "13     \t [4.44733903 4.98298084]. \t  -19.776852279375138 \t -2.3563457989420957\n",
            "14     \t [5.4815877 0.       ]. \t  -18.01863328342207 \t -2.3563457989420957\n",
            "15     \t [10.         10.96989067]. \t  -65.41517902593787 \t -2.3563457989420957\n",
            "16     \t [7.50152428 6.21292606]. \t  -37.15243197409138 \t -2.3563457989420957\n",
            "17     \t [-5.  0.]. \t  -308.12909601160663 \t -2.3563457989420957\n",
            "18     \t [-1.81177833 10.94983854]. \t  -10.405380930558756 \t -2.3563457989420957\n",
            "19     \t [10.          2.72938481]. \t  \u001b[92m-2.017982188807979\u001b[0m \t -2.017982188807979\n",
            "20     \t [-3.45320762  8.5838853 ]. \t  -20.685480433715554 \t -2.017982188807979\n"
          ]
        }
      ]
    },
    {
      "cell_type": "code",
      "metadata": {
        "id": "f0HIEP3PIUEa",
        "colab": {
          "base_uri": "https://localhost:8080/"
        },
        "outputId": "6a38d28c-1de5-4f58-d8f2-8bb8a87daa87"
      },
      "source": [
        "### ESTIMATED GP EI GRADIENTS\n",
        "\n",
        "np.random.seed(run_num_18)\n",
        "surrogate_approx_18 = GaussianProcess(cov_func, optimize=opt)\n",
        "\n",
        "approx_18 = GPGO_multi(surrogate_approx_18, Acquisition(util_grad_approx), objfunc, param)\n",
        "approx_18.run(init_evals=n_init, max_iter=iters)\n"
      ],
      "execution_count": 30,
      "outputs": [
        {
          "output_type": "stream",
          "name": "stdout",
          "text": [
            "Evaluation \t Proposed point \t  Current eval. \t Best eval.\n",
            "init   \t [4.75561363 7.58180061]. \t  -49.215059064668324 \t -8.150075223157177\n",
            "init   \t [8.17902206 2.72760338]. \t  -8.150075223157177 \t -8.150075223157177\n",
            "init   \t [ 7.78349603 11.25204429]. \t  -106.98107856533271 \t -8.150075223157177\n",
            "init   \t [ 4.99152501 14.81843172]. \t  -196.08601750690153 \t -8.150075223157177\n",
            "init   \t [-1.14547366  0.42458888]. \t  -71.23649635555944 \t -8.150075223157177\n",
            "1      \t [-4.83474958 11.77354131]. \t  -35.58412906267954 \t -8.150075223157177\n",
            "2      \t [-5.          4.86518366]. \t  -164.55978314469397 \t -8.150075223157177\n",
            "3      \t [ 0.50667591 11.06745993]. \t  -52.509448986258 \t -8.150075223157177\n",
            "4      \t [4.17705729 0.        ]. \t  \u001b[92m-7.680923760130492\u001b[0m \t -7.680923760130492\n",
            "5      \t [10. 15.]. \t  -145.87219087939556 \t -7.680923760130492\n",
            "6      \t [0.23184835 5.49205227]. \t  -19.366477269639255 \t -7.680923760130492\n",
            "7      \t [10.          6.76719321]. \t  -16.11261791544882 \t -7.680923760130492\n",
            "8      \t [-1.69773481 15.        ]. \t  -43.89739104961778 \t -7.680923760130492\n",
            "9      \t [3.85141889 3.55242562]. \t  \u001b[92m-5.8354395694187975\u001b[0m \t -5.8354395694187975\n",
            "10     \t [-2.55947426  8.41787089]. \t  -8.23903457964919 \t -5.8354395694187975\n",
            "11     \t [10.  0.]. \t  -10.960889035651505 \t -5.8354395694187975\n",
            "12     \t [-5.  0.]. \t  -308.12909601160663 \t -5.8354395694187975\n",
            "13     \t [7.12353431 5.20907592]. \t  -32.335424093011135 \t -5.8354395694187975\n",
            "14     \t [6.96449346 0.        ]. \t  -18.8547368376373 \t -5.8354395694187975\n",
            "15     \t [-5. 15.]. \t  -17.508299515778166 \t -5.8354395694187975\n",
            "16     \t [ 3.974917  11.0138193]. \t  -90.01448844881465 \t -5.8354395694187975\n",
            "17     \t [1.7703363  2.20552398]. \t  -10.005984171201767 \t -5.8354395694187975\n",
            "18     \t [ 1.40531532 15.        ]. \t  -132.17508659789402 \t -5.8354395694187975\n",
            "19     \t [1.47080208 8.00333856]. \t  -27.480613176215318 \t -5.8354395694187975\n",
            "20     \t [-5.          8.58001316]. \t  -86.81017392281419 \t -5.8354395694187975\n"
          ]
        }
      ]
    },
    {
      "cell_type": "code",
      "metadata": {
        "id": "S3mxRQDLIUPC",
        "colab": {
          "base_uri": "https://localhost:8080/"
        },
        "outputId": "4155ef73-c4a1-4b1b-e54c-2791fa30a54d"
      },
      "source": [
        "### ESTIMATED GP EI GRADIENTS\n",
        "\n",
        "np.random.seed(run_num_19)\n",
        "surrogate_approx_19 = GaussianProcess(cov_func, optimize=opt)\n",
        "\n",
        "approx_19 = GPGO_multi(surrogate_approx_19, Acquisition(util_grad_approx), objfunc, param)\n",
        "approx_19.run(init_evals=n_init, max_iter=iters)\n"
      ],
      "execution_count": 31,
      "outputs": [
        {
          "output_type": "stream",
          "name": "stdout",
          "text": [
            "Evaluation \t Proposed point \t  Current eval. \t Best eval.\n",
            "init   \t [-3.53699597 11.41874575]. \t  -4.475608269502271 \t -4.475608269502271\n",
            "init   \t [-1.2959304   2.07197531]. \t  -51.13947793770689 \t -4.475608269502271\n",
            "init   \t [-0.02830155  1.24499348]. \t  -42.63973921760034 \t -4.475608269502271\n",
            "init   \t [ 5.07965622 12.09890697]. \t  -131.17235664506808 \t -4.475608269502271\n",
            "init   \t [9.74112872 9.53491102]. \t  -46.84458913925112 \t -4.475608269502271\n",
            "1      \t [9.57054653 2.03489665]. \t  \u001b[92m-0.8198597583535783\u001b[0m \t -0.8198597583535783\n",
            "2      \t [4.35401896 5.06360915]. \t  -19.19366062523231 \t -0.8198597583535783\n",
            "3      \t [-5.          6.34840318]. \t  -130.20673857664974 \t -0.8198597583535783\n",
            "4      \t [ 0.06622148 15.        ]. \t  -102.47896367552877 \t -0.8198597583535783\n",
            "5      \t [10. 15.]. \t  -145.87219087939556 \t -0.8198597583535783\n",
            "6      \t [5.39346729 0.        ]. \t  -17.423927888691484 \t -0.8198597583535783\n",
            "7      \t [0.45839665 8.54581584]. \t  -29.161829014186026 \t -0.8198597583535783\n",
            "8      \t [-5. 15.]. \t  -17.508299515778166 \t -0.8198597583535783\n",
            "9      \t [-5.  0.]. \t  -308.12909601160663 \t -0.8198597583535783\n",
            "10     \t [8.73535044 5.22957413]. \t  -13.314689915056832 \t -0.8198597583535783\n",
            "11     \t [6.09819897 8.11131466]. \t  -68.61740391866735 \t -0.8198597583535783\n",
            "12     \t [10.  0.]. \t  -10.960889035651505 \t -0.8198597583535783\n",
            "13     \t [0.86127551 5.06000924]. \t  -16.36767820484465 \t -0.8198597583535783\n",
            "14     \t [7.43117069 2.43468525]. \t  -15.21213924721128 \t -0.8198597583535783\n",
            "15     \t [ 1.2988583  11.61309298]. \t  -68.26580759485162 \t -0.8198597583535783\n",
            "16     \t [3.17378422 2.14765356]. \t  \u001b[92m-0.41334297588299584\u001b[0m \t -0.41334297588299584\n",
            "17     \t [-2.65869995  9.17217061]. \t  -5.386381810135241 \t -0.41334297588299584\n",
            "18     \t [ 3.53308342 15.        ]. \t  -170.3976952194555 \t -0.41334297588299584\n",
            "19     \t [10.          2.81784242]. \t  -1.9774079249816658 \t -0.41334297588299584\n",
            "20     \t [2.6682561 0.       ]. \t  -8.598971182490764 \t -0.41334297588299584\n"
          ]
        }
      ]
    },
    {
      "cell_type": "code",
      "metadata": {
        "id": "Aawd59dRIUYn",
        "colab": {
          "base_uri": "https://localhost:8080/"
        },
        "outputId": "5197221a-c290-44ba-d0b1-a54bc0e48d69"
      },
      "source": [
        "### ESTIMATED GP EI GRADIENTS\n",
        "\n",
        "np.random.seed(run_num_20)\n",
        "surrogate_approx_20 = GaussianProcess(cov_func, optimize=opt)\n",
        "\n",
        "approx_20 = GPGO_multi(surrogate_approx_20, Acquisition(util_grad_approx), objfunc, param)\n",
        "approx_20.run(init_evals=n_init, max_iter=iters)\n"
      ],
      "execution_count": 32,
      "outputs": [
        {
          "output_type": "stream",
          "name": "stdout",
          "text": [
            "Evaluation \t Proposed point \t  Current eval. \t Best eval.\n",
            "init   \t [ 3.82196202 13.46570592]. \t  -138.5264349938869 \t -14.042667401507376\n",
            "init   \t [ 8.37296094 12.23756216]. \t  -115.63178540512689 \t -14.042667401507376\n",
            "init   \t [-4.46165622 10.37636373]. \t  -35.66708529307584 \t -14.042667401507376\n",
            "init   \t [0.68021413 7.77766418]. \t  -25.307769914281764 \t -14.042667401507376\n",
            "init   \t [4.86927198 2.90775327]. \t  -14.042667401507376 \t -14.042667401507376\n",
            "1      \t [-0.46336714  1.1335069 ]. \t  -50.30566093512107 \t -14.042667401507376\n",
            "2      \t [10.        6.031178]. \t  \u001b[92m-11.113265474397442\u001b[0m \t -11.113265474397442\n",
            "3      \t [9.66447631 0.        ]. \t  \u001b[92m-7.879562083249813\u001b[0m \t -7.879562083249813\n",
            "4      \t [-1.70983375 15.        ]. \t  -43.491518308141394 \t -7.879562083249813\n",
            "5      \t [-5.          4.71772268]. \t  -168.21560828128608 \t -7.879562083249813\n",
            "6      \t [5.56194688 7.80586336]. \t  -61.58827450860958 \t -7.879562083249813\n",
            "7      \t [-5.  0.]. \t  -308.12909601160663 \t -7.879562083249813\n",
            "8      \t [-0.18491755 11.40953429]. \t  -45.55880410354546 \t -7.879562083249813\n",
            "9      \t [3.27420104 0.        ]. \t  \u001b[92m-5.207839407943306\u001b[0m \t -5.207839407943306\n",
            "10     \t [1.69278508 4.33683336]. \t  -9.268214589044371 \t -5.207839407943306\n",
            "11     \t [8.38850347 3.04885137]. \t  -6.822519616540246 \t -5.207839407943306\n",
            "12     \t [6.49155168 0.        ]. \t  -20.631501040911697 \t -5.207839407943306\n",
            "13     \t [-5.         14.08835869]. \t  -22.327564641287964 \t -5.207839407943306\n",
            "14     \t [-1.21602747  4.92101364]. \t  -23.609996185518852 \t -5.207839407943306\n",
            "15     \t [-2.56929915  7.83378343]. \t  -11.588589529339739 \t -5.207839407943306\n",
            "16     \t [2.97326781 9.9443424 ]. \t  -57.300967813285105 \t -5.207839407943306\n",
            "17     \t [10.          8.95178411]. \t  -37.331689363025944 \t -5.207839407943306\n",
            "18     \t [7.11044148 5.00421811]. \t  -30.859793745759966 \t -5.207839407943306\n",
            "19     \t [3.51121145 5.5621287 ]. \t  -13.703810350211247 \t -5.207839407943306\n",
            "20     \t [10. 15.]. \t  -145.87219087939556 \t -5.207839407943306\n"
          ]
        }
      ]
    },
    {
      "cell_type": "code",
      "metadata": {
        "id": "xkgzPRbBTHaq",
        "colab": {
          "base_uri": "https://localhost:8080/"
        },
        "outputId": "90398f22-2144-44b8-af4f-ee10be945733"
      },
      "source": [
        "end_approx = time.time()\n",
        "end_approx\n",
        "\n",
        "time_approx = end_approx - start_approx\n",
        "time_approx\n",
        "\n",
        "start_exact = time.time()\n",
        "start_exact"
      ],
      "execution_count": 33,
      "outputs": [
        {
          "output_type": "execute_result",
          "data": {
            "text/plain": [
              "1631272670.6940982"
            ]
          },
          "metadata": {},
          "execution_count": 33
        }
      ]
    },
    {
      "cell_type": "code",
      "metadata": {
        "id": "7CG3Ndvb16Rb",
        "colab": {
          "base_uri": "https://localhost:8080/"
        },
        "outputId": "89b263d3-c5f6-472b-d9c2-9949e80ca50b"
      },
      "source": [
        "### EXACT GP EI GRADIENTS\n",
        "\n",
        "np.random.seed(run_num_1)\n",
        "surrogate_exact_1 = dGaussianProcess(cov_func, optimize=opt)\n",
        "\n",
        "exact_1 = dGPGO(surrogate_exact_1, Acquisition_new(util_grad_exact), objfunc, param)\n",
        "exact_1.run(init_evals=n_init, max_iter=iters)\n"
      ],
      "execution_count": 34,
      "outputs": [
        {
          "output_type": "stream",
          "name": "stdout",
          "text": [
            "Evaluation \t Proposed point \t  Current eval. \t Best eval.\n",
            "init   \t [ 1.25533007 10.8048674 ]. \t  -56.52874004692151 \t -27.68166689936483\n",
            "init   \t [-4.99828438  4.53498859]. \t  -172.66531086516164 \t -27.68166689936483\n",
            "init   \t [-2.79866164  1.38507892]. \t  -102.58290348816024 \t -27.68166689936483\n",
            "init   \t [-2.20609683  5.18341091]. \t  -28.868064601155666 \t -27.68166689936483\n",
            "init   \t [0.95151211 8.08225101]. \t  -27.68166689936483 \t -27.68166689936483\n",
            "1      \t [8.41909995 1.27566317]. \t  \u001b[92m-5.089934878453152\u001b[0m \t -5.089934878453152\n",
            "2      \t [ 8.98893195 10.45227242]. \t  -70.52424256621515 \t -5.089934878453152\n",
            "3      \t [ 3.72038391 14.55029984]. \t  -162.83044205902752 \t -5.089934878453152\n",
            "4      \t [-4.67712792 14.21955317]. \t  -13.865244792739254 \t -5.089934878453152\n",
            "5      \t [4.42114297 4.28364423]. \t  -15.05485122373766 \t -5.089934878453152\n",
            "6      \t [5.32619879 8.54241619]. \t  -69.62035062211939 \t -5.089934878453152\n",
            "7      \t [1.85462991 0.85394158]. \t  -14.273639844491873 \t -5.089934878453152\n",
            "8      \t [-3.36471854  9.50680141]. \t  -11.597679795806014 \t -5.089934878453152\n",
            "9      \t [8.7460878  6.39712183]. \t  -22.195925520313594 \t -5.089934878453152\n",
            "10     \t [9.76575175 3.30351339]. \t  \u001b[92m-1.227230968170728\u001b[0m \t -1.227230968170728\n",
            "11     \t [0.30302294 3.20539856]. \t  -24.566476471008492 \t -1.227230968170728\n",
            "12     \t [6.80674434 2.84408922]. \t  -21.178770638629743 \t -1.227230968170728\n",
            "13     \t [5.45962029 0.04669287]. \t  -17.76827965889004 \t -1.227230968170728\n",
            "14     \t [-0.1680573  14.19228593]. \t  -82.21170241048706 \t -1.227230968170728\n",
            "15     \t [ 7.83034619 13.32579652]. \t  -151.06018975782698 \t -1.227230968170728\n",
            "16     \t [6.20507244 5.10568936]. \t  -35.63198817762196 \t -1.227230968170728\n",
            "17     \t [2.91428158 6.13636248]. \t  -14.168287776231196 \t -1.227230968170728\n",
            "18     \t [-1.69806989 10.07143757]. \t  -9.773973602870564 \t -1.227230968170728\n",
            "19     \t [-3.11685335 11.59328403]. \t  \u001b[92m-0.7881333909938171\u001b[0m \t -0.7881333909938171\n",
            "20     \t [-2.57228429 12.67308777]. \t  -4.885952255290507 \t -0.7881333909938171\n"
          ]
        }
      ]
    },
    {
      "cell_type": "code",
      "metadata": {
        "id": "-ilCPSAu9SAg",
        "colab": {
          "base_uri": "https://localhost:8080/"
        },
        "outputId": "164b9d7a-8e58-40db-8c43-1eecf3e78b7b"
      },
      "source": [
        "### EXACT GP EI GRADIENTS\n",
        "\n",
        "np.random.seed(run_num_2)\n",
        "surrogate_exact_2 = dGaussianProcess(cov_func, optimize=opt)\n",
        "\n",
        "exact_2 = dGPGO(surrogate_exact_2, Acquisition_new(util_grad_exact), objfunc, param)\n",
        "exact_2.run(init_evals=n_init, max_iter=iters)\n"
      ],
      "execution_count": 35,
      "outputs": [
        {
          "output_type": "stream",
          "name": "stdout",
          "text": [
            "Evaluation \t Proposed point \t  Current eval. \t Best eval.\n",
            "init   \t [1.53992353 0.38889348]. \t  -22.31361308916297 \t -6.692051508754487\n",
            "init   \t [3.24493717 6.52983589]. \t  -19.233109967858276 \t -6.692051508754487\n",
            "init   \t [1.30551703 4.95502232]. \t  -13.177851563387286 \t -6.692051508754487\n",
            "init   \t [-1.93027049  9.2890645 ]. \t  -6.692051508754487 \t -6.692051508754487\n",
            "init   \t [-0.50517989  4.00240913]. \t  -26.437522758780958 \t -6.692051508754487\n",
            "1      \t [ 9.5587047  12.00387527]. \t  -89.09951357262268 \t -6.692051508754487\n",
            "2      \t [9.59366035 1.69164323]. \t  \u001b[92m-1.3984593420568778\u001b[0m \t -1.3984593420568778\n",
            "3      \t [ 3.24245232 12.67669673]. \t  -110.25694222671481 \t -1.3984593420568778\n",
            "4      \t [-4.35306445  1.60781106]. \t  -196.18807650374924 \t -1.3984593420568778\n",
            "5      \t [7.58353892 6.92608357]. \t  -43.54843694709207 \t -1.3984593420568778\n",
            "6      \t [-3.95509114 14.02730345]. \t  -3.48680055844817 \t -1.3984593420568778\n",
            "7      \t [6.63696867 0.49280907]. \t  -19.410185362860126 \t -1.3984593420568778\n",
            "8      \t [-1.63998023 14.11773744]. \t  -35.96369187016035 \t -1.3984593420568778\n",
            "9      \t [4.81362902 8.90610555]. \t  -68.33436931269944 \t -1.3984593420568778\n",
            "10     \t [-2.94556477  6.41066204]. \t  -29.722352034412957 \t -1.3984593420568778\n",
            "11     \t [9.87887856 4.5132257 ]. \t  -4.023158335668279 \t -1.3984593420568778\n",
            "12     \t [5.93359713 3.41929192]. \t  -24.378838038516605 \t -1.3984593420568778\n",
            "13     \t [-1.71879793 11.09301938]. \t  -12.487927304852775 \t -1.3984593420568778\n",
            "14     \t [ 7.02402671 14.84002777]. \t  -203.28626964173617 \t -1.3984593420568778\n",
            "15     \t [-4.70691885 10.78487436]. \t  -40.95581751826043 \t -1.3984593420568778\n",
            "16     \t [0.86502943 9.33277869]. \t  -37.506486752236526 \t -1.3984593420568778\n",
            "17     \t [2.648387   2.57707493]. \t  -1.555261894458713 \t -1.3984593420568778\n",
            "18     \t [-3.03227455  9.37830708]. \t  -7.401166126045514 \t -1.3984593420568778\n",
            "19     \t [-4.88474477 14.47346867]. \t  -17.326826072781493 \t -1.3984593420568778\n",
            "20     \t [4.55158391 0.3753123 ]. \t  -9.579660651810599 \t -1.3984593420568778\n"
          ]
        }
      ]
    },
    {
      "cell_type": "code",
      "metadata": {
        "id": "XieJ158mIvlP",
        "colab": {
          "base_uri": "https://localhost:8080/"
        },
        "outputId": "852c1cca-3486-4d2b-89f5-380a96b435f0"
      },
      "source": [
        "### EXACT GP EI GRADIENTS\n",
        "\n",
        "np.random.seed(run_num_3)\n",
        "surrogate_exact_3 = dGaussianProcess(cov_func, optimize=opt)\n",
        "\n",
        "exact_3 = dGPGO(surrogate_exact_3, Acquisition_new(util_grad_exact), objfunc, param)\n",
        "exact_3.run(init_evals=n_init, max_iter=iters)\n"
      ],
      "execution_count": 36,
      "outputs": [
        {
          "output_type": "stream",
          "name": "stdout",
          "text": [
            "Evaluation \t Proposed point \t  Current eval. \t Best eval.\n",
            "init   \t [ 3.26196854 10.62221734]. \t  -71.68783452098575 \t -18.07886746449891\n",
            "init   \t [-0.63642892  7.66241408]. \t  -18.07886746449891 \t -18.07886746449891\n",
            "init   \t [ 8.39420432 13.44439633]. \t  -141.98653529865882 \t -18.07886746449891\n",
            "init   \t [-3.11622034  3.10864317]. \t  -83.31045707266176 \t -18.07886746449891\n",
            "init   \t [-4.22799195  6.61214765]. \t  -76.5294170688398 \t -18.07886746449891\n",
            "1      \t [6.70472147 4.59545299]. \t  -30.726791812855225 \t -18.07886746449891\n",
            "2      \t [-3.89564496 13.38589781]. \t  \u001b[92m-3.6010193697779265\u001b[0m \t -3.6010193697779265\n",
            "3      \t [2.23745563 4.30574647]. \t  -5.55090454067421 \t -3.6010193697779265\n",
            "4      \t [0.86437024 0.69444304]. \t  -32.44471197025456 \t -3.6010193697779265\n",
            "5      \t [7.42647883 0.63104285]. \t  -14.435590152692097 \t -3.6010193697779265\n",
            "6      \t [6.16917171 8.29135894]. \t  -71.28346257262592 \t -3.6010193697779265\n",
            "7      \t [ 0.7273756  14.67607729]. \t  -112.53473754745858 \t -3.6010193697779265\n",
            "8      \t [-2.82654868  9.99721096]. \t  \u001b[92m-3.222052457682339\u001b[0m \t -3.222052457682339\n",
            "9      \t [-2.53287617  0.2265116 ]. \t  -115.19315667597515 \t -3.222052457682339\n",
            "10     \t [9.70503451 5.64174201]. \t  -9.300045854675812 \t -3.222052457682339\n",
            "11     \t [4.80104872 1.28268602]. \t  -10.853113245804312 \t -3.222052457682339\n",
            "12     \t [9.78545042 0.06777552]. \t  -8.45911583585563 \t -3.222052457682339\n",
            "13     \t [9.61587103 8.67071353]. \t  -36.93122209933628 \t -3.222052457682339\n",
            "14     \t [ 4.49105071 13.89176449]. \t  -162.493915317688 \t -3.222052457682339\n",
            "15     \t [-1.15086863 11.94360972]. \t  -29.444953251823527 \t -3.222052457682339\n",
            "16     \t [3.34541903 6.49382543]. \t  -19.714665439216112 \t -3.222052457682339\n",
            "17     \t [0.38257823 4.90954055]. \t  -19.158405895962098 \t -3.222052457682339\n",
            "18     \t [9.58033478 3.57103517]. \t  \u001b[92m-1.4386836422007168\u001b[0m \t -1.4386836422007168\n",
            "19     \t [9.80647245 2.18586023]. \t  -1.4857149434287358 \t -1.4386836422007168\n",
            "20     \t [-3.49865909  9.26630291]. \t  -16.083422467807676 \t -1.4386836422007168\n"
          ]
        }
      ]
    },
    {
      "cell_type": "code",
      "metadata": {
        "id": "PhLBVOIfIvol",
        "colab": {
          "base_uri": "https://localhost:8080/"
        },
        "outputId": "ca28843a-0f7c-407b-e76f-9ae30ede4fb3"
      },
      "source": [
        "### EXACT GP EI GRADIENTS\n",
        "\n",
        "np.random.seed(run_num_4)\n",
        "surrogate_exact_4 = dGaussianProcess(cov_func, optimize=opt)\n",
        "\n",
        "exact_4 = dGPGO(surrogate_exact_4, Acquisition_new(util_grad_exact), objfunc, param)\n",
        "exact_4.run(init_evals=n_init, max_iter=iters)\n"
      ],
      "execution_count": 37,
      "outputs": [
        {
          "output_type": "stream",
          "name": "stdout",
          "text": [
            "Evaluation \t Proposed point \t  Current eval. \t Best eval.\n",
            "init   \t [9.50544759 8.20848374]. \t  -32.51676744781521 \t -7.247126865776948\n",
            "init   \t [ 9.5902654  10.72223991]. \t  -66.20566674364716 \t -7.247126865776948\n",
            "init   \t [5.46593237 3.24134243]. \t  -20.90089401680587 \t -7.247126865776948\n",
            "init   \t [9.64411682 0.09345383]. \t  -7.247126865776948 \t -7.247126865776948\n",
            "init   \t [-1.20526456  6.52187299]. \t  -15.941376982363263 \t -7.247126865776948\n",
            "1      \t [ 1.25164457 13.57001383]. \t  -100.61648848019335 \t -7.247126865776948\n",
            "2      \t [-4.27198795  1.64727177]. \t  -188.41076037632916 \t -7.247126865776948\n",
            "3      \t [-2.97871089 11.10067095]. \t  \u001b[92m-1.1432675765061724\u001b[0m \t -1.1432675765061724\n",
            "4      \t [3.23207677 8.99696237]. \t  -46.561227404762874 \t -1.1432675765061724\n",
            "5      \t [0.76221495 2.51595312]. \t  -22.448988141525305 \t -1.1432675765061724\n",
            "6      \t [-4.59349399  8.4417542 ]. \t  -66.54257614193003 \t -1.1432675765061724\n",
            "7      \t [ 7.15995113 14.45073253]. \t  -191.00332078453908 \t -1.1432675765061724\n",
            "8      \t [8.68449585 4.07690126]. \t  -7.55736235419383 \t -1.1432675765061724\n",
            "9      \t [-2.66942535 13.35686758]. \t  -6.234966375186815 \t -1.1432675765061724\n",
            "10     \t [2.08351212 0.27856342]. \t  -14.088168438864855 \t -1.1432675765061724\n",
            "11     \t [3.01135161 5.63347379]. \t  -11.072366644433572 \t -1.1432675765061724\n",
            "12     \t [4.53351448 0.24755332]. \t  -9.71298785124648 \t -1.1432675765061724\n",
            "13     \t [-0.85014423 10.38419255]. \t  -24.96673441419229 \t -1.1432675765061724\n",
            "14     \t [-3.48038444  4.95932638]. \t  -67.27982700036087 \t -1.1432675765061724\n",
            "15     \t [6.50428653 8.04979569]. \t  -67.4825991198767 \t -1.1432675765061724\n",
            "16     \t [ 5.0153329  11.14977229]. \t  -110.52785785231352 \t -1.1432675765061724\n",
            "17     \t [-3.58098034 12.90399176]. \t  -1.5141860036144728 \t -1.1432675765061724\n",
            "18     \t [6.54934891 0.48337303]. \t  -19.666268691051656 \t -1.1432675765061724\n",
            "19     \t [9.87705992 3.5040487 ]. \t  -1.7491406903633298 \t -1.1432675765061724\n",
            "20     \t [0.48173895 7.07456737]. \t  -21.790104152469674 \t -1.1432675765061724\n"
          ]
        }
      ]
    },
    {
      "cell_type": "code",
      "metadata": {
        "id": "arbiPyj2IvsJ",
        "colab": {
          "base_uri": "https://localhost:8080/"
        },
        "outputId": "9a7cac67-d67c-4725-8917-34ed26604e14"
      },
      "source": [
        "### EXACT GP EI GRADIENTS\n",
        "\n",
        "np.random.seed(run_num_5)\n",
        "surrogate_exact_5 = dGaussianProcess(cov_func, optimize=opt)\n",
        "\n",
        "exact_5 = dGPGO(surrogate_exact_5, Acquisition_new(util_grad_exact), objfunc, param)\n",
        "exact_5.run(init_evals=n_init, max_iter=iters)\n"
      ],
      "execution_count": 38,
      "outputs": [
        {
          "output_type": "stream",
          "name": "stdout",
          "text": [
            "Evaluation \t Proposed point \t  Current eval. \t Best eval.\n",
            "init   \t [-1.67010243 13.06098459]. \t  -25.390690545664548 \t -25.311309190989615\n",
            "init   \t [-1.89921267 13.77916362]. \t  -25.311309190989615 \t -25.311309190989615\n",
            "init   \t [2.32616783 9.17615794]. \t  -41.60147975414021 \t -25.311309190989615\n",
            "init   \t [6.48861785 7.77626982]. \t  -63.81281921768236 \t -25.311309190989615\n",
            "init   \t [-0.54799248  2.81581843]. \t  -34.966203644931994 \t -25.311309190989615\n",
            "1      \t [8.84124421 0.03321319]. \t  \u001b[92m-5.96108856337545\u001b[0m \t -5.96108856337545\n",
            "2      \t [ 8.39476442 14.47736321]. \t  -167.21523769473345 \t -5.96108856337545\n",
            "3      \t [-3.387657    8.71377791]. \t  -17.99600693113252 \t -5.96108856337545\n",
            "4      \t [4.37131701 2.395214  ]. \t  -7.569343819858087 \t -5.96108856337545\n",
            "5      \t [ 4.51321414 14.07829401]. \t  -167.61512571485048 \t -5.96108856337545\n",
            "6      \t [-3.4315969   4.43996141]. \t  -73.77918392579942 \t -5.96108856337545\n",
            "7      \t [7.87748399 4.42787221]. \t  -18.46956017037897 \t -5.96108856337545\n",
            "8      \t [1.3698562  0.19710122]. \t  -26.855647693766024 \t -5.96108856337545\n",
            "9      \t [ 0.3672636 11.2605148]. \t  -52.92279795764952 \t -5.96108856337545\n",
            "10     \t [-4.97481847  1.23180136]. \t  -264.76176346551875 \t -5.96108856337545\n",
            "11     \t [0.39404235 6.34767065]. \t  -19.77779922339176 \t -5.96108856337545\n",
            "12     \t [ 7.12511963 11.14228954]. \t  -114.87934025282757 \t -5.96108856337545\n",
            "13     \t [2.76425825 5.8445045 ]. \t  -11.680423891484507 \t -5.96108856337545\n",
            "14     \t [2.92081363 3.43922608]. \t  \u001b[92m-1.6026662750853138\u001b[0m \t -1.6026662750853138\n",
            "15     \t [2.90075198 2.18748364]. \t  \u001b[92m-0.7550190698007917\u001b[0m \t -0.7550190698007917\n",
            "16     \t [-3.99335045 11.7496812 ]. \t  -10.783115866174002 \t -0.7550190698007917\n",
            "17     \t [9.9136638  8.43845852]. \t  -31.99528183328896 \t -0.7550190698007917\n",
            "18     \t [3.12251319 1.48331379]. \t  -1.0502587918225252 \t -0.7550190698007917\n",
            "19     \t [8.99528331 2.00771988]. \t  -1.2865819879754827 \t -0.7550190698007917\n",
            "20     \t [7.99897788 1.12278438]. \t  -8.782464896987257 \t -0.7550190698007917\n"
          ]
        }
      ]
    },
    {
      "cell_type": "code",
      "metadata": {
        "id": "04KJCEm_Ivvf",
        "colab": {
          "base_uri": "https://localhost:8080/"
        },
        "outputId": "79a14c8c-d5cf-4b5b-ae6d-1ab6a89a0275"
      },
      "source": [
        "### EXACT GP EI GRADIENTS\n",
        "\n",
        "np.random.seed(run_num_6)\n",
        "surrogate_exact_6 = dGaussianProcess(cov_func, optimize=opt)\n",
        "\n",
        "exact_6 = dGPGO(surrogate_exact_6, Acquisition_new(util_grad_exact), objfunc, param)\n",
        "exact_6.run(init_evals=n_init, max_iter=iters)\n"
      ],
      "execution_count": 39,
      "outputs": [
        {
          "output_type": "stream",
          "name": "stdout",
          "text": [
            "Evaluation \t Proposed point \t  Current eval. \t Best eval.\n",
            "init   \t [8.39290227 4.97969708]. \t  -15.553860636684597 \t -15.31731051317483\n",
            "init   \t [7.31843685 0.62544939]. \t  -15.31731051317483 \t -15.31731051317483\n",
            "init   \t [-3.3851498   8.92578096]. \t  -16.222288919361837 \t -15.31731051317483\n",
            "init   \t [2.94726043 6.28211143]. \t  -15.406373581304088 \t -15.31731051317483\n",
            "init   \t [0.03111774 9.33779148]. \t  -31.07053245856209 \t -15.31731051317483\n",
            "1      \t [ 9.64829531 12.55362889]. \t  -98.32295673962142 \t -15.31731051317483\n",
            "2      \t [-1.22578785  0.62063252]. \t  -69.8637190838968 \t -15.31731051317483\n",
            "3      \t [ 4.34724927 14.59608757]. \t  -177.48889452505895 \t -15.31731051317483\n",
            "4      \t [-1.77014503 13.95364881]. \t  -30.486400153319025 \t -15.31731051317483\n",
            "5      \t [-4.21288045  3.56280651]. \t  -136.16019719887902 \t -15.31731051317483\n",
            "6      \t [6.45933352 9.34635124]. \t  -87.29734765287466 \t -15.31731051317483\n",
            "7      \t [-4.84872536 13.44210031]. \t  -22.27461721102528 \t -15.31731051317483\n",
            "8      \t [5.1754978  3.80813336]. \t  -20.97120517406575 \t -15.31731051317483\n",
            "9      \t [-1.00824757  4.06594156]. \t  -28.59055776793365 \t -15.31731051317483\n",
            "10     \t [1.46027799 2.02084077]. \t  \u001b[92m-14.785993442038812\u001b[0m \t -14.785993442038812\n",
            "11     \t [4.46845749 0.2689911 ]. \t  \u001b[92m-9.117734353447265\u001b[0m \t -9.117734353447265\n",
            "12     \t [ 1.20618751 12.65612628]. \t  -83.78056120383653 \t -9.117734353447265\n",
            "13     \t [6.41010576 6.8375094 ]. \t  -52.373690032560226 \t -9.117734353447265\n",
            "14     \t [-4.69942472 11.29358092]. \t  -35.264753517088835 \t -9.117734353447265\n",
            "15     \t [-2.21872046  6.33236176]. \t  -18.910356048319812 \t -9.117734353447265\n",
            "16     \t [9.68465451 2.64568218]. \t  \u001b[92m-0.7235879042761031\u001b[0m \t -0.7235879042761031\n",
            "17     \t [1.86100407 4.22527476]. \t  -7.799566262778249 \t -0.7235879042761031\n",
            "18     \t [-4.17064951  0.4792428 ]. \t  -212.57101966084429 \t -0.7235879042761031\n",
            "19     \t [ 3.200001   11.22523769]. \t  -81.3305339372937 \t -0.7235879042761031\n",
            "20     \t [9.31652159 7.81071083]. \t  -29.890293806129637 \t -0.7235879042761031\n"
          ]
        }
      ]
    },
    {
      "cell_type": "code",
      "metadata": {
        "id": "tAOkme3CIvyO",
        "colab": {
          "base_uri": "https://localhost:8080/"
        },
        "outputId": "847f4926-7c34-4a07-8c81-ef962e336fa3"
      },
      "source": [
        "### EXACT GP EI GRADIENTS\n",
        "\n",
        "np.random.seed(run_num_7)\n",
        "surrogate_exact_7 = dGaussianProcess(cov_func, optimize=opt)\n",
        "\n",
        "exact_7 = dGPGO(surrogate_exact_7, Acquisition_new(util_grad_exact), objfunc, param)\n",
        "exact_7.run(init_evals=n_init, max_iter=iters)\n"
      ],
      "execution_count": 40,
      "outputs": [
        {
          "output_type": "stream",
          "name": "stdout",
          "text": [
            "Evaluation \t Proposed point \t  Current eval. \t Best eval.\n",
            "init   \t [-3.85537566 11.69878188]. \t  -8.299317850233932 \t -5.211335324193094\n",
            "init   \t [ 1.57613847 10.85197767]. \t  -59.50408380701259 \t -5.211335324193094\n",
            "init   \t [9.66984268 8.07743806]. \t  -29.714921414987273 \t -5.211335324193094\n",
            "init   \t [2.51680695 1.080767  ]. \t  -5.211335324193094 \t -5.211335324193094\n",
            "init   \t [-0.9734153   7.49823751]. \t  -15.431057204948033 \t -5.211335324193094\n",
            "1      \t [-4.97859679  1.38393519]. \t  -260.3293952774437 \t -5.211335324193094\n",
            "2      \t [ 7.42679792 14.12713902]. \t  -178.37635728719692 \t -5.211335324193094\n",
            "3      \t [8.08940775 0.35854539]. \t  -9.249625108410735 \t -5.211335324193094\n",
            "4      \t [-3.39684884  5.54228873]. \t  -54.79871094423047 \t -5.211335324193094\n",
            "5      \t [4.65981969 4.93574316]. \t  -22.07648427281225 \t -5.211335324193094\n",
            "6      \t [-4.91537069 14.98812452]. \t  -15.762184053004502 \t -5.211335324193094\n",
            "7      \t [ 0.41036662 14.84871201]. \t  -108.67673451031358 \t -5.211335324193094\n",
            "8      \t [-0.7815244   2.88545362]. \t  -36.50546309959566 \t -5.211335324193094\n",
            "9      \t [ 5.29326214 10.47819958]. \t  -101.44543618326065 \t -5.211335324193094\n",
            "10     \t [-2.31851901 13.63905334]. \t  -14.063138771819332 \t -5.211335324193094\n",
            "11     \t [5.25200607 1.25905722]. \t  -14.936609636292218 \t -5.211335324193094\n",
            "12     \t [7.09368818 3.8052157 ]. \t  -23.348850662185974 \t -5.211335324193094\n",
            "13     \t [3.26979268 7.63793083]. \t  -30.29686550091008 \t -5.211335324193094\n",
            "14     \t [-3.93902947  8.81180588]. \t  -33.12349642197762 \t -5.211335324193094\n",
            "15     \t [-1.09464553  0.05061088]. \t  -75.96671073233678 \t -5.211335324193094\n",
            "16     \t [ 4.17374458 14.6168587 ]. \t  -174.31279764092093 \t -5.211335324193094\n",
            "17     \t [1.87177191 3.37545388]. \t  -7.163063314806527 \t -5.211335324193094\n",
            "18     \t [3.34222867 0.06823183]. \t  \u001b[92m-4.815588323175377\u001b[0m \t -4.815588323175377\n",
            "19     \t [9.72391456 2.16580427]. \t  \u001b[92m-1.152729601530302\u001b[0m \t -1.152729601530302\n",
            "20     \t [6.60056173 7.51859642]. \t  -60.02474267689029 \t -1.152729601530302\n"
          ]
        }
      ]
    },
    {
      "cell_type": "code",
      "metadata": {
        "id": "69-J3EF4Iv1S",
        "colab": {
          "base_uri": "https://localhost:8080/"
        },
        "outputId": "21d87831-8ea7-4f85-c529-7755b1936919"
      },
      "source": [
        "### EXACT GP EI GRADIENTS\n",
        "\n",
        "np.random.seed(run_num_8)\n",
        "surrogate_exact_8 = dGaussianProcess(cov_func, optimize=opt)\n",
        "\n",
        "exact_8 = dGPGO(surrogate_exact_8, Acquisition_new(util_grad_exact), objfunc, param)\n",
        "exact_8.run(init_evals=n_init, max_iter=iters)\n"
      ],
      "execution_count": 41,
      "outputs": [
        {
          "output_type": "stream",
          "name": "stdout",
          "text": [
            "Evaluation \t Proposed point \t  Current eval. \t Best eval.\n",
            "init   \t [ 8.10144104 14.52810994]. \t  -175.17297136347514 \t -15.416245468470875\n",
            "init   \t [8.0379181  7.96283537]. \t  -49.32173799887473 \t -15.416245468470875\n",
            "init   \t [-1.50907508  0.17098206]. \t  -83.26753461673219 \t -15.416245468470875\n",
            "init   \t [1.45703227 6.0352704 ]. \t  -15.416245468470875 \t -15.416245468470875\n",
            "init   \t [2.84012007 7.17587694]. \t  -22.49093277852639 \t -15.416245468470875\n",
            "1      \t [9.77124156 0.43098073]. \t  \u001b[92m-6.499298445992174\u001b[0m \t -6.499298445992174\n",
            "2      \t [-4.87537438 11.82874897]. \t  -36.57081146531108 \t -6.499298445992174\n",
            "3      \t [-0.47864575 14.6326007 ]. \t  -80.00768934620143 \t -6.499298445992174\n",
            "4      \t [5.46060995 1.85447705]. \t  -17.013258750114403 \t -6.499298445992174\n",
            "5      \t [-4.06875054  6.05187677]. \t  -77.55161170327132 \t -6.499298445992174\n",
            "6      \t [ 0.61090204 10.39058191]. \t  -46.11090144915068 \t -6.499298445992174\n",
            "7      \t [ 4.79164746 10.26335952]. \t  -90.3880656137853 \t -6.499298445992174\n",
            "8      \t [ 3.78067217 13.93690668]. \t  -148.88535975165553 \t -6.499298445992174\n",
            "9      \t [9.95654894 4.86244188]. \t  \u001b[92m-5.342778101026292\u001b[0m \t -5.342778101026292\n",
            "10     \t [-4.11465217  2.11626949]. \t  -163.84906492023572 \t -5.342778101026292\n",
            "11     \t [1.44857124 2.79950719]. \t  -12.530477793204625 \t -5.342778101026292\n",
            "12     \t [-2.82633193  8.54106451]. \t  -9.80600810944476 \t -5.342778101026292\n",
            "13     \t [5.27906196 4.74813837]. \t  -27.756108164984997 \t -5.342778101026292\n",
            "14     \t [ 9.99795209 10.82692064]. \t  -63.17866230338867 \t -5.342778101026292\n",
            "15     \t [3.01939101 0.6981119 ]. \t  \u001b[92m-3.2721622962363117\u001b[0m \t -3.2721622962363117\n",
            "16     \t [-0.70014533  3.15476675]. \t  -33.526731924893056 \t -3.2721622962363117\n",
            "17     \t [9.18143163 2.31067818]. \t  \u001b[92m-0.681902000068261\u001b[0m \t -0.681902000068261\n",
            "18     \t [-1.20010613  7.22873182]. \t  -14.230754849144041 \t -0.681902000068261\n",
            "19     \t [7.42026543 2.70804687]. \t  -16.00877595345021 \t -0.681902000068261\n",
            "20     \t [2.72628736 4.09659229]. \t  -3.3910292239151065 \t -0.681902000068261\n"
          ]
        }
      ]
    },
    {
      "cell_type": "code",
      "metadata": {
        "id": "vonm9jyuIv4t",
        "colab": {
          "base_uri": "https://localhost:8080/"
        },
        "outputId": "52901c63-36dc-4dc3-e8e6-ba86ae5079e2"
      },
      "source": [
        "### EXACT GP EI GRADIENTS\n",
        "\n",
        "np.random.seed(run_num_9)\n",
        "surrogate_exact_9 = dGaussianProcess(cov_func, optimize=opt)\n",
        "\n",
        "exact_9 = dGPGO(surrogate_exact_9, Acquisition_new(util_grad_exact), objfunc, param)\n",
        "exact_9.run(init_evals=n_init, max_iter=iters)\n"
      ],
      "execution_count": 42,
      "outputs": [
        {
          "output_type": "stream",
          "name": "stdout",
          "text": [
            "Evaluation \t Proposed point \t  Current eval. \t Best eval.\n",
            "init   \t [-4.84438769  7.52811888]. \t  -96.15564306553264 \t -3.4640248583909496\n",
            "init   \t [2.4365994  2.00744293]. \t  -3.4640248583909496 \t -3.4640248583909496\n",
            "init   \t [-2.86833372  3.27838013]. \t  -70.46930174488207 \t -3.4640248583909496\n",
            "init   \t [1.27762271 3.72151753]. \t  -12.982825924833865 \t -3.4640248583909496\n",
            "init   \t [-3.73910523  5.1824796 ]. \t  -75.58547400560856 \t -3.4640248583909496\n",
            "1      \t [ 7.05609655 14.75038872]. \t  -200.4388688685465 \t -3.4640248583909496\n",
            "2      \t [-0.46054038 14.56197292]. \t  -79.4666617606301 \t -3.4640248583909496\n",
            "3      \t [8.28747407 1.2035024 ]. \t  -6.196385269800155 \t -3.4640248583909496\n",
            "4      \t [3.23451018 8.29396759]. \t  -37.531243083967176 \t -3.4640248583909496\n",
            "5      \t [9.67993735 5.53971063]. \t  -8.780439004073106 \t -3.4640248583909496\n",
            "6      \t [5.69614675 4.2958879 ]. \t  -28.043820974806252 \t -3.4640248583909496\n",
            "7      \t [-0.89286597 10.49971964]. \t  -24.87701974319831 \t -3.4640248583909496\n",
            "8      \t [ 7.2320102  10.41663984]. \t  -99.68597433040674 \t -3.4640248583909496\n",
            "9      \t [ 3.44131289 12.244875  ]. \t  -104.7030186544253 \t -3.4640248583909496\n",
            "10     \t [7.04877843 7.03165625]. \t  -50.93002741182327 \t -3.4640248583909496\n",
            "11     \t [-4.18018642  0.09143463]. \t  -224.72747482076437 \t -3.4640248583909496\n",
            "12     \t [9.68116796 2.12433887]. \t  \u001b[92m-1.042876007637524\u001b[0m \t -1.042876007637524\n",
            "13     \t [-0.1404279   5.88712951]. \t  -19.622455342695098 \t -1.042876007637524\n",
            "14     \t [4.72207188 1.32367197]. \t  -10.09469451767434 \t -1.042876007637524\n",
            "15     \t [2.86011364 5.44485016]. \t  -9.419965022760543 \t -1.042876007637524\n",
            "16     \t [-2.85812335 13.37848304]. \t  -3.9294067631521337 \t -1.042876007637524\n",
            "17     \t [-3.29974747 11.37260262]. \t  -2.170782690496594 \t -1.042876007637524\n",
            "18     \t [-3.06094994 11.03937271]. \t  -1.516240394256819 \t -1.042876007637524\n",
            "19     \t [-4.81251087 13.92629396]. \t  -18.385411691631653 \t -1.042876007637524\n",
            "20     \t [6.8207846  0.18215796]. \t  -19.19299198018093 \t -1.042876007637524\n"
          ]
        }
      ]
    },
    {
      "cell_type": "code",
      "metadata": {
        "id": "6amuYlUdIv7r",
        "colab": {
          "base_uri": "https://localhost:8080/"
        },
        "outputId": "fff74265-542a-4a06-d910-5bca43fb5454"
      },
      "source": [
        "### EXACT GP EI GRADIENTS\n",
        "\n",
        "np.random.seed(run_num_10)\n",
        "surrogate_exact_10 = dGaussianProcess(cov_func, optimize=opt)\n",
        "\n",
        "exact_10 = dGPGO(surrogate_exact_10, Acquisition_new(util_grad_exact), objfunc, param)\n",
        "exact_10.run(init_evals=n_init, max_iter=iters)\n"
      ],
      "execution_count": 43,
      "outputs": [
        {
          "output_type": "stream",
          "name": "stdout",
          "text": [
            "Evaluation \t Proposed point \t  Current eval. \t Best eval.\n",
            "init   \t [6.56980965 0.31127924]. \t  -19.863985024602144 \t -2.710610964564512\n",
            "init   \t [ 4.50472352 11.23205824]. \t  -103.66999147252169 \t -2.710610964564512\n",
            "init   \t [2.47760518 3.37194968]. \t  -2.710610964564512 \t -2.710610964564512\n",
            "init   \t [-2.02905703 11.40796068]. \t  -8.463930835255017 \t -2.710610964564512\n",
            "init   \t [-2.46333745  1.32509721]. \t  -90.49481266026973 \t -2.710610964564512\n",
            "1      \t [ 9.16391068 14.81438212]. \t  -158.2412724465548 \t -2.710610964564512\n",
            "2      \t [9.65621089 6.61160737]. \t  -16.1339423373336 \t -2.710610964564512\n",
            "3      \t [-3.43070383  6.59407857]. \t  -41.58407101130534 \t -2.710610964564512\n",
            "4      \t [ 0.90128669 12.96718791]. \t  -84.79417355172438 \t -2.710610964564512\n",
            "5      \t [-4.09924692 14.83375461]. \t  -4.493827434732684 \t -2.710610964564512\n",
            "6      \t [3.25991176 0.97360474]. \t  \u001b[92m-1.9313760994396638\u001b[0m \t -1.9313760994396638\n",
            "7      \t [3.34931039 6.61105586]. \t  -20.786602953599242 \t -1.9313760994396638\n",
            "8      \t [0.52512858 8.09307815]. \t  -26.679054462705842 \t -1.9313760994396638\n",
            "9      \t [7.06574372 4.42613841]. \t  -27.191007456704668 \t -1.9313760994396638\n",
            "10     \t [9.00022474 9.81897305]. \t  -60.21442427279082 \t -1.9313760994396638\n",
            "11     \t [6.67738255 7.27019855]. \t  -56.53552785977578 \t -1.9313760994396638\n",
            "12     \t [-4.46329344e-03  4.55050797e+00]. \t  -21.72369519741524 \t -1.9313760994396638\n",
            "13     \t [9.97116497 2.35013063]. \t  -2.1856654070338255 \t -1.9313760994396638\n",
            "14     \t [-4.62590832 12.04611108]. \t  -25.822534389140735 \t -1.9313760994396638\n",
            "15     \t [3.83897934 3.44337636]. \t  -5.360315823593368 \t -1.9313760994396638\n",
            "16     \t [-4.67803508  0.22652371]. \t  -267.1403225750861 \t -1.9313760994396638\n",
            "17     \t [9.20545544 2.42016987]. \t  \u001b[92m-0.6432711009153724\u001b[0m \t -0.6432711009153724\n",
            "18     \t [2.21850583 1.36639658]. \t  -7.229039672470058 \t -0.6432711009153724\n",
            "19     \t [9.1540777 2.0346121]. \t  -0.7966270546458301 \t -0.6432711009153724\n",
            "20     \t [ 4.01209881 14.04406785]. \t  -156.33566813789784 \t -0.6432711009153724\n"
          ]
        }
      ]
    },
    {
      "cell_type": "code",
      "metadata": {
        "id": "VwbLIP9cIv-F",
        "colab": {
          "base_uri": "https://localhost:8080/"
        },
        "outputId": "7141e7f7-9018-409c-c785-907ef9c205c5"
      },
      "source": [
        "### EXACT GP EI GRADIENTS\n",
        "\n",
        "np.random.seed(run_num_11)\n",
        "surrogate_exact_11 = dGaussianProcess(cov_func, optimize=opt)\n",
        "\n",
        "exact_11 = dGPGO(surrogate_exact_11, Acquisition_new(util_grad_exact), objfunc, param)\n",
        "exact_11.run(init_evals=n_init, max_iter=iters)\n"
      ],
      "execution_count": 44,
      "outputs": [
        {
          "output_type": "stream",
          "name": "stdout",
          "text": [
            "Evaluation \t Proposed point \t  Current eval. \t Best eval.\n",
            "init   \t [-2.29595467  0.29212862]. \t  -104.49282729548965 \t -22.37435843952312\n",
            "init   \t [ 1.9482779  10.87400894]. \t  -62.47758067812407 \t -22.37435843952312\n",
            "init   \t [1.30305407 7.28140647]. \t  -22.37435843952312 \t -22.37435843952312\n",
            "init   \t [-4.80828778  7.31057411]. \t  -97.94503054415523 \t -22.37435843952312\n",
            "init   \t [ 9.12709979 12.76192634]. \t  -111.62900800771942 \t -22.37435843952312\n",
            "1      \t [6.94653631 0.95529646]. \t  \u001b[92m-17.615403152614682\u001b[0m \t -17.615403152614682\n",
            "2      \t [6.09927277 6.27995145]. \t  -46.287459381773054 \t -17.615403152614682\n",
            "3      \t [-0.2948127  13.96148884]. \t  -75.15398123127645 \t -17.615403152614682\n",
            "4      \t [2.40331544 2.81648571]. \t  \u001b[92m-2.908955639066286\u001b[0m \t -2.908955639066286\n",
            "5      \t [-3.42208896 11.32925449]. \t  -3.4300860679630905 \t -2.908955639066286\n",
            "6      \t [6.70426666 9.82392181]. \t  -94.23795880696169 \t -2.908955639066286\n",
            "7      \t [-1.70511824  4.37612019]. \t  -30.92886842124293 \t -2.908955639066286\n",
            "8      \t [ 5.36828467 14.45067939]. \t  -191.99322049260758 \t -2.908955639066286\n",
            "9      \t [8.33988642 4.19044378]. \t  -11.658811764441184 \t -2.908955639066286\n",
            "10     \t [4.9491983  3.06115393]. \t  -15.398792932621983 \t -2.908955639066286\n",
            "11     \t [-4.75415634 13.61510062]. \t  -18.644743848491714 \t -2.908955639066286\n",
            "12     \t [2.53597325 4.81646291]. \t  -6.193234603646783 \t -2.908955639066286\n",
            "13     \t [9.89938087 6.72995133]. \t  -16.09373431708058 \t -2.908955639066286\n",
            "14     \t [-3.91488258  2.56581966]. \t  -138.73065261143051 \t -2.908955639066286\n",
            "15     \t [1.72655801 0.14622132]. \t  -20.697310009795444 \t -2.908955639066286\n",
            "16     \t [-3.07143585 11.5028551 ]. \t  \u001b[92m-0.7865383666493084\u001b[0m \t -0.7865383666493084\n",
            "17     \t [9.81331748 8.82062798]. \t  -37.09421446329133 \t -0.7865383666493084\n",
            "18     \t [9.94720983 1.8640597 ]. \t  -2.8600415406395783 \t -0.7865383666493084\n",
            "19     \t [-1.75083114  8.65212342]. \t  -8.561948314966239 \t -0.7865383666493084\n",
            "20     \t [9.32167903 1.29932142]. \t  -1.6371610817402704 \t -0.7865383666493084\n"
          ]
        }
      ]
    },
    {
      "cell_type": "code",
      "metadata": {
        "id": "MlUNFjc-JTBY",
        "colab": {
          "base_uri": "https://localhost:8080/"
        },
        "outputId": "d1f14227-afca-4c7a-ff8e-f762a66b6b79"
      },
      "source": [
        "### EXACT GP EI GRADIENTS\n",
        "\n",
        "np.random.seed(run_num_12)\n",
        "surrogate_exact_12 = dGaussianProcess(cov_func, optimize=opt)\n",
        "\n",
        "exact_12 = dGPGO(surrogate_exact_12, Acquisition_new(util_grad_exact), objfunc, param)\n",
        "exact_12.run(init_evals=n_init, max_iter=iters)\n"
      ],
      "execution_count": 45,
      "outputs": [
        {
          "output_type": "stream",
          "name": "stdout",
          "text": [
            "Evaluation \t Proposed point \t  Current eval. \t Best eval.\n",
            "init   \t [-2.68755736 11.10074545]. \t  -1.3827702760021356 \t -0.5499315281120278\n",
            "init   \t [-1.05027477  8.0060909 ]. \t  -14.81231853080056 \t -0.5499315281120278\n",
            "init   \t [-4.78137556 13.78120512]. \t  -18.401131000214548 \t -0.5499315281120278\n",
            "init   \t [8.51072281 0.50132141]. \t  -5.855172364344769 \t -0.5499315281120278\n",
            "init   \t [9.35424004 2.05813982]. \t  -0.5499315281120278 \t -0.5499315281120278\n",
            "1      \t [9.43895355 6.28875405]. \t  -14.852312468115107 \t -0.5499315281120278\n",
            "2      \t [ 5.04936449 13.86496049]. \t  -172.12573102553992 \t -0.5499315281120278\n",
            "3      \t [-4.8799499   0.15657603]. \t  -290.0404981832191 \t -0.5499315281120278\n",
            "4      \t [3.757346   2.30877911]. \t  -2.377649653219989 \t -0.5499315281120278\n",
            "5      \t [5.14815273 9.08017929]. \t  -75.67369934195092 \t -0.5499315281120278\n",
            "6      \t [ 9.86516908 13.50219829]. \t  -114.32509929220473 \t -0.5499315281120278\n",
            "7      \t [-3.45369009  4.66988965]. \t  -70.88079682558485 \t -0.5499315281120278\n",
            "8      \t [-0.77614596 13.8795164 ]. \t  -59.9701276874582 \t -0.5499315281120278\n",
            "9      \t [0.18738756 2.98301965]. \t  -26.85027446279375 \t -0.5499315281120278\n",
            "10     \t [ 1.61688655 10.07732905]. \t  -49.41098127700754 \t -0.5499315281120278\n",
            "11     \t [-4.14788215 10.15285806]. \t  -26.684027058773786 \t -0.5499315281120278\n",
            "12     \t [5.39487003 3.64846681]. \t  -22.180895827430277 \t -0.5499315281120278\n",
            "13     \t [8.55869787 9.12887871]. \t  -56.8877481402387 \t -0.5499315281120278\n",
            "14     \t [2.78415581 0.5847599 ]. \t  -4.946964199486606 \t -0.5499315281120278\n",
            "15     \t [2.00009189 5.95659797]. \t  -12.88373982998062 \t -0.5499315281120278\n",
            "16     \t [8.98379297 2.45152562]. \t  -1.4210823027743924 \t -0.5499315281120278\n",
            "17     \t [8.2137149  4.92419233]. \t  -17.386606725859917 \t -0.5499315281120278\n",
            "18     \t [-1.88467922 11.31539479]. \t  -10.483642787638232 \t -0.5499315281120278\n",
            "19     \t [5.3495314  0.86596993]. \t  -15.812745751948544 \t -0.5499315281120278\n",
            "20     \t [3.77146194 5.890992  ]. \t  -18.691214278958217 \t -0.5499315281120278\n"
          ]
        }
      ]
    },
    {
      "cell_type": "code",
      "metadata": {
        "id": "9BsKdU9eJTFL",
        "colab": {
          "base_uri": "https://localhost:8080/"
        },
        "outputId": "91f46b70-2e46-4fbb-c273-c1990d6f9e09"
      },
      "source": [
        "### EXACT GP EI GRADIENTS\n",
        "\n",
        "np.random.seed(run_num_13)\n",
        "surrogate_exact_13 = dGaussianProcess(cov_func, optimize=opt)\n",
        "\n",
        "exact_13 = dGPGO(surrogate_exact_13, Acquisition_new(util_grad_exact), objfunc, param)\n",
        "exact_13.run(init_evals=n_init, max_iter=iters)\n"
      ],
      "execution_count": 46,
      "outputs": [
        {
          "output_type": "stream",
          "name": "stdout",
          "text": [
            "Evaluation \t Proposed point \t  Current eval. \t Best eval.\n",
            "init   \t [6.66553616 3.5631183 ]. \t  -24.823670200298267 \t -18.038943061558626\n",
            "init   \t [ 7.36417799 14.48623797]. \t  -188.7803334745195 \t -18.038943061558626\n",
            "init   \t [9.58901671 6.80173871]. \t  -18.038943061558626 \t -18.038943061558626\n",
            "init   \t [ 4.13563694 11.63289772]. \t  -104.87319703906111 \t -18.038943061558626\n",
            "init   \t [ 4.62420017 10.83027344]. \t  -98.03271225790056 \t -18.038943061558626\n",
            "1      \t [-3.51870171  3.68338658]. \t  -91.63196166423945 \t -18.038943061558626\n",
            "2      \t [-3.06562888 11.40851515]. \t  \u001b[92m-0.8943531028899869\u001b[0m \t -0.8943531028899869\n",
            "3      \t [3.45355258 0.14768161]. \t  -4.4584574442767435 \t -0.8943531028899869\n",
            "4      \t [2.11702107 5.4034413 ]. \t  -9.824834872557432 \t -0.8943531028899869\n",
            "5      \t [-4.75761446  7.79864096]. \t  -86.07914796423417 \t -0.8943531028899869\n",
            "6      \t [0.11810731 9.44759555]. \t  -32.73948245934824 \t -0.8943531028899869\n",
            "7      \t [ 1.58458181 14.83770417]. \t  -131.6449314128219 \t -0.8943531028899869\n",
            "8      \t [ 9.61641845 11.3732585 ]. \t  -76.81907312373819 \t -0.8943531028899869\n",
            "9      \t [0.63876262 1.50595424]. \t  -30.17074278718856 \t -0.8943531028899869\n",
            "10     \t [6.89896842 7.9523568 ]. \t  -63.85795188705575 \t -0.8943531028899869\n",
            "11     \t [-2.33946916 13.99983734]. \t  -16.065507328080447 \t -0.8943531028899869\n",
            "12     \t [8.92281654 1.81930689]. \t  -1.6525328656698886 \t -0.8943531028899869\n",
            "13     \t [-4.39820228  0.4778079 ]. \t  -232.66649679749986 \t -0.8943531028899869\n",
            "14     \t [3.83152036 7.63835012]. \t  -36.698454509942 \t -0.8943531028899869\n",
            "15     \t [3.61823841 2.0215899 ]. \t  -1.4760632188007339 \t -0.8943531028899869\n",
            "16     \t [-1.67144737  5.95398835]. \t  -18.442333378368417 \t -0.8943531028899869\n",
            "17     \t [6.23463997 0.19276389]. \t  -20.41162795748648 \t -0.8943531028899869\n",
            "18     \t [-4.69036934 12.69027615]. \t  -22.868966881986033 \t -0.8943531028899869\n",
            "19     \t [-2.20936067  9.03510658]. \t  -5.51279147987421 \t -0.8943531028899869\n",
            "20     \t [-0.52171715 12.89394547]. \t  -54.66683272539423 \t -0.8943531028899869\n"
          ]
        }
      ]
    },
    {
      "cell_type": "code",
      "metadata": {
        "id": "k6GjFBr1JTJf",
        "colab": {
          "base_uri": "https://localhost:8080/"
        },
        "outputId": "3aaa54b6-fb8b-4a5c-bab1-f3df51433fb9"
      },
      "source": [
        "### EXACT GP EI GRADIENTS\n",
        "\n",
        "np.random.seed(run_num_14)\n",
        "surrogate_exact_14 = dGaussianProcess(cov_func, optimize=opt)\n",
        "\n",
        "exact_14 = dGPGO(surrogate_exact_14, Acquisition_new(util_grad_exact), objfunc, param)\n",
        "exact_14.run(init_evals=n_init, max_iter=iters)\n"
      ],
      "execution_count": 47,
      "outputs": [
        {
          "output_type": "stream",
          "name": "stdout",
          "text": [
            "Evaluation \t Proposed point \t  Current eval. \t Best eval.\n",
            "init   \t [ 2.70915016 11.59747578]. \t  -81.58264375064097 \t -1.4149920024014744\n",
            "init   \t [8.05641529 0.12070423]. \t  -10.148649076616518 \t -1.4149920024014744\n",
            "init   \t [-0.35396112 14.36405609]. \t  -79.6056658956529 \t -1.4149920024014744\n",
            "init   \t [2.69675068 4.77426637]. \t  -5.855607664288365 \t -1.4149920024014744\n",
            "init   \t [3.08799906 3.31882414]. \t  -1.4149920024014744 \t -1.4149920024014744\n",
            "1      \t [-4.22572169  4.73878507]. \t  -111.46482334173054 \t -1.4149920024014744\n",
            "2      \t [ 9.02510452 14.92575454]. \t  -164.15736583327134 \t -1.4149920024014744\n",
            "3      \t [8.4415984  6.61360555]. \t  -28.132050221972662 \t -1.4149920024014744\n",
            "4      \t [-3.56440077 10.45517241]. \t  -9.417503090777863 \t -1.4149920024014744\n",
            "5      \t [0.66803776 7.09797512]. \t  -21.96290399417201 \t -1.4149920024014744\n",
            "6      \t [6.62004989 9.71848409]. \t  -92.90383057771416 \t -1.4149920024014744\n",
            "7      \t [2.39913645 1.09477833]. \t  -6.275594219260915 \t -1.4149920024014744\n",
            "8      \t [-1.35370565  0.87566474]. \t  -68.55180305488001 \t -1.4149920024014744\n",
            "9      \t [-4.46898011 13.88225025]. \t  -10.963310952392934 \t -1.4149920024014744\n",
            "10     \t [5.23773902 1.25800499]. \t  -14.81812086605403 \t -1.4149920024014744\n",
            "11     \t [ 4.77429884 14.29695664]. \t  -178.3190329881236 \t -1.4149920024014744\n",
            "12     \t [6.22992118 4.09876061]. \t  -28.589032284140814 \t -1.4149920024014744\n",
            "13     \t [-0.85682591  3.9894286 ]. \t  -28.322450747294944 \t -1.4149920024014744\n",
            "14     \t [3.4023281  7.00784125]. \t  -25.001662383508755 \t -1.4149920024014744\n",
            "15     \t [-4.93346514  1.49099146]. \t  -252.5134905804819 \t -1.4149920024014744\n",
            "16     \t [9.61137218 1.76226403]. \t  \u001b[92m-1.329540884768491\u001b[0m \t -1.329540884768491\n",
            "17     \t [-1.60314984  8.26773905]. \t  -10.068563490487634 \t -1.329540884768491\n",
            "18     \t [8.75413083 2.09485732]. \t  -2.493762238204285 \t -1.329540884768491\n",
            "19     \t [ 8.87478596 11.31878594]. \t  -87.72158625482164 \t -1.329540884768491\n",
            "20     \t [9.83576717 1.94610794]. \t  -2.0028036369127697 \t -1.329540884768491\n"
          ]
        }
      ]
    },
    {
      "cell_type": "code",
      "metadata": {
        "id": "dPS8WB3aJTN6",
        "colab": {
          "base_uri": "https://localhost:8080/"
        },
        "outputId": "ac7ccc4c-f817-4499-cd17-b923135f045a"
      },
      "source": [
        "### EXACT GP EI GRADIENTS\n",
        "\n",
        "np.random.seed(run_num_15)\n",
        "surrogate_exact_15 = dGaussianProcess(cov_func, optimize=opt)\n",
        "\n",
        "exact_15 = dGPGO(surrogate_exact_15, Acquisition_new(util_grad_exact), objfunc, param)\n",
        "exact_15.run(init_evals=n_init, max_iter=iters)\n"
      ],
      "execution_count": 48,
      "outputs": [
        {
          "output_type": "stream",
          "name": "stdout",
          "text": [
            "Evaluation \t Proposed point \t  Current eval. \t Best eval.\n",
            "init   \t [7.73226546 2.68343887]. \t  -12.768724532005583 \t -12.768724532005583\n",
            "init   \t [-4.18455179  5.42307669]. \t  -95.39334176626551 \t -12.768724532005583\n",
            "init   \t [-0.86898607  7.95000337]. \t  -16.419487782111716 \t -12.768724532005583\n",
            "init   \t [-0.41121626  4.56711539]. \t  -23.250362743740954 \t -12.768724532005583\n",
            "init   \t [-3.32388086  3.74848521]. \t  -80.99796277938532 \t -12.768724532005583\n",
            "1      \t [ 6.5655417  11.87699252]. \t  -134.95011349993544 \t -12.768724532005583\n",
            "2      \t [-4.77493765 13.49591113]. \t  -19.896906503438096 \t -12.768724532005583\n",
            "3      \t [3.7940305  1.73082523]. \t  \u001b[92m-2.3782670694928036\u001b[0m \t -2.3782670694928036\n",
            "4      \t [4.35176896 6.82771086]. \t  -34.77911378970321 \t -2.3782670694928036\n",
            "5      \t [8.37150312 7.10816022]. \t  -34.1757242405039 \t -2.3782670694928036\n",
            "6      \t [ 2.96076612 14.94100093]. \t  -157.32381663986516 \t -2.3782670694928036\n",
            "7      \t [2.89089348 9.51754845]. \t  -50.24443951440617 \t -2.3782670694928036\n",
            "8      \t [-4.78823671  9.42913175]. \t  -61.899077029434295 \t -2.3782670694928036\n",
            "9      \t [ 9.76844957 10.19043895]. \t  -55.87172990876561 \t -2.3782670694928036\n",
            "10     \t [-1.48087951 12.18436364]. \t  -23.423358999230484 \t -2.3782670694928036\n",
            "11     \t [-2.95305755  0.1826817 ]. \t  -136.14647040223065 \t -2.3782670694928036\n",
            "12     \t [3.64720342 3.98943877]. \t  -5.907924243160854 \t -2.3782670694928036\n",
            "13     \t [ 9.9505216  13.43399879]. \t  -111.52117530928861 \t -2.3782670694928036\n",
            "14     \t [-1.44080885 14.65457821]. \t  -48.37272426557846 \t -2.3782670694928036\n",
            "15     \t [9.75945768 3.7549204 ]. \t  \u001b[92m-1.897221313535983\u001b[0m \t -1.897221313535983\n",
            "16     \t [0.13296377 0.32740902]. \t  -49.36452927262023 \t -1.897221313535983\n",
            "17     \t [-0.84460839  9.85099019]. \t  -22.206321432425156 \t -1.897221313535983\n",
            "18     \t [5.26658532 0.41492011]. \t  -15.671365654624177 \t -1.897221313535983\n",
            "19     \t [7.20278255 4.61344437]. \t  -27.210359481118093 \t -1.897221313535983\n",
            "20     \t [ 0.59788859 12.46686982]. \t  -72.28660388189944 \t -1.897221313535983\n"
          ]
        }
      ]
    },
    {
      "cell_type": "code",
      "metadata": {
        "id": "SHWdp2giJTRm",
        "colab": {
          "base_uri": "https://localhost:8080/"
        },
        "outputId": "55bbccae-2c93-4c11-e5ca-9a87b16d3b8b"
      },
      "source": [
        "### EXACT GP EI GRADIENTS\n",
        "\n",
        "np.random.seed(run_num_16)\n",
        "surrogate_exact_16 = dGaussianProcess(cov_func, optimize=opt)\n",
        "\n",
        "exact_16 = dGPGO(surrogate_exact_16, Acquisition_new(util_grad_exact), objfunc, param)\n",
        "exact_16.run(init_evals=n_init, max_iter=iters)\n"
      ],
      "execution_count": 49,
      "outputs": [
        {
          "output_type": "stream",
          "name": "stdout",
          "text": [
            "Evaluation \t Proposed point \t  Current eval. \t Best eval.\n",
            "init   \t [-1.65063381  7.84745012]. \t  -10.514702126319445 \t -2.715864006988424\n",
            "init   \t [3.26052185 0.68402925]. \t  -2.715864006988424 \t -2.715864006988424\n",
            "init   \t [0.41093253 3.34621413]. \t  -22.889515127492515 \t -2.715864006988424\n",
            "init   \t [5.33089243 2.45597138]. \t  -17.178157611778595 \t -2.715864006988424\n",
            "init   \t [-3.945127  14.1151629]. \t  -3.3649224341694195 \t -2.715864006988424\n",
            "1      \t [ 5.63879248 14.58068289]. \t  -198.51319639462758 \t -2.715864006988424\n",
            "2      \t [9.4202829  9.76772141]. \t  -53.637049482645274 \t -2.715864006988424\n",
            "3      \t [4.39600939 7.43435868]. \t  -42.22899400142327 \t -2.715864006988424\n",
            "4      \t [-4.78050697  3.31906698]. \t  -185.9943793653784 \t -2.715864006988424\n",
            "5      \t [ 0.8310123  11.57226008]. \t  -62.78985808204933 \t -2.715864006988424\n",
            "6      \t [9.47649634 1.96635995]. \t  \u001b[92m-0.716105388512883\u001b[0m \t -0.716105388512883\n",
            "7      \t [8.11372686 6.27190801]. \t  -29.44334289585009 \t -0.716105388512883\n",
            "8      \t [1.69719041 6.12828073]. \t  -14.828063885755828 \t -0.716105388512883\n",
            "9      \t [8.58924681 0.80210851]. \t  -4.679032567618621 \t -0.716105388512883\n",
            "10     \t [-4.69086481  8.28518171]. \t  -74.16451379500793 \t -0.716105388512883\n",
            "11     \t [-1.81630169  0.03780901]. \t  -93.7679062553416 \t -0.716105388512883\n",
            "12     \t [9.96130868 2.18266403]. \t  -2.3587855170074015 \t -0.716105388512883\n",
            "13     \t [-1.91730355 13.61105775]. \t  -23.423635225809896 \t -0.716105388512883\n",
            "14     \t [ 1.30509226 14.884634  ]. \t  -127.90589634494864 \t -0.716105388512883\n",
            "15     \t [9.2162404 3.20128  ]. \t  -1.409753702479545 \t -0.716105388512883\n",
            "16     \t [ 8.89159831 13.37746445]. \t  -129.77097780099564 \t -0.716105388512883\n",
            "17     \t [ 3.95757684 10.72893608]. \t  -84.49804386068445 \t -0.716105388512883\n",
            "18     \t [0.3799992  7.50141565]. \t  -23.27500608942141 \t -0.716105388512883\n",
            "19     \t [2.59480536 1.61840513]. \t  -3.0559468407557224 \t -0.716105388512883\n",
            "20     \t [3.73614389 4.15562675]. \t  -7.3292983906627995 \t -0.716105388512883\n"
          ]
        }
      ]
    },
    {
      "cell_type": "code",
      "metadata": {
        "id": "yU2SflSsJTUs",
        "colab": {
          "base_uri": "https://localhost:8080/"
        },
        "outputId": "d7cbfc97-a454-4250-9237-9e2200a1649e"
      },
      "source": [
        "### EXACT GP EI GRADIENTS\n",
        "\n",
        "np.random.seed(run_num_17)\n",
        "surrogate_exact_17 = dGaussianProcess(cov_func, optimize=opt)\n",
        "\n",
        "exact_17 = dGPGO(surrogate_exact_17, Acquisition_new(util_grad_exact), objfunc, param)\n",
        "exact_17.run(init_evals=n_init, max_iter=iters)\n"
      ],
      "execution_count": 50,
      "outputs": [
        {
          "output_type": "stream",
          "name": "stdout",
          "text": [
            "Evaluation \t Proposed point \t  Current eval. \t Best eval.\n",
            "init   \t [-0.58002496  7.95880133]. \t  -19.016141117164256 \t -19.016141117164256\n",
            "init   \t [-2.1271882   1.01850537]. \t  -85.05949339404415 \t -19.016141117164256\n",
            "init   \t [6.8047819  9.84500283]. \t  -93.89792695202516 \t -19.016141117164256\n",
            "init   \t [4.56281344 8.63404341]. \t  -60.50217141122736 \t -19.016141117164256\n",
            "init   \t [-4.41405626  5.36720407]. \t  -110.70834086593878 \t -19.016141117164256\n",
            "1      \t [9.76575296 0.98553483]. \t  \u001b[92m-4.1623278326263815\u001b[0m \t -4.1623278326263815\n",
            "2      \t [-0.36591853 14.49945231]. \t  -81.3728947682288 \t -4.1623278326263815\n",
            "3      \t [3.74599703 2.35814314]. \t  \u001b[92m-2.3563457989420957\u001b[0m \t -2.3563457989420957\n",
            "4      \t [ 4.18922649 13.8872564 ]. \t  -156.18470169780608 \t -2.3563457989420957\n",
            "5      \t [9.29977095 5.44257151]. \t  -9.903848503973805 \t -2.3563457989420957\n",
            "6      \t [-3.13909811 10.48291369]. \t  -3.5880423717448844 \t -2.3563457989420957\n",
            "7      \t [ 8.72170322 14.74986563]. \t  -166.61906877973004 \t -2.3563457989420957\n",
            "8      \t [5.29553915 4.6907118 ]. \t  -27.510438094628615 \t -2.3563457989420957\n",
            "9      \t [-4.44604185 12.96911917]. \t  -14.551447953893447 \t -2.3563457989420957\n",
            "10     \t [0.64563221 3.29612123]. \t  -20.662892056911513 \t -2.3563457989420957\n",
            "11     \t [7.3378855 1.8731809]. \t  -15.09363486598416 \t -2.3563457989420957\n",
            "12     \t [ 1.15141279 11.12212037]. \t  -59.92425734577053 \t -2.3563457989420957\n",
            "13     \t [-1.86902859 11.38774672]. \t  -11.027336746628539 \t -2.3563457989420957\n",
            "14     \t [1.6000303  0.57382109]. \t  -20.025849049710658 \t -2.3563457989420957\n",
            "15     \t [9.60199755 9.94859823]. \t  -54.13144710958927 \t -2.3563457989420957\n",
            "16     \t [-4.20033099  9.46856996]. \t  -35.497271834871505 \t -2.3563457989420957\n",
            "17     \t [4.67268131 1.34433307]. \t  -9.620380681477968 \t -2.3563457989420957\n",
            "18     \t [1.73007698 7.60487113]. \t  -24.251456273146516 \t -2.3563457989420957\n",
            "19     \t [2.0478516  5.23649657]. \t  -9.409132644385814 \t -2.3563457989420957\n",
            "20     \t [9.9683401  3.23455468]. \t  \u001b[92m-1.8509281105180317\u001b[0m \t -1.8509281105180317\n"
          ]
        }
      ]
    },
    {
      "cell_type": "code",
      "metadata": {
        "id": "es0KCh_0JTgY",
        "colab": {
          "base_uri": "https://localhost:8080/"
        },
        "outputId": "a5b4d5d9-270e-443a-dd6b-e4f6e53f3173"
      },
      "source": [
        "### EXACT GP EI GRADIENTS\n",
        "\n",
        "np.random.seed(run_num_18)\n",
        "surrogate_exact_18 = dGaussianProcess(cov_func, optimize=opt)\n",
        "\n",
        "exact_18 = dGPGO(surrogate_exact_18, Acquisition_new(util_grad_exact), objfunc, param)\n",
        "exact_18.run(init_evals=n_init, max_iter=iters)\n"
      ],
      "execution_count": 51,
      "outputs": [
        {
          "output_type": "stream",
          "name": "stdout",
          "text": [
            "Evaluation \t Proposed point \t  Current eval. \t Best eval.\n",
            "init   \t [4.75561363 7.58180061]. \t  -49.215059064668324 \t -8.150075223157177\n",
            "init   \t [8.17902206 2.72760338]. \t  -8.150075223157177 \t -8.150075223157177\n",
            "init   \t [ 7.78349603 11.25204429]. \t  -106.98107856533271 \t -8.150075223157177\n",
            "init   \t [ 4.99152501 14.81843172]. \t  -196.08601750690153 \t -8.150075223157177\n",
            "init   \t [-1.14547366  0.42458888]. \t  -71.23649635555944 \t -8.150075223157177\n",
            "1      \t [-4.83474958 11.77354131]. \t  -35.58412906267954 \t -8.150075223157177\n",
            "2      \t [-2.05332579  5.79675967]. \t  -21.671632394353423 \t -8.150075223157177\n",
            "3      \t [-1.35714595  9.96791359]. \t  -14.500857388491594 \t -8.150075223157177\n",
            "4      \t [-1.59168904 14.5321509 ]. \t  -41.96660044342721 \t -8.150075223157177\n",
            "5      \t [8.48364674 7.50515098]. \t  -36.945014181400296 \t -8.150075223157177\n",
            "6      \t [3.02772405 0.35064413]. \t  \u001b[92m-4.5196203522166485\u001b[0m \t -4.5196203522166485\n",
            "7      \t [1.73262598 4.41092853]. \t  -9.062324356322549 \t -4.5196203522166485\n",
            "8      \t [ 9.16130626 14.89382603]. \t  -160.29925030784023 \t -4.5196203522166485\n",
            "9      \t [4.36101504 3.84041828]. \t  -12.097436741142262 \t -4.5196203522166485\n",
            "10     \t [6.19233768 1.80427253]. \t  -20.061089899578104 \t -4.5196203522166485\n",
            "11     \t [ 0.64879619 11.85765653]. \t  -64.38018470175419 \t -4.5196203522166485\n",
            "12     \t [1.59392718 7.61696088]. \t  -24.41288614902066 \t -4.5196203522166485\n",
            "13     \t [9.68749597 0.65488194]. \t  -4.932493670356733 \t -4.5196203522166485\n",
            "14     \t [-3.80697323  3.10220254]. \t  -119.71474253861555 \t -4.5196203522166485\n",
            "15     \t [-4.16763825  7.30676459]. \t  -62.33010366493873 \t -4.5196203522166485\n",
            "16     \t [-0.42617597  4.32407378]. \t  -24.39654737962522 \t -4.5196203522166485\n",
            "17     \t [ 4.31837389 10.18983225]. \t  -81.19958068116573 \t -4.5196203522166485\n",
            "18     \t [9.64940245 4.27617057]. \t  \u001b[92m-3.215706245160682\u001b[0m \t -3.215706245160682\n",
            "19     \t [7.76799161 4.98591703]. \t  -23.454501387536858 \t -3.215706245160682\n",
            "20     \t [-4.62022187  0.09687148]. \t  -265.5667137268599 \t -3.215706245160682\n"
          ]
        }
      ]
    },
    {
      "cell_type": "code",
      "metadata": {
        "id": "Pput2LHPIwBM",
        "colab": {
          "base_uri": "https://localhost:8080/"
        },
        "outputId": "78b4889d-0ac4-4dd7-fd3b-e70c3689b7b8"
      },
      "source": [
        "### EXACT GP EI GRADIENTS\n",
        "\n",
        "np.random.seed(run_num_19)\n",
        "surrogate_exact_19 = dGaussianProcess(cov_func, optimize=opt)\n",
        "\n",
        "exact_19 = dGPGO(surrogate_exact_19, Acquisition_new(util_grad_exact), objfunc, param)\n",
        "exact_19.run(init_evals=n_init, max_iter=iters)\n"
      ],
      "execution_count": 52,
      "outputs": [
        {
          "output_type": "stream",
          "name": "stdout",
          "text": [
            "Evaluation \t Proposed point \t  Current eval. \t Best eval.\n",
            "init   \t [-3.53699597 11.41874575]. \t  -4.475608269502271 \t -4.475608269502271\n",
            "init   \t [-1.2959304   2.07197531]. \t  -51.13947793770689 \t -4.475608269502271\n",
            "init   \t [-0.02830155  1.24499348]. \t  -42.63973921760034 \t -4.475608269502271\n",
            "init   \t [ 5.07965622 12.09890697]. \t  -131.17235664506808 \t -4.475608269502271\n",
            "init   \t [9.74112872 9.53491102]. \t  -46.84458913925112 \t -4.475608269502271\n",
            "1      \t [9.57054653 2.03489665]. \t  \u001b[92m-0.8198597583535783\u001b[0m \t -0.8198597583535783\n",
            "2      \t [6.11329258 5.41735512]. \t  -38.117927043424075 \t -0.8198597583535783\n",
            "3      \t [0.24123074 9.2055833 ]. \t  -32.15477878057382 \t -0.8198597583535783\n",
            "4      \t [-4.73698528  6.17413974]. \t  -115.58136328698743 \t -0.8198597583535783\n",
            "5      \t [ 0.47999855 13.45348592]. \t  -85.55486355117951 \t -0.8198597583535783\n",
            "6      \t [5.08978893 1.78765601]. \t  -13.831817651611258 \t -0.8198597583535783\n",
            "7      \t [2.45707426 6.29384476]. \t  -14.28811629766777 \t -0.8198597583535783\n",
            "8      \t [-4.92943359  2.68994588]. \t  -216.40296568012624 \t -0.8198597583535783\n",
            "9      \t [5.75794343 9.20509979]. \t  -83.69407184344874 \t -0.8198597583535783\n",
            "10     \t [9.7443578 4.1118297]. \t  -2.7175544112089245 \t -0.8198597583535783\n",
            "11     \t [-0.2801183   4.94698559]. \t  -21.504848578748636 \t -0.8198597583535783\n",
            "12     \t [9.12571809 0.05821631]. \t  -5.559386672543548 \t -0.8198597583535783\n",
            "13     \t [ 9.95156532 14.49046213]. \t  -134.7618195987743 \t -0.8198597583535783\n",
            "14     \t [9.90754257 4.97605941]. \t  -5.754244302484558 \t -0.8198597583535783\n",
            "15     \t [-4.8663682  12.90107433]. \t  -26.708279309065674 \t -0.8198597583535783\n",
            "16     \t [2.15818715 2.51704872]. \t  -5.100837246430838 \t -0.8198597583535783\n",
            "17     \t [7.95642491 2.48482832]. \t  -9.958725805029438 \t -0.8198597583535783\n",
            "18     \t [-2.38078553 11.13583246]. \t  -3.422944050930089 \t -0.8198597583535783\n",
            "19     \t [2.88763547 8.64717722]. \t  -38.72289169953404 \t -0.8198597583535783\n",
            "20     \t [-2.07390437  8.46055026]. \t  -7.318602337509948 \t -0.8198597583535783\n"
          ]
        }
      ]
    },
    {
      "cell_type": "code",
      "metadata": {
        "id": "aw3xvSryIwDi",
        "colab": {
          "base_uri": "https://localhost:8080/"
        },
        "outputId": "da7e44aa-34db-469f-ff4a-9a8a05b49fa0"
      },
      "source": [
        "### EXACT GP EI GRADIENTS\n",
        "\n",
        "np.random.seed(run_num_20)\n",
        "surrogate_exact_20 = dGaussianProcess(cov_func, optimize=opt)\n",
        "\n",
        "exact_20 = dGPGO(surrogate_exact_20, Acquisition_new(util_grad_exact), objfunc, param)\n",
        "exact_20.run(init_evals=n_init, max_iter=iters)\n"
      ],
      "execution_count": 53,
      "outputs": [
        {
          "output_type": "stream",
          "name": "stdout",
          "text": [
            "Evaluation \t Proposed point \t  Current eval. \t Best eval.\n",
            "init   \t [ 3.82196202 13.46570592]. \t  -138.5264349938869 \t -14.042667401507376\n",
            "init   \t [ 8.37296094 12.23756216]. \t  -115.63178540512689 \t -14.042667401507376\n",
            "init   \t [-4.46165622 10.37636373]. \t  -35.66708529307584 \t -14.042667401507376\n",
            "init   \t [0.68021413 7.77766418]. \t  -25.307769914281764 \t -14.042667401507376\n",
            "init   \t [4.86927198 2.90775327]. \t  -14.042667401507376 \t -14.042667401507376\n",
            "1      \t [7.59246884 6.91559094]. \t  -43.31240836965841 \t -14.042667401507376\n",
            "2      \t [-4.4669446   1.82165655]. \t  -199.9161757804979 \t -14.042667401507376\n",
            "3      \t [-0.92129209 14.36070813]. \t  -61.840478090792594 \t -14.042667401507376\n",
            "4      \t [9.27672345 3.31678741]. \t  \u001b[92m-1.4319279860625826\u001b[0m \t -1.4319279860625826\n",
            "5      \t [0.58899051 3.1032798 ]. \t  -22.000704159204417 \t -1.4319279860625826\n",
            "6      \t [8.57377587 0.20539103]. \t  -6.3770995162900785 \t -1.4319279860625826\n",
            "7      \t [-3.35965081  5.59458112]. \t  -52.61813224481936 \t -1.4319279860625826\n",
            "8      \t [4.30853594 9.78508089]. \t  -74.19378513284633 \t -1.4319279860625826\n",
            "9      \t [3.80563362 0.42348623]. \t  -4.372079444743489 \t -1.4319279860625826\n",
            "10     \t [6.71945717 1.16221106]. \t  -18.703278168280036 \t -1.4319279860625826\n",
            "11     \t [9.51045252 2.13838302]. \t  \u001b[92m-0.6010696989169553\u001b[0m \t -0.6010696989169553\n",
            "12     \t [-4.03280601 14.47921461]. \t  -3.966988110208977 \t -0.6010696989169553\n",
            "13     \t [ 0.69976162 11.63379103]. \t  -62.02462528736736 \t -0.6010696989169553\n",
            "14     \t [-3.10966727  8.23532297]. \t  -16.108817818992122 \t -0.6010696989169553\n",
            "15     \t [2.68189399 5.73749422]. \t  -10.860766874964849 \t -0.6010696989169553\n",
            "16     \t [2.02473343 0.62538453]. \t  -12.981185938803439 \t -0.6010696989169553\n",
            "17     \t [9.3356287  4.01328396]. \t  -3.0360350460060594 \t -0.6010696989169553\n",
            "18     \t [-4.17307195 13.07156898]. \t  -8.380392572479602 \t -0.6010696989169553\n",
            "19     \t [7.24289984 3.9379711 ]. \t  -22.736941125130784 \t -0.6010696989169553\n",
            "20     \t [0.20021167 0.82798473]. \t  -43.01578300367741 \t -0.6010696989169553\n"
          ]
        }
      ]
    },
    {
      "cell_type": "code",
      "metadata": {
        "id": "qNqAB3vBTPqb",
        "colab": {
          "base_uri": "https://localhost:8080/"
        },
        "outputId": "87a2885e-e288-4bbe-e924-d7671676965d"
      },
      "source": [
        "end_exact = time.time()\n",
        "end_exact\n",
        "\n",
        "time_exact = end_exact - start_exact\n",
        "time_exact"
      ],
      "execution_count": 54,
      "outputs": [
        {
          "output_type": "execute_result",
          "data": {
            "text/plain": [
              "51.19498014450073"
            ]
          },
          "metadata": {},
          "execution_count": 54
        }
      ]
    },
    {
      "cell_type": "code",
      "metadata": {
        "id": "JPQzjdBZQxfg",
        "colab": {
          "base_uri": "https://localhost:8080/"
        },
        "outputId": "20580469-d775-4f33-e618-8d08d75eb6f7"
      },
      "source": [
        "### Simple regret minimization: run number = 1\n",
        "\n",
        "approx_output_1 = np.append(np.min(approx_1.GP.y[0:n_init]),approx_1.GP.y[n_init:(n_init+iters)]) \n",
        "exact_output_1 = np.append(np.min(exact_1.GP.y[0:n_init]),exact_1.GP.y[n_init:(n_init+iters)]) \n",
        "\n",
        "regret_approx_1 = np.log(-approx_output_1 + y_global_orig)\n",
        "regret_exact_1 = np.log(-exact_output_1 + y_global_orig)\n",
        "\n",
        "simple_regret_approx_1 = min_max_array(regret_approx_1)\n",
        "simple_regret_exact_1 = min_max_array(regret_exact_1)\n",
        "\n",
        "min_simple_regret_approx_1 = min(simple_regret_approx_1)\n",
        "min_simple_regret_exact_1 = min(simple_regret_exact_1)\n",
        "\n",
        "min_simple_regret_approx_1, min_simple_regret_exact_1"
      ],
      "execution_count": 55,
      "outputs": [
        {
          "output_type": "execute_result",
          "data": {
            "text/plain": [
              "(1.4954411414241748, -0.9409769675632028)"
            ]
          },
          "metadata": {},
          "execution_count": 55
        }
      ]
    },
    {
      "cell_type": "code",
      "metadata": {
        "id": "94yBw5tqQxfk",
        "colab": {
          "base_uri": "https://localhost:8080/"
        },
        "outputId": "3ec18348-a20a-4d23-e473-78609ffb084c"
      },
      "source": [
        "### Simple regret minimization: run number = 2\n",
        "\n",
        "approx_output_2 = np.append(np.min(approx_2.GP.y[0:n_init]),approx_2.GP.y[n_init:(n_init+iters)]) \n",
        "exact_output_2 = np.append(np.min(exact_2.GP.y[0:n_init]),exact_2.GP.y[n_init:(n_init+iters)]) \n",
        "\n",
        "regret_approx_2 = np.log(-approx_output_2 + y_global_orig)\n",
        "regret_exact_2 = np.log(-exact_output_2 + y_global_orig)\n",
        "\n",
        "simple_regret_approx_2 = min_max_array(regret_approx_2)\n",
        "simple_regret_exact_2 = min_max_array(regret_exact_2)\n",
        "\n",
        "min_simple_regret_approx_2 = min(simple_regret_approx_2)\n",
        "min_simple_regret_exact_2 = min(simple_regret_exact_2)\n",
        "\n",
        "min_simple_regret_approx_2, min_simple_regret_exact_2"
      ],
      "execution_count": 56,
      "outputs": [
        {
          "output_type": "execute_result",
          "data": {
            "text/plain": [
              "(0.0005721783316311656, 0.0005721783316311656)"
            ]
          },
          "metadata": {},
          "execution_count": 56
        }
      ]
    },
    {
      "cell_type": "code",
      "metadata": {
        "id": "Bu6SBWALQxfl",
        "colab": {
          "base_uri": "https://localhost:8080/"
        },
        "outputId": "12ee3c89-bf37-41b9-a7ad-9bc9e1eebac7"
      },
      "source": [
        "### Simple regret minimization: run number = 3\n",
        "\n",
        "approx_output_3 = np.append(np.min(approx_3.GP.y[0:n_init]),approx_3.GP.y[n_init:(n_init+iters)]) \n",
        "exact_output_3 = np.append(np.min(exact_3.GP.y[0:n_init]),exact_3.GP.y[n_init:(n_init+iters)]) \n",
        "\n",
        "regret_approx_3 = np.log(-approx_output_3 + y_global_orig)\n",
        "regret_exact_3 = np.log(-exact_output_3 + y_global_orig)\n",
        "\n",
        "simple_regret_approx_3 = min_max_array(regret_approx_3)\n",
        "simple_regret_exact_3 = min_max_array(regret_exact_3)\n",
        "\n",
        "min_simple_regret_approx_3 = min(simple_regret_approx_3)\n",
        "min_simple_regret_exact_3 = min(simple_regret_exact_3)\n",
        "\n",
        "min_simple_regret_approx_3, min_simple_regret_exact_3"
      ],
      "execution_count": 57,
      "outputs": [
        {
          "output_type": "execute_result",
          "data": {
            "text/plain": [
              "(1.0383875198920414, 0.039986422039467895)"
            ]
          },
          "metadata": {},
          "execution_count": 57
        }
      ]
    },
    {
      "cell_type": "code",
      "metadata": {
        "id": "AZm0jgxkQxfm",
        "colab": {
          "base_uri": "https://localhost:8080/"
        },
        "outputId": "02025851-782c-40fd-e676-adecf148ec5e"
      },
      "source": [
        "### Simple regret minimization: run number = 4\n",
        "\n",
        "approx_output_4 = np.append(np.min(approx_4.GP.y[0:n_init]),approx_4.GP.y[n_init:(n_init+iters)]) \n",
        "exact_output_4 = np.append(np.min(exact_4.GP.y[0:n_init]),exact_4.GP.y[n_init:(n_init+iters)]) \n",
        "\n",
        "regret_approx_4 = np.log(-approx_output_4 + y_global_orig)\n",
        "regret_exact_4 = np.log(-exact_output_4 + y_global_orig)\n",
        "\n",
        "simple_regret_approx_4 = min_max_array(regret_approx_4)\n",
        "simple_regret_exact_4 = min_max_array(regret_exact_4)\n",
        "\n",
        "min_simple_regret_approx_4 = min(simple_regret_approx_4)\n",
        "min_simple_regret_exact_4 = min(simple_regret_exact_4)\n",
        "\n",
        "min_simple_regret_approx_4, min_simple_regret_exact_4"
      ],
      "execution_count": 58,
      "outputs": [
        {
          "output_type": "execute_result",
          "data": {
            "text/plain": [
              "(-1.6142413222639251, -0.29386035008951306)"
            ]
          },
          "metadata": {},
          "execution_count": 58
        }
      ]
    },
    {
      "cell_type": "code",
      "metadata": {
        "id": "NONPm8JIQxfn",
        "colab": {
          "base_uri": "https://localhost:8080/"
        },
        "outputId": "d4ba70b0-47a9-424b-97ea-ab66f6fb564a"
      },
      "source": [
        "### Simple regret minimization: run number = 5\n",
        "\n",
        "approx_output_5 = np.append(np.min(approx_5.GP.y[0:n_init]),approx_5.GP.y[n_init:(n_init+iters)]) \n",
        "exact_output_5 = np.append(np.min(exact_5.GP.y[0:n_init]),exact_5.GP.y[n_init:(n_init+iters)]) \n",
        "\n",
        "regret_approx_5 = np.log(-approx_output_5 + y_global_orig)\n",
        "regret_exact_5 = np.log(-exact_output_5 + y_global_orig)\n",
        "\n",
        "simple_regret_approx_5 = min_max_array(regret_approx_5)\n",
        "simple_regret_exact_5 = min_max_array(regret_exact_5)\n",
        "\n",
        "min_simple_regret_approx_5 = min(simple_regret_approx_5)\n",
        "min_simple_regret_exact_5 = min(simple_regret_exact_5)\n",
        "\n",
        "min_simple_regret_approx_5, min_simple_regret_exact_5"
      ],
      "execution_count": 59,
      "outputs": [
        {
          "output_type": "execute_result",
          "data": {
            "text/plain": [
              "(0.8522190672362863, -1.0296496221951084)"
            ]
          },
          "metadata": {},
          "execution_count": 59
        }
      ]
    },
    {
      "cell_type": "code",
      "metadata": {
        "id": "CJv3lPuSQxfp",
        "colab": {
          "base_uri": "https://localhost:8080/"
        },
        "outputId": "2b33b490-f85f-4077-885a-ef7a126a9486"
      },
      "source": [
        "### Simple regret minimization: run number = 6\n",
        "\n",
        "approx_output_6 = np.append(np.min(approx_6.GP.y[0:n_init]),approx_6.GP.y[n_init:(n_init+iters)]) \n",
        "exact_output_6 = np.append(np.min(exact_6.GP.y[0:n_init]),exact_6.GP.y[n_init:(n_init+iters)]) \n",
        "\n",
        "regret_approx_6 = np.log(-approx_output_6 + y_global_orig)\n",
        "regret_exact_6 = np.log(-exact_output_6 + y_global_orig)\n",
        "\n",
        "simple_regret_approx_6 = min_max_array(regret_approx_6)\n",
        "simple_regret_exact_6 = min_max_array(regret_exact_6)\n",
        "\n",
        "min_simple_regret_approx_6 = min(simple_regret_approx_6)\n",
        "min_simple_regret_exact_6 = min(simple_regret_exact_6)\n",
        "\n",
        "min_simple_regret_approx_6, min_simple_regret_exact_6"
      ],
      "execution_count": 60,
      "outputs": [
        {
          "output_type": "execute_result",
          "data": {
            "text/plain": [
              "(-1.9052524213952455, -1.1217757902957497)"
            ]
          },
          "metadata": {},
          "execution_count": 60
        }
      ]
    },
    {
      "cell_type": "code",
      "metadata": {
        "id": "quR2ZyApQxfq",
        "colab": {
          "base_uri": "https://localhost:8080/"
        },
        "outputId": "da6467d1-3d4c-4756-ea0e-a4601682d782"
      },
      "source": [
        "### Simple regret minimization: run number = 7\n",
        "\n",
        "approx_output_7 = np.append(np.min(approx_7.GP.y[0:n_init]),approx_7.GP.y[n_init:(n_init+iters)]) \n",
        "exact_output_7 = np.append(np.min(exact_7.GP.y[0:n_init]),exact_7.GP.y[n_init:(n_init+iters)]) \n",
        "\n",
        "regret_approx_7 = np.log(-approx_output_7 + y_global_orig)\n",
        "regret_exact_7 = np.log(-exact_output_7 + y_global_orig)\n",
        "\n",
        "simple_regret_approx_7 = min_max_array(regret_approx_7)\n",
        "simple_regret_exact_7 = min_max_array(regret_exact_7)\n",
        "\n",
        "min_simple_regret_approx_7 = min(simple_regret_approx_7)\n",
        "min_simple_regret_exact_7 = min(simple_regret_exact_7)\n",
        "\n",
        "min_simple_regret_approx_7, min_simple_regret_exact_7"
      ],
      "execution_count": 61,
      "outputs": [
        {
          "output_type": "execute_result",
          "data": {
            "text/plain": [
              "(0.7868089888471265, -0.28124602626130507)"
            ]
          },
          "metadata": {},
          "execution_count": 61
        }
      ]
    },
    {
      "cell_type": "code",
      "metadata": {
        "id": "99wY5nK6Qxfr",
        "colab": {
          "base_uri": "https://localhost:8080/"
        },
        "outputId": "f85356b9-a1de-4d79-9876-17a6ac627bf8"
      },
      "source": [
        "### Simple regret minimization: run number = 8\n",
        "\n",
        "approx_output_8 = np.append(np.min(approx_8.GP.y[0:n_init]),approx_8.GP.y[n_init:(n_init+iters)]) \n",
        "exact_output_8 = np.append(np.min(exact_8.GP.y[0:n_init]),exact_8.GP.y[n_init:(n_init+iters)]) \n",
        "\n",
        "regret_approx_8 = np.log(-approx_output_8 + y_global_orig)\n",
        "regret_exact_8 = np.log(-exact_output_8 + y_global_orig)\n",
        "\n",
        "simple_regret_approx_8 = min_max_array(regret_approx_8)\n",
        "simple_regret_exact_8 = min_max_array(regret_exact_8)\n",
        "\n",
        "min_simple_regret_approx_8 = min(simple_regret_approx_8)\n",
        "min_simple_regret_exact_8 = min(simple_regret_exact_8)\n",
        "\n",
        "min_simple_regret_approx_8, min_simple_regret_exact_8"
      ],
      "execution_count": 62,
      "outputs": [
        {
          "output_type": "execute_result",
          "data": {
            "text/plain": [
              "(1.797177111480606, -1.258728225073943)"
            ]
          },
          "metadata": {},
          "execution_count": 62
        }
      ]
    },
    {
      "cell_type": "code",
      "metadata": {
        "id": "qt0P5t9qQxfs",
        "colab": {
          "base_uri": "https://localhost:8080/"
        },
        "outputId": "d8fa3172-78c8-4e8a-8386-37459e59d34e"
      },
      "source": [
        "### Simple regret minimization: run number = 9\n",
        "\n",
        "approx_output_9 = np.append(np.min(approx_9.GP.y[0:n_init]),approx_9.GP.y[n_init:(n_init+iters)]) \n",
        "exact_output_9 = np.append(np.min(exact_9.GP.y[0:n_init]),exact_9.GP.y[n_init:(n_init+iters)]) \n",
        "\n",
        "regret_approx_9 = np.log(-approx_output_9 + y_global_orig)\n",
        "regret_exact_9 = np.log(-exact_output_9 + y_global_orig)\n",
        "\n",
        "simple_regret_approx_9 = min_max_array(regret_approx_9)\n",
        "simple_regret_exact_9 = min_max_array(regret_exact_9)\n",
        "\n",
        "min_simple_regret_approx_9 = min(simple_regret_approx_9)\n",
        "min_simple_regret_exact_9 = min(simple_regret_exact_9)\n",
        "\n",
        "min_simple_regret_approx_9, min_simple_regret_exact_9"
      ],
      "execution_count": 63,
      "outputs": [
        {
          "output_type": "execute_result",
          "data": {
            "text/plain": [
              "(0.5890523437213153, -0.4385220047540316)"
            ]
          },
          "metadata": {},
          "execution_count": 63
        }
      ]
    },
    {
      "cell_type": "code",
      "metadata": {
        "id": "vx8to9stQxft",
        "colab": {
          "base_uri": "https://localhost:8080/"
        },
        "outputId": "5b7cee5c-09f7-4e47-bd1b-d795d177f6f2"
      },
      "source": [
        "### Simple regret minimization: run number = 10\n",
        "\n",
        "approx_output_10 = np.append(np.min(approx_10.GP.y[0:n_init]),approx_10.GP.y[n_init:(n_init+iters)]) \n",
        "exact_output_10 = np.append(np.min(exact_10.GP.y[0:n_init]),exact_10.GP.y[n_init:(n_init+iters)]) \n",
        "\n",
        "regret_approx_10 = np.log(-approx_output_10 + y_global_orig)\n",
        "regret_exact_10 = np.log(-exact_output_10 + y_global_orig)\n",
        "\n",
        "simple_regret_approx_10 = min_max_array(regret_approx_10)\n",
        "simple_regret_exact_10 = min_max_array(regret_exact_10)\n",
        "\n",
        "min_simple_regret_approx_10 = min(simple_regret_approx_10)\n",
        "min_simple_regret_exact_10 = min(simple_regret_exact_10)\n",
        "\n",
        "min_simple_regret_approx_10, min_simple_regret_exact_10"
      ],
      "execution_count": 64,
      "outputs": [
        {
          "output_type": "execute_result",
          "data": {
            "text/plain": [
              "(0.606281946201423, -1.404930537250103)"
            ]
          },
          "metadata": {},
          "execution_count": 64
        }
      ]
    },
    {
      "cell_type": "code",
      "metadata": {
        "id": "d-FGzWyHQxfu",
        "colab": {
          "base_uri": "https://localhost:8080/"
        },
        "outputId": "53a8ea8a-8cec-4d46-9812-03b263b1675f"
      },
      "source": [
        "### Simple regret minimization: run number = 11\n",
        "\n",
        "approx_output_11 = np.append(np.min(approx_11.GP.y[0:n_init]),approx_11.GP.y[n_init:(n_init+iters)]) \n",
        "exact_output_11 = np.append(np.min(exact_11.GP.y[0:n_init]),exact_11.GP.y[n_init:(n_init+iters)]) \n",
        "\n",
        "regret_approx_11 = np.log(-approx_output_11 + y_global_orig)\n",
        "regret_exact_11 = np.log(-exact_output_11 + y_global_orig)\n",
        "\n",
        "simple_regret_approx_11 = min_max_array(regret_approx_11)\n",
        "simple_regret_exact_11 = min_max_array(regret_exact_11)\n",
        "\n",
        "min_simple_regret_approx_11 = min(simple_regret_approx_11)\n",
        "min_simple_regret_exact_11 = min(simple_regret_exact_11)\n",
        "\n",
        "min_simple_regret_approx_11, min_simple_regret_exact_11"
      ],
      "execution_count": 65,
      "outputs": [
        {
          "output_type": "execute_result",
          "data": {
            "text/plain": [
              "(-0.5207374833902783, -0.9450725669109371)"
            ]
          },
          "metadata": {},
          "execution_count": 65
        }
      ]
    },
    {
      "cell_type": "code",
      "metadata": {
        "id": "SvtsssyjQxfv",
        "colab": {
          "base_uri": "https://localhost:8080/"
        },
        "outputId": "e6179372-fa2a-4695-8661-b86dfac1bb55"
      },
      "source": [
        "### Simple regret minimization: run number = 12\n",
        "\n",
        "approx_output_12 = np.append(np.min(approx_12.GP.y[0:n_init]),approx_12.GP.y[n_init:(n_init+iters)]) \n",
        "exact_output_12 = np.append(np.min(exact_12.GP.y[0:n_init]),exact_12.GP.y[n_init:(n_init+iters)]) \n",
        "\n",
        "regret_approx_12 = np.log(-approx_output_12 + y_global_orig)\n",
        "regret_exact_12 = np.log(-exact_output_12 + y_global_orig)\n",
        "\n",
        "simple_regret_approx_12 = min_max_array(regret_approx_12)\n",
        "simple_regret_exact_12 = min_max_array(regret_exact_12)\n",
        "\n",
        "min_simple_regret_approx_12 = min(simple_regret_approx_12)\n",
        "min_simple_regret_exact_12 = min(simple_regret_exact_12)\n",
        "\n",
        "min_simple_regret_approx_12, min_simple_regret_exact_12"
      ],
      "execution_count": 66,
      "outputs": [
        {
          "output_type": "execute_result",
          "data": {
            "text/plain": [
              "(-0.06557412435572195, 0.022930380551075498)"
            ]
          },
          "metadata": {},
          "execution_count": 66
        }
      ]
    },
    {
      "cell_type": "code",
      "metadata": {
        "id": "K6OiGcHkQxfw",
        "colab": {
          "base_uri": "https://localhost:8080/"
        },
        "outputId": "54822109-c90d-427f-d2a4-97d3d0682700"
      },
      "source": [
        "### Simple regret minimization: run number = 13\n",
        "\n",
        "approx_output_13 = np.append(np.min(approx_13.GP.y[0:n_init]),approx_13.GP.y[n_init:(n_init+iters)]) \n",
        "exact_output_13 = np.append(np.min(exact_13.GP.y[0:n_init]),exact_13.GP.y[n_init:(n_init+iters)]) \n",
        "\n",
        "regret_approx_13 = np.log(-approx_output_13 + y_global_orig)\n",
        "regret_exact_13 = np.log(-exact_output_13 + y_global_orig)\n",
        "\n",
        "simple_regret_approx_13 = min_max_array(regret_approx_13)\n",
        "simple_regret_exact_13 = min_max_array(regret_exact_13)\n",
        "\n",
        "min_simple_regret_approx_13 = min(simple_regret_approx_13)\n",
        "min_simple_regret_exact_13 = min(simple_regret_exact_13)\n",
        "\n",
        "min_simple_regret_approx_13, min_simple_regret_exact_13"
      ],
      "execution_count": 67,
      "outputs": [
        {
          "output_type": "execute_result",
          "data": {
            "text/plain": [
              "(0.49339894345476154, -0.7002400699524578)"
            ]
          },
          "metadata": {},
          "execution_count": 67
        }
      ]
    },
    {
      "cell_type": "code",
      "metadata": {
        "id": "ogML73shQxfx",
        "colab": {
          "base_uri": "https://localhost:8080/"
        },
        "outputId": "4dc6240b-5692-4790-d2d1-7b156fd40608"
      },
      "source": [
        "### Simple regret minimization: run number = 14\n",
        "\n",
        "approx_output_14 = np.append(np.min(approx_14.GP.y[0:n_init]),approx_14.GP.y[n_init:(n_init+iters)]) \n",
        "exact_output_14 = np.append(np.min(exact_14.GP.y[0:n_init]),exact_14.GP.y[n_init:(n_init+iters)]) \n",
        "\n",
        "regret_approx_14 = np.log(-approx_output_14 + y_global_orig)\n",
        "regret_exact_14 = np.log(-exact_output_14 + y_global_orig)\n",
        "\n",
        "simple_regret_approx_14 = min_max_array(regret_approx_14)\n",
        "simple_regret_exact_14 = min_max_array(regret_exact_14)\n",
        "\n",
        "min_simple_regret_approx_14 = min(simple_regret_approx_14)\n",
        "min_simple_regret_exact_14 = min(simple_regret_exact_14)\n",
        "\n",
        "min_simple_regret_approx_14, min_simple_regret_exact_14"
      ],
      "execution_count": 68,
      "outputs": [
        {
          "output_type": "execute_result",
          "data": {
            "text/plain": [
              "(0.4451925414611061, -0.07079390154497169)"
            ]
          },
          "metadata": {},
          "execution_count": 68
        }
      ]
    },
    {
      "cell_type": "code",
      "metadata": {
        "id": "9Eg7gFT9Qxfx",
        "colab": {
          "base_uri": "https://localhost:8080/"
        },
        "outputId": "3370436d-c03f-4c06-909d-1fdb298e7fa5"
      },
      "source": [
        "### Simple regret minimization: run number = 15\n",
        "\n",
        "approx_output_15 = np.append(np.min(approx_15.GP.y[0:n_init]),approx_15.GP.y[n_init:(n_init+iters)]) \n",
        "exact_output_15 = np.append(np.min(exact_15.GP.y[0:n_init]),exact_15.GP.y[n_init:(n_init+iters)]) \n",
        "\n",
        "regret_approx_15 = np.log(-approx_output_15 + y_global_orig)\n",
        "regret_exact_15 = np.log(-exact_output_15 + y_global_orig)\n",
        "\n",
        "simple_regret_approx_15 = min_max_array(regret_approx_15)\n",
        "simple_regret_exact_15 = min_max_array(regret_exact_15)\n",
        "\n",
        "min_simple_regret_approx_15 = min(simple_regret_approx_15)\n",
        "min_simple_regret_exact_15 = min(simple_regret_exact_15)\n",
        "\n",
        "min_simple_regret_approx_15, min_simple_regret_exact_15"
      ],
      "execution_count": 69,
      "outputs": [
        {
          "output_type": "execute_result",
          "data": {
            "text/plain": [
              "(1.118969763010599, 0.4050212186277933)"
            ]
          },
          "metadata": {},
          "execution_count": 69
        }
      ]
    },
    {
      "cell_type": "code",
      "metadata": {
        "id": "lIAC1U7ZQxfy",
        "colab": {
          "base_uri": "https://localhost:8080/"
        },
        "outputId": "fe39d3c2-ec04-48fb-b4a9-30bfcba86d9c"
      },
      "source": [
        "### Simple regret minimization: run number = 16\n",
        "\n",
        "approx_output_16 = np.append(np.min(approx_16.GP.y[0:n_init]),approx_16.GP.y[n_init:(n_init+iters)]) \n",
        "exact_output_16 = np.append(np.min(exact_16.GP.y[0:n_init]),exact_16.GP.y[n_init:(n_init+iters)]) \n",
        "\n",
        "regret_approx_16 = np.log(-approx_output_16 + y_global_orig)\n",
        "regret_exact_16 = np.log(-exact_output_16 + y_global_orig)\n",
        "\n",
        "simple_regret_approx_16 = min_max_array(regret_approx_16)\n",
        "simple_regret_exact_16 = min_max_array(regret_exact_16)\n",
        "\n",
        "min_simple_regret_approx_16 = min(simple_regret_approx_16)\n",
        "min_simple_regret_exact_16 = min(simple_regret_exact_16)\n",
        "\n",
        "min_simple_regret_approx_16, min_simple_regret_exact_16"
      ],
      "execution_count": 70,
      "outputs": [
        {
          "output_type": "execute_result",
          "data": {
            "text/plain": [
              "(1.2488072837175237, -1.1450173755813575)"
            ]
          },
          "metadata": {},
          "execution_count": 70
        }
      ]
    },
    {
      "cell_type": "code",
      "metadata": {
        "id": "bGott36OQxfz",
        "colab": {
          "base_uri": "https://localhost:8080/"
        },
        "outputId": "e42aaf66-d6e3-4958-b3a3-ea7635b87846"
      },
      "source": [
        "### Simple regret minimization: run number = 17\n",
        "\n",
        "approx_output_17 = np.append(np.min(approx_17.GP.y[0:n_init]),approx_17.GP.y[n_init:(n_init+iters)]) \n",
        "exact_output_17 = np.append(np.min(exact_17.GP.y[0:n_init]),exact_17.GP.y[n_init:(n_init+iters)]) \n",
        "\n",
        "regret_approx_17 = np.log(-approx_output_17 + y_global_orig)\n",
        "regret_exact_17 = np.log(-exact_output_17 + y_global_orig)\n",
        "\n",
        "simple_regret_approx_17 = min_max_array(regret_approx_17)\n",
        "simple_regret_exact_17 = min_max_array(regret_exact_17)\n",
        "\n",
        "min_simple_regret_approx_17 = min(simple_regret_approx_17)\n",
        "min_simple_regret_exact_17 = min(simple_regret_exact_17)\n",
        "\n",
        "min_simple_regret_approx_17, min_simple_regret_exact_17"
      ],
      "execution_count": 71,
      "outputs": [
        {
          "output_type": "execute_result",
          "data": {
            "text/plain": [
              "(0.48248490604152217, 0.3736586777309275)"
            ]
          },
          "metadata": {},
          "execution_count": 71
        }
      ]
    },
    {
      "cell_type": "code",
      "metadata": {
        "id": "Cz9ZYMBMQxfz",
        "colab": {
          "base_uri": "https://localhost:8080/"
        },
        "outputId": "7386defa-5c0f-4b46-ea39-038e62db78d9"
      },
      "source": [
        "### Simple regret minimization: run number = 18\n",
        "\n",
        "approx_output_18 = np.append(np.min(approx_18.GP.y[0:n_init]),approx_18.GP.y[n_init:(n_init+iters)]) \n",
        "exact_output_18 = np.append(np.min(exact_18.GP.y[0:n_init]),exact_18.GP.y[n_init:(n_init+iters)]) \n",
        "\n",
        "regret_approx_18 = np.log(-approx_output_18 + y_global_orig)\n",
        "regret_exact_18 = np.log(-exact_output_18 + y_global_orig)\n",
        "\n",
        "simple_regret_approx_18 = min_max_array(regret_approx_18)\n",
        "simple_regret_exact_18 = min_max_array(regret_exact_18)\n",
        "\n",
        "min_simple_regret_approx_18 = min(simple_regret_approx_18)\n",
        "min_simple_regret_exact_18 = min(simple_regret_exact_18)\n",
        "\n",
        "min_simple_regret_approx_18, min_simple_regret_exact_18"
      ],
      "execution_count": 72,
      "outputs": [
        {
          "output_type": "execute_result",
          "data": {
            "text/plain": [
              "(1.6933290643071575, 1.0359632684670348)"
            ]
          },
          "metadata": {},
          "execution_count": 72
        }
      ]
    },
    {
      "cell_type": "code",
      "metadata": {
        "id": "OBfpWOHNQxf0",
        "colab": {
          "base_uri": "https://localhost:8080/"
        },
        "outputId": "3bdde63f-d3ef-4765-834c-ef27fd73beef"
      },
      "source": [
        "### Simple regret minimization: run number = 19\n",
        "\n",
        "approx_output_19 = np.append(np.min(approx_19.GP.y[0:n_init]),approx_19.GP.y[n_init:(n_init+iters)]) \n",
        "exact_output_19 = np.append(np.min(exact_19.GP.y[0:n_init]),exact_19.GP.y[n_init:(n_init+iters)]) \n",
        "\n",
        "regret_approx_19 = np.log(-approx_output_19 + y_global_orig)\n",
        "regret_exact_19 = np.log(-exact_output_19 + y_global_orig)\n",
        "\n",
        "simple_regret_approx_19 = min_max_array(regret_approx_19)\n",
        "simple_regret_exact_19 = min_max_array(regret_exact_19)\n",
        "\n",
        "min_simple_regret_approx_19 = min(simple_regret_approx_19)\n",
        "min_simple_regret_exact_19 = min(simple_regret_exact_19)\n",
        "\n",
        "min_simple_regret_approx_19, min_simple_regret_exact_19"
      ],
      "execution_count": 73,
      "outputs": [
        {
          "output_type": "execute_result",
          "data": {
            "text/plain": [
              "(-4.169759561878367, -0.8628145206943092)"
            ]
          },
          "metadata": {},
          "execution_count": 73
        }
      ]
    },
    {
      "cell_type": "code",
      "metadata": {
        "id": "BE1AJ7NsQxf0",
        "colab": {
          "base_uri": "https://localhost:8080/"
        },
        "outputId": "b706e727-dbe4-4d7a-9202-bd976f59ff57"
      },
      "source": [
        "### Simple regret minimization: run number = 20\n",
        "\n",
        "approx_output_20 = np.append(np.min(approx_20.GP.y[0:n_init]),approx_20.GP.y[n_init:(n_init+iters)]) \n",
        "exact_output_20 = np.append(np.min(exact_20.GP.y[0:n_init]),exact_20.GP.y[n_init:(n_init+iters)]) \n",
        "\n",
        "regret_approx_20 = np.log(-approx_output_20 + y_global_orig)\n",
        "regret_exact_20 = np.log(-exact_output_20 + y_global_orig)\n",
        "\n",
        "simple_regret_approx_20 = min_max_array(regret_approx_20)\n",
        "simple_regret_exact_20 = min_max_array(regret_exact_20)\n",
        "\n",
        "min_simple_regret_approx_20 = min(simple_regret_approx_20)\n",
        "min_simple_regret_exact_20 = min(simple_regret_exact_20)\n",
        "\n",
        "min_simple_regret_approx_20, min_simple_regret_exact_20"
      ],
      "execution_count": 74,
      "outputs": [
        {
          "output_type": "execute_result",
          "data": {
            "text/plain": [
              "(1.5706871896702388, -1.593649710027912)"
            ]
          },
          "metadata": {},
          "execution_count": 74
        }
      ]
    },
    {
      "cell_type": "code",
      "metadata": {
        "id": "bpX-bKAHQxf1"
      },
      "source": [
        "# Iteration1 :\n",
        "\n",
        "slice1 = 0\n",
        "\n",
        "approx1 = [simple_regret_approx_1[slice1],\n",
        "       simple_regret_approx_2[slice1],\n",
        "       simple_regret_approx_3[slice1],\n",
        "       simple_regret_approx_4[slice1],\n",
        "       simple_regret_approx_5[slice1],\n",
        "       simple_regret_approx_6[slice1],\n",
        "       simple_regret_approx_7[slice1],\n",
        "       simple_regret_approx_8[slice1],\n",
        "       simple_regret_approx_9[slice1],\n",
        "       simple_regret_approx_10[slice1],\n",
        "       simple_regret_approx_11[slice1],\n",
        "       simple_regret_approx_12[slice1],\n",
        "       simple_regret_approx_13[slice1],\n",
        "       simple_regret_approx_14[slice1],\n",
        "       simple_regret_approx_15[slice1],\n",
        "       simple_regret_approx_16[slice1],\n",
        "       simple_regret_approx_17[slice1],\n",
        "       simple_regret_approx_18[slice1],\n",
        "       simple_regret_approx_19[slice1],\n",
        "       simple_regret_approx_20[slice1]]\n",
        "\n",
        "exact1 = [simple_regret_exact_1[slice1],\n",
        "       simple_regret_exact_2[slice1],\n",
        "       simple_regret_exact_3[slice1],\n",
        "       simple_regret_exact_4[slice1],\n",
        "       simple_regret_exact_5[slice1],\n",
        "       simple_regret_exact_6[slice1],\n",
        "       simple_regret_exact_7[slice1],\n",
        "       simple_regret_exact_8[slice1],\n",
        "       simple_regret_exact_9[slice1],\n",
        "       simple_regret_exact_10[slice1],\n",
        "       simple_regret_exact_11[slice1],\n",
        "       simple_regret_exact_12[slice1],\n",
        "       simple_regret_exact_13[slice1],\n",
        "       simple_regret_exact_14[slice1],\n",
        "       simple_regret_exact_15[slice1],\n",
        "       simple_regret_exact_16[slice1],\n",
        "       simple_regret_exact_17[slice1],\n",
        "       simple_regret_exact_18[slice1],\n",
        "       simple_regret_exact_19[slice1],\n",
        "       simple_regret_exact_20[slice1]]\n",
        "\n",
        "approx1_results = pd.DataFrame(approx1).sort_values(by=[0], ascending=False)\n",
        "exact1_results = pd.DataFrame(exact1).sort_values(by=[0], ascending=False)\n",
        "\n",
        "### Best simple regret minimization IQR - approx:\n",
        "lower_approx1 = np.asarray(approx1_results[4:5][0])[0]\n",
        "median_approx1 = np.asarray(approx1_results[9:10][0])[0]\n",
        "upper_approx1 = np.asarray(approx1_results[14:15][0])[0]\n",
        "\n",
        "lower_exact1 = np.asarray(exact1_results[4:5][0])[0]\n",
        "median_exact1 = np.asarray(exact1_results[9:10][0])[0]\n",
        "upper_exact1 = np.asarray(exact1_results[14:15][0])[0]"
      ],
      "execution_count": 75,
      "outputs": []
    },
    {
      "cell_type": "code",
      "metadata": {
        "id": "CgIkJA1xQxf2"
      },
      "source": [
        "# Iteration11 :\n",
        "\n",
        "slice11 = 10\n",
        "\n",
        "approx11 = [simple_regret_approx_1[slice11],\n",
        "       simple_regret_approx_2[slice11],\n",
        "       simple_regret_approx_3[slice11],\n",
        "       simple_regret_approx_4[slice11],\n",
        "       simple_regret_approx_5[slice11],\n",
        "       simple_regret_approx_6[slice11],\n",
        "       simple_regret_approx_7[slice11],\n",
        "       simple_regret_approx_8[slice11],\n",
        "       simple_regret_approx_9[slice11],\n",
        "       simple_regret_approx_10[slice11],\n",
        "       simple_regret_approx_11[slice11],\n",
        "       simple_regret_approx_12[slice11],\n",
        "       simple_regret_approx_13[slice11],\n",
        "       simple_regret_approx_14[slice11],\n",
        "       simple_regret_approx_15[slice11],\n",
        "       simple_regret_approx_16[slice11],\n",
        "       simple_regret_approx_17[slice11],\n",
        "       simple_regret_approx_18[slice11],\n",
        "       simple_regret_approx_19[slice11],\n",
        "       simple_regret_approx_20[slice11]]\n",
        "\n",
        "exact11 = [simple_regret_exact_1[slice11],\n",
        "       simple_regret_exact_2[slice11],\n",
        "       simple_regret_exact_3[slice11],\n",
        "       simple_regret_exact_4[slice11],\n",
        "       simple_regret_exact_5[slice11],\n",
        "       simple_regret_exact_6[slice11],\n",
        "       simple_regret_exact_7[slice11],\n",
        "       simple_regret_exact_8[slice11],\n",
        "       simple_regret_exact_9[slice11],\n",
        "       simple_regret_exact_10[slice11],\n",
        "       simple_regret_exact_11[slice11],\n",
        "       simple_regret_exact_12[slice11],\n",
        "       simple_regret_exact_13[slice11],\n",
        "       simple_regret_exact_14[slice11],\n",
        "       simple_regret_exact_15[slice11],\n",
        "       simple_regret_exact_16[slice11],\n",
        "       simple_regret_exact_17[slice11],\n",
        "       simple_regret_exact_18[slice11],\n",
        "       simple_regret_exact_19[slice11],\n",
        "       simple_regret_exact_20[slice11]]\n",
        "\n",
        "approx11_results = pd.DataFrame(approx11).sort_values(by=[0], ascending=False)\n",
        "exact11_results = pd.DataFrame(exact11).sort_values(by=[0], ascending=False)\n",
        "\n",
        "### Best simple regret minimization IQR - approx:\n",
        "lower_approx11 = np.asarray(approx11_results[4:5][0])[0]\n",
        "median_approx11 = np.asarray(approx11_results[9:10][0])[0]\n",
        "upper_approx11 = np.asarray(approx11_results[14:15][0])[0]\n",
        "\n",
        "lower_exact11 = np.asarray(exact11_results[4:5][0])[0]\n",
        "median_exact11 = np.asarray(exact11_results[9:10][0])[0]\n",
        "upper_exact11 = np.asarray(exact11_results[14:15][0])[0]"
      ],
      "execution_count": 76,
      "outputs": []
    },
    {
      "cell_type": "code",
      "metadata": {
        "id": "MFePDfGuQxf2"
      },
      "source": [
        "# Iteration21 :\n",
        "\n",
        "slice21 = 20\n",
        "\n",
        "approx21 = [simple_regret_approx_1[slice21],\n",
        "       simple_regret_approx_2[slice21],\n",
        "       simple_regret_approx_3[slice21],\n",
        "       simple_regret_approx_4[slice21],\n",
        "       simple_regret_approx_5[slice21],\n",
        "       simple_regret_approx_6[slice21],\n",
        "       simple_regret_approx_7[slice21],\n",
        "       simple_regret_approx_8[slice21],\n",
        "       simple_regret_approx_9[slice21],\n",
        "       simple_regret_approx_10[slice21],\n",
        "       simple_regret_approx_11[slice21],\n",
        "       simple_regret_approx_12[slice21],\n",
        "       simple_regret_approx_13[slice21],\n",
        "       simple_regret_approx_14[slice21],\n",
        "       simple_regret_approx_15[slice21],\n",
        "       simple_regret_approx_16[slice21],\n",
        "       simple_regret_approx_17[slice21],\n",
        "       simple_regret_approx_18[slice21],\n",
        "       simple_regret_approx_19[slice21],\n",
        "       simple_regret_approx_20[slice21]]\n",
        "\n",
        "exact21 = [simple_regret_exact_1[slice21],\n",
        "       simple_regret_exact_2[slice21],\n",
        "       simple_regret_exact_3[slice21],\n",
        "       simple_regret_exact_4[slice21],\n",
        "       simple_regret_exact_5[slice21],\n",
        "       simple_regret_exact_6[slice21],\n",
        "       simple_regret_exact_7[slice21],\n",
        "       simple_regret_exact_8[slice21],\n",
        "       simple_regret_exact_9[slice21],\n",
        "       simple_regret_exact_10[slice21],\n",
        "       simple_regret_exact_11[slice21],\n",
        "       simple_regret_exact_12[slice21],\n",
        "       simple_regret_exact_13[slice21],\n",
        "       simple_regret_exact_14[slice21],\n",
        "       simple_regret_exact_15[slice21],\n",
        "       simple_regret_exact_16[slice21],\n",
        "       simple_regret_exact_17[slice21],\n",
        "       simple_regret_exact_18[slice21],\n",
        "       simple_regret_exact_19[slice21],\n",
        "       simple_regret_exact_20[slice21]]\n",
        "\n",
        "approx21_results = pd.DataFrame(approx21).sort_values(by=[0], ascending=False)\n",
        "exact21_results = pd.DataFrame(exact21).sort_values(by=[0], ascending=False)\n",
        "\n",
        "### Best simple regret minimization IQR - approx:\n",
        "lower_approx21 = np.asarray(approx21_results[4:5][0])[0]\n",
        "median_approx21 = np.asarray(approx21_results[9:10][0])[0]\n",
        "upper_approx21 = np.asarray(approx21_results[14:15][0])[0]\n",
        "\n",
        "lower_exact21 = np.asarray(exact21_results[4:5][0])[0]\n",
        "median_exact21 = np.asarray(exact21_results[9:10][0])[0]\n",
        "upper_exact21 = np.asarray(exact21_results[14:15][0])[0]"
      ],
      "execution_count": 77,
      "outputs": []
    },
    {
      "cell_type": "code",
      "metadata": {
        "id": "PrRDB1kfQxf3"
      },
      "source": [
        "# Iteration2 :\n",
        "\n",
        "slice2 = 1\n",
        "\n",
        "approx2 = [simple_regret_approx_1[slice2],\n",
        "       simple_regret_approx_2[slice2],\n",
        "       simple_regret_approx_3[slice2],\n",
        "       simple_regret_approx_4[slice2],\n",
        "       simple_regret_approx_5[slice2],\n",
        "       simple_regret_approx_6[slice2],\n",
        "       simple_regret_approx_7[slice2],\n",
        "       simple_regret_approx_8[slice2],\n",
        "       simple_regret_approx_9[slice2],\n",
        "       simple_regret_approx_10[slice2],\n",
        "       simple_regret_approx_11[slice2],\n",
        "       simple_regret_approx_12[slice2],\n",
        "       simple_regret_approx_13[slice2],\n",
        "       simple_regret_approx_14[slice2],\n",
        "       simple_regret_approx_15[slice2],\n",
        "       simple_regret_approx_16[slice2],\n",
        "       simple_regret_approx_17[slice2],\n",
        "       simple_regret_approx_18[slice2],\n",
        "       simple_regret_approx_19[slice2],\n",
        "       simple_regret_approx_20[slice2]]\n",
        "\n",
        "exact2 = [simple_regret_exact_1[slice2],\n",
        "       simple_regret_exact_2[slice2],\n",
        "       simple_regret_exact_3[slice2],\n",
        "       simple_regret_exact_4[slice2],\n",
        "       simple_regret_exact_5[slice2],\n",
        "       simple_regret_exact_6[slice2],\n",
        "       simple_regret_exact_7[slice2],\n",
        "       simple_regret_exact_8[slice2],\n",
        "       simple_regret_exact_9[slice2],\n",
        "       simple_regret_exact_10[slice2],\n",
        "       simple_regret_exact_11[slice2],\n",
        "       simple_regret_exact_12[slice2],\n",
        "       simple_regret_exact_13[slice2],\n",
        "       simple_regret_exact_14[slice2],\n",
        "       simple_regret_exact_15[slice2],\n",
        "       simple_regret_exact_16[slice2],\n",
        "       simple_regret_exact_17[slice2],\n",
        "       simple_regret_exact_18[slice2],\n",
        "       simple_regret_exact_19[slice2],\n",
        "       simple_regret_exact_20[slice2]]\n",
        "\n",
        "approx2_results = pd.DataFrame(approx2).sort_values(by=[0], ascending=False)\n",
        "exact2_results = pd.DataFrame(exact2).sort_values(by=[0], ascending=False)\n",
        "\n",
        "### Best simple regret minimization IQR - approx:\n",
        "lower_approx2 = np.asarray(approx2_results[4:5][0])[0]\n",
        "median_approx2 = np.asarray(approx2_results[9:10][0])[0]\n",
        "upper_approx2 = np.asarray(approx2_results[14:15][0])[0]\n",
        "\n",
        "lower_exact2 = np.asarray(exact2_results[4:5][0])[0]\n",
        "median_exact2 = np.asarray(exact2_results[9:10][0])[0]\n",
        "upper_exact2 = np.asarray(exact2_results[14:15][0])[0]"
      ],
      "execution_count": 78,
      "outputs": []
    },
    {
      "cell_type": "code",
      "metadata": {
        "id": "B8ncJDYeQxf3"
      },
      "source": [
        "# Iteration12 :\n",
        "\n",
        "slice12 = 11\n",
        "\n",
        "approx12 = [simple_regret_approx_1[slice12],\n",
        "       simple_regret_approx_2[slice12],\n",
        "       simple_regret_approx_3[slice12],\n",
        "       simple_regret_approx_4[slice12],\n",
        "       simple_regret_approx_5[slice12],\n",
        "       simple_regret_approx_6[slice12],\n",
        "       simple_regret_approx_7[slice12],\n",
        "       simple_regret_approx_8[slice12],\n",
        "       simple_regret_approx_9[slice12],\n",
        "       simple_regret_approx_10[slice12],\n",
        "       simple_regret_approx_11[slice12],\n",
        "       simple_regret_approx_12[slice12],\n",
        "       simple_regret_approx_13[slice12],\n",
        "       simple_regret_approx_14[slice12],\n",
        "       simple_regret_approx_15[slice12],\n",
        "       simple_regret_approx_16[slice12],\n",
        "       simple_regret_approx_17[slice12],\n",
        "       simple_regret_approx_18[slice12],\n",
        "       simple_regret_approx_19[slice12],\n",
        "       simple_regret_approx_20[slice12]]\n",
        "\n",
        "exact12 = [simple_regret_exact_1[slice12],\n",
        "       simple_regret_exact_2[slice12],\n",
        "       simple_regret_exact_3[slice12],\n",
        "       simple_regret_exact_4[slice12],\n",
        "       simple_regret_exact_5[slice12],\n",
        "       simple_regret_exact_6[slice12],\n",
        "       simple_regret_exact_7[slice12],\n",
        "       simple_regret_exact_8[slice12],\n",
        "       simple_regret_exact_9[slice12],\n",
        "       simple_regret_exact_10[slice12],\n",
        "       simple_regret_exact_11[slice12],\n",
        "       simple_regret_exact_12[slice12],\n",
        "       simple_regret_exact_13[slice12],\n",
        "       simple_regret_exact_14[slice12],\n",
        "       simple_regret_exact_15[slice12],\n",
        "       simple_regret_exact_16[slice12],\n",
        "       simple_regret_exact_17[slice12],\n",
        "       simple_regret_exact_18[slice12],\n",
        "       simple_regret_exact_19[slice12],\n",
        "       simple_regret_exact_20[slice12]]\n",
        "\n",
        "approx12_results = pd.DataFrame(approx12).sort_values(by=[0], ascending=False)\n",
        "exact12_results = pd.DataFrame(exact12).sort_values(by=[0], ascending=False)\n",
        "\n",
        "### Best simple regret minimization IQR - approx:\n",
        "lower_approx12 = np.asarray(approx12_results[4:5][0])[0]\n",
        "median_approx12 = np.asarray(approx12_results[9:10][0])[0]\n",
        "upper_approx12 = np.asarray(approx12_results[14:15][0])[0]\n",
        "\n",
        "lower_exact12 = np.asarray(exact12_results[4:5][0])[0]\n",
        "median_exact12 = np.asarray(exact12_results[9:10][0])[0]\n",
        "upper_exact12 = np.asarray(exact12_results[14:15][0])[0]"
      ],
      "execution_count": 79,
      "outputs": []
    },
    {
      "cell_type": "code",
      "metadata": {
        "id": "Jn4KpGvcQxf4"
      },
      "source": [
        "# Iteration3 :\n",
        "\n",
        "slice3 = 2\n",
        "\n",
        "approx3 = [simple_regret_approx_1[slice3],\n",
        "       simple_regret_approx_2[slice3],\n",
        "       simple_regret_approx_3[slice3],\n",
        "       simple_regret_approx_4[slice3],\n",
        "       simple_regret_approx_5[slice3],\n",
        "       simple_regret_approx_6[slice3],\n",
        "       simple_regret_approx_7[slice3],\n",
        "       simple_regret_approx_8[slice3],\n",
        "       simple_regret_approx_9[slice3],\n",
        "       simple_regret_approx_10[slice3],\n",
        "       simple_regret_approx_11[slice3],\n",
        "       simple_regret_approx_12[slice3],\n",
        "       simple_regret_approx_13[slice3],\n",
        "       simple_regret_approx_14[slice3],\n",
        "       simple_regret_approx_15[slice3],\n",
        "       simple_regret_approx_16[slice3],\n",
        "       simple_regret_approx_17[slice3],\n",
        "       simple_regret_approx_18[slice3],\n",
        "       simple_regret_approx_19[slice3],\n",
        "       simple_regret_approx_20[slice3]]\n",
        "\n",
        "exact3 = [simple_regret_exact_1[slice3],\n",
        "       simple_regret_exact_2[slice3],\n",
        "       simple_regret_exact_3[slice3],\n",
        "       simple_regret_exact_4[slice3],\n",
        "       simple_regret_exact_5[slice3],\n",
        "       simple_regret_exact_6[slice3],\n",
        "       simple_regret_exact_7[slice3],\n",
        "       simple_regret_exact_8[slice3],\n",
        "       simple_regret_exact_9[slice3],\n",
        "       simple_regret_exact_10[slice3],\n",
        "       simple_regret_exact_11[slice3],\n",
        "       simple_regret_exact_12[slice3],\n",
        "       simple_regret_exact_13[slice3],\n",
        "       simple_regret_exact_14[slice3],\n",
        "       simple_regret_exact_15[slice3],\n",
        "       simple_regret_exact_16[slice3],\n",
        "       simple_regret_exact_17[slice3],\n",
        "       simple_regret_exact_18[slice3],\n",
        "       simple_regret_exact_19[slice3],\n",
        "       simple_regret_exact_20[slice3]]\n",
        "\n",
        "approx3_results = pd.DataFrame(approx3).sort_values(by=[0], ascending=False)\n",
        "exact3_results = pd.DataFrame(exact3).sort_values(by=[0], ascending=False)\n",
        "\n",
        "### Best simple regret minimization IQR - approx:\n",
        "lower_approx3 = np.asarray(approx3_results[4:5][0])[0]\n",
        "median_approx3 = np.asarray(approx3_results[9:10][0])[0]\n",
        "upper_approx3 = np.asarray(approx3_results[14:15][0])[0]\n",
        "\n",
        "lower_exact3 = np.asarray(exact3_results[4:5][0])[0]\n",
        "median_exact3 = np.asarray(exact3_results[9:10][0])[0]\n",
        "upper_exact3 = np.asarray(exact3_results[14:15][0])[0]"
      ],
      "execution_count": 80,
      "outputs": []
    },
    {
      "cell_type": "code",
      "metadata": {
        "id": "plf83wxrQxf4"
      },
      "source": [
        "# Iteration13 :\n",
        "\n",
        "slice13 = 12\n",
        "\n",
        "approx13 = [simple_regret_approx_1[slice13],\n",
        "       simple_regret_approx_2[slice13],\n",
        "       simple_regret_approx_3[slice13],\n",
        "       simple_regret_approx_4[slice13],\n",
        "       simple_regret_approx_5[slice13],\n",
        "       simple_regret_approx_6[slice13],\n",
        "       simple_regret_approx_7[slice13],\n",
        "       simple_regret_approx_8[slice13],\n",
        "       simple_regret_approx_9[slice13],\n",
        "       simple_regret_approx_10[slice13],\n",
        "       simple_regret_approx_11[slice13],\n",
        "       simple_regret_approx_12[slice13],\n",
        "       simple_regret_approx_13[slice13],\n",
        "       simple_regret_approx_14[slice13],\n",
        "       simple_regret_approx_15[slice13],\n",
        "       simple_regret_approx_16[slice13],\n",
        "       simple_regret_approx_17[slice13],\n",
        "       simple_regret_approx_18[slice13],\n",
        "       simple_regret_approx_19[slice13],\n",
        "       simple_regret_approx_20[slice13]]\n",
        "\n",
        "exact13 = [simple_regret_exact_1[slice13],\n",
        "       simple_regret_exact_2[slice13],\n",
        "       simple_regret_exact_3[slice13],\n",
        "       simple_regret_exact_4[slice13],\n",
        "       simple_regret_exact_5[slice13],\n",
        "       simple_regret_exact_6[slice13],\n",
        "       simple_regret_exact_7[slice13],\n",
        "       simple_regret_exact_8[slice13],\n",
        "       simple_regret_exact_9[slice13],\n",
        "       simple_regret_exact_10[slice13],\n",
        "       simple_regret_exact_11[slice13],\n",
        "       simple_regret_exact_12[slice13],\n",
        "       simple_regret_exact_13[slice13],\n",
        "       simple_regret_exact_14[slice13],\n",
        "       simple_regret_exact_15[slice13],\n",
        "       simple_regret_exact_16[slice13],\n",
        "       simple_regret_exact_17[slice13],\n",
        "       simple_regret_exact_18[slice13],\n",
        "       simple_regret_exact_19[slice13],\n",
        "       simple_regret_exact_20[slice13]]\n",
        "\n",
        "approx13_results = pd.DataFrame(approx13).sort_values(by=[0], ascending=False)\n",
        "exact13_results = pd.DataFrame(exact13).sort_values(by=[0], ascending=False)\n",
        "\n",
        "### Best simple regret minimization IQR - approx:\n",
        "lower_approx13 = np.asarray(approx13_results[4:5][0])[0]\n",
        "median_approx13 = np.asarray(approx13_results[9:10][0])[0]\n",
        "upper_approx13 = np.asarray(approx13_results[14:15][0])[0]\n",
        "\n",
        "lower_exact13 = np.asarray(exact13_results[4:5][0])[0]\n",
        "median_exact13 = np.asarray(exact13_results[9:10][0])[0]\n",
        "upper_exact13 = np.asarray(exact13_results[14:15][0])[0]"
      ],
      "execution_count": 81,
      "outputs": []
    },
    {
      "cell_type": "code",
      "metadata": {
        "id": "9A7mlVvJQxf5"
      },
      "source": [
        "# Iteration4 :\n",
        "\n",
        "slice4 = 3\n",
        "\n",
        "approx4 = [simple_regret_approx_1[slice4],\n",
        "       simple_regret_approx_2[slice4],\n",
        "       simple_regret_approx_3[slice4],\n",
        "       simple_regret_approx_4[slice4],\n",
        "       simple_regret_approx_5[slice4],\n",
        "       simple_regret_approx_6[slice4],\n",
        "       simple_regret_approx_7[slice4],\n",
        "       simple_regret_approx_8[slice4],\n",
        "       simple_regret_approx_9[slice4],\n",
        "       simple_regret_approx_10[slice4],\n",
        "       simple_regret_approx_11[slice4],\n",
        "       simple_regret_approx_12[slice4],\n",
        "       simple_regret_approx_13[slice4],\n",
        "       simple_regret_approx_14[slice4],\n",
        "       simple_regret_approx_15[slice4],\n",
        "       simple_regret_approx_16[slice4],\n",
        "       simple_regret_approx_17[slice4],\n",
        "       simple_regret_approx_18[slice4],\n",
        "       simple_regret_approx_19[slice4],\n",
        "       simple_regret_approx_20[slice4]]\n",
        "\n",
        "exact4 = [simple_regret_exact_1[slice4],\n",
        "       simple_regret_exact_2[slice4],\n",
        "       simple_regret_exact_3[slice4],\n",
        "       simple_regret_exact_4[slice4],\n",
        "       simple_regret_exact_5[slice4],\n",
        "       simple_regret_exact_6[slice4],\n",
        "       simple_regret_exact_7[slice4],\n",
        "       simple_regret_exact_8[slice4],\n",
        "       simple_regret_exact_9[slice4],\n",
        "       simple_regret_exact_10[slice4],\n",
        "       simple_regret_exact_11[slice4],\n",
        "       simple_regret_exact_12[slice4],\n",
        "       simple_regret_exact_13[slice4],\n",
        "       simple_regret_exact_14[slice4],\n",
        "       simple_regret_exact_15[slice4],\n",
        "       simple_regret_exact_16[slice4],\n",
        "       simple_regret_exact_17[slice4],\n",
        "       simple_regret_exact_18[slice4],\n",
        "       simple_regret_exact_19[slice4],\n",
        "       simple_regret_exact_20[slice4]]\n",
        "\n",
        "approx4_results = pd.DataFrame(approx4).sort_values(by=[0], ascending=False)\n",
        "exact4_results = pd.DataFrame(exact4).sort_values(by=[0], ascending=False)\n",
        "\n",
        "### Best simple regret minimization IQR - approx:\n",
        "lower_approx4 = np.asarray(approx4_results[4:5][0])[0]\n",
        "median_approx4 = np.asarray(approx4_results[9:10][0])[0]\n",
        "upper_approx4 = np.asarray(approx4_results[14:15][0])[0]\n",
        "\n",
        "lower_exact4 = np.asarray(exact4_results[4:5][0])[0]\n",
        "median_exact4 = np.asarray(exact4_results[9:10][0])[0]\n",
        "upper_exact4 = np.asarray(exact4_results[14:15][0])[0]"
      ],
      "execution_count": 82,
      "outputs": []
    },
    {
      "cell_type": "code",
      "metadata": {
        "id": "ijq-rioYQxf5"
      },
      "source": [
        "# Iteration14 :\n",
        "\n",
        "slice14 = 13\n",
        "\n",
        "approx14 = [simple_regret_approx_1[slice14],\n",
        "       simple_regret_approx_2[slice14],\n",
        "       simple_regret_approx_3[slice14],\n",
        "       simple_regret_approx_4[slice14],\n",
        "       simple_regret_approx_5[slice14],\n",
        "       simple_regret_approx_6[slice14],\n",
        "       simple_regret_approx_7[slice14],\n",
        "       simple_regret_approx_8[slice14],\n",
        "       simple_regret_approx_9[slice14],\n",
        "       simple_regret_approx_10[slice14],\n",
        "       simple_regret_approx_11[slice14],\n",
        "       simple_regret_approx_12[slice14],\n",
        "       simple_regret_approx_13[slice14],\n",
        "       simple_regret_approx_14[slice14],\n",
        "       simple_regret_approx_15[slice14],\n",
        "       simple_regret_approx_16[slice14],\n",
        "       simple_regret_approx_17[slice14],\n",
        "       simple_regret_approx_18[slice14],\n",
        "       simple_regret_approx_19[slice14],\n",
        "       simple_regret_approx_20[slice14]]\n",
        "\n",
        "exact14 = [simple_regret_exact_1[slice14],\n",
        "       simple_regret_exact_2[slice14],\n",
        "       simple_regret_exact_3[slice14],\n",
        "       simple_regret_exact_4[slice14],\n",
        "       simple_regret_exact_5[slice14],\n",
        "       simple_regret_exact_6[slice14],\n",
        "       simple_regret_exact_7[slice14],\n",
        "       simple_regret_exact_8[slice14],\n",
        "       simple_regret_exact_9[slice14],\n",
        "       simple_regret_exact_10[slice14],\n",
        "       simple_regret_exact_11[slice14],\n",
        "       simple_regret_exact_12[slice14],\n",
        "       simple_regret_exact_13[slice14],\n",
        "       simple_regret_exact_14[slice14],\n",
        "       simple_regret_exact_15[slice14],\n",
        "       simple_regret_exact_16[slice14],\n",
        "       simple_regret_exact_17[slice14],\n",
        "       simple_regret_exact_18[slice14],\n",
        "       simple_regret_exact_19[slice14],\n",
        "       simple_regret_exact_20[slice14]]\n",
        "\n",
        "approx14_results = pd.DataFrame(approx14).sort_values(by=[0], ascending=False)\n",
        "exact14_results = pd.DataFrame(exact14).sort_values(by=[0], ascending=False)\n",
        "\n",
        "### Best simple regret minimization IQR - approx:\n",
        "lower_approx14 = np.asarray(approx14_results[4:5][0])[0]\n",
        "median_approx14 = np.asarray(approx14_results[9:10][0])[0]\n",
        "upper_approx14 = np.asarray(approx14_results[14:15][0])[0]\n",
        "\n",
        "lower_exact14 = np.asarray(exact14_results[4:5][0])[0]\n",
        "median_exact14 = np.asarray(exact14_results[9:10][0])[0]\n",
        "upper_exact14 = np.asarray(exact14_results[14:15][0])[0]"
      ],
      "execution_count": 83,
      "outputs": []
    },
    {
      "cell_type": "code",
      "metadata": {
        "id": "XINlZjoTd-ZK"
      },
      "source": [
        "# Iteration5 :\n",
        "\n",
        "slice5 = 4\n",
        "\n",
        "approx5 = [simple_regret_approx_1[slice5],\n",
        "       simple_regret_approx_2[slice5],\n",
        "       simple_regret_approx_3[slice5],\n",
        "       simple_regret_approx_4[slice5],\n",
        "       simple_regret_approx_5[slice5],\n",
        "       simple_regret_approx_6[slice5],\n",
        "       simple_regret_approx_7[slice5],\n",
        "       simple_regret_approx_8[slice5],\n",
        "       simple_regret_approx_9[slice5],\n",
        "       simple_regret_approx_10[slice5],\n",
        "       simple_regret_approx_11[slice5],\n",
        "       simple_regret_approx_12[slice5],\n",
        "       simple_regret_approx_13[slice5],\n",
        "       simple_regret_approx_14[slice5],\n",
        "       simple_regret_approx_15[slice5],\n",
        "       simple_regret_approx_16[slice5],\n",
        "       simple_regret_approx_17[slice5],\n",
        "       simple_regret_approx_18[slice5],\n",
        "       simple_regret_approx_19[slice5],\n",
        "       simple_regret_approx_20[slice5]]\n",
        "\n",
        "exact5 = [simple_regret_exact_1[slice5],\n",
        "       simple_regret_exact_2[slice5],\n",
        "       simple_regret_exact_3[slice5],\n",
        "       simple_regret_exact_4[slice5],\n",
        "       simple_regret_exact_5[slice5],\n",
        "       simple_regret_exact_6[slice5],\n",
        "       simple_regret_exact_7[slice5],\n",
        "       simple_regret_exact_8[slice5],\n",
        "       simple_regret_exact_9[slice5],\n",
        "       simple_regret_exact_10[slice5],\n",
        "       simple_regret_exact_11[slice5],\n",
        "       simple_regret_exact_12[slice5],\n",
        "       simple_regret_exact_13[slice5],\n",
        "       simple_regret_exact_14[slice5],\n",
        "       simple_regret_exact_15[slice5],\n",
        "       simple_regret_exact_16[slice5],\n",
        "       simple_regret_exact_17[slice5],\n",
        "       simple_regret_exact_18[slice5],\n",
        "       simple_regret_exact_19[slice5],\n",
        "       simple_regret_exact_20[slice5]]\n",
        "\n",
        "approx5_results = pd.DataFrame(approx5).sort_values(by=[0], ascending=False)\n",
        "exact5_results = pd.DataFrame(exact5).sort_values(by=[0], ascending=False)\n",
        "\n",
        "### Best simple regret minimization IQR - approx:\n",
        "lower_approx5 = np.asarray(approx5_results[4:5][0])[0]\n",
        "median_approx5 = np.asarray(approx5_results[9:10][0])[0]\n",
        "upper_approx5 = np.asarray(approx5_results[14:15][0])[0]\n",
        "\n",
        "lower_exact5 = np.asarray(exact5_results[4:5][0])[0]\n",
        "median_exact5 = np.asarray(exact5_results[9:10][0])[0]\n",
        "upper_exact5 = np.asarray(exact5_results[14:15][0])[0]"
      ],
      "execution_count": 84,
      "outputs": []
    },
    {
      "cell_type": "code",
      "metadata": {
        "id": "4aZ7C8sOQxf6"
      },
      "source": [
        "# Iteration15 :\n",
        "\n",
        "slice15 = 14\n",
        "\n",
        "approx15 = [simple_regret_approx_1[slice15],\n",
        "       simple_regret_approx_2[slice15],\n",
        "       simple_regret_approx_3[slice15],\n",
        "       simple_regret_approx_4[slice15],\n",
        "       simple_regret_approx_5[slice15],\n",
        "       simple_regret_approx_6[slice15],\n",
        "       simple_regret_approx_7[slice15],\n",
        "       simple_regret_approx_8[slice15],\n",
        "       simple_regret_approx_9[slice15],\n",
        "       simple_regret_approx_10[slice15],\n",
        "       simple_regret_approx_11[slice15],\n",
        "       simple_regret_approx_12[slice15],\n",
        "       simple_regret_approx_13[slice15],\n",
        "       simple_regret_approx_14[slice15],\n",
        "       simple_regret_approx_15[slice15],\n",
        "       simple_regret_approx_16[slice15],\n",
        "       simple_regret_approx_17[slice15],\n",
        "       simple_regret_approx_18[slice15],\n",
        "       simple_regret_approx_19[slice15],\n",
        "       simple_regret_approx_20[slice15]]\n",
        "\n",
        "exact15 = [simple_regret_exact_1[slice15],\n",
        "       simple_regret_exact_2[slice15],\n",
        "       simple_regret_exact_3[slice15],\n",
        "       simple_regret_exact_4[slice15],\n",
        "       simple_regret_exact_5[slice15],\n",
        "       simple_regret_exact_6[slice15],\n",
        "       simple_regret_exact_7[slice15],\n",
        "       simple_regret_exact_8[slice15],\n",
        "       simple_regret_exact_9[slice15],\n",
        "       simple_regret_exact_10[slice15],\n",
        "       simple_regret_exact_11[slice15],\n",
        "       simple_regret_exact_12[slice15],\n",
        "       simple_regret_exact_13[slice15],\n",
        "       simple_regret_exact_14[slice15],\n",
        "       simple_regret_exact_15[slice15],\n",
        "       simple_regret_exact_16[slice15],\n",
        "       simple_regret_exact_17[slice15],\n",
        "       simple_regret_exact_18[slice15],\n",
        "       simple_regret_exact_19[slice15],\n",
        "       simple_regret_exact_20[slice15]]\n",
        "\n",
        "approx15_results = pd.DataFrame(approx15).sort_values(by=[0], ascending=False)\n",
        "exact15_results = pd.DataFrame(exact15).sort_values(by=[0], ascending=False)\n",
        "\n",
        "### Best simple regret minimization IQR - approx:\n",
        "lower_approx15 = np.asarray(approx15_results[4:5][0])[0]\n",
        "median_approx15 = np.asarray(approx15_results[9:10][0])[0]\n",
        "upper_approx15 = np.asarray(approx15_results[14:15][0])[0]\n",
        "\n",
        "lower_exact15 = np.asarray(exact15_results[4:5][0])[0]\n",
        "median_exact15 = np.asarray(exact15_results[9:10][0])[0]\n",
        "upper_exact15 = np.asarray(exact15_results[14:15][0])[0]"
      ],
      "execution_count": 85,
      "outputs": []
    },
    {
      "cell_type": "code",
      "metadata": {
        "id": "KJINKhv1Qxf6"
      },
      "source": [
        "# Iteration6 :\n",
        "\n",
        "slice6 = 5\n",
        "\n",
        "approx6 = [simple_regret_approx_1[slice6],\n",
        "       simple_regret_approx_2[slice6],\n",
        "       simple_regret_approx_3[slice6],\n",
        "       simple_regret_approx_4[slice6],\n",
        "       simple_regret_approx_5[slice6],\n",
        "       simple_regret_approx_6[slice6],\n",
        "       simple_regret_approx_7[slice6],\n",
        "       simple_regret_approx_8[slice6],\n",
        "       simple_regret_approx_9[slice6],\n",
        "       simple_regret_approx_10[slice6],\n",
        "       simple_regret_approx_11[slice6],\n",
        "       simple_regret_approx_12[slice6],\n",
        "       simple_regret_approx_13[slice6],\n",
        "       simple_regret_approx_14[slice6],\n",
        "       simple_regret_approx_15[slice6],\n",
        "       simple_regret_approx_16[slice6],\n",
        "       simple_regret_approx_17[slice6],\n",
        "       simple_regret_approx_18[slice6],\n",
        "       simple_regret_approx_19[slice6],\n",
        "       simple_regret_approx_20[slice6]]\n",
        "\n",
        "exact6 = [simple_regret_exact_1[slice6],\n",
        "       simple_regret_exact_2[slice6],\n",
        "       simple_regret_exact_3[slice6],\n",
        "       simple_regret_exact_4[slice6],\n",
        "       simple_regret_exact_5[slice6],\n",
        "       simple_regret_exact_6[slice6],\n",
        "       simple_regret_exact_7[slice6],\n",
        "       simple_regret_exact_8[slice6],\n",
        "       simple_regret_exact_9[slice6],\n",
        "       simple_regret_exact_10[slice6],\n",
        "       simple_regret_exact_11[slice6],\n",
        "       simple_regret_exact_12[slice6],\n",
        "       simple_regret_exact_13[slice6],\n",
        "       simple_regret_exact_14[slice6],\n",
        "       simple_regret_exact_15[slice6],\n",
        "       simple_regret_exact_16[slice6],\n",
        "       simple_regret_exact_17[slice6],\n",
        "       simple_regret_exact_18[slice6],\n",
        "       simple_regret_exact_19[slice6],\n",
        "       simple_regret_exact_20[slice6]]\n",
        "\n",
        "approx6_results = pd.DataFrame(approx6).sort_values(by=[0], ascending=False)\n",
        "exact6_results = pd.DataFrame(exact6).sort_values(by=[0], ascending=False)\n",
        "\n",
        "### Best simple regret minimization IQR - approx:\n",
        "lower_approx6 = np.asarray(approx6_results[4:5][0])[0]\n",
        "median_approx6 = np.asarray(approx6_results[9:10][0])[0]\n",
        "upper_approx6 = np.asarray(approx6_results[14:15][0])[0]\n",
        "\n",
        "lower_exact6 = np.asarray(exact6_results[4:5][0])[0]\n",
        "median_exact6 = np.asarray(exact6_results[9:10][0])[0]\n",
        "upper_exact6 = np.asarray(exact6_results[14:15][0])[0]"
      ],
      "execution_count": 86,
      "outputs": []
    },
    {
      "cell_type": "code",
      "metadata": {
        "id": "nwC5N1FsQxf7"
      },
      "source": [
        "# Iteration16 :\n",
        "\n",
        "slice16 = 15\n",
        "\n",
        "approx16 = [simple_regret_approx_1[slice16],\n",
        "       simple_regret_approx_2[slice16],\n",
        "       simple_regret_approx_3[slice16],\n",
        "       simple_regret_approx_4[slice16],\n",
        "       simple_regret_approx_5[slice16],\n",
        "       simple_regret_approx_6[slice16],\n",
        "       simple_regret_approx_7[slice16],\n",
        "       simple_regret_approx_8[slice16],\n",
        "       simple_regret_approx_9[slice16],\n",
        "       simple_regret_approx_10[slice16],\n",
        "       simple_regret_approx_11[slice16],\n",
        "       simple_regret_approx_12[slice16],\n",
        "       simple_regret_approx_13[slice16],\n",
        "       simple_regret_approx_14[slice16],\n",
        "       simple_regret_approx_15[slice16],\n",
        "       simple_regret_approx_16[slice16],\n",
        "       simple_regret_approx_17[slice16],\n",
        "       simple_regret_approx_18[slice16],\n",
        "       simple_regret_approx_19[slice16],\n",
        "       simple_regret_approx_20[slice16]]\n",
        "\n",
        "exact16 = [simple_regret_exact_1[slice16],\n",
        "       simple_regret_exact_2[slice16],\n",
        "       simple_regret_exact_3[slice16],\n",
        "       simple_regret_exact_4[slice16],\n",
        "       simple_regret_exact_5[slice16],\n",
        "       simple_regret_exact_6[slice16],\n",
        "       simple_regret_exact_7[slice16],\n",
        "       simple_regret_exact_8[slice16],\n",
        "       simple_regret_exact_9[slice16],\n",
        "       simple_regret_exact_10[slice16],\n",
        "       simple_regret_exact_11[slice16],\n",
        "       simple_regret_exact_12[slice16],\n",
        "       simple_regret_exact_13[slice16],\n",
        "       simple_regret_exact_14[slice16],\n",
        "       simple_regret_exact_15[slice16],\n",
        "       simple_regret_exact_16[slice16],\n",
        "       simple_regret_exact_17[slice16],\n",
        "       simple_regret_exact_18[slice16],\n",
        "       simple_regret_exact_19[slice16],\n",
        "       simple_regret_exact_20[slice16]]\n",
        "\n",
        "approx16_results = pd.DataFrame(approx16).sort_values(by=[0], ascending=False)\n",
        "exact16_results = pd.DataFrame(exact16).sort_values(by=[0], ascending=False)\n",
        "\n",
        "### Best simple regret minimization IQR - approx:\n",
        "lower_approx16 = np.asarray(approx16_results[4:5][0])[0]\n",
        "median_approx16 = np.asarray(approx16_results[9:10][0])[0]\n",
        "upper_approx16 = np.asarray(approx16_results[14:15][0])[0]\n",
        "\n",
        "lower_exact16 = np.asarray(exact16_results[4:5][0])[0]\n",
        "median_exact16 = np.asarray(exact16_results[9:10][0])[0]\n",
        "upper_exact16 = np.asarray(exact16_results[14:15][0])[0]"
      ],
      "execution_count": 87,
      "outputs": []
    },
    {
      "cell_type": "code",
      "metadata": {
        "id": "TrPV0AfnQxf7"
      },
      "source": [
        "# Iteration7 :\n",
        "\n",
        "slice7 = 6\n",
        "\n",
        "approx7 = [simple_regret_approx_1[slice7],\n",
        "       simple_regret_approx_2[slice7],\n",
        "       simple_regret_approx_3[slice7],\n",
        "       simple_regret_approx_4[slice7],\n",
        "       simple_regret_approx_5[slice7],\n",
        "       simple_regret_approx_6[slice7],\n",
        "       simple_regret_approx_7[slice7],\n",
        "       simple_regret_approx_8[slice7],\n",
        "       simple_regret_approx_9[slice7],\n",
        "       simple_regret_approx_10[slice7],\n",
        "       simple_regret_approx_11[slice7],\n",
        "       simple_regret_approx_12[slice7],\n",
        "       simple_regret_approx_13[slice7],\n",
        "       simple_regret_approx_14[slice7],\n",
        "       simple_regret_approx_15[slice7],\n",
        "       simple_regret_approx_16[slice7],\n",
        "       simple_regret_approx_17[slice7],\n",
        "       simple_regret_approx_18[slice7],\n",
        "       simple_regret_approx_19[slice7],\n",
        "       simple_regret_approx_20[slice7]]\n",
        "\n",
        "exact7 = [simple_regret_exact_1[slice7],\n",
        "       simple_regret_exact_2[slice7],\n",
        "       simple_regret_exact_3[slice7],\n",
        "       simple_regret_exact_4[slice7],\n",
        "       simple_regret_exact_5[slice7],\n",
        "       simple_regret_exact_6[slice7],\n",
        "       simple_regret_exact_7[slice7],\n",
        "       simple_regret_exact_8[slice7],\n",
        "       simple_regret_exact_9[slice7],\n",
        "       simple_regret_exact_10[slice7],\n",
        "       simple_regret_exact_11[slice7],\n",
        "       simple_regret_exact_12[slice7],\n",
        "       simple_regret_exact_13[slice7],\n",
        "       simple_regret_exact_14[slice7],\n",
        "       simple_regret_exact_15[slice7],\n",
        "       simple_regret_exact_16[slice7],\n",
        "       simple_regret_exact_17[slice7],\n",
        "       simple_regret_exact_18[slice7],\n",
        "       simple_regret_exact_19[slice7],\n",
        "       simple_regret_exact_20[slice7]]\n",
        "\n",
        "approx7_results = pd.DataFrame(approx7).sort_values(by=[0], ascending=False)\n",
        "exact7_results = pd.DataFrame(exact7).sort_values(by=[0], ascending=False)\n",
        "\n",
        "### Best simple regret minimization IQR - approx:\n",
        "lower_approx7 = np.asarray(approx7_results[4:5][0])[0]\n",
        "median_approx7 = np.asarray(approx7_results[9:10][0])[0]\n",
        "upper_approx7 = np.asarray(approx7_results[14:15][0])[0]\n",
        "\n",
        "lower_exact7 = np.asarray(exact7_results[4:5][0])[0]\n",
        "median_exact7 = np.asarray(exact7_results[9:10][0])[0]\n",
        "upper_exact7 = np.asarray(exact7_results[14:15][0])[0]"
      ],
      "execution_count": 88,
      "outputs": []
    },
    {
      "cell_type": "code",
      "metadata": {
        "id": "Ub_-wpK4Qxf8"
      },
      "source": [
        "# Iteration17 :\n",
        "\n",
        "slice17 = 16\n",
        "\n",
        "approx17 = [simple_regret_approx_1[slice17],\n",
        "       simple_regret_approx_2[slice17],\n",
        "       simple_regret_approx_3[slice17],\n",
        "       simple_regret_approx_4[slice17],\n",
        "       simple_regret_approx_5[slice17],\n",
        "       simple_regret_approx_6[slice17],\n",
        "       simple_regret_approx_7[slice17],\n",
        "       simple_regret_approx_8[slice17],\n",
        "       simple_regret_approx_9[slice17],\n",
        "       simple_regret_approx_10[slice17],\n",
        "       simple_regret_approx_11[slice17],\n",
        "       simple_regret_approx_12[slice17],\n",
        "       simple_regret_approx_13[slice17],\n",
        "       simple_regret_approx_14[slice17],\n",
        "       simple_regret_approx_15[slice17],\n",
        "       simple_regret_approx_16[slice17],\n",
        "       simple_regret_approx_17[slice17],\n",
        "       simple_regret_approx_18[slice17],\n",
        "       simple_regret_approx_19[slice17],\n",
        "       simple_regret_approx_20[slice17]]\n",
        "\n",
        "exact17 = [simple_regret_exact_1[slice17],\n",
        "       simple_regret_exact_2[slice17],\n",
        "       simple_regret_exact_3[slice17],\n",
        "       simple_regret_exact_4[slice17],\n",
        "       simple_regret_exact_5[slice17],\n",
        "       simple_regret_exact_6[slice17],\n",
        "       simple_regret_exact_7[slice17],\n",
        "       simple_regret_exact_8[slice17],\n",
        "       simple_regret_exact_9[slice17],\n",
        "       simple_regret_exact_10[slice17],\n",
        "       simple_regret_exact_11[slice17],\n",
        "       simple_regret_exact_12[slice17],\n",
        "       simple_regret_exact_13[slice17],\n",
        "       simple_regret_exact_14[slice17],\n",
        "       simple_regret_exact_15[slice17],\n",
        "       simple_regret_exact_16[slice17],\n",
        "       simple_regret_exact_17[slice17],\n",
        "       simple_regret_exact_18[slice17],\n",
        "       simple_regret_exact_19[slice17],\n",
        "       simple_regret_exact_20[slice17]]\n",
        "\n",
        "approx17_results = pd.DataFrame(approx17).sort_values(by=[0], ascending=False)\n",
        "exact17_results = pd.DataFrame(exact17).sort_values(by=[0], ascending=False)\n",
        "\n",
        "### Best simple regret minimization IQR - approx:\n",
        "lower_approx17 = np.asarray(approx17_results[4:5][0])[0]\n",
        "median_approx17 = np.asarray(approx17_results[9:10][0])[0]\n",
        "upper_approx17 = np.asarray(approx17_results[14:15][0])[0]\n",
        "\n",
        "lower_exact17 = np.asarray(exact17_results[4:5][0])[0]\n",
        "median_exact17 = np.asarray(exact17_results[9:10][0])[0]\n",
        "upper_exact17 = np.asarray(exact17_results[14:15][0])[0]"
      ],
      "execution_count": 89,
      "outputs": []
    },
    {
      "cell_type": "code",
      "metadata": {
        "id": "-6VLo37PQxf8"
      },
      "source": [
        "# Iteration8 :\n",
        "\n",
        "slice8 = 7\n",
        "\n",
        "approx8 = [simple_regret_approx_1[slice8],\n",
        "       simple_regret_approx_2[slice8],\n",
        "       simple_regret_approx_3[slice8],\n",
        "       simple_regret_approx_4[slice8],\n",
        "       simple_regret_approx_5[slice8],\n",
        "       simple_regret_approx_6[slice8],\n",
        "       simple_regret_approx_7[slice8],\n",
        "       simple_regret_approx_8[slice8],\n",
        "       simple_regret_approx_9[slice8],\n",
        "       simple_regret_approx_10[slice8],\n",
        "       simple_regret_approx_11[slice8],\n",
        "       simple_regret_approx_12[slice8],\n",
        "       simple_regret_approx_13[slice8],\n",
        "       simple_regret_approx_14[slice8],\n",
        "       simple_regret_approx_15[slice8],\n",
        "       simple_regret_approx_16[slice8],\n",
        "       simple_regret_approx_17[slice8],\n",
        "       simple_regret_approx_18[slice8],\n",
        "       simple_regret_approx_19[slice8],\n",
        "       simple_regret_approx_20[slice8]]\n",
        "\n",
        "exact8 = [simple_regret_exact_1[slice8],\n",
        "       simple_regret_exact_2[slice8],\n",
        "       simple_regret_exact_3[slice8],\n",
        "       simple_regret_exact_4[slice8],\n",
        "       simple_regret_exact_5[slice8],\n",
        "       simple_regret_exact_6[slice8],\n",
        "       simple_regret_exact_7[slice8],\n",
        "       simple_regret_exact_8[slice8],\n",
        "       simple_regret_exact_9[slice8],\n",
        "       simple_regret_exact_10[slice8],\n",
        "       simple_regret_exact_11[slice8],\n",
        "       simple_regret_exact_12[slice8],\n",
        "       simple_regret_exact_13[slice8],\n",
        "       simple_regret_exact_14[slice8],\n",
        "       simple_regret_exact_15[slice8],\n",
        "       simple_regret_exact_16[slice8],\n",
        "       simple_regret_exact_17[slice8],\n",
        "       simple_regret_exact_18[slice8],\n",
        "       simple_regret_exact_19[slice8],\n",
        "       simple_regret_exact_20[slice8]]\n",
        "\n",
        "approx8_results = pd.DataFrame(approx8).sort_values(by=[0], ascending=False)\n",
        "exact8_results = pd.DataFrame(exact8).sort_values(by=[0], ascending=False)\n",
        "\n",
        "### Best simple regret minimization IQR - approx:\n",
        "lower_approx8 = np.asarray(approx8_results[4:5][0])[0]\n",
        "median_approx8 = np.asarray(approx8_results[9:10][0])[0]\n",
        "upper_approx8 = np.asarray(approx8_results[14:15][0])[0]\n",
        "\n",
        "lower_exact8 = np.asarray(exact8_results[4:5][0])[0]\n",
        "median_exact8 = np.asarray(exact8_results[9:10][0])[0]\n",
        "upper_exact8 = np.asarray(exact8_results[14:15][0])[0]"
      ],
      "execution_count": 90,
      "outputs": []
    },
    {
      "cell_type": "code",
      "metadata": {
        "id": "2Dp-9CC2Qxf9"
      },
      "source": [
        "# Iteration18 :\n",
        "\n",
        "slice18 = 17\n",
        "\n",
        "approx18 = [simple_regret_approx_1[slice18],\n",
        "       simple_regret_approx_2[slice18],\n",
        "       simple_regret_approx_3[slice18],\n",
        "       simple_regret_approx_4[slice18],\n",
        "       simple_regret_approx_5[slice18],\n",
        "       simple_regret_approx_6[slice18],\n",
        "       simple_regret_approx_7[slice18],\n",
        "       simple_regret_approx_8[slice18],\n",
        "       simple_regret_approx_9[slice18],\n",
        "       simple_regret_approx_10[slice18],\n",
        "       simple_regret_approx_11[slice18],\n",
        "       simple_regret_approx_12[slice18],\n",
        "       simple_regret_approx_13[slice18],\n",
        "       simple_regret_approx_14[slice18],\n",
        "       simple_regret_approx_15[slice18],\n",
        "       simple_regret_approx_16[slice18],\n",
        "       simple_regret_approx_17[slice18],\n",
        "       simple_regret_approx_18[slice18],\n",
        "       simple_regret_approx_19[slice18],\n",
        "       simple_regret_approx_20[slice18]]\n",
        "\n",
        "exact18 = [simple_regret_exact_1[slice18],\n",
        "       simple_regret_exact_2[slice18],\n",
        "       simple_regret_exact_3[slice18],\n",
        "       simple_regret_exact_4[slice18],\n",
        "       simple_regret_exact_5[slice18],\n",
        "       simple_regret_exact_6[slice18],\n",
        "       simple_regret_exact_7[slice18],\n",
        "       simple_regret_exact_8[slice18],\n",
        "       simple_regret_exact_9[slice18],\n",
        "       simple_regret_exact_10[slice18],\n",
        "       simple_regret_exact_11[slice18],\n",
        "       simple_regret_exact_12[slice18],\n",
        "       simple_regret_exact_13[slice18],\n",
        "       simple_regret_exact_14[slice18],\n",
        "       simple_regret_exact_15[slice18],\n",
        "       simple_regret_exact_16[slice18],\n",
        "       simple_regret_exact_17[slice18],\n",
        "       simple_regret_exact_18[slice18],\n",
        "       simple_regret_exact_19[slice18],\n",
        "       simple_regret_exact_20[slice18]]\n",
        "\n",
        "approx18_results = pd.DataFrame(approx18).sort_values(by=[0], ascending=False)\n",
        "exact18_results = pd.DataFrame(exact18).sort_values(by=[0], ascending=False)\n",
        "\n",
        "### Best simple regret minimization IQR - approx:\n",
        "lower_approx18 = np.asarray(approx18_results[4:5][0])[0]\n",
        "median_approx18 = np.asarray(approx18_results[9:10][0])[0]\n",
        "upper_approx18 = np.asarray(approx18_results[14:15][0])[0]\n",
        "\n",
        "lower_exact18 = np.asarray(exact18_results[4:5][0])[0]\n",
        "median_exact18 = np.asarray(exact18_results[9:10][0])[0]\n",
        "upper_exact18 = np.asarray(exact18_results[14:15][0])[0]"
      ],
      "execution_count": 91,
      "outputs": []
    },
    {
      "cell_type": "code",
      "metadata": {
        "id": "SqiaOpB7Qxf9"
      },
      "source": [
        "# Iteration9 :\n",
        "\n",
        "slice9 = 8\n",
        "\n",
        "approx9 = [simple_regret_approx_1[slice9],\n",
        "       simple_regret_approx_2[slice9],\n",
        "       simple_regret_approx_3[slice9],\n",
        "       simple_regret_approx_4[slice9],\n",
        "       simple_regret_approx_5[slice9],\n",
        "       simple_regret_approx_6[slice9],\n",
        "       simple_regret_approx_7[slice9],\n",
        "       simple_regret_approx_8[slice9],\n",
        "       simple_regret_approx_9[slice9],\n",
        "       simple_regret_approx_10[slice9],\n",
        "       simple_regret_approx_11[slice9],\n",
        "       simple_regret_approx_12[slice9],\n",
        "       simple_regret_approx_13[slice9],\n",
        "       simple_regret_approx_14[slice9],\n",
        "       simple_regret_approx_15[slice9],\n",
        "       simple_regret_approx_16[slice9],\n",
        "       simple_regret_approx_17[slice9],\n",
        "       simple_regret_approx_18[slice9],\n",
        "       simple_regret_approx_19[slice9],\n",
        "       simple_regret_approx_20[slice9]]\n",
        "\n",
        "exact9 = [simple_regret_exact_1[slice9],\n",
        "       simple_regret_exact_2[slice9],\n",
        "       simple_regret_exact_3[slice9],\n",
        "       simple_regret_exact_4[slice9],\n",
        "       simple_regret_exact_5[slice9],\n",
        "       simple_regret_exact_6[slice9],\n",
        "       simple_regret_exact_7[slice9],\n",
        "       simple_regret_exact_8[slice9],\n",
        "       simple_regret_exact_9[slice9],\n",
        "       simple_regret_exact_10[slice9],\n",
        "       simple_regret_exact_11[slice9],\n",
        "       simple_regret_exact_12[slice9],\n",
        "       simple_regret_exact_13[slice9],\n",
        "       simple_regret_exact_14[slice9],\n",
        "       simple_regret_exact_15[slice9],\n",
        "       simple_regret_exact_16[slice9],\n",
        "       simple_regret_exact_17[slice9],\n",
        "       simple_regret_exact_18[slice9],\n",
        "       simple_regret_exact_19[slice9],\n",
        "       simple_regret_exact_20[slice9]]\n",
        "\n",
        "approx9_results = pd.DataFrame(approx9).sort_values(by=[0], ascending=False)\n",
        "exact9_results = pd.DataFrame(exact9).sort_values(by=[0], ascending=False)\n",
        "\n",
        "### Best simple regret minimization IQR - approx:\n",
        "lower_approx9 = np.asarray(approx9_results[4:5][0])[0]\n",
        "median_approx9 = np.asarray(approx9_results[9:10][0])[0]\n",
        "upper_approx9 = np.asarray(approx9_results[14:15][0])[0]\n",
        "\n",
        "lower_exact9 = np.asarray(exact9_results[4:5][0])[0]\n",
        "median_exact9 = np.asarray(exact9_results[9:10][0])[0]\n",
        "upper_exact9 = np.asarray(exact9_results[14:15][0])[0]"
      ],
      "execution_count": 92,
      "outputs": []
    },
    {
      "cell_type": "code",
      "metadata": {
        "id": "OQkCCOsPQxf9"
      },
      "source": [
        "# Iteration19 :\n",
        "\n",
        "slice19 = 18\n",
        "\n",
        "approx19 = [simple_regret_approx_1[slice19],\n",
        "       simple_regret_approx_2[slice19],\n",
        "       simple_regret_approx_3[slice19],\n",
        "       simple_regret_approx_4[slice19],\n",
        "       simple_regret_approx_5[slice19],\n",
        "       simple_regret_approx_6[slice19],\n",
        "       simple_regret_approx_7[slice19],\n",
        "       simple_regret_approx_8[slice19],\n",
        "       simple_regret_approx_9[slice19],\n",
        "       simple_regret_approx_10[slice19],\n",
        "       simple_regret_approx_11[slice19],\n",
        "       simple_regret_approx_12[slice19],\n",
        "       simple_regret_approx_13[slice19],\n",
        "       simple_regret_approx_14[slice19],\n",
        "       simple_regret_approx_15[slice19],\n",
        "       simple_regret_approx_16[slice19],\n",
        "       simple_regret_approx_17[slice19],\n",
        "       simple_regret_approx_18[slice19],\n",
        "       simple_regret_approx_19[slice19],\n",
        "       simple_regret_approx_20[slice19]]\n",
        "\n",
        "exact19 = [simple_regret_exact_1[slice19],\n",
        "       simple_regret_exact_2[slice19],\n",
        "       simple_regret_exact_3[slice19],\n",
        "       simple_regret_exact_4[slice19],\n",
        "       simple_regret_exact_5[slice19],\n",
        "       simple_regret_exact_6[slice19],\n",
        "       simple_regret_exact_7[slice19],\n",
        "       simple_regret_exact_8[slice19],\n",
        "       simple_regret_exact_9[slice19],\n",
        "       simple_regret_exact_10[slice19],\n",
        "       simple_regret_exact_11[slice19],\n",
        "       simple_regret_exact_12[slice19],\n",
        "       simple_regret_exact_13[slice19],\n",
        "       simple_regret_exact_14[slice19],\n",
        "       simple_regret_exact_15[slice19],\n",
        "       simple_regret_exact_16[slice19],\n",
        "       simple_regret_exact_17[slice19],\n",
        "       simple_regret_exact_18[slice19],\n",
        "       simple_regret_exact_19[slice19],\n",
        "       simple_regret_exact_20[slice19]]\n",
        "\n",
        "approx19_results = pd.DataFrame(approx19).sort_values(by=[0], ascending=False)\n",
        "exact19_results = pd.DataFrame(exact19).sort_values(by=[0], ascending=False)\n",
        "\n",
        "### Best simple regret minimization IQR - approx:\n",
        "lower_approx19 = np.asarray(approx19_results[4:5][0])[0]\n",
        "median_approx19 = np.asarray(approx19_results[9:10][0])[0]\n",
        "upper_approx19 = np.asarray(approx19_results[14:15][0])[0]\n",
        "\n",
        "lower_exact19 = np.asarray(exact19_results[4:5][0])[0]\n",
        "median_exact19 = np.asarray(exact19_results[9:10][0])[0]\n",
        "upper_exact19 = np.asarray(exact19_results[14:15][0])[0]"
      ],
      "execution_count": 93,
      "outputs": []
    },
    {
      "cell_type": "code",
      "metadata": {
        "id": "h4vtWahcQxf-"
      },
      "source": [
        "# Iteration10 :\n",
        "\n",
        "slice10 = 9\n",
        "\n",
        "approx10 = [simple_regret_approx_1[slice10],\n",
        "       simple_regret_approx_2[slice10],\n",
        "       simple_regret_approx_3[slice10],\n",
        "       simple_regret_approx_4[slice10],\n",
        "       simple_regret_approx_5[slice10],\n",
        "       simple_regret_approx_6[slice10],\n",
        "       simple_regret_approx_7[slice10],\n",
        "       simple_regret_approx_8[slice10],\n",
        "       simple_regret_approx_9[slice10],\n",
        "       simple_regret_approx_10[slice10],\n",
        "       simple_regret_approx_11[slice10],\n",
        "       simple_regret_approx_12[slice10],\n",
        "       simple_regret_approx_13[slice10],\n",
        "       simple_regret_approx_14[slice10],\n",
        "       simple_regret_approx_15[slice10],\n",
        "       simple_regret_approx_16[slice10],\n",
        "       simple_regret_approx_17[slice10],\n",
        "       simple_regret_approx_18[slice10],\n",
        "       simple_regret_approx_19[slice10],\n",
        "       simple_regret_approx_20[slice10]]\n",
        "\n",
        "exact10 = [simple_regret_exact_1[slice10],\n",
        "       simple_regret_exact_2[slice10],\n",
        "       simple_regret_exact_3[slice10],\n",
        "       simple_regret_exact_4[slice10],\n",
        "       simple_regret_exact_5[slice10],\n",
        "       simple_regret_exact_6[slice10],\n",
        "       simple_regret_exact_7[slice10],\n",
        "       simple_regret_exact_8[slice10],\n",
        "       simple_regret_exact_9[slice10],\n",
        "       simple_regret_exact_10[slice10],\n",
        "       simple_regret_exact_11[slice10],\n",
        "       simple_regret_exact_12[slice10],\n",
        "       simple_regret_exact_13[slice10],\n",
        "       simple_regret_exact_14[slice10],\n",
        "       simple_regret_exact_15[slice10],\n",
        "       simple_regret_exact_16[slice10],\n",
        "       simple_regret_exact_17[slice10],\n",
        "       simple_regret_exact_18[slice10],\n",
        "       simple_regret_exact_19[slice10],\n",
        "       simple_regret_exact_20[slice10]]\n",
        "\n",
        "approx10_results = pd.DataFrame(approx10).sort_values(by=[0], ascending=False)\n",
        "exact10_results = pd.DataFrame(exact10).sort_values(by=[0], ascending=False)\n",
        "\n",
        "### Best simple regret minimization IQR - approx:\n",
        "lower_approx10 = np.asarray(approx10_results[4:5][0])[0]\n",
        "median_approx10 = np.asarray(approx10_results[9:10][0])[0]\n",
        "upper_approx10 = np.asarray(approx10_results[14:15][0])[0]\n",
        "\n",
        "lower_exact10 = np.asarray(exact10_results[4:5][0])[0]\n",
        "median_exact10 = np.asarray(exact10_results[9:10][0])[0]\n",
        "upper_exact10 = np.asarray(exact10_results[14:15][0])[0]"
      ],
      "execution_count": 94,
      "outputs": []
    },
    {
      "cell_type": "code",
      "metadata": {
        "id": "Rsf240pWQxf-"
      },
      "source": [
        "# Iteration20 :\n",
        "\n",
        "slice20 = 19\n",
        "\n",
        "approx20 = [simple_regret_approx_1[slice20],\n",
        "       simple_regret_approx_2[slice20],\n",
        "       simple_regret_approx_3[slice20],\n",
        "       simple_regret_approx_4[slice20],\n",
        "       simple_regret_approx_5[slice20],\n",
        "       simple_regret_approx_6[slice20],\n",
        "       simple_regret_approx_7[slice20],\n",
        "       simple_regret_approx_8[slice20],\n",
        "       simple_regret_approx_9[slice20],\n",
        "       simple_regret_approx_10[slice20],\n",
        "       simple_regret_approx_11[slice20],\n",
        "       simple_regret_approx_12[slice20],\n",
        "       simple_regret_approx_13[slice20],\n",
        "       simple_regret_approx_14[slice20],\n",
        "       simple_regret_approx_15[slice20],\n",
        "       simple_regret_approx_16[slice20],\n",
        "       simple_regret_approx_17[slice20],\n",
        "       simple_regret_approx_18[slice20],\n",
        "       simple_regret_approx_19[slice20],\n",
        "       simple_regret_approx_20[slice20]]\n",
        "\n",
        "exact20 = [simple_regret_exact_1[slice20],\n",
        "       simple_regret_exact_2[slice20],\n",
        "       simple_regret_exact_3[slice20],\n",
        "       simple_regret_exact_4[slice20],\n",
        "       simple_regret_exact_5[slice20],\n",
        "       simple_regret_exact_6[slice20],\n",
        "       simple_regret_exact_7[slice20],\n",
        "       simple_regret_exact_8[slice20],\n",
        "       simple_regret_exact_9[slice20],\n",
        "       simple_regret_exact_10[slice20],\n",
        "       simple_regret_exact_11[slice20],\n",
        "       simple_regret_exact_12[slice20],\n",
        "       simple_regret_exact_13[slice20],\n",
        "       simple_regret_exact_14[slice20],\n",
        "       simple_regret_exact_15[slice20],\n",
        "       simple_regret_exact_16[slice20],\n",
        "       simple_regret_exact_17[slice20],\n",
        "       simple_regret_exact_18[slice20],\n",
        "       simple_regret_exact_19[slice20],\n",
        "       simple_regret_exact_20[slice20]]\n",
        "\n",
        "approx20_results = pd.DataFrame(approx20).sort_values(by=[0], ascending=False)\n",
        "exact20_results = pd.DataFrame(exact20).sort_values(by=[0], ascending=False)\n",
        "\n",
        "### Best simple regret minimization IQR - approx:\n",
        "lower_approx20 = np.asarray(approx20_results[4:5][0])[0]\n",
        "median_approx20 = np.asarray(approx20_results[9:10][0])[0]\n",
        "upper_approx20 = np.asarray(approx20_results[14:15][0])[0]\n",
        "\n",
        "lower_exact20 = np.asarray(exact20_results[4:5][0])[0]\n",
        "median_exact20 = np.asarray(exact20_results[9:10][0])[0]\n",
        "upper_exact20 = np.asarray(exact20_results[14:15][0])[0]"
      ],
      "execution_count": 95,
      "outputs": []
    },
    {
      "cell_type": "code",
      "metadata": {
        "id": "gn36RejbQxf_"
      },
      "source": [
        "### Summarize arrays: 'Loser'\n",
        "\n",
        "lower_approx = [lower_approx1,\n",
        "            lower_approx2,\n",
        "            lower_approx3,\n",
        "            lower_approx4,\n",
        "            lower_approx5,\n",
        "            lower_approx6,\n",
        "            lower_approx7,\n",
        "            lower_approx8,\n",
        "            lower_approx9,\n",
        "            lower_approx10,\n",
        "            lower_approx11,\n",
        "            lower_approx12,\n",
        "            lower_approx13,\n",
        "            lower_approx14,\n",
        "            lower_approx15,\n",
        "            lower_approx16,\n",
        "            lower_approx17,\n",
        "            lower_approx18,\n",
        "            lower_approx19,\n",
        "            lower_approx20,\n",
        "            lower_approx21]\n",
        "\n",
        "median_approx = [median_approx1,\n",
        "            median_approx2,\n",
        "            median_approx3,\n",
        "            median_approx4,\n",
        "            median_approx5,\n",
        "            median_approx6,\n",
        "            median_approx7,\n",
        "            median_approx8,\n",
        "            median_approx9,\n",
        "            median_approx10,\n",
        "            median_approx11,\n",
        "            median_approx12,\n",
        "            median_approx13,\n",
        "            median_approx14,\n",
        "            median_approx15,\n",
        "            median_approx16,\n",
        "            median_approx17,\n",
        "            median_approx18,\n",
        "            median_approx19,\n",
        "            median_approx20,\n",
        "            median_approx21]\n",
        "\n",
        "upper_approx = [upper_approx1,\n",
        "            upper_approx2,\n",
        "            upper_approx3,\n",
        "            upper_approx4,\n",
        "            upper_approx5,\n",
        "            upper_approx6,\n",
        "            upper_approx7,\n",
        "            upper_approx8,\n",
        "            upper_approx9,\n",
        "            upper_approx10,\n",
        "            upper_approx11,\n",
        "            upper_approx12,\n",
        "            upper_approx13,\n",
        "            upper_approx14,\n",
        "            upper_approx15,\n",
        "            upper_approx16,\n",
        "            upper_approx17,\n",
        "            upper_approx18,\n",
        "            upper_approx19,\n",
        "            upper_approx20,\n",
        "            upper_approx21]"
      ],
      "execution_count": 96,
      "outputs": []
    },
    {
      "cell_type": "code",
      "metadata": {
        "id": "wxtGTOYfQxf_"
      },
      "source": [
        "### Summarize arrays: 'exact'\n",
        "\n",
        "lower_exact = [lower_exact1,\n",
        "            lower_exact2,\n",
        "            lower_exact3,\n",
        "            lower_exact4,\n",
        "            lower_exact5,\n",
        "            lower_exact6,\n",
        "            lower_exact7,\n",
        "            lower_exact8,\n",
        "            lower_exact9,\n",
        "            lower_exact10,\n",
        "            lower_exact11,\n",
        "            lower_exact12,\n",
        "            lower_exact13,\n",
        "            lower_exact14,\n",
        "            lower_exact15,\n",
        "            lower_exact16,\n",
        "            lower_exact17,\n",
        "            lower_exact18,\n",
        "            lower_exact19,\n",
        "            lower_exact20,\n",
        "            lower_exact21]\n",
        "\n",
        "median_exact = [median_exact1,\n",
        "            median_exact2,\n",
        "            median_exact3,\n",
        "            median_exact4,\n",
        "            median_exact5,\n",
        "            median_exact6,\n",
        "            median_exact7,\n",
        "            median_exact8,\n",
        "            median_exact9,\n",
        "            median_exact10,\n",
        "            median_exact11,\n",
        "            median_exact12,\n",
        "            median_exact13,\n",
        "            median_exact14,\n",
        "            median_exact15,\n",
        "            median_exact16,\n",
        "            median_exact17,\n",
        "            median_exact18,\n",
        "            median_exact19,\n",
        "            median_exact20,\n",
        "            median_exact21]\n",
        "\n",
        "upper_exact = [upper_exact1,\n",
        "            upper_exact2,\n",
        "            upper_exact3,\n",
        "            upper_exact4,\n",
        "            upper_exact5,\n",
        "            upper_exact6,\n",
        "            upper_exact7,\n",
        "            upper_exact8,\n",
        "            upper_exact9,\n",
        "            upper_exact10,\n",
        "            upper_exact11,\n",
        "            upper_exact12,\n",
        "            upper_exact13,\n",
        "            upper_exact14,\n",
        "            upper_exact15,\n",
        "            upper_exact16,\n",
        "            upper_exact17,\n",
        "            upper_exact18,\n",
        "            upper_exact19,\n",
        "            upper_exact20,\n",
        "            upper_exact21]"
      ],
      "execution_count": 97,
      "outputs": []
    },
    {
      "cell_type": "code",
      "metadata": {
        "id": "2MONq-BXQxgA",
        "colab": {
          "base_uri": "https://localhost:8080/",
          "height": 299
        },
        "outputId": "653f400c-54c8-4a4a-c5e1-89c0b279ad7e"
      },
      "source": [
        "### Visualise!\n",
        "\n",
        "title = func\n",
        "plt.figure()\n",
        "\n",
        "plt.plot(median_approx, color = 'Yellow')\n",
        "plt.plot(median_exact, color = 'Red')\n",
        "\n",
        "xstar = np.arange(0, iters+1, step=1)\n",
        "plt.fill_between(xstar, lower_approx, upper_approx, facecolor = 'Yellow', alpha=0.4, label='GP EI Optimization: L-BFGS-B')\n",
        "plt.fill_between(xstar, lower_exact, upper_exact, facecolor = 'Red', alpha=0.4, label='GP EI Optimization: Best Random Sample')\n",
        "\n",
        "plt.title(title, weight = 'bold')\n",
        "plt.xlabel('(Post-initialization) iteration $\\it{k}$', weight = 'bold')\n",
        "plt.ylabel('log(Regret)', weight = 'bold') \n",
        "plt.legend(loc=1) # add plot legend\n",
        "\n",
        "### Make the x-ticks integers, not floats:\n",
        "count = len(xstar)\n",
        "plt.xticks(np.arange(count), np.arange(0, count))\n",
        "plt.show() #visualize!"
      ],
      "execution_count": 98,
      "outputs": [
        {
          "output_type": "display_data",
          "data": {
            "image/png": "[encoded data removed]",
            "text/plain": [
              "<Figure size 432x288 with 1 Axes>"
            ]
          },
          "metadata": {
            "needs_background": "light"
          }
        }
      ]
    },
    {
      "cell_type": "code",
      "metadata": {
        "id": "l5dkR2Id2oiu",
        "colab": {
          "base_uri": "https://localhost:8080/"
        },
        "outputId": "6d559c00-be78-4491-f151-7d98f8c48776"
      },
      "source": [
        "time_approx, time_exact\n"
      ],
      "execution_count": 99,
      "outputs": [
        {
          "output_type": "execute_result",
          "data": {
            "text/plain": [
              "(161.85777187347412, 51.19498014450073)"
            ]
          },
          "metadata": {},
          "execution_count": 99
        }
      ]
    },
    {
      "cell_type": "code",
      "metadata": {
        "id": "77BffxK2Fe61"
      },
      "source": [
        ""
      ],
      "execution_count": 99,
      "outputs": []
    }
  ]
}