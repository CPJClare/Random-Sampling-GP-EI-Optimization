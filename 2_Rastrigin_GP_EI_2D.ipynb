{
  "nbformat": 4,
  "nbformat_minor": 0,
  "metadata": {
    "colab": {
      "name": "2. Rastrigin_GP_EI_2D.ipynb",
      "provenance": [],
      "collapsed_sections": []
    },
    "kernelspec": {
      "name": "python3",
      "display_name": "Python 3"
    },
    "language_info": {
      "name": "python"
    }
  },
  "cells": [
    {
      "cell_type": "markdown",
      "metadata": {
        "id": "Dqn4dFx7Z2Ir"
      },
      "source": [
        "\n",
        "Rastrigin: 2D\n"
      ]
    },
    {
      "cell_type": "code",
      "metadata": {
        "id": "MJTM_GZZZb5x",
        "colab": {
          "base_uri": "https://localhost:8080/"
        },
        "outputId": "e5bbce71-1f5d-4158-ff02-033565153588"
      },
      "source": [
        "pip install pyGPGO\n"
      ],
      "execution_count": 1,
      "outputs": [
        {
          "output_type": "stream",
          "name": "stdout",
          "text": [
            "Requirement already satisfied: pyGPGO in /usr/local/lib/python3.7/dist-packages (0.5.1)\n",
            "Requirement already satisfied: mkl in /usr/local/lib/python3.7/dist-packages (from pyGPGO) (2019.0)\n",
            "Requirement already satisfied: pyMC3 in /usr/local/lib/python3.7/dist-packages (from pyGPGO) (3.11.2)\n",
            "Requirement already satisfied: scikit-learn in /usr/local/lib/python3.7/dist-packages (from pyGPGO) (0.22.2.post1)\n",
            "Requirement already satisfied: joblib in /usr/local/lib/python3.7/dist-packages (from pyGPGO) (1.0.1)\n",
            "Requirement already satisfied: Theano-PyMC in /usr/local/lib/python3.7/dist-packages (from pyGPGO) (1.1.2)\n",
            "Requirement already satisfied: scipy in /usr/local/lib/python3.7/dist-packages (from pyGPGO) (1.4.1)\n",
            "Requirement already satisfied: numpy in /usr/local/lib/python3.7/dist-packages (from pyGPGO) (1.19.5)\n",
            "Requirement already satisfied: intel-openmp in /usr/local/lib/python3.7/dist-packages (from mkl->pyGPGO) (2021.3.0)\n",
            "Requirement already satisfied: semver in /usr/local/lib/python3.7/dist-packages (from pyMC3->pyGPGO) (2.13.0)\n",
            "Requirement already satisfied: patsy>=0.5.1 in /usr/local/lib/python3.7/dist-packages (from pyMC3->pyGPGO) (0.5.1)\n",
            "Requirement already satisfied: dill in /usr/local/lib/python3.7/dist-packages (from pyMC3->pyGPGO) (0.3.4)\n",
            "Requirement already satisfied: cachetools>=4.2.1 in /usr/local/lib/python3.7/dist-packages (from pyMC3->pyGPGO) (4.2.2)\n",
            "Requirement already satisfied: typing-extensions>=3.7.4 in /usr/local/lib/python3.7/dist-packages (from pyMC3->pyGPGO) (3.7.4.3)\n",
            "Requirement already satisfied: fastprogress>=0.2.0 in /usr/local/lib/python3.7/dist-packages (from pyMC3->pyGPGO) (1.0.0)\n",
            "Requirement already satisfied: arviz>=0.11.0 in /usr/local/lib/python3.7/dist-packages (from pyMC3->pyGPGO) (0.11.2)\n",
            "Requirement already satisfied: pandas>=0.24.0 in /usr/local/lib/python3.7/dist-packages (from pyMC3->pyGPGO) (1.1.5)\n",
            "Requirement already satisfied: filelock in /usr/local/lib/python3.7/dist-packages (from Theano-PyMC->pyGPGO) (3.0.12)\n",
            "Requirement already satisfied: setuptools>=38.4 in /usr/local/lib/python3.7/dist-packages (from arviz>=0.11.0->pyMC3->pyGPGO) (57.4.0)\n",
            "Requirement already satisfied: matplotlib>=3.0 in /usr/local/lib/python3.7/dist-packages (from arviz>=0.11.0->pyMC3->pyGPGO) (3.2.2)\n",
            "Requirement already satisfied: netcdf4 in /usr/local/lib/python3.7/dist-packages (from arviz>=0.11.0->pyMC3->pyGPGO) (1.5.7)\n",
            "Requirement already satisfied: packaging in /usr/local/lib/python3.7/dist-packages (from arviz>=0.11.0->pyMC3->pyGPGO) (21.0)\n",
            "Requirement already satisfied: xarray>=0.16.1 in /usr/local/lib/python3.7/dist-packages (from arviz>=0.11.0->pyMC3->pyGPGO) (0.18.2)\n",
            "Requirement already satisfied: python-dateutil>=2.1 in /usr/local/lib/python3.7/dist-packages (from matplotlib>=3.0->arviz>=0.11.0->pyMC3->pyGPGO) (2.8.2)\n",
            "Requirement already satisfied: kiwisolver>=1.0.1 in /usr/local/lib/python3.7/dist-packages (from matplotlib>=3.0->arviz>=0.11.0->pyMC3->pyGPGO) (1.3.1)\n",
            "Requirement already satisfied: pyparsing!=2.0.4,!=2.1.2,!=2.1.6,>=2.0.1 in /usr/local/lib/python3.7/dist-packages (from matplotlib>=3.0->arviz>=0.11.0->pyMC3->pyGPGO) (2.4.7)\n",
            "Requirement already satisfied: cycler>=0.10 in /usr/local/lib/python3.7/dist-packages (from matplotlib>=3.0->arviz>=0.11.0->pyMC3->pyGPGO) (0.10.0)\n",
            "Requirement already satisfied: six in /usr/local/lib/python3.7/dist-packages (from cycler>=0.10->matplotlib>=3.0->arviz>=0.11.0->pyMC3->pyGPGO) (1.15.0)\n",
            "Requirement already satisfied: pytz>=2017.2 in /usr/local/lib/python3.7/dist-packages (from pandas>=0.24.0->pyMC3->pyGPGO) (2018.9)\n",
            "Requirement already satisfied: cftime in /usr/local/lib/python3.7/dist-packages (from netcdf4->arviz>=0.11.0->pyMC3->pyGPGO) (1.5.0)\n"
          ]
        }
      ]
    },
    {
      "cell_type": "code",
      "metadata": {
        "id": "ZJSSPbwPaEUB"
      },
      "source": [
        "### Import:\n",
        "\n",
        "import numpy as np\n",
        "import scipy as sp\n",
        "import pandas as pd\n",
        "import matplotlib.pyplot as plt\n",
        "import warnings\n",
        "import itertools\n",
        "\n",
        "from pyGPGO.GPGO import GPGO\n",
        "from pyGPGO.surrogates.GaussianProcess import GaussianProcess\n",
        "from pyGPGO.acquisition import Acquisition\n",
        "from pyGPGO.covfunc import squaredExponential\n",
        "\n",
        "from joblib import Parallel, delayed\n",
        "from numpy.linalg import solve, cholesky\n",
        "from scipy.spatial.distance import cdist\n",
        "from scipy.optimize import minimize\n",
        "from scipy.stats import norm\n",
        "import time\n",
        "\n",
        "warnings.filterwarnings(\"ignore\", category=RuntimeWarning)\n"
      ],
      "execution_count": 2,
      "outputs": []
    },
    {
      "cell_type": "code",
      "metadata": {
        "id": "OeYcTUNoaJWa"
      },
      "source": [
        "### Inputs:\n",
        "\n",
        "func = 'Rastrigin'\n",
        "n_test = 500\n",
        "eps = 1e-08\n",
        "\n",
        "util_grad_exact = 'dEI_GP'\n",
        "util_grad_approx = 'ExpectedImprovement'\n",
        "\n",
        "n_init = 5 # random initialisations\n",
        "iters = 20\n",
        "opt = True"
      ],
      "execution_count": 3,
      "outputs": []
    },
    {
      "cell_type": "code",
      "metadata": {
        "id": "xpaEOjdzaPMS"
      },
      "source": [
        "### Objective Function - Rastrigin(x) 2-D:\n",
        "\n",
        "def objfunc(x1_training, x2_training):\n",
        "        return  operator * (10 * dim + x1_training** 2 - 10 * np.cos(2 * np.pi * x1_training)\n",
        "                                    + x2_training** 2 - 10 * np.cos(2 * np.pi * x2_training)\n",
        "                          )\n",
        "        \n",
        "def objfunc_der(x1_training, x2_training):\n",
        "        return  operator * (2 * x1_training + 20 * np.pi * np.sin(2 * np.pi * x1_training)\n",
        "                                    + 2 * x2_training + 20 * np.pi * np.sin(2 * np.pi * x2_training)\n",
        "                          )\n",
        "    \n",
        "# Constraints:\n",
        "lb = -5.12 \n",
        "ub = +5.12\n",
        "    \n",
        "# Input array dimension(s):\n",
        "dim = 2\n",
        "\n",
        "# 2-D inputs' parameter bounds:\n",
        "param = {'x1_training': ('cont', [lb, ub]),\n",
        "             'x2_training': ('cont', [lb, ub])}\n",
        "\n",
        "# True y bounds:\n",
        "operator = -1\n",
        "y_global_orig = 0 # targets global minimum\n",
        "\n",
        "# Test data:\n",
        "x1_test = np.linspace(lb, ub, n_test) \n",
        "x2_test = np.linspace(lb, ub, n_test)\n",
        "  \n",
        "x_test = np.column_stack((x1_test,x2_test))\n"
      ],
      "execution_count": 4,
      "outputs": []
    },
    {
      "cell_type": "code",
      "metadata": {
        "id": "eYpI3Zm4aGxi"
      },
      "source": [
        "n_start_AcqFunc = iters\n"
      ],
      "execution_count": 5,
      "outputs": []
    },
    {
      "cell_type": "code",
      "metadata": {
        "id": "oO_GUmOoaV0T"
      },
      "source": [
        "### Cumulative Regret Calculator:\n",
        "\n",
        "def min_max_array(x):\n",
        "    new_list = []\n",
        "    for i, num in enumerate(x):\n",
        "            new_list.append(np.min(x[0:i+1]))\n",
        "    return new_list\n",
        "  "
      ],
      "execution_count": 6,
      "outputs": []
    },
    {
      "cell_type": "code",
      "metadata": {
        "id": "kuuJx0IMam9S"
      },
      "source": [
        "### Surrogate derivatives: \n",
        "\n",
        "cov_func = squaredExponential()\n",
        "\n",
        "def kronDelta(X, Xstar):\n",
        "    return cdist(X, Xstar) < np.finfo(np.float32).eps\n",
        "\n",
        "def se(X, Xstar, sigmaf, l, sigman):\n",
        "    return sigmaf * np.exp(-0.5 * cdist(X, Xstar) ** 2 / l ** 2) + sigman * kronDelta(X, Xstar)\n",
        "\n",
        "def deriv_se(X, Xstar, sigmaf, l, sigman):\n",
        "    return cdist(X, Xstar) / (l ** 2) * se(X, Xstar, sigmaf, l, sigman)\n",
        "\n",
        "def der_covmat(X, Xstar, sigmaf, l, sigman):\n",
        "      nx = len(X)\n",
        "      ny = len(Xstar)\n",
        "      return np.round(np.array([deriv_se(np.atleast_2d(i), np.atleast_2d(j), sigmaf, l, sigman) for (i, j) in itertools.product(X, Xstar)]).reshape(nx, ny), 8)\n",
        "\n",
        "class dGaussianProcess(GaussianProcess):\n",
        "    l = GaussianProcess(cov_func, optimize=opt).getcovparams()['l']\n",
        "    sigmaf = GaussianProcess(cov_func, optimize=opt).getcovparams()['sigmaf']\n",
        "    sigman = GaussianProcess(cov_func, optimize=opt).getcovparams()['sigman']\n",
        "\n",
        "    def AcqGrad(self, Xstar):\n",
        "        Xstar = np.atleast_2d(Xstar)\n",
        "        Kstar = self.covfunc.K(self.X, Xstar).T\n",
        "        dKstar = der_covmat(self.X, Xstar, self.sigmaf, self.l, self.sigman).T\n",
        "        \n",
        "        alpha_Kstar = np.dot(np.linalg.inv(self.K + (self.sigman**2) * np.eye(len(self.X))), Kstar.T)\n",
        "        \n",
        "        dm = np.dot(dKstar, self.alpha)\n",
        "        ds = -2 * np.dot(dKstar, alpha_Kstar)\n",
        "        \n",
        "        return dm, ds\n",
        "        "
      ],
      "execution_count": 7,
      "outputs": []
    },
    {
      "cell_type": "code",
      "metadata": {
        "id": "_Dc3YVHVaXz7"
      },
      "source": [
        "class Acquisition_new(Acquisition):    \n",
        "    def __init__(self, mode, eps=eps, **params):\n",
        "        \n",
        "        self.params = params\n",
        "        self.eps = eps\n",
        "\n",
        "        mode_dict = {\n",
        "            'dEI_GP': self.dEI_GP\n",
        "        }\n",
        "\n",
        "        self.f = mode_dict[mode]\n",
        "    \n",
        "    def dEI_GP(self, tau, mean, std, ds, dm):\n",
        "        gamma = (mean - tau - self.eps) / (std + self.eps)\n",
        "        gamma_h = (mean - tau) / (std + self.eps)\n",
        "        dsdx = ds / (2 * (std + self.eps))\n",
        "        dmdx = (dm - gamma * dsdx) / (std + self.eps)\n",
        "        \n",
        "        f = (std + self.eps) * (gamma * norm.cdf(gamma) + norm.pdf(gamma))\n",
        "        df1 = f / (std + self.eps) * dsdx \n",
        "        df2 = (std + self.eps) * norm.cdf(gamma) * dmdx\n",
        "        df = (df1 + df2)[0]\n",
        "        df_arr = []\n",
        "\n",
        "        for j in range(0, dim):\n",
        "          df_arr.append(df)\n",
        "        return f, np.asarray(df_arr).transpose()\n",
        "        \n",
        "    def d_eval(self, tau, mean, std, ds, dm):\n",
        "    \n",
        "        return self.f(tau, mean, std, ds, dm, **self.params)\n",
        "        "
      ],
      "execution_count": 8,
      "outputs": []
    },
    {
      "cell_type": "code",
      "metadata": {
        "id": "PITEQC8YSl7i"
      },
      "source": [
        "## GPGO_multi: Multistart changed to variable 'n_start_AcqFunc'\n",
        "\n",
        "class GPGO_multi(GPGO):\n",
        "    n_start = n_start_AcqFunc\n",
        "\n",
        "    def _optimizeAcq(self, method='L-BFGS-B', n_start=n_start_AcqFunc):\n",
        "        \n",
        "        start_points_dict = [self._sampleParam() for i in range(n_start)]\n",
        "        start_points_arr = np.array([list(s.values())\n",
        "                                     for s in start_points_dict])\n",
        "        x_best = np.empty((n_start, len(self.parameter_key)))\n",
        "        f_best = np.empty((n_start,))\n",
        "        if self.n_jobs == 1:\n",
        "            for index, start_point in enumerate(start_points_arr):\n",
        "                res = minimize(self._acqWrapper, x0=start_point, method=method,\n",
        "                               bounds=self.parameter_range)\n",
        "                x_best[index], f_best[index] = res.x, np.atleast_1d(res.fun)[0]\n",
        "        else:\n",
        "            opt = Parallel(n_jobs=self.n_jobs)(delayed(minimize)(self._acqWrapper,\n",
        "                                                                 x0=start_point,\n",
        "                                                                 method=method,\n",
        "                                                                 bounds=self.parameter_range) for start_point in\n",
        "                                               start_points_arr)\n",
        "            x_best = np.array([res.x for res in opt])\n",
        "            f_best = np.array([np.atleast_1d(res.fun)[0] for res in opt])\n",
        "\n",
        "        self.best = x_best[np.argmin(f_best)]"
      ],
      "execution_count": 9,
      "outputs": []
    },
    {
      "cell_type": "code",
      "metadata": {
        "id": "b_B-w81BJxKN"
      },
      "source": [
        "## dGPGO:\n",
        "\n",
        "grad = 0\n",
        "\n",
        "class dGPGO(GPGO):\n",
        "    n_start = n_start_AcqFunc\n",
        "\n",
        "    def d_optimizeAcq(self, method='L-BFGS-B', n_start=n_start_AcqFunc):\n",
        "        start_points_dict = [self._sampleParam() for i in range(n_start)]\n",
        "        start_points_arr = np.array([list(s.values())\n",
        "                                     for s in start_points_dict])\n",
        "        x_best = np.empty((n_start, len(self.parameter_key)))\n",
        "        f_best = np.empty((n_start,))\n",
        "        opt = Parallel(n_jobs=self.n_jobs)(delayed(minimize)(self.acqfunc,\n",
        "                                                                 x0=start_point,\n",
        "                                                                 method=method,\n",
        "                                                                 jac = True,\n",
        "                                                                 bounds=self.parameter_range) for start_point in\n",
        "                                               start_points_arr)\n",
        "        x_best = np.array([res.x for res in opt])\n",
        "        f_best = np.array([np.atleast_1d(res.fun)[0] for res in opt])\n",
        "\n",
        "        self.x_best = x_best\n",
        "        self.f_best = f_best\n",
        "        self.best = x_best[np.argmin(f_best)]\n",
        "        self.start_points_arr = start_points_arr\n",
        "\n",
        "        return x_best, f_best\n",
        "    \n",
        "    def run(self, max_iter=10, init_evals=3, resume=False):\n",
        "        \n",
        "        if not resume:\n",
        "            self.init_evals = init_evals\n",
        "            self._firstRun(self.init_evals)\n",
        "            self.logger._printInit(self)\n",
        "        for iteration in range(max_iter):\n",
        "            self.d_optimizeAcq()\n",
        "            self.updateGP()\n",
        "            self.logger._printCurrent(self)\n",
        "\n",
        "    def acqfunc(self, xnew, n_start=n_start_AcqFunc):\n",
        "        new_mean, new_var = self.GP.predict(xnew, return_std=True)\n",
        "        new_std = np.sqrt(new_var + eps)\n",
        "        dm, ds = self.GP.AcqGrad(xnew)\n",
        "        f, df = self.A.d_eval(self.tau, new_mean, new_std, ds=ds, dm=dm)\n",
        "\n",
        "        return -f, -df * grad\n"
      ],
      "execution_count": 10,
      "outputs": []
    },
    {
      "cell_type": "code",
      "metadata": {
        "id": "qXIKGuXVGEg2"
      },
      "source": [
        "###Reproducible set-seeds:\n",
        "\n",
        "run_num_1 = 1\n",
        "run_num_2 = 2\n",
        "run_num_3 = 3\n",
        "run_num_4 = 4\n",
        "run_num_5 = 5\n",
        "run_num_6 = 6\n",
        "run_num_7 = 7\n",
        "run_num_8 = 8\n",
        "run_num_9 = 9\n",
        "run_num_10 = 10\n",
        "run_num_11 = 11\n",
        "run_num_12 = 12\n",
        "run_num_13 = 13\n",
        "run_num_14 = 14\n",
        "run_num_15 = 15\n",
        "run_num_16 = 16\n",
        "run_num_17 = 17\n",
        "run_num_18 = 18\n",
        "run_num_19 = 19\n",
        "run_num_20 = 20\n"
      ],
      "execution_count": 11,
      "outputs": []
    },
    {
      "cell_type": "code",
      "metadata": {
        "colab": {
          "base_uri": "https://localhost:8080/"
        },
        "id": "JEhagQmnTVIK",
        "outputId": "d9cd4d7e-9b76-44e6-a9b3-d713d1955202"
      },
      "source": [
        "start_approx = time.time()\n",
        "start_approx\n"
      ],
      "execution_count": 12,
      "outputs": [
        {
          "output_type": "execute_result",
          "data": {
            "text/plain": [
              "1631271248.9602168"
            ]
          },
          "metadata": {},
          "execution_count": 12
        }
      ]
    },
    {
      "cell_type": "code",
      "metadata": {
        "colab": {
          "base_uri": "https://localhost:8080/"
        },
        "id": "aH0YSTXufD1v",
        "outputId": "8940514a-0605-4949-b227-0421ae42a1a7"
      },
      "source": [
        "### ESTIMATED GP EI GRADIENTS\n",
        "\n",
        "np.random.seed(run_num_1)\n",
        "surrogate_approx_1 = GaussianProcess(cov_func, optimize=opt)\n",
        "\n",
        "approx_1 = GPGO_multi(surrogate_approx_1, Acquisition(util_grad_approx), objfunc, param)\n",
        "approx_1.run(init_evals=n_init, max_iter=iters)\n"
      ],
      "execution_count": 13,
      "outputs": [
        {
          "output_type": "stream",
          "name": "stdout",
          "text": [
            "Evaluation \t Proposed point \t  Current eval. \t Best eval.\n",
            "init   \t [-0.84969467  2.25612281]. \t  -20.33436270766351 \t -19.908403246996286\n",
            "init   \t [-5.1188288  -2.02411446]. \t  -33.07414982069084 \t -19.908403246996286\n",
            "init   \t [-3.61721968 -4.17445279]. \t  -53.347974723929894 \t -19.908403246996286\n",
            "init   \t [-3.21269544 -1.58145816]. \t  -39.218472310354045 \t -19.908403246996286\n",
            "init   \t [-1.05710106  0.39748336]. \t  -19.908403246996286 \t -19.908403246996286\n",
            "1      \t [ 5.12 -5.12]. \t  -57.849427451571785 \t -19.908403246996286\n",
            "2      \t [4.60729025 5.12      ]. \t  -67.96437441351335 \t -19.908403246996286\n",
            "3      \t [-5.12  5.12]. \t  -57.849427451571785 \t -19.908403246996286\n",
            "4      \t [ 4.14371716 -0.05763721]. \t  -21.629764732147287 \t -19.908403246996286\n",
            "5      \t [ 0.90035873 -3.6886239 ]. \t  -30.074692068191148 \t -19.908403246996286\n",
            "6      \t [0.72649182 5.12      ]. \t  -40.92420170488573 \t -19.908403246996286\n",
            "7      \t [-5.12        1.53252357]. \t  -51.06526994191434 \t -19.908403246996286\n",
            "8      \t [2.30505508 2.21328361]. \t  -31.315988178837966 \t -19.908403246996286\n",
            "9      \t [ 1.42618554 -0.86660258]. \t  -25.040327634463708 \t -19.908403246996286\n",
            "10     \t [-2.14583542  5.12      ]. \t  -37.44181297666616 \t -19.908403246996286\n",
            "11     \t [ 5.12       -2.24292171]. \t  -43.51081591188006 \t -19.908403246996286\n",
            "12     \t [5.12       2.17347507]. \t  -39.023641242530104 \t -19.908403246996286\n",
            "13     \t [-1.04354551 -5.12      ]. \t  -30.385668918256215 \t -19.908403246996286\n",
            "14     \t [-0.84180347 -2.09417785]. \t  \u001b[92m-11.340885911253874\u001b[0m \t -11.340885911253874\n",
            "15     \t [-2.91263568  2.68174951]. \t  -31.30244842986737 \t -11.340885911253874\n",
            "16     \t [ 2.49218129 -5.12      ]. \t  -55.12361668947257 \t -11.340885911253874\n",
            "17     \t [ 2.82508438 -2.40337549]. \t  -37.425691021002834 \t -11.340885911253874\n",
            "18     \t [-5.12 -5.12]. \t  -57.849427451571785 \t -11.340885911253874\n",
            "19     \t [0.72988809 0.96797732]. \t  -12.931758880713739 \t -11.340885911253874\n",
            "20     \t [-2.87360204  0.49072682]. \t  -31.472745984770945 \t -11.340885911253874\n"
          ]
        }
      ]
    },
    {
      "cell_type": "code",
      "metadata": {
        "colab": {
          "base_uri": "https://localhost:8080/"
        },
        "id": "wTxsSZxFGBB5",
        "outputId": "bbb4d36e-4272-4d83-b463-fb8ee3b78f6e"
      },
      "source": [
        "### ESTIMATED GP EI GRADIENTS\n",
        "\n",
        "np.random.seed(run_num_2)\n",
        "surrogate_approx_2 = GaussianProcess(cov_func, optimize=opt)\n",
        "\n",
        "approx_2 = GPGO_multi(surrogate_approx_2, Acquisition(util_grad_approx), objfunc, param)\n",
        "approx_2.run(init_evals=n_init, max_iter=iters)\n"
      ],
      "execution_count": 14,
      "outputs": [
        {
          "output_type": "stream",
          "name": "stdout",
          "text": [
            "Evaluation \t Proposed point \t  Current eval. \t Best eval.\n",
            "init   \t [-0.6554122  -4.85451539]. \t  -43.490296251903594 \t -18.964539418712707\n",
            "init   \t [ 0.50854377 -0.6622987 ]. \t  -35.91861667536101 \t -18.964539418712707\n",
            "init   \t [-0.81543371 -1.73737143]. \t  -20.479562046739524 \t -18.964539418712707\n",
            "init   \t [-3.02439799  1.2213347 ]. \t  -18.964539418712707 \t -18.964539418712707\n",
            "init   \t [-2.05153614 -2.3876887 ]. \t  -28.041315668371354 \t -18.964539418712707\n",
            "1      \t [2.39005119 4.76796397]. \t  -55.026692786904306 \t -18.964539418712707\n",
            "2      \t [ 5.12 -5.12]. \t  -57.849427451571785 \t -18.964539418712707\n",
            "3      \t [5.12       0.46735291]. \t  -48.933482231873775 \t -18.964539418712707\n",
            "4      \t [-5.12  5.12]. \t  -57.849427451571785 \t -18.964539418712707\n",
            "5      \t [-5.12 -5.12]. \t  -57.849427451571785 \t -18.964539418712707\n",
            "6      \t [-1.34579605  5.12      ]. \t  -46.398012233678955 \t -18.964539418712707\n",
            "7      \t [-5.12       -1.23369189]. \t  -39.42383270950201 \t -18.964539418712707\n",
            "8      \t [ 3.04359674 -2.54342855]. \t  -35.735363148161184 \t -18.964539418712707\n",
            "9      \t [0.16459963 2.29104548]. \t  -22.71440188428126 \t -18.964539418712707\n",
            "10     \t [5.12 5.12]. \t  -57.849427451571785 \t -18.964539418712707\n",
            "11     \t [-5.12        2.08792422]. \t  -34.77169692305702 \t -18.964539418712707\n",
            "12     \t [ 2.09850934 -5.12      ]. \t  -35.183588344310785 \t -18.964539418712707\n",
            "13     \t [2.63638553 1.66307801]. \t  -41.4579102811189 \t -18.964539418712707\n",
            "14     \t [ 5.12       -2.19938039]. \t  -40.63481536077958 \t -18.964539418712707\n",
            "15     \t [-2.70083796  3.16164932]. \t  -35.060121519093556 \t -18.964539418712707\n",
            "16     \t [5.12       2.77112195]. \t  -45.28059143451368 \t -18.964539418712707\n",
            "17     \t [-1.6857597   0.29071023]. \t  -29.384021890649407 \t -18.964539418712707\n",
            "18     \t [-2.8046088 -5.12     ]. \t  -43.42630204761433 \t -18.964539418712707\n",
            "19     \t [ 0.80183842 -2.99121554]. \t  \u001b[92m-16.40572448101496\u001b[0m \t -16.40572448101496\n",
            "20     \t [ 2.75029125 -0.52155545]. \t  -37.72624686228134 \t -16.40572448101496\n"
          ]
        }
      ]
    },
    {
      "cell_type": "code",
      "metadata": {
        "colab": {
          "base_uri": "https://localhost:8080/"
        },
        "id": "-dgzIrUIGCGT",
        "outputId": "885cfa63-1add-4d9c-f3d2-7602384a98d3"
      },
      "source": [
        "### ESTIMATED GP EI GRADIENTS\n",
        "\n",
        "np.random.seed(run_num_3)\n",
        "surrogate_approx_3 = GaussianProcess(cov_func, optimize=opt)\n",
        "\n",
        "approx_3 = GPGO_multi(surrogate_approx_3, Acquisition(util_grad_approx), objfunc, param)\n",
        "approx_3.run(init_evals=n_init, max_iter=iters)\n"
      ],
      "execution_count": 15,
      "outputs": [
        {
          "output_type": "stream",
          "name": "stdout",
          "text": [
            "Evaluation \t Proposed point \t  Current eval. \t Best eval.\n",
            "init   \t [0.52017052 2.1314337 ]. \t  -27.953858411008774 \t -10.607662635789808\n",
            "init   \t [-2.14113547  0.11087468]. \t  -10.607662635789808 \t -10.607662635789808\n",
            "init   \t [4.02377681 4.05804123]. \t  -33.42749829480097 \t -10.607662635789808\n",
            "init   \t [-3.83400642 -2.99783293]. \t  -28.650953928965198 \t -10.607662635789808\n",
            "init   \t [-4.59297584 -0.6061072 ]. \t  -57.6631355589384 \t -10.607662635789808\n",
            "1      \t [ 5.12       -3.02919353]. \t  -38.2684858188765 \t -10.607662635789808\n",
            "2      \t [-5.12  5.12]. \t  -57.849427451571785 \t -10.607662635789808\n",
            "3      \t [ 0.59616663 -5.12      ]. \t  -47.509510702508635 \t -10.607662635789808\n",
            "4      \t [ 1.61983684 -1.35910895]. \t  -38.098750332165295 \t -10.607662635789808\n",
            "5      \t [-1.23866702  5.12      ]. \t  -39.747539415446774 \t -10.607662635789808\n",
            "6      \t [5.12       0.64656997]. \t  -45.39359572211103 \t -10.607662635789808\n",
            "7      \t [-3.1889983  2.5050581]. \t  -42.70028531734258 \t -10.607662635789808\n",
            "8      \t [-5.12 -5.12]. \t  -57.849427451571785 \t -10.607662635789808\n",
            "9      \t [-1.12783575 -2.43079328]. \t  -29.30618649749876 \t -10.607662635789808\n",
            "10     \t [ 3.52413626 -5.12      ]. \t  -61.229477770443296 \t -10.607662635789808\n",
            "11     \t [1.57507915 5.12      ]. \t  -50.31339441734644 \t -10.607662635789808\n",
            "12     \t [-2.16928652 -5.12      ]. \t  -38.77374512163408 \t -10.607662635789808\n",
            "13     \t [2.69649062 1.41576531]. \t  -41.20636196768778 \t -10.607662635789808\n",
            "14     \t [-0.59574896  0.12059242]. \t  -21.349567903026376 \t -10.607662635789808\n",
            "15     \t [-5.12        2.00560058]. \t  -32.9533382741017 \t -10.607662635789808\n",
            "16     \t [5.12 5.12]. \t  -57.849427451571785 \t -10.607662635789808\n",
            "17     \t [ 2.35178547 -3.11614107]. \t  -33.75596454039691 \t -10.607662635789808\n",
            "18     \t [ 3.89350888 -1.18145297]. \t  -24.536448781634153 \t -10.607662635789808\n",
            "19     \t [-1.09115095  2.8184675 ]. \t  -16.559588542420784 \t -10.607662635789808\n",
            "20     \t [5.12       2.64390765]. \t  -52.09811902078762 \t -10.607662635789808\n"
          ]
        }
      ]
    },
    {
      "cell_type": "code",
      "metadata": {
        "colab": {
          "base_uri": "https://localhost:8080/"
        },
        "id": "hOtG-2sCGCKS",
        "outputId": "4d6e3a72-0d26-4547-882e-985bdf7e78c3"
      },
      "source": [
        "### ESTIMATED GP EI GRADIENTS\n",
        "\n",
        "np.random.seed(run_num_4)\n",
        "surrogate_approx_4 = GaussianProcess(cov_func, optimize=opt)\n",
        "\n",
        "approx_4 = GPGO_multi(surrogate_approx_4, Acquisition(util_grad_approx), objfunc, param)\n",
        "approx_4.run(init_evals=n_init, max_iter=iters)\n"
      ],
      "execution_count": 16,
      "outputs": [
        {
          "output_type": "stream",
          "name": "stdout",
          "text": [
            "Evaluation \t Proposed point \t  Current eval. \t Best eval.\n",
            "init   \t [4.78238555 0.48365823]. \t  -51.03163809010808 \t -14.323038259018315\n",
            "init   \t [4.84028785 2.19971578]. \t  -39.78645699016559 \t -14.323038259018315\n",
            "init   \t [ 2.02474316 -2.90724357]. \t  -14.323038259018315 \t -14.323038259018315\n",
            "init   \t [ 4.87705042 -5.05620219]. \t  -52.80627247106233 \t -14.323038259018315\n",
            "init   \t [-2.52946061 -0.66773471]. \t  -41.61497868486559 \t -14.323038259018315\n",
            "1      \t [-5.12  5.12]. \t  -57.849427451571785 \t -14.323038259018315\n",
            "2      \t [0.36091236 5.12      ]. \t  -45.47327609475252 \t -14.323038259018315\n",
            "3      \t [-5.12 -5.12]. \t  -57.849427451571785 \t -14.323038259018315\n",
            "4      \t [-0.95955534 -5.12      ]. \t  -30.166614500114207 \t -14.323038259018315\n",
            "5      \t [0.85386434 1.14516587]. \t  \u001b[92m-9.847124110942802\u001b[0m \t -9.847124110942802\n",
            "6      \t [-5.12        1.50098202]. \t  -51.1774703986821 \t -9.847124110942802\n",
            "7      \t [3.91486776 5.12      ]. \t  -45.64771565223795 \t -9.847124110942802\n",
            "8      \t [-1.97844267  2.82546005]. \t  -17.42341011148992 \t -9.847124110942802\n",
            "9      \t [ 0.31072767 -1.28066479]. \t  -27.375197814710475 \t -9.847124110942802\n",
            "10     \t [-5.12       -1.96192547]. \t  -33.05865647991361 \t -9.847124110942802\n",
            "11     \t [ 5.12       -2.25318842]. \t  -44.20189292137937 \t -9.847124110942802\n",
            "12     \t [ 1.82467093 -5.12      ]. \t  -37.732665084651295 \t -9.847124110942802\n",
            "13     \t [2.02591183 2.72590683]. \t  -23.17517114159399 \t -9.847124110942802\n",
            "14     \t [-2.35548058  5.12      ]. \t  -50.62590439628029 \t -9.847124110942802\n",
            "15     \t [-2.64731962 -3.36988231]. \t  -51.21774797229092 \t -9.847124110942802\n",
            "16     \t [ 2.44662511 -0.45890036]. \t  -45.30788662966284 \t -9.847124110942802\n",
            "17     \t [-0.59626842  1.36767475]. \t  -37.190059755233754 \t -9.847124110942802\n",
            "18     \t [ 0.07096743 -3.22071275]. \t  -19.526000073108623 \t -9.847124110942802\n",
            "19     \t [-3.38750257  2.82455212]. \t  -42.54261936110113 \t -9.847124110942802\n",
            "20     \t [ 3.05544904 -3.0890079 ]. \t  -21.002009269668136 \t -9.847124110942802\n"
          ]
        }
      ]
    },
    {
      "cell_type": "code",
      "metadata": {
        "colab": {
          "base_uri": "https://localhost:8080/"
        },
        "id": "JF_SxcEvGCOl",
        "outputId": "3cfbb8fd-bdda-42a9-e8b7-0dceca110b6f"
      },
      "source": [
        "### ESTIMATED GP EI GRADIENTS\n",
        "\n",
        "np.random.seed(run_num_5)\n",
        "surrogate_approx_5 = GaussianProcess(cov_func, optimize=opt)\n",
        "\n",
        "approx_5 = GPGO_multi(surrogate_approx_5, Acquisition(util_grad_approx), objfunc, param)\n",
        "approx_5.run(init_evals=n_init, max_iter=iters)\n"
      ],
      "execution_count": 17,
      "outputs": [
        {
          "output_type": "stream",
          "name": "stdout",
          "text": [
            "Evaluation \t Proposed point \t  Current eval. \t Best eval.\n",
            "init   \t [-2.84678993  3.79629882]. \t  -33.93442008827236 \t -7.8108627039749745\n",
            "init   \t [-3.00319585  4.2865757 ]. \t  -39.673876075575784 \t -7.8108627039749745\n",
            "init   \t [-0.11866943  1.14425716]. \t  -7.8108627039749745 \t -7.8108627039749745\n",
            "init   \t [2.72289645 0.1886002 ]. \t  -25.38160395721669 \t -7.8108627039749745\n",
            "init   \t [-2.08076286 -3.19773462]. \t  -22.589982116319675 \t -7.8108627039749745\n",
            "1      \t [ 5.12       -4.99274555]. \t  -53.862608206561674 \t -7.8108627039749745\n",
            "2      \t [5.12 5.12]. \t  -57.849427451571785 \t -7.8108627039749745\n",
            "3      \t [-5.12       -0.04626233]. \t  -29.346346851416854 \t -7.8108627039749745\n",
            "4      \t [1.00367515 5.12      ]. \t  -29.934743525170354 \t -7.8108627039749745\n",
            "5      \t [-5.12 -5.12]. \t  -57.849427451571785 \t -7.8108627039749745\n",
            "6      \t [ 1.11157615 -5.12      ]. \t  -32.518685225979496 \t -7.8108627039749745\n",
            "7      \t [ 5.12       -1.57419961]. \t  -50.33560191391098 \t -7.8108627039749745\n",
            "8      \t [ 0.59847852 -1.87829987]. \t  -24.816030548533845 \t -7.8108627039749745\n",
            "9      \t [5.12       1.88576659]. \t  -34.94795270808708 \t -7.8108627039749745\n",
            "10     \t [-2.19739274  0.0222558 ]. \t  -11.681093950146781 \t -7.8108627039749745\n",
            "11     \t [2.18693326 2.78644664]. \t  -26.417205980334067 \t -7.8108627039749745\n",
            "12     \t [-5.12        2.61669032]. \t  -53.202235576962906 \t -7.8108627039749745\n",
            "13     \t [-5.12       -2.41194528]. \t  -53.250332400378056 \t -7.8108627039749745\n",
            "14     \t [ 2.80923074 -3.10581819]. \t  -26.03168398268979 \t -7.8108627039749745\n",
            "15     \t [-1.68166641 -5.12      ]. \t  -45.91553808123648 \t -7.8108627039749745\n",
            "16     \t [-0.5545396   2.77909624]. \t  -35.63145300768795 \t -7.8108627039749745\n",
            "17     \t [-0.03924008  0.21461696]. \t  -8.145091137210452 \t -7.8108627039749745\n",
            "18     \t [-2.75160629  1.29706852]. \t  -32.06728011045973 \t -7.8108627039749745\n",
            "19     \t [-5.12  5.12]. \t  -57.849427451571785 \t -7.8108627039749745\n",
            "20     \t [-1.96600808 -1.21101329]. \t  -13.133769687536848 \t -7.8108627039749745\n"
          ]
        }
      ]
    },
    {
      "cell_type": "code",
      "metadata": {
        "colab": {
          "base_uri": "https://localhost:8080/"
        },
        "id": "-kDxZtJsGCR3",
        "outputId": "3565666c-e8bb-4fb9-d2ce-ab25c79c7ac5"
      },
      "source": [
        "### ESTIMATED GP EI GRADIENTS\n",
        "\n",
        "np.random.seed(run_num_6)\n",
        "surrogate_approx_6 = GaussianProcess(cov_func, optimize=opt)\n",
        "\n",
        "approx_6 = GPGO_multi(surrogate_approx_6, Acquisition(util_grad_approx), objfunc, param)\n",
        "approx_6.run(init_evals=n_init, max_iter=iters)\n"
      ],
      "execution_count": 18,
      "outputs": [
        {
          "output_type": "stream",
          "name": "stdout",
          "text": [
            "Evaluation \t Proposed point \t  Current eval. \t Best eval.\n",
            "init   \t [ 4.02288795 -1.72052679]. \t  -31.08835710146886 \t -17.28954482757088\n",
            "init   \t [ 3.28938622 -4.69302655]. \t  -58.797867722203385 \t -17.28954482757088\n",
            "init   \t [-4.0175956   0.97333314]. \t  -17.28954482757088 \t -17.28954482757088\n",
            "init   \t [ 0.30532979 -0.83141193]. \t  -19.296253155889353 \t -17.28954482757088\n",
            "init   \t [-1.68542362  1.25459899]. \t  -28.650630936276173 \t -17.28954482757088\n",
            "1      \t [5.12 5.12]. \t  -57.849427451571785 \t -17.28954482757088\n",
            "2      \t [-4.80259369 -4.71437143]. \t  -64.26541942375307 \t -17.28954482757088\n",
            "3      \t [-5.12  5.12]. \t  -57.849427451571785 \t -17.28954482757088\n",
            "4      \t [0.39539615 5.12      ]. \t  -46.99783315509704 \t -17.28954482757088\n",
            "5      \t [-0.74584845 -5.12      ]. \t  -39.74182375230182 \t -17.28954482757088\n",
            "6      \t [2.84228081 1.91251411]. \t  -17.730693416167824 \t -17.28954482757088\n",
            "7      \t [-2.70112082 -2.00627662]. \t  -24.352092244711436 \t -17.28954482757088\n",
            "8      \t [5.12       1.12270908]. \t  -33.013074635847886 \t -17.28954482757088\n",
            "9      \t [-2.34756379  4.03987877]. \t  -37.897284478213514 \t -17.28954482757088\n",
            "10     \t [-5.12       -1.34881917]. \t  -46.56169392404181 \t -17.28954482757088\n",
            "11     \t [ 0.99476749 -2.96447695]. \t  \u001b[92m-10.031144026156012\u001b[0m \t -10.031144026156012\n",
            "12     \t [0.64471884 2.21141923]. \t  -29.048627312701846 \t -10.031144026156012\n",
            "13     \t [-5.12        2.42457222]. \t  -53.70109493355173 \t -10.031144026156012\n",
            "14     \t [2.7468415  4.13803276]. \t  -38.39790444396903 \t -10.031144026156012\n",
            "15     \t [ 2.2848095  -0.11266228]. \t  -19.80536342855414 \t -10.031144026156012\n",
            "16     \t [-0.70791628 -2.66470075]. \t  -35.32185756146288 \t -10.031144026156012\n",
            "17     \t [ 5.12 -5.12]. \t  -57.849427451571785 \t -10.031144026156012\n",
            "18     \t [ 1.85406905 -2.52635212]. \t  -33.600516917176016 \t -10.031144026156012\n",
            "19     \t [ 1.18885188 -5.12      ]. \t  -36.58986053432041 \t -10.031144026156012\n",
            "20     \t [-2.59382747 -4.27182718]. \t  -54.65558614614821 \t -10.031144026156012\n"
          ]
        }
      ]
    },
    {
      "cell_type": "code",
      "metadata": {
        "colab": {
          "base_uri": "https://localhost:8080/"
        },
        "id": "fKB8MCD_GCVI",
        "outputId": "abb725a0-3aac-4b45-c3ac-cdd8bf684d40"
      },
      "source": [
        "### ESTIMATED GP EI GRADIENTS\n",
        "\n",
        "np.random.seed(run_num_7)\n",
        "surrogate_approx_7 = GaussianProcess(cov_func, optimize=opt)\n",
        "\n",
        "approx_7 = GPGO_multi(surrogate_approx_7, Acquisition(util_grad_approx), objfunc, param)\n",
        "approx_7.run(init_evals=n_init, max_iter=iters)\n"
      ],
      "execution_count": 19,
      "outputs": [
        {
          "output_type": "stream",
          "name": "stdout",
          "text": [
            "Evaluation \t Proposed point \t  Current eval. \t Best eval.\n",
            "init   \t [-4.33860312  2.86636843]. \t  -45.646133072936244 \t -22.52235437888213\n",
            "init   \t [-0.63068947  2.28828342]. \t  -34.83012662845338 \t -22.52235437888213\n",
            "init   \t [4.8946126  0.39419771]. \t  -44.09657005662876 \t -22.52235437888213\n",
            "init   \t [ 0.01147355 -4.38219639]. \t  -36.613209822404315 \t -22.52235437888213\n",
            "init   \t [-2.37118484e+00 -1.20319155e-03]. \t  -22.52235437888213 \t -22.52235437888213\n",
            "1      \t [-5.12 -5.12]. \t  -57.849427451571785 \t -22.52235437888213\n",
            "2      \t [ 5.12 -5.12]. \t  -57.849427451571785 \t -22.52235437888213\n",
            "3      \t [3.59516685 5.12      ]. \t  -60.11484703855625 \t -22.52235437888213\n",
            "4      \t [-4.02558214 -1.33646422]. \t  -33.289738493146906 \t -22.52235437888213\n",
            "5      \t [ 1.40596179 -0.96125107]. \t  \u001b[92m-21.500272906013507\u001b[0m \t -21.500272906013507\n",
            "6      \t [-1.8076618  5.12     ]. \t  -38.648098596313474 \t -21.500272906013507\n",
            "7      \t [2.33773343 2.1320042 ]. \t  -28.49479189249321 \t -21.500272906013507\n",
            "8      \t [ 3.5787344  -2.53947215]. \t  -57.751383289842835 \t -21.500272906013507\n",
            "9      \t [-2.52321081 -3.63366159]. \t  -56.139898707345374 \t -21.500272906013507\n",
            "10     \t [-5.12  5.12]. \t  -57.849427451571785 \t -21.500272906013507\n",
            "11     \t [0.80793143 5.12      ]. \t  -36.01737408409003 \t -21.500272906013507\n",
            "12     \t [5.12       2.99308095]. \t  -37.892695602801155 \t -21.500272906013507\n",
            "13     \t [ 2.32121631 -5.12      ]. \t  -48.6395764161703 \t -21.500272906013507\n",
            "14     \t [-0.64232333 -1.52937939]. \t  -38.84277108244453 \t -21.500272906013507\n",
            "15     \t [-5.12        0.58519317]. \t  -47.86840029500168 \t -21.500272906013507\n",
            "16     \t [0.75290089 0.65110027]. \t  -26.63031665430632 \t -21.500272906013507\n",
            "17     \t [-5.12       -2.73896183]. \t  -47.119618493672334 \t -21.500272906013507\n",
            "18     \t [-2.50637098  1.82867183]. \t  -34.87368461951966 \t -21.500272906013507\n",
            "19     \t [ 2.81558185 -0.03615321]. \t  \u001b[92m-14.180698755923421\u001b[0m \t -14.180698755923421\n",
            "20     \t [ 1.24721159 -2.72567422]. \t  -30.33213457387083 \t -14.180698755923421\n"
          ]
        }
      ]
    },
    {
      "cell_type": "code",
      "metadata": {
        "colab": {
          "base_uri": "https://localhost:8080/"
        },
        "id": "4unvifF-GCXp",
        "outputId": "741d2399-19e6-4c03-d6e9-7875e091f40d"
      },
      "source": [
        "### ESTIMATED GP EI GRADIENTS\n",
        "\n",
        "np.random.seed(run_num_8)\n",
        "surrogate_approx_8 = GaussianProcess(cov_func, optimize=opt)\n",
        "\n",
        "approx_8 = GPGO_multi(surrogate_approx_8, Acquisition(util_grad_approx), objfunc, param)\n",
        "approx_8.run(init_evals=n_init, max_iter=iters)\n"
      ],
      "execution_count": 20,
      "outputs": [
        {
          "output_type": "stream",
          "name": "stdout",
          "text": [
            "Evaluation \t Proposed point \t  Current eval. \t Best eval.\n",
            "init   \t [3.82391708 4.79785639]. \t  -50.20079446939181 \t -13.871821018360485\n",
            "init   \t [3.78055209 0.31596228]. \t  -36.5114251593508 \t -13.871821018360485\n",
            "init   \t [-2.73686192 -5.00327624]. \t  -43.34985765011677 \t -13.871821018360485\n",
            "init   \t [-0.7119993  -0.99992207]. \t  -13.871821018360485 \t -13.871821018360485\n",
            "init   \t [ 0.23218863 -0.22126801]. \t  -17.190590355445654 \t -13.871821018360485\n",
            "1      \t [-5.12  5.12]. \t  -57.849427451571785 \t -13.871821018360485\n",
            "2      \t [ 5.12 -5.12]. \t  -57.849427451571785 \t -13.871821018360485\n",
            "3      \t [-5.12       -0.06370944]. \t  -29.71932436183332 \t -13.871821018360485\n",
            "4      \t [-0.6693486   4.17608372]. \t  -38.26193538129055 \t -13.871821018360485\n",
            "5      \t [ 1.1839728  -4.40957272]. \t  -45.24435841610979 \t -13.871821018360485\n",
            "6      \t [-2.62671562  1.70437395]. \t  -39.62662423994514 \t -13.871821018360485\n",
            "7      \t [1.62766958 2.34330025]. \t  -40.62402080332722 \t -13.871821018360485\n",
            "8      \t [-5.12       -3.13066247]. \t  -41.910692363213904 \t -13.871821018360485\n",
            "9      \t [ 5.12       -2.11119332]. \t  -35.72472762268012 \t -13.871821018360485\n",
            "10     \t [-2.59355716 -1.83825027]. \t  -33.162002950931424 \t -13.871821018360485\n",
            "11     \t [5.12       2.44906865]. \t  -54.41497019911163 \t -13.871821018360485\n",
            "12     \t [ 2.13261556 -1.86114344]. \t  -14.857719222248189 \t -13.871821018360485\n",
            "13     \t [-5.12        2.43343285]. \t  -53.98430515846233 \t -13.871821018360485\n",
            "14     \t [1.3846139 5.12     ]. \t  -48.3269152228856 \t -13.871821018360485\n",
            "15     \t [-2.63528095  5.12      ]. \t  -52.46928649953519 \t -13.871821018360485\n",
            "16     \t [-0.67834817 -3.04212852]. \t  -24.414467017563688 \t -13.871821018360485\n",
            "17     \t [-5.12 -5.12]. \t  -57.849427451571785 \t -13.871821018360485\n",
            "18     \t [ 3.23550585 -3.37200591]. \t  -47.86628668976161 \t -13.871821018360485\n",
            "19     \t [-0.47337692  1.433852  ]. \t  -41.28909509212683 \t -13.871821018360485\n",
            "20     \t [ 1.66323482 -0.59506786]. \t  -36.574427669969474 \t -13.871821018360485\n"
          ]
        }
      ]
    },
    {
      "cell_type": "code",
      "metadata": {
        "colab": {
          "base_uri": "https://localhost:8080/"
        },
        "id": "85OIXcg7GCaJ",
        "outputId": "a38f3fb4-e3bf-4b22-8128-d01ac7454570"
      },
      "source": [
        "### ESTIMATED GP EI GRADIENTS\n",
        "\n",
        "np.random.seed(run_num_9)\n",
        "surrogate_approx_9 = GaussianProcess(cov_func, optimize=opt)\n",
        "\n",
        "approx_9 = GPGO_multi(surrogate_approx_9, Acquisition(util_grad_approx), objfunc, param)\n",
        "approx_9.run(init_evals=n_init, max_iter=iters)\n"
      ],
      "execution_count": 21,
      "outputs": [
        {
          "output_type": "stream",
          "name": "stdout",
          "text": [
            "Evaluation \t Proposed point \t  Current eval. \t Best eval.\n",
            "init   \t [-5.01376866  0.01919582]. \t  -25.248289026162446 \t -24.454800313488693\n",
            "init   \t [-0.04328148 -3.74958562]. \t  -24.454800313488693 \t -24.454800313488693\n",
            "init   \t [-3.66478248 -2.88195916]. \t  -39.46509426509438 \t -24.454800313488693\n",
            "init   \t [-0.83447623 -2.57944404]. \t  -31.06766397812992 \t -24.454800313488693\n",
            "init   \t [-4.25922917 -1.58209393]. \t  -49.922543556206975 \t -24.454800313488693\n",
            "1      \t [3.51080105 5.12      ]. \t  -61.22741827329939 \t -24.454800313488693\n",
            "2      \t [ 5.12       -0.52804179]. \t  -49.0487252552488 \t -24.454800313488693\n",
            "3      \t [-2.51423935  5.12      ]. \t  -55.20611688756101 \t -24.454800313488693\n",
            "4      \t [ 4.68043244 -5.12      ]. \t  -65.06435350687961 \t -24.454800313488693\n",
            "5      \t [0.5807709  1.56267518]. \t  -40.753455336227596 \t -24.454800313488693\n",
            "6      \t [-5.12        3.13090674]. \t  -41.923461337217695 \t -24.454800313488693\n",
            "7      \t [ 2.23241902 -1.75390005]. \t  -26.712436681579966 \t -24.454800313488693\n",
            "8      \t [-5.12 -5.12]. \t  -57.849427451571785 \t -24.454800313488693\n",
            "9      \t [5.12       2.51299312]. \t  -55.20654268775997 \t -24.454800313488693\n",
            "10     \t [-2.38810358  1.37262228]. \t  -42.18040857721862 \t -24.454800313488693\n",
            "11     \t [0.47877168 5.12      ]. \t  -49.06511474692884 \t -24.454800313488693\n",
            "12     \t [ 1.76617643 -5.12      ]. \t  -41.02944715951336 \t -24.454800313488693\n",
            "13     \t [-2.03802982 -5.12      ]. \t  -33.362405216986325 \t -24.454800313488693\n",
            "14     \t [2.87396281 0.93076832]. \t  \u001b[92m-13.032435436133802\u001b[0m \t -13.032435436133802\n",
            "15     \t [-0.58411577 -0.53399818]. \t  -39.03461911210375 \t -13.032435436133802\n",
            "16     \t [-5.12  5.12]. \t  -57.849427451571785 \t -13.032435436133802\n",
            "17     \t [ 5.12       -2.77934935]. \t  -44.81585641120112 \t -13.032435436133802\n",
            "18     \t [2.39084397 2.88102464]. \t  -34.421657193092 \t -13.032435436133802\n",
            "19     \t [-1.02504743  3.20247552]. \t  -18.4882813954501 \t -13.032435436133802\n",
            "20     \t [2.55145396 0.09454464]. \t  -27.713940639220603 \t -13.032435436133802\n"
          ]
        }
      ]
    },
    {
      "cell_type": "code",
      "metadata": {
        "colab": {
          "base_uri": "https://localhost:8080/"
        },
        "id": "QQBR-qJPGCcp",
        "outputId": "e084b12b-ed17-4e1a-a0aa-9c570d5e5ad3"
      },
      "source": [
        "### ESTIMATED GP EI GRADIENTS\n",
        "\n",
        "np.random.seed(run_num_10)\n",
        "surrogate_approx_10 = GaussianProcess(cov_func, optimize=opt)\n",
        "\n",
        "approx_10 = GPGO_multi(surrogate_approx_10, Acquisition(util_grad_approx), objfunc, param)\n",
        "approx_10.run(init_evals=n_init, max_iter=iters)\n"
      ],
      "execution_count": 22,
      "outputs": [
        {
          "output_type": "stream",
          "name": "stdout",
          "text": [
            "Evaluation \t Proposed point \t  Current eval. \t Best eval.\n",
            "init   \t [ 2.77832339 -4.90750004]. \t  -41.674330194390116 \t -13.839458310244165\n",
            "init   \t [1.36855793 2.54775176]. \t  -44.69639719065837 \t -13.839458310244165\n",
            "init   \t [-0.01528819 -2.81808235]. \t  -13.839458310244165 \t -13.839458310244165\n",
            "init   \t [-3.09183626  2.66783449]. \t  -33.23221510904937 \t -13.839458310244165\n",
            "init   \t [-3.38830503 -4.2154003 ]. \t  -54.73014366983691 \t -13.839458310244165\n",
            "1      \t [ 5.12       -0.56823977]. \t  -48.34241700204974 \t -13.839458310244165\n",
            "2      \t [5.12 5.12]. \t  -57.849427451571785 \t -13.839458310244165\n",
            "3      \t [-5.12       -0.60617648]. \t  -47.14819207900892 \t -13.839458310244165\n",
            "4      \t [-5.12  5.12]. \t  -57.849427451571785 \t -13.839458310244165\n",
            "5      \t [-0.83794358  5.12      ]. \t  -34.378133736934856 \t -13.839458310244165\n",
            "6      \t [-1.23131016 -0.10568953]. \t  \u001b[92m-12.48075296519026\u001b[0m \t -12.48075296519026\n",
            "7      \t [ 1.89637862 -0.79302465]. \t  -13.600283656026297 \t -12.48075296519026\n",
            "8      \t [-0.38408618 -5.12      ]. \t  -46.53525251781342 \t -12.48075296519026\n",
            "9      \t [4.53001408 2.23268447]. \t  -54.24279222530697 \t -12.48075296519026\n",
            "10     \t [ 5.12       -3.59597024]. \t  -60.0921023812751 \t -12.48075296519026\n",
            "11     \t [2.14083658 5.12      ]. \t  -37.174244330227936 \t -12.48075296519026\n",
            "12     \t [-2.40329362 -1.64489873]. \t  -42.82567669193571 \t -12.48075296519026\n",
            "13     \t [-5.12        2.04203354]. \t  -33.44134818430581 \t -12.48075296519026\n",
            "14     \t [-0.94074361  1.56251014]. \t  -23.25012481758057 \t -12.48075296519026\n",
            "15     \t [ 2.34123356 -2.43952623]. \t  -46.142975623464714 \t -12.48075296519026\n",
            "16     \t [ 0.44839873 -0.31403183]. \t  -33.694248596779374 \t -12.48075296519026\n",
            "17     \t [-5.12       -2.99176994]. \t  -37.888768249844574 \t -12.48075296519026\n",
            "18     \t [2.74015681 0.3361287 ]. \t  -33.390841522554055 \t -12.48075296519026\n",
            "19     \t [-2.80731576  5.12      ]. \t  -43.28181842134443 \t -12.48075296519026\n",
            "20     \t [-2.8552079   0.56164689]. \t  -31.587447892906898 \t -12.48075296519026\n"
          ]
        }
      ]
    },
    {
      "cell_type": "code",
      "metadata": {
        "colab": {
          "base_uri": "https://localhost:8080/"
        },
        "id": "JS8ejeQ2GCfi",
        "outputId": "c63d18e1-e840-41ae-c910-f7f6c78ad3be"
      },
      "source": [
        "### ESTIMATED GP EI GRADIENTS\n",
        "\n",
        "np.random.seed(run_num_11)\n",
        "surrogate_approx_11 = GaussianProcess(cov_func, optimize=opt)\n",
        "\n",
        "approx_11 = GPGO_multi(surrogate_approx_11, Acquisition(util_grad_approx), objfunc, param)\n",
        "approx_11.run(init_evals=n_init, max_iter=iters)\n"
      ],
      "execution_count": 23,
      "outputs": [
        {
          "output_type": "stream",
          "name": "stdout",
          "text": [
            "Evaluation \t Proposed point \t  Current eval. \t Best eval.\n",
            "init   \t [-3.27403839 -4.92057353]. \t  -47.655641290890955 \t -10.679755252484755\n",
            "init   \t [-0.37664229  2.30332343]. \t  -35.87889240695259 \t -10.679755252484755\n",
            "init   \t [-0.81711509 -0.14922651]. \t  -10.679755252484755 \t -10.679755252484755\n",
            "init   \t [-4.98912446 -0.12931474]. \t  -28.05462905574235 \t -10.679755252484755\n",
            "init   \t [4.52410012 3.59214172]. \t  -71.62694632141611 \t -10.679755252484755\n",
            "1      \t [ 5.12       -4.19757348]. \t  -53.309530921692996 \t -10.679755252484755\n",
            "2      \t [-5.12  5.12]. \t  -57.849427451571785 \t -10.679755252484755\n",
            "3      \t [ 0.96008568 -5.12      ]. \t  -30.159309280308506 \t -10.679755252484755\n",
            "4      \t [ 3.08642781 -0.51789819]. \t  -31.169680630860363 \t -10.679755252484755\n",
            "5      \t [1.20979303 5.12      ]. \t  -37.88882023389519 \t -10.679755252484755\n",
            "6      \t [-1.93526609  5.12      ]. \t  -33.48579521248611 \t -10.679755252484755\n",
            "7      \t [-0.89795317 -2.64270844]. \t  -26.01851777628977 \t -10.679755252484755\n",
            "8      \t [-3.4830931  2.2718845]. \t  -48.60774113584218 \t -10.679755252484755\n",
            "9      \t [-5.12       -2.81628562]. \t  -42.810695490403965 \t -10.679755252484755\n",
            "10     \t [5.12       0.65030588]. \t  -45.2099047963845 \t -10.679755252484755\n",
            "11     \t [ 2.21431459 -2.88804961]. \t  -23.39413745736904 \t -10.679755252484755\n",
            "12     \t [2.11111561 1.90834641]. \t  -12.051179080101422 \t -10.679755252484755\n",
            "13     \t [-2.69537256 -0.92830393]. \t  -22.48974303848791 \t -10.679755252484755\n",
            "14     \t [ 0.73157306 -0.46690782]. \t  -31.6930311595598 \t -10.679755252484755\n",
            "15     \t [ 5.12       -1.79841161]. \t  -39.16389743961059 \t -10.679755252484755\n",
            "16     \t [ 3.0377581 -5.12     ]. \t  -38.4327874100071 \t -10.679755252484755\n",
            "17     \t [-1.00818311 -5.12      ]. \t  -29.95436202618606 \t -10.679755252484755\n",
            "18     \t [-5.12 -5.12]. \t  -57.849427451571785 \t -10.679755252484755\n",
            "19     \t [1.9506772  2.97128171]. \t  -13.27238488142351 \t -10.679755252484755\n",
            "20     \t [-1.67218971  0.52362764]. \t  -37.65692853476292 \t -10.679755252484755\n"
          ]
        }
      ]
    },
    {
      "cell_type": "code",
      "metadata": {
        "colab": {
          "base_uri": "https://localhost:8080/"
        },
        "id": "DXwjUVZ4GCii",
        "outputId": "227e3578-582d-432f-b698-29e60b8c679b"
      },
      "source": [
        "### ESTIMATED GP EI GRADIENTS\n",
        "\n",
        "np.random.seed(run_num_12)\n",
        "surrogate_approx_12 = GaussianProcess(cov_func, optimize=opt)\n",
        "\n",
        "approx_12 = GPGO_multi(surrogate_approx_12, Acquisition(util_grad_approx), objfunc, param)\n",
        "approx_12.run(init_evals=n_init, max_iter=iters)\n"
      ],
      "execution_count": 24,
      "outputs": [
        {
          "output_type": "stream",
          "name": "stdout",
          "text": [
            "Evaluation \t Proposed point \t  Current eval. \t Best eval.\n",
            "init   \t [-3.54137249  2.45810889]. \t  -57.903242869085595 \t -40.51116653209555\n",
            "init   \t [-2.42365424  0.34549139]. \t  -40.51116653209555 \t -40.51116653209555\n",
            "init   \t [-4.97075238  4.28796936]. \t  -55.62655915398208 \t -40.51116653209555\n",
            "init   \t [ 4.10332011 -4.77776458]. \t  -49.962803461970296 \t -40.51116653209555\n",
            "init   \t [ 4.6791612  -3.71497655]. \t  -62.183891474990624 \t -40.51116653209555\n",
            "1      \t [5.12 5.12]. \t  -57.849427451571785 \t -40.51116653209555\n",
            "2      \t [-5.12 -5.12]. \t  -57.849427451571785 \t -40.51116653209555\n",
            "3      \t [2.51281398 0.8331028 ]. \t  \u001b[92m-31.988450140113365\u001b[0m \t -31.988450140113365\n",
            "4      \t [0.33244338 5.12      ]. \t  -43.9867284854611 \t -31.988450140113365\n",
            "5      \t [-0.48611046 -4.11967232]. \t  -39.86618204734131 \t -31.988450140113365\n",
            "6      \t [-5.12       -1.54444008]. \t  -50.922701448563984 \t -31.988450140113365\n",
            "7      \t [ 5.12       -0.37802596]. \t  -46.27183886138903 \t -31.988450140113365\n",
            "8      \t [ 1.63789325 -1.9806077 ]. \t  \u001b[92m-23.155313103821225\u001b[0m \t -23.155313103821225\n",
            "9      \t [-0.04361954  2.14281161]. \t  \u001b[92m-8.729635514652811\u001b[0m \t -8.729635514652811\n",
            "10     \t [2.7081281  3.49154616]. \t  -52.11139289890896 \t -8.729635514652811\n",
            "11     \t [-2.63726126 -2.72166409]. \t  -42.63948852337322 \t -8.729635514652811\n",
            "12     \t [-2.28790984  5.12      ]. \t  -46.51873078429952 \t -8.729635514652811\n",
            "13     \t [5.12       2.25443559]. \t  -44.28585362617493 \t -8.729635514652811\n",
            "14     \t [ 0.00412404 -0.32450447]. \t  -14.620818643301284 \t -8.729635514652811\n",
            "15     \t [ 1.66639085 -5.12      ]. \t  -46.71657316528392 \t -8.729635514652811\n",
            "16     \t [-2.54759657 -5.12      ]. \t  -54.97110625163593 \t -8.729635514652811\n",
            "17     \t [-0.77229425  2.68269714]. \t  -30.500940772065324 \t -8.729635514652811\n",
            "18     \t [0.51212004 1.33448394]. \t  -37.0766101621909 \t -8.729635514652811\n",
            "19     \t [-5.12        0.84597379]. \t  -33.9690523472406 \t -8.729635514652811\n",
            "20     \t [-0.52046727 -1.59660559]. \t  -40.9511419302154 \t -8.729635514652811\n"
          ]
        }
      ]
    },
    {
      "cell_type": "code",
      "metadata": {
        "colab": {
          "base_uri": "https://localhost:8080/"
        },
        "id": "CphOPndPGClX",
        "outputId": "eeb50172-3c93-479c-fdea-a9f84704ded3"
      },
      "source": [
        "### ESTIMATED GP EI GRADIENTS\n",
        "\n",
        "np.random.seed(run_num_13)\n",
        "surrogate_approx_13 = GaussianProcess(cov_func, optimize=opt)\n",
        "\n",
        "approx_13 = GPGO_multi(surrogate_approx_13, Acquisition(util_grad_approx), objfunc, param)\n",
        "approx_13.run(init_evals=n_init, max_iter=iters)\n"
      ],
      "execution_count": 25,
      "outputs": [
        {
          "output_type": "stream",
          "name": "stdout",
          "text": [
            "Evaluation \t Proposed point \t  Current eval. \t Best eval.\n",
            "init   \t [ 2.84367268 -2.68757791]. \t  -33.58019830007169 \t -17.435826639425656\n",
            "init   \t [3.32061217 4.76927179]. \t  -56.857057997503354 \t -17.435826639425656\n",
            "init   \t [ 4.83943541 -0.47667971]. \t  -48.211919361679726 \t -17.435826639425656\n",
            "init   \t [1.11659482 2.82139151]. \t  -17.435826639425656 \t -17.435826639425656\n",
            "init   \t [1.45012065 2.27346667]. \t  -38.25352329493884 \t -17.435826639425656\n",
            "1      \t [-5.12       -2.72662613]. \t  -47.82255372239195 \t -17.435826639425656\n",
            "2      \t [-5.12  5.12]. \t  -57.849427451571785 \t -17.435826639425656\n",
            "3      \t [-1.07698412 -5.12      ]. \t  -31.231831210231498 \t -17.435826639425656\n",
            "4      \t [-2.85655691  1.12635729]. \t  \u001b[92m-16.212017456930443\u001b[0m \t -16.212017456930443\n",
            "5      \t [-1.15488861  5.12      ]. \t  -34.63186040987706 \t -16.212017456930443\n",
            "6      \t [-0.62086492 -1.40877443]. \t  -38.02426406449363 \t -16.212017456930443\n",
            "7      \t [ 5.12 -5.12]. \t  -57.849427451571785 \t -16.212017456930443\n",
            "8      \t [5.12      2.4627669]. \t  -54.71753483374007 \t -16.212017456930443\n",
            "9      \t [-5.12        1.73785579]. \t  -42.70715954166314 \t -16.212017456930443\n",
            "10     \t [ 1.73842831 -5.12      ]. \t  -42.6732768550337 \t -16.212017456930443\n",
            "11     \t [-3.90820706 -5.12      ]. \t  -45.816414234485016 \t -16.212017456930443\n",
            "12     \t [-1.25795502  2.43118865]. \t  -37.07256727867652 \t -16.212017456930443\n",
            "13     \t [ 1.88140392 -0.24378821]. \t  \u001b[92m-15.859127749535519\u001b[0m \t -15.859127749535519\n",
            "14     \t [-3.23791506 -0.94253236]. \t  -21.258712966478832 \t -15.859127749535519\n",
            "15     \t [0.95611082 5.12      ]. \t  -30.21668670071432 \t -15.859127749535519\n",
            "16     \t [-2.30295248 -3.07765234]. \t  -29.20841877841833 \t -15.859127749535519\n",
            "17     \t [ 5.12       -2.74078369]. \t  -47.01536314864639 \t -15.859127749535519\n",
            "18     \t [-3.20379209  3.62576664]. \t  -47.584680485773156 \t -15.859127749535519\n",
            "19     \t [-5.12       -0.42607099]. \t  -48.04666368071241 \t -15.859127749535519\n",
            "20     \t [ 0.51107727 -3.18006512]. \t  -36.0957124401735 \t -15.859127749535519\n"
          ]
        }
      ]
    },
    {
      "cell_type": "code",
      "metadata": {
        "colab": {
          "base_uri": "https://localhost:8080/"
        },
        "id": "ojHTeARNGCoi",
        "outputId": "c4537988-8cb3-4ab0-99a9-b4882ca2534b"
      },
      "source": [
        "### ESTIMATED GP EI GRADIENTS\n",
        "\n",
        "np.random.seed(run_num_14)\n",
        "surrogate_approx_14 = GaussianProcess(cov_func, optimize=opt)\n",
        "\n",
        "approx_14 = GPGO_multi(surrogate_approx_14, Acquisition(util_grad_approx), objfunc, param)\n",
        "approx_14.run(init_evals=n_init, max_iter=iters)\n"
      ],
      "execution_count": 26,
      "outputs": [
        {
          "output_type": "stream",
          "name": "stdout",
          "text": [
            "Evaluation \t Proposed point \t  Current eval. \t Best eval.\n",
            "init   \t [0.14277984 2.79721013]. \t  -18.683085263052178 \t -10.423838604848608\n",
            "init   \t [ 3.7931795  -5.03759925]. \t  -47.36348784446708 \t -10.423838604848608\n",
            "init   \t [-1.94830412  4.68586229]. \t  -40.19779334078636 \t -10.423838604848608\n",
            "init   \t [ 0.13431513 -1.86076749]. \t  -10.423838604848608 \t -10.423838604848608\n",
            "init   \t [ 0.40140736 -2.85434939]. \t  -30.353548735049138 \t -10.423838604848608\n",
            "1      \t [-5.12 -5.12]. \t  -57.8494274515718 \t -10.423838604848608\n",
            "2      \t [5.12 5.12]. \t  -57.849427451571785 \t -10.423838604848608\n",
            "3      \t [-5.12        0.35574085]. \t  -45.21704998944514 \t -10.423838604848608\n",
            "4      \t [ 5.12       -0.06385858]. \t  -29.72299913174549 \t -10.423838604848608\n",
            "5      \t [-5.12  5.12]. \t  -57.849427451571785 \t -10.423838604848608\n",
            "6      \t [-1.64653793  0.04125609]. \t  -19.099318522197937 \t -10.423838604848608\n",
            "7      \t [-1.68579734 -5.12      ]. \t  -45.69207769532679 \t -10.423838604848608\n",
            "8      \t [1.91874714 0.23698051]. \t  -14.195751310148452 \t -10.423838604848608\n",
            "9      \t [1.75616184 5.12      ]. \t  -41.62175505580028 \t -10.423838604848608\n",
            "10     \t [-3.36999796 -2.32603237]. \t  -48.21029508756512 \t -10.423838604848608\n",
            "11     \t [3.48155923 2.41512463]. \t  -56.49843486240218 \t -10.423838604848608\n",
            "12     \t [ 3.28649307 -2.13816025]. \t  -31.182774669491224 \t -10.423838604848608\n",
            "13     \t [-3.1411376   2.27897847]. \t  -30.55221287405722 \t -10.423838604848608\n",
            "14     \t [ 1.13105741 -5.12      ]. \t  -33.4071163261503 \t -10.423838604848608\n",
            "15     \t [ 5.12       -2.95111747]. \t  -38.10178062134802 \t -10.423838604848608\n",
            "16     \t [ 0.28547866 -0.04898995]. \t  -12.764686583927235 \t -10.423838604848608\n",
            "17     \t [-0.83822434  1.60678675]. \t  -25.852892955300774 \t -10.423838604848608\n",
            "18     \t [-5.12       2.7295522]. \t  -47.6564107853466 \t -10.423838604848608\n",
            "19     \t [-1.08349261 -1.58140038]. \t  -23.739877072183653 \t -10.423838604848608\n",
            "20     \t [-5.12       -2.31607392]. \t  -48.32222713163375 \t -10.423838604848608\n"
          ]
        }
      ]
    },
    {
      "cell_type": "code",
      "metadata": {
        "colab": {
          "base_uri": "https://localhost:8080/"
        },
        "id": "vCJzn4vWGCs3",
        "outputId": "bb1c8dc0-e371-4cad-e598-75562ecc26f0"
      },
      "source": [
        "### ESTIMATED GP EI GRADIENTS\n",
        "\n",
        "np.random.seed(run_num_15)\n",
        "surrogate_approx_15 = GaussianProcess(cov_func, optimize=opt)\n",
        "\n",
        "approx_15 = GPGO_multi(surrogate_approx_15, Acquisition(util_grad_approx), objfunc, param)\n",
        "approx_15.run(init_evals=n_init, max_iter=iters)\n"
      ],
      "execution_count": 27,
      "outputs": [
        {
          "output_type": "stream",
          "name": "stdout",
          "text": [
            "Evaluation \t Proposed point \t  Current eval. \t Best eval.\n",
            "init   \t [ 3.57189322 -3.28810573]. \t  -54.938487770767075 \t -7.990765314336182\n",
            "init   \t [-4.56332069 -1.41784631]. \t  -60.750198753157726 \t -7.990765314336182\n",
            "init   \t [-2.29989449  0.3072023 ]. \t  -31.984997246800887 \t -7.990765314336182\n",
            "init   \t [-1.9873903  -2.00218256]. \t  -7.990765314336182 \t -7.990765314336182\n",
            "init   \t [-3.97576933 -2.5610341 ]. \t  -41.754957769694336 \t -7.990765314336182\n",
            "1      \t [3.22352526 5.12      ]. \t  -47.66003287916206 \t -7.990765314336182\n",
            "2      \t [-5.12  5.12]. \t  -57.849427451571785 \t -7.990765314336182\n",
            "3      \t [5.12       1.00950195]. \t  -29.961624581567 \t -7.990765314336182\n",
            "4      \t [-0.33203245 -5.12      ]. \t  -43.964006678041905 \t -7.990765314336182\n",
            "5      \t [-0.90983208  4.44647464]. \t  -41.60109884289642 \t -7.990765314336182\n",
            "6      \t [1.41822771 0.64253465]. \t  -37.38382627705951 \t -7.990765314336182\n",
            "7      \t [-5.12        1.86998086]. \t  -35.57694762443737 \t -7.990765314336182\n",
            "8      \t [-5.12 -5.12]. \t  -57.849427451571785 \t -7.990765314336182\n",
            "9      \t [ 0.38226939 -2.14120466]. \t  -25.801702076195554 \t -7.990765314336182\n",
            "10     \t [ 5.12 -5.12]. \t  -57.849427451571785 \t -7.990765314336182\n",
            "11     \t [1.4771372  3.13108697]. \t  -35.08711301076353 \t -7.990765314336182\n",
            "12     \t [ 5.12       -1.31475775]. \t  -44.61080672667816 \t -7.990765314336182\n",
            "13     \t [5.12       3.48112836]. \t  -60.97275171265705 \t -7.990765314336182\n",
            "14     \t [-2.84541651  2.92633458]. \t  -22.06954941469699 \t -7.990765314336182\n",
            "15     \t [-2.63517945 -5.12      ]. \t  -52.47354115042698 \t -7.990765314336182\n",
            "16     \t [-0.70179549  1.83746062]. \t  -21.62858591349258 \t -7.990765314336182\n",
            "17     \t [ 2.66946824 -0.99069902]. \t  -22.971405075477232 \t -7.990765314336182\n",
            "18     \t [ 2.04028799 -5.12      ]. \t  -33.40617315564336 \t -7.990765314336182\n",
            "19     \t [-1.57782793 -2.54140517]. \t  -47.439774893653016 \t -7.990765314336182\n",
            "20     \t [-2.83548694  5.12      ]. \t  -41.84797484554102 \t -7.990765314336182\n"
          ]
        }
      ]
    },
    {
      "cell_type": "code",
      "metadata": {
        "colab": {
          "base_uri": "https://localhost:8080/"
        },
        "id": "bGGkhp-kGCw6",
        "outputId": "4517e407-0533-41c1-f657-58c510705357"
      },
      "source": [
        "### ESTIMATED GP EI GRADIENTS\n",
        "\n",
        "np.random.seed(run_num_16)\n",
        "surrogate_approx_16 = GaussianProcess(cov_func, optimize=opt)\n",
        "\n",
        "approx_16 = GPGO_multi(surrogate_approx_16, Acquisition(util_grad_approx), objfunc, param)\n",
        "approx_16.run(init_evals=n_init, max_iter=iters)\n"
      ],
      "execution_count": 28,
      "outputs": [
        {
          "output_type": "stream",
          "name": "stdout",
          "text": [
            "Evaluation \t Proposed point \t  Current eval. \t Best eval.\n",
            "init   \t [-2.83349935  0.23719262]. \t  -22.27210456874814 \t -22.27210456874814\n",
            "init   \t [ 0.51918292 -4.65303603]. \t  -57.57021076017139 \t -22.27210456874814\n",
            "init   \t [-1.42613673 -2.83565116]. \t  -33.89145899403749 \t -22.27210456874814\n",
            "init   \t [ 1.9325559  -3.44339021]. \t  -35.85029586225333 \t -22.27210456874814\n",
            "init   \t [-4.39987336  4.51595121]. \t  -77.78800881964571 \t -22.27210456874814\n",
            "1      \t [5.12 5.12]. \t  -57.849427451571785 \t -22.27210456874814\n",
            "2      \t [5.12       0.13359347]. \t  -32.2634102746575 \t -22.27210456874814\n",
            "3      \t [0.53980509 3.56722813]. \t  -51.82642495204445 \t -22.27210456874814\n",
            "4      \t [-5.12 -5.12]. \t  -57.849427451571785 \t -22.27210456874814\n",
            "5      \t [ 5.12 -5.12]. \t  -57.849427451571785 \t -22.27210456874814\n",
            "6      \t [1.26300872 0.01628758]. \t  \u001b[92m-12.464228073684303\u001b[0m \t -12.464228073684303\n",
            "7      \t [-5.12       -1.65387323]. \t  -47.339257576405636 \t -12.464228073684303\n",
            "8      \t [3.37856944 2.40317007]. \t  -52.62345355878923 \t -12.464228073684303\n",
            "9      \t [-5.12        1.50296769]. \t  -51.18188718137345 \t -12.464228073684303\n",
            "10     \t [ 5.12       -2.35305706]. \t  -50.4937463461771 \t -12.464228073684303\n",
            "11     \t [-1.58298878  5.12      ]. \t  -50.10162529015139 \t -12.464228073684303\n",
            "12     \t [-0.67718817  1.00520053]. \t  -15.891328362338113 \t -12.464228073684303\n",
            "13     \t [-2.37072084 -5.12      ]. \t  -51.42344787725264 \t -12.464228073684303\n",
            "14     \t [2.42517917 5.12      ]. \t  -53.721378005300366 \t -12.464228073684303\n",
            "15     \t [ 2.68515268 -0.95815211]. \t  -22.43446816745921 \t -12.464228073684303\n",
            "16     \t [-2.26756836  2.47834829]. \t  -42.29329468314042 \t -12.464228073684303\n",
            "17     \t [-0.06483082 -1.03472727]. \t  \u001b[92m-2.1302093107610016\u001b[0m \t -2.1302093107610016\n",
            "18     \t [-0.071349  -1.0388298]. \t  -2.3685465462672504 \t -2.1302093107610016\n",
            "19     \t [-0.07102902 -1.03869215]. \t  -2.35743346102565 \t -2.1302093107610016\n",
            "20     \t [-0.07087499 -1.03862367]. \t  -2.352061352885565 \t -2.1302093107610016\n"
          ]
        }
      ]
    },
    {
      "cell_type": "code",
      "metadata": {
        "id": "Yrs2mp7hGC1Z",
        "colab": {
          "base_uri": "https://localhost:8080/"
        },
        "outputId": "7d736e03-703f-4c6c-e333-676f65e06ce7"
      },
      "source": [
        "### ESTIMATED GP EI GRADIENTS\n",
        "\n",
        "np.random.seed(run_num_17)\n",
        "surrogate_approx_17 = GaussianProcess(cov_func, optimize=opt)\n",
        "\n",
        "approx_17 = GPGO_multi(surrogate_approx_17, Acquisition(util_grad_approx), objfunc, param)\n",
        "approx_17.run(init_evals=n_init, max_iter=iters)\n"
      ],
      "execution_count": 29,
      "outputs": [
        {
          "output_type": "stream",
          "name": "stdout",
          "text": [
            "Evaluation \t Proposed point \t  Current eval. \t Best eval.\n",
            "init   \t [-2.10263037  0.31320838]. \t  -20.395145364684023 \t -20.395145364684023\n",
            "init   \t [-3.15882714 -4.42470033]. \t  -53.03732051200137 \t -20.395145364684023\n",
            "init   \t [2.93873111 1.60085526]. \t  -29.989224812583537 \t -20.395145364684023\n",
            "init   \t [1.40821398 0.77417363]. \t  -29.451989415882437 \t -20.395145364684023\n",
            "init   \t [-4.71999574 -1.45598869]. \t  -55.89242173757483 \t -20.395145364684023\n",
            "1      \t [ 5.12 -5.12]. \t  -57.849427451571785 \t -20.395145364684023\n",
            "2      \t [-5.12        5.04700552]. \t  -54.82995879070466 \t -20.395145364684023\n",
            "3      \t [-0.25145931  5.12      ]. \t  -39.07963528683356 \t -20.395145364684023\n",
            "4      \t [5.12 5.12]. \t  -57.849427451571785 \t -20.395145364684023\n",
            "5      \t [ 1.07732211 -3.51437677]. \t  -34.62781444392395 \t -20.395145364684023\n",
            "6      \t [ 5.12       -1.25379964]. \t  -40.73544318913755 \t -20.395145364684023\n",
            "7      \t [-5.12        1.80494194]. \t  -38.79858267735815 \t -20.395145364684023\n",
            "8      \t [-2.31080458  3.10182406]. \t  -30.667057530136137 \t -20.395145364684023\n",
            "9      \t [-1.18605405 -1.98912696]. \t  \u001b[92m-11.476065976819477\u001b[0m \t -11.476065976819477\n",
            "10     \t [2.32513311 4.364161  ]. \t  -55.572984871675175 \t -11.476065976819477\n",
            "11     \t [5.12       2.01172825]. \t  -32.99890363335759 \t -11.476065976819477\n",
            "12     \t [-0.58773621 -5.12      ]. \t  -47.78878518655732 \t -11.476065976819477\n",
            "13     \t [ 2.51460385 -1.52792529]. \t  -48.46218329875658 \t -11.476065976819477\n",
            "14     \t [ 2.54665957 -5.12      ]. \t  -54.98351247538517 \t -11.476065976819477\n",
            "15     \t [-0.09095958  2.36456798]. \t  -23.78136855594336 \t -11.476065976819477\n",
            "16     \t [-0.17378004 -0.83564358]. \t  \u001b[92m-10.995252840955981\u001b[0m \t -10.995252840955981\n",
            "17     \t [-5.12 -5.12]. \t  -57.849427451571785 \t -10.995252840955981\n",
            "18     \t [-2.64958506  5.12      ]. \t  -51.84393965397895 \t -10.995252840955981\n",
            "19     \t [-2.21850674 -2.04127986]. \t  -17.457184058632578 \t -10.995252840955981\n",
            "20     \t [-0.13847164 -1.56002795]. \t  -25.302042856211536 \t -10.995252840955981\n"
          ]
        }
      ]
    },
    {
      "cell_type": "code",
      "metadata": {
        "id": "f0HIEP3PIUEa",
        "colab": {
          "base_uri": "https://localhost:8080/"
        },
        "outputId": "38773562-8cb7-448d-f91d-f5be7b425a98"
      },
      "source": [
        "### ESTIMATED GP EI GRADIENTS\n",
        "\n",
        "np.random.seed(run_num_18)\n",
        "surrogate_approx_18 = GaussianProcess(cov_func, optimize=opt)\n",
        "\n",
        "approx_18 = GPGO_multi(surrogate_approx_18, Acquisition(util_grad_approx), objfunc, param)\n",
        "approx_18.run(init_evals=n_init, max_iter=iters)\n"
      ],
      "execution_count": 30,
      "outputs": [
        {
          "output_type": "stream",
          "name": "stdout",
          "text": [
            "Evaluation \t Proposed point \t  Current eval. \t Best eval.\n",
            "init   \t [1.53983224 0.05584255]. \t  -22.67190580753611 \t -22.67190580753611\n",
            "init   \t [ 3.87687906 -3.25795609]. \t  -38.990099416711985 \t -22.67190580753611\n",
            "init   \t [3.60686662 2.56139557]. \t  -56.66448698782129 \t -22.67190580753611\n",
            "init   \t [1.70088108 4.99604939]. \t  -40.894059318256296 \t -22.67190580753611\n",
            "init   \t [-2.48864335 -4.83014733]. \t  -54.6725749848372 \t -22.67190580753611\n",
            "1      \t [-5.12        2.10205608]. \t  -35.32979086565658 \t -22.67190580753611\n",
            "2      \t [-2.46249857  5.12      ]. \t  -54.712291228006364 \t -22.67190580753611\n",
            "3      \t [-2.3106083  -0.70591531]. \t  -32.2886203141287 \t -22.67190580753611\n",
            "4      \t [ 1.04805539 -5.12      ]. \t  -30.475522753788212 \t -22.67190580753611\n",
            "5      \t [-5.12       -2.45342576]. \t  -54.51888354873594 \t -22.67190580753611\n",
            "6      \t [-0.69696564  2.25257134]. \t  -28.992314831944757 \t -22.67190580753611\n",
            "7      \t [ 5.12       -0.35164305]. \t  -45.00942381950489 \t -22.67190580753611\n",
            "8      \t [5.12 5.12]. \t  -57.849427451571785 \t -22.67190580753611\n",
            "9      \t [ 0.15291079 -2.40801144]. \t  -28.468657461021415 \t -22.67190580753611\n",
            "10     \t [-5.12  5.12]. \t  -57.849427451571785 \t -22.67190580753611\n",
            "11     \t [ 5.12 -5.12]. \t  -57.849427451571785 \t -22.67190580753611\n",
            "12     \t [-5.12 -5.12]. \t  -57.849427451571785 \t -22.67190580753611\n",
            "13     \t [-2.86833179  1.88954664]. \t  \u001b[92m-17.342081664758673\u001b[0m \t -17.342081664758673\n",
            "14     \t [ 2.49766626 -1.57551152]. \t  -47.614926340834955 \t -17.342081664758673\n",
            "15     \t [-5.12       -0.05581079]. \t  -29.536399354295124 \t -17.342081664758673\n",
            "16     \t [1.22675563 2.30579205]. \t  -28.80046723462248 \t -17.342081664758673\n",
            "17     \t [-0.33017442  0.00784006]. \t  \u001b[92m-14.948344707238052\u001b[0m \t -14.948344707238052\n",
            "18     \t [-0.28956938  5.12      ]. \t  -41.46924740891097 \t -14.948344707238052\n",
            "19     \t [-2.16220677 -2.62671643]. \t  -33.328490567086995 \t -14.948344707238052\n",
            "20     \t [ 2.76420612 -5.12      ]. \t  -45.67413741847605 \t -14.948344707238052\n"
          ]
        }
      ]
    },
    {
      "cell_type": "code",
      "metadata": {
        "id": "S3mxRQDLIUPC",
        "colab": {
          "base_uri": "https://localhost:8080/"
        },
        "outputId": "09ba8397-4fce-4b62-9f83-8e409e1acf6d"
      },
      "source": [
        "### ESTIMATED GP EI GRADIENTS\n",
        "\n",
        "np.random.seed(run_num_19)\n",
        "surrogate_approx_19 = GaussianProcess(cov_func, optimize=opt)\n",
        "\n",
        "approx_19 = GPGO_multi(surrogate_approx_19, Acquisition(util_grad_approx), objfunc, param)\n",
        "approx_19.run(init_evals=n_init, max_iter=iters)\n"
      ],
      "execution_count": 31,
      "outputs": [
        {
          "output_type": "stream",
          "name": "stdout",
          "text": [
            "Evaluation \t Proposed point \t  Current eval. \t Best eval.\n",
            "init   \t [-4.12125592  2.6751971 ]. \t  -41.43485596167127 \t -25.867003842388073\n",
            "init   \t [-2.59135515 -3.70553152]. \t  -51.60126035043229 \t -25.867003842388073\n",
            "init   \t [-1.72598719 -4.27008445]. \t  -43.97430127029199 \t -25.867003842388073\n",
            "init   \t [1.76104531 3.13952049]. \t  -25.867003842388073 \t -25.867003842388073\n",
            "init   \t [4.9432772  1.38916592]. \t  -44.66580306903559 \t -25.867003842388073\n",
            "1      \t [ 5.12 -5.12]. \t  -57.849427451571785 \t -25.867003842388073\n",
            "2      \t [ 1.77608501 -1.68636607]. \t  -28.259227192993144 \t -25.867003842388073\n",
            "3      \t [5.12 5.12]. \t  -57.849427451571785 \t -25.867003842388073\n",
            "4      \t [-1.28669659  5.12      ]. \t  -42.86564109962198 \t -25.867003842388073\n",
            "5      \t [-5.12       -0.97841456]. \t  -29.973839037940394 \t -25.867003842388073\n",
            "6      \t [-1.20073329  0.35659588]. \t  \u001b[92m-24.73059429313352\u001b[0m \t -24.73059429313352\n",
            "7      \t [ 1.54013934 -5.12      ]. \t  -50.980393498816994 \t -24.73059429313352\n",
            "8      \t [ 5.12       -1.82150326]. \t  -37.89952273375092 \t -24.73059429313352\n",
            "9      \t [-5.12 -5.12]. \t  -57.849427451571785 \t -24.73059429313352\n",
            "10     \t [-5.12  5.12]. \t  -57.849427451571785 \t -24.73059429313352\n",
            "11     \t [1.8151539  0.74353447]. \t  \u001b[92m-20.27340543726525\u001b[0m \t -20.27340543726525\n",
            "12     \t [2.02694806 5.12      ]. \t  -33.17623574917815 \t -20.27340543726525\n",
            "13     \t [-0.86387322  2.59078841]. \t  -29.31524653085614 \t -20.27340543726525\n",
            "14     \t [-0.58610307 -1.85538236]. \t  -26.209857705974926 \t -20.27340543726525\n",
            "15     \t [-3.21490426  0.05285934]. \t  \u001b[92m-18.697584434852402\u001b[0m \t -18.697584434852402\n",
            "16     \t [ 3.23903467 -3.27859245]. \t  -42.33895539406906 \t -18.697584434852402\n",
            "17     \t [-5.12      -2.8041644]. \t  -43.45011726894103 \t -18.697584434852402\n",
            "18     \t [ 3.37953144 -0.28971919]. \t  -41.244476564102726 \t -18.697584434852402\n",
            "19     \t [3.66248598 3.14300223]. \t  -42.290235293974064 \t -18.697584434852402\n",
            "20     \t [-5.12        0.93866974]. \t  -30.53914305064155 \t -18.697584434852402\n"
          ]
        }
      ]
    },
    {
      "cell_type": "code",
      "metadata": {
        "id": "Aawd59dRIUYn",
        "colab": {
          "base_uri": "https://localhost:8080/"
        },
        "outputId": "8950be8f-bf8f-4fbd-a401-6bef62d17f1f"
      },
      "source": [
        "### ESTIMATED GP EI GRADIENTS\n",
        "\n",
        "np.random.seed(run_num_20)\n",
        "surrogate_approx_20 = GaussianProcess(cov_func, optimize=opt)\n",
        "\n",
        "approx_20 = GPGO_multi(surrogate_approx_20, Acquisition(util_grad_approx), objfunc, param)\n",
        "approx_20.run(init_evals=n_init, max_iter=iters)\n"
      ],
      "execution_count": 32,
      "outputs": [
        {
          "output_type": "stream",
          "name": "stdout",
          "text": [
            "Evaluation \t Proposed point \t  Current eval. \t Best eval.\n",
            "init   \t [0.9024594  4.07258857]. \t  -20.24255447774017 \t -17.388691338534382\n",
            "init   \t [4.00927467 3.23417577]. \t  -35.55852254546393 \t -17.388691338534382\n",
            "init   \t [-4.75249064  1.96359764]. \t  -36.54582989269194 \t -17.388691338534382\n",
            "init   \t [-1.24230715  0.18955208]. \t  -17.388691338534382 \t -17.388691338534382\n",
            "init   \t [ 1.61742301 -3.13497377]. \t  -33.22932870179905 \t -17.388691338534382\n",
            "1      \t [-5.12 -5.12]. \t  -57.849427451571785 \t -17.388691338534382\n",
            "2      \t [ 5.12       -0.92645578]. \t  -30.831816007590838 \t -17.388691338534382\n",
            "3      \t [ 5.12 -5.12]. \t  -57.849427451571785 \t -17.388691338534382\n",
            "4      \t [-2.70368899  5.12      ]. \t  -49.103565832622536 \t -17.388691338534382\n",
            "5      \t [-1.34011183 -5.12      ]. \t  -46.084812605270244 \t -17.388691338534382\n",
            "6      \t [-4.41681088 -1.56024865]. \t  -59.89937774476075 \t -17.388691338534382\n",
            "7      \t [1.91138093 0.46614175]. \t  -25.15577816398079 \t -17.388691338534382\n",
            "8      \t [-1.24978991 -2.24022698]. \t  -25.95372070746396 \t -17.388691338534382\n",
            "9      \t [-1.34785228  2.53662806]. \t  -43.75567785130711 \t -17.388691338534382\n",
            "10     \t [-5.12  5.12]. \t  -57.849427451571785 \t -17.388691338534382\n",
            "11     \t [2.81009537 5.12      ]. \t  -43.134533351805 \t -17.388691338534382\n",
            "12     \t [ 2.24024779 -5.12      ]. \t  -43.3310576544824 \t -17.388691338534382\n",
            "13     \t [5.12       1.32213344]. \t  -45.051447482293625 \t -17.388691338534382\n",
            "14     \t [5.12 5.12]. \t  -57.849427451571785 \t -17.388691338534382\n",
            "15     \t [ 3.91405101 -2.6653578 ]. \t  -38.918063397367895 \t -17.388691338534382\n",
            "16     \t [-0.28396222  5.12      ]. \t  -41.12309937732299 \t -17.388691338534382\n",
            "17     \t [1.44913602 2.39886946]. \t  -45.39643343784116 \t -17.388691338534382\n",
            "18     \t [ 0.62540422 -1.01801041]. \t  -18.54452223043948 \t -17.388691338534382\n",
            "19     \t [-2.95751883  0.4905804 ]. \t  -29.32419119231195 \t -17.388691338534382\n",
            "20     \t [-3.09361739 -3.62444469]. \t  -41.48344223934703 \t -17.388691338534382\n"
          ]
        }
      ]
    },
    {
      "cell_type": "code",
      "metadata": {
        "id": "xkgzPRbBTHaq",
        "colab": {
          "base_uri": "https://localhost:8080/"
        },
        "outputId": "09e7c650-e8b3-48e3-9bc1-cfb0ffe0fa71"
      },
      "source": [
        "end_approx = time.time()\n",
        "end_approx\n",
        "\n",
        "time_approx = end_approx - start_approx\n",
        "time_approx\n",
        "\n",
        "start_exact = time.time()\n",
        "start_exact"
      ],
      "execution_count": 33,
      "outputs": [
        {
          "output_type": "execute_result",
          "data": {
            "text/plain": [
              "1631271429.9647598"
            ]
          },
          "metadata": {},
          "execution_count": 33
        }
      ]
    },
    {
      "cell_type": "code",
      "metadata": {
        "id": "7CG3Ndvb16Rb",
        "colab": {
          "base_uri": "https://localhost:8080/"
        },
        "outputId": "99fc3eef-6f15-4306-f5e6-dd28605def77"
      },
      "source": [
        "### EXACT GP EI GRADIENTS\n",
        "\n",
        "np.random.seed(run_num_1)\n",
        "surrogate_exact_1 = dGaussianProcess(cov_func, optimize=opt)\n",
        "\n",
        "exact_1 = dGPGO(surrogate_exact_1, Acquisition_new(util_grad_exact), objfunc, param)\n",
        "exact_1.run(init_evals=n_init, max_iter=iters)\n"
      ],
      "execution_count": 34,
      "outputs": [
        {
          "output_type": "stream",
          "name": "stdout",
          "text": [
            "Evaluation \t Proposed point \t  Current eval. \t Best eval.\n",
            "init   \t [-0.84969467  2.25612281]. \t  -20.33436270766351 \t -19.908403246996286\n",
            "init   \t [-5.1188288  -2.02411446]. \t  -33.07414982069084 \t -19.908403246996286\n",
            "init   \t [-3.61721968 -4.17445279]. \t  -53.347974723929894 \t -19.908403246996286\n",
            "init   \t [-3.21269544 -1.58145816]. \t  -39.218472310354045 \t -19.908403246996286\n",
            "init   \t [-1.05710106  0.39748336]. \t  -19.908403246996286 \t -19.908403246996286\n",
            "1      \t [ 4.04077223 -4.24914728]. \t  -44.655863836006326 \t -19.908403246996286\n",
            "2      \t [4.42977754 2.01541797]. \t  -42.77403520305755 \t -19.908403246996286\n",
            "3      \t [0.83311542 4.81300469]. \t  -35.014846181561445 \t -19.908403246996286\n",
            "4      \t [-4.89958599  4.58721496]. \t  -65.50937696421485 \t -19.908403246996286\n",
            "5      \t [ 1.31150027 -2.19569888]. \t  -26.96382130761473 \t -19.908403246996286\n",
            "6      \t [1.9293517  0.71162279]. \t  \u001b[92m-17.585964982670276\u001b[0m \t -17.585964982670276\n",
            "7      \t [-0.44057265 -4.53704255]. \t  -59.820178113978244 \t -17.585964982670276\n",
            "8      \t [-4.00364786  1.36997643]. \t  -34.75304948612169 \t -17.585964982670276\n",
            "9      \t [ 4.26399594 -0.75289817]. \t  -39.444687481505184 \t -17.585964982670276\n",
            "10     \t [4.87412806 4.11200087]. \t  -46.00906301015695 \t -17.585964982670276\n",
            "11     \t [-1.51112059  3.64368248]. \t  -51.7297769379593 \t -17.585964982670276\n",
            "12     \t [-1.07420806 -2.04717009]. \t  \u001b[92m-6.848278693153295\u001b[0m \t -6.848278693153295\n",
            "13     \t [ 2.02043412 -5.08812434]. \t  -31.547632382918074 \t -6.848278693153295\n",
            "14     \t [-0.93555482 -2.64787202]. \t  -24.680647400496532 \t -6.848278693153295\n",
            "15     \t [1.11443122 1.86832599]. \t  -10.439482760081995 \t -6.848278693153295\n",
            "16     \t [ 0.67238003 -0.32086182]. \t  -29.54773220635641 \t -6.848278693153295\n",
            "17     \t [-2.13858365  0.03593738]. \t  -8.386125073855451 \t -6.848278693153295\n",
            "18     \t [2.04414139 4.28296795]. \t  -34.96113597292023 \t -6.848278693153295\n",
            "19     \t [-4.28417042 -0.2753336 ]. \t  -42.1455028437112 \t -6.848278693153295\n",
            "20     \t [-1.58024486  0.979201  ]. \t  -22.29692318907813 \t -6.848278693153295\n"
          ]
        }
      ]
    },
    {
      "cell_type": "code",
      "metadata": {
        "id": "-ilCPSAu9SAg",
        "colab": {
          "base_uri": "https://localhost:8080/"
        },
        "outputId": "3c556e47-2715-4ba2-bf51-810b246bf2dd"
      },
      "source": [
        "### EXACT GP EI GRADIENTS\n",
        "\n",
        "np.random.seed(run_num_2)\n",
        "surrogate_exact_2 = dGaussianProcess(cov_func, optimize=opt)\n",
        "\n",
        "exact_2 = dGPGO(surrogate_exact_2, Acquisition_new(util_grad_exact), objfunc, param)\n",
        "exact_2.run(init_evals=n_init, max_iter=iters)\n"
      ],
      "execution_count": 35,
      "outputs": [
        {
          "output_type": "stream",
          "name": "stdout",
          "text": [
            "Evaluation \t Proposed point \t  Current eval. \t Best eval.\n",
            "init   \t [-0.6554122  -4.85451539]. \t  -43.490296251903594 \t -18.964539418712707\n",
            "init   \t [ 0.50854377 -0.6622987 ]. \t  -35.91861667536101 \t -18.964539418712707\n",
            "init   \t [-0.81543371 -1.73737143]. \t  -20.479562046739524 \t -18.964539418712707\n",
            "init   \t [-3.02439799  1.2213347 ]. \t  -18.964539418712707 \t -18.964539418712707\n",
            "init   \t [-2.05153614 -2.3876887 ]. \t  -28.041315668371354 \t -18.964539418712707\n",
            "1      \t [4.81874241 3.07464552]. \t  -39.56740440269988 \t -18.964539418712707\n",
            "2      \t [ 4.84260546 -3.96517156]. \t  -43.916134329740714 \t -18.964539418712707\n",
            "3      \t [0.50684745 3.5339583 ]. \t  -52.5097381549501 \t -18.964539418712707\n",
            "4      \t [-4.67835867 -4.02240098]. \t  -52.51651598981946 \t -18.964539418712707\n",
            "5      \t [ 3.47036257 -0.39179362]. \t  -49.80051117439747 \t -18.964539418712707\n",
            "6      \t [-4.40667555  4.45597249]. \t  -77.2238064298952 \t -18.964539418712707\n",
            "7      \t [ 2.82417061 -4.78357567]. \t  -44.27111609529813 \t -18.964539418712707\n",
            "8      \t [-1.34755092  1.83629838]. \t  -25.780092324716485 \t -18.964539418712707\n",
            "9      \t [3.50072456 4.34191556]. \t  -66.56669887533691 \t -18.964539418712707\n",
            "10     \t [-4.06784742 -0.26311561]. \t  -28.33473029493828 \t -18.964539418712707\n",
            "11     \t [2.04376763 1.51388827]. \t  -26.806542665322212 \t -18.964539418712707\n",
            "12     \t [ 2.34400231 -2.78576338]. \t  -36.595484328510324 \t -18.964539418712707\n",
            "13     \t [-2.44719176  4.48953371]. \t  -65.57760783946492 \t -18.964539418712707\n",
            "14     \t [-2.52671038 -0.3220207 ]. \t  -40.719792024182524 \t -18.964539418712707\n",
            "15     \t [-4.91992327  2.24247423]. \t  -40.00091067657344 \t -18.964539418712707\n",
            "16     \t [-2.3567481  -4.42390363]. \t  -60.21925161254461 \t -18.964539418712707\n",
            "17     \t [ 0.10129886 -3.36071685]. \t  -29.671627031658705 \t -18.964539418712707\n",
            "18     \t [0.25549187 0.71077318]. \t  -23.355286216642295 \t -18.964539418712707\n",
            "19     \t [-3.16558897  1.74793906]. \t  -28.147206698837692 \t -18.964539418712707\n",
            "20     \t [-0.10016369  4.9738961 ]. \t  -26.799759413381175 \t -18.964539418712707\n"
          ]
        }
      ]
    },
    {
      "cell_type": "code",
      "metadata": {
        "id": "XieJ158mIvlP",
        "colab": {
          "base_uri": "https://localhost:8080/"
        },
        "outputId": "65fb317e-e0c4-4c8e-8391-4ca0a09af724"
      },
      "source": [
        "### EXACT GP EI GRADIENTS\n",
        "\n",
        "np.random.seed(run_num_3)\n",
        "surrogate_exact_3 = dGaussianProcess(cov_func, optimize=opt)\n",
        "\n",
        "exact_3 = dGPGO(surrogate_exact_3, Acquisition_new(util_grad_exact), objfunc, param)\n",
        "exact_3.run(init_evals=n_init, max_iter=iters)\n"
      ],
      "execution_count": 36,
      "outputs": [
        {
          "output_type": "stream",
          "name": "stdout",
          "text": [
            "Evaluation \t Proposed point \t  Current eval. \t Best eval.\n",
            "init   \t [0.52017052 2.1314337 ]. \t  -27.953858411008774 \t -10.607662635789808\n",
            "init   \t [-2.14113547  0.11087468]. \t  -10.607662635789808 \t -10.607662635789808\n",
            "init   \t [4.02377681 4.05804123]. \t  -33.42749829480097 \t -10.607662635789808\n",
            "init   \t [-3.83400642 -2.99783293]. \t  -28.650953928965198 \t -10.607662635789808\n",
            "init   \t [-4.59297584 -0.6061072 ]. \t  -57.6631355589384 \t -10.607662635789808\n",
            "1      \t [ 2.87042319 -1.98283743]. \t  -15.364229918613852 \t -10.607662635789808\n",
            "2      \t [-3.19677619  4.62951673]. \t  -55.23721089925957 \t -10.607662635789808\n",
            "3      \t [-0.17923029 -2.18061041]. \t  -16.262624209327562 \t -10.607662635789808\n",
            "4      \t [4.89423267 0.02817073]. \t  -26.238638237873694 \t -10.607662635789808\n",
            "5      \t [ 3.36314288 -4.68920808]. \t  -63.552008818431474 \t -10.607662635789808\n",
            "6      \t [-4.71693878  2.52591197]. \t  -60.559890536287206 \t -10.607662635789808\n",
            "7      \t [-1.07774085 -4.89234548]. \t  -28.46777446229546 \t -10.607662635789808\n",
            "8      \t [1.88724908 0.27609349]. \t  -17.67629277678878 \t -10.607662635789808\n",
            "9      \t [0.33097264 4.36233771]. \t  -50.4972564791689 \t -10.607662635789808\n",
            "10     \t [ 4.70669898 -2.865938  ]. \t  -46.39664592153257 \t -10.607662635789808\n",
            "11     \t [-0.56865214  0.03861059]. \t  -19.70168766796951 \t -10.607662635789808\n",
            "12     \t [3.59796817 1.76765829]. \t  -43.12731030017884 \t -10.607662635789808\n",
            "13     \t [-1.64283266  1.57230845]. \t  -40.39271771975034 \t -10.607662635789808\n",
            "14     \t [ 0.57036383 -2.27925754]. \t  -36.3868126606379 \t -10.607662635789808\n",
            "15     \t [-0.82145967 -2.06906241]. \t  -11.542021062870937 \t -10.607662635789808\n",
            "16     \t [-5.0199054  -4.56123589]. \t  -65.35133157615027 \t -10.607662635789808\n",
            "17     \t [-1.852001   -2.44097572]. \t  -32.72932850304753 \t -10.607662635789808\n",
            "18     \t [2.37800043 3.97738931]. \t  -38.77836664645461 \t -10.607662635789808\n",
            "19     \t [ 1.09902741 -5.03732301]. \t  -28.730257101205364 \t -10.607662635789808\n",
            "20     \t [ 2.44896681 -1.3424912 ]. \t  -42.77979170738499 \t -10.607662635789808\n"
          ]
        }
      ]
    },
    {
      "cell_type": "code",
      "metadata": {
        "id": "PhLBVOIfIvol",
        "colab": {
          "base_uri": "https://localhost:8080/"
        },
        "outputId": "2a080c4c-cf4c-4854-ad92-055661175261"
      },
      "source": [
        "### EXACT GP EI GRADIENTS\n",
        "\n",
        "np.random.seed(run_num_4)\n",
        "surrogate_exact_4 = dGaussianProcess(cov_func, optimize=opt)\n",
        "\n",
        "exact_4 = dGPGO(surrogate_exact_4, Acquisition_new(util_grad_exact), objfunc, param)\n",
        "exact_4.run(init_evals=n_init, max_iter=iters)\n"
      ],
      "execution_count": 37,
      "outputs": [
        {
          "output_type": "stream",
          "name": "stdout",
          "text": [
            "Evaluation \t Proposed point \t  Current eval. \t Best eval.\n",
            "init   \t [4.78238555 0.48365823]. \t  -51.03163809010808 \t -14.323038259018315\n",
            "init   \t [4.84028785 2.19971578]. \t  -39.78645699016559 \t -14.323038259018315\n",
            "init   \t [ 2.02474316 -2.90724357]. \t  -14.323038259018315 \t -14.323038259018315\n",
            "init   \t [ 4.87705042 -5.05620219]. \t  -52.80627247106233 \t -14.323038259018315\n",
            "init   \t [-2.52946061 -0.66773471]. \t  -41.61497868486559 \t -14.323038259018315\n",
            "1      \t [-0.85221064  4.14379611]. \t  -25.71899181612467 \t -14.323038259018315\n",
            "2      \t [-4.62301044 -3.99546247]. \t  -54.49891648309001 \t -14.323038259018315\n",
            "3      \t [-3.7401333   2.45805804]. \t  -50.30495908053185 \t -14.323038259018315\n",
            "4      \t [0.49976441 1.02192631]. \t  -21.388835716483523 \t -14.323038259018315\n",
            "5      \t [-1.18632793 -3.40244267]. \t  -37.26864799683983 \t -14.323038259018315\n",
            "6      \t [3.56583759 4.58335811]. \t  -71.53836326334684 \t -14.323038259018315\n",
            "7      \t [-4.90014833  0.17148686]. \t  -31.209755671544897 \t -14.323038259018315\n",
            "8      \t [ 4.22194917 -2.3368354 ]. \t  -46.72161504797316 \t -14.323038259018315\n",
            "9      \t [ 2.18539451 -0.43254576]. \t  -30.12954323350257 \t -14.323038259018315\n",
            "10     \t [-0.28432239 -4.92983404]. \t  -37.480139736559686 \t -14.323038259018315\n",
            "11     \t [-4.32579411  4.89468084]. \t  -59.365457194326396 \t -14.323038259018315\n",
            "12     \t [1.10165838 3.05014312]. \t  \u001b[92m-12.980756644331557\u001b[0m \t -12.980756644331557\n",
            "13     \t [1.14008137 4.96283715]. \t  -29.830615776704313 \t -12.980756644331557\n",
            "14     \t [-0.85885691  1.18556439]. \t  \u001b[92m-11.885553486760042\u001b[0m \t -11.885553486760042\n",
            "15     \t [ 2.28075068 -3.9089147 ]. \t  -33.9950169110724 \t -11.885553486760042\n",
            "16     \t [ 0.23038336 -0.58424857]. \t  -27.7963495337847 \t -11.885553486760042\n",
            "17     \t [-4.10877515 -1.99988577]. \t  -23.12761900057231 \t -11.885553486760042\n",
            "18     \t [-1.61377914  1.47315463]. \t  -42.18416727847375 \t -11.885553486760042\n",
            "19     \t [2.92858325 2.30054056]. \t  -27.981530108335676 \t -11.885553486760042\n",
            "20     \t [ 1.30180419 -2.20995822]. \t  -27.28694921186064 \t -11.885553486760042\n"
          ]
        }
      ]
    },
    {
      "cell_type": "code",
      "metadata": {
        "id": "arbiPyj2IvsJ",
        "colab": {
          "base_uri": "https://localhost:8080/"
        },
        "outputId": "bba0accc-a4a1-4026-afd5-8a5015a119cd"
      },
      "source": [
        "### EXACT GP EI GRADIENTS\n",
        "\n",
        "np.random.seed(run_num_5)\n",
        "surrogate_exact_5 = dGaussianProcess(cov_func, optimize=opt)\n",
        "\n",
        "exact_5 = dGPGO(surrogate_exact_5, Acquisition_new(util_grad_exact), objfunc, param)\n",
        "exact_5.run(init_evals=n_init, max_iter=iters)\n"
      ],
      "execution_count": 38,
      "outputs": [
        {
          "output_type": "stream",
          "name": "stdout",
          "text": [
            "Evaluation \t Proposed point \t  Current eval. \t Best eval.\n",
            "init   \t [-2.84678993  3.79629882]. \t  -33.93442008827236 \t -7.8108627039749745\n",
            "init   \t [-3.00319585  4.2865757 ]. \t  -39.673876075575784 \t -7.8108627039749745\n",
            "init   \t [-0.11866943  1.14425716]. \t  -7.8108627039749745 \t -7.8108627039749745\n",
            "init   \t [2.72289645 0.1886002 ]. \t  -25.38160395721669 \t -7.8108627039749745\n",
            "init   \t [-2.08076286 -3.19773462]. \t  -22.589982116319675 \t -7.8108627039749745\n",
            "1      \t [ 4.32895605 -5.09732646]. \t  -61.29478907190488 \t -7.8108627039749745\n",
            "2      \t [4.02415917 4.76321328]. \t  -48.16778619122226 \t -7.8108627039749745\n",
            "3      \t [-4.01930718  0.82860572]. \t  -22.174324690423468 \t -7.8108627039749745\n",
            "4      \t [ 1.27748574 -3.48486724]. \t  -45.44950930160264 \t -7.8108627039749745\n",
            "5      \t [1.37435419 4.49078205]. \t  -59.081521892816006 \t -7.8108627039749745\n",
            "6      \t [-4.04930349 -2.08898634]. \t  -22.759490383017756 \t -7.8108627039749745\n",
            "7      \t [-1.60964571 -0.32180733]. \t  -34.77408860723274 \t -7.8108627039749745\n",
            "8      \t [ 3.87184926 -2.09294232]. \t  -24.099133495475648 \t -7.8108627039749745\n",
            "9      \t [-0.77817686 -5.06585446]. \t  -35.35117826839756 \t -7.8108627039749745\n",
            "10     \t [-5.10280941 -4.27909027]. \t  -58.18175399098026 \t -7.8108627039749745\n",
            "11     \t [ 1.29030754 -1.51777686]. \t  -36.411836280805296 \t -7.8108627039749745\n",
            "12     \t [3.157415   2.48646966]. \t  -40.620995042178365 \t -7.8108627039749745\n",
            "13     \t [0.24555137 1.03226488]. \t  -11.051173979204853 \t -7.8108627039749745\n",
            "14     \t [-2.05894232  1.56803568]. \t  -26.47608637966521 \t -7.8108627039749745\n",
            "15     \t [0.35568827 3.13733178]. \t  -29.63003416277229 \t -7.8108627039749745\n",
            "16     \t [4.78260795 1.52619186]. \t  -53.032977636866654 \t -7.8108627039749745\n",
            "17     \t [ 5.00987896 -1.4721268 ]. \t  -47.13233727946381 \t -7.8108627039749745\n",
            "18     \t [0.54927099 0.03350304]. \t  -20.04818739564886 \t -7.8108627039749745\n",
            "19     \t [-0.3548674   1.38056925]. \t  -35.468511768078514 \t -7.8108627039749745\n",
            "20     \t [-5.0026839   2.76110619]. \t  -41.95471907233645 \t -7.8108627039749745\n"
          ]
        }
      ]
    },
    {
      "cell_type": "code",
      "metadata": {
        "id": "04KJCEm_Ivvf",
        "colab": {
          "base_uri": "https://localhost:8080/"
        },
        "outputId": "5bea3f51-30cf-4258-893b-a143d3aedfeb"
      },
      "source": [
        "### EXACT GP EI GRADIENTS\n",
        "\n",
        "np.random.seed(run_num_6)\n",
        "surrogate_exact_6 = dGaussianProcess(cov_func, optimize=opt)\n",
        "\n",
        "exact_6 = dGPGO(surrogate_exact_6, Acquisition_new(util_grad_exact), objfunc, param)\n",
        "exact_6.run(init_evals=n_init, max_iter=iters)\n"
      ],
      "execution_count": 39,
      "outputs": [
        {
          "output_type": "stream",
          "name": "stdout",
          "text": [
            "Evaluation \t Proposed point \t  Current eval. \t Best eval.\n",
            "init   \t [ 4.02288795 -1.72052679]. \t  -31.08835710146886 \t -17.28954482757088\n",
            "init   \t [ 3.28938622 -4.69302655]. \t  -58.797867722203385 \t -17.28954482757088\n",
            "init   \t [-4.0175956   0.97333314]. \t  -17.28954482757088 \t -17.28954482757088\n",
            "init   \t [ 0.30532979 -0.83141193]. \t  -19.296253155889353 \t -17.28954482757088\n",
            "init   \t [-1.68542362  1.25459899]. \t  -28.650630936276173 \t -17.28954482757088\n",
            "1      \t [4.87990293 3.44994399]. \t  -57.93953348264158 \t -17.28954482757088\n",
            "2      \t [-2.54347117 -4.69631487]. \t  -61.46344508310245 \t -17.28954482757088\n",
            "3      \t [1.2610555  4.84426245]. \t  -40.16877339737182 \t -17.28954482757088\n",
            "4      \t [-2.91508567  4.40569092]. \t  -47.5928067251325 \t -17.28954482757088\n",
            "5      \t [-4.58265972 -2.68779076]. \t  -60.71627769480648 \t -17.28954482757088\n",
            "6      \t [2.70290502 1.26044244]. \t  -32.46612896840157 \t -17.28954482757088\n",
            "7      \t [-5.01672984  4.05647381]. \t  -42.300717976635596 \t -17.28954482757088\n",
            "8      \t [4.97249185 0.36584776]. \t  -41.66149499528153 \t -17.28954482757088\n",
            "9      \t [ 0.76036091 -2.44788199]. \t  -35.388340603206615 \t -17.28954482757088\n",
            "10     \t [-0.93891589  2.82253272]. \t  \u001b[92m-15.174542212389827\u001b[0m \t -15.174542212389827\n",
            "11     \t [ 1.34380031 -4.93636874]. \t  -42.520504717891264 \t -15.174542212389827\n",
            "12     \t [-2.96341269 -0.57878543]. \t  -28.179456600488336 \t -15.174542212389827\n",
            "13     \t [-2.36935215 -2.4539935 ]. \t  -48.036756800627884 \t -15.174542212389827\n",
            "14     \t [1.84656546 2.51328839]. \t  -33.989674288269505 \t -15.174542212389827\n",
            "15     \t [ 2.15094818 -2.26060104]. \t  -24.572934812792727 \t -15.174542212389827\n",
            "16     \t [ 4.90472415 -3.31388097]. \t  -50.68392804367505 \t -15.174542212389827\n",
            "17     \t [-0.46978391  5.03089141]. \t  -45.53866103812661 \t -15.174542212389827\n",
            "18     \t [-4.55383007 -4.79283692]. \t  -70.48296417152284 \t -15.174542212389827\n",
            "19     \t [-4.74644116  2.64056072]. \t  -56.07190895323063 \t -15.174542212389827\n",
            "20     \t [3.56429929 4.8909919 ]. \t  -58.07626503998644 \t -15.174542212389827\n"
          ]
        }
      ]
    },
    {
      "cell_type": "code",
      "metadata": {
        "id": "tAOkme3CIvyO",
        "colab": {
          "base_uri": "https://localhost:8080/"
        },
        "outputId": "38ca966d-b3f7-44d0-c3d0-516b60e60c2b"
      },
      "source": [
        "### EXACT GP EI GRADIENTS\n",
        "\n",
        "np.random.seed(run_num_7)\n",
        "surrogate_exact_7 = dGaussianProcess(cov_func, optimize=opt)\n",
        "\n",
        "exact_7 = dGPGO(surrogate_exact_7, Acquisition_new(util_grad_exact), objfunc, param)\n",
        "exact_7.run(init_evals=n_init, max_iter=iters)\n"
      ],
      "execution_count": 40,
      "outputs": [
        {
          "output_type": "stream",
          "name": "stdout",
          "text": [
            "Evaluation \t Proposed point \t  Current eval. \t Best eval.\n",
            "init   \t [-4.33860312  2.86636843]. \t  -45.646133072936244 \t -22.52235437888213\n",
            "init   \t [-0.63068947  2.28828342]. \t  -34.83012662845338 \t -22.52235437888213\n",
            "init   \t [4.8946126  0.39419771]. \t  -44.09657005662876 \t -22.52235437888213\n",
            "init   \t [ 0.01147355 -4.38219639]. \t  -36.613209822404315 \t -22.52235437888213\n",
            "init   \t [-2.37118484e+00 -1.20319155e-03]. \t  -22.52235437888213 \t -22.52235437888213\n",
            "1      \t [-5.10538874 -4.17523358]. \t  -51.084190064364634 \t -22.52235437888213\n",
            "2      \t [3.36336072 4.52412691]. \t  -68.20074440954015 \t -22.52235437888213\n",
            "3      \t [ 3.81570236 -4.87523301]. \t  -47.234127813742255 \t -22.52235437888213\n",
            "4      \t [-4.02558214 -1.33646422]. \t  -33.289738493146906 \t -22.52235437888213\n",
            "5      \t [ 1.47443691 -1.75053267]. \t  -35.07614713078115 \t -22.52235437888213\n",
            "6      \t [-5.06222639  5.11189301]. \t  -54.88345235987289 \t -22.52235437888213\n",
            "7      \t [-1.42652306  5.01672073]. \t  -46.210693549077874 \t -22.52235437888213\n",
            "8      \t [-2.24018732 -3.150197  ]. \t  -28.458187961991726 \t -22.52235437888213\n",
            "9      \t [1.90686696 2.03311758]. \t  \u001b[92m-9.649253101635287\u001b[0m \t -9.649253101635287\n",
            "10     \t [2.07362442 1.56998768]. \t  -26.864409218889136 \t -9.649253101635287\n",
            "11     \t [-3.44029996 -4.96928147]. \t  -56.019795743437896 \t -9.649253101635287\n",
            "12     \t [ 3.13595779 -2.52230608]. \t  -39.53034776241561 \t -9.649253101635287\n",
            "13     \t [0.5255118  0.09416078]. \t  -21.856501469324638 \t -9.649253101635287\n",
            "14     \t [-4.39571078  0.89552615]. \t  -40.13131496388414 \t -9.649253101635287\n",
            "15     \t [0.73828395 3.46695238]. \t  -43.08549104047564 \t -9.649253101635287\n",
            "16     \t [-2.47683397  1.76671611]. \t  -38.10187178669381 \t -9.649253101635287\n",
            "17     \t [-0.24785523 -1.0076084 ]. \t  -10.953375387308466 \t -9.649253101635287\n",
            "18     \t [4.93487447 3.56465751]. \t  -57.07142965316001 \t -9.649253101635287\n",
            "19     \t [-0.5988193  -1.33849953]. \t  -35.56214769673002 \t -9.649253101635287\n",
            "20     \t [2.79931681 0.01269515]. \t  -14.818815634215287 \t -9.649253101635287\n"
          ]
        }
      ]
    },
    {
      "cell_type": "code",
      "metadata": {
        "id": "69-J3EF4Iv1S",
        "colab": {
          "base_uri": "https://localhost:8080/"
        },
        "outputId": "7265ae82-4874-49ee-bbed-23e566f84b80"
      },
      "source": [
        "### EXACT GP EI GRADIENTS\n",
        "\n",
        "np.random.seed(run_num_8)\n",
        "surrogate_exact_8 = dGaussianProcess(cov_func, optimize=opt)\n",
        "\n",
        "exact_8 = dGPGO(surrogate_exact_8, Acquisition_new(util_grad_exact), objfunc, param)\n",
        "exact_8.run(init_evals=n_init, max_iter=iters)\n"
      ],
      "execution_count": 41,
      "outputs": [
        {
          "output_type": "stream",
          "name": "stdout",
          "text": [
            "Evaluation \t Proposed point \t  Current eval. \t Best eval.\n",
            "init   \t [3.82391708 4.79785639]. \t  -50.20079446939181 \t -13.871821018360485\n",
            "init   \t [3.78055209 0.31596228]. \t  -36.5114251593508 \t -13.871821018360485\n",
            "init   \t [-2.73686192 -5.00327624]. \t  -43.34985765011677 \t -13.871821018360485\n",
            "init   \t [-0.7119993  -0.99992207]. \t  -13.871821018360485 \t -13.871821018360485\n",
            "init   \t [ 0.23218863 -0.22126801]. \t  -17.190590355445654 \t -13.871821018360485\n",
            "1      \t [ 4.96383424 -4.82578382]. \t  -53.60118142988121 \t -13.871821018360485\n",
            "2      \t [-5.03492225  2.95509263]. \t  -34.71822332027364 \t -13.871821018360485\n",
            "3      \t [-2.03342217  4.86918874]. \t  -31.255265964912816 \t -13.871821018360485\n",
            "4      \t [-4.94380137 -2.59809673]. \t  -49.96812938124995 \t -13.871821018360485\n",
            "5      \t [0.56805288 2.83232517]. \t  -32.49939044745632 \t -13.871821018360485\n",
            "6      \t [ 1.93029897 -2.2557147 ]. \t  -20.11703788138048 \t -13.871821018360485\n",
            "7      \t [ 2.01140483 -5.07341738]. \t  -30.856208656829864 \t -13.871821018360485\n",
            "8      \t [-0.18883694 -3.6836549 ]. \t  -33.904781091040796 \t -13.871821018360485\n",
            "9      \t [ 5.09033741 -1.80057301]. \t  -37.59730661475024 \t -13.871821018360485\n",
            "10     \t [-1.62823736  1.65417199]. \t  -37.977011652895406 \t -13.871821018360485\n",
            "11     \t [4.02113496 2.65020995]. \t  -39.14835729177925 \t -13.871821018360485\n",
            "12     \t [-3.15389824 -0.51299271]. \t  -34.49897836798887 \t -13.871821018360485\n",
            "13     \t [-0.13561385  4.68492534]. \t  -39.358561707984784 \t -13.871821018360485\n",
            "14     \t [-4.42668746  5.00147397]. \t  -63.56843122006664 \t -13.871821018360485\n",
            "15     \t [-4.82642318 -4.94136469]. \t  -53.76306071132048 \t -13.871821018360485\n",
            "16     \t [-2.18463255 -2.9663459 ]. \t  -19.801904439217346 \t -13.871821018360485\n",
            "17     \t [-3.47951959  2.34321806]. \t  -53.04292743941051 \t -13.871821018360485\n",
            "18     \t [1.60478777 0.32352793]. \t  -35.04703048983199 \t -13.871821018360485\n",
            "19     \t [ 3.3589012  -3.27130667]. \t  -49.63929935306279 \t -13.871821018360485\n",
            "20     \t [-4.60719745  0.65616325]. \t  -55.0332275571096 \t -13.871821018360485\n"
          ]
        }
      ]
    },
    {
      "cell_type": "code",
      "metadata": {
        "id": "vonm9jyuIv4t",
        "colab": {
          "base_uri": "https://localhost:8080/"
        },
        "outputId": "bd7be290-9b12-43c2-9bfe-692e7868953f"
      },
      "source": [
        "### EXACT GP EI GRADIENTS\n",
        "\n",
        "np.random.seed(run_num_9)\n",
        "surrogate_exact_9 = dGaussianProcess(cov_func, optimize=opt)\n",
        "\n",
        "exact_9 = dGPGO(surrogate_exact_9, Acquisition_new(util_grad_exact), objfunc, param)\n",
        "exact_9.run(init_evals=n_init, max_iter=iters)\n"
      ],
      "execution_count": 42,
      "outputs": [
        {
          "output_type": "stream",
          "name": "stdout",
          "text": [
            "Evaluation \t Proposed point \t  Current eval. \t Best eval.\n",
            "init   \t [-5.01376866  0.01919582]. \t  -25.248289026162446 \t -24.454800313488693\n",
            "init   \t [-0.04328148 -3.74958562]. \t  -24.454800313488693 \t -24.454800313488693\n",
            "init   \t [-3.66478248 -2.88195916]. \t  -39.46509426509438 \t -24.454800313488693\n",
            "init   \t [-0.83447623 -2.57944404]. \t  -31.06766397812992 \t -24.454800313488693\n",
            "init   \t [-4.25922917 -1.58209393]. \t  -49.922543556206975 \t -24.454800313488693\n",
            "1      \t [3.69491889 4.82146316]. \t  -55.95031066333101 \t -24.454800313488693\n",
            "2      \t [-2.02106223  4.82097351]. \t  -33.10085788033846 \t -24.454800313488693\n",
            "3      \t [ 3.95091563 -4.29840903]. \t  -47.55281474295721 \t -24.454800313488693\n",
            "4      \t [0.50142561 0.54201521]. \t  -40.19837409126909 \t -24.454800313488693\n",
            "5      \t [4.43810631 1.6245175 ]. \t  -58.681623739558894 \t -24.454800313488693\n",
            "6      \t [-4.83090377  3.04661662]. \t  -38.178180207977384 \t -24.454800313488693\n",
            "7      \t [-2.4032744   0.74442195]. \t  -34.88967769588033 \t -24.454800313488693\n",
            "8      \t [ 4.51519378 -1.15650714]. \t  -46.13668873887381 \t -24.454800313488693\n",
            "9      \t [0.64260293 3.239168  ]. \t  -36.47245630425739 \t -24.454800313488693\n",
            "10     \t [ 1.68449799 -2.40998397]. \t  -41.08870290008022 \t -24.454800313488693\n",
            "11     \t [-4.56034059 -5.05758063]. \t  -66.31304530200013 \t -24.454800313488693\n",
            "12     \t [-0.0673191   4.52233792]. \t  -41.23903416688846 \t -24.454800313488693\n",
            "13     \t [-2.49855383  2.7901694 ]. \t  -41.530196872564524 \t -24.454800313488693\n",
            "14     \t [ 2.27627351 -0.2252565 ]. \t  -25.3270626911058 \t -24.454800313488693\n",
            "15     \t [-1.25044285 -0.66999491]. \t  -26.85814235088216 \t -24.454800313488693\n",
            "16     \t [3.15656617 2.69520929]. \t  -35.0638930390024 \t -24.454800313488693\n",
            "17     \t [-3.95279224  4.7456756 ]. \t  -48.85436703489777 \t -24.454800313488693\n",
            "18     \t [ 0.84859728 -4.40252137]. \t  -42.47825906850564 \t -24.454800313488693\n",
            "19     \t [-1.67595814 -4.12661553]. \t  -37.3250457025125 \t -24.454800313488693\n",
            "20     \t [1.80757032 1.41236001]. \t  -30.244992824864163 \t -24.454800313488693\n"
          ]
        }
      ]
    },
    {
      "cell_type": "code",
      "metadata": {
        "id": "6amuYlUdIv7r",
        "colab": {
          "base_uri": "https://localhost:8080/"
        },
        "outputId": "0002af63-af8c-4cc6-bf2e-5ffbc37146b6"
      },
      "source": [
        "### EXACT GP EI GRADIENTS\n",
        "\n",
        "np.random.seed(run_num_10)\n",
        "surrogate_exact_10 = dGaussianProcess(cov_func, optimize=opt)\n",
        "\n",
        "exact_10 = dGPGO(surrogate_exact_10, Acquisition_new(util_grad_exact), objfunc, param)\n",
        "exact_10.run(init_evals=n_init, max_iter=iters)\n"
      ],
      "execution_count": 43,
      "outputs": [
        {
          "output_type": "stream",
          "name": "stdout",
          "text": [
            "Evaluation \t Proposed point \t  Current eval. \t Best eval.\n",
            "init   \t [ 2.77832339 -4.90750004]. \t  -41.674330194390116 \t -13.839458310244165\n",
            "init   \t [1.36855793 2.54775176]. \t  -44.69639719065837 \t -13.839458310244165\n",
            "init   \t [-0.01528819 -2.81808235]. \t  -13.839458310244165 \t -13.839458310244165\n",
            "init   \t [-3.09183626  2.66783449]. \t  -33.23221510904937 \t -13.839458310244165\n",
            "init   \t [-3.38830503 -4.2154003 ]. \t  -54.73014366983691 \t -13.839458310244165\n",
            "1      \t [4.54922969 4.99328486]. \t  -65.16269428931048 \t -13.839458310244165\n",
            "2      \t [ 4.88530663 -0.60647603]. \t  -44.56456522462214 \t -13.839458310244165\n",
            "3      \t [-4.04869382 -0.61844237]. \t  -34.59511906334093 \t -13.839458310244165\n",
            "4      \t [-1.09138829  3.73226694]. \t  -27.8366226157722 \t -13.839458310244165\n",
            "5      \t [-4.5050859   5.00650982]. \t  -65.36419794062027 \t -13.839458310244165\n",
            "6      \t [0.10579747 5.07144996]. \t  -28.85095188801787 \t -13.839458310244165\n",
            "7      \t [ 0.68113404 -0.2387459 ]. \t  -24.007629434458867 \t -13.839458310244165\n",
            "8      \t [-1.34817889  0.40487468]. \t  -36.032786250940894 \t -13.839458310244165\n",
            "9      \t [-0.20942131 -4.81633341]. \t  -36.670596139535675 \t -13.839458310244165\n",
            "10     \t [4.43748676 1.5830856 ]. \t  -60.10395184730219 \t -13.839458310244165\n",
            "11     \t [ 2.48266328 -2.06000951]. \t  -31.050441318905907 \t -13.839458310244165\n",
            "12     \t [-1.70971361 -2.01351989]. \t  -19.517766139259727 \t -13.839458310244165\n",
            "13     \t [ 5.10031529 -3.51564416]. \t  -60.24618901940386 \t -13.839458310244165\n",
            "14     \t [ 2.19520155 -0.18534381]. \t  -17.526156561566875 \t -13.839458310244165\n",
            "15     \t [2.23468181 4.3441327 ]. \t  -48.47998575654655 \t -13.839458310244165\n",
            "16     \t [-4.90020528 -4.96535981]. \t  -50.804990960925224 \t -13.839458310244165\n",
            "17     \t [-4.40899943  2.34958905]. \t  -59.22621469586157 \t -13.839458310244165\n",
            "18     \t [-4.84348846 -2.77410494]. \t  -44.10423349262177 \t -13.839458310244165\n",
            "19     \t [-0.23183458 -1.74071936]. \t  -22.52774991010447 \t -13.839458310244165\n",
            "20     \t [ 1.60626394 -3.36352774]. \t  -48.289477491619095 \t -13.839458310244165\n"
          ]
        }
      ]
    },
    {
      "cell_type": "code",
      "metadata": {
        "id": "VwbLIP9cIv-F",
        "colab": {
          "base_uri": "https://localhost:8080/"
        },
        "outputId": "655fac33-49c6-42d2-918d-aa4585c520b7"
      },
      "source": [
        "### EXACT GP EI GRADIENTS\n",
        "\n",
        "np.random.seed(run_num_11)\n",
        "surrogate_exact_11 = dGaussianProcess(cov_func, optimize=opt)\n",
        "\n",
        "exact_11 = dGPGO(surrogate_exact_11, Acquisition_new(util_grad_exact), objfunc, param)\n",
        "exact_11.run(init_evals=n_init, max_iter=iters)\n"
      ],
      "execution_count": 44,
      "outputs": [
        {
          "output_type": "stream",
          "name": "stdout",
          "text": [
            "Evaluation \t Proposed point \t  Current eval. \t Best eval.\n",
            "init   \t [-3.27403839 -4.92057353]. \t  -47.655641290890955 \t -10.679755252484755\n",
            "init   \t [-0.37664229  2.30332343]. \t  -35.87889240695259 \t -10.679755252484755\n",
            "init   \t [-0.81711509 -0.14922651]. \t  -10.679755252484755 \t -10.679755252484755\n",
            "init   \t [-4.98912446 -0.12931474]. \t  -28.05462905574235 \t -10.679755252484755\n",
            "init   \t [4.52410012 3.59214172]. \t  -71.62694632141611 \t -10.679755252484755\n",
            "1      \t [ 3.03550212 -4.46785095]. \t  -49.22040431745476 \t -10.679755252484755\n",
            "2      \t [ 2.45710354 -0.83288647]. \t  -31.394363858898753 \t -10.679755252484755\n",
            "3      \t [-1.90792547  4.41104305]. \t  -43.20297339225252 \t -10.679755252484755\n",
            "4      \t [-0.06600333 -3.19727909]. \t  -17.822319381487365 \t -10.679755252484755\n",
            "5      \t [-4.04281273  2.6141044 ]. \t  -41.07571123773391 \t -10.679755252484755\n",
            "6      \t [-4.34133629 -2.27038336]. \t  -50.708036577121426 \t -10.679755252484755\n",
            "7      \t [ 4.78684114 -1.86246034]. \t  -37.59584086587788 \t -10.679755252484755\n",
            "8      \t [1.95808233 4.74499713]. \t  -37.00820758726497 \t -10.679755252484755\n",
            "9      \t [-1.39236674 -2.58606644]. \t  -44.99860952590559 \t -10.679755252484755\n",
            "10     \t [2.68583436 1.89748719]. \t  -26.741112716546738 \t -10.679755252484755\n",
            "11     \t [-2.2709668   1.05465118]. \t  -18.166945986214248 \t -10.679755252484755\n",
            "12     \t [-4.86574463  4.36202379]. \t  -62.5262803007117 \t -10.679755252484755\n",
            "13     \t [-3.04981732 -0.3511069 ]. \t  -25.844532151021813 \t -10.679755252484755\n",
            "14     \t [3.94177256 0.23902926]. \t  -25.567753331652774 \t -10.679755252484755\n",
            "15     \t [-0.52800307 -5.02017958]. \t  -45.40687329487062 \t -10.679755252484755\n",
            "16     \t [ 0.44623143 -0.82425391]. \t  -25.815165541758553 \t -10.679755252484755\n",
            "17     \t [4.99255806 0.9015487 ]. \t  -27.602374102468865 \t -10.679755252484755\n",
            "18     \t [ 5.08396191 -3.84746858]. \t  -46.26080681066702 \t -10.679755252484755\n",
            "19     \t [ 1.07755651 -3.25955739]. \t  -23.54999603884693 \t -10.679755252484755\n",
            "20     \t [-0.01139187  4.86423334]. \t  -27.109592462669664 \t -10.679755252484755\n"
          ]
        }
      ]
    },
    {
      "cell_type": "code",
      "metadata": {
        "id": "MlUNFjc-JTBY",
        "colab": {
          "base_uri": "https://localhost:8080/"
        },
        "outputId": "37ef7feb-8181-466d-8a0c-0daccc973d51"
      },
      "source": [
        "### EXACT GP EI GRADIENTS\n",
        "\n",
        "np.random.seed(run_num_12)\n",
        "surrogate_exact_12 = dGaussianProcess(cov_func, optimize=opt)\n",
        "\n",
        "exact_12 = dGPGO(surrogate_exact_12, Acquisition_new(util_grad_exact), objfunc, param)\n",
        "exact_12.run(init_evals=n_init, max_iter=iters)\n"
      ],
      "execution_count": 45,
      "outputs": [
        {
          "output_type": "stream",
          "name": "stdout",
          "text": [
            "Evaluation \t Proposed point \t  Current eval. \t Best eval.\n",
            "init   \t [-3.54137249  2.45810889]. \t  -57.903242869085595 \t -40.51116653209555\n",
            "init   \t [-2.42365424  0.34549139]. \t  -40.51116653209555 \t -40.51116653209555\n",
            "init   \t [-4.97075238  4.28796936]. \t  -55.62655915398208 \t -40.51116653209555\n",
            "init   \t [ 4.10332011 -4.77776458]. \t  -49.962803461970296 \t -40.51116653209555\n",
            "init   \t [ 4.6791612  -3.71497655]. \t  -62.183891474990624 \t -40.51116653209555\n",
            "1      \t [4.61121049 2.73895066]. \t  -57.11523489073049 \t -40.51116653209555\n",
            "2      \t [-1.92221187 -4.40449357]. \t  -42.518169943013724 \t -40.51116653209555\n",
            "3      \t [0.76219182 2.84343759]. \t  \u001b[92m-22.36141765010774\u001b[0m \t -22.36141765010774\n",
            "4      \t [ 1.90583536 -2.05114476]. \t  \u001b[92m-10.051116561578251\u001b[0m \t -10.051116561578251\n",
            "5      \t [ 4.17417824 -0.49017293]. \t  -43.05912801502799 \t -10.051116561578251\n",
            "6      \t [0.83486074 0.15042873]. \t  \u001b[92m-9.780702541475051\u001b[0m \t -9.780702541475051\n",
            "7      \t [-4.06438577 -1.932022  ]. \t  -21.957503215592357 \t -9.780702541475051\n",
            "8      \t [-1.09306375  4.46293529]. \t  -42.50405344877443 \t -9.780702541475051\n",
            "9      \t [-4.14120103 -4.83840866]. \t  -48.97025092717509 \t -9.780702541475051\n",
            "10     \t [ 0.57529043 -4.35991764]. \t  -54.6118586247877 \t -9.780702541475051\n",
            "11     \t [-0.82948604 -2.42172112]. \t  -30.578218337121182 \t -9.780702541475051\n",
            "12     \t [1.98347224 4.9008889 ]. \t  -29.883874525313374 \t -9.780702541475051\n",
            "13     \t [2.05905734 0.82338316]. \t  -11.149115866059885 \t -9.780702541475051\n",
            "14     \t [-0.38784012 -0.06805616]. \t  -18.673375905681812 \t -9.780702541475051\n",
            "15     \t [5.11295496 4.65431068]. \t  -65.87605584117206 \t -9.780702541475051\n",
            "16     \t [-0.57962086  1.28921934]. \t  -33.21192506373671 \t -9.780702541475051\n",
            "17     \t [ 0.74344135 -1.27926403]. \t  -24.429566746676016 \t -9.780702541475051\n",
            "18     \t [ 2.68964313 -2.92870276]. \t  -30.50029852708247 \t -9.780702541475051\n",
            "19     \t [1.6999823  1.10153535]. \t  -19.161456403482525 \t -9.780702541475051\n",
            "20     \t [3.69666683 1.26489862]. \t  -39.48871255049032 \t -9.780702541475051\n"
          ]
        }
      ]
    },
    {
      "cell_type": "code",
      "metadata": {
        "id": "9BsKdU9eJTFL",
        "colab": {
          "base_uri": "https://localhost:8080/"
        },
        "outputId": "d18d839b-4859-4b20-c974-8abf6ee32e2c"
      },
      "source": [
        "### EXACT GP EI GRADIENTS\n",
        "\n",
        "np.random.seed(run_num_13)\n",
        "surrogate_exact_13 = dGaussianProcess(cov_func, optimize=opt)\n",
        "\n",
        "exact_13 = dGPGO(surrogate_exact_13, Acquisition_new(util_grad_exact), objfunc, param)\n",
        "exact_13.run(init_evals=n_init, max_iter=iters)\n"
      ],
      "execution_count": 46,
      "outputs": [
        {
          "output_type": "stream",
          "name": "stdout",
          "text": [
            "Evaluation \t Proposed point \t  Current eval. \t Best eval.\n",
            "init   \t [ 2.84367268 -2.68757791]. \t  -33.58019830007169 \t -17.435826639425656\n",
            "init   \t [3.32061217 4.76927179]. \t  -56.857057997503354 \t -17.435826639425656\n",
            "init   \t [ 4.83943541 -0.47667971]. \t  -48.211919361679726 \t -17.435826639425656\n",
            "init   \t [1.11659482 2.82139151]. \t  -17.435826639425656 \t -17.435826639425656\n",
            "init   \t [1.45012065 2.27346667]. \t  -38.25352329493884 \t -17.435826639425656\n",
            "1      \t [-4.10876704 -2.60547476]. \t  -43.79941556238635 \t -17.435826639425656\n",
            "2      \t [-3.79946932  2.66821301]. \t  -43.412509428311274 \t -17.435826639425656\n",
            "3      \t [ 0.65095856 -5.01918269]. \t  -41.51751009386717 \t -17.435826639425656\n",
            "4      \t [-0.26144695 -1.43125074]. \t  -31.91689771377297 \t -17.435826639425656\n",
            "5      \t [ 4.58826702 -4.67889533]. \t  -75.76587003151079 \t -17.435826639425656\n",
            "6      \t [-1.47143339  4.29526654]. \t  -53.25977008096706 \t -17.435826639425656\n",
            "7      \t [-4.62868249 -0.10493485]. \t  -40.43723541856039 \t -17.435826639425656\n",
            "8      \t [-3.16885243 -4.88165284]. \t  -41.631181085256486 \t -17.435826639425656\n",
            "9      \t [-1.58106164  0.7659479 ]. \t  -30.816808602566596 \t -17.435826639425656\n",
            "10     \t [3.00302911 0.30880891]. \t  -22.726918011457958 \t -17.435826639425656\n",
            "11     \t [4.51970584 2.1035468 ]. \t  -46.81891383249832 \t -17.435826639425656\n",
            "12     \t [-1.68275075 -3.17104197]. \t  -32.227873584350206 \t -17.435826639425656\n",
            "13     \t [-3.80635706  4.54230577]. \t  -61.302202221033745 \t -17.435826639425656\n",
            "14     \t [ 1.64326765 -0.40257296]. \t  -37.26123733726483 \t -17.435826639425656\n",
            "15     \t [1.12858658 4.31054588]. \t  -36.657688887831476 \t -17.435826639425656\n",
            "16     \t [-2.84770807 -1.05541062]. \t  \u001b[92m-14.062552077861405\u001b[0m \t -14.062552077861405\n",
            "17     \t [ 2.54951422 -4.98840652]. \t  -50.930694645183095 \t -14.062552077861405\n",
            "18     \t [ 0.46532644 -3.15019714]. \t  -34.03606528752739 \t -14.062552077861405\n",
            "19     \t [-0.58138831  1.40835278]. \t  -39.42955173423669 \t -14.062552077861405\n",
            "20     \t [-1.97108514 -1.33868121]. \t  -21.129945949724842 \t -14.062552077861405\n"
          ]
        }
      ]
    },
    {
      "cell_type": "code",
      "metadata": {
        "id": "k6GjFBr1JTJf",
        "colab": {
          "base_uri": "https://localhost:8080/"
        },
        "outputId": "8cf8acbe-5adf-4ebd-9a3e-bec305733f62"
      },
      "source": [
        "### EXACT GP EI GRADIENTS\n",
        "\n",
        "np.random.seed(run_num_14)\n",
        "surrogate_exact_14 = dGaussianProcess(cov_func, optimize=opt)\n",
        "\n",
        "exact_14 = dGPGO(surrogate_exact_14, Acquisition_new(util_grad_exact), objfunc, param)\n",
        "exact_14.run(init_evals=n_init, max_iter=iters)\n"
      ],
      "execution_count": 47,
      "outputs": [
        {
          "output_type": "stream",
          "name": "stdout",
          "text": [
            "Evaluation \t Proposed point \t  Current eval. \t Best eval.\n",
            "init   \t [0.14277984 2.79721013]. \t  -18.683085263052178 \t -10.423838604848608\n",
            "init   \t [ 3.7931795  -5.03759925]. \t  -47.36348784446708 \t -10.423838604848608\n",
            "init   \t [-1.94830412  4.68586229]. \t  -40.19779334078636 \t -10.423838604848608\n",
            "init   \t [ 0.13431513 -1.86076749]. \t  -10.423838604848608 \t -10.423838604848608\n",
            "init   \t [ 0.40140736 -2.85434939]. \t  -30.353548735049138 \t -10.423838604848608\n",
            "1      \t [-4.59142601 -1.8849894 ]. \t  -45.52863937749002 \t -10.423838604848608\n",
            "2      \t [4.45447136 5.0693151 ]. \t  -66.06737825732168 \t -10.423838604848608\n",
            "3      \t [ 4.05613117 -0.60511194]. \t  -35.33110283530699 \t -10.423838604848608\n",
            "4      \t [-4.13996426  2.0173977 ]. \t  -24.8929147960931 \t -10.423838604848608\n",
            "5      \t [-1.25061955 -0.27444899]. \t  -23.20843963797752 \t -10.423838604848608\n",
            "6      \t [2.81262073 1.51448514]. \t  -36.32927127182043 \t -10.423838604848608\n",
            "7      \t [1.52626351 4.96418392]. \t  -47.08890155320673 \t -10.423838604848608\n",
            "8      \t [-2.63079639 -4.52221287]. \t  -64.08317014100604 \t -10.423838604848608\n",
            "9      \t [-4.75749042  4.3569495 ]. \t  -67.37165572225047 \t -10.423838604848608\n",
            "10     \t [4.73868303 2.83823096]. \t  -45.957049004044805 \t -10.423838604848608\n",
            "11     \t [ 1.17143088 -1.10780854]. \t  \u001b[92m-10.068762645225934\u001b[0m \t -10.068762645225934\n",
            "12     \t [-4.71228597 -5.05088139]. \t  -60.57126353145673 \t -10.068762645225934\n",
            "13     \t [ 1.14495034 -5.11225335]. \t  -33.70039499301485 \t -10.068762645225934\n",
            "14     \t [0.66658604 0.66459476]. \t  -31.00272327649582 \t -10.068762645225934\n",
            "15     \t [ 3.8556968  -2.51818862]. \t  -44.97883472969356 \t -10.068762645225934\n",
            "16     \t [-1.83487695 -1.57078664]. \t  -29.777501895232355 \t -10.068762645225934\n",
            "17     \t [-2.80108362  0.52410986]. \t  -34.85138735719897 \t -10.068762645225934\n",
            "18     \t [ 1.86855426 -0.82792986]. \t  -12.694841164450658 \t -10.068762645225934\n",
            "19     \t [-0.64141099  2.68003471]. \t  -38.15549376639807 \t -10.068762645225934\n",
            "20     \t [ 5.00788372 -3.79145698]. \t  -46.89084916502436 \t -10.068762645225934\n"
          ]
        }
      ]
    },
    {
      "cell_type": "code",
      "metadata": {
        "id": "dPS8WB3aJTN6",
        "colab": {
          "base_uri": "https://localhost:8080/"
        },
        "outputId": "7621756c-201d-4359-bce6-28fe730bb4e9"
      },
      "source": [
        "### EXACT GP EI GRADIENTS\n",
        "\n",
        "np.random.seed(run_num_15)\n",
        "surrogate_exact_15 = dGaussianProcess(cov_func, optimize=opt)\n",
        "\n",
        "exact_15 = dGPGO(surrogate_exact_15, Acquisition_new(util_grad_exact), objfunc, param)\n",
        "exact_15.run(init_evals=n_init, max_iter=iters)\n"
      ],
      "execution_count": 48,
      "outputs": [
        {
          "output_type": "stream",
          "name": "stdout",
          "text": [
            "Evaluation \t Proposed point \t  Current eval. \t Best eval.\n",
            "init   \t [ 3.57189322 -3.28810573]. \t  -54.938487770767075 \t -7.990765314336182\n",
            "init   \t [-4.56332069 -1.41784631]. \t  -60.750198753157726 \t -7.990765314336182\n",
            "init   \t [-2.29989449  0.3072023 ]. \t  -31.984997246800887 \t -7.990765314336182\n",
            "init   \t [-1.9873903  -2.00218256]. \t  -7.990765314336182 \t -7.990765314336182\n",
            "init   \t [-3.97576933 -2.5610341 ]. \t  -41.754957769694336 \t -7.990765314336182\n",
            "1      \t [2.7754098  2.98802689]. \t  -25.069717172883625 \t -7.990765314336182\n",
            "2      \t [-4.96635744  4.09320867]. \t  -43.30810083468987 \t -7.990765314336182\n",
            "3      \t [-1.61121277 -4.75005898]. \t  -52.811697933221474 \t -7.990765314336182\n",
            "4      \t [ 1.26414094 -0.45894939]. \t  -32.36522413645861 \t -7.990765314336182\n",
            "5      \t [ 4.00827947 -0.26749596]. \t  -27.248476988117663 \t -7.990765314336182\n",
            "6      \t [0.31454967 5.0797233 ]. \t  -41.076596473415364 \t -7.990765314336182\n",
            "7      \t [-0.27351078  2.79436178]. \t  -26.60374402157178 \t -7.990765314336182\n",
            "8      \t [-4.97543626  1.31695394]. \t  -40.69204874492209 \t -7.990765314336182\n",
            "9      \t [4.96192824 1.83667299]. \t  -33.098239669444546 \t -7.990765314336182\n",
            "10     \t [-4.91718504 -4.7733432 ]. \t  -56.825577468132344 \t -7.990765314336182\n",
            "11     \t [-2.52842159  2.80871278]. \t  -40.51682843349194 \t -7.990765314336182\n",
            "12     \t [ 1.39675968 -4.08074655]. \t  -37.831888201924485 \t -7.990765314336182\n",
            "13     \t [5.08622275 4.05094317]. \t  -44.21965856118919 \t -7.990765314336182\n",
            "14     \t [-2.69025884  4.88419206]. \t  -47.29150088660377 \t -7.990765314336182\n",
            "15     \t [2.580828   4.62472644]. \t  -63.86986451255649 \t -7.990765314336182\n",
            "16     \t [2.02154316 1.285709  ]. \t  -18.056041283512073 \t -7.990765314336182\n",
            "17     \t [-2.24746537 -2.09234274]. \t  -20.90625560892017 \t -7.990765314336182\n",
            "18     \t [-1.02085595 -1.1252844 ]. \t  \u001b[92m-5.335727912739882\u001b[0m \t -5.335727912739882\n",
            "19     \t [-1.49916824 -1.098664  ]. \t  -25.31520658182655 \t -5.335727912739882\n",
            "20     \t [-0.30095755 -0.13472174]. \t  -16.629835837389006 \t -5.335727912739882\n"
          ]
        }
      ]
    },
    {
      "cell_type": "code",
      "metadata": {
        "id": "SHWdp2giJTRm",
        "colab": {
          "base_uri": "https://localhost:8080/"
        },
        "outputId": "88a0ec9b-f671-4cd4-c5f7-d171db0baa57"
      },
      "source": [
        "### EXACT GP EI GRADIENTS\n",
        "\n",
        "np.random.seed(run_num_16)\n",
        "surrogate_exact_16 = dGaussianProcess(cov_func, optimize=opt)\n",
        "\n",
        "exact_16 = dGPGO(surrogate_exact_16, Acquisition_new(util_grad_exact), objfunc, param)\n",
        "exact_16.run(init_evals=n_init, max_iter=iters)\n"
      ],
      "execution_count": 49,
      "outputs": [
        {
          "output_type": "stream",
          "name": "stdout",
          "text": [
            "Evaluation \t Proposed point \t  Current eval. \t Best eval.\n",
            "init   \t [-2.83349935  0.23719262]. \t  -22.27210456874814 \t -22.27210456874814\n",
            "init   \t [ 0.51918292 -4.65303603]. \t  -57.57021076017139 \t -22.27210456874814\n",
            "init   \t [-1.42613673 -2.83565116]. \t  -33.89145899403749 \t -22.27210456874814\n",
            "init   \t [ 1.9325559  -3.44339021]. \t  -35.85029586225333 \t -22.27210456874814\n",
            "init   \t [-4.39987336  4.51595121]. \t  -77.78800881964571 \t -22.27210456874814\n",
            "1      \t [2.142749   4.83374619]. \t  -36.69381850109535 \t -22.27210456874814\n",
            "2      \t [4.72424646 1.54809781]. \t  -55.87301984423711 \t -22.27210456874814\n",
            "3      \t [ 1.29434241 -0.04481114]. \t  \u001b[92m-14.821300046342763\u001b[0m \t -14.821300046342763\n",
            "4      \t [-4.97015942 -2.85418361]. \t  -36.93564542410377 \t -14.821300046342763\n",
            "5      \t [-1.13936227  2.77999621]. \t  -20.747883100142108 \t -14.821300046342763\n",
            "6      \t [ 4.7626215  -3.77763161]. \t  -54.43342635888568 \t -14.821300046342763\n",
            "7      \t [ 3.8323042  -0.83837747]. \t  -25.17362087072734 \t -14.821300046342763\n",
            "8      \t [-0.57849287 -0.11242613]. \t  -21.548513780398935 \t -14.821300046342763\n",
            "9      \t [-1.01182734  3.93412449]. \t  -17.3731693332972 \t -14.821300046342763\n",
            "10     \t [-4.90896371  0.53601738]. \t  -45.72205134342068 \t -14.821300046342763\n",
            "11     \t [-2.94659528 -5.09418905]. \t  -36.89155973294204 \t -14.821300046342763\n",
            "12     \t [3.1173757  3.22247123]. \t  -30.979715279376688 \t -14.821300046342763\n",
            "13     \t [1.28454305 0.92606749]. \t  -15.720741213955892 \t -14.821300046342763\n",
            "14     \t [-0.81572369  5.04124348]. \t  -32.40026632629233 \t -14.821300046342763\n",
            "15     \t [0.47064904 1.88868084]. \t  -25.967022771182243 \t -14.821300046342763\n",
            "16     \t [4.36333111 4.01234906]. \t  -51.70179090351799 \t -14.821300046342763\n",
            "17     \t [-3.48757836  1.83377349]. \t  -40.47155488214405 \t -14.821300046342763\n",
            "18     \t [-3.95558343 -1.10122828]. \t  -19.201677229963146 \t -14.821300046342763\n",
            "19     \t [ 1.16122148 -1.70645556]. \t  -21.66908708644381 \t -14.821300046342763\n",
            "20     \t [-2.07045651  5.04344773]. \t  -31.057444279277775 \t -14.821300046342763\n"
          ]
        }
      ]
    },
    {
      "cell_type": "code",
      "metadata": {
        "id": "yU2SflSsJTUs",
        "colab": {
          "base_uri": "https://localhost:8080/"
        },
        "outputId": "d48c26b8-3749-4d1d-db7c-bd0f24f643c9"
      },
      "source": [
        "### EXACT GP EI GRADIENTS\n",
        "\n",
        "np.random.seed(run_num_17)\n",
        "surrogate_exact_17 = dGaussianProcess(cov_func, optimize=opt)\n",
        "\n",
        "exact_17 = dGPGO(surrogate_exact_17, Acquisition_new(util_grad_exact), objfunc, param)\n",
        "exact_17.run(init_evals=n_init, max_iter=iters)\n"
      ],
      "execution_count": 50,
      "outputs": [
        {
          "output_type": "stream",
          "name": "stdout",
          "text": [
            "Evaluation \t Proposed point \t  Current eval. \t Best eval.\n",
            "init   \t [-2.10263037  0.31320838]. \t  -20.395145364684023 \t -20.395145364684023\n",
            "init   \t [-3.15882714 -4.42470033]. \t  -53.03732051200137 \t -20.395145364684023\n",
            "init   \t [2.93873111 1.60085526]. \t  -29.989224812583537 \t -20.395145364684023\n",
            "init   \t [1.40821398 0.77417363]. \t  -29.451989415882437 \t -20.395145364684023\n",
            "init   \t [-4.71999574 -1.45598869]. \t  -55.89242173757483 \t -20.395145364684023\n",
            "1      \t [ 4.96008736 -4.44720822]. \t  -64.14783177084814 \t -20.395145364684023\n",
            "2      \t [-1.95646705  4.77829278]. \t  -35.26326039091227 \t -20.395145364684023\n",
            "3      \t [4.67136791 4.9849391 ]. \t  -61.45808001353926 \t -20.395145364684023\n",
            "4      \t [1.15317862 4.36036703]. \t  -41.0194980757328 \t -20.395145364684023\n",
            "5      \t [ 1.05508706 -5.02260241]. \t  -27.033462443777545 \t -20.395145364684023\n",
            "6      \t [-3.84962431  2.03633574]. \t  -23.36701542344742 \t -20.395145364684023\n",
            "7      \t [ 4.47625606 -0.48216844]. \t  -60.095578261440174 \t -20.395145364684023\n",
            "8      \t [ 1.90842139 -1.91780741]. \t  \u001b[92m-10.234470848293276\u001b[0m \t -10.234470848293276\n",
            "9      \t [-4.74183124  3.73358535]. \t  -57.967191539516 \t -10.234470848293276\n",
            "10     \t [-1.26591508 -2.86984791]. \t  -23.998374494632728 \t -10.234470848293276\n",
            "11     \t [-5.09612546 -4.72352632]. \t  -61.70707416361414 \t -10.234470848293276\n",
            "12     \t [-0.92063553  2.47270084]. \t  -28.032840094251462 \t -10.234470848293276\n",
            "13     \t [4.4193911  2.23834366]. \t  -52.55403705281154 \t -10.234470848293276\n",
            "14     \t [ 2.23296367 -1.96990233]. \t  -17.97653978955331 \t -10.234470848293276\n",
            "15     \t [ 0.14072147 -3.15884524]. \t  -18.23947236999136 \t -10.234470848293276\n",
            "16     \t [ 3.46330126e-04 -4.53653487e-01]. \t  -19.78481501352794 \t -10.234470848293276\n",
            "17     \t [-0.52815608 -4.82619919]. \t  -48.808158982647875 \t -10.234470848293276\n",
            "18     \t [ 2.83705984 -5.017253  ]. \t  -38.07905057442265 \t -10.234470848293276\n",
            "19     \t [-0.30866664 -1.54521834]. \t  -35.68529831388826 \t -10.234470848293276\n",
            "20     \t [-3.61340175  0.01558679]. \t  -30.67197379698198 \t -10.234470848293276\n"
          ]
        }
      ]
    },
    {
      "cell_type": "code",
      "metadata": {
        "id": "es0KCh_0JTgY",
        "colab": {
          "base_uri": "https://localhost:8080/"
        },
        "outputId": "68b9ad00-88e0-48de-e197-d750a7727e79"
      },
      "source": [
        "### EXACT GP EI GRADIENTS\n",
        "\n",
        "np.random.seed(run_num_18)\n",
        "surrogate_exact_18 = dGaussianProcess(cov_func, optimize=opt)\n",
        "\n",
        "exact_18 = dGPGO(surrogate_exact_18, Acquisition_new(util_grad_exact), objfunc, param)\n",
        "exact_18.run(init_evals=n_init, max_iter=iters)\n"
      ],
      "execution_count": 51,
      "outputs": [
        {
          "output_type": "stream",
          "name": "stdout",
          "text": [
            "Evaluation \t Proposed point \t  Current eval. \t Best eval.\n",
            "init   \t [1.53983224 0.05584255]. \t  -22.67190580753611 \t -22.67190580753611\n",
            "init   \t [ 3.87687906 -3.25795609]. \t  -38.990099416711985 \t -22.67190580753611\n",
            "init   \t [3.60686662 2.56139557]. \t  -56.66448698782129 \t -22.67190580753611\n",
            "init   \t [1.70088108 4.99604939]. \t  -40.894059318256296 \t -22.67190580753611\n",
            "init   \t [-2.48864335 -4.83014733]. \t  -54.6725749848372 \t -22.67190580753611\n",
            "1      \t [-5.00718904  2.9174042 ]. \t  -34.91005808676357 \t -22.67190580753611\n",
            "2      \t [-3.10840374 -1.1627454 ]. \t  \u001b[92m-18.033643246322953\u001b[0m \t -18.033643246322953\n",
            "3      \t [-2.63314497  1.68476235]. \t  -40.45715175731926 \t -18.033643246322953\n",
            "4      \t [-2.79325972  4.80061502]. \t  -45.03656350615789 \t -18.033643246322953\n",
            "5      \t [ 0.66579718 -1.88860731]. \t  -21.408300588612875 \t -18.033643246322953\n",
            "6      \t [ 0.36025962 -4.88062694]. \t  -43.0205114135131 \t -18.033643246322953\n",
            "7      \t [-5.03124186 -4.70664013]. \t  -60.348707396200425 \t -18.033643246322953\n",
            "8      \t [4.54745174 5.04751857]. \t  -66.1579953768757 \t -18.033643246322953\n",
            "9      \t [-4.93930874 -1.94720649]. \t  -29.451831580660155 \t -18.033643246322953\n",
            "10     \t [-0.22182745  4.26609176]. \t  -37.497196080869216 \t -18.033643246322953\n",
            "11     \t [-1.30782633 -0.24623573]. \t  -25.088469195388353 \t -18.033643246322953\n",
            "12     \t [ 4.45892611 -0.73057619]. \t  -51.302001171241876 \t -18.033643246322953\n",
            "13     \t [ 4.90666391 -4.67293393]. \t  -62.23773095124354 \t -18.033643246322953\n",
            "14     \t [-1.30245686 -1.90233548]. \t  -20.376334630438933 \t -18.033643246322953\n",
            "15     \t [-4.55177438 -0.13191537]. \t  -43.45432618350551 \t -18.033643246322953\n",
            "16     \t [-0.4415112   2.57011157]. \t  -45.177988310759424 \t -18.033643246322953\n",
            "17     \t [ 1.87155255 -3.2978538 ]. \t  -30.423937129843384 \t -18.033643246322953\n",
            "18     \t [ 2.37243642 -5.09177024]. \t  -50.12767798764779 \t -18.033643246322953\n",
            "19     \t [1.48257904 1.62284728]. \t  -41.93788823552083 \t -18.033643246322953\n",
            "20     \t [-0.89405029 -3.34833701]. \t  -29.93885059339417 \t -18.033643246322953\n"
          ]
        }
      ]
    },
    {
      "cell_type": "code",
      "metadata": {
        "id": "Pput2LHPIwBM",
        "colab": {
          "base_uri": "https://localhost:8080/"
        },
        "outputId": "db0fa74c-918f-4065-ebe9-bae0071bda53"
      },
      "source": [
        "### EXACT GP EI GRADIENTS\n",
        "\n",
        "np.random.seed(run_num_19)\n",
        "surrogate_exact_19 = dGaussianProcess(cov_func, optimize=opt)\n",
        "\n",
        "exact_19 = dGPGO(surrogate_exact_19, Acquisition_new(util_grad_exact), objfunc, param)\n",
        "exact_19.run(init_evals=n_init, max_iter=iters)\n"
      ],
      "execution_count": 52,
      "outputs": [
        {
          "output_type": "stream",
          "name": "stdout",
          "text": [
            "Evaluation \t Proposed point \t  Current eval. \t Best eval.\n",
            "init   \t [-4.12125592  2.6751971 ]. \t  -41.43485596167127 \t -25.867003842388073\n",
            "init   \t [-2.59135515 -3.70553152]. \t  -51.60126035043229 \t -25.867003842388073\n",
            "init   \t [-1.72598719 -4.27008445]. \t  -43.97430127029199 \t -25.867003842388073\n",
            "init   \t [1.76104531 3.13952049]. \t  -25.867003842388073 \t -25.867003842388073\n",
            "init   \t [4.9432772  1.38916592]. \t  -44.66580306903559 \t -25.867003842388073\n",
            "1      \t [ 4.82682643 -3.73084389]. \t  -53.77630571268805 \t -25.867003842388073\n",
            "2      \t [4.9503824  4.70220083]. \t  -60.0573807581701 \t -25.867003842388073\n",
            "3      \t [ 0.61235831 -1.55603036]. \t  -39.79273248664877 \t -25.867003842388073\n",
            "4      \t [-4.94044862 -0.9051206 ]. \t  -27.64410875834694 \t -25.867003842388073\n",
            "5      \t [-1.37898766  4.06424639]. \t  -36.46945392072736 \t -25.867003842388073\n",
            "6      \t [ 1.76796258 -3.89962683]. \t  -29.130187768230968 \t -25.867003842388073\n",
            "7      \t [0.41887317 1.86682628]. \t  \u001b[92m-25.690478218922028\u001b[0m \t -25.690478218922028\n",
            "8      \t [-2.02180314 -1.08000882]. \t  \u001b[92m-6.5849959950566515\u001b[0m \t -6.5849959950566515\n",
            "9      \t [-1.9554939  0.9203733]. \t  \u001b[92m-6.285152699598877\u001b[0m \t -6.285152699598877\n",
            "10     \t [ 4.42661615 -0.69908391]. \t  -52.18421560123268 \t -6.285152699598877\n",
            "11     \t [-1.61206158 -0.47405486]. \t  -40.31281090788239 \t -6.285152699598877\n",
            "12     \t [2.66129101 0.6074169 ]. \t  -40.54859616968473 \t -6.285152699598877\n",
            "13     \t [-2.8393863   1.05627428]. \t  -14.470773806643736 \t -6.285152699598877\n",
            "14     \t [-1.54946761  1.66280102]. \t  -39.8954557048366 \t -6.285152699598877\n",
            "15     \t [-3.14772077 -1.70726049]. \t  -29.483023783163887 \t -6.285152699598877\n",
            "16     \t [1.7095732  5.03359699]. \t  -40.99458463513272 \t -6.285152699598877\n",
            "17     \t [-4.82005523 -3.81336748]. \t  -49.63663759586329 \t -6.285152699598877\n",
            "18     \t [ 1.71719607 -5.10056385]. \t  -42.941787406894356 \t -6.285152699598877\n",
            "19     \t [0.33432602 0.4040828 ]. \t  -33.56725121120506 \t -6.285152699598877\n",
            "20     \t [-3.12245205  0.65573565]. \t  -28.57888132381457 \t -6.285152699598877\n"
          ]
        }
      ]
    },
    {
      "cell_type": "code",
      "metadata": {
        "id": "aw3xvSryIwDi",
        "colab": {
          "base_uri": "https://localhost:8080/"
        },
        "outputId": "99d19cdc-d607-486e-9fd1-71909c6b4dca"
      },
      "source": [
        "### EXACT GP EI GRADIENTS\n",
        "\n",
        "np.random.seed(run_num_20)\n",
        "surrogate_exact_20 = dGaussianProcess(cov_func, optimize=opt)\n",
        "\n",
        "exact_20 = dGPGO(surrogate_exact_20, Acquisition_new(util_grad_exact), objfunc, param)\n",
        "exact_20.run(init_evals=n_init, max_iter=iters)\n"
      ],
      "execution_count": 53,
      "outputs": [
        {
          "output_type": "stream",
          "name": "stdout",
          "text": [
            "Evaluation \t Proposed point \t  Current eval. \t Best eval.\n",
            "init   \t [0.9024594  4.07258857]. \t  -20.24255447774017 \t -17.388691338534382\n",
            "init   \t [4.00927467 3.23417577]. \t  -35.55852254546393 \t -17.388691338534382\n",
            "init   \t [-4.75249064  1.96359764]. \t  -36.54582989269194 \t -17.388691338534382\n",
            "init   \t [-1.24230715  0.18955208]. \t  -17.388691338534382 \t -17.388691338534382\n",
            "init   \t [ 1.61742301 -3.13497377]. \t  -33.22932870179905 \t -17.388691338534382\n",
            "1      \t [ 3.47645873 -0.39895658]. \t  -50.18719919444315 \t -17.388691338534382\n",
            "2      \t [-4.75610085 -3.8764158 ]. \t  -50.13017163581012 \t -17.388691338534382\n",
            "3      \t [-2.33560207  4.68357675]. \t  -56.56725650059704 \t -17.388691338534382\n",
            "4      \t [ 4.62624321 -2.85573979]. \t  -50.407261625058595 \t -17.388691338534382\n",
            "5      \t [-1.30458248 -3.00149432]. \t  -24.074029180129383 \t -17.388691338534382\n",
            "6      \t [ 2.7310245  -5.07496254]. \t  -45.49204941012098 \t -17.388691338534382\n",
            "7      \t [-4.00018829 -1.30076595]. \t  -30.829410265139643 \t -17.388691338534382\n",
            "8      \t [1.2346272  1.55994855]. \t  -32.29229790032559 \t -17.388691338534382\n",
            "9      \t [4.92323529 4.33184055]. \t  -59.06246126237229 \t -17.388691338534382\n",
            "10     \t [-1.67241103  1.59040093]. \t  -38.440326013093255 \t -17.388691338534382\n",
            "11     \t [ 5.11316294 -4.88092784]. \t  -55.06148040152972 \t -17.388691338534382\n",
            "12     \t [-4.45972891  4.76447717]. \t  -71.36263247821208 \t -17.388691338534382\n",
            "13     \t [4.72742238 1.84035768]. \t  -41.77204974429232 \t -17.388691338534382\n",
            "14     \t [0.17438897 4.59759915]. \t  -44.77216405925148 \t -17.388691338534382\n",
            "15     \t [ 0.12417296 -1.20320395]. \t  \u001b[92m-11.45730249788296\u001b[0m \t -11.45730249788296\n",
            "16     \t [-0.32444864 -4.69307083]. \t  -50.14036678815746 \t -11.45730249788296\n",
            "17     \t [2.14785356 3.83908419]. \t  -28.055824293420038 \t -11.45730249788296\n",
            "18     \t [-2.91307391 -4.33492784]. \t  -43.81892294816693 \t -11.45730249788296\n",
            "19     \t [-1.67427308 -1.13061961]. \t  -21.84500414803608 \t -11.45730249788296\n",
            "20     \t [-3.039431    0.31777371]. \t  -23.775271678611595 \t -11.45730249788296\n"
          ]
        }
      ]
    },
    {
      "cell_type": "code",
      "metadata": {
        "id": "qNqAB3vBTPqb",
        "colab": {
          "base_uri": "https://localhost:8080/"
        },
        "outputId": "70fd0382-5b6f-42d3-f82b-d5262e629d5c"
      },
      "source": [
        "end_exact = time.time()\n",
        "end_exact\n",
        "\n",
        "time_exact = end_exact - start_exact\n",
        "time_exact"
      ],
      "execution_count": 54,
      "outputs": [
        {
          "output_type": "execute_result",
          "data": {
            "text/plain": [
              "51.986690521240234"
            ]
          },
          "metadata": {},
          "execution_count": 54
        }
      ]
    },
    {
      "cell_type": "code",
      "metadata": {
        "id": "JPQzjdBZQxfg",
        "colab": {
          "base_uri": "https://localhost:8080/"
        },
        "outputId": "d9e7a9e2-9a4b-4458-8e73-f4bb89f390de"
      },
      "source": [
        "### Simple regret minimization: run number = 1\n",
        "\n",
        "approx_output_1 = np.append(np.min(approx_1.GP.y[0:n_init]),approx_1.GP.y[n_init:(n_init+iters)]) \n",
        "exact_output_1 = np.append(np.min(exact_1.GP.y[0:n_init]),exact_1.GP.y[n_init:(n_init+iters)]) \n",
        "\n",
        "regret_approx_1 = np.log(-approx_output_1 + y_global_orig)\n",
        "regret_exact_1 = np.log(-exact_output_1 + y_global_orig)\n",
        "\n",
        "simple_regret_approx_1 = min_max_array(regret_approx_1)\n",
        "simple_regret_exact_1 = min_max_array(regret_exact_1)\n",
        "\n",
        "min_simple_regret_approx_1 = min(simple_regret_approx_1)\n",
        "min_simple_regret_exact_1 = min(simple_regret_exact_1)\n",
        "\n",
        "min_simple_regret_approx_1, min_simple_regret_exact_1"
      ],
      "execution_count": 55,
      "outputs": [
        {
          "output_type": "execute_result",
          "data": {
            "text/plain": [
              "(2.428414417933715, 1.9239973350255477)"
            ]
          },
          "metadata": {},
          "execution_count": 55
        }
      ]
    },
    {
      "cell_type": "code",
      "metadata": {
        "id": "94yBw5tqQxfk",
        "colab": {
          "base_uri": "https://localhost:8080/"
        },
        "outputId": "fc833099-295c-4d84-bb4f-0f181d4cebdb"
      },
      "source": [
        "### Simple regret minimization: run number = 2\n",
        "\n",
        "approx_output_2 = np.append(np.min(approx_2.GP.y[0:n_init]),approx_2.GP.y[n_init:(n_init+iters)]) \n",
        "exact_output_2 = np.append(np.min(exact_2.GP.y[0:n_init]),exact_2.GP.y[n_init:(n_init+iters)]) \n",
        "\n",
        "regret_approx_2 = np.log(-approx_output_2 + y_global_orig)\n",
        "regret_exact_2 = np.log(-exact_output_2 + y_global_orig)\n",
        "\n",
        "simple_regret_approx_2 = min_max_array(regret_approx_2)\n",
        "simple_regret_exact_2 = min_max_array(regret_exact_2)\n",
        "\n",
        "min_simple_regret_approx_2 = min(simple_regret_approx_2)\n",
        "min_simple_regret_exact_2 = min(simple_regret_exact_2)\n",
        "\n",
        "min_simple_regret_approx_2, min_simple_regret_exact_2"
      ],
      "execution_count": 56,
      "outputs": [
        {
          "output_type": "execute_result",
          "data": {
            "text/plain": [
              "(2.7976303276454995, 3.1508233489268185)"
            ]
          },
          "metadata": {},
          "execution_count": 56
        }
      ]
    },
    {
      "cell_type": "code",
      "metadata": {
        "id": "Bu6SBWALQxfl",
        "colab": {
          "base_uri": "https://localhost:8080/"
        },
        "outputId": "88f242d6-b723-46dc-a4d5-409ff91a40f1"
      },
      "source": [
        "### Simple regret minimization: run number = 3\n",
        "\n",
        "approx_output_3 = np.append(np.min(approx_3.GP.y[0:n_init]),approx_3.GP.y[n_init:(n_init+iters)]) \n",
        "exact_output_3 = np.append(np.min(exact_3.GP.y[0:n_init]),exact_3.GP.y[n_init:(n_init+iters)]) \n",
        "\n",
        "regret_approx_3 = np.log(-approx_output_3 + y_global_orig)\n",
        "regret_exact_3 = np.log(-exact_output_3 + y_global_orig)\n",
        "\n",
        "simple_regret_approx_3 = min_max_array(regret_approx_3)\n",
        "simple_regret_exact_3 = min_max_array(regret_exact_3)\n",
        "\n",
        "min_simple_regret_approx_3 = min(simple_regret_approx_3)\n",
        "min_simple_regret_exact_3 = min(simple_regret_exact_3)\n",
        "\n",
        "min_simple_regret_approx_3, min_simple_regret_exact_3"
      ],
      "execution_count": 57,
      "outputs": [
        {
          "output_type": "execute_result",
          "data": {
            "text/plain": [
              "(2.80696530217626, 2.4459943811762916)"
            ]
          },
          "metadata": {},
          "execution_count": 57
        }
      ]
    },
    {
      "cell_type": "code",
      "metadata": {
        "id": "AZm0jgxkQxfm",
        "colab": {
          "base_uri": "https://localhost:8080/"
        },
        "outputId": "69639974-c715-4c51-f041-7af9df3b8ffc"
      },
      "source": [
        "### Simple regret minimization: run number = 4\n",
        "\n",
        "approx_output_4 = np.append(np.min(approx_4.GP.y[0:n_init]),approx_4.GP.y[n_init:(n_init+iters)]) \n",
        "exact_output_4 = np.append(np.min(exact_4.GP.y[0:n_init]),exact_4.GP.y[n_init:(n_init+iters)]) \n",
        "\n",
        "regret_approx_4 = np.log(-approx_output_4 + y_global_orig)\n",
        "regret_exact_4 = np.log(-exact_output_4 + y_global_orig)\n",
        "\n",
        "simple_regret_approx_4 = min_max_array(regret_approx_4)\n",
        "simple_regret_exact_4 = min_max_array(regret_exact_4)\n",
        "\n",
        "min_simple_regret_approx_4 = min(simple_regret_approx_4)\n",
        "min_simple_regret_exact_4 = min(simple_regret_exact_4)\n",
        "\n",
        "min_simple_regret_approx_4, min_simple_regret_exact_4"
      ],
      "execution_count": 58,
      "outputs": [
        {
          "output_type": "execute_result",
          "data": {
            "text/plain": [
              "(2.287179444120714, 2.4753236699221657)"
            ]
          },
          "metadata": {},
          "execution_count": 58
        }
      ]
    },
    {
      "cell_type": "code",
      "metadata": {
        "id": "NONPm8JIQxfn",
        "colab": {
          "base_uri": "https://localhost:8080/"
        },
        "outputId": "caa75bb0-7065-44c8-d43a-1a0ad437527f"
      },
      "source": [
        "### Simple regret minimization: run number = 5\n",
        "\n",
        "approx_output_5 = np.append(np.min(approx_5.GP.y[0:n_init]),approx_5.GP.y[n_init:(n_init+iters)]) \n",
        "exact_output_5 = np.append(np.min(exact_5.GP.y[0:n_init]),exact_5.GP.y[n_init:(n_init+iters)]) \n",
        "\n",
        "regret_approx_5 = np.log(-approx_output_5 + y_global_orig)\n",
        "regret_exact_5 = np.log(-exact_output_5 + y_global_orig)\n",
        "\n",
        "simple_regret_approx_5 = min_max_array(regret_approx_5)\n",
        "simple_regret_exact_5 = min_max_array(regret_exact_5)\n",
        "\n",
        "min_simple_regret_approx_5 = min(simple_regret_approx_5)\n",
        "min_simple_regret_exact_5 = min(simple_regret_exact_5)\n",
        "\n",
        "min_simple_regret_approx_5, min_simple_regret_exact_5"
      ],
      "execution_count": 59,
      "outputs": [
        {
          "output_type": "execute_result",
          "data": {
            "text/plain": [
              "(2.097415431335847, 2.4025366647824087)"
            ]
          },
          "metadata": {},
          "execution_count": 59
        }
      ]
    },
    {
      "cell_type": "code",
      "metadata": {
        "id": "CJv3lPuSQxfp",
        "colab": {
          "base_uri": "https://localhost:8080/"
        },
        "outputId": "0c9e800b-7ff9-47cd-ca5f-4bb61adb1b0b"
      },
      "source": [
        "### Simple regret minimization: run number = 6\n",
        "\n",
        "approx_output_6 = np.append(np.min(approx_6.GP.y[0:n_init]),approx_6.GP.y[n_init:(n_init+iters)]) \n",
        "exact_output_6 = np.append(np.min(exact_6.GP.y[0:n_init]),exact_6.GP.y[n_init:(n_init+iters)]) \n",
        "\n",
        "regret_approx_6 = np.log(-approx_output_6 + y_global_orig)\n",
        "regret_exact_6 = np.log(-exact_output_6 + y_global_orig)\n",
        "\n",
        "simple_regret_approx_6 = min_max_array(regret_approx_6)\n",
        "simple_regret_exact_6 = min_max_array(regret_exact_6)\n",
        "\n",
        "min_simple_regret_approx_6 = min(simple_regret_approx_6)\n",
        "min_simple_regret_exact_6 = min(simple_regret_exact_6)\n",
        "\n",
        "min_simple_regret_approx_6, min_simple_regret_exact_6"
      ],
      "execution_count": 60,
      "outputs": [
        {
          "output_type": "execute_result",
          "data": {
            "text/plain": [
              "(2.305694655903746, 2.7196191692674465)"
            ]
          },
          "metadata": {},
          "execution_count": 60
        }
      ]
    },
    {
      "cell_type": "code",
      "metadata": {
        "id": "quR2ZyApQxfq",
        "colab": {
          "base_uri": "https://localhost:8080/"
        },
        "outputId": "37bec3a7-b9a9-48fd-a5a3-9f2640365458"
      },
      "source": [
        "### Simple regret minimization: run number = 7\n",
        "\n",
        "approx_output_7 = np.append(np.min(approx_7.GP.y[0:n_init]),approx_7.GP.y[n_init:(n_init+iters)]) \n",
        "exact_output_7 = np.append(np.min(exact_7.GP.y[0:n_init]),exact_7.GP.y[n_init:(n_init+iters)]) \n",
        "\n",
        "regret_approx_7 = np.log(-approx_output_7 + y_global_orig)\n",
        "regret_exact_7 = np.log(-exact_output_7 + y_global_orig)\n",
        "\n",
        "simple_regret_approx_7 = min_max_array(regret_approx_7)\n",
        "simple_regret_exact_7 = min_max_array(regret_exact_7)\n",
        "\n",
        "min_simple_regret_approx_7 = min(simple_regret_approx_7)\n",
        "min_simple_regret_exact_7 = min(simple_regret_exact_7)\n",
        "\n",
        "min_simple_regret_approx_7, min_simple_regret_exact_7"
      ],
      "execution_count": 61,
      "outputs": [
        {
          "output_type": "execute_result",
          "data": {
            "text/plain": [
              "(2.6518817974585294, 2.2668805135611825)"
            ]
          },
          "metadata": {},
          "execution_count": 61
        }
      ]
    },
    {
      "cell_type": "code",
      "metadata": {
        "id": "99wY5nK6Qxfr",
        "colab": {
          "base_uri": "https://localhost:8080/"
        },
        "outputId": "62334d15-5971-4b7d-d4a7-c15847100a15"
      },
      "source": [
        "### Simple regret minimization: run number = 8\n",
        "\n",
        "approx_output_8 = np.append(np.min(approx_8.GP.y[0:n_init]),approx_8.GP.y[n_init:(n_init+iters)]) \n",
        "exact_output_8 = np.append(np.min(exact_8.GP.y[0:n_init]),exact_8.GP.y[n_init:(n_init+iters)]) \n",
        "\n",
        "regret_approx_8 = np.log(-approx_output_8 + y_global_orig)\n",
        "regret_exact_8 = np.log(-exact_output_8 + y_global_orig)\n",
        "\n",
        "simple_regret_approx_8 = min_max_array(regret_approx_8)\n",
        "simple_regret_exact_8 = min_max_array(regret_exact_8)\n",
        "\n",
        "min_simple_regret_approx_8 = min(simple_regret_approx_8)\n",
        "min_simple_regret_exact_8 = min(simple_regret_exact_8)\n",
        "\n",
        "min_simple_regret_approx_8, min_simple_regret_exact_8"
      ],
      "execution_count": 62,
      "outputs": [
        {
          "output_type": "execute_result",
          "data": {
            "text/plain": [
              "(2.6985195431387656, 2.9857781168739805)"
            ]
          },
          "metadata": {},
          "execution_count": 62
        }
      ]
    },
    {
      "cell_type": "code",
      "metadata": {
        "id": "qt0P5t9qQxfs",
        "colab": {
          "base_uri": "https://localhost:8080/"
        },
        "outputId": "230dde82-6d61-4518-c689-67e286890a3a"
      },
      "source": [
        "### Simple regret minimization: run number = 9\n",
        "\n",
        "approx_output_9 = np.append(np.min(approx_9.GP.y[0:n_init]),approx_9.GP.y[n_init:(n_init+iters)]) \n",
        "exact_output_9 = np.append(np.min(exact_9.GP.y[0:n_init]),exact_9.GP.y[n_init:(n_init+iters)]) \n",
        "\n",
        "regret_approx_9 = np.log(-approx_output_9 + y_global_orig)\n",
        "regret_exact_9 = np.log(-exact_output_9 + y_global_orig)\n",
        "\n",
        "simple_regret_approx_9 = min_max_array(regret_approx_9)\n",
        "simple_regret_exact_9 = min_max_array(regret_exact_9)\n",
        "\n",
        "min_simple_regret_approx_9 = min(simple_regret_approx_9)\n",
        "min_simple_regret_exact_9 = min(simple_regret_exact_9)\n",
        "\n",
        "min_simple_regret_approx_9, min_simple_regret_exact_9"
      ],
      "execution_count": 63,
      "outputs": [
        {
          "output_type": "execute_result",
          "data": {
            "text/plain": [
              "(2.567441283581772, 3.2318734956276787)"
            ]
          },
          "metadata": {},
          "execution_count": 63
        }
      ]
    },
    {
      "cell_type": "code",
      "metadata": {
        "id": "vx8to9stQxft",
        "colab": {
          "base_uri": "https://localhost:8080/"
        },
        "outputId": "a3afd5af-068a-483e-a3c7-1597762d1116"
      },
      "source": [
        "### Simple regret minimization: run number = 10\n",
        "\n",
        "approx_output_10 = np.append(np.min(approx_10.GP.y[0:n_init]),approx_10.GP.y[n_init:(n_init+iters)]) \n",
        "exact_output_10 = np.append(np.min(exact_10.GP.y[0:n_init]),exact_10.GP.y[n_init:(n_init+iters)]) \n",
        "\n",
        "regret_approx_10 = np.log(-approx_output_10 + y_global_orig)\n",
        "regret_exact_10 = np.log(-exact_output_10 + y_global_orig)\n",
        "\n",
        "simple_regret_approx_10 = min_max_array(regret_approx_10)\n",
        "simple_regret_exact_10 = min_max_array(regret_exact_10)\n",
        "\n",
        "min_simple_regret_approx_10 = min(simple_regret_approx_10)\n",
        "min_simple_regret_exact_10 = min(simple_regret_exact_10)\n",
        "\n",
        "min_simple_regret_approx_10, min_simple_regret_exact_10"
      ],
      "execution_count": 64,
      "outputs": [
        {
          "output_type": "execute_result",
          "data": {
            "text/plain": [
              "(2.5241876948704935, 2.86369442569697)"
            ]
          },
          "metadata": {},
          "execution_count": 64
        }
      ]
    },
    {
      "cell_type": "code",
      "metadata": {
        "id": "d-FGzWyHQxfu",
        "colab": {
          "base_uri": "https://localhost:8080/"
        },
        "outputId": "8f4a0137-2809-4b9e-8d2f-dc1015080e17"
      },
      "source": [
        "### Simple regret minimization: run number = 11\n",
        "\n",
        "approx_output_11 = np.append(np.min(approx_11.GP.y[0:n_init]),approx_11.GP.y[n_init:(n_init+iters)]) \n",
        "exact_output_11 = np.append(np.min(exact_11.GP.y[0:n_init]),exact_11.GP.y[n_init:(n_init+iters)]) \n",
        "\n",
        "regret_approx_11 = np.log(-approx_output_11 + y_global_orig)\n",
        "regret_exact_11 = np.log(-exact_output_11 + y_global_orig)\n",
        "\n",
        "simple_regret_approx_11 = min_max_array(regret_approx_11)\n",
        "simple_regret_exact_11 = min_max_array(regret_exact_11)\n",
        "\n",
        "min_simple_regret_approx_11 = min(simple_regret_approx_11)\n",
        "min_simple_regret_exact_11 = min(simple_regret_exact_11)\n",
        "\n",
        "min_simple_regret_approx_11, min_simple_regret_exact_11"
      ],
      "execution_count": 65,
      "outputs": [
        {
          "output_type": "execute_result",
          "data": {
            "text/plain": [
              "(2.489162504120838, 2.8804515696610498)"
            ]
          },
          "metadata": {},
          "execution_count": 65
        }
      ]
    },
    {
      "cell_type": "code",
      "metadata": {
        "id": "SvtsssyjQxfv",
        "colab": {
          "base_uri": "https://localhost:8080/"
        },
        "outputId": "663828c2-e6ed-44a7-c9e3-f1768b21fed4"
      },
      "source": [
        "### Simple regret minimization: run number = 12\n",
        "\n",
        "approx_output_12 = np.append(np.min(approx_12.GP.y[0:n_init]),approx_12.GP.y[n_init:(n_init+iters)]) \n",
        "exact_output_12 = np.append(np.min(exact_12.GP.y[0:n_init]),exact_12.GP.y[n_init:(n_init+iters)]) \n",
        "\n",
        "regret_approx_12 = np.log(-approx_output_12 + y_global_orig)\n",
        "regret_exact_12 = np.log(-exact_output_12 + y_global_orig)\n",
        "\n",
        "simple_regret_approx_12 = min_max_array(regret_approx_12)\n",
        "simple_regret_exact_12 = min_max_array(regret_exact_12)\n",
        "\n",
        "min_simple_regret_approx_12 = min(simple_regret_approx_12)\n",
        "min_simple_regret_exact_12 = min(simple_regret_exact_12)\n",
        "\n",
        "min_simple_regret_approx_12, min_simple_regret_exact_12"
      ],
      "execution_count": 66,
      "outputs": [
        {
          "output_type": "execute_result",
          "data": {
            "text/plain": [
              "(2.1667236180810416, 2.280411315973403)"
            ]
          },
          "metadata": {},
          "execution_count": 66
        }
      ]
    },
    {
      "cell_type": "code",
      "metadata": {
        "id": "K6OiGcHkQxfw",
        "colab": {
          "base_uri": "https://localhost:8080/"
        },
        "outputId": "f7847d76-f9ee-499b-df6c-1233d865d1bb"
      },
      "source": [
        "### Simple regret minimization: run number = 13\n",
        "\n",
        "approx_output_13 = np.append(np.min(approx_13.GP.y[0:n_init]),approx_13.GP.y[n_init:(n_init+iters)]) \n",
        "exact_output_13 = np.append(np.min(exact_13.GP.y[0:n_init]),exact_13.GP.y[n_init:(n_init+iters)]) \n",
        "\n",
        "regret_approx_13 = np.log(-approx_output_13 + y_global_orig)\n",
        "regret_exact_13 = np.log(-exact_output_13 + y_global_orig)\n",
        "\n",
        "simple_regret_approx_13 = min_max_array(regret_approx_13)\n",
        "simple_regret_exact_13 = min_max_array(regret_exact_13)\n",
        "\n",
        "min_simple_regret_approx_13 = min(simple_regret_approx_13)\n",
        "min_simple_regret_exact_13 = min(simple_regret_exact_13)\n",
        "\n",
        "min_simple_regret_approx_13, min_simple_regret_exact_13"
      ],
      "execution_count": 67,
      "outputs": [
        {
          "output_type": "execute_result",
          "data": {
            "text/plain": [
              "(2.763745217817617, 2.6435153832723706)"
            ]
          },
          "metadata": {},
          "execution_count": 67
        }
      ]
    },
    {
      "cell_type": "code",
      "metadata": {
        "id": "ogML73shQxfx",
        "colab": {
          "base_uri": "https://localhost:8080/"
        },
        "outputId": "2729d532-2bad-4a12-ed56-509a82616354"
      },
      "source": [
        "### Simple regret minimization: run number = 14\n",
        "\n",
        "approx_output_14 = np.append(np.min(approx_14.GP.y[0:n_init]),approx_14.GP.y[n_init:(n_init+iters)]) \n",
        "exact_output_14 = np.append(np.min(exact_14.GP.y[0:n_init]),exact_14.GP.y[n_init:(n_init+iters)]) \n",
        "\n",
        "regret_approx_14 = np.log(-approx_output_14 + y_global_orig)\n",
        "regret_exact_14 = np.log(-exact_output_14 + y_global_orig)\n",
        "\n",
        "simple_regret_approx_14 = min_max_array(regret_approx_14)\n",
        "simple_regret_exact_14 = min_max_array(regret_exact_14)\n",
        "\n",
        "min_simple_regret_approx_14 = min(simple_regret_approx_14)\n",
        "min_simple_regret_exact_14 = min(simple_regret_exact_14)\n",
        "\n",
        "min_simple_regret_approx_14, min_simple_regret_exact_14"
      ],
      "execution_count": 68,
      "outputs": [
        {
          "output_type": "execute_result",
          "data": {
            "text/plain": [
              "(2.5466824976248654, 2.3094378238307196)"
            ]
          },
          "metadata": {},
          "execution_count": 68
        }
      ]
    },
    {
      "cell_type": "code",
      "metadata": {
        "id": "9Eg7gFT9Qxfx",
        "colab": {
          "base_uri": "https://localhost:8080/"
        },
        "outputId": "e781e25a-a726-4922-fb0a-5f1744a31a2b"
      },
      "source": [
        "### Simple regret minimization: run number = 15\n",
        "\n",
        "approx_output_15 = np.append(np.min(approx_15.GP.y[0:n_init]),approx_15.GP.y[n_init:(n_init+iters)]) \n",
        "exact_output_15 = np.append(np.min(exact_15.GP.y[0:n_init]),exact_15.GP.y[n_init:(n_init+iters)]) \n",
        "\n",
        "regret_approx_15 = np.log(-approx_output_15 + y_global_orig)\n",
        "regret_exact_15 = np.log(-exact_output_15 + y_global_orig)\n",
        "\n",
        "simple_regret_approx_15 = min_max_array(regret_approx_15)\n",
        "simple_regret_exact_15 = min_max_array(regret_exact_15)\n",
        "\n",
        "min_simple_regret_approx_15 = min(simple_regret_approx_15)\n",
        "min_simple_regret_exact_15 = min(simple_regret_exact_15)\n",
        "\n",
        "min_simple_regret_approx_15, min_simple_regret_exact_15"
      ],
      "execution_count": 69,
      "outputs": [
        {
          "output_type": "execute_result",
          "data": {
            "text/plain": [
              "(3.074015861660149, 1.674425316447405)"
            ]
          },
          "metadata": {},
          "execution_count": 69
        }
      ]
    },
    {
      "cell_type": "code",
      "metadata": {
        "id": "lIAC1U7ZQxfy",
        "colab": {
          "base_uri": "https://localhost:8080/"
        },
        "outputId": "24cb5df0-d262-4e1a-ab98-0ea46d34b9fa"
      },
      "source": [
        "### Simple regret minimization: run number = 16\n",
        "\n",
        "approx_output_16 = np.append(np.min(approx_16.GP.y[0:n_init]),approx_16.GP.y[n_init:(n_init+iters)]) \n",
        "exact_output_16 = np.append(np.min(exact_16.GP.y[0:n_init]),exact_16.GP.y[n_init:(n_init+iters)]) \n",
        "\n",
        "regret_approx_16 = np.log(-approx_output_16 + y_global_orig)\n",
        "regret_exact_16 = np.log(-exact_output_16 + y_global_orig)\n",
        "\n",
        "simple_regret_approx_16 = min_max_array(regret_approx_16)\n",
        "simple_regret_exact_16 = min_max_array(regret_exact_16)\n",
        "\n",
        "min_simple_regret_approx_16 = min(simple_regret_approx_16)\n",
        "min_simple_regret_exact_16 = min(simple_regret_exact_16)\n",
        "\n",
        "min_simple_regret_approx_16, min_simple_regret_exact_16"
      ],
      "execution_count": 70,
      "outputs": [
        {
          "output_type": "execute_result",
          "data": {
            "text/plain": [
              "(0.7562202428562653, 2.6960653384458415)"
            ]
          },
          "metadata": {},
          "execution_count": 70
        }
      ]
    },
    {
      "cell_type": "code",
      "metadata": {
        "id": "bGott36OQxfz",
        "colab": {
          "base_uri": "https://localhost:8080/"
        },
        "outputId": "33bd8523-18e6-4834-93b2-a6594d229b60"
      },
      "source": [
        "### Simple regret minimization: run number = 17\n",
        "\n",
        "approx_output_17 = np.append(np.min(approx_17.GP.y[0:n_init]),approx_17.GP.y[n_init:(n_init+iters)]) \n",
        "exact_output_17 = np.append(np.min(exact_17.GP.y[0:n_init]),exact_17.GP.y[n_init:(n_init+iters)]) \n",
        "\n",
        "regret_approx_17 = np.log(-approx_output_17 + y_global_orig)\n",
        "regret_exact_17 = np.log(-exact_output_17 + y_global_orig)\n",
        "\n",
        "simple_regret_approx_17 = min_max_array(regret_approx_17)\n",
        "simple_regret_exact_17 = min_max_array(regret_exact_17)\n",
        "\n",
        "min_simple_regret_approx_17 = min(simple_regret_approx_17)\n",
        "min_simple_regret_exact_17 = min(simple_regret_exact_17)\n",
        "\n",
        "min_simple_regret_approx_17, min_simple_regret_exact_17"
      ],
      "execution_count": 71,
      "outputs": [
        {
          "output_type": "execute_result",
          "data": {
            "text/plain": [
              "(2.3974636197364982, 2.325761517561145)"
            ]
          },
          "metadata": {},
          "execution_count": 71
        }
      ]
    },
    {
      "cell_type": "code",
      "metadata": {
        "id": "Cz9ZYMBMQxfz",
        "colab": {
          "base_uri": "https://localhost:8080/"
        },
        "outputId": "74c96617-023c-4925-efb0-de7a0319dab9"
      },
      "source": [
        "### Simple regret minimization: run number = 18\n",
        "\n",
        "approx_output_18 = np.append(np.min(approx_18.GP.y[0:n_init]),approx_18.GP.y[n_init:(n_init+iters)]) \n",
        "exact_output_18 = np.append(np.min(exact_18.GP.y[0:n_init]),exact_18.GP.y[n_init:(n_init+iters)]) \n",
        "\n",
        "regret_approx_18 = np.log(-approx_output_18 + y_global_orig)\n",
        "regret_exact_18 = np.log(-exact_output_18 + y_global_orig)\n",
        "\n",
        "simple_regret_approx_18 = min_max_array(regret_approx_18)\n",
        "simple_regret_exact_18 = min_max_array(regret_exact_18)\n",
        "\n",
        "min_simple_regret_approx_18 = min(simple_regret_approx_18)\n",
        "min_simple_regret_exact_18 = min(simple_regret_exact_18)\n",
        "\n",
        "min_simple_regret_approx_18, min_simple_regret_exact_18"
      ],
      "execution_count": 72,
      "outputs": [
        {
          "output_type": "execute_result",
          "data": {
            "text/plain": [
              "(2.7046005717826946, 2.8922390825998514)"
            ]
          },
          "metadata": {},
          "execution_count": 72
        }
      ]
    },
    {
      "cell_type": "code",
      "metadata": {
        "id": "OBfpWOHNQxf0",
        "colab": {
          "base_uri": "https://localhost:8080/"
        },
        "outputId": "9c931a10-6b70-4386-b214-c5caa9196651"
      },
      "source": [
        "### Simple regret minimization: run number = 19\n",
        "\n",
        "approx_output_19 = np.append(np.min(approx_19.GP.y[0:n_init]),approx_19.GP.y[n_init:(n_init+iters)]) \n",
        "exact_output_19 = np.append(np.min(exact_19.GP.y[0:n_init]),exact_19.GP.y[n_init:(n_init+iters)]) \n",
        "\n",
        "regret_approx_19 = np.log(-approx_output_19 + y_global_orig)\n",
        "regret_exact_19 = np.log(-exact_output_19 + y_global_orig)\n",
        "\n",
        "simple_regret_approx_19 = min_max_array(regret_approx_19)\n",
        "simple_regret_exact_19 = min_max_array(regret_exact_19)\n",
        "\n",
        "min_simple_regret_approx_19 = min(simple_regret_approx_19)\n",
        "min_simple_regret_exact_19 = min(simple_regret_exact_19)\n",
        "\n",
        "min_simple_regret_approx_19, min_simple_regret_exact_19"
      ],
      "execution_count": 73,
      "outputs": [
        {
          "output_type": "execute_result",
          "data": {
            "text/plain": [
              "(2.9283943409099593, 1.838190137625969)"
            ]
          },
          "metadata": {},
          "execution_count": 73
        }
      ]
    },
    {
      "cell_type": "code",
      "metadata": {
        "id": "BE1AJ7NsQxf0",
        "colab": {
          "base_uri": "https://localhost:8080/"
        },
        "outputId": "35b137ec-c3ad-47f1-fd25-8b91cbd029f3"
      },
      "source": [
        "### Simple regret minimization: run number = 20\n",
        "\n",
        "approx_output_20 = np.append(np.min(approx_20.GP.y[0:n_init]),approx_20.GP.y[n_init:(n_init+iters)]) \n",
        "exact_output_20 = np.append(np.min(exact_20.GP.y[0:n_init]),exact_20.GP.y[n_init:(n_init+iters)]) \n",
        "\n",
        "regret_approx_20 = np.log(-approx_output_20 + y_global_orig)\n",
        "regret_exact_20 = np.log(-exact_output_20 + y_global_orig)\n",
        "\n",
        "simple_regret_approx_20 = min_max_array(regret_approx_20)\n",
        "simple_regret_exact_20 = min_max_array(regret_exact_20)\n",
        "\n",
        "min_simple_regret_approx_20 = min(simple_regret_approx_20)\n",
        "min_simple_regret_exact_20 = min(simple_regret_exact_20)\n",
        "\n",
        "min_simple_regret_approx_20, min_simple_regret_exact_20"
      ],
      "execution_count": 74,
      "outputs": [
        {
          "output_type": "execute_result",
          "data": {
            "text/plain": [
              "(2.9201744478941047, 2.438627299450515)"
            ]
          },
          "metadata": {},
          "execution_count": 74
        }
      ]
    },
    {
      "cell_type": "code",
      "metadata": {
        "id": "bpX-bKAHQxf1"
      },
      "source": [
        "# Iteration1 :\n",
        "\n",
        "slice1 = 0\n",
        "\n",
        "approx1 = [simple_regret_approx_1[slice1],\n",
        "       simple_regret_approx_2[slice1],\n",
        "       simple_regret_approx_3[slice1],\n",
        "       simple_regret_approx_4[slice1],\n",
        "       simple_regret_approx_5[slice1],\n",
        "       simple_regret_approx_6[slice1],\n",
        "       simple_regret_approx_7[slice1],\n",
        "       simple_regret_approx_8[slice1],\n",
        "       simple_regret_approx_9[slice1],\n",
        "       simple_regret_approx_10[slice1],\n",
        "       simple_regret_approx_11[slice1],\n",
        "       simple_regret_approx_12[slice1],\n",
        "       simple_regret_approx_13[slice1],\n",
        "       simple_regret_approx_14[slice1],\n",
        "       simple_regret_approx_15[slice1],\n",
        "       simple_regret_approx_16[slice1],\n",
        "       simple_regret_approx_17[slice1],\n",
        "       simple_regret_approx_18[slice1],\n",
        "       simple_regret_approx_19[slice1],\n",
        "       simple_regret_approx_20[slice1]]\n",
        "\n",
        "exact1 = [simple_regret_exact_1[slice1],\n",
        "       simple_regret_exact_2[slice1],\n",
        "       simple_regret_exact_3[slice1],\n",
        "       simple_regret_exact_4[slice1],\n",
        "       simple_regret_exact_5[slice1],\n",
        "       simple_regret_exact_6[slice1],\n",
        "       simple_regret_exact_7[slice1],\n",
        "       simple_regret_exact_8[slice1],\n",
        "       simple_regret_exact_9[slice1],\n",
        "       simple_regret_exact_10[slice1],\n",
        "       simple_regret_exact_11[slice1],\n",
        "       simple_regret_exact_12[slice1],\n",
        "       simple_regret_exact_13[slice1],\n",
        "       simple_regret_exact_14[slice1],\n",
        "       simple_regret_exact_15[slice1],\n",
        "       simple_regret_exact_16[slice1],\n",
        "       simple_regret_exact_17[slice1],\n",
        "       simple_regret_exact_18[slice1],\n",
        "       simple_regret_exact_19[slice1],\n",
        "       simple_regret_exact_20[slice1]]\n",
        "\n",
        "approx1_results = pd.DataFrame(approx1).sort_values(by=[0], ascending=False)\n",
        "exact1_results = pd.DataFrame(exact1).sort_values(by=[0], ascending=False)\n",
        "\n",
        "### Best simple regret minimization IQR - approx:\n",
        "lower_approx1 = np.asarray(approx1_results[4:5][0])[0]\n",
        "median_approx1 = np.asarray(approx1_results[9:10][0])[0]\n",
        "upper_approx1 = np.asarray(approx1_results[14:15][0])[0]\n",
        "\n",
        "lower_exact1 = np.asarray(exact1_results[4:5][0])[0]\n",
        "median_exact1 = np.asarray(exact1_results[9:10][0])[0]\n",
        "upper_exact1 = np.asarray(exact1_results[14:15][0])[0]"
      ],
      "execution_count": 75,
      "outputs": []
    },
    {
      "cell_type": "code",
      "metadata": {
        "id": "CgIkJA1xQxf2"
      },
      "source": [
        "# Iteration11 :\n",
        "\n",
        "slice11 = 10\n",
        "\n",
        "approx11 = [simple_regret_approx_1[slice11],\n",
        "       simple_regret_approx_2[slice11],\n",
        "       simple_regret_approx_3[slice11],\n",
        "       simple_regret_approx_4[slice11],\n",
        "       simple_regret_approx_5[slice11],\n",
        "       simple_regret_approx_6[slice11],\n",
        "       simple_regret_approx_7[slice11],\n",
        "       simple_regret_approx_8[slice11],\n",
        "       simple_regret_approx_9[slice11],\n",
        "       simple_regret_approx_10[slice11],\n",
        "       simple_regret_approx_11[slice11],\n",
        "       simple_regret_approx_12[slice11],\n",
        "       simple_regret_approx_13[slice11],\n",
        "       simple_regret_approx_14[slice11],\n",
        "       simple_regret_approx_15[slice11],\n",
        "       simple_regret_approx_16[slice11],\n",
        "       simple_regret_approx_17[slice11],\n",
        "       simple_regret_approx_18[slice11],\n",
        "       simple_regret_approx_19[slice11],\n",
        "       simple_regret_approx_20[slice11]]\n",
        "\n",
        "exact11 = [simple_regret_exact_1[slice11],\n",
        "       simple_regret_exact_2[slice11],\n",
        "       simple_regret_exact_3[slice11],\n",
        "       simple_regret_exact_4[slice11],\n",
        "       simple_regret_exact_5[slice11],\n",
        "       simple_regret_exact_6[slice11],\n",
        "       simple_regret_exact_7[slice11],\n",
        "       simple_regret_exact_8[slice11],\n",
        "       simple_regret_exact_9[slice11],\n",
        "       simple_regret_exact_10[slice11],\n",
        "       simple_regret_exact_11[slice11],\n",
        "       simple_regret_exact_12[slice11],\n",
        "       simple_regret_exact_13[slice11],\n",
        "       simple_regret_exact_14[slice11],\n",
        "       simple_regret_exact_15[slice11],\n",
        "       simple_regret_exact_16[slice11],\n",
        "       simple_regret_exact_17[slice11],\n",
        "       simple_regret_exact_18[slice11],\n",
        "       simple_regret_exact_19[slice11],\n",
        "       simple_regret_exact_20[slice11]]\n",
        "\n",
        "approx11_results = pd.DataFrame(approx11).sort_values(by=[0], ascending=False)\n",
        "exact11_results = pd.DataFrame(exact11).sort_values(by=[0], ascending=False)\n",
        "\n",
        "### Best simple regret minimization IQR - approx:\n",
        "lower_approx11 = np.asarray(approx11_results[4:5][0])[0]\n",
        "median_approx11 = np.asarray(approx11_results[9:10][0])[0]\n",
        "upper_approx11 = np.asarray(approx11_results[14:15][0])[0]\n",
        "\n",
        "lower_exact11 = np.asarray(exact11_results[4:5][0])[0]\n",
        "median_exact11 = np.asarray(exact11_results[9:10][0])[0]\n",
        "upper_exact11 = np.asarray(exact11_results[14:15][0])[0]"
      ],
      "execution_count": 76,
      "outputs": []
    },
    {
      "cell_type": "code",
      "metadata": {
        "id": "MFePDfGuQxf2"
      },
      "source": [
        "# Iteration21 :\n",
        "\n",
        "slice21 = 20\n",
        "\n",
        "approx21 = [simple_regret_approx_1[slice21],\n",
        "       simple_regret_approx_2[slice21],\n",
        "       simple_regret_approx_3[slice21],\n",
        "       simple_regret_approx_4[slice21],\n",
        "       simple_regret_approx_5[slice21],\n",
        "       simple_regret_approx_6[slice21],\n",
        "       simple_regret_approx_7[slice21],\n",
        "       simple_regret_approx_8[slice21],\n",
        "       simple_regret_approx_9[slice21],\n",
        "       simple_regret_approx_10[slice21],\n",
        "       simple_regret_approx_11[slice21],\n",
        "       simple_regret_approx_12[slice21],\n",
        "       simple_regret_approx_13[slice21],\n",
        "       simple_regret_approx_14[slice21],\n",
        "       simple_regret_approx_15[slice21],\n",
        "       simple_regret_approx_16[slice21],\n",
        "       simple_regret_approx_17[slice21],\n",
        "       simple_regret_approx_18[slice21],\n",
        "       simple_regret_approx_19[slice21],\n",
        "       simple_regret_approx_20[slice21]]\n",
        "\n",
        "exact21 = [simple_regret_exact_1[slice21],\n",
        "       simple_regret_exact_2[slice21],\n",
        "       simple_regret_exact_3[slice21],\n",
        "       simple_regret_exact_4[slice21],\n",
        "       simple_regret_exact_5[slice21],\n",
        "       simple_regret_exact_6[slice21],\n",
        "       simple_regret_exact_7[slice21],\n",
        "       simple_regret_exact_8[slice21],\n",
        "       simple_regret_exact_9[slice21],\n",
        "       simple_regret_exact_10[slice21],\n",
        "       simple_regret_exact_11[slice21],\n",
        "       simple_regret_exact_12[slice21],\n",
        "       simple_regret_exact_13[slice21],\n",
        "       simple_regret_exact_14[slice21],\n",
        "       simple_regret_exact_15[slice21],\n",
        "       simple_regret_exact_16[slice21],\n",
        "       simple_regret_exact_17[slice21],\n",
        "       simple_regret_exact_18[slice21],\n",
        "       simple_regret_exact_19[slice21],\n",
        "       simple_regret_exact_20[slice21]]\n",
        "\n",
        "approx21_results = pd.DataFrame(approx21).sort_values(by=[0], ascending=False)\n",
        "exact21_results = pd.DataFrame(exact21).sort_values(by=[0], ascending=False)\n",
        "\n",
        "### Best simple regret minimization IQR - approx:\n",
        "lower_approx21 = np.asarray(approx21_results[4:5][0])[0]\n",
        "median_approx21 = np.asarray(approx21_results[9:10][0])[0]\n",
        "upper_approx21 = np.asarray(approx21_results[14:15][0])[0]\n",
        "\n",
        "lower_exact21 = np.asarray(exact21_results[4:5][0])[0]\n",
        "median_exact21 = np.asarray(exact21_results[9:10][0])[0]\n",
        "upper_exact21 = np.asarray(exact21_results[14:15][0])[0]"
      ],
      "execution_count": 77,
      "outputs": []
    },
    {
      "cell_type": "code",
      "metadata": {
        "id": "PrRDB1kfQxf3"
      },
      "source": [
        "# Iteration2 :\n",
        "\n",
        "slice2 = 1\n",
        "\n",
        "approx2 = [simple_regret_approx_1[slice2],\n",
        "       simple_regret_approx_2[slice2],\n",
        "       simple_regret_approx_3[slice2],\n",
        "       simple_regret_approx_4[slice2],\n",
        "       simple_regret_approx_5[slice2],\n",
        "       simple_regret_approx_6[slice2],\n",
        "       simple_regret_approx_7[slice2],\n",
        "       simple_regret_approx_8[slice2],\n",
        "       simple_regret_approx_9[slice2],\n",
        "       simple_regret_approx_10[slice2],\n",
        "       simple_regret_approx_11[slice2],\n",
        "       simple_regret_approx_12[slice2],\n",
        "       simple_regret_approx_13[slice2],\n",
        "       simple_regret_approx_14[slice2],\n",
        "       simple_regret_approx_15[slice2],\n",
        "       simple_regret_approx_16[slice2],\n",
        "       simple_regret_approx_17[slice2],\n",
        "       simple_regret_approx_18[slice2],\n",
        "       simple_regret_approx_19[slice2],\n",
        "       simple_regret_approx_20[slice2]]\n",
        "\n",
        "exact2 = [simple_regret_exact_1[slice2],\n",
        "       simple_regret_exact_2[slice2],\n",
        "       simple_regret_exact_3[slice2],\n",
        "       simple_regret_exact_4[slice2],\n",
        "       simple_regret_exact_5[slice2],\n",
        "       simple_regret_exact_6[slice2],\n",
        "       simple_regret_exact_7[slice2],\n",
        "       simple_regret_exact_8[slice2],\n",
        "       simple_regret_exact_9[slice2],\n",
        "       simple_regret_exact_10[slice2],\n",
        "       simple_regret_exact_11[slice2],\n",
        "       simple_regret_exact_12[slice2],\n",
        "       simple_regret_exact_13[slice2],\n",
        "       simple_regret_exact_14[slice2],\n",
        "       simple_regret_exact_15[slice2],\n",
        "       simple_regret_exact_16[slice2],\n",
        "       simple_regret_exact_17[slice2],\n",
        "       simple_regret_exact_18[slice2],\n",
        "       simple_regret_exact_19[slice2],\n",
        "       simple_regret_exact_20[slice2]]\n",
        "\n",
        "approx2_results = pd.DataFrame(approx2).sort_values(by=[0], ascending=False)\n",
        "exact2_results = pd.DataFrame(exact2).sort_values(by=[0], ascending=False)\n",
        "\n",
        "### Best simple regret minimization IQR - approx:\n",
        "lower_approx2 = np.asarray(approx2_results[4:5][0])[0]\n",
        "median_approx2 = np.asarray(approx2_results[9:10][0])[0]\n",
        "upper_approx2 = np.asarray(approx2_results[14:15][0])[0]\n",
        "\n",
        "lower_exact2 = np.asarray(exact2_results[4:5][0])[0]\n",
        "median_exact2 = np.asarray(exact2_results[9:10][0])[0]\n",
        "upper_exact2 = np.asarray(exact2_results[14:15][0])[0]"
      ],
      "execution_count": 78,
      "outputs": []
    },
    {
      "cell_type": "code",
      "metadata": {
        "id": "B8ncJDYeQxf3"
      },
      "source": [
        "# Iteration12 :\n",
        "\n",
        "slice12 = 11\n",
        "\n",
        "approx12 = [simple_regret_approx_1[slice12],\n",
        "       simple_regret_approx_2[slice12],\n",
        "       simple_regret_approx_3[slice12],\n",
        "       simple_regret_approx_4[slice12],\n",
        "       simple_regret_approx_5[slice12],\n",
        "       simple_regret_approx_6[slice12],\n",
        "       simple_regret_approx_7[slice12],\n",
        "       simple_regret_approx_8[slice12],\n",
        "       simple_regret_approx_9[slice12],\n",
        "       simple_regret_approx_10[slice12],\n",
        "       simple_regret_approx_11[slice12],\n",
        "       simple_regret_approx_12[slice12],\n",
        "       simple_regret_approx_13[slice12],\n",
        "       simple_regret_approx_14[slice12],\n",
        "       simple_regret_approx_15[slice12],\n",
        "       simple_regret_approx_16[slice12],\n",
        "       simple_regret_approx_17[slice12],\n",
        "       simple_regret_approx_18[slice12],\n",
        "       simple_regret_approx_19[slice12],\n",
        "       simple_regret_approx_20[slice12]]\n",
        "\n",
        "exact12 = [simple_regret_exact_1[slice12],\n",
        "       simple_regret_exact_2[slice12],\n",
        "       simple_regret_exact_3[slice12],\n",
        "       simple_regret_exact_4[slice12],\n",
        "       simple_regret_exact_5[slice12],\n",
        "       simple_regret_exact_6[slice12],\n",
        "       simple_regret_exact_7[slice12],\n",
        "       simple_regret_exact_8[slice12],\n",
        "       simple_regret_exact_9[slice12],\n",
        "       simple_regret_exact_10[slice12],\n",
        "       simple_regret_exact_11[slice12],\n",
        "       simple_regret_exact_12[slice12],\n",
        "       simple_regret_exact_13[slice12],\n",
        "       simple_regret_exact_14[slice12],\n",
        "       simple_regret_exact_15[slice12],\n",
        "       simple_regret_exact_16[slice12],\n",
        "       simple_regret_exact_17[slice12],\n",
        "       simple_regret_exact_18[slice12],\n",
        "       simple_regret_exact_19[slice12],\n",
        "       simple_regret_exact_20[slice12]]\n",
        "\n",
        "approx12_results = pd.DataFrame(approx12).sort_values(by=[0], ascending=False)\n",
        "exact12_results = pd.DataFrame(exact12).sort_values(by=[0], ascending=False)\n",
        "\n",
        "### Best simple regret minimization IQR - approx:\n",
        "lower_approx12 = np.asarray(approx12_results[4:5][0])[0]\n",
        "median_approx12 = np.asarray(approx12_results[9:10][0])[0]\n",
        "upper_approx12 = np.asarray(approx12_results[14:15][0])[0]\n",
        "\n",
        "lower_exact12 = np.asarray(exact12_results[4:5][0])[0]\n",
        "median_exact12 = np.asarray(exact12_results[9:10][0])[0]\n",
        "upper_exact12 = np.asarray(exact12_results[14:15][0])[0]"
      ],
      "execution_count": 79,
      "outputs": []
    },
    {
      "cell_type": "code",
      "metadata": {
        "id": "Jn4KpGvcQxf4"
      },
      "source": [
        "# Iteration3 :\n",
        "\n",
        "slice3 = 2\n",
        "\n",
        "approx3 = [simple_regret_approx_1[slice3],\n",
        "       simple_regret_approx_2[slice3],\n",
        "       simple_regret_approx_3[slice3],\n",
        "       simple_regret_approx_4[slice3],\n",
        "       simple_regret_approx_5[slice3],\n",
        "       simple_regret_approx_6[slice3],\n",
        "       simple_regret_approx_7[slice3],\n",
        "       simple_regret_approx_8[slice3],\n",
        "       simple_regret_approx_9[slice3],\n",
        "       simple_regret_approx_10[slice3],\n",
        "       simple_regret_approx_11[slice3],\n",
        "       simple_regret_approx_12[slice3],\n",
        "       simple_regret_approx_13[slice3],\n",
        "       simple_regret_approx_14[slice3],\n",
        "       simple_regret_approx_15[slice3],\n",
        "       simple_regret_approx_16[slice3],\n",
        "       simple_regret_approx_17[slice3],\n",
        "       simple_regret_approx_18[slice3],\n",
        "       simple_regret_approx_19[slice3],\n",
        "       simple_regret_approx_20[slice3]]\n",
        "\n",
        "exact3 = [simple_regret_exact_1[slice3],\n",
        "       simple_regret_exact_2[slice3],\n",
        "       simple_regret_exact_3[slice3],\n",
        "       simple_regret_exact_4[slice3],\n",
        "       simple_regret_exact_5[slice3],\n",
        "       simple_regret_exact_6[slice3],\n",
        "       simple_regret_exact_7[slice3],\n",
        "       simple_regret_exact_8[slice3],\n",
        "       simple_regret_exact_9[slice3],\n",
        "       simple_regret_exact_10[slice3],\n",
        "       simple_regret_exact_11[slice3],\n",
        "       simple_regret_exact_12[slice3],\n",
        "       simple_regret_exact_13[slice3],\n",
        "       simple_regret_exact_14[slice3],\n",
        "       simple_regret_exact_15[slice3],\n",
        "       simple_regret_exact_16[slice3],\n",
        "       simple_regret_exact_17[slice3],\n",
        "       simple_regret_exact_18[slice3],\n",
        "       simple_regret_exact_19[slice3],\n",
        "       simple_regret_exact_20[slice3]]\n",
        "\n",
        "approx3_results = pd.DataFrame(approx3).sort_values(by=[0], ascending=False)\n",
        "exact3_results = pd.DataFrame(exact3).sort_values(by=[0], ascending=False)\n",
        "\n",
        "### Best simple regret minimization IQR - approx:\n",
        "lower_approx3 = np.asarray(approx3_results[4:5][0])[0]\n",
        "median_approx3 = np.asarray(approx3_results[9:10][0])[0]\n",
        "upper_approx3 = np.asarray(approx3_results[14:15][0])[0]\n",
        "\n",
        "lower_exact3 = np.asarray(exact3_results[4:5][0])[0]\n",
        "median_exact3 = np.asarray(exact3_results[9:10][0])[0]\n",
        "upper_exact3 = np.asarray(exact3_results[14:15][0])[0]"
      ],
      "execution_count": 80,
      "outputs": []
    },
    {
      "cell_type": "code",
      "metadata": {
        "id": "plf83wxrQxf4"
      },
      "source": [
        "# Iteration13 :\n",
        "\n",
        "slice13 = 12\n",
        "\n",
        "approx13 = [simple_regret_approx_1[slice13],\n",
        "       simple_regret_approx_2[slice13],\n",
        "       simple_regret_approx_3[slice13],\n",
        "       simple_regret_approx_4[slice13],\n",
        "       simple_regret_approx_5[slice13],\n",
        "       simple_regret_approx_6[slice13],\n",
        "       simple_regret_approx_7[slice13],\n",
        "       simple_regret_approx_8[slice13],\n",
        "       simple_regret_approx_9[slice13],\n",
        "       simple_regret_approx_10[slice13],\n",
        "       simple_regret_approx_11[slice13],\n",
        "       simple_regret_approx_12[slice13],\n",
        "       simple_regret_approx_13[slice13],\n",
        "       simple_regret_approx_14[slice13],\n",
        "       simple_regret_approx_15[slice13],\n",
        "       simple_regret_approx_16[slice13],\n",
        "       simple_regret_approx_17[slice13],\n",
        "       simple_regret_approx_18[slice13],\n",
        "       simple_regret_approx_19[slice13],\n",
        "       simple_regret_approx_20[slice13]]\n",
        "\n",
        "exact13 = [simple_regret_exact_1[slice13],\n",
        "       simple_regret_exact_2[slice13],\n",
        "       simple_regret_exact_3[slice13],\n",
        "       simple_regret_exact_4[slice13],\n",
        "       simple_regret_exact_5[slice13],\n",
        "       simple_regret_exact_6[slice13],\n",
        "       simple_regret_exact_7[slice13],\n",
        "       simple_regret_exact_8[slice13],\n",
        "       simple_regret_exact_9[slice13],\n",
        "       simple_regret_exact_10[slice13],\n",
        "       simple_regret_exact_11[slice13],\n",
        "       simple_regret_exact_12[slice13],\n",
        "       simple_regret_exact_13[slice13],\n",
        "       simple_regret_exact_14[slice13],\n",
        "       simple_regret_exact_15[slice13],\n",
        "       simple_regret_exact_16[slice13],\n",
        "       simple_regret_exact_17[slice13],\n",
        "       simple_regret_exact_18[slice13],\n",
        "       simple_regret_exact_19[slice13],\n",
        "       simple_regret_exact_20[slice13]]\n",
        "\n",
        "approx13_results = pd.DataFrame(approx13).sort_values(by=[0], ascending=False)\n",
        "exact13_results = pd.DataFrame(exact13).sort_values(by=[0], ascending=False)\n",
        "\n",
        "### Best simple regret minimization IQR - approx:\n",
        "lower_approx13 = np.asarray(approx13_results[4:5][0])[0]\n",
        "median_approx13 = np.asarray(approx13_results[9:10][0])[0]\n",
        "upper_approx13 = np.asarray(approx13_results[14:15][0])[0]\n",
        "\n",
        "lower_exact13 = np.asarray(exact13_results[4:5][0])[0]\n",
        "median_exact13 = np.asarray(exact13_results[9:10][0])[0]\n",
        "upper_exact13 = np.asarray(exact13_results[14:15][0])[0]"
      ],
      "execution_count": 81,
      "outputs": []
    },
    {
      "cell_type": "code",
      "metadata": {
        "id": "9A7mlVvJQxf5"
      },
      "source": [
        "# Iteration4 :\n",
        "\n",
        "slice4 = 3\n",
        "\n",
        "approx4 = [simple_regret_approx_1[slice4],\n",
        "       simple_regret_approx_2[slice4],\n",
        "       simple_regret_approx_3[slice4],\n",
        "       simple_regret_approx_4[slice4],\n",
        "       simple_regret_approx_5[slice4],\n",
        "       simple_regret_approx_6[slice4],\n",
        "       simple_regret_approx_7[slice4],\n",
        "       simple_regret_approx_8[slice4],\n",
        "       simple_regret_approx_9[slice4],\n",
        "       simple_regret_approx_10[slice4],\n",
        "       simple_regret_approx_11[slice4],\n",
        "       simple_regret_approx_12[slice4],\n",
        "       simple_regret_approx_13[slice4],\n",
        "       simple_regret_approx_14[slice4],\n",
        "       simple_regret_approx_15[slice4],\n",
        "       simple_regret_approx_16[slice4],\n",
        "       simple_regret_approx_17[slice4],\n",
        "       simple_regret_approx_18[slice4],\n",
        "       simple_regret_approx_19[slice4],\n",
        "       simple_regret_approx_20[slice4]]\n",
        "\n",
        "exact4 = [simple_regret_exact_1[slice4],\n",
        "       simple_regret_exact_2[slice4],\n",
        "       simple_regret_exact_3[slice4],\n",
        "       simple_regret_exact_4[slice4],\n",
        "       simple_regret_exact_5[slice4],\n",
        "       simple_regret_exact_6[slice4],\n",
        "       simple_regret_exact_7[slice4],\n",
        "       simple_regret_exact_8[slice4],\n",
        "       simple_regret_exact_9[slice4],\n",
        "       simple_regret_exact_10[slice4],\n",
        "       simple_regret_exact_11[slice4],\n",
        "       simple_regret_exact_12[slice4],\n",
        "       simple_regret_exact_13[slice4],\n",
        "       simple_regret_exact_14[slice4],\n",
        "       simple_regret_exact_15[slice4],\n",
        "       simple_regret_exact_16[slice4],\n",
        "       simple_regret_exact_17[slice4],\n",
        "       simple_regret_exact_18[slice4],\n",
        "       simple_regret_exact_19[slice4],\n",
        "       simple_regret_exact_20[slice4]]\n",
        "\n",
        "approx4_results = pd.DataFrame(approx4).sort_values(by=[0], ascending=False)\n",
        "exact4_results = pd.DataFrame(exact4).sort_values(by=[0], ascending=False)\n",
        "\n",
        "### Best simple regret minimization IQR - approx:\n",
        "lower_approx4 = np.asarray(approx4_results[4:5][0])[0]\n",
        "median_approx4 = np.asarray(approx4_results[9:10][0])[0]\n",
        "upper_approx4 = np.asarray(approx4_results[14:15][0])[0]\n",
        "\n",
        "lower_exact4 = np.asarray(exact4_results[4:5][0])[0]\n",
        "median_exact4 = np.asarray(exact4_results[9:10][0])[0]\n",
        "upper_exact4 = np.asarray(exact4_results[14:15][0])[0]"
      ],
      "execution_count": 82,
      "outputs": []
    },
    {
      "cell_type": "code",
      "metadata": {
        "id": "ijq-rioYQxf5"
      },
      "source": [
        "# Iteration14 :\n",
        "\n",
        "slice14 = 13\n",
        "\n",
        "approx14 = [simple_regret_approx_1[slice14],\n",
        "       simple_regret_approx_2[slice14],\n",
        "       simple_regret_approx_3[slice14],\n",
        "       simple_regret_approx_4[slice14],\n",
        "       simple_regret_approx_5[slice14],\n",
        "       simple_regret_approx_6[slice14],\n",
        "       simple_regret_approx_7[slice14],\n",
        "       simple_regret_approx_8[slice14],\n",
        "       simple_regret_approx_9[slice14],\n",
        "       simple_regret_approx_10[slice14],\n",
        "       simple_regret_approx_11[slice14],\n",
        "       simple_regret_approx_12[slice14],\n",
        "       simple_regret_approx_13[slice14],\n",
        "       simple_regret_approx_14[slice14],\n",
        "       simple_regret_approx_15[slice14],\n",
        "       simple_regret_approx_16[slice14],\n",
        "       simple_regret_approx_17[slice14],\n",
        "       simple_regret_approx_18[slice14],\n",
        "       simple_regret_approx_19[slice14],\n",
        "       simple_regret_approx_20[slice14]]\n",
        "\n",
        "exact14 = [simple_regret_exact_1[slice14],\n",
        "       simple_regret_exact_2[slice14],\n",
        "       simple_regret_exact_3[slice14],\n",
        "       simple_regret_exact_4[slice14],\n",
        "       simple_regret_exact_5[slice14],\n",
        "       simple_regret_exact_6[slice14],\n",
        "       simple_regret_exact_7[slice14],\n",
        "       simple_regret_exact_8[slice14],\n",
        "       simple_regret_exact_9[slice14],\n",
        "       simple_regret_exact_10[slice14],\n",
        "       simple_regret_exact_11[slice14],\n",
        "       simple_regret_exact_12[slice14],\n",
        "       simple_regret_exact_13[slice14],\n",
        "       simple_regret_exact_14[slice14],\n",
        "       simple_regret_exact_15[slice14],\n",
        "       simple_regret_exact_16[slice14],\n",
        "       simple_regret_exact_17[slice14],\n",
        "       simple_regret_exact_18[slice14],\n",
        "       simple_regret_exact_19[slice14],\n",
        "       simple_regret_exact_20[slice14]]\n",
        "\n",
        "approx14_results = pd.DataFrame(approx14).sort_values(by=[0], ascending=False)\n",
        "exact14_results = pd.DataFrame(exact14).sort_values(by=[0], ascending=False)\n",
        "\n",
        "### Best simple regret minimization IQR - approx:\n",
        "lower_approx14 = np.asarray(approx14_results[4:5][0])[0]\n",
        "median_approx14 = np.asarray(approx14_results[9:10][0])[0]\n",
        "upper_approx14 = np.asarray(approx14_results[14:15][0])[0]\n",
        "\n",
        "lower_exact14 = np.asarray(exact14_results[4:5][0])[0]\n",
        "median_exact14 = np.asarray(exact14_results[9:10][0])[0]\n",
        "upper_exact14 = np.asarray(exact14_results[14:15][0])[0]"
      ],
      "execution_count": 83,
      "outputs": []
    },
    {
      "cell_type": "code",
      "metadata": {
        "id": "XINlZjoTd-ZK"
      },
      "source": [
        "# Iteration5 :\n",
        "\n",
        "slice5 = 4\n",
        "\n",
        "approx5 = [simple_regret_approx_1[slice5],\n",
        "       simple_regret_approx_2[slice5],\n",
        "       simple_regret_approx_3[slice5],\n",
        "       simple_regret_approx_4[slice5],\n",
        "       simple_regret_approx_5[slice5],\n",
        "       simple_regret_approx_6[slice5],\n",
        "       simple_regret_approx_7[slice5],\n",
        "       simple_regret_approx_8[slice5],\n",
        "       simple_regret_approx_9[slice5],\n",
        "       simple_regret_approx_10[slice5],\n",
        "       simple_regret_approx_11[slice5],\n",
        "       simple_regret_approx_12[slice5],\n",
        "       simple_regret_approx_13[slice5],\n",
        "       simple_regret_approx_14[slice5],\n",
        "       simple_regret_approx_15[slice5],\n",
        "       simple_regret_approx_16[slice5],\n",
        "       simple_regret_approx_17[slice5],\n",
        "       simple_regret_approx_18[slice5],\n",
        "       simple_regret_approx_19[slice5],\n",
        "       simple_regret_approx_20[slice5]]\n",
        "\n",
        "exact5 = [simple_regret_exact_1[slice5],\n",
        "       simple_regret_exact_2[slice5],\n",
        "       simple_regret_exact_3[slice5],\n",
        "       simple_regret_exact_4[slice5],\n",
        "       simple_regret_exact_5[slice5],\n",
        "       simple_regret_exact_6[slice5],\n",
        "       simple_regret_exact_7[slice5],\n",
        "       simple_regret_exact_8[slice5],\n",
        "       simple_regret_exact_9[slice5],\n",
        "       simple_regret_exact_10[slice5],\n",
        "       simple_regret_exact_11[slice5],\n",
        "       simple_regret_exact_12[slice5],\n",
        "       simple_regret_exact_13[slice5],\n",
        "       simple_regret_exact_14[slice5],\n",
        "       simple_regret_exact_15[slice5],\n",
        "       simple_regret_exact_16[slice5],\n",
        "       simple_regret_exact_17[slice5],\n",
        "       simple_regret_exact_18[slice5],\n",
        "       simple_regret_exact_19[slice5],\n",
        "       simple_regret_exact_20[slice5]]\n",
        "\n",
        "approx5_results = pd.DataFrame(approx5).sort_values(by=[0], ascending=False)\n",
        "exact5_results = pd.DataFrame(exact5).sort_values(by=[0], ascending=False)\n",
        "\n",
        "### Best simple regret minimization IQR - approx:\n",
        "lower_approx5 = np.asarray(approx5_results[4:5][0])[0]\n",
        "median_approx5 = np.asarray(approx5_results[9:10][0])[0]\n",
        "upper_approx5 = np.asarray(approx5_results[14:15][0])[0]\n",
        "\n",
        "lower_exact5 = np.asarray(exact5_results[4:5][0])[0]\n",
        "median_exact5 = np.asarray(exact5_results[9:10][0])[0]\n",
        "upper_exact5 = np.asarray(exact5_results[14:15][0])[0]"
      ],
      "execution_count": 84,
      "outputs": []
    },
    {
      "cell_type": "code",
      "metadata": {
        "id": "4aZ7C8sOQxf6"
      },
      "source": [
        "# Iteration15 :\n",
        "\n",
        "slice15 = 14\n",
        "\n",
        "approx15 = [simple_regret_approx_1[slice15],\n",
        "       simple_regret_approx_2[slice15],\n",
        "       simple_regret_approx_3[slice15],\n",
        "       simple_regret_approx_4[slice15],\n",
        "       simple_regret_approx_5[slice15],\n",
        "       simple_regret_approx_6[slice15],\n",
        "       simple_regret_approx_7[slice15],\n",
        "       simple_regret_approx_8[slice15],\n",
        "       simple_regret_approx_9[slice15],\n",
        "       simple_regret_approx_10[slice15],\n",
        "       simple_regret_approx_11[slice15],\n",
        "       simple_regret_approx_12[slice15],\n",
        "       simple_regret_approx_13[slice15],\n",
        "       simple_regret_approx_14[slice15],\n",
        "       simple_regret_approx_15[slice15],\n",
        "       simple_regret_approx_16[slice15],\n",
        "       simple_regret_approx_17[slice15],\n",
        "       simple_regret_approx_18[slice15],\n",
        "       simple_regret_approx_19[slice15],\n",
        "       simple_regret_approx_20[slice15]]\n",
        "\n",
        "exact15 = [simple_regret_exact_1[slice15],\n",
        "       simple_regret_exact_2[slice15],\n",
        "       simple_regret_exact_3[slice15],\n",
        "       simple_regret_exact_4[slice15],\n",
        "       simple_regret_exact_5[slice15],\n",
        "       simple_regret_exact_6[slice15],\n",
        "       simple_regret_exact_7[slice15],\n",
        "       simple_regret_exact_8[slice15],\n",
        "       simple_regret_exact_9[slice15],\n",
        "       simple_regret_exact_10[slice15],\n",
        "       simple_regret_exact_11[slice15],\n",
        "       simple_regret_exact_12[slice15],\n",
        "       simple_regret_exact_13[slice15],\n",
        "       simple_regret_exact_14[slice15],\n",
        "       simple_regret_exact_15[slice15],\n",
        "       simple_regret_exact_16[slice15],\n",
        "       simple_regret_exact_17[slice15],\n",
        "       simple_regret_exact_18[slice15],\n",
        "       simple_regret_exact_19[slice15],\n",
        "       simple_regret_exact_20[slice15]]\n",
        "\n",
        "approx15_results = pd.DataFrame(approx15).sort_values(by=[0], ascending=False)\n",
        "exact15_results = pd.DataFrame(exact15).sort_values(by=[0], ascending=False)\n",
        "\n",
        "### Best simple regret minimization IQR - approx:\n",
        "lower_approx15 = np.asarray(approx15_results[4:5][0])[0]\n",
        "median_approx15 = np.asarray(approx15_results[9:10][0])[0]\n",
        "upper_approx15 = np.asarray(approx15_results[14:15][0])[0]\n",
        "\n",
        "lower_exact15 = np.asarray(exact15_results[4:5][0])[0]\n",
        "median_exact15 = np.asarray(exact15_results[9:10][0])[0]\n",
        "upper_exact15 = np.asarray(exact15_results[14:15][0])[0]"
      ],
      "execution_count": 85,
      "outputs": []
    },
    {
      "cell_type": "code",
      "metadata": {
        "id": "KJINKhv1Qxf6"
      },
      "source": [
        "# Iteration6 :\n",
        "\n",
        "slice6 = 5\n",
        "\n",
        "approx6 = [simple_regret_approx_1[slice6],\n",
        "       simple_regret_approx_2[slice6],\n",
        "       simple_regret_approx_3[slice6],\n",
        "       simple_regret_approx_4[slice6],\n",
        "       simple_regret_approx_5[slice6],\n",
        "       simple_regret_approx_6[slice6],\n",
        "       simple_regret_approx_7[slice6],\n",
        "       simple_regret_approx_8[slice6],\n",
        "       simple_regret_approx_9[slice6],\n",
        "       simple_regret_approx_10[slice6],\n",
        "       simple_regret_approx_11[slice6],\n",
        "       simple_regret_approx_12[slice6],\n",
        "       simple_regret_approx_13[slice6],\n",
        "       simple_regret_approx_14[slice6],\n",
        "       simple_regret_approx_15[slice6],\n",
        "       simple_regret_approx_16[slice6],\n",
        "       simple_regret_approx_17[slice6],\n",
        "       simple_regret_approx_18[slice6],\n",
        "       simple_regret_approx_19[slice6],\n",
        "       simple_regret_approx_20[slice6]]\n",
        "\n",
        "exact6 = [simple_regret_exact_1[slice6],\n",
        "       simple_regret_exact_2[slice6],\n",
        "       simple_regret_exact_3[slice6],\n",
        "       simple_regret_exact_4[slice6],\n",
        "       simple_regret_exact_5[slice6],\n",
        "       simple_regret_exact_6[slice6],\n",
        "       simple_regret_exact_7[slice6],\n",
        "       simple_regret_exact_8[slice6],\n",
        "       simple_regret_exact_9[slice6],\n",
        "       simple_regret_exact_10[slice6],\n",
        "       simple_regret_exact_11[slice6],\n",
        "       simple_regret_exact_12[slice6],\n",
        "       simple_regret_exact_13[slice6],\n",
        "       simple_regret_exact_14[slice6],\n",
        "       simple_regret_exact_15[slice6],\n",
        "       simple_regret_exact_16[slice6],\n",
        "       simple_regret_exact_17[slice6],\n",
        "       simple_regret_exact_18[slice6],\n",
        "       simple_regret_exact_19[slice6],\n",
        "       simple_regret_exact_20[slice6]]\n",
        "\n",
        "approx6_results = pd.DataFrame(approx6).sort_values(by=[0], ascending=False)\n",
        "exact6_results = pd.DataFrame(exact6).sort_values(by=[0], ascending=False)\n",
        "\n",
        "### Best simple regret minimization IQR - approx:\n",
        "lower_approx6 = np.asarray(approx6_results[4:5][0])[0]\n",
        "median_approx6 = np.asarray(approx6_results[9:10][0])[0]\n",
        "upper_approx6 = np.asarray(approx6_results[14:15][0])[0]\n",
        "\n",
        "lower_exact6 = np.asarray(exact6_results[4:5][0])[0]\n",
        "median_exact6 = np.asarray(exact6_results[9:10][0])[0]\n",
        "upper_exact6 = np.asarray(exact6_results[14:15][0])[0]"
      ],
      "execution_count": 86,
      "outputs": []
    },
    {
      "cell_type": "code",
      "metadata": {
        "id": "nwC5N1FsQxf7"
      },
      "source": [
        "# Iteration16 :\n",
        "\n",
        "slice16 = 15\n",
        "\n",
        "approx16 = [simple_regret_approx_1[slice16],\n",
        "       simple_regret_approx_2[slice16],\n",
        "       simple_regret_approx_3[slice16],\n",
        "       simple_regret_approx_4[slice16],\n",
        "       simple_regret_approx_5[slice16],\n",
        "       simple_regret_approx_6[slice16],\n",
        "       simple_regret_approx_7[slice16],\n",
        "       simple_regret_approx_8[slice16],\n",
        "       simple_regret_approx_9[slice16],\n",
        "       simple_regret_approx_10[slice16],\n",
        "       simple_regret_approx_11[slice16],\n",
        "       simple_regret_approx_12[slice16],\n",
        "       simple_regret_approx_13[slice16],\n",
        "       simple_regret_approx_14[slice16],\n",
        "       simple_regret_approx_15[slice16],\n",
        "       simple_regret_approx_16[slice16],\n",
        "       simple_regret_approx_17[slice16],\n",
        "       simple_regret_approx_18[slice16],\n",
        "       simple_regret_approx_19[slice16],\n",
        "       simple_regret_approx_20[slice16]]\n",
        "\n",
        "exact16 = [simple_regret_exact_1[slice16],\n",
        "       simple_regret_exact_2[slice16],\n",
        "       simple_regret_exact_3[slice16],\n",
        "       simple_regret_exact_4[slice16],\n",
        "       simple_regret_exact_5[slice16],\n",
        "       simple_regret_exact_6[slice16],\n",
        "       simple_regret_exact_7[slice16],\n",
        "       simple_regret_exact_8[slice16],\n",
        "       simple_regret_exact_9[slice16],\n",
        "       simple_regret_exact_10[slice16],\n",
        "       simple_regret_exact_11[slice16],\n",
        "       simple_regret_exact_12[slice16],\n",
        "       simple_regret_exact_13[slice16],\n",
        "       simple_regret_exact_14[slice16],\n",
        "       simple_regret_exact_15[slice16],\n",
        "       simple_regret_exact_16[slice16],\n",
        "       simple_regret_exact_17[slice16],\n",
        "       simple_regret_exact_18[slice16],\n",
        "       simple_regret_exact_19[slice16],\n",
        "       simple_regret_exact_20[slice16]]\n",
        "\n",
        "approx16_results = pd.DataFrame(approx16).sort_values(by=[0], ascending=False)\n",
        "exact16_results = pd.DataFrame(exact16).sort_values(by=[0], ascending=False)\n",
        "\n",
        "### Best simple regret minimization IQR - approx:\n",
        "lower_approx16 = np.asarray(approx16_results[4:5][0])[0]\n",
        "median_approx16 = np.asarray(approx16_results[9:10][0])[0]\n",
        "upper_approx16 = np.asarray(approx16_results[14:15][0])[0]\n",
        "\n",
        "lower_exact16 = np.asarray(exact16_results[4:5][0])[0]\n",
        "median_exact16 = np.asarray(exact16_results[9:10][0])[0]\n",
        "upper_exact16 = np.asarray(exact16_results[14:15][0])[0]"
      ],
      "execution_count": 87,
      "outputs": []
    },
    {
      "cell_type": "code",
      "metadata": {
        "id": "TrPV0AfnQxf7"
      },
      "source": [
        "# Iteration7 :\n",
        "\n",
        "slice7 = 6\n",
        "\n",
        "approx7 = [simple_regret_approx_1[slice7],\n",
        "       simple_regret_approx_2[slice7],\n",
        "       simple_regret_approx_3[slice7],\n",
        "       simple_regret_approx_4[slice7],\n",
        "       simple_regret_approx_5[slice7],\n",
        "       simple_regret_approx_6[slice7],\n",
        "       simple_regret_approx_7[slice7],\n",
        "       simple_regret_approx_8[slice7],\n",
        "       simple_regret_approx_9[slice7],\n",
        "       simple_regret_approx_10[slice7],\n",
        "       simple_regret_approx_11[slice7],\n",
        "       simple_regret_approx_12[slice7],\n",
        "       simple_regret_approx_13[slice7],\n",
        "       simple_regret_approx_14[slice7],\n",
        "       simple_regret_approx_15[slice7],\n",
        "       simple_regret_approx_16[slice7],\n",
        "       simple_regret_approx_17[slice7],\n",
        "       simple_regret_approx_18[slice7],\n",
        "       simple_regret_approx_19[slice7],\n",
        "       simple_regret_approx_20[slice7]]\n",
        "\n",
        "exact7 = [simple_regret_exact_1[slice7],\n",
        "       simple_regret_exact_2[slice7],\n",
        "       simple_regret_exact_3[slice7],\n",
        "       simple_regret_exact_4[slice7],\n",
        "       simple_regret_exact_5[slice7],\n",
        "       simple_regret_exact_6[slice7],\n",
        "       simple_regret_exact_7[slice7],\n",
        "       simple_regret_exact_8[slice7],\n",
        "       simple_regret_exact_9[slice7],\n",
        "       simple_regret_exact_10[slice7],\n",
        "       simple_regret_exact_11[slice7],\n",
        "       simple_regret_exact_12[slice7],\n",
        "       simple_regret_exact_13[slice7],\n",
        "       simple_regret_exact_14[slice7],\n",
        "       simple_regret_exact_15[slice7],\n",
        "       simple_regret_exact_16[slice7],\n",
        "       simple_regret_exact_17[slice7],\n",
        "       simple_regret_exact_18[slice7],\n",
        "       simple_regret_exact_19[slice7],\n",
        "       simple_regret_exact_20[slice7]]\n",
        "\n",
        "approx7_results = pd.DataFrame(approx7).sort_values(by=[0], ascending=False)\n",
        "exact7_results = pd.DataFrame(exact7).sort_values(by=[0], ascending=False)\n",
        "\n",
        "### Best simple regret minimization IQR - approx:\n",
        "lower_approx7 = np.asarray(approx7_results[4:5][0])[0]\n",
        "median_approx7 = np.asarray(approx7_results[9:10][0])[0]\n",
        "upper_approx7 = np.asarray(approx7_results[14:15][0])[0]\n",
        "\n",
        "lower_exact7 = np.asarray(exact7_results[4:5][0])[0]\n",
        "median_exact7 = np.asarray(exact7_results[9:10][0])[0]\n",
        "upper_exact7 = np.asarray(exact7_results[14:15][0])[0]"
      ],
      "execution_count": 88,
      "outputs": []
    },
    {
      "cell_type": "code",
      "metadata": {
        "id": "Ub_-wpK4Qxf8"
      },
      "source": [
        "# Iteration17 :\n",
        "\n",
        "slice17 = 16\n",
        "\n",
        "approx17 = [simple_regret_approx_1[slice17],\n",
        "       simple_regret_approx_2[slice17],\n",
        "       simple_regret_approx_3[slice17],\n",
        "       simple_regret_approx_4[slice17],\n",
        "       simple_regret_approx_5[slice17],\n",
        "       simple_regret_approx_6[slice17],\n",
        "       simple_regret_approx_7[slice17],\n",
        "       simple_regret_approx_8[slice17],\n",
        "       simple_regret_approx_9[slice17],\n",
        "       simple_regret_approx_10[slice17],\n",
        "       simple_regret_approx_11[slice17],\n",
        "       simple_regret_approx_12[slice17],\n",
        "       simple_regret_approx_13[slice17],\n",
        "       simple_regret_approx_14[slice17],\n",
        "       simple_regret_approx_15[slice17],\n",
        "       simple_regret_approx_16[slice17],\n",
        "       simple_regret_approx_17[slice17],\n",
        "       simple_regret_approx_18[slice17],\n",
        "       simple_regret_approx_19[slice17],\n",
        "       simple_regret_approx_20[slice17]]\n",
        "\n",
        "exact17 = [simple_regret_exact_1[slice17],\n",
        "       simple_regret_exact_2[slice17],\n",
        "       simple_regret_exact_3[slice17],\n",
        "       simple_regret_exact_4[slice17],\n",
        "       simple_regret_exact_5[slice17],\n",
        "       simple_regret_exact_6[slice17],\n",
        "       simple_regret_exact_7[slice17],\n",
        "       simple_regret_exact_8[slice17],\n",
        "       simple_regret_exact_9[slice17],\n",
        "       simple_regret_exact_10[slice17],\n",
        "       simple_regret_exact_11[slice17],\n",
        "       simple_regret_exact_12[slice17],\n",
        "       simple_regret_exact_13[slice17],\n",
        "       simple_regret_exact_14[slice17],\n",
        "       simple_regret_exact_15[slice17],\n",
        "       simple_regret_exact_16[slice17],\n",
        "       simple_regret_exact_17[slice17],\n",
        "       simple_regret_exact_18[slice17],\n",
        "       simple_regret_exact_19[slice17],\n",
        "       simple_regret_exact_20[slice17]]\n",
        "\n",
        "approx17_results = pd.DataFrame(approx17).sort_values(by=[0], ascending=False)\n",
        "exact17_results = pd.DataFrame(exact17).sort_values(by=[0], ascending=False)\n",
        "\n",
        "### Best simple regret minimization IQR - approx:\n",
        "lower_approx17 = np.asarray(approx17_results[4:5][0])[0]\n",
        "median_approx17 = np.asarray(approx17_results[9:10][0])[0]\n",
        "upper_approx17 = np.asarray(approx17_results[14:15][0])[0]\n",
        "\n",
        "lower_exact17 = np.asarray(exact17_results[4:5][0])[0]\n",
        "median_exact17 = np.asarray(exact17_results[9:10][0])[0]\n",
        "upper_exact17 = np.asarray(exact17_results[14:15][0])[0]"
      ],
      "execution_count": 89,
      "outputs": []
    },
    {
      "cell_type": "code",
      "metadata": {
        "id": "-6VLo37PQxf8"
      },
      "source": [
        "# Iteration8 :\n",
        "\n",
        "slice8 = 7\n",
        "\n",
        "approx8 = [simple_regret_approx_1[slice8],\n",
        "       simple_regret_approx_2[slice8],\n",
        "       simple_regret_approx_3[slice8],\n",
        "       simple_regret_approx_4[slice8],\n",
        "       simple_regret_approx_5[slice8],\n",
        "       simple_regret_approx_6[slice8],\n",
        "       simple_regret_approx_7[slice8],\n",
        "       simple_regret_approx_8[slice8],\n",
        "       simple_regret_approx_9[slice8],\n",
        "       simple_regret_approx_10[slice8],\n",
        "       simple_regret_approx_11[slice8],\n",
        "       simple_regret_approx_12[slice8],\n",
        "       simple_regret_approx_13[slice8],\n",
        "       simple_regret_approx_14[slice8],\n",
        "       simple_regret_approx_15[slice8],\n",
        "       simple_regret_approx_16[slice8],\n",
        "       simple_regret_approx_17[slice8],\n",
        "       simple_regret_approx_18[slice8],\n",
        "       simple_regret_approx_19[slice8],\n",
        "       simple_regret_approx_20[slice8]]\n",
        "\n",
        "exact8 = [simple_regret_exact_1[slice8],\n",
        "       simple_regret_exact_2[slice8],\n",
        "       simple_regret_exact_3[slice8],\n",
        "       simple_regret_exact_4[slice8],\n",
        "       simple_regret_exact_5[slice8],\n",
        "       simple_regret_exact_6[slice8],\n",
        "       simple_regret_exact_7[slice8],\n",
        "       simple_regret_exact_8[slice8],\n",
        "       simple_regret_exact_9[slice8],\n",
        "       simple_regret_exact_10[slice8],\n",
        "       simple_regret_exact_11[slice8],\n",
        "       simple_regret_exact_12[slice8],\n",
        "       simple_regret_exact_13[slice8],\n",
        "       simple_regret_exact_14[slice8],\n",
        "       simple_regret_exact_15[slice8],\n",
        "       simple_regret_exact_16[slice8],\n",
        "       simple_regret_exact_17[slice8],\n",
        "       simple_regret_exact_18[slice8],\n",
        "       simple_regret_exact_19[slice8],\n",
        "       simple_regret_exact_20[slice8]]\n",
        "\n",
        "approx8_results = pd.DataFrame(approx8).sort_values(by=[0], ascending=False)\n",
        "exact8_results = pd.DataFrame(exact8).sort_values(by=[0], ascending=False)\n",
        "\n",
        "### Best simple regret minimization IQR - approx:\n",
        "lower_approx8 = np.asarray(approx8_results[4:5][0])[0]\n",
        "median_approx8 = np.asarray(approx8_results[9:10][0])[0]\n",
        "upper_approx8 = np.asarray(approx8_results[14:15][0])[0]\n",
        "\n",
        "lower_exact8 = np.asarray(exact8_results[4:5][0])[0]\n",
        "median_exact8 = np.asarray(exact8_results[9:10][0])[0]\n",
        "upper_exact8 = np.asarray(exact8_results[14:15][0])[0]"
      ],
      "execution_count": 90,
      "outputs": []
    },
    {
      "cell_type": "code",
      "metadata": {
        "id": "2Dp-9CC2Qxf9"
      },
      "source": [
        "# Iteration18 :\n",
        "\n",
        "slice18 = 17\n",
        "\n",
        "approx18 = [simple_regret_approx_1[slice18],\n",
        "       simple_regret_approx_2[slice18],\n",
        "       simple_regret_approx_3[slice18],\n",
        "       simple_regret_approx_4[slice18],\n",
        "       simple_regret_approx_5[slice18],\n",
        "       simple_regret_approx_6[slice18],\n",
        "       simple_regret_approx_7[slice18],\n",
        "       simple_regret_approx_8[slice18],\n",
        "       simple_regret_approx_9[slice18],\n",
        "       simple_regret_approx_10[slice18],\n",
        "       simple_regret_approx_11[slice18],\n",
        "       simple_regret_approx_12[slice18],\n",
        "       simple_regret_approx_13[slice18],\n",
        "       simple_regret_approx_14[slice18],\n",
        "       simple_regret_approx_15[slice18],\n",
        "       simple_regret_approx_16[slice18],\n",
        "       simple_regret_approx_17[slice18],\n",
        "       simple_regret_approx_18[slice18],\n",
        "       simple_regret_approx_19[slice18],\n",
        "       simple_regret_approx_20[slice18]]\n",
        "\n",
        "exact18 = [simple_regret_exact_1[slice18],\n",
        "       simple_regret_exact_2[slice18],\n",
        "       simple_regret_exact_3[slice18],\n",
        "       simple_regret_exact_4[slice18],\n",
        "       simple_regret_exact_5[slice18],\n",
        "       simple_regret_exact_6[slice18],\n",
        "       simple_regret_exact_7[slice18],\n",
        "       simple_regret_exact_8[slice18],\n",
        "       simple_regret_exact_9[slice18],\n",
        "       simple_regret_exact_10[slice18],\n",
        "       simple_regret_exact_11[slice18],\n",
        "       simple_regret_exact_12[slice18],\n",
        "       simple_regret_exact_13[slice18],\n",
        "       simple_regret_exact_14[slice18],\n",
        "       simple_regret_exact_15[slice18],\n",
        "       simple_regret_exact_16[slice18],\n",
        "       simple_regret_exact_17[slice18],\n",
        "       simple_regret_exact_18[slice18],\n",
        "       simple_regret_exact_19[slice18],\n",
        "       simple_regret_exact_20[slice18]]\n",
        "\n",
        "approx18_results = pd.DataFrame(approx18).sort_values(by=[0], ascending=False)\n",
        "exact18_results = pd.DataFrame(exact18).sort_values(by=[0], ascending=False)\n",
        "\n",
        "### Best simple regret minimization IQR - approx:\n",
        "lower_approx18 = np.asarray(approx18_results[4:5][0])[0]\n",
        "median_approx18 = np.asarray(approx18_results[9:10][0])[0]\n",
        "upper_approx18 = np.asarray(approx18_results[14:15][0])[0]\n",
        "\n",
        "lower_exact18 = np.asarray(exact18_results[4:5][0])[0]\n",
        "median_exact18 = np.asarray(exact18_results[9:10][0])[0]\n",
        "upper_exact18 = np.asarray(exact18_results[14:15][0])[0]"
      ],
      "execution_count": 91,
      "outputs": []
    },
    {
      "cell_type": "code",
      "metadata": {
        "id": "SqiaOpB7Qxf9"
      },
      "source": [
        "# Iteration9 :\n",
        "\n",
        "slice9 = 8\n",
        "\n",
        "approx9 = [simple_regret_approx_1[slice9],\n",
        "       simple_regret_approx_2[slice9],\n",
        "       simple_regret_approx_3[slice9],\n",
        "       simple_regret_approx_4[slice9],\n",
        "       simple_regret_approx_5[slice9],\n",
        "       simple_regret_approx_6[slice9],\n",
        "       simple_regret_approx_7[slice9],\n",
        "       simple_regret_approx_8[slice9],\n",
        "       simple_regret_approx_9[slice9],\n",
        "       simple_regret_approx_10[slice9],\n",
        "       simple_regret_approx_11[slice9],\n",
        "       simple_regret_approx_12[slice9],\n",
        "       simple_regret_approx_13[slice9],\n",
        "       simple_regret_approx_14[slice9],\n",
        "       simple_regret_approx_15[slice9],\n",
        "       simple_regret_approx_16[slice9],\n",
        "       simple_regret_approx_17[slice9],\n",
        "       simple_regret_approx_18[slice9],\n",
        "       simple_regret_approx_19[slice9],\n",
        "       simple_regret_approx_20[slice9]]\n",
        "\n",
        "exact9 = [simple_regret_exact_1[slice9],\n",
        "       simple_regret_exact_2[slice9],\n",
        "       simple_regret_exact_3[slice9],\n",
        "       simple_regret_exact_4[slice9],\n",
        "       simple_regret_exact_5[slice9],\n",
        "       simple_regret_exact_6[slice9],\n",
        "       simple_regret_exact_7[slice9],\n",
        "       simple_regret_exact_8[slice9],\n",
        "       simple_regret_exact_9[slice9],\n",
        "       simple_regret_exact_10[slice9],\n",
        "       simple_regret_exact_11[slice9],\n",
        "       simple_regret_exact_12[slice9],\n",
        "       simple_regret_exact_13[slice9],\n",
        "       simple_regret_exact_14[slice9],\n",
        "       simple_regret_exact_15[slice9],\n",
        "       simple_regret_exact_16[slice9],\n",
        "       simple_regret_exact_17[slice9],\n",
        "       simple_regret_exact_18[slice9],\n",
        "       simple_regret_exact_19[slice9],\n",
        "       simple_regret_exact_20[slice9]]\n",
        "\n",
        "approx9_results = pd.DataFrame(approx9).sort_values(by=[0], ascending=False)\n",
        "exact9_results = pd.DataFrame(exact9).sort_values(by=[0], ascending=False)\n",
        "\n",
        "### Best simple regret minimization IQR - approx:\n",
        "lower_approx9 = np.asarray(approx9_results[4:5][0])[0]\n",
        "median_approx9 = np.asarray(approx9_results[9:10][0])[0]\n",
        "upper_approx9 = np.asarray(approx9_results[14:15][0])[0]\n",
        "\n",
        "lower_exact9 = np.asarray(exact9_results[4:5][0])[0]\n",
        "median_exact9 = np.asarray(exact9_results[9:10][0])[0]\n",
        "upper_exact9 = np.asarray(exact9_results[14:15][0])[0]"
      ],
      "execution_count": 92,
      "outputs": []
    },
    {
      "cell_type": "code",
      "metadata": {
        "id": "OQkCCOsPQxf9"
      },
      "source": [
        "# Iteration19 :\n",
        "\n",
        "slice19 = 18\n",
        "\n",
        "approx19 = [simple_regret_approx_1[slice19],\n",
        "       simple_regret_approx_2[slice19],\n",
        "       simple_regret_approx_3[slice19],\n",
        "       simple_regret_approx_4[slice19],\n",
        "       simple_regret_approx_5[slice19],\n",
        "       simple_regret_approx_6[slice19],\n",
        "       simple_regret_approx_7[slice19],\n",
        "       simple_regret_approx_8[slice19],\n",
        "       simple_regret_approx_9[slice19],\n",
        "       simple_regret_approx_10[slice19],\n",
        "       simple_regret_approx_11[slice19],\n",
        "       simple_regret_approx_12[slice19],\n",
        "       simple_regret_approx_13[slice19],\n",
        "       simple_regret_approx_14[slice19],\n",
        "       simple_regret_approx_15[slice19],\n",
        "       simple_regret_approx_16[slice19],\n",
        "       simple_regret_approx_17[slice19],\n",
        "       simple_regret_approx_18[slice19],\n",
        "       simple_regret_approx_19[slice19],\n",
        "       simple_regret_approx_20[slice19]]\n",
        "\n",
        "exact19 = [simple_regret_exact_1[slice19],\n",
        "       simple_regret_exact_2[slice19],\n",
        "       simple_regret_exact_3[slice19],\n",
        "       simple_regret_exact_4[slice19],\n",
        "       simple_regret_exact_5[slice19],\n",
        "       simple_regret_exact_6[slice19],\n",
        "       simple_regret_exact_7[slice19],\n",
        "       simple_regret_exact_8[slice19],\n",
        "       simple_regret_exact_9[slice19],\n",
        "       simple_regret_exact_10[slice19],\n",
        "       simple_regret_exact_11[slice19],\n",
        "       simple_regret_exact_12[slice19],\n",
        "       simple_regret_exact_13[slice19],\n",
        "       simple_regret_exact_14[slice19],\n",
        "       simple_regret_exact_15[slice19],\n",
        "       simple_regret_exact_16[slice19],\n",
        "       simple_regret_exact_17[slice19],\n",
        "       simple_regret_exact_18[slice19],\n",
        "       simple_regret_exact_19[slice19],\n",
        "       simple_regret_exact_20[slice19]]\n",
        "\n",
        "approx19_results = pd.DataFrame(approx19).sort_values(by=[0], ascending=False)\n",
        "exact19_results = pd.DataFrame(exact19).sort_values(by=[0], ascending=False)\n",
        "\n",
        "### Best simple regret minimization IQR - approx:\n",
        "lower_approx19 = np.asarray(approx19_results[4:5][0])[0]\n",
        "median_approx19 = np.asarray(approx19_results[9:10][0])[0]\n",
        "upper_approx19 = np.asarray(approx19_results[14:15][0])[0]\n",
        "\n",
        "lower_exact19 = np.asarray(exact19_results[4:5][0])[0]\n",
        "median_exact19 = np.asarray(exact19_results[9:10][0])[0]\n",
        "upper_exact19 = np.asarray(exact19_results[14:15][0])[0]"
      ],
      "execution_count": 93,
      "outputs": []
    },
    {
      "cell_type": "code",
      "metadata": {
        "id": "h4vtWahcQxf-"
      },
      "source": [
        "# Iteration10 :\n",
        "\n",
        "slice10 = 9\n",
        "\n",
        "approx10 = [simple_regret_approx_1[slice10],\n",
        "       simple_regret_approx_2[slice10],\n",
        "       simple_regret_approx_3[slice10],\n",
        "       simple_regret_approx_4[slice10],\n",
        "       simple_regret_approx_5[slice10],\n",
        "       simple_regret_approx_6[slice10],\n",
        "       simple_regret_approx_7[slice10],\n",
        "       simple_regret_approx_8[slice10],\n",
        "       simple_regret_approx_9[slice10],\n",
        "       simple_regret_approx_10[slice10],\n",
        "       simple_regret_approx_11[slice10],\n",
        "       simple_regret_approx_12[slice10],\n",
        "       simple_regret_approx_13[slice10],\n",
        "       simple_regret_approx_14[slice10],\n",
        "       simple_regret_approx_15[slice10],\n",
        "       simple_regret_approx_16[slice10],\n",
        "       simple_regret_approx_17[slice10],\n",
        "       simple_regret_approx_18[slice10],\n",
        "       simple_regret_approx_19[slice10],\n",
        "       simple_regret_approx_20[slice10]]\n",
        "\n",
        "exact10 = [simple_regret_exact_1[slice10],\n",
        "       simple_regret_exact_2[slice10],\n",
        "       simple_regret_exact_3[slice10],\n",
        "       simple_regret_exact_4[slice10],\n",
        "       simple_regret_exact_5[slice10],\n",
        "       simple_regret_exact_6[slice10],\n",
        "       simple_regret_exact_7[slice10],\n",
        "       simple_regret_exact_8[slice10],\n",
        "       simple_regret_exact_9[slice10],\n",
        "       simple_regret_exact_10[slice10],\n",
        "       simple_regret_exact_11[slice10],\n",
        "       simple_regret_exact_12[slice10],\n",
        "       simple_regret_exact_13[slice10],\n",
        "       simple_regret_exact_14[slice10],\n",
        "       simple_regret_exact_15[slice10],\n",
        "       simple_regret_exact_16[slice10],\n",
        "       simple_regret_exact_17[slice10],\n",
        "       simple_regret_exact_18[slice10],\n",
        "       simple_regret_exact_19[slice10],\n",
        "       simple_regret_exact_20[slice10]]\n",
        "\n",
        "approx10_results = pd.DataFrame(approx10).sort_values(by=[0], ascending=False)\n",
        "exact10_results = pd.DataFrame(exact10).sort_values(by=[0], ascending=False)\n",
        "\n",
        "### Best simple regret minimization IQR - approx:\n",
        "lower_approx10 = np.asarray(approx10_results[4:5][0])[0]\n",
        "median_approx10 = np.asarray(approx10_results[9:10][0])[0]\n",
        "upper_approx10 = np.asarray(approx10_results[14:15][0])[0]\n",
        "\n",
        "lower_exact10 = np.asarray(exact10_results[4:5][0])[0]\n",
        "median_exact10 = np.asarray(exact10_results[9:10][0])[0]\n",
        "upper_exact10 = np.asarray(exact10_results[14:15][0])[0]"
      ],
      "execution_count": 94,
      "outputs": []
    },
    {
      "cell_type": "code",
      "metadata": {
        "id": "Rsf240pWQxf-"
      },
      "source": [
        "# Iteration20 :\n",
        "\n",
        "slice20 = 19\n",
        "\n",
        "approx20 = [simple_regret_approx_1[slice20],\n",
        "       simple_regret_approx_2[slice20],\n",
        "       simple_regret_approx_3[slice20],\n",
        "       simple_regret_approx_4[slice20],\n",
        "       simple_regret_approx_5[slice20],\n",
        "       simple_regret_approx_6[slice20],\n",
        "       simple_regret_approx_7[slice20],\n",
        "       simple_regret_approx_8[slice20],\n",
        "       simple_regret_approx_9[slice20],\n",
        "       simple_regret_approx_10[slice20],\n",
        "       simple_regret_approx_11[slice20],\n",
        "       simple_regret_approx_12[slice20],\n",
        "       simple_regret_approx_13[slice20],\n",
        "       simple_regret_approx_14[slice20],\n",
        "       simple_regret_approx_15[slice20],\n",
        "       simple_regret_approx_16[slice20],\n",
        "       simple_regret_approx_17[slice20],\n",
        "       simple_regret_approx_18[slice20],\n",
        "       simple_regret_approx_19[slice20],\n",
        "       simple_regret_approx_20[slice20]]\n",
        "\n",
        "exact20 = [simple_regret_exact_1[slice20],\n",
        "       simple_regret_exact_2[slice20],\n",
        "       simple_regret_exact_3[slice20],\n",
        "       simple_regret_exact_4[slice20],\n",
        "       simple_regret_exact_5[slice20],\n",
        "       simple_regret_exact_6[slice20],\n",
        "       simple_regret_exact_7[slice20],\n",
        "       simple_regret_exact_8[slice20],\n",
        "       simple_regret_exact_9[slice20],\n",
        "       simple_regret_exact_10[slice20],\n",
        "       simple_regret_exact_11[slice20],\n",
        "       simple_regret_exact_12[slice20],\n",
        "       simple_regret_exact_13[slice20],\n",
        "       simple_regret_exact_14[slice20],\n",
        "       simple_regret_exact_15[slice20],\n",
        "       simple_regret_exact_16[slice20],\n",
        "       simple_regret_exact_17[slice20],\n",
        "       simple_regret_exact_18[slice20],\n",
        "       simple_regret_exact_19[slice20],\n",
        "       simple_regret_exact_20[slice20]]\n",
        "\n",
        "approx20_results = pd.DataFrame(approx20).sort_values(by=[0], ascending=False)\n",
        "exact20_results = pd.DataFrame(exact20).sort_values(by=[0], ascending=False)\n",
        "\n",
        "### Best simple regret minimization IQR - approx:\n",
        "lower_approx20 = np.asarray(approx20_results[4:5][0])[0]\n",
        "median_approx20 = np.asarray(approx20_results[9:10][0])[0]\n",
        "upper_approx20 = np.asarray(approx20_results[14:15][0])[0]\n",
        "\n",
        "lower_exact20 = np.asarray(exact20_results[4:5][0])[0]\n",
        "median_exact20 = np.asarray(exact20_results[9:10][0])[0]\n",
        "upper_exact20 = np.asarray(exact20_results[14:15][0])[0]"
      ],
      "execution_count": 95,
      "outputs": []
    },
    {
      "cell_type": "code",
      "metadata": {
        "id": "gn36RejbQxf_"
      },
      "source": [
        "### Summarize arrays: 'Loser'\n",
        "\n",
        "lower_approx = [lower_approx1,\n",
        "            lower_approx2,\n",
        "            lower_approx3,\n",
        "            lower_approx4,\n",
        "            lower_approx5,\n",
        "            lower_approx6,\n",
        "            lower_approx7,\n",
        "            lower_approx8,\n",
        "            lower_approx9,\n",
        "            lower_approx10,\n",
        "            lower_approx11,\n",
        "            lower_approx12,\n",
        "            lower_approx13,\n",
        "            lower_approx14,\n",
        "            lower_approx15,\n",
        "            lower_approx16,\n",
        "            lower_approx17,\n",
        "            lower_approx18,\n",
        "            lower_approx19,\n",
        "            lower_approx20,\n",
        "            lower_approx21]\n",
        "\n",
        "median_approx = [median_approx1,\n",
        "            median_approx2,\n",
        "            median_approx3,\n",
        "            median_approx4,\n",
        "            median_approx5,\n",
        "            median_approx6,\n",
        "            median_approx7,\n",
        "            median_approx8,\n",
        "            median_approx9,\n",
        "            median_approx10,\n",
        "            median_approx11,\n",
        "            median_approx12,\n",
        "            median_approx13,\n",
        "            median_approx14,\n",
        "            median_approx15,\n",
        "            median_approx16,\n",
        "            median_approx17,\n",
        "            median_approx18,\n",
        "            median_approx19,\n",
        "            median_approx20,\n",
        "            median_approx21]\n",
        "\n",
        "upper_approx = [upper_approx1,\n",
        "            upper_approx2,\n",
        "            upper_approx3,\n",
        "            upper_approx4,\n",
        "            upper_approx5,\n",
        "            upper_approx6,\n",
        "            upper_approx7,\n",
        "            upper_approx8,\n",
        "            upper_approx9,\n",
        "            upper_approx10,\n",
        "            upper_approx11,\n",
        "            upper_approx12,\n",
        "            upper_approx13,\n",
        "            upper_approx14,\n",
        "            upper_approx15,\n",
        "            upper_approx16,\n",
        "            upper_approx17,\n",
        "            upper_approx18,\n",
        "            upper_approx19,\n",
        "            upper_approx20,\n",
        "            upper_approx21]"
      ],
      "execution_count": 96,
      "outputs": []
    },
    {
      "cell_type": "code",
      "metadata": {
        "id": "wxtGTOYfQxf_"
      },
      "source": [
        "### Summarize arrays: 'exact'\n",
        "\n",
        "lower_exact = [lower_exact1,\n",
        "            lower_exact2,\n",
        "            lower_exact3,\n",
        "            lower_exact4,\n",
        "            lower_exact5,\n",
        "            lower_exact6,\n",
        "            lower_exact7,\n",
        "            lower_exact8,\n",
        "            lower_exact9,\n",
        "            lower_exact10,\n",
        "            lower_exact11,\n",
        "            lower_exact12,\n",
        "            lower_exact13,\n",
        "            lower_exact14,\n",
        "            lower_exact15,\n",
        "            lower_exact16,\n",
        "            lower_exact17,\n",
        "            lower_exact18,\n",
        "            lower_exact19,\n",
        "            lower_exact20,\n",
        "            lower_exact21]\n",
        "\n",
        "median_exact = [median_exact1,\n",
        "            median_exact2,\n",
        "            median_exact3,\n",
        "            median_exact4,\n",
        "            median_exact5,\n",
        "            median_exact6,\n",
        "            median_exact7,\n",
        "            median_exact8,\n",
        "            median_exact9,\n",
        "            median_exact10,\n",
        "            median_exact11,\n",
        "            median_exact12,\n",
        "            median_exact13,\n",
        "            median_exact14,\n",
        "            median_exact15,\n",
        "            median_exact16,\n",
        "            median_exact17,\n",
        "            median_exact18,\n",
        "            median_exact19,\n",
        "            median_exact20,\n",
        "            median_exact21]\n",
        "\n",
        "upper_exact = [upper_exact1,\n",
        "            upper_exact2,\n",
        "            upper_exact3,\n",
        "            upper_exact4,\n",
        "            upper_exact5,\n",
        "            upper_exact6,\n",
        "            upper_exact7,\n",
        "            upper_exact8,\n",
        "            upper_exact9,\n",
        "            upper_exact10,\n",
        "            upper_exact11,\n",
        "            upper_exact12,\n",
        "            upper_exact13,\n",
        "            upper_exact14,\n",
        "            upper_exact15,\n",
        "            upper_exact16,\n",
        "            upper_exact17,\n",
        "            upper_exact18,\n",
        "            upper_exact19,\n",
        "            upper_exact20,\n",
        "            upper_exact21]"
      ],
      "execution_count": 97,
      "outputs": []
    },
    {
      "cell_type": "code",
      "metadata": {
        "id": "2MONq-BXQxgA",
        "colab": {
          "base_uri": "https://localhost:8080/",
          "height": 299
        },
        "outputId": "ae5823c8-c32f-4e08-a454-560e0cc2283f"
      },
      "source": [
        "### Visualise!\n",
        "\n",
        "title = func\n",
        "plt.figure()\n",
        "\n",
        "plt.plot(median_approx, color = 'Yellow')\n",
        "plt.plot(median_exact, color = 'Red')\n",
        "\n",
        "xstar = np.arange(0, iters+1, step=1)\n",
        "plt.fill_between(xstar, lower_approx, upper_approx, facecolor = 'Yellow', alpha=0.4, label='GP EI Optimization: L-BFGS-B')\n",
        "plt.fill_between(xstar, lower_exact, upper_exact, facecolor = 'Red', alpha=0.4, label='GP EI Optimization: Best Random Sample')\n",
        "\n",
        "plt.title(title, weight = 'bold')\n",
        "plt.xlabel('(Post-initialization) iteration $\\it{k}$', weight = 'bold')\n",
        "plt.ylabel('log(Regret)', weight = 'bold') \n",
        "plt.legend(loc=1) # add plot legend\n",
        "\n",
        "### Make the x-ticks integers, not floats:\n",
        "count = len(xstar)\n",
        "plt.xticks(np.arange(count), np.arange(0, count))\n",
        "plt.show() #visualize!"
      ],
      "execution_count": 120,
      "outputs": [
        {
          "output_type": "display_data",
          "data": {
            "image/png": "[encoded data removed]",
            "text/plain": [
              "<Figure size 432x288 with 1 Axes>"
            ]
          },
          "metadata": {
            "needs_background": "light"
          }
        }
      ]
    },
    {
      "cell_type": "code",
      "metadata": {
        "id": "l5dkR2Id2oiu",
        "colab": {
          "base_uri": "https://localhost:8080/"
        },
        "outputId": "7443ac26-f222-463a-d69f-ddf51bfe50fc"
      },
      "source": [
        "time_approx, time_exact\n"
      ],
      "execution_count": 99,
      "outputs": [
        {
          "output_type": "execute_result",
          "data": {
            "text/plain": [
              "(181.00443482398987, 51.986690521240234)"
            ]
          },
          "metadata": {},
          "execution_count": 99
        }
      ]
    },
    {
      "cell_type": "code",
      "metadata": {
        "id": "77BffxK2Fe61"
      },
      "source": [
        ""
      ],
      "execution_count": 99,
      "outputs": []
    }
  ]
}