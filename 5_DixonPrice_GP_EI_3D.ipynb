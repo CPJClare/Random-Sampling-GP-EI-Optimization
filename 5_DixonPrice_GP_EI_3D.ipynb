{
  "nbformat": 4,
  "nbformat_minor": 0,
  "metadata": {
    "colab": {
      "name": "5. DixonPrice_GP_EI_3D.ipynb",
      "provenance": [],
      "collapsed_sections": []
    },
    "kernelspec": {
      "name": "python3",
      "display_name": "Python 3"
    },
    "language_info": {
      "name": "python"
    }
  },
  "cells": [
    {
      "cell_type": "markdown",
      "metadata": {
        "id": "Dqn4dFx7Z2Ir"
      },
      "source": [
        "\n",
        "DixonPrice: 3D\n"
      ]
    },
    {
      "cell_type": "code",
      "metadata": {
        "id": "MJTM_GZZZb5x",
        "colab": {
          "base_uri": "https://localhost:8080/"
        },
        "outputId": "ffe935ca-66b2-467a-c92c-d4d25772711a"
      },
      "source": [
        "pip install pyGPGO\n"
      ],
      "execution_count": 1,
      "outputs": [
        {
          "output_type": "stream",
          "name": "stdout",
          "text": [
            "Collecting pyGPGO\n",
            "  Downloading pyGPGO-0.5.1.tar.gz (14 kB)\n",
            "Requirement already satisfied: numpy in /usr/local/lib/python3.7/dist-packages (from pyGPGO) (1.19.5)\n",
            "Requirement already satisfied: mkl in /usr/local/lib/python3.7/dist-packages (from pyGPGO) (2019.0)\n",
            "Requirement already satisfied: scipy in /usr/local/lib/python3.7/dist-packages (from pyGPGO) (1.4.1)\n",
            "Requirement already satisfied: joblib in /usr/local/lib/python3.7/dist-packages (from pyGPGO) (1.0.1)\n",
            "Requirement already satisfied: scikit-learn in /usr/local/lib/python3.7/dist-packages (from pyGPGO) (0.22.2.post1)\n",
            "Requirement already satisfied: Theano-PyMC in /usr/local/lib/python3.7/dist-packages (from pyGPGO) (1.1.2)\n",
            "Requirement already satisfied: pyMC3 in /usr/local/lib/python3.7/dist-packages (from pyGPGO) (3.11.2)\n",
            "Requirement already satisfied: intel-openmp in /usr/local/lib/python3.7/dist-packages (from mkl->pyGPGO) (2021.3.0)\n",
            "Requirement already satisfied: typing-extensions>=3.7.4 in /usr/local/lib/python3.7/dist-packages (from pyMC3->pyGPGO) (3.7.4.3)\n",
            "Requirement already satisfied: dill in /usr/local/lib/python3.7/dist-packages (from pyMC3->pyGPGO) (0.3.4)\n",
            "Requirement already satisfied: arviz>=0.11.0 in /usr/local/lib/python3.7/dist-packages (from pyMC3->pyGPGO) (0.11.2)\n",
            "Requirement already satisfied: patsy>=0.5.1 in /usr/local/lib/python3.7/dist-packages (from pyMC3->pyGPGO) (0.5.1)\n",
            "Requirement already satisfied: semver in /usr/local/lib/python3.7/dist-packages (from pyMC3->pyGPGO) (2.13.0)\n",
            "Requirement already satisfied: cachetools>=4.2.1 in /usr/local/lib/python3.7/dist-packages (from pyMC3->pyGPGO) (4.2.2)\n",
            "Requirement already satisfied: fastprogress>=0.2.0 in /usr/local/lib/python3.7/dist-packages (from pyMC3->pyGPGO) (1.0.0)\n",
            "Requirement already satisfied: pandas>=0.24.0 in /usr/local/lib/python3.7/dist-packages (from pyMC3->pyGPGO) (1.1.5)\n",
            "Requirement already satisfied: filelock in /usr/local/lib/python3.7/dist-packages (from Theano-PyMC->pyGPGO) (3.0.12)\n",
            "Requirement already satisfied: xarray>=0.16.1 in /usr/local/lib/python3.7/dist-packages (from arviz>=0.11.0->pyMC3->pyGPGO) (0.18.2)\n",
            "Requirement already satisfied: netcdf4 in /usr/local/lib/python3.7/dist-packages (from arviz>=0.11.0->pyMC3->pyGPGO) (1.5.7)\n",
            "Requirement already satisfied: setuptools>=38.4 in /usr/local/lib/python3.7/dist-packages (from arviz>=0.11.0->pyMC3->pyGPGO) (57.4.0)\n",
            "Requirement already satisfied: matplotlib>=3.0 in /usr/local/lib/python3.7/dist-packages (from arviz>=0.11.0->pyMC3->pyGPGO) (3.2.2)\n",
            "Requirement already satisfied: packaging in /usr/local/lib/python3.7/dist-packages (from arviz>=0.11.0->pyMC3->pyGPGO) (21.0)\n",
            "Requirement already satisfied: python-dateutil>=2.1 in /usr/local/lib/python3.7/dist-packages (from matplotlib>=3.0->arviz>=0.11.0->pyMC3->pyGPGO) (2.8.2)\n",
            "Requirement already satisfied: pyparsing!=2.0.4,!=2.1.2,!=2.1.6,>=2.0.1 in /usr/local/lib/python3.7/dist-packages (from matplotlib>=3.0->arviz>=0.11.0->pyMC3->pyGPGO) (2.4.7)\n",
            "Requirement already satisfied: cycler>=0.10 in /usr/local/lib/python3.7/dist-packages (from matplotlib>=3.0->arviz>=0.11.0->pyMC3->pyGPGO) (0.10.0)\n",
            "Requirement already satisfied: kiwisolver>=1.0.1 in /usr/local/lib/python3.7/dist-packages (from matplotlib>=3.0->arviz>=0.11.0->pyMC3->pyGPGO) (1.3.1)\n",
            "Requirement already satisfied: six in /usr/local/lib/python3.7/dist-packages (from cycler>=0.10->matplotlib>=3.0->arviz>=0.11.0->pyMC3->pyGPGO) (1.15.0)\n",
            "Requirement already satisfied: pytz>=2017.2 in /usr/local/lib/python3.7/dist-packages (from pandas>=0.24.0->pyMC3->pyGPGO) (2018.9)\n",
            "Requirement already satisfied: cftime in /usr/local/lib/python3.7/dist-packages (from netcdf4->arviz>=0.11.0->pyMC3->pyGPGO) (1.5.0)\n",
            "Building wheels for collected packages: pyGPGO\n",
            "  Building wheel for pyGPGO (setup.py) ... \u001b[?25l\u001b[?25hdone\n",
            "  Created wheel for pyGPGO: filename=pyGPGO-0.5.1-py3-none-any.whl size=19880 sha256=0f10823165baa553dd9b0bb8c1e1e06df89fc00b51c9a135b259919e7e4327e9\n",
            "  Stored in directory: /root/.cache/pip/wheels/c8/5d/0b/2160114e2f1b87791c51b66cf07f89831dbb6f49167950316f\n",
            "Successfully built pyGPGO\n",
            "Installing collected packages: pyGPGO\n",
            "Successfully installed pyGPGO-0.5.1\n"
          ]
        }
      ]
    },
    {
      "cell_type": "code",
      "metadata": {
        "id": "ZJSSPbwPaEUB"
      },
      "source": [
        "### Import:\n",
        "\n",
        "import numpy as np\n",
        "import scipy as sp\n",
        "import pandas as pd\n",
        "import matplotlib.pyplot as plt\n",
        "import warnings\n",
        "import itertools\n",
        "\n",
        "from pyGPGO.GPGO import GPGO\n",
        "from pyGPGO.surrogates.GaussianProcess import GaussianProcess\n",
        "from pyGPGO.acquisition import Acquisition\n",
        "from pyGPGO.covfunc import squaredExponential\n",
        "\n",
        "from joblib import Parallel, delayed\n",
        "from numpy.linalg import solve, cholesky\n",
        "from scipy.spatial.distance import cdist\n",
        "from scipy.optimize import minimize\n",
        "from scipy.stats import norm\n",
        "import time\n",
        "\n",
        "warnings.filterwarnings(\"ignore\", category=RuntimeWarning)\n"
      ],
      "execution_count": 2,
      "outputs": []
    },
    {
      "cell_type": "code",
      "metadata": {
        "id": "OeYcTUNoaJWa"
      },
      "source": [
        "### Inputs:\n",
        "\n",
        "func = 'DixonPrice'\n",
        "n_test = 500\n",
        "eps = 1e-08\n",
        "\n",
        "util_grad_exact = 'dEI_GP'\n",
        "util_grad_approx = 'ExpectedImprovement'\n",
        "\n",
        "n_init = 5 # random initialisations\n",
        "iters = 30\n",
        "opt = True"
      ],
      "execution_count": 3,
      "outputs": []
    },
    {
      "cell_type": "code",
      "metadata": {
        "id": "xpaEOjdzaPMS"
      },
      "source": [
        "### Objective Function - DixonPrice(x) 3-D:\n",
        "\n",
        "def objfunc(x1_training, x2_training, x3_training):\n",
        "            return  operator * ((x1_training - 1)**2\n",
        "                            + 2 * (2 * x2_training ** 2 - x1_training)**2\n",
        "                            + 3 * (2 * x3_training ** 2 - x2_training)**2      \n",
        "                           )\n",
        "        \n",
        "# Constraints:\n",
        "lb = -10\n",
        "ub = +10\n",
        "    \n",
        "# Input array dimension(s):\n",
        "dim = 3\n",
        "\n",
        "# 3-D inputs' parameter bounds:\n",
        "param = {'x1_training': ('cont', [lb, ub]),\n",
        "                 'x2_training': ('cont', [lb, ub]),\n",
        "                'x3_training': ('cont', [lb, ub])\n",
        "                 }\n",
        "    \n",
        "# True y bounds:\n",
        "y_lb = 0\n",
        "operator = -1 # targets global minimum \n",
        "y_global_orig = y_lb * operator # targets global minimum\n",
        "    \n",
        "# Test data:\n",
        "x1_test = np.linspace(lb, ub, n_test)\n",
        "x2_test = np.linspace(lb, ub, n_test)\n",
        "x3_test = np.linspace(lb, ub, n_test)\n",
        "Xstar = np.column_stack((x1_test, x2_test, x3_test))\n"
      ],
      "execution_count": 4,
      "outputs": []
    },
    {
      "cell_type": "code",
      "metadata": {
        "id": "eYpI3Zm4aGxi"
      },
      "source": [
        "n_start_AcqFunc = iters #multi-start iterations to avoid local optima in AcqFunc optimization\n"
      ],
      "execution_count": 5,
      "outputs": []
    },
    {
      "cell_type": "code",
      "metadata": {
        "id": "oO_GUmOoaV0T"
      },
      "source": [
        "### Cumulative Regret Calculator:\n",
        "\n",
        "def min_max_array(x):\n",
        "    new_list = []\n",
        "    for i, num in enumerate(x):\n",
        "            new_list.append(np.min(x[0:i+1]))\n",
        "    return new_list\n",
        "  "
      ],
      "execution_count": 6,
      "outputs": []
    },
    {
      "cell_type": "code",
      "metadata": {
        "id": "kuuJx0IMam9S"
      },
      "source": [
        "### Surrogate derivatives: \n",
        "\n",
        "cov_func = squaredExponential()\n",
        "\n",
        "def kronDelta(X, Xstar):\n",
        "    return cdist(X, Xstar) < np.finfo(np.float32).eps\n",
        "\n",
        "def se(X, Xstar, sigmaf, l, sigman):\n",
        "    return sigmaf * np.exp(-0.5 * cdist(X, Xstar) ** 2 / l ** 2) + sigman * kronDelta(X, Xstar)\n",
        "\n",
        "def deriv_se(X, Xstar, sigmaf, l, sigman):\n",
        "    return cdist(X, Xstar) / (l ** 2) * se(X, Xstar, sigmaf, l, sigman)\n",
        "\n",
        "def der_covmat(X, Xstar, sigmaf, l, sigman):\n",
        "      nx = len(X)\n",
        "      ny = len(Xstar)\n",
        "      return np.round(np.array([deriv_se(np.atleast_2d(i), np.atleast_2d(j), sigmaf, l, sigman) for (i, j) in itertools.product(X, Xstar)]).reshape(nx, ny), 8)\n",
        "\n",
        "class dGaussianProcess(GaussianProcess):\n",
        "    l = GaussianProcess(cov_func, optimize=opt).getcovparams()['l']\n",
        "    sigmaf = GaussianProcess(cov_func, optimize=opt).getcovparams()['sigmaf']\n",
        "    sigman = GaussianProcess(cov_func, optimize=opt).getcovparams()['sigman']\n",
        "\n",
        "    def AcqGrad(self, Xstar):\n",
        "        Xstar = np.atleast_2d(Xstar)\n",
        "        Kstar = self.covfunc.K(self.X, Xstar).T\n",
        "        dKstar = der_covmat(self.X, Xstar, self.sigmaf, self.l, self.sigman).T\n",
        "        \n",
        "        alpha_Kstar = np.dot(np.linalg.inv(self.K + (self.sigman**2) * np.eye(len(self.X))), Kstar.T)\n",
        "        \n",
        "        dm = np.dot(dKstar, self.alpha)\n",
        "        ds = -2 * np.dot(dKstar, alpha_Kstar)\n",
        "        \n",
        "        return dm, ds\n",
        "        "
      ],
      "execution_count": 7,
      "outputs": []
    },
    {
      "cell_type": "code",
      "metadata": {
        "id": "_Dc3YVHVaXz7"
      },
      "source": [
        "class Acquisition_new(Acquisition):    \n",
        "    def __init__(self, mode, eps=eps, **params):\n",
        "        \n",
        "        self.params = params\n",
        "        self.eps = eps\n",
        "\n",
        "        mode_dict = {\n",
        "            'dEI_GP': self.dEI_GP\n",
        "        }\n",
        "\n",
        "        self.f = mode_dict[mode]\n",
        "    \n",
        "    def dEI_GP(self, tau, mean, std, ds, dm):\n",
        "        gamma = (mean - tau - self.eps) / (std + self.eps)\n",
        "        gamma_h = (mean - tau) / (std + self.eps)\n",
        "        dsdx = ds / (2 * (std + self.eps))\n",
        "        dmdx = (dm - gamma * dsdx) / (std + self.eps)\n",
        "        \n",
        "        f = (std + self.eps) * (gamma * norm.cdf(gamma) + norm.pdf(gamma))\n",
        "        df1 = f / (std + self.eps) * dsdx \n",
        "        df2 = (std + self.eps) * norm.cdf(gamma) * dmdx\n",
        "        df = (df1 + df2)[0]\n",
        "        df_arr = []\n",
        "\n",
        "        for j in range(0, dim):\n",
        "          df_arr.append(df)\n",
        "        return f, np.asarray(df_arr).transpose()\n",
        "        \n",
        "    def d_eval(self, tau, mean, std, ds, dm):\n",
        "    \n",
        "        return self.f(tau, mean, std, ds, dm, **self.params)\n",
        "        "
      ],
      "execution_count": 8,
      "outputs": []
    },
    {
      "cell_type": "code",
      "metadata": {
        "id": "PITEQC8YSl7i"
      },
      "source": [
        "## GPGO_multi: Multistart changed to variable 'n_start_AcqFunc'\n",
        "\n",
        "class GPGO_multi(GPGO):\n",
        "    n_start = n_start_AcqFunc\n",
        "\n",
        "    def _optimizeAcq(self, method='L-BFGS-B', n_start=n_start_AcqFunc):\n",
        "        \n",
        "        start_points_dict = [self._sampleParam() for i in range(n_start)]\n",
        "        start_points_arr = np.array([list(s.values())\n",
        "                                     for s in start_points_dict])\n",
        "        x_best = np.empty((n_start, len(self.parameter_key)))\n",
        "        f_best = np.empty((n_start,))\n",
        "        if self.n_jobs == 1:\n",
        "            for index, start_point in enumerate(start_points_arr):\n",
        "                res = minimize(self._acqWrapper, x0=start_point, method=method,\n",
        "                               bounds=self.parameter_range)\n",
        "                x_best[index], f_best[index] = res.x, np.atleast_1d(res.fun)[0]\n",
        "        else:\n",
        "            opt = Parallel(n_jobs=self.n_jobs)(delayed(minimize)(self._acqWrapper,\n",
        "                                                                 x0=start_point,\n",
        "                                                                 method=method,\n",
        "                                                                 bounds=self.parameter_range) for start_point in\n",
        "                                               start_points_arr)\n",
        "            x_best = np.array([res.x for res in opt])\n",
        "            f_best = np.array([np.atleast_1d(res.fun)[0] for res in opt])\n",
        "\n",
        "        self.best = x_best[np.argmin(f_best)]"
      ],
      "execution_count": 9,
      "outputs": []
    },
    {
      "cell_type": "code",
      "metadata": {
        "id": "b_B-w81BJxKN"
      },
      "source": [
        "## dGPGO:\n",
        "\n",
        "grad = 0\n",
        "\n",
        "class dGPGO(GPGO):\n",
        "    n_start = n_start_AcqFunc\n",
        "\n",
        "    def d_optimizeAcq(self, method='L-BFGS-B', n_start=n_start_AcqFunc):\n",
        "        start_points_dict = [self._sampleParam() for i in range(n_start)]\n",
        "        start_points_arr = np.array([list(s.values())\n",
        "                                     for s in start_points_dict])\n",
        "        x_best = np.empty((n_start, len(self.parameter_key)))\n",
        "        f_best = np.empty((n_start,))\n",
        "        opt = Parallel(n_jobs=self.n_jobs)(delayed(minimize)(self.acqfunc,\n",
        "                                                                 x0=start_point,\n",
        "                                                                 method=method,\n",
        "                                                                 jac = True,\n",
        "                                                                 bounds=self.parameter_range) for start_point in\n",
        "                                               start_points_arr)\n",
        "        x_best = np.array([res.x for res in opt])\n",
        "        f_best = np.array([np.atleast_1d(res.fun)[0] for res in opt])\n",
        "\n",
        "        self.x_best = x_best\n",
        "        self.f_best = f_best\n",
        "        self.best = x_best[np.argmin(f_best)]\n",
        "        self.start_points_arr = start_points_arr\n",
        "\n",
        "        return x_best, f_best\n",
        "    \n",
        "    def run(self, max_iter=10, init_evals=3, resume=False):\n",
        "        \n",
        "        if not resume:\n",
        "            self.init_evals = init_evals\n",
        "            self._firstRun(self.init_evals)\n",
        "            self.logger._printInit(self)\n",
        "        for iteration in range(max_iter):\n",
        "            self.d_optimizeAcq()\n",
        "            self.updateGP()\n",
        "            self.logger._printCurrent(self)\n",
        "\n",
        "    def acqfunc(self, xnew, n_start=n_start_AcqFunc):\n",
        "        new_mean, new_var = self.GP.predict(xnew, return_std=True)\n",
        "        new_std = np.sqrt(new_var + eps)\n",
        "        dm, ds = self.GP.AcqGrad(xnew)\n",
        "        f, df = self.A.d_eval(self.tau, new_mean, new_std, ds=ds, dm=dm)\n",
        "\n",
        "        return -f, -df * grad\n"
      ],
      "execution_count": 10,
      "outputs": []
    },
    {
      "cell_type": "code",
      "metadata": {
        "id": "qXIKGuXVGEg2"
      },
      "source": [
        "###Reproducible set-seeds:\n",
        "\n",
        "run_num_1 = 1\n",
        "run_num_2 = 2\n",
        "run_num_3 = 3\n",
        "run_num_4 = 4\n",
        "run_num_5 = 5\n",
        "run_num_6 = 6\n",
        "run_num_7 = 7\n",
        "run_num_8 = 8\n",
        "run_num_9 = 9\n",
        "run_num_10 = 10\n",
        "run_num_11 = 11\n",
        "run_num_12 = 12\n",
        "run_num_13 = 13\n",
        "run_num_14 = 14\n",
        "run_num_15 = 15\n",
        "run_num_16 = 16\n",
        "run_num_17 = 17\n",
        "run_num_18 = 18\n",
        "run_num_19 = 19\n",
        "run_num_20 = 20\n"
      ],
      "execution_count": 11,
      "outputs": []
    },
    {
      "cell_type": "code",
      "metadata": {
        "colab": {
          "base_uri": "https://localhost:8080/"
        },
        "id": "JEhagQmnTVIK",
        "outputId": "22f42941-3965-40ef-9d91-5a50e29b1693"
      },
      "source": [
        "start_approx = time.time()\n",
        "start_approx\n"
      ],
      "execution_count": 12,
      "outputs": [
        {
          "output_type": "execute_result",
          "data": {
            "text/plain": [
              "1631274356.2880228"
            ]
          },
          "metadata": {},
          "execution_count": 12
        }
      ]
    },
    {
      "cell_type": "code",
      "metadata": {
        "colab": {
          "base_uri": "https://localhost:8080/"
        },
        "id": "aH0YSTXufD1v",
        "outputId": "c68fd687-80c1-4021-962d-66afdad624c7"
      },
      "source": [
        "### ESTIMATED GP EI GRADIENTS\n",
        "\n",
        "np.random.seed(run_num_1)\n",
        "surrogate_approx_1 = GaussianProcess(cov_func, optimize=opt)\n",
        "\n",
        "approx_1 = GPGO_multi(surrogate_approx_1, Acquisition(util_grad_approx), objfunc, param)\n",
        "approx_1.run(init_evals=n_init, max_iter=iters)\n"
      ],
      "execution_count": 13,
      "outputs": [
        {
          "output_type": "stream",
          "name": "stdout",
          "text": [
            "Evaluation \t Proposed point \t  Current eval. \t Best eval.\n",
            "init   \t [-1.65955991  4.40648987 -9.9977125 ]. \t  -117949.69994259246 \t -1743.4541121077734\n",
            "init   \t [-3.95334855 -7.06488218 -8.1532281 ]. \t  -80377.19459880023 \t -1743.4541121077734\n",
            "init   \t [-6.27479577 -3.08878546 -2.06465052]. \t  -1743.4541121077734 \t -1743.4541121077734\n",
            "init   \t [ 0.77633468 -1.61610971  3.70439001]. \t  -2573.2528931184784 \t -1743.4541121077734\n",
            "init   \t [-5.91095501  7.56234873 -9.45224814]. \t  -116840.74897847573 \t -1743.4541121077734\n",
            "1      \t [-8.03306332 -1.5778475   9.1577906 ]. \t  -86415.93772353831 \t -1743.4541121077734\n",
            "2      \t [-5.34051452  6.14210391 -2.24278712]. \t  -13140.755438034004 \t -1743.4541121077734\n",
            "3      \t [ 8.37203556 -9.9919595   9.53518298]. \t  -183648.52554820437 \t -1743.4541121077734\n",
            "4      \t [ 4.63457201 -4.80603213 -4.85861402]. \t  -11585.604670094763 \t -1743.4541121077734\n",
            "5      \t [-3.51458507  8.6139047   6.52216403]. \t  -63715.6072154213 \t -1743.4541121077734\n",
            "6      \t [10. 10. 10.]. \t  -180581.0 \t -1743.4541121077734\n",
            "7      \t [ 10. -10. -10.]. \t  -204581.0 \t -1743.4541121077734\n",
            "8      \t [ 3.91528429  5.55696954 -1.87034262]. \t  -6706.695269773627 \t -1743.4541121077734\n",
            "9      \t [-4.30752238 -8.77926638  4.07038662]. \t  -55517.0918391579 \t -1743.4541121077734\n",
            "10     \t [7.46136297 3.12403095 6.46006081]. \t  -19696.43286089338 \t -1743.4541121077734\n",
            "11     \t [ 10.           1.61224438 -10.        ]. \t  -118200.21040076712 \t -1743.4541121077734\n",
            "12     \t [-10. -10.  10.]. \t  -220621.0 \t -1743.4541121077734\n",
            "13     \t [ 9.65179579  8.2747925  -3.05261159]. \t  -32803.7767092942 \t -1743.4541121077734\n",
            "14     \t [-9.79655087 -0.19609376 -9.09035709]. \t  -82447.81014507987 \t -1743.4541121077734\n",
            "15     \t [-10.         -10.          -1.93827718]. \t  -89241.20344790419 \t -1743.4541121077734\n",
            "16     \t [-10.  10.  10.]. \t  -196621.0 \t -1743.4541121077734\n",
            "17     \t [ 9.27831777 -4.38088926  2.04293254]. \t  -2248.86512904509 \t -1743.4541121077734\n",
            "18     \t [  3.96563209 -10.           1.00027125]. \t  -77299.8199126438 \t -1743.4541121077734\n",
            "19     \t [8.83772492 7.39821547 4.07998997]. \t  -22325.56913947192 \t -1743.4541121077734\n",
            "20     \t [-10. -10. -10.]. \t  -220621.0 \t -1743.4541121077734\n",
            "21     \t [ 6.34764541  8.15289292 -9.94984881]. \t  -140204.11774035683 \t -1743.4541121077734\n",
            "22     \t [-4.70174104  2.11522276  3.88314194]. \t  -2764.2808204419052 \t -1743.4541121077734\n",
            "23     \t [ 3.79076228 10.         10.        ]. \t  -185303.9182879077 \t -1743.4541121077734\n",
            "24     \t [-0.52117849  0.24819199 -3.12161428]. \t  \u001b[92m-1113.764891919881\u001b[0m \t -1113.764891919881\n",
            "25     \t [0.472301   3.43147858 9.41319575]. \t  -91669.15718649968 \t -1113.764891919881\n",
            "26     \t [-0.8502108   9.82373123  0.51174177]. \t  -75427.53280321232 \t -1113.764891919881\n",
            "27     \t [-0.49243314 -4.58007791 10.        ]. \t  -129164.69014631707 \t -1113.764891919881\n",
            "28     \t [-10.          10.           2.35293267]. \t  -88324.45131146625 \t -1113.764891919881\n",
            "29     \t [  1.38477699 -10.         -10.        ]. \t  -211196.16167671437 \t -1113.764891919881\n",
            "30     \t [10.        -2.9488606 10.       ]. \t  -123754.99030393903 \t -1113.764891919881\n"
          ]
        }
      ]
    },
    {
      "cell_type": "code",
      "metadata": {
        "colab": {
          "base_uri": "https://localhost:8080/"
        },
        "id": "wTxsSZxFGBB5",
        "outputId": "25adf694-db19-4d74-95d9-834a1683e849"
      },
      "source": [
        "### ESTIMATED GP EI GRADIENTS\n",
        "\n",
        "np.random.seed(run_num_2)\n",
        "surrogate_approx_2 = GaussianProcess(cov_func, optimize=opt)\n",
        "\n",
        "approx_2 = GPGO_multi(surrogate_approx_2, Acquisition(util_grad_approx), objfunc, param)\n",
        "approx_2.run(init_evals=n_init, max_iter=iters)\n"
      ],
      "execution_count": 14,
      "outputs": [
        {
          "output_type": "stream",
          "name": "stdout",
          "text": [
            "Evaluation \t Proposed point \t  Current eval. \t Best eval.\n",
            "init   \t [-1.28010196 -9.48147536  0.99324956]. \t  -65976.47275174354 \t -579.2546019074869\n",
            "init   \t [-1.29355215 -1.59264396 -3.39330358]. \t  -1905.0058741906205 \t -579.2546019074869\n",
            "init   \t [-5.90702732  2.38541933 -4.00690653]. \t  -3296.179887891325 \t -579.2546019074869\n",
            "init   \t [-4.6634545   2.42267666  0.58284189]. \t  -579.2546019074869 \t -579.2546019074869\n",
            "init   \t [-7.30840109  0.27156243 -6.31120269]. \t  -19089.001096649215 \t -579.2546019074869\n",
            "1      \t [ 6.17490222 10.         10.        ]. \t  -183463.116669407 \t -579.2546019074869\n",
            "2      \t [0.98993642 6.90226231 9.77019402]. \t  -119362.43308455861 \t -579.2546019074869\n",
            "3      \t [ 9.60970158 -5.07492822  5.80487605]. \t  -19340.238894145325 \t -579.2546019074869\n",
            "4      \t [ 2.89052379 -3.76941193  7.60597912]. \t  -44126.90703116023 \t -579.2546019074869\n",
            "5      \t [9.47735243 3.96398709 2.5157724 ]. \t  -1262.1549087902345 \t -579.2546019074869\n",
            "6      \t [ 8.77937768 -3.87353549 -6.37757103]. \t  -22749.403915268038 \t -579.2546019074869\n",
            "7      \t [-10.  10.  10.]. \t  -196621.0 \t -579.2546019074869\n",
            "8      \t [-10.  10. -10.]. \t  -196621.0 \t -579.2546019074869\n",
            "9      \t [ -6.29187284 -10.         -10.        ]. \t  -217465.84501058265 \t -579.2546019074869\n",
            "10     \t [ 2.90787822  8.64101201 -5.34154591]. \t  -49919.38480768621 \t -579.2546019074869\n",
            "11     \t [-8.3482833  -3.17166163  8.97835999]. \t  -82783.87408520737 \t -579.2546019074869\n",
            "12     \t [  9.75312066 -10.          -0.12341001]. \t  -72766.19770740833 \t -579.2546019074869\n",
            "13     \t [ -0.60235068 -10.          10.        ]. \t  -212785.17372423533 \t -579.2546019074869\n",
            "14     \t [ 10.  10. -10.]. \t  -180581.0 \t -579.2546019074869\n",
            "15     \t [-10.         10.         -0.4409206]. \t  -88598.12423097227 \t -579.2546019074869\n",
            "16     \t [-9.06110355 -9.56744783 -1.99396877]. \t  -74852.34852606223 \t -579.2546019074869\n",
            "17     \t [ 5.10849596  2.45002436 -2.56261647]. \t  \u001b[92m-454.4522761495854\u001b[0m \t -454.4522761495854\n",
            "18     \t [-0.47497186 -5.75625501 -3.13046353]. \t  -10840.434725745177 \t -454.4522761495854\n",
            "19     \t [ 10. -10. -10.]. \t  -204581.0 \t -454.4522761495854\n",
            "20     \t [ 9.12575422  2.82162308 10.        ]. \t  -116796.37304281456 \t -454.4522761495854\n",
            "21     \t [ 9.86128636  2.73741105 -8.77847696]. \t  -68884.14112678247 \t -454.4522761495854\n",
            "22     \t [-1.12924534  3.38926372 -9.13872648]. \t  -81503.95475392017 \t -454.4522761495854\n",
            "23     \t [2.95053447 7.30370417 2.28340394]. \t  -21556.087773107374 \t -454.4522761495854\n",
            "24     \t [-10.           4.41831993   4.58815342]. \t  -9191.69955635943 \t -454.4522761495854\n",
            "25     \t [-5.89953807 -3.72686159  2.22709521]. \t  -2874.7935675624185 \t -454.4522761495854\n",
            "26     \t [-4.23646677  8.210507    3.64254092]. \t  -39711.01440605241 \t -454.4522761495854\n",
            "27     \t [ 2.00842262 -9.87438548 -1.49428301]. \t  -75114.820765863 \t -454.4522761495854\n",
            "28     \t [10.         10.         -1.39877664]. \t  -72392.14914953343 \t -454.4522761495854\n",
            "29     \t [-2.82455107  0.25511699  3.87014867]. \t  -2678.5333665518265 \t -454.4522761495854\n",
            "30     \t [ 2.35106346 -8.62539219 -7.08518753]. \t  -78552.80462599786 \t -454.4522761495854\n"
          ]
        }
      ]
    },
    {
      "cell_type": "code",
      "metadata": {
        "colab": {
          "base_uri": "https://localhost:8080/"
        },
        "id": "-dgzIrUIGCGT",
        "outputId": "503c2435-b1b7-437e-ebd2-dfd387422c92"
      },
      "source": [
        "### ESTIMATED GP EI GRADIENTS\n",
        "\n",
        "np.random.seed(run_num_3)\n",
        "surrogate_approx_3 = GaussianProcess(cov_func, optimize=opt)\n",
        "\n",
        "approx_3 = GPGO_multi(surrogate_approx_3, Acquisition(util_grad_approx), objfunc, param)\n",
        "approx_3.run(init_evals=n_init, max_iter=iters)\n"
      ],
      "execution_count": 15,
      "outputs": [
        {
          "output_type": "stream",
          "name": "stdout",
          "text": [
            "Evaluation \t Proposed point \t  Current eval. \t Best eval.\n",
            "init   \t [ 1.01595805  4.16295645 -4.18190522]. \t  -5112.352385443115 \t -5112.352385443115\n",
            "init   \t [0.2165521  7.85893909 7.92586178]. \t  -72027.10255913956 \t -5112.352385443115\n",
            "init   \t [-7.48829379 -5.85514244 -8.97065593]. \t  -95107.57411907075 \t -5112.352385443115\n",
            "init   \t [-1.18380313 -9.40247578 -0.86333551]. \t  -63726.548838065995 \t -5112.352385443115\n",
            "init   \t [ 2.98288095 -4.43025435  3.52509804]. \t  -5207.626899787465 \t -5112.352385443115\n",
            "1      \t [9.51990845 3.44767352 8.05668217]. \t  -48388.97288671367 \t -5112.352385443115\n",
            "2      \t [-4.79309855  3.83955024  7.91140656]. \t  -46554.468417027776 \t -5112.352385443115\n",
            "3      \t [ 4.12112367 -8.76918568 -4.10613003]. \t  -50231.76564197207 \t -5112.352385443115\n",
            "4      \t [ 1.06865668 -1.61214113  9.66323576]. \t  -106482.0605763776 \t -5112.352385443115\n",
            "5      \t [-8.59761974  6.46090428 -2.16585045]. \t  -17076.70485896509 \t -5112.352385443115\n",
            "6      \t [ 8.83706845 -0.31089701 -6.2913012 ]. \t  -19158.168049739656 \t -5112.352385443115\n",
            "7      \t [-10. -10.  10.]. \t  -220621.0 \t -5112.352385443115\n",
            "8      \t [ 7.17786075 -7.83402432  1.19325839]. \t  -27091.47249706207 \t -5112.352385443115\n",
            "9      \t [ 10.  10. -10.]. \t  -180581.0 \t -5112.352385443115\n",
            "10     \t [-10.  10.  10.]. \t  -196621.0 \t -5112.352385443115\n",
            "11     \t [ 0.66879002 -4.72670094  4.78896619]. \t  -11554.273121193648 \t -5112.352385443115\n",
            "12     \t [5.82645032 9.68093393 0.62667776]. \t  -66228.34642302197 \t -5112.352385443115\n",
            "13     \t [ 9.64547412 -9.09801477  9.60726792]. \t  -161241.6064100929 \t -5112.352385443115\n",
            "14     \t [-10.  10. -10.]. \t  -196621.0 \t -5112.352385443115\n",
            "15     \t [ 10. -10. -10.]. \t  -204581.0 \t -5112.352385443115\n",
            "16     \t [-9.09796951 -2.01427933  2.27803187]. \t  \u001b[92m-1155.2865986866095\u001b[0m \t -1155.2865986866095\n",
            "17     \t [-4.83794449 -1.17800475 -3.67910063]. \t  -2544.1215501193046 \t -1155.2865986866095\n",
            "18     \t [-0.3922258  10.         -9.63150796]. \t  -172750.36091846885 \t -1155.2865986866095\n",
            "19     \t [6.01605651 1.89636424 1.25115977]. \t  \u001b[92m-32.499872092155826\u001b[0m \t -32.499872092155826\n",
            "20     \t [-9.66378731 -7.43056826 -1.01791652]. \t  -29228.07551897989 \t -32.499872092155826\n",
            "21     \t [ -1.78716155 -10.          10.        ]. \t  -213743.8854042499 \t -32.499872092155826\n",
            "22     \t [-6.15425984  2.22536379 -9.33261637]. \t  -89288.08883023603 \t -32.499872092155826\n",
            "23     \t [ -0.82095908 -10.         -10.        ]. \t  -212961.43110097022 \t -32.499872092155826\n",
            "24     \t [ 7.34897369 10.         10.        ]. \t  -182569.1453401449 \t -32.499872092155826\n",
            "25     \t [-5.8028231  -3.51623616  8.31061582]. \t  -62103.75878962967 \t -32.499872092155826\n",
            "26     \t [ 0.8561909  -1.51474277 -9.42649137]. \t  -96400.45499587315 \t -32.499872092155826\n",
            "27     \t [-1.78682877  2.4383925   1.89599901]. \t  -449.6832579677147 \t -32.499872092155826\n",
            "28     \t [10.          4.92998601 -2.17126699]. \t  -3123.1087128221066 \t -32.499872092155826\n",
            "29     \t [-6.84391687  9.69359882  3.5039765 ]. \t  -76599.26775433133 \t -32.499872092155826\n",
            "30     \t [-1.16725995 10.         -1.20043315]. \t  -81093.2243430888 \t -32.499872092155826\n"
          ]
        }
      ]
    },
    {
      "cell_type": "code",
      "metadata": {
        "colab": {
          "base_uri": "https://localhost:8080/"
        },
        "id": "hOtG-2sCGCKS",
        "outputId": "533e743a-264c-45f3-d65d-a2725ad89a6c"
      },
      "source": [
        "### ESTIMATED GP EI GRADIENTS\n",
        "\n",
        "np.random.seed(run_num_4)\n",
        "surrogate_approx_4 = GaussianProcess(cov_func, optimize=opt)\n",
        "\n",
        "approx_4 = GPGO_multi(surrogate_approx_4, Acquisition(util_grad_approx), objfunc, param)\n",
        "approx_4.run(init_evals=n_init, max_iter=iters)\n"
      ],
      "execution_count": 16,
      "outputs": [
        {
          "output_type": "stream",
          "name": "stdout",
          "text": [
            "Evaluation \t Proposed point \t  Current eval. \t Best eval.\n",
            "init   \t [9.34059678 0.94464498 9.4536872 ]. \t  -95022.01065457039 \t -12458.30178377884\n",
            "init   \t [ 4.29631987  3.95457649 -5.67821009]. \t  -12458.30178377884 \t -12458.30178377884\n",
            "init   \t [ 9.5254891  -9.8753949  -4.94035275]. \t  -79242.42901009263 \t -12458.30178377884\n",
            "init   \t [-1.30416935  5.58765844 -6.04629851]. \t  -21812.938480423 \t -12458.30178377884\n",
            "init   \t [ 7.25986471  9.66801354 -6.72315517]. \t  -84163.5372919417 \t -12458.30178377884\n",
            "1      \t [-7.83613234 -6.83553186  0.90405303]. \t  -20810.660474524404 \t -12458.30178377884\n",
            "2      \t [ 2.6338449  -4.23926346 -1.84756645]. \t  \u001b[92m-2589.0171533153275\u001b[0m \t -2589.0171533153275\n",
            "3      \t [-1.92379477  1.34737929  2.7226803 ]. \t  \u001b[92m-615.2747034779208\u001b[0m \t -615.2747034779208\n",
            "4      \t [ 10. -10.  10.]. \t  -204581.0 \t -615.2747034779208\n",
            "5      \t [-5.27132412 -9.28238298 10.        ]. \t  -194517.77575203 \t -615.2747034779208\n",
            "6      \t [9.81335626 8.39300429 2.56386853]. \t  -34505.04579158221 \t -615.2747034779208\n",
            "7      \t [-0.44581558  2.04164357  3.82391297]. \t  -2376.3585358713694 \t -615.2747034779208\n",
            "8      \t [-9.22803648 -8.97768217 -9.08975107]. \t  -149257.25219727104 \t -615.2747034779208\n",
            "9      \t [-10.           6.44167543  10.        ]. \t  -129809.89092223407 \t -615.2747034779208\n",
            "10     \t [-10.  10. -10.]. \t  -196621.0 \t -615.2747034779208\n",
            "11     \t [ 1.81634421 -5.47204596  6.20040485]. \t  -27095.509466684565 \t -615.2747034779208\n",
            "12     \t [-10.          10.           1.89046248]. \t  -88345.40690102971 \t -615.2747034779208\n",
            "13     \t [-7.16987604  0.38194869 -4.72735288]. \t  -6069.232981994662 \t -615.2747034779208\n",
            "14     \t [-0.46238065 -2.80553262 -9.7346076 ]. \t  -111500.60216628324 \t -615.2747034779208\n",
            "15     \t [-10.           0.52453209   2.36597043]. \t  -685.2334338467194 \t -615.2747034779208\n",
            "16     \t [ 9.12528489 -0.46428653  1.5397248 ]. \t  \u001b[92m-298.4979179361641\u001b[0m \t -298.4979179361641\n",
            "17     \t [-2.11118435 10.         10.        ]. \t  -190007.54114330013 \t -298.4979179361641\n",
            "18     \t [-3.8291459   2.11420205 10.        ]. \t  -117825.77462048961 \t -298.4979179361641\n",
            "19     \t [10.         -7.93895487  2.80337537]. \t  -28696.995861473468 \t -298.4979179361641\n",
            "20     \t [1.51307891 9.75366215 2.26498286]. \t  -71257.76104162043 \t -298.4979179361641\n",
            "21     \t [ 10.          -1.67239682 -10.        ]. \t  -122135.09572325896 \t -298.4979179361641\n",
            "22     \t [-0.87608053 -9.49899753  1.10644111]. \t  -66198.67453722206 \t -298.4979179361641\n",
            "23     \t [ -1.72181265 -10.          -6.52426515]. \t  -108541.12075066211 \t -298.4979179361641\n",
            "24     \t [ 5.76170389 10.         10.        ]. \t  -183779.70517820324 \t -298.4979179361641\n",
            "25     \t [  5.0737128   -7.60665794 -10.        ]. \t  -153804.47227422192 \t -298.4979179361641\n",
            "26     \t [-4.82005938 -3.47370153  5.99918187]. \t  -18790.40504402308 \t -298.4979179361641\n",
            "27     \t [2.92922266 3.53473696 9.41635255]. \t  -91596.9672164441 \t -298.4979179361641\n",
            "28     \t [-4.35814913  9.96229949 -2.1322897 ]. \t  -82329.63130154271 \t -298.4979179361641\n",
            "29     \t [-10.          -1.25881831   9.50492442]. \t  -99780.89301614955 \t -298.4979179361641\n",
            "30     \t [-10.           2.39508441 -10.        ]. \t  -118186.275313418 \t -298.4979179361641\n"
          ]
        }
      ]
    },
    {
      "cell_type": "code",
      "metadata": {
        "colab": {
          "base_uri": "https://localhost:8080/"
        },
        "id": "JF_SxcEvGCOl",
        "outputId": "f015d17f-6f42-4262-8bc4-cbd27794e86e"
      },
      "source": [
        "### ESTIMATED GP EI GRADIENTS\n",
        "\n",
        "np.random.seed(run_num_5)\n",
        "surrogate_approx_5 = GaussianProcess(cov_func, optimize=opt)\n",
        "\n",
        "approx_5 = GPGO_multi(surrogate_approx_5, Acquisition(util_grad_approx), objfunc, param)\n",
        "approx_5.run(init_evals=n_init, max_iter=iters)\n"
      ],
      "execution_count": 17,
      "outputs": [
        {
          "output_type": "stream",
          "name": "stdout",
          "text": [
            "Evaluation \t Proposed point \t  Current eval. \t Best eval.\n",
            "init   \t [-5.56013658  7.41464612 -5.86561689]. \t  -38038.55423396639 \t -504.37713268919686\n",
            "init   \t [ 8.37221816 -0.23177622  2.23487726]. \t  -504.37713268919686 \t -504.37713268919686\n",
            "init   \t [ 5.31815713  0.36835976 -4.06398997]. \t  -3270.33229475548 \t -504.37713268919686\n",
            "init   \t [-6.24557543 -8.38517462  4.76880592]. \t  -51898.195262717614 \t -504.37713268919686\n",
            "init   \t [-1.17381554 -6.83380265  7.59874062]. \t  -62777.04813872957 \t -504.37713268919686\n",
            "1      \t [ 5.59029171 -9.54133815  1.55325716]. \t  -62933.45175267557 \t -504.37713268919686\n",
            "2      \t [-3.94963775  6.51411653  3.18834561]. \t  -16374.16808563396 \t -504.37713268919686\n",
            "3      \t [ 10. -10.  10.]. \t  -204581.0 \t -504.37713268919686\n",
            "4      \t [ 3.14692525  9.50918422 -2.23413701]. \t  -63161.457005708806 \t -504.37713268919686\n",
            "5      \t [ 4.56139684 -4.673529    0.23379905]. \t  -3142.4271112122515 \t -504.37713268919686\n",
            "6      \t [-8.35759819 -3.57642182 -5.67300392]. \t  -16239.797542075969 \t -504.37713268919686\n",
            "7      \t [10. 10. 10.]. \t  -180581.0 \t -504.37713268919686\n",
            "8      \t [-2.25567448 -8.98357177 -4.3364777 ]. \t  -60095.83602661969 \t -504.37713268919686\n",
            "9      \t [-10. -10. -10.]. \t  -220621.0 \t -504.37713268919686\n",
            "10     \t [ 10.  10. -10.]. \t  -180581.0 \t -504.37713268919686\n",
            "11     \t [-9.79622691  1.0038156   4.05249186]. \t  -3437.2382335476973 \t -504.37713268919686\n",
            "12     \t [ 9.33721648 -1.25993305  9.75780579]. \t  -110380.02940456654 \t -504.37713268919686\n",
            "13     \t [ 10.           1.03411387 -10.        ]. \t  -118966.86900224547 \t -504.37713268919686\n",
            "14     \t [-10.  10.  10.]. \t  -196621.0 \t -504.37713268919686\n",
            "15     \t [ 10. -10. -10.]. \t  -204581.0 \t -504.37713268919686\n",
            "16     \t [10.         -5.93399184 -4.23079551]. \t  -12608.238085052077 \t -504.37713268919686\n",
            "17     \t [-9.35801008  7.98220289  3.79498813]. \t  -38830.44934073891 \t -504.37713268919686\n",
            "18     \t [-1.28090768 10.         10.        ]. \t  -189333.21013417846 \t -504.37713268919686\n",
            "19     \t [-3.48410009 -3.68542923 -6.33751434]. \t  -23073.672070863027 \t -504.37713268919686\n",
            "20     \t [ 8.55515795 -8.83885458  4.54935016]. \t  -51254.797088975276 \t -504.37713268919686\n",
            "21     \t [-10.           1.49490838 -10.        ]. \t  -118752.54717765248 \t -504.37713268919686\n",
            "22     \t [-3.75205248 -0.42485276  0.40217858]. \t  \u001b[92m-58.09647410522626\u001b[0m \t -58.09647410522626\n",
            "23     \t [6.31259396 6.26969208 4.14162479]. \t  -12842.51206349063 \t -58.09647410522626\n",
            "24     \t [  2.02364715  -5.82495497 -10.        ]. \t  -135761.68775074906 \t -58.09647410522626\n",
            "25     \t [ 1.97625638  5.37142271 -9.72633091]. \t  -107594.37185634038 \t -58.09647410522626\n",
            "26     \t [-10.         -4.8530994  10.       ]. \t  -132537.37276841945 \t -58.09647410522626\n",
            "27     \t [-0.24816028  0.805515    5.75199418]. \t  -12824.227834868421 \t -58.09647410522626\n",
            "28     \t [-6.45258816  1.75840397 10.        ]. \t  -118274.0974118777 \t -58.09647410522626\n",
            "29     \t [10.         10.         -0.48180582]. \t  -72553.79022820809 \t -58.09647410522626\n",
            "30     \t [1.84080003 3.62827092 1.47678286]. \t  -1201.635498241096 \t -58.09647410522626\n"
          ]
        }
      ]
    },
    {
      "cell_type": "code",
      "metadata": {
        "colab": {
          "base_uri": "https://localhost:8080/"
        },
        "id": "-kDxZtJsGCR3",
        "outputId": "6e08922e-e3fb-493d-8a91-edefe040999a"
      },
      "source": [
        "### ESTIMATED GP EI GRADIENTS\n",
        "\n",
        "np.random.seed(run_num_6)\n",
        "surrogate_approx_6 = GaussianProcess(cov_func, optimize=opt)\n",
        "\n",
        "approx_6 = GPGO_multi(surrogate_approx_6, Acquisition(util_grad_approx), objfunc, param)\n",
        "approx_6.run(init_evals=n_init, max_iter=iters)\n"
      ],
      "execution_count": 18,
      "outputs": [
        {
          "output_type": "stream",
          "name": "stdout",
          "text": [
            "Evaluation \t Proposed point \t  Current eval. \t Best eval.\n",
            "init   \t [ 7.85720303 -3.36040389  6.42458246]. \t  -22622.875691874993 \t -747.5861078277044\n",
            "init   \t [-9.16606749 -7.8468664   1.90104128]. \t  -35798.39310944817 \t -747.5861078277044\n",
            "init   \t [ 0.59634724 -1.62385143 -3.29184301]. \t  -1672.0743189422471 \t -747.5861078277044\n",
            "init   \t [ 2.45038864 -1.23717148  4.71764213]. \t  -6281.890680624871 \t -747.5861078277044\n",
            "init   \t [0.36072824 1.577172   2.90710192]. \t  -747.5861078277044 \t -747.5861078277044\n",
            "1      \t [ 4.34551693  9.88414877 -4.88771889]. \t  -77317.5102677862 \t -747.5861078277044\n",
            "2      \t [-1.98503052 -5.08370297  0.47544376]. \t  -5862.449371750896 \t -747.5861078277044\n",
            "3      \t [10. 10. 10.]. \t  -180581.0 \t -747.5861078277044\n",
            "4      \t [-8.30089272  8.76464152 -3.7028615 ]. \t  -53579.172270173985 \t -747.5861078277044\n",
            "5      \t [-5.80222891  1.48640303  9.16774106]. \t  -83530.43488377196 \t -747.5861078277044\n",
            "6      \t [ 6.83055529 -7.02538607 -5.07603057]. \t  -27205.394503821604 \t -747.5861078277044\n",
            "7      \t [-9.66056066 -7.16632862  9.74146832]. \t  -141747.30545515707 \t -747.5861078277044\n",
            "8      \t [ -9.33107076 -10.         -10.        ]. \t  -220045.72539593998 \t -747.5861078277044\n",
            "9      \t [5.95618828 3.62221445 9.57953935]. \t  -97953.49211296115 \t -747.5861078277044\n",
            "10     \t [-10.           6.99319446   4.66386943]. \t  -27365.768461645 \t -747.5861078277044\n",
            "11     \t [ 6.91801255  2.83109097 -4.08743192]. \t  -3007.0646045160775 \t -747.5861078277044\n",
            "12     \t [-8.12416811  9.77114499 -9.4537219 ]. \t  -165001.95305563457 \t -747.5861078277044\n",
            "13     \t [-1.38126532 10.          7.47896911]. \t  -112246.96339371911 \t -747.5861078277044\n",
            "14     \t [-8.61049022  1.31605175 -6.31273975]. \t  -18816.719959042377 \t -747.5861078277044\n",
            "15     \t [ 0.19531588 -7.74530203  9.60360643]. \t  -139524.0237475551 \t -747.5861078277044\n",
            "16     \t [ 0.54095758 -9.88780744 -9.98848158]. \t  -207626.91911429714 \t -747.5861078277044\n",
            "17     \t [ 6.23922932 -0.39380066 -9.48173033]. \t  -97514.11587463532 \t -747.5861078277044\n",
            "18     \t [8.25944641 8.39097879 2.61493092]. \t  -35279.52191555824 \t -747.5861078277044\n",
            "19     \t [-8.38325311  2.61553425  0.34255209]. \t  -1078.804996883491 \t -747.5861078277044\n",
            "20     \t [ 10. -10.  10.]. \t  -204581.0 \t -747.5861078277044\n",
            "21     \t [-2.0301401  -4.92207598 -4.38926331]. \t  -10770.98915286436 \t -747.5861078277044\n",
            "22     \t [ 10.  10. -10.]. \t  -180581.0 \t -747.5861078277044\n",
            "23     \t [ 10.         -10.           1.60598304]. \t  -72970.32791108672 \t -747.5861078277044\n",
            "24     \t [ 10. -10. -10.]. \t  -204581.0 \t -747.5861078277044\n",
            "25     \t [-1.75768007  6.27778195 -1.08486891]. \t  -13039.672971891818 \t -747.5861078277044\n",
            "26     \t [-2.31045978  4.47463987 -8.32526461]. \t  -57583.87845182723 \t -747.5861078277044\n",
            "27     \t [  2.7875937  -10.           3.13307967]. \t  -80422.89507774785 \t -747.5861078277044\n",
            "28     \t [9.46329259 1.51299946 1.78352107]. \t  \u001b[92m-189.88830549725907\u001b[0m \t -189.88830549725907\n",
            "29     \t [-9.60313741 -5.24540189 -4.74241155]. \t  -16034.97364230362 \t -189.88830549725907\n",
            "30     \t [-10.  10.  10.]. \t  -196621.0 \t -189.88830549725907\n"
          ]
        }
      ]
    },
    {
      "cell_type": "code",
      "metadata": {
        "colab": {
          "base_uri": "https://localhost:8080/"
        },
        "id": "fKB8MCD_GCVI",
        "outputId": "72e647b0-7607-4c77-d6e8-90ae47f6cf12"
      },
      "source": [
        "### ESTIMATED GP EI GRADIENTS\n",
        "\n",
        "np.random.seed(run_num_7)\n",
        "surrogate_approx_7 = GaussianProcess(cov_func, optimize=opt)\n",
        "\n",
        "approx_7 = GPGO_multi(surrogate_approx_7, Acquisition(util_grad_approx), objfunc, param)\n",
        "approx_7.run(init_evals=n_init, max_iter=iters)\n"
      ],
      "execution_count": 19,
      "outputs": [
        {
          "output_type": "stream",
          "name": "stdout",
          "text": [
            "Evaluation \t Proposed point \t  Current eval. \t Best eval.\n",
            "init   \t [-8.47383421  5.59837584 -1.23181537]. \t  -10236.238023609843 \t -10236.238023609843\n",
            "init   \t [4.46930356 9.55979024 0.76991741]. \t  -63811.243249036976 \t -10236.238023609843\n",
            "init   \t [ 0.02240927 -8.55897733 -4.6312204 ]. \t  -50862.43407074502 \t -10236.238023609843\n",
            "init   \t [-2.34998349e-03  3.58459992e+00  6.07478072e+00]. \t  -16115.196076305741 \t -10236.238023609843\n",
            "init   \t [-2.38117734 -8.68127306 -4.23708801]. \t  -52860.9167787799 \t -10236.238023609843\n",
            "1      \t [ 5.37295013 -3.72010646  1.45250665]. \t  \u001b[92m-1203.3019494238497\u001b[0m \t -1203.3019494238497\n",
            "2      \t [-10. -10.  10.]. \t  -220621.0 \t -1203.3019494238497\n",
            "3      \t [-0.84802251  7.90733569 -8.8549288 ]. \t  -98229.52721976113 \t -1203.3019494238497\n",
            "4      \t [-9.43459214  0.25094007  5.85629711]. \t  -14303.366732986253 \t -1203.3019494238497\n",
            "5      \t [-8.22186059 -2.09445948 -8.51624651]. \t  -65619.77292042035 \t -1203.3019494238497\n",
            "6      \t [ 10. -10. -10.]. \t  -204581.0 \t -1203.3019494238497\n",
            "7      \t [ 2.60005424 -8.85713712  9.79392453]. \t  -168458.45063088578 \t -1203.3019494238497\n",
            "8      \t [8.66522451 5.38017998 9.74494226]. \t  -107078.9104872437 \t -1203.3019494238497\n",
            "9      \t [ 6.45540871  0.94153368 -6.26549823]. \t  -18125.579305572563 \t -1203.3019494238497\n",
            "10     \t [ 10.  10. -10.]. \t  -180581.0 \t -1203.3019494238497\n",
            "11     \t [-10.  10.  10.]. \t  -196621.0 \t -1203.3019494238497\n",
            "12     \t [ -9.2306312  10.        -10.       ]. \t  -195959.5798829354 \t -1203.3019494238497\n",
            "13     \t [-2.79246293 -4.17320978  3.89008299]. \t  -6403.559240798843 \t -1203.3019494238497\n",
            "14     \t [-10. -10. -10.]. \t  -220621.0 \t -1203.3019494238497\n",
            "15     \t [-10.         -10.          -2.17770525]. \t  -89459.97232618551 \t -1203.3019494238497\n",
            "16     \t [ 9.96015288 -3.56111617  7.61168212]. \t  -43350.03665235661 \t -1203.3019494238497\n",
            "17     \t [  9.50421543 -10.           1.54420355]. \t  -73303.99109075662 \t -1203.3019494238497\n",
            "18     \t [ 0.30012346  9.27226707 10.        ]. \t  -168058.96724561334 \t -1203.3019494238497\n",
            "19     \t [-2.21439585  0.3361575  -2.49486054]. \t  \u001b[92m-462.38146302943824\u001b[0m \t -462.38146302943824\n",
            "20     \t [  1.04106262  -2.07468678 -10.        ]. \t  -122617.07556840703 \t -462.38146302943824\n",
            "21     \t [ 1.64381862 -9.11821172  2.53378258]. \t  -55659.41330029254 \t -462.38146302943824\n",
            "22     \t [ 3.76828998 -1.60346866 10.        ]. \t  -121943.31453845794 \t -462.38146302943824\n",
            "23     \t [-5.58606459 -3.76392092 10.        ]. \t  -126903.75154671544 \t -462.38146302943824\n",
            "24     \t [-2.27177379 10.         -1.21798662]. \t  -81986.83543811766 \t -462.38146302943824\n",
            "25     \t [-8.09540089 -1.34220828 -0.79301914]. \t  \u001b[92m-376.7131273451969\u001b[0m \t -376.7131273451969\n",
            "26     \t [3.47836189 2.37144003 0.11454468]. \t  \u001b[92m-143.35978934931765\u001b[0m \t -143.35978934931765\n",
            "27     \t [9.7426228  1.79384044 2.82506482]. \t  -700.5133184553615 \t -143.35978934931765\n",
            "28     \t [  9.99408193 -10.          10.        ]. \t  -204585.39131169545 \t -143.35978934931765\n",
            "29     \t [-5.80415594  4.28580711  9.90593222]. \t  -114222.17192338286 \t -143.35978934931765\n",
            "30     \t [10.         -4.99900958 -3.69442154]. \t  -6407.025568610399 \t -143.35978934931765\n"
          ]
        }
      ]
    },
    {
      "cell_type": "code",
      "metadata": {
        "colab": {
          "base_uri": "https://localhost:8080/"
        },
        "id": "4unvifF-GCXp",
        "outputId": "b7bf56a6-37af-41ba-b8d3-eb4ecefe2525"
      },
      "source": [
        "### ESTIMATED GP EI GRADIENTS\n",
        "\n",
        "np.random.seed(run_num_8)\n",
        "surrogate_approx_8 = GaussianProcess(cov_func, optimize=opt)\n",
        "\n",
        "approx_8 = GPGO_multi(surrogate_approx_8, Acquisition(util_grad_approx), objfunc, param)\n",
        "approx_8.run(init_evals=n_init, max_iter=iters)\n"
      ],
      "execution_count": 20,
      "outputs": [
        {
          "output_type": "stream",
          "name": "stdout",
          "text": [
            "Evaluation \t Proposed point \t  Current eval. \t Best eval.\n",
            "init   \t [7.46858806 9.37081326 7.3838908 ]. \t  -86398.56273239222 \t -19.158799931573643\n",
            "init   \t [ 0.61711383 -5.34543344 -9.77202391]. \t  -122028.27716628066 \t -19.158799931573643\n",
            "init   \t [-1.39062363 -1.9529728   0.45349343]. \t  -185.16317561320295 \t -19.158799931573643\n",
            "init   \t [-0.43216408  1.10712948  0.86772035]. \t  -19.158799931573643 \t -19.158799931573643\n",
            "init   \t [5.21791151 4.24749148 2.39364192]. \t  -2079.039537100791 \t -19.158799931573643\n",
            "1      \t [ 5.91149117 -9.35983687 -0.89104356]. \t  -57709.74714740788 \t -19.158799931573643\n",
            "2      \t [-4.01894503  7.30848062  6.93893087]. \t  -48356.33098205576 \t -19.158799931573643\n",
            "3      \t [-6.23415159 -2.85576708  4.59444715]. \t  -7163.787122326564 \t -19.158799931573643\n",
            "4      \t [-0.33954819  6.5470211  -9.44447867]. \t  -103413.2661047698 \t -19.158799931573643\n",
            "5      \t [ 8.88043753 -3.47867257 -6.48954407]. \t  -23609.194785088257 \t -19.158799931573643\n",
            "6      \t [10.          8.09337765 -7.63563772]. \t  -64690.59346133939 \t -19.158799931573643\n",
            "7      \t [ 6.2181374  -2.96281477  4.12308008]. \t  -4383.003404911578 \t -19.158799931573643\n",
            "8      \t [-9.29486377 -6.88958424  5.69557689]. \t  -37285.04360880313 \t -19.158799931573643\n",
            "9      \t [-10. -10. -10.]. \t  -220621.0 \t -19.158799931573643\n",
            "10     \t [-8.08406232  3.70595628 -4.75704492]. \t  -7790.40486015024 \t -19.158799931573643\n",
            "11     \t [-10.           1.28667574  10.        ]. \t  -118936.32483126211 \t -19.158799931573643\n",
            "12     \t [-10.  10. -10.]. \t  -196621.0 \t -19.158799931573643\n",
            "13     \t [ 9.86387458 -9.03618993  5.02335735]. \t  -57789.537463669825 \t -19.158799931573643\n",
            "14     \t [-4.32076466  8.61353379 -5.12218907]. \t  -52438.106190680584 \t -19.158799931573643\n",
            "15     \t [-0.98139106 -6.46711542  7.20986352]. \t  -50913.179252436064 \t -19.158799931573643\n",
            "16     \t [-3.70740588  1.81466834  9.77653024]. \t  -107790.26865977739 \t -19.158799931573643\n",
            "17     \t [ 7.42704428 -6.30046155  8.41770504]. \t  -76125.29945778343 \t -19.158799931573643\n",
            "18     \t [-9.1578455   9.85877625  1.80849446]. \t  -83000.41337596234 \t -19.158799931573643\n",
            "19     \t [-7.97530597 -6.04259045 -1.22141449]. \t  -13447.336132565808 \t -19.158799931573643\n",
            "20     \t [-1.28119735 -9.77100576  0.0947961 ]. \t  -74194.58034691795 \t -19.158799931573643\n",
            "21     \t [-6.11335441 -3.4388144  -7.17273123]. \t  -35743.79190948796 \t -19.158799931573643\n",
            "22     \t [6.9851133  1.39654247 9.9035109 ]. \t  -113852.15965171203 \t -19.158799931573643\n",
            "23     \t [ 7.20123255 10.          0.05851531]. \t  -74680.77399945441 \t -19.158799931573643\n",
            "24     \t [10.          2.87696217 -2.57108793]. \t  -487.9016903970368 \t -19.158799931573643\n",
            "25     \t [ 10. -10. -10.]. \t  -204581.0 \t -19.158799931573643\n",
            "26     \t [-4.53820231  4.0899713  -0.18189883]. \t  -2966.322372818074 \t -19.158799931573643\n",
            "27     \t [ 5.39544576  2.22062622 -7.4957613 ]. \t  -36459.780263719455 \t -19.158799931573643\n",
            "28     \t [ 0.02481116  7.40211872 -1.27162241]. \t  -24058.941586193003 \t -19.158799931573643\n",
            "29     \t [-9.62947605 10.         10.        ]. \t  -196302.02021843678 \t -19.158799931573643\n",
            "30     \t [ 4.97813523  1.20104793 -1.9724299 ]. \t  -154.4734254217742 \t -19.158799931573643\n"
          ]
        }
      ]
    },
    {
      "cell_type": "code",
      "metadata": {
        "colab": {
          "base_uri": "https://localhost:8080/"
        },
        "id": "85OIXcg7GCaJ",
        "outputId": "9fdbb054-931f-473d-bb0f-407b01985189"
      },
      "source": [
        "### ESTIMATED GP EI GRADIENTS\n",
        "\n",
        "np.random.seed(run_num_9)\n",
        "surrogate_approx_9 = GaussianProcess(cov_func, optimize=opt)\n",
        "\n",
        "approx_9 = GPGO_multi(surrogate_approx_9, Acquisition(util_grad_approx), objfunc, param)\n",
        "approx_9.run(init_evals=n_init, max_iter=iters)\n"
      ],
      "execution_count": 21,
      "outputs": [
        {
          "output_type": "stream",
          "name": "stdout",
          "text": [
            "Evaluation \t Proposed point \t  Current eval. \t Best eval.\n",
            "init   \t [-9.79251692  0.03749184 -0.08453414]. \t  -308.3769452572715 \t -308.3769452572715\n",
            "init   \t [-7.32340942 -7.15777829 -5.62882649]. \t  -39098.793761550274 \t -308.3769452572715\n",
            "init   \t [-1.62983639 -5.03797663 -8.31880698]. \t  -67224.5603542052 \t -308.3769452572715\n",
            "init   \t [-3.0900272  -6.66447307  7.57118171]. \t  -61063.84970572342 \t -308.3769452572715\n",
            "init   \t [ 9.01928063 -9.22503248  3.98214783]. \t  -57052.59558792292 \t -308.3769452572715\n",
            "1      \t [2.99080926 7.21663846 9.41692024]. \t  -107317.26583764593 \t -308.3769452572715\n",
            "2      \t [ 6.86233684  2.90237997 -3.94602224]. \t  -2626.2381369461364 \t -308.3769452572715\n",
            "3      \t [-9.77584307 -9.02200933  2.98685213]. \t  -61841.45747865176 \t -308.3769452572715\n",
            "4      \t [-4.28572164  1.59287123  8.76522826]. \t  -69574.98897203195 \t -308.3769452572715\n",
            "5      \t [-4.78366322  9.8945477  -5.84814702]. \t  -90773.63315507559 \t -308.3769452572715\n",
            "6      \t [ 7.08809023 -0.77927986  8.97599599]. \t  -78756.71445675654 \t -308.3769452572715\n",
            "7      \t [ 10.  10. -10.]. \t  -180581.0 \t -308.3769452572715\n",
            "8      \t [ 10. -10. -10.]. \t  -204581.0 \t -308.3769452572715\n",
            "9      \t [-2.24239563  8.2392939   2.9668709 ]. \t  -38369.54961101381 \t -308.3769452572715\n",
            "10     \t [ 6.11629874 -8.74204803 -0.96542318]. \t  -43423.330956225946 \t -308.3769452572715\n",
            "11     \t [ 2.75851565  5.76104613 -9.75712272]. \t  -110376.13087943557 \t -308.3769452572715\n",
            "12     \t [3.01277451 9.9078286  1.97878079]. \t  -74760.19292573501 \t -308.3769452572715\n",
            "13     \t [-8.22545226  0.94352057 -9.98576062]. \t  -118476.9822257634 \t -308.3769452572715\n",
            "14     \t [ 7.6121371   9.9884854  -2.71304732]. \t  -73783.28181489912 \t -308.3769452572715\n",
            "15     \t [-10.  10.  10.]. \t  -196621.0 \t -308.3769452572715\n",
            "16     \t [-4.03608807  4.70420508  1.44305851]. \t  -4691.083547721373 \t -308.3769452572715\n",
            "17     \t [9.18884834 5.371142   5.62581791]. \t  -14840.535031823034 \t -308.3769452572715\n",
            "18     \t [ 0.72216539 -2.33562889  0.93451804]. \t  \u001b[92m-257.66932059898363\u001b[0m \t -257.66932059898363\n",
            "19     \t [-10.          10.           0.63840971]. \t  -88574.08529449784 \t -257.66932059898363\n",
            "20     \t [-1.96756481 -8.96487014 -0.61270653]. \t  -53238.05731110409 \t -257.66932059898363\n",
            "21     \t [-10. -10.  10.]. \t  -220621.0 \t -257.66932059898363\n",
            "22     \t [10.          2.58936976 -9.53388126]. \t  -96442.6168580441 \t -257.66932059898363\n",
            "23     \t [ 9.94815308 -2.96552917  0.06457511]. \t  \u001b[92m-223.35786043404318\u001b[0m \t -223.35786043404318\n",
            "24     \t [ 5.58201623 -2.92320806 -7.44743077]. \t  -39172.47593191307 \t -223.35786043404318\n",
            "25     \t [-9.48710614 -3.05963019  6.70204567]. \t  -27589.706326373554 \t -223.35786043404318\n",
            "26     \t [  2.49954541 -10.          10.        ]. \t  -210315.10776318837 \t -223.35786043404318\n",
            "27     \t [-9.41712567  7.22034806 -9.73115245]. \t  -125514.6736561216 \t -223.35786043404318\n",
            "28     \t [  3.17797777 -10.          -7.17260799]. \t  -115716.78514588333 \t -223.35786043404318\n",
            "29     \t [-4.60841297  2.25857989 -4.3775217 ]. \t  -4372.6175506639165 \t -223.35786043404318\n",
            "30     \t [0.72719533 1.96532268 4.52408385]. \t  -4653.842512332133 \t -223.35786043404318\n"
          ]
        }
      ]
    },
    {
      "cell_type": "code",
      "metadata": {
        "colab": {
          "base_uri": "https://localhost:8080/"
        },
        "id": "QQBR-qJPGCcp",
        "outputId": "ef347ae6-0821-49ba-971c-629a05ad2b3d"
      },
      "source": [
        "### ESTIMATED GP EI GRADIENTS\n",
        "\n",
        "np.random.seed(run_num_10)\n",
        "surrogate_approx_10 = GaussianProcess(cov_func, optimize=opt)\n",
        "\n",
        "approx_10 = GPGO_multi(surrogate_approx_10, Acquisition(util_grad_approx), objfunc, param)\n",
        "approx_10.run(init_evals=n_init, max_iter=iters)\n"
      ],
      "execution_count": 22,
      "outputs": [
        {
          "output_type": "stream",
          "name": "stdout",
          "text": [
            "Evaluation \t Proposed point \t  Current eval. \t Best eval.\n",
            "init   \t [ 5.42641287 -9.58496101  2.6729647 ]. \t  -65323.138576781035 \t -11089.42002600802\n",
            "init   \t [ 4.97607765 -0.02985975 -5.50406709]. \t  -11089.42002600802 \t -11089.42002600802\n",
            "init   \t [-6.0387427   5.21061424 -6.61778327]. \t  -27690.457734888914 \t -11089.42002600802\n",
            "init   \t [-8.23320372  3.70719637  9.06786692]. \t  -80154.14403008527 \t -11089.42002600802\n",
            "init   \t [-9.92103467  0.24384527  6.25241923]. \t  -18545.57155390516 \t -11089.42002600802\n",
            "1      \t [6.10446394 0.43294305 8.17297762]. \t  -53288.212919444646 \t -11089.42002600802\n",
            "2      \t [-9.70279951  9.55798527  1.46057808]. \t  -74244.04457503722 \t -11089.42002600802\n",
            "3      \t [-1.75447845 -6.302649    6.80494632]. \t  -42548.732127148585 \t -11089.42002600802\n",
            "4      \t [3.25643503 8.71340004 2.25458364]. \t  -44169.54631375984 \t -11089.42002600802\n",
            "5      \t [-4.51864821 -4.41820786 -7.58640717]. \t  -46684.2942823814 \t -11089.42002600802\n",
            "6      \t [ 8.09627953 -9.91552173 -8.52992239]. \t  -143623.97605290846 \t -11089.42002600802\n",
            "7      \t [10. 10. 10.]. \t  -180581.0 \t -11089.42002600802\n",
            "8      \t [ 9.80335485  7.06202787 -3.11757933]. \t  -16715.848126851764 \t -11089.42002600802\n",
            "9      \t [-10. -10. -10.]. \t  -220621.0 \t -11089.42002600802\n",
            "10     \t [ 10. -10.  10.]. \t  -204581.0 \t -11089.42002600802\n",
            "11     \t [-10.        -10.          5.1572378]. \t  -100301.52208244361 \t -11089.42002600802\n",
            "12     \t [4.46588649 0.41056736 4.72710494]. \t  \u001b[92m-5928.386985062376\u001b[0m \t -5928.386985062376\n",
            "13     \t [ 1.9928971   8.13344531 -7.47667015]. \t  -66204.93098913587 \t -5928.386985062376\n",
            "14     \t [-4.28724281  3.94774388  1.49012921]. \t  \u001b[92m-2543.026603093098\u001b[0m \t -2543.026603093098\n",
            "15     \t [-0.80826176 -3.6531504  -0.92653765]. \t  \u001b[92m-1602.2040767949943\u001b[0m \t -1602.2040767949943\n",
            "16     \t [ 10.  10. -10.]. \t  -180581.0 \t -1602.2040767949943\n",
            "17     \t [-3.19797761  9.67491195  5.52948064]. \t  -80475.52625560047 \t -1602.2040767949943\n",
            "18     \t [ -0.72011138 -10.         -10.        ]. \t  -212880.08501118858 \t -1602.2040767949943\n",
            "19     \t [-10.  10. -10.]. \t  -196621.0 \t -1602.2040767949943\n",
            "20     \t [ 1.44770842  6.12689508 10.        ]. \t  -123603.29025362058 \t -1602.2040767949943\n",
            "21     \t [ 10.           2.46603212 -10.        ]. \t  -117149.35932655512 \t -1602.2040767949943\n",
            "22     \t [ 9.73631264 -3.9607127  -1.77242431]. \t  \u001b[92m-1327.5440829750041\u001b[0m \t -1327.5440829750041\n",
            "23     \t [-8.44801003 -3.27442982 -1.41692909]. \t  -2035.7270829486893 \t -1327.5440829750041\n",
            "24     \t [ -1.59825663 -10.           0.65602237]. \t  -81644.33150135478 \t -1327.5440829750041\n",
            "25     \t [-10.         -10.          -2.20481027]. \t  -89487.91642460943 \t -1327.5440829750041\n",
            "26     \t [ 9.94464185 -4.52447318  4.58418114]. \t  -8503.442360513536 \t -1327.5440829750041\n",
            "27     \t [-2.19079304  0.61741725  6.68017   ]. \t  -23594.47841831719 \t -1327.5440829750041\n",
            "28     \t [-2.66883436  9.49000026 -2.08876467]. \t  -66838.8814245802 \t -1327.5440829750041\n",
            "29     \t [ 2.36666314  3.22008629 -2.17169643]. \t  \u001b[92m-792.6566953448357\u001b[0m \t -792.6566953448357\n",
            "30     \t [ -0.31589661   1.15627583 -10.        ]. \t  -118636.0898498161 \t -792.6566953448357\n"
          ]
        }
      ]
    },
    {
      "cell_type": "code",
      "metadata": {
        "colab": {
          "base_uri": "https://localhost:8080/"
        },
        "id": "JS8ejeQ2GCfi",
        "outputId": "2f6554ad-5afa-439a-bc5d-7d4dfcdee80f"
      },
      "source": [
        "### ESTIMATED GP EI GRADIENTS\n",
        "\n",
        "np.random.seed(run_num_11)\n",
        "surrogate_approx_11 = GaussianProcess(cov_func, optimize=opt)\n",
        "\n",
        "approx_11 = GPGO_multi(surrogate_approx_11, Acquisition(util_grad_approx), objfunc, param)\n",
        "approx_11.run(init_evals=n_init, max_iter=iters)\n"
      ],
      "execution_count": 23,
      "outputs": [
        {
          "output_type": "stream",
          "name": "stdout",
          "text": [
            "Evaluation \t Proposed point \t  Current eval. \t Best eval.\n",
            "init   \t [-6.39460622 -9.61049517 -0.73562947]. \t  -73449.7462395723 \t -22.303897517794855\n",
            "init   \t [ 4.49867858 -1.59592791 -0.29145804]. \t  -22.303897517794855 \t -22.303897517794855\n",
            "init   \t [-9.74438371 -0.25256785  8.83613305]. \t  -73699.8605668882 \t -22.303897517794855\n",
            "init   \t [ 7.01590179  4.5992894  -7.82527856]. \t  -44207.59530328671 \t -22.303897517794855\n",
            "init   \t [ 7.87808341  7.14308494 -6.69826765]. \t  -38246.569253964415 \t -22.303897517794855\n",
            "1      \t [-1.96647039  6.95957995  4.35698359]. \t  -22430.99927361658 \t -22.303897517794855\n",
            "2      \t [-3.72641694  8.61531845 -5.23307798]. \t  -52726.91681995238 \t -22.303897517794855\n",
            "3      \t [  4.61331012 -10.         -10.        ]. \t  -208664.973178271 \t -22.303897517794855\n",
            "4      \t [8.79978443 9.21187338 4.01322808]. \t  -53436.69770955808 \t -22.303897517794855\n",
            "5      \t [ 5.40088552 -8.93292028  7.72280751]. \t  -96888.8410801737 \t -22.303897517794855\n",
            "6      \t [-7.2910825   0.82203557 -2.41589753]. \t  -571.368208047873 \t -22.303897517794855\n",
            "7      \t [-0.70334662 -2.8253075   9.90253331]. \t  -119296.65309205485 \t -22.303897517794855\n",
            "8      \t [9.19882162 0.03064205 8.95268462]. \t  -77296.27028686141 \t -22.303897517794855\n",
            "9      \t [ 2.02354005 -2.52572107 -7.1573564 ]. \t  -33294.6990087167 \t -22.303897517794855\n",
            "10     \t [-9.59976122  8.38827695  9.33640652]. \t  -127925.16238139631 \t -22.303897517794855\n",
            "11     \t [-8.75015747 -5.39823628 -8.50829628]. \t  -76744.16220125134 \t -22.303897517794855\n",
            "12     \t [-2.24716012 -1.7689941   1.97067453]. \t  -428.05489087824776 \t -22.303897517794855\n",
            "13     \t [-7.47141814 -5.9901291   5.51922131]. \t  -26060.38846696813 \t -22.303897517794855\n",
            "14     \t [ 1.3925504  -7.5833256  -1.12331643]. \t  -26126.11925624919 \t -22.303897517794855\n",
            "15     \t [ 10.         -10.          -1.28196473]. \t  -72810.62251674931 \t -22.303897517794855\n",
            "16     \t [-10.  10. -10.]. \t  -196621.0 \t -22.303897517794855\n",
            "17     \t [10.         -0.48200952 -2.04899575]. \t  -499.3432025824834 \t -22.303897517794855\n",
            "18     \t [ -3.4751874 -10.        -10.       ]. \t  -215124.3310775411 \t -22.303897517794855\n",
            "19     \t [-4.0475086   0.24893501 -9.20559832]. \t  -85983.91382092434 \t -22.303897517794855\n",
            "20     \t [ 1.6679049   4.18921277 10.        ]. \t  -117261.31649579768 \t -22.303897517794855\n",
            "21     \t [ 3.35326279  4.28319909 -0.30478234]. \t  -2278.7922448148847 \t -22.303897517794855\n",
            "22     \t [-9.39432062  4.46352094  2.60271956]. \t  -5204.867356230181 \t -22.303897517794855\n",
            "23     \t [ 9.69002304 -4.30225846 -8.10838065]. \t  -56889.2226664409 \t -22.303897517794855\n",
            "24     \t [ 1.4042262  10.         -9.64000351]. \t  -171660.24376988792 \t -22.303897517794855\n",
            "25     \t [7.13899865 2.67644009 0.19399776]. \t  -161.3105979009996 \t -22.303897517794855\n",
            "26     \t [ -1.2964821  -10.           9.51883566]. \t  -190737.0301259547 \t -22.303897517794855\n",
            "27     \t [10.         -3.8438899   3.04768828]. \t  -2353.5446123592424 \t -22.303897517794855\n",
            "28     \t [ 3.51104951 -0.14121946  4.8550817 ]. \t  -6737.976172586865 \t -22.303897517794855\n",
            "29     \t [-10.           3.31357858  -7.5333603 ]. \t  -38588.981726141436 \t -22.303897517794855\n",
            "30     \t [-10.          10.          -0.64904293]. \t  -88572.57867962465 \t -22.303897517794855\n"
          ]
        }
      ]
    },
    {
      "cell_type": "code",
      "metadata": {
        "colab": {
          "base_uri": "https://localhost:8080/"
        },
        "id": "DXwjUVZ4GCii",
        "outputId": "1ee97313-e669-4a2d-933c-16f62fa30abc"
      },
      "source": [
        "### ESTIMATED GP EI GRADIENTS\n",
        "\n",
        "np.random.seed(run_num_12)\n",
        "surrogate_approx_12 = GaussianProcess(cov_func, optimize=opt)\n",
        "\n",
        "approx_12 = GPGO_multi(surrogate_approx_12, Acquisition(util_grad_approx), objfunc, param)\n",
        "approx_12.run(init_evals=n_init, max_iter=iters)\n"
      ],
      "execution_count": 24,
      "outputs": [
        {
          "output_type": "stream",
          "name": "stdout",
          "text": [
            "Evaluation \t Proposed point \t  Current eval. \t Best eval.\n",
            "init   \t [-6.91674315  4.80099393 -4.7336997 ]. \t  -10487.591252066548 \t -4586.38475927115\n",
            "init   \t [ 0.67478787 -9.70850075  8.37494016]. \t  -138053.19180525147 \t -4586.38475927115\n",
            "init   \t [ 8.01429708 -9.33157145  9.13898673]. \t  -148578.70720060062 \t -4586.38475927115\n",
            "init   \t [-7.25581357 -4.32343294  2.12166369]. \t  -4586.38475927115 \t -4586.38475927115\n",
            "init   \t [ 8.88450272  7.05471082 -9.95481533]. \t  -126104.01453704505 \t -4586.38475927115\n",
            "1      \t [ 4.05244711 -3.44861047 -3.30704942]. \t  \u001b[92m-2711.705028601448\u001b[0m \t -2711.705028601448\n",
            "2      \t [-9.8399332  -9.79123196  1.94917609]. \t  -82290.79401902205 \t -2711.705028601448\n",
            "3      \t [-2.72524362 -3.32877676 -7.87150673]. \t  -49830.2759128258 \t -2711.705028601448\n",
            "4      \t [-9.90274624 -5.05558204  6.5981439 ]. \t  -33027.813423262836 \t -2711.705028601448\n",
            "5      \t [8.11179655 4.25164412 2.83994041]. \t  \u001b[92m-2046.5141241551942\u001b[0m \t -2046.5141241551942\n",
            "6      \t [-1.0203127   6.70305372  2.93327516]. \t  -16854.29441646725 \t -2046.5141241551942\n",
            "7      \t [2.24146714 3.87396922 9.57204863]. \t  -98069.68646479683 \t -2046.5141241551942\n",
            "8      \t [-3.39588922 -3.70052717  9.95424593]. \t  -124174.59831589606 \t -2046.5141241551942\n",
            "9      \t [-10. -10. -10.]. \t  -220621.0 \t -2046.5141241551942\n",
            "10     \t [ 0.20091307 -2.4472805   3.29917527]. \t  \u001b[92m-2037.3566435691675\u001b[0m \t -2037.3566435691675\n",
            "11     \t [-3.87321278  9.96526606  8.00203174]. \t  -123867.78422181687 \t -2037.3566435691675\n",
            "12     \t [-10.  10. -10.]. \t  -196621.0 \t -2037.3566435691675\n",
            "13     \t [ 10. -10. -10.]. \t  -204581.0 \t -2037.3566435691675\n",
            "14     \t [10. 10. 10.]. \t  -180581.0 \t -2037.3566435691675\n",
            "15     \t [-0.47370456 -9.97762256  0.31387618]. \t  -79976.78296998542 \t -2037.3566435691675\n",
            "16     \t [ 2.19838473  9.55137422 -8.58406831]. \t  -121972.08556256085 \t -2037.3566435691675\n",
            "17     \t [-10.          10.           3.68296417]. \t  -89201.1514209904 \t -2037.3566435691675\n",
            "18     \t [ 9.98959263 -3.47289247  0.74989442]. \t  \u001b[92m-543.673734881878\u001b[0m \t -543.673734881878\n",
            "19     \t [ 2.38954699 -8.44155157 -8.96984484]. \t  -125320.96366552828 \t -543.673734881878\n",
            "20     \t [-0.78447866  2.55580366 -1.82049769]. \t  \u001b[92m-436.5184491002427\u001b[0m \t -436.5184491002427\n",
            "21     \t [ 8.97914165  0.59644518 -6.51034682]. \t  -21455.548563328866 \t -436.5184491002427\n",
            "22     \t [ 6.72999519 -9.85288555  3.98217806]. \t  -75475.66507226418 \t -436.5184491002427\n",
            "23     \t [-8.10098369  0.61845424  8.65164439]. \t  -66917.66088073654 \t -436.5184491002427\n",
            "24     \t [4.62462204 9.29551761 0.08907094]. \t  -56846.333336428834 \t -436.5184491002427\n",
            "25     \t [ 2.97874059 -1.00532535 -9.7619692 ]. \t  -110134.45177295854 \t -436.5184491002427\n",
            "26     \t [ 7.48835728 -1.30641673  7.00049774]. \t  -29668.906719940172 \t -436.5184491002427\n",
            "27     \t [-7.40645161  2.96576905  1.9576089 ]. \t  -1386.7040462159289 \t -436.5184491002427\n",
            "28     \t [-9.75098997 -2.69487958 -7.56580675]. \t  -42486.0775164873 \t -436.5184491002427\n",
            "29     \t [ 0.82655294  0.84917855 -3.31070482]. \t  -1332.9204930727701 \t -436.5184491002427\n",
            "30     \t [ -2.51516124   3.90920378 -10.        ]. \t  -117555.58596540017 \t -436.5184491002427\n"
          ]
        }
      ]
    },
    {
      "cell_type": "code",
      "metadata": {
        "colab": {
          "base_uri": "https://localhost:8080/"
        },
        "id": "CphOPndPGClX",
        "outputId": "521d4620-91c1-4873-e8fb-a16c8780d696"
      },
      "source": [
        "### ESTIMATED GP EI GRADIENTS\n",
        "\n",
        "np.random.seed(run_num_13)\n",
        "surrogate_approx_13 = GaussianProcess(cov_func, optimize=opt)\n",
        "\n",
        "approx_13 = GPGO_multi(surrogate_approx_13, Acquisition(util_grad_approx), objfunc, param)\n",
        "approx_13.run(init_evals=n_init, max_iter=iters)\n"
      ],
      "execution_count": 25,
      "outputs": [
        {
          "output_type": "stream",
          "name": "stdout",
          "text": [
            "Evaluation \t Proposed point \t  Current eval. \t Best eval.\n",
            "init   \t [ 5.55404821 -5.2491756   6.48557065]. \t  -28895.231649642476 \t -7190.67128147545\n",
            "init   \t [ 9.31498396  9.45202228 -0.93101505]. \t  -57617.86193657745 \t -7190.67128147545\n",
            "init   \t [2.18084926 5.51053029 2.8322669 ]. \t  -7190.67128147545 \t -7190.67128147545\n",
            "init   \t [ 4.44036459 -9.29926952 -4.03101058]. \t  -62045.794621798595 \t -7190.67128147545\n",
            "init   \t [-8.82975016  7.14121885 -2.54291944]. \t  -24761.06708561053 \t -7190.67128147545\n",
            "1      \t [ 0.185244   -0.40233217  9.1114829 ]. \t  -83108.09560590271 \t -7190.67128147545\n",
            "2      \t [-2.55507975  5.16954611 -8.57852975]. \t  -66788.32667697628 \t -7190.67128147545\n",
            "3      \t [-4.04492519 -9.41811807  2.86360578]. \t  -67871.1485238979 \t -7190.67128147545\n",
            "4      \t [ 5.82685351 -2.07230908 -7.09410447]. \t  -31695.800000421277 \t -7190.67128147545\n",
            "5      \t [-9.72135464 -7.69244795 -6.22844507]. \t  -54735.99736938843 \t -7190.67128147545\n",
            "6      \t [ 1.70981611 -7.96842051  6.63640935]. \t  -59069.60046239685 \t -7190.67128147545\n",
            "7      \t [ 10.  10. -10.]. \t  -180581.0 \t -7190.67128147545\n",
            "8      \t [10. 10. 10.]. \t  -180581.0 \t -7190.67128147545\n",
            "9      \t [ 1.6639904   1.75101086 -5.56192983]. \t  -10883.292818417536 \t -7190.67128147545\n",
            "10     \t [-9.07950825  4.05883741  9.39334859]. \t  -92811.09564931945 \t -7190.67128147545\n",
            "11     \t [-10. -10.  10.]. \t  -220621.0 \t -7190.67128147545\n",
            "12     \t [  7.24523373   3.47198178 -10.        ]. \t  -116477.58325254612 \t -7190.67128147545\n",
            "13     \t [-4.97534813 -0.47854967 -2.75809964]. \t  \u001b[92m-833.5375014555372\u001b[0m \t -833.5375014555372\n",
            "14     \t [-0.33580928 -8.46313836 -9.58914318]. \t  -152249.80067087663 \t -833.5375014555372\n",
            "15     \t [ 10. -10. -10.]. \t  -204581.0 \t -833.5375014555372\n",
            "16     \t [-10.          -4.13136057   3.5214627 ]. \t  -6528.336246123523 \t -833.5375014555372\n",
            "17     \t [0.02329078 8.00324396 9.39696778]. \t  -118090.8768156785 \t -833.5375014555372\n",
            "18     \t [ 10. -10.  10.]. \t  -204581.0 \t -833.5375014555372\n",
            "19     \t [6.28948877 1.1576258  7.72507096]. \t  -41964.78613282861 \t -833.5375014555372\n",
            "20     \t [4.84759227 0.35590622 3.48973611]. \t  -1785.1061528226342 \t -833.5375014555372\n",
            "21     \t [ -5.28862669  -1.42005463 -10.        ]. \t  -121923.45161450021 \t -833.5375014555372\n",
            "22     \t [-6.75143788  9.62876583  4.02682209]. \t  -75484.39207055078 \t -833.5375014555372\n",
            "23     \t [ 8.60376243 -4.36795382 -0.67898093]. \t  -1888.6797782646217 \t -833.5375014555372\n",
            "24     \t [-2.22023475 -0.7292246   2.36800359]. \t  \u001b[92m-459.92127304262794\u001b[0m \t -459.92127304262794\n",
            "25     \t [-1.51248772 10.         -1.42939678]. \t  -81325.79176922655 \t -459.92127304262794\n",
            "26     \t [-10.  10. -10.]. \t  -196621.0 \t -459.92127304262794\n",
            "27     \t [ 8.6382104   2.30780816 -1.83756911]. \t  \u001b[92m-125.74034866546369\u001b[0m \t -125.74034866546369\n",
            "28     \t [-7.93671917  2.31368505  2.157585  ]. \t  -921.8473603939557 \t -125.74034866546369\n",
            "29     \t [-6.69043433 -3.6746553  10.        ]. \t  -126780.16246064442 \t -125.74034866546369\n",
            "30     \t [ 3.67760426  9.20942284 -6.81001439]. \t  -76023.9155156497 \t -125.74034866546369\n"
          ]
        }
      ]
    },
    {
      "cell_type": "code",
      "metadata": {
        "colab": {
          "base_uri": "https://localhost:8080/"
        },
        "id": "ojHTeARNGCoi",
        "outputId": "d6910c41-a135-444d-bdd7-09634821790f"
      },
      "source": [
        "### ESTIMATED GP EI GRADIENTS\n",
        "\n",
        "np.random.seed(run_num_14)\n",
        "surrogate_approx_14 = GaussianProcess(cov_func, optimize=opt)\n",
        "\n",
        "approx_14 = GPGO_multi(surrogate_approx_14, Acquisition(util_grad_approx), objfunc, param)\n",
        "approx_14.run(init_evals=n_init, max_iter=iters)\n"
      ],
      "execution_count": 26,
      "outputs": [
        {
          "output_type": "stream",
          "name": "stdout",
          "text": [
            "Evaluation \t Proposed point \t  Current eval. \t Best eval.\n",
            "init   \t [0.27886688 5.46330104 7.40855371]. \t  -39702.89936997373 \t -1439.5830530376063\n",
            "init   \t [-9.83906103 -3.80528149  9.15207479]. \t  -91186.29991894927 \t -1439.5830530376063\n",
            "init   \t [ 0.26233425 -3.6343115   0.78399875]. \t  -1439.5830530376063 \t -1439.5830530376063\n",
            "init   \t [-5.57490115  6.12962716 -3.15490749]. \t  -13643.962145478023 \t -1439.5830530376063\n",
            "init   \t [ 0.77777698 -9.88252429  3.46304956]. \t  -79141.18744713577 \t -1439.5830530376063\n",
            "1      \t [ 7.75074914 -8.33301678  4.9312824 ]. \t  -44170.557703432896 \t -1439.5830530376063\n",
            "2      \t [ 2.4133841   6.9805318  -1.42862351]. \t  -18093.267359135454 \t -1439.5830530376063\n",
            "3      \t [ 0.20170278 -6.14709147 -9.49686071]. \t  -115740.3239857176 \t -1439.5830530376063\n",
            "4      \t [ 8.31288284 -8.41520495 -6.46756025]. \t  -61033.900912213845 \t -1439.5830530376063\n",
            "5      \t [-9.55982645 -2.40648449 -1.49955998]. \t  \u001b[92m-1148.4811474641567\u001b[0m \t -1148.4811474641567\n",
            "6      \t [10. 10. 10.]. \t  -180581.0 \t -1148.4811474641567\n",
            "7      \t [ 5.07660615  7.61948752 -9.37017484]. \t  -109327.57369250164 \t -1148.4811474641567\n",
            "8      \t [-10.  10. -10.]. \t  -196621.0 \t -1148.4811474641567\n",
            "9      \t [ 7.40935318  0.84263204 10.        ]. \t  -119103.79477526518 \t -1148.4811474641567\n",
            "10     \t [-4.76065837 -6.01957255  5.24376667]. \t  -23130.52422954533 \t -1148.4811474641567\n",
            "11     \t [ 7.60230019 -1.14698318 -7.8298339 ]. \t  -46042.31695887177 \t -1148.4811474641567\n",
            "12     \t [-6.98452656  0.74550078 -9.19401505]. \t  -85183.98118751567 \t -1148.4811474641567\n",
            "13     \t [-3.36390978  3.12902366  6.11942711]. \t  -16523.004276481952 \t -1148.4811474641567\n",
            "14     \t [-10.  10.  10.]. \t  -196621.0 \t -1148.4811474641567\n",
            "15     \t [0.89026243 7.74449105 2.59197279]. \t  -28449.696044348027 \t -1148.4811474641567\n",
            "16     \t [ 1.93857007  1.60388317 -5.37497554]. \t  -9488.95417050194 \t -1148.4811474641567\n",
            "17     \t [ 9.90614776 -2.19870759  0.40228013]. \t  \u001b[92m-98.51929076584533\u001b[0m \t -98.51929076584533\n",
            "18     \t [ 2.24496432 -3.39912563 -6.205258  ]. \t  -20269.19299563198 \t -98.51929076584533\n",
            "19     \t [-10. -10. -10.]. \t  -220621.0 \t -98.51929076584533\n",
            "20     \t [-10.          -9.49672037  -2.85854935]. \t  -74609.59517111116 \t -98.51929076584533\n",
            "21     \t [ 9.41023837  4.75161459 -2.01737439]. \t  -2660.6409685414037 \t -98.51929076584533\n",
            "22     \t [-2.20234009 -9.05102811 -2.85995789]. \t  -57088.812277295394 \t -98.51929076584533\n",
            "23     \t [ -2.82917851   9.67689575 -10.        ]. \t  -180969.8295177376 \t -98.51929076584533\n",
            "24     \t [-9.18312093  7.37645174  2.33641375]. \t  -27992.715580266147 \t -98.51929076584533\n",
            "25     \t [10.         10.          2.85357601]. \t  -72399.53354800148 \t -98.51929076584533\n",
            "26     \t [ 1.68549024 -2.45860866  7.405848  ]. \t  -37951.021132680995 \t -98.51929076584533\n",
            "27     \t [ 4.7511941  -7.46359546 -4.60900459]. \t  -30251.33297924866 \t -98.51929076584533\n",
            "28     \t [4.68138711 1.032589   0.80415939]. \t  \u001b[92m-26.750445814035434\u001b[0m \t -26.750445814035434\n",
            "29     \t [-0.11597294 -7.00141803  9.8680376 ]. \t  -141388.89038443955 \t -26.750445814035434\n",
            "30     \t [-9.47821024  0.80321037  3.83472409]. \t  -2796.7968443308723 \t -26.750445814035434\n"
          ]
        }
      ]
    },
    {
      "cell_type": "code",
      "metadata": {
        "colab": {
          "base_uri": "https://localhost:8080/"
        },
        "id": "vCJzn4vWGCs3",
        "outputId": "01e35ff9-8a21-4321-860a-1563357120f6"
      },
      "source": [
        "### ESTIMATED GP EI GRADIENTS\n",
        "\n",
        "np.random.seed(run_num_15)\n",
        "surrogate_approx_15 = GaussianProcess(cov_func, optimize=opt)\n",
        "\n",
        "approx_15 = GPGO_multi(surrogate_approx_15, Acquisition(util_grad_approx), objfunc, param)\n",
        "approx_15.run(init_evals=n_init, max_iter=iters)\n"
      ],
      "execution_count": 27,
      "outputs": [
        {
          "output_type": "stream",
          "name": "stdout",
          "text": [
            "Evaluation \t Proposed point \t  Current eval. \t Best eval.\n",
            "init   \t [ 6.97635395 -6.4220815  -8.91273571]. \t  -93407.31094956005 \t -3815.237318891498\n",
            "init   \t [-2.76923108 -4.49198143  0.6000045 ]. \t  -3815.237318891498 \t -3815.237318891498\n",
            "init   \t [-3.88162169 -3.91051282 -7.76517448]. \t  -48905.136415868226 \t -3815.237318891498\n",
            "init   \t [-5.00201972  8.35259796 -4.71706293]. \t  -45736.265979350435 \t -3815.237318891498\n",
            "init   \t [4.35547375 7.31430068 6.14158964]. \t  -35004.84714820178 \t -3815.237318891498\n",
            "1      \t [-4.02002687  0.75490439  3.31255076]. \t  \u001b[92m-1425.6331932181074\u001b[0m \t -1425.6331932181074\n",
            "2      \t [ 2.60405856  6.24027381 -8.67997755]. \t  -73928.10815893668 \t -1425.6331932181074\n",
            "3      \t [-10. -10.  10.]. \t  -220621.0 \t -1425.6331932181074\n",
            "4      \t [  9.98117592  10.         -10.        ]. \t  -180594.96853034134 \t -1425.6331932181074\n",
            "5      \t [ 9.6912661   3.58725193 -5.40327777]. \t  -9600.747023774824 \t -1425.6331932181074\n",
            "6      \t [5.03726127 0.04872615 0.67891557]. \t  \u001b[92m-69.23889854019542\u001b[0m \t -69.23889854019542\n",
            "7      \t [ 6.26789159 -7.73785259  5.12220104]. \t  -36659.91077858748 \t -69.23889854019542\n",
            "8      \t [-5.79117971  5.04067968  9.03266882]. \t  -81477.5076954023 \t -69.23889854019542\n",
            "9      \t [ 4.223123    8.63767022 -1.17549929]. \t  -42161.33369318762 \t -69.23889854019542\n",
            "10     \t [ 3.88893442 -8.06801926 -1.99385928]. \t  -32679.999648494555 \t -69.23889854019542\n",
            "11     \t [-3.9588039  -4.14994892  9.90335147]. \t  -123337.66597005507 \t -69.23889854019542\n",
            "12     \t [-8.1564873  10.          2.98823458]. \t  -86927.38363707262 \t -69.23889854019542\n",
            "13     \t [-8.99232293  2.92692402 -4.64560734]. \t  -6321.898150956401 \t -69.23889854019542\n",
            "14     \t [9.32495946 3.2087539  9.94005148]. \t  -113697.86166331421 \t -69.23889854019542\n",
            "15     \t [-3.29288774 -9.63977773 -3.80219281]. \t  -76027.99784180186 \t -69.23889854019542\n",
            "16     \t [ 8.17721362 -0.96448402  5.36612699]. \t  -10417.42204547476 \t -69.23889854019542\n",
            "17     \t [10.         10.          2.88434722]. \t  -72413.22568640875 \t -69.23889854019542\n",
            "18     \t [-3.174519    0.81752231  7.37357542]. \t  -34999.41291503981 \t -69.23889854019542\n",
            "19     \t [-9.22238711 -8.71971404 -7.47276858]. \t  -95624.47125900952 \t -69.23889854019542\n",
            "20     \t [-10.  10. -10.]. \t  -196621.0 \t -69.23889854019542\n",
            "21     \t [10.         -4.1552212  -0.46782729]. \t  -1347.8966630541163 \t -69.23889854019542\n",
            "22     \t [ 1.29616053  0.83902775 -5.2184552 ]. \t  -8627.202372857579 \t -69.23889854019542\n",
            "23     \t [-8.961987   -6.76536086  3.50746769]. \t  -23252.860876328974 \t -69.23889854019542\n",
            "24     \t [-10.  10.  10.]. \t  -196621.0 \t -69.23889854019542\n",
            "25     \t [ 10. -10.  10.]. \t  -204581.0 \t -69.23889854019542\n",
            "26     \t [-10.          -1.04269542 -10.        ]. \t  -121671.9295179599 \t -69.23889854019542\n",
            "27     \t [-9.89779937 -0.20399491  5.79169684]. \t  -13902.4415394413 \t -69.23889854019542\n",
            "28     \t [-3.85708673  2.95268853 -9.27129205]. \t  -86573.92815166709 \t -69.23889854019542\n",
            "29     \t [ 0.62547625 -9.88380163 -9.59329089]. \t  -188703.52187338722 \t -69.23889854019542\n",
            "30     \t [ 10.         -10.          -3.90074316]. \t  -77185.14149043315 \t -69.23889854019542\n"
          ]
        }
      ]
    },
    {
      "cell_type": "code",
      "metadata": {
        "colab": {
          "base_uri": "https://localhost:8080/"
        },
        "id": "bGGkhp-kGCw6",
        "outputId": "d6ccabbc-85d6-4667-868a-d7b67cff775b"
      },
      "source": [
        "### ESTIMATED GP EI GRADIENTS\n",
        "\n",
        "np.random.seed(run_num_16)\n",
        "surrogate_approx_16 = GaussianProcess(cov_func, optimize=opt)\n",
        "\n",
        "approx_16 = GPGO_multi(surrogate_approx_16, Acquisition(util_grad_approx), objfunc, param)\n",
        "approx_16.run(init_evals=n_init, max_iter=iters)\n"
      ],
      "execution_count": 28,
      "outputs": [
        {
          "output_type": "stream",
          "name": "stdout",
          "text": [
            "Evaluation \t Proposed point \t  Current eval. \t Best eval.\n",
            "init   \t [-5.53417842  0.46326683  1.01402913]. \t  -121.43529547027163 \t -121.43529547027163\n",
            "init   \t [-9.087961   -2.78542329 -5.53838117]. \t  -13651.622350397936 \t -121.43529547027163\n",
            "init   \t [ 3.77452324 -6.7253715  -8.59350266]. \t  -86575.28663542298 \t -121.43529547027163\n",
            "init   \t [ 8.8202172   1.2736276  -8.44015321]. \t  -59934.59518842736 \t -121.43529547027163\n",
            "init   \t [ 4.45281022 -6.83095653 -4.99437387]. \t  -25459.039011491368 \t -121.43529547027163\n",
            "1      \t [4.18505664 9.44091052 6.20078235]. \t  -74267.36337655598 \t -121.43529547027163\n",
            "2      \t [ 5.46645324 -3.10791558  7.00820468]. \t  -31211.732976445848 \t -121.43529547027163\n",
            "3      \t [-10.  10.  10.]. \t  -196621.0 \t -121.43529547027163\n",
            "4      \t [-2.61755868 -8.2924165   4.84857415]. \t  -48472.3424987587 \t -121.43529547027163\n",
            "5      \t [-3.40441603  9.0441433  -4.42822156]. \t  -58527.14818017682 \t -121.43529547027163\n",
            "6      \t [ 4.43542074  9.94841157 -7.0897813 ]. \t  -99516.29975823758 \t -121.43529547027163\n",
            "7      \t [-7.92323047 -1.59321032  9.84617866]. \t  -115063.9149436472 \t -121.43529547027163\n",
            "8      \t [-10. -10. -10.]. \t  -220621.0 \t -121.43529547027163\n",
            "9      \t [ 10. -10.  10.]. \t  -204581.0 \t -121.43529547027163\n",
            "10     \t [ 9.98852149 -7.93099291 -5.611128  ]. \t  -41986.637450421564 \t -121.43529547027163\n",
            "11     \t [-9.64442768 -5.12694362  2.33258491]. \t  -8623.697730678545 \t -121.43529547027163\n",
            "12     \t [ 5.0988432   3.81308483 -0.80157698]. \t  -1186.091453780856 \t -121.43529547027163\n",
            "13     \t [ 0.92740386  0.10886049 -7.53447757]. \t  -38599.265978728814 \t -121.43529547027163\n",
            "14     \t [-9.22737901  7.91567599 -9.27617181]. \t  -117172.64391571193 \t -121.43529547027163\n",
            "15     \t [ -2.28959615 -10.          -2.48398837]. \t  -83350.26280340414 \t -121.43529547027163\n",
            "16     \t [-2.49896383  2.98642226  6.06853985]. \t  -15821.24984511755 \t -121.43529547027163\n",
            "17     \t [10.          3.39245847  3.28737887]. \t  -1415.9562334747054 \t -121.43529547027163\n",
            "18     \t [ 6.16453531 -9.68598445  2.92485284]. \t  -68044.8839016422 \t -121.43529547027163\n",
            "19     \t [-10.          10.          -0.28148217]. \t  -88611.56746751485 \t -121.43529547027163\n",
            "20     \t [-10. -10.  10.]. \t  -220621.0 \t -121.43529547027163\n",
            "21     \t [-2.76135005  8.43007393 10.        ]. \t  -152099.59299705163 \t -121.43529547027163\n",
            "22     \t [-0.97563554 -2.96726339 -1.36103092]. \t  -828.2527960006332 \t -121.43529547027163\n",
            "23     \t [ -2.21998696 -10.         -10.        ]. \t  -214096.2145690014 \t -121.43529547027163\n",
            "24     \t [ 8.56220423 -2.00369152 -1.24269541]. \t  -135.5481560705487 \t -121.43529547027163\n",
            "25     \t [ 8.12952668  4.27761903 10.        ]. \t  -116593.26718769294 \t -121.43529547027163\n",
            "26     \t [-10.           4.8284253    5.10362204]. \t  -13236.40053926592 \t -121.43529547027163\n",
            "27     \t [-0.71410957 -3.39574543 10.        ]. \t  -125243.04926665375 \t -121.43529547027163\n",
            "28     \t [ -9.30195079 -10.          -2.35056067]. \t  -89050.08510891517 \t -121.43529547027163\n",
            "29     \t [ 8.25365593 10.          0.02632685]. \t  -73885.85328557188 \t -121.43529547027163\n",
            "30     \t [ -5.57764694   1.91371089 -10.        ]. \t  -118090.73409250879 \t -121.43529547027163\n"
          ]
        }
      ]
    },
    {
      "cell_type": "code",
      "metadata": {
        "id": "Yrs2mp7hGC1Z",
        "colab": {
          "base_uri": "https://localhost:8080/"
        },
        "outputId": "d6e1f1f4-ccad-4eba-d86a-50e105bc3834"
      },
      "source": [
        "### ESTIMATED GP EI GRADIENTS\n",
        "\n",
        "np.random.seed(run_num_17)\n",
        "surrogate_approx_17 = GaussianProcess(cov_func, optimize=opt)\n",
        "\n",
        "approx_17 = GPGO_multi(surrogate_approx_17, Acquisition(util_grad_approx), objfunc, param)\n",
        "approx_17.run(init_evals=n_init, max_iter=iters)\n"
      ],
      "execution_count": 29,
      "outputs": [
        {
          "output_type": "stream",
          "name": "stdout",
          "text": [
            "Evaluation \t Proposed point \t  Current eval. \t Best eval.\n",
            "init   \t [-4.10669995  0.61173511 -6.16958426]. \t  -17181.1334683022 \t -11774.913131399897\n",
            "init   \t [-8.64199284  5.7397092   3.12667044]. \t  -11774.913131399897 \t -11774.913131399897\n",
            "init   \t [ 2.75041792  1.51205788 -9.21874168]. \t  -85144.34017448343 \t -11774.913131399897\n",
            "init   \t [-2.84372791  8.91366374 -8.79910639]. \t  -116232.21251957516 \t -11774.913131399897\n",
            "init   \t [ 7.28084207  7.54581052 -8.97612669]. \t  -93540.66819534874 \t -11774.913131399897\n",
            "1      \t [ 3.53524771 -7.6305547  -1.10007868]. \t  -25809.301647344466 \t -11774.913131399897\n",
            "2      \t [9.06605384 1.70871417 1.66132937]. \t  \u001b[92m-129.46210636737467\u001b[0m \t -129.46210636737467\n",
            "3      \t [5.27601463 9.99566767 6.35850193]. \t  -90783.98305117982 \t -129.46210636737467\n",
            "4      \t [-8.52512993 -8.03930931 -1.75006035]. \t  -38662.67579605237 \t -129.46210636737467\n",
            "5      \t [-5.23795116  0.45408403  8.62047905]. \t  -65966.90843633469 \t -129.46210636737467\n",
            "6      \t [0.77793961 2.17142302 2.23437955]. \t  -332.9224565238143 \t -129.46210636737467\n",
            "7      \t [ 4.90212584  6.3243788  -3.46884476]. \t  -12237.537261458452 \t -129.46210636737467\n",
            "8      \t [ -0.54967901  -6.52929159 -10.        ]. \t  -142693.18019531853 \t -129.46210636737467\n",
            "9      \t [ 10. -10.  10.]. \t  -204581.0 \t -129.46210636737467\n",
            "10     \t [-7.71239267 -7.38320543  5.5411325 ]. \t  -41527.23042901857 \t -129.46210636737467\n",
            "11     \t [9.00876915 0.79791433 2.81059692]. \t  -858.903901979533 \t -129.46210636737467\n",
            "12     \t [ 4.60823713 -3.69282708  7.93523625]. \t  -51451.34641288262 \t -129.46210636737467\n",
            "13     \t [ 9.15484118  3.11620099 -0.11470719]. \t  -305.94877674269026 \t -129.46210636737467\n",
            "14     \t [ 10.         -5.0464192 -10.       ]. \t  -129564.07288268112 \t -129.46210636737467\n",
            "15     \t [-10. -10. -10.]. \t  -220621.0 \t -129.46210636737467\n",
            "16     \t [-6.87999705  8.36558155 -2.65389137]. \t  -43287.7138510791 \t -129.46210636737467\n",
            "17     \t [-1.55256616 -9.93104392 -7.69587118]. \t  -128499.72883516757 \t -129.46210636737467\n",
            "18     \t [0.78542854 4.62312073 9.4603132 ]. \t  -94738.21858187231 \t -129.46210636737467\n",
            "19     \t [-10.  10.  10.]. \t  -196621.0 \t -129.46210636737467\n",
            "20     \t [-10.  10. -10.]. \t  -196621.0 \t -129.46210636737467\n",
            "21     \t [-5.55389035 -0.89234484  0.4979679 ]. \t  -150.8789828097113 \t -129.46210636737467\n",
            "22     \t [10.          4.07863654 10.        ]. \t  -116319.57916500898 \t -129.46210636737467\n",
            "23     \t [10.         10.         -0.61140492]. \t  -72537.81894322956 \t -129.46210636737467\n",
            "24     \t [  1.72186749 -10.          10.        ]. \t  -210928.95675443107 \t -129.46210636737467\n",
            "25     \t [-0.43762296  9.57560772  0.60435721]. \t  -67817.9399231372 \t -129.46210636737467\n",
            "26     \t [ 8.78739368 -6.91934005  3.29386354]. \t  -17644.251206850968 \t -129.46210636737467\n",
            "27     \t [  9.71296624 -10.          -3.08467494]. \t  -75022.52536362455 \t -129.46210636737467\n",
            "28     \t [ 8.13092951 -3.00816988 -3.46916343]. \t  -2449.254685522404 \t -129.46210636737467\n",
            "29     \t [ -9.43579155   2.55742135 -10.        ]. \t  -118073.61584031471 \t -129.46210636737467\n",
            "30     \t [-3.16590516 10.          7.24315463]. \t  -109603.29035608629 \t -129.46210636737467\n"
          ]
        }
      ]
    },
    {
      "cell_type": "code",
      "metadata": {
        "id": "f0HIEP3PIUEa",
        "colab": {
          "base_uri": "https://localhost:8080/"
        },
        "outputId": "f2c793a3-e699-4706-a0d8-945c1d972bae"
      },
      "source": [
        "### ESTIMATED GP EI GRADIENTS\n",
        "\n",
        "np.random.seed(run_num_18)\n",
        "surrogate_approx_18 = GaussianProcess(cov_func, optimize=opt)\n",
        "\n",
        "approx_18 = GPGO_multi(surrogate_approx_18, Acquisition(util_grad_approx), objfunc, param)\n",
        "approx_18.run(init_evals=n_init, max_iter=iters)\n"
      ],
      "execution_count": 30,
      "outputs": [
        {
          "output_type": "stream",
          "name": "stdout",
          "text": [
            "Evaluation \t Proposed point \t  Current eval. \t Best eval.\n",
            "init   \t [3.00748483 0.10906747 7.57202942]. \t  -39395.322047969305 \t -27664.83628190573\n",
            "init   \t [-6.36319549  7.04466137  5.00272572]. \t  -27913.961335277138 \t -27664.83628190573\n",
            "init   \t [ 3.32203335  9.75790897 -4.86063155]. \t  -74244.15287271979 \t -27664.83628190573\n",
            "init   \t [-9.43388149  2.71438231  6.94624775]. \t  -27664.83628190573 \t -27664.83628190573\n",
            "init   \t [ 4.7234925  -9.58385776 -7.76793739]. \t  -114986.86534587143 \t -27664.83628190573\n",
            "1      \t [-3.60627759 -4.12128051 -3.96163645]. \t  \u001b[92m-6628.123996844119\u001b[0m \t -6628.123996844119\n",
            "2      \t [ 6.31975365  3.18761398 -5.14286127]. \t  -7833.7930593098545 \t -6628.123996844119\n",
            "3      \t [ 8.98418483 -5.51984113  1.59973658]. \t  \u001b[92m-5801.508998849156\u001b[0m \t -5801.508998849156\n",
            "4      \t [-9.82664426 -9.19265651  7.01964259]. \t  -98908.14619333696 \t -5801.508998849156\n",
            "5      \t [-2.53775904  1.42536014 -1.62522138]. \t  \u001b[92m-144.3007399321474\u001b[0m \t -144.3007399321474\n",
            "6      \t [-8.41638891  3.62928904 -8.37899504]. \t  -58636.25217955298 \t -144.3007399321474\n",
            "7      \t [4.76859313 6.53506599 3.93926051]. \t  -14822.442752768635 \t -144.3007399321474\n",
            "8      \t [ 1.54007968 -2.49510305  7.62800693]. \t  -42627.25456372583 \t -144.3007399321474\n",
            "9      \t [ 10. -10.  10.]. \t  -204581.0 \t -144.3007399321474\n",
            "10     \t [-4.45384194 10.         -1.78676489]. \t  -83671.69478438319 \t -144.3007399321474\n",
            "11     \t [-9.86973108 -9.49362916 -9.87083803]. \t  -197704.91270806122 \t -144.3007399321474\n",
            "12     \t [10. 10. 10.]. \t  -180581.0 \t -144.3007399321474\n",
            "13     \t [ 0.71612401  0.72479636 -9.68187435]. \t  -104629.88885686785 \t -144.3007399321474\n",
            "14     \t [-2.01375594  8.50007968 -9.93872979]. \t  -150170.4486035108 \t -144.3007399321474\n",
            "15     \t [-9.93581462 -8.88515324 -1.9323835 ]. \t  -57254.17065227144 \t -144.3007399321474\n",
            "16     \t [ -0.91787492 -10.           8.90143302]. \t  -165887.11661147885 \t -144.3007399321474\n",
            "17     \t [10.         -5.30476431 -5.15945175]. \t  -14647.298724465305 \t -144.3007399321474\n",
            "18     \t [ 2.52121669 -9.87643305  2.25513484]. \t  -75371.86877406345 \t -144.3007399321474\n",
            "19     \t [ 10.  10. -10.]. \t  -180581.0 \t -144.3007399321474\n",
            "20     \t [-9.40976734  1.33388274 -0.32154215]. \t  -448.525551696626 \t -144.3007399321474\n",
            "21     \t [ 10.           0.29833527 -10.        ]. \t  -119916.20774382634 \t -144.3007399321474\n",
            "22     \t [-10.  10.  10.]. \t  -196621.0 \t -144.3007399321474\n",
            "23     \t [-4.39019724 -6.43984046  2.74806157]. \t  -16675.630931267704 \t -144.3007399321474\n",
            "24     \t [ 2.64883235 -3.22350276 -1.19261688]. \t  -770.8060054366682 \t -144.3007399321474\n",
            "25     \t [-4.90325182 -4.71767037  6.43998099]. \t  -27973.877046357913 \t -144.3007399321474\n",
            "26     \t [-2.42530689 10.         10.        ]. \t  -190263.74247002427 \t -144.3007399321474\n",
            "27     \t [ -2.66352879 -10.         -10.        ]. \t  -214458.43324985355 \t -144.3007399321474\n",
            "28     \t [9.66277171 2.68704209 7.20076361]. \t  -30732.755942508076 \t -144.3007399321474\n",
            "29     \t [-3.04774282  2.85711707  9.45218163]. \t  -93516.0309508356 \t -144.3007399321474\n",
            "30     \t [ 1.00000000e+01  1.20521196e+00 -3.00240462e-03]. \t  -186.03349105091766 \t -144.3007399321474\n"
          ]
        }
      ]
    },
    {
      "cell_type": "code",
      "metadata": {
        "id": "S3mxRQDLIUPC",
        "colab": {
          "base_uri": "https://localhost:8080/"
        },
        "outputId": "8c4a55c5-9597-48f4-e7e8-6dde3de2dedc"
      },
      "source": [
        "### ESTIMATED GP EI GRADIENTS\n",
        "\n",
        "np.random.seed(run_num_19)\n",
        "surrogate_approx_19 = GaussianProcess(cov_func, optimize=opt)\n",
        "\n",
        "approx_19 = GPGO_multi(surrogate_approx_19, Acquisition(util_grad_approx), objfunc, param)\n",
        "approx_19.run(init_evals=n_init, max_iter=iters)\n"
      ],
      "execution_count": 31,
      "outputs": [
        {
          "output_type": "stream",
          "name": "stdout",
          "text": [
            "Evaluation \t Proposed point \t  Current eval. \t Best eval.\n",
            "init   \t [-8.04932797  5.22499433 -5.06124054]. \t  -14282.07020620917 \t -7826.389573301183\n",
            "init   \t [-7.23736625 -3.37106873 -8.3400087 ]. \t  -62767.56440733103 \t -7826.389573301183\n",
            "init   \t [3.43954163 6.13187596 9.65483829]. \t  -107829.21541670273 \t -7826.389573301183\n",
            "init   \t [ 2.7132147  -5.68153488  0.98054864]. \t  -7826.389573301183 \t -7826.389573301183\n",
            "init   \t [ 0.91119916 -5.31847854 -7.72548314]. \t  -52835.14449570301 \t -7826.389573301183\n",
            "1      \t [-8.70426449  3.79716958  1.04335667]. \t  \u001b[92m-2920.737921781948\u001b[0m \t -2920.737921781948\n",
            "2      \t [-10.         -10.           4.74028698]. \t  -97376.42218876982 \t -2920.737921781948\n",
            "3      \t [-5.92264612  1.94070459  8.81541711]. \t  -71080.60419246902 \t -2920.737921781948\n",
            "4      \t [ 9.93826046 -7.57727549 -3.12538868]. \t  -24289.940560273273 \t -2920.737921781948\n",
            "5      \t [-10. -10. -10.]. \t  -220621.0 \t -2920.737921781948\n",
            "6      \t [6.53768271 8.27261557 0.88726414]. \t  -34139.50528106757 \t -2920.737921781948\n",
            "7      \t [8.88477717 1.65383617 9.09628062]. \t  -80607.08552314134 \t -2920.737921781948\n",
            "8      \t [-10.  10.  10.]. \t  -196621.0 \t -2920.737921781948\n",
            "9      \t [-0.88364342 -0.53896298  9.12024958]. \t  -83571.53151095378 \t -2920.737921781948\n",
            "10     \t [ 7.67407824 -8.03506776  6.63114457]. \t  -57181.0498747126 \t -2920.737921781948\n",
            "11     \t [-0.82658611  0.86505746 -3.68328665]. \t  \u001b[92m-2084.1773688952567\u001b[0m \t -2084.1773688952567\n",
            "12     \t [ 0.19609949  8.62619954 -7.40348118]. \t  -74781.44337676886 \t -2084.1773688952567\n",
            "13     \t [-3.31304007  8.60633167  5.38176934]. \t  -53190.920647531 \t -2084.1773688952567\n",
            "14     \t [ 6.9915601   5.47359895 -8.30558749]. \t  -58301.22396648849 \t -2084.1773688952567\n",
            "15     \t [10. 10. 10.]. \t  -180581.0 \t -2084.1773688952567\n",
            "16     \t [ 9.02147784  2.6853713  -8.65516215]. \t  -65071.71602536134 \t -2084.1773688952567\n",
            "17     \t [ 4.87354767 -0.83030448 -8.23000576]. \t  -55769.47006687408 \t -2084.1773688952567\n",
            "18     \t [1.9799272  3.81156677 6.02897636]. \t  -15702.85164015473 \t -2084.1773688952567\n",
            "19     \t [-4.71465787 -3.33692723  2.76841261]. \t  -2534.1816283550056 \t -2084.1773688952567\n",
            "20     \t [ 10. -10. -10.]. \t  -204581.0 \t -2084.1773688952567\n",
            "21     \t [7.32201267 0.09928487 1.94229475]. \t  \u001b[92m-312.931762349178\u001b[0m \t -312.931762349178\n",
            "22     \t [-10.  10. -10.]. \t  -196621.0 \t -312.931762349178\n",
            "23     \t [-4.27023191 -7.23038    -2.84748561]. \t  -25363.663882074386 \t -312.931762349178\n",
            "24     \t [ -3.7991519    3.29507564 -10.        ]. \t  -117403.46234657167 \t -312.931762349178\n",
            "25     \t [ 0.42091343 -9.45937249  8.09164428]. \t  -122896.23970180325 \t -312.931762349178\n",
            "26     \t [-6.21571185 -4.98751829  9.82828293]. \t  -124139.87202485456 \t -312.931762349178\n",
            "27     \t [-10.          -3.59110802  -1.07359651]. \t  -2787.4508101092997 \t -312.931762349178\n",
            "28     \t [-9.95648507 10.          2.47782206]. \t  -88299.08012727006 \t -312.931762349178\n",
            "29     \t [-1.21142822  6.58284215 -0.79185204]. \t  -15535.53294158137 \t -312.931762349178\n",
            "30     \t [10.          3.43915346 -2.0443321 ]. \t  -526.5507512223331 \t -312.931762349178\n"
          ]
        }
      ]
    },
    {
      "cell_type": "code",
      "metadata": {
        "id": "Aawd59dRIUYn",
        "colab": {
          "base_uri": "https://localhost:8080/"
        },
        "outputId": "aeefd866-3488-4220-c469-54063e5dfed6"
      },
      "source": [
        "### ESTIMATED GP EI GRADIENTS\n",
        "\n",
        "np.random.seed(run_num_20)\n",
        "surrogate_approx_20 = GaussianProcess(cov_func, optimize=opt)\n",
        "\n",
        "approx_20 = GPGO_multi(surrogate_approx_20, Acquisition(util_grad_approx), objfunc, param)\n",
        "approx_20.run(init_evals=n_init, max_iter=iters)\n"
      ],
      "execution_count": 32,
      "outputs": [
        {
          "output_type": "stream",
          "name": "stdout",
          "text": [
            "Evaluation \t Proposed point \t  Current eval. \t Best eval.\n",
            "init   \t [1.76261602 7.95427456 7.83061459]. \t  -70596.27231718504 \t -1177.4786310520467\n",
            "init   \t [ 6.31674955 -9.28220829  3.83515164]. \t  -59634.45116383437 \t -1177.4786310520467\n",
            "init   \t [-2.42638116  0.37021891  3.15902931]. \t  -1177.4786310520467 \t -1177.4786310520467\n",
            "init   \t [-6.12299564 -4.55367196  4.37211867]. \t  -10072.821243906226 \t -1177.4786310520467\n",
            "init   \t [5.66007219 7.0065528  5.50489788]. \t  -25762.190938183892 \t -1177.4786310520467\n",
            "1      \t [ 3.58822235  3.01571828 -4.62409523]. \t  -5172.971057172382 \t -1177.4786310520467\n",
            "2      \t [ 6.90281047 -9.84449703 -8.45927451]. \t  -140110.25172511325 \t -1177.4786310520467\n",
            "3      \t [-2.02505955 -3.84087805 -8.90073734]. \t  -81008.7373034749 \t -1177.4786310520467\n",
            "4      \t [-9.03422809  7.69291444  7.37966897]. \t  -63300.39318700283 \t -1177.4786310520467\n",
            "5      \t [-10.           3.69600757 -10.        ]. \t  -118512.47804243994 \t -1177.4786310520467\n",
            "6      \t [-6.47544342 10.         -3.45673353]. \t  -85899.56405072765 \t -1177.4786310520467\n",
            "7      \t [  2.90997326   9.80451551 -10.        ]. \t  -180231.24484137478 \t -1177.4786310520467\n",
            "8      \t [-10. -10.  10.]. \t  -220621.0 \t -1177.4786310520467\n",
            "9      \t [-4.90218543  2.34345939 -3.77355686]. \t  -2588.824419231089 \t -1177.4786310520467\n",
            "10     \t [-5.68959747 -8.46665594 -7.29795281]. \t  -84147.35090511001 \t -1177.4786310520467\n",
            "11     \t [10.         10.         -4.62121337]. \t  -75491.07291644294 \t -1177.4786310520467\n",
            "12     \t [ 5.4450004  -2.89162526  8.68121897]. \t  -71070.3061195951 \t -1177.4786310520467\n",
            "13     \t [ 9.88434735 -5.67538221 -2.24560919]. \t  -6772.408637574589 \t -1177.4786310520467\n",
            "14     \t [10.          2.73024597  0.9650371 ]. \t  \u001b[92m-131.44493639529352\u001b[0m \t -131.44493639529352\n",
            "15     \t [-1.54047293 -8.88795142  7.50630175]. \t  -95250.22764261646 \t -131.44493639529352\n",
            "16     \t [1.30224685 5.27239682 1.65100012]. \t  -5895.884042361342 \t -131.44493639529352\n",
            "17     \t [ 10.           3.96624187 -10.        ]. \t  -116289.95067120988 \t -131.44493639529352\n",
            "18     \t [ 0.71418487 -6.32603221 -1.59387522]. \t  -12974.76882601012 \t -131.44493639529352\n",
            "19     \t [-9.12660823  0.27620151 -3.55250484]. \t  -2144.415422318574 \t -131.44493639529352\n",
            "20     \t [10.          3.25376401 10.        ]. \t  -116457.95891365106 \t -131.44493639529352\n",
            "21     \t [-1.40915933  1.42339752  9.87522592]. \t  -112527.82332693352 \t -131.44493639529352\n",
            "22     \t [-3.59278483 10.          3.44877299]. \t  -83491.47039234392 \t -131.44493639529352\n",
            "23     \t [ 10. -10.  10.]. \t  -204581.0 \t -131.44493639529352\n",
            "24     \t [ 10.          -3.14280285 -10.        ]. \t  -124072.29244350783 \t -131.44493639529352\n",
            "25     \t [-8.03926695 -7.53443312 -0.61714208]. \t  -29848.96944248592 \t -131.44493639529352\n",
            "26     \t [-10.           1.40730394   2.71080575]. \t  -1040.662463122595 \t -131.44493639529352\n",
            "27     \t [-2.40818295  8.39287191 -9.70420994]. \t  -138221.52245434682 \t -131.44493639529352\n",
            "28     \t [-10.           1.23783062   9.90644063]. \t  -114581.00655947029 \t -131.44493639529352\n",
            "29     \t [ 2.72478    10.         -2.70528119]. \t  -77902.50759928241 \t -131.44493639529352\n",
            "30     \t [10. 10. 10.]. \t  -180581.0 \t -131.44493639529352\n"
          ]
        }
      ]
    },
    {
      "cell_type": "code",
      "metadata": {
        "id": "xkgzPRbBTHaq",
        "colab": {
          "base_uri": "https://localhost:8080/"
        },
        "outputId": "3f551025-b08f-4c7b-f469-e3136b12c980"
      },
      "source": [
        "end_approx = time.time()\n",
        "end_approx\n",
        "\n",
        "time_approx = end_approx - start_approx\n",
        "time_approx\n",
        "\n",
        "start_exact = time.time()\n",
        "start_exact"
      ],
      "execution_count": 33,
      "outputs": [
        {
          "output_type": "execute_result",
          "data": {
            "text/plain": [
              "1631274768.0371225"
            ]
          },
          "metadata": {},
          "execution_count": 33
        }
      ]
    },
    {
      "cell_type": "code",
      "metadata": {
        "id": "7CG3Ndvb16Rb",
        "colab": {
          "base_uri": "https://localhost:8080/"
        },
        "outputId": "21002e4b-d81f-48f1-fab7-584149c7b7e8"
      },
      "source": [
        "### EXACT GP EI GRADIENTS\n",
        "\n",
        "np.random.seed(run_num_1)\n",
        "surrogate_exact_1 = dGaussianProcess(cov_func, optimize=opt)\n",
        "\n",
        "exact_1 = dGPGO(surrogate_exact_1, Acquisition_new(util_grad_exact), objfunc, param)\n",
        "exact_1.run(init_evals=n_init, max_iter=iters)\n"
      ],
      "execution_count": 34,
      "outputs": [
        {
          "output_type": "stream",
          "name": "stdout",
          "text": [
            "Evaluation \t Proposed point \t  Current eval. \t Best eval.\n",
            "init   \t [-1.65955991  4.40648987 -9.9977125 ]. \t  -117949.69994259246 \t -1743.4541121077734\n",
            "init   \t [-3.95334855 -7.06488218 -8.1532281 ]. \t  -80377.19459880023 \t -1743.4541121077734\n",
            "init   \t [-6.27479577 -3.08878546 -2.06465052]. \t  -1743.4541121077734 \t -1743.4541121077734\n",
            "init   \t [ 0.77633468 -1.61610971  3.70439001]. \t  -2573.2528931184784 \t -1743.4541121077734\n",
            "init   \t [-5.91095501  7.56234873 -9.45224814]. \t  -116840.74897847573 \t -1743.4541121077734\n",
            "1      \t [-8.03306332 -1.5778475   9.1577906 ]. \t  -86415.93772353831 \t -1743.4541121077734\n",
            "2      \t [-5.34051452  6.14210391 -2.24278712]. \t  -13140.755438034004 \t -1743.4541121077734\n",
            "3      \t [ 8.37203556 -9.9919595   9.53518298]. \t  -183648.52554820437 \t -1743.4541121077734\n",
            "4      \t [ 4.63457201 -4.80603213 -4.85861402]. \t  -11585.604670094763 \t -1743.4541121077734\n",
            "5      \t [9.79910357 4.22244918 4.63600818]. \t  -5922.444680450715 \t -1743.4541121077734\n",
            "6      \t [ 3.44939689  3.73616453 -1.01506493]. \t  \u001b[92m-1211.831429304587\u001b[0m \t -1211.831429304587\n",
            "7      \t [-9.82121795  6.45460011  7.22423277]. \t  -46236.669798932126 \t -1211.831429304587\n",
            "8      \t [-0.24157016  7.10712825  7.76772869]. \t  -59203.51610717608 \t -1211.831429304587\n",
            "9      \t [-4.30752238 -8.77926638  4.07038662]. \t  -55517.0918391579 \t -1211.831429304587\n",
            "10     \t [ 5.45771204  6.82844314 -9.13418124]. \t  -92273.26533478146 \t -1211.831429304587\n",
            "11     \t [ 9.94969985  1.64059953 -4.13247443]. \t  -3293.302387390328 \t -1211.831429304587\n",
            "12     \t [ 2.69037433 -1.72160309  9.81831265]. \t  -113538.06222623268 \t -1211.831429304587\n",
            "13     \t [ 9.65179579  8.2747925  -3.05261159]. \t  -32803.7767092942 \t -1211.831429304587\n",
            "14     \t [-9.79655087 -0.19609376 -9.09035709]. \t  -82447.81014507987 \t -1211.831429304587\n",
            "15     \t [ 7.94996565 -0.92340099  1.15650607]. \t  \u001b[92m-165.13849303235583\u001b[0m \t -165.13849303235583\n",
            "16     \t [-9.4457652  -8.29219722  9.62820932]. \t  -155863.22911130823 \t -165.13849303235583\n",
            "17     \t [ 9.10779979 -7.78409121  2.95105972]. \t  -27093.315424484354 \t -165.13849303235583\n",
            "18     \t [ 6.40404933 -0.01317797 -9.24832297]. \t  -87912.34890733958 \t -165.13849303235583\n",
            "19     \t [-0.99240715  8.70840228 -2.94641345]. \t  -46841.83303685055 \t -165.13849303235583\n",
            "20     \t [ 0.5245933   0.01239146 -4.92628386]. \t  -7064.556305809962 \t -165.13849303235583\n",
            "21     \t [-6.29913301 -8.74760396 -2.43782826]. \t  -52109.16746262117 \t -165.13849303235583\n",
            "22     \t [5.93490951 8.59986178 2.5066231 ]. \t  -40388.38314355508 \t -165.13849303235583\n",
            "23     \t [-4.42991656  2.29563782  3.30336709]. \t  -1621.8008277392858 \t -165.13849303235583\n",
            "24     \t [-0.79132013 -7.44356677 -2.73853353]. \t  -26425.447794984215 \t -165.13849303235583\n",
            "25     \t [ 1.88288656 -7.49436108  5.707379  ]. \t  -40229.195451272295 \t -165.13849303235583\n",
            "26     \t [-2.33648299  8.86248661  2.34764626]. \t  -50857.04348483833 \t -165.13849303235583\n",
            "27     \t [ 7.75366261 -9.29537459 -4.85083432]. \t  -64059.65183018379 \t -165.13849303235583\n",
            "28     \t [0.58511854 3.20283619 3.89491985]. \t  -3004.0850967373935 \t -165.13849303235583\n",
            "29     \t [ 9.62217126 -1.26874457  9.44041244]. \t  -96829.48794638028 \t -165.13849303235583\n",
            "30     \t [-3.6270627  -5.3747141   9.12039167]. \t  -96043.48025740443 \t -165.13849303235583\n"
          ]
        }
      ]
    },
    {
      "cell_type": "code",
      "metadata": {
        "id": "-ilCPSAu9SAg",
        "colab": {
          "base_uri": "https://localhost:8080/"
        },
        "outputId": "1be1a659-8ba2-4db1-e038-a3da0e18d1a9"
      },
      "source": [
        "### EXACT GP EI GRADIENTS\n",
        "\n",
        "np.random.seed(run_num_2)\n",
        "surrogate_exact_2 = dGaussianProcess(cov_func, optimize=opt)\n",
        "\n",
        "exact_2 = dGPGO(surrogate_exact_2, Acquisition_new(util_grad_exact), objfunc, param)\n",
        "exact_2.run(init_evals=n_init, max_iter=iters)\n"
      ],
      "execution_count": 35,
      "outputs": [
        {
          "output_type": "stream",
          "name": "stdout",
          "text": [
            "Evaluation \t Proposed point \t  Current eval. \t Best eval.\n",
            "init   \t [-1.28010196 -9.48147536  0.99324956]. \t  -65976.47275174354 \t -579.2546019074869\n",
            "init   \t [-1.29355215 -1.59264396 -3.39330358]. \t  -1905.0058741906205 \t -579.2546019074869\n",
            "init   \t [-5.90702732  2.38541933 -4.00690653]. \t  -3296.179887891325 \t -579.2546019074869\n",
            "init   \t [-4.6634545   2.42267666  0.58284189]. \t  -579.2546019074869 \t -579.2546019074869\n",
            "init   \t [-7.30840109  0.27156243 -6.31120269]. \t  -19089.001096649215 \t -579.2546019074869\n",
            "1      \t [4.01504693e+00 9.29102160e+00 1.67223404e-04]. \t  -57140.96758535182 \t -579.2546019074869\n",
            "2      \t [0.98993642 6.90226231 9.77019402]. \t  -119362.43308455861 \t -579.2546019074869\n",
            "3      \t [ 9.60970158 -5.07492822  5.80487605]. \t  -19340.238894145325 \t -579.2546019074869\n",
            "4      \t [ 2.89052379 -3.76941193  7.60597912]. \t  -44126.90703116023 \t -579.2546019074869\n",
            "5      \t [ 3.07223703  7.58573911 -9.9332911 ]. \t  -133119.51098910294 \t -579.2546019074869\n",
            "6      \t [ 8.77937768 -3.87353549 -6.37757103]. \t  -22749.403915268038 \t -579.2546019074869\n",
            "7      \t [-8.08964789 -9.75897604 -5.85826697]. \t  -97377.17267962931 \t -579.2546019074869\n",
            "8      \t [-8.27467123  0.9107896   8.40893121]. \t  -59512.10208629255 \t -579.2546019074869\n",
            "9      \t [-5.94698988  9.91314075  4.47886914]. \t  -84788.26554655223 \t -579.2546019074869\n",
            "10     \t [-9.84632636  9.29795823 -5.29784912]. \t  -73494.00610427922 \t -579.2546019074869\n",
            "11     \t [8.66194618 9.45587635 8.23716848]. \t  -105785.29651813887 \t -579.2546019074869\n",
            "12     \t [-7.95126067 -7.68342168  9.50213863]. \t  -138173.6002193863 \t -579.2546019074869\n",
            "13     \t [ 1.31216908 -9.4098302  -9.23218389]. \t  -158862.0710975185 \t -579.2546019074869\n",
            "14     \t [7.38238986 1.9436134  4.49748171]. \t  -4490.102233945455 \t -579.2546019074869\n",
            "15     \t [-1.27225366  2.23319283 -8.80759243]. \t  -70406.36860930877 \t -579.2546019074869\n",
            "16     \t [1.58833817 3.18252042 0.69830562]. \t  -711.9904639475978 \t -579.2546019074869\n",
            "17     \t [ 8.68396904 -9.83826017 -1.64087352]. \t  -69129.3809603587 \t -579.2546019074869\n",
            "18     \t [-0.47497186 -5.75625501 -3.13046353]. \t  -10840.434725745177 \t -579.2546019074869\n",
            "19     \t [ 9.73804823  4.72582402 -5.2466766 ]. \t  -10115.53994504231 \t -579.2546019074869\n",
            "20     \t [-3.35269632 -4.00941484  4.96498629]. \t  -11066.322237325141 \t -579.2546019074869\n",
            "21     \t [ 4.95845448  0.83335549 -9.55414476]. \t  -99118.54011897612 \t -579.2546019074869\n",
            "22     \t [-1.09258745 -9.17420367  8.68013856]. \t  -134083.09547422078 \t -579.2546019074869\n",
            "23     \t [-8.21115915 -5.65090131  0.96907814]. \t  -10644.961141695905 \t -579.2546019074869\n",
            "24     \t [ 6.80632945  0.07260139 -1.60945202]. \t  \u001b[92m-204.35606145695485\u001b[0m \t -204.35606145695485\n",
            "25     \t [ 5.26956588  7.63411869 -4.90635419]. \t  -29712.44712335233 \t -204.35606145695485\n",
            "26     \t [-2.88625657  4.55770387  5.00677908]. \t  -10195.488552634084 \t -204.35606145695485\n",
            "27     \t [-1.18011086  8.06249431  2.98854907]. \t  -34713.34006736372 \t -204.35606145695485\n",
            "28     \t [6.31108081 3.43606272 9.965316  ]. \t  -114911.4307708698 \t -204.35606145695485\n",
            "29     \t [-2.82455107  0.25511699  3.87014867]. \t  -2678.5333665518265 \t -204.35606145695485\n",
            "30     \t [ 5.13632873 -5.28620745  0.50866819]. \t  -5269.617684439477 \t -204.35606145695485\n"
          ]
        }
      ]
    },
    {
      "cell_type": "code",
      "metadata": {
        "id": "XieJ158mIvlP",
        "colab": {
          "base_uri": "https://localhost:8080/"
        },
        "outputId": "85c21ece-67a7-49e2-bab5-b48c6adfacf4"
      },
      "source": [
        "### EXACT GP EI GRADIENTS\n",
        "\n",
        "np.random.seed(run_num_3)\n",
        "surrogate_exact_3 = dGaussianProcess(cov_func, optimize=opt)\n",
        "\n",
        "exact_3 = dGPGO(surrogate_exact_3, Acquisition_new(util_grad_exact), objfunc, param)\n",
        "exact_3.run(init_evals=n_init, max_iter=iters)\n"
      ],
      "execution_count": 36,
      "outputs": [
        {
          "output_type": "stream",
          "name": "stdout",
          "text": [
            "Evaluation \t Proposed point \t  Current eval. \t Best eval.\n",
            "init   \t [ 1.01595805  4.16295645 -4.18190522]. \t  -5112.352385443115 \t -5112.352385443115\n",
            "init   \t [0.2165521  7.85893909 7.92586178]. \t  -72027.10255913956 \t -5112.352385443115\n",
            "init   \t [-7.48829379 -5.85514244 -8.97065593]. \t  -95107.57411907075 \t -5112.352385443115\n",
            "init   \t [-1.18380313 -9.40247578 -0.86333551]. \t  -63726.548838065995 \t -5112.352385443115\n",
            "init   \t [ 2.98288095 -4.43025435  3.52509804]. \t  -5207.626899787465 \t -5112.352385443115\n",
            "1      \t [9.51990845 3.44767352 8.05668217]. \t  -48388.97288671367 \t -5112.352385443115\n",
            "2      \t [-4.79309855  3.83955024  7.91140656]. \t  -46554.468417027776 \t -5112.352385443115\n",
            "3      \t [ 4.12112367 -8.76918568 -4.10613003]. \t  -50231.76564197207 \t -5112.352385443115\n",
            "4      \t [ 1.06865668 -1.61214113  9.66323576]. \t  -106482.0605763776 \t -5112.352385443115\n",
            "5      \t [-8.59761974  6.46090428 -2.16585045]. \t  -17076.70485896509 \t -5112.352385443115\n",
            "6      \t [ 8.83706845 -0.31089701 -6.2913012 ]. \t  -19158.168049739656 \t -5112.352385443115\n",
            "7      \t [-9.62151318  6.49791858 -9.62921632]. \t  -113874.85565922041 \t -5112.352385443115\n",
            "8      \t [ 7.17786075 -7.83402432  1.19325839]. \t  -27091.47249706207 \t -5112.352385443115\n",
            "9      \t [-6.55092357 -6.29905242  3.35291254]. \t  -17302.457753897987 \t -5112.352385443115\n",
            "10     \t [ 1.60163764 -2.58603661 -9.29669219]. \t  -92618.34107490626 \t -5112.352385443115\n",
            "11     \t [ 0.66879002 -4.72670094  4.78896619]. \t  -11554.273121193648 \t -5112.352385443115\n",
            "12     \t [ 9.06408338  9.46867995 -7.64834079]. \t  -92718.83356127734 \t -5112.352385443115\n",
            "13     \t [ 9.64547412 -9.09801477  9.60726792]. \t  -161241.6064100929 \t -5112.352385443115\n",
            "14     \t [-4.74854222  1.20186937  0.36014786]. \t  \u001b[92m-152.37389942512758\u001b[0m \t -152.37389942512758\n",
            "15     \t [-9.57057217 -9.02294666  9.85337649]. \t  -183425.61732451757 \t -152.37389942512758\n",
            "16     \t [-2.60493691  7.06559895 -9.32544142]. \t  -104534.02686041094 \t -152.37389942512758\n",
            "17     \t [1.75571872 1.62917248 3.27125739]. \t  -1198.7380452163047 \t -152.37389942512758\n",
            "18     \t [7.67058961 9.38325765 5.0402274 ]. \t  -61923.37275083445 \t -152.37389942512758\n",
            "19     \t [ 4.85462058  9.1400317  -2.65801047]. \t  -52723.938915835155 \t -152.37389942512758\n",
            "20     \t [-3.94303575  9.8680993  -3.71970645]. \t  -79940.22979310834 \t -152.37389942512758\n",
            "21     \t [-9.62944539 -3.48729924 -1.69944757]. \t  -2675.8956364975697 \t -152.37389942512758\n",
            "22     \t [-0.76869416  6.58210301  1.12356513]. \t  -15335.92626815157 \t -152.37389942512758\n",
            "23     \t [-8.94865486  0.88486331  2.66177606]. \t  -849.5830720708908 \t -152.37389942512758\n",
            "24     \t [ 9.76110912 -9.76839767 -8.30883299]. \t  -131229.7956583273 \t -152.37389942512758\n",
            "25     \t [ 0.96559291 -8.83808773 -9.60595066]. \t  -160405.29735373062 \t -152.37389942512758\n",
            "26     \t [-7.26964402  0.83427053 -9.29251903]. \t  -88833.79906938158 \t -152.37389942512758\n",
            "27     \t [-3.05937557 -0.28160078 -4.86906116]. \t  -6862.2332467366 \t -152.37389942512758\n",
            "28     \t [ 3.74170175 -9.46323659  7.69583116]. \t  -110599.2188133981 \t -152.37389942512758\n",
            "29     \t [ 6.96163924 -1.77396698 -0.80234888]. \t  \u001b[92m-64.5510909274924\u001b[0m \t -64.5510909274924\n",
            "30     \t [-8.8720474   9.58407596  4.34615296]. \t  -76657.1030581219 \t -64.5510909274924\n"
          ]
        }
      ]
    },
    {
      "cell_type": "code",
      "metadata": {
        "id": "PhLBVOIfIvol",
        "colab": {
          "base_uri": "https://localhost:8080/"
        },
        "outputId": "db955d5d-e82f-438c-f9c4-ebb36243634d"
      },
      "source": [
        "### EXACT GP EI GRADIENTS\n",
        "\n",
        "np.random.seed(run_num_4)\n",
        "surrogate_exact_4 = dGaussianProcess(cov_func, optimize=opt)\n",
        "\n",
        "exact_4 = dGPGO(surrogate_exact_4, Acquisition_new(util_grad_exact), objfunc, param)\n",
        "exact_4.run(init_evals=n_init, max_iter=iters)\n"
      ],
      "execution_count": 37,
      "outputs": [
        {
          "output_type": "stream",
          "name": "stdout",
          "text": [
            "Evaluation \t Proposed point \t  Current eval. \t Best eval.\n",
            "init   \t [9.34059678 0.94464498 9.4536872 ]. \t  -95022.01065457039 \t -12458.30178377884\n",
            "init   \t [ 4.29631987  3.95457649 -5.67821009]. \t  -12458.30178377884 \t -12458.30178377884\n",
            "init   \t [ 9.5254891  -9.8753949  -4.94035275]. \t  -79242.42901009263 \t -12458.30178377884\n",
            "init   \t [-1.30416935  5.58765844 -6.04629851]. \t  -21812.938480423 \t -12458.30178377884\n",
            "init   \t [ 7.25986471  9.66801354 -6.72315517]. \t  -84163.5372919417 \t -12458.30178377884\n",
            "1      \t [-7.83613234 -6.83553186  0.90405303]. \t  -20810.660474524404 \t -12458.30178377884\n",
            "2      \t [ 2.6338449  -4.23926346 -1.84756645]. \t  \u001b[92m-2589.0171533153275\u001b[0m \t -2589.0171533153275\n",
            "3      \t [-1.92379477  1.34737929  2.7226803 ]. \t  \u001b[92m-615.2747034779208\u001b[0m \t -615.2747034779208\n",
            "4      \t [6.21326818 9.26764337 3.86688981]. \t  -56128.60684411135 \t -615.2747034779208\n",
            "5      \t [-9.38086185  3.2934193   8.98802995]. \t  -77192.784370788 \t -615.2747034779208\n",
            "6      \t [-8.44881662  9.55992352  0.68180215]. \t  -73452.9129380725 \t -615.2747034779208\n",
            "7      \t [-0.44581558  2.04164357  3.82391297]. \t  -2376.3585358713694 \t -615.2747034779208\n",
            "8      \t [-9.22803648 -8.97768217 -9.08975107]. \t  -149257.25219727104 \t -615.2747034779208\n",
            "9      \t [-9.78890738  1.07284078 -8.10797379]. \t  -51425.66998692605 \t -615.2747034779208\n",
            "10     \t [-7.28602097 -6.35764751  9.10201445]. \t  -104405.44573764168 \t -615.2747034779208\n",
            "11     \t [ 1.81634421 -5.47204596  6.20040485]. \t  -27095.509466684565 \t -615.2747034779208\n",
            "12     \t [-9.29185553  9.8572357  -8.01820394]. \t  -125317.35416043762 \t -615.2747034779208\n",
            "13     \t [ 8.98571292 -8.52840331  5.38441235]. \t  -50589.849678455954 \t -615.2747034779208\n",
            "14     \t [ 8.51919132 -1.18134921  1.60025761]. \t  \u001b[92m-241.34200287647263\u001b[0m \t -241.34200287647263\n",
            "15     \t [-0.20076623 -7.44880476 -9.98252106]. \t  -152956.05435656602 \t -241.34200287647263\n",
            "16     \t [ 5.90189451 -5.97083324 -9.04443167]. \t  -94844.64925019244 \t -241.34200287647263\n",
            "17     \t [-0.42860487  8.96102826  5.813228  ]. \t  -62173.59750541262 \t -241.34200287647263\n",
            "18     \t [-5.18189563 -0.22029551 -2.53158632]. \t  -603.9309682699272 \t -241.34200287647263\n",
            "19     \t [2.62616631 1.75673974 9.52685845]. \t  -96974.50927095642 \t -241.34200287647263\n",
            "20     \t [-9.4515206   1.48129704  2.8562567 ]. \t  -1152.5668729611305 \t -241.34200287647263\n",
            "21     \t [-6.48504858  9.29224886  7.26710512]. \t  -92102.74738849676 \t -241.34200287647263\n",
            "22     \t [ 9.60554556  4.65634131 -3.10145831]. \t  -2991.0727161972795 \t -241.34200287647263\n",
            "23     \t [-0.39340693 -9.955179   -1.79237373]. \t  -79694.45494351638 \t -241.34200287647263\n",
            "24     \t [-2.79926084  0.04009536 -9.1639363 ]. \t  -84616.84807108162 \t -241.34200287647263\n",
            "25     \t [ 9.64583173 -0.52223632 -5.47552837]. \t  -11215.710658222628 \t -241.34200287647263\n",
            "26     \t [ 2.76230939  8.51873879 -2.44052826]. \t  -40579.22829637826 \t -241.34200287647263\n",
            "27     \t [-2.64934137 -4.8299314   2.73226294]. \t  -6046.871167025658 \t -241.34200287647263\n",
            "28     \t [-2.39810889 -3.88930259  9.76248351]. \t  -115636.24932474471 \t -241.34200287647263\n",
            "29     \t [3.61021195 4.34737419 0.65515425]. \t  -2381.1217579181475 \t -241.34200287647263\n",
            "30     \t [-6.33807108 -5.09548034 -4.9848576 ]. \t  -15850.528461244245 \t -241.34200287647263\n"
          ]
        }
      ]
    },
    {
      "cell_type": "code",
      "metadata": {
        "id": "arbiPyj2IvsJ",
        "colab": {
          "base_uri": "https://localhost:8080/"
        },
        "outputId": "7b6c5eb4-77a8-4101-a090-c725aad2f9af"
      },
      "source": [
        "### EXACT GP EI GRADIENTS\n",
        "\n",
        "np.random.seed(run_num_5)\n",
        "surrogate_exact_5 = dGaussianProcess(cov_func, optimize=opt)\n",
        "\n",
        "exact_5 = dGPGO(surrogate_exact_5, Acquisition_new(util_grad_exact), objfunc, param)\n",
        "exact_5.run(init_evals=n_init, max_iter=iters)\n"
      ],
      "execution_count": 38,
      "outputs": [
        {
          "output_type": "stream",
          "name": "stdout",
          "text": [
            "Evaluation \t Proposed point \t  Current eval. \t Best eval.\n",
            "init   \t [-5.56013658  7.41464612 -5.86561689]. \t  -38038.55423396639 \t -504.37713268919686\n",
            "init   \t [ 8.37221816 -0.23177622  2.23487726]. \t  -504.37713268919686 \t -504.37713268919686\n",
            "init   \t [ 5.31815713  0.36835976 -4.06398997]. \t  -3270.33229475548 \t -504.37713268919686\n",
            "init   \t [-6.24557543 -8.38517462  4.76880592]. \t  -51898.195262717614 \t -504.37713268919686\n",
            "init   \t [-1.17381554 -6.83380265  7.59874062]. \t  -62777.04813872957 \t -504.37713268919686\n",
            "1      \t [ 5.59029171 -9.54133815  1.55325716]. \t  -62933.45175267557 \t -504.37713268919686\n",
            "2      \t [-3.94963775  6.51411653  3.18834561]. \t  -16374.16808563396 \t -504.37713268919686\n",
            "3      \t [-1.23662215 -7.47908294 -5.93936038]. \t  -43859.291409965896 \t -504.37713268919686\n",
            "4      \t [ 3.14692525  9.50918422 -2.23413701]. \t  -63161.457005708806 \t -504.37713268919686\n",
            "5      \t [ 4.56139684 -4.673529    0.23379905]. \t  -3142.4271112122515 \t -504.37713268919686\n",
            "6      \t [-8.35759819 -3.57642182 -5.67300392]. \t  -16239.797542075969 \t -504.37713268919686\n",
            "7      \t [ 9.32698041 -8.15047568 -9.16761536]. \t  -123772.88146500051 \t -504.37713268919686\n",
            "8      \t [8.2148266  3.20687157 8.79039029]. \t  -69064.15141152177 \t -504.37713268919686\n",
            "9      \t [-9.71958275  7.93474129  1.76131027]. \t  -36920.21370899156 \t -504.37713268919686\n",
            "10     \t [-0.96496228  6.39545847  9.46542277]. \t  -103277.4502143539 \t -504.37713268919686\n",
            "11     \t [ 8.93630394  6.87034717 -7.52532124]. \t  -48629.075116084015 \t -504.37713268919686\n",
            "12     \t [-7.17308698 -1.89998211  1.29131844]. \t  -563.3287496108023 \t -504.37713268919686\n",
            "13     \t [-9.54259734 -1.43539662  9.21612098]. \t  -88525.01266929683 \t -504.37713268919686\n",
            "14     \t [ 9.35842055 -4.67112853  7.84975357]. \t  -51501.83268845641 \t -504.37713268919686\n",
            "15     \t [-0.99166892  1.58387929 -5.06673238]. \t  -7504.2589961468575 \t -504.37713268919686\n",
            "16     \t [ 3.73341573 -2.23234654  5.39774374]. \t  -11067.244912720593 \t -504.37713268919686\n",
            "17     \t [ 2.55233074 -1.18357256 -9.26766828]. \t  -89751.05272182947 \t -504.37713268919686\n",
            "18     \t [2.13328311 6.19698001 4.09583706]. \t  -13397.903860555869 \t -504.37713268919686\n",
            "19     \t [-3.48410009 -3.68542923 -6.33751434]. \t  -23073.672070863027 \t -504.37713268919686\n",
            "20     \t [-9.95161825 -6.74319938 -1.01620669]. \t  -20711.542485181704 \t -504.37713268919686\n",
            "21     \t [ 6.90210293 -9.35231764 -4.26491601]. \t  -62776.78430829763 \t -504.37713268919686\n",
            "22     \t [-1.03301549 -1.97952758 -1.02413472]. \t  \u001b[92m-211.36104030393614\u001b[0m \t -211.36104030393614\n",
            "23     \t [ 9.39947444  8.39350178 -0.67853527]. \t  -34823.76792935219 \t -211.36104030393614\n",
            "24     \t [-0.10402323  2.53897602  0.41211986]. \t  -353.56425340562765 \t -211.36104030393614\n",
            "25     \t [ 1.97625638  5.37142271 -9.72633091]. \t  -107594.37185634038 \t -211.36104030393614\n",
            "26     \t [-9.67954241  0.73509175 -2.01699402]. \t  -509.9629629191103 \t -211.36104030393614\n",
            "27     \t [5.24424293 8.27948033 8.66934472]. \t  -95312.00933699518 \t -211.36104030393614\n",
            "28     \t [-1.48639082 -5.59837584  0.39591213]. \t  -8346.614346777467 \t -211.36104030393614\n",
            "29     \t [-7.14371769  1.56477438 -8.89330001]. \t  -73942.74174412552 \t -211.36104030393614\n",
            "30     \t [-7.77440792 -9.06161368 -4.56757593]. \t  -66983.04675543586 \t -211.36104030393614\n"
          ]
        }
      ]
    },
    {
      "cell_type": "code",
      "metadata": {
        "id": "04KJCEm_Ivvf",
        "colab": {
          "base_uri": "https://localhost:8080/"
        },
        "outputId": "8b9028be-bdb8-45e3-e49a-26140d4820c5"
      },
      "source": [
        "### EXACT GP EI GRADIENTS\n",
        "\n",
        "np.random.seed(run_num_6)\n",
        "surrogate_exact_6 = dGaussianProcess(cov_func, optimize=opt)\n",
        "\n",
        "exact_6 = dGPGO(surrogate_exact_6, Acquisition_new(util_grad_exact), objfunc, param)\n",
        "exact_6.run(init_evals=n_init, max_iter=iters)\n"
      ],
      "execution_count": 39,
      "outputs": [
        {
          "output_type": "stream",
          "name": "stdout",
          "text": [
            "Evaluation \t Proposed point \t  Current eval. \t Best eval.\n",
            "init   \t [ 7.85720303 -3.36040389  6.42458246]. \t  -22622.875691874993 \t -747.5861078277044\n",
            "init   \t [-9.16606749 -7.8468664   1.90104128]. \t  -35798.39310944817 \t -747.5861078277044\n",
            "init   \t [ 0.59634724 -1.62385143 -3.29184301]. \t  -1672.0743189422471 \t -747.5861078277044\n",
            "init   \t [ 2.45038864 -1.23717148  4.71764213]. \t  -6281.890680624871 \t -747.5861078277044\n",
            "init   \t [0.36072824 1.577172   2.90710192]. \t  -747.5861078277044 \t -747.5861078277044\n",
            "1      \t [ 4.34551693  9.88414877 -4.88771889]. \t  -77317.5102677862 \t -747.5861078277044\n",
            "2      \t [-1.98503052 -5.08370297  0.47544376]. \t  -5862.449371750896 \t -747.5861078277044\n",
            "3      \t [-2.0556804  -9.02186809 -8.37506795]. \t  -121232.65441870395 \t -747.5861078277044\n",
            "4      \t [-8.30089272  8.76464152 -3.7028615 ]. \t  -53579.172270173985 \t -747.5861078277044\n",
            "5      \t [-5.80222891  1.48640303  9.16774106]. \t  -83530.43488377196 \t -747.5861078277044\n",
            "6      \t [ 6.83055529 -7.02538607 -5.07603057]. \t  -27205.394503821604 \t -747.5861078277044\n",
            "7      \t [-9.66056066 -7.16632862  9.74146832]. \t  -141747.30545515707 \t -747.5861078277044\n",
            "8      \t [2.3924117  8.16333517 8.34323846]. \t  -85792.06658967136 \t -747.5861078277044\n",
            "9      \t [5.95618828 3.62221445 9.57953935]. \t  -97953.49211296115 \t -747.5861078277044\n",
            "10     \t [-7.41175926 -1.8295649  -8.07396848]. \t  -52905.20559446976 \t -747.5861078277044\n",
            "11     \t [ 5.84223091  1.20858429 -9.77151834]. \t  -108063.16292509792 \t -747.5861078277044\n",
            "12     \t [-8.12416811  9.77114499 -9.4537219 ]. \t  -165001.95305563457 \t -747.5861078277044\n",
            "13     \t [-3.43814158  8.86058719  2.89457629]. \t  -51700.40119621108 \t -747.5861078277044\n",
            "14     \t [ 8.7561222   0.65983003 -2.4868267 ]. \t  \u001b[92m-595.8024506030948\u001b[0m \t -595.8024506030948\n",
            "15     \t [ 0.19531588 -7.74530203  9.60360643]. \t  -139524.0237475551 \t -595.8024506030948\n",
            "16     \t [-5.03108415 -0.16083182  1.33779827]. \t  \u001b[92m-130.0122433596929\u001b[0m \t -130.0122433596929\n",
            "17     \t [7.6617884  6.42053673 3.51931849]. \t  -12240.151748142602 \t -130.0122433596929\n",
            "18     \t [-2.22146953  1.74501774 -9.10259897]. \t  -80806.63211133696 \t -130.0122433596929\n",
            "19     \t [-8.82469491  4.87715619  4.39095012]. \t  -9861.774380790945 \t -130.0122433596929\n",
            "20     \t [ 0.43082917  8.85794297 -9.71702399]. \t  -146163.81485999704 \t -130.0122433596929\n",
            "21     \t [-2.0301401  -4.92207598 -4.38926331]. \t  -10770.98915286436 \t -130.0122433596929\n",
            "22     \t [ 5.32077617 -2.61783282  0.47544452]. \t  -187.56970027817124 \t -130.0122433596929\n",
            "23     \t [ 3.78890192  3.21020036 -3.03685868]. \t  -1270.027948885605 \t -130.0122433596929\n",
            "24     \t [2.54356968 9.91109732 0.87030486]. \t  -75420.80414957565 \t -130.0122433596929\n",
            "25     \t [-3.82285985 -4.66205994  7.934555  ]. \t  -55646.99243078488 \t -130.0122433596929\n",
            "26     \t [ 8.54842608  9.65079803 -9.93682527]. \t  -169071.56755330515 \t -130.0122433596929\n",
            "27     \t [ 7.60757873 -9.34680096 -0.54168822]. \t  -56196.40917976293 \t -130.0122433596929\n",
            "28     \t [ 9.94156988  6.88608109 -4.80640054]. \t  -19131.610634307697 \t -130.0122433596929\n",
            "29     \t [-9.60229585 -9.76205532 -8.77978359]. \t  -160891.05147061095 \t -130.0122433596929\n",
            "30     \t [-9.61577981  1.06644255 -2.71945743]. \t  -960.53900439233 \t -130.0122433596929\n"
          ]
        }
      ]
    },
    {
      "cell_type": "code",
      "metadata": {
        "id": "tAOkme3CIvyO",
        "colab": {
          "base_uri": "https://localhost:8080/"
        },
        "outputId": "9b7c26db-76a5-4810-eab5-680305683c1f"
      },
      "source": [
        "### EXACT GP EI GRADIENTS\n",
        "\n",
        "np.random.seed(run_num_7)\n",
        "surrogate_exact_7 = dGaussianProcess(cov_func, optimize=opt)\n",
        "\n",
        "exact_7 = dGPGO(surrogate_exact_7, Acquisition_new(util_grad_exact), objfunc, param)\n",
        "exact_7.run(init_evals=n_init, max_iter=iters)\n"
      ],
      "execution_count": 40,
      "outputs": [
        {
          "output_type": "stream",
          "name": "stdout",
          "text": [
            "Evaluation \t Proposed point \t  Current eval. \t Best eval.\n",
            "init   \t [-8.47383421  5.59837584 -1.23181537]. \t  -10236.238023609843 \t -10236.238023609843\n",
            "init   \t [4.46930356 9.55979024 0.76991741]. \t  -63811.243249036976 \t -10236.238023609843\n",
            "init   \t [ 0.02240927 -8.55897733 -4.6312204 ]. \t  -50862.43407074502 \t -10236.238023609843\n",
            "init   \t [-2.34998349e-03  3.58459992e+00  6.07478072e+00]. \t  -16115.196076305741 \t -10236.238023609843\n",
            "init   \t [-2.38117734 -8.68127306 -4.23708801]. \t  -52860.9167787799 \t -10236.238023609843\n",
            "1      \t [ 5.37295013 -3.72010646  1.45250665]. \t  \u001b[92m-1203.3019494238497\u001b[0m \t -1203.3019494238497\n",
            "2      \t [-5.16794167 -9.78840186  6.61280652]. \t  -105864.29006834452 \t -1203.3019494238497\n",
            "3      \t [-0.84802251  7.90733569 -8.8549288 ]. \t  -98229.52721976113 \t -1203.3019494238497\n",
            "4      \t [-9.43459214  0.25094007  5.85629711]. \t  -14303.366732986253 \t -1203.3019494238497\n",
            "5      \t [-8.22186059 -2.09445948 -8.51624651]. \t  -65619.77292042035 \t -1203.3019494238497\n",
            "6      \t [ 9.04032584  2.63758184 -8.60121872]. \t  -63469.64170303282 \t -1203.3019494238497\n",
            "7      \t [ 2.60005424 -8.85713712  9.79392453]. \t  -168458.45063088578 \t -1203.3019494238497\n",
            "8      \t [8.66522451 5.38017998 9.74494226]. \t  -107078.9104872437 \t -1203.3019494238497\n",
            "9      \t [-3.61281565 -2.91042868  1.9617048 ]. \t  -1203.7377310507527 \t -1203.3019494238497\n",
            "10     \t [ 9.63188608 -7.11226097 -3.70395253]. \t  -20413.68847812002 \t -1203.3019494238497\n",
            "11     \t [-9.67318068 -9.02149493 -0.26786193]. \t  -59842.47996633247 \t -1203.3019494238497\n",
            "12     \t [ 9.85003149 -9.86344767  5.98246743]. \t  -88224.12252589373 \t -1203.3019494238497\n",
            "13     \t [-8.74530348 -9.85150256 -8.05031477]. \t  -140743.6468494244 \t -1203.3019494238497\n",
            "14     \t [-7.1732186   9.21366467  9.03573442]. \t  -133911.59382663184 \t -1203.3019494238497\n",
            "15     \t [ 0.27650856  0.12323441 -7.91978949]. \t  -47118.12998381125 \t -1203.3019494238497\n",
            "16     \t [-2.29334335  5.10343953  0.30752783]. \t  -5998.434352694678 \t -1203.3019494238497\n",
            "17     \t [ 0.65315384 -6.68010624  2.24449143]. \t  -16540.335192509396 \t -1203.3019494238497\n",
            "18     \t [ 8.98281442  4.65108724 -0.37963821]. \t  -2471.3957164040203 \t -1203.3019494238497\n",
            "19     \t [-8.28266095 -0.91521246  0.30137726]. \t  \u001b[92m-288.0962519616894\u001b[0m \t -288.0962519616894\n",
            "20     \t [9.83459634 0.20376561 3.53923801]. \t  -2120.6013566152346 \t -288.0962519616894\n",
            "21     \t [-7.31543507  4.54854873 -7.85928822]. \t  -47285.990883676495 \t -288.0962519616894\n",
            "22     \t [3.5947601  1.67427559 0.09779629]. \t  \u001b[92m-23.044688183708196\u001b[0m \t -23.044688183708196\n",
            "23     \t [-8.85293205 -4.89096697  9.26147383]. \t  -99919.9913854413 \t -23.044688183708196\n",
            "24     \t [ 4.36423995 -8.92995445 -9.43568651]. \t  -153038.80814210742 \t -23.044688183708196\n",
            "25     \t [ 7.79708716 -2.70089073  9.41735628]. \t  -97418.51021097467 \t -23.044688183708196\n",
            "26     \t [4.01169022 9.32442807 8.18360001]. \t  -104315.37464119868 \t -23.044688183708196\n",
            "27     \t [ 5.59715388  9.55081459 -6.26340449]. \t  -76810.79520885211 \t -23.044688183708196\n",
            "28     \t [-3.10335    -1.99248291  9.9865889 ]. \t  -122014.78929949344 \t -23.044688183708196\n",
            "29     \t [ 3.0640797  -1.1091894   5.70364306]. \t  -13141.299792149526 \t -23.044688183708196\n",
            "30     \t [-5.83254546  3.33168337  8.81074919]. \t  -70863.72295473231 \t -23.044688183708196\n"
          ]
        }
      ]
    },
    {
      "cell_type": "code",
      "metadata": {
        "id": "69-J3EF4Iv1S",
        "colab": {
          "base_uri": "https://localhost:8080/"
        },
        "outputId": "71e24175-0ae2-4192-9e24-5efd5322893a"
      },
      "source": [
        "### EXACT GP EI GRADIENTS\n",
        "\n",
        "np.random.seed(run_num_8)\n",
        "surrogate_exact_8 = dGaussianProcess(cov_func, optimize=opt)\n",
        "\n",
        "exact_8 = dGPGO(surrogate_exact_8, Acquisition_new(util_grad_exact), objfunc, param)\n",
        "exact_8.run(init_evals=n_init, max_iter=iters)\n"
      ],
      "execution_count": 41,
      "outputs": [
        {
          "output_type": "stream",
          "name": "stdout",
          "text": [
            "Evaluation \t Proposed point \t  Current eval. \t Best eval.\n",
            "init   \t [7.46858806 9.37081326 7.3838908 ]. \t  -86398.56273239222 \t -19.158799931573643\n",
            "init   \t [ 0.61711383 -5.34543344 -9.77202391]. \t  -122028.27716628066 \t -19.158799931573643\n",
            "init   \t [-1.39062363 -1.9529728   0.45349343]. \t  -185.16317561320295 \t -19.158799931573643\n",
            "init   \t [-0.43216408  1.10712948  0.86772035]. \t  -19.158799931573643 \t -19.158799931573643\n",
            "init   \t [5.21791151 4.24749148 2.39364192]. \t  -2079.039537100791 \t -19.158799931573643\n",
            "1      \t [ 5.91149117 -9.35983687 -0.89104356]. \t  -57709.74714740788 \t -19.158799931573643\n",
            "2      \t [-4.01894503  7.30848062  6.93893087]. \t  -48356.33098205576 \t -19.158799931573643\n",
            "3      \t [-6.23415159 -2.85576708  4.59444715]. \t  -7163.787122326564 \t -19.158799931573643\n",
            "4      \t [-0.33954819  6.5470211  -9.44447867]. \t  -103413.2661047698 \t -19.158799931573643\n",
            "5      \t [ 8.88043753 -3.47867257 -6.48954407]. \t  -23609.194785088257 \t -19.158799931573643\n",
            "6      \t [-9.28032222 -2.58508368 -4.69965573]. \t  -7690.438087299276 \t -19.158799931573643\n",
            "7      \t [ 6.2181374  -2.96281477  4.12308008]. \t  -4383.003404911578 \t -19.158799931573643\n",
            "8      \t [-9.29486377 -6.88958424  5.69557689]. \t  -37285.04360880313 \t -19.158799931573643\n",
            "9      \t [ 2.93304256 -9.66156955  6.74566747]. \t  -97941.45934386633 \t -19.158799931573643\n",
            "10     \t [-6.44556688  8.56291735 -3.1073752 ]. \t  -47276.7702263877 \t -19.158799931573643\n",
            "11     \t [-9.64599536 -9.06940174 -9.49540104]. \t  -168383.670520528 \t -19.158799931573643\n",
            "12     \t [-9.45801348  9.47519463 -9.5831696 ]. \t  -162599.9137630042 \t -19.158799931573643\n",
            "13     \t [ 9.86387458 -9.03618993  5.02335735]. \t  -57789.537463669825 \t -19.158799931573643\n",
            "14     \t [-1.78785155 -0.65705994  8.59087149]. \t  -65967.76556472405 \t -19.158799931573643\n",
            "15     \t [ 5.08477257  5.3051729  -5.41669327]. \t  -13807.55747704434 \t -19.158799931573643\n",
            "16     \t [-9.18180302  3.29662016 -9.32571063]. \t  -89370.61035146833 \t -19.158799931573643\n",
            "17     \t [ 7.42704428 -6.30046155  8.41770504]. \t  -76125.29945778343 \t -19.158799931573643\n",
            "18     \t [-9.45406691  2.01444271  7.86917854]. \t  -45256.903600308164 \t -19.158799931573643\n",
            "19     \t [ 0.44576118  9.42970212 -1.8151668 ]. \t  -62960.91768531315 \t -19.158799931573643\n",
            "20     \t [-1.79859498 -8.8857121  -1.85868522]. \t  -51771.08514237424 \t -19.158799931573643\n",
            "21     \t [-6.11335441 -3.4388144  -7.17273123]. \t  -35743.79190948796 \t -19.158799931573643\n",
            "22     \t [-3.56531345  4.28822294  0.9633967 ]. \t  -3293.7047128298464 \t -19.158799931573643\n",
            "23     \t [2.80391394 4.52494434 9.24935264]. \t  -86156.33434232303 \t -19.158799931573643\n",
            "24     \t [ 3.36585803 -9.24252917 -6.20741454]. \t  -78453.04187595658 \t -19.158799931573643\n",
            "25     \t [-8.44846935 -9.45650673 -2.6555371 ]. \t  -71916.74296786853 \t -19.158799931573643\n",
            "26     \t [-9.29189142  9.63438375  3.27961322]. \t  -76528.12691743656 \t -19.158799931573643\n",
            "27     \t [9.98812669 2.64969448 7.73007522]. \t  -41081.32918036517 \t -19.158799931573643\n",
            "28     \t [ 0.07876546  0.6473375  -8.79922415]. \t  -71339.87527419247 \t -19.158799931573643\n",
            "29     \t [ 8.87643841 -4.5974206  -1.13214668]. \t  -2446.4759997989936 \t -19.158799931573643\n",
            "30     \t [ 4.97813523  1.20104793 -1.9724299 ]. \t  -154.4734254217742 \t -19.158799931573643\n"
          ]
        }
      ]
    },
    {
      "cell_type": "code",
      "metadata": {
        "id": "vonm9jyuIv4t",
        "colab": {
          "base_uri": "https://localhost:8080/"
        },
        "outputId": "4f4072d4-c16c-4f6d-9167-072ecb5d57fe"
      },
      "source": [
        "### EXACT GP EI GRADIENTS\n",
        "\n",
        "np.random.seed(run_num_9)\n",
        "surrogate_exact_9 = dGaussianProcess(cov_func, optimize=opt)\n",
        "\n",
        "exact_9 = dGPGO(surrogate_exact_9, Acquisition_new(util_grad_exact), objfunc, param)\n",
        "exact_9.run(init_evals=n_init, max_iter=iters)\n"
      ],
      "execution_count": 42,
      "outputs": [
        {
          "output_type": "stream",
          "name": "stdout",
          "text": [
            "Evaluation \t Proposed point \t  Current eval. \t Best eval.\n",
            "init   \t [-9.79251692  0.03749184 -0.08453414]. \t  -308.3769452572715 \t -308.3769452572715\n",
            "init   \t [-7.32340942 -7.15777829 -5.62882649]. \t  -39098.793761550274 \t -308.3769452572715\n",
            "init   \t [-1.62983639 -5.03797663 -8.31880698]. \t  -67224.5603542052 \t -308.3769452572715\n",
            "init   \t [-3.0900272  -6.66447307  7.57118171]. \t  -61063.84970572342 \t -308.3769452572715\n",
            "init   \t [ 9.01928063 -9.22503248  3.98214783]. \t  -57052.59558792292 \t -308.3769452572715\n",
            "1      \t [2.99080926 7.21663846 9.41692024]. \t  -107317.26583764593 \t -308.3769452572715\n",
            "2      \t [ 6.86233684  2.90237997 -3.94602224]. \t  -2626.2381369461364 \t -308.3769452572715\n",
            "3      \t [-9.77584307 -9.02200933  2.98685213]. \t  -61841.45747865176 \t -308.3769452572715\n",
            "4      \t [-4.28572164  1.59287123  8.76522826]. \t  -69574.98897203195 \t -308.3769452572715\n",
            "5      \t [ 0.47363479  9.30843577 -8.60467824]. \t  -117507.45495400687 \t -308.3769452572715\n",
            "6      \t [ 7.08809023 -0.77927986  8.97599599]. \t  -78756.71445675654 \t -308.3769452572715\n",
            "7      \t [-8.38555052  3.98138274 -6.84585142]. \t  -27467.420044115126 \t -308.3769452572715\n",
            "8      \t [-1.9380741   8.72363751  1.05655805]. \t  -47654.40655564831 \t -308.3769452572715\n",
            "9      \t [ 1.55836861 -1.77809853 -2.28997058]. \t  -497.086726862544 \t -308.3769452572715\n",
            "10     \t [ 6.11629874 -8.74204803 -0.96542318]. \t  -43423.330956225946 \t -308.3769452572715\n",
            "11     \t [5.08284277 7.39553371 0.21976388]. \t  -21935.55721601797 \t -308.3769452572715\n",
            "12     \t [3.01277451 9.9078286  1.97878079]. \t  -74760.19292573501 \t -308.3769452572715\n",
            "13     \t [-7.68697419 -3.3935833   9.43699129]. \t  -100797.45734644952 \t -308.3769452572715\n",
            "14     \t [-1.84085965  4.96460959 -4.01687755]. \t  -7474.613804867845 \t -308.3769452572715\n",
            "15     \t [ 9.79254025 -1.85774879 -8.85408835]. \t  -75601.1109799682 \t -308.3769452572715\n",
            "16     \t [0.1319244  3.80230477 3.3483805 ]. \t  -2697.914246834929 \t -308.3769452572715\n",
            "17     \t [9.18884834 5.371142   5.62581791]. \t  -14840.535031823034 \t -308.3769452572715\n",
            "18     \t [ 9.39804768  7.24650959 -9.67349605]. \t  -115458.18884345451 \t -308.3769452572715\n",
            "19     \t [-9.45831811  6.09019192  2.57472268]. \t  -14254.555071420611 \t -308.3769452572715\n",
            "20     \t [ 3.40740174 -4.6442811   3.10265561]. \t  -4876.178783599948 \t -308.3769452572715\n",
            "21     \t [-3.4760768  -9.504817    1.37015076]. \t  -68376.67302854452 \t -308.3769452572715\n",
            "22     \t [-5.71418168  9.9084952  -6.03834317]. \t  -93622.7948622918 \t -308.3769452572715\n",
            "23     \t [-1.21426915  1.84816455 -9.39350705]. \t  -91618.95898252791 \t -308.3769452572715\n",
            "24     \t [ 2.43515018 -8.35324641  9.26225852]. \t  -134731.61177102945 \t -308.3769452572715\n",
            "25     \t [-7.80220352 -3.08432163  4.37824201]. \t  -6664.4200978734925 \t -308.3769452572715\n",
            "26     \t [-2.79165042  7.48347868  8.67046303]. \t  -87606.71169375717 \t -308.3769452572715\n",
            "27     \t [ 4.51829311 -5.67189895 -5.66244548]. \t  -21785.343053827204 \t -308.3769452572715\n",
            "28     \t [2.64178269 1.79317137 6.49726651]. \t  -20517.42347540736 \t -308.3769452572715\n",
            "29     \t [-9.14895698 -8.54514775  8.39738622]. \t  -115389.80788884632 \t -308.3769452572715\n",
            "30     \t [ 8.46168039 -2.17064711  0.78347425]. \t  \u001b[92m-92.17210284870518\u001b[0m \t -92.17210284870518\n"
          ]
        }
      ]
    },
    {
      "cell_type": "code",
      "metadata": {
        "id": "6amuYlUdIv7r",
        "colab": {
          "base_uri": "https://localhost:8080/"
        },
        "outputId": "2db60be5-8037-480f-eb31-f06ce10816a8"
      },
      "source": [
        "### EXACT GP EI GRADIENTS\n",
        "\n",
        "np.random.seed(run_num_10)\n",
        "surrogate_exact_10 = dGaussianProcess(cov_func, optimize=opt)\n",
        "\n",
        "exact_10 = dGPGO(surrogate_exact_10, Acquisition_new(util_grad_exact), objfunc, param)\n",
        "exact_10.run(init_evals=n_init, max_iter=iters)\n"
      ],
      "execution_count": 43,
      "outputs": [
        {
          "output_type": "stream",
          "name": "stdout",
          "text": [
            "Evaluation \t Proposed point \t  Current eval. \t Best eval.\n",
            "init   \t [ 5.42641287 -9.58496101  2.6729647 ]. \t  -65323.138576781035 \t -11089.42002600802\n",
            "init   \t [ 4.97607765 -0.02985975 -5.50406709]. \t  -11089.42002600802 \t -11089.42002600802\n",
            "init   \t [-6.0387427   5.21061424 -6.61778327]. \t  -27690.457734888914 \t -11089.42002600802\n",
            "init   \t [-8.23320372  3.70719637  9.06786692]. \t  -80154.14403008527 \t -11089.42002600802\n",
            "init   \t [-9.92103467  0.24384527  6.25241923]. \t  -18545.57155390516 \t -11089.42002600802\n",
            "1      \t [6.10446394 0.43294305 8.17297762]. \t  -53288.212919444646 \t -11089.42002600802\n",
            "2      \t [-9.70279951  9.55798527  1.46057808]. \t  -74244.04457503722 \t -11089.42002600802\n",
            "3      \t [-1.75447845 -6.302649    6.80494632]. \t  -42548.732127148585 \t -11089.42002600802\n",
            "4      \t [3.25643503 8.71340004 2.25458364]. \t  -44169.54631375984 \t -11089.42002600802\n",
            "5      \t [-4.51864821 -4.41820786 -7.58640717]. \t  -46684.2942823814 \t -11089.42002600802\n",
            "6      \t [ 8.09627953 -9.91552173 -8.52992239]. \t  -143623.97605290846 \t -11089.42002600802\n",
            "7      \t [8.36592595 9.69243692 9.9409429 ]. \t  -170487.79984656384 \t -11089.42002600802\n",
            "8      \t [ 9.80335485  7.06202787 -3.11757933]. \t  -16715.848126851764 \t -11089.42002600802\n",
            "9      \t [ 4.75956805  9.80240257 -8.62327379]. \t  -128158.33219601207 \t -11089.42002600802\n",
            "10     \t [-5.4181737  -1.96082764  0.31177455]. \t  \u001b[92m-398.7602465249535\u001b[0m \t -398.7602465249535\n",
            "11     \t [-9.75578635 -9.91743086 -9.15247051]. \t  -179841.2035956522 \t -398.7602465249535\n",
            "12     \t [4.46588649 0.41056736 4.72710494]. \t  -5928.386985062376 \t -398.7602465249535\n",
            "13     \t [-7.23386715 -9.69120347  1.21771755]. \t  -76655.11543226571 \t -398.7602465249535\n",
            "14     \t [-3.20391884  4.51381076  3.22283502]. \t  -4674.502730893059 \t -398.7602465249535\n",
            "15     \t [-2.37647063  9.84381786  7.05444353]. \t  -101114.01355982904 \t -398.7602465249535\n",
            "16     \t [-8.11652576 -7.25680893  9.0115084 ]. \t  -112185.08740031358 \t -398.7602465249535\n",
            "17     \t [ 8.26806174 -5.44258667  9.37976222]. \t  -103970.37821848024 \t -398.7602465249535\n",
            "18     \t [ 0.8779915   2.95974981 -0.03582153]. \t  -580.1784178083985 \t -398.7602465249535\n",
            "19     \t [ 8.32300385 -0.06099124 -0.87480638]. \t  \u001b[92m-199.52281866922152\u001b[0m \t -199.52281866922152\n",
            "20     \t [ 1.29994395 -5.82921411 -3.97661709]. \t  -13095.972424042508 \t -199.52281866922152\n",
            "21     \t [ 4.32192587  5.11987447 -2.59262289]. \t  -4846.925755174468 \t -199.52281866922152\n",
            "22     \t [ 0.34237013 -3.28762165  2.00943549]. \t  -1293.0174023044506 \t -199.52281866922152\n",
            "23     \t [ 0.6690913  -8.61746924 -8.84098418]. \t  -125339.85678209677 \t -199.52281866922152\n",
            "24     \t [-9.79139307  0.16682409 -8.78408217]. \t  -71600.17231039138 \t -199.52281866922152\n",
            "25     \t [ 7.19858232 -6.42812741 -2.46542719]. \t  -12457.916760398457 \t -199.52281866922152\n",
            "26     \t [ 9.29025614  5.51873645 -9.33913233]. \t  -91000.47273350102 \t -199.52281866922152\n",
            "27     \t [-9.90582675  1.26016302 -1.35291041]. \t  -478.4947834471157 \t -199.52281866922152\n",
            "28     \t [-2.81914199 -0.65948941  5.37761216]. \t  -10307.470217753626 \t -199.52281866922152\n",
            "29     \t [-5.26863389 -9.12226311 -4.71142595]. \t  -67593.39195291909 \t -199.52281866922152\n",
            "30     \t [ 2.58799812  2.83138525 -9.37703114]. \t  -90178.11615259809 \t -199.52281866922152\n"
          ]
        }
      ]
    },
    {
      "cell_type": "code",
      "metadata": {
        "id": "VwbLIP9cIv-F",
        "colab": {
          "base_uri": "https://localhost:8080/"
        },
        "outputId": "5183f37f-cd3e-411c-d5b6-bfda0b7e518b"
      },
      "source": [
        "### EXACT GP EI GRADIENTS\n",
        "\n",
        "np.random.seed(run_num_11)\n",
        "surrogate_exact_11 = dGaussianProcess(cov_func, optimize=opt)\n",
        "\n",
        "exact_11 = dGPGO(surrogate_exact_11, Acquisition_new(util_grad_exact), objfunc, param)\n",
        "exact_11.run(init_evals=n_init, max_iter=iters)\n"
      ],
      "execution_count": 44,
      "outputs": [
        {
          "output_type": "stream",
          "name": "stdout",
          "text": [
            "Evaluation \t Proposed point \t  Current eval. \t Best eval.\n",
            "init   \t [-6.39460622 -9.61049517 -0.73562947]. \t  -73449.7462395723 \t -22.303897517794855\n",
            "init   \t [ 4.49867858 -1.59592791 -0.29145804]. \t  -22.303897517794855 \t -22.303897517794855\n",
            "init   \t [-9.74438371 -0.25256785  8.83613305]. \t  -73699.8605668882 \t -22.303897517794855\n",
            "init   \t [ 7.01590179  4.5992894  -7.82527856]. \t  -44207.59530328671 \t -22.303897517794855\n",
            "init   \t [ 7.87808341  7.14308494 -6.69826765]. \t  -38246.569253964415 \t -22.303897517794855\n",
            "1      \t [-1.96647039  6.95957995  4.35698359]. \t  -22430.99927361658 \t -22.303897517794855\n",
            "2      \t [-3.72641694  8.61531845 -5.23307798]. \t  -52726.91681995238 \t -22.303897517794855\n",
            "3      \t [-0.10872729 -3.78324494  6.78576821]. \t  -29229.520982944578 \t -22.303897517794855\n",
            "4      \t [ 4.43147963 -5.55301844 -8.46208901]. \t  -72959.52458628741 \t -22.303897517794855\n",
            "5      \t [-9.00463195  0.45219087 -7.16346109]. \t  -31598.452140541805 \t -22.303897517794855\n",
            "6      \t [ 9.75091214 -4.07838329  8.41612582]. \t  -64903.61880882576 \t -22.303897517794855\n",
            "7      \t [8.71556008 8.48079886 8.51303616]. \t  -92447.29094133031 \t -22.303897517794855\n",
            "8      \t [ 6.21057232 -8.34053541  1.88961941]. \t  -36080.863559271325 \t -22.303897517794855\n",
            "9      \t [-3.45546378 -6.84436694 -7.604973  ]. \t  -63924.825752664794 \t -22.303897517794855\n",
            "10     \t [-9.59976122  8.38827695  9.33640652]. \t  -127925.16238139631 \t -22.303897517794855\n",
            "11     \t [-1.51363545 -3.91949581 -0.25038693]. \t  -2134.047271772274 \t -22.303897517794855\n",
            "12     \t [-7.43506604  3.89249796 -1.69810971]. \t  -2930.0287767392315 \t -22.303897517794855\n",
            "13     \t [4.9125943  2.55834315 4.903504  ]. \t  -6368.097160581914 \t -22.303897517794855\n",
            "14     \t [-2.35081123  0.98956913 -5.73904163]. \t  -12678.023904120708 \t -22.303897517794855\n",
            "15     \t [ 3.25882983  7.5652411  -1.29210432]. \t  -24792.640239455584 \t -22.303897517794855\n",
            "16     \t [-9.40237453 -5.14396757  4.2382145 ]. \t  -12936.528348281048 \t -22.303897517794855\n",
            "17     \t [-9.58858371  7.96097464 -4.4992175 ]. \t  -40464.4617178771 \t -22.303897517794855\n",
            "18     \t [ 9.5302869  -1.63623258 -2.44821385]. \t  -664.4583931157485 \t -22.303897517794855\n",
            "19     \t [-7.99251924  3.59259432  4.47274696]. \t  -6345.440623414577 \t -22.303897517794855\n",
            "20     \t [ 2.2623977   9.71703066 -8.80160564]. \t  -132891.1228025034 \t -22.303897517794855\n",
            "21     \t [ 8.49478484 -9.96321779 -3.46912222]. \t  -75758.71694608568 \t -22.303897517794855\n",
            "22     \t [0.07872524 3.29553272 9.74800815]. \t  -105566.32754689941 \t -22.303897517794855\n",
            "23     \t [9.69382131 3.43762254 0.72648479]. \t  -481.2900933422512 \t -22.303897517794855\n",
            "24     \t [ 2.66708369  1.4963742  -3.59587116]. \t  -1790.1833598187552 \t -22.303897517794855\n",
            "25     \t [-8.66570862 -4.51875792  8.6212623 ]. \t  -75378.87288437581 \t -22.303897517794855\n",
            "26     \t [-8.76598271 -6.23262676 -5.10166833]. \t  -25237.09477424586 \t -22.303897517794855\n",
            "27     \t [7.55395671 6.94293858 1.71312708]. \t  -15836.774010757412 \t -22.303897517794855\n",
            "28     \t [-0.22179232 -8.15001535  3.26091628]. \t  -38011.41050731867 \t -22.303897517794855\n",
            "29     \t [-8.31002106  9.96009525  1.34161829]. \t  -85671.88280499072 \t -22.303897517794855\n",
            "30     \t [ 1.0968077  -9.0035944  -3.21495946]. \t  -54504.926491444865 \t -22.303897517794855\n"
          ]
        }
      ]
    },
    {
      "cell_type": "code",
      "metadata": {
        "id": "MlUNFjc-JTBY",
        "colab": {
          "base_uri": "https://localhost:8080/"
        },
        "outputId": "9918fa49-8a02-423c-8064-0fe4fab67aee"
      },
      "source": [
        "### EXACT GP EI GRADIENTS\n",
        "\n",
        "np.random.seed(run_num_12)\n",
        "surrogate_exact_12 = dGaussianProcess(cov_func, optimize=opt)\n",
        "\n",
        "exact_12 = dGPGO(surrogate_exact_12, Acquisition_new(util_grad_exact), objfunc, param)\n",
        "exact_12.run(init_evals=n_init, max_iter=iters)\n"
      ],
      "execution_count": 45,
      "outputs": [
        {
          "output_type": "stream",
          "name": "stdout",
          "text": [
            "Evaluation \t Proposed point \t  Current eval. \t Best eval.\n",
            "init   \t [-6.91674315  4.80099393 -4.7336997 ]. \t  -10487.591252066548 \t -4586.38475927115\n",
            "init   \t [ 0.67478787 -9.70850075  8.37494016]. \t  -138053.19180525147 \t -4586.38475927115\n",
            "init   \t [ 8.01429708 -9.33157145  9.13898673]. \t  -148578.70720060062 \t -4586.38475927115\n",
            "init   \t [-7.25581357 -4.32343294  2.12166369]. \t  -4586.38475927115 \t -4586.38475927115\n",
            "init   \t [ 8.88450272  7.05471082 -9.95481533]. \t  -126104.01453704505 \t -4586.38475927115\n",
            "1      \t [ 4.05244711 -3.44861047 -3.30704942]. \t  \u001b[92m-2711.705028601448\u001b[0m \t -2711.705028601448\n",
            "2      \t [-9.8399332  -9.79123196  1.94917609]. \t  -82290.79401902205 \t -2711.705028601448\n",
            "3      \t [-2.72524362 -3.32877676 -7.87150673]. \t  -49830.2759128258 \t -2711.705028601448\n",
            "4      \t [-9.90274624 -5.05558204  6.5981439 ]. \t  -33027.813423262836 \t -2711.705028601448\n",
            "5      \t [8.11179655 4.25164412 2.83994041]. \t  \u001b[92m-2046.5141241551942\u001b[0m \t -2046.5141241551942\n",
            "6      \t [-1.0203127   6.70305372  2.93327516]. \t  -16854.29441646725 \t -2046.5141241551942\n",
            "7      \t [2.24146714 3.87396922 9.57204863]. \t  -98069.68646479683 \t -2046.5141241551942\n",
            "8      \t [-3.39588922 -3.70052717  9.95424593]. \t  -124174.59831589606 \t -2046.5141241551942\n",
            "9      \t [ 1.5325348  -3.58689582  3.5882446 ]. \t  -3753.6134520429414 \t -2046.5141241551942\n",
            "10     \t [-9.79176428  7.36536448  5.25320924]. \t  -34963.294709396985 \t -2046.5141241551942\n",
            "11     \t [-3.87321278  9.96526606  8.00203174]. \t  -123867.78422181687 \t -2046.5141241551942\n",
            "12     \t [ 3.90293143  7.47809194 -2.68362028]. \t  -23454.743377384744 \t -2046.5141241551942\n",
            "13     \t [-8.98648204 -1.73510882 -4.90352376]. \t  -7997.54367947651 \t -2046.5141241551942\n",
            "14     \t [-1.52361308  8.92528175 -8.84260182]. \t  -116980.07166015083 \t -2046.5141241551942\n",
            "15     \t [9.72058271 7.89080656 9.56612543]. \t  -118450.58666630497 \t -2046.5141241551942\n",
            "16     \t [-5.48070166 -9.79143194 -4.05815642]. \t  -83314.61039227611 \t -2046.5141241551942\n",
            "17     \t [ 1.58072517 -9.94975628 -3.08464996]. \t  -79677.20925147073 \t -2046.5141241551942\n",
            "18     \t [ 9.61487616 -6.21933532 -9.44941862]. \t  -111708.82778032127 \t -2046.5141241551942\n",
            "19     \t [ 5.8221348  -9.13985505  2.97973586]. \t  -54197.94454746476 \t -2046.5141241551942\n",
            "20     \t [-1.83244524 -0.35201807 -1.65285505]. \t  \u001b[92m-118.15116630032645\u001b[0m \t -118.15116630032645\n",
            "21     \t [ 8.97914165  0.59644518 -6.51034682]. \t  -21455.548563328866 \t -118.15116630032645\n",
            "22     \t [ 6.72999519 -9.85288555  3.98217806]. \t  -75475.66507226418 \t -118.15116630032645\n",
            "23     \t [-7.29561006  1.03992814  5.75877686]. \t  -13034.957812850134 \t -118.15116630032645\n",
            "24     \t [ 9.43339296 -1.12600839  6.30586064]. \t  -19681.365480912948 \t -118.15116630032645\n",
            "25     \t [ 2.97874059 -1.00532535 -9.7619692 ]. \t  -110134.45177295854 \t -118.15116630032645\n",
            "26     \t [ 2.14709859 -8.99848343 -9.3683501 ]. \t  -153226.77678223117 \t -118.15116630032645\n",
            "27     \t [-2.12040097  7.60652828 -2.58787707]. \t  -27882.26320016148 \t -118.15116630032645\n",
            "28     \t [-2.80364155 -6.97845211  2.86679416]. \t  -21739.89303943284 \t -118.15116630032645\n",
            "29     \t [-1.98074551  2.76019053 -8.39676318]. \t  -57941.88508818872 \t -118.15116630032645\n",
            "30     \t [-7.97023544  1.35262829 -0.91033188]. \t  -351.23163980992575 \t -118.15116630032645\n"
          ]
        }
      ]
    },
    {
      "cell_type": "code",
      "metadata": {
        "id": "9BsKdU9eJTFL",
        "colab": {
          "base_uri": "https://localhost:8080/"
        },
        "outputId": "bf526edc-e64c-40d6-f8ca-9beb8ce5e664"
      },
      "source": [
        "### EXACT GP EI GRADIENTS\n",
        "\n",
        "np.random.seed(run_num_13)\n",
        "surrogate_exact_13 = dGaussianProcess(cov_func, optimize=opt)\n",
        "\n",
        "exact_13 = dGPGO(surrogate_exact_13, Acquisition_new(util_grad_exact), objfunc, param)\n",
        "exact_13.run(init_evals=n_init, max_iter=iters)\n"
      ],
      "execution_count": 46,
      "outputs": [
        {
          "output_type": "stream",
          "name": "stdout",
          "text": [
            "Evaluation \t Proposed point \t  Current eval. \t Best eval.\n",
            "init   \t [ 5.55404821 -5.2491756   6.48557065]. \t  -28895.231649642476 \t -7190.67128147545\n",
            "init   \t [ 9.31498396  9.45202228 -0.93101505]. \t  -57617.86193657745 \t -7190.67128147545\n",
            "init   \t [2.18084926 5.51053029 2.8322669 ]. \t  -7190.67128147545 \t -7190.67128147545\n",
            "init   \t [ 4.44036459 -9.29926952 -4.03101058]. \t  -62045.794621798595 \t -7190.67128147545\n",
            "init   \t [-8.82975016  7.14121885 -2.54291944]. \t  -24761.06708561053 \t -7190.67128147545\n",
            "1      \t [ 0.185244   -0.40233217  9.1114829 ]. \t  -83108.09560590271 \t -7190.67128147545\n",
            "2      \t [-2.55507975  5.16954611 -8.57852975]. \t  -66788.32667697628 \t -7190.67128147545\n",
            "3      \t [-4.04492519 -9.41811807  2.86360578]. \t  -67871.1485238979 \t -7190.67128147545\n",
            "4      \t [ 5.82685351 -2.07230908 -7.09410447]. \t  -31695.800000421277 \t -7190.67128147545\n",
            "5      \t [-9.72135464 -7.69244795 -6.22844507]. \t  -54735.99736938843 \t -7190.67128147545\n",
            "6      \t [ 1.70981611 -7.96842051  6.63640935]. \t  -59069.60046239685 \t -7190.67128147545\n",
            "7      \t [-8.35910501  2.30846038  5.24449367]. \t  -9143.067684000225 \t -7190.67128147545\n",
            "8      \t [7.79388742 5.66497036 7.57468992]. \t  -42105.64148230834 \t -7190.67128147545\n",
            "9      \t [ 1.6639904   1.75101086 -5.56192983]. \t  -10883.292818417536 \t -7190.67128147545\n",
            "10     \t [ 0.71676649 -3.50814205  0.69632921]. \t  \u001b[92m-1202.401865042869\u001b[0m \t -1202.401865042869\n",
            "11     \t [-7.33037661 -5.43830137  9.80324356]. \t  -126099.93632971952 \t -1202.401865042869\n",
            "12     \t [-3.51869767  0.29473661 -0.79235155]. \t  \u001b[92m-50.45682808146446\u001b[0m \t -50.45682808146446\n",
            "13     \t [-8.34716102  1.65684644 -5.42960023]. \t  -10321.657348027442 \t -50.45682808146446\n",
            "14     \t [-4.27928482  8.57545687  7.34992702]. \t  -75526.56253118711 \t -50.45682808146446\n",
            "15     \t [ 7.5393533   1.3409171  -0.56810323]. \t  -75.31224865866807 \t -50.45682808146446\n",
            "16     \t [ 9.05593586 -8.9461846  -0.245247  ]. \t  -45921.05259813855 \t -50.45682808146446\n",
            "17     \t [-3.22763234 -5.89950329 -2.82234795]. \t  -12057.763935733421 \t -50.45682808146446\n",
            "18     \t [ 7.6080448   8.49246997 -8.49971853]. \t  -92868.82082788214 \t -50.45682808146446\n",
            "19     \t [6.28948877 1.1576258  7.72507096]. \t  -41964.78613282861 \t -50.45682808146446\n",
            "20     \t [4.84759227 0.35590622 3.48973611]. \t  -1785.1061528226342 \t -50.45682808146446\n",
            "21     \t [ 2.39323722  9.16564206 -1.75897014]. \t  -54891.657597153084 \t -50.45682808146446\n",
            "22     \t [-8.82859559  7.62795782 -9.89307628]. \t  -137611.81884131514 \t -50.45682808146446\n",
            "23     \t [-9.4167566  -5.54254349  2.20448291]. \t  -10848.537725440794 \t -50.45682808146446\n",
            "24     \t [ 9.00137308 -2.74138829  2.33039229]. \t  -691.8329255341308 \t -50.45682808146446\n",
            "25     \t [ 1.16220783 -5.50810066 -7.99568767]. \t  -60447.153058583746 \t -50.45682808146446\n",
            "26     \t [-4.13381947  8.69424205  0.07397302]. \t  -48497.12734968836 \t -50.45682808146446\n",
            "27     \t [1.07368807 5.32413814 8.18857494]. \t  -55940.92964988141 \t -50.45682808146446\n",
            "28     \t [-7.68724565  2.86914489  0.54997633]. \t  -1257.411870404554 \t -50.45682808146446\n",
            "29     \t [-4.27432518 -1.30145483 -8.12623824]. \t  -53510.25957873612 \t -50.45682808146446\n",
            "30     \t [ 6.34645975  4.54004576 -2.33345477]. \t  -2582.4412035132605 \t -50.45682808146446\n"
          ]
        }
      ]
    },
    {
      "cell_type": "code",
      "metadata": {
        "id": "k6GjFBr1JTJf",
        "colab": {
          "base_uri": "https://localhost:8080/"
        },
        "outputId": "01943393-c594-4cbf-ac38-0adcca067e30"
      },
      "source": [
        "### EXACT GP EI GRADIENTS\n",
        "\n",
        "np.random.seed(run_num_14)\n",
        "surrogate_exact_14 = dGaussianProcess(cov_func, optimize=opt)\n",
        "\n",
        "exact_14 = dGPGO(surrogate_exact_14, Acquisition_new(util_grad_exact), objfunc, param)\n",
        "exact_14.run(init_evals=n_init, max_iter=iters)\n"
      ],
      "execution_count": 47,
      "outputs": [
        {
          "output_type": "stream",
          "name": "stdout",
          "text": [
            "Evaluation \t Proposed point \t  Current eval. \t Best eval.\n",
            "init   \t [0.27886688 5.46330104 7.40855371]. \t  -39702.89936997373 \t -1439.5830530376063\n",
            "init   \t [-9.83906103 -3.80528149  9.15207479]. \t  -91186.29991894927 \t -1439.5830530376063\n",
            "init   \t [ 0.26233425 -3.6343115   0.78399875]. \t  -1439.5830530376063 \t -1439.5830530376063\n",
            "init   \t [-5.57490115  6.12962716 -3.15490749]. \t  -13643.962145478023 \t -1439.5830530376063\n",
            "init   \t [ 0.77777698 -9.88252429  3.46304956]. \t  -79141.18744713577 \t -1439.5830530376063\n",
            "1      \t [ 7.75074914 -8.33301678  4.9312824 ]. \t  -44170.557703432896 \t -1439.5830530376063\n",
            "2      \t [ 2.4133841   6.9805318  -1.42862351]. \t  -18093.267359135454 \t -1439.5830530376063\n",
            "3      \t [ 0.20170278 -6.14709147 -9.49686071]. \t  -115740.3239857176 \t -1439.5830530376063\n",
            "4      \t [ 8.31288284 -8.41520495 -6.46756025]. \t  -61033.900912213845 \t -1439.5830530376063\n",
            "5      \t [-9.55982645 -2.40648449 -1.49955998]. \t  \u001b[92m-1148.4811474641567\u001b[0m \t -1148.4811474641567\n",
            "6      \t [ 8.91311706  0.5903175  -5.94911306]. \t  -14979.042140174126 \t -1148.4811474641567\n",
            "7      \t [ 5.07660615  7.61948752 -9.37017484]. \t  -109327.57369250164 \t -1148.4811474641567\n",
            "8      \t [7.59629527 3.16066194 9.26099949]. \t  -85397.14985949233 \t -1148.4811474641567\n",
            "9      \t [-4.48552495  9.99734168  4.89342079]. \t  -87879.62946055598 \t -1148.4811474641567\n",
            "10     \t [-4.76065837 -6.01957255  5.24376667]. \t  -23130.52422954533 \t -1148.4811474641567\n",
            "11     \t [-9.20999729 -5.84978717 -6.97454513]. \t  -44075.85004550006 \t -1148.4811474641567\n",
            "12     \t [ 6.73102629 -3.49680424 -9.11390761]. \t  -86977.46518702332 \t -1148.4811474641567\n",
            "13     \t [-3.36390978  3.12902366  6.11942711]. \t  -16523.004276481952 \t -1148.4811474641567\n",
            "14     \t [-1.09561874  1.18907994 -9.15027414]. \t  -82968.28063735437 \t -1148.4811474641567\n",
            "15     \t [0.89026243 7.74449105 2.59197279]. \t  -28449.696044348027 \t -1148.4811474641567\n",
            "16     \t [-6.45186323 -9.64307342 -2.50178816]. \t  -75587.15160898332 \t -1148.4811474641567\n",
            "17     \t [ 9.90614776 -2.19870759  0.40228013]. \t  \u001b[92m-98.51929076584533\u001b[0m \t -98.51929076584533\n",
            "18     \t [ 2.24496432 -3.39912563 -6.205258  ]. \t  -20269.19299563198 \t -98.51929076584533\n",
            "19     \t [-8.70885435  1.65132676  2.62301891]. \t  -935.3142120588343 \t -98.51929076584533\n",
            "20     \t [-8.06593744 -0.17424102 -9.27075365]. \t  -89036.4534666406 \t -98.51929076584533\n",
            "21     \t [ 0.63770632 -9.911869    9.98408417]. \t  -208105.61274985876 \t -98.51929076584533\n",
            "22     \t [ 7.34335328  3.38134628 -0.53802626]. \t  -545.7660452564704 \t -98.51929076584533\n",
            "23     \t [-9.83438012 -9.90389119  4.81451974]. \t  -94492.99573891448 \t -98.51929076584533\n",
            "24     \t [ 4.34064828 -2.01081243  8.6841011 ]. \t  -70117.62218119111 \t -98.51929076584533\n",
            "25     \t [-3.89466447 -1.10227449 -0.82150699]. \t  -121.99819413519157 \t -98.51929076584533\n",
            "26     \t [7.96425569 9.77697119 4.94852875]. \t  -71792.95766318208 \t -98.51929076584533\n",
            "27     \t [ 3.36753361 -9.22336081 -4.10343627]. \t  -61153.39224166442 \t -98.51929076584533\n",
            "28     \t [-0.09058656  1.35175645 -2.92612488]. \t  -775.5707392090524 \t -98.51929076584533\n",
            "29     \t [4.01718124 1.15957033 3.26470269]. \t  -1231.543995533076 \t -98.51929076584533\n",
            "30     \t [-7.79545421  9.71708892 -6.71877823]. \t  -96884.28529371353 \t -98.51929076584533\n"
          ]
        }
      ]
    },
    {
      "cell_type": "code",
      "metadata": {
        "id": "dPS8WB3aJTN6",
        "colab": {
          "base_uri": "https://localhost:8080/"
        },
        "outputId": "a4fb5e16-df71-435c-b045-83921bdb8077"
      },
      "source": [
        "### EXACT GP EI GRADIENTS\n",
        "\n",
        "np.random.seed(run_num_15)\n",
        "surrogate_exact_15 = dGaussianProcess(cov_func, optimize=opt)\n",
        "\n",
        "exact_15 = dGPGO(surrogate_exact_15, Acquisition_new(util_grad_exact), objfunc, param)\n",
        "exact_15.run(init_evals=n_init, max_iter=iters)\n"
      ],
      "execution_count": 48,
      "outputs": [
        {
          "output_type": "stream",
          "name": "stdout",
          "text": [
            "Evaluation \t Proposed point \t  Current eval. \t Best eval.\n",
            "init   \t [ 6.97635395 -6.4220815  -8.91273571]. \t  -93407.31094956005 \t -3815.237318891498\n",
            "init   \t [-2.76923108 -4.49198143  0.6000045 ]. \t  -3815.237318891498 \t -3815.237318891498\n",
            "init   \t [-3.88162169 -3.91051282 -7.76517448]. \t  -48905.136415868226 \t -3815.237318891498\n",
            "init   \t [-5.00201972  8.35259796 -4.71706293]. \t  -45736.265979350435 \t -3815.237318891498\n",
            "init   \t [4.35547375 7.31430068 6.14158964]. \t  -35004.84714820178 \t -3815.237318891498\n",
            "1      \t [-4.02002687  0.75490439  3.31255076]. \t  \u001b[92m-1425.6331932181074\u001b[0m \t -1425.6331932181074\n",
            "2      \t [ 2.60405856  6.24027381 -8.67997755]. \t  -73928.10815893668 \t -1425.6331932181074\n",
            "3      \t [ 8.90778657  0.06639168 -3.55320815]. \t  -2123.645927039213 \t -1425.6331932181074\n",
            "4      \t [ 5.05406978 -4.8669869   5.11668062]. \t  -13423.651465814419 \t -1425.6331932181074\n",
            "5      \t [-2.55047664 -8.99647506 -3.0280456 ]. \t  -56324.3889610761 \t -1425.6331932181074\n",
            "6      \t [-9.79351252 -2.51545841 -0.23562792]. \t  \u001b[92m-1145.0724111700745\u001b[0m \t -1145.0724111700745\n",
            "7      \t [-7.90430741 -4.34958933  9.91294557]. \t  -125325.39733458453 \t -1145.0724111700745\n",
            "8      \t [-5.79117971  5.04067968  9.03266882]. \t  -81477.5076954023 \t -1145.0724111700745\n",
            "9      \t [ 9.48312637  9.88620053 -3.19449007]. \t  -69589.33701998279 \t -1145.0724111700745\n",
            "10     \t [1.89918252 3.02576644 1.2438579 ]. \t  \u001b[92m-539.4869784636265\u001b[0m \t -539.4869784636265\n",
            "11     \t [4.48184819 1.427042   9.68540097]. \t  -104009.18988793727 \t -539.4869784636265\n",
            "12     \t [-3.1640906   7.88786526  2.87351484]. \t  -32804.57261390649 \t -539.4869784636265\n",
            "13     \t [ 8.72200554 -5.88153557 -0.96388345]. \t  -7550.865568037794 \t -539.4869784636265\n",
            "14     \t [-2.21023851 -9.694896    7.27761262]. \t  -112461.96388945142 \t -539.4869784636265\n",
            "15     \t [-9.72970835  1.63019389 -8.98385101]. \t  -77165.35620565368 \t -539.4869784636265\n",
            "16     \t [9.84123371 0.01996946 8.30137879]. \t  -57243.15970842413 \t -539.4869784636265\n",
            "17     \t [-8.48339437  3.90068495 -1.71572096]. \t  -3130.3871761731407 \t -539.4869784636265\n",
            "18     \t [-3.174519    0.81752231  7.37357542]. \t  -34999.41291503981 \t -539.4869784636265\n",
            "19     \t [-8.2713405  -8.7640866  -6.94469912]. \t  -85717.41998973425 \t -539.4869784636265\n",
            "20     \t [9.32039296 9.74034978 2.59587054]. \t  -65219.95879519922 \t -539.4869784636265\n",
            "21     \t [9.4113868  6.96811382 8.22438304]. \t  -64845.12535659933 \t -539.4869784636265\n",
            "22     \t [ 1.29616053  0.83902775 -5.2184552 ]. \t  -8627.202372857579 \t -539.4869784636265\n",
            "23     \t [-8.41018971 -8.71621832  6.48376224]. \t  -77348.56964310442 \t -539.4869784636265\n",
            "24     \t [ 1.62682764 -7.08425136 -9.55885143]. \t  -127605.57525344101 \t -539.4869784636265\n",
            "25     \t [ 5.34205143  5.55084719 -1.78062596]. \t  -6356.000158948967 \t -539.4869784636265\n",
            "26     \t [-8.51159456  9.99071941  3.05240655]. \t  -86959.5800218018 \t -539.4869784636265\n",
            "27     \t [ 3.53106066 -8.54531656 -0.33101816]. \t  -40857.22549986136 \t -539.4869784636265\n",
            "28     \t [ 8.58923794  2.52384099 -8.70951631]. \t  -66862.78409324748 \t -539.4869784636265\n",
            "29     \t [ 1.8850632   9.97908401 -2.48241401]. \t  -77855.43336670086 \t -539.4869784636265\n",
            "30     \t [ 8.12863329 -9.29028702  9.00961512]. \t  -142542.27457319596 \t -539.4869784636265\n"
          ]
        }
      ]
    },
    {
      "cell_type": "code",
      "metadata": {
        "id": "SHWdp2giJTRm",
        "colab": {
          "base_uri": "https://localhost:8080/"
        },
        "outputId": "8dbc5918-1255-4325-f236-ae2fa4f7715a"
      },
      "source": [
        "### EXACT GP EI GRADIENTS\n",
        "\n",
        "np.random.seed(run_num_16)\n",
        "surrogate_exact_16 = dGaussianProcess(cov_func, optimize=opt)\n",
        "\n",
        "exact_16 = dGPGO(surrogate_exact_16, Acquisition_new(util_grad_exact), objfunc, param)\n",
        "exact_16.run(init_evals=n_init, max_iter=iters)\n"
      ],
      "execution_count": 49,
      "outputs": [
        {
          "output_type": "stream",
          "name": "stdout",
          "text": [
            "Evaluation \t Proposed point \t  Current eval. \t Best eval.\n",
            "init   \t [-5.53417842  0.46326683  1.01402913]. \t  -121.43529547027163 \t -121.43529547027163\n",
            "init   \t [-9.087961   -2.78542329 -5.53838117]. \t  -13651.622350397936 \t -121.43529547027163\n",
            "init   \t [ 3.77452324 -6.7253715  -8.59350266]. \t  -86575.28663542298 \t -121.43529547027163\n",
            "init   \t [ 8.8202172   1.2736276  -8.44015321]. \t  -59934.59518842736 \t -121.43529547027163\n",
            "init   \t [ 4.45281022 -6.83095653 -4.99437387]. \t  -25459.039011491368 \t -121.43529547027163\n",
            "1      \t [4.18505664 9.44091052 6.20078235]. \t  -74267.36337655598 \t -121.43529547027163\n",
            "2      \t [ 5.46645324 -3.10791558  7.00820468]. \t  -31211.732976445848 \t -121.43529547027163\n",
            "3      \t [-7.02365822  9.22395096  6.80716026]. \t  -83746.44219511922 \t -121.43529547027163\n",
            "4      \t [-2.61755868 -8.2924165   4.84857415]. \t  -48472.3424987587 \t -121.43529547027163\n",
            "5      \t [-3.40441603  9.0441433  -4.42822156]. \t  -58527.14818017682 \t -121.43529547027163\n",
            "6      \t [ 4.43542074  9.94841157 -7.0897813 ]. \t  -99516.29975823758 \t -121.43529547027163\n",
            "7      \t [-7.92323047 -1.59321032  9.84617866]. \t  -115063.9149436472 \t -121.43529547027163\n",
            "8      \t [1.64592968 3.95024291 0.10559626]. \t  -1794.6345031550625 \t -121.43529547027163\n",
            "9      \t [-5.76874203 -6.70033317 -9.24218847]. \t  -112865.90326280854 \t -121.43529547027163\n",
            "10     \t [ 9.98852149 -7.93099291 -5.611128  ]. \t  -41986.637450421564 \t -121.43529547027163\n",
            "11     \t [-9.64442768 -5.12694362  2.33258491]. \t  -8623.697730678545 \t -121.43529547027163\n",
            "12     \t [-0.4520892   1.80344164  6.43567321]. \t  -19797.62458418604 \t -121.43529547027163\n",
            "13     \t [ 0.92740386  0.10886049 -7.53447757]. \t  -38599.265978728814 \t -121.43529547027163\n",
            "14     \t [-9.22737901  7.91567599 -9.27617181]. \t  -117172.64391571193 \t -121.43529547027163\n",
            "15     \t [ 7.37339138  8.46346377 -0.25411789]. \t  -37179.581230164 \t -121.43529547027163\n",
            "16     \t [6.24796682 2.7897974  3.79777421]. \t  -2237.9952611782987 \t -121.43529547027163\n",
            "17     \t [-7.43103109  5.74761982  0.33465795]. \t  -10967.49540242441 \t -121.43529547027163\n",
            "18     \t [ 6.16453531 -9.68598445  2.92485284]. \t  -68044.8839016422 \t -121.43529547027163\n",
            "19     \t [-5.72499281 -7.74232996 -2.25672134]. \t  -32566.375125489598 \t -121.43529547027163\n",
            "20     \t [ 2.01564043 -3.50088444 -0.90712683]. \t  -1092.7022374479398 \t -121.43529547027163\n",
            "21     \t [-6.30298329  2.1423066  -7.87292264]. \t  -45055.621037664816 \t -121.43529547027163\n",
            "22     \t [ 7.6394588  -4.70445361 -0.546062  ]. \t  -2811.0585143098797 \t -121.43529547027163\n",
            "23     \t [-8.20260538 -9.47655742  9.8984399 ]. \t  -197242.39770505737 \t -121.43529547027163\n",
            "24     \t [-1.88700794 -5.42058879  9.50960432]. \t  -111472.9319709469 \t -121.43529547027163\n",
            "25     \t [-1.85113484  8.86168631  3.13793037]. \t  -50864.93692961046 \t -121.43529547027163\n",
            "26     \t [0.07032558 6.38981915 9.94098843]. \t  -123051.8325615124 \t -121.43529547027163\n",
            "27     \t [ 4.7530772  -9.95685327  9.9506985 ]. \t  -204696.85342466284 \t -121.43529547027163\n",
            "28     \t [ 8.5583269   7.14129847 -8.95062791]. \t  -87824.5701528418 \t -121.43529547027163\n",
            "29     \t [-1.44692074 -0.85815005  2.49124536]. \t  -551.3764335082731 \t -121.43529547027163\n",
            "30     \t [ 2.05951735  6.68740046 -3.19612996]. \t  -15839.364122664461 \t -121.43529547027163\n"
          ]
        }
      ]
    },
    {
      "cell_type": "code",
      "metadata": {
        "id": "yU2SflSsJTUs",
        "colab": {
          "base_uri": "https://localhost:8080/"
        },
        "outputId": "8f65a7e3-aa3d-4a43-9500-40ba83b9dd02"
      },
      "source": [
        "### EXACT GP EI GRADIENTS\n",
        "\n",
        "np.random.seed(run_num_17)\n",
        "surrogate_exact_17 = dGaussianProcess(cov_func, optimize=opt)\n",
        "\n",
        "exact_17 = dGPGO(surrogate_exact_17, Acquisition_new(util_grad_exact), objfunc, param)\n",
        "exact_17.run(init_evals=n_init, max_iter=iters)\n"
      ],
      "execution_count": 50,
      "outputs": [
        {
          "output_type": "stream",
          "name": "stdout",
          "text": [
            "Evaluation \t Proposed point \t  Current eval. \t Best eval.\n",
            "init   \t [-4.10669995  0.61173511 -6.16958426]. \t  -17181.1334683022 \t -11774.913131399897\n",
            "init   \t [-8.64199284  5.7397092   3.12667044]. \t  -11774.913131399897 \t -11774.913131399897\n",
            "init   \t [ 2.75041792  1.51205788 -9.21874168]. \t  -85144.34017448343 \t -11774.913131399897\n",
            "init   \t [-2.84372791  8.91366374 -8.79910639]. \t  -116232.21251957516 \t -11774.913131399897\n",
            "init   \t [ 7.28084207  7.54581052 -8.97612669]. \t  -93540.66819534874 \t -11774.913131399897\n",
            "1      \t [ 3.53524771 -7.6305547  -1.10007868]. \t  -25809.301647344466 \t -11774.913131399897\n",
            "2      \t [9.06605384 1.70871417 1.66132937]. \t  \u001b[92m-129.46210636737467\u001b[0m \t -129.46210636737467\n",
            "3      \t [5.27601463 9.99566767 6.35850193]. \t  -90783.98305117982 \t -129.46210636737467\n",
            "4      \t [-8.52512993 -8.03930931 -1.75006035]. \t  -38662.67579605237 \t -129.46210636737467\n",
            "5      \t [-5.23795116  0.45408403  8.62047905]. \t  -65966.90843633469 \t -129.46210636737467\n",
            "6      \t [0.77793961 2.17142302 2.23437955]. \t  -332.9224565238143 \t -129.46210636737467\n",
            "7      \t [ 4.90212584  6.3243788  -3.46884476]. \t  -12237.537261458452 \t -129.46210636737467\n",
            "8      \t [-6.17878165 -8.81449665  8.90115876]. \t  -136204.46206638045 \t -129.46210636737467\n",
            "9      \t [-9.22447979  8.28680187 -8.93377466]. \t  -111777.54718520527 \t -129.46210636737467\n",
            "10     \t [ 1.20851895 -3.69858992  6.4930848 ]. \t  -24609.72800790296 \t -129.46210636737467\n",
            "11     \t [9.00876915 0.79791433 2.81059692]. \t  -858.903901979533 \t -129.46210636737467\n",
            "12     \t [-0.84961922 -5.77841228 -8.37299077]. \t  -73092.28661834999 \t -129.46210636737467\n",
            "13     \t [ 8.75512142 -9.27101119  6.32186279]. \t  -77166.27358383928 \t -129.46210636737467\n",
            "14     \t [ 0.59715379 -2.14650423 -2.57399155]. \t  -859.932418886353 \t -129.46210636737467\n",
            "15     \t [7.38447647 3.50489611 0.40738917]. \t  -661.5523981271634 \t -129.46210636737467\n",
            "16     \t [2.40278917 1.71115891 8.78881628]. \t  -70046.80980812132 \t -129.46210636737467\n",
            "17     \t [-1.55256616 -9.93104392 -7.69587118]. \t  -128499.72883516757 \t -129.46210636737467\n",
            "18     \t [-1.06012783  8.76943389  8.91775652]. \t  -115726.47983309739 \t -129.46210636737467\n",
            "19     \t [-2.37320835  5.7231693  -1.20890256]. \t  -9250.982250650295 \t -129.46210636737467\n",
            "20     \t [-9.33546584 -6.64406459 -8.50412189]. \t  -87827.95357849824 \t -129.46210636737467\n",
            "21     \t [ 6.32887019 -8.96357044 -7.95847401]. \t  -102877.00227230875 \t -129.46210636737467\n",
            "22     \t [-5.33050558 -3.7615988   3.22278515]. \t  -4107.790094472283 \t -129.46210636737467\n",
            "23     \t [ 8.78330047 -3.87600677 -2.8555167 ]. \t  -2187.033919874974 \t -129.46210636737467\n",
            "24     \t [-7.72508307  9.49857342 -3.48777861]. \t  -71552.52745403683 \t -129.46210636737467\n",
            "25     \t [0.52305266 9.49932914 2.38883781]. \t  -64776.26772939391 \t -129.46210636737467\n",
            "26     \t [ 9.90076057 -0.27061834 -9.57096652]. \t  -101261.40523007531 \t -129.46210636737467\n",
            "27     \t [ 9.78294655  9.39434954 -0.62599416]. \t  -55893.79257179702 \t -129.46210636737467\n",
            "28     \t [ 7.28450794 -1.97742741  7.35758438]. \t  -36502.29564899788 \t -129.46210636737467\n",
            "29     \t [ 9.42918161  1.56361282 -3.49922329]. \t  -1689.0012555765281 \t -129.46210636737467\n",
            "30     \t [-9.64680056  0.95551741 -5.92561839]. \t  -14771.766329992723 \t -129.46210636737467\n"
          ]
        }
      ]
    },
    {
      "cell_type": "code",
      "metadata": {
        "id": "es0KCh_0JTgY",
        "colab": {
          "base_uri": "https://localhost:8080/"
        },
        "outputId": "936c95c5-a2fd-4aa4-bb55-476ae54135ff"
      },
      "source": [
        "### EXACT GP EI GRADIENTS\n",
        "\n",
        "np.random.seed(run_num_18)\n",
        "surrogate_exact_18 = dGaussianProcess(cov_func, optimize=opt)\n",
        "\n",
        "exact_18 = dGPGO(surrogate_exact_18, Acquisition_new(util_grad_exact), objfunc, param)\n",
        "exact_18.run(init_evals=n_init, max_iter=iters)\n"
      ],
      "execution_count": 51,
      "outputs": [
        {
          "output_type": "stream",
          "name": "stdout",
          "text": [
            "Evaluation \t Proposed point \t  Current eval. \t Best eval.\n",
            "init   \t [3.00748483 0.10906747 7.57202942]. \t  -39395.322047969305 \t -27664.83628190573\n",
            "init   \t [-6.36319549  7.04466137  5.00272572]. \t  -27913.961335277138 \t -27664.83628190573\n",
            "init   \t [ 3.32203335  9.75790897 -4.86063155]. \t  -74244.15287271979 \t -27664.83628190573\n",
            "init   \t [-9.43388149  2.71438231  6.94624775]. \t  -27664.83628190573 \t -27664.83628190573\n",
            "init   \t [ 4.7234925  -9.58385776 -7.76793739]. \t  -114986.86534587143 \t -27664.83628190573\n",
            "1      \t [-3.60627759 -4.12128051 -3.96163645]. \t  \u001b[92m-6628.123996844119\u001b[0m \t -6628.123996844119\n",
            "2      \t [ 6.31975365  3.18761398 -5.14286127]. \t  -7833.7930593098545 \t -6628.123996844119\n",
            "3      \t [ 8.98418483 -5.51984113  1.59973658]. \t  \u001b[92m-5801.508998849156\u001b[0m \t -5801.508998849156\n",
            "4      \t [-9.82664426 -9.19265651  7.01964259]. \t  -98908.14619333696 \t -5801.508998849156\n",
            "5      \t [-2.53775904  1.42536014 -1.62522138]. \t  \u001b[92m-144.3007399321474\u001b[0m \t -144.3007399321474\n",
            "6      \t [-8.41638891  3.62928904 -8.37899504]. \t  -58636.25217955298 \t -144.3007399321474\n",
            "7      \t [4.76859313 6.53506599 3.93926051]. \t  -14822.442752768635 \t -144.3007399321474\n",
            "8      \t [ 1.54007968 -2.49510305  7.62800693]. \t  -42627.25456372583 \t -144.3007399321474\n",
            "9      \t [8.43438379 7.67975763 9.80916293]. \t  -126454.15858804133 \t -144.3007399321474\n",
            "10     \t [-3.34496631 -2.78991882  3.22472955]. \t  -2403.36188358604 \t -144.3007399321474\n",
            "11     \t [-9.86973108 -9.49362916 -9.87083803]. \t  -197704.91270806122 \t -144.3007399321474\n",
            "12     \t [-4.74409325  9.6660462  -2.60459944]. \t  -73506.67877916363 \t -144.3007399321474\n",
            "13     \t [ 0.71612401  0.72479636 -9.68187435]. \t  -104629.88885686785 \t -144.3007399321474\n",
            "14     \t [ 0.48229651 -9.14799475  9.2886821 ]. \t  -154756.9048926736 \t -144.3007399321474\n",
            "15     \t [ 9.75490416 -6.23874481  9.12480014]. \t  -98889.71543720129 \t -144.3007399321474\n",
            "16     \t [-9.42592623 -4.04478437 -0.1929319 ]. \t  -3712.2569125854898 \t -144.3007399321474\n",
            "17     \t [-3.58819841  8.79492924 -9.16655594]. \t  -126220.30900799838 \t -144.3007399321474\n",
            "18     \t [-5.07433423 -9.72898178  0.18401387]. \t  -75892.3869297386 \t -144.3007399321474\n",
            "19     \t [-1.750807   -7.63148665 -7.47518269]. \t  -70724.85141270439 \t -144.3007399321474\n",
            "20     \t [ 9.43419314  8.84848633 -1.39422812]. \t  -43455.46173412186 \t -144.3007399321474\n",
            "21     \t [9.48363766 1.20850062 7.97075858]. \t  -47678.428750882136 \t -144.3007399321474\n",
            "22     \t [0.19898962 5.07954864 0.05959246]. \t  -5362.704617461471 \t -144.3007399321474\n",
            "23     \t [-7.47166533  3.67907058 -0.89689792]. \t  -2471.03465541436 \t -144.3007399321474\n",
            "24     \t [ 2.9213906  -6.59175364  0.53207476]. \t  -14263.031653488091 \t -144.3007399321474\n",
            "25     \t [-4.90325182 -4.71767037  6.43998099]. \t  -27973.877046357913 \t -144.3007399321474\n",
            "26     \t [0.054387   9.11899404 7.93245275]. \t  -96160.86329571955 \t -144.3007399321474\n",
            "27     \t [8.22071091 3.04317192 2.26313565]. \t  -419.90017908321863 \t -144.3007399321474\n",
            "28     \t [-7.05265916 -3.69457249 -8.36981524]. \t  -64462.22549521569 \t -144.3007399321474\n",
            "29     \t [ 4.22801709 -2.08462147 -3.56330164]. \t  -2315.5247898124176 \t -144.3007399321474\n",
            "30     \t [ 9.96546727 -9.18384626 -1.64601622]. \t  -51104.54190575264 \t -144.3007399321474\n"
          ]
        }
      ]
    },
    {
      "cell_type": "code",
      "metadata": {
        "id": "Pput2LHPIwBM",
        "colab": {
          "base_uri": "https://localhost:8080/"
        },
        "outputId": "397459ff-66b8-4ef2-d087-377a2c5c103e"
      },
      "source": [
        "### EXACT GP EI GRADIENTS\n",
        "\n",
        "np.random.seed(run_num_19)\n",
        "surrogate_exact_19 = dGaussianProcess(cov_func, optimize=opt)\n",
        "\n",
        "exact_19 = dGPGO(surrogate_exact_19, Acquisition_new(util_grad_exact), objfunc, param)\n",
        "exact_19.run(init_evals=n_init, max_iter=iters)\n"
      ],
      "execution_count": 52,
      "outputs": [
        {
          "output_type": "stream",
          "name": "stdout",
          "text": [
            "Evaluation \t Proposed point \t  Current eval. \t Best eval.\n",
            "init   \t [-8.04932797  5.22499433 -5.06124054]. \t  -14282.07020620917 \t -7826.389573301183\n",
            "init   \t [-7.23736625 -3.37106873 -8.3400087 ]. \t  -62767.56440733103 \t -7826.389573301183\n",
            "init   \t [3.43954163 6.13187596 9.65483829]. \t  -107829.21541670273 \t -7826.389573301183\n",
            "init   \t [ 2.7132147  -5.68153488  0.98054864]. \t  -7826.389573301183 \t -7826.389573301183\n",
            "init   \t [ 0.91119916 -5.31847854 -7.72548314]. \t  -52835.14449570301 \t -7826.389573301183\n",
            "1      \t [-8.70426449  3.79716958  1.04335667]. \t  \u001b[92m-2920.737921781948\u001b[0m \t -2920.737921781948\n",
            "2      \t [ 7.96587403 -3.11645836  6.94103018]. \t  -29995.319794278214 \t -2920.737921781948\n",
            "3      \t [-5.92264612  1.94070459  8.81541711]. \t  -71080.60419246902 \t -2920.737921781948\n",
            "4      \t [ 9.93826046 -7.57727549 -3.12538868]. \t  -24289.940560273273 \t -2920.737921781948\n",
            "5      \t [ 9.17884072e+00  3.81026586e-03 -4.90936423e+00]. \t  -7205.086830676541 \t -2920.737921781948\n",
            "6      \t [6.53768271 8.27261557 0.88726414]. \t  -34139.50528106757 \t -2920.737921781948\n",
            "7      \t [8.88477717 1.65383617 9.09628062]. \t  -80607.08552314134 \t -2920.737921781948\n",
            "8      \t [-4.33569363 -9.82182427  7.20143244]. \t  -116537.17295098345 \t -2920.737921781948\n",
            "9      \t [-0.88364342 -0.53896298  9.12024958]. \t  -83571.53151095378 \t -2920.737921781948\n",
            "10     \t [-1.45422631  5.77814449  2.07479509]. \t  -9340.230250658666 \t -2920.737921781948\n",
            "11     \t [-0.82658611  0.86505746 -3.68328665]. \t  \u001b[92m-2084.1773688952567\u001b[0m \t -2084.1773688952567\n",
            "12     \t [ 0.19609949  8.62619954 -7.40348118]. \t  -74781.44337676886 \t -2084.1773688952567\n",
            "13     \t [-7.58121334  9.18213727  8.05424112]. \t  -105773.44328562071 \t -2084.1773688952567\n",
            "14     \t [ 6.9915601   5.47359895 -8.30558749]. \t  -58301.22396648849 \t -2084.1773688952567\n",
            "15     \t [-4.77483211 -5.29793445  2.24402407]. \t  -8162.299945833462 \t -2084.1773688952567\n",
            "16     \t [ 9.02147784  2.6853713  -8.65516215]. \t  -65071.71602536134 \t -2084.1773688952567\n",
            "17     \t [ 4.87354767 -0.83030448 -8.23000576]. \t  -55769.47006687408 \t -2084.1773688952567\n",
            "18     \t [1.9799272  3.81156677 6.02897636]. \t  -15702.85164015473 \t -2084.1773688952567\n",
            "19     \t [-2.80170194 -9.9231887  -5.5088967 ]. \t  -94768.58788903577 \t -2084.1773688952567\n",
            "20     \t [-9.9868438  -9.45861325 -7.48500698]. \t  -115793.91929876842 \t -2084.1773688952567\n",
            "21     \t [ 3.19124501 -8.03243444  6.71466363]. \t  -60613.789754991376 \t -2084.1773688952567\n",
            "22     \t [5.48805303 0.19954658 0.29741387]. \t  \u001b[92m-78.64607068920564\u001b[0m \t -78.64607068920564\n",
            "23     \t [-9.07923571 -9.17983932 -0.02810771]. \t  -63450.89053064088 \t -78.64607068920564\n",
            "24     \t [-3.24741498  7.10167212 -3.28102212]. \t  -22322.417289830777 \t -78.64607068920564\n",
            "25     \t [ 9.46074003 -6.4828191  -9.6851263 ]. \t  -124208.17394840925 \t -78.64607068920564\n",
            "26     \t [-0.22241859  3.26574582 -9.6257909 ]. \t  -100352.71369633514 \t -78.64607068920564\n",
            "27     \t [-6.41282226 -3.74347623  9.00118047]. \t  -84882.15343468412 \t -78.64607068920564\n",
            "28     \t [0.26816152 9.71277142 6.53965448]. \t  -88242.10489086936 \t -78.64607068920564\n",
            "29     \t [ 2.03790217 -0.7358532   2.64782576]. \t  -656.2804437754999 \t -78.64607068920564\n",
            "30     \t [9.5059976 3.1052225 0.8264508]. \t  -272.6767280945225 \t -78.64607068920564\n"
          ]
        }
      ]
    },
    {
      "cell_type": "code",
      "metadata": {
        "id": "aw3xvSryIwDi",
        "colab": {
          "base_uri": "https://localhost:8080/"
        },
        "outputId": "d1bba799-9b24-425f-b1b3-cca5eae6a8e7"
      },
      "source": [
        "### EXACT GP EI GRADIENTS\n",
        "\n",
        "np.random.seed(run_num_20)\n",
        "surrogate_exact_20 = dGaussianProcess(cov_func, optimize=opt)\n",
        "\n",
        "exact_20 = dGPGO(surrogate_exact_20, Acquisition_new(util_grad_exact), objfunc, param)\n",
        "exact_20.run(init_evals=n_init, max_iter=iters)\n"
      ],
      "execution_count": 53,
      "outputs": [
        {
          "output_type": "stream",
          "name": "stdout",
          "text": [
            "Evaluation \t Proposed point \t  Current eval. \t Best eval.\n",
            "init   \t [1.76261602 7.95427456 7.83061459]. \t  -70596.27231718504 \t -1177.4786310520467\n",
            "init   \t [ 6.31674955 -9.28220829  3.83515164]. \t  -59634.45116383437 \t -1177.4786310520467\n",
            "init   \t [-2.42638116  0.37021891  3.15902931]. \t  -1177.4786310520467 \t -1177.4786310520467\n",
            "init   \t [-6.12299564 -4.55367196  4.37211867]. \t  -10072.821243906226 \t -1177.4786310520467\n",
            "init   \t [5.66007219 7.0065528  5.50489788]. \t  -25762.190938183892 \t -1177.4786310520467\n",
            "1      \t [ 3.58822235  3.01571828 -4.62409523]. \t  -5172.971057172382 \t -1177.4786310520467\n",
            "2      \t [ 6.90281047 -9.84449703 -8.45927451]. \t  -140110.25172511325 \t -1177.4786310520467\n",
            "3      \t [-2.02505955 -3.84087805 -8.90073734]. \t  -81008.7373034749 \t -1177.4786310520467\n",
            "4      \t [-9.03422809  7.69291444  7.37966897]. \t  -63300.39318700283 \t -1177.4786310520467\n",
            "5      \t [-9.70727522  2.71787205 -3.8499178 ]. \t  -3488.2839642564004 \t -1177.4786310520467\n",
            "6      \t [-8.69662192 -5.40442584 -4.78410848]. \t  -16960.255155860745 \t -1177.4786310520467\n",
            "7      \t [ 3.4937907  -2.5103687   9.37110948]. \t  -95379.93666021542 \t -1177.4786310520467\n",
            "8      \t [-2.46871542  9.76065736 -3.02050331]. \t  -74733.47554640117 \t -1177.4786310520467\n",
            "9      \t [ 9.64468651  7.21321542 -9.95696397]. \t  -127425.73651668694 \t -1177.4786310520467\n",
            "10     \t [-3.52149428 -8.89742927  7.42875864]. \t  -95087.52343618331 \t -1177.4786310520467\n",
            "11     \t [-0.23723427 -9.19126844 -0.83968818]. \t  -57593.31830274371 \t -1177.4786310520467\n",
            "12     \t [ 5.00126639 -3.3363309  -0.45648549]. \t  \u001b[92m-654.1473571166752\u001b[0m \t -654.1473571166752\n",
            "13     \t [-1.77488279  7.71307977 -9.87550486]. \t  -134459.43409987114 \t -654.1473571166752\n",
            "14     \t [ 9.59685045  8.83742447 -0.69841768]. \t  -43244.382355533104 \t -654.1473571166752\n",
            "15     \t [-7.93132846  1.4544706   6.71393905]. \t  -23978.407219476016 \t -654.1473571166752\n",
            "16     \t [ 8.71567352 -9.23552071 -1.77855208]. \t  -53192.45226100789 \t -654.1473571166752\n",
            "17     \t [9.29022374 1.8103712  4.06755109]. \t  -3018.926903428297 \t -654.1473571166752\n",
            "18     \t [-8.33974585  8.41905692 -5.96486645]. \t  -56956.72264882653 \t -654.1473571166752\n",
            "19     \t [0.30553803 5.4261645  3.41450322]. \t  -7824.263053625887 \t -654.1473571166752\n",
            "20     \t [ 5.0384978  -3.33278645 -7.98815018]. \t  -52053.1197500042 \t -654.1473571166752\n",
            "21     \t [ 7.67840232  1.63923444 -9.92087323]. \t  -114373.96377795073 \t -654.1473571166752\n",
            "22     \t [-1.08346927  4.48068224 -5.10394141]. \t  -10208.160833810065 \t -654.1473571166752\n",
            "23     \t [-4.42965827 -9.58782213 -5.79524978]. \t  -88605.16485016342 \t -654.1473571166752\n",
            "24     \t [-8.04330351  5.57984083  1.25466204]. \t  -9987.227346289805 \t -654.1473571166752\n",
            "25     \t [ 4.6988903   8.4836705  -4.89698974]. \t  -43468.20654200078 \t -654.1473571166752\n",
            "26     \t [ 0.30818192 -4.92294657  3.41792555]. \t  -7040.282364208273 \t -654.1473571166752\n",
            "27     \t [ 8.64332115 -3.59742106  7.19405563]. \t  -35068.09943578945 \t -654.1473571166752\n",
            "28     \t [ 9.93031515  2.50874157 -2.64899783]. \t  \u001b[92m-492.3934712429328\u001b[0m \t -492.3934712429328\n",
            "29     \t [-9.34410709 -1.77980173 -0.96421538]. \t  -638.4255695329103 \t -492.3934712429328\n",
            "30     \t [-1.68939151 -0.64807671 -1.91421396]. \t  \u001b[92m-210.90252556358956\u001b[0m \t -210.90252556358956\n"
          ]
        }
      ]
    },
    {
      "cell_type": "code",
      "metadata": {
        "id": "qNqAB3vBTPqb",
        "colab": {
          "base_uri": "https://localhost:8080/"
        },
        "outputId": "187a9981-121e-4ce4-8295-f023730e2e07"
      },
      "source": [
        "end_exact = time.time()\n",
        "end_exact\n",
        "\n",
        "time_exact = end_exact - start_exact\n",
        "time_exact"
      ],
      "execution_count": 54,
      "outputs": [
        {
          "output_type": "execute_result",
          "data": {
            "text/plain": [
              "118.60589098930359"
            ]
          },
          "metadata": {},
          "execution_count": 54
        }
      ]
    },
    {
      "cell_type": "code",
      "metadata": {
        "id": "JPQzjdBZQxfg",
        "colab": {
          "base_uri": "https://localhost:8080/"
        },
        "outputId": "6bf05403-bc8c-4fc4-c62d-41017106a9ea"
      },
      "source": [
        "### Simple regret minimization: run number = 1\n",
        "\n",
        "approx_output_1 = np.append(np.min(approx_1.GP.y[0:n_init]),approx_1.GP.y[n_init:(n_init+iters)]) \n",
        "exact_output_1 = np.append(np.min(exact_1.GP.y[0:n_init]),exact_1.GP.y[n_init:(n_init+iters)]) \n",
        "\n",
        "regret_approx_1 = np.log(-approx_output_1 + y_global_orig)\n",
        "regret_exact_1 = np.log(-exact_output_1 + y_global_orig)\n",
        "\n",
        "simple_regret_approx_1 = min_max_array(regret_approx_1)\n",
        "simple_regret_exact_1 = min_max_array(regret_exact_1)\n",
        "\n",
        "min_simple_regret_approx_1 = min(simple_regret_approx_1)\n",
        "min_simple_regret_exact_1 = min(simple_regret_exact_1)\n",
        "\n",
        "min_simple_regret_approx_1, min_simple_regret_exact_1"
      ],
      "execution_count": 55,
      "outputs": [
        {
          "output_type": "execute_result",
          "data": {
            "text/plain": [
              "(7.015501349667463, 5.106784473553168)"
            ]
          },
          "metadata": {},
          "execution_count": 55
        }
      ]
    },
    {
      "cell_type": "code",
      "metadata": {
        "id": "94yBw5tqQxfk",
        "colab": {
          "base_uri": "https://localhost:8080/"
        },
        "outputId": "3626c707-9854-4b62-daa2-86e7206c9507"
      },
      "source": [
        "### Simple regret minimization: run number = 2\n",
        "\n",
        "approx_output_2 = np.append(np.min(approx_2.GP.y[0:n_init]),approx_2.GP.y[n_init:(n_init+iters)]) \n",
        "exact_output_2 = np.append(np.min(exact_2.GP.y[0:n_init]),exact_2.GP.y[n_init:(n_init+iters)]) \n",
        "\n",
        "regret_approx_2 = np.log(-approx_output_2 + y_global_orig)\n",
        "regret_exact_2 = np.log(-exact_output_2 + y_global_orig)\n",
        "\n",
        "simple_regret_approx_2 = min_max_array(regret_approx_2)\n",
        "simple_regret_exact_2 = min_max_array(regret_exact_2)\n",
        "\n",
        "min_simple_regret_approx_2 = min(simple_regret_approx_2)\n",
        "min_simple_regret_exact_2 = min(simple_regret_exact_2)\n",
        "\n",
        "min_simple_regret_approx_2, min_simple_regret_exact_2"
      ],
      "execution_count": 56,
      "outputs": [
        {
          "output_type": "execute_result",
          "data": {
            "text/plain": [
              "(6.119092905133126, 5.319863871703747)"
            ]
          },
          "metadata": {},
          "execution_count": 56
        }
      ]
    },
    {
      "cell_type": "code",
      "metadata": {
        "id": "Bu6SBWALQxfl",
        "colab": {
          "base_uri": "https://localhost:8080/"
        },
        "outputId": "6cd3421f-3832-462e-8213-fc5037d2598d"
      },
      "source": [
        "### Simple regret minimization: run number = 3\n",
        "\n",
        "approx_output_3 = np.append(np.min(approx_3.GP.y[0:n_init]),approx_3.GP.y[n_init:(n_init+iters)]) \n",
        "exact_output_3 = np.append(np.min(exact_3.GP.y[0:n_init]),exact_3.GP.y[n_init:(n_init+iters)]) \n",
        "\n",
        "regret_approx_3 = np.log(-approx_output_3 + y_global_orig)\n",
        "regret_exact_3 = np.log(-exact_output_3 + y_global_orig)\n",
        "\n",
        "simple_regret_approx_3 = min_max_array(regret_approx_3)\n",
        "simple_regret_exact_3 = min_max_array(regret_exact_3)\n",
        "\n",
        "min_simple_regret_approx_3 = min(simple_regret_approx_3)\n",
        "min_simple_regret_exact_3 = min(simple_regret_exact_3)\n",
        "\n",
        "min_simple_regret_approx_3, min_simple_regret_exact_3"
      ],
      "execution_count": 57,
      "outputs": [
        {
          "output_type": "execute_result",
          "data": {
            "text/plain": [
              "(3.4812361537019725, 4.1674570176532075)"
            ]
          },
          "metadata": {},
          "execution_count": 57
        }
      ]
    },
    {
      "cell_type": "code",
      "metadata": {
        "id": "AZm0jgxkQxfm",
        "colab": {
          "base_uri": "https://localhost:8080/"
        },
        "outputId": "479c73a2-7e46-44eb-8b3e-1e8afbbbe6f4"
      },
      "source": [
        "### Simple regret minimization: run number = 4\n",
        "\n",
        "approx_output_4 = np.append(np.min(approx_4.GP.y[0:n_init]),approx_4.GP.y[n_init:(n_init+iters)]) \n",
        "exact_output_4 = np.append(np.min(exact_4.GP.y[0:n_init]),exact_4.GP.y[n_init:(n_init+iters)]) \n",
        "\n",
        "regret_approx_4 = np.log(-approx_output_4 + y_global_orig)\n",
        "regret_exact_4 = np.log(-exact_output_4 + y_global_orig)\n",
        "\n",
        "simple_regret_approx_4 = min_max_array(regret_approx_4)\n",
        "simple_regret_exact_4 = min_max_array(regret_exact_4)\n",
        "\n",
        "min_simple_regret_approx_4 = min(simple_regret_approx_4)\n",
        "min_simple_regret_exact_4 = min(simple_regret_exact_4)\n",
        "\n",
        "min_simple_regret_approx_4, min_simple_regret_exact_4"
      ],
      "execution_count": 58,
      "outputs": [
        {
          "output_type": "execute_result",
          "data": {
            "text/plain": [
              "(5.6987629577201036, 5.486215026593668)"
            ]
          },
          "metadata": {},
          "execution_count": 58
        }
      ]
    },
    {
      "cell_type": "code",
      "metadata": {
        "id": "NONPm8JIQxfn",
        "colab": {
          "base_uri": "https://localhost:8080/"
        },
        "outputId": "01186aa1-8c80-49bb-bc1f-7e12c1462664"
      },
      "source": [
        "### Simple regret minimization: run number = 5\n",
        "\n",
        "approx_output_5 = np.append(np.min(approx_5.GP.y[0:n_init]),approx_5.GP.y[n_init:(n_init+iters)]) \n",
        "exact_output_5 = np.append(np.min(exact_5.GP.y[0:n_init]),exact_5.GP.y[n_init:(n_init+iters)]) \n",
        "\n",
        "regret_approx_5 = np.log(-approx_output_5 + y_global_orig)\n",
        "regret_exact_5 = np.log(-exact_output_5 + y_global_orig)\n",
        "\n",
        "simple_regret_approx_5 = min_max_array(regret_approx_5)\n",
        "simple_regret_exact_5 = min_max_array(regret_exact_5)\n",
        "\n",
        "min_simple_regret_approx_5 = min(simple_regret_approx_5)\n",
        "min_simple_regret_exact_5 = min(simple_regret_exact_5)\n",
        "\n",
        "min_simple_regret_approx_5, min_simple_regret_exact_5"
      ],
      "execution_count": 59,
      "outputs": [
        {
          "output_type": "execute_result",
          "data": {
            "text/plain": [
              "(4.062104975359321, 5.3535677627146665)"
            ]
          },
          "metadata": {},
          "execution_count": 59
        }
      ]
    },
    {
      "cell_type": "code",
      "metadata": {
        "id": "CJv3lPuSQxfp",
        "colab": {
          "base_uri": "https://localhost:8080/"
        },
        "outputId": "547b9b20-5738-4de4-ad45-b78b54945589"
      },
      "source": [
        "### Simple regret minimization: run number = 6\n",
        "\n",
        "approx_output_6 = np.append(np.min(approx_6.GP.y[0:n_init]),approx_6.GP.y[n_init:(n_init+iters)]) \n",
        "exact_output_6 = np.append(np.min(exact_6.GP.y[0:n_init]),exact_6.GP.y[n_init:(n_init+iters)]) \n",
        "\n",
        "regret_approx_6 = np.log(-approx_output_6 + y_global_orig)\n",
        "regret_exact_6 = np.log(-exact_output_6 + y_global_orig)\n",
        "\n",
        "simple_regret_approx_6 = min_max_array(regret_approx_6)\n",
        "simple_regret_exact_6 = min_max_array(regret_exact_6)\n",
        "\n",
        "min_simple_regret_approx_6 = min(simple_regret_approx_6)\n",
        "min_simple_regret_exact_6 = min(simple_regret_exact_6)\n",
        "\n",
        "min_simple_regret_approx_6, min_simple_regret_exact_6"
      ],
      "execution_count": 60,
      "outputs": [
        {
          "output_type": "execute_result",
          "data": {
            "text/plain": [
              "(5.246436033495735, 4.867628625710899)"
            ]
          },
          "metadata": {},
          "execution_count": 60
        }
      ]
    },
    {
      "cell_type": "code",
      "metadata": {
        "id": "quR2ZyApQxfq",
        "colab": {
          "base_uri": "https://localhost:8080/"
        },
        "outputId": "5eaa3e98-4ea8-43d5-b4db-91a189206b92"
      },
      "source": [
        "### Simple regret minimization: run number = 7\n",
        "\n",
        "approx_output_7 = np.append(np.min(approx_7.GP.y[0:n_init]),approx_7.GP.y[n_init:(n_init+iters)]) \n",
        "exact_output_7 = np.append(np.min(exact_7.GP.y[0:n_init]),exact_7.GP.y[n_init:(n_init+iters)]) \n",
        "\n",
        "regret_approx_7 = np.log(-approx_output_7 + y_global_orig)\n",
        "regret_exact_7 = np.log(-exact_output_7 + y_global_orig)\n",
        "\n",
        "simple_regret_approx_7 = min_max_array(regret_approx_7)\n",
        "simple_regret_exact_7 = min_max_array(regret_exact_7)\n",
        "\n",
        "min_simple_regret_approx_7 = min(simple_regret_approx_7)\n",
        "min_simple_regret_exact_7 = min(simple_regret_exact_7)\n",
        "\n",
        "min_simple_regret_approx_7, min_simple_regret_exact_7"
      ],
      "execution_count": 61,
      "outputs": [
        {
          "output_type": "execute_result",
          "data": {
            "text/plain": [
              "(4.965357479842991, 3.1374352953240714)"
            ]
          },
          "metadata": {},
          "execution_count": 61
        }
      ]
    },
    {
      "cell_type": "code",
      "metadata": {
        "id": "99wY5nK6Qxfr",
        "colab": {
          "base_uri": "https://localhost:8080/"
        },
        "outputId": "b72f65d5-3bc7-48dd-89b6-8ed2368d4b5b"
      },
      "source": [
        "### Simple regret minimization: run number = 8\n",
        "\n",
        "approx_output_8 = np.append(np.min(approx_8.GP.y[0:n_init]),approx_8.GP.y[n_init:(n_init+iters)]) \n",
        "exact_output_8 = np.append(np.min(exact_8.GP.y[0:n_init]),exact_8.GP.y[n_init:(n_init+iters)]) \n",
        "\n",
        "regret_approx_8 = np.log(-approx_output_8 + y_global_orig)\n",
        "regret_exact_8 = np.log(-exact_output_8 + y_global_orig)\n",
        "\n",
        "simple_regret_approx_8 = min_max_array(regret_approx_8)\n",
        "simple_regret_exact_8 = min_max_array(regret_exact_8)\n",
        "\n",
        "min_simple_regret_approx_8 = min(simple_regret_approx_8)\n",
        "min_simple_regret_exact_8 = min(simple_regret_exact_8)\n",
        "\n",
        "min_simple_regret_approx_8, min_simple_regret_exact_8"
      ],
      "execution_count": 62,
      "outputs": [
        {
          "output_type": "execute_result",
          "data": {
            "text/plain": [
              "(5.040022077800899, 5.040022077800899)"
            ]
          },
          "metadata": {},
          "execution_count": 62
        }
      ]
    },
    {
      "cell_type": "code",
      "metadata": {
        "id": "qt0P5t9qQxfs",
        "colab": {
          "base_uri": "https://localhost:8080/"
        },
        "outputId": "f0e3a8b6-cf48-4854-b4a0-8b7196ab40a6"
      },
      "source": [
        "### Simple regret minimization: run number = 9\n",
        "\n",
        "approx_output_9 = np.append(np.min(approx_9.GP.y[0:n_init]),approx_9.GP.y[n_init:(n_init+iters)]) \n",
        "exact_output_9 = np.append(np.min(exact_9.GP.y[0:n_init]),exact_9.GP.y[n_init:(n_init+iters)]) \n",
        "\n",
        "regret_approx_9 = np.log(-approx_output_9 + y_global_orig)\n",
        "regret_exact_9 = np.log(-exact_output_9 + y_global_orig)\n",
        "\n",
        "simple_regret_approx_9 = min_max_array(regret_approx_9)\n",
        "simple_regret_exact_9 = min_max_array(regret_exact_9)\n",
        "\n",
        "min_simple_regret_approx_9 = min(simple_regret_approx_9)\n",
        "min_simple_regret_exact_9 = min(simple_regret_exact_9)\n",
        "\n",
        "min_simple_regret_approx_9, min_simple_regret_exact_9"
      ],
      "execution_count": 63,
      "outputs": [
        {
          "output_type": "execute_result",
          "data": {
            "text/plain": [
              "(5.408775240525815, 4.523657512638506)"
            ]
          },
          "metadata": {},
          "execution_count": 63
        }
      ]
    },
    {
      "cell_type": "code",
      "metadata": {
        "id": "vx8to9stQxft",
        "colab": {
          "base_uri": "https://localhost:8080/"
        },
        "outputId": "f4e5fadf-4138-4fe4-a73a-bcdfdf680e0e"
      },
      "source": [
        "### Simple regret minimization: run number = 10\n",
        "\n",
        "approx_output_10 = np.append(np.min(approx_10.GP.y[0:n_init]),approx_10.GP.y[n_init:(n_init+iters)]) \n",
        "exact_output_10 = np.append(np.min(exact_10.GP.y[0:n_init]),exact_10.GP.y[n_init:(n_init+iters)]) \n",
        "\n",
        "regret_approx_10 = np.log(-approx_output_10 + y_global_orig)\n",
        "regret_exact_10 = np.log(-exact_output_10 + y_global_orig)\n",
        "\n",
        "simple_regret_approx_10 = min_max_array(regret_approx_10)\n",
        "simple_regret_exact_10 = min_max_array(regret_exact_10)\n",
        "\n",
        "min_simple_regret_approx_10 = min(simple_regret_approx_10)\n",
        "min_simple_regret_exact_10 = min(simple_regret_exact_10)\n",
        "\n",
        "min_simple_regret_approx_10, min_simple_regret_exact_10"
      ],
      "execution_count": 64,
      "outputs": [
        {
          "output_type": "execute_result",
          "data": {
            "text/plain": [
              "(6.675390209039453, 5.2959286090834485)"
            ]
          },
          "metadata": {},
          "execution_count": 64
        }
      ]
    },
    {
      "cell_type": "code",
      "metadata": {
        "id": "d-FGzWyHQxfu",
        "colab": {
          "base_uri": "https://localhost:8080/"
        },
        "outputId": "b5f45534-cb1c-473f-8472-159acd6515fb"
      },
      "source": [
        "### Simple regret minimization: run number = 11\n",
        "\n",
        "approx_output_11 = np.append(np.min(approx_11.GP.y[0:n_init]),approx_11.GP.y[n_init:(n_init+iters)]) \n",
        "exact_output_11 = np.append(np.min(exact_11.GP.y[0:n_init]),exact_11.GP.y[n_init:(n_init+iters)]) \n",
        "\n",
        "regret_approx_11 = np.log(-approx_output_11 + y_global_orig)\n",
        "regret_exact_11 = np.log(-exact_output_11 + y_global_orig)\n",
        "\n",
        "simple_regret_approx_11 = min_max_array(regret_approx_11)\n",
        "simple_regret_exact_11 = min_max_array(regret_exact_11)\n",
        "\n",
        "min_simple_regret_approx_11 = min(simple_regret_approx_11)\n",
        "min_simple_regret_exact_11 = min(simple_regret_exact_11)\n",
        "\n",
        "min_simple_regret_approx_11, min_simple_regret_exact_11"
      ],
      "execution_count": 65,
      "outputs": [
        {
          "output_type": "execute_result",
          "data": {
            "text/plain": [
              "(5.083331686016828, 6.1764701929728805)"
            ]
          },
          "metadata": {},
          "execution_count": 65
        }
      ]
    },
    {
      "cell_type": "code",
      "metadata": {
        "id": "SvtsssyjQxfv",
        "colab": {
          "base_uri": "https://localhost:8080/"
        },
        "outputId": "c388fb06-9487-4d1c-86f7-0e888c745213"
      },
      "source": [
        "### Simple regret minimization: run number = 12\n",
        "\n",
        "approx_output_12 = np.append(np.min(approx_12.GP.y[0:n_init]),approx_12.GP.y[n_init:(n_init+iters)]) \n",
        "exact_output_12 = np.append(np.min(exact_12.GP.y[0:n_init]),exact_12.GP.y[n_init:(n_init+iters)]) \n",
        "\n",
        "regret_approx_12 = np.log(-approx_output_12 + y_global_orig)\n",
        "regret_exact_12 = np.log(-exact_output_12 + y_global_orig)\n",
        "\n",
        "simple_regret_approx_12 = min_max_array(regret_approx_12)\n",
        "simple_regret_exact_12 = min_max_array(regret_exact_12)\n",
        "\n",
        "min_simple_regret_approx_12 = min(simple_regret_approx_12)\n",
        "min_simple_regret_exact_12 = min(simple_regret_exact_12)\n",
        "\n",
        "min_simple_regret_approx_12, min_simple_regret_exact_12"
      ],
      "execution_count": 66,
      "outputs": [
        {
          "output_type": "execute_result",
          "data": {
            "text/plain": [
              "(6.078830640366413, 4.771964874936938)"
            ]
          },
          "metadata": {},
          "execution_count": 66
        }
      ]
    },
    {
      "cell_type": "code",
      "metadata": {
        "id": "K6OiGcHkQxfw",
        "colab": {
          "base_uri": "https://localhost:8080/"
        },
        "outputId": "07d4e5ea-2109-4f19-ffba-c10816e31ab6"
      },
      "source": [
        "### Simple regret minimization: run number = 13\n",
        "\n",
        "approx_output_13 = np.append(np.min(approx_13.GP.y[0:n_init]),approx_13.GP.y[n_init:(n_init+iters)]) \n",
        "exact_output_13 = np.append(np.min(exact_13.GP.y[0:n_init]),exact_13.GP.y[n_init:(n_init+iters)]) \n",
        "\n",
        "regret_approx_13 = np.log(-approx_output_13 + y_global_orig)\n",
        "regret_exact_13 = np.log(-exact_output_13 + y_global_orig)\n",
        "\n",
        "simple_regret_approx_13 = min_max_array(regret_approx_13)\n",
        "simple_regret_exact_13 = min_max_array(regret_exact_13)\n",
        "\n",
        "min_simple_regret_approx_13 = min(simple_regret_approx_13)\n",
        "min_simple_regret_exact_13 = min(simple_regret_exact_13)\n",
        "\n",
        "min_simple_regret_approx_13, min_simple_regret_exact_13"
      ],
      "execution_count": 67,
      "outputs": [
        {
          "output_type": "execute_result",
          "data": {
            "text/plain": [
              "(4.8342190558591644, 3.92111808117896)"
            ]
          },
          "metadata": {},
          "execution_count": 67
        }
      ]
    },
    {
      "cell_type": "code",
      "metadata": {
        "id": "ogML73shQxfx",
        "colab": {
          "base_uri": "https://localhost:8080/"
        },
        "outputId": "fc54e1d1-a3ee-4627-875e-6aa1aab6a02e"
      },
      "source": [
        "### Simple regret minimization: run number = 14\n",
        "\n",
        "approx_output_14 = np.append(np.min(approx_14.GP.y[0:n_init]),approx_14.GP.y[n_init:(n_init+iters)]) \n",
        "exact_output_14 = np.append(np.min(exact_14.GP.y[0:n_init]),exact_14.GP.y[n_init:(n_init+iters)]) \n",
        "\n",
        "regret_approx_14 = np.log(-approx_output_14 + y_global_orig)\n",
        "regret_exact_14 = np.log(-exact_output_14 + y_global_orig)\n",
        "\n",
        "simple_regret_approx_14 = min_max_array(regret_approx_14)\n",
        "simple_regret_exact_14 = min_max_array(regret_exact_14)\n",
        "\n",
        "min_simple_regret_approx_14 = min(simple_regret_approx_14)\n",
        "min_simple_regret_exact_14 = min(simple_regret_exact_14)\n",
        "\n",
        "min_simple_regret_approx_14, min_simple_regret_exact_14"
      ],
      "execution_count": 68,
      "outputs": [
        {
          "output_type": "execute_result",
          "data": {
            "text/plain": [
              "(3.28655113914839, 4.59025237434138)"
            ]
          },
          "metadata": {},
          "execution_count": 68
        }
      ]
    },
    {
      "cell_type": "code",
      "metadata": {
        "id": "9Eg7gFT9Qxfx",
        "colab": {
          "base_uri": "https://localhost:8080/"
        },
        "outputId": "d2e21d4f-7488-4c32-9bfb-ea30b9569577"
      },
      "source": [
        "### Simple regret minimization: run number = 15\n",
        "\n",
        "approx_output_15 = np.append(np.min(approx_15.GP.y[0:n_init]),approx_15.GP.y[n_init:(n_init+iters)]) \n",
        "exact_output_15 = np.append(np.min(exact_15.GP.y[0:n_init]),exact_15.GP.y[n_init:(n_init+iters)]) \n",
        "\n",
        "regret_approx_15 = np.log(-approx_output_15 + y_global_orig)\n",
        "regret_exact_15 = np.log(-exact_output_15 + y_global_orig)\n",
        "\n",
        "simple_regret_approx_15 = min_max_array(regret_approx_15)\n",
        "simple_regret_exact_15 = min_max_array(regret_exact_15)\n",
        "\n",
        "min_simple_regret_approx_15 = min(simple_regret_approx_15)\n",
        "min_simple_regret_exact_15 = min(simple_regret_exact_15)\n",
        "\n",
        "min_simple_regret_approx_15, min_simple_regret_exact_15"
      ],
      "execution_count": 69,
      "outputs": [
        {
          "output_type": "execute_result",
          "data": {
            "text/plain": [
              "(4.237562822327569, 6.290618648102226)"
            ]
          },
          "metadata": {},
          "execution_count": 69
        }
      ]
    },
    {
      "cell_type": "code",
      "metadata": {
        "id": "lIAC1U7ZQxfy",
        "colab": {
          "base_uri": "https://localhost:8080/"
        },
        "outputId": "58b50bbc-84cc-4a9e-903c-ce2d0f93e642"
      },
      "source": [
        "### Simple regret minimization: run number = 16\n",
        "\n",
        "approx_output_16 = np.append(np.min(approx_16.GP.y[0:n_init]),approx_16.GP.y[n_init:(n_init+iters)]) \n",
        "exact_output_16 = np.append(np.min(exact_16.GP.y[0:n_init]),exact_16.GP.y[n_init:(n_init+iters)]) \n",
        "\n",
        "regret_approx_16 = np.log(-approx_output_16 + y_global_orig)\n",
        "regret_exact_16 = np.log(-exact_output_16 + y_global_orig)\n",
        "\n",
        "simple_regret_approx_16 = min_max_array(regret_approx_16)\n",
        "simple_regret_exact_16 = min_max_array(regret_exact_16)\n",
        "\n",
        "min_simple_regret_approx_16 = min(simple_regret_approx_16)\n",
        "min_simple_regret_exact_16 = min(simple_regret_exact_16)\n",
        "\n",
        "min_simple_regret_approx_16, min_simple_regret_exact_16"
      ],
      "execution_count": 70,
      "outputs": [
        {
          "output_type": "execute_result",
          "data": {
            "text/plain": [
              "(4.909326972536388, 6.312417758300705)"
            ]
          },
          "metadata": {},
          "execution_count": 70
        }
      ]
    },
    {
      "cell_type": "code",
      "metadata": {
        "id": "bGott36OQxfz",
        "colab": {
          "base_uri": "https://localhost:8080/"
        },
        "outputId": "79d32789-dd3f-4854-ae11-ee7c457f1d74"
      },
      "source": [
        "### Simple regret minimization: run number = 17\n",
        "\n",
        "approx_output_17 = np.append(np.min(approx_17.GP.y[0:n_init]),approx_17.GP.y[n_init:(n_init+iters)]) \n",
        "exact_output_17 = np.append(np.min(exact_17.GP.y[0:n_init]),exact_17.GP.y[n_init:(n_init+iters)]) \n",
        "\n",
        "regret_approx_17 = np.log(-approx_output_17 + y_global_orig)\n",
        "regret_exact_17 = np.log(-exact_output_17 + y_global_orig)\n",
        "\n",
        "simple_regret_approx_17 = min_max_array(regret_approx_17)\n",
        "simple_regret_exact_17 = min_max_array(regret_exact_17)\n",
        "\n",
        "min_simple_regret_approx_17 = min(simple_regret_approx_17)\n",
        "min_simple_regret_exact_17 = min(simple_regret_exact_17)\n",
        "\n",
        "min_simple_regret_approx_17, min_simple_regret_exact_17"
      ],
      "execution_count": 71,
      "outputs": [
        {
          "output_type": "execute_result",
          "data": {
            "text/plain": [
              "(4.863388223395744, 4.863388223395744)"
            ]
          },
          "metadata": {},
          "execution_count": 71
        }
      ]
    },
    {
      "cell_type": "code",
      "metadata": {
        "id": "Cz9ZYMBMQxfz",
        "colab": {
          "base_uri": "https://localhost:8080/"
        },
        "outputId": "ec479a4f-d276-4106-954c-05876139a4a2"
      },
      "source": [
        "### Simple regret minimization: run number = 18\n",
        "\n",
        "approx_output_18 = np.append(np.min(approx_18.GP.y[0:n_init]),approx_18.GP.y[n_init:(n_init+iters)]) \n",
        "exact_output_18 = np.append(np.min(exact_18.GP.y[0:n_init]),exact_18.GP.y[n_init:(n_init+iters)]) \n",
        "\n",
        "regret_approx_18 = np.log(-approx_output_18 + y_global_orig)\n",
        "regret_exact_18 = np.log(-exact_output_18 + y_global_orig)\n",
        "\n",
        "simple_regret_approx_18 = min_max_array(regret_approx_18)\n",
        "simple_regret_exact_18 = min_max_array(regret_exact_18)\n",
        "\n",
        "min_simple_regret_approx_18 = min(simple_regret_approx_18)\n",
        "min_simple_regret_exact_18 = min(simple_regret_exact_18)\n",
        "\n",
        "min_simple_regret_approx_18, min_simple_regret_exact_18"
      ],
      "execution_count": 72,
      "outputs": [
        {
          "output_type": "execute_result",
          "data": {
            "text/plain": [
              "(4.971899593501588, 4.971899593501588)"
            ]
          },
          "metadata": {},
          "execution_count": 72
        }
      ]
    },
    {
      "cell_type": "code",
      "metadata": {
        "id": "OBfpWOHNQxf0",
        "colab": {
          "base_uri": "https://localhost:8080/"
        },
        "outputId": "381c01b7-d044-4478-9178-838d6eca177f"
      },
      "source": [
        "### Simple regret minimization: run number = 19\n",
        "\n",
        "approx_output_19 = np.append(np.min(approx_19.GP.y[0:n_init]),approx_19.GP.y[n_init:(n_init+iters)]) \n",
        "exact_output_19 = np.append(np.min(exact_19.GP.y[0:n_init]),exact_19.GP.y[n_init:(n_init+iters)]) \n",
        "\n",
        "regret_approx_19 = np.log(-approx_output_19 + y_global_orig)\n",
        "regret_exact_19 = np.log(-exact_output_19 + y_global_orig)\n",
        "\n",
        "simple_regret_approx_19 = min_max_array(regret_approx_19)\n",
        "simple_regret_exact_19 = min_max_array(regret_exact_19)\n",
        "\n",
        "min_simple_regret_approx_19 = min(simple_regret_approx_19)\n",
        "min_simple_regret_exact_19 = min(simple_regret_exact_19)\n",
        "\n",
        "min_simple_regret_approx_19, min_simple_regret_exact_19"
      ],
      "execution_count": 73,
      "outputs": [
        {
          "output_type": "execute_result",
          "data": {
            "text/plain": [
              "(5.745985155108188, 4.364957668805612)"
            ]
          },
          "metadata": {},
          "execution_count": 73
        }
      ]
    },
    {
      "cell_type": "code",
      "metadata": {
        "id": "BE1AJ7NsQxf0",
        "colab": {
          "base_uri": "https://localhost:8080/"
        },
        "outputId": "cc740598-7bd7-4ff6-8eba-4bb147b90208"
      },
      "source": [
        "### Simple regret minimization: run number = 20\n",
        "\n",
        "approx_output_20 = np.append(np.min(approx_20.GP.y[0:n_init]),approx_20.GP.y[n_init:(n_init+iters)]) \n",
        "exact_output_20 = np.append(np.min(exact_20.GP.y[0:n_init]),exact_20.GP.y[n_init:(n_init+iters)]) \n",
        "\n",
        "regret_approx_20 = np.log(-approx_output_20 + y_global_orig)\n",
        "regret_exact_20 = np.log(-exact_output_20 + y_global_orig)\n",
        "\n",
        "simple_regret_approx_20 = min_max_array(regret_approx_20)\n",
        "simple_regret_exact_20 = min_max_array(regret_exact_20)\n",
        "\n",
        "min_simple_regret_approx_20 = min(simple_regret_approx_20)\n",
        "min_simple_regret_exact_20 = min(simple_regret_exact_20)\n",
        "\n",
        "min_simple_regret_approx_20, min_simple_regret_exact_20"
      ],
      "execution_count": 74,
      "outputs": [
        {
          "output_type": "execute_result",
          "data": {
            "text/plain": [
              "(4.878588029287439, 5.351396062584149)"
            ]
          },
          "metadata": {},
          "execution_count": 74
        }
      ]
    },
    {
      "cell_type": "code",
      "metadata": {
        "id": "XHo_0G2fJhBb"
      },
      "source": [
        "# Iteration1 :\n",
        "\n",
        "slice1 = 0\n",
        "\n",
        "approx1 = [simple_regret_approx_1[slice1],\n",
        "       simple_regret_approx_2[slice1],\n",
        "       simple_regret_approx_3[slice1],\n",
        "       simple_regret_approx_4[slice1],\n",
        "       simple_regret_approx_5[slice1],\n",
        "       simple_regret_approx_6[slice1],\n",
        "       simple_regret_approx_7[slice1],\n",
        "       simple_regret_approx_8[slice1],\n",
        "       simple_regret_approx_9[slice1],\n",
        "       simple_regret_approx_10[slice1],\n",
        "       simple_regret_approx_11[slice1],\n",
        "       simple_regret_approx_12[slice1],\n",
        "       simple_regret_approx_13[slice1],\n",
        "       simple_regret_approx_14[slice1],\n",
        "       simple_regret_approx_15[slice1],\n",
        "       simple_regret_approx_16[slice1],\n",
        "       simple_regret_approx_17[slice1],\n",
        "       simple_regret_approx_18[slice1],\n",
        "       simple_regret_approx_19[slice1],\n",
        "       simple_regret_approx_20[slice1]]\n",
        "\n",
        "exact1 = [simple_regret_exact_1[slice1],\n",
        "       simple_regret_exact_2[slice1],\n",
        "       simple_regret_exact_3[slice1],\n",
        "       simple_regret_exact_4[slice1],\n",
        "       simple_regret_exact_5[slice1],\n",
        "       simple_regret_exact_6[slice1],\n",
        "       simple_regret_exact_7[slice1],\n",
        "       simple_regret_exact_8[slice1],\n",
        "       simple_regret_exact_9[slice1],\n",
        "       simple_regret_exact_10[slice1],\n",
        "       simple_regret_exact_11[slice1],\n",
        "       simple_regret_exact_12[slice1],\n",
        "       simple_regret_exact_13[slice1],\n",
        "       simple_regret_exact_14[slice1],\n",
        "       simple_regret_exact_15[slice1],\n",
        "       simple_regret_exact_16[slice1],\n",
        "       simple_regret_exact_17[slice1],\n",
        "       simple_regret_exact_18[slice1],\n",
        "       simple_regret_exact_19[slice1],\n",
        "       simple_regret_exact_20[slice1]]\n",
        "\n",
        "approx1_results = pd.DataFrame(approx1).sort_values(by=[0], ascending=False)\n",
        "exact1_results = pd.DataFrame(exact1).sort_values(by=[0], ascending=False)\n",
        "\n",
        "### Best simple regret minimization IQR - approx:\n",
        "lower_approx1 = np.asarray(approx1_results[4:5][0])[0]\n",
        "median_approx1 = np.asarray(approx1_results[9:10][0])[0]\n",
        "upper_approx1 = np.asarray(approx1_results[14:15][0])[0]\n",
        "\n",
        "lower_exact1 = np.asarray(exact1_results[4:5][0])[0]\n",
        "median_exact1 = np.asarray(exact1_results[9:10][0])[0]\n",
        "upper_exact1 = np.asarray(exact1_results[14:15][0])[0]"
      ],
      "execution_count": 75,
      "outputs": []
    },
    {
      "cell_type": "code",
      "metadata": {
        "id": "IZYT5m85JhBb"
      },
      "source": [
        "# Iteration11 :\n",
        "\n",
        "slice11 = 10\n",
        "\n",
        "approx11 = [simple_regret_approx_1[slice11],\n",
        "       simple_regret_approx_2[slice11],\n",
        "       simple_regret_approx_3[slice11],\n",
        "       simple_regret_approx_4[slice11],\n",
        "       simple_regret_approx_5[slice11],\n",
        "       simple_regret_approx_6[slice11],\n",
        "       simple_regret_approx_7[slice11],\n",
        "       simple_regret_approx_8[slice11],\n",
        "       simple_regret_approx_9[slice11],\n",
        "       simple_regret_approx_10[slice11],\n",
        "       simple_regret_approx_11[slice11],\n",
        "       simple_regret_approx_12[slice11],\n",
        "       simple_regret_approx_13[slice11],\n",
        "       simple_regret_approx_14[slice11],\n",
        "       simple_regret_approx_15[slice11],\n",
        "       simple_regret_approx_16[slice11],\n",
        "       simple_regret_approx_17[slice11],\n",
        "       simple_regret_approx_18[slice11],\n",
        "       simple_regret_approx_19[slice11],\n",
        "       simple_regret_approx_20[slice11]]\n",
        "\n",
        "exact11 = [simple_regret_exact_1[slice11],\n",
        "       simple_regret_exact_2[slice11],\n",
        "       simple_regret_exact_3[slice11],\n",
        "       simple_regret_exact_4[slice11],\n",
        "       simple_regret_exact_5[slice11],\n",
        "       simple_regret_exact_6[slice11],\n",
        "       simple_regret_exact_7[slice11],\n",
        "       simple_regret_exact_8[slice11],\n",
        "       simple_regret_exact_9[slice11],\n",
        "       simple_regret_exact_10[slice11],\n",
        "       simple_regret_exact_11[slice11],\n",
        "       simple_regret_exact_12[slice11],\n",
        "       simple_regret_exact_13[slice11],\n",
        "       simple_regret_exact_14[slice11],\n",
        "       simple_regret_exact_15[slice11],\n",
        "       simple_regret_exact_16[slice11],\n",
        "       simple_regret_exact_17[slice11],\n",
        "       simple_regret_exact_18[slice11],\n",
        "       simple_regret_exact_19[slice11],\n",
        "       simple_regret_exact_20[slice11]]\n",
        "\n",
        "approx11_results = pd.DataFrame(approx11).sort_values(by=[0], ascending=False)\n",
        "exact11_results = pd.DataFrame(exact11).sort_values(by=[0], ascending=False)\n",
        "\n",
        "### Best simple regret minimization IQR - approx:\n",
        "lower_approx11 = np.asarray(approx11_results[4:5][0])[0]\n",
        "median_approx11 = np.asarray(approx11_results[9:10][0])[0]\n",
        "upper_approx11 = np.asarray(approx11_results[14:15][0])[0]\n",
        "\n",
        "lower_exact11 = np.asarray(exact11_results[4:5][0])[0]\n",
        "median_exact11 = np.asarray(exact11_results[9:10][0])[0]\n",
        "upper_exact11 = np.asarray(exact11_results[14:15][0])[0]"
      ],
      "execution_count": 76,
      "outputs": []
    },
    {
      "cell_type": "code",
      "metadata": {
        "id": "R_vbmbaeJhBc"
      },
      "source": [
        "# Iteration21 :\n",
        "\n",
        "slice21 = 20\n",
        "\n",
        "approx21 = [simple_regret_approx_1[slice21],\n",
        "       simple_regret_approx_2[slice21],\n",
        "       simple_regret_approx_3[slice21],\n",
        "       simple_regret_approx_4[slice21],\n",
        "       simple_regret_approx_5[slice21],\n",
        "       simple_regret_approx_6[slice21],\n",
        "       simple_regret_approx_7[slice21],\n",
        "       simple_regret_approx_8[slice21],\n",
        "       simple_regret_approx_9[slice21],\n",
        "       simple_regret_approx_10[slice21],\n",
        "       simple_regret_approx_11[slice21],\n",
        "       simple_regret_approx_12[slice21],\n",
        "       simple_regret_approx_13[slice21],\n",
        "       simple_regret_approx_14[slice21],\n",
        "       simple_regret_approx_15[slice21],\n",
        "       simple_regret_approx_16[slice21],\n",
        "       simple_regret_approx_17[slice21],\n",
        "       simple_regret_approx_18[slice21],\n",
        "       simple_regret_approx_19[slice21],\n",
        "       simple_regret_approx_20[slice21]]\n",
        "\n",
        "exact21 = [simple_regret_exact_1[slice21],\n",
        "       simple_regret_exact_2[slice21],\n",
        "       simple_regret_exact_3[slice21],\n",
        "       simple_regret_exact_4[slice21],\n",
        "       simple_regret_exact_5[slice21],\n",
        "       simple_regret_exact_6[slice21],\n",
        "       simple_regret_exact_7[slice21],\n",
        "       simple_regret_exact_8[slice21],\n",
        "       simple_regret_exact_9[slice21],\n",
        "       simple_regret_exact_10[slice21],\n",
        "       simple_regret_exact_11[slice21],\n",
        "       simple_regret_exact_12[slice21],\n",
        "       simple_regret_exact_13[slice21],\n",
        "       simple_regret_exact_14[slice21],\n",
        "       simple_regret_exact_15[slice21],\n",
        "       simple_regret_exact_16[slice21],\n",
        "       simple_regret_exact_17[slice21],\n",
        "       simple_regret_exact_18[slice21],\n",
        "       simple_regret_exact_19[slice21],\n",
        "       simple_regret_exact_20[slice21]]\n",
        "\n",
        "approx21_results = pd.DataFrame(approx21).sort_values(by=[0], ascending=False)\n",
        "exact21_results = pd.DataFrame(exact21).sort_values(by=[0], ascending=False)\n",
        "\n",
        "### Best simple regret minimization IQR - approx:\n",
        "lower_approx21 = np.asarray(approx21_results[4:5][0])[0]\n",
        "median_approx21 = np.asarray(approx21_results[9:10][0])[0]\n",
        "upper_approx21 = np.asarray(approx21_results[14:15][0])[0]\n",
        "\n",
        "lower_exact21 = np.asarray(exact21_results[4:5][0])[0]\n",
        "median_exact21 = np.asarray(exact21_results[9:10][0])[0]\n",
        "upper_exact21 = np.asarray(exact21_results[14:15][0])[0]"
      ],
      "execution_count": 77,
      "outputs": []
    },
    {
      "cell_type": "code",
      "metadata": {
        "id": "F9FU4ttiaQOJ"
      },
      "source": [
        "# Iteration31 :\n",
        "\n",
        "slice31 = 30\n",
        "\n",
        "approx31 = [simple_regret_approx_1[slice31],\n",
        "       simple_regret_approx_2[slice31],\n",
        "       simple_regret_approx_3[slice31],\n",
        "       simple_regret_approx_4[slice31],\n",
        "       simple_regret_approx_5[slice31],\n",
        "       simple_regret_approx_6[slice31],\n",
        "       simple_regret_approx_7[slice31],\n",
        "       simple_regret_approx_8[slice31],\n",
        "       simple_regret_approx_9[slice31],\n",
        "       simple_regret_approx_10[slice31],\n",
        "       simple_regret_approx_11[slice31],\n",
        "       simple_regret_approx_12[slice31],\n",
        "       simple_regret_approx_13[slice31],\n",
        "       simple_regret_approx_14[slice31],\n",
        "       simple_regret_approx_15[slice31],\n",
        "       simple_regret_approx_16[slice31],\n",
        "       simple_regret_approx_17[slice31],\n",
        "       simple_regret_approx_18[slice31],\n",
        "       simple_regret_approx_19[slice31],\n",
        "       simple_regret_approx_20[slice31]]\n",
        "\n",
        "exact31 = [simple_regret_exact_1[slice31],\n",
        "       simple_regret_exact_2[slice31],\n",
        "       simple_regret_exact_3[slice31],\n",
        "       simple_regret_exact_4[slice31],\n",
        "       simple_regret_exact_5[slice31],\n",
        "       simple_regret_exact_6[slice31],\n",
        "       simple_regret_exact_7[slice31],\n",
        "       simple_regret_exact_8[slice31],\n",
        "       simple_regret_exact_9[slice31],\n",
        "       simple_regret_exact_10[slice31],\n",
        "       simple_regret_exact_11[slice31],\n",
        "       simple_regret_exact_12[slice31],\n",
        "       simple_regret_exact_13[slice31],\n",
        "       simple_regret_exact_14[slice31],\n",
        "       simple_regret_exact_15[slice31],\n",
        "       simple_regret_exact_16[slice31],\n",
        "       simple_regret_exact_17[slice31],\n",
        "       simple_regret_exact_18[slice31],\n",
        "       simple_regret_exact_19[slice31],\n",
        "       simple_regret_exact_20[slice31]]\n",
        "\n",
        "approx31_results = pd.DataFrame(approx31).sort_values(by=[0], ascending=False)\n",
        "exact31_results = pd.DataFrame(exact31).sort_values(by=[0], ascending=False)\n",
        "\n",
        "### Best simple regret minimization IQR - approx:\n",
        "lower_approx31 = np.asarray(approx31_results[4:5][0])[0]\n",
        "median_approx31 = np.asarray(approx31_results[9:10][0])[0]\n",
        "upper_approx31 = np.asarray(approx31_results[14:15][0])[0]\n",
        "\n",
        "lower_exact31 = np.asarray(exact31_results[4:5][0])[0]\n",
        "median_exact31 = np.asarray(exact31_results[9:10][0])[0]\n",
        "upper_exact31 = np.asarray(exact31_results[14:15][0])[0]\n"
      ],
      "execution_count": 78,
      "outputs": []
    },
    {
      "cell_type": "code",
      "metadata": {
        "id": "nAnT4CmSJhBd"
      },
      "source": [
        "# Iteration2 :\n",
        "\n",
        "slice2 = 1\n",
        "\n",
        "approx2 = [simple_regret_approx_1[slice2],\n",
        "       simple_regret_approx_2[slice2],\n",
        "       simple_regret_approx_3[slice2],\n",
        "       simple_regret_approx_4[slice2],\n",
        "       simple_regret_approx_5[slice2],\n",
        "       simple_regret_approx_6[slice2],\n",
        "       simple_regret_approx_7[slice2],\n",
        "       simple_regret_approx_8[slice2],\n",
        "       simple_regret_approx_9[slice2],\n",
        "       simple_regret_approx_10[slice2],\n",
        "       simple_regret_approx_11[slice2],\n",
        "       simple_regret_approx_12[slice2],\n",
        "       simple_regret_approx_13[slice2],\n",
        "       simple_regret_approx_14[slice2],\n",
        "       simple_regret_approx_15[slice2],\n",
        "       simple_regret_approx_16[slice2],\n",
        "       simple_regret_approx_17[slice2],\n",
        "       simple_regret_approx_18[slice2],\n",
        "       simple_regret_approx_19[slice2],\n",
        "       simple_regret_approx_20[slice2]]\n",
        "\n",
        "exact2 = [simple_regret_exact_1[slice2],\n",
        "       simple_regret_exact_2[slice2],\n",
        "       simple_regret_exact_3[slice2],\n",
        "       simple_regret_exact_4[slice2],\n",
        "       simple_regret_exact_5[slice2],\n",
        "       simple_regret_exact_6[slice2],\n",
        "       simple_regret_exact_7[slice2],\n",
        "       simple_regret_exact_8[slice2],\n",
        "       simple_regret_exact_9[slice2],\n",
        "       simple_regret_exact_10[slice2],\n",
        "       simple_regret_exact_11[slice2],\n",
        "       simple_regret_exact_12[slice2],\n",
        "       simple_regret_exact_13[slice2],\n",
        "       simple_regret_exact_14[slice2],\n",
        "       simple_regret_exact_15[slice2],\n",
        "       simple_regret_exact_16[slice2],\n",
        "       simple_regret_exact_17[slice2],\n",
        "       simple_regret_exact_18[slice2],\n",
        "       simple_regret_exact_19[slice2],\n",
        "       simple_regret_exact_20[slice2]]\n",
        "\n",
        "approx2_results = pd.DataFrame(approx2).sort_values(by=[0], ascending=False)\n",
        "exact2_results = pd.DataFrame(exact2).sort_values(by=[0], ascending=False)\n",
        "\n",
        "### Best simple regret minimization IQR - approx:\n",
        "lower_approx2 = np.asarray(approx2_results[4:5][0])[0]\n",
        "median_approx2 = np.asarray(approx2_results[9:10][0])[0]\n",
        "upper_approx2 = np.asarray(approx2_results[14:15][0])[0]\n",
        "\n",
        "lower_exact2 = np.asarray(exact2_results[4:5][0])[0]\n",
        "median_exact2 = np.asarray(exact2_results[9:10][0])[0]\n",
        "upper_exact2 = np.asarray(exact2_results[14:15][0])[0]"
      ],
      "execution_count": 79,
      "outputs": []
    },
    {
      "cell_type": "code",
      "metadata": {
        "id": "ilHQoAhBJhBd"
      },
      "source": [
        "# Iteration12 :\n",
        "\n",
        "slice12 = 11\n",
        "\n",
        "approx12 = [simple_regret_approx_1[slice12],\n",
        "       simple_regret_approx_2[slice12],\n",
        "       simple_regret_approx_3[slice12],\n",
        "       simple_regret_approx_4[slice12],\n",
        "       simple_regret_approx_5[slice12],\n",
        "       simple_regret_approx_6[slice12],\n",
        "       simple_regret_approx_7[slice12],\n",
        "       simple_regret_approx_8[slice12],\n",
        "       simple_regret_approx_9[slice12],\n",
        "       simple_regret_approx_10[slice12],\n",
        "       simple_regret_approx_11[slice12],\n",
        "       simple_regret_approx_12[slice12],\n",
        "       simple_regret_approx_13[slice12],\n",
        "       simple_regret_approx_14[slice12],\n",
        "       simple_regret_approx_15[slice12],\n",
        "       simple_regret_approx_16[slice12],\n",
        "       simple_regret_approx_17[slice12],\n",
        "       simple_regret_approx_18[slice12],\n",
        "       simple_regret_approx_19[slice12],\n",
        "       simple_regret_approx_20[slice12]]\n",
        "\n",
        "exact12 = [simple_regret_exact_1[slice12],\n",
        "       simple_regret_exact_2[slice12],\n",
        "       simple_regret_exact_3[slice12],\n",
        "       simple_regret_exact_4[slice12],\n",
        "       simple_regret_exact_5[slice12],\n",
        "       simple_regret_exact_6[slice12],\n",
        "       simple_regret_exact_7[slice12],\n",
        "       simple_regret_exact_8[slice12],\n",
        "       simple_regret_exact_9[slice12],\n",
        "       simple_regret_exact_10[slice12],\n",
        "       simple_regret_exact_11[slice12],\n",
        "       simple_regret_exact_12[slice12],\n",
        "       simple_regret_exact_13[slice12],\n",
        "       simple_regret_exact_14[slice12],\n",
        "       simple_regret_exact_15[slice12],\n",
        "       simple_regret_exact_16[slice12],\n",
        "       simple_regret_exact_17[slice12],\n",
        "       simple_regret_exact_18[slice12],\n",
        "       simple_regret_exact_19[slice12],\n",
        "       simple_regret_exact_20[slice12]]\n",
        "\n",
        "approx12_results = pd.DataFrame(approx12).sort_values(by=[0], ascending=False)\n",
        "exact12_results = pd.DataFrame(exact12).sort_values(by=[0], ascending=False)\n",
        "\n",
        "### Best simple regret minimization IQR - approx:\n",
        "lower_approx12 = np.asarray(approx12_results[4:5][0])[0]\n",
        "median_approx12 = np.asarray(approx12_results[9:10][0])[0]\n",
        "upper_approx12 = np.asarray(approx12_results[14:15][0])[0]\n",
        "\n",
        "lower_exact12 = np.asarray(exact12_results[4:5][0])[0]\n",
        "median_exact12 = np.asarray(exact12_results[9:10][0])[0]\n",
        "upper_exact12 = np.asarray(exact12_results[14:15][0])[0]"
      ],
      "execution_count": 80,
      "outputs": []
    },
    {
      "cell_type": "code",
      "metadata": {
        "id": "H13IwWE5axxK"
      },
      "source": [
        "# Iteration22 :\n",
        "\n",
        "slice22 = 21\n",
        "\n",
        "approx22 = [simple_regret_approx_1[slice22],\n",
        "       simple_regret_approx_2[slice22],\n",
        "       simple_regret_approx_3[slice22],\n",
        "       simple_regret_approx_4[slice22],\n",
        "       simple_regret_approx_5[slice22],\n",
        "       simple_regret_approx_6[slice22],\n",
        "       simple_regret_approx_7[slice22],\n",
        "       simple_regret_approx_8[slice22],\n",
        "       simple_regret_approx_9[slice22],\n",
        "       simple_regret_approx_10[slice22],\n",
        "       simple_regret_approx_11[slice22],\n",
        "       simple_regret_approx_12[slice22],\n",
        "       simple_regret_approx_13[slice22],\n",
        "       simple_regret_approx_14[slice22],\n",
        "       simple_regret_approx_15[slice22],\n",
        "       simple_regret_approx_16[slice22],\n",
        "       simple_regret_approx_17[slice22],\n",
        "       simple_regret_approx_18[slice22],\n",
        "       simple_regret_approx_19[slice22],\n",
        "       simple_regret_approx_20[slice22]]\n",
        "\n",
        "exact22 = [simple_regret_exact_1[slice22],\n",
        "       simple_regret_exact_2[slice22],\n",
        "       simple_regret_exact_3[slice22],\n",
        "       simple_regret_exact_4[slice22],\n",
        "       simple_regret_exact_5[slice22],\n",
        "       simple_regret_exact_6[slice22],\n",
        "       simple_regret_exact_7[slice22],\n",
        "       simple_regret_exact_8[slice22],\n",
        "       simple_regret_exact_9[slice22],\n",
        "       simple_regret_exact_10[slice22],\n",
        "       simple_regret_exact_11[slice22],\n",
        "       simple_regret_exact_12[slice22],\n",
        "       simple_regret_exact_13[slice22],\n",
        "       simple_regret_exact_14[slice22],\n",
        "       simple_regret_exact_15[slice22],\n",
        "       simple_regret_exact_16[slice22],\n",
        "       simple_regret_exact_17[slice22],\n",
        "       simple_regret_exact_18[slice22],\n",
        "       simple_regret_exact_19[slice22],\n",
        "       simple_regret_exact_20[slice22]]\n",
        "\n",
        "approx22_results = pd.DataFrame(approx22).sort_values(by=[0], ascending=False)\n",
        "exact22_results = pd.DataFrame(exact22).sort_values(by=[0], ascending=False)\n",
        "\n",
        "### Best simple regret minimization IQR - approx:\n",
        "lower_approx22 = np.asarray(approx22_results[4:5][0])[0]\n",
        "median_approx22 = np.asarray(approx22_results[9:10][0])[0]\n",
        "upper_approx22 = np.asarray(approx22_results[14:15][0])[0]\n",
        "\n",
        "lower_exact22 = np.asarray(exact22_results[4:5][0])[0]\n",
        "median_exact22 = np.asarray(exact22_results[9:10][0])[0]\n",
        "upper_exact22 = np.asarray(exact22_results[14:15][0])[0]"
      ],
      "execution_count": 81,
      "outputs": []
    },
    {
      "cell_type": "code",
      "metadata": {
        "id": "bGJ_fhZ7JhBe"
      },
      "source": [
        "# Iteration3 :\n",
        "\n",
        "slice3 = 2\n",
        "\n",
        "approx3 = [simple_regret_approx_1[slice3],\n",
        "       simple_regret_approx_2[slice3],\n",
        "       simple_regret_approx_3[slice3],\n",
        "       simple_regret_approx_4[slice3],\n",
        "       simple_regret_approx_5[slice3],\n",
        "       simple_regret_approx_6[slice3],\n",
        "       simple_regret_approx_7[slice3],\n",
        "       simple_regret_approx_8[slice3],\n",
        "       simple_regret_approx_9[slice3],\n",
        "       simple_regret_approx_10[slice3],\n",
        "       simple_regret_approx_11[slice3],\n",
        "       simple_regret_approx_12[slice3],\n",
        "       simple_regret_approx_13[slice3],\n",
        "       simple_regret_approx_14[slice3],\n",
        "       simple_regret_approx_15[slice3],\n",
        "       simple_regret_approx_16[slice3],\n",
        "       simple_regret_approx_17[slice3],\n",
        "       simple_regret_approx_18[slice3],\n",
        "       simple_regret_approx_19[slice3],\n",
        "       simple_regret_approx_20[slice3]]\n",
        "\n",
        "exact3 = [simple_regret_exact_1[slice3],\n",
        "       simple_regret_exact_2[slice3],\n",
        "       simple_regret_exact_3[slice3],\n",
        "       simple_regret_exact_4[slice3],\n",
        "       simple_regret_exact_5[slice3],\n",
        "       simple_regret_exact_6[slice3],\n",
        "       simple_regret_exact_7[slice3],\n",
        "       simple_regret_exact_8[slice3],\n",
        "       simple_regret_exact_9[slice3],\n",
        "       simple_regret_exact_10[slice3],\n",
        "       simple_regret_exact_11[slice3],\n",
        "       simple_regret_exact_12[slice3],\n",
        "       simple_regret_exact_13[slice3],\n",
        "       simple_regret_exact_14[slice3],\n",
        "       simple_regret_exact_15[slice3],\n",
        "       simple_regret_exact_16[slice3],\n",
        "       simple_regret_exact_17[slice3],\n",
        "       simple_regret_exact_18[slice3],\n",
        "       simple_regret_exact_19[slice3],\n",
        "       simple_regret_exact_20[slice3]]\n",
        "\n",
        "approx3_results = pd.DataFrame(approx3).sort_values(by=[0], ascending=False)\n",
        "exact3_results = pd.DataFrame(exact3).sort_values(by=[0], ascending=False)\n",
        "\n",
        "### Best simple regret minimization IQR - approx:\n",
        "lower_approx3 = np.asarray(approx3_results[4:5][0])[0]\n",
        "median_approx3 = np.asarray(approx3_results[9:10][0])[0]\n",
        "upper_approx3 = np.asarray(approx3_results[14:15][0])[0]\n",
        "\n",
        "lower_exact3 = np.asarray(exact3_results[4:5][0])[0]\n",
        "median_exact3 = np.asarray(exact3_results[9:10][0])[0]\n",
        "upper_exact3 = np.asarray(exact3_results[14:15][0])[0]"
      ],
      "execution_count": 82,
      "outputs": []
    },
    {
      "cell_type": "code",
      "metadata": {
        "id": "jUpV9Q1LJhBe"
      },
      "source": [
        "# Iteration13 :\n",
        "\n",
        "slice13 = 12\n",
        "\n",
        "approx13 = [simple_regret_approx_1[slice13],\n",
        "       simple_regret_approx_2[slice13],\n",
        "       simple_regret_approx_3[slice13],\n",
        "       simple_regret_approx_4[slice13],\n",
        "       simple_regret_approx_5[slice13],\n",
        "       simple_regret_approx_6[slice13],\n",
        "       simple_regret_approx_7[slice13],\n",
        "       simple_regret_approx_8[slice13],\n",
        "       simple_regret_approx_9[slice13],\n",
        "       simple_regret_approx_10[slice13],\n",
        "       simple_regret_approx_11[slice13],\n",
        "       simple_regret_approx_12[slice13],\n",
        "       simple_regret_approx_13[slice13],\n",
        "       simple_regret_approx_14[slice13],\n",
        "       simple_regret_approx_15[slice13],\n",
        "       simple_regret_approx_16[slice13],\n",
        "       simple_regret_approx_17[slice13],\n",
        "       simple_regret_approx_18[slice13],\n",
        "       simple_regret_approx_19[slice13],\n",
        "       simple_regret_approx_20[slice13]]\n",
        "\n",
        "exact13 = [simple_regret_exact_1[slice13],\n",
        "       simple_regret_exact_2[slice13],\n",
        "       simple_regret_exact_3[slice13],\n",
        "       simple_regret_exact_4[slice13],\n",
        "       simple_regret_exact_5[slice13],\n",
        "       simple_regret_exact_6[slice13],\n",
        "       simple_regret_exact_7[slice13],\n",
        "       simple_regret_exact_8[slice13],\n",
        "       simple_regret_exact_9[slice13],\n",
        "       simple_regret_exact_10[slice13],\n",
        "       simple_regret_exact_11[slice13],\n",
        "       simple_regret_exact_12[slice13],\n",
        "       simple_regret_exact_13[slice13],\n",
        "       simple_regret_exact_14[slice13],\n",
        "       simple_regret_exact_15[slice13],\n",
        "       simple_regret_exact_16[slice13],\n",
        "       simple_regret_exact_17[slice13],\n",
        "       simple_regret_exact_18[slice13],\n",
        "       simple_regret_exact_19[slice13],\n",
        "       simple_regret_exact_20[slice13]]\n",
        "\n",
        "approx13_results = pd.DataFrame(approx13).sort_values(by=[0], ascending=False)\n",
        "exact13_results = pd.DataFrame(exact13).sort_values(by=[0], ascending=False)\n",
        "\n",
        "### Best simple regret minimization IQR - approx:\n",
        "lower_approx13 = np.asarray(approx13_results[4:5][0])[0]\n",
        "median_approx13 = np.asarray(approx13_results[9:10][0])[0]\n",
        "upper_approx13 = np.asarray(approx13_results[14:15][0])[0]\n",
        "\n",
        "lower_exact13 = np.asarray(exact13_results[4:5][0])[0]\n",
        "median_exact13 = np.asarray(exact13_results[9:10][0])[0]\n",
        "upper_exact13 = np.asarray(exact13_results[14:15][0])[0]"
      ],
      "execution_count": 83,
      "outputs": []
    },
    {
      "cell_type": "code",
      "metadata": {
        "id": "ql0sW6uwbZ2w"
      },
      "source": [
        "# Iteration23 :\n",
        "\n",
        "slice23 = 22\n",
        "\n",
        "approx23 = [simple_regret_approx_1[slice23],\n",
        "       simple_regret_approx_2[slice23],\n",
        "       simple_regret_approx_3[slice23],\n",
        "       simple_regret_approx_4[slice23],\n",
        "       simple_regret_approx_5[slice23],\n",
        "       simple_regret_approx_6[slice23],\n",
        "       simple_regret_approx_7[slice23],\n",
        "       simple_regret_approx_8[slice23],\n",
        "       simple_regret_approx_9[slice23],\n",
        "       simple_regret_approx_10[slice23],\n",
        "       simple_regret_approx_11[slice23],\n",
        "       simple_regret_approx_12[slice23],\n",
        "       simple_regret_approx_13[slice23],\n",
        "       simple_regret_approx_14[slice23],\n",
        "       simple_regret_approx_15[slice23],\n",
        "       simple_regret_approx_16[slice23],\n",
        "       simple_regret_approx_17[slice23],\n",
        "       simple_regret_approx_18[slice23],\n",
        "       simple_regret_approx_19[slice23],\n",
        "       simple_regret_approx_20[slice23]]\n",
        "\n",
        "exact23 = [simple_regret_exact_1[slice23],\n",
        "       simple_regret_exact_2[slice23],\n",
        "       simple_regret_exact_3[slice23],\n",
        "       simple_regret_exact_4[slice23],\n",
        "       simple_regret_exact_5[slice23],\n",
        "       simple_regret_exact_6[slice23],\n",
        "       simple_regret_exact_7[slice23],\n",
        "       simple_regret_exact_8[slice23],\n",
        "       simple_regret_exact_9[slice23],\n",
        "       simple_regret_exact_10[slice23],\n",
        "       simple_regret_exact_11[slice23],\n",
        "       simple_regret_exact_12[slice23],\n",
        "       simple_regret_exact_13[slice23],\n",
        "       simple_regret_exact_14[slice23],\n",
        "       simple_regret_exact_15[slice23],\n",
        "       simple_regret_exact_16[slice23],\n",
        "       simple_regret_exact_17[slice23],\n",
        "       simple_regret_exact_18[slice23],\n",
        "       simple_regret_exact_19[slice23],\n",
        "       simple_regret_exact_20[slice23]]\n",
        "\n",
        "approx23_results = pd.DataFrame(approx23).sort_values(by=[0], ascending=False)\n",
        "exact23_results = pd.DataFrame(exact23).sort_values(by=[0], ascending=False)\n",
        "\n",
        "### Best simple regret minimization IQR - approx:\n",
        "lower_approx23 = np.asarray(approx23_results[4:5][0])[0]\n",
        "median_approx23 = np.asarray(approx23_results[9:10][0])[0]\n",
        "upper_approx23 = np.asarray(approx23_results[14:15][0])[0]\n",
        "\n",
        "lower_exact23 = np.asarray(exact23_results[4:5][0])[0]\n",
        "median_exact23 = np.asarray(exact23_results[9:10][0])[0]\n",
        "upper_exact23 = np.asarray(exact23_results[14:15][0])[0]"
      ],
      "execution_count": 84,
      "outputs": []
    },
    {
      "cell_type": "code",
      "metadata": {
        "id": "ZD6EnITCJhBf"
      },
      "source": [
        "# Iteration4 :\n",
        "\n",
        "slice4 = 3\n",
        "\n",
        "approx4 = [simple_regret_approx_1[slice4],\n",
        "       simple_regret_approx_2[slice4],\n",
        "       simple_regret_approx_3[slice4],\n",
        "       simple_regret_approx_4[slice4],\n",
        "       simple_regret_approx_5[slice4],\n",
        "       simple_regret_approx_6[slice4],\n",
        "       simple_regret_approx_7[slice4],\n",
        "       simple_regret_approx_8[slice4],\n",
        "       simple_regret_approx_9[slice4],\n",
        "       simple_regret_approx_10[slice4],\n",
        "       simple_regret_approx_11[slice4],\n",
        "       simple_regret_approx_12[slice4],\n",
        "       simple_regret_approx_13[slice4],\n",
        "       simple_regret_approx_14[slice4],\n",
        "       simple_regret_approx_15[slice4],\n",
        "       simple_regret_approx_16[slice4],\n",
        "       simple_regret_approx_17[slice4],\n",
        "       simple_regret_approx_18[slice4],\n",
        "       simple_regret_approx_19[slice4],\n",
        "       simple_regret_approx_20[slice4]]\n",
        "\n",
        "exact4 = [simple_regret_exact_1[slice4],\n",
        "       simple_regret_exact_2[slice4],\n",
        "       simple_regret_exact_3[slice4],\n",
        "       simple_regret_exact_4[slice4],\n",
        "       simple_regret_exact_5[slice4],\n",
        "       simple_regret_exact_6[slice4],\n",
        "       simple_regret_exact_7[slice4],\n",
        "       simple_regret_exact_8[slice4],\n",
        "       simple_regret_exact_9[slice4],\n",
        "       simple_regret_exact_10[slice4],\n",
        "       simple_regret_exact_11[slice4],\n",
        "       simple_regret_exact_12[slice4],\n",
        "       simple_regret_exact_13[slice4],\n",
        "       simple_regret_exact_14[slice4],\n",
        "       simple_regret_exact_15[slice4],\n",
        "       simple_regret_exact_16[slice4],\n",
        "       simple_regret_exact_17[slice4],\n",
        "       simple_regret_exact_18[slice4],\n",
        "       simple_regret_exact_19[slice4],\n",
        "       simple_regret_exact_20[slice4]]\n",
        "\n",
        "approx4_results = pd.DataFrame(approx4).sort_values(by=[0], ascending=False)\n",
        "exact4_results = pd.DataFrame(exact4).sort_values(by=[0], ascending=False)\n",
        "\n",
        "### Best simple regret minimization IQR - approx:\n",
        "lower_approx4 = np.asarray(approx4_results[4:5][0])[0]\n",
        "median_approx4 = np.asarray(approx4_results[9:10][0])[0]\n",
        "upper_approx4 = np.asarray(approx4_results[14:15][0])[0]\n",
        "\n",
        "lower_exact4 = np.asarray(exact4_results[4:5][0])[0]\n",
        "median_exact4 = np.asarray(exact4_results[9:10][0])[0]\n",
        "upper_exact4 = np.asarray(exact4_results[14:15][0])[0]"
      ],
      "execution_count": 85,
      "outputs": []
    },
    {
      "cell_type": "code",
      "metadata": {
        "id": "EpaLyNtBJhBg"
      },
      "source": [
        "# Iteration14 :\n",
        "\n",
        "slice14 = 13\n",
        "\n",
        "approx14 = [simple_regret_approx_1[slice14],\n",
        "       simple_regret_approx_2[slice14],\n",
        "       simple_regret_approx_3[slice14],\n",
        "       simple_regret_approx_4[slice14],\n",
        "       simple_regret_approx_5[slice14],\n",
        "       simple_regret_approx_6[slice14],\n",
        "       simple_regret_approx_7[slice14],\n",
        "       simple_regret_approx_8[slice14],\n",
        "       simple_regret_approx_9[slice14],\n",
        "       simple_regret_approx_10[slice14],\n",
        "       simple_regret_approx_11[slice14],\n",
        "       simple_regret_approx_12[slice14],\n",
        "       simple_regret_approx_13[slice14],\n",
        "       simple_regret_approx_14[slice14],\n",
        "       simple_regret_approx_15[slice14],\n",
        "       simple_regret_approx_16[slice14],\n",
        "       simple_regret_approx_17[slice14],\n",
        "       simple_regret_approx_18[slice14],\n",
        "       simple_regret_approx_19[slice14],\n",
        "       simple_regret_approx_20[slice14]]\n",
        "\n",
        "exact14 = [simple_regret_exact_1[slice14],\n",
        "       simple_regret_exact_2[slice14],\n",
        "       simple_regret_exact_3[slice14],\n",
        "       simple_regret_exact_4[slice14],\n",
        "       simple_regret_exact_5[slice14],\n",
        "       simple_regret_exact_6[slice14],\n",
        "       simple_regret_exact_7[slice14],\n",
        "       simple_regret_exact_8[slice14],\n",
        "       simple_regret_exact_9[slice14],\n",
        "       simple_regret_exact_10[slice14],\n",
        "       simple_regret_exact_11[slice14],\n",
        "       simple_regret_exact_12[slice14],\n",
        "       simple_regret_exact_13[slice14],\n",
        "       simple_regret_exact_14[slice14],\n",
        "       simple_regret_exact_15[slice14],\n",
        "       simple_regret_exact_16[slice14],\n",
        "       simple_regret_exact_17[slice14],\n",
        "       simple_regret_exact_18[slice14],\n",
        "       simple_regret_exact_19[slice14],\n",
        "       simple_regret_exact_20[slice14]]\n",
        "\n",
        "approx14_results = pd.DataFrame(approx14).sort_values(by=[0], ascending=False)\n",
        "exact14_results = pd.DataFrame(exact14).sort_values(by=[0], ascending=False)\n",
        "\n",
        "### Best simple regret minimization IQR - approx:\n",
        "lower_approx14 = np.asarray(approx14_results[4:5][0])[0]\n",
        "median_approx14 = np.asarray(approx14_results[9:10][0])[0]\n",
        "upper_approx14 = np.asarray(approx14_results[14:15][0])[0]\n",
        "\n",
        "lower_exact14 = np.asarray(exact14_results[4:5][0])[0]\n",
        "median_exact14 = np.asarray(exact14_results[9:10][0])[0]\n",
        "upper_exact14 = np.asarray(exact14_results[14:15][0])[0]"
      ],
      "execution_count": 86,
      "outputs": []
    },
    {
      "cell_type": "code",
      "metadata": {
        "id": "R9whJAg4b6L6"
      },
      "source": [
        "# Iteration24 :\n",
        "\n",
        "slice24 = 23\n",
        "\n",
        "approx24 = [simple_regret_approx_1[slice24],\n",
        "       simple_regret_approx_2[slice24],\n",
        "       simple_regret_approx_3[slice24],\n",
        "       simple_regret_approx_4[slice24],\n",
        "       simple_regret_approx_5[slice24],\n",
        "       simple_regret_approx_6[slice24],\n",
        "       simple_regret_approx_7[slice24],\n",
        "       simple_regret_approx_8[slice24],\n",
        "       simple_regret_approx_9[slice24],\n",
        "       simple_regret_approx_10[slice24],\n",
        "       simple_regret_approx_11[slice24],\n",
        "       simple_regret_approx_12[slice24],\n",
        "       simple_regret_approx_13[slice24],\n",
        "       simple_regret_approx_14[slice24],\n",
        "       simple_regret_approx_15[slice24],\n",
        "       simple_regret_approx_16[slice24],\n",
        "       simple_regret_approx_17[slice24],\n",
        "       simple_regret_approx_18[slice24],\n",
        "       simple_regret_approx_19[slice24],\n",
        "       simple_regret_approx_20[slice24]]\n",
        "\n",
        "exact24 = [simple_regret_exact_1[slice24],\n",
        "       simple_regret_exact_2[slice24],\n",
        "       simple_regret_exact_3[slice24],\n",
        "       simple_regret_exact_4[slice24],\n",
        "       simple_regret_exact_5[slice24],\n",
        "       simple_regret_exact_6[slice24],\n",
        "       simple_regret_exact_7[slice24],\n",
        "       simple_regret_exact_8[slice24],\n",
        "       simple_regret_exact_9[slice24],\n",
        "       simple_regret_exact_10[slice24],\n",
        "       simple_regret_exact_11[slice24],\n",
        "       simple_regret_exact_12[slice24],\n",
        "       simple_regret_exact_13[slice24],\n",
        "       simple_regret_exact_14[slice24],\n",
        "       simple_regret_exact_15[slice24],\n",
        "       simple_regret_exact_16[slice24],\n",
        "       simple_regret_exact_17[slice24],\n",
        "       simple_regret_exact_18[slice24],\n",
        "       simple_regret_exact_19[slice24],\n",
        "       simple_regret_exact_20[slice24]]\n",
        "\n",
        "approx24_results = pd.DataFrame(approx24).sort_values(by=[0], ascending=False)\n",
        "exact24_results = pd.DataFrame(exact24).sort_values(by=[0], ascending=False)\n",
        "\n",
        "### Best simple regret minimization IQR - approx:\n",
        "lower_approx24 = np.asarray(approx24_results[4:5][0])[0]\n",
        "median_approx24 = np.asarray(approx24_results[9:10][0])[0]\n",
        "upper_approx24 = np.asarray(approx24_results[14:15][0])[0]\n",
        "\n",
        "lower_exact24 = np.asarray(exact24_results[4:5][0])[0]\n",
        "median_exact24 = np.asarray(exact24_results[9:10][0])[0]\n",
        "upper_exact24 = np.asarray(exact24_results[14:15][0])[0]"
      ],
      "execution_count": 87,
      "outputs": []
    },
    {
      "cell_type": "code",
      "metadata": {
        "id": "WkaNBGB9JhBg"
      },
      "source": [
        "# Iteration5 :\n",
        "\n",
        "slice5 = 4\n",
        "\n",
        "approx5 = [simple_regret_approx_1[slice5],\n",
        "       simple_regret_approx_2[slice5],\n",
        "       simple_regret_approx_3[slice5],\n",
        "       simple_regret_approx_4[slice5],\n",
        "       simple_regret_approx_5[slice5],\n",
        "       simple_regret_approx_6[slice5],\n",
        "       simple_regret_approx_7[slice5],\n",
        "       simple_regret_approx_8[slice5],\n",
        "       simple_regret_approx_9[slice5],\n",
        "       simple_regret_approx_10[slice5],\n",
        "       simple_regret_approx_11[slice5],\n",
        "       simple_regret_approx_12[slice5],\n",
        "       simple_regret_approx_13[slice5],\n",
        "       simple_regret_approx_14[slice5],\n",
        "       simple_regret_approx_15[slice5],\n",
        "       simple_regret_approx_16[slice5],\n",
        "       simple_regret_approx_17[slice5],\n",
        "       simple_regret_approx_18[slice5],\n",
        "       simple_regret_approx_19[slice5],\n",
        "       simple_regret_approx_20[slice5]]\n",
        "\n",
        "exact5 = [simple_regret_exact_1[slice5],\n",
        "       simple_regret_exact_2[slice5],\n",
        "       simple_regret_exact_3[slice5],\n",
        "       simple_regret_exact_4[slice5],\n",
        "       simple_regret_exact_5[slice5],\n",
        "       simple_regret_exact_6[slice5],\n",
        "       simple_regret_exact_7[slice5],\n",
        "       simple_regret_exact_8[slice5],\n",
        "       simple_regret_exact_9[slice5],\n",
        "       simple_regret_exact_10[slice5],\n",
        "       simple_regret_exact_11[slice5],\n",
        "       simple_regret_exact_12[slice5],\n",
        "       simple_regret_exact_13[slice5],\n",
        "       simple_regret_exact_14[slice5],\n",
        "       simple_regret_exact_15[slice5],\n",
        "       simple_regret_exact_16[slice5],\n",
        "       simple_regret_exact_17[slice5],\n",
        "       simple_regret_exact_18[slice5],\n",
        "       simple_regret_exact_19[slice5],\n",
        "       simple_regret_exact_20[slice5]]\n",
        "\n",
        "approx5_results = pd.DataFrame(approx5).sort_values(by=[0], ascending=False)\n",
        "exact5_results = pd.DataFrame(exact5).sort_values(by=[0], ascending=False)\n",
        "\n",
        "### Best simple regret minimization IQR - approx:\n",
        "lower_approx5 = np.asarray(approx5_results[4:5][0])[0]\n",
        "median_approx5 = np.asarray(approx5_results[9:10][0])[0]\n",
        "upper_approx5 = np.asarray(approx5_results[14:15][0])[0]\n",
        "\n",
        "lower_exact5 = np.asarray(exact5_results[4:5][0])[0]\n",
        "median_exact5 = np.asarray(exact5_results[9:10][0])[0]\n",
        "upper_exact5 = np.asarray(exact5_results[14:15][0])[0]"
      ],
      "execution_count": 88,
      "outputs": []
    },
    {
      "cell_type": "code",
      "metadata": {
        "id": "tb9ICEuOJhBh"
      },
      "source": [
        "# Iteration15 :\n",
        "\n",
        "slice15 = 14\n",
        "\n",
        "approx15 = [simple_regret_approx_1[slice15],\n",
        "       simple_regret_approx_2[slice15],\n",
        "       simple_regret_approx_3[slice15],\n",
        "       simple_regret_approx_4[slice15],\n",
        "       simple_regret_approx_5[slice15],\n",
        "       simple_regret_approx_6[slice15],\n",
        "       simple_regret_approx_7[slice15],\n",
        "       simple_regret_approx_8[slice15],\n",
        "       simple_regret_approx_9[slice15],\n",
        "       simple_regret_approx_10[slice15],\n",
        "       simple_regret_approx_11[slice15],\n",
        "       simple_regret_approx_12[slice15],\n",
        "       simple_regret_approx_13[slice15],\n",
        "       simple_regret_approx_14[slice15],\n",
        "       simple_regret_approx_15[slice15],\n",
        "       simple_regret_approx_16[slice15],\n",
        "       simple_regret_approx_17[slice15],\n",
        "       simple_regret_approx_18[slice15],\n",
        "       simple_regret_approx_19[slice15],\n",
        "       simple_regret_approx_20[slice15]]\n",
        "\n",
        "exact15 = [simple_regret_exact_1[slice15],\n",
        "       simple_regret_exact_2[slice15],\n",
        "       simple_regret_exact_3[slice15],\n",
        "       simple_regret_exact_4[slice15],\n",
        "       simple_regret_exact_5[slice15],\n",
        "       simple_regret_exact_6[slice15],\n",
        "       simple_regret_exact_7[slice15],\n",
        "       simple_regret_exact_8[slice15],\n",
        "       simple_regret_exact_9[slice15],\n",
        "       simple_regret_exact_10[slice15],\n",
        "       simple_regret_exact_11[slice15],\n",
        "       simple_regret_exact_12[slice15],\n",
        "       simple_regret_exact_13[slice15],\n",
        "       simple_regret_exact_14[slice15],\n",
        "       simple_regret_exact_15[slice15],\n",
        "       simple_regret_exact_16[slice15],\n",
        "       simple_regret_exact_17[slice15],\n",
        "       simple_regret_exact_18[slice15],\n",
        "       simple_regret_exact_19[slice15],\n",
        "       simple_regret_exact_20[slice15]]\n",
        "\n",
        "approx15_results = pd.DataFrame(approx15).sort_values(by=[0], ascending=False)\n",
        "exact15_results = pd.DataFrame(exact15).sort_values(by=[0], ascending=False)\n",
        "\n",
        "### Best simple regret minimization IQR - approx:\n",
        "lower_approx15 = np.asarray(approx15_results[4:5][0])[0]\n",
        "median_approx15 = np.asarray(approx15_results[9:10][0])[0]\n",
        "upper_approx15 = np.asarray(approx15_results[14:15][0])[0]\n",
        "\n",
        "lower_exact15 = np.asarray(exact15_results[4:5][0])[0]\n",
        "median_exact15 = np.asarray(exact15_results[9:10][0])[0]\n",
        "upper_exact15 = np.asarray(exact15_results[14:15][0])[0]"
      ],
      "execution_count": 89,
      "outputs": []
    },
    {
      "cell_type": "code",
      "metadata": {
        "id": "OiDV2XD6cYAt"
      },
      "source": [
        "# Iteration25 :\n",
        "\n",
        "slice25 = 24\n",
        "\n",
        "approx25 = [simple_regret_approx_1[slice25],\n",
        "       simple_regret_approx_2[slice25],\n",
        "       simple_regret_approx_3[slice25],\n",
        "       simple_regret_approx_4[slice25],\n",
        "       simple_regret_approx_5[slice25],\n",
        "       simple_regret_approx_6[slice25],\n",
        "       simple_regret_approx_7[slice25],\n",
        "       simple_regret_approx_8[slice25],\n",
        "       simple_regret_approx_9[slice25],\n",
        "       simple_regret_approx_10[slice25],\n",
        "       simple_regret_approx_11[slice25],\n",
        "       simple_regret_approx_12[slice25],\n",
        "       simple_regret_approx_13[slice25],\n",
        "       simple_regret_approx_14[slice25],\n",
        "       simple_regret_approx_15[slice25],\n",
        "       simple_regret_approx_16[slice25],\n",
        "       simple_regret_approx_17[slice25],\n",
        "       simple_regret_approx_18[slice25],\n",
        "       simple_regret_approx_19[slice25],\n",
        "       simple_regret_approx_20[slice25]]\n",
        "\n",
        "exact25 = [simple_regret_exact_1[slice25],\n",
        "       simple_regret_exact_2[slice25],\n",
        "       simple_regret_exact_3[slice25],\n",
        "       simple_regret_exact_4[slice25],\n",
        "       simple_regret_exact_5[slice25],\n",
        "       simple_regret_exact_6[slice25],\n",
        "       simple_regret_exact_7[slice25],\n",
        "       simple_regret_exact_8[slice25],\n",
        "       simple_regret_exact_9[slice25],\n",
        "       simple_regret_exact_10[slice25],\n",
        "       simple_regret_exact_11[slice25],\n",
        "       simple_regret_exact_12[slice25],\n",
        "       simple_regret_exact_13[slice25],\n",
        "       simple_regret_exact_14[slice25],\n",
        "       simple_regret_exact_15[slice25],\n",
        "       simple_regret_exact_16[slice25],\n",
        "       simple_regret_exact_17[slice25],\n",
        "       simple_regret_exact_18[slice25],\n",
        "       simple_regret_exact_19[slice25],\n",
        "       simple_regret_exact_20[slice25]]\n",
        "\n",
        "approx25_results = pd.DataFrame(approx25).sort_values(by=[0], ascending=False)\n",
        "exact25_results = pd.DataFrame(exact25).sort_values(by=[0], ascending=False)\n",
        "\n",
        "### Best simple regret minimization IQR - approx:\n",
        "lower_approx25 = np.asarray(approx25_results[4:5][0])[0]\n",
        "median_approx25 = np.asarray(approx25_results[9:10][0])[0]\n",
        "upper_approx25 = np.asarray(approx25_results[14:15][0])[0]\n",
        "\n",
        "lower_exact25 = np.asarray(exact25_results[4:5][0])[0]\n",
        "median_exact25 = np.asarray(exact25_results[9:10][0])[0]\n",
        "upper_exact25 = np.asarray(exact25_results[14:15][0])[0]"
      ],
      "execution_count": 90,
      "outputs": []
    },
    {
      "cell_type": "code",
      "metadata": {
        "id": "tcoCxQrvJhBi"
      },
      "source": [
        "# Iteration6 :\n",
        "\n",
        "slice6 = 5\n",
        "\n",
        "approx6 = [simple_regret_approx_1[slice6],\n",
        "       simple_regret_approx_2[slice6],\n",
        "       simple_regret_approx_3[slice6],\n",
        "       simple_regret_approx_4[slice6],\n",
        "       simple_regret_approx_5[slice6],\n",
        "       simple_regret_approx_6[slice6],\n",
        "       simple_regret_approx_7[slice6],\n",
        "       simple_regret_approx_8[slice6],\n",
        "       simple_regret_approx_9[slice6],\n",
        "       simple_regret_approx_10[slice6],\n",
        "       simple_regret_approx_11[slice6],\n",
        "       simple_regret_approx_12[slice6],\n",
        "       simple_regret_approx_13[slice6],\n",
        "       simple_regret_approx_14[slice6],\n",
        "       simple_regret_approx_15[slice6],\n",
        "       simple_regret_approx_16[slice6],\n",
        "       simple_regret_approx_17[slice6],\n",
        "       simple_regret_approx_18[slice6],\n",
        "       simple_regret_approx_19[slice6],\n",
        "       simple_regret_approx_20[slice6]]\n",
        "\n",
        "exact6 = [simple_regret_exact_1[slice6],\n",
        "       simple_regret_exact_2[slice6],\n",
        "       simple_regret_exact_3[slice6],\n",
        "       simple_regret_exact_4[slice6],\n",
        "       simple_regret_exact_5[slice6],\n",
        "       simple_regret_exact_6[slice6],\n",
        "       simple_regret_exact_7[slice6],\n",
        "       simple_regret_exact_8[slice6],\n",
        "       simple_regret_exact_9[slice6],\n",
        "       simple_regret_exact_10[slice6],\n",
        "       simple_regret_exact_11[slice6],\n",
        "       simple_regret_exact_12[slice6],\n",
        "       simple_regret_exact_13[slice6],\n",
        "       simple_regret_exact_14[slice6],\n",
        "       simple_regret_exact_15[slice6],\n",
        "       simple_regret_exact_16[slice6],\n",
        "       simple_regret_exact_17[slice6],\n",
        "       simple_regret_exact_18[slice6],\n",
        "       simple_regret_exact_19[slice6],\n",
        "       simple_regret_exact_20[slice6]]\n",
        "\n",
        "approx6_results = pd.DataFrame(approx6).sort_values(by=[0], ascending=False)\n",
        "exact6_results = pd.DataFrame(exact6).sort_values(by=[0], ascending=False)\n",
        "\n",
        "### Best simple regret minimization IQR - approx:\n",
        "lower_approx6 = np.asarray(approx6_results[4:5][0])[0]\n",
        "median_approx6 = np.asarray(approx6_results[9:10][0])[0]\n",
        "upper_approx6 = np.asarray(approx6_results[14:15][0])[0]\n",
        "\n",
        "lower_exact6 = np.asarray(exact6_results[4:5][0])[0]\n",
        "median_exact6 = np.asarray(exact6_results[9:10][0])[0]\n",
        "upper_exact6 = np.asarray(exact6_results[14:15][0])[0]"
      ],
      "execution_count": 91,
      "outputs": []
    },
    {
      "cell_type": "code",
      "metadata": {
        "id": "bM_uWU2HJhBi"
      },
      "source": [
        "# Iteration16 :\n",
        "\n",
        "slice16 = 15\n",
        "\n",
        "approx16 = [simple_regret_approx_1[slice16],\n",
        "       simple_regret_approx_2[slice16],\n",
        "       simple_regret_approx_3[slice16],\n",
        "       simple_regret_approx_4[slice16],\n",
        "       simple_regret_approx_5[slice16],\n",
        "       simple_regret_approx_6[slice16],\n",
        "       simple_regret_approx_7[slice16],\n",
        "       simple_regret_approx_8[slice16],\n",
        "       simple_regret_approx_9[slice16],\n",
        "       simple_regret_approx_10[slice16],\n",
        "       simple_regret_approx_11[slice16],\n",
        "       simple_regret_approx_12[slice16],\n",
        "       simple_regret_approx_13[slice16],\n",
        "       simple_regret_approx_14[slice16],\n",
        "       simple_regret_approx_15[slice16],\n",
        "       simple_regret_approx_16[slice16],\n",
        "       simple_regret_approx_17[slice16],\n",
        "       simple_regret_approx_18[slice16],\n",
        "       simple_regret_approx_19[slice16],\n",
        "       simple_regret_approx_20[slice16]]\n",
        "\n",
        "exact16 = [simple_regret_exact_1[slice16],\n",
        "       simple_regret_exact_2[slice16],\n",
        "       simple_regret_exact_3[slice16],\n",
        "       simple_regret_exact_4[slice16],\n",
        "       simple_regret_exact_5[slice16],\n",
        "       simple_regret_exact_6[slice16],\n",
        "       simple_regret_exact_7[slice16],\n",
        "       simple_regret_exact_8[slice16],\n",
        "       simple_regret_exact_9[slice16],\n",
        "       simple_regret_exact_10[slice16],\n",
        "       simple_regret_exact_11[slice16],\n",
        "       simple_regret_exact_12[slice16],\n",
        "       simple_regret_exact_13[slice16],\n",
        "       simple_regret_exact_14[slice16],\n",
        "       simple_regret_exact_15[slice16],\n",
        "       simple_regret_exact_16[slice16],\n",
        "       simple_regret_exact_17[slice16],\n",
        "       simple_regret_exact_18[slice16],\n",
        "       simple_regret_exact_19[slice16],\n",
        "       simple_regret_exact_20[slice16]]\n",
        "\n",
        "approx16_results = pd.DataFrame(approx16).sort_values(by=[0], ascending=False)\n",
        "exact16_results = pd.DataFrame(exact16).sort_values(by=[0], ascending=False)\n",
        "\n",
        "### Best simple regret minimization IQR - approx:\n",
        "lower_approx16 = np.asarray(approx16_results[4:5][0])[0]\n",
        "median_approx16 = np.asarray(approx16_results[9:10][0])[0]\n",
        "upper_approx16 = np.asarray(approx16_results[14:15][0])[0]\n",
        "\n",
        "lower_exact16 = np.asarray(exact16_results[4:5][0])[0]\n",
        "median_exact16 = np.asarray(exact16_results[9:10][0])[0]\n",
        "upper_exact16 = np.asarray(exact16_results[14:15][0])[0]"
      ],
      "execution_count": 92,
      "outputs": []
    },
    {
      "cell_type": "code",
      "metadata": {
        "id": "LJTTDX12cs-4"
      },
      "source": [
        "# Iteration26 :\n",
        "\n",
        "slice26 = 25\n",
        "\n",
        "approx26 = [simple_regret_approx_1[slice26],\n",
        "       simple_regret_approx_2[slice26],\n",
        "       simple_regret_approx_3[slice26],\n",
        "       simple_regret_approx_4[slice26],\n",
        "       simple_regret_approx_5[slice26],\n",
        "       simple_regret_approx_6[slice26],\n",
        "       simple_regret_approx_7[slice26],\n",
        "       simple_regret_approx_8[slice26],\n",
        "       simple_regret_approx_9[slice26],\n",
        "       simple_regret_approx_10[slice26],\n",
        "       simple_regret_approx_11[slice26],\n",
        "       simple_regret_approx_12[slice26],\n",
        "       simple_regret_approx_13[slice26],\n",
        "       simple_regret_approx_14[slice26],\n",
        "       simple_regret_approx_15[slice26],\n",
        "       simple_regret_approx_16[slice26],\n",
        "       simple_regret_approx_17[slice26],\n",
        "       simple_regret_approx_18[slice26],\n",
        "       simple_regret_approx_19[slice26],\n",
        "       simple_regret_approx_20[slice26]]\n",
        "\n",
        "exact26 = [simple_regret_exact_1[slice26],\n",
        "       simple_regret_exact_2[slice26],\n",
        "       simple_regret_exact_3[slice26],\n",
        "       simple_regret_exact_4[slice26],\n",
        "       simple_regret_exact_5[slice26],\n",
        "       simple_regret_exact_6[slice26],\n",
        "       simple_regret_exact_7[slice26],\n",
        "       simple_regret_exact_8[slice26],\n",
        "       simple_regret_exact_9[slice26],\n",
        "       simple_regret_exact_10[slice26],\n",
        "       simple_regret_exact_11[slice26],\n",
        "       simple_regret_exact_12[slice26],\n",
        "       simple_regret_exact_13[slice26],\n",
        "       simple_regret_exact_14[slice26],\n",
        "       simple_regret_exact_15[slice26],\n",
        "       simple_regret_exact_16[slice26],\n",
        "       simple_regret_exact_17[slice26],\n",
        "       simple_regret_exact_18[slice26],\n",
        "       simple_regret_exact_19[slice26],\n",
        "       simple_regret_exact_20[slice26]]\n",
        "\n",
        "approx26_results = pd.DataFrame(approx26).sort_values(by=[0], ascending=False)\n",
        "exact26_results = pd.DataFrame(exact26).sort_values(by=[0], ascending=False)\n",
        "\n",
        "### Best simple regret minimization IQR - approx:\n",
        "lower_approx26 = np.asarray(approx26_results[4:5][0])[0]\n",
        "median_approx26 = np.asarray(approx26_results[9:10][0])[0]\n",
        "upper_approx26 = np.asarray(approx26_results[14:15][0])[0]\n",
        "\n",
        "lower_exact26 = np.asarray(exact26_results[4:5][0])[0]\n",
        "median_exact26 = np.asarray(exact26_results[9:10][0])[0]\n",
        "upper_exact26 = np.asarray(exact26_results[14:15][0])[0]"
      ],
      "execution_count": 93,
      "outputs": []
    },
    {
      "cell_type": "code",
      "metadata": {
        "id": "e7_CnIe5JhBj"
      },
      "source": [
        "# Iteration7 :\n",
        "\n",
        "slice7 = 6\n",
        "\n",
        "approx7 = [simple_regret_approx_1[slice7],\n",
        "       simple_regret_approx_2[slice7],\n",
        "       simple_regret_approx_3[slice7],\n",
        "       simple_regret_approx_4[slice7],\n",
        "       simple_regret_approx_5[slice7],\n",
        "       simple_regret_approx_6[slice7],\n",
        "       simple_regret_approx_7[slice7],\n",
        "       simple_regret_approx_8[slice7],\n",
        "       simple_regret_approx_9[slice7],\n",
        "       simple_regret_approx_10[slice7],\n",
        "       simple_regret_approx_11[slice7],\n",
        "       simple_regret_approx_12[slice7],\n",
        "       simple_regret_approx_13[slice7],\n",
        "       simple_regret_approx_14[slice7],\n",
        "       simple_regret_approx_15[slice7],\n",
        "       simple_regret_approx_16[slice7],\n",
        "       simple_regret_approx_17[slice7],\n",
        "       simple_regret_approx_18[slice7],\n",
        "       simple_regret_approx_19[slice7],\n",
        "       simple_regret_approx_20[slice7]]\n",
        "\n",
        "exact7 = [simple_regret_exact_1[slice7],\n",
        "       simple_regret_exact_2[slice7],\n",
        "       simple_regret_exact_3[slice7],\n",
        "       simple_regret_exact_4[slice7],\n",
        "       simple_regret_exact_5[slice7],\n",
        "       simple_regret_exact_6[slice7],\n",
        "       simple_regret_exact_7[slice7],\n",
        "       simple_regret_exact_8[slice7],\n",
        "       simple_regret_exact_9[slice7],\n",
        "       simple_regret_exact_10[slice7],\n",
        "       simple_regret_exact_11[slice7],\n",
        "       simple_regret_exact_12[slice7],\n",
        "       simple_regret_exact_13[slice7],\n",
        "       simple_regret_exact_14[slice7],\n",
        "       simple_regret_exact_15[slice7],\n",
        "       simple_regret_exact_16[slice7],\n",
        "       simple_regret_exact_17[slice7],\n",
        "       simple_regret_exact_18[slice7],\n",
        "       simple_regret_exact_19[slice7],\n",
        "       simple_regret_exact_20[slice7]]\n",
        "\n",
        "approx7_results = pd.DataFrame(approx7).sort_values(by=[0], ascending=False)\n",
        "exact7_results = pd.DataFrame(exact7).sort_values(by=[0], ascending=False)\n",
        "\n",
        "### Best simple regret minimization IQR - approx:\n",
        "lower_approx7 = np.asarray(approx7_results[4:5][0])[0]\n",
        "median_approx7 = np.asarray(approx7_results[9:10][0])[0]\n",
        "upper_approx7 = np.asarray(approx7_results[14:15][0])[0]\n",
        "\n",
        "lower_exact7 = np.asarray(exact7_results[4:5][0])[0]\n",
        "median_exact7 = np.asarray(exact7_results[9:10][0])[0]\n",
        "upper_exact7 = np.asarray(exact7_results[14:15][0])[0]"
      ],
      "execution_count": 94,
      "outputs": []
    },
    {
      "cell_type": "code",
      "metadata": {
        "id": "GfheCfteJhBk"
      },
      "source": [
        "# Iteration17 :\n",
        "\n",
        "slice17 = 16\n",
        "\n",
        "approx17 = [simple_regret_approx_1[slice17],\n",
        "       simple_regret_approx_2[slice17],\n",
        "       simple_regret_approx_3[slice17],\n",
        "       simple_regret_approx_4[slice17],\n",
        "       simple_regret_approx_5[slice17],\n",
        "       simple_regret_approx_6[slice17],\n",
        "       simple_regret_approx_7[slice17],\n",
        "       simple_regret_approx_8[slice17],\n",
        "       simple_regret_approx_9[slice17],\n",
        "       simple_regret_approx_10[slice17],\n",
        "       simple_regret_approx_11[slice17],\n",
        "       simple_regret_approx_12[slice17],\n",
        "       simple_regret_approx_13[slice17],\n",
        "       simple_regret_approx_14[slice17],\n",
        "       simple_regret_approx_15[slice17],\n",
        "       simple_regret_approx_16[slice17],\n",
        "       simple_regret_approx_17[slice17],\n",
        "       simple_regret_approx_18[slice17],\n",
        "       simple_regret_approx_19[slice17],\n",
        "       simple_regret_approx_20[slice17]]\n",
        "\n",
        "exact17 = [simple_regret_exact_1[slice17],\n",
        "       simple_regret_exact_2[slice17],\n",
        "       simple_regret_exact_3[slice17],\n",
        "       simple_regret_exact_4[slice17],\n",
        "       simple_regret_exact_5[slice17],\n",
        "       simple_regret_exact_6[slice17],\n",
        "       simple_regret_exact_7[slice17],\n",
        "       simple_regret_exact_8[slice17],\n",
        "       simple_regret_exact_9[slice17],\n",
        "       simple_regret_exact_10[slice17],\n",
        "       simple_regret_exact_11[slice17],\n",
        "       simple_regret_exact_12[slice17],\n",
        "       simple_regret_exact_13[slice17],\n",
        "       simple_regret_exact_14[slice17],\n",
        "       simple_regret_exact_15[slice17],\n",
        "       simple_regret_exact_16[slice17],\n",
        "       simple_regret_exact_17[slice17],\n",
        "       simple_regret_exact_18[slice17],\n",
        "       simple_regret_exact_19[slice17],\n",
        "       simple_regret_exact_20[slice17]]\n",
        "\n",
        "approx17_results = pd.DataFrame(approx17).sort_values(by=[0], ascending=False)\n",
        "exact17_results = pd.DataFrame(exact17).sort_values(by=[0], ascending=False)\n",
        "\n",
        "### Best simple regret minimization IQR - approx:\n",
        "lower_approx17 = np.asarray(approx17_results[4:5][0])[0]\n",
        "median_approx17 = np.asarray(approx17_results[9:10][0])[0]\n",
        "upper_approx17 = np.asarray(approx17_results[14:15][0])[0]\n",
        "\n",
        "lower_exact17 = np.asarray(exact17_results[4:5][0])[0]\n",
        "median_exact17 = np.asarray(exact17_results[9:10][0])[0]\n",
        "upper_exact17 = np.asarray(exact17_results[14:15][0])[0]"
      ],
      "execution_count": 95,
      "outputs": []
    },
    {
      "cell_type": "code",
      "metadata": {
        "id": "qLNJO_U1dE_Q"
      },
      "source": [
        "# Iteration27 :\n",
        "\n",
        "slice27 = 26\n",
        "\n",
        "approx27 = [simple_regret_approx_1[slice27],\n",
        "       simple_regret_approx_2[slice27],\n",
        "       simple_regret_approx_3[slice27],\n",
        "       simple_regret_approx_4[slice27],\n",
        "       simple_regret_approx_5[slice27],\n",
        "       simple_regret_approx_6[slice27],\n",
        "       simple_regret_approx_7[slice27],\n",
        "       simple_regret_approx_8[slice27],\n",
        "       simple_regret_approx_9[slice27],\n",
        "       simple_regret_approx_10[slice27],\n",
        "       simple_regret_approx_11[slice27],\n",
        "       simple_regret_approx_12[slice27],\n",
        "       simple_regret_approx_13[slice27],\n",
        "       simple_regret_approx_14[slice27],\n",
        "       simple_regret_approx_15[slice27],\n",
        "       simple_regret_approx_16[slice27],\n",
        "       simple_regret_approx_17[slice27],\n",
        "       simple_regret_approx_18[slice27],\n",
        "       simple_regret_approx_19[slice27],\n",
        "       simple_regret_approx_20[slice27]]\n",
        "\n",
        "exact27 = [simple_regret_exact_1[slice27],\n",
        "       simple_regret_exact_2[slice27],\n",
        "       simple_regret_exact_3[slice27],\n",
        "       simple_regret_exact_4[slice27],\n",
        "       simple_regret_exact_5[slice27],\n",
        "       simple_regret_exact_6[slice27],\n",
        "       simple_regret_exact_7[slice27],\n",
        "       simple_regret_exact_8[slice27],\n",
        "       simple_regret_exact_9[slice27],\n",
        "       simple_regret_exact_10[slice27],\n",
        "       simple_regret_exact_11[slice27],\n",
        "       simple_regret_exact_12[slice27],\n",
        "       simple_regret_exact_13[slice27],\n",
        "       simple_regret_exact_14[slice27],\n",
        "       simple_regret_exact_15[slice27],\n",
        "       simple_regret_exact_16[slice27],\n",
        "       simple_regret_exact_17[slice27],\n",
        "       simple_regret_exact_18[slice27],\n",
        "       simple_regret_exact_19[slice27],\n",
        "       simple_regret_exact_20[slice27]]\n",
        "\n",
        "approx27_results = pd.DataFrame(approx27).sort_values(by=[0], ascending=False)\n",
        "exact27_results = pd.DataFrame(exact27).sort_values(by=[0], ascending=False)\n",
        "\n",
        "### Best simple regret minimization IQR - approx:\n",
        "lower_approx27 = np.asarray(approx27_results[4:5][0])[0]\n",
        "median_approx27 = np.asarray(approx27_results[9:10][0])[0]\n",
        "upper_approx27 = np.asarray(approx27_results[14:15][0])[0]\n",
        "\n",
        "lower_exact27 = np.asarray(exact27_results[4:5][0])[0]\n",
        "median_exact27 = np.asarray(exact27_results[9:10][0])[0]\n",
        "upper_exact27 = np.asarray(exact27_results[14:15][0])[0]"
      ],
      "execution_count": 96,
      "outputs": []
    },
    {
      "cell_type": "code",
      "metadata": {
        "id": "zOm21ADKJhBl"
      },
      "source": [
        "# Iteration8 :\n",
        "\n",
        "slice8 = 7\n",
        "\n",
        "approx8 = [simple_regret_approx_1[slice8],\n",
        "       simple_regret_approx_2[slice8],\n",
        "       simple_regret_approx_3[slice8],\n",
        "       simple_regret_approx_4[slice8],\n",
        "       simple_regret_approx_5[slice8],\n",
        "       simple_regret_approx_6[slice8],\n",
        "       simple_regret_approx_7[slice8],\n",
        "       simple_regret_approx_8[slice8],\n",
        "       simple_regret_approx_9[slice8],\n",
        "       simple_regret_approx_10[slice8],\n",
        "       simple_regret_approx_11[slice8],\n",
        "       simple_regret_approx_12[slice8],\n",
        "       simple_regret_approx_13[slice8],\n",
        "       simple_regret_approx_14[slice8],\n",
        "       simple_regret_approx_15[slice8],\n",
        "       simple_regret_approx_16[slice8],\n",
        "       simple_regret_approx_17[slice8],\n",
        "       simple_regret_approx_18[slice8],\n",
        "       simple_regret_approx_19[slice8],\n",
        "       simple_regret_approx_20[slice8]]\n",
        "\n",
        "exact8 = [simple_regret_exact_1[slice8],\n",
        "       simple_regret_exact_2[slice8],\n",
        "       simple_regret_exact_3[slice8],\n",
        "       simple_regret_exact_4[slice8],\n",
        "       simple_regret_exact_5[slice8],\n",
        "       simple_regret_exact_6[slice8],\n",
        "       simple_regret_exact_7[slice8],\n",
        "       simple_regret_exact_8[slice8],\n",
        "       simple_regret_exact_9[slice8],\n",
        "       simple_regret_exact_10[slice8],\n",
        "       simple_regret_exact_11[slice8],\n",
        "       simple_regret_exact_12[slice8],\n",
        "       simple_regret_exact_13[slice8],\n",
        "       simple_regret_exact_14[slice8],\n",
        "       simple_regret_exact_15[slice8],\n",
        "       simple_regret_exact_16[slice8],\n",
        "       simple_regret_exact_17[slice8],\n",
        "       simple_regret_exact_18[slice8],\n",
        "       simple_regret_exact_19[slice8],\n",
        "       simple_regret_exact_20[slice8]]\n",
        "\n",
        "approx8_results = pd.DataFrame(approx8).sort_values(by=[0], ascending=False)\n",
        "exact8_results = pd.DataFrame(exact8).sort_values(by=[0], ascending=False)\n",
        "\n",
        "### Best simple regret minimization IQR - approx:\n",
        "lower_approx8 = np.asarray(approx8_results[4:5][0])[0]\n",
        "median_approx8 = np.asarray(approx8_results[9:10][0])[0]\n",
        "upper_approx8 = np.asarray(approx8_results[14:15][0])[0]\n",
        "\n",
        "lower_exact8 = np.asarray(exact8_results[4:5][0])[0]\n",
        "median_exact8 = np.asarray(exact8_results[9:10][0])[0]\n",
        "upper_exact8 = np.asarray(exact8_results[14:15][0])[0]"
      ],
      "execution_count": 97,
      "outputs": []
    },
    {
      "cell_type": "code",
      "metadata": {
        "id": "230iMI5jJhBl"
      },
      "source": [
        "# Iteration18 :\n",
        "\n",
        "slice18 = 17\n",
        "\n",
        "approx18 = [simple_regret_approx_1[slice18],\n",
        "       simple_regret_approx_2[slice18],\n",
        "       simple_regret_approx_3[slice18],\n",
        "       simple_regret_approx_4[slice18],\n",
        "       simple_regret_approx_5[slice18],\n",
        "       simple_regret_approx_6[slice18],\n",
        "       simple_regret_approx_7[slice18],\n",
        "       simple_regret_approx_8[slice18],\n",
        "       simple_regret_approx_9[slice18],\n",
        "       simple_regret_approx_10[slice18],\n",
        "       simple_regret_approx_11[slice18],\n",
        "       simple_regret_approx_12[slice18],\n",
        "       simple_regret_approx_13[slice18],\n",
        "       simple_regret_approx_14[slice18],\n",
        "       simple_regret_approx_15[slice18],\n",
        "       simple_regret_approx_16[slice18],\n",
        "       simple_regret_approx_17[slice18],\n",
        "       simple_regret_approx_18[slice18],\n",
        "       simple_regret_approx_19[slice18],\n",
        "       simple_regret_approx_20[slice18]]\n",
        "\n",
        "exact18 = [simple_regret_exact_1[slice18],\n",
        "       simple_regret_exact_2[slice18],\n",
        "       simple_regret_exact_3[slice18],\n",
        "       simple_regret_exact_4[slice18],\n",
        "       simple_regret_exact_5[slice18],\n",
        "       simple_regret_exact_6[slice18],\n",
        "       simple_regret_exact_7[slice18],\n",
        "       simple_regret_exact_8[slice18],\n",
        "       simple_regret_exact_9[slice18],\n",
        "       simple_regret_exact_10[slice18],\n",
        "       simple_regret_exact_11[slice18],\n",
        "       simple_regret_exact_12[slice18],\n",
        "       simple_regret_exact_13[slice18],\n",
        "       simple_regret_exact_14[slice18],\n",
        "       simple_regret_exact_15[slice18],\n",
        "       simple_regret_exact_16[slice18],\n",
        "       simple_regret_exact_17[slice18],\n",
        "       simple_regret_exact_18[slice18],\n",
        "       simple_regret_exact_19[slice18],\n",
        "       simple_regret_exact_20[slice18]]\n",
        "\n",
        "approx18_results = pd.DataFrame(approx18).sort_values(by=[0], ascending=False)\n",
        "exact18_results = pd.DataFrame(exact18).sort_values(by=[0], ascending=False)\n",
        "\n",
        "### Best simple regret minimization IQR - approx:\n",
        "lower_approx18 = np.asarray(approx18_results[4:5][0])[0]\n",
        "median_approx18 = np.asarray(approx18_results[9:10][0])[0]\n",
        "upper_approx18 = np.asarray(approx18_results[14:15][0])[0]\n",
        "\n",
        "lower_exact18 = np.asarray(exact18_results[4:5][0])[0]\n",
        "median_exact18 = np.asarray(exact18_results[9:10][0])[0]\n",
        "upper_exact18 = np.asarray(exact18_results[14:15][0])[0]"
      ],
      "execution_count": 98,
      "outputs": []
    },
    {
      "cell_type": "code",
      "metadata": {
        "id": "5KUd4afKdgT6"
      },
      "source": [
        "# Iteration28 :\n",
        "\n",
        "slice28 = 27\n",
        "\n",
        "approx28 = [simple_regret_approx_1[slice28],\n",
        "       simple_regret_approx_2[slice28],\n",
        "       simple_regret_approx_3[slice28],\n",
        "       simple_regret_approx_4[slice28],\n",
        "       simple_regret_approx_5[slice28],\n",
        "       simple_regret_approx_6[slice28],\n",
        "       simple_regret_approx_7[slice28],\n",
        "       simple_regret_approx_8[slice28],\n",
        "       simple_regret_approx_9[slice28],\n",
        "       simple_regret_approx_10[slice28],\n",
        "       simple_regret_approx_11[slice28],\n",
        "       simple_regret_approx_12[slice28],\n",
        "       simple_regret_approx_13[slice28],\n",
        "       simple_regret_approx_14[slice28],\n",
        "       simple_regret_approx_15[slice28],\n",
        "       simple_regret_approx_16[slice28],\n",
        "       simple_regret_approx_17[slice28],\n",
        "       simple_regret_approx_18[slice28],\n",
        "       simple_regret_approx_19[slice28],\n",
        "       simple_regret_approx_20[slice28]]\n",
        "\n",
        "exact28 = [simple_regret_exact_1[slice28],\n",
        "       simple_regret_exact_2[slice28],\n",
        "       simple_regret_exact_3[slice28],\n",
        "       simple_regret_exact_4[slice28],\n",
        "       simple_regret_exact_5[slice28],\n",
        "       simple_regret_exact_6[slice28],\n",
        "       simple_regret_exact_7[slice28],\n",
        "       simple_regret_exact_8[slice28],\n",
        "       simple_regret_exact_9[slice28],\n",
        "       simple_regret_exact_10[slice28],\n",
        "       simple_regret_exact_11[slice28],\n",
        "       simple_regret_exact_12[slice28],\n",
        "       simple_regret_exact_13[slice28],\n",
        "       simple_regret_exact_14[slice28],\n",
        "       simple_regret_exact_15[slice28],\n",
        "       simple_regret_exact_16[slice28],\n",
        "       simple_regret_exact_17[slice28],\n",
        "       simple_regret_exact_18[slice28],\n",
        "       simple_regret_exact_19[slice28],\n",
        "       simple_regret_exact_20[slice28]]\n",
        "\n",
        "approx28_results = pd.DataFrame(approx28).sort_values(by=[0], ascending=False)\n",
        "exact28_results = pd.DataFrame(exact28).sort_values(by=[0], ascending=False)\n",
        "\n",
        "### Best simple regret minimization IQR - approx:\n",
        "lower_approx28 = np.asarray(approx28_results[4:5][0])[0]\n",
        "median_approx28 = np.asarray(approx28_results[9:10][0])[0]\n",
        "upper_approx28 = np.asarray(approx28_results[14:15][0])[0]\n",
        "\n",
        "lower_exact28 = np.asarray(exact28_results[4:5][0])[0]\n",
        "median_exact28 = np.asarray(exact28_results[9:10][0])[0]\n",
        "upper_exact28 = np.asarray(exact28_results[14:15][0])[0]"
      ],
      "execution_count": 99,
      "outputs": []
    },
    {
      "cell_type": "code",
      "metadata": {
        "id": "AR2mg161JhBm"
      },
      "source": [
        "# Iteration9 :\n",
        "\n",
        "slice9 = 8\n",
        "\n",
        "approx9 = [simple_regret_approx_1[slice9],\n",
        "       simple_regret_approx_2[slice9],\n",
        "       simple_regret_approx_3[slice9],\n",
        "       simple_regret_approx_4[slice9],\n",
        "       simple_regret_approx_5[slice9],\n",
        "       simple_regret_approx_6[slice9],\n",
        "       simple_regret_approx_7[slice9],\n",
        "       simple_regret_approx_8[slice9],\n",
        "       simple_regret_approx_9[slice9],\n",
        "       simple_regret_approx_10[slice9],\n",
        "       simple_regret_approx_11[slice9],\n",
        "       simple_regret_approx_12[slice9],\n",
        "       simple_regret_approx_13[slice9],\n",
        "       simple_regret_approx_14[slice9],\n",
        "       simple_regret_approx_15[slice9],\n",
        "       simple_regret_approx_16[slice9],\n",
        "       simple_regret_approx_17[slice9],\n",
        "       simple_regret_approx_18[slice9],\n",
        "       simple_regret_approx_19[slice9],\n",
        "       simple_regret_approx_20[slice9]]\n",
        "\n",
        "exact9 = [simple_regret_exact_1[slice9],\n",
        "       simple_regret_exact_2[slice9],\n",
        "       simple_regret_exact_3[slice9],\n",
        "       simple_regret_exact_4[slice9],\n",
        "       simple_regret_exact_5[slice9],\n",
        "       simple_regret_exact_6[slice9],\n",
        "       simple_regret_exact_7[slice9],\n",
        "       simple_regret_exact_8[slice9],\n",
        "       simple_regret_exact_9[slice9],\n",
        "       simple_regret_exact_10[slice9],\n",
        "       simple_regret_exact_11[slice9],\n",
        "       simple_regret_exact_12[slice9],\n",
        "       simple_regret_exact_13[slice9],\n",
        "       simple_regret_exact_14[slice9],\n",
        "       simple_regret_exact_15[slice9],\n",
        "       simple_regret_exact_16[slice9],\n",
        "       simple_regret_exact_17[slice9],\n",
        "       simple_regret_exact_18[slice9],\n",
        "       simple_regret_exact_19[slice9],\n",
        "       simple_regret_exact_20[slice9]]\n",
        "\n",
        "approx9_results = pd.DataFrame(approx9).sort_values(by=[0], ascending=False)\n",
        "exact9_results = pd.DataFrame(exact9).sort_values(by=[0], ascending=False)\n",
        "\n",
        "### Best simple regret minimization IQR - approx:\n",
        "lower_approx9 = np.asarray(approx9_results[4:5][0])[0]\n",
        "median_approx9 = np.asarray(approx9_results[9:10][0])[0]\n",
        "upper_approx9 = np.asarray(approx9_results[14:15][0])[0]\n",
        "\n",
        "lower_exact9 = np.asarray(exact9_results[4:5][0])[0]\n",
        "median_exact9 = np.asarray(exact9_results[9:10][0])[0]\n",
        "upper_exact9 = np.asarray(exact9_results[14:15][0])[0]"
      ],
      "execution_count": 100,
      "outputs": []
    },
    {
      "cell_type": "code",
      "metadata": {
        "id": "sAYcBTpTJhBp"
      },
      "source": [
        "# Iteration19 :\n",
        "\n",
        "slice19 = 18\n",
        "\n",
        "approx19 = [simple_regret_approx_1[slice19],\n",
        "       simple_regret_approx_2[slice19],\n",
        "       simple_regret_approx_3[slice19],\n",
        "       simple_regret_approx_4[slice19],\n",
        "       simple_regret_approx_5[slice19],\n",
        "       simple_regret_approx_6[slice19],\n",
        "       simple_regret_approx_7[slice19],\n",
        "       simple_regret_approx_8[slice19],\n",
        "       simple_regret_approx_9[slice19],\n",
        "       simple_regret_approx_10[slice19],\n",
        "       simple_regret_approx_11[slice19],\n",
        "       simple_regret_approx_12[slice19],\n",
        "       simple_regret_approx_13[slice19],\n",
        "       simple_regret_approx_14[slice19],\n",
        "       simple_regret_approx_15[slice19],\n",
        "       simple_regret_approx_16[slice19],\n",
        "       simple_regret_approx_17[slice19],\n",
        "       simple_regret_approx_18[slice19],\n",
        "       simple_regret_approx_19[slice19],\n",
        "       simple_regret_approx_20[slice19]]\n",
        "\n",
        "exact19 = [simple_regret_exact_1[slice19],\n",
        "       simple_regret_exact_2[slice19],\n",
        "       simple_regret_exact_3[slice19],\n",
        "       simple_regret_exact_4[slice19],\n",
        "       simple_regret_exact_5[slice19],\n",
        "       simple_regret_exact_6[slice19],\n",
        "       simple_regret_exact_7[slice19],\n",
        "       simple_regret_exact_8[slice19],\n",
        "       simple_regret_exact_9[slice19],\n",
        "       simple_regret_exact_10[slice19],\n",
        "       simple_regret_exact_11[slice19],\n",
        "       simple_regret_exact_12[slice19],\n",
        "       simple_regret_exact_13[slice19],\n",
        "       simple_regret_exact_14[slice19],\n",
        "       simple_regret_exact_15[slice19],\n",
        "       simple_regret_exact_16[slice19],\n",
        "       simple_regret_exact_17[slice19],\n",
        "       simple_regret_exact_18[slice19],\n",
        "       simple_regret_exact_19[slice19],\n",
        "       simple_regret_exact_20[slice19]]\n",
        "\n",
        "approx19_results = pd.DataFrame(approx19).sort_values(by=[0], ascending=False)\n",
        "exact19_results = pd.DataFrame(exact19).sort_values(by=[0], ascending=False)\n",
        "\n",
        "### Best simple regret minimization IQR - approx:\n",
        "lower_approx19 = np.asarray(approx19_results[4:5][0])[0]\n",
        "median_approx19 = np.asarray(approx19_results[9:10][0])[0]\n",
        "upper_approx19 = np.asarray(approx19_results[14:15][0])[0]\n",
        "\n",
        "lower_exact19 = np.asarray(exact19_results[4:5][0])[0]\n",
        "median_exact19 = np.asarray(exact19_results[9:10][0])[0]\n",
        "upper_exact19 = np.asarray(exact19_results[14:15][0])[0]"
      ],
      "execution_count": 101,
      "outputs": []
    },
    {
      "cell_type": "code",
      "metadata": {
        "id": "yyESs9KHd1vl"
      },
      "source": [
        "# Iteration29 :\n",
        "\n",
        "slice29 = 28\n",
        "\n",
        "approx29 = [simple_regret_approx_1[slice29],\n",
        "       simple_regret_approx_2[slice29],\n",
        "       simple_regret_approx_3[slice29],\n",
        "       simple_regret_approx_4[slice29],\n",
        "       simple_regret_approx_5[slice29],\n",
        "       simple_regret_approx_6[slice29],\n",
        "       simple_regret_approx_7[slice29],\n",
        "       simple_regret_approx_8[slice29],\n",
        "       simple_regret_approx_9[slice29],\n",
        "       simple_regret_approx_10[slice29],\n",
        "       simple_regret_approx_11[slice29],\n",
        "       simple_regret_approx_12[slice29],\n",
        "       simple_regret_approx_13[slice29],\n",
        "       simple_regret_approx_14[slice29],\n",
        "       simple_regret_approx_15[slice29],\n",
        "       simple_regret_approx_16[slice29],\n",
        "       simple_regret_approx_17[slice29],\n",
        "       simple_regret_approx_18[slice29],\n",
        "       simple_regret_approx_19[slice29],\n",
        "       simple_regret_approx_20[slice29]]\n",
        "\n",
        "exact29 = [simple_regret_exact_1[slice29],\n",
        "       simple_regret_exact_2[slice29],\n",
        "       simple_regret_exact_3[slice29],\n",
        "       simple_regret_exact_4[slice29],\n",
        "       simple_regret_exact_5[slice29],\n",
        "       simple_regret_exact_6[slice29],\n",
        "       simple_regret_exact_7[slice29],\n",
        "       simple_regret_exact_8[slice29],\n",
        "       simple_regret_exact_9[slice29],\n",
        "       simple_regret_exact_10[slice29],\n",
        "       simple_regret_exact_11[slice29],\n",
        "       simple_regret_exact_12[slice29],\n",
        "       simple_regret_exact_13[slice29],\n",
        "       simple_regret_exact_14[slice29],\n",
        "       simple_regret_exact_15[slice29],\n",
        "       simple_regret_exact_16[slice29],\n",
        "       simple_regret_exact_17[slice29],\n",
        "       simple_regret_exact_18[slice29],\n",
        "       simple_regret_exact_19[slice29],\n",
        "       simple_regret_exact_20[slice29]]\n",
        "\n",
        "approx29_results = pd.DataFrame(approx29).sort_values(by=[0], ascending=False)\n",
        "exact29_results = pd.DataFrame(exact29).sort_values(by=[0], ascending=False)\n",
        "\n",
        "### Best simple regret minimization IQR - approx:\n",
        "lower_approx29 = np.asarray(approx29_results[4:5][0])[0]\n",
        "median_approx29 = np.asarray(approx29_results[9:10][0])[0]\n",
        "upper_approx29 = np.asarray(approx29_results[14:15][0])[0]\n",
        "\n",
        "lower_exact29 = np.asarray(exact29_results[4:5][0])[0]\n",
        "median_exact29 = np.asarray(exact29_results[9:10][0])[0]\n",
        "upper_exact29 = np.asarray(exact29_results[14:15][0])[0]"
      ],
      "execution_count": 102,
      "outputs": []
    },
    {
      "cell_type": "code",
      "metadata": {
        "id": "WWSn_TIsJhBq"
      },
      "source": [
        "# Iteration10 :\n",
        "\n",
        "slice10 = 9\n",
        "\n",
        "approx10 = [simple_regret_approx_1[slice10],\n",
        "       simple_regret_approx_2[slice10],\n",
        "       simple_regret_approx_3[slice10],\n",
        "       simple_regret_approx_4[slice10],\n",
        "       simple_regret_approx_5[slice10],\n",
        "       simple_regret_approx_6[slice10],\n",
        "       simple_regret_approx_7[slice10],\n",
        "       simple_regret_approx_8[slice10],\n",
        "       simple_regret_approx_9[slice10],\n",
        "       simple_regret_approx_10[slice10],\n",
        "       simple_regret_approx_11[slice10],\n",
        "       simple_regret_approx_12[slice10],\n",
        "       simple_regret_approx_13[slice10],\n",
        "       simple_regret_approx_14[slice10],\n",
        "       simple_regret_approx_15[slice10],\n",
        "       simple_regret_approx_16[slice10],\n",
        "       simple_regret_approx_17[slice10],\n",
        "       simple_regret_approx_18[slice10],\n",
        "       simple_regret_approx_19[slice10],\n",
        "       simple_regret_approx_20[slice10]]\n",
        "\n",
        "exact10 = [simple_regret_exact_1[slice10],\n",
        "       simple_regret_exact_2[slice10],\n",
        "       simple_regret_exact_3[slice10],\n",
        "       simple_regret_exact_4[slice10],\n",
        "       simple_regret_exact_5[slice10],\n",
        "       simple_regret_exact_6[slice10],\n",
        "       simple_regret_exact_7[slice10],\n",
        "       simple_regret_exact_8[slice10],\n",
        "       simple_regret_exact_9[slice10],\n",
        "       simple_regret_exact_10[slice10],\n",
        "       simple_regret_exact_11[slice10],\n",
        "       simple_regret_exact_12[slice10],\n",
        "       simple_regret_exact_13[slice10],\n",
        "       simple_regret_exact_14[slice10],\n",
        "       simple_regret_exact_15[slice10],\n",
        "       simple_regret_exact_16[slice10],\n",
        "       simple_regret_exact_17[slice10],\n",
        "       simple_regret_exact_18[slice10],\n",
        "       simple_regret_exact_19[slice10],\n",
        "       simple_regret_exact_20[slice10]]\n",
        "\n",
        "approx10_results = pd.DataFrame(approx10).sort_values(by=[0], ascending=False)\n",
        "exact10_results = pd.DataFrame(exact10).sort_values(by=[0], ascending=False)\n",
        "\n",
        "### Best simple regret minimization IQR - approx:\n",
        "lower_approx10 = np.asarray(approx10_results[4:5][0])[0]\n",
        "median_approx10 = np.asarray(approx10_results[9:10][0])[0]\n",
        "upper_approx10 = np.asarray(approx10_results[14:15][0])[0]\n",
        "\n",
        "lower_exact10 = np.asarray(exact10_results[4:5][0])[0]\n",
        "median_exact10 = np.asarray(exact10_results[9:10][0])[0]\n",
        "upper_exact10 = np.asarray(exact10_results[14:15][0])[0]"
      ],
      "execution_count": 103,
      "outputs": []
    },
    {
      "cell_type": "code",
      "metadata": {
        "id": "sMLjJRd5JhBq"
      },
      "source": [
        "# Iteration20 :\n",
        "\n",
        "slice20 = 19\n",
        "\n",
        "approx20 = [simple_regret_approx_1[slice20],\n",
        "       simple_regret_approx_2[slice20],\n",
        "       simple_regret_approx_3[slice20],\n",
        "       simple_regret_approx_4[slice20],\n",
        "       simple_regret_approx_5[slice20],\n",
        "       simple_regret_approx_6[slice20],\n",
        "       simple_regret_approx_7[slice20],\n",
        "       simple_regret_approx_8[slice20],\n",
        "       simple_regret_approx_9[slice20],\n",
        "       simple_regret_approx_10[slice20],\n",
        "       simple_regret_approx_11[slice20],\n",
        "       simple_regret_approx_12[slice20],\n",
        "       simple_regret_approx_13[slice20],\n",
        "       simple_regret_approx_14[slice20],\n",
        "       simple_regret_approx_15[slice20],\n",
        "       simple_regret_approx_16[slice20],\n",
        "       simple_regret_approx_17[slice20],\n",
        "       simple_regret_approx_18[slice20],\n",
        "       simple_regret_approx_19[slice20],\n",
        "       simple_regret_approx_20[slice20]]\n",
        "\n",
        "exact20 = [simple_regret_exact_1[slice20],\n",
        "       simple_regret_exact_2[slice20],\n",
        "       simple_regret_exact_3[slice20],\n",
        "       simple_regret_exact_4[slice20],\n",
        "       simple_regret_exact_5[slice20],\n",
        "       simple_regret_exact_6[slice20],\n",
        "       simple_regret_exact_7[slice20],\n",
        "       simple_regret_exact_8[slice20],\n",
        "       simple_regret_exact_9[slice20],\n",
        "       simple_regret_exact_10[slice20],\n",
        "       simple_regret_exact_11[slice20],\n",
        "       simple_regret_exact_12[slice20],\n",
        "       simple_regret_exact_13[slice20],\n",
        "       simple_regret_exact_14[slice20],\n",
        "       simple_regret_exact_15[slice20],\n",
        "       simple_regret_exact_16[slice20],\n",
        "       simple_regret_exact_17[slice20],\n",
        "       simple_regret_exact_18[slice20],\n",
        "       simple_regret_exact_19[slice20],\n",
        "       simple_regret_exact_20[slice20]]\n",
        "\n",
        "approx20_results = pd.DataFrame(approx20).sort_values(by=[0], ascending=False)\n",
        "exact20_results = pd.DataFrame(exact20).sort_values(by=[0], ascending=False)\n",
        "\n",
        "### Best simple regret minimization IQR - approx:\n",
        "lower_approx20 = np.asarray(approx20_results[4:5][0])[0]\n",
        "median_approx20 = np.asarray(approx20_results[9:10][0])[0]\n",
        "upper_approx20 = np.asarray(approx20_results[14:15][0])[0]\n",
        "\n",
        "lower_exact20 = np.asarray(exact20_results[4:5][0])[0]\n",
        "median_exact20 = np.asarray(exact20_results[9:10][0])[0]\n",
        "upper_exact20 = np.asarray(exact20_results[14:15][0])[0]"
      ],
      "execution_count": 104,
      "outputs": []
    },
    {
      "cell_type": "code",
      "metadata": {
        "id": "M0j8Qyp-eKu_"
      },
      "source": [
        "# Iteration30 :\n",
        "\n",
        "slice30 = 29\n",
        "\n",
        "approx30 = [simple_regret_approx_1[slice30],\n",
        "       simple_regret_approx_2[slice30],\n",
        "       simple_regret_approx_3[slice30],\n",
        "       simple_regret_approx_4[slice30],\n",
        "       simple_regret_approx_5[slice30],\n",
        "       simple_regret_approx_6[slice30],\n",
        "       simple_regret_approx_7[slice30],\n",
        "       simple_regret_approx_8[slice30],\n",
        "       simple_regret_approx_9[slice30],\n",
        "       simple_regret_approx_10[slice30],\n",
        "       simple_regret_approx_11[slice30],\n",
        "       simple_regret_approx_12[slice30],\n",
        "       simple_regret_approx_13[slice30],\n",
        "       simple_regret_approx_14[slice30],\n",
        "       simple_regret_approx_15[slice30],\n",
        "       simple_regret_approx_16[slice30],\n",
        "       simple_regret_approx_17[slice30],\n",
        "       simple_regret_approx_18[slice30],\n",
        "       simple_regret_approx_19[slice30],\n",
        "       simple_regret_approx_20[slice30]]\n",
        "\n",
        "exact30 = [simple_regret_exact_1[slice30],\n",
        "       simple_regret_exact_2[slice30],\n",
        "       simple_regret_exact_3[slice30],\n",
        "       simple_regret_exact_4[slice30],\n",
        "       simple_regret_exact_5[slice30],\n",
        "       simple_regret_exact_6[slice30],\n",
        "       simple_regret_exact_7[slice30],\n",
        "       simple_regret_exact_8[slice30],\n",
        "       simple_regret_exact_9[slice30],\n",
        "       simple_regret_exact_10[slice30],\n",
        "       simple_regret_exact_11[slice30],\n",
        "       simple_regret_exact_12[slice30],\n",
        "       simple_regret_exact_13[slice30],\n",
        "       simple_regret_exact_14[slice30],\n",
        "       simple_regret_exact_15[slice30],\n",
        "       simple_regret_exact_16[slice30],\n",
        "       simple_regret_exact_17[slice30],\n",
        "       simple_regret_exact_18[slice30],\n",
        "       simple_regret_exact_19[slice30],\n",
        "       simple_regret_exact_20[slice30]]\n",
        "\n",
        "approx30_results = pd.DataFrame(approx30).sort_values(by=[0], ascending=False)\n",
        "exact30_results = pd.DataFrame(exact30).sort_values(by=[0], ascending=False)\n",
        "\n",
        "### Best simple regret minimization IQR - approx:\n",
        "lower_approx30 = np.asarray(approx30_results[4:5][0])[0]\n",
        "median_approx30 = np.asarray(approx30_results[9:10][0])[0]\n",
        "upper_approx30 = np.asarray(approx30_results[14:15][0])[0]\n",
        "\n",
        "lower_exact30 = np.asarray(exact30_results[4:5][0])[0]\n",
        "median_exact30 = np.asarray(exact30_results[9:10][0])[0]\n",
        "upper_exact30 = np.asarray(exact30_results[14:15][0])[0]"
      ],
      "execution_count": 105,
      "outputs": []
    },
    {
      "cell_type": "code",
      "metadata": {
        "id": "N-MMOUFcJhBr"
      },
      "source": [
        "### Summarize arrays: 'Loser'\n",
        "\n",
        "lower_approx = [lower_approx1,\n",
        "            lower_approx2,\n",
        "            lower_approx3,\n",
        "            lower_approx4,\n",
        "            lower_approx5,\n",
        "            lower_approx6,\n",
        "            lower_approx7,\n",
        "            lower_approx8,\n",
        "            lower_approx9,\n",
        "            lower_approx10,\n",
        "            lower_approx11,\n",
        "            lower_approx12,\n",
        "            lower_approx13,\n",
        "            lower_approx14,\n",
        "            lower_approx15,\n",
        "            lower_approx16,\n",
        "            lower_approx17,\n",
        "            lower_approx18,\n",
        "            lower_approx19,\n",
        "            lower_approx20,\n",
        "            lower_approx21,\n",
        "            lower_approx22,\n",
        "            lower_approx23,\n",
        "            lower_approx24,\n",
        "            lower_approx25,\n",
        "            lower_approx26,\n",
        "            lower_approx27,\n",
        "            lower_approx28,\n",
        "            lower_approx29,\n",
        "            lower_approx30,\n",
        "            lower_approx31]\n",
        "\n",
        "median_approx = [median_approx1,\n",
        "            median_approx2,\n",
        "            median_approx3,\n",
        "            median_approx4,\n",
        "            median_approx5,\n",
        "            median_approx6,\n",
        "            median_approx7,\n",
        "            median_approx8,\n",
        "            median_approx9,\n",
        "            median_approx10,\n",
        "            median_approx11,\n",
        "            median_approx12,\n",
        "            median_approx13,\n",
        "            median_approx14,\n",
        "            median_approx15,\n",
        "            median_approx16,\n",
        "            median_approx17,\n",
        "            median_approx18,\n",
        "            median_approx19,\n",
        "            median_approx20,\n",
        "            median_approx21,\n",
        "            median_approx22,\n",
        "            median_approx23,\n",
        "            median_approx24,\n",
        "            median_approx25,\n",
        "            median_approx26,\n",
        "            median_approx27,\n",
        "            median_approx28,\n",
        "            median_approx29,\n",
        "            median_approx30,\n",
        "            median_approx31]\n",
        "\n",
        "upper_approx = [upper_approx1,\n",
        "            upper_approx2,\n",
        "            upper_approx3,\n",
        "            upper_approx4,\n",
        "            upper_approx5,\n",
        "            upper_approx6,\n",
        "            upper_approx7,\n",
        "            upper_approx8,\n",
        "            upper_approx9,\n",
        "            upper_approx10,\n",
        "            upper_approx11,\n",
        "            upper_approx12,\n",
        "            upper_approx13,\n",
        "            upper_approx14,\n",
        "            upper_approx15,\n",
        "            upper_approx16,\n",
        "            upper_approx17,\n",
        "            upper_approx18,\n",
        "            upper_approx19,\n",
        "            upper_approx20,\n",
        "            upper_approx21,\n",
        "            upper_approx22,\n",
        "            upper_approx23,\n",
        "            upper_approx24,\n",
        "            upper_approx25,\n",
        "            upper_approx26,\n",
        "            upper_approx27,\n",
        "            upper_approx28,\n",
        "            upper_approx29,\n",
        "            upper_approx30,\n",
        "            upper_approx31]"
      ],
      "execution_count": 106,
      "outputs": []
    },
    {
      "cell_type": "code",
      "metadata": {
        "id": "XdKURkqUJhBs"
      },
      "source": [
        "### Summarize arrays: 'exact'\n",
        "\n",
        "lower_exact = [lower_exact1,\n",
        "            lower_exact2,\n",
        "            lower_exact3,\n",
        "            lower_exact4,\n",
        "            lower_exact5,\n",
        "            lower_exact6,\n",
        "            lower_exact7,\n",
        "            lower_exact8,\n",
        "            lower_exact9,\n",
        "            lower_exact10,\n",
        "            lower_exact11,\n",
        "            lower_exact12,\n",
        "            lower_exact13,\n",
        "            lower_exact14,\n",
        "            lower_exact15,\n",
        "            lower_exact16,\n",
        "            lower_exact17,\n",
        "            lower_exact18,\n",
        "            lower_exact19,\n",
        "            lower_exact20,\n",
        "            lower_exact21,\n",
        "            lower_exact22,\n",
        "            lower_exact23,\n",
        "            lower_exact24,\n",
        "            lower_exact25,\n",
        "            lower_exact26,\n",
        "            lower_exact27,\n",
        "            lower_exact28,\n",
        "            lower_exact29,\n",
        "            lower_exact30,\n",
        "            lower_exact31]\n",
        "\n",
        "median_exact = [median_exact1,\n",
        "            median_exact2,\n",
        "            median_exact3,\n",
        "            median_exact4,\n",
        "            median_exact5,\n",
        "            median_exact6,\n",
        "            median_exact7,\n",
        "            median_exact8,\n",
        "            median_exact9,\n",
        "            median_exact10,\n",
        "            median_exact11,\n",
        "            median_exact12,\n",
        "            median_exact13,\n",
        "            median_exact14,\n",
        "            median_exact15,\n",
        "            median_exact16,\n",
        "            median_exact17,\n",
        "            median_exact18,\n",
        "            median_exact19,\n",
        "            median_exact20,\n",
        "            median_exact21,\n",
        "            median_exact22,\n",
        "            median_exact23,\n",
        "            median_exact24,\n",
        "            median_exact25,\n",
        "            median_exact26,\n",
        "            median_exact27,\n",
        "            median_exact28,\n",
        "            median_exact29,\n",
        "            median_exact30,\n",
        "            median_exact31]\n",
        "\n",
        "upper_exact = [upper_exact1,\n",
        "            upper_exact2,\n",
        "            upper_exact3,\n",
        "            upper_exact4,\n",
        "            upper_exact5,\n",
        "            upper_exact6,\n",
        "            upper_exact7,\n",
        "            upper_exact8,\n",
        "            upper_exact9,\n",
        "            upper_exact10,\n",
        "            upper_exact11,\n",
        "            upper_exact12,\n",
        "            upper_exact13,\n",
        "            upper_exact14,\n",
        "            upper_exact15,\n",
        "            upper_exact16,\n",
        "            upper_exact17,\n",
        "            upper_exact18,\n",
        "            upper_exact19,\n",
        "            upper_exact20,\n",
        "            upper_exact21,\n",
        "            upper_exact22,\n",
        "            upper_exact23,\n",
        "            upper_exact24,\n",
        "            upper_exact25,\n",
        "            upper_exact26,\n",
        "            upper_exact27,\n",
        "            upper_exact28,\n",
        "            upper_exact29,\n",
        "            upper_exact30,\n",
        "            upper_exact31]"
      ],
      "execution_count": 107,
      "outputs": []
    },
    {
      "cell_type": "code",
      "metadata": {
        "colab": {
          "base_uri": "https://localhost:8080/",
          "height": 299
        },
        "id": "OQ_7LazBYVn0",
        "outputId": "cff3a75f-a88c-4161-ce7f-ecc3d56254b1"
      },
      "source": [
        "### Visualise!\n",
        "\n",
        "title = func\n",
        "plt.figure()\n",
        "\n",
        "plt.plot(median_approx, color = 'Yellow')\n",
        "plt.plot(median_exact, color = 'Red')\n",
        "\n",
        "xstar = np.arange(0, iters+1, step=1)\n",
        "plt.fill_between(xstar, lower_approx, upper_approx, facecolor = 'Yellow', alpha=0.4, label='GP EI Optimization: L-BFGS-B')\n",
        "plt.fill_between(xstar, lower_exact, upper_exact, facecolor = 'Red', alpha=0.4, label='GP EI Optimization: Best Random Sample')\n",
        "\n",
        "plt.title(title, weight = 'bold')\n",
        "plt.xlabel('(Post-initialization) iteration $\\it{k}$', weight = 'bold')\n",
        "plt.ylabel('log(Regret)', weight = 'bold') \n",
        "plt.legend(loc=1) # add plot legend\n",
        "\n",
        "### Make the x-ticks integers, not floats:\n",
        "count = len(xstar)\n",
        "plt.xticks(np.arange(0, count, 5))\n",
        "plt.show() #visualise!"
      ],
      "execution_count": 108,
      "outputs": [
        {
          "output_type": "display_data",
          "data": {
            "image/png": "[encoded data removed]",
            "text/plain": [
              "<Figure size 432x288 with 1 Axes>"
            ]
          },
          "metadata": {
            "needs_background": "light"
          }
        }
      ]
    },
    {
      "cell_type": "code",
      "metadata": {
        "colab": {
          "base_uri": "https://localhost:8080/"
        },
        "id": "dShUk8k1YVn0",
        "outputId": "d4d9d05b-6eff-4470-c427-9aaf4e36cacf"
      },
      "source": [
        "time_approx, time_exact\n"
      ],
      "execution_count": 109,
      "outputs": [
        {
          "output_type": "execute_result",
          "data": {
            "text/plain": [
              "(411.7489404678345, 118.60589098930359)"
            ]
          },
          "metadata": {},
          "execution_count": 109
        }
      ]
    },
    {
      "cell_type": "code",
      "metadata": {
        "id": "77BffxK2Fe61"
      },
      "source": [
        ""
      ],
      "execution_count": 109,
      "outputs": []
    }
  ]
}