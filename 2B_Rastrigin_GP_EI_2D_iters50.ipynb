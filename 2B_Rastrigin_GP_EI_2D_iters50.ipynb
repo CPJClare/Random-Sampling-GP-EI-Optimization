{
  "nbformat": 4,
  "nbformat_minor": 0,
  "metadata": {
    "colab": {
      "name": "2B. Rastrigin_GP_EI_2D_iters50.ipynb",
      "provenance": [],
      "collapsed_sections": []
    },
    "kernelspec": {
      "name": "python3",
      "display_name": "Python 3"
    },
    "language_info": {
      "name": "python"
    }
  },
  "cells": [
    {
      "cell_type": "markdown",
      "metadata": {
        "id": "Dqn4dFx7Z2Ir"
      },
      "source": [
        "\n",
        "Rastrigin: 2D\n"
      ]
    },
    {
      "cell_type": "code",
      "metadata": {
        "id": "MJTM_GZZZb5x",
        "colab": {
          "base_uri": "https://localhost:8080/"
        },
        "outputId": "bd471330-4a8d-4bb5-d3d5-ebd0ccb26266"
      },
      "source": [
        "pip install pyGPGO\n"
      ],
      "execution_count": 1,
      "outputs": [
        {
          "output_type": "stream",
          "name": "stdout",
          "text": [
            "Collecting pyGPGO\n",
            "  Downloading pyGPGO-0.5.1.tar.gz (14 kB)\n",
            "Requirement already satisfied: numpy in /usr/local/lib/python3.7/dist-packages (from pyGPGO) (1.19.5)\n",
            "Requirement already satisfied: mkl in /usr/local/lib/python3.7/dist-packages (from pyGPGO) (2019.0)\n",
            "Requirement already satisfied: scipy in /usr/local/lib/python3.7/dist-packages (from pyGPGO) (1.4.1)\n",
            "Requirement already satisfied: joblib in /usr/local/lib/python3.7/dist-packages (from pyGPGO) (1.0.1)\n",
            "Requirement already satisfied: scikit-learn in /usr/local/lib/python3.7/dist-packages (from pyGPGO) (0.22.2.post1)\n",
            "Requirement already satisfied: Theano-PyMC in /usr/local/lib/python3.7/dist-packages (from pyGPGO) (1.1.2)\n",
            "Requirement already satisfied: pyMC3 in /usr/local/lib/python3.7/dist-packages (from pyGPGO) (3.11.4)\n",
            "Requirement already satisfied: intel-openmp in /usr/local/lib/python3.7/dist-packages (from mkl->pyGPGO) (2021.3.0)\n",
            "Requirement already satisfied: patsy>=0.5.1 in /usr/local/lib/python3.7/dist-packages (from pyMC3->pyGPGO) (0.5.1)\n",
            "Requirement already satisfied: arviz>=0.11.0 in /usr/local/lib/python3.7/dist-packages (from pyMC3->pyGPGO) (0.11.2)\n",
            "Requirement already satisfied: dill in /usr/local/lib/python3.7/dist-packages (from pyMC3->pyGPGO) (0.3.4)\n",
            "Requirement already satisfied: pandas>=0.24.0 in /usr/local/lib/python3.7/dist-packages (from pyMC3->pyGPGO) (1.1.5)\n",
            "Requirement already satisfied: semver>=2.13.0 in /usr/local/lib/python3.7/dist-packages (from pyMC3->pyGPGO) (2.13.0)\n",
            "Requirement already satisfied: fastprogress>=0.2.0 in /usr/local/lib/python3.7/dist-packages (from pyMC3->pyGPGO) (1.0.0)\n",
            "Requirement already satisfied: typing-extensions>=3.7.4 in /usr/local/lib/python3.7/dist-packages (from pyMC3->pyGPGO) (3.7.4.3)\n",
            "Requirement already satisfied: cachetools>=4.2.1 in /usr/local/lib/python3.7/dist-packages (from pyMC3->pyGPGO) (4.2.2)\n",
            "Requirement already satisfied: filelock in /usr/local/lib/python3.7/dist-packages (from Theano-PyMC->pyGPGO) (3.0.12)\n",
            "Requirement already satisfied: netcdf4 in /usr/local/lib/python3.7/dist-packages (from arviz>=0.11.0->pyMC3->pyGPGO) (1.5.7)\n",
            "Requirement already satisfied: packaging in /usr/local/lib/python3.7/dist-packages (from arviz>=0.11.0->pyMC3->pyGPGO) (21.0)\n",
            "Requirement already satisfied: setuptools>=38.4 in /usr/local/lib/python3.7/dist-packages (from arviz>=0.11.0->pyMC3->pyGPGO) (57.4.0)\n",
            "Requirement already satisfied: xarray>=0.16.1 in /usr/local/lib/python3.7/dist-packages (from arviz>=0.11.0->pyMC3->pyGPGO) (0.18.2)\n",
            "Requirement already satisfied: matplotlib>=3.0 in /usr/local/lib/python3.7/dist-packages (from arviz>=0.11.0->pyMC3->pyGPGO) (3.2.2)\n",
            "Requirement already satisfied: pyparsing!=2.0.4,!=2.1.2,!=2.1.6,>=2.0.1 in /usr/local/lib/python3.7/dist-packages (from matplotlib>=3.0->arviz>=0.11.0->pyMC3->pyGPGO) (2.4.7)\n",
            "Requirement already satisfied: python-dateutil>=2.1 in /usr/local/lib/python3.7/dist-packages (from matplotlib>=3.0->arviz>=0.11.0->pyMC3->pyGPGO) (2.8.2)\n",
            "Requirement already satisfied: kiwisolver>=1.0.1 in /usr/local/lib/python3.7/dist-packages (from matplotlib>=3.0->arviz>=0.11.0->pyMC3->pyGPGO) (1.3.2)\n",
            "Requirement already satisfied: cycler>=0.10 in /usr/local/lib/python3.7/dist-packages (from matplotlib>=3.0->arviz>=0.11.0->pyMC3->pyGPGO) (0.10.0)\n",
            "Requirement already satisfied: six in /usr/local/lib/python3.7/dist-packages (from cycler>=0.10->matplotlib>=3.0->arviz>=0.11.0->pyMC3->pyGPGO) (1.15.0)\n",
            "Requirement already satisfied: pytz>=2017.2 in /usr/local/lib/python3.7/dist-packages (from pandas>=0.24.0->pyMC3->pyGPGO) (2018.9)\n",
            "Requirement already satisfied: cftime in /usr/local/lib/python3.7/dist-packages (from netcdf4->arviz>=0.11.0->pyMC3->pyGPGO) (1.5.0)\n",
            "Building wheels for collected packages: pyGPGO\n",
            "  Building wheel for pyGPGO (setup.py) ... \u001b[?25l\u001b[?25hdone\n",
            "  Created wheel for pyGPGO: filename=pyGPGO-0.5.1-py3-none-any.whl size=19880 sha256=af26d9d88fb712047898fe2892cbddd315c4a1669b0c71d0724a47a6ef779899\n",
            "  Stored in directory: /root/.cache/pip/wheels/c8/5d/0b/2160114e2f1b87791c51b66cf07f89831dbb6f49167950316f\n",
            "Successfully built pyGPGO\n",
            "Installing collected packages: pyGPGO\n",
            "Successfully installed pyGPGO-0.5.1\n"
          ]
        }
      ]
    },
    {
      "cell_type": "code",
      "metadata": {
        "id": "ZJSSPbwPaEUB"
      },
      "source": [
        "### Import:\n",
        "\n",
        "import numpy as np\n",
        "import scipy as sp\n",
        "import pandas as pd\n",
        "import matplotlib.pyplot as plt\n",
        "import warnings\n",
        "import itertools\n",
        "\n",
        "from pyGPGO.GPGO import GPGO\n",
        "from pyGPGO.surrogates.GaussianProcess import GaussianProcess\n",
        "from pyGPGO.acquisition import Acquisition\n",
        "from pyGPGO.covfunc import squaredExponential\n",
        "\n",
        "from joblib import Parallel, delayed\n",
        "from numpy.linalg import solve, cholesky\n",
        "from scipy.spatial.distance import cdist\n",
        "from scipy.optimize import minimize\n",
        "from scipy.stats import norm\n",
        "import time\n",
        "\n",
        "warnings.filterwarnings(\"ignore\", category=RuntimeWarning)\n"
      ],
      "execution_count": 2,
      "outputs": []
    },
    {
      "cell_type": "code",
      "metadata": {
        "id": "OeYcTUNoaJWa"
      },
      "source": [
        "### Inputs:\n",
        "\n",
        "func = 'Rastrigin'\n",
        "n_test = 500\n",
        "eps = 1e-08\n",
        "\n",
        "util_grad_exact = 'dEI_GP'\n",
        "util_grad_approx = 'ExpectedImprovement'\n",
        "\n",
        "n_init = 5 # random initialisations\n",
        "iters = 20\n",
        "opt = True"
      ],
      "execution_count": 3,
      "outputs": []
    },
    {
      "cell_type": "code",
      "metadata": {
        "id": "xpaEOjdzaPMS"
      },
      "source": [
        "### Objective Function - Rastrigin(x) 2-D:\n",
        "\n",
        "def objfunc(x1_training, x2_training):\n",
        "        return  operator * (10 * dim + x1_training** 2 - 10 * np.cos(2 * np.pi * x1_training)\n",
        "                                    + x2_training** 2 - 10 * np.cos(2 * np.pi * x2_training)\n",
        "                          )\n",
        "        \n",
        "def objfunc_der(x1_training, x2_training):\n",
        "        return  operator * (2 * x1_training + 20 * np.pi * np.sin(2 * np.pi * x1_training)\n",
        "                                    + 2 * x2_training + 20 * np.pi * np.sin(2 * np.pi * x2_training)\n",
        "                          )\n",
        "    \n",
        "# Constraints:\n",
        "lb = -5.12 \n",
        "ub = +5.12\n",
        "    \n",
        "# Input array dimension(s):\n",
        "dim = 2\n",
        "\n",
        "# 2-D inputs' parameter bounds:\n",
        "param = {'x1_training': ('cont', [lb, ub]),\n",
        "             'x2_training': ('cont', [lb, ub])}\n",
        "\n",
        "# True y bounds:\n",
        "operator = -1\n",
        "y_global_orig = 0 # targets global minimum\n",
        "\n",
        "# Test data:\n",
        "x1_test = np.linspace(lb, ub, n_test) \n",
        "x2_test = np.linspace(lb, ub, n_test)\n",
        "  \n",
        "x_test = np.column_stack((x1_test,x2_test))\n"
      ],
      "execution_count": 4,
      "outputs": []
    },
    {
      "cell_type": "code",
      "metadata": {
        "id": "eYpI3Zm4aGxi"
      },
      "source": [
        "n_start_AcqFunc = iters*0 + 50\n"
      ],
      "execution_count": 5,
      "outputs": []
    },
    {
      "cell_type": "code",
      "metadata": {
        "id": "oO_GUmOoaV0T"
      },
      "source": [
        "### Cumulative Regret Calculator:\n",
        "\n",
        "def min_max_array(x):\n",
        "    new_list = []\n",
        "    for i, num in enumerate(x):\n",
        "            new_list.append(np.min(x[0:i+1]))\n",
        "    return new_list\n",
        "  "
      ],
      "execution_count": 6,
      "outputs": []
    },
    {
      "cell_type": "code",
      "metadata": {
        "id": "kuuJx0IMam9S"
      },
      "source": [
        "### Surrogate derivatives: \n",
        "\n",
        "cov_func = squaredExponential()\n",
        "\n",
        "def kronDelta(X, Xstar):\n",
        "    return cdist(X, Xstar) < np.finfo(np.float32).eps\n",
        "\n",
        "def se(X, Xstar, sigmaf, l, sigman):\n",
        "    return sigmaf * np.exp(-0.5 * cdist(X, Xstar) ** 2 / l ** 2) + sigman * kronDelta(X, Xstar)\n",
        "\n",
        "def deriv_se(X, Xstar, sigmaf, l, sigman):\n",
        "    return cdist(X, Xstar) / (l ** 2) * se(X, Xstar, sigmaf, l, sigman)\n",
        "\n",
        "def der_covmat(X, Xstar, sigmaf, l, sigman):\n",
        "      nx = len(X)\n",
        "      ny = len(Xstar)\n",
        "      return np.round(np.array([deriv_se(np.atleast_2d(i), np.atleast_2d(j), sigmaf, l, sigman) for (i, j) in itertools.product(X, Xstar)]).reshape(nx, ny), 8)\n",
        "\n",
        "class dGaussianProcess(GaussianProcess):\n",
        "    l = GaussianProcess(cov_func, optimize=opt).getcovparams()['l']\n",
        "    sigmaf = GaussianProcess(cov_func, optimize=opt).getcovparams()['sigmaf']\n",
        "    sigman = GaussianProcess(cov_func, optimize=opt).getcovparams()['sigman']\n",
        "\n",
        "    def AcqGrad(self, Xstar):\n",
        "        Xstar = np.atleast_2d(Xstar)\n",
        "        Kstar = self.covfunc.K(self.X, Xstar).T\n",
        "        dKstar = der_covmat(self.X, Xstar, self.sigmaf, self.l, self.sigman).T\n",
        "        \n",
        "        alpha_Kstar = np.dot(np.linalg.inv(self.K + (self.sigman**2) * np.eye(len(self.X))), Kstar.T)\n",
        "        \n",
        "        dm = np.dot(dKstar, self.alpha)\n",
        "        ds = -2 * np.dot(dKstar, alpha_Kstar)\n",
        "        \n",
        "        return dm, ds\n",
        "        "
      ],
      "execution_count": 7,
      "outputs": []
    },
    {
      "cell_type": "code",
      "metadata": {
        "id": "_Dc3YVHVaXz7"
      },
      "source": [
        "class Acquisition_new(Acquisition):    \n",
        "    def __init__(self, mode, eps=eps, **params):\n",
        "        \n",
        "        self.params = params\n",
        "        self.eps = eps\n",
        "\n",
        "        mode_dict = {\n",
        "            'dEI_GP': self.dEI_GP\n",
        "        }\n",
        "\n",
        "        self.f = mode_dict[mode]\n",
        "    \n",
        "    def dEI_GP(self, tau, mean, std, ds, dm):\n",
        "        gamma = (mean - tau - self.eps) / (std + self.eps)\n",
        "        gamma_h = (mean - tau) / (std + self.eps)\n",
        "        dsdx = ds / (2 * (std + self.eps))\n",
        "        dmdx = (dm - gamma * dsdx) / (std + self.eps)\n",
        "        \n",
        "        f = (std + self.eps) * (gamma * norm.cdf(gamma) + norm.pdf(gamma))\n",
        "        df1 = f / (std + self.eps) * dsdx \n",
        "        df2 = (std + self.eps) * norm.cdf(gamma) * dmdx\n",
        "        df = (df1 + df2)[0]\n",
        "        df_arr = []\n",
        "\n",
        "        for j in range(0, dim):\n",
        "          df_arr.append(df)\n",
        "        return f, np.asarray(df_arr).transpose()\n",
        "        \n",
        "    def d_eval(self, tau, mean, std, ds, dm):\n",
        "    \n",
        "        return self.f(tau, mean, std, ds, dm, **self.params)\n",
        "        "
      ],
      "execution_count": 8,
      "outputs": []
    },
    {
      "cell_type": "code",
      "metadata": {
        "id": "PITEQC8YSl7i"
      },
      "source": [
        "## GPGO_multi: Multistart changed to variable 'n_start_AcqFunc'\n",
        "\n",
        "class GPGO_multi(GPGO):\n",
        "    n_start = n_start_AcqFunc\n",
        "\n",
        "    def _optimizeAcq(self, method='L-BFGS-B', n_start=n_start_AcqFunc):\n",
        "        \n",
        "        start_points_dict = [self._sampleParam() for i in range(n_start)]\n",
        "        start_points_arr = np.array([list(s.values())\n",
        "                                     for s in start_points_dict])\n",
        "        x_best = np.empty((n_start, len(self.parameter_key)))\n",
        "        f_best = np.empty((n_start,))\n",
        "        if self.n_jobs == 1:\n",
        "            for index, start_point in enumerate(start_points_arr):\n",
        "                res = minimize(self._acqWrapper, x0=start_point, method=method,\n",
        "                               bounds=self.parameter_range)\n",
        "                x_best[index], f_best[index] = res.x, np.atleast_1d(res.fun)[0]\n",
        "        else:\n",
        "            opt = Parallel(n_jobs=self.n_jobs)(delayed(minimize)(self._acqWrapper,\n",
        "                                                                 x0=start_point,\n",
        "                                                                 method=method,\n",
        "                                                                 bounds=self.parameter_range) for start_point in\n",
        "                                               start_points_arr)\n",
        "            x_best = np.array([res.x for res in opt])\n",
        "            f_best = np.array([np.atleast_1d(res.fun)[0] for res in opt])\n",
        "\n",
        "        self.best = x_best[np.argmin(f_best)]"
      ],
      "execution_count": 9,
      "outputs": []
    },
    {
      "cell_type": "code",
      "metadata": {
        "id": "b_B-w81BJxKN"
      },
      "source": [
        "## dGPGO:\n",
        "\n",
        "grad = 0\n",
        "\n",
        "class dGPGO(GPGO):\n",
        "    n_start = n_start_AcqFunc\n",
        "\n",
        "    def d_optimizeAcq(self, method='L-BFGS-B', n_start=n_start_AcqFunc):\n",
        "        start_points_dict = [self._sampleParam() for i in range(n_start)]\n",
        "        start_points_arr = np.array([list(s.values())\n",
        "                                     for s in start_points_dict])\n",
        "        x_best = np.empty((n_start, len(self.parameter_key)))\n",
        "        f_best = np.empty((n_start,))\n",
        "        opt = Parallel(n_jobs=self.n_jobs)(delayed(minimize)(self.acqfunc,\n",
        "                                                                 x0=start_point,\n",
        "                                                                 method=method,\n",
        "                                                                 jac = True,\n",
        "                                                                 bounds=self.parameter_range) for start_point in\n",
        "                                               start_points_arr)\n",
        "        x_best = np.array([res.x for res in opt])\n",
        "        f_best = np.array([np.atleast_1d(res.fun)[0] for res in opt])\n",
        "\n",
        "        self.x_best = x_best\n",
        "        self.f_best = f_best\n",
        "        self.best = x_best[np.argmin(f_best)]\n",
        "        self.start_points_arr = start_points_arr\n",
        "\n",
        "        return x_best, f_best\n",
        "    \n",
        "    def run(self, max_iter=10, init_evals=3, resume=False):\n",
        "        \n",
        "        if not resume:\n",
        "            self.init_evals = init_evals\n",
        "            self._firstRun(self.init_evals)\n",
        "            self.logger._printInit(self)\n",
        "        for iteration in range(max_iter):\n",
        "            self.d_optimizeAcq()\n",
        "            self.updateGP()\n",
        "            self.logger._printCurrent(self)\n",
        "\n",
        "    def acqfunc(self, xnew, n_start=n_start_AcqFunc):\n",
        "        new_mean, new_var = self.GP.predict(xnew, return_std=True)\n",
        "        new_std = np.sqrt(new_var + eps)\n",
        "        dm, ds = self.GP.AcqGrad(xnew)\n",
        "        f, df = self.A.d_eval(self.tau, new_mean, new_std, ds=ds, dm=dm)\n",
        "\n",
        "        return -f, -df * grad\n"
      ],
      "execution_count": 10,
      "outputs": []
    },
    {
      "cell_type": "code",
      "metadata": {
        "id": "qXIKGuXVGEg2"
      },
      "source": [
        "###Reproducible set-seeds:\n",
        "\n",
        "run_num_1 = 1\n",
        "run_num_2 = 2\n",
        "run_num_3 = 3\n",
        "run_num_4 = 4\n",
        "run_num_5 = 5\n",
        "run_num_6 = 6\n",
        "run_num_7 = 7\n",
        "run_num_8 = 8\n",
        "run_num_9 = 9\n",
        "run_num_10 = 10\n",
        "run_num_11 = 11\n",
        "run_num_12 = 12\n",
        "run_num_13 = 13\n",
        "run_num_14 = 14\n",
        "run_num_15 = 15\n",
        "run_num_16 = 16\n",
        "run_num_17 = 17\n",
        "run_num_18 = 18\n",
        "run_num_19 = 19\n",
        "run_num_20 = 20\n"
      ],
      "execution_count": 11,
      "outputs": []
    },
    {
      "cell_type": "code",
      "metadata": {
        "colab": {
          "base_uri": "https://localhost:8080/"
        },
        "id": "JEhagQmnTVIK",
        "outputId": "d713e308-120e-426b-8472-be90b8cfdc15"
      },
      "source": [
        "start_approx = time.time()\n",
        "start_approx\n"
      ],
      "execution_count": 12,
      "outputs": [
        {
          "output_type": "execute_result",
          "data": {
            "text/plain": [
              "1632477585.1423259"
            ]
          },
          "metadata": {},
          "execution_count": 12
        }
      ]
    },
    {
      "cell_type": "code",
      "metadata": {
        "colab": {
          "base_uri": "https://localhost:8080/"
        },
        "id": "aH0YSTXufD1v",
        "outputId": "cdd2bd13-0cb2-4cc4-a28a-88d4f1cc8a16"
      },
      "source": [
        "### ESTIMATED GP EI GRADIENTS\n",
        "\n",
        "np.random.seed(run_num_1)\n",
        "surrogate_approx_1 = GaussianProcess(cov_func, optimize=opt)\n",
        "\n",
        "approx_1 = GPGO_multi(surrogate_approx_1, Acquisition(util_grad_approx), objfunc, param)\n",
        "approx_1.run(init_evals=n_init, max_iter=iters)\n"
      ],
      "execution_count": 13,
      "outputs": [
        {
          "output_type": "stream",
          "name": "stdout",
          "text": [
            "Evaluation \t Proposed point \t  Current eval. \t Best eval.\n",
            "init   \t [-0.84969467  2.25612281]. \t  -20.33436270766351 \t -19.908403246996286\n",
            "init   \t [-5.1188288  -2.02411446]. \t  -33.07414982069084 \t -19.908403246996286\n",
            "init   \t [-3.61721968 -4.17445279]. \t  -53.347974723929894 \t -19.908403246996286\n",
            "init   \t [-3.21269544 -1.58145816]. \t  -39.218472310354045 \t -19.908403246996286\n",
            "init   \t [-1.05710106  0.39748336]. \t  -19.908403246996286 \t -19.908403246996286\n",
            "1      \t [ 5.12 -5.12]. \t  -57.849427451571785 \t -19.908403246996286\n",
            "2      \t [5.12       4.00607673]. \t  -44.98065258893156 \t -19.908403246996286\n",
            "3      \t [-5.12  5.12]. \t  -57.849427451571785 \t -19.908403246996286\n",
            "4      \t [ 3.55005642 -0.54668887]. \t  -51.98403007235234 \t -19.908403246996286\n",
            "5      \t [ 0.68578582 -5.12      ]. \t  -43.32113285516346 \t -19.908403246996286\n",
            "6      \t [1.31078463 5.12      ]. \t  -44.369908212548125 \t -19.908403246996286\n",
            "7      \t [-5.12        1.53252189]. \t  -51.06528619757775 \t -19.908403246996286\n",
            "8      \t [-1.89357023  5.12      ]. \t  -34.664150566769536 \t -19.908403246996286\n",
            "9      \t [ 0.509424   -1.99223259]. \t  -24.222884713087574 \t -19.908403246996286\n",
            "10     \t [2.16630137 2.17221117]. \t  \u001b[92m-19.69616968041201\u001b[0m \t -19.69616968041201\n",
            "11     \t [ 2.92531227 -3.33238252]. \t  -35.69144281678297 \t -19.69616968041201\n",
            "12     \t [5.12       1.42224344]. \t  -49.77759182742481 \t -19.69616968041201\n",
            "13     \t [-2.94902191  2.81850073]. \t  -22.976912991745998 \t -19.69616968041201\n",
            "14     \t [ 5.12       -2.35507371]. \t  -50.60381541342891 \t -19.69616968041201\n",
            "15     \t [-1.18597296 -3.41408493]. \t  -37.72521814262205 \t -19.69616968041201\n",
            "16     \t [1.03961698 0.31634682]. \t  \u001b[92m-15.538089132575207\u001b[0m \t -15.538089132575207\n",
            "17     \t [3.44542969 5.12      ]. \t  -60.21361808501152 \t -15.538089132575207\n",
            "18     \t [-5.12 -5.12]. \t  -57.849427451571785 \t -15.538089132575207\n",
            "19     \t [-2.85659692  0.63223286]. \t  -29.094351729577767 \t -15.538089132575207\n",
            "20     \t [0.42055596 3.08746089]. \t  -29.961438392864732 \t -15.538089132575207\n"
          ]
        }
      ]
    },
    {
      "cell_type": "code",
      "metadata": {
        "colab": {
          "base_uri": "https://localhost:8080/"
        },
        "id": "wTxsSZxFGBB5",
        "outputId": "79b056fe-8c2a-4b98-8f3f-00a5784c8b14"
      },
      "source": [
        "### ESTIMATED GP EI GRADIENTS\n",
        "\n",
        "np.random.seed(run_num_2)\n",
        "surrogate_approx_2 = GaussianProcess(cov_func, optimize=opt)\n",
        "\n",
        "approx_2 = GPGO_multi(surrogate_approx_2, Acquisition(util_grad_approx), objfunc, param)\n",
        "approx_2.run(init_evals=n_init, max_iter=iters)\n"
      ],
      "execution_count": 14,
      "outputs": [
        {
          "output_type": "stream",
          "name": "stdout",
          "text": [
            "Evaluation \t Proposed point \t  Current eval. \t Best eval.\n",
            "init   \t [-0.6554122  -4.85451539]. \t  -43.490296251903594 \t -18.964539418712707\n",
            "init   \t [ 0.50854377 -0.6622987 ]. \t  -35.91861667536101 \t -18.964539418712707\n",
            "init   \t [-0.81543371 -1.73737143]. \t  -20.479562046739524 \t -18.964539418712707\n",
            "init   \t [-3.02439799  1.2213347 ]. \t  -18.964539418712707 \t -18.964539418712707\n",
            "init   \t [-2.05153614 -2.3876887 ]. \t  -28.041315668371354 \t -18.964539418712707\n",
            "1      \t [3.28337897 4.39979638]. \t  -60.303350272269824 \t -18.964539418712707\n",
            "2      \t [ 5.12 -5.12]. \t  -57.849427451571785 \t -18.964539418712707\n",
            "3      \t [-5.12  5.12]. \t  -57.849427451571785 \t -18.964539418712707\n",
            "4      \t [ 5.12       -0.15057193]. \t  -33.09864353997189 \t -18.964539418712707\n",
            "5      \t [-5.12 -5.12]. \t  -57.849427451571785 \t -18.964539418712707\n",
            "6      \t [-0.8827527  5.12     ]. \t  -32.29697867158287 \t -18.964539418712707\n",
            "7      \t [-5.12      -1.2337198]. \t  -39.425645936536306 \t -18.964539418712707\n",
            "8      \t [ 2.52396719 -3.10257213]. \t  -37.88906636283378 \t -18.964539418712707\n",
            "9      \t [0.51109377 2.36514828]. \t  -42.450963832657884 \t -18.964539418712707\n",
            "10     \t [-5.12        2.08822225]. \t  -34.78278323598907 \t -18.964539418712707\n",
            "11     \t [5.12       2.42121418]. \t  -53.586555784151976 \t -18.964539418712707\n",
            "12     \t [2.7192742  0.67667915]. \t  -34.21658512772889 \t -18.964539418712707\n",
            "13     \t [-2.6219432   3.45086899]. \t  -55.51594386432683 \t -18.964539418712707\n",
            "14     \t [ 5.12       -2.45756857]. \t  -54.611067245399774 \t -18.964539418712707\n",
            "15     \t [ 1.95979437 -5.12      ]. \t  -33.082897322938344 \t -18.964539418712707\n",
            "16     \t [-1.63165039  0.35903662]. \t  -35.888186559268334 \t -18.964539418712707\n",
            "17     \t [-2.8037952 -5.12     ]. \t  -43.46992307536227 \t -18.964539418712707\n",
            "18     \t [1.09174445 5.12      ]. \t  -31.732576889836068 \t -18.964539418712707\n",
            "19     \t [5.12 5.12]. \t  -57.849427451571785 \t -18.964539418712707\n",
            "20     \t [-3.99583862 -2.94419941]. \t  -25.24680517762757 \t -18.964539418712707\n"
          ]
        }
      ]
    },
    {
      "cell_type": "code",
      "metadata": {
        "colab": {
          "base_uri": "https://localhost:8080/"
        },
        "id": "-dgzIrUIGCGT",
        "outputId": "67fa223a-e4e7-41a1-9cbc-efef7d7de5d7"
      },
      "source": [
        "### ESTIMATED GP EI GRADIENTS\n",
        "\n",
        "np.random.seed(run_num_3)\n",
        "surrogate_approx_3 = GaussianProcess(cov_func, optimize=opt)\n",
        "\n",
        "approx_3 = GPGO_multi(surrogate_approx_3, Acquisition(util_grad_approx), objfunc, param)\n",
        "approx_3.run(init_evals=n_init, max_iter=iters)\n"
      ],
      "execution_count": 15,
      "outputs": [
        {
          "output_type": "stream",
          "name": "stdout",
          "text": [
            "Evaluation \t Proposed point \t  Current eval. \t Best eval.\n",
            "init   \t [0.52017052 2.1314337 ]. \t  -27.953858411008774 \t -10.607662635789808\n",
            "init   \t [-2.14113547  0.11087468]. \t  -10.607662635789808 \t -10.607662635789808\n",
            "init   \t [4.02377681 4.05804123]. \t  -33.42749829480097 \t -10.607662635789808\n",
            "init   \t [-3.83400642 -2.99783293]. \t  -28.650953928965198 \t -10.607662635789808\n",
            "init   \t [-4.59297584 -0.6061072 ]. \t  -57.6631355589384 \t -10.607662635789808\n",
            "1      \t [ 5.12       -3.02919353]. \t  -38.2684858188765 \t -10.607662635789808\n",
            "2      \t [-4.49520778  5.12      ]. \t  -69.12707381831517 \t -10.607662635789808\n",
            "3      \t [ 0.59613782 -5.12      ]. \t  -47.510504486499975 \t -10.607662635789808\n",
            "4      \t [ 1.61983769 -1.35911013]. \t  -38.0987774225163 \t -10.607662635789808\n",
            "5      \t [5.12       0.64656934]. \t  -45.393626677333664 \t -10.607662635789808\n",
            "6      \t [-0.68903006  5.12      ]. \t  -43.13731645034108 \t -10.607662635789808\n",
            "7      \t [-5.12 -5.12]. \t  -57.849427451571785 \t -10.607662635789808\n",
            "8      \t [-2.79749828  2.43864711]. \t  -40.098833423549586 \t -10.607662635789808\n",
            "9      \t [-1.12932291 -2.42231061]. \t  -29.09861929045787 \t -10.607662635789808\n",
            "10     \t [ 3.5241373 -5.12     ]. \t  -61.229475237841356 \t -10.607662635789808\n",
            "11     \t [-2.16831583 -5.12      ]. \t  -38.71631158056114 \t -10.607662635789808\n",
            "12     \t [1.88966335 5.12      ]. \t  -34.80390916218819 \t -10.607662635789808\n",
            "13     \t [-5.12        2.17894374]. \t  -39.354760146574336 \t -10.607662635789808\n",
            "14     \t [2.69700399 1.42106738]. \t  -41.35708499598478 \t -10.607662635789808\n",
            "15     \t [-0.57822504  0.09131611]. \t  -20.76024912862994 \t -10.607662635789808\n",
            "16     \t [5.12 5.12]. \t  -57.849427451571785 \t -10.607662635789808\n",
            "17     \t [ 3.78588359 -1.33481246]. \t  -38.959327867537105 \t -10.607662635789808\n",
            "18     \t [ 1.87851499 -3.28417867]. \t  -29.220191134968577 \t -10.607662635789808\n",
            "19     \t [5.12       2.64481575]. \t  -52.057977771828014 \t -10.607662635789808\n",
            "20     \t [-2.26011427 -0.68461819]. \t  -30.205373882007436 \t -10.607662635789808\n"
          ]
        }
      ]
    },
    {
      "cell_type": "code",
      "metadata": {
        "colab": {
          "base_uri": "https://localhost:8080/"
        },
        "id": "hOtG-2sCGCKS",
        "outputId": "aa108e91-8ed4-408a-ebfa-b3c5d29cebbc"
      },
      "source": [
        "### ESTIMATED GP EI GRADIENTS\n",
        "\n",
        "np.random.seed(run_num_4)\n",
        "surrogate_approx_4 = GaussianProcess(cov_func, optimize=opt)\n",
        "\n",
        "approx_4 = GPGO_multi(surrogate_approx_4, Acquisition(util_grad_approx), objfunc, param)\n",
        "approx_4.run(init_evals=n_init, max_iter=iters)\n"
      ],
      "execution_count": 16,
      "outputs": [
        {
          "output_type": "stream",
          "name": "stdout",
          "text": [
            "Evaluation \t Proposed point \t  Current eval. \t Best eval.\n",
            "init   \t [4.78238555 0.48365823]. \t  -51.03163809010808 \t -14.323038259018315\n",
            "init   \t [4.84028785 2.19971578]. \t  -39.78645699016559 \t -14.323038259018315\n",
            "init   \t [ 2.02474316 -2.90724357]. \t  -14.323038259018315 \t -14.323038259018315\n",
            "init   \t [ 4.87705042 -5.05620219]. \t  -52.80627247106233 \t -14.323038259018315\n",
            "init   \t [-2.52946061 -0.66773471]. \t  -41.61497868486559 \t -14.323038259018315\n",
            "1      \t [-5.12  5.12]. \t  -57.849427451571785 \t -14.323038259018315\n",
            "2      \t [0.36057498 5.12      ]. \t  -45.45676271288454 \t -14.323038259018315\n",
            "3      \t [-5.12 -5.12]. \t  -57.849427451571785 \t -14.323038259018315\n",
            "4      \t [-0.95955588 -5.12      ]. \t  -30.166606960806988 \t -14.323038259018315\n",
            "5      \t [0.8538463  1.14527603]. \t  \u001b[92m-9.853721236742912\u001b[0m \t -9.853721236742912\n",
            "6      \t [-5.12        1.50098221]. \t  -51.17747088288584 \t -9.853721236742912\n",
            "7      \t [3.91439794 5.12      ]. \t  -45.6591225650769 \t -9.853721236742912\n",
            "8      \t [-1.97852729  2.82545165]. \t  -17.423450866944343 \t -9.853721236742912\n",
            "9      \t [-5.12       -1.96263032]. \t  -33.051024059589096 \t -9.853721236742912\n",
            "10     \t [ 0.30801026 -1.28248222]. \t  -27.33113130440363 \t -9.853721236742912\n",
            "11     \t [ 5.12       -2.25318737]. \t  -44.20182184727552 \t -9.853721236742912\n",
            "12     \t [ 1.82466717 -5.12      ]. \t  -37.73286195954073 \t -9.853721236742912\n",
            "13     \t [2.02596771 2.72631347]. \t  -23.152921939075757 \t -9.853721236742912\n",
            "14     \t [-2.35556414  5.12      ]. \t  -50.63043586394096 \t -9.853721236742912\n",
            "15     \t [-2.64735261 -3.36996789]. \t  -51.22076480707243 \t -9.853721236742912\n",
            "16     \t [ 2.44505036 -0.45934031]. \t  -45.2745842828768 \t -9.853721236742912\n",
            "17     \t [-0.59668045  1.36721413]. \t  -37.153129022346306 \t -9.853721236742912\n",
            "18     \t [ 0.07182032 -3.22156567]. \t  -19.607569465300582 \t -9.853721236742912\n",
            "19     \t [-3.38759062  2.82455858]. \t  -42.54648241100347 \t -9.853721236742912\n",
            "20     \t [ 3.05538629 -3.08865859]. \t  -20.98649883225074 \t -9.853721236742912\n"
          ]
        }
      ]
    },
    {
      "cell_type": "code",
      "metadata": {
        "colab": {
          "base_uri": "https://localhost:8080/"
        },
        "id": "JF_SxcEvGCOl",
        "outputId": "72e93c06-5d00-4a33-a90d-af850f23a840"
      },
      "source": [
        "### ESTIMATED GP EI GRADIENTS\n",
        "\n",
        "np.random.seed(run_num_5)\n",
        "surrogate_approx_5 = GaussianProcess(cov_func, optimize=opt)\n",
        "\n",
        "approx_5 = GPGO_multi(surrogate_approx_5, Acquisition(util_grad_approx), objfunc, param)\n",
        "approx_5.run(init_evals=n_init, max_iter=iters)\n"
      ],
      "execution_count": 17,
      "outputs": [
        {
          "output_type": "stream",
          "name": "stdout",
          "text": [
            "Evaluation \t Proposed point \t  Current eval. \t Best eval.\n",
            "init   \t [-2.84678993  3.79629882]. \t  -33.93442008827236 \t -7.8108627039749745\n",
            "init   \t [-3.00319585  4.2865757 ]. \t  -39.673876075575784 \t -7.8108627039749745\n",
            "init   \t [-0.11866943  1.14425716]. \t  -7.8108627039749745 \t -7.8108627039749745\n",
            "init   \t [2.72289645 0.1886002 ]. \t  -25.38160395721669 \t -7.8108627039749745\n",
            "init   \t [-2.08076286 -3.19773462]. \t  -22.589982116319675 \t -7.8108627039749745\n",
            "1      \t [ 5.12       -4.99333791]. \t  -53.8668968735468 \t -7.8108627039749745\n",
            "2      \t [5.12 5.12]. \t  -57.849427451571785 \t -7.8108627039749745\n",
            "3      \t [-5.12       -0.04627495]. \t  -29.34657536989061 \t -7.8108627039749745\n",
            "4      \t [1.0036759 5.12     ]. \t  -29.934746122313953 \t -7.8108627039749745\n",
            "5      \t [-5.12 -5.12]. \t  -57.849427451571785 \t -7.8108627039749745\n",
            "6      \t [ 1.11155955 -5.12      ]. \t  -32.51797548515002 \t -7.8108627039749745\n",
            "7      \t [ 5.12       -1.57460947]. \t  -50.325286898575676 \t -7.8108627039749745\n",
            "8      \t [5.12       1.88632619]. \t  -34.92698549550361 \t -7.8108627039749745\n",
            "9      \t [ 0.60023399 -1.87748552]. \t  -24.786122594438883 \t -7.8108627039749745\n",
            "10     \t [-2.1971248   0.02155599]. \t  -11.657933333659956 \t -7.8108627039749745\n",
            "11     \t [2.18696412 2.78643938]. \t  -26.41953382200316 \t -7.8108627039749745\n",
            "12     \t [-5.12        2.61667742]. \t  -53.20271055293007 \t -7.8108627039749745\n",
            "13     \t [-5.12       -2.41195282]. \t  -53.2506177191152 \t -7.8108627039749745\n",
            "14     \t [ 2.8094856  -3.10640358]. \t  -26.04458538326845 \t -7.8108627039749745\n",
            "15     \t [-1.68161118 -5.12      ]. \t  -45.9185072088744 \t -7.8108627039749745\n",
            "16     \t [-0.55461493  2.77901534]. \t  -35.634494286777844 \t -7.8108627039749745\n",
            "17     \t [-5.12  5.12]. \t  -57.849427451571785 \t -7.8108627039749745\n",
            "18     \t [-0.04222095  0.21328445]. \t  -8.110588274011484 \t -7.8108627039749745\n",
            "19     \t [-2.75718933  1.30239084]. \t  -32.079434089658804 \t -7.8108627039749745\n",
            "20     \t [-1.96242385 -1.20978105]. \t  -13.091875162985218 \t -7.8108627039749745\n"
          ]
        }
      ]
    },
    {
      "cell_type": "code",
      "metadata": {
        "colab": {
          "base_uri": "https://localhost:8080/"
        },
        "id": "-kDxZtJsGCR3",
        "outputId": "33850f44-85e6-4aca-a48a-875fc8a7166c"
      },
      "source": [
        "### ESTIMATED GP EI GRADIENTS\n",
        "\n",
        "np.random.seed(run_num_6)\n",
        "surrogate_approx_6 = GaussianProcess(cov_func, optimize=opt)\n",
        "\n",
        "approx_6 = GPGO_multi(surrogate_approx_6, Acquisition(util_grad_approx), objfunc, param)\n",
        "approx_6.run(init_evals=n_init, max_iter=iters)\n"
      ],
      "execution_count": 18,
      "outputs": [
        {
          "output_type": "stream",
          "name": "stdout",
          "text": [
            "Evaluation \t Proposed point \t  Current eval. \t Best eval.\n",
            "init   \t [ 4.02288795 -1.72052679]. \t  -31.08835710146886 \t -17.28954482757088\n",
            "init   \t [ 3.28938622 -4.69302655]. \t  -58.797867722203385 \t -17.28954482757088\n",
            "init   \t [-4.0175956   0.97333314]. \t  -17.28954482757088 \t -17.28954482757088\n",
            "init   \t [ 0.30532979 -0.83141193]. \t  -19.296253155889353 \t -17.28954482757088\n",
            "init   \t [-1.68542362  1.25459899]. \t  -28.650630936276173 \t -17.28954482757088\n",
            "1      \t [5.12 5.12]. \t  -57.849427451571785 \t -17.28954482757088\n",
            "2      \t [-5.12 -5.12]. \t  -57.849427451571785 \t -17.28954482757088\n",
            "3      \t [-5.12  5.12]. \t  -57.849427451571785 \t -17.28954482757088\n",
            "4      \t [0.39538596 5.12      ]. \t  -46.997434052461784 \t -17.28954482757088\n",
            "5      \t [-0.90974767 -5.12      ]. \t  -31.317581222852226 \t -17.28954482757088\n",
            "6      \t [2.84227571 1.91251714]. \t  -17.730844871727243 \t -17.28954482757088\n",
            "7      \t [-3.01091136 -2.17453931]. \t  -19.252023242506443 \t -17.28954482757088\n",
            "8      \t [5.12       1.12271003]. \t  -33.01311857207632 \t -17.28954482757088\n",
            "9      \t [-2.34755278  4.040206  ]. \t  -37.90442905594564 \t -17.28954482757088\n",
            "10     \t [-5.12     -1.351419]. \t  -46.700795667301016 \t -17.28954482757088\n",
            "11     \t [ 0.84148983 -3.08692349]. \t  \u001b[92m-16.254860923768796\u001b[0m \t -16.254860923768796\n",
            "12     \t [0.64493241 2.21093314]. \t  -29.00652135933732 \t -16.254860923768796\n",
            "13     \t [-5.12        2.42497316]. \t  -53.7145080336231 \t -16.254860923768796\n",
            "14     \t [2.74674409 4.1378633 ]. \t  -38.3939703231669 \t -16.254860923768796\n",
            "15     \t [ 2.28345499 -0.1127886 ]. \t  -19.72121027156227 \t -16.254860923768796\n",
            "16     \t [-1.1783596 -2.5048891]. \t  -33.30745759411127 \t -16.254860923768796\n",
            "17     \t [ 5.12       -3.46111756]. \t  -60.607103663205756 \t -16.254860923768796\n",
            "18     \t [-2.89502147 -4.38925385]. \t  -47.41948618303785 \t -16.254860923768796\n",
            "19     \t [ 1.02668588 -5.12      ]. \t  -30.11903863157403 \t -16.254860923768796\n",
            "20     \t [-2.5744353  -0.48967834]. \t  -45.77259702854044 \t -16.254860923768796\n"
          ]
        }
      ]
    },
    {
      "cell_type": "code",
      "metadata": {
        "colab": {
          "base_uri": "https://localhost:8080/"
        },
        "id": "fKB8MCD_GCVI",
        "outputId": "63d6fe01-e8be-4358-d680-48abf2c53781"
      },
      "source": [
        "### ESTIMATED GP EI GRADIENTS\n",
        "\n",
        "np.random.seed(run_num_7)\n",
        "surrogate_approx_7 = GaussianProcess(cov_func, optimize=opt)\n",
        "\n",
        "approx_7 = GPGO_multi(surrogate_approx_7, Acquisition(util_grad_approx), objfunc, param)\n",
        "approx_7.run(init_evals=n_init, max_iter=iters)\n"
      ],
      "execution_count": 19,
      "outputs": [
        {
          "output_type": "stream",
          "name": "stdout",
          "text": [
            "Evaluation \t Proposed point \t  Current eval. \t Best eval.\n",
            "init   \t [-4.33860312  2.86636843]. \t  -45.646133072936244 \t -22.52235437888213\n",
            "init   \t [-0.63068947  2.28828342]. \t  -34.83012662845338 \t -22.52235437888213\n",
            "init   \t [4.8946126  0.39419771]. \t  -44.09657005662876 \t -22.52235437888213\n",
            "init   \t [ 0.01147355 -4.38219639]. \t  -36.613209822404315 \t -22.52235437888213\n",
            "init   \t [-2.37118484e+00 -1.20319155e-03]. \t  -22.52235437888213 \t -22.52235437888213\n",
            "1      \t [-5.12 -5.12]. \t  -57.849427451571785 \t -22.52235437888213\n",
            "2      \t [ 5.12 -5.12]. \t  -57.849427451571785 \t -22.52235437888213\n",
            "3      \t [3.59582885 5.12      ]. \t  -60.096120167576416 \t -22.52235437888213\n",
            "4      \t [ 1.41112807 -0.96393483]. \t  \u001b[92m-21.65714879375041\u001b[0m \t -21.65714879375041\n",
            "5      \t [-5.12       -1.46589938]. \t  -50.844913659121914 \t -21.65714879375041\n",
            "6      \t [-1.80753211  5.12      ]. \t  -38.65525023378284 \t -21.65714879375041\n",
            "7      \t [2.33771131 2.13272392]. \t  -28.529995053901867 \t -21.65714879375041\n",
            "8      \t [ 3.58916024 -2.53684946]. \t  -57.52227029848814 \t -21.65714879375041\n",
            "9      \t [-2.48043663 -3.05376139]. \t  -35.96768809760418 \t -21.65714879375041\n",
            "10     \t [0.829006   4.52656357]. \t  -46.275353922252 \t -21.65714879375041\n",
            "11     \t [-5.12  5.12]. \t  -57.849427451571785 \t -21.65714879375041\n",
            "12     \t [5.12       2.99275854]. \t  -37.89166661014038 \t -21.65714879375041\n",
            "13     \t [ 2.32601022 -5.12      ]. \t  -48.931406316430454 \t -21.65714879375041\n",
            "14     \t [-0.55086295 -1.43359311]. \t  -40.994390889923416 \t -21.65714879375041\n",
            "15     \t [-2.34099067 -5.12      ]. \t  -49.81567075847764 \t -21.65714879375041\n",
            "16     \t [-5.12        0.84038483]. \t  -34.25229251175403 \t -21.65714879375041\n",
            "17     \t [0.84980845 0.69653293]. \t  \u001b[92m-18.635821793784714\u001b[0m \t -18.635821793784714\n",
            "18     \t [2.76019423 0.00751225]. \t  \u001b[92m-16.989781941747722\u001b[0m \t -16.989781941747722\n",
            "19     \t [-2.51738746  1.82452193]. \t  -35.09338221717793 \t -16.989781941747722\n",
            "20     \t [ 1.26260422 -2.76470579]. \t  -29.10620850159425 \t -16.989781941747722\n"
          ]
        }
      ]
    },
    {
      "cell_type": "code",
      "metadata": {
        "colab": {
          "base_uri": "https://localhost:8080/"
        },
        "id": "4unvifF-GCXp",
        "outputId": "3d869e35-2205-4e0b-8228-3df4688efc8d"
      },
      "source": [
        "### ESTIMATED GP EI GRADIENTS\n",
        "\n",
        "np.random.seed(run_num_8)\n",
        "surrogate_approx_8 = GaussianProcess(cov_func, optimize=opt)\n",
        "\n",
        "approx_8 = GPGO_multi(surrogate_approx_8, Acquisition(util_grad_approx), objfunc, param)\n",
        "approx_8.run(init_evals=n_init, max_iter=iters)\n"
      ],
      "execution_count": 20,
      "outputs": [
        {
          "output_type": "stream",
          "name": "stdout",
          "text": [
            "Evaluation \t Proposed point \t  Current eval. \t Best eval.\n",
            "init   \t [3.82391708 4.79785639]. \t  -50.20079446939181 \t -13.871821018360485\n",
            "init   \t [3.78055209 0.31596228]. \t  -36.5114251593508 \t -13.871821018360485\n",
            "init   \t [-2.73686192 -5.00327624]. \t  -43.34985765011677 \t -13.871821018360485\n",
            "init   \t [-0.7119993  -0.99992207]. \t  -13.871821018360485 \t -13.871821018360485\n",
            "init   \t [ 0.23218863 -0.22126801]. \t  -17.190590355445654 \t -13.871821018360485\n",
            "1      \t [-5.12  5.12]. \t  -57.849427451571785 \t -13.871821018360485\n",
            "2      \t [ 5.12 -5.12]. \t  -57.849427451571785 \t -13.871821018360485\n",
            "3      \t [-5.12       -0.06223651]. \t  -29.683468800347065 \t -13.871821018360485\n",
            "4      \t [-0.66932323  4.17620181]. \t  -38.270916573292034 \t -13.871821018360485\n",
            "5      \t [ 1.18398265 -4.40959317]. \t  -45.24581989986842 \t -13.871821018360485\n",
            "6      \t [-2.62592545  1.70384446]. \t  -39.68796107724377 \t -13.871821018360485\n",
            "7      \t [-5.12       -3.12937377]. \t  -41.84359280883227 \t -13.871821018360485\n",
            "8      \t [1.62769086 2.34328536]. \t  -40.62227932018722 \t -13.871821018360485\n",
            "9      \t [ 5.12       -2.11119295]. \t  -35.724711299399395 \t -13.871821018360485\n",
            "10     \t [-2.59391609 -1.83802375]. \t  -33.1626094583492 \t -13.871821018360485\n",
            "11     \t [5.12       2.44906928]. \t  -54.41498572812467 \t -13.871821018360485\n",
            "12     \t [ 2.13260972 -1.86114066]. \t  -14.857546010014124 \t -13.871821018360485\n",
            "13     \t [-5.12        2.43380613]. \t  -53.99562290978842 \t -13.871821018360485\n",
            "14     \t [1.38472664 5.12      ]. \t  -48.3319225924256 \t -13.871821018360485\n",
            "15     \t [-2.63536883  5.12      ]. \t  -52.46560005109515 \t -13.871821018360485\n",
            "16     \t [-0.67854754 -3.04211333]. \t  -24.403113215275916 \t -13.871821018360485\n",
            "17     \t [-5.12 -5.12]. \t  -57.849427451571785 \t -13.871821018360485\n",
            "18     \t [ 3.23551211 -3.37197879]. \t  -47.86530874737396 \t -13.871821018360485\n",
            "19     \t [-0.472168    1.43372451]. \t  -41.27141790513953 \t -13.871821018360485\n",
            "20     \t [ 1.66324662 -0.59534978]. \t  -36.56419302690813 \t -13.871821018360485\n"
          ]
        }
      ]
    },
    {
      "cell_type": "code",
      "metadata": {
        "colab": {
          "base_uri": "https://localhost:8080/"
        },
        "id": "85OIXcg7GCaJ",
        "outputId": "a74eb253-27c8-4147-a176-0449d1103ea5"
      },
      "source": [
        "### ESTIMATED GP EI GRADIENTS\n",
        "\n",
        "np.random.seed(run_num_9)\n",
        "surrogate_approx_9 = GaussianProcess(cov_func, optimize=opt)\n",
        "\n",
        "approx_9 = GPGO_multi(surrogate_approx_9, Acquisition(util_grad_approx), objfunc, param)\n",
        "approx_9.run(init_evals=n_init, max_iter=iters)\n"
      ],
      "execution_count": 21,
      "outputs": [
        {
          "output_type": "stream",
          "name": "stdout",
          "text": [
            "Evaluation \t Proposed point \t  Current eval. \t Best eval.\n",
            "init   \t [-5.01376866  0.01919582]. \t  -25.248289026162446 \t -24.454800313488693\n",
            "init   \t [-0.04328148 -3.74958562]. \t  -24.454800313488693 \t -24.454800313488693\n",
            "init   \t [-3.66478248 -2.88195916]. \t  -39.46509426509438 \t -24.454800313488693\n",
            "init   \t [-0.83447623 -2.57944404]. \t  -31.06766397812992 \t -24.454800313488693\n",
            "init   \t [-4.25922917 -1.58209393]. \t  -49.922543556206975 \t -24.454800313488693\n",
            "1      \t [3.51080105 5.12      ]. \t  -61.22741827329939 \t -24.454800313488693\n",
            "2      \t [ 5.12      -0.5610118]. \t  -48.513622227127115 \t -24.454800313488693\n",
            "3      \t [-2.50512997  5.12      ]. \t  -55.19519566060133 \t -24.454800313488693\n",
            "4      \t [ 4.62690677 -5.12      ]. \t  -67.31882673100193 \t -24.454800313488693\n",
            "5      \t [0.58892503 1.55859041]. \t  -40.5853174633543 \t -24.454800313488693\n",
            "6      \t [-5.12        3.13650415]. \t  -42.22043954945296 \t -24.454800313488693\n",
            "7      \t [ 2.2019986  -1.69884679]. \t  -27.923378344926494 \t -24.454800313488693\n",
            "8      \t [-5.12 -5.12]. \t  -57.849427451571785 \t -24.454800313488693\n",
            "9      \t [5.12       2.49267166]. \t  -55.12752673383025 \t -24.454800313488693\n",
            "10     \t [-2.38322699  1.37321864]. \t  -41.98395860986151 \t -24.454800313488693\n",
            "11     \t [0.48320908 5.12      ]. \t  -49.102604626880805 \t -24.454800313488693\n",
            "12     \t [ 1.72199793 -5.12      ]. \t  -43.640349232147514 \t -24.454800313488693\n",
            "13     \t [-2.03826865 -5.12      ]. \t  -33.36694141613363 \t -24.454800313488693\n",
            "14     \t [2.88858693 0.95638145]. \t  \u001b[92m-11.983573493514609\u001b[0m \t -11.983573493514609\n",
            "15     \t [-0.62796118 -0.52763549]. \t  -37.46065024964487 \t -11.983573493514609\n",
            "16     \t [-5.12  5.12]. \t  -57.849427451571785 \t -11.983573493514609\n",
            "17     \t [ 5.12       -2.78955858]. \t  -44.24632519337838 \t -11.983573493514609\n",
            "18     \t [2.4044845  2.86511416]. \t  -35.624483794139934 \t -11.983573493514609\n",
            "19     \t [-1.01709903  3.19796111]. \t  -18.10735282807081 \t -11.983573493514609\n",
            "20     \t [2.69383433 0.21236344]. \t  -28.41524441287695 \t -11.983573493514609\n"
          ]
        }
      ]
    },
    {
      "cell_type": "code",
      "metadata": {
        "colab": {
          "base_uri": "https://localhost:8080/"
        },
        "id": "QQBR-qJPGCcp",
        "outputId": "d07687d6-363b-4585-f7cb-794de3287e7d"
      },
      "source": [
        "### ESTIMATED GP EI GRADIENTS\n",
        "\n",
        "np.random.seed(run_num_10)\n",
        "surrogate_approx_10 = GaussianProcess(cov_func, optimize=opt)\n",
        "\n",
        "approx_10 = GPGO_multi(surrogate_approx_10, Acquisition(util_grad_approx), objfunc, param)\n",
        "approx_10.run(init_evals=n_init, max_iter=iters)\n"
      ],
      "execution_count": 22,
      "outputs": [
        {
          "output_type": "stream",
          "name": "stdout",
          "text": [
            "Evaluation \t Proposed point \t  Current eval. \t Best eval.\n",
            "init   \t [ 2.77832339 -4.90750004]. \t  -41.674330194390116 \t -13.839458310244165\n",
            "init   \t [1.36855793 2.54775176]. \t  -44.69639719065837 \t -13.839458310244165\n",
            "init   \t [-0.01528819 -2.81808235]. \t  -13.839458310244165 \t -13.839458310244165\n",
            "init   \t [-3.09183626  2.66783449]. \t  -33.23221510904937 \t -13.839458310244165\n",
            "init   \t [-3.38830503 -4.2154003 ]. \t  -54.73014366983691 \t -13.839458310244165\n",
            "1      \t [ 5.12      -0.5682251]. \t  -48.34278335032869 \t -13.839458310244165\n",
            "2      \t [5.12 5.12]. \t  -57.849427451571785 \t -13.839458310244165\n",
            "3      \t [-5.12       -0.60617638]. \t  -47.148195782289186 \t -13.839458310244165\n",
            "4      \t [-5.12  5.12]. \t  -57.849427451571785 \t -13.839458310244165\n",
            "5      \t [-0.83794344  5.12      ]. \t  -34.3781411299326 \t -13.839458310244165\n",
            "6      \t [-1.23131085 -0.10568784]. \t  \u001b[92m-12.480731530978083\u001b[0m \t -12.480731530978083\n",
            "7      \t [ 1.89637792 -0.79302577]. \t  -13.600241313137342 \t -12.480731530978083\n",
            "8      \t [-0.38408626 -5.12      ]. \t  -46.53525601818923 \t -12.480731530978083\n",
            "9      \t [ 5.12       -3.59879217]. \t  -60.01056236586922 \t -12.480731530978083\n",
            "10     \t [4.53162317 2.23144063]. \t  -54.15470867228597 \t -12.480731530978083\n",
            "11     \t [2.14094845 5.12      ]. \t  -37.180164105343124 \t -12.480731530978083\n",
            "12     \t [-2.40329246 -1.64489846]. \t  -42.82564228816194 \t -12.480731530978083\n",
            "13     \t [-5.12        2.04203366]. \t  -33.44135078075107 \t -12.480731530978083\n",
            "14     \t [-0.94075183  1.56250379]. \t  -23.250085481934423 \t -12.480731530978083\n",
            "15     \t [ 2.34349719 -2.43895146]. \t  -46.2562615046299 \t -12.480731530978083\n",
            "16     \t [ 0.44887461 -0.31401148]. \t  -33.70296902369713 \t -12.480731530978083\n",
            "17     \t [-5.12 -5.12]. \t  -57.849427451571785 \t -12.480731530978083\n",
            "18     \t [2.74020784 0.33713135]. \t  -33.44248979893873 \t -12.480731530978083\n",
            "19     \t [-2.80731622  5.12      ]. \t  -43.281793978054175 \t -12.480731530978083\n",
            "20     \t [-2.8493273   0.56399907]. \t  -31.79549705028279 \t -12.480731530978083\n"
          ]
        }
      ]
    },
    {
      "cell_type": "code",
      "metadata": {
        "colab": {
          "base_uri": "https://localhost:8080/"
        },
        "id": "JS8ejeQ2GCfi",
        "outputId": "6c2065d2-442f-42af-f6fe-add655c8b226"
      },
      "source": [
        "### ESTIMATED GP EI GRADIENTS\n",
        "\n",
        "np.random.seed(run_num_11)\n",
        "surrogate_approx_11 = GaussianProcess(cov_func, optimize=opt)\n",
        "\n",
        "approx_11 = GPGO_multi(surrogate_approx_11, Acquisition(util_grad_approx), objfunc, param)\n",
        "approx_11.run(init_evals=n_init, max_iter=iters)\n"
      ],
      "execution_count": 23,
      "outputs": [
        {
          "output_type": "stream",
          "name": "stdout",
          "text": [
            "Evaluation \t Proposed point \t  Current eval. \t Best eval.\n",
            "init   \t [-3.27403839 -4.92057353]. \t  -47.655641290890955 \t -10.679755252484755\n",
            "init   \t [-0.37664229  2.30332343]. \t  -35.87889240695259 \t -10.679755252484755\n",
            "init   \t [-0.81711509 -0.14922651]. \t  -10.679755252484755 \t -10.679755252484755\n",
            "init   \t [-4.98912446 -0.12931474]. \t  -28.05462905574235 \t -10.679755252484755\n",
            "init   \t [4.52410012 3.59214172]. \t  -71.62694632141611 \t -10.679755252484755\n",
            "1      \t [ 5.12       -4.19757348]. \t  -53.309530921692996 \t -10.679755252484755\n",
            "2      \t [-5.12  5.12]. \t  -57.849427451571785 \t -10.679755252484755\n",
            "3      \t [ 0.86786554 -3.93179882]. \t  -20.369323145884422 \t -10.679755252484755\n",
            "4      \t [ 3.18394121 -0.4485238 ]. \t  -35.7877045162475 \t -10.679755252484755\n",
            "5      \t [1.20979584 5.12      ]. \t  -37.88899825069519 \t -10.679755252484755\n",
            "6      \t [-1.93526572  5.12      ]. \t  -33.48580312028723 \t -10.679755252484755\n",
            "7      \t [-2.43568041 -1.96856189]. \t  -29.196675839974347 \t -10.679755252484755\n",
            "8      \t [-3.4845543   2.27293707]. \t  -48.69750159619943 \t -10.679755252484755\n",
            "9      \t [-5.12       -2.87684603]. \t  -40.0483493642334 \t -10.679755252484755\n",
            "10     \t [ 0.67723523 -1.49824558]. \t  -37.117104945810574 \t -10.679755252484755\n",
            "11     \t [ 2.60466246 -5.12      ]. \t  -53.62351131262487 \t -10.679755252484755\n",
            "12     \t [5.12       0.76913423]. \t  -38.31693601936753 \t -10.679755252484755\n",
            "13     \t [2.0986944  1.98180219]. \t  \u001b[92m-10.259240081357309\u001b[0m \t -10.259240081357309\n",
            "14     \t [-0.70746001 -5.12      ]. \t  -42.06636711240648 \t -10.259240081357309\n",
            "15     \t [ 5.12       -1.76257257]. \t  -41.242239031187296 \t -10.259240081357309\n",
            "16     \t [-2.16897727  0.22341032]. \t  -18.217708777113913 \t -10.259240081357309\n",
            "17     \t [ 2.73456538 -2.68463868]. \t  -39.64570319396294 \t -10.259240081357309\n",
            "18     \t [1.25353471 0.80602733]. \t  -18.99506194959081 \t -10.259240081357309\n",
            "19     \t [-5.12 -5.12]. \t  -57.849427451571785 \t -10.259240081357309\n",
            "20     \t [2.01955114 2.93831921]. \t  -13.529293800671265 \t -10.259240081357309\n"
          ]
        }
      ]
    },
    {
      "cell_type": "code",
      "metadata": {
        "colab": {
          "base_uri": "https://localhost:8080/"
        },
        "id": "DXwjUVZ4GCii",
        "outputId": "ef0d957c-1b4f-41d3-cc55-6252d02213f2"
      },
      "source": [
        "### ESTIMATED GP EI GRADIENTS\n",
        "\n",
        "np.random.seed(run_num_12)\n",
        "surrogate_approx_12 = GaussianProcess(cov_func, optimize=opt)\n",
        "\n",
        "approx_12 = GPGO_multi(surrogate_approx_12, Acquisition(util_grad_approx), objfunc, param)\n",
        "approx_12.run(init_evals=n_init, max_iter=iters)\n"
      ],
      "execution_count": 24,
      "outputs": [
        {
          "output_type": "stream",
          "name": "stdout",
          "text": [
            "Evaluation \t Proposed point \t  Current eval. \t Best eval.\n",
            "init   \t [-3.54137249  2.45810889]. \t  -57.903242869085595 \t -40.51116653209555\n",
            "init   \t [-2.42365424  0.34549139]. \t  -40.51116653209555 \t -40.51116653209555\n",
            "init   \t [-4.97075238  4.28796936]. \t  -55.62655915398208 \t -40.51116653209555\n",
            "init   \t [ 4.10332011 -4.77776458]. \t  -49.962803461970296 \t -40.51116653209555\n",
            "init   \t [ 4.6791612  -3.71497655]. \t  -62.183891474990624 \t -40.51116653209555\n",
            "1      \t [5.12 5.12]. \t  -57.849427451571785 \t -40.51116653209555\n",
            "2      \t [-5.12 -5.12]. \t  -57.849427451571785 \t -40.51116653209555\n",
            "3      \t [2.51279756 0.83222809]. \t  \u001b[92m-32.0347049604582\u001b[0m \t -32.0347049604582\n",
            "4      \t [0.33250658 5.12      ]. \t  -43.99021995790211 \t -32.0347049604582\n",
            "5      \t [-0.48615188 -4.11928805]. \t  -39.84681237405176 \t -32.0347049604582\n",
            "6      \t [-5.12       -1.54444012]. \t  -50.922700899515455 \t -32.0347049604582\n",
            "7      \t [ 5.12      -0.3785323]. \t  -46.29424967111767 \t -32.0347049604582\n",
            "8      \t [ 1.63822796 -1.98161529]. \t  \u001b[92m-23.13686609897583\u001b[0m \t -23.13686609897583\n",
            "9      \t [-0.04371747  2.14293688]. \t  \u001b[92m-8.738002283471229\u001b[0m \t -8.738002283471229\n",
            "10     \t [2.70822367 3.49134988]. \t  -52.104078673034266 \t -8.738002283471229\n",
            "11     \t [-2.63746043 -2.72196202]. \t  -42.61422569021544 \t -8.738002283471229\n",
            "12     \t [-2.28789755  5.12      ]. \t  -46.517924173959 \t -8.738002283471229\n",
            "13     \t [5.12       2.25429309]. \t  -44.276260898505356 \t -8.738002283471229\n",
            "14     \t [ 0.00354525 -0.32693986]. \t  -14.75754863355851 \t -8.738002283471229\n",
            "15     \t [ 1.66613454 -5.12      ]. \t  -46.72964492999675 \t -8.738002283471229\n",
            "16     \t [-2.54731363 -5.12      ]. \t  -54.97488727465918 \t -8.738002283471229\n",
            "17     \t [-5.12        0.84440863]. \t  -34.04767625185074 \t -8.738002283471229\n",
            "18     \t [-0.78134568  2.682865  ]. \t  -29.945697346055123 \t -8.738002283471229\n",
            "19     \t [0.51288924 1.34912616]. \t  -37.88376663537915 \t -8.738002283471229\n",
            "20     \t [-0.52127893 -1.60164449]. \t  -40.77675764896434 \t -8.738002283471229\n"
          ]
        }
      ]
    },
    {
      "cell_type": "code",
      "metadata": {
        "colab": {
          "base_uri": "https://localhost:8080/"
        },
        "id": "CphOPndPGClX",
        "outputId": "d2a557c4-14fb-4893-f6db-b14c1d6f0cd1"
      },
      "source": [
        "### ESTIMATED GP EI GRADIENTS\n",
        "\n",
        "np.random.seed(run_num_13)\n",
        "surrogate_approx_13 = GaussianProcess(cov_func, optimize=opt)\n",
        "\n",
        "approx_13 = GPGO_multi(surrogate_approx_13, Acquisition(util_grad_approx), objfunc, param)\n",
        "approx_13.run(init_evals=n_init, max_iter=iters)\n"
      ],
      "execution_count": 25,
      "outputs": [
        {
          "output_type": "stream",
          "name": "stdout",
          "text": [
            "Evaluation \t Proposed point \t  Current eval. \t Best eval.\n",
            "init   \t [ 2.84367268 -2.68757791]. \t  -33.58019830007169 \t -17.435826639425656\n",
            "init   \t [3.32061217 4.76927179]. \t  -56.857057997503354 \t -17.435826639425656\n",
            "init   \t [ 4.83943541 -0.47667971]. \t  -48.211919361679726 \t -17.435826639425656\n",
            "init   \t [1.11659482 2.82139151]. \t  -17.435826639425656 \t -17.435826639425656\n",
            "init   \t [1.45012065 2.27346667]. \t  -38.25352329493884 \t -17.435826639425656\n",
            "1      \t [-5.12       -2.72662613]. \t  -47.82255372239195 \t -17.435826639425656\n",
            "2      \t [-5.12        5.07153112]. \t  -55.63825039701016 \t -17.435826639425656\n",
            "3      \t [-1.07701415 -5.12      ]. \t  -31.232773664675832 \t -17.435826639425656\n",
            "4      \t [-2.83921863  1.1053556 ]. \t  \u001b[92m-16.078386102101117\u001b[0m \t -16.078386102101117\n",
            "5      \t [-1.16170189  5.12      ]. \t  -35.00658809821556 \t -16.078386102101117\n",
            "6      \t [-0.61183449 -1.41801881]. \t  -38.71868820954275 \t -16.078386102101117\n",
            "7      \t [ 5.12 -5.12]. \t  -57.849427451571785 \t -16.078386102101117\n",
            "8      \t [-5.12        1.67307423]. \t  -46.37127270434785 \t -16.078386102101117\n",
            "9      \t [5.12       2.46276691]. \t  -54.71753505263861 \t -16.078386102101117\n",
            "10     \t [ 1.73848067 -5.12      ]. \t  -42.67017767553109 \t -16.078386102101117\n",
            "11     \t [-3.90824174 -5.12      ]. \t  -45.81549732855366 \t -16.078386102101117\n",
            "12     \t [-1.26593752  2.43112253]. \t  -37.59074108456087 \t -16.078386102101117\n",
            "13     \t [ 1.88943717 -0.23963104]. \t  \u001b[92m-15.293813173732675\u001b[0m \t -15.293813173732675\n",
            "14     \t [-3.21868081 -0.96775967]. \t  -19.545774152929713 \t -15.293813173732675\n",
            "15     \t [0.95598244 5.12      ]. \t  -30.218640653613043 \t -15.293813173732675\n",
            "16     \t [-2.31535809 -3.07257676]. \t  -29.81557574251375 \t -15.293813173732675\n",
            "17     \t [-3.2101106   3.61811378]. \t  -48.28569132555426 \t -15.293813173732675\n",
            "18     \t [ 5.12      -2.7407874]. \t  -47.015150902949195 \t -15.293813173732675\n",
            "19     \t [ 0.51351006 -3.19309228]. \t  -36.92361206873737 \t -15.293813173732675\n",
            "20     \t [-5.12       -0.49177571]. \t  -49.153208668916065 \t -15.293813173732675\n"
          ]
        }
      ]
    },
    {
      "cell_type": "code",
      "metadata": {
        "colab": {
          "base_uri": "https://localhost:8080/"
        },
        "id": "ojHTeARNGCoi",
        "outputId": "ee83a6ca-6152-40f8-e860-45c98298e665"
      },
      "source": [
        "### ESTIMATED GP EI GRADIENTS\n",
        "\n",
        "np.random.seed(run_num_14)\n",
        "surrogate_approx_14 = GaussianProcess(cov_func, optimize=opt)\n",
        "\n",
        "approx_14 = GPGO_multi(surrogate_approx_14, Acquisition(util_grad_approx), objfunc, param)\n",
        "approx_14.run(init_evals=n_init, max_iter=iters)\n"
      ],
      "execution_count": 26,
      "outputs": [
        {
          "output_type": "stream",
          "name": "stdout",
          "text": [
            "Evaluation \t Proposed point \t  Current eval. \t Best eval.\n",
            "init   \t [0.14277984 2.79721013]. \t  -18.683085263052178 \t -10.423838604848608\n",
            "init   \t [ 3.7931795  -5.03759925]. \t  -47.36348784446708 \t -10.423838604848608\n",
            "init   \t [-1.94830412  4.68586229]. \t  -40.19779334078636 \t -10.423838604848608\n",
            "init   \t [ 0.13431513 -1.86076749]. \t  -10.423838604848608 \t -10.423838604848608\n",
            "init   \t [ 0.40140736 -2.85434939]. \t  -30.353548735049138 \t -10.423838604848608\n",
            "1      \t [-5.12 -5.12]. \t  -57.8494274515718 \t -10.423838604848608\n",
            "2      \t [5.12 5.12]. \t  -57.849427451571785 \t -10.423838604848608\n",
            "3      \t [-5.12        0.35539845]. \t  -45.19985484919319 \t -10.423838604848608\n",
            "4      \t [ 5.12       -0.06381784]. \t  -29.721994581483365 \t -10.423838604848608\n",
            "5      \t [-5.12  5.12]. \t  -57.849427451571785 \t -10.423838604848608\n",
            "6      \t [-1.64659423  0.04128776]. \t  -19.09720049500065 \t -10.423838604848608\n",
            "7      \t [-1.68580025 -5.12      ]. \t  -45.691919484539156 \t -10.423838604848608\n",
            "8      \t [1.91873932 0.2369747 ]. \t  -14.195594781424084 \t -10.423838604848608\n",
            "9      \t [1.75616138 5.12      ]. \t  -41.62178242108443 \t -10.423838604848608\n",
            "10     \t [-3.36986533 -2.3260722 ]. \t  -48.20573196762487 \t -10.423838604848608\n",
            "11     \t [3.48153917 2.41512783]. \t  -56.49826727318151 \t -10.423838604848608\n",
            "12     \t [ 3.28652383 -2.13814775]. \t  -31.1842060097592 \t -10.423838604848608\n",
            "13     \t [-3.14157044  2.27900931]. \t  -30.578079888041668 \t -10.423838604848608\n",
            "14     \t [ 1.13105561 -5.12      ]. \t  -33.40702907388788 \t -10.423838604848608\n",
            "15     \t [ 5.12       -2.95113704]. \t  -38.10152445779643 \t -10.423838604848608\n",
            "16     \t [ 0.28538581 -0.04890788]. \t  -12.757374777860996 \t -10.423838604848608\n",
            "17     \t [-5.12        2.73056062]. \t  -47.599052361235266 \t -10.423838604848608\n",
            "18     \t [-0.9267705   1.65951233]. \t  -20.03698217887141 \t -10.423838604848608\n",
            "19     \t [-1.08645177 -1.60035041]. \t  -23.25807862107682 \t -10.423838604848608\n",
            "20     \t [-5.12      -2.3163428]. \t  -48.3389256003228 \t -10.423838604848608\n"
          ]
        }
      ]
    },
    {
      "cell_type": "code",
      "metadata": {
        "colab": {
          "base_uri": "https://localhost:8080/"
        },
        "id": "vCJzn4vWGCs3",
        "outputId": "a6c75986-aa81-40b4-9c16-832d23e56810"
      },
      "source": [
        "### ESTIMATED GP EI GRADIENTS\n",
        "\n",
        "np.random.seed(run_num_15)\n",
        "surrogate_approx_15 = GaussianProcess(cov_func, optimize=opt)\n",
        "\n",
        "approx_15 = GPGO_multi(surrogate_approx_15, Acquisition(util_grad_approx), objfunc, param)\n",
        "approx_15.run(init_evals=n_init, max_iter=iters)\n"
      ],
      "execution_count": 27,
      "outputs": [
        {
          "output_type": "stream",
          "name": "stdout",
          "text": [
            "Evaluation \t Proposed point \t  Current eval. \t Best eval.\n",
            "init   \t [ 3.57189322 -3.28810573]. \t  -54.938487770767075 \t -7.990765314336182\n",
            "init   \t [-4.56332069 -1.41784631]. \t  -60.750198753157726 \t -7.990765314336182\n",
            "init   \t [-2.29989449  0.3072023 ]. \t  -31.984997246800887 \t -7.990765314336182\n",
            "init   \t [-1.9873903  -2.00218256]. \t  -7.990765314336182 \t -7.990765314336182\n",
            "init   \t [-3.97576933 -2.5610341 ]. \t  -41.754957769694336 \t -7.990765314336182\n",
            "1      \t [3.22352526 5.12      ]. \t  -47.66003287916206 \t -7.990765314336182\n",
            "2      \t [-5.12  5.12]. \t  -57.849427451571785 \t -7.990765314336182\n",
            "3      \t [5.12       1.00950267]. \t  -29.961628741389767 \t -7.990765314336182\n",
            "4      \t [-0.33203253 -5.12      ]. \t  -43.9640112042338 \t -7.990765314336182\n",
            "5      \t [-0.90979005  4.44649479]. \t  -41.6030370193395 \t -7.990765314336182\n",
            "6      \t [1.41822755 0.64252462]. \t  -37.38429978708297 \t -7.990765314336182\n",
            "7      \t [-5.12 -5.12]. \t  -57.849427451571785 \t -7.990765314336182\n",
            "8      \t [-5.12        1.87021903]. \t  -35.566936157752465 \t -7.990765314336182\n",
            "9      \t [ 0.38226562 -2.14121153]. \t  -25.801903054164974 \t -7.990765314336182\n",
            "10     \t [ 5.12 -5.12]. \t  -57.849427451571785 \t -7.990765314336182\n",
            "11     \t [5.12       3.49194287]. \t  -61.105567319391376 \t -7.990765314336182\n",
            "12     \t [1.44717505 3.13882362]. \t  -34.969732489800215 \t -7.990765314336182\n",
            "13     \t [ 5.12       -1.30137603]. \t  -43.79057383891074 \t -7.990765314336182\n",
            "14     \t [-2.84539195  2.92653492]. \t  -22.0662431626098 \t -7.990765314336182\n",
            "15     \t [-2.6351795 -5.12     ]. \t  -52.4735390591524 \t -7.990765314336182\n",
            "16     \t [ 2.03843637 -5.12      ]. \t  -33.370140035735616 \t -7.990765314336182\n",
            "17     \t [-0.70708595  1.83108819]. \t  -21.63933015870255 \t -7.990765314336182\n",
            "18     \t [ 2.67317651 -0.99460779]. \t  -22.78254651494896 \t -7.990765314336182\n",
            "19     \t [-1.57789675 -2.54140437]. \t  -47.43796892509216 \t -7.990765314336182\n",
            "20     \t [-2.83527032  5.12      ]. \t  -41.85844516043062 \t -7.990765314336182\n"
          ]
        }
      ]
    },
    {
      "cell_type": "code",
      "metadata": {
        "colab": {
          "base_uri": "https://localhost:8080/"
        },
        "id": "bGGkhp-kGCw6",
        "outputId": "98f1e9f3-a1ea-4ce2-9de6-c00b10e2ca03"
      },
      "source": [
        "### ESTIMATED GP EI GRADIENTS\n",
        "\n",
        "np.random.seed(run_num_16)\n",
        "surrogate_approx_16 = GaussianProcess(cov_func, optimize=opt)\n",
        "\n",
        "approx_16 = GPGO_multi(surrogate_approx_16, Acquisition(util_grad_approx), objfunc, param)\n",
        "approx_16.run(init_evals=n_init, max_iter=iters)\n"
      ],
      "execution_count": 28,
      "outputs": [
        {
          "output_type": "stream",
          "name": "stdout",
          "text": [
            "Evaluation \t Proposed point \t  Current eval. \t Best eval.\n",
            "init   \t [-2.83349935  0.23719262]. \t  -22.27210456874814 \t -22.27210456874814\n",
            "init   \t [ 0.51918292 -4.65303603]. \t  -57.57021076017139 \t -22.27210456874814\n",
            "init   \t [-1.42613673 -2.83565116]. \t  -33.89145899403749 \t -22.27210456874814\n",
            "init   \t [ 1.9325559  -3.44339021]. \t  -35.85029586225333 \t -22.27210456874814\n",
            "init   \t [-4.39987336  4.51595121]. \t  -77.78800881964571 \t -22.27210456874814\n",
            "1      \t [5.12 5.12]. \t  -57.849427451571785 \t -22.27210456874814\n",
            "2      \t [5.12       0.13349914]. \t  -32.25897550161997 \t -22.27210456874814\n",
            "3      \t [0.539909   3.56726528]. \t  -51.824227182351265 \t -22.27210456874814\n",
            "4      \t [-5.12 -5.12]. \t  -57.849427451571785 \t -22.27210456874814\n",
            "5      \t [ 5.12 -5.12]. \t  -57.849427451571785 \t -22.27210456874814\n",
            "6      \t [1.26301306 0.01630371]. \t  \u001b[92m-12.464614970037093\u001b[0m \t -12.464614970037093\n",
            "7      \t [-5.12       -1.65387329]. \t  -47.33925464108792 \t -12.464614970037093\n",
            "8      \t [3.37865262 2.40309731]. \t  -52.62466255766155 \t -12.464614970037093\n",
            "9      \t [-5.12        1.50296766]. \t  -51.1818871366905 \t -12.464614970037093\n",
            "10     \t [ 5.12       -2.35306962]. \t  -50.49443527544964 \t -12.464614970037093\n",
            "11     \t [-1.58295083  5.12      ]. \t  -50.10269265166926 \t -12.464614970037093\n",
            "12     \t [-0.67723057  1.0053581 ]. \t  -15.889640485074963 \t -12.464614970037093\n",
            "13     \t [-2.37072039 -5.12      ]. \t  -51.42342516853732 \t -12.464614970037093\n",
            "14     \t [2.42523411 5.12      ]. \t  -53.723207827780044 \t -12.464614970037093\n",
            "15     \t [ 2.68517068 -0.95815957]. \t  -22.43341921275644 \t -12.464614970037093\n",
            "16     \t [-2.2675562   2.47837029]. \t  -42.29277662831218 \t -12.464614970037093\n",
            "17     \t [-0.06501559 -1.03455005]. \t  \u001b[92m-2.1320679288525515\u001b[0m \t -2.1320679288525515\n",
            "18     \t [-0.07153139 -1.03864586]. \t  -2.370378079903329 \t -2.1320679288525515\n",
            "19     \t [-0.07120878 -1.03850727]. \t  -2.359165995578575 \t -2.1320679288525515\n",
            "20     \t [-0.07105472 -1.03843902]. \t  -2.3537920345148713 \t -2.1320679288525515\n"
          ]
        }
      ]
    },
    {
      "cell_type": "code",
      "metadata": {
        "id": "Yrs2mp7hGC1Z",
        "colab": {
          "base_uri": "https://localhost:8080/"
        },
        "outputId": "b2ddf6bf-dc66-40ef-cd90-f1263c779919"
      },
      "source": [
        "### ESTIMATED GP EI GRADIENTS\n",
        "\n",
        "np.random.seed(run_num_17)\n",
        "surrogate_approx_17 = GaussianProcess(cov_func, optimize=opt)\n",
        "\n",
        "approx_17 = GPGO_multi(surrogate_approx_17, Acquisition(util_grad_approx), objfunc, param)\n",
        "approx_17.run(init_evals=n_init, max_iter=iters)\n"
      ],
      "execution_count": 29,
      "outputs": [
        {
          "output_type": "stream",
          "name": "stdout",
          "text": [
            "Evaluation \t Proposed point \t  Current eval. \t Best eval.\n",
            "init   \t [-2.10263037  0.31320838]. \t  -20.395145364684023 \t -20.395145364684023\n",
            "init   \t [-3.15882714 -4.42470033]. \t  -53.03732051200137 \t -20.395145364684023\n",
            "init   \t [2.93873111 1.60085526]. \t  -29.989224812583537 \t -20.395145364684023\n",
            "init   \t [1.40821398 0.77417363]. \t  -29.451989415882437 \t -20.395145364684023\n",
            "init   \t [-4.71999574 -1.45598869]. \t  -55.89242173757483 \t -20.395145364684023\n",
            "1      \t [ 5.12 -5.12]. \t  -57.849427451571785 \t -20.395145364684023\n",
            "2      \t [-5.12  5.12]. \t  -57.849427451571785 \t -20.395145364684023\n",
            "3      \t [-0.24356323  5.12      ]. \t  -38.579712896499686 \t -20.395145364684023\n",
            "4      \t [5.12 5.12]. \t  -57.849427451571785 \t -20.395145364684023\n",
            "5      \t [ 1.07732594 -3.51439402]. \t  -34.62795867456968 \t -20.395145364684023\n",
            "6      \t [ 5.12       -1.25379988]. \t  -40.73545858546151 \t -20.395145364684023\n",
            "7      \t [-5.12        1.83350683]. \t  -37.27702338282213 \t -20.395145364684023\n",
            "8      \t [-2.31929769  3.11403316]. \t  -31.75302248382494 \t -20.395145364684023\n",
            "9      \t [-1.18603415 -1.98920037]. \t  \u001b[92m-11.474846314718826\u001b[0m \t -11.474846314718826\n",
            "10     \t [2.32595624 4.36236717]. \t  -55.52180802803461 \t -11.474846314718826\n",
            "11     \t [5.12       2.01153133]. \t  -32.99720809031154 \t -11.474846314718826\n",
            "12     \t [-0.58774472 -5.12      ]. \t  -47.78851509537525 \t -11.474846314718826\n",
            "13     \t [ 2.51459772 -1.52792507]. \t  -48.46218951086313 \t -11.474846314718826\n",
            "14     \t [ 2.54666649 -5.12      ]. \t  -54.983422076332104 \t -11.474846314718826\n",
            "15     \t [-0.08717017  2.36630181]. \t  -23.744023787559026 \t -11.474846314718826\n",
            "16     \t [-5.12 -5.12]. \t  -57.849427451571785 \t -11.474846314718826\n",
            "17     \t [-0.17364736 -0.83493242]. \t  \u001b[92m-11.025040822358353\u001b[0m \t -11.025040822358353\n",
            "18     \t [-2.62644962  5.12      ]. \t  -52.82932190899807 \t -11.025040822358353\n",
            "19     \t [-2.2183572  -2.04158925]. \t  -17.453575959908704 \t -11.025040822358353\n",
            "20     \t [-0.14040377 -1.56797238]. \t  -25.22535723595304 \t -11.025040822358353\n"
          ]
        }
      ]
    },
    {
      "cell_type": "code",
      "metadata": {
        "id": "f0HIEP3PIUEa",
        "colab": {
          "base_uri": "https://localhost:8080/"
        },
        "outputId": "1680728f-ca82-4cef-a55e-d2e172fe2b00"
      },
      "source": [
        "### ESTIMATED GP EI GRADIENTS\n",
        "\n",
        "np.random.seed(run_num_18)\n",
        "surrogate_approx_18 = GaussianProcess(cov_func, optimize=opt)\n",
        "\n",
        "approx_18 = GPGO_multi(surrogate_approx_18, Acquisition(util_grad_approx), objfunc, param)\n",
        "approx_18.run(init_evals=n_init, max_iter=iters)\n"
      ],
      "execution_count": 30,
      "outputs": [
        {
          "output_type": "stream",
          "name": "stdout",
          "text": [
            "Evaluation \t Proposed point \t  Current eval. \t Best eval.\n",
            "init   \t [1.53983224 0.05584255]. \t  -22.67190580753611 \t -22.67190580753611\n",
            "init   \t [ 3.87687906 -3.25795609]. \t  -38.990099416711985 \t -22.67190580753611\n",
            "init   \t [3.60686662 2.56139557]. \t  -56.66448698782129 \t -22.67190580753611\n",
            "init   \t [1.70088108 4.99604939]. \t  -40.894059318256296 \t -22.67190580753611\n",
            "init   \t [-2.48864335 -4.83014733]. \t  -54.6725749848372 \t -22.67190580753611\n",
            "1      \t [-5.12        2.10205608]. \t  -35.32979086565658 \t -22.67190580753611\n",
            "2      \t [-2.46249904  5.12      ]. \t  -54.71230040787779 \t -22.67190580753611\n",
            "3      \t [-2.31060765 -0.70591119]. \t  -32.288822665465844 \t -22.67190580753611\n",
            "4      \t [ 1.04806018 -5.12      ]. \t  -30.47562235813715 \t -22.67190580753611\n",
            "5      \t [-5.12       -2.45342741]. \t  -54.51892158838552 \t -22.67190580753611\n",
            "6      \t [-0.69696189  2.25257461]. \t  -28.99275151981799 \t -22.67190580753611\n",
            "7      \t [ 5.12       -0.35164306]. \t  -45.00942425356054 \t -22.67190580753611\n",
            "8      \t [5.12 5.12]. \t  -57.849427451571785 \t -22.67190580753611\n",
            "9      \t [ 0.15291018 -2.40801206]. \t  -28.468650500308918 \t -22.67190580753611\n",
            "10     \t [-5.12  5.12]. \t  -57.849427451571785 \t -22.67190580753611\n",
            "11     \t [ 5.12 -5.12]. \t  -57.849427451571785 \t -22.67190580753611\n",
            "12     \t [-5.12 -5.12]. \t  -57.849427451571785 \t -22.67190580753611\n",
            "13     \t [-2.86833435  1.88955278]. \t  \u001b[92m-17.341754248123124\u001b[0m \t -17.341754248123124\n",
            "14     \t [-5.12      -0.0558138]. \t  -29.536464585732674 \t -17.341754248123124\n",
            "15     \t [ 2.4976888  -1.57549252]. \t  -47.61554515242003 \t -17.341754248123124\n",
            "16     \t [1.22676401 2.30578234]. \t  -28.80039083629407 \t -17.341754248123124\n",
            "17     \t [-0.33016822  0.00783478]. \t  \u001b[92m-14.947983017400448\u001b[0m \t -14.947983017400448\n",
            "18     \t [-0.28956933  5.12      ]. \t  -41.469244193339485 \t -14.947983017400448\n",
            "19     \t [-2.16220913 -2.62671658]. \t  -33.32862114789604 \t -14.947983017400448\n",
            "20     \t [ 2.76420962 -5.12      ]. \t  -45.673937301019436 \t -14.947983017400448\n"
          ]
        }
      ]
    },
    {
      "cell_type": "code",
      "metadata": {
        "id": "S3mxRQDLIUPC",
        "colab": {
          "base_uri": "https://localhost:8080/"
        },
        "outputId": "df2b03a7-b22e-4d24-c648-dac0cd0fed22"
      },
      "source": [
        "### ESTIMATED GP EI GRADIENTS\n",
        "\n",
        "np.random.seed(run_num_19)\n",
        "surrogate_approx_19 = GaussianProcess(cov_func, optimize=opt)\n",
        "\n",
        "approx_19 = GPGO_multi(surrogate_approx_19, Acquisition(util_grad_approx), objfunc, param)\n",
        "approx_19.run(init_evals=n_init, max_iter=iters)\n"
      ],
      "execution_count": 31,
      "outputs": [
        {
          "output_type": "stream",
          "name": "stdout",
          "text": [
            "Evaluation \t Proposed point \t  Current eval. \t Best eval.\n",
            "init   \t [-4.12125592  2.6751971 ]. \t  -41.43485596167127 \t -25.867003842388073\n",
            "init   \t [-2.59135515 -3.70553152]. \t  -51.60126035043229 \t -25.867003842388073\n",
            "init   \t [-1.72598719 -4.27008445]. \t  -43.97430127029199 \t -25.867003842388073\n",
            "init   \t [1.76104531 3.13952049]. \t  -25.867003842388073 \t -25.867003842388073\n",
            "init   \t [4.9432772  1.38916592]. \t  -44.66580306903559 \t -25.867003842388073\n",
            "1      \t [ 5.12 -5.12]. \t  -57.849427451571785 \t -25.867003842388073\n",
            "2      \t [ 1.77591818 -1.68630766]. \t  -28.27216075703528 \t -25.867003842388073\n",
            "3      \t [5.12 5.12]. \t  -57.849427451571785 \t -25.867003842388073\n",
            "4      \t [-1.28669704  5.12      ]. \t  -42.865669640497316 \t -25.867003842388073\n",
            "5      \t [-5.12     -0.978415]. \t  -29.97383611970687 \t -25.867003842388073\n",
            "6      \t [-1.20085032  0.35668544]. \t  \u001b[92m-24.74235402085545\u001b[0m \t -24.74235402085545\n",
            "7      \t [ 1.54014273 -5.12      ]. \t  -50.98035076228328 \t -24.74235402085545\n",
            "8      \t [ 5.12       -1.82150431]. \t  -37.8994674266905 \t -24.74235402085545\n",
            "9      \t [-5.12 -5.12]. \t  -57.849427451571785 \t -24.74235402085545\n",
            "10     \t [-5.12  5.12]. \t  -57.849427451571785 \t -24.74235402085545\n",
            "11     \t [1.81537139 0.74366999]. \t  \u001b[92m-20.253355608331404\u001b[0m \t -20.253355608331404\n",
            "12     \t [2.02695351 5.12      ]. \t  -33.17631552678587 \t -20.253355608331404\n",
            "13     \t [-0.86360348  2.59092957]. \t  -29.32352084430063 \t -20.253355608331404\n",
            "14     \t [-0.58635488 -1.85538485]. \t  -26.201880147775547 \t -20.253355608331404\n",
            "15     \t [-3.21519181  0.0530525 ]. \t  \u001b[92m-18.721051417199035\u001b[0m \t -18.721051417199035\n",
            "16     \t [ 3.23910056 -3.27864907]. \t  -42.347383526292205 \t -18.721051417199035\n",
            "17     \t [-5.12       -2.80415546]. \t  -43.45059693311537 \t -18.721051417199035\n",
            "18     \t [-5.12        0.93879039]. \t  -30.536522656293304 \t -18.721051417199035\n",
            "19     \t [ 3.37931113 -0.28942733]. \t  -41.21553174631084 \t -18.721051417199035\n",
            "20     \t [3.66246834 3.14299139]. \t  -42.29044969285198 \t -18.721051417199035\n"
          ]
        }
      ]
    },
    {
      "cell_type": "code",
      "metadata": {
        "id": "Aawd59dRIUYn",
        "colab": {
          "base_uri": "https://localhost:8080/"
        },
        "outputId": "d735c1aa-dab9-4e37-c3e1-890e0c14f7ef"
      },
      "source": [
        "### ESTIMATED GP EI GRADIENTS\n",
        "\n",
        "np.random.seed(run_num_20)\n",
        "surrogate_approx_20 = GaussianProcess(cov_func, optimize=opt)\n",
        "\n",
        "approx_20 = GPGO_multi(surrogate_approx_20, Acquisition(util_grad_approx), objfunc, param)\n",
        "approx_20.run(init_evals=n_init, max_iter=iters)\n"
      ],
      "execution_count": 32,
      "outputs": [
        {
          "output_type": "stream",
          "name": "stdout",
          "text": [
            "Evaluation \t Proposed point \t  Current eval. \t Best eval.\n",
            "init   \t [0.9024594  4.07258857]. \t  -20.24255447774017 \t -17.388691338534382\n",
            "init   \t [4.00927467 3.23417577]. \t  -35.55852254546393 \t -17.388691338534382\n",
            "init   \t [-4.75249064  1.96359764]. \t  -36.54582989269194 \t -17.388691338534382\n",
            "init   \t [-1.24230715  0.18955208]. \t  -17.388691338534382 \t -17.388691338534382\n",
            "init   \t [ 1.61742301 -3.13497377]. \t  -33.22932870179905 \t -17.388691338534382\n",
            "1      \t [-5.12 -5.12]. \t  -57.849427451571785 \t -17.388691338534382\n",
            "2      \t [ 5.12       -0.92644237]. \t  -30.832166800261795 \t -17.388691338534382\n",
            "3      \t [ 5.12 -5.12]. \t  -57.849427451571785 \t -17.388691338534382\n",
            "4      \t [-2.7036893  5.12     ]. \t  -49.103549046822366 \t -17.388691338534382\n",
            "5      \t [-1.34011174 -5.12      ]. \t  -46.08480747428224 \t -17.388691338534382\n",
            "6      \t [-5.12       -1.49922023]. \t  -51.172254993765755 \t -17.388691338534382\n",
            "7      \t [1.91180642 0.46610713]. \t  -25.14281499993438 \t -17.388691338534382\n",
            "8      \t [-2.03027328 -2.26094676]. \t  -20.101512461519587 \t -17.388691338534382\n",
            "9      \t [-1.34692763  2.54188364]. \t  -43.651699471532964 \t -17.388691338534382\n",
            "10     \t [-5.12  5.12]. \t  -57.849427451571785 \t -17.388691338534382\n",
            "11     \t [5.12 5.12]. \t  -57.849427451571785 \t -17.388691338534382\n",
            "12     \t [ 2.24150591 -5.12      ]. \t  -43.415616665314474 \t -17.388691338534382\n",
            "13     \t [5.12       1.32202034]. \t  -45.04475883542597 \t -17.388691338534382\n",
            "14     \t [ 0.18501314 -1.30649727]. \t  -21.24618601304594 \t -17.388691338534382\n",
            "15     \t [2.36236423 5.12      ]. \t  -50.99346999548963 \t -17.388691338534382\n",
            "16     \t [ 3.90977488 -2.66464298]. \t  -39.06067961369007 \t -17.388691338534382\n",
            "17     \t [-3.10053384  0.11466037]. \t  \u001b[92m-14.040842222992598\u001b[0m \t -14.040842222992598\n",
            "18     \t [1.35406493 2.30368249]. \t  -36.532362941267074 \t -14.040842222992598\n",
            "19     \t [-0.32998089  5.12      ]. \t  -43.85008560497832 \t -14.040842222992598\n",
            "20     \t [-3.34844734 -3.4670895 ]. \t  -58.818423515848146 \t -14.040842222992598\n"
          ]
        }
      ]
    },
    {
      "cell_type": "code",
      "metadata": {
        "id": "xkgzPRbBTHaq",
        "colab": {
          "base_uri": "https://localhost:8080/"
        },
        "outputId": "600af816-f650-4e01-d220-2b99e5a136ed"
      },
      "source": [
        "end_approx = time.time()\n",
        "end_approx\n",
        "\n",
        "time_approx = end_approx - start_approx\n",
        "time_approx\n",
        "\n",
        "start_exact = time.time()\n",
        "start_exact"
      ],
      "execution_count": 33,
      "outputs": [
        {
          "output_type": "execute_result",
          "data": {
            "text/plain": [
              "1632477993.022864"
            ]
          },
          "metadata": {},
          "execution_count": 33
        }
      ]
    },
    {
      "cell_type": "code",
      "metadata": {
        "id": "7CG3Ndvb16Rb",
        "colab": {
          "base_uri": "https://localhost:8080/"
        },
        "outputId": "71305e7a-d1c7-4fab-e1b0-ef864240dac4"
      },
      "source": [
        "### EXACT GP EI GRADIENTS\n",
        "\n",
        "np.random.seed(run_num_1)\n",
        "surrogate_exact_1 = dGaussianProcess(cov_func, optimize=opt)\n",
        "\n",
        "exact_1 = dGPGO(surrogate_exact_1, Acquisition_new(util_grad_exact), objfunc, param)\n",
        "exact_1.run(init_evals=n_init, max_iter=iters)\n"
      ],
      "execution_count": 34,
      "outputs": [
        {
          "output_type": "stream",
          "name": "stdout",
          "text": [
            "Evaluation \t Proposed point \t  Current eval. \t Best eval.\n",
            "init   \t [-0.84969467  2.25612281]. \t  -20.33436270766351 \t -19.908403246996286\n",
            "init   \t [-5.1188288  -2.02411446]. \t  -33.07414982069084 \t -19.908403246996286\n",
            "init   \t [-3.61721968 -4.17445279]. \t  -53.347974723929894 \t -19.908403246996286\n",
            "init   \t [-3.21269544 -1.58145816]. \t  -39.218472310354045 \t -19.908403246996286\n",
            "init   \t [-1.05710106  0.39748336]. \t  -19.908403246996286 \t -19.908403246996286\n",
            "1      \t [ 5.09258599 -3.35523319]. \t  -54.977557061714286 \t -19.908403246996286\n",
            "2      \t [4.81300469 3.55152693]. \t  -61.40272686606052 \t -19.908403246996286\n",
            "3      \t [-4.30462896  4.94404724]. \t  -56.95050785332692 \t -19.908403246996286\n",
            "4      \t [ 1.21357893 -5.01386996]. \t  -34.38113257499231 \t -19.908403246996286\n",
            "5      \t [ 2.356134   -0.32124577]. \t  -36.1682666680502 \t -19.908403246996286\n",
            "6      \t [2.22135298 4.99022003]. \t  -38.0653370455428 \t -19.908403246996286\n",
            "7      \t [-4.97569491  2.21128396]. \t  -37.35501748070147 \t -19.908403246996286\n",
            "8      \t [ 0.09844013 -2.07926184]. \t  \u001b[92m-7.400315216427254\u001b[0m \t -7.400315216427254\n",
            "9      \t [-1.54452569  4.47746112]. \t  -61.94431830630833 \t -7.400315216427254\n",
            "10     \t [5.09424633 0.83998696]. \t  -33.00201744932842 \t -7.400315216427254\n",
            "11     \t [-1.3280697  -3.85619088]. \t  -35.15685801816367 \t -7.400315216427254\n",
            "12     \t [1.82766033 1.91798425]. \t  -13.629457358485407 \t -7.400315216427254\n",
            "13     \t [ 1.43333959 -2.10235349]. \t  -27.607596799887425 \t -7.400315216427254\n",
            "14     \t [-2.45973306  0.83184991]. \t  -31.504843136030942 \t -7.400315216427254\n",
            "15     \t [ 4.41195487 -1.11699239]. \t  -41.803734838309886 \t -7.400315216427254\n",
            "16     \t [-0.39117404 -1.37958952]. \t  -37.08023425959572 \t -7.400315216427254\n",
            "17     \t [ 2.73841682 -4.28834216]. \t  -49.00182855706532 \t -7.400315216427254\n",
            "18     \t [1.44161489 3.0856264 ]. \t  -32.346662944834435 \t -7.400315216427254\n",
            "19     \t [1.23359437 0.84418419]. \t  -15.627065919415202 \t -7.400315216427254\n",
            "20     \t [0.44199985 1.18503351]. \t  -26.973407723076484 \t -7.400315216427254\n"
          ]
        }
      ]
    },
    {
      "cell_type": "code",
      "metadata": {
        "id": "-ilCPSAu9SAg",
        "colab": {
          "base_uri": "https://localhost:8080/"
        },
        "outputId": "53b9ce21-dded-4ace-c03a-e78b9ea465a2"
      },
      "source": [
        "### EXACT GP EI GRADIENTS\n",
        "\n",
        "np.random.seed(run_num_2)\n",
        "surrogate_exact_2 = dGaussianProcess(cov_func, optimize=opt)\n",
        "\n",
        "exact_2 = dGPGO(surrogate_exact_2, Acquisition_new(util_grad_exact), objfunc, param)\n",
        "exact_2.run(init_evals=n_init, max_iter=iters)\n"
      ],
      "execution_count": 35,
      "outputs": [
        {
          "output_type": "stream",
          "name": "stdout",
          "text": [
            "Evaluation \t Proposed point \t  Current eval. \t Best eval.\n",
            "init   \t [-0.6554122  -4.85451539]. \t  -43.490296251903594 \t -18.964539418712707\n",
            "init   \t [ 0.50854377 -0.6622987 ]. \t  -35.91861667536101 \t -18.964539418712707\n",
            "init   \t [-0.81543371 -1.73737143]. \t  -20.479562046739524 \t -18.964539418712707\n",
            "init   \t [-3.02439799  1.2213347 ]. \t  -18.964539418712707 \t -18.964539418712707\n",
            "init   \t [-2.05153614 -2.3876887 ]. \t  -28.041315668371354 \t -18.964539418712707\n",
            "1      \t [4.81874241 3.07464552]. \t  -39.56740440269988 \t -18.964539418712707\n",
            "2      \t [ 4.51021305 -4.07410741]. \t  -57.98440460486533 \t -18.964539418712707\n",
            "3      \t [-2.17461496  4.78323847]. \t  -40.97358644569918 \t -18.964539418712707\n",
            "4      \t [1.57298536 3.88389842]. \t  -39.070608262420016 \t -18.964539418712707\n",
            "5      \t [ 4.90069594 -0.8772511 ]. \t  -29.500224665985584 \t -18.964539418712707\n",
            "6      \t [-4.57649926 -3.96235414]. \t  -55.78994422797324 \t -18.964539418712707\n",
            "7      \t [-4.49759408  3.01538587]. \t  -49.36645311930162 \t -18.964539418712707\n",
            "8      \t [-4.40056142 -1.34373538]. \t  -54.836357997872256 \t -18.964539418712707\n",
            "9      \t [2.99870749 1.24766816]. \t  -20.402743927486643 \t -18.964539418712707\n",
            "10     \t [-0.23983593  2.2246853 ]. \t  -22.784681435027345 \t -18.964539418712707\n",
            "11     \t [ 1.55483444 -3.54770121]. \t  -53.97022542599758 \t -18.964539418712707\n",
            "12     \t [5.09066617 4.89207083]. \t  -53.63904571287893 \t -18.964539418712707\n",
            "13     \t [ 2.71308986 -0.94292648]. \t  -21.18448805881423 \t -18.964539418712707\n",
            "14     \t [-1.43427981  0.22948715]. \t  -29.98400921036435 \t -18.964539418712707\n",
            "15     \t [-0.24026537  4.44619215]. \t  -48.649004929048 \t -18.964539418712707\n",
            "16     \t [1.35385779 1.05652167]. \t  -19.64538361942102 \t -18.964539418712707\n",
            "17     \t [-2.72931553 -4.48922148]. \t  -58.87533702333993 \t -18.964539418712707\n",
            "18     \t [-5.04711651  1.00926626]. \t  -26.943960080010655 \t -18.964539418712707\n",
            "19     \t [-4.25462601  4.93384358]. \t  -53.58682706893006 \t -18.964539418712707\n",
            "20     \t [4.54944054 1.01396997]. \t  -41.2854115965837 \t -18.964539418712707\n"
          ]
        }
      ]
    },
    {
      "cell_type": "code",
      "metadata": {
        "id": "XieJ158mIvlP",
        "colab": {
          "base_uri": "https://localhost:8080/"
        },
        "outputId": "9bab4e1f-957c-4fd5-9201-8d8c01378e20"
      },
      "source": [
        "### EXACT GP EI GRADIENTS\n",
        "\n",
        "np.random.seed(run_num_3)\n",
        "surrogate_exact_3 = dGaussianProcess(cov_func, optimize=opt)\n",
        "\n",
        "exact_3 = dGPGO(surrogate_exact_3, Acquisition_new(util_grad_exact), objfunc, param)\n",
        "exact_3.run(init_evals=n_init, max_iter=iters)\n"
      ],
      "execution_count": 36,
      "outputs": [
        {
          "output_type": "stream",
          "name": "stdout",
          "text": [
            "Evaluation \t Proposed point \t  Current eval. \t Best eval.\n",
            "init   \t [0.52017052 2.1314337 ]. \t  -27.953858411008774 \t -10.607662635789808\n",
            "init   \t [-2.14113547  0.11087468]. \t  -10.607662635789808 \t -10.607662635789808\n",
            "init   \t [4.02377681 4.05804123]. \t  -33.42749829480097 \t -10.607662635789808\n",
            "init   \t [-3.83400642 -2.99783293]. \t  -28.650953928965198 \t -10.607662635789808\n",
            "init   \t [-4.59297584 -0.6061072 ]. \t  -57.6631355589384 \t -10.607662635789808\n",
            "1      \t [ 2.87042319 -1.98283743]. \t  -15.364229918613852 \t -10.607662635789808\n",
            "2      \t [-0.21590577 -4.48225812]. \t  -47.949326696405265 \t -10.607662635789808\n",
            "3      \t [-2.55806523  4.29896309]. \t  -57.39475158705871 \t -10.607662635789808\n",
            "4      \t [4.35003785 0.50418553]. \t  -55.0533506973168 \t -10.607662635789808\n",
            "5      \t [ 3.87900005 -4.9359109 ]. \t  -42.96319844258083 \t -10.607662635789808\n",
            "6      \t [0.16778509 5.0285817 ]. \t  -30.536586211744822 \t -10.607662635789808\n",
            "7      \t [ 0.76229762 -1.34191642]. \t  -27.06946799256401 \t -10.607662635789808\n",
            "8      \t [-4.88756856  3.10514855]. \t  -38.027591308562734 \t -10.607662635789808\n",
            "9      \t [ 5.02965182 -2.23945639]. \t  -39.8236241515975 \t -10.607662635789808\n",
            "10     \t [-1.26498569 -0.60441012]. \t  -30.829900692269767 \t -10.607662635789808\n",
            "11     \t [2.2397729  2.31644645]. \t  -33.795084085649734 \t -10.607662635789808\n",
            "12     \t [-4.41761645 -4.41316489]. \t  -76.22945236403635 \t -10.607662635789808\n",
            "13     \t [-2.20610907 -2.90858271]. \t  -22.208615366044825 \t -10.607662635789808\n",
            "14     \t [-4.61974869  5.04492876]. \t  -64.48968594342765 \t -10.607662635789808\n",
            "15     \t [ 1.58112737 -4.71066257]. \t  -55.865582858841925 \t -10.607662635789808\n",
            "16     \t [-2.53070232  1.21842854]. \t  -35.73282147195037 \t -10.607662635789808\n",
            "17     \t [2.48556574 4.67969623]. \t  -62.31155092992114 \t -10.607662635789808\n",
            "18     \t [1.28721209 0.0386882 ]. \t  -14.26927101927026 \t -10.607662635789808\n",
            "19     \t [-2.45914278 -4.92669623]. \t  -51.03407221378354 \t -10.607662635789808\n",
            "20     \t [-0.81305305  2.69228557]. \t  -27.597890347360366 \t -10.607662635789808\n"
          ]
        }
      ]
    },
    {
      "cell_type": "code",
      "metadata": {
        "id": "PhLBVOIfIvol",
        "colab": {
          "base_uri": "https://localhost:8080/"
        },
        "outputId": "c6b47bde-9d34-4053-9cde-dc2b50c43bd5"
      },
      "source": [
        "### EXACT GP EI GRADIENTS\n",
        "\n",
        "np.random.seed(run_num_4)\n",
        "surrogate_exact_4 = dGaussianProcess(cov_func, optimize=opt)\n",
        "\n",
        "exact_4 = dGPGO(surrogate_exact_4, Acquisition_new(util_grad_exact), objfunc, param)\n",
        "exact_4.run(init_evals=n_init, max_iter=iters)\n"
      ],
      "execution_count": 37,
      "outputs": [
        {
          "output_type": "stream",
          "name": "stdout",
          "text": [
            "Evaluation \t Proposed point \t  Current eval. \t Best eval.\n",
            "init   \t [4.78238555 0.48365823]. \t  -51.03163809010808 \t -14.323038259018315\n",
            "init   \t [4.84028785 2.19971578]. \t  -39.78645699016559 \t -14.323038259018315\n",
            "init   \t [ 2.02474316 -2.90724357]. \t  -14.323038259018315 \t -14.323038259018315\n",
            "init   \t [ 4.87705042 -5.05620219]. \t  -52.80627247106233 \t -14.323038259018315\n",
            "init   \t [-2.52946061 -0.66773471]. \t  -41.61497868486559 \t -14.323038259018315\n",
            "1      \t [-0.85221064  4.14379611]. \t  -25.71899181612467 \t -14.323038259018315\n",
            "2      \t [-4.68071904  3.46839754]. \t  -67.95929108099321 \t -14.323038259018315\n",
            "3      \t [-0.68435298 -4.32364782]. \t  -47.635067019439234 \t -14.323038259018315\n",
            "4      \t [1.29267235 0.35946775]. \t  -30.797829779424323 \t -14.323038259018315\n",
            "5      \t [-4.45826767 -4.70837409]. \t  -74.28884342532494 \t -14.323038259018315\n",
            "6      \t [2.65338943 3.87893113]. \t  -40.5472743714635 \t -14.323038259018315\n",
            "7      \t [-5.08880914  0.39531949]. \t  -45.4829586060884 \t -14.323038259018315\n",
            "8      \t [-1.33386591  1.90186076]. \t  -22.266887838791277 \t -14.323038259018315\n",
            "9      \t [ 4.54604988 -2.26804638]. \t  -56.52638755474738 \t -14.323038259018315\n",
            "10     \t [ 2.1585471 -4.8028475]. \t  -39.03172552168408 \t -14.323038259018315\n",
            "11     \t [ 0.66552716 -1.87815909]. \t  -21.82226404956764 \t -14.323038259018315\n",
            "12     \t [4.74471122 4.32923663]. \t  -66.36226705602803 \t -14.323038259018315\n",
            "13     \t [1.05659665 2.82800242]. \t  -15.032468343204245 \t -14.323038259018315\n",
            "14     \t [0.95283963 4.9719588 ]. \t  -26.21890471794247 \t -14.323038259018315\n",
            "15     \t [-4.66202983 -2.13527402]. \t  -44.943874601922616 \t -14.323038259018315\n",
            "16     \t [-2.52866052 -3.44571216]. \t  -57.52922194671628 \t -14.323038259018315\n",
            "17     \t [-3.42149756  4.93731846]. \t  -55.65734361632624 \t -14.323038259018315\n",
            "18     \t [ 2.35132969 -0.88309506]. \t  -24.8324236101784 \t -14.323038259018315\n",
            "19     \t [-0.51519561  0.5052725 ]. \t  -40.46969544357938 \t -14.323038259018315\n",
            "20     \t [-3.08747357  2.10347491]. \t  -17.469913023783718 \t -14.323038259018315\n"
          ]
        }
      ]
    },
    {
      "cell_type": "code",
      "metadata": {
        "id": "arbiPyj2IvsJ",
        "colab": {
          "base_uri": "https://localhost:8080/"
        },
        "outputId": "99192c10-26fa-464e-fba2-d660b3e03563"
      },
      "source": [
        "### EXACT GP EI GRADIENTS\n",
        "\n",
        "np.random.seed(run_num_5)\n",
        "surrogate_exact_5 = dGaussianProcess(cov_func, optimize=opt)\n",
        "\n",
        "exact_5 = dGPGO(surrogate_exact_5, Acquisition_new(util_grad_exact), objfunc, param)\n",
        "exact_5.run(init_evals=n_init, max_iter=iters)\n"
      ],
      "execution_count": 38,
      "outputs": [
        {
          "output_type": "stream",
          "name": "stdout",
          "text": [
            "Evaluation \t Proposed point \t  Current eval. \t Best eval.\n",
            "init   \t [-2.84678993  3.79629882]. \t  -33.93442008827236 \t -7.8108627039749745\n",
            "init   \t [-3.00319585  4.2865757 ]. \t  -39.673876075575784 \t -7.8108627039749745\n",
            "init   \t [-0.11866943  1.14425716]. \t  -7.8108627039749745 \t -7.8108627039749745\n",
            "init   \t [2.72289645 0.1886002 ]. \t  -25.38160395721669 \t -7.8108627039749745\n",
            "init   \t [-2.08076286 -3.19773462]. \t  -22.589982116319675 \t -7.8108627039749745\n",
            "1      \t [ 4.32895605 -5.09732646]. \t  -61.29478907190488 \t -7.8108627039749745\n",
            "2      \t [2.62004563 5.05348104]. \t  -50.24932552080024 \t -7.8108627039749745\n",
            "3      \t [-4.92011562 -4.41531998]. \t  -63.553660919690785 \t -7.8108627039749745\n",
            "4      \t [-4.59307078 -0.95623858]. \t  -40.72466399259909 \t -7.8108627039749745\n",
            "5      \t [ 0.69927527 -4.33099991]. \t  -47.252487435927456 \t -7.8108627039749745\n",
            "6      \t [-2.0696563   0.41755728]. \t  -24.08848494744656 \t -7.8108627039749745\n",
            "7      \t [4.50067983 2.10221462]. \t  -46.6677341150625 \t -7.8108627039749745\n",
            "8      \t [-0.01009699  3.2212736 ]. \t  -18.601674312881165 \t -7.8108627039749745\n",
            "9      \t [ 0.39149626 -1.18537551]. \t  -25.37328716801546 \t -7.8108627039749745\n",
            "10     \t [ 4.12915694 -2.37040788]. \t  -42.64891188069639 \t -7.8108627039749745\n",
            "11     \t [-0.64508572  4.99599656]. \t  -41.50409474970461 \t -7.8108627039749745\n",
            "12     \t [-4.64118756  1.89935893]. \t  -43.39832757333143 \t -7.8108627039749745\n",
            "13     \t [-4.76278912  4.6935106 ]. \t  -67.38578140254556 \t -7.8108627039749745\n",
            "14     \t [1.22457101 2.20704248]. \t  -22.113201600282316 \t -7.8108627039749745\n",
            "15     \t [-1.55019872 -1.48468997]. \t  -44.067887351446245 \t -7.8108627039749745\n",
            "16     \t [-1.16849748  1.61297511]. \t  -26.651663906323197 \t -7.8108627039749745\n",
            "17     \t [ 5.01179075 -0.69751025]. \t  -38.87056099728364 \t -7.8108627039749745\n",
            "18     \t [-2.72156763 -4.81227566]. \t  -48.52809086550582 \t -7.8108627039749745\n",
            "19     \t [4.75787146 4.63496464]. \t  -70.24064659804134 \t -7.8108627039749745\n",
            "20     \t [ 2.06171934 -2.59117085]. \t  -30.111030161360713 \t -7.8108627039749745\n"
          ]
        }
      ]
    },
    {
      "cell_type": "code",
      "metadata": {
        "id": "04KJCEm_Ivvf",
        "colab": {
          "base_uri": "https://localhost:8080/"
        },
        "outputId": "baa1190d-84a0-481b-98a5-604b96b1082f"
      },
      "source": [
        "### EXACT GP EI GRADIENTS\n",
        "\n",
        "np.random.seed(run_num_6)\n",
        "surrogate_exact_6 = dGaussianProcess(cov_func, optimize=opt)\n",
        "\n",
        "exact_6 = dGPGO(surrogate_exact_6, Acquisition_new(util_grad_exact), objfunc, param)\n",
        "exact_6.run(init_evals=n_init, max_iter=iters)\n"
      ],
      "execution_count": 39,
      "outputs": [
        {
          "output_type": "stream",
          "name": "stdout",
          "text": [
            "Evaluation \t Proposed point \t  Current eval. \t Best eval.\n",
            "init   \t [ 4.02288795 -1.72052679]. \t  -31.08835710146886 \t -17.28954482757088\n",
            "init   \t [ 3.28938622 -4.69302655]. \t  -58.797867722203385 \t -17.28954482757088\n",
            "init   \t [-4.0175956   0.97333314]. \t  -17.28954482757088 \t -17.28954482757088\n",
            "init   \t [ 0.30532979 -0.83141193]. \t  -19.296253155889353 \t -17.28954482757088\n",
            "init   \t [-1.68542362  1.25459899]. \t  -28.650630936276173 \t -17.28954482757088\n",
            "1      \t [-3.96371625 -4.4771713 ]. \t  -55.912160056627144 \t -17.28954482757088\n",
            "2      \t [4.14984838 4.25234827]. \t  -49.56569121387191 \t -17.28954482757088\n",
            "3      \t [-3.55797624  4.96515474]. \t  -56.89449401593193 \t -17.28954482757088\n",
            "4      \t [-0.25248771 -4.29099114]. \t  -41.179825301665836 \t -17.28954482757088\n",
            "5      \t [0.0937874  4.24442058]. \t  -29.360018209309448 \t -17.28954482757088\n",
            "6      \t [2.54018989 1.13707989]. \t  -30.913843401986345 \t -17.28954482757088\n",
            "7      \t [-2.43528752 -2.20646142]. \t  -37.2821864970886 \t -17.28954482757088\n",
            "8      \t [-4.94116007 -0.94605372]. \t  -26.554702346039292 \t -17.28954482757088\n",
            "9      \t [-4.74644116  2.64056072]. \t  -56.07190895323063 \t -17.28954482757088\n",
            "10     \t [4.65341207 0.21211193]. \t  -45.044151509172956 \t -17.28954482757088\n",
            "11     \t [ 1.10479523 -2.28946322]. \t  -21.007002697049938 \t -17.28954482757088\n",
            "12     \t [1.64736171 3.50826663]. \t  -51.01939763738873 \t -17.28954482757088\n",
            "13     \t [ 4.94927507 -3.05115169]. \t  -34.82050413800815 \t -17.28954482757088\n",
            "14     \t [-2.28500665 -0.51194364]. \t  -37.63703706923863 \t -17.28954482757088\n",
            "15     \t [-0.06407792  1.16073271]. \t  \u001b[92m-6.8316646464841915\u001b[0m \t -6.8316646464841915\n",
            "16     \t [-1.27712556  2.83486776]. \t  -26.280374260905344 \t -6.8316646464841915\n",
            "17     \t [-1.09448918  4.98499614]. \t  -27.803692588442246 \t -6.8316646464841915\n",
            "18     \t [1.30088688 0.25131853]. \t  -24.981431130413153 \t -6.8316646464841915\n",
            "19     \t [0.11172067 2.1142358 ]. \t  -9.31392698014551 \t -6.8316646464841915\n",
            "20     \t [-1.62938325 -5.10473308]. \t  -47.675039732176614 \t -6.8316646464841915\n"
          ]
        }
      ]
    },
    {
      "cell_type": "code",
      "metadata": {
        "id": "tAOkme3CIvyO",
        "colab": {
          "base_uri": "https://localhost:8080/"
        },
        "outputId": "463bb6db-1685-4ee2-86c3-01e5d8481962"
      },
      "source": [
        "### EXACT GP EI GRADIENTS\n",
        "\n",
        "np.random.seed(run_num_7)\n",
        "surrogate_exact_7 = dGaussianProcess(cov_func, optimize=opt)\n",
        "\n",
        "exact_7 = dGPGO(surrogate_exact_7, Acquisition_new(util_grad_exact), objfunc, param)\n",
        "exact_7.run(init_evals=n_init, max_iter=iters)\n"
      ],
      "execution_count": 40,
      "outputs": [
        {
          "output_type": "stream",
          "name": "stdout",
          "text": [
            "Evaluation \t Proposed point \t  Current eval. \t Best eval.\n",
            "init   \t [-4.33860312  2.86636843]. \t  -45.646133072936244 \t -22.52235437888213\n",
            "init   \t [-0.63068947  2.28828342]. \t  -34.83012662845338 \t -22.52235437888213\n",
            "init   \t [4.8946126  0.39419771]. \t  -44.09657005662876 \t -22.52235437888213\n",
            "init   \t [ 0.01147355 -4.38219639]. \t  -36.613209822404315 \t -22.52235437888213\n",
            "init   \t [-2.37118484e+00 -1.20319155e-03]. \t  -22.52235437888213 \t -22.52235437888213\n",
            "1      \t [-5.10538874 -4.17523358]. \t  -51.084190064364634 \t -22.52235437888213\n",
            "2      \t [4.84838982 4.66312655]. \t  -64.6473079827515 \t -22.52235437888213\n",
            "3      \t [ 5.11189301 -4.6308023 ]. \t  -66.75564361183845 \t -22.52235437888213\n",
            "4      \t [ 1.07611036 -1.50842146]. \t  -24.541177360883296 \t -22.52235437888213\n",
            "5      \t [1.72919605 4.36775638]. \t  -50.11287728110993 \t -22.52235437888213\n",
            "6      \t [-4.96928147  0.06814753]. \t  -25.78687491748664 \t -22.52235437888213\n",
            "7      \t [2.4243632  1.44803063]. \t  -46.33775939258561 \t -22.52235437888213\n",
            "8      \t [-2.11203951 -2.45394468]. \t  -32.44396362277021 \t -22.52235437888213\n",
            "9      \t [-3.1936477   4.93487447]. \t  -41.91076030611562 \t -22.52235437888213\n",
            "10     \t [ 2.63970301 -2.91030401]. \t  -33.37300918286311 \t -22.52235437888213\n",
            "11     \t [-2.40402034 -4.43687259]. \t  -62.92484094789361 \t -22.52235437888213\n",
            "12     \t [-0.84582738  5.08466963]. \t  -32.287567051110784 \t -22.52235437888213\n",
            "13     \t [ 4.99342349 -1.82616834]. \t  -33.672515240109824 \t -22.52235437888213\n",
            "14     \t [-2.60044781  1.63288198]. \t  -44.21458635294935 \t -22.52235437888213\n",
            "15     \t [-0.27908465 -0.89602021]. \t  \u001b[92m-14.757352455157239\u001b[0m \t -14.757352455157239\n",
            "16     \t [ 1.8136205  -5.01685094]. \t  -34.62222747508024 \t -14.757352455157239\n",
            "17     \t [-4.59236814 -1.55952043]. \t  -61.19338363386159 \t -14.757352455157239\n",
            "18     \t [0.15693447 0.40436493]. \t  -22.916558700334114 \t -14.757352455157239\n",
            "19     \t [-5.05766162  4.35030812]. \t  -61.047779877819536 \t -14.757352455157239\n",
            "20     \t [4.36880259 2.28595559]. \t  -53.34245078137537 \t -14.757352455157239\n"
          ]
        }
      ]
    },
    {
      "cell_type": "code",
      "metadata": {
        "id": "69-J3EF4Iv1S",
        "colab": {
          "base_uri": "https://localhost:8080/"
        },
        "outputId": "85026c1b-714b-47ea-e214-5339409af4a4"
      },
      "source": [
        "### EXACT GP EI GRADIENTS\n",
        "\n",
        "np.random.seed(run_num_8)\n",
        "surrogate_exact_8 = dGaussianProcess(cov_func, optimize=opt)\n",
        "\n",
        "exact_8 = dGPGO(surrogate_exact_8, Acquisition_new(util_grad_exact), objfunc, param)\n",
        "exact_8.run(init_evals=n_init, max_iter=iters)\n"
      ],
      "execution_count": 41,
      "outputs": [
        {
          "output_type": "stream",
          "name": "stdout",
          "text": [
            "Evaluation \t Proposed point \t  Current eval. \t Best eval.\n",
            "init   \t [3.82391708 4.79785639]. \t  -50.20079446939181 \t -13.871821018360485\n",
            "init   \t [3.78055209 0.31596228]. \t  -36.5114251593508 \t -13.871821018360485\n",
            "init   \t [-2.73686192 -5.00327624]. \t  -43.34985765011677 \t -13.871821018360485\n",
            "init   \t [-0.7119993  -0.99992207]. \t  -13.871821018360485 \t -13.871821018360485\n",
            "init   \t [ 0.23218863 -0.22126801]. \t  -17.190590355445654 \t -13.871821018360485\n",
            "1      \t [-5.11238257  5.00673475]. \t  -53.60395082170822 \t -13.871821018360485\n",
            "2      \t [ 2.20619847 -4.44312866]. \t  -51.25951325982208 \t -13.871821018360485\n",
            "3      \t [-4.75998224 -1.28962421]. \t  -46.15779213352947 \t -13.871821018360485\n",
            "4      \t [0.25537064 3.77754252]. \t  -32.950501691020456 \t -13.871821018360485\n",
            "5      \t [-3.048013    2.66955526]. \t  -31.710511103860213 \t -13.871821018360485\n",
            "6      \t [1.78379184 1.77201235]. \t  -22.835982143003026 \t -13.871821018360485\n",
            "7      \t [ 4.75108296 -2.67245484]. \t  -54.32856605891658 \t -13.871821018360485\n",
            "8      \t [-1.90940471  5.05737721]. \t  -31.442547468976095 \t -13.871821018360485\n",
            "9      \t [-0.02874435 -2.69062527]. \t  -21.047629449173478 \t -13.871821018360485\n",
            "10     \t [-2.22165921  0.57074055]. \t  -32.51856710456066 \t -13.871821018360485\n",
            "11     \t [4.90964347 2.48709301]. \t  -51.82611020862967 \t -13.871821018360485\n",
            "12     \t [-5.02071679  1.50714662]. \t  -47.55360631059142 \t -13.871821018360485\n",
            "13     \t [-5.03819583 -3.97518105]. \t  -41.59342497522651 \t -13.871821018360485\n",
            "14     \t [ 1.81969801 -1.17737202]. \t  -16.050277671985576 \t -13.871821018360485\n",
            "15     \t [-0.50836412 -4.9214313 ]. \t  -45.65907751422979 \t -13.871821018360485\n",
            "16     \t [ 4.04878313 -5.01412093]. \t  -42.03947403283394 \t -13.871821018360485\n",
            "17     \t [-2.51124597 -2.61005413]. \t  -50.7967487972325 \t -13.871821018360485\n",
            "18     \t [-0.25187292  1.36770098]. \t  -28.79118208476356 \t -13.871821018360485\n",
            "19     \t [1.96367426 5.08935466]. \t  -31.551952945609628 \t -13.871821018360485\n",
            "20     \t [2.70940283 2.95480307]. \t  -28.995471015178335 \t -13.871821018360485\n"
          ]
        }
      ]
    },
    {
      "cell_type": "code",
      "metadata": {
        "id": "vonm9jyuIv4t",
        "colab": {
          "base_uri": "https://localhost:8080/"
        },
        "outputId": "22afdfe4-dafa-4826-fd4a-0393dcd1b5fe"
      },
      "source": [
        "### EXACT GP EI GRADIENTS\n",
        "\n",
        "np.random.seed(run_num_9)\n",
        "surrogate_exact_9 = dGaussianProcess(cov_func, optimize=opt)\n",
        "\n",
        "exact_9 = dGPGO(surrogate_exact_9, Acquisition_new(util_grad_exact), objfunc, param)\n",
        "exact_9.run(init_evals=n_init, max_iter=iters)\n"
      ],
      "execution_count": 42,
      "outputs": [
        {
          "output_type": "stream",
          "name": "stdout",
          "text": [
            "Evaluation \t Proposed point \t  Current eval. \t Best eval.\n",
            "init   \t [-5.01376866  0.01919582]. \t  -25.248289026162446 \t -24.454800313488693\n",
            "init   \t [-0.04328148 -3.74958562]. \t  -24.454800313488693 \t -24.454800313488693\n",
            "init   \t [-3.66478248 -2.88195916]. \t  -39.46509426509438 \t -24.454800313488693\n",
            "init   \t [-0.83447623 -2.57944404]. \t  -31.06766397812992 \t -24.454800313488693\n",
            "init   \t [-4.25922917 -1.58209393]. \t  -49.922543556206975 \t -24.454800313488693\n",
            "1      \t [3.69491889 4.82146316]. \t  -55.95031066333101 \t -24.454800313488693\n",
            "2      \t [ 4.33475054 -1.16704325]. \t  -40.24947416659653 \t -24.454800313488693\n",
            "3      \t [-1.42327884  3.29904978]. \t  -44.80323420223304 \t -24.454800313488693\n",
            "4      \t [ 4.09933447 -4.75334662]. \t  -51.0739100259089 \t -24.454800313488693\n",
            "5      \t [1.25727212 1.38043259]. \t  -31.25135479495224 \t -24.454800313488693\n",
            "6      \t [-4.24063858  4.91643928]. \t  -52.91343292729114 \t -24.454800313488693\n",
            "7      \t [-1.62411186  0.48933355]. \t  -39.96515368832537 \t -24.454800313488693\n",
            "8      \t [ 2.08149195 -2.3371159 ]. \t  -26.281590755681357 \t -24.454800313488693\n",
            "9      \t [4.95373524 1.69177942]. \t  -41.3982117344943 \t -24.454800313488693\n",
            "10     \t [1.19635966 4.76473508]. \t  -39.90258943137426 \t -24.454800313488693\n",
            "11     \t [-5.0177059  -4.94960092]. \t  -50.23495357166072 \t -24.454800313488693\n",
            "12     \t [-4.88765189  2.26867876]. \t  -42.596718920695366 \t -24.454800313488693\n",
            "13     \t [-2.31258938 -4.63042091]. \t  -57.447058080221275 \t -24.454800313488693\n",
            "14     \t [ 1.21716627 -1.06815135]. \t  \u001b[92m-11.476924034448647\u001b[0m \t -11.476924034448647\n",
            "15     \t [ 1.24528902 -4.98546763]. \t  -36.15133375206872 \t -11.476924034448647\n",
            "16     \t [2.7500247  2.88041877]. \t  -28.550223028717603 \t -11.476924034448647\n",
            "17     \t [ 0.56519984 -0.93825797]. \t  -21.115415601550772 \t -11.476924034448647\n",
            "18     \t [ 4.78675555 -3.0610346 ]. \t  -40.72037779535679 \t -11.476924034448647\n",
            "19     \t [-3.46190681  1.60240732]. \t  -52.26778070341507 \t -11.476924034448647\n",
            "20     \t [-2.07233283  5.0626593 ]. \t  -31.705230335080426 \t -11.476924034448647\n"
          ]
        }
      ]
    },
    {
      "cell_type": "code",
      "metadata": {
        "id": "6amuYlUdIv7r",
        "colab": {
          "base_uri": "https://localhost:8080/"
        },
        "outputId": "b0775073-b2eb-40d2-e72e-fa1e5f75b5e4"
      },
      "source": [
        "### EXACT GP EI GRADIENTS\n",
        "\n",
        "np.random.seed(run_num_10)\n",
        "surrogate_exact_10 = dGaussianProcess(cov_func, optimize=opt)\n",
        "\n",
        "exact_10 = dGPGO(surrogate_exact_10, Acquisition_new(util_grad_exact), objfunc, param)\n",
        "exact_10.run(init_evals=n_init, max_iter=iters)\n"
      ],
      "execution_count": 43,
      "outputs": [
        {
          "output_type": "stream",
          "name": "stdout",
          "text": [
            "Evaluation \t Proposed point \t  Current eval. \t Best eval.\n",
            "init   \t [ 2.77832339 -4.90750004]. \t  -41.674330194390116 \t -13.839458310244165\n",
            "init   \t [1.36855793 2.54775176]. \t  -44.69639719065837 \t -13.839458310244165\n",
            "init   \t [-0.01528819 -2.81808235]. \t  -13.839458310244165 \t -13.839458310244165\n",
            "init   \t [-3.09183626  2.66783449]. \t  -33.23221510904937 \t -13.839458310244165\n",
            "init   \t [-3.38830503 -4.2154003 ]. \t  -54.73014366983691 \t -13.839458310244165\n",
            "1      \t [4.54922969 4.99328486]. \t  -65.16269428931048 \t -13.839458310244165\n",
            "2      \t [ 3.17329065 -0.98846883]. \t  -16.437742855919787 \t -13.839458310244165\n",
            "3      \t [-4.51765895 -0.96891609]. \t  -41.47666610762493 \t -13.839458310244165\n",
            "4      \t [-5.10198119  4.78254851]. \t  -58.85574836410589 \t -13.839458310244165\n",
            "5      \t [4.97239917 0.20658878]. \t  -32.22351904826951 \t -13.839458310244165\n",
            "6      \t [-1.44320806  4.87120627]. \t  -48.2810493073843 \t -13.839458310244165\n",
            "7      \t [-1.81912803  0.02070677]. \t  \u001b[92m-9.186015993745794\u001b[0m \t -9.186015993745794\n",
            "8      \t [ 0.60010288 -5.05500185]. \t  -44.59076761487486 \t -9.186015993745794\n",
            "9      \t [0.67861635 0.1718932 ]. \t  -20.113402760024922 \t -9.186015993745794\n",
            "10     \t [ 5.04352679 -3.84070571]. \t  -45.16417938926972 \t -9.186015993745794\n",
            "11     \t [4.7347189  2.36588847]. \t  -55.628546425743274 \t -9.186015993745794\n",
            "12     \t [1.73643566 4.88149019]. \t  -40.34193596762952 \t -9.186015993745794\n",
            "13     \t [-2.12899056 -1.81617124]. \t  -16.900601177893265 \t -9.186015993745794\n",
            "14     \t [-4.82961928  2.00150666]. \t  -32.535138953273446 \t -9.186015993745794\n",
            "15     \t [-1.26039196  2.02477546]. \t  -16.461705162161152 \t -9.186015993745794\n",
            "16     \t [ 0.92056222 -1.33870381]. \t  -19.148859893673137 \t -9.186015993745794\n",
            "17     \t [-1.89639515  0.39258918]. \t  -23.60327365982716 \t -9.186015993745794\n",
            "18     \t [-5.09247974 -4.43143478]. \t  -66.29847779793462 \t -9.186015993745794\n",
            "19     \t [ 2.12559488 -2.51345951]. \t  -33.75530572704734 \t -9.186015993745794\n",
            "20     \t [-1.11936217 -3.76237001]. \t  -27.314890104405436 \t -9.186015993745794\n"
          ]
        }
      ]
    },
    {
      "cell_type": "code",
      "metadata": {
        "id": "VwbLIP9cIv-F",
        "colab": {
          "base_uri": "https://localhost:8080/"
        },
        "outputId": "0f1f7929-ea55-4075-ec27-0349474fe87b"
      },
      "source": [
        "### EXACT GP EI GRADIENTS\n",
        "\n",
        "np.random.seed(run_num_11)\n",
        "surrogate_exact_11 = dGaussianProcess(cov_func, optimize=opt)\n",
        "\n",
        "exact_11 = dGPGO(surrogate_exact_11, Acquisition_new(util_grad_exact), objfunc, param)\n",
        "exact_11.run(init_evals=n_init, max_iter=iters)\n"
      ],
      "execution_count": 44,
      "outputs": [
        {
          "output_type": "stream",
          "name": "stdout",
          "text": [
            "Evaluation \t Proposed point \t  Current eval. \t Best eval.\n",
            "init   \t [-3.27403839 -4.92057353]. \t  -47.655641290890955 \t -10.679755252484755\n",
            "init   \t [-0.37664229  2.30332343]. \t  -35.87889240695259 \t -10.679755252484755\n",
            "init   \t [-0.81711509 -0.14922651]. \t  -10.679755252484755 \t -10.679755252484755\n",
            "init   \t [-4.98912446 -0.12931474]. \t  -28.05462905574235 \t -10.679755252484755\n",
            "init   \t [4.52410012 3.59214172]. \t  -71.62694632141611 \t -10.679755252484755\n",
            "1      \t [ 3.03550212 -4.46785095]. \t  -49.22040431745476 \t -10.679755252484755\n",
            "2      \t [-4.56585928  4.91205948]. \t  -65.61946292881045 \t -10.679755252484755\n",
            "3      \t [ 2.85586669 -0.05566837]. \t  -12.592566090541188 \t -10.679755252484755\n",
            "4      \t [ 5.07728173 -1.55917095]. \t  -48.68255295631673 \t -10.679755252484755\n",
            "5      \t [ 0.04500145 -3.77829623]. \t  -22.906083127611254 \t -10.679755252484755\n",
            "6      \t [-1.67954414  5.05131067]. \t  -43.135505369756316 \t -10.679755252484755\n",
            "7      \t [-3.36840045  1.7003833 ]. \t  -44.076544296471646 \t -10.679755252484755\n",
            "8      \t [1.27114981 4.54523753]. \t  -53.19874270552573 \t -10.679755252484755\n",
            "9      \t [ 1.65568538 -1.14250328]. \t  -23.37950699595527 \t -10.679755252484755\n",
            "10     \t [-2.76792367 -1.66516876]. \t  -34.39167414287316 \t -10.679755252484755\n",
            "11     \t [1.94887243 1.91933796]. \t  \u001b[92m-9.250576730588945\u001b[0m \t -9.250576730588945\n",
            "12     \t [4.25555424 0.73208463]. \t  -40.11788263963879 \t -9.250576730588945\n",
            "13     \t [-0.58272897 -2.30391106]. \t  -37.64968300876975 \t -9.250576730588945\n",
            "14     \t [-4.6864511  -2.17460231]. \t  -46.01720242226868 \t -9.250576730588945\n",
            "15     \t [1.73264249 0.96996083]. \t  -15.208906746964079 \t -9.250576730588945\n",
            "16     \t [-5.01338344 -4.46314824]. \t  -64.82216774621173 \t -9.250576730588945\n",
            "17     \t [-1.59876003 -5.04488107]. \t  -46.53755786180393 \t -9.250576730588945\n",
            "18     \t [-0.38193321  0.23049772]. \t  -26.34899835261817 \t -9.250576730588945\n",
            "19     \t [ 4.9751197  -4.50642209]. \t  -65.17345893543482 \t -9.250576730588945\n",
            "20     \t [ 2.70657304 -2.66231327]. \t  -42.34329924708265 \t -9.250576730588945\n"
          ]
        }
      ]
    },
    {
      "cell_type": "code",
      "metadata": {
        "id": "MlUNFjc-JTBY",
        "colab": {
          "base_uri": "https://localhost:8080/"
        },
        "outputId": "374a882e-0080-47f7-eb50-9e9d7970455a"
      },
      "source": [
        "### EXACT GP EI GRADIENTS\n",
        "\n",
        "np.random.seed(run_num_12)\n",
        "surrogate_exact_12 = dGaussianProcess(cov_func, optimize=opt)\n",
        "\n",
        "exact_12 = dGPGO(surrogate_exact_12, Acquisition_new(util_grad_exact), objfunc, param)\n",
        "exact_12.run(init_evals=n_init, max_iter=iters)\n"
      ],
      "execution_count": 45,
      "outputs": [
        {
          "output_type": "stream",
          "name": "stdout",
          "text": [
            "Evaluation \t Proposed point \t  Current eval. \t Best eval.\n",
            "init   \t [-3.54137249  2.45810889]. \t  -57.903242869085595 \t -40.51116653209555\n",
            "init   \t [-2.42365424  0.34549139]. \t  -40.51116653209555 \t -40.51116653209555\n",
            "init   \t [-4.97075238  4.28796936]. \t  -55.62655915398208 \t -40.51116653209555\n",
            "init   \t [ 4.10332011 -4.77776458]. \t  -49.962803461970296 \t -40.51116653209555\n",
            "init   \t [ 4.6791612  -3.71497655]. \t  -62.183891474990624 \t -40.51116653209555\n",
            "1      \t [3.71164326 4.52237017]. \t  -66.51627300274238 \t -40.51116653209555\n",
            "2      \t [-3.67044186 -4.85082092]. \t  -55.876293438302916 \t -40.51116653209555\n",
            "3      \t [1.45055233 0.40044036]. \t  \u001b[92m-39.89208872598711\u001b[0m \t -39.89208872598711\n",
            "4      \t [-0.41454462  5.10761379]. \t  -47.052554123989495 \t -39.89208872598711\n",
            "5      \t [-0.22871802 -4.538876  ]. \t  -49.023655657189344 \t -39.89208872598711\n",
            "6      \t [-5.07620922 -0.95301115]. \t  \u001b[92m-28.233490453041902\u001b[0m \t -28.233490453041902\n",
            "7      \t [5.09657391 0.78374251]. \t  -36.27024373682663 \t -28.233490453041902\n",
            "8      \t [-0.56079849 -1.47733574]. \t  -41.6749717664711 \t -28.233490453041902\n",
            "9      \t [ 3.85073364 -1.18688097]. \t  \u001b[92m-26.459013965941544\u001b[0m \t -26.459013965941544\n",
            "10     \t [0.01007997 2.01981155]. \t  \u001b[92m-4.177165708022876\u001b[0m \t -4.177165708022876\n",
            "11     \t [1.16711316 3.03327056]. \t  -15.804903401660688 \t -4.177165708022876\n",
            "12     \t [-3.13076481 -1.95566277]. \t  -17.201471749808814 \t -4.177165708022876\n",
            "13     \t [ 1.84764858 -3.99167529]. \t  -23.603265476217498 \t -4.177165708022876\n",
            "14     \t [-0.11505601  2.39644026]. \t  -26.214071258419835 \t -4.177165708022876\n",
            "15     \t [-2.61311431  5.1017701 ]. \t  -52.411061800327545 \t -4.177165708022876\n",
            "16     \t [3.76426322 2.67655566]. \t  -44.89124052997366 \t -4.177165708022876\n",
            "17     \t [-3.88618319 -2.51443264]. \t  -43.8336361672173 \t -4.177165708022876\n",
            "18     \t [ 1.88851112 -1.80114076]. \t  -16.007158540461653 \t -4.177165708022876\n",
            "19     \t [-1.84462714 -3.14941106]. \t  -21.81224849952475 \t -4.177165708022876\n",
            "20     \t [-4.77748702  1.05463113]. \t  -32.8015081606443 \t -4.177165708022876\n"
          ]
        }
      ]
    },
    {
      "cell_type": "code",
      "metadata": {
        "id": "9BsKdU9eJTFL",
        "colab": {
          "base_uri": "https://localhost:8080/"
        },
        "outputId": "86f1b3bd-3811-4c32-82d7-f54334be2bde"
      },
      "source": [
        "### EXACT GP EI GRADIENTS\n",
        "\n",
        "np.random.seed(run_num_13)\n",
        "surrogate_exact_13 = dGaussianProcess(cov_func, optimize=opt)\n",
        "\n",
        "exact_13 = dGPGO(surrogate_exact_13, Acquisition_new(util_grad_exact), objfunc, param)\n",
        "exact_13.run(init_evals=n_init, max_iter=iters)\n"
      ],
      "execution_count": 46,
      "outputs": [
        {
          "output_type": "stream",
          "name": "stdout",
          "text": [
            "Evaluation \t Proposed point \t  Current eval. \t Best eval.\n",
            "init   \t [ 2.84367268 -2.68757791]. \t  -33.58019830007169 \t -17.435826639425656\n",
            "init   \t [3.32061217 4.76927179]. \t  -56.857057997503354 \t -17.435826639425656\n",
            "init   \t [ 4.83943541 -0.47667971]. \t  -48.211919361679726 \t -17.435826639425656\n",
            "init   \t [1.11659482 2.82139151]. \t  -17.435826639425656 \t -17.435826639425656\n",
            "init   \t [1.45012065 2.27346667]. \t  -38.25352329493884 \t -17.435826639425656\n",
            "1      \t [-4.77366547 -2.51495235]. \t  -57.58729610569417 \t -17.435826639425656\n",
            "2      \t [-5.01918269  5.06101108]. \t  -51.60438420672786 \t -17.435826639425656\n",
            "3      \t [-1.22108674 -4.90088782]. \t  -35.580224118036504 \t -17.435826639425656\n",
            "4      \t [-2.63213706  1.14952951]. \t  -29.094795349598023 \t -17.435826639425656\n",
            "5      \t [-0.16371589 -1.05131743]. \t  \u001b[92m-6.487716170982051\u001b[0m \t -6.487716170982051\n",
            "6      \t [-1.77235197  4.1862682 ]. \t  -35.36804541180595 \t -6.487716170982051\n",
            "7      \t [-5.00936964  1.31165693]. \t  -40.60939360869364 \t -6.487716170982051\n",
            "8      \t [ 5.03166359 -4.85878472]. \t  -52.80745779600686 \t -6.487716170982051\n",
            "9      \t [ 1.64171243 -4.8471478 ]. \t  -46.74909762216046 \t -6.487716170982051\n",
            "10     \t [-2.13293065 -2.05322437]. \t  -12.609023368955913 \t -6.487716170982051\n",
            "11     \t [ 0.63523074 -1.1824065 ]. \t  -24.28334266137597 \t -6.487716170982051\n",
            "12     \t [4.70979141 2.38324673]. \t  -57.789397098497446 \t -6.487716170982051\n",
            "13     \t [-4.9212208  -4.83373411]. \t  -53.76184599250077 \t -6.487716170982051\n",
            "14     \t [ 2.37738574 -0.22663526]. \t  -31.416808911600043 \t -6.487716170982051\n",
            "15     \t [0.01192488 4.09766091]. \t  -18.643344042748474 \t -6.487716170982051\n",
            "16     \t [-0.83565195  1.22308233]. \t  -15.385379139184876 \t -6.487716170982051\n",
            "17     \t [-1.98561191 -0.89086458]. \t  -7.037484449200311 \t -6.487716170982051\n",
            "18     \t [-0.89331003 -1.24232767]. \t  -14.023475868423276 \t -6.487716170982051\n",
            "19     \t [-3.71659296  3.39688535]. \t  -55.40913891794304 \t -6.487716170982051\n",
            "20     \t [-2.70074458 -0.75403047]. \t  -30.655011494921105 \t -6.487716170982051\n"
          ]
        }
      ]
    },
    {
      "cell_type": "code",
      "metadata": {
        "id": "k6GjFBr1JTJf",
        "colab": {
          "base_uri": "https://localhost:8080/"
        },
        "outputId": "c80d0fed-e74e-4a25-ce1e-82910706bff7"
      },
      "source": [
        "### EXACT GP EI GRADIENTS\n",
        "\n",
        "np.random.seed(run_num_14)\n",
        "surrogate_exact_14 = dGaussianProcess(cov_func, optimize=opt)\n",
        "\n",
        "exact_14 = dGPGO(surrogate_exact_14, Acquisition_new(util_grad_exact), objfunc, param)\n",
        "exact_14.run(init_evals=n_init, max_iter=iters)\n"
      ],
      "execution_count": 47,
      "outputs": [
        {
          "output_type": "stream",
          "name": "stdout",
          "text": [
            "Evaluation \t Proposed point \t  Current eval. \t Best eval.\n",
            "init   \t [0.14277984 2.79721013]. \t  -18.683085263052178 \t -10.423838604848608\n",
            "init   \t [ 3.7931795  -5.03759925]. \t  -47.36348784446708 \t -10.423838604848608\n",
            "init   \t [-1.94830412  4.68586229]. \t  -40.19779334078636 \t -10.423838604848608\n",
            "init   \t [ 0.13431513 -1.86076749]. \t  -10.423838604848608 \t -10.423838604848608\n",
            "init   \t [ 0.40140736 -2.85434939]. \t  -30.353548735049138 \t -10.423838604848608\n",
            "1      \t [5.0693151  1.66213708]. \t  -44.63856083467635 \t -10.423838604848608\n",
            "2      \t [-4.97142277 -1.1751064 ]. \t  -31.722741080909376 \t -10.423838604848608\n",
            "3      \t [3.38318529 4.73656887]. \t  -62.14914992776286 \t -10.423838604848608\n",
            "4      \t [-2.44466477 -4.98817272]. \t  -50.28750418956367 \t -10.423838604848608\n",
            "5      \t [-5.03432469  3.39981671]. \t  -55.218238447866625 \t -10.423838604848608\n",
            "6      \t [ 4.16822588 -1.45429332]. \t  -44.16461225588475 \t -10.423838604848608\n",
            "7      \t [-0.93838113 -0.26658637]. \t  -12.732054248349673 \t -10.423838604848608\n",
            "8      \t [-3.31068184  1.36860469]. \t  -43.336038021870344 \t -10.423838604848608\n",
            "9      \t [ 1.75617145 -0.70449321]. \t  -26.013257579055786 \t -10.423838604848608\n",
            "10     \t [-2.7195905  -1.88093462]. \t  -25.503408430153165 \t -10.423838604848608\n",
            "11     \t [2.39473215 2.0301515 ]. \t  -27.92639686413521 \t -10.423838604848608\n",
            "12     \t [-5.05266865 -3.35860024]. \t  -53.65846804229844 \t -10.423838604848608\n",
            "13     \t [ 1.47701297 -4.92531189]. \t  -47.41719824738481 \t -10.423838604848608\n",
            "14     \t [-0.94142484  1.38651688]. \t  -21.04215897972017 \t -10.423838604848608\n",
            "15     \t [-0.67496552 -1.18800322]. \t  -22.61116115702966 \t -10.423838604848608\n",
            "16     \t [0.72960366 3.88545382]. \t  -29.387170713642647 \t -10.423838604848608\n",
            "17     \t [ 5.09907899 -3.88795914]. \t  -45.370020775869946 \t -10.423838604848608\n",
            "18     \t [0.77019665 1.269931  ]. \t  -22.18936855029763 \t -10.423838604848608\n",
            "19     \t [-5.07487693  5.11185109]. \t  -55.34134867387987 \t -10.423838604848608\n",
            "20     \t [-0.01719179  5.03355344]. \t  -25.61664865294213 \t -10.423838604848608\n"
          ]
        }
      ]
    },
    {
      "cell_type": "code",
      "metadata": {
        "id": "dPS8WB3aJTN6",
        "colab": {
          "base_uri": "https://localhost:8080/"
        },
        "outputId": "494aabaa-f9db-448a-8a8b-aaffeea333b0"
      },
      "source": [
        "### EXACT GP EI GRADIENTS\n",
        "\n",
        "np.random.seed(run_num_15)\n",
        "surrogate_exact_15 = dGaussianProcess(cov_func, optimize=opt)\n",
        "\n",
        "exact_15 = dGPGO(surrogate_exact_15, Acquisition_new(util_grad_exact), objfunc, param)\n",
        "exact_15.run(init_evals=n_init, max_iter=iters)\n"
      ],
      "execution_count": 48,
      "outputs": [
        {
          "output_type": "stream",
          "name": "stdout",
          "text": [
            "Evaluation \t Proposed point \t  Current eval. \t Best eval.\n",
            "init   \t [ 3.57189322 -3.28810573]. \t  -54.938487770767075 \t -7.990765314336182\n",
            "init   \t [-4.56332069 -1.41784631]. \t  -60.750198753157726 \t -7.990765314336182\n",
            "init   \t [-2.29989449  0.3072023 ]. \t  -31.984997246800887 \t -7.990765314336182\n",
            "init   \t [-1.9873903  -2.00218256]. \t  -7.990765314336182 \t -7.990765314336182\n",
            "init   \t [-3.97576933 -2.5610341 ]. \t  -41.754957769694336 \t -7.990765314336182\n",
            "1      \t [2.6922275  4.51459974]. \t  -61.13841439770154 \t -7.990765314336182\n",
            "2      \t [-5.04492535  4.05596718]. \t  -42.90984810835448 \t -7.990765314336182\n",
            "3      \t [3.58372154 0.31454967]. \t  -45.53552928123213 \t -7.990765314336182\n",
            "4      \t [-0.15767551 -4.8340927 ]. \t  -32.871042855468964 \t -7.990765314336182\n",
            "5      \t [-1.39327744  4.80258304]. \t  -49.59666848884154 \t -7.990765314336182\n",
            "6      \t [0.76768739 0.65295434]. \t  -25.633321495134837 \t -7.990765314336182\n",
            "7      \t [4.88419206 2.82575705]. \t  -39.790555760843056 \t -7.990765314336182\n",
            "8      \t [-3.83939027 -4.93982175]. \t  -44.52323848066782 \t -7.990765314336182\n",
            "9      \t [-4.52794958  1.28669676]. \t  -54.28946281644259 \t -7.990765314336182\n",
            "10     \t [ 0.70872077 -2.20835386]. \t  -25.356836450964213 \t -7.990765314336182\n",
            "11     \t [-1.550267    2.20005337]. \t  -33.66194946746177 \t -7.990765314336182\n",
            "12     \t [1.69062721 2.23408727]. \t  -30.495780342798604 \t -7.990765314336182\n",
            "13     \t [-1.74511219 -3.86443223]. \t  -31.699998095792925 \t -7.990765314336182\n",
            "14     \t [ 4.87547814 -1.27488686]. \t  -39.8606674139462 \t -7.990765314336182\n",
            "15     \t [-0.89193332 -2.0648231 ]. \t  -8.095092062842895 \t -7.990765314336182\n",
            "16     \t [-0.51284244 -0.78444586]. \t  -28.698384667926025 \t -7.990765314336182\n",
            "17     \t [ 2.15644073 -5.08072314]. \t  -36.17716291284111 \t -7.990765314336182\n",
            "18     \t [4.77204119 4.98705909]. \t  -56.29570749369036 \t -7.990765314336182\n",
            "19     \t [-3.0895127   4.73057827]. \t  -44.68109058428501 \t -7.990765314336182\n",
            "20     \t [0.33327328 4.83645626]. \t  -43.33015478288946 \t -7.990765314336182\n"
          ]
        }
      ]
    },
    {
      "cell_type": "code",
      "metadata": {
        "id": "SHWdp2giJTRm",
        "colab": {
          "base_uri": "https://localhost:8080/"
        },
        "outputId": "cd2afb4b-ed85-48e7-c320-62d0befedbfd"
      },
      "source": [
        "### EXACT GP EI GRADIENTS\n",
        "\n",
        "np.random.seed(run_num_16)\n",
        "surrogate_exact_16 = dGaussianProcess(cov_func, optimize=opt)\n",
        "\n",
        "exact_16 = dGPGO(surrogate_exact_16, Acquisition_new(util_grad_exact), objfunc, param)\n",
        "exact_16.run(init_evals=n_init, max_iter=iters)\n"
      ],
      "execution_count": 49,
      "outputs": [
        {
          "output_type": "stream",
          "name": "stdout",
          "text": [
            "Evaluation \t Proposed point \t  Current eval. \t Best eval.\n",
            "init   \t [-2.83349935  0.23719262]. \t  -22.27210456874814 \t -22.27210456874814\n",
            "init   \t [ 0.51918292 -4.65303603]. \t  -57.57021076017139 \t -22.27210456874814\n",
            "init   \t [-1.42613673 -2.83565116]. \t  -33.89145899403749 \t -22.27210456874814\n",
            "init   \t [ 1.9325559  -3.44339021]. \t  -35.85029586225333 \t -22.27210456874814\n",
            "init   \t [-4.39987336  4.51595121]. \t  -77.78800881964571 \t -22.27210456874814\n",
            "1      \t [4.06080895 4.40655317]. \t  -54.95421034473918 \t -22.27210456874814\n",
            "2      \t [ 4.52096722 -0.05412316]. \t  -40.9280938700155 \t -22.27210456874814\n",
            "3      \t [0.89903959 2.63506697]. \t  -26.30725833497743 \t -22.27210456874814\n",
            "4      \t [-4.77710813 -3.80127523]. \t  -52.40915135990398 \t -22.27210456874814\n",
            "5      \t [ 4.93213943 -4.18588889]. \t  -48.82281863619786 \t -22.27210456874814\n",
            "6      \t [-0.55245685  4.85218311]. \t  -47.32235313488331 \t -22.27210456874814\n",
            "7      \t [ 1.11757309 -0.28736865]. \t  \u001b[92m-16.26475886892132\u001b[0m \t -16.26475886892132\n",
            "8      \t [-4.54308205  1.41563452]. \t  -60.907121538179254 \t -16.26475886892132\n",
            "9      \t [-1.10051357  1.69144312]. \t  -19.597737822246252 \t -16.26475886892132\n",
            "10     \t [-3.70916908 -1.71738299]. \t  -41.27984357474156 \t -16.26475886892132\n",
            "11     \t [2.71996143 1.48949854]. \t  -41.47122903991109 \t -16.26475886892132\n",
            "12     \t [-0.83255533 -0.86882864]. \t  \u001b[92m-9.698770109931736\u001b[0m \t -9.698770109931736\n",
            "13     \t [1.88973078 4.83820052]. \t  -34.02246344805217 \t -9.698770109931736\n",
            "14     \t [-1.97197493 -4.83503109]. \t  -32.32874787765063 \t -9.698770109931736\n",
            "15     \t [ 2.19415038 -1.42471645]. \t  -32.308518068941545 \t -9.698770109931736\n",
            "16     \t [-2.46160719  2.65912249]. \t  -48.245631925823325 \t -9.698770109931736\n",
            "17     \t [5.11484251 2.69988816]. \t  -49.04021144418924 \t -9.698770109931736\n",
            "18     \t [0.15058738 0.52192574]. \t  -24.352384150342715 \t -9.698770109931736\n",
            "19     \t [ 4.88291791 -1.9947989 ]. \t  -30.413491877345255 \t -9.698770109931736\n",
            "20     \t [-0.81411821 -1.2105793 ]. \t  -15.756092466810586 \t -9.698770109931736\n"
          ]
        }
      ]
    },
    {
      "cell_type": "code",
      "metadata": {
        "id": "yU2SflSsJTUs",
        "colab": {
          "base_uri": "https://localhost:8080/"
        },
        "outputId": "c1b76c91-35be-4200-c66b-179bdde108b5"
      },
      "source": [
        "### EXACT GP EI GRADIENTS\n",
        "\n",
        "np.random.seed(run_num_17)\n",
        "surrogate_exact_17 = dGaussianProcess(cov_func, optimize=opt)\n",
        "\n",
        "exact_17 = dGPGO(surrogate_exact_17, Acquisition_new(util_grad_exact), objfunc, param)\n",
        "exact_17.run(init_evals=n_init, max_iter=iters)\n"
      ],
      "execution_count": 50,
      "outputs": [
        {
          "output_type": "stream",
          "name": "stdout",
          "text": [
            "Evaluation \t Proposed point \t  Current eval. \t Best eval.\n",
            "init   \t [-2.10263037  0.31320838]. \t  -20.395145364684023 \t -20.395145364684023\n",
            "init   \t [-3.15882714 -4.42470033]. \t  -53.03732051200137 \t -20.395145364684023\n",
            "init   \t [2.93873111 1.60085526]. \t  -29.989224812583537 \t -20.395145364684023\n",
            "init   \t [1.40821398 0.77417363]. \t  -29.451989415882437 \t -20.395145364684023\n",
            "init   \t [-4.71999574 -1.45598869]. \t  -55.89242173757483 \t -20.395145364684023\n",
            "1      \t [ 4.96008736 -4.44720822]. \t  -64.14783177084814 \t -20.395145364684023\n",
            "2      \t [-2.99857817  4.67136791]. \t  -45.555591101924456 \t -20.395145364684023\n",
            "3      \t [ 1.05508706 -5.02260241]. \t  -27.033462443777545 \t -20.395145364684023\n",
            "4      \t [5.00250052 4.6704584 ]. \t  -61.631704601571634 \t -20.395145364684023\n",
            "5      \t [0.68918634 4.75681217]. \t  -46.403080170128334 \t -20.395145364684023\n",
            "6      \t [ 0.04399195 -2.08108936]. \t  \u001b[92m-5.982565874911987\u001b[0m \t -5.982565874911987\n",
            "7      \t [4.8472334  0.29340665]. \t  -40.539054375780175 \t -5.982565874911987\n",
            "8      \t [-4.97557387  1.52705285]. \t  -47.06165070958348 \t -5.982565874911987\n",
            "9      \t [ 2.82458055 -3.02087446]. \t  -22.67341967937785 \t -5.982565874911987\n",
            "10     \t [-1.07560472  2.93044814]. \t  -11.791477081170326 \t -5.982565874911987\n",
            "11     \t [-1.36591944 -2.73046746]. \t  -37.201717710389886 \t -5.982565874911987\n",
            "12     \t [ 0.15674878 -0.91560305]. \t  -6.706635251683652 \t -5.982565874911987\n",
            "13     \t [ 2.78860237 -1.30896767]. \t  -30.708812242352284 \t -5.982565874911987\n",
            "14     \t [ 5.05037997 -2.18500363]. \t  -36.80614860529006 \t -5.982565874911987\n",
            "15     \t [-5.08469449 -3.94028604]. \t  -43.458430174573934 \t -5.982565874911987\n",
            "16     \t [-0.56850901  1.65937166]. \t  -37.55603716504067 \t -5.982565874911987\n",
            "17     \t [-0.66781707 -5.00448533]. \t  -40.432096088489516 \t -5.982565874911987\n",
            "18     \t [2.94245676 3.65748563]. \t  -38.17275612150587 \t -5.982565874911987\n",
            "19     \t [-5.11532993  4.40362202]. \t  -66.29293211766655 \t -5.982565874911987\n",
            "20     \t [ 0.70958778 -2.32438965]. \t  -32.923981703825135 \t -5.982565874911987\n"
          ]
        }
      ]
    },
    {
      "cell_type": "code",
      "metadata": {
        "id": "es0KCh_0JTgY",
        "colab": {
          "base_uri": "https://localhost:8080/"
        },
        "outputId": "64e7de03-6cd3-400b-d96f-bc8ee15ac2a6"
      },
      "source": [
        "### EXACT GP EI GRADIENTS\n",
        "\n",
        "np.random.seed(run_num_18)\n",
        "surrogate_exact_18 = dGaussianProcess(cov_func, optimize=opt)\n",
        "\n",
        "exact_18 = dGPGO(surrogate_exact_18, Acquisition_new(util_grad_exact), objfunc, param)\n",
        "exact_18.run(init_evals=n_init, max_iter=iters)\n"
      ],
      "execution_count": 51,
      "outputs": [
        {
          "output_type": "stream",
          "name": "stdout",
          "text": [
            "Evaluation \t Proposed point \t  Current eval. \t Best eval.\n",
            "init   \t [1.53983224 0.05584255]. \t  -22.67190580753611 \t -22.67190580753611\n",
            "init   \t [ 3.87687906 -3.25795609]. \t  -38.990099416711985 \t -22.67190580753611\n",
            "init   \t [3.60686662 2.56139557]. \t  -56.66448698782129 \t -22.67190580753611\n",
            "init   \t [1.70088108 4.99604939]. \t  -40.894059318256296 \t -22.67190580753611\n",
            "init   \t [-2.48864335 -4.83014733]. \t  -54.6725749848372 \t -22.67190580753611\n",
            "1      \t [-5.00718904  2.9174042 ]. \t  -34.91005808676357 \t -22.67190580753611\n",
            "2      \t [-4.79373092 -1.69424993]. \t  -46.56877209315733 \t -22.67190580753611\n",
            "3      \t [-1.79374815  2.15392252]. \t  \u001b[92m-19.465924424195173\u001b[0m \t -19.465924424195173\n",
            "4      \t [ 0.95685947 -4.7180891 ]. \t  -35.53268255515571 \t -19.465924424195173\n",
            "5      \t [-2.05931647  4.63332738]. \t  -43.086601890136585 \t -19.465924424195173\n",
            "6      \t [-1.65581106 -0.63697681]. \t  -35.24550442842704 \t -19.465924424195173\n",
            "7      \t [ 4.82192282 -0.25434407]. \t  -39.221746697232945 \t -19.465924424195173\n",
            "8      \t [0.30202235 1.9715372 ]. \t  \u001b[92m-17.348430043297785\u001b[0m \t -17.348430043297785\n",
            "9      \t [4.2228046  4.88065874]. \t  -52.63451743041428 \t -17.348430043297785\n",
            "10     \t [-4.86073813 -5.05386907]. \t  -53.325821510541715 \t -17.348430043297785\n",
            "11     \t [ 2.35829472 -1.83849187]. \t  -29.954903209187115 \t -17.348430043297785\n",
            "12     \t [-3.94182037  1.15527819]. \t  -21.926986080437363 \t -17.348430043297785\n",
            "13     \t [-0.15706177 -2.05702271]. \t  \u001b[92m-9.377791275868715\u001b[0m \t -9.377791275868715\n",
            "14     \t [-4.11006167  4.81885064]. \t  -48.21892752242507 \t -9.377791275868715\n",
            "15     \t [-1.65134878 -2.81709158]. \t  -32.38029683210575 \t -9.377791275868715\n",
            "16     \t [ 3.54031647 -5.04320393]. \t  -58.01480512630912 \t -9.377791275868715\n",
            "17     \t [-0.12139812  3.22755099]. \t  -21.796711737982225 \t -9.377791275868715\n",
            "18     \t [ 1.24919604 -2.35387106]. \t  -33.12355422823935 \t -9.377791275868715\n",
            "19     \t [-0.30971723  1.09650707]. \t  -16.74576203165767 \t -9.377791275868715\n",
            "20     \t [ 0.03051134 -1.31280114]. \t  -15.751884345792346 \t -9.377791275868715\n"
          ]
        }
      ]
    },
    {
      "cell_type": "code",
      "metadata": {
        "id": "Pput2LHPIwBM",
        "colab": {
          "base_uri": "https://localhost:8080/"
        },
        "outputId": "10b57dac-8fa9-4e1b-c402-c763c7f24bbb"
      },
      "source": [
        "### EXACT GP EI GRADIENTS\n",
        "\n",
        "np.random.seed(run_num_19)\n",
        "surrogate_exact_19 = dGaussianProcess(cov_func, optimize=opt)\n",
        "\n",
        "exact_19 = dGPGO(surrogate_exact_19, Acquisition_new(util_grad_exact), objfunc, param)\n",
        "exact_19.run(init_evals=n_init, max_iter=iters)\n"
      ],
      "execution_count": 52,
      "outputs": [
        {
          "output_type": "stream",
          "name": "stdout",
          "text": [
            "Evaluation \t Proposed point \t  Current eval. \t Best eval.\n",
            "init   \t [-4.12125592  2.6751971 ]. \t  -41.43485596167127 \t -25.867003842388073\n",
            "init   \t [-2.59135515 -3.70553152]. \t  -51.60126035043229 \t -25.867003842388073\n",
            "init   \t [-1.72598719 -4.27008445]. \t  -43.97430127029199 \t -25.867003842388073\n",
            "init   \t [1.76104531 3.13952049]. \t  -25.867003842388073 \t -25.867003842388073\n",
            "init   \t [4.9432772  1.38916592]. \t  -44.66580306903559 \t -25.867003842388073\n",
            "1      \t [ 4.21710172 -4.56788076]. \t  -65.70127216515351 \t -25.867003842388073\n",
            "2      \t [-0.09974865 -0.16191389]. \t  \u001b[92m-6.680373346249144\u001b[0m \t -6.680373346249144\n",
            "3      \t [-1.37112028  5.03020958]. \t  -44.25919525426855 \t -6.680373346249144\n",
            "4      \t [-4.96730404 -0.67276112]. \t  -40.001785398795136 \t -6.680373346249144\n",
            "5      \t [ 1.48344791 -2.18460526]. \t  -32.9248576844745 \t -6.680373346249144\n",
            "6      \t [-2.04430753  0.5922005 ]. \t  -23.283300741955166 \t -6.680373346249144\n",
            "7      \t [5.08693526 4.77215548]. \t  -58.71791189755836 \t -6.680373346249144\n",
            "8      \t [-4.75791665 -5.03048564]. \t  -57.629234840426165 \t -6.680373346249144\n",
            "9      \t [2.48206162 0.13129915]. \t  -29.328679289664425 \t -6.680373346249144\n",
            "10     \t [-0.51577459  2.38973086]. \t  -43.62210073300778 \t -6.680373346249144\n",
            "11     \t [-3.3894316   5.04530252]. \t  -55.02802632866661 \t -6.680373346249144\n",
            "12     \t [ 1.22104761 -4.27215185]. \t  -39.320475567658704 \t -6.680373346249144\n",
            "13     \t [ 5.0054819  -2.17225355]. \t  -35.08648800142321 \t -6.680373346249144\n",
            "14     \t [-0.95600388 -1.45996328]. \t  -23.110350502413446 \t -6.680373346249144\n",
            "15     \t [3.21717543 3.20867786]. \t  -36.03071842579266 \t -6.680373346249144\n",
            "16     \t [2.07736763 5.02504657]. \t  -30.848579066026286 \t -6.680373346249144\n",
            "17     \t [ 0.33985631 -0.24101751]. \t  -24.960147793196448 \t -6.680373346249144\n",
            "18     \t [-3.5047185 -1.9698208]. \t  -36.3380948168072 \t -6.680373346249144\n",
            "19     \t [ 3.42636954 -1.96758427]. \t  -34.76689662219625 \t -6.680373346249144\n",
            "20     \t [-5.07685746  4.84448295]. \t  -54.79308652880561 \t -6.680373346249144\n"
          ]
        }
      ]
    },
    {
      "cell_type": "code",
      "metadata": {
        "id": "aw3xvSryIwDi",
        "colab": {
          "base_uri": "https://localhost:8080/"
        },
        "outputId": "619d6f7b-8b7d-4623-8ed0-865b59b912e7"
      },
      "source": [
        "### EXACT GP EI GRADIENTS\n",
        "\n",
        "np.random.seed(run_num_20)\n",
        "surrogate_exact_20 = dGaussianProcess(cov_func, optimize=opt)\n",
        "\n",
        "exact_20 = dGPGO(surrogate_exact_20, Acquisition_new(util_grad_exact), objfunc, param)\n",
        "exact_20.run(init_evals=n_init, max_iter=iters)\n"
      ],
      "execution_count": 53,
      "outputs": [
        {
          "output_type": "stream",
          "name": "stdout",
          "text": [
            "Evaluation \t Proposed point \t  Current eval. \t Best eval.\n",
            "init   \t [0.9024594  4.07258857]. \t  -20.24255447774017 \t -17.388691338534382\n",
            "init   \t [4.00927467 3.23417577]. \t  -35.55852254546393 \t -17.388691338534382\n",
            "init   \t [-4.75249064  1.96359764]. \t  -36.54582989269194 \t -17.388691338534382\n",
            "init   \t [-1.24230715  0.18955208]. \t  -17.388691338534382 \t -17.388691338534382\n",
            "init   \t [ 1.61742301 -3.13497377]. \t  -33.22932870179905 \t -17.388691338534382\n",
            "1      \t [-5.02177003 -2.68724851]. \t  -46.374312042339746 \t -17.388691338534382\n",
            "2      \t [ 5.10430356 -2.0846243 ]. \t  -33.85186600607085 \t -17.388691338534382\n",
            "3      \t [-1.93841037  4.92041207]. \t  -29.931845527938137 \t -17.388691338534382\n",
            "4      \t [-1.66861509 -5.02375004]. \t  -43.02708273667348 \t -17.388691338534382\n",
            "5      \t [1.59040093 0.91467811]. \t  -23.198657984029186 \t -17.388691338534382\n",
            "6      \t [ 3.87120809 -4.95707835]. \t  -43.0197213845118 \t -17.388691338534382\n",
            "7      \t [4.88689768 0.23614082]. \t  -35.48840621729218 \t -17.388691338534382\n",
            "8      \t [-1.90632862 -1.35296131]. \t  -23.17450931850364 \t -17.388691338534382\n",
            "9      \t [-1.79019911  2.58344651]. \t  -36.03669059490631 \t -17.388691338534382\n",
            "10     \t [-4.20164935  4.35573161]. \t  -59.800136843287 \t -17.388691338534382\n",
            "11     \t [ 0.62818622 -0.93440221]. \t  -19.033261060221804 \t -17.388691338534382\n",
            "12     \t [-5.05625849 -0.32144613]. \t  -40.627180283040346 \t -17.388691338534382\n",
            "13     \t [3.32209674 5.07724007]. \t  -52.34603037115002 \t -17.388691338534382\n",
            "14     \t [ 2.81004335 -1.05900462]. \t  \u001b[92m-16.0134504702066\u001b[0m \t -16.0134504702066\n",
            "15     \t [-5.06464232 -4.68882673]. \t  -62.198936231385716 \t -16.0134504702066\n",
            "16     \t [-0.59625386 -2.33166726]. \t  -38.927528515648596 \t -16.0134504702066\n",
            "17     \t [ 1.56011557 -4.79617879]. \t  -51.871422165741166 \t -16.0134504702066\n",
            "18     \t [0.26209425 1.71204182]. \t  -26.121390443181877 \t -16.0134504702066\n",
            "19     \t [-2.62324342  0.56703358]. \t  -43.47766499445919 \t -16.0134504702066\n",
            "20     \t [-0.08005835  5.05964872]. \t  -27.539287258652692 \t -16.0134504702066\n"
          ]
        }
      ]
    },
    {
      "cell_type": "code",
      "metadata": {
        "id": "qNqAB3vBTPqb",
        "colab": {
          "base_uri": "https://localhost:8080/"
        },
        "outputId": "05bbc9b9-fad4-4bd0-ca9a-c9e340c104b9"
      },
      "source": [
        "end_exact = time.time()\n",
        "end_exact\n",
        "\n",
        "time_exact = end_exact - start_exact\n",
        "time_exact"
      ],
      "execution_count": 54,
      "outputs": [
        {
          "output_type": "execute_result",
          "data": {
            "text/plain": [
              "95.87355875968933"
            ]
          },
          "metadata": {},
          "execution_count": 54
        }
      ]
    },
    {
      "cell_type": "code",
      "metadata": {
        "id": "JPQzjdBZQxfg",
        "colab": {
          "base_uri": "https://localhost:8080/"
        },
        "outputId": "9d7716f1-23a0-471f-9c16-0097630a85ea"
      },
      "source": [
        "### Simple regret minimization: run number = 1\n",
        "\n",
        "approx_output_1 = np.append(np.min(approx_1.GP.y[0:n_init]),approx_1.GP.y[n_init:(n_init+iters)]) \n",
        "exact_output_1 = np.append(np.min(exact_1.GP.y[0:n_init]),exact_1.GP.y[n_init:(n_init+iters)]) \n",
        "\n",
        "regret_approx_1 = np.log(-approx_output_1 + y_global_orig)\n",
        "regret_exact_1 = np.log(-exact_output_1 + y_global_orig)\n",
        "\n",
        "simple_regret_approx_1 = min_max_array(regret_approx_1)\n",
        "simple_regret_exact_1 = min_max_array(regret_exact_1)\n",
        "\n",
        "min_simple_regret_approx_1 = min(simple_regret_approx_1)\n",
        "min_simple_regret_exact_1 = min(simple_regret_exact_1)\n",
        "\n",
        "min_simple_regret_approx_1, min_simple_regret_exact_1"
      ],
      "execution_count": 55,
      "outputs": [
        {
          "output_type": "execute_result",
          "data": {
            "text/plain": [
              "(2.743294372937005, 2.0015225961173995)"
            ]
          },
          "metadata": {},
          "execution_count": 55
        }
      ]
    },
    {
      "cell_type": "code",
      "metadata": {
        "id": "94yBw5tqQxfk",
        "colab": {
          "base_uri": "https://localhost:8080/"
        },
        "outputId": "886ac8bc-9599-42b9-9116-7c8f07f3e9ec"
      },
      "source": [
        "### Simple regret minimization: run number = 2\n",
        "\n",
        "approx_output_2 = np.append(np.min(approx_2.GP.y[0:n_init]),approx_2.GP.y[n_init:(n_init+iters)]) \n",
        "exact_output_2 = np.append(np.min(exact_2.GP.y[0:n_init]),exact_2.GP.y[n_init:(n_init+iters)]) \n",
        "\n",
        "regret_approx_2 = np.log(-approx_output_2 + y_global_orig)\n",
        "regret_exact_2 = np.log(-exact_output_2 + y_global_orig)\n",
        "\n",
        "simple_regret_approx_2 = min_max_array(regret_approx_2)\n",
        "simple_regret_exact_2 = min_max_array(regret_exact_2)\n",
        "\n",
        "min_simple_regret_approx_2 = min(simple_regret_approx_2)\n",
        "min_simple_regret_exact_2 = min(simple_regret_exact_2)\n",
        "\n",
        "min_simple_regret_approx_2, min_simple_regret_exact_2"
      ],
      "execution_count": 56,
      "outputs": [
        {
          "output_type": "execute_result",
          "data": {
            "text/plain": [
              "(3.2286996200973643, 2.9778423804054595)"
            ]
          },
          "metadata": {},
          "execution_count": 56
        }
      ]
    },
    {
      "cell_type": "code",
      "metadata": {
        "id": "Bu6SBWALQxfl",
        "colab": {
          "base_uri": "https://localhost:8080/"
        },
        "outputId": "710ed0d0-5ba2-4330-92bd-a90524701d22"
      },
      "source": [
        "### Simple regret minimization: run number = 3\n",
        "\n",
        "approx_output_3 = np.append(np.min(approx_3.GP.y[0:n_init]),approx_3.GP.y[n_init:(n_init+iters)]) \n",
        "exact_output_3 = np.append(np.min(exact_3.GP.y[0:n_init]),exact_3.GP.y[n_init:(n_init+iters)]) \n",
        "\n",
        "regret_approx_3 = np.log(-approx_output_3 + y_global_orig)\n",
        "regret_exact_3 = np.log(-exact_output_3 + y_global_orig)\n",
        "\n",
        "simple_regret_approx_3 = min_max_array(regret_approx_3)\n",
        "simple_regret_exact_3 = min_max_array(regret_exact_3)\n",
        "\n",
        "min_simple_regret_approx_3 = min(simple_regret_approx_3)\n",
        "min_simple_regret_exact_3 = min(simple_regret_exact_3)\n",
        "\n",
        "min_simple_regret_approx_3, min_simple_regret_exact_3"
      ],
      "execution_count": 57,
      "outputs": [
        {
          "output_type": "execute_result",
          "data": {
            "text/plain": [
              "(3.033040058641384, 2.658108345339459)"
            ]
          },
          "metadata": {},
          "execution_count": 57
        }
      ]
    },
    {
      "cell_type": "code",
      "metadata": {
        "id": "AZm0jgxkQxfm",
        "colab": {
          "base_uri": "https://localhost:8080/"
        },
        "outputId": "9c3d86c3-d1e0-4ff9-f126-cd9b52b8a2cb"
      },
      "source": [
        "### Simple regret minimization: run number = 4\n",
        "\n",
        "approx_output_4 = np.append(np.min(approx_4.GP.y[0:n_init]),approx_4.GP.y[n_init:(n_init+iters)]) \n",
        "exact_output_4 = np.append(np.min(exact_4.GP.y[0:n_init]),exact_4.GP.y[n_init:(n_init+iters)]) \n",
        "\n",
        "regret_approx_4 = np.log(-approx_output_4 + y_global_orig)\n",
        "regret_exact_4 = np.log(-exact_output_4 + y_global_orig)\n",
        "\n",
        "simple_regret_approx_4 = min_max_array(regret_approx_4)\n",
        "simple_regret_exact_4 = min_max_array(regret_exact_4)\n",
        "\n",
        "min_simple_regret_approx_4 = min(simple_regret_approx_4)\n",
        "min_simple_regret_exact_4 = min(simple_regret_exact_4)\n",
        "\n",
        "min_simple_regret_approx_4, min_simple_regret_exact_4"
      ],
      "execution_count": 58,
      "outputs": [
        {
          "output_type": "execute_result",
          "data": {
            "text/plain": [
              "(2.2878491743713982, 2.7102124180390814)"
            ]
          },
          "metadata": {},
          "execution_count": 58
        }
      ]
    },
    {
      "cell_type": "code",
      "metadata": {
        "id": "NONPm8JIQxfn",
        "colab": {
          "base_uri": "https://localhost:8080/"
        },
        "outputId": "f82900c0-495c-4b55-a12e-a306768ab58d"
      },
      "source": [
        "### Simple regret minimization: run number = 5\n",
        "\n",
        "approx_output_5 = np.append(np.min(approx_5.GP.y[0:n_init]),approx_5.GP.y[n_init:(n_init+iters)]) \n",
        "exact_output_5 = np.append(np.min(exact_5.GP.y[0:n_init]),exact_5.GP.y[n_init:(n_init+iters)]) \n",
        "\n",
        "regret_approx_5 = np.log(-approx_output_5 + y_global_orig)\n",
        "regret_exact_5 = np.log(-exact_output_5 + y_global_orig)\n",
        "\n",
        "simple_regret_approx_5 = min_max_array(regret_approx_5)\n",
        "simple_regret_exact_5 = min_max_array(regret_exact_5)\n",
        "\n",
        "min_simple_regret_approx_5 = min(simple_regret_approx_5)\n",
        "min_simple_regret_exact_5 = min(simple_regret_exact_5)\n",
        "\n",
        "min_simple_regret_approx_5, min_simple_regret_exact_5"
      ],
      "execution_count": 59,
      "outputs": [
        {
          "output_type": "execute_result",
          "data": {
            "text/plain": [
              "(2.09317040236613, 2.9232515934894527)"
            ]
          },
          "metadata": {},
          "execution_count": 59
        }
      ]
    },
    {
      "cell_type": "code",
      "metadata": {
        "id": "CJv3lPuSQxfp",
        "colab": {
          "base_uri": "https://localhost:8080/"
        },
        "outputId": "5185eaea-7c1c-4961-cfa4-ed5cb7c1c25e"
      },
      "source": [
        "### Simple regret minimization: run number = 6\n",
        "\n",
        "approx_output_6 = np.append(np.min(approx_6.GP.y[0:n_init]),approx_6.GP.y[n_init:(n_init+iters)]) \n",
        "exact_output_6 = np.append(np.min(exact_6.GP.y[0:n_init]),exact_6.GP.y[n_init:(n_init+iters)]) \n",
        "\n",
        "regret_approx_6 = np.log(-approx_output_6 + y_global_orig)\n",
        "regret_exact_6 = np.log(-exact_output_6 + y_global_orig)\n",
        "\n",
        "simple_regret_approx_6 = min_max_array(regret_approx_6)\n",
        "simple_regret_exact_6 = min_max_array(regret_exact_6)\n",
        "\n",
        "min_simple_regret_approx_6 = min(simple_regret_approx_6)\n",
        "min_simple_regret_exact_6 = min(simple_regret_exact_6)\n",
        "\n",
        "min_simple_regret_approx_6, min_simple_regret_exact_6"
      ],
      "execution_count": 60,
      "outputs": [
        {
          "output_type": "execute_result",
          "data": {
            "text/plain": [
              "(2.7883919978145477, 1.9215683695795636)"
            ]
          },
          "metadata": {},
          "execution_count": 60
        }
      ]
    },
    {
      "cell_type": "code",
      "metadata": {
        "id": "quR2ZyApQxfq",
        "colab": {
          "base_uri": "https://localhost:8080/"
        },
        "outputId": "7c66c9ce-a215-48f9-e5ca-03de4b3d88e9"
      },
      "source": [
        "### Simple regret minimization: run number = 7\n",
        "\n",
        "approx_output_7 = np.append(np.min(approx_7.GP.y[0:n_init]),approx_7.GP.y[n_init:(n_init+iters)]) \n",
        "exact_output_7 = np.append(np.min(exact_7.GP.y[0:n_init]),exact_7.GP.y[n_init:(n_init+iters)]) \n",
        "\n",
        "regret_approx_7 = np.log(-approx_output_7 + y_global_orig)\n",
        "regret_exact_7 = np.log(-exact_output_7 + y_global_orig)\n",
        "\n",
        "simple_regret_approx_7 = min_max_array(regret_approx_7)\n",
        "simple_regret_exact_7 = min_max_array(regret_exact_7)\n",
        "\n",
        "min_simple_regret_approx_7 = min(simple_regret_approx_7)\n",
        "min_simple_regret_exact_7 = min(simple_regret_exact_7)\n",
        "\n",
        "min_simple_regret_approx_7, min_simple_regret_exact_7"
      ],
      "execution_count": 61,
      "outputs": [
        {
          "output_type": "execute_result",
          "data": {
            "text/plain": [
              "(2.832612101095752, 2.691741430126247)"
            ]
          },
          "metadata": {},
          "execution_count": 61
        }
      ]
    },
    {
      "cell_type": "code",
      "metadata": {
        "id": "99wY5nK6Qxfr",
        "colab": {
          "base_uri": "https://localhost:8080/"
        },
        "outputId": "893b3893-a9e5-4c91-d45f-828885e5d3b0"
      },
      "source": [
        "### Simple regret minimization: run number = 8\n",
        "\n",
        "approx_output_8 = np.append(np.min(approx_8.GP.y[0:n_init]),approx_8.GP.y[n_init:(n_init+iters)]) \n",
        "exact_output_8 = np.append(np.min(exact_8.GP.y[0:n_init]),exact_8.GP.y[n_init:(n_init+iters)]) \n",
        "\n",
        "regret_approx_8 = np.log(-approx_output_8 + y_global_orig)\n",
        "regret_exact_8 = np.log(-exact_output_8 + y_global_orig)\n",
        "\n",
        "simple_regret_approx_8 = min_max_array(regret_approx_8)\n",
        "simple_regret_exact_8 = min_max_array(regret_exact_8)\n",
        "\n",
        "min_simple_regret_approx_8 = min(simple_regret_approx_8)\n",
        "min_simple_regret_exact_8 = min(simple_regret_exact_8)\n",
        "\n",
        "min_simple_regret_approx_8, min_simple_regret_exact_8"
      ],
      "execution_count": 62,
      "outputs": [
        {
          "output_type": "execute_result",
          "data": {
            "text/plain": [
              "(2.698507885007316, 2.7757261498616126)"
            ]
          },
          "metadata": {},
          "execution_count": 62
        }
      ]
    },
    {
      "cell_type": "code",
      "metadata": {
        "id": "qt0P5t9qQxfs",
        "colab": {
          "base_uri": "https://localhost:8080/"
        },
        "outputId": "a2a5e1d9-b8d0-4bc7-f875-911f39cbd488"
      },
      "source": [
        "### Simple regret minimization: run number = 9\n",
        "\n",
        "approx_output_9 = np.append(np.min(approx_9.GP.y[0:n_init]),approx_9.GP.y[n_init:(n_init+iters)]) \n",
        "exact_output_9 = np.append(np.min(exact_9.GP.y[0:n_init]),exact_9.GP.y[n_init:(n_init+iters)]) \n",
        "\n",
        "regret_approx_9 = np.log(-approx_output_9 + y_global_orig)\n",
        "regret_exact_9 = np.log(-exact_output_9 + y_global_orig)\n",
        "\n",
        "simple_regret_approx_9 = min_max_array(regret_approx_9)\n",
        "simple_regret_exact_9 = min_max_array(regret_exact_9)\n",
        "\n",
        "min_simple_regret_approx_9 = min(simple_regret_approx_9)\n",
        "min_simple_regret_exact_9 = min(simple_regret_exact_9)\n",
        "\n",
        "min_simple_regret_approx_9, min_simple_regret_exact_9"
      ],
      "execution_count": 63,
      "outputs": [
        {
          "output_type": "execute_result",
          "data": {
            "text/plain": [
              "(2.483536836481541, 2.4403384137386324)"
            ]
          },
          "metadata": {},
          "execution_count": 63
        }
      ]
    },
    {
      "cell_type": "code",
      "metadata": {
        "id": "vx8to9stQxft",
        "colab": {
          "base_uri": "https://localhost:8080/"
        },
        "outputId": "a0251dc2-0d8b-4644-a57f-246e23328f05"
      },
      "source": [
        "### Simple regret minimization: run number = 10\n",
        "\n",
        "approx_output_10 = np.append(np.min(approx_10.GP.y[0:n_init]),approx_10.GP.y[n_init:(n_init+iters)]) \n",
        "exact_output_10 = np.append(np.min(exact_10.GP.y[0:n_init]),exact_10.GP.y[n_init:(n_init+iters)]) \n",
        "\n",
        "regret_approx_10 = np.log(-approx_output_10 + y_global_orig)\n",
        "regret_exact_10 = np.log(-exact_output_10 + y_global_orig)\n",
        "\n",
        "simple_regret_approx_10 = min_max_array(regret_approx_10)\n",
        "simple_regret_exact_10 = min_max_array(regret_exact_10)\n",
        "\n",
        "min_simple_regret_approx_10 = min(simple_regret_approx_10)\n",
        "min_simple_regret_exact_10 = min(simple_regret_exact_10)\n",
        "\n",
        "min_simple_regret_approx_10, min_simple_regret_exact_10"
      ],
      "execution_count": 64,
      "outputs": [
        {
          "output_type": "execute_result",
          "data": {
            "text/plain": [
              "(2.524185977487685, 2.217682327002216)"
            ]
          },
          "metadata": {},
          "execution_count": 64
        }
      ]
    },
    {
      "cell_type": "code",
      "metadata": {
        "id": "d-FGzWyHQxfu",
        "colab": {
          "base_uri": "https://localhost:8080/"
        },
        "outputId": "2af0667b-da50-452a-d426-1baf86b3da66"
      },
      "source": [
        "### Simple regret minimization: run number = 11\n",
        "\n",
        "approx_output_11 = np.append(np.min(approx_11.GP.y[0:n_init]),approx_11.GP.y[n_init:(n_init+iters)]) \n",
        "exact_output_11 = np.append(np.min(exact_11.GP.y[0:n_init]),exact_11.GP.y[n_init:(n_init+iters)]) \n",
        "\n",
        "regret_approx_11 = np.log(-approx_output_11 + y_global_orig)\n",
        "regret_exact_11 = np.log(-exact_output_11 + y_global_orig)\n",
        "\n",
        "simple_regret_approx_11 = min_max_array(regret_approx_11)\n",
        "simple_regret_exact_11 = min_max_array(regret_exact_11)\n",
        "\n",
        "min_simple_regret_approx_11 = min(simple_regret_approx_11)\n",
        "min_simple_regret_exact_11 = min(simple_regret_exact_11)\n",
        "\n",
        "min_simple_regret_approx_11, min_simple_regret_exact_11"
      ],
      "execution_count": 65,
      "outputs": [
        {
          "output_type": "execute_result",
          "data": {
            "text/plain": [
              "(2.328178770855079, 2.2246858988335587)"
            ]
          },
          "metadata": {},
          "execution_count": 65
        }
      ]
    },
    {
      "cell_type": "code",
      "metadata": {
        "id": "SvtsssyjQxfv",
        "colab": {
          "base_uri": "https://localhost:8080/"
        },
        "outputId": "47afb712-f169-44b4-f8f9-3401738c668f"
      },
      "source": [
        "### Simple regret minimization: run number = 12\n",
        "\n",
        "approx_output_12 = np.append(np.min(approx_12.GP.y[0:n_init]),approx_12.GP.y[n_init:(n_init+iters)]) \n",
        "exact_output_12 = np.append(np.min(exact_12.GP.y[0:n_init]),exact_12.GP.y[n_init:(n_init+iters)]) \n",
        "\n",
        "regret_approx_12 = np.log(-approx_output_12 + y_global_orig)\n",
        "regret_exact_12 = np.log(-exact_output_12 + y_global_orig)\n",
        "\n",
        "simple_regret_approx_12 = min_max_array(regret_approx_12)\n",
        "simple_regret_exact_12 = min_max_array(regret_exact_12)\n",
        "\n",
        "min_simple_regret_approx_12 = min(simple_regret_approx_12)\n",
        "min_simple_regret_exact_12 = min(simple_regret_exact_12)\n",
        "\n",
        "min_simple_regret_approx_12, min_simple_regret_exact_12"
      ],
      "execution_count": 66,
      "outputs": [
        {
          "output_type": "execute_result",
          "data": {
            "text/plain": [
              "(2.1676815918557413, 1.4296329562682144)"
            ]
          },
          "metadata": {},
          "execution_count": 66
        }
      ]
    },
    {
      "cell_type": "code",
      "metadata": {
        "id": "K6OiGcHkQxfw",
        "colab": {
          "base_uri": "https://localhost:8080/"
        },
        "outputId": "b885ad0d-e045-493f-89cd-e792d3027cef"
      },
      "source": [
        "### Simple regret minimization: run number = 13\n",
        "\n",
        "approx_output_13 = np.append(np.min(approx_13.GP.y[0:n_init]),approx_13.GP.y[n_init:(n_init+iters)]) \n",
        "exact_output_13 = np.append(np.min(exact_13.GP.y[0:n_init]),exact_13.GP.y[n_init:(n_init+iters)]) \n",
        "\n",
        "regret_approx_13 = np.log(-approx_output_13 + y_global_orig)\n",
        "regret_exact_13 = np.log(-exact_output_13 + y_global_orig)\n",
        "\n",
        "simple_regret_approx_13 = min_max_array(regret_approx_13)\n",
        "simple_regret_exact_13 = min_max_array(regret_exact_13)\n",
        "\n",
        "min_simple_regret_approx_13 = min(simple_regret_approx_13)\n",
        "min_simple_regret_exact_13 = min(simple_regret_exact_13)\n",
        "\n",
        "min_simple_regret_approx_13, min_simple_regret_exact_13"
      ],
      "execution_count": 67,
      "outputs": [
        {
          "output_type": "execute_result",
          "data": {
            "text/plain": [
              "(2.727448378889822, 1.8699105690901723)"
            ]
          },
          "metadata": {},
          "execution_count": 67
        }
      ]
    },
    {
      "cell_type": "code",
      "metadata": {
        "id": "ogML73shQxfx",
        "colab": {
          "base_uri": "https://localhost:8080/"
        },
        "outputId": "eb77f28f-a024-40ef-8237-52dafd18681c"
      },
      "source": [
        "### Simple regret minimization: run number = 14\n",
        "\n",
        "approx_output_14 = np.append(np.min(approx_14.GP.y[0:n_init]),approx_14.GP.y[n_init:(n_init+iters)]) \n",
        "exact_output_14 = np.append(np.min(exact_14.GP.y[0:n_init]),exact_14.GP.y[n_init:(n_init+iters)]) \n",
        "\n",
        "regret_approx_14 = np.log(-approx_output_14 + y_global_orig)\n",
        "regret_exact_14 = np.log(-exact_output_14 + y_global_orig)\n",
        "\n",
        "simple_regret_approx_14 = min_max_array(regret_approx_14)\n",
        "simple_regret_exact_14 = min_max_array(regret_exact_14)\n",
        "\n",
        "min_simple_regret_approx_14 = min(simple_regret_approx_14)\n",
        "min_simple_regret_exact_14 = min(simple_regret_exact_14)\n",
        "\n",
        "min_simple_regret_approx_14, min_simple_regret_exact_14"
      ],
      "execution_count": 68,
      "outputs": [
        {
          "output_type": "execute_result",
          "data": {
            "text/plain": [
              "(2.546109518337446, 2.5441227701985225)"
            ]
          },
          "metadata": {},
          "execution_count": 68
        }
      ]
    },
    {
      "cell_type": "code",
      "metadata": {
        "id": "9Eg7gFT9Qxfx",
        "colab": {
          "base_uri": "https://localhost:8080/"
        },
        "outputId": "b09dbbf9-3436-43f2-b96f-b8d472af93aa"
      },
      "source": [
        "### Simple regret minimization: run number = 15\n",
        "\n",
        "approx_output_15 = np.append(np.min(approx_15.GP.y[0:n_init]),approx_15.GP.y[n_init:(n_init+iters)]) \n",
        "exact_output_15 = np.append(np.min(exact_15.GP.y[0:n_init]),exact_15.GP.y[n_init:(n_init+iters)]) \n",
        "\n",
        "regret_approx_15 = np.log(-approx_output_15 + y_global_orig)\n",
        "regret_exact_15 = np.log(-exact_output_15 + y_global_orig)\n",
        "\n",
        "simple_regret_approx_15 = min_max_array(regret_approx_15)\n",
        "simple_regret_exact_15 = min_max_array(regret_exact_15)\n",
        "\n",
        "min_simple_regret_approx_15 = min(simple_regret_approx_15)\n",
        "min_simple_regret_exact_15 = min(simple_regret_exact_15)\n",
        "\n",
        "min_simple_regret_approx_15, min_simple_regret_exact_15"
      ],
      "execution_count": 69,
      "outputs": [
        {
          "output_type": "execute_result",
          "data": {
            "text/plain": [
              "(3.0745124996499653, 2.091257959868251)"
            ]
          },
          "metadata": {},
          "execution_count": 69
        }
      ]
    },
    {
      "cell_type": "code",
      "metadata": {
        "id": "lIAC1U7ZQxfy",
        "colab": {
          "base_uri": "https://localhost:8080/"
        },
        "outputId": "16d38059-61bb-4821-9d78-c6ef68a216f6"
      },
      "source": [
        "### Simple regret minimization: run number = 16\n",
        "\n",
        "approx_output_16 = np.append(np.min(approx_16.GP.y[0:n_init]),approx_16.GP.y[n_init:(n_init+iters)]) \n",
        "exact_output_16 = np.append(np.min(exact_16.GP.y[0:n_init]),exact_16.GP.y[n_init:(n_init+iters)]) \n",
        "\n",
        "regret_approx_16 = np.log(-approx_output_16 + y_global_orig)\n",
        "regret_exact_16 = np.log(-exact_output_16 + y_global_orig)\n",
        "\n",
        "simple_regret_approx_16 = min_max_array(regret_approx_16)\n",
        "simple_regret_exact_16 = min_max_array(regret_exact_16)\n",
        "\n",
        "min_simple_regret_approx_16 = min(simple_regret_approx_16)\n",
        "min_simple_regret_exact_16 = min(simple_regret_exact_16)\n",
        "\n",
        "min_simple_regret_approx_16, min_simple_regret_exact_16"
      ],
      "execution_count": 70,
      "outputs": [
        {
          "output_type": "execute_result",
          "data": {
            "text/plain": [
              "(0.7570923673591398, 2.271999084679909)"
            ]
          },
          "metadata": {},
          "execution_count": 70
        }
      ]
    },
    {
      "cell_type": "code",
      "metadata": {
        "id": "bGott36OQxfz",
        "colab": {
          "base_uri": "https://localhost:8080/"
        },
        "outputId": "479d2b84-9b30-419a-a3ee-8bc4ba2bc27e"
      },
      "source": [
        "### Simple regret minimization: run number = 17\n",
        "\n",
        "approx_output_17 = np.append(np.min(approx_17.GP.y[0:n_init]),approx_17.GP.y[n_init:(n_init+iters)]) \n",
        "exact_output_17 = np.append(np.min(exact_17.GP.y[0:n_init]),exact_17.GP.y[n_init:(n_init+iters)]) \n",
        "\n",
        "regret_approx_17 = np.log(-approx_output_17 + y_global_orig)\n",
        "regret_exact_17 = np.log(-exact_output_17 + y_global_orig)\n",
        "\n",
        "simple_regret_approx_17 = min_max_array(regret_approx_17)\n",
        "simple_regret_exact_17 = min_max_array(regret_exact_17)\n",
        "\n",
        "min_simple_regret_approx_17 = min(simple_regret_approx_17)\n",
        "min_simple_regret_exact_17 = min(simple_regret_exact_17)\n",
        "\n",
        "min_simple_regret_approx_17, min_simple_regret_exact_17"
      ],
      "execution_count": 71,
      "outputs": [
        {
          "output_type": "execute_result",
          "data": {
            "text/plain": [
              "(2.4001691240342953, 1.7888495520079646)"
            ]
          },
          "metadata": {},
          "execution_count": 71
        }
      ]
    },
    {
      "cell_type": "code",
      "metadata": {
        "id": "Cz9ZYMBMQxfz",
        "colab": {
          "base_uri": "https://localhost:8080/"
        },
        "outputId": "9cc7f306-7c9c-4361-e8e4-d7e9049698d5"
      },
      "source": [
        "### Simple regret minimization: run number = 18\n",
        "\n",
        "approx_output_18 = np.append(np.min(approx_18.GP.y[0:n_init]),approx_18.GP.y[n_init:(n_init+iters)]) \n",
        "exact_output_18 = np.append(np.min(exact_18.GP.y[0:n_init]),exact_18.GP.y[n_init:(n_init+iters)]) \n",
        "\n",
        "regret_approx_18 = np.log(-approx_output_18 + y_global_orig)\n",
        "regret_exact_18 = np.log(-exact_output_18 + y_global_orig)\n",
        "\n",
        "simple_regret_approx_18 = min_max_array(regret_approx_18)\n",
        "simple_regret_exact_18 = min_max_array(regret_exact_18)\n",
        "\n",
        "min_simple_regret_approx_18 = min(simple_regret_approx_18)\n",
        "min_simple_regret_exact_18 = min(simple_regret_exact_18)\n",
        "\n",
        "min_simple_regret_approx_18, min_simple_regret_exact_18"
      ],
      "execution_count": 72,
      "outputs": [
        {
          "output_type": "execute_result",
          "data": {
            "text/plain": [
              "(2.7045763755107677, 2.2383442636345428)"
            ]
          },
          "metadata": {},
          "execution_count": 72
        }
      ]
    },
    {
      "cell_type": "code",
      "metadata": {
        "id": "OBfpWOHNQxf0",
        "colab": {
          "base_uri": "https://localhost:8080/"
        },
        "outputId": "c70c5a1b-a635-431b-ce66-709c95a79518"
      },
      "source": [
        "### Simple regret minimization: run number = 19\n",
        "\n",
        "approx_output_19 = np.append(np.min(approx_19.GP.y[0:n_init]),approx_19.GP.y[n_init:(n_init+iters)]) \n",
        "exact_output_19 = np.append(np.min(exact_19.GP.y[0:n_init]),exact_19.GP.y[n_init:(n_init+iters)]) \n",
        "\n",
        "regret_approx_19 = np.log(-approx_output_19 + y_global_orig)\n",
        "regret_exact_19 = np.log(-exact_output_19 + y_global_orig)\n",
        "\n",
        "simple_regret_approx_19 = min_max_array(regret_approx_19)\n",
        "simple_regret_exact_19 = min_max_array(regret_exact_19)\n",
        "\n",
        "min_simple_regret_approx_19 = min(simple_regret_approx_19)\n",
        "min_simple_regret_exact_19 = min(simple_regret_exact_19)\n",
        "\n",
        "min_simple_regret_approx_19, min_simple_regret_exact_19"
      ],
      "execution_count": 73,
      "outputs": [
        {
          "output_type": "execute_result",
          "data": {
            "text/plain": [
              "(2.9296486349208926, 1.8991738761438153)"
            ]
          },
          "metadata": {},
          "execution_count": 73
        }
      ]
    },
    {
      "cell_type": "code",
      "metadata": {
        "id": "BE1AJ7NsQxf0",
        "colab": {
          "base_uri": "https://localhost:8080/"
        },
        "outputId": "9dd47dcc-0514-4902-a574-89997c18efbf"
      },
      "source": [
        "### Simple regret minimization: run number = 20\n",
        "\n",
        "approx_output_20 = np.append(np.min(approx_20.GP.y[0:n_init]),approx_20.GP.y[n_init:(n_init+iters)]) \n",
        "exact_output_20 = np.append(np.min(exact_20.GP.y[0:n_init]),exact_20.GP.y[n_init:(n_init+iters)]) \n",
        "\n",
        "regret_approx_20 = np.log(-approx_output_20 + y_global_orig)\n",
        "regret_exact_20 = np.log(-exact_output_20 + y_global_orig)\n",
        "\n",
        "simple_regret_approx_20 = min_max_array(regret_approx_20)\n",
        "simple_regret_exact_20 = min_max_array(regret_exact_20)\n",
        "\n",
        "min_simple_regret_approx_20 = min(simple_regret_approx_20)\n",
        "min_simple_regret_exact_20 = min(simple_regret_exact_20)\n",
        "\n",
        "min_simple_regret_approx_20, min_simple_regret_exact_20"
      ],
      "execution_count": 74,
      "outputs": [
        {
          "output_type": "execute_result",
          "data": {
            "text/plain": [
              "(2.6419703841911284, 2.773429023475699)"
            ]
          },
          "metadata": {},
          "execution_count": 74
        }
      ]
    },
    {
      "cell_type": "code",
      "metadata": {
        "id": "bpX-bKAHQxf1"
      },
      "source": [
        "# Iteration1 :\n",
        "\n",
        "slice1 = 0\n",
        "\n",
        "approx1 = [simple_regret_approx_1[slice1],\n",
        "       simple_regret_approx_2[slice1],\n",
        "       simple_regret_approx_3[slice1],\n",
        "       simple_regret_approx_4[slice1],\n",
        "       simple_regret_approx_5[slice1],\n",
        "       simple_regret_approx_6[slice1],\n",
        "       simple_regret_approx_7[slice1],\n",
        "       simple_regret_approx_8[slice1],\n",
        "       simple_regret_approx_9[slice1],\n",
        "       simple_regret_approx_10[slice1],\n",
        "       simple_regret_approx_11[slice1],\n",
        "       simple_regret_approx_12[slice1],\n",
        "       simple_regret_approx_13[slice1],\n",
        "       simple_regret_approx_14[slice1],\n",
        "       simple_regret_approx_15[slice1],\n",
        "       simple_regret_approx_16[slice1],\n",
        "       simple_regret_approx_17[slice1],\n",
        "       simple_regret_approx_18[slice1],\n",
        "       simple_regret_approx_19[slice1],\n",
        "       simple_regret_approx_20[slice1]]\n",
        "\n",
        "exact1 = [simple_regret_exact_1[slice1],\n",
        "       simple_regret_exact_2[slice1],\n",
        "       simple_regret_exact_3[slice1],\n",
        "       simple_regret_exact_4[slice1],\n",
        "       simple_regret_exact_5[slice1],\n",
        "       simple_regret_exact_6[slice1],\n",
        "       simple_regret_exact_7[slice1],\n",
        "       simple_regret_exact_8[slice1],\n",
        "       simple_regret_exact_9[slice1],\n",
        "       simple_regret_exact_10[slice1],\n",
        "       simple_regret_exact_11[slice1],\n",
        "       simple_regret_exact_12[slice1],\n",
        "       simple_regret_exact_13[slice1],\n",
        "       simple_regret_exact_14[slice1],\n",
        "       simple_regret_exact_15[slice1],\n",
        "       simple_regret_exact_16[slice1],\n",
        "       simple_regret_exact_17[slice1],\n",
        "       simple_regret_exact_18[slice1],\n",
        "       simple_regret_exact_19[slice1],\n",
        "       simple_regret_exact_20[slice1]]\n",
        "\n",
        "approx1_results = pd.DataFrame(approx1).sort_values(by=[0], ascending=False)\n",
        "exact1_results = pd.DataFrame(exact1).sort_values(by=[0], ascending=False)\n",
        "\n",
        "### Best simple regret minimization IQR - approx:\n",
        "lower_approx1 = np.asarray(approx1_results[4:5][0])[0]\n",
        "median_approx1 = np.asarray(approx1_results[9:10][0])[0]\n",
        "upper_approx1 = np.asarray(approx1_results[14:15][0])[0]\n",
        "\n",
        "lower_exact1 = np.asarray(exact1_results[4:5][0])[0]\n",
        "median_exact1 = np.asarray(exact1_results[9:10][0])[0]\n",
        "upper_exact1 = np.asarray(exact1_results[14:15][0])[0]"
      ],
      "execution_count": 75,
      "outputs": []
    },
    {
      "cell_type": "code",
      "metadata": {
        "id": "CgIkJA1xQxf2"
      },
      "source": [
        "# Iteration11 :\n",
        "\n",
        "slice11 = 10\n",
        "\n",
        "approx11 = [simple_regret_approx_1[slice11],\n",
        "       simple_regret_approx_2[slice11],\n",
        "       simple_regret_approx_3[slice11],\n",
        "       simple_regret_approx_4[slice11],\n",
        "       simple_regret_approx_5[slice11],\n",
        "       simple_regret_approx_6[slice11],\n",
        "       simple_regret_approx_7[slice11],\n",
        "       simple_regret_approx_8[slice11],\n",
        "       simple_regret_approx_9[slice11],\n",
        "       simple_regret_approx_10[slice11],\n",
        "       simple_regret_approx_11[slice11],\n",
        "       simple_regret_approx_12[slice11],\n",
        "       simple_regret_approx_13[slice11],\n",
        "       simple_regret_approx_14[slice11],\n",
        "       simple_regret_approx_15[slice11],\n",
        "       simple_regret_approx_16[slice11],\n",
        "       simple_regret_approx_17[slice11],\n",
        "       simple_regret_approx_18[slice11],\n",
        "       simple_regret_approx_19[slice11],\n",
        "       simple_regret_approx_20[slice11]]\n",
        "\n",
        "exact11 = [simple_regret_exact_1[slice11],\n",
        "       simple_regret_exact_2[slice11],\n",
        "       simple_regret_exact_3[slice11],\n",
        "       simple_regret_exact_4[slice11],\n",
        "       simple_regret_exact_5[slice11],\n",
        "       simple_regret_exact_6[slice11],\n",
        "       simple_regret_exact_7[slice11],\n",
        "       simple_regret_exact_8[slice11],\n",
        "       simple_regret_exact_9[slice11],\n",
        "       simple_regret_exact_10[slice11],\n",
        "       simple_regret_exact_11[slice11],\n",
        "       simple_regret_exact_12[slice11],\n",
        "       simple_regret_exact_13[slice11],\n",
        "       simple_regret_exact_14[slice11],\n",
        "       simple_regret_exact_15[slice11],\n",
        "       simple_regret_exact_16[slice11],\n",
        "       simple_regret_exact_17[slice11],\n",
        "       simple_regret_exact_18[slice11],\n",
        "       simple_regret_exact_19[slice11],\n",
        "       simple_regret_exact_20[slice11]]\n",
        "\n",
        "approx11_results = pd.DataFrame(approx11).sort_values(by=[0], ascending=False)\n",
        "exact11_results = pd.DataFrame(exact11).sort_values(by=[0], ascending=False)\n",
        "\n",
        "### Best simple regret minimization IQR - approx:\n",
        "lower_approx11 = np.asarray(approx11_results[4:5][0])[0]\n",
        "median_approx11 = np.asarray(approx11_results[9:10][0])[0]\n",
        "upper_approx11 = np.asarray(approx11_results[14:15][0])[0]\n",
        "\n",
        "lower_exact11 = np.asarray(exact11_results[4:5][0])[0]\n",
        "median_exact11 = np.asarray(exact11_results[9:10][0])[0]\n",
        "upper_exact11 = np.asarray(exact11_results[14:15][0])[0]"
      ],
      "execution_count": 76,
      "outputs": []
    },
    {
      "cell_type": "code",
      "metadata": {
        "id": "MFePDfGuQxf2"
      },
      "source": [
        "# Iteration21 :\n",
        "\n",
        "slice21 = 20\n",
        "\n",
        "approx21 = [simple_regret_approx_1[slice21],\n",
        "       simple_regret_approx_2[slice21],\n",
        "       simple_regret_approx_3[slice21],\n",
        "       simple_regret_approx_4[slice21],\n",
        "       simple_regret_approx_5[slice21],\n",
        "       simple_regret_approx_6[slice21],\n",
        "       simple_regret_approx_7[slice21],\n",
        "       simple_regret_approx_8[slice21],\n",
        "       simple_regret_approx_9[slice21],\n",
        "       simple_regret_approx_10[slice21],\n",
        "       simple_regret_approx_11[slice21],\n",
        "       simple_regret_approx_12[slice21],\n",
        "       simple_regret_approx_13[slice21],\n",
        "       simple_regret_approx_14[slice21],\n",
        "       simple_regret_approx_15[slice21],\n",
        "       simple_regret_approx_16[slice21],\n",
        "       simple_regret_approx_17[slice21],\n",
        "       simple_regret_approx_18[slice21],\n",
        "       simple_regret_approx_19[slice21],\n",
        "       simple_regret_approx_20[slice21]]\n",
        "\n",
        "exact21 = [simple_regret_exact_1[slice21],\n",
        "       simple_regret_exact_2[slice21],\n",
        "       simple_regret_exact_3[slice21],\n",
        "       simple_regret_exact_4[slice21],\n",
        "       simple_regret_exact_5[slice21],\n",
        "       simple_regret_exact_6[slice21],\n",
        "       simple_regret_exact_7[slice21],\n",
        "       simple_regret_exact_8[slice21],\n",
        "       simple_regret_exact_9[slice21],\n",
        "       simple_regret_exact_10[slice21],\n",
        "       simple_regret_exact_11[slice21],\n",
        "       simple_regret_exact_12[slice21],\n",
        "       simple_regret_exact_13[slice21],\n",
        "       simple_regret_exact_14[slice21],\n",
        "       simple_regret_exact_15[slice21],\n",
        "       simple_regret_exact_16[slice21],\n",
        "       simple_regret_exact_17[slice21],\n",
        "       simple_regret_exact_18[slice21],\n",
        "       simple_regret_exact_19[slice21],\n",
        "       simple_regret_exact_20[slice21]]\n",
        "\n",
        "approx21_results = pd.DataFrame(approx21).sort_values(by=[0], ascending=False)\n",
        "exact21_results = pd.DataFrame(exact21).sort_values(by=[0], ascending=False)\n",
        "\n",
        "### Best simple regret minimization IQR - approx:\n",
        "lower_approx21 = np.asarray(approx21_results[4:5][0])[0]\n",
        "median_approx21 = np.asarray(approx21_results[9:10][0])[0]\n",
        "upper_approx21 = np.asarray(approx21_results[14:15][0])[0]\n",
        "\n",
        "lower_exact21 = np.asarray(exact21_results[4:5][0])[0]\n",
        "median_exact21 = np.asarray(exact21_results[9:10][0])[0]\n",
        "upper_exact21 = np.asarray(exact21_results[14:15][0])[0]"
      ],
      "execution_count": 77,
      "outputs": []
    },
    {
      "cell_type": "code",
      "metadata": {
        "id": "PrRDB1kfQxf3"
      },
      "source": [
        "# Iteration2 :\n",
        "\n",
        "slice2 = 1\n",
        "\n",
        "approx2 = [simple_regret_approx_1[slice2],\n",
        "       simple_regret_approx_2[slice2],\n",
        "       simple_regret_approx_3[slice2],\n",
        "       simple_regret_approx_4[slice2],\n",
        "       simple_regret_approx_5[slice2],\n",
        "       simple_regret_approx_6[slice2],\n",
        "       simple_regret_approx_7[slice2],\n",
        "       simple_regret_approx_8[slice2],\n",
        "       simple_regret_approx_9[slice2],\n",
        "       simple_regret_approx_10[slice2],\n",
        "       simple_regret_approx_11[slice2],\n",
        "       simple_regret_approx_12[slice2],\n",
        "       simple_regret_approx_13[slice2],\n",
        "       simple_regret_approx_14[slice2],\n",
        "       simple_regret_approx_15[slice2],\n",
        "       simple_regret_approx_16[slice2],\n",
        "       simple_regret_approx_17[slice2],\n",
        "       simple_regret_approx_18[slice2],\n",
        "       simple_regret_approx_19[slice2],\n",
        "       simple_regret_approx_20[slice2]]\n",
        "\n",
        "exact2 = [simple_regret_exact_1[slice2],\n",
        "       simple_regret_exact_2[slice2],\n",
        "       simple_regret_exact_3[slice2],\n",
        "       simple_regret_exact_4[slice2],\n",
        "       simple_regret_exact_5[slice2],\n",
        "       simple_regret_exact_6[slice2],\n",
        "       simple_regret_exact_7[slice2],\n",
        "       simple_regret_exact_8[slice2],\n",
        "       simple_regret_exact_9[slice2],\n",
        "       simple_regret_exact_10[slice2],\n",
        "       simple_regret_exact_11[slice2],\n",
        "       simple_regret_exact_12[slice2],\n",
        "       simple_regret_exact_13[slice2],\n",
        "       simple_regret_exact_14[slice2],\n",
        "       simple_regret_exact_15[slice2],\n",
        "       simple_regret_exact_16[slice2],\n",
        "       simple_regret_exact_17[slice2],\n",
        "       simple_regret_exact_18[slice2],\n",
        "       simple_regret_exact_19[slice2],\n",
        "       simple_regret_exact_20[slice2]]\n",
        "\n",
        "approx2_results = pd.DataFrame(approx2).sort_values(by=[0], ascending=False)\n",
        "exact2_results = pd.DataFrame(exact2).sort_values(by=[0], ascending=False)\n",
        "\n",
        "### Best simple regret minimization IQR - approx:\n",
        "lower_approx2 = np.asarray(approx2_results[4:5][0])[0]\n",
        "median_approx2 = np.asarray(approx2_results[9:10][0])[0]\n",
        "upper_approx2 = np.asarray(approx2_results[14:15][0])[0]\n",
        "\n",
        "lower_exact2 = np.asarray(exact2_results[4:5][0])[0]\n",
        "median_exact2 = np.asarray(exact2_results[9:10][0])[0]\n",
        "upper_exact2 = np.asarray(exact2_results[14:15][0])[0]"
      ],
      "execution_count": 78,
      "outputs": []
    },
    {
      "cell_type": "code",
      "metadata": {
        "id": "B8ncJDYeQxf3"
      },
      "source": [
        "# Iteration12 :\n",
        "\n",
        "slice12 = 11\n",
        "\n",
        "approx12 = [simple_regret_approx_1[slice12],\n",
        "       simple_regret_approx_2[slice12],\n",
        "       simple_regret_approx_3[slice12],\n",
        "       simple_regret_approx_4[slice12],\n",
        "       simple_regret_approx_5[slice12],\n",
        "       simple_regret_approx_6[slice12],\n",
        "       simple_regret_approx_7[slice12],\n",
        "       simple_regret_approx_8[slice12],\n",
        "       simple_regret_approx_9[slice12],\n",
        "       simple_regret_approx_10[slice12],\n",
        "       simple_regret_approx_11[slice12],\n",
        "       simple_regret_approx_12[slice12],\n",
        "       simple_regret_approx_13[slice12],\n",
        "       simple_regret_approx_14[slice12],\n",
        "       simple_regret_approx_15[slice12],\n",
        "       simple_regret_approx_16[slice12],\n",
        "       simple_regret_approx_17[slice12],\n",
        "       simple_regret_approx_18[slice12],\n",
        "       simple_regret_approx_19[slice12],\n",
        "       simple_regret_approx_20[slice12]]\n",
        "\n",
        "exact12 = [simple_regret_exact_1[slice12],\n",
        "       simple_regret_exact_2[slice12],\n",
        "       simple_regret_exact_3[slice12],\n",
        "       simple_regret_exact_4[slice12],\n",
        "       simple_regret_exact_5[slice12],\n",
        "       simple_regret_exact_6[slice12],\n",
        "       simple_regret_exact_7[slice12],\n",
        "       simple_regret_exact_8[slice12],\n",
        "       simple_regret_exact_9[slice12],\n",
        "       simple_regret_exact_10[slice12],\n",
        "       simple_regret_exact_11[slice12],\n",
        "       simple_regret_exact_12[slice12],\n",
        "       simple_regret_exact_13[slice12],\n",
        "       simple_regret_exact_14[slice12],\n",
        "       simple_regret_exact_15[slice12],\n",
        "       simple_regret_exact_16[slice12],\n",
        "       simple_regret_exact_17[slice12],\n",
        "       simple_regret_exact_18[slice12],\n",
        "       simple_regret_exact_19[slice12],\n",
        "       simple_regret_exact_20[slice12]]\n",
        "\n",
        "approx12_results = pd.DataFrame(approx12).sort_values(by=[0], ascending=False)\n",
        "exact12_results = pd.DataFrame(exact12).sort_values(by=[0], ascending=False)\n",
        "\n",
        "### Best simple regret minimization IQR - approx:\n",
        "lower_approx12 = np.asarray(approx12_results[4:5][0])[0]\n",
        "median_approx12 = np.asarray(approx12_results[9:10][0])[0]\n",
        "upper_approx12 = np.asarray(approx12_results[14:15][0])[0]\n",
        "\n",
        "lower_exact12 = np.asarray(exact12_results[4:5][0])[0]\n",
        "median_exact12 = np.asarray(exact12_results[9:10][0])[0]\n",
        "upper_exact12 = np.asarray(exact12_results[14:15][0])[0]"
      ],
      "execution_count": 79,
      "outputs": []
    },
    {
      "cell_type": "code",
      "metadata": {
        "id": "Jn4KpGvcQxf4"
      },
      "source": [
        "# Iteration3 :\n",
        "\n",
        "slice3 = 2\n",
        "\n",
        "approx3 = [simple_regret_approx_1[slice3],\n",
        "       simple_regret_approx_2[slice3],\n",
        "       simple_regret_approx_3[slice3],\n",
        "       simple_regret_approx_4[slice3],\n",
        "       simple_regret_approx_5[slice3],\n",
        "       simple_regret_approx_6[slice3],\n",
        "       simple_regret_approx_7[slice3],\n",
        "       simple_regret_approx_8[slice3],\n",
        "       simple_regret_approx_9[slice3],\n",
        "       simple_regret_approx_10[slice3],\n",
        "       simple_regret_approx_11[slice3],\n",
        "       simple_regret_approx_12[slice3],\n",
        "       simple_regret_approx_13[slice3],\n",
        "       simple_regret_approx_14[slice3],\n",
        "       simple_regret_approx_15[slice3],\n",
        "       simple_regret_approx_16[slice3],\n",
        "       simple_regret_approx_17[slice3],\n",
        "       simple_regret_approx_18[slice3],\n",
        "       simple_regret_approx_19[slice3],\n",
        "       simple_regret_approx_20[slice3]]\n",
        "\n",
        "exact3 = [simple_regret_exact_1[slice3],\n",
        "       simple_regret_exact_2[slice3],\n",
        "       simple_regret_exact_3[slice3],\n",
        "       simple_regret_exact_4[slice3],\n",
        "       simple_regret_exact_5[slice3],\n",
        "       simple_regret_exact_6[slice3],\n",
        "       simple_regret_exact_7[slice3],\n",
        "       simple_regret_exact_8[slice3],\n",
        "       simple_regret_exact_9[slice3],\n",
        "       simple_regret_exact_10[slice3],\n",
        "       simple_regret_exact_11[slice3],\n",
        "       simple_regret_exact_12[slice3],\n",
        "       simple_regret_exact_13[slice3],\n",
        "       simple_regret_exact_14[slice3],\n",
        "       simple_regret_exact_15[slice3],\n",
        "       simple_regret_exact_16[slice3],\n",
        "       simple_regret_exact_17[slice3],\n",
        "       simple_regret_exact_18[slice3],\n",
        "       simple_regret_exact_19[slice3],\n",
        "       simple_regret_exact_20[slice3]]\n",
        "\n",
        "approx3_results = pd.DataFrame(approx3).sort_values(by=[0], ascending=False)\n",
        "exact3_results = pd.DataFrame(exact3).sort_values(by=[0], ascending=False)\n",
        "\n",
        "### Best simple regret minimization IQR - approx:\n",
        "lower_approx3 = np.asarray(approx3_results[4:5][0])[0]\n",
        "median_approx3 = np.asarray(approx3_results[9:10][0])[0]\n",
        "upper_approx3 = np.asarray(approx3_results[14:15][0])[0]\n",
        "\n",
        "lower_exact3 = np.asarray(exact3_results[4:5][0])[0]\n",
        "median_exact3 = np.asarray(exact3_results[9:10][0])[0]\n",
        "upper_exact3 = np.asarray(exact3_results[14:15][0])[0]"
      ],
      "execution_count": 80,
      "outputs": []
    },
    {
      "cell_type": "code",
      "metadata": {
        "id": "plf83wxrQxf4"
      },
      "source": [
        "# Iteration13 :\n",
        "\n",
        "slice13 = 12\n",
        "\n",
        "approx13 = [simple_regret_approx_1[slice13],\n",
        "       simple_regret_approx_2[slice13],\n",
        "       simple_regret_approx_3[slice13],\n",
        "       simple_regret_approx_4[slice13],\n",
        "       simple_regret_approx_5[slice13],\n",
        "       simple_regret_approx_6[slice13],\n",
        "       simple_regret_approx_7[slice13],\n",
        "       simple_regret_approx_8[slice13],\n",
        "       simple_regret_approx_9[slice13],\n",
        "       simple_regret_approx_10[slice13],\n",
        "       simple_regret_approx_11[slice13],\n",
        "       simple_regret_approx_12[slice13],\n",
        "       simple_regret_approx_13[slice13],\n",
        "       simple_regret_approx_14[slice13],\n",
        "       simple_regret_approx_15[slice13],\n",
        "       simple_regret_approx_16[slice13],\n",
        "       simple_regret_approx_17[slice13],\n",
        "       simple_regret_approx_18[slice13],\n",
        "       simple_regret_approx_19[slice13],\n",
        "       simple_regret_approx_20[slice13]]\n",
        "\n",
        "exact13 = [simple_regret_exact_1[slice13],\n",
        "       simple_regret_exact_2[slice13],\n",
        "       simple_regret_exact_3[slice13],\n",
        "       simple_regret_exact_4[slice13],\n",
        "       simple_regret_exact_5[slice13],\n",
        "       simple_regret_exact_6[slice13],\n",
        "       simple_regret_exact_7[slice13],\n",
        "       simple_regret_exact_8[slice13],\n",
        "       simple_regret_exact_9[slice13],\n",
        "       simple_regret_exact_10[slice13],\n",
        "       simple_regret_exact_11[slice13],\n",
        "       simple_regret_exact_12[slice13],\n",
        "       simple_regret_exact_13[slice13],\n",
        "       simple_regret_exact_14[slice13],\n",
        "       simple_regret_exact_15[slice13],\n",
        "       simple_regret_exact_16[slice13],\n",
        "       simple_regret_exact_17[slice13],\n",
        "       simple_regret_exact_18[slice13],\n",
        "       simple_regret_exact_19[slice13],\n",
        "       simple_regret_exact_20[slice13]]\n",
        "\n",
        "approx13_results = pd.DataFrame(approx13).sort_values(by=[0], ascending=False)\n",
        "exact13_results = pd.DataFrame(exact13).sort_values(by=[0], ascending=False)\n",
        "\n",
        "### Best simple regret minimization IQR - approx:\n",
        "lower_approx13 = np.asarray(approx13_results[4:5][0])[0]\n",
        "median_approx13 = np.asarray(approx13_results[9:10][0])[0]\n",
        "upper_approx13 = np.asarray(approx13_results[14:15][0])[0]\n",
        "\n",
        "lower_exact13 = np.asarray(exact13_results[4:5][0])[0]\n",
        "median_exact13 = np.asarray(exact13_results[9:10][0])[0]\n",
        "upper_exact13 = np.asarray(exact13_results[14:15][0])[0]"
      ],
      "execution_count": 81,
      "outputs": []
    },
    {
      "cell_type": "code",
      "metadata": {
        "id": "9A7mlVvJQxf5"
      },
      "source": [
        "# Iteration4 :\n",
        "\n",
        "slice4 = 3\n",
        "\n",
        "approx4 = [simple_regret_approx_1[slice4],\n",
        "       simple_regret_approx_2[slice4],\n",
        "       simple_regret_approx_3[slice4],\n",
        "       simple_regret_approx_4[slice4],\n",
        "       simple_regret_approx_5[slice4],\n",
        "       simple_regret_approx_6[slice4],\n",
        "       simple_regret_approx_7[slice4],\n",
        "       simple_regret_approx_8[slice4],\n",
        "       simple_regret_approx_9[slice4],\n",
        "       simple_regret_approx_10[slice4],\n",
        "       simple_regret_approx_11[slice4],\n",
        "       simple_regret_approx_12[slice4],\n",
        "       simple_regret_approx_13[slice4],\n",
        "       simple_regret_approx_14[slice4],\n",
        "       simple_regret_approx_15[slice4],\n",
        "       simple_regret_approx_16[slice4],\n",
        "       simple_regret_approx_17[slice4],\n",
        "       simple_regret_approx_18[slice4],\n",
        "       simple_regret_approx_19[slice4],\n",
        "       simple_regret_approx_20[slice4]]\n",
        "\n",
        "exact4 = [simple_regret_exact_1[slice4],\n",
        "       simple_regret_exact_2[slice4],\n",
        "       simple_regret_exact_3[slice4],\n",
        "       simple_regret_exact_4[slice4],\n",
        "       simple_regret_exact_5[slice4],\n",
        "       simple_regret_exact_6[slice4],\n",
        "       simple_regret_exact_7[slice4],\n",
        "       simple_regret_exact_8[slice4],\n",
        "       simple_regret_exact_9[slice4],\n",
        "       simple_regret_exact_10[slice4],\n",
        "       simple_regret_exact_11[slice4],\n",
        "       simple_regret_exact_12[slice4],\n",
        "       simple_regret_exact_13[slice4],\n",
        "       simple_regret_exact_14[slice4],\n",
        "       simple_regret_exact_15[slice4],\n",
        "       simple_regret_exact_16[slice4],\n",
        "       simple_regret_exact_17[slice4],\n",
        "       simple_regret_exact_18[slice4],\n",
        "       simple_regret_exact_19[slice4],\n",
        "       simple_regret_exact_20[slice4]]\n",
        "\n",
        "approx4_results = pd.DataFrame(approx4).sort_values(by=[0], ascending=False)\n",
        "exact4_results = pd.DataFrame(exact4).sort_values(by=[0], ascending=False)\n",
        "\n",
        "### Best simple regret minimization IQR - approx:\n",
        "lower_approx4 = np.asarray(approx4_results[4:5][0])[0]\n",
        "median_approx4 = np.asarray(approx4_results[9:10][0])[0]\n",
        "upper_approx4 = np.asarray(approx4_results[14:15][0])[0]\n",
        "\n",
        "lower_exact4 = np.asarray(exact4_results[4:5][0])[0]\n",
        "median_exact4 = np.asarray(exact4_results[9:10][0])[0]\n",
        "upper_exact4 = np.asarray(exact4_results[14:15][0])[0]"
      ],
      "execution_count": 82,
      "outputs": []
    },
    {
      "cell_type": "code",
      "metadata": {
        "id": "ijq-rioYQxf5"
      },
      "source": [
        "# Iteration14 :\n",
        "\n",
        "slice14 = 13\n",
        "\n",
        "approx14 = [simple_regret_approx_1[slice14],\n",
        "       simple_regret_approx_2[slice14],\n",
        "       simple_regret_approx_3[slice14],\n",
        "       simple_regret_approx_4[slice14],\n",
        "       simple_regret_approx_5[slice14],\n",
        "       simple_regret_approx_6[slice14],\n",
        "       simple_regret_approx_7[slice14],\n",
        "       simple_regret_approx_8[slice14],\n",
        "       simple_regret_approx_9[slice14],\n",
        "       simple_regret_approx_10[slice14],\n",
        "       simple_regret_approx_11[slice14],\n",
        "       simple_regret_approx_12[slice14],\n",
        "       simple_regret_approx_13[slice14],\n",
        "       simple_regret_approx_14[slice14],\n",
        "       simple_regret_approx_15[slice14],\n",
        "       simple_regret_approx_16[slice14],\n",
        "       simple_regret_approx_17[slice14],\n",
        "       simple_regret_approx_18[slice14],\n",
        "       simple_regret_approx_19[slice14],\n",
        "       simple_regret_approx_20[slice14]]\n",
        "\n",
        "exact14 = [simple_regret_exact_1[slice14],\n",
        "       simple_regret_exact_2[slice14],\n",
        "       simple_regret_exact_3[slice14],\n",
        "       simple_regret_exact_4[slice14],\n",
        "       simple_regret_exact_5[slice14],\n",
        "       simple_regret_exact_6[slice14],\n",
        "       simple_regret_exact_7[slice14],\n",
        "       simple_regret_exact_8[slice14],\n",
        "       simple_regret_exact_9[slice14],\n",
        "       simple_regret_exact_10[slice14],\n",
        "       simple_regret_exact_11[slice14],\n",
        "       simple_regret_exact_12[slice14],\n",
        "       simple_regret_exact_13[slice14],\n",
        "       simple_regret_exact_14[slice14],\n",
        "       simple_regret_exact_15[slice14],\n",
        "       simple_regret_exact_16[slice14],\n",
        "       simple_regret_exact_17[slice14],\n",
        "       simple_regret_exact_18[slice14],\n",
        "       simple_regret_exact_19[slice14],\n",
        "       simple_regret_exact_20[slice14]]\n",
        "\n",
        "approx14_results = pd.DataFrame(approx14).sort_values(by=[0], ascending=False)\n",
        "exact14_results = pd.DataFrame(exact14).sort_values(by=[0], ascending=False)\n",
        "\n",
        "### Best simple regret minimization IQR - approx:\n",
        "lower_approx14 = np.asarray(approx14_results[4:5][0])[0]\n",
        "median_approx14 = np.asarray(approx14_results[9:10][0])[0]\n",
        "upper_approx14 = np.asarray(approx14_results[14:15][0])[0]\n",
        "\n",
        "lower_exact14 = np.asarray(exact14_results[4:5][0])[0]\n",
        "median_exact14 = np.asarray(exact14_results[9:10][0])[0]\n",
        "upper_exact14 = np.asarray(exact14_results[14:15][0])[0]"
      ],
      "execution_count": 83,
      "outputs": []
    },
    {
      "cell_type": "code",
      "metadata": {
        "id": "XINlZjoTd-ZK"
      },
      "source": [
        "# Iteration5 :\n",
        "\n",
        "slice5 = 4\n",
        "\n",
        "approx5 = [simple_regret_approx_1[slice5],\n",
        "       simple_regret_approx_2[slice5],\n",
        "       simple_regret_approx_3[slice5],\n",
        "       simple_regret_approx_4[slice5],\n",
        "       simple_regret_approx_5[slice5],\n",
        "       simple_regret_approx_6[slice5],\n",
        "       simple_regret_approx_7[slice5],\n",
        "       simple_regret_approx_8[slice5],\n",
        "       simple_regret_approx_9[slice5],\n",
        "       simple_regret_approx_10[slice5],\n",
        "       simple_regret_approx_11[slice5],\n",
        "       simple_regret_approx_12[slice5],\n",
        "       simple_regret_approx_13[slice5],\n",
        "       simple_regret_approx_14[slice5],\n",
        "       simple_regret_approx_15[slice5],\n",
        "       simple_regret_approx_16[slice5],\n",
        "       simple_regret_approx_17[slice5],\n",
        "       simple_regret_approx_18[slice5],\n",
        "       simple_regret_approx_19[slice5],\n",
        "       simple_regret_approx_20[slice5]]\n",
        "\n",
        "exact5 = [simple_regret_exact_1[slice5],\n",
        "       simple_regret_exact_2[slice5],\n",
        "       simple_regret_exact_3[slice5],\n",
        "       simple_regret_exact_4[slice5],\n",
        "       simple_regret_exact_5[slice5],\n",
        "       simple_regret_exact_6[slice5],\n",
        "       simple_regret_exact_7[slice5],\n",
        "       simple_regret_exact_8[slice5],\n",
        "       simple_regret_exact_9[slice5],\n",
        "       simple_regret_exact_10[slice5],\n",
        "       simple_regret_exact_11[slice5],\n",
        "       simple_regret_exact_12[slice5],\n",
        "       simple_regret_exact_13[slice5],\n",
        "       simple_regret_exact_14[slice5],\n",
        "       simple_regret_exact_15[slice5],\n",
        "       simple_regret_exact_16[slice5],\n",
        "       simple_regret_exact_17[slice5],\n",
        "       simple_regret_exact_18[slice5],\n",
        "       simple_regret_exact_19[slice5],\n",
        "       simple_regret_exact_20[slice5]]\n",
        "\n",
        "approx5_results = pd.DataFrame(approx5).sort_values(by=[0], ascending=False)\n",
        "exact5_results = pd.DataFrame(exact5).sort_values(by=[0], ascending=False)\n",
        "\n",
        "### Best simple regret minimization IQR - approx:\n",
        "lower_approx5 = np.asarray(approx5_results[4:5][0])[0]\n",
        "median_approx5 = np.asarray(approx5_results[9:10][0])[0]\n",
        "upper_approx5 = np.asarray(approx5_results[14:15][0])[0]\n",
        "\n",
        "lower_exact5 = np.asarray(exact5_results[4:5][0])[0]\n",
        "median_exact5 = np.asarray(exact5_results[9:10][0])[0]\n",
        "upper_exact5 = np.asarray(exact5_results[14:15][0])[0]"
      ],
      "execution_count": 84,
      "outputs": []
    },
    {
      "cell_type": "code",
      "metadata": {
        "id": "4aZ7C8sOQxf6"
      },
      "source": [
        "# Iteration15 :\n",
        "\n",
        "slice15 = 14\n",
        "\n",
        "approx15 = [simple_regret_approx_1[slice15],\n",
        "       simple_regret_approx_2[slice15],\n",
        "       simple_regret_approx_3[slice15],\n",
        "       simple_regret_approx_4[slice15],\n",
        "       simple_regret_approx_5[slice15],\n",
        "       simple_regret_approx_6[slice15],\n",
        "       simple_regret_approx_7[slice15],\n",
        "       simple_regret_approx_8[slice15],\n",
        "       simple_regret_approx_9[slice15],\n",
        "       simple_regret_approx_10[slice15],\n",
        "       simple_regret_approx_11[slice15],\n",
        "       simple_regret_approx_12[slice15],\n",
        "       simple_regret_approx_13[slice15],\n",
        "       simple_regret_approx_14[slice15],\n",
        "       simple_regret_approx_15[slice15],\n",
        "       simple_regret_approx_16[slice15],\n",
        "       simple_regret_approx_17[slice15],\n",
        "       simple_regret_approx_18[slice15],\n",
        "       simple_regret_approx_19[slice15],\n",
        "       simple_regret_approx_20[slice15]]\n",
        "\n",
        "exact15 = [simple_regret_exact_1[slice15],\n",
        "       simple_regret_exact_2[slice15],\n",
        "       simple_regret_exact_3[slice15],\n",
        "       simple_regret_exact_4[slice15],\n",
        "       simple_regret_exact_5[slice15],\n",
        "       simple_regret_exact_6[slice15],\n",
        "       simple_regret_exact_7[slice15],\n",
        "       simple_regret_exact_8[slice15],\n",
        "       simple_regret_exact_9[slice15],\n",
        "       simple_regret_exact_10[slice15],\n",
        "       simple_regret_exact_11[slice15],\n",
        "       simple_regret_exact_12[slice15],\n",
        "       simple_regret_exact_13[slice15],\n",
        "       simple_regret_exact_14[slice15],\n",
        "       simple_regret_exact_15[slice15],\n",
        "       simple_regret_exact_16[slice15],\n",
        "       simple_regret_exact_17[slice15],\n",
        "       simple_regret_exact_18[slice15],\n",
        "       simple_regret_exact_19[slice15],\n",
        "       simple_regret_exact_20[slice15]]\n",
        "\n",
        "approx15_results = pd.DataFrame(approx15).sort_values(by=[0], ascending=False)\n",
        "exact15_results = pd.DataFrame(exact15).sort_values(by=[0], ascending=False)\n",
        "\n",
        "### Best simple regret minimization IQR - approx:\n",
        "lower_approx15 = np.asarray(approx15_results[4:5][0])[0]\n",
        "median_approx15 = np.asarray(approx15_results[9:10][0])[0]\n",
        "upper_approx15 = np.asarray(approx15_results[14:15][0])[0]\n",
        "\n",
        "lower_exact15 = np.asarray(exact15_results[4:5][0])[0]\n",
        "median_exact15 = np.asarray(exact15_results[9:10][0])[0]\n",
        "upper_exact15 = np.asarray(exact15_results[14:15][0])[0]"
      ],
      "execution_count": 85,
      "outputs": []
    },
    {
      "cell_type": "code",
      "metadata": {
        "id": "KJINKhv1Qxf6"
      },
      "source": [
        "# Iteration6 :\n",
        "\n",
        "slice6 = 5\n",
        "\n",
        "approx6 = [simple_regret_approx_1[slice6],\n",
        "       simple_regret_approx_2[slice6],\n",
        "       simple_regret_approx_3[slice6],\n",
        "       simple_regret_approx_4[slice6],\n",
        "       simple_regret_approx_5[slice6],\n",
        "       simple_regret_approx_6[slice6],\n",
        "       simple_regret_approx_7[slice6],\n",
        "       simple_regret_approx_8[slice6],\n",
        "       simple_regret_approx_9[slice6],\n",
        "       simple_regret_approx_10[slice6],\n",
        "       simple_regret_approx_11[slice6],\n",
        "       simple_regret_approx_12[slice6],\n",
        "       simple_regret_approx_13[slice6],\n",
        "       simple_regret_approx_14[slice6],\n",
        "       simple_regret_approx_15[slice6],\n",
        "       simple_regret_approx_16[slice6],\n",
        "       simple_regret_approx_17[slice6],\n",
        "       simple_regret_approx_18[slice6],\n",
        "       simple_regret_approx_19[slice6],\n",
        "       simple_regret_approx_20[slice6]]\n",
        "\n",
        "exact6 = [simple_regret_exact_1[slice6],\n",
        "       simple_regret_exact_2[slice6],\n",
        "       simple_regret_exact_3[slice6],\n",
        "       simple_regret_exact_4[slice6],\n",
        "       simple_regret_exact_5[slice6],\n",
        "       simple_regret_exact_6[slice6],\n",
        "       simple_regret_exact_7[slice6],\n",
        "       simple_regret_exact_8[slice6],\n",
        "       simple_regret_exact_9[slice6],\n",
        "       simple_regret_exact_10[slice6],\n",
        "       simple_regret_exact_11[slice6],\n",
        "       simple_regret_exact_12[slice6],\n",
        "       simple_regret_exact_13[slice6],\n",
        "       simple_regret_exact_14[slice6],\n",
        "       simple_regret_exact_15[slice6],\n",
        "       simple_regret_exact_16[slice6],\n",
        "       simple_regret_exact_17[slice6],\n",
        "       simple_regret_exact_18[slice6],\n",
        "       simple_regret_exact_19[slice6],\n",
        "       simple_regret_exact_20[slice6]]\n",
        "\n",
        "approx6_results = pd.DataFrame(approx6).sort_values(by=[0], ascending=False)\n",
        "exact6_results = pd.DataFrame(exact6).sort_values(by=[0], ascending=False)\n",
        "\n",
        "### Best simple regret minimization IQR - approx:\n",
        "lower_approx6 = np.asarray(approx6_results[4:5][0])[0]\n",
        "median_approx6 = np.asarray(approx6_results[9:10][0])[0]\n",
        "upper_approx6 = np.asarray(approx6_results[14:15][0])[0]\n",
        "\n",
        "lower_exact6 = np.asarray(exact6_results[4:5][0])[0]\n",
        "median_exact6 = np.asarray(exact6_results[9:10][0])[0]\n",
        "upper_exact6 = np.asarray(exact6_results[14:15][0])[0]"
      ],
      "execution_count": 86,
      "outputs": []
    },
    {
      "cell_type": "code",
      "metadata": {
        "id": "nwC5N1FsQxf7"
      },
      "source": [
        "# Iteration16 :\n",
        "\n",
        "slice16 = 15\n",
        "\n",
        "approx16 = [simple_regret_approx_1[slice16],\n",
        "       simple_regret_approx_2[slice16],\n",
        "       simple_regret_approx_3[slice16],\n",
        "       simple_regret_approx_4[slice16],\n",
        "       simple_regret_approx_5[slice16],\n",
        "       simple_regret_approx_6[slice16],\n",
        "       simple_regret_approx_7[slice16],\n",
        "       simple_regret_approx_8[slice16],\n",
        "       simple_regret_approx_9[slice16],\n",
        "       simple_regret_approx_10[slice16],\n",
        "       simple_regret_approx_11[slice16],\n",
        "       simple_regret_approx_12[slice16],\n",
        "       simple_regret_approx_13[slice16],\n",
        "       simple_regret_approx_14[slice16],\n",
        "       simple_regret_approx_15[slice16],\n",
        "       simple_regret_approx_16[slice16],\n",
        "       simple_regret_approx_17[slice16],\n",
        "       simple_regret_approx_18[slice16],\n",
        "       simple_regret_approx_19[slice16],\n",
        "       simple_regret_approx_20[slice16]]\n",
        "\n",
        "exact16 = [simple_regret_exact_1[slice16],\n",
        "       simple_regret_exact_2[slice16],\n",
        "       simple_regret_exact_3[slice16],\n",
        "       simple_regret_exact_4[slice16],\n",
        "       simple_regret_exact_5[slice16],\n",
        "       simple_regret_exact_6[slice16],\n",
        "       simple_regret_exact_7[slice16],\n",
        "       simple_regret_exact_8[slice16],\n",
        "       simple_regret_exact_9[slice16],\n",
        "       simple_regret_exact_10[slice16],\n",
        "       simple_regret_exact_11[slice16],\n",
        "       simple_regret_exact_12[slice16],\n",
        "       simple_regret_exact_13[slice16],\n",
        "       simple_regret_exact_14[slice16],\n",
        "       simple_regret_exact_15[slice16],\n",
        "       simple_regret_exact_16[slice16],\n",
        "       simple_regret_exact_17[slice16],\n",
        "       simple_regret_exact_18[slice16],\n",
        "       simple_regret_exact_19[slice16],\n",
        "       simple_regret_exact_20[slice16]]\n",
        "\n",
        "approx16_results = pd.DataFrame(approx16).sort_values(by=[0], ascending=False)\n",
        "exact16_results = pd.DataFrame(exact16).sort_values(by=[0], ascending=False)\n",
        "\n",
        "### Best simple regret minimization IQR - approx:\n",
        "lower_approx16 = np.asarray(approx16_results[4:5][0])[0]\n",
        "median_approx16 = np.asarray(approx16_results[9:10][0])[0]\n",
        "upper_approx16 = np.asarray(approx16_results[14:15][0])[0]\n",
        "\n",
        "lower_exact16 = np.asarray(exact16_results[4:5][0])[0]\n",
        "median_exact16 = np.asarray(exact16_results[9:10][0])[0]\n",
        "upper_exact16 = np.asarray(exact16_results[14:15][0])[0]"
      ],
      "execution_count": 87,
      "outputs": []
    },
    {
      "cell_type": "code",
      "metadata": {
        "id": "TrPV0AfnQxf7"
      },
      "source": [
        "# Iteration7 :\n",
        "\n",
        "slice7 = 6\n",
        "\n",
        "approx7 = [simple_regret_approx_1[slice7],\n",
        "       simple_regret_approx_2[slice7],\n",
        "       simple_regret_approx_3[slice7],\n",
        "       simple_regret_approx_4[slice7],\n",
        "       simple_regret_approx_5[slice7],\n",
        "       simple_regret_approx_6[slice7],\n",
        "       simple_regret_approx_7[slice7],\n",
        "       simple_regret_approx_8[slice7],\n",
        "       simple_regret_approx_9[slice7],\n",
        "       simple_regret_approx_10[slice7],\n",
        "       simple_regret_approx_11[slice7],\n",
        "       simple_regret_approx_12[slice7],\n",
        "       simple_regret_approx_13[slice7],\n",
        "       simple_regret_approx_14[slice7],\n",
        "       simple_regret_approx_15[slice7],\n",
        "       simple_regret_approx_16[slice7],\n",
        "       simple_regret_approx_17[slice7],\n",
        "       simple_regret_approx_18[slice7],\n",
        "       simple_regret_approx_19[slice7],\n",
        "       simple_regret_approx_20[slice7]]\n",
        "\n",
        "exact7 = [simple_regret_exact_1[slice7],\n",
        "       simple_regret_exact_2[slice7],\n",
        "       simple_regret_exact_3[slice7],\n",
        "       simple_regret_exact_4[slice7],\n",
        "       simple_regret_exact_5[slice7],\n",
        "       simple_regret_exact_6[slice7],\n",
        "       simple_regret_exact_7[slice7],\n",
        "       simple_regret_exact_8[slice7],\n",
        "       simple_regret_exact_9[slice7],\n",
        "       simple_regret_exact_10[slice7],\n",
        "       simple_regret_exact_11[slice7],\n",
        "       simple_regret_exact_12[slice7],\n",
        "       simple_regret_exact_13[slice7],\n",
        "       simple_regret_exact_14[slice7],\n",
        "       simple_regret_exact_15[slice7],\n",
        "       simple_regret_exact_16[slice7],\n",
        "       simple_regret_exact_17[slice7],\n",
        "       simple_regret_exact_18[slice7],\n",
        "       simple_regret_exact_19[slice7],\n",
        "       simple_regret_exact_20[slice7]]\n",
        "\n",
        "approx7_results = pd.DataFrame(approx7).sort_values(by=[0], ascending=False)\n",
        "exact7_results = pd.DataFrame(exact7).sort_values(by=[0], ascending=False)\n",
        "\n",
        "### Best simple regret minimization IQR - approx:\n",
        "lower_approx7 = np.asarray(approx7_results[4:5][0])[0]\n",
        "median_approx7 = np.asarray(approx7_results[9:10][0])[0]\n",
        "upper_approx7 = np.asarray(approx7_results[14:15][0])[0]\n",
        "\n",
        "lower_exact7 = np.asarray(exact7_results[4:5][0])[0]\n",
        "median_exact7 = np.asarray(exact7_results[9:10][0])[0]\n",
        "upper_exact7 = np.asarray(exact7_results[14:15][0])[0]"
      ],
      "execution_count": 88,
      "outputs": []
    },
    {
      "cell_type": "code",
      "metadata": {
        "id": "Ub_-wpK4Qxf8"
      },
      "source": [
        "# Iteration17 :\n",
        "\n",
        "slice17 = 16\n",
        "\n",
        "approx17 = [simple_regret_approx_1[slice17],\n",
        "       simple_regret_approx_2[slice17],\n",
        "       simple_regret_approx_3[slice17],\n",
        "       simple_regret_approx_4[slice17],\n",
        "       simple_regret_approx_5[slice17],\n",
        "       simple_regret_approx_6[slice17],\n",
        "       simple_regret_approx_7[slice17],\n",
        "       simple_regret_approx_8[slice17],\n",
        "       simple_regret_approx_9[slice17],\n",
        "       simple_regret_approx_10[slice17],\n",
        "       simple_regret_approx_11[slice17],\n",
        "       simple_regret_approx_12[slice17],\n",
        "       simple_regret_approx_13[slice17],\n",
        "       simple_regret_approx_14[slice17],\n",
        "       simple_regret_approx_15[slice17],\n",
        "       simple_regret_approx_16[slice17],\n",
        "       simple_regret_approx_17[slice17],\n",
        "       simple_regret_approx_18[slice17],\n",
        "       simple_regret_approx_19[slice17],\n",
        "       simple_regret_approx_20[slice17]]\n",
        "\n",
        "exact17 = [simple_regret_exact_1[slice17],\n",
        "       simple_regret_exact_2[slice17],\n",
        "       simple_regret_exact_3[slice17],\n",
        "       simple_regret_exact_4[slice17],\n",
        "       simple_regret_exact_5[slice17],\n",
        "       simple_regret_exact_6[slice17],\n",
        "       simple_regret_exact_7[slice17],\n",
        "       simple_regret_exact_8[slice17],\n",
        "       simple_regret_exact_9[slice17],\n",
        "       simple_regret_exact_10[slice17],\n",
        "       simple_regret_exact_11[slice17],\n",
        "       simple_regret_exact_12[slice17],\n",
        "       simple_regret_exact_13[slice17],\n",
        "       simple_regret_exact_14[slice17],\n",
        "       simple_regret_exact_15[slice17],\n",
        "       simple_regret_exact_16[slice17],\n",
        "       simple_regret_exact_17[slice17],\n",
        "       simple_regret_exact_18[slice17],\n",
        "       simple_regret_exact_19[slice17],\n",
        "       simple_regret_exact_20[slice17]]\n",
        "\n",
        "approx17_results = pd.DataFrame(approx17).sort_values(by=[0], ascending=False)\n",
        "exact17_results = pd.DataFrame(exact17).sort_values(by=[0], ascending=False)\n",
        "\n",
        "### Best simple regret minimization IQR - approx:\n",
        "lower_approx17 = np.asarray(approx17_results[4:5][0])[0]\n",
        "median_approx17 = np.asarray(approx17_results[9:10][0])[0]\n",
        "upper_approx17 = np.asarray(approx17_results[14:15][0])[0]\n",
        "\n",
        "lower_exact17 = np.asarray(exact17_results[4:5][0])[0]\n",
        "median_exact17 = np.asarray(exact17_results[9:10][0])[0]\n",
        "upper_exact17 = np.asarray(exact17_results[14:15][0])[0]"
      ],
      "execution_count": 89,
      "outputs": []
    },
    {
      "cell_type": "code",
      "metadata": {
        "id": "-6VLo37PQxf8"
      },
      "source": [
        "# Iteration8 :\n",
        "\n",
        "slice8 = 7\n",
        "\n",
        "approx8 = [simple_regret_approx_1[slice8],\n",
        "       simple_regret_approx_2[slice8],\n",
        "       simple_regret_approx_3[slice8],\n",
        "       simple_regret_approx_4[slice8],\n",
        "       simple_regret_approx_5[slice8],\n",
        "       simple_regret_approx_6[slice8],\n",
        "       simple_regret_approx_7[slice8],\n",
        "       simple_regret_approx_8[slice8],\n",
        "       simple_regret_approx_9[slice8],\n",
        "       simple_regret_approx_10[slice8],\n",
        "       simple_regret_approx_11[slice8],\n",
        "       simple_regret_approx_12[slice8],\n",
        "       simple_regret_approx_13[slice8],\n",
        "       simple_regret_approx_14[slice8],\n",
        "       simple_regret_approx_15[slice8],\n",
        "       simple_regret_approx_16[slice8],\n",
        "       simple_regret_approx_17[slice8],\n",
        "       simple_regret_approx_18[slice8],\n",
        "       simple_regret_approx_19[slice8],\n",
        "       simple_regret_approx_20[slice8]]\n",
        "\n",
        "exact8 = [simple_regret_exact_1[slice8],\n",
        "       simple_regret_exact_2[slice8],\n",
        "       simple_regret_exact_3[slice8],\n",
        "       simple_regret_exact_4[slice8],\n",
        "       simple_regret_exact_5[slice8],\n",
        "       simple_regret_exact_6[slice8],\n",
        "       simple_regret_exact_7[slice8],\n",
        "       simple_regret_exact_8[slice8],\n",
        "       simple_regret_exact_9[slice8],\n",
        "       simple_regret_exact_10[slice8],\n",
        "       simple_regret_exact_11[slice8],\n",
        "       simple_regret_exact_12[slice8],\n",
        "       simple_regret_exact_13[slice8],\n",
        "       simple_regret_exact_14[slice8],\n",
        "       simple_regret_exact_15[slice8],\n",
        "       simple_regret_exact_16[slice8],\n",
        "       simple_regret_exact_17[slice8],\n",
        "       simple_regret_exact_18[slice8],\n",
        "       simple_regret_exact_19[slice8],\n",
        "       simple_regret_exact_20[slice8]]\n",
        "\n",
        "approx8_results = pd.DataFrame(approx8).sort_values(by=[0], ascending=False)\n",
        "exact8_results = pd.DataFrame(exact8).sort_values(by=[0], ascending=False)\n",
        "\n",
        "### Best simple regret minimization IQR - approx:\n",
        "lower_approx8 = np.asarray(approx8_results[4:5][0])[0]\n",
        "median_approx8 = np.asarray(approx8_results[9:10][0])[0]\n",
        "upper_approx8 = np.asarray(approx8_results[14:15][0])[0]\n",
        "\n",
        "lower_exact8 = np.asarray(exact8_results[4:5][0])[0]\n",
        "median_exact8 = np.asarray(exact8_results[9:10][0])[0]\n",
        "upper_exact8 = np.asarray(exact8_results[14:15][0])[0]"
      ],
      "execution_count": 90,
      "outputs": []
    },
    {
      "cell_type": "code",
      "metadata": {
        "id": "2Dp-9CC2Qxf9"
      },
      "source": [
        "# Iteration18 :\n",
        "\n",
        "slice18 = 17\n",
        "\n",
        "approx18 = [simple_regret_approx_1[slice18],\n",
        "       simple_regret_approx_2[slice18],\n",
        "       simple_regret_approx_3[slice18],\n",
        "       simple_regret_approx_4[slice18],\n",
        "       simple_regret_approx_5[slice18],\n",
        "       simple_regret_approx_6[slice18],\n",
        "       simple_regret_approx_7[slice18],\n",
        "       simple_regret_approx_8[slice18],\n",
        "       simple_regret_approx_9[slice18],\n",
        "       simple_regret_approx_10[slice18],\n",
        "       simple_regret_approx_11[slice18],\n",
        "       simple_regret_approx_12[slice18],\n",
        "       simple_regret_approx_13[slice18],\n",
        "       simple_regret_approx_14[slice18],\n",
        "       simple_regret_approx_15[slice18],\n",
        "       simple_regret_approx_16[slice18],\n",
        "       simple_regret_approx_17[slice18],\n",
        "       simple_regret_approx_18[slice18],\n",
        "       simple_regret_approx_19[slice18],\n",
        "       simple_regret_approx_20[slice18]]\n",
        "\n",
        "exact18 = [simple_regret_exact_1[slice18],\n",
        "       simple_regret_exact_2[slice18],\n",
        "       simple_regret_exact_3[slice18],\n",
        "       simple_regret_exact_4[slice18],\n",
        "       simple_regret_exact_5[slice18],\n",
        "       simple_regret_exact_6[slice18],\n",
        "       simple_regret_exact_7[slice18],\n",
        "       simple_regret_exact_8[slice18],\n",
        "       simple_regret_exact_9[slice18],\n",
        "       simple_regret_exact_10[slice18],\n",
        "       simple_regret_exact_11[slice18],\n",
        "       simple_regret_exact_12[slice18],\n",
        "       simple_regret_exact_13[slice18],\n",
        "       simple_regret_exact_14[slice18],\n",
        "       simple_regret_exact_15[slice18],\n",
        "       simple_regret_exact_16[slice18],\n",
        "       simple_regret_exact_17[slice18],\n",
        "       simple_regret_exact_18[slice18],\n",
        "       simple_regret_exact_19[slice18],\n",
        "       simple_regret_exact_20[slice18]]\n",
        "\n",
        "approx18_results = pd.DataFrame(approx18).sort_values(by=[0], ascending=False)\n",
        "exact18_results = pd.DataFrame(exact18).sort_values(by=[0], ascending=False)\n",
        "\n",
        "### Best simple regret minimization IQR - approx:\n",
        "lower_approx18 = np.asarray(approx18_results[4:5][0])[0]\n",
        "median_approx18 = np.asarray(approx18_results[9:10][0])[0]\n",
        "upper_approx18 = np.asarray(approx18_results[14:15][0])[0]\n",
        "\n",
        "lower_exact18 = np.asarray(exact18_results[4:5][0])[0]\n",
        "median_exact18 = np.asarray(exact18_results[9:10][0])[0]\n",
        "upper_exact18 = np.asarray(exact18_results[14:15][0])[0]"
      ],
      "execution_count": 91,
      "outputs": []
    },
    {
      "cell_type": "code",
      "metadata": {
        "id": "SqiaOpB7Qxf9"
      },
      "source": [
        "# Iteration9 :\n",
        "\n",
        "slice9 = 8\n",
        "\n",
        "approx9 = [simple_regret_approx_1[slice9],\n",
        "       simple_regret_approx_2[slice9],\n",
        "       simple_regret_approx_3[slice9],\n",
        "       simple_regret_approx_4[slice9],\n",
        "       simple_regret_approx_5[slice9],\n",
        "       simple_regret_approx_6[slice9],\n",
        "       simple_regret_approx_7[slice9],\n",
        "       simple_regret_approx_8[slice9],\n",
        "       simple_regret_approx_9[slice9],\n",
        "       simple_regret_approx_10[slice9],\n",
        "       simple_regret_approx_11[slice9],\n",
        "       simple_regret_approx_12[slice9],\n",
        "       simple_regret_approx_13[slice9],\n",
        "       simple_regret_approx_14[slice9],\n",
        "       simple_regret_approx_15[slice9],\n",
        "       simple_regret_approx_16[slice9],\n",
        "       simple_regret_approx_17[slice9],\n",
        "       simple_regret_approx_18[slice9],\n",
        "       simple_regret_approx_19[slice9],\n",
        "       simple_regret_approx_20[slice9]]\n",
        "\n",
        "exact9 = [simple_regret_exact_1[slice9],\n",
        "       simple_regret_exact_2[slice9],\n",
        "       simple_regret_exact_3[slice9],\n",
        "       simple_regret_exact_4[slice9],\n",
        "       simple_regret_exact_5[slice9],\n",
        "       simple_regret_exact_6[slice9],\n",
        "       simple_regret_exact_7[slice9],\n",
        "       simple_regret_exact_8[slice9],\n",
        "       simple_regret_exact_9[slice9],\n",
        "       simple_regret_exact_10[slice9],\n",
        "       simple_regret_exact_11[slice9],\n",
        "       simple_regret_exact_12[slice9],\n",
        "       simple_regret_exact_13[slice9],\n",
        "       simple_regret_exact_14[slice9],\n",
        "       simple_regret_exact_15[slice9],\n",
        "       simple_regret_exact_16[slice9],\n",
        "       simple_regret_exact_17[slice9],\n",
        "       simple_regret_exact_18[slice9],\n",
        "       simple_regret_exact_19[slice9],\n",
        "       simple_regret_exact_20[slice9]]\n",
        "\n",
        "approx9_results = pd.DataFrame(approx9).sort_values(by=[0], ascending=False)\n",
        "exact9_results = pd.DataFrame(exact9).sort_values(by=[0], ascending=False)\n",
        "\n",
        "### Best simple regret minimization IQR - approx:\n",
        "lower_approx9 = np.asarray(approx9_results[4:5][0])[0]\n",
        "median_approx9 = np.asarray(approx9_results[9:10][0])[0]\n",
        "upper_approx9 = np.asarray(approx9_results[14:15][0])[0]\n",
        "\n",
        "lower_exact9 = np.asarray(exact9_results[4:5][0])[0]\n",
        "median_exact9 = np.asarray(exact9_results[9:10][0])[0]\n",
        "upper_exact9 = np.asarray(exact9_results[14:15][0])[0]"
      ],
      "execution_count": 92,
      "outputs": []
    },
    {
      "cell_type": "code",
      "metadata": {
        "id": "OQkCCOsPQxf9"
      },
      "source": [
        "# Iteration19 :\n",
        "\n",
        "slice19 = 18\n",
        "\n",
        "approx19 = [simple_regret_approx_1[slice19],\n",
        "       simple_regret_approx_2[slice19],\n",
        "       simple_regret_approx_3[slice19],\n",
        "       simple_regret_approx_4[slice19],\n",
        "       simple_regret_approx_5[slice19],\n",
        "       simple_regret_approx_6[slice19],\n",
        "       simple_regret_approx_7[slice19],\n",
        "       simple_regret_approx_8[slice19],\n",
        "       simple_regret_approx_9[slice19],\n",
        "       simple_regret_approx_10[slice19],\n",
        "       simple_regret_approx_11[slice19],\n",
        "       simple_regret_approx_12[slice19],\n",
        "       simple_regret_approx_13[slice19],\n",
        "       simple_regret_approx_14[slice19],\n",
        "       simple_regret_approx_15[slice19],\n",
        "       simple_regret_approx_16[slice19],\n",
        "       simple_regret_approx_17[slice19],\n",
        "       simple_regret_approx_18[slice19],\n",
        "       simple_regret_approx_19[slice19],\n",
        "       simple_regret_approx_20[slice19]]\n",
        "\n",
        "exact19 = [simple_regret_exact_1[slice19],\n",
        "       simple_regret_exact_2[slice19],\n",
        "       simple_regret_exact_3[slice19],\n",
        "       simple_regret_exact_4[slice19],\n",
        "       simple_regret_exact_5[slice19],\n",
        "       simple_regret_exact_6[slice19],\n",
        "       simple_regret_exact_7[slice19],\n",
        "       simple_regret_exact_8[slice19],\n",
        "       simple_regret_exact_9[slice19],\n",
        "       simple_regret_exact_10[slice19],\n",
        "       simple_regret_exact_11[slice19],\n",
        "       simple_regret_exact_12[slice19],\n",
        "       simple_regret_exact_13[slice19],\n",
        "       simple_regret_exact_14[slice19],\n",
        "       simple_regret_exact_15[slice19],\n",
        "       simple_regret_exact_16[slice19],\n",
        "       simple_regret_exact_17[slice19],\n",
        "       simple_regret_exact_18[slice19],\n",
        "       simple_regret_exact_19[slice19],\n",
        "       simple_regret_exact_20[slice19]]\n",
        "\n",
        "approx19_results = pd.DataFrame(approx19).sort_values(by=[0], ascending=False)\n",
        "exact19_results = pd.DataFrame(exact19).sort_values(by=[0], ascending=False)\n",
        "\n",
        "### Best simple regret minimization IQR - approx:\n",
        "lower_approx19 = np.asarray(approx19_results[4:5][0])[0]\n",
        "median_approx19 = np.asarray(approx19_results[9:10][0])[0]\n",
        "upper_approx19 = np.asarray(approx19_results[14:15][0])[0]\n",
        "\n",
        "lower_exact19 = np.asarray(exact19_results[4:5][0])[0]\n",
        "median_exact19 = np.asarray(exact19_results[9:10][0])[0]\n",
        "upper_exact19 = np.asarray(exact19_results[14:15][0])[0]"
      ],
      "execution_count": 93,
      "outputs": []
    },
    {
      "cell_type": "code",
      "metadata": {
        "id": "h4vtWahcQxf-"
      },
      "source": [
        "# Iteration10 :\n",
        "\n",
        "slice10 = 9\n",
        "\n",
        "approx10 = [simple_regret_approx_1[slice10],\n",
        "       simple_regret_approx_2[slice10],\n",
        "       simple_regret_approx_3[slice10],\n",
        "       simple_regret_approx_4[slice10],\n",
        "       simple_regret_approx_5[slice10],\n",
        "       simple_regret_approx_6[slice10],\n",
        "       simple_regret_approx_7[slice10],\n",
        "       simple_regret_approx_8[slice10],\n",
        "       simple_regret_approx_9[slice10],\n",
        "       simple_regret_approx_10[slice10],\n",
        "       simple_regret_approx_11[slice10],\n",
        "       simple_regret_approx_12[slice10],\n",
        "       simple_regret_approx_13[slice10],\n",
        "       simple_regret_approx_14[slice10],\n",
        "       simple_regret_approx_15[slice10],\n",
        "       simple_regret_approx_16[slice10],\n",
        "       simple_regret_approx_17[slice10],\n",
        "       simple_regret_approx_18[slice10],\n",
        "       simple_regret_approx_19[slice10],\n",
        "       simple_regret_approx_20[slice10]]\n",
        "\n",
        "exact10 = [simple_regret_exact_1[slice10],\n",
        "       simple_regret_exact_2[slice10],\n",
        "       simple_regret_exact_3[slice10],\n",
        "       simple_regret_exact_4[slice10],\n",
        "       simple_regret_exact_5[slice10],\n",
        "       simple_regret_exact_6[slice10],\n",
        "       simple_regret_exact_7[slice10],\n",
        "       simple_regret_exact_8[slice10],\n",
        "       simple_regret_exact_9[slice10],\n",
        "       simple_regret_exact_10[slice10],\n",
        "       simple_regret_exact_11[slice10],\n",
        "       simple_regret_exact_12[slice10],\n",
        "       simple_regret_exact_13[slice10],\n",
        "       simple_regret_exact_14[slice10],\n",
        "       simple_regret_exact_15[slice10],\n",
        "       simple_regret_exact_16[slice10],\n",
        "       simple_regret_exact_17[slice10],\n",
        "       simple_regret_exact_18[slice10],\n",
        "       simple_regret_exact_19[slice10],\n",
        "       simple_regret_exact_20[slice10]]\n",
        "\n",
        "approx10_results = pd.DataFrame(approx10).sort_values(by=[0], ascending=False)\n",
        "exact10_results = pd.DataFrame(exact10).sort_values(by=[0], ascending=False)\n",
        "\n",
        "### Best simple regret minimization IQR - approx:\n",
        "lower_approx10 = np.asarray(approx10_results[4:5][0])[0]\n",
        "median_approx10 = np.asarray(approx10_results[9:10][0])[0]\n",
        "upper_approx10 = np.asarray(approx10_results[14:15][0])[0]\n",
        "\n",
        "lower_exact10 = np.asarray(exact10_results[4:5][0])[0]\n",
        "median_exact10 = np.asarray(exact10_results[9:10][0])[0]\n",
        "upper_exact10 = np.asarray(exact10_results[14:15][0])[0]"
      ],
      "execution_count": 94,
      "outputs": []
    },
    {
      "cell_type": "code",
      "metadata": {
        "id": "Rsf240pWQxf-"
      },
      "source": [
        "# Iteration20 :\n",
        "\n",
        "slice20 = 19\n",
        "\n",
        "approx20 = [simple_regret_approx_1[slice20],\n",
        "       simple_regret_approx_2[slice20],\n",
        "       simple_regret_approx_3[slice20],\n",
        "       simple_regret_approx_4[slice20],\n",
        "       simple_regret_approx_5[slice20],\n",
        "       simple_regret_approx_6[slice20],\n",
        "       simple_regret_approx_7[slice20],\n",
        "       simple_regret_approx_8[slice20],\n",
        "       simple_regret_approx_9[slice20],\n",
        "       simple_regret_approx_10[slice20],\n",
        "       simple_regret_approx_11[slice20],\n",
        "       simple_regret_approx_12[slice20],\n",
        "       simple_regret_approx_13[slice20],\n",
        "       simple_regret_approx_14[slice20],\n",
        "       simple_regret_approx_15[slice20],\n",
        "       simple_regret_approx_16[slice20],\n",
        "       simple_regret_approx_17[slice20],\n",
        "       simple_regret_approx_18[slice20],\n",
        "       simple_regret_approx_19[slice20],\n",
        "       simple_regret_approx_20[slice20]]\n",
        "\n",
        "exact20 = [simple_regret_exact_1[slice20],\n",
        "       simple_regret_exact_2[slice20],\n",
        "       simple_regret_exact_3[slice20],\n",
        "       simple_regret_exact_4[slice20],\n",
        "       simple_regret_exact_5[slice20],\n",
        "       simple_regret_exact_6[slice20],\n",
        "       simple_regret_exact_7[slice20],\n",
        "       simple_regret_exact_8[slice20],\n",
        "       simple_regret_exact_9[slice20],\n",
        "       simple_regret_exact_10[slice20],\n",
        "       simple_regret_exact_11[slice20],\n",
        "       simple_regret_exact_12[slice20],\n",
        "       simple_regret_exact_13[slice20],\n",
        "       simple_regret_exact_14[slice20],\n",
        "       simple_regret_exact_15[slice20],\n",
        "       simple_regret_exact_16[slice20],\n",
        "       simple_regret_exact_17[slice20],\n",
        "       simple_regret_exact_18[slice20],\n",
        "       simple_regret_exact_19[slice20],\n",
        "       simple_regret_exact_20[slice20]]\n",
        "\n",
        "approx20_results = pd.DataFrame(approx20).sort_values(by=[0], ascending=False)\n",
        "exact20_results = pd.DataFrame(exact20).sort_values(by=[0], ascending=False)\n",
        "\n",
        "### Best simple regret minimization IQR - approx:\n",
        "lower_approx20 = np.asarray(approx20_results[4:5][0])[0]\n",
        "median_approx20 = np.asarray(approx20_results[9:10][0])[0]\n",
        "upper_approx20 = np.asarray(approx20_results[14:15][0])[0]\n",
        "\n",
        "lower_exact20 = np.asarray(exact20_results[4:5][0])[0]\n",
        "median_exact20 = np.asarray(exact20_results[9:10][0])[0]\n",
        "upper_exact20 = np.asarray(exact20_results[14:15][0])[0]"
      ],
      "execution_count": 95,
      "outputs": []
    },
    {
      "cell_type": "code",
      "metadata": {
        "id": "gn36RejbQxf_"
      },
      "source": [
        "### Summarize arrays: 'Loser'\n",
        "\n",
        "lower_approx = [lower_approx1,\n",
        "            lower_approx2,\n",
        "            lower_approx3,\n",
        "            lower_approx4,\n",
        "            lower_approx5,\n",
        "            lower_approx6,\n",
        "            lower_approx7,\n",
        "            lower_approx8,\n",
        "            lower_approx9,\n",
        "            lower_approx10,\n",
        "            lower_approx11,\n",
        "            lower_approx12,\n",
        "            lower_approx13,\n",
        "            lower_approx14,\n",
        "            lower_approx15,\n",
        "            lower_approx16,\n",
        "            lower_approx17,\n",
        "            lower_approx18,\n",
        "            lower_approx19,\n",
        "            lower_approx20,\n",
        "            lower_approx21]\n",
        "\n",
        "median_approx = [median_approx1,\n",
        "            median_approx2,\n",
        "            median_approx3,\n",
        "            median_approx4,\n",
        "            median_approx5,\n",
        "            median_approx6,\n",
        "            median_approx7,\n",
        "            median_approx8,\n",
        "            median_approx9,\n",
        "            median_approx10,\n",
        "            median_approx11,\n",
        "            median_approx12,\n",
        "            median_approx13,\n",
        "            median_approx14,\n",
        "            median_approx15,\n",
        "            median_approx16,\n",
        "            median_approx17,\n",
        "            median_approx18,\n",
        "            median_approx19,\n",
        "            median_approx20,\n",
        "            median_approx21]\n",
        "\n",
        "upper_approx = [upper_approx1,\n",
        "            upper_approx2,\n",
        "            upper_approx3,\n",
        "            upper_approx4,\n",
        "            upper_approx5,\n",
        "            upper_approx6,\n",
        "            upper_approx7,\n",
        "            upper_approx8,\n",
        "            upper_approx9,\n",
        "            upper_approx10,\n",
        "            upper_approx11,\n",
        "            upper_approx12,\n",
        "            upper_approx13,\n",
        "            upper_approx14,\n",
        "            upper_approx15,\n",
        "            upper_approx16,\n",
        "            upper_approx17,\n",
        "            upper_approx18,\n",
        "            upper_approx19,\n",
        "            upper_approx20,\n",
        "            upper_approx21]"
      ],
      "execution_count": 96,
      "outputs": []
    },
    {
      "cell_type": "code",
      "metadata": {
        "id": "wxtGTOYfQxf_"
      },
      "source": [
        "### Summarize arrays: 'exact'\n",
        "\n",
        "lower_exact = [lower_exact1,\n",
        "            lower_exact2,\n",
        "            lower_exact3,\n",
        "            lower_exact4,\n",
        "            lower_exact5,\n",
        "            lower_exact6,\n",
        "            lower_exact7,\n",
        "            lower_exact8,\n",
        "            lower_exact9,\n",
        "            lower_exact10,\n",
        "            lower_exact11,\n",
        "            lower_exact12,\n",
        "            lower_exact13,\n",
        "            lower_exact14,\n",
        "            lower_exact15,\n",
        "            lower_exact16,\n",
        "            lower_exact17,\n",
        "            lower_exact18,\n",
        "            lower_exact19,\n",
        "            lower_exact20,\n",
        "            lower_exact21]\n",
        "\n",
        "median_exact = [median_exact1,\n",
        "            median_exact2,\n",
        "            median_exact3,\n",
        "            median_exact4,\n",
        "            median_exact5,\n",
        "            median_exact6,\n",
        "            median_exact7,\n",
        "            median_exact8,\n",
        "            median_exact9,\n",
        "            median_exact10,\n",
        "            median_exact11,\n",
        "            median_exact12,\n",
        "            median_exact13,\n",
        "            median_exact14,\n",
        "            median_exact15,\n",
        "            median_exact16,\n",
        "            median_exact17,\n",
        "            median_exact18,\n",
        "            median_exact19,\n",
        "            median_exact20,\n",
        "            median_exact21]\n",
        "\n",
        "upper_exact = [upper_exact1,\n",
        "            upper_exact2,\n",
        "            upper_exact3,\n",
        "            upper_exact4,\n",
        "            upper_exact5,\n",
        "            upper_exact6,\n",
        "            upper_exact7,\n",
        "            upper_exact8,\n",
        "            upper_exact9,\n",
        "            upper_exact10,\n",
        "            upper_exact11,\n",
        "            upper_exact12,\n",
        "            upper_exact13,\n",
        "            upper_exact14,\n",
        "            upper_exact15,\n",
        "            upper_exact16,\n",
        "            upper_exact17,\n",
        "            upper_exact18,\n",
        "            upper_exact19,\n",
        "            upper_exact20,\n",
        "            upper_exact21]"
      ],
      "execution_count": 97,
      "outputs": []
    },
    {
      "cell_type": "code",
      "metadata": {
        "id": "2MONq-BXQxgA",
        "colab": {
          "base_uri": "https://localhost:8080/",
          "height": 299
        },
        "outputId": "49fd3756-b1db-4ea8-ac1e-c63c5174ddd4"
      },
      "source": [
        "### Visualise!\n",
        "\n",
        "title = func\n",
        "plt.figure()\n",
        "\n",
        "plt.plot(median_approx, color = 'Yellow')\n",
        "plt.plot(median_exact, color = 'Red')\n",
        "\n",
        "xstar = np.arange(0, iters+1, step=1)\n",
        "plt.fill_between(xstar, lower_approx, upper_approx, facecolor = 'Yellow', alpha=0.4, label='GP EI Optimization: L-BFGS-B')\n",
        "plt.fill_between(xstar, lower_exact, upper_exact, facecolor = 'Red', alpha=0.4, label='GP EI Optimization: Best Random Sample')\n",
        "\n",
        "plt.title(title, weight = 'bold')\n",
        "plt.xlabel('(Post-initialization) iteration $\\it{k}$', weight = 'bold')\n",
        "plt.ylabel('log(Regret)', weight = 'bold') \n",
        "plt.legend(loc=1) # add plot legend\n",
        "\n",
        "### Make the x-ticks integers, not floats:\n",
        "count = len(xstar)\n",
        "plt.xticks(np.arange(count), np.arange(0, count))\n",
        "plt.show() #visualize!"
      ],
      "execution_count": 98,
      "outputs": [
        {
          "output_type": "display_data",
          "data": {
            "image/png": "[encoded data removed]",
            "text/plain": [
              "<Figure size 432x288 with 1 Axes>"
            ]
          },
          "metadata": {
            "needs_background": "light"
          }
        }
      ]
    },
    {
      "cell_type": "code",
      "metadata": {
        "id": "l5dkR2Id2oiu",
        "colab": {
          "base_uri": "https://localhost:8080/"
        },
        "outputId": "66775a2d-bf27-4dac-c2b5-7d9ed5dcd6b1"
      },
      "source": [
        "time_approx, time_exact\n"
      ],
      "execution_count": 99,
      "outputs": [
        {
          "output_type": "execute_result",
          "data": {
            "text/plain": [
              "(407.88042402267456, 95.87355875968933)"
            ]
          },
          "metadata": {},
          "execution_count": 99
        }
      ]
    },
    {
      "cell_type": "code",
      "metadata": {
        "id": "77BffxK2Fe61"
      },
      "source": [
        ""
      ],
      "execution_count": 99,
      "outputs": []
    }
  ]
}